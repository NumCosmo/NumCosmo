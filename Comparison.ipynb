{
 "cells": [
  {
   "cell_type": "markdown",
   "id": "5f55f6dc-5ee5-4caf-a998-ab2ec15fb023",
   "metadata": {},
   "source": [
    "# Notebook for calculations comparison\n",
    "\n",
    "This notebook has the goal to compute the numerical calculations for the density contrast during a dust-flat bounce.\n"
   ]
  },
  {
   "cell_type": "markdown",
   "id": "e54022f6-a6b2-4afa-b03c-306d5b000494",
   "metadata": {},
   "source": [
    "## Imports"
   ]
  },
  {
   "cell_type": "code",
   "execution_count": 1,
   "id": "676ccf5d-6bb6-438d-847e-3aaa2d0ed2d4",
   "metadata": {},
   "outputs": [],
   "source": [
    "import sys\n",
    "import math\n",
    "import matplotlib as mpl\n",
    "import matplotlib.pyplot as plt\n",
    "\n",
    "import numpy as np\n",
    "import scipy\n",
    "\n",
    "from numcosmo_py import Nc, Ncm\n",
    "\n",
    "%matplotlib inline"
   ]
  },
  {
   "cell_type": "markdown",
   "id": "222afed7-bdac-4ec4-87f3-ec709b60e9dd",
   "metadata": {},
   "source": [
    "## Numcosmo Initialization"
   ]
  },
  {
   "cell_type": "code",
   "execution_count": 2,
   "id": "63341110-1ee1-48b4-9e68-7f153da5d202",
   "metadata": {},
   "outputs": [],
   "source": [
    "__name__ = \"NcContext\"\n",
    "\n",
    "Ncm.cfg_init ()\n",
    "Ncm.cfg_set_log_handler (lambda msg: sys.stdout.write (msg) and sys.stdout.flush ())"
   ]
  },
  {
   "cell_type": "markdown",
   "id": "cbb78b09-b810-4eeb-9694-c34f1d88c3c6",
   "metadata": {},
   "source": [
    "## Primordial black holes formation in  dust-flat bounce\n",
    "In this notebook we develop the necessary objects to compute the power spectrum (and other observables) for magnetic field production in the contraction phase of a bouncing cosmology dominated by a dust-like fluid.\n",
    "    The scale factor for this model is given by,\n",
    "    \\begin{equation},\n",
    "    \\frac{a(t)}{a_0} = \\frac{1}{x_b}\\left[1 + \\left(\\frac{t}{t_b}\\right)^2\\right]^{1/3}, \\quad x \\equiv \\frac{a_0}{a}, \\quad x_b \\equiv \\frac{a_0}{a_b}\n",
    "    \\end{equation} ,\n",
    "    where $a_b$ gives the value of the scale factor at the bounce ($t = 0$), and $t_b$ the bounce time-scale. Solving the time $t$ in terms of the scale factor and substituting back to the Hubble function we can relate the free parameter $t_b$ with the dimensionless density $\\Omega_m$, i.e.\n",
    "    \\begin{equation}\n",
    "H^2 = \\left(\\frac{c \\dot a}{a}\\right)^2 = \\frac{4c^2}{9}\\frac{x^3}{t_b^2x_b^3} - \\frac{4c^2}{9}\\frac{x^6}{t_b^2x_b^6} = \\frac{1}{R_H^2}\\left(\\Omega_m x^3 + \\Omega_Q x^6\\right) \\quad\\Rightarrow\\quad t_b = \\frac{2}{3}\\frac{R_H}{\\sqrt{\\Omega_m x_b^3}}, \\quad \\Omega_Q = - \\frac{\\Omega_m}{x_b^3}.\n",
    "\\end{equation},\n",
    "    where $R_H \\equiv c/H_0$ is the Hubble radius today and $\\Omega_m$ is the dimensionless matter density today.\n",
    "    From here on we will express everything in unit of the Hubble radius, $t \\to t /R_H$ and $t_b \\to t_b / R_H$. "
   ]
  },
  {
   "cell_type": "markdown",
   "id": "a781b015-a5fc-4326-88a9-cdd28c23a418",
   "metadata": {},
   "source": [
    "## Definition of the Numerical Object to compute the equations of motion\n",
    "\n",
    "### Equations of motion to be solved\n",
    "This is a python object to solve the equation of motion for zeta, which is\n",
    "    \\begin{equation}\n",
    "    2 z^2 \\dot{\\zeta}_{ka} = \\Pi_{\\zeta, ka}\n",
    "    \\end{equation}\n",
    "    \\begin{equation}\n",
    "    \\dot{\\Pi}_{\\zeta, ka} = 2 \\frac{ka^2}{a^2} w z^2 \\zeta_{ka}\n",
    " .\\end{equation}\n",
    "In this system, I am using cosmic time. However, we are writting everything in units of $RH$. I am using the dimensionless fields and the dimensionless momentum as $ka = k * RH$. Also here a dot is the derivative of time and im using N=1 and the metric $-dt^2$, so time has the dimension of space."
   ]
  },
  {
   "cell_type": "code",
   "execution_count": 3,
   "id": "e0300fca-b44c-44ad-b07b-da841edb146f",
   "metadata": {},
   "outputs": [],
   "source": [
    "class PyCSQ1DVecPert (Ncm.CSQ1D):\n",
    "    def __init__ (self, Omega_m = 0.3, Omega_r = 8.0e-5, xb = 1.0e25, b = 1.0e-6, h = 0.7):\n",
    "        Ncm.CSQ1D.__init__ (self)\n",
    "\n",
    "        self.Omega_m = Omega_m\n",
    "        self.Omega_r = Omega_r\n",
    "        self.xb      = xb\n",
    "        self.b       = b\n",
    "        self.RH      = (Ncm.C.c () / (1.0e5 * h)) # Hubble radius in units of Mpc\n",
    "        self.RH_m      = (Ncm.C.c () * 3.086e22 / (1.0e5 * h)) # Hubble radius in units of m\n",
    "        self.gamma   = 0.25 * xb * Omega_m\n",
    "        self.tb    = 2.0 / (3.0* math.sqrt (Omega_m * xb**3))\n",
    "        self.lp_RH   = 1.0 / (Ncm.C.hubble_radius_hm1_planck () / h)\n",
    "        self.hbar = self.lp_RH**2 * Ncm.C.c()**3 / Ncm.C.G()\n",
    "\n",
    "    \n",
    "    def y_t (self, t):\n",
    "        t2  = t * t\n",
    "        tb2 = self.tb**2\n",
    "        s    = math.pow((1.0 + t2 / tb2),  1.0/(3.0 * (1.0 + self.b)))\n",
    "\n",
    "        return s / self.xb\n",
    "\n",
    "    def t_y (self, y):\n",
    "        xb   = self.xb\n",
    "        yxb3 = math.pow(y * xb, 3)\n",
    "        s1   = yxb3 - 1\n",
    "\n",
    "        return math.sqrt (s1) * self.etab\n",
    "\n",
    "    def H_t (self, t):\n",
    "        t2  = t * t\n",
    "        tb2 = self.tb**2\n",
    "        s    = math.pow((1.0 + t2 / tb2),  1.0/(3.0 * (1.0 + self.b)))\n",
    "        xb   = self.xb\n",
    "        y_t  = s / xb\n",
    "\n",
    "        x = 1.0/ y_t\n",
    "        x3 = x**3\n",
    "        x6 = x**6\n",
    "        m1    = (4.0/9.0) * (xb**(-3) / tb2)\n",
    "        s1 = m1*( x3 - x6/ (xb**3))\n",
    "        return math.sqrt(s1)\n",
    "\n",
    "    def H_dt(self, t):\n",
    "        t2  = t * t\n",
    "        tb2 = self.tb**2\n",
    "        s    = math.pow((1.0 + t2 / tb2),  1.0/(3.0 * (1.0 + self.b)))\n",
    "        xb   = self.xb\n",
    "        y_t  = s / xb\n",
    "        x = 1.0/y_t\n",
    "        x3 = x**3\n",
    "        x6 = x**6\n",
    "        tb2 = self.tb**2\n",
    "        m1    = (2.0/9.0) * (xb**(-3) / tb2)\n",
    "        return m1 * ( - 3.0 * x3 + 6 * x6/ (xb**3))\n",
    "\n",
    "    def H_d2t(self, t):\n",
    "        t2  = t * t\n",
    "        tb2 = self.tb**2\n",
    "        s    = math.pow((1.0 + t2 / tb2),  1.0/(3.0 * (1.0 + self.b)))\n",
    "        xb   = self.xb\n",
    "        y_t  = s / xb\n",
    "        x = 1.0/y_t\n",
    "\n",
    "        x3 = x**3\n",
    "        x6 = x**6\n",
    "        mh    = (4.0/9.0) * (xb**(-3) / tb2)\n",
    "        sh = mh*( x3 - x6/ (xb**3))\n",
    "        H = math.sqrt(sh)\n",
    "        m1    = 2.0 * H * (xb**(-3) / tb2)\n",
    "\n",
    "        return m1 * ( x3 - 4.0 * x6/ (xb**3))\n",
    "\n",
    "    def H_d3t(self, t):\n",
    "        t2  = t * t\n",
    "        tb2 = self.tb**2\n",
    "        s    = math.pow((1.0 + t2 / tb2),  1.0/(3.0 * (1.0 + self.b)))\n",
    "        xb   = self.xb\n",
    "        y_t  = s / xb\n",
    "        x = 1.0/y_t\n",
    "\n",
    "        x3 = x**3\n",
    "        x6 = x**6\n",
    "        mh    = (4.0/9.0) * (xb**(-3) / tb2)\n",
    "        sh = mh*( x3 - x6/ (xb**3))\n",
    "        mh2t    = 2.0 * H * (xb**(-3) / tb2)\n",
    "        mht    = (2.0/9.0) * (xb**(-3) / tb2)\n",
    "\n",
    "        H = math.sqrt(sh)\n",
    "        H_dt =  mht * ( - 3.0 * x3 + 6 * x6/ (xb**3))\n",
    "        H_d2t =  mh2t * ( x3 - 4.0 * x6/ (xb**3))\n",
    "\n",
    "\n",
    "\n",
    "        m1    = 2.0 * H**2 * (xb**(-3) / tb2)\n",
    "\n",
    "        return (H_dt * H_d2t / H) + m1 * ( -3.0*x3 + 24.0 * x6/ (xb**3))\n",
    "\n",
    "\n",
    "    def z_y(self, t):\n",
    "        t2  = t * t\n",
    "        tb2 = self.tb**2\n",
    "        s    = math.pow((1.0 + t2 / tb2),  1.0/(3.0 * (1.0 + self.b)))\n",
    "        xb   = self.xb\n",
    "        y_t  = s / xb\n",
    "        y_t3 = y_t**3\n",
    "\n",
    "        return math.sqrt((3.0 /2.0) * y_t3 * ((1.0 + self.b) / self.b))\n",
    "    \n",
    "    def z_dt(self, t):\n",
    "        t2  = t * t\n",
    "        tb2 = self.tb**2\n",
    "        s    = math.pow((1.0 + t2 / tb2),  1.0/(3.0 * (1.0 + self.b)))\n",
    "        xb   = self.xb\n",
    "        y_t  = s / xb\n",
    "        y_t3 = y_t**3\n",
    "        x = 1.0/y_t\n",
    "        x3 = x**3\n",
    "        x6 = x**6\n",
    "        tb2 = self.tb**2\n",
    "        m1    = (2.0/9.0) * (xb**(-3) / tb2)\n",
    "        H = m1 * ( - 3.0 * x3 + 6 * x6/ (xb**3))\n",
    "\n",
    "        z_y = math.sqrt((3.0 /2.0) * y_t3 * ((1.0 + self.b) / self.b))\n",
    "        \n",
    "        return (3.0/2.0) * z_y * H  \n",
    "\n",
    "    def z_d2t(self,t):\n",
    "        t2  = t * t\n",
    "        tb2 = self.tb**2\n",
    "        s    = math.pow((1.0 + t2 / tb2),  1.0/(3.0 * (1.0 + self.b)))\n",
    "        xb   = self.xb\n",
    "        y_t  = s / xb\n",
    "        y_t3 = y_t**3\n",
    "        z_y= math.sqrt((3.0 /2.0) * y_t3 * ((1.0 + self.b) / self.b))\n",
    "        m1 = (3.0 / 2.0 )\n",
    "\n",
    "        x = 1.0/y_t\n",
    "        x3 = x**3\n",
    "        x6 = x**6\n",
    "        mht = (2.0/9.0) * (xb**(-3) / tb2)\n",
    "        mh = (4.0/9.0) * (xb**(-3) / tb2)\n",
    "        sh = mh*( x3 - x6/ (xb**3))\n",
    "\n",
    "        H2 = sh\n",
    "        H_dt =  mht * ( - 3.0 * x3 + 6 * x6/ (xb**3))\n",
    "\n",
    "\n",
    "        return m1 * z_y * (3.0 * H2 / 2.0 + H_dt) \n",
    "\n",
    "    def z_d3t(self,t):\n",
    "        t2  = t * t\n",
    "        tb2 = self.tb**2\n",
    "        s    = math.pow((1.0 + t2 / tb2),  1.0/(3.0 * (1.0 + self.b)))\n",
    "        xb   = self.xb\n",
    "        y_t  = s / xb\n",
    "        y_t3 = y_t**3\n",
    "        z_y= math.sqrt((3.0 /2.0) * y_t3 * ((1.0 + self.b) / self.b))\n",
    "        m1 = (3.0 / 2.0 )\n",
    "\n",
    "        x = 1.0/y_t\n",
    "        x3 = x**3\n",
    "        x6 = x**6\n",
    "        mh    = (4.0/9.0) * (xb**(-3) / tb2)\n",
    "        sh = mh*( x3 - x6/ (xb**3))\n",
    "        mht    = (2.0/9.0) * (xb**(-3) / tb2)\n",
    "\n",
    "        H = math.sqrt(sh)\n",
    "        mh2t    = 2.0 * H * (xb**(-3) / tb2)\n",
    "        H3 = H**3\n",
    "        H_dt =  mht * ( - 3.0 * x3 + 6 * x6/ (xb**3))\n",
    "        H_d2t =  mh2t * ( x3 - 4.0 * x6/ (xb**3))\n",
    "\n",
    "\n",
    "        return m1 * z_y * (9.0 * H3 / 4.0 + (9.0 / 2.0) * H_dt * H + H_d2t) \n",
    "\n",
    "    def z_d4t(self,t):\n",
    "        t2  = t * t\n",
    "        tb2 = self.tb**2\n",
    "        s    = math.pow((1.0 + t2 / tb2),  1.0/(3.0 * (1.0 + self.b)))\n",
    "        xb   = self.xb\n",
    "        y_t  = s / xb\n",
    "        y_t3 = y_t**3\n",
    "        z_y= math.sqrt((3.0 /2.0) * y_t3 * ((1.0 + self.b) / self.b))\n",
    "        m1 = (3.0 / 2.0 )\n",
    "\n",
    "        x = 1.0/y_t\n",
    "        x3 = x**3\n",
    "        x6 = x**6\n",
    "        tb2 = self.tb**2\n",
    "        mh    = (4.0/9.0) * (xb**(-3) / tb2)\n",
    "        sh = mh*( x3 - x6/ (xb**3))\n",
    "        mht    = (2.0/9.0) * (xb**(-3) / tb2)\n",
    "\n",
    "        H = math.sqrt(sh)\n",
    "        mh2t    = 2.0 * H * (xb**(-3) / tb2)\n",
    "        mh3t    = 2.0 * H**2 * (xb**(-3) / tb2)\n",
    "        H2 = H**2\n",
    "        H4 = H**4\n",
    "        H_dt =  mht * ( - 3.0 * x3 + 6 * x6/ (xb**3))\n",
    "        H_d2t =  mh2t * ( x3 - 4.0 * x6/ (xb**3))\n",
    "        H_d3t (H_dt * H_d2t / H) + mh3t * ( -3.0*x3 + 24.0 * x6/ (xb**3))\n",
    "\n",
    "        return m1 * z_y * (27.0 * H4 / 4.0 + (27.0 / 2.0) * H_dt * H2 + (9.0/2.0) * H_dt**2 + 6.0 * H_d2t * H + H_d3t) \n",
    "\n",
    "    def do_eval_xi (self, model, t, k):\n",
    "        k2 = k**2\n",
    "        t2  = t * t\n",
    "        tb2 = self.tb**2\n",
    "        s    = math.pow((1.0 + t2 / tb2),  1.0/(3.0 * (1.0 + self.b)))\n",
    "        xb   = self.xb\n",
    "        y_t  = s / xb\n",
    "        y_t2  = y_t**2\n",
    "        y_t3 = y_t**3\n",
    "        z_y= math.sqrt((3.0 /2.0) * y_t3 * ((1.0 + self.b) / self.b))\n",
    "\n",
    "        nu = math.sqrt(k2 * self.b / y_t2)\n",
    "        m = 2.0 * z_y**2\n",
    "        \n",
    "        \n",
    "        return np.log(m * nu)\n",
    "\n",
    "    def do_eval_nu (self, model, t, k):\n",
    "        k2 = k**2\n",
    "        t2  = t * t\n",
    "        tb2 = self.tb**2\n",
    "        s    = math.pow((1.0 + t2 / tb2),  1.0/(3.0 * (1.0 + self.b)))\n",
    "        xb   = self.xb\n",
    "        y_t  = s / xb\n",
    "        y_t2  = y_t**2\n",
    "        y_t3 = y_t**3\n",
    "        z_y= math.sqrt((3.0 /2.0) * y_t3 * ((1.0 + self.b) / self.b))\n",
    "        \n",
    "        return math.sqrt(k2 * self.b / y_t2)\n",
    "        \n",
    "\n",
    "\n",
    "    def do_eval_F1 (self, model, t, k):\n",
    "        k2 = k**2\n",
    "        t2  = t * t\n",
    "        tb2 = self.tb**2\n",
    "        s    = math.pow((1.0 + t2 / tb2),  1.0/(3.0 * (1.0 + self.b)))\n",
    "        xb   = self.xb\n",
    "        y_t  = s / xb\n",
    "        y_t2  = y_t**2\n",
    "        y_t3 = y_t**3\n",
    "        z_y= math.sqrt((3.0 /2.0) * y_t3 * ((1.0 + self.b) / self.b))\n",
    "\n",
    "        x = 1.0/y_t\n",
    "        x3 = x**3\n",
    "        x6 = x**6\n",
    "        mht = (2.0/9.0) * (xb**(-3) / tb2)\n",
    "        mh = (4.0/9.0) * (xb**(-3) / tb2)\n",
    "        sh = mh*( x3 - x6/ (xb**3))\n",
    "\n",
    "        \n",
    "        nu = math.sqrt(k2 * self.b / y_t2)\n",
    "        \n",
    "        H = math.sqrt(sh)\n",
    "\n",
    "        return H / nu\n",
    "\n",
    "    def do_eval_F2 (self, model, t, k):\n",
    "        k2 = k**2\n",
    "        t2  = t * t\n",
    "        tb2 = self.tb**2\n",
    "        s    = math.pow((1.0 + t2 / tb2),  1.0/(3.0 * (1.0 + self.b)))\n",
    "        xb   = self.xb\n",
    "        y_t  = s / xb\n",
    "        y_t2  = y_t**2\n",
    "        y_t3 = y_t**3\n",
    "        z_y= math.sqrt((3.0 /2.0) * y_t3 * ((1.0 + self.b) / self.b))\n",
    "\n",
    "        x = 1.0/y_t\n",
    "        x3 = x**3\n",
    "        x6 = x**6\n",
    "        mht = (2.0/9.0) * (xb**(-3) / tb2)\n",
    "        mh = (4.0/9.0) * (xb**(-3) / tb2)\n",
    "        sh = mh*( x3 - x6/ (xb**3))\n",
    "\n",
    "        H = math.sqrt(sh)\n",
    "        nu = math.sqrt(k2 * self.b / y_t2)\n",
    "        F1 = H / nu\n",
    "        H_dt =  mht * ( - 3.0 * x3 + 6 * x6/ (xb**3))\n",
    "        \n",
    "        \n",
    "        return 0.5 * F1 * F1 + 0.5 * H_dt / (nu**2)\n",
    "\n",
    "    def do_prepare (self, model):\n",
    "        pass \n",
    "\n"
   ]
  },
  {
   "cell_type": "markdown",
   "id": "bc2ed939-9fc1-4106-a575-ec7491abbf54",
   "metadata": {},
   "source": [
    "## Initialize the numerical object\n",
    "\n",
    "Here, $b$ is the equations of state for dark matter and $xb = \\frac{a_0}{a_b}$ where the index $b$ indicates the variable computed at the bounce."
   ]
  },
  {
   "cell_type": "code",
   "execution_count": 4,
   "id": "adce73a7-e9d7-480d-abfb-6357bbbae8df",
   "metadata": {},
   "outputs": [],
   "source": [
    "csq1d = PyCSQ1DVecPert (b = 1.0e-6, xb = 5.0e25)\n",
    "momenta_rh = np.geomspace(1.0e4, 1.0e9, 4)"
   ]
  },
  {
   "cell_type": "markdown",
   "id": "0f8611b5-0588-437e-9f54-21b2d772931a",
   "metadata": {},
   "source": [
    "### Conversions\n",
    "Multiply by these values to convert from a to b (conv_a_b).\n",
    "\n",
    "Since the analitical computations are in natural units, we need to convert our results to compare both approaches."
   ]
  },
  {
   "cell_type": "code",
   "execution_count": 40,
   "id": "49626025-ad65-4174-a36e-6cd1917ce962",
   "metadata": {},
   "outputs": [],
   "source": [
    "conv_tn_t =  6.58e-25 #tn to cosmic time\n",
    "conv_trh_t = csq1d.RH_m / Ncm.C.c() #t_rh to cosmic time\n",
    "conv_taun_tau = (0.197e-15) # conformal time in natural units to meters\n",
    "conv_taun_taurh = (0.197e-15) / csq1d.RH_m # conformal time in natural units to units in RH\n",
    "conv_deltak_mpc_to_m = (3.08e22)**(3/2) # deltak in MPC to meters\n",
    "conv_deltan_delta =(0.197e-15)**(3/2)  #deltak in natural units to meters\n",
    "conv_Hrh_Hn = 0.197e-15/ csq1d.RH_m\n",
    "#conv_Hrh_Hn = (6.58e-25) * csq1d.RH_m/ Ncm.C.c()  \n",
    "conv_Hrh_HMpc = 0.197e-15/ csq1d.RH\n",
    "conv_knat_krh = csq1d.RH_m / (0.197e-15)\n",
    "conv_tbnat_tbrh =  0.197e-15/ csq1d.RH_m"
   ]
  },
  {
   "cell_type": "markdown",
   "id": "baa39983-dda9-424d-b0f1-925dc92a4d34",
   "metadata": {},
   "source": [
    "## Comparison of $T_b$, $a_b$"
   ]
  },
  {
   "cell_type": "code",
   "execution_count": 41,
   "id": "bc48a71c-97f3-4951-802c-76a4ad19922c",
   "metadata": {},
   "outputs": [
    {
     "name": "stdout",
     "output_type": "stream",
     "text": [
      "1.4905537500915476e-42\n",
      "The numerical value of xb is  5.000000000000000e+25, the analitical value of xb is =1e+17\n",
      " \n",
      " Numerical Tb =  3.442651863295482e-39 RH, which in natural units is  7.704150580224699e-06\n"
     ]
    }
   ],
   "source": [
    "print(conv_tbnat_tbrh)\n",
    "tb_nat = csq1d.tb / (Ncm.C.c() * conv_tbnat_tbrh)\n",
    "print(f'The numerical value of xb is {csq1d.xb:22.15e}, the analitical value of xb is ={1.0e17}\\n \\n Numerical Tb = {csq1d.tb:22.15e} RH, which in natural units is {tb_nat:22.15e}')"
   ]
  },
  {
   "cell_type": "markdown",
   "id": "8c95e548-d2b6-4ad8-9991-4099233524d6",
   "metadata": {},
   "source": [
    "## Time Conversion\n",
    "We will compute everything for a given time. Thus we must make the conversion from both units. It is important to notice that while the numerical computations depend on a time t, the analitical computations uses the conformal time tau"
   ]
  },
  {
   "cell_type": "markdown",
   "id": "62303451-ad0c-4ac5-8842-5c57eb8ec918",
   "metadata": {},
   "source": [
    "### Values found by Eduardo"
   ]
  },
  {
   "cell_type": "code",
   "execution_count": 7,
   "id": "4a88b253-2a8e-4ca8-9b6e-23234c4edfe2",
   "metadata": {},
   "outputs": [
    {
     "name": "stdout",
     "output_type": "stream",
     "text": [
      "The conformal time we want to find is taun = (10^19 * Tb) in natural units, which in RH units is tau = 3.4426518632954816e-20 R_H\n",
      "The time is t=-1.52e-21 R_H in my units, which led to the value of tau = -3.932288934038186e-07 R_H\n"
     ]
    }
   ],
   "source": [
    "print(f'The conformal time we want to find is taun = (10^19 * Tb) in natural units, which in RH units is tau = {10**19 * tb_nat * conv_taun_taurh} R_H')\n",
    "\n",
    "times = [-1.0e-23, -1.0e-26, -1.0e-28,-1.0e-30, -1.49e-56, -1.52e-21 ]\n",
    "def intp(t):\n",
    "    return  1.0 / csq1d.y_t(t)\n",
    "for t in times:\n",
    "    integral = scipy.integrate.quad(intp, 0, t)[0]\n",
    "t_converted_num = times[-1]\n",
    "print(f'The time is t={times[-1]} R_H in my units, which led to the value of tau = {integral:22.15e} R_H')"
   ]
  },
  {
   "cell_type": "markdown",
   "id": "2189a015-b8ae-4f9d-ab88-51ca0b8f533c",
   "metadata": {},
   "source": [
    "### Values found in overleaf"
   ]
  },
  {
   "cell_type": "code",
   "execution_count": 8,
   "id": "bab90d05-9f1b-4431-8b8a-c88d70489c34",
   "metadata": {},
   "outputs": [
    {
     "name": "stdout",
     "output_type": "stream",
     "text": [
      "The time from overleaf is -1.2770461543430062e-34 R_H\n"
     ]
    }
   ],
   "source": [
    "t_cosmic = -37045.3 * tb_nat * conv_tn_t\n",
    "trh_converted_overleaf = t_cosmic / conv_trh_t \n",
    "print(f'The time from overleaf is {trh_converted_overleaf} R_H')"
   ]
  },
  {
   "cell_type": "markdown",
   "id": "cc77db85-b96e-4043-975b-b4de1a7a05dd",
   "metadata": {},
   "source": [
    "## Scales Conversion"
   ]
  },
  {
   "cell_type": "markdown",
   "id": "5ffb5281-a0c9-4922-ab9d-f73fdf428adf",
   "metadata": {},
   "source": [
    "We want to compute everything between the jeans and the Hubble scale. Let us check their values."
   ]
  },
  {
   "cell_type": "markdown",
   "id": "ad42daf6-826c-4b59-9e37-df45e0d3ea55",
   "metadata": {},
   "source": [
    "### Natural Units\n"
   ]
  },
  {
   "cell_type": "code",
   "execution_count": 9,
   "id": "fa59d02d-eeb4-481c-8563-9d075ccc49e6",
   "metadata": {},
   "outputs": [
    {
     "name": "stdout",
     "output_type": "stream",
     "text": [
      "In natural units, the kj_nat = 1.0676012918491651e-32 and kh_nat =  8.716928045888668e-36\n"
     ]
    }
   ],
   "source": [
    "tl = -1.0e-21\n",
    "H_natural = csq1d.H_t(tl)  * conv_Hrh_Hn\n",
    "H_rh = csq1d.H_t(tl) * csq1d.RH\n",
    "kj_natural = csq1d.y_t(tl) * H_natural * math.sqrt(3.0/2.0) /  math.sqrt(csq1d.b)\n",
    "kh_natural = csq1d.y_t(tl) *  H_natural\n",
    "r_nat = math.pi /kj_natural\n",
    "\n",
    "kj_rh = kj_natural * conv_knat_krh\n",
    "kh_rh = kh_natural * conv_knat_krh\n",
    "r_nat = math.pi / kj_natural\n",
    "\n",
    "print(f'In natural units, the kj_nat = {kj_natural} and kh_nat =  {kh_natural}')"
   ]
  },
  {
   "cell_type": "markdown",
   "id": "5ac7fd52-c761-4d44-94a7-5cdcc79b3f23",
   "metadata": {},
   "source": [
    "### RH units"
   ]
  },
  {
   "cell_type": "code",
   "execution_count": 10,
   "id": "9e3fece6-4b32-4662-8000-d86fd10041fa",
   "metadata": {},
   "outputs": [
    {
     "name": "stdout",
     "output_type": "stream",
     "text": [
      "In RH  units, the kj_rh =  7.162447458091294e+09 RH^-1 and kh_rh =   5.848113860606025e+06 RH^-1\n"
     ]
    }
   ],
   "source": [
    "kj_rh = kj_natural * conv_knat_krh\n",
    "kh_rh = kh_natural * conv_knat_krh\n",
    "print(f'In RH  units, the kj_rh = {kj_rh:22.15e} RH^-1 and kh_rh =  {kh_rh:22.15e} RH^{-1}')"
   ]
  },
  {
   "cell_type": "markdown",
   "id": "a71628c0-6686-4a04-ac84-67ac99de3f5a",
   "metadata": {},
   "source": [
    "## Scale Factor Plot"
   ]
  },
  {
   "cell_type": "markdown",
   "id": "0d8024df-7c12-495d-9d47-3b468e08a132",
   "metadata": {},
   "source": [
    "We want to compare the scale factor found with the numerical and the analitical computaions."
   ]
  },
  {
   "cell_type": "markdown",
   "id": "977ae51f-65e1-464c-8088-024d59596340",
   "metadata": {},
   "source": [
    "### Analitical Scale factor"
   ]
  },
  {
   "cell_type": "code",
   "execution_count": 11,
   "id": "ed74d37a-77c7-4d8f-9f50-b6ee2ada3036",
   "metadata": {},
   "outputs": [],
   "source": [
    "def do_a_ab(t): ## Eq 146 from overleaf. The time should be in cosmic time  in natural units\n",
    "    return (t /tb_nat)**(2/(3*(1 - csq1d.b)))\n",
    "\n"
   ]
  },
  {
   "cell_type": "code",
   "execution_count": 12,
   "id": "37391956-599e-4c1d-a953-4676372fdc53",
   "metadata": {},
   "outputs": [
    {
     "name": "stdout",
     "output_type": "stream",
     "text": [
      "Analitical values for a/ab: [9.441405633326588e+18, 4.6697877448669466e+17, 2034057957695.7036]\n",
      "Numerical values for a/ab:[9.44899501554392e+18, 4.673569611164741e+17, 2035755514473.5156]\n"
     ]
    },
    {
     "data": {
      "image/png": "[encoded data removed]",
      "text/plain": [
       "<Figure size 640x480 with 1 Axes>"
      ]
     },
     "metadata": {},
     "output_type": "display_data"
    },
    {
     "data": {
      "image/png": "[encoded data removed]",
      "text/plain": [
       "<Figure size 640x480 with 1 Axes>"
      ]
     },
     "metadata": {},
     "output_type": "display_data"
    }
   ],
   "source": [
    "times = [-1.0e-10, -1.1e-12,-1.0e-20]\n",
    "t_natural = []\n",
    "\n",
    "\n",
    "a_ab_analitical_l = []\n",
    "a_ab_num_l = []\n",
    "for t_rh in times:\n",
    "    def intp(t):\n",
    "        return  1.0 / csq1d.y_t(t)\n",
    "    t_cosmic = -t_rh * conv_trh_t \n",
    "    t_cosmic_nat = (t_cosmic ) / conv_tn_t\n",
    "    tau_nat = scipy.integrate.quad(intp, 0, t_rh)[0] / conv_taun_taurh\n",
    "    #print(f'natural time is {t_nat:22.15e}')\n",
    "    a_ab_analitical_l.append(do_a_ab(t_cosmic_nat))\n",
    "    a_ab_num_l.append(csq1d.y_t(t_rh) * csq1d.xb)\n",
    "#plt.plot(times, a_over_l)\n",
    "#plt.show()\n",
    "print(f'Analitical values for a/ab: {a_ab_analitical_l}\\nNumerical values for a/ab:{a_ab_num_l}')\n",
    "plt.plot(times, a_ab_num_l, label='a/ab num')\n",
    "plt.plot(times, a_ab_analitical_l, label='a/ab analitical')\n",
    "plt.yscale('log')\n",
    "plt.legend()\n",
    "plt.show()\n",
    "plt.plot(times, np.abs(np.array(a_ab_num_l)/ np.array(a_ab_analitical_l) - 1), label='rel dif')\n",
    "plt.yscale('log')\n",
    "plt.legend()\n",
    "plt.show()"
   ]
  },
  {
   "cell_type": "code",
   "execution_count": 13,
   "id": "d0ced035",
   "metadata": {},
   "outputs": [
    {
     "data": {
      "image/png": "[encoded data removed]",
      "text/plain": [
       "<Figure size 640x480 with 1 Axes>"
      ]
     },
     "metadata": {},
     "output_type": "display_data"
    },
    {
     "name": "stdout",
     "output_type": "stream",
     "text": [
      "0.666725712273288\n"
     ]
    }
   ],
   "source": [
    "times =np.geomspace(-1.0e10, -1.0e-50, 50) \n",
    "t_natural = []\n",
    "\n",
    "h_num_l = []\n",
    "a_ab_analitical_l = []\n",
    "a_ab_num_l = []\n",
    "for t_rh in times:\n",
    "    def intp(t):\n",
    "        return  1.0 / csq1d.y_t(t)\n",
    "    t_cosmic = -t_rh * conv_trh_t \n",
    "    t_cosmic_nat = (t_cosmic ) / conv_tn_t\n",
    "    tau_nat = scipy.integrate.quad(intp, 0, t_rh)[0] / conv_taun_taurh\n",
    "    #print(f'natural time is {t_nat:22.15e}')\n",
    "    a_ab_num_l.append(csq1d.y_t(t_rh))\n",
    "    h_num_l.append(csq1d.H_t(t_rh))\n",
    "#plt.plot(times, a_over_l)\n",
    "#plt.show()\n",
    "\n",
    "plt.plot(times, a_ab_num_l, label='a/a0 num')\n",
    "plt.plot(times, h_num_l, label='h num')\n",
    "\n",
    "plt.yscale('log')\n",
    "plt.xscale('symlog', linthresh=1.0e-50)\n",
    "plt.legend()\n",
    "plt.show()\n",
    "print(csq1d.H_t(-1.0))"
   ]
  },
  {
   "cell_type": "code",
   "execution_count": 14,
   "id": "e9685e59-4e30-43fc-a4a9-28477f53341f",
   "metadata": {},
   "outputs": [],
   "source": [
    "def do_H_nat(tau):\n",
    "    return  2 / (-tau) "
   ]
  },
  {
   "cell_type": "code",
   "execution_count": 15,
   "id": "f6cfc9d9-16d7-4149-958e-3dad4c49fab2",
   "metadata": {},
   "outputs": [
    {
     "name": "stdout",
     "output_type": "stream",
     "text": [
      "1.877901749794276e-39 1.878021072953512e-39\n",
      "8.443903809254512e-39 8.44440225754747e-39\n",
      "4.0458787802240094e-36 4.046042693568523e-36\n"
     ]
    }
   ],
   "source": [
    "times = [-1.0e-10, -1.1e-12,-1.0e-20]\n",
    "t_natural = []\n",
    "\n",
    "\n",
    "H_analitical_l = []\n",
    "H_num_l = []\n",
    "for t_rh in times:\n",
    "    def intp(t):\n",
    "        return  1.0 / csq1d.y_t(t)\n",
    "    t_cosmic = -t_rh * conv_trh_t \n",
    "    t_cosmic_nat = (t_cosmic ) / conv_tn_t\n",
    "    tau_nat = scipy.integrate.quad(intp, 0, t_rh)[0] / conv_taun_taurh\n",
    "    print(do_H_nat(tau_nat), conv_Hrh_Hn * csq1d.H_t(t_rh) * csq1d.y_t(t_rh))\n",
    "    "
   ]
  },
  {
   "cell_type": "markdown",
   "id": "17b2b93c-3417-4785-a69f-3584d7f8ba4d",
   "metadata": {},
   "source": [
    "### Compare zeta_k^2"
   ]
  },
  {
   "cell_type": "markdown",
   "id": "7856184e-56ef-426c-94ac-09be6133feb5",
   "metadata": {},
   "source": [
    "I want to check if the definitions of our fields are the same. First let us check the definitions of the modes $|\\zeta_k^2|$."
   ]
  },
  {
   "cell_type": "code",
   "execution_count": 16,
   "id": "9a9d6d55-47e1-4b0e-b427-ff6ba46b8e2d",
   "metadata": {},
   "outputs": [],
   "source": [
    "###EQ under 155. There is a sqrt(2) factor that differs from the mass that I am using. So i will add this factor\n",
    "##Everythins is in units of MPC\n",
    "def do_analitical_zeta(t_rh, k_rh):\n",
    "    cs = math.sqrt(csq1d.b)\n",
    "    lp = csq1d.lp_RH * csq1d.RH\n",
    "    k = k_rh / csq1d.RH\n",
    "    const = math.sqrt(8 * math.pi * csq1d.b / (3 * (1 + csq1d.b)))\n",
    "    mult = 1 / ((csq1d.y_t(t_rh)))\n",
    "    tk = 1 / (math.sqrt(2 * cs * k))\n",
    "    \n",
    "    return  lp  * const * mult * tk\n"
   ]
  },
  {
   "cell_type": "code",
   "execution_count": 17,
   "id": "d51220ab-8114-48d5-80bf-910923ab115b",
   "metadata": {
    "scrolled": true
   },
   "outputs": [
    {
     "name": "stdout",
     "output_type": "stream",
     "text": [
      "For k_rh = 10000.0 RH^-1, the values in units of $[|\\zeta_k^2|]$ = Mpc^1.5 is\n",
      "\n",
      "zeta_k2_analitical:[1.399754752400203e-119, 1.5043892731026254e-119, 1.6235232364716858e-119, 1.7602078471398836e-119, 1.9183851531790523e-119, 2.1032312398324734e-119, 2.3216686231660447e-119, 2.5831525665031247e-119, 2.9009164680773034e-119, 3.2940180727201997e-119, 3.7908499238169075e-119, 4.435481230787042e-119, 5.299859655543666e-119, 6.509207846801702e-119, 8.300515995414328e-119, 1.1176901042396552e-118, 1.6402550264518783e-118, 2.8165002875684917e-118, 7.097635023581209e-118, 1.3997283802278143e-112] \n",
      "\n",
      "zeta_k2_num: [1.3999318675278568e-119, 1.5053622465481327e-119, 1.623780918650257e-119, 1.7613601205350988e-119, 1.9189255456518676e-119, 2.1042653245909417e-119, 2.3231696005301127e-119, 2.5838335263806734e-119, 2.902696417730111e-119, 3.296720010374505e-119, 3.79311605761479e-119, 4.437503820350651e-119, 5.302437071092492e-119, 6.512908657935903e-119, 8.307031474515188e-119, 1.1191609118766937e-118, 1.6419749401683127e-118, 2.820669115669736e-118, 7.117653150678585e-118, 4.081050343018458e-43]\n",
      "\n",
      "For k_rh = 464158.8833612782 RH^-1, the values in units of $[|\\zeta_k^2|]$ = Mpc^1.5 is\n",
      "\n",
      "zeta_k2_analitical:[1.39979868075306e-114, 1.5044364851911481e-114, 1.6235741873308257e-114, 1.7602630875603815e-114, 1.9184453576647476e-114, 2.103297245328057e-114, 2.32174148386527e-114, 2.583233633333965e-114, 2.9010075072711586e-114, 3.294121448597393e-114, 3.7909688917408554e-114, 4.435620429145604e-114, 5.30002598066011e-114, 6.509412124867775e-114, 8.300776490103333e-114, 1.117725180676038e-113, 1.6403065025827355e-113, 2.816588677997023e-113, 7.097857770581761e-113, 1.3997670791773895e-107] \n",
      "\n",
      "zeta_k2_num: [1.3999758042209398e-114, 1.5054095089607535e-114, 1.6238318720804217e-114, 1.7614154078031164e-114, 1.9189858158888208e-114, 2.104331461679347e-114, 2.3232423746992558e-114, 2.583914674045925e-114, 2.9027876212963855e-114, 3.296823121798271e-114, 3.793234862101951e-114, 4.437642639923501e-114, 5.3026035863814115e-114, 6.51311265114571e-114, 8.307288241155303e-114, 1.1191959469149981e-113, 1.6420264428354333e-113, 2.820758342013794e-113, 7.117882502017324e-113, 4.0896128013111644e-48]\n",
      "\n"
     ]
    },
    {
     "name": "stderr",
     "output_type": "stream",
     "text": [
      "<>:41: SyntaxWarning: invalid escape sequence '\\z'\n",
      "<>:44: SyntaxWarning: invalid escape sequence '\\z'\n",
      "<>:41: SyntaxWarning: invalid escape sequence '\\z'\n",
      "<>:44: SyntaxWarning: invalid escape sequence '\\z'\n",
      "/tmp/ipykernel_3640/763150072.py:41: SyntaxWarning: invalid escape sequence '\\z'\n",
      "  plt.ylabel('$\\zeta_k^2$ [$Mpc^{3/2}]$')\n",
      "/tmp/ipykernel_3640/763150072.py:44: SyntaxWarning: invalid escape sequence '\\z'\n",
      "  print(f'For k_rh = {k_rh} RH^{-1}, the values in units of $[|\\zeta_k^2|]$ = Mpc^{3/2} is\\n')\n"
     ]
    },
    {
     "name": "stdout",
     "output_type": "stream",
     "text": [
      "For k_rh = 21544346.900318865 RH^-1, the values in units of $[|\\zeta_k^2|]$ = Mpc^1.5 is\n",
      "\n",
      "zeta_k2_analitical:[1.3998291481049842e-109, 1.5044692300369948e-109, 1.6236095252676881e-109, 1.7603014005982521e-109, 1.9184871136166969e-109, 2.1033430246703947e-109, 2.321792017750472e-109, 2.5832898587186244e-109, 2.901070649151022e-109, 3.2941931467802815e-109, 3.7910514040279733e-109, 4.435716972549628e-109, 5.300141338206384e-109, 6.509553805173318e-109, 8.300957160094478e-109, 1.1177495084134072e-108, 1.6403422044275289e-108, 2.8166499817432955e-108, 7.098012255000174e-108, 1.3998056810659027e-102] \n",
      "\n",
      "zeta_k2_num: [1.4000062884341223e-109, 1.5054422972963041e-109, 1.6238671044828027e-109, 1.7614541142600592e-109, 1.9190268863445356e-109, 2.1043783173809614e-109, 2.323292079254759e-109, 2.583970738306531e-109, 2.902852504092778e-109, 3.29689442331486e-109, 3.793314891498466e-109, 4.43773750903216e-109, 5.302718349654504e-109, 6.513252542513952e-109, 8.307463076296645e-109, 1.1192201521524433e-108, 1.6420621750280527e-108, 2.820820837827302e-108, 7.11804370865535e-108, 2.9517078114646384e-53]\n",
      "\n",
      "For k_rh = 1000000000.0 RH^-1, the values in units of $[|\\zeta_k^2|]$ = Mpc^1.5 is\n",
      "\n",
      "zeta_k2_analitical:[1.3998224291267432e-104, 1.504462008786007e-104, 1.6236017321406138e-104, 1.760292951344201e-104, 1.9184779050604985e-104, 2.1033329287882238e-104, 2.321780873285456e-104, 2.5832774590212787e-104, 2.9010567240403555e-104, 3.294177334580439e-104, 3.791033206749776e-104, 4.435695680621246e-104, 5.300115896614178e-104, 6.509522557649109e-104, 8.300917312405134e-104, 1.1177441426029824e-103, 1.6403343294061694e-103, 2.816636457809135e-103, 7.097978161975131e-103, 1.3998449172613904e-97] \n",
      "\n",
      "zeta_k2_num: [1.3999995681816094e-104, 1.505435073501005e-104, 1.6238593083335582e-104, 1.7614456285326658e-104, 1.9190176736416754e-104, 2.1043680848871164e-104, 2.323280862770359e-104, 2.583958476197281e-104, 2.9028387701906404e-104, 3.2968783709370624e-104, 3.793296597828701e-104, 4.43771626057094e-104, 5.30269327819656e-104, 6.513221758349632e-104, 8.307423511692661e-104, 1.1192147317057114e-103, 1.6420544542297093e-103, 2.820807636093821e-103, 7.1180112015520875e-103, 4.100515818300395e-58]\n",
      "\n"
     ]
    },
    {
     "data": {
      "image/png": "[encoded data removed]",
      "text/plain": [
       "<Figure size 640x480 with 1 Axes>"
      ]
     },
     "metadata": {},
     "output_type": "display_data"
    }
   ],
   "source": [
    "from mpmath import mp\n",
    "import mpmath\n",
    "for k_rh in momenta_rh:\n",
    "    var = []\n",
    "    beta = []\n",
    "    max_etaf = -1.0e300\n",
    "    min_etai = +1.0e300\n",
    "    csq1d.set_reltol(1.0e-5)\n",
    "    csq1d.set_k (k_rh)\n",
    "    (Found1, etai) = csq1d.find_adiab_time_limit(None, -1.0e15, -1.0e-25, 1.0e-7)\n",
    "    (Found2, etafa) = csq1d.find_adiab_time_limit(None, +1.0e-25, +1.0e15, 1.0e0)\n",
    "    etaf = etafa\n",
    "    assert Found1\n",
    "    assert Found2\n",
    "\n",
    "\n",
    "    csq1d.set_ti (etai)\n",
    "    csq1d.set_tf (etaf)\n",
    "    csq1d.set_init_cond_adiab (None, etai)\n",
    "    csq1d.prepare (None)\n",
    "    t_a, t_s = csq1d.get_time_array ()\n",
    "    zeta2_k_anali = []\n",
    "    zeta2_k_num = []\n",
    "    t_a = np.linspace(t_a[0], t_a[-1], 20)\n",
    "    for t_rh in t_a:\n",
    "        (J11, J12, J22) = csq1d.get_J_at (None, t_rh)\n",
    "        f11 = 0.5 * 8.0 * math.pi * csq1d.lp_RH**2 * csq1d.RH**3 \n",
    "        f22 = 0.5 * 8.0 * math.pi * csq1d.lp_RH**2 * csq1d.RH\n",
    "        f12 = 0.5 * 8.0 * math.pi * csq1d.lp_RH**2 * csq1d.RH**2\n",
    "        fv =  1.0#csq1d.RH**3\n",
    "        J11D = J11 * f11\n",
    "        J22D = J22 * f22\n",
    "        J12D = J12 * f12\n",
    "        zeta_k_over = do_analitical_zeta(t_rh, k_rh)\n",
    "        zeta2_k_anali.append(zeta_k_over**2)\n",
    "        zeta2_k_num.append(J11D)\n",
    "    reldif = abs(((np.array(zeta2_k_num) - np.array(zeta2_k_anali))) /np.array(zeta2_k_anali) )\n",
    "    #plt.plot(eta_a, zeta2_k_anali, label=f'k{k:22.15e}, analitical' )\n",
    "    #plt.plot(eta_a, zeta2_k_num, label= f'k{k:22.15e}, num' )\n",
    "    plt.plot(t_a[:-1], reldif[:-1], label='rel_dif')\n",
    "    plt.ylabel('$\\zeta_k^2$ [$Mpc^{3/2}]$')\n",
    "    plt.xlabel('$t$[RH]')\n",
    "    plt.legend()\n",
    "    print(f'For k_rh = {k_rh} RH^{-1}, the values in units of $[|\\zeta_k^2|]$ = Mpc^{3/2} is\\n')\n",
    "    print(f'zeta_k2_analitical:{zeta2_k_anali} \\n\\nzeta_k2_num: {zeta2_k_num}\\n')\n",
    "\n"
   ]
  },
  {
   "cell_type": "markdown",
   "id": "1b9f20e6-1822-4b84-9479-f98d607a4622",
   "metadata": {},
   "source": [
    "### Compare phi_k^2"
   ]
  },
  {
   "cell_type": "markdown",
   "id": "a54f139e-9ba0-40cf-a4e5-fb28270f89ae",
   "metadata": {},
   "source": [
    "We now want to compare the mode $|\\phi_k^2|$"
   ]
  },
  {
   "cell_type": "code",
   "execution_count": 18,
   "id": "d7d9a059-a8f3-4eca-aaf9-7823cf212355",
   "metadata": {},
   "outputs": [],
   "source": [
    "###EQ under 183\n",
    "##Everythins is in units of MPC\n",
    "#There is a factor of 3 different, probably from 2.27 in my overleaf\n",
    "def do_analitical_phi(t_rh, k_rh):  \n",
    "    cs = math.sqrt(csq1d.b)\n",
    "    lp = csq1d.lp_RH * csq1d.RH\n",
    "    k = k_rh / csq1d.RH\n",
    "    def intp(t):\n",
    "        return 1/csq1d.y_t(t)\n",
    "    nu = (csq1d.b * 3 + 5) / (2 * (1 + 3 * csq1d.b))\n",
    "    tau_rh = scipy.integrate.quad(intp, 0, t_rh)[0]\n",
    "    arg = -cs * tau_rh * k_rh\n",
    "    hv = scipy.special.hankel1(nu, arg)\n",
    "    a = csq1d.y_t(t_rh)\n",
    "    tau = tau_rh * csq1d.RH\n",
    "    Mpl = 1 / (math.sqrt(8 * math.pi) * lp)\n",
    "    #Mpl = 1 / (lp)\n",
    "    pl_factor =  1/( 2**(3/2) * Mpl )\n",
    "\n",
    "    tf =   hv / (math.sqrt(abs(tau))  * k * a)\n",
    "    const = math.sqrt(6 * math.pi *(1+cs**2))\n",
    "    mult = 1 / (1+3*cs**2)\n",
    "    \n",
    "    phik =   pl_factor * const * mult * tf\n",
    "    return math.sqrt(abs(phik*phik))"
   ]
  },
  {
   "cell_type": "code",
   "execution_count": 19,
   "id": "2b69794f-50e5-452c-9e17-3696a7dcb16d",
   "metadata": {},
   "outputs": [
    {
     "name": "stderr",
     "output_type": "stream",
     "text": [
      "<>:43: SyntaxWarning: invalid escape sequence '\\p'\n",
      "<>:46: SyntaxWarning: invalid escape sequence '\\p'\n",
      "<>:43: SyntaxWarning: invalid escape sequence '\\p'\n",
      "<>:46: SyntaxWarning: invalid escape sequence '\\p'\n",
      "/tmp/ipykernel_3640/1959647566.py:43: SyntaxWarning: invalid escape sequence '\\p'\n",
      "  plt.ylabel('$\\phi_k^2$ [$Mpc^{3/2}]$')\n",
      "/tmp/ipykernel_3640/1959647566.py:46: SyntaxWarning: invalid escape sequence '\\p'\n",
      "  print(f'For k_rh = {k_rh} RH^{-1}, the values in units of [|\\phi_k^2|] = Mpc^{3/2} is\\n')\n"
     ]
    },
    {
     "name": "stdout",
     "output_type": "stream",
     "text": [
      "For k_rh = 10000.0 RH^-1, the values in units of [|\\phi_k^2|] = Mpc^1.5 is\n",
      "\n",
      "phi2_k_analitical:[1.593684385430925e-122, 1.7757050508116172e-122, 1.9907876490688017e-122, 2.247452273146466e-122, 2.5571513783752517e-122, 2.9355697911182604e-122, 3.404650370051719e-122, 3.9958480386599767e-122, 4.755543547907971e-122, 5.75442515696157e-122, 7.104546497001056e-122, 8.992177231055458e-122, 1.1745668379082608e-121, 1.5988519484746253e-121, 2.302606871743336e-121, 3.5983953941272777e-121, 6.398713084219837e-121, 1.4403430565982312e-120, 5.767763692190405e-120, 1.8332071545071082e-111] \n",
      "\n",
      "phi2_k_num: [1.5939792171035014e-122, 1.77511859818577e-122, 1.9911064276351246e-122, 2.2467274274103835e-122, 2.557256972119714e-122, 2.935160139817611e-122, 3.403598195859402e-122, 3.996210885715842e-122, 4.7544301700165307e-122, 5.751855520742309e-122, 7.102980234330073e-122, 8.99167936056315e-122, 1.1744985723319323e-121, 1.5986669858196939e-121, 2.3018946619479673e-121, 3.595588516441622e-121, 6.395938019317901e-121, 1.4393044115386529e-120, 5.757915807995376e-120, 1.7154219047720332e-43]\n",
      "\n",
      "For k_rh = 464158.8833612782 RH^-1, the values in units of [|\\phi_k^2|] = Mpc^1.5 is\n",
      "\n",
      "phi2_k_analitical:[1.593796129241301e-117, 1.7758295582625166e-117, 1.9909272386897846e-117, 2.2476098609950823e-117, 2.5573306837020592e-117, 2.9357756332160058e-117, 3.404889107189804e-117, 3.996128235271853e-117, 4.755877021537119e-117, 5.754828683325559e-117, 7.105044711701473e-117, 8.992807835941835e-117, 1.1746492110011603e-116, 1.598964081919528e-116, 2.3027683716329087e-116, 3.598647798630194e-116, 6.399161969766849e-116, 1.4404441229173192e-115, 5.768168631915465e-115, 1.833401107867763e-106] \n",
      "\n",
      "phi2_k_num: [1.5940542627066704e-117, 1.775202151403344e-117, 1.9912001849012486e-117, 2.2468331946101764e-117, 2.557377318114914e-117, 2.935298198076379e-117, 3.403758646866001e-117, 3.996398976446761e-117, 4.7546538406866e-117, 5.75212696283511e-117, 7.103315180285804e-117, 8.992103766116376e-117, 1.1745538735745622e-116, 1.598742413404151e-116, 2.3020041912573138e-116, 3.595757992902137e-116, 6.396239699656681e-116, 1.4393719425142554e-115, 5.758182155052638e-115, 1.718962913746441e-48]\n",
      "\n",
      "For k_rh = 21544346.900318865 RH^-1, the values in units of [|\\phi_k^2|] = Mpc^1.5 is\n",
      "\n",
      "phi2_k_analitical:[1.5938848849338394e-112, 1.7759284519096541e-112, 1.9910381118742036e-112, 2.247735029912252e-112, 2.5574731025198186e-112, 2.935939129861827e-112, 3.405078731997068e-112, 3.9963507909294854e-112, 4.756141894684422e-112, 5.755149198897882e-112, 7.105440437789327e-112, 8.993308719276275e-112, 1.1747146393528108e-111, 1.5990531490543004e-111, 2.3028966509949226e-111, 3.59884828496204e-111, 6.399518525954685e-111, 1.4405244028371265e-110, 5.768490301565926e-110, 1.8335948185377856e-101] \n",
      "\n",
      "phi2_k_num: [1.5941063279769343e-112, 1.7752600601544248e-112, 1.9912653806045121e-112, 2.2469060527847355e-112, 2.557461791266575e-112, 2.935392579887095e-112, 3.4038710018159434e-112, 3.9965298635885763e-112, 4.754806299247967e-112, 5.752315400600083e-112, 7.103551885133267e-112, 8.992401210276433e-112, 1.1745924331798988e-111, 1.5987951757111892e-111, 2.302081086583854e-111, 3.595875727516532e-111, 6.396449115187316e-111, 1.439418521442095e-110, 5.758365005991291e-110, 1.2406527756910912e-53]\n",
      "\n",
      "For k_rh = 1000000000.0 RH^-1, the values in units of [|\\phi_k^2|] = Mpc^1.5 is\n",
      "\n",
      "phi2_k_analitical:[1.5939101225013474e-107, 1.7759565724374805e-107, 1.991069639099812e-107, 2.2477706225608147e-107, 2.5575136007698012e-107, 2.935985622413133e-107, 3.405132655243813e-107, 3.99641407970858e-107, 4.75621721883697e-107, 5.755240348550141e-107, 7.105552979059075e-107, 8.993451170829184e-107, 1.1747332479270738e-106, 1.599078481985044e-106, 2.3029331391635936e-106, 3.5989053168681476e-106, 6.399619968009396e-106, 1.4405472480784536e-105, 5.7685818881943286e-105, 1.8337902604921656e-96] \n",
      "\n",
      "phi2_k_num: [1.5940948493166787e-107, 1.7752472732346286e-107, 1.9912510449084306e-107, 2.2468899107379074e-107, 2.5574433796693465e-107, 2.935371610514591e-107, 3.4038466005884806e-107, 3.99650086901616e-107, 4.7547717208389083e-107, 5.752274360736932e-107, 7.103500906043036e-107, 8.992336359070859e-107, 1.1745838884776256e-106, 1.5987835434628149e-106, 2.3020644306798926e-106, 3.5958499604140086e-106, 6.396402385496716e-106, 1.4394079867205385e-105, 5.7583220417245284e-105, 1.723435323949924e-58]\n",
      "\n"
     ]
    },
    {
     "data": {
      "image/png": "[encoded data removed]",
      "text/plain": [
       "<Figure size 640x480 with 1 Axes>"
      ]
     },
     "metadata": {},
     "output_type": "display_data"
    }
   ],
   "source": [
    "from mpmath import mp\n",
    "import mpmath\n",
    "for k_rh in momenta_rh:\n",
    "    var = []\n",
    "    beta = []\n",
    "    max_etaf = -1.0e300\n",
    "    min_etai = +1.0e300\n",
    "    csq1d.set_reltol(1.0e-5)\n",
    "    csq1d.set_k (k_rh)\n",
    "    (Found1, etai) = csq1d.find_adiab_time_limit(None, -1.0e15, -1.0e-25, 1.0e-7)\n",
    "    (Found2, etafa) = csq1d.find_adiab_time_limit(None, +1.0e-25, +1.0e15, 1.0e0)\n",
    "    etaf = etafa\n",
    "    assert Found1\n",
    "    assert Found2\n",
    "\n",
    "    phi2_k_anali = []\n",
    "    phi2_k_num = []\n",
    "    csq1d.set_ti (etai)\n",
    "    csq1d.set_tf (etaf)\n",
    "    csq1d.set_init_cond_adiab (None, etai)\n",
    "    csq1d.prepare (None)\n",
    "    t_a, t_s = csq1d.get_time_array ()\n",
    "    phi2_k_anali = []\n",
    "    phi2_k_num = []\n",
    "    t_a = np.linspace(t_a[0], t_a[-1], 20)\n",
    "    for t_rh in t_a:\n",
    "        (J11, J12, J22) = csq1d.get_J_at (None, t_rh)\n",
    "        f11 = 0.5 *  8.0 * math.pi * csq1d.lp_RH**2 * csq1d.RH**3 \n",
    "        f22 =  0.5 *8.0 * math.pi * csq1d.lp_RH**2 * csq1d.RH\n",
    "        f12 =  0.5 *8.0 * math.pi * csq1d.lp_RH**2 * csq1d.RH**2\n",
    "        fv =  1.0#csq1d.RH**3\n",
    "        J11D = J11 * f11\n",
    "        J22D = J22 * f22\n",
    "        J12D = J12 * f12\n",
    "        phi_k_over = do_analitical_phi(t_rh, k_rh) \n",
    "        phi_k_num= -(csq1d.H_t(t_rh)/csq1d.RH) * math.sqrt(J22D)  / (2  * (k_rh/csq1d.RH)**2  * csq1d.y_t(t_rh))\n",
    "        phi2_k_anali.append(phi_k_over**2)\n",
    "        phi2_k_num.append(phi_k_num**2)\n",
    "\n",
    "    reldif = abs(((np.array(phi2_k_num) - np.array(phi2_k_anali))) /np.array(phi2_k_anali) )\n",
    "\n",
    "    plt.plot(t_a[:-1], reldif[:-1], label='rel_dif')\n",
    "    plt.ylabel('$\\phi_k^2$ [$Mpc^{3/2}]$')\n",
    "    plt.xlabel('$t$[RH]')\n",
    "    plt.legend()\n",
    "    print(f'For k_rh = {k_rh} RH^{-1}, the values in units of [|\\phi_k^2|] = Mpc^{3/2} is\\n')\n",
    "    print(f'phi2_k_analitical:{phi2_k_anali} \\n\\nphi2_k_num: {phi2_k_num}\\n')\n"
   ]
  },
  {
   "cell_type": "markdown",
   "id": "cca9eda9-44ce-416a-96ff-1a2064692ab3",
   "metadata": {},
   "source": [
    "## Deltak"
   ]
  },
  {
   "cell_type": "markdown",
   "id": "f64f2d38-3268-46f4-a583-32160169d765",
   "metadata": {},
   "source": [
    "We now want to compare $\\delta_k$, the value of the density contrast mode"
   ]
  },
  {
   "cell_type": "markdown",
   "id": "1952c0b6-516b-42a5-a300-5a25a906e4a3",
   "metadata": {},
   "source": [
    "### Numerical functions"
   ]
  },
  {
   "cell_type": "code",
   "execution_count": 20,
   "id": "738a6fe3-dc10-4c10-9a5d-bcac293f25d4",
   "metadata": {},
   "outputs": [],
   "source": [
    "def deltak2_numerical(J22, J11, J12, J21, w, h, k, a, z):\n",
    "    h = h / csq1d.RH\n",
    "    k = k / csq1d.RH\n",
    "    a3h2 = a**3 * h\n",
    "    S1 = J22*(9.0 * h**2 / (4.0 * a**2 * k**4) + 1.0/(9* a3h2**2 * (1 + w)**2) - 1.0/(a**4 * k**2 * (1 + w)))\n",
    "    S2 = J21*(-(9.0 * h/(2.0 * a * k**2)) + 1.0/(a**3 * h * (1 + w))) \n",
    "    S3 = J12*(-(9.0 * h/(2.0 * a * k**2)) + 1.0/(a**3 * h * (1 + w)))\n",
    "    S4 = 9.0 * J11 \n",
    "\n",
    "    return   (S1+S2+S3+S4)\n",
    "\n",
    "from mpmath import mp\n",
    "import mpmath\n",
    "def get_adiab_time(k):\n",
    "    var = []\n",
    "    beta = []\n",
    "    max_etaf = -1.0e300\n",
    "    min_etai = +1.0e300\n",
    "    csq1d.set_reltol(1.0e-5)\n",
    "    csq1d.set_k (k)\n",
    "    (Found1, etai) = csq1d.find_adiab_time_limit(None, -1.0e15, -1.0e-35, 1.0e-7)\n",
    "    (Found2, etafa) = csq1d.find_adiab_time_limit(None, +1.0e-35, +1.0e15, 1.0e0)\n",
    "    etaf = etafa\n",
    "\n",
    "    try:\n",
    "        assert Found1\n",
    "    except AssertionError:\n",
    "        print('Adiabatic time not found')\n",
    "        return 0\n",
    "    try:\n",
    "        assert Found2\n",
    "    except AssertionError:\n",
    "        print('Adiabatic time not found')\n",
    "        return 0\n",
    "\n",
    "\n",
    "    csq1d.set_ti (etai)\n",
    "    csq1d.set_tf (etaf)\n",
    "    csq1d.set_init_cond_adiab (None, etai)\n",
    "    csq1d.prepare (None)\n",
    "    eta_a, eta_s = csq1d.get_time_array ()\n",
    "    return eta_a\n",
    "    \n",
    "def compute_delta_num(k, t):\n",
    "    var = []\n",
    "    beta = []\n",
    "    max_etaf = -1.0e300\n",
    "    min_etai = +1.0e300\n",
    "    csq1d.set_reltol(1.0e-5)\n",
    "    csq1d.set_k (k)\n",
    "    (Found1, etai) = csq1d.find_adiab_time_limit(None, -1.0e15, -1.0e-25, 1.0e-7)\n",
    "    (Found2, etafa) = csq1d.find_adiab_time_limit(None, +1.0e-25, +1.0e15, 1.0e0)\n",
    "    etaf = etafa\n",
    "    print(f'k{k:22.15e}')\n",
    "    try:\n",
    "        assert Found1\n",
    "    except AssertionError:\n",
    "        print('Adiabatic time not found')\n",
    "        return 0\n",
    "    try:\n",
    "        assert Found2\n",
    "    except AssertionError:\n",
    "        print('Adiabatic time not found')\n",
    "        return 0\n",
    "\n",
    "\n",
    "    csq1d.set_ti (etai)\n",
    "    csq1d.set_tf (etaf)\n",
    "    csq1d.set_init_cond_adiab (None, etai)\n",
    "    csq1d.prepare (None)\n",
    "    eta_a, eta_s = csq1d.get_time_array ()\n",
    "    var_k = []\n",
    "    beta_k = []\n",
    "\n",
    "    (J11, J12, J22) = csq1d.get_J_at (None, t)\n",
    "    f11 = 0.5 * 8.0 * math.pi * csq1d.lp_RH**2 * csq1d.RH**3 \n",
    "    f22 = 0.5 * 8.0 * math.pi *csq1d.lp_RH**2 * csq1d.RH\n",
    "    f12 = 0.5 * 8.0 * math.pi *csq1d.lp_RH**2 * csq1d.RH**2\n",
    "    fv =  1.0#csq1d.RH**3\n",
    "    J11D = J11 * f11\n",
    "    J22D = J22 * f22\n",
    "    J12D = J12 * f12\n",
    "    #print(f'{J11D:22.15e}, J22D, {J22D} , k{k:22.15e}')\n",
    "    deltak_mpc = math.sqrt(fv * deltak2_numerical(J22D, J11D, J12D, J12D, csq1d.b, csq1d.H_t(t), k, csq1d.y_t(t), csq1d.z_y(t)))\n",
    "    return deltak_mpc\n",
    "\n",
    "def integrand_numerical(k, t):\n",
    "    csq1d.set_k(k)\n",
    "    intp2 = compute_delta_num(k, t)**2\n",
    "    delta2 = intp2\n",
    "    delta2_rh = delta2 / (csq1d.RH**3)\n",
    "\n",
    "    #delta2_m = delta2 * (3.08e22**3) \n",
    "    return delta2_rh\n",
    "\n"
   ]
  },
  {
   "cell_type": "markdown",
   "id": "39bcf5c9-2c14-443f-985b-546da9986d08",
   "metadata": {},
   "source": [
    "### Analitical functions"
   ]
  },
  {
   "cell_type": "code",
   "execution_count": 21,
   "id": "3eefc3ee-0034-41fa-93a6-af0ebe25ed35",
   "metadata": {},
   "outputs": [],
   "source": [
    "def do_analitical_delta(k_rh, t_rh):# sqrt of 2 factor from different definition of zetak\n",
    "    # Mpl = (1e19 / 0.197e-15) * csq1d.RH * 3.08e22\n",
    "    # pl_factor = math.sqrt(math.pi / 6) / Mpl\n",
    "\n",
    "\n",
    "    cs = math.sqrt(csq1d.b)\n",
    "    lp = csq1d.lp_RH * csq1d.RH\n",
    "    Mpl =1.0 / ( math.sqrt(8.0 * math.pi) * lp)\n",
    "    k = k_rh / csq1d.RH\n",
    "    def intp(t):\n",
    "        return 1/csq1d.y_t(t)\n",
    "    nu = (csq1d.b * 3 + 5) / (2 * (1 + 3 * csq1d.b))\n",
    "    nu1 = nu+1\n",
    "    tau_rh = scipy.integrate.quad(intp, 0, t_rh)[0]\n",
    "    arg = -cs * tau_rh * k_rh\n",
    "    hv = scipy.special.hankel1(nu, arg)\n",
    "    hv1 = scipy.special.hankel1(nu1, arg)\n",
    "    hv = math.sqrt(abs(hv * hv))\n",
    "    hv1 = math.sqrt(abs(hv1 * hv1))\n",
    "    a = csq1d.y_t(t_rh)\n",
    "    tau = tau_rh * csq1d.RH\n",
    "\n",
    "    div_m = 2.0**(3/2)\n",
    "    div =  div_m * k * math.sqrt(-tau) * a\n",
    "    t1 =  math.sqrt(math.pi)/ (math.sqrt(6) * Mpl)  \n",
    "    t2 = (math.sqrt(1.0 + csq1d.b))  \n",
    "    t3 = k**2 * tau**2 * ( 3 * csq1d.b +1) - 6 * nu - 3\n",
    "    t4 = hv\n",
    "    t5 =  -6  * cs * k * tau * hv1 \n",
    "\n",
    "    delta =   (t1 * t2 * (t3 * t4 + t5)) / div\n",
    "\n",
    "    return  math.sqrt(abs(delta * delta))\n",
    "\n",
    "\n",
    "def integrand_analitical(k_rh, t_rh):\n",
    "    delta = do_analitical_delta(k_rh, t_rh)\n",
    "    delta2 = delta**2\n",
    "    delta2_rh = delta2 / (csq1d.RH**3)\n",
    "    #delta2_mpc = delta2 \n",
    "    return delta2_rh\n",
    "     "
   ]
  },
  {
   "cell_type": "markdown",
   "id": "5d9f6c5a-5caf-45b5-aa8d-62032a3c5bd2",
   "metadata": {},
   "source": [
    "### Comparison between numerical and analitical deltas"
   ]
  },
  {
   "cell_type": "code",
   "execution_count": 22,
   "id": "cb86e93f-1158-4640-93f1-3e981121a49c",
   "metadata": {},
   "outputs": [
    {
     "name": "stdout",
     "output_type": "stream",
     "text": [
      "k 1.000000000000000e+04\n",
      "Numerical delta =  1.663669919075414e-52, Analitical delta  1.663825379164085e-52, k_rh 10000.0 \n",
      "\n",
      "k 1.000000000000000e+04\n",
      "Numerical delta =  2.774946245489193e-52, Analitical delta  2.776361717470594e-52, k_rh 10000.0 \n",
      "\n",
      "k 1.000000000000000e+04\n",
      "Numerical delta =  4.631038895711789e-52, Analitical delta  4.635609357070141e-52, k_rh 10000.0 \n",
      "\n",
      "k 1.000000000000000e+04\n",
      "Numerical delta =  7.722696457873680e-52, Analitical delta  7.753029392458828e-52, k_rh 10000.0 \n",
      "\n",
      "k 1.000000000000000e+04\n",
      "Numerical delta =  1.148765341247441e-51, Analitical delta  1.302878285664961e-51, k_rh 10000.0 \n",
      "\n",
      "k 1.000000000000000e+04\n",
      "Numerical delta =  2.111611743569350e-51, Analitical delta  2.219591691073781e-51, k_rh 10000.0 \n",
      "\n",
      "k 1.000000000000000e+04\n",
      "Numerical delta =  3.228589418451218e-51, Analitical delta  3.937539160947372e-51, k_rh 10000.0 \n",
      "\n",
      "k 1.000000000000000e+04\n",
      "Numerical delta =  9.075749940031873e-51, Analitical delta  7.863326294018750e-51, k_rh 10000.0 \n",
      "\n",
      "k 1.000000000000000e+04\n",
      "Numerical delta =  2.514104865920194e-50, Analitical delta  2.049137681059584e-50, k_rh 10000.0 \n",
      "\n",
      "k 1.000000000000000e+04\n",
      "Numerical delta =  8.946737180818039e-50, Analitical delta  7.286505338263666e-50, k_rh 10000.0 \n",
      "\n"
     ]
    },
    {
     "data": {
      "image/png": "[encoded data removed]",
      "text/plain": [
       "<Figure size 640x480 with 1 Axes>"
      ]
     },
     "metadata": {},
     "output_type": "display_data"
    },
    {
     "name": "stdout",
     "output_type": "stream",
     "text": [
      "k 4.641588833612782e+05\n",
      "Numerical delta =  5.261052681047827e-50, Analitical delta  5.261483757427433e-50, k_rh 464158.8833612782 \n",
      "\n",
      "k 4.641588833612782e+05\n",
      "Numerical delta =  8.775262762826666e-50, Analitical delta  8.779636675226779e-50, k_rh 464158.8833612782 \n",
      "\n",
      "k 4.641588833612782e+05\n",
      "Numerical delta =  1.464482008321603e-49, Analitical delta  1.465910134249602e-49, k_rh 464158.8833612782 \n",
      "\n",
      "k 4.641588833612782e+05\n",
      "Numerical delta =  2.441944504522721e-49, Analitical delta  2.451726393360968e-49, k_rh 464158.8833612782 \n",
      "\n",
      "k 4.641588833612782e+05\n",
      "Numerical delta =  3.683730084592904e-49, Analitical delta  4.120069814406583e-49, k_rh 464158.8833612782 \n",
      "\n",
      "k 4.641588833612782e+05\n",
      "Numerical delta =  6.474886087356687e-49, Analitical delta  7.018984386823593e-49, k_rh 464158.8833612782 \n",
      "\n",
      "k 4.641588833612782e+05\n",
      "Numerical delta =  1.046379128210764e-48, Analitical delta  1.245166534789377e-48, k_rh 464158.8833612782 \n",
      "\n",
      "k 4.641588833612782e+05\n",
      "Numerical delta =  2.768934024678801e-48, Analitical delta  2.486638554332897e-48, k_rh 464158.8833612782 \n",
      "\n",
      "k 4.641588833612782e+05\n",
      "Numerical delta =  7.901575283198217e-48, Analitical delta  6.480137838160203e-48, k_rh 464158.8833612782 \n",
      "\n",
      "k 4.641588833612782e+05\n",
      "Numerical delta =  2.828553670923733e-47, Analitical delta  2.304292350327531e-47, k_rh 464158.8833612782 \n",
      "\n"
     ]
    },
    {
     "data": {
      "image/png": "[encoded data removed]",
      "text/plain": [
       "<Figure size 640x480 with 1 Axes>"
      ]
     },
     "metadata": {},
     "output_type": "display_data"
    },
    {
     "name": "stdout",
     "output_type": "stream",
     "text": [
      "k 2.154434690031886e+07\n",
      "Numerical delta =  1.663678524831807e-47, Analitical delta  1.663795674547019e-47, k_rh 21544346.900318865 \n",
      "\n",
      "k 2.154434690031886e+07\n",
      "Numerical delta =  2.774962304317704e-47, Analitical delta  2.776312203515432e-47, k_rh 21544346.900318865 \n",
      "\n",
      "k 2.154434690031886e+07\n",
      "Numerical delta =  4.631066069506686e-47, Analitical delta  4.635526931941661e-47, k_rh 21544346.900318865 \n",
      "\n",
      "k 2.154434690031886e+07\n",
      "Numerical delta =  7.716753903608710e-47, Analitical delta  7.752892693705288e-47, k_rh 21544346.900318865 \n",
      "\n",
      "k 2.154434690031886e+07\n",
      "Numerical delta =  1.234077977944961e-46, Analitical delta  1.302855864565613e-46, k_rh 21544346.900318865 \n",
      "\n",
      "k 2.154434690031886e+07\n",
      "Numerical delta =  2.633343596390835e-46, Analitical delta  2.219556219809950e-46, k_rh 21544346.900318865 \n",
      "\n",
      "k 2.154434690031886e+07\n",
      "Numerical delta =  3.840215091252359e-46, Analitical delta  3.937490714774796e-46, k_rh 21544346.900318865 \n",
      "\n",
      "k 2.154434690031886e+07\n",
      "Numerical delta =  9.347596430785283e-46, Analitical delta  7.863310117941206e-46, k_rh 21544346.900318865 \n",
      "\n",
      "k 2.154434690031886e+07\n",
      "Numerical delta =  2.206663221046757e-45, Analitical delta  2.049170586635464e-45, k_rh 21544346.900318865 \n",
      "\n",
      "k 2.154434690031886e+07\n",
      "Numerical delta =  7.633120182999120e-45, Analitical delta  7.286723939336371e-45, k_rh 21544346.900318865 \n",
      "\n"
     ]
    },
    {
     "data": {
      "image/png": "[encoded data removed]",
      "text/plain": [
       "<Figure size 640x480 with 1 Axes>"
      ]
     },
     "metadata": {},
     "output_type": "display_data"
    },
    {
     "name": "stdout",
     "output_type": "stream",
     "text": [
      "k 1.000000000000000e+09\n",
      "Numerical delta =  5.261053281107944e-45, Analitical delta  5.261363216579827e-45, k_rh 1000000000.0 \n",
      "\n",
      "k 1.000000000000000e+09\n",
      "Numerical delta =  8.775267335512215e-45, Analitical delta  8.779435670880631e-45, k_rh 1000000000.0 \n",
      "\n",
      "k 1.000000000000000e+09\n",
      "Numerical delta =  1.464482818494446e-44, Analitical delta  1.465876637212414e-44, k_rh 1000000000.0 \n",
      "\n",
      "k 1.000000000000000e+09\n",
      "Numerical delta =  2.440267966008394e-44, Analitical delta  2.451670669974290e-44, k_rh 1000000000.0 \n",
      "\n",
      "k 1.000000000000000e+09\n",
      "Numerical delta =  3.667286242115482e-44, Analitical delta  4.119977602023007e-44, k_rh 1000000000.0 \n",
      "\n",
      "k 1.000000000000000e+09\n",
      "Numerical delta =  6.480972002353546e-44, Analitical delta  7.018834366398519e-44, k_rh 1000000000.0 \n",
      "\n",
      "k 1.000000000000000e+09\n",
      "Numerical delta =  1.034915367043970e-43, Analitical delta  1.245143679064388e-43, k_rh 1000000000.0 \n",
      "\n",
      "k 1.000000000000000e+09\n",
      "Numerical delta =  2.807755678824451e-43, Analitical delta  2.486613821343891e-43, k_rh 1000000000.0 \n",
      "\n",
      "k 1.000000000000000e+09\n",
      "Numerical delta =  7.927254859842716e-43, Analitical delta  6.480169722281072e-43, k_rh 1000000000.0 \n",
      "\n",
      "k 1.000000000000000e+09\n",
      "Numerical delta =  2.831677361917935e-42, Analitical delta  2.304330053110350e-42, k_rh 1000000000.0 \n",
      "\n"
     ]
    },
    {
     "data": {
      "image/png": "[encoded data removed]",
      "text/plain": [
       "<Figure size 640x480 with 1 Axes>"
      ]
     },
     "metadata": {},
     "output_type": "display_data"
    }
   ],
   "source": [
    "\n",
    "k_natural = []   \n",
    "\n",
    "for k_rh in momenta_rh:\n",
    "    analitical_delta_l = []\n",
    "    numerical_delta_l = []\n",
    "\n",
    "    ## Since we have different momenta, they will have different time intervals where the addiabatic aproxximation is valid.This is why I am callign this get_adiab_time function\n",
    "    eta_a = get_adiab_time(k_rh)\n",
    "    finalt = eta_a[0]/1000000\n",
    "    times = np.geomspace(eta_a[0], finalt, 10)\n",
    "    k = k_rh / csq1d.RH\n",
    "    for t_rh in times:\n",
    "\n",
    "        ## Numerical\n",
    "        delta_num = compute_delta_num(k_rh, t_rh) \n",
    "        numerical_delta_l.append(delta_num)\n",
    "\n",
    "        ###Analitical\n",
    "        delta_analitical = do_analitical_delta(k_rh, t_rh) \n",
    "        analitical_delta_l.append(delta_analitical)\n",
    "        print(f'Numerical delta = {delta_num:22.15e}, Analitical delta {delta_analitical:22.15e}, k_rh {k_rh} \\n')\n",
    "        reldif = abs(1 - delta_num/delta_analitical)\n",
    "        plt.plot(t_rh, abs(1 - delta_num/delta_analitical), '.', label='reldif')\n",
    "\n",
    "    plt.yscale('log')\n",
    "    plt.xscale('symlog')\n",
    "    plt.ylabel('log(reldif) [Mpc^{3/2}]')\n",
    "    plt.xlabel('t[RH]')\n",
    "    plt.legend()\n",
    "    plt.show()"
   ]
  },
  {
   "cell_type": "markdown",
   "id": "869c5c2c-1bae-4448-b882-5a3e2d88f5ee",
   "metadata": {},
   "source": [
    "## Integral Comparison"
   ]
  },
  {
   "cell_type": "markdown",
   "id": "e52fb179-05fb-4367-9f5e-cce7e4539dbd",
   "metadata": {},
   "source": [
    "Let us now integrate the variances filtered with a top hat $W$ in a given scale $r$. Explicitely, we want to compute\n",
    "\\begin{align}\n",
    "\t\\sigma(r)^2=\\frac{1}{2 \\pi^{2}} \\int_{ki}^{kf} \\mathrm{d} k_a~~   \\delta^2_{k_a} k_a^2 W(kr)\\\\\n",
    " \\sigma(r)^2=\\frac{1}{2 \\pi^{2}} \\int_{ki}^{kf} \\mathrm{d} k_a~~   \\delta^2_{k_a} k_a^2 \\left| 3 \\frac{\\sin(kr) - kr \\cos(kr)}{(kr)^3}\\right|^2\\\\\n",
    "  \\sigma(r)^2=\\frac{9}{2 r^2 \\pi^{2}} \\int_{ki}^{kf} \\mathrm{d} k_a~~   \\delta^2_{k_a} \\left| j_1(kr)\\right|^2\n",
    "\t,\\end{align}\n",
    " where $j_1$ is the first bessel function."
   ]
  },
  {
   "cell_type": "code",
   "execution_count": 23,
   "id": "7e1f2e46-8c64-41dd-a713-f796aff62f3f",
   "metadata": {},
   "outputs": [
    {
     "name": "stdout",
     "output_type": "stream",
     "text": [
      "kj  6.229410928216315e+09 kh  5.086292724082434e+06\n",
      "lk 2.185858360056112e+01\n",
      "6.176586413745068e-06\n"
     ]
    }
   ],
   "source": [
    "####Scales and time\n",
    "t_integral = -1.52e-21\n",
    "H_natural = csq1d.H_t(t_integral)  * conv_Hrh_Hn\n",
    "\n",
    "kj_natural = csq1d.y_t(t_integral) * H_natural * math.sqrt(3.0/2.0) /  math.sqrt(csq1d.b)\n",
    "kh_natural = csq1d.y_t(t_integral) *  H_natural\n",
    "r_nat = math.pi /kj_natural\n",
    "\n",
    "kj_rh = kj_natural * conv_knat_krh \n",
    "kh_rh = kh_natural * conv_knat_krh \n",
    "print(f'kj {kj_rh:22.15e} kh {kh_rh:22.15e}')\n",
    "######Parameters for integrator object\n",
    "\n",
    "lk = np.log((kj_rh - kh_rh)/2.0)\n",
    "\n",
    "\n",
    "k_interval_center =  np.log(kh_rh) + lk/2.0\n",
    "\n",
    "\n",
    "knots_int = 40\n",
    "lnr = np.log(10 * math.pi /kh_rh)\n",
    "print(f\"lk{lk:22.15e}\")\n",
    "print(np.exp(lnr))"
   ]
  },
  {
   "cell_type": "markdown",
   "id": "55b04927-666c-4b98-bd68-388bce34ed02",
   "metadata": {},
   "source": [
    "### Integration With FFtlog and Numerical Variance"
   ]
  },
  {
   "cell_type": "markdown",
   "id": "1655406f-120c-44d5-885b-ad75f0cb9772",
   "metadata": {},
   "source": [
    "This object will compute the integral for a momentum interval (kj,kh), a fixed time $t$ and a range of $r$."
   ]
  },
  {
   "cell_type": "code",
   "execution_count": 24,
   "id": "94aa2ed5-541e-427f-bd4f-b83334c5ad7b",
   "metadata": {},
   "outputs": [
    {
     "data": {
      "text/plain": [
       "6.104191594255408e-12"
      ]
     },
     "execution_count": 24,
     "metadata": {},
     "output_type": "execute_result"
    }
   ],
   "source": [
    "fft = Ncm.FftlogSBesselJ.new(ell=1,lnr0=0.0 , lnk0=k_interval_center, Lk=lk, N=knots_int)\n",
    "fft.set_q(0)\n",
    "##This function sets the best scale for r to perform the integral\n",
    "fft.set_best_lnr0()\n",
    "np.exp(fft.get_lnr0())"
   ]
  },
  {
   "cell_type": "code",
   "execution_count": 25,
   "id": "f5ea6c50-5510-41d7-9687-33df439a6a2f",
   "metadata": {},
   "outputs": [
    {
     "name": "stdout",
     "output_type": "stream",
     "text": [
      "k 5.086292724082430e+06\n",
      "k 8.784719662748050e+06\n",
      "k 1.517240625724971e+07\n",
      "k 2.620481022419100e+07\n",
      "k 4.525927313327400e+07\n",
      "k 7.816892345441651e+07\n",
      "k 1.350083678107107e+08\n",
      "k 2.331778227640691e+08\n",
      "k 4.027298300889338e+08\n",
      "k 6.955692188942332e+08\n",
      "k 1.201342692112705e+09\n",
      "k 2.074882304577742e+09\n",
      "k 3.583604084092562e+09\n",
      "k 6.189371899886320e+09\n",
      "k 1.068988750324045e+10\n",
      "k 1.846289036760503e+10\n",
      "k 3.188792404249999e+10\n",
      "k 5.507478403946970e+10\n",
      "k 9.512164645624338e+10\n",
      "k 1.642880273132279e+11\n",
      "Adiabatic time not found\n",
      "k 2.837477790177639e+11\n",
      "Adiabatic time not found\n",
      "k 4.900710259549824e+11\n",
      "Adiabatic time not found\n",
      "k 8.464193492965895e+11\n",
      "Adiabatic time not found\n",
      "k 1.461881394574579e+12\n",
      "Adiabatic time not found\n",
      "k 2.524868097095530e+12\n",
      "Adiabatic time not found\n",
      "k 4.360790780558468e+12\n",
      "Adiabatic time not found\n",
      "k 7.531679082039705e+12\n",
      "Adiabatic time not found\n",
      "k 1.300823466416561e+13\n",
      "Adiabatic time not found\n",
      "k 2.246699138861517e+13\n",
      "Adiabatic time not found\n",
      "k 3.880355137247115e+13\n",
      "Adiabatic time not found\n",
      "k 6.701901349724145e+13\n",
      "Adiabatic time not found\n",
      "k 1.157509560666116e+14\n",
      "Adiabatic time not found\n",
      "k 1.999176521881546e+14\n",
      "Adiabatic time not found\n",
      "k 3.452849895548479e+14\n",
      "Adiabatic time not found\n",
      "k 5.963541623612339e+14\n",
      "Adiabatic time not found\n",
      "k 1.029984788577318e+15\n",
      "Adiabatic time not found\n",
      "k 1.778923887275641e+15\n",
      "Adiabatic time not found\n",
      "k 3.072443624231566e+15\n",
      "Adiabatic time not found\n",
      "k 5.306528228443855e+15\n",
      "Adiabatic time not found\n",
      "k 9.165096347801680e+15\n",
      "Adiabatic time not found\n",
      "time = -1.52e-21, var^2 = 1.1158423863030003e-37, r =  6.532286208315789e-17\n",
      "time = -1.52e-21, var^2 = 2.159141097194418e-38, r =  1.128214717670265e-16\n",
      "time = -1.52e-21, var^2 = 4.1518008103048437e-39, r =  1.948580341668723e-16\n",
      "time = -1.52e-21, var^2 = 7.932634501274408e-40, r =  3.365463407336559e-16\n",
      "time = -1.52e-21, var^2 = 1.505685206588732e-40, r =  5.812613267165407e-16\n",
      "time = -1.52e-21, var^2 = 2.8382748965993987e-41, r =  1.003917407628748e-15\n",
      "time = -1.52e-21, var^2 = 5.311238420975344e-42, r =  1.733901973202361e-15\n",
      "time = -1.52e-21, var^2 = 9.860848324231337e-43, r =  2.994684652172905e-15\n",
      "time = -1.52e-21, var^2 = 1.815047295020701e-43, r =  5.172227902478600e-15\n",
      "time = -1.52e-21, var^2 = 3.3089661625272654e-44, r =  8.933141409653099e-15\n",
      "time = -1.52e-21, var^2 = 5.967102977035191e-45, r =  1.542875081096421e-14\n",
      "time = -1.52e-21, var^2 = 1.0625297634065333e-45, r =  2.664755215109412e-14\n",
      "time = -1.52e-21, var^2 = 1.863700179690155e-46, r =  4.602394868809892e-14\n",
      "time = -1.52e-21, var^2 = 3.209043514855757e-47, r =  7.948962219247531e-14\n",
      "time = -1.52e-21, var^2 = 5.396654196975013e-48, r =  1.372893942482683e-13\n",
      "time = -1.52e-21, var^2 = 8.793127331660603e-49, r =  2.371174658173265e-13\n",
      "time = -1.52e-21, var^2 = 1.3693467466700702e-49, r =  4.095341297373373e-13\n",
      "time = -1.52e-21, var^2 = 1.9856757789377473e-50, r =  7.073211702967831e-13\n",
      "time = -1.52e-21, var^2 = 2.523601463828181e-51, r =  1.221639911357059e-12\n",
      "time = -1.52e-21, var^2 = 2.2809851647722617e-52, r =  2.109938364200640e-12\n",
      "time = -1.52e-21, var^2 = 6.898754148865478e-54, r =  3.644150669390264e-12\n",
      "time = -1.52e-21, var^2 = 1.1285031187572308e-53, r =  6.293944091702715e-12\n",
      "time = -1.52e-21, var^2 = 4.1122672502791337e-54, r =  1.087049790839398e-11\n",
      "time = -1.52e-21, var^2 = 1.167401429038433e-54, r =  1.877482911425577e-11\n",
      "time = -1.52e-21, var^2 = 2.971085680994004e-55, r =  3.242668470570399e-11\n",
      "time = -1.52e-21, var^2 = 7.105984841341044e-56, r =  5.600529701784260e-11\n",
      "time = -1.52e-21, var^2 = 1.632018157529916e-56, r =  9.672876899145478e-11\n",
      "time = -1.52e-21, var^2 = 3.642367648258825e-57, r =  1.670637466242054e-10\n",
      "time = -1.52e-21, var^2 = 7.953972065896153e-58, r =  2.885418239798157e-10\n",
      "time = -1.52e-21, var^2 = 1.70885172990755e-58, r =  4.983509939644588e-10\n",
      "time = -1.52e-21, var^2 = 3.6165466538225297e-59, r =  8.607199807634718e-10\n",
      "time = -1.52e-21, var^2 = 7.601303157691809e-60, r =  1.486580531107165e-09\n",
      "time = -1.52e-21, var^2 = 1.5653525448264054e-60, r =  2.567526866875605e-09\n",
      "time = -1.52e-21, var^2 = 3.304475567024412e-61, r =  4.434468280852820e-09\n",
      "time = -1.52e-21, var^2 = 6.337852980057457e-62, r =  7.658930150872859e-09\n",
      "time = -1.52e-21, var^2 = 1.5520025977042009e-62, r =  1.322801457600429e-08\n",
      "time = -1.52e-21, var^2 = 1.709558432218997e-63, r =  2.284658120338632e-08\n",
      "time = -1.52e-21, var^2 = 1.198680839082424e-63, r =  3.945915463608390e-08\n",
      "time = -1.52e-21, var^2 = 2.3211771772952275e-64, r =  6.815132954612968e-08\n",
      "time = -1.52e-21, var^2 = 2.2402200492677353e-64, r =  1.177066199653913e-07\n"
     ]
    },
    {
     "data": {
      "image/png": "[encoded data removed]",
      "text/plain": [
       "<Figure size 640x480 with 1 Axes>"
      ]
     },
     "metadata": {},
     "output_type": "display_data"
    }
   ],
   "source": [
    "vec_k_knots = Ncm.Vector.new(knots_int) ## Empty vector for integrator object with the size of the knots\n",
    "fft.get_lnk_vector(vec_k_knots) \n",
    "\n",
    "fft.eval_by_function(lambda k, _: integrand_numerical(k ,  t_integral), None)\n",
    "fft.prepare_splines()\n",
    "lnr_vec = fft.get_vector_lnr()\n",
    "#This function computes the ingral. The argument defines if we want the derivative arg = (1,2,3), or just the integral arg = 0\n",
    "integral_result = fft.get_vector_Gr(0)\n",
    "var2_num_l = []\n",
    "r_l = []\n",
    "for i in range(0, knots_int):\n",
    "    r = np.exp(lnr_vec.get(i))\n",
    "    var2 = abs(integral_result.get(i))*9/(r**2)\n",
    "    r_l.append(r)\n",
    "    var2_num_l.append(var2)\n",
    "    print(f'time = {t_integral}, var^2 = {var2}, r = {r: 22.15e}')\n",
    "plt.plot(r_l, var2_num_l, label='var2')\n",
    "plt.xlabel('symlog(r) [RH]')\n",
    "plt.ylabel('log($ sigma(r)^2$)')\n",
    "plt.xscale('symlog')\n",
    "plt.yscale('log')\n",
    "plt.show()\n"
   ]
  },
  {
   "cell_type": "markdown",
   "id": "ea0c4c9d-6189-4887-bd45-c032d6f4eab7",
   "metadata": {},
   "source": [
    "### Integration With FFtlog and Analitical Variance"
   ]
  },
  {
   "cell_type": "code",
   "execution_count": 26,
   "id": "a30891cf-d063-4a8e-82bc-ee7df59b58d3",
   "metadata": {},
   "outputs": [
    {
     "data": {
      "text/plain": [
       "6.104191594255408e-12"
      ]
     },
     "execution_count": 26,
     "metadata": {},
     "output_type": "execute_result"
    }
   ],
   "source": [
    "fft_a = Ncm.FftlogSBesselJ.new(ell=1,lnr0=lnr , lnk0=k_interval_center, Lk=lk, N=knots_int)\n",
    "fft_a.set_q(0)\n",
    "fft_a.set_best_lnr0()\n",
    "np.exp(fft_a.get_lnr0())"
   ]
  },
  {
   "cell_type": "code",
   "execution_count": 27,
   "id": "c101c3cb-6789-4426-b49b-c5977a9b2460",
   "metadata": {},
   "outputs": [
    {
     "name": "stdout",
     "output_type": "stream",
     "text": [
      "time = -1.52e-21, var^2 = 1.5979251534718153e-37, r =  6.532286208315789e-17\n",
      "time = -1.52e-21, var^2 = 3.0612694537212145e-38, r =  1.128214717670265e-16\n",
      "time = -1.52e-21, var^2 = 6.040388692050277e-39, r =  1.948580341668723e-16\n",
      "time = -1.52e-21, var^2 = 1.100126819526297e-39, r =  3.365463407336559e-16\n",
      "time = -1.52e-21, var^2 = 2.1679392264004394e-40, r =  5.812613267165407e-16\n",
      "time = -1.52e-21, var^2 = 4.0272390907656807e-41, r =  1.003917407628748e-15\n",
      "time = -1.52e-21, var^2 = 7.613295142563474e-42, r =  1.733901973202361e-15\n",
      "time = -1.52e-21, var^2 = 1.4051561879981961e-42, r =  2.994684652172905e-15\n",
      "time = -1.52e-21, var^2 = 2.595830384123123e-43, r =  5.172227902478600e-15\n",
      "time = -1.52e-21, var^2 = 4.72192381029794e-44, r =  8.933141409653099e-15\n",
      "time = -1.52e-21, var^2 = 8.526829663494687e-45, r =  1.542875081096421e-14\n",
      "time = -1.52e-21, var^2 = 1.517024356776133e-45, r =  2.664755215109412e-14\n",
      "time = -1.52e-21, var^2 = 2.662354096138094e-46, r =  4.602394868809892e-14\n",
      "time = -1.52e-21, var^2 = 4.582622409531925e-47, r =  7.948962219247531e-14\n",
      "time = -1.52e-21, var^2 = 7.708439383457874e-48, r =  1.372893942482683e-13\n",
      "time = -1.52e-21, var^2 = 1.2558014591144674e-48, r =  2.371174658173265e-13\n",
      "time = -1.52e-21, var^2 = 1.9558950841081758e-49, r =  4.095341297373373e-13\n",
      "time = -1.52e-21, var^2 = 2.836068034155772e-50, r =  7.073211702967831e-13\n",
      "time = -1.52e-21, var^2 = 3.604826519155836e-51, r =  1.221639911357059e-12\n",
      "time = -1.52e-21, var^2 = 3.258701899410723e-52, r =  2.109938364200640e-12\n",
      "time = -1.52e-21, var^2 = 9.826007854232149e-54, r =  3.644150669390264e-12\n",
      "time = -1.52e-21, var^2 = 1.6111692459554917e-53, r =  6.293944091702715e-12\n",
      "time = -1.52e-21, var^2 = 5.871813737568194e-54, r =  1.087049790839398e-11\n",
      "time = -1.52e-21, var^2 = 1.666981750034681e-54, r =  1.877482911425577e-11\n",
      "time = -1.52e-21, var^2 = 4.242606245487634e-55, r =  3.242668470570399e-11\n",
      "time = -1.52e-21, var^2 = 1.014714221460727e-55, r =  5.600529701784260e-11\n",
      "time = -1.52e-21, var^2 = 2.330454381083056e-56, r =  9.672876899145478e-11\n",
      "time = -1.52e-21, var^2 = 5.201142147329064e-57, r =  1.670637466242054e-10\n",
      "time = -1.52e-21, var^2 = 1.1357384324408097e-57, r =  2.885418239798157e-10\n",
      "time = -1.52e-21, var^2 = 2.4401618575966707e-58, r =  4.983509939644588e-10\n",
      "time = -1.52e-21, var^2 = 5.162988553464111e-59, r =  8.607199807634718e-10\n",
      "time = -1.52e-21, var^2 = 1.0857113207002203e-59, r =  1.486580531107165e-09\n",
      "time = -1.52e-21, var^2 = 2.2320986126334104e-60, r =  2.567526866875605e-09\n",
      "time = -1.52e-21, var^2 = 4.7320279833877895e-61, r =  4.434468280852820e-09\n",
      "time = -1.52e-21, var^2 = 8.956905908350141e-62, r =  7.658930150872859e-09\n",
      "time = -1.52e-21, var^2 = 2.265405624031801e-62, r =  1.322801457600429e-08\n",
      "time = -1.52e-21, var^2 = 2.139249719451474e-63, r =  2.284658120338632e-08\n",
      "time = -1.52e-21, var^2 = 1.8810867135830033e-63, r =  3.945915463608390e-08\n",
      "time = -1.52e-21, var^2 = 4.3010910664179766e-64, r =  6.815132954612968e-08\n",
      "time = -1.52e-21, var^2 = 3.7231713488836e-64, r =  1.177066199653913e-07\n"
     ]
    },
    {
     "name": "stderr",
     "output_type": "stream",
     "text": [
      "<>:19: SyntaxWarning: invalid escape sequence '\\s'\n",
      "<>:19: SyntaxWarning: invalid escape sequence '\\s'\n",
      "/tmp/ipykernel_3640/2613548571.py:19: SyntaxWarning: invalid escape sequence '\\s'\n",
      "  plt.ylabel('log($\\sigma(r)^2$)')\n"
     ]
    },
    {
     "data": {
      "image/png": "[encoded data removed]",
      "text/plain": [
       "<Figure size 640x480 with 1 Axes>"
      ]
     },
     "metadata": {},
     "output_type": "display_data"
    }
   ],
   "source": [
    "vec_k_knots_a = Ncm.Vector.new(knots_int) ## Empty vector for integrator object with the size of the knots\n",
    "fft_a.get_lnk_vector(vec_k_knots) \n",
    "\n",
    "fft_a.eval_by_function(lambda k, _: integrand_analitical(k,  t_integral), None)\n",
    "fft_a.prepare_splines()\n",
    "lnr_vec_a = fft_a.get_vector_lnr()\n",
    "#This function computes the ingral. The argument defines if we want the derivative arg = (1,2,3), or just the integral arg = 0\n",
    "integral_result_a = fft_a.get_vector_Gr(0)\n",
    "var2_analitical_l = []\n",
    "r_l_a = []\n",
    "for i in range(0, knots_int):\n",
    "    r = np.exp(lnr_vec_a.get(i))\n",
    "    var2 = abs(integral_result_a.get(i)) * 9 / (r**2)\n",
    "    r_l_a.append(r)\n",
    "    var2_analitical_l.append(var2)\n",
    "    print(f'time = {t_integral}, var^2 = {var2}, r = {r: 22.15e}')\n",
    "plt.plot(r_l, var2_analitical_l, label='var')\n",
    "plt.xlabel('symlog(r) [RH]')\n",
    "plt.ylabel('log($\\sigma(r)^2$)')\n",
    "plt.xscale('symlog')\n",
    "plt.yscale('log')\n",
    "plt.show()"
   ]
  },
  {
   "cell_type": "markdown",
   "id": "7d1c2869-5126-4106-8c4c-5dd2095b94d9",
   "metadata": {},
   "source": [
    "### Relative difference plot for the variances"
   ]
  },
  {
   "cell_type": "code",
   "execution_count": 28,
   "id": "a6b26d00-1956-462b-9257-c26d389bfd11",
   "metadata": {},
   "outputs": [
    {
     "data": {
      "image/png": "[encoded data removed]",
      "text/plain": [
       "<Figure size 640x480 with 1 Axes>"
      ]
     },
     "metadata": {},
     "output_type": "display_data"
    }
   ],
   "source": [
    "reldif_l = []\n",
    "for i in range(0, len(var2_num_l)):\n",
    "    reldif = abs(1 -var2_num_l[i] / var2_analitical_l[i] )\n",
    "    reldif_l.append(reldif)\n",
    "\n",
    "plt.plot(r_l,reldif_l,label='reldif' )\n",
    "plt.xlabel('r [RH]')\n",
    "plt.ylabel('$sigma(r)^2$)')\n",
    "plt.show()"
   ]
  },
  {
   "cell_type": "markdown",
   "id": "e57a87ca-6f0e-49f1-ba27-2e41f908c6e2",
   "metadata": {},
   "source": [
    "### Integration With 1d integral and Numerical Variance"
   ]
  },
  {
   "cell_type": "markdown",
   "id": "387e8757-2f3f-4955-b33e-879ff6fdb708",
   "metadata": {},
   "source": [
    "To check if we are performing the right integral, let us integrate one time using a normal 1d integration object for a given $r$"
   ]
  },
  {
   "cell_type": "code",
   "execution_count": 29,
   "id": "74d3fd87-b176-43b4-9162-1c33ccc74e21",
   "metadata": {},
   "outputs": [
    {
     "name": "stdout",
     "output_type": "stream",
     "text": [
      "This integral gave var2:  2.195360947115678e-66, while the fftlog gave var2:  4.301091066417977e-64\n"
     ]
    }
   ],
   "source": [
    "class VarianceIntegrator(Ncm.Integral1d):\n",
    "    \n",
    "    def __init__(self, r):\n",
    "        super().__init__()\n",
    "        self.r = r\n",
    "        self.lnr = np.log(r)\n",
    "    \n",
    "    def do_integrand(self, lnk, _):\n",
    "        k = np.exp(lnk)\n",
    "        kr = np.exp(lnk + self.lnr)\n",
    "        r = np.exp(self.lnr)\n",
    "        r2 = r**2\n",
    "        res = integrand_analitical(k,t_integral) * k * Ncm.sf_sbessel(1, kr)**2\n",
    "        return (9.0  / ( 2* math.pi**2 * r2)) * abs(res) \n",
    "\n",
    "var1d = VarianceIntegrator(r_l[-2])\n",
    "var1d.set_reltol(1.0e-7)\n",
    "val, err = var1d.eval(np.log(kh_rh), k_interval_center + lk/2)\n",
    "print(f\"This integral gave var2: {val:22.15e}, while the fftlog gave var2: {var2_analitical_l[-2]:22.15e}\")\n",
    "\n"
   ]
  },
  {
   "cell_type": "markdown",
   "id": "24e33704-81ba-406d-b9aa-e06276e5e0ac",
   "metadata": {},
   "source": [
    "## Beta"
   ]
  },
  {
   "cell_type": "code",
   "execution_count": 30,
   "id": "78a0bc2a-6b8d-49b0-878b-a4bba32cc326",
   "metadata": {},
   "outputs": [],
   "source": [
    "def do_beta(var, deltac):\n",
    "    x = deltac / (math.sqrt(2.0) * var)\n",
    "    return scipy.special.erfc(x)"
   ]
  },
  {
   "cell_type": "code",
   "execution_count": 31,
   "id": "7b2a2ee6-cb6a-40fd-a413-4e074a747dcc",
   "metadata": {},
   "outputs": [],
   "source": [
    "def do_deltac(r,t_rh):\n",
    "    H_eta = csq1d.H_t(t_rh) * (csq1d.y_t(t_rh) )\n",
    "    return (1 / (r*H_eta))**2"
   ]
  },
  {
   "cell_type": "code",
   "execution_count": 32,
   "id": "481ae4d2-47ec-4a51-aad6-8e5b7fbcc1e3",
   "metadata": {},
   "outputs": [
    {
     "name": "stdout",
     "output_type": "stream",
     "text": [
      "151981.7754635067 0.10132118364233779\n"
     ]
    }
   ],
   "source": [
    "####Scales and time\n",
    "tl = -1.52e-21\n",
    "H_natural = csq1d.H_t(tl)  * conv_Hrh_Hn\n",
    "H_rh = csq1d.H_t(tl) * csq1d.RH\n",
    "kj_natural = csq1d.y_t(tl) * H_natural * math.sqrt(3.0/2.0) /  math.sqrt(csq1d.b)\n",
    "kh_natural = csq1d.y_t(tl) *  H_natural\n",
    "r_nat = math.pi /kj_natural\n",
    "\n",
    "kj_rh = kj_natural * conv_knat_krh\n",
    "kh_rh = kh_natural * conv_knat_krh\n",
    "rj_rh = math.pi / kj_rh\n",
    "rh_rh = math.pi / kh_rh\n",
    "\n",
    "deltac_jeans = do_deltac(rj_rh, tl)\n",
    "deltac_hubble = do_deltac(rh_rh, tl)\n",
    "print(deltac_jeans, deltac_hubble)"
   ]
  },
  {
   "cell_type": "code",
   "execution_count": 33,
   "id": "8ae90bd9-baa1-4517-831d-a8874b11ecb1",
   "metadata": {},
   "outputs": [
    {
     "name": "stdout",
     "output_type": "stream",
     "text": [
      "6.176586413745064e-07 5.043161688627489e-10\n",
      "0.10132118364233779 151981.7754635067\n"
     ]
    }
   ],
   "source": [
    "deltac_list = []\n",
    "r_scale_l = []\n",
    "r_h = math.pi / kh_rh\n",
    "r_j = math.pi / kj_rh\n",
    "print(r_h, r_j)\n",
    "deltac_kj_rh = do_deltac(r_j, tl)\n",
    "deltac_kh_rh = do_deltac(r_h, tl)\n",
    "print(deltac_kh_rh, deltac_kj_rh)"
   ]
  },
  {
   "cell_type": "code",
   "execution_count": 34,
   "id": "a25a9d09-f7f4-4151-906e-4fdc64d2c0bd",
   "metadata": {},
   "outputs": [],
   "source": [
    "deltac_interp = np.interp(r_l, [r_j, r_h], [deltac_kj_rh, deltac_kh_rh])"
   ]
  },
  {
   "cell_type": "code",
   "execution_count": 35,
   "id": "647dd15b-7a54-42af-b75f-e83d105abb16",
   "metadata": {},
   "outputs": [
    {
     "name": "stdout",
     "output_type": "stream",
     "text": [
      "For var = 3.3404227072378134e-19, deltac = 151981.7754635067, beta = 0.0\n",
      "For var = 1.4694016119476724e-19, deltac = 151981.7754635067, beta = 0.0\n",
      "For var = 6.44344691163421e-20, deltac = 151981.7754635067, beta = 0.0\n",
      "For var = 2.8164932986382925e-20, deltac = 151981.7754635067, beta = 0.0\n",
      "For var = 1.2270636522156183e-20, deltac = 151981.7754635067, beta = 0.0\n",
      "For var = 5.327546242501701e-21, deltac = 151981.7754635067, beta = 0.0\n",
      "For var = 2.3046124231582507e-21, deltac = 151981.7754635067, beta = 0.0\n",
      "For var = 9.930180423452204e-22, deltac = 151981.7754635067, beta = 0.0\n",
      "For var = 4.260337187384e-22, deltac = 151981.7754635067, beta = 0.0\n",
      "For var = 1.819056393443388e-22, deltac = 151981.7754635067, beta = 0.0\n",
      "For var = 7.724702568406883e-23, deltac = 151981.7754635067, beta = 0.0\n",
      "For var = 3.2596468572631196e-23, deltac = 151981.7754635067, beta = 0.0\n",
      "For var = 1.3651740473984094e-23, deltac = 151981.7754635067, beta = 0.0\n",
      "For var = 5.6648420232657475e-24, deltac = 151981.7754635067, beta = 0.0\n",
      "For var = 2.323069993989637e-24, deltac = 151981.7754635067, beta = 0.0\n",
      "For var = 9.377167659619083e-25, deltac = 151981.7754635067, beta = 0.0\n",
      "For var = 3.7004685469141203e-25, deltac = 151981.7754635067, beta = 0.0\n",
      "For var = 1.4091400849233362e-25, deltac = 151981.7754635067, beta = 0.0\n",
      "For var = 5.023546022311512e-26, deltac = 151981.7754635067, beta = 0.0\n",
      "For var = 1.5102930724770812e-26, deltac = 151981.7754635067, beta = 0.0\n",
      "For var = 2.62654795289663e-27, deltac = 151981.7754635067, beta = 0.0\n",
      "For var = 3.359320048398531e-27, deltac = 151981.7754635067, beta = 0.0\n",
      "For var = 2.0278725922205106e-27, deltac = 151981.7754635067, beta = 0.0\n",
      "For var = 1.0804635250846893e-27, deltac = 151981.7754635067, beta = 0.0\n",
      "For var = 5.450766625892182e-28, deltac = 151981.7754635067, beta = 0.0\n",
      "For var = 2.6657053177988454e-28, deltac = 151981.7754635067, beta = 0.0\n",
      "For var = 1.2775046604728752e-28, deltac = 151981.7754635067, beta = 0.0\n",
      "For var = 6.03520310201639e-29, deltac = 151981.7754635067, beta = 0.0\n",
      "For var = 2.820278721313933e-29, deltac = 151981.7754635067, beta = 0.0\n",
      "For var = 1.307230557288021e-29, deltac = 151981.7754635067, beta = 0.0\n",
      "For var = 6.013773070063859e-30, deltac = 151894.0067389088, beta = 0.0\n",
      "For var = 2.7570460927760727e-30, deltac = 151739.88105212993, beta = 0.0\n",
      "For var = 1.2511404976366185e-30, deltac = 151473.6850180774, beta = 0.0\n",
      "For var = 5.748456807721888e-31, deltac = 151013.928244069, beta = 0.0\n",
      "For var = 2.5175092810270744e-31, deltac = 150219.86573296136, beta = 0.0\n",
      "For var = 1.245793962782049e-31, deltac = 148848.4117225088, beta = 0.0\n",
      "For var = 4.1346806795918314e-32, deltac = 146479.7240228935, beta = 0.0\n",
      "For var = 3.462197046793299e-32, deltac = 142388.67804136797, beta = 0.0\n",
      "For var = 1.5235409995452133e-32, deltac = 135322.8849333636, beta = 0.0\n",
      "For var = 1.496736466204968e-32, deltac = 123119.29874279641, beta = 0.0\n"
     ]
    }
   ],
   "source": [
    "for i,delta in enumerate(deltac_interp):\n",
    "    var = math.sqrt(var2_num_l[i])\n",
    "    beta = do_beta(var, delta)\n",
    "    print(f'For var = {var}, deltac = {delta}, beta = {beta}')"
   ]
  },
  {
   "cell_type": "code",
   "execution_count": null,
   "id": "2bf112b2-b022-4857-affe-f47156b196c4",
   "metadata": {},
   "outputs": [],
   "source": []
  },
  {
   "cell_type": "code",
   "execution_count": null,
   "id": "dc17064d",
   "metadata": {},
   "outputs": [],
   "source": []
  }
 ],
 "metadata": {
  "kernelspec": {
   "display_name": "numcosmo_developer_certo",
   "language": "python",
   "name": "numcosmo_developer_certo"
  },
  "language_info": {
   "codemirror_mode": {
    "name": "ipython",
    "version": 3
   },
   "file_extension": ".py",
   "mimetype": "text/x-python",
   "name": "python",
   "nbconvert_exporter": "python",
   "pygments_lexer": "ipython3",
   "version": "3.12.1"
  }
 },
 "nbformat": 4,
 "nbformat_minor": 5
}
