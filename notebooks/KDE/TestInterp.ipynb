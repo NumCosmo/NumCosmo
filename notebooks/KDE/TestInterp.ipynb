{
 "cells": [
  {
   "cell_type": "markdown",
   "metadata": {},
   "source": [
    "---\n",
    "**License**\n",
    "\n",
    " TestInterp\n",
    "\n",
    " Mon Jan 25 20:56:00 2020\\\n",
    " Copyright  2021\\\n",
    " Eduardo ...\\\n",
    " Sandro Dias Pinto Vitenti <vitenti@uel.br>\n",
    "\n",
    "---\n",
    "---\n",
    "\n",
    " TestInterp\\\n",
    " Copyright (C) 2021 Eduardo ...\\\n",
    " Copyright (C) 2021 Sandro Dias Pinto Vitenti <vitenti@uel.br>\n",
    "\n",
    "\n",
    " numcosmo is free software: you can redistribute it and/or modify it\n",
    " under the terms of the GNU General Public License as published by the\n",
    " Free Software Foundation, either version 3 of the License, or\n",
    " (at your option) any later version.\n",
    "\n",
    " numcosmo is distributed in the hope that it will be useful, but\n",
    " WITHOUT ANY WARRANTY; without even the implied warranty of\n",
    " MERCHANTABILITY or FITNESS FOR A PARTICULAR PURPOSE.\n",
    " See the GNU General Public License for more details.\n",
    "\n",
    " You should have received a copy of the GNU General Public License along\n",
    " with this program.  If not, see <http://www.gnu.org/licenses/>.\n",
    " \n",
    "---"
   ]
  },
  {
   "cell_type": "code",
   "execution_count": null,
   "metadata": {},
   "outputs": [],
   "source": [
    "try:\n",
    "  import gi\n",
    "  gi.require_version('NumCosmo', '1.0')\n",
    "  gi.require_version('NumCosmoMath', '1.0')\n",
    "except:\n",
    "  pass\n",
    "\n",
    "import sys\n",
    "import math\n",
    "import matplotlib as mpl\n",
    "import matplotlib.pyplot as plt\n",
    "import numpy as np\n",
    "import scipy.stats\n",
    "from scipy.optimize import minimize\n",
    "\n",
    "from gi.repository import NumCosmo as Nc\n",
    "from gi.repository import NumCosmoMath as Ncm\n",
    "%matplotlib inline"
   ]
  },
  {
   "cell_type": "code",
   "execution_count": null,
   "metadata": {},
   "outputs": [],
   "source": [
    "__name__ = \"NcContext\"\n",
    "\n",
    "Ncm.cfg_init ()\n",
    "Ncm.cfg_set_log_handler (lambda msg: sys.stdout.write (msg) and sys.stdout.flush ())"
   ]
  },
  {
   "cell_type": "code",
   "execution_count": null,
   "metadata": {},
   "outputs": [],
   "source": [
    "    dim = 5\n",
    "    np.random.seed(seed=123)\n",
    "\n",
    "    p = np.random.random_sample((dim,))\n",
    "    print (p)"
   ]
  },
  {
   "cell_type": "code",
   "execution_count": null,
   "metadata": {},
   "outputs": [],
   "source": [
    "rng = Ncm.RNG.seeded_new (None, 123)\n",
    "\n",
    "fmodel = Ncm.ModelMVND.new (dim)\n",
    "fdata = Ncm.DataGaussCovMVND.new_full (dim, 0.1, 0.4, 10.0, -1.0, 1.0, rng)\n",
    "\n",
    "fdata.props.use_norma = True\n",
    "\n",
    "mset = Ncm.MSet.new_array ([fmodel])\n",
    "mset.param_set_all_ftype (Ncm.ParamType.FREE)\n",
    "mset.prepare_fparam_map ()\n",
    "\n",
    "mset.fparams_set_array (p)\n",
    "mset.pretty_log ()"
   ]
  },
  {
   "cell_type": "code",
   "execution_count": null,
   "metadata": {},
   "outputs": [],
   "source": [
    "y_a = []\n",
    "x_a = []\n",
    "xn_a = []\n",
    "\n",
    "interp = Ncm.StatsDistNdVBKStudentt.new (len (p), Ncm.StatsDistNdCV.NONE, 3.0)\n",
    "#interp = Ncm.StatsDistNdKDEGauss.new (len (p), Ncm.StatsDistNdCV.NONE)\n",
    "nps = 500\n",
    "\n",
    "for a in range (nps):\n",
    "    v, N = fdata.gen (mset, None, None, rng)\n",
    "    interp.add_obs (v)\n",
    "    y_a.append (fdata.m2lnL_val (mset))\n",
    "    x_a.append (v.dup_array ())\n",
    "\n",
    "for a in range (nps):\n",
    "    v, N = fdata.gen (mset, None, None, rng)\n",
    "    xn_a.append (v.dup_array ())\n",
    "\n",
    "y_a = np.array (y_a)\n",
    "x_a = np.array (x_a)\n",
    "xn_a = np.array (xn_a)\n",
    "\n",
    "fdata.y.set_array (p)\n",
    "\n",
    "fdata.m2lnL_val (mset)"
   ]
  },
  {
   "cell_type": "code",
   "execution_count": null,
   "metadata": {},
   "outputs": [],
   "source": [
    "#interp.set_cv_type (Ncm.StatsDistNdCV.SPLIT_FITD)\n",
    "interp.set_cv_type (Ncm.StatsDistNdCV.NONE)\n",
    "interp.prepare_interp (Ncm.Vector.new_array (y_a))\n",
    "calib_os = interp.get_over_smooth ()\n",
    "\n",
    "print (interp.get_rnorm (), calib_os)\n",
    "\n",
    "\n"
   ]
  },
  {
   "cell_type": "code",
   "execution_count": null,
   "metadata": {},
   "outputs": [],
   "source": [
    "print (calib_os)"
   ]
  },
  {
   "cell_type": "code",
   "execution_count": null,
   "metadata": {},
   "outputs": [],
   "source": [
    "#interp.set_over_smooth (calib_os)\n",
    "#interp.prepare_interp (Ncm.Vector.new_array (y_a))"
   ]
  },
  {
   "cell_type": "code",
   "execution_count": null,
   "metadata": {},
   "outputs": [],
   "source": [
    "       \n",
    "yi_a = []\n",
    "ya_a = []\n",
    "yi_b = []\n",
    "\n",
    "for x in xn_a:\n",
    "    mset.fparams_set_array (x)\n",
    "    fdata.prepare (mset)\n",
    "    yi_a.append (interp.eval_m2lnp (Ncm.Vector.new_array (x)))\n",
    "    ya_a.append (fdata.m2lnL_val (mset))\n",
    "\n",
    "yi_a = np.array (yi_a)\n",
    "ya_a = np.array (ya_a)\n",
    "\n",
    "m = -np.mean (yi_a - ya_a)\n",
    "diff = (yi_a + m) / ya_a - 1.0\n",
    "\n",
    "probs = np.minimum(np.exp (-0.5*((yi_a[0::2]-ya_a[0::2])-(yi_a[1::2]-ya_a[1::2]))), 1.0)\n",
    "bfact = np.abs(np.exp (-0.5*((yi_a[0::2]-ya_a[0::2])-(yi_a[1::2]-ya_a[1::2])))-1.0)\n",
    "\n",
    "mean_err = 10**(np.mean (np.log10 (np.abs (diff))))\n",
    "\n",
    "print (\"mean error  %.2e\" % (mean_err))\n",
    "print (\"Prob accept %.1f%%\" % (100.0 * np.mean (probs)))\n",
    "\n",
    "plt.figure (figsize=(14, 7))\n",
    "\n",
    "plt.hist (probs, label='prob', bins = 60, density=True)\n",
    "plt.grid ()\n",
    "plt.legend(loc='best')\n",
    "plt.show ()\n",
    "\n",
    "plt.figure (figsize=(14, 7))\n",
    "\n",
    "plt.hist (np.log10 (np.abs (diff)), bins = 60, label=r'$|y_i/y_a - 1|$')\n",
    "plt.grid ()\n",
    "plt.legend(loc='best')\n",
    "plt.show ()\n",
    "\n",
    "plt.figure (figsize=(14, 7))\n",
    "plt.hist ((yi_a - ya_a), label='diff', bins = 60, density=True)"
   ]
  },
  {
   "cell_type": "code",
   "execution_count": null,
   "metadata": {},
   "outputs": [],
   "source": []
  }
 ],
 "metadata": {
  "kernelspec": {
   "display_name": "Python 3",
   "language": "python",
   "name": "python3"
  },
  "language_info": {
   "codemirror_mode": {
    "name": "ipython",
    "version": 3
   },
   "file_extension": ".py",
   "mimetype": "text/x-python",
   "name": "python",
   "nbconvert_exporter": "python",
   "pygments_lexer": "ipython3"
  }
 },
 "nbformat": 4,
 "nbformat_minor": 2
}
