{
 "cells": [
  {
   "cell_type": "markdown",
   "metadata": {},
   "source": [
    "---\n",
    "**License**\n",
    "\n",
    " TestInterp\n",
    "\n",
    " Mon Jan 25 20:56:00 2020\\\n",
    " Copyright  2021\\\n",
    " Eduardo ...\\\n",
    " Sandro Dias Pinto Vitenti <vitenti@uel.br>\n",
    "\n",
    "---\n",
    "---\n",
    "\n",
    " TestInterp\\\n",
    " Copyright (C) 2021 Eduardo ...\\\n",
    " Copyright (C) 2021 Sandro Dias Pinto Vitenti <vitenti@uel.br>\n",
    "\n",
    "\n",
    " numcosmo is free software: you can redistribute it and/or modify it\n",
    " under the terms of the GNU General Public License as published by the\n",
    " Free Software Foundation, either version 3 of the License, or\n",
    " (at your option) any later version.\n",
    "\n",
    " numcosmo is distributed in the hope that it will be useful, but\n",
    " WITHOUT ANY WARRANTY; without even the implied warranty of\n",
    " MERCHANTABILITY or FITNESS FOR A PARTICULAR PURPOSE.\n",
    " See the GNU General Public License for more details.\n",
    "\n",
    " You should have received a copy of the GNU General Public License along\n",
    " with this program.  If not, see <http://www.gnu.org/licenses/>.\n",
    " \n",
    "---"
   ]
  },
  {
   "cell_type": "code",
   "execution_count": 1,
   "metadata": {},
   "outputs": [],
   "source": [
    "try:\n",
    "  import gi\n",
    "  gi.require_version('NumCosmo', '1.0')\n",
    "  gi.require_version('NumCosmoMath', '1.0')\n",
    "except:\n",
    "  pass\n",
    "\n",
    "import sys\n",
    "import math\n",
    "import matplotlib as mpl\n",
    "import matplotlib.pyplot as plt\n",
    "import numpy as np\n",
    "import scipy.stats\n",
    "\n",
    "from gi.repository import NumCosmo as Nc\n",
    "from gi.repository import NumCosmoMath as Ncm\n",
    "%matplotlib inline"
   ]
  },
  {
   "cell_type": "code",
   "execution_count": 2,
   "metadata": {},
   "outputs": [],
   "source": [
    "__name__ = \"NcContext\"\n",
    "\n",
    "Ncm.cfg_init ()\n",
    "Ncm.cfg_set_log_handler (lambda msg: sys.stdout.write (msg) and sys.stdout.flush ())"
   ]
  },
  {
   "cell_type": "code",
   "execution_count": 3,
   "metadata": {},
   "outputs": [
    {
     "name": "stdout",
     "output_type": "stream",
     "text": [
      "[0.19459206 0.50683207 0.35338207 0.74751732 0.38665333 0.0312701\n",
      " 0.96309967 0.41664756 0.04411377 0.90596117 0.18627476 0.80279559\n",
      " 0.72942675 0.12979651 0.36379053 0.27702819 0.45697972 0.19396133\n",
      " 0.78376666 0.82718774]\n"
     ]
    }
   ],
   "source": [
    "dim = 20\n",
    "p = np.random.random_sample((dim,))\n",
    "print (p)"
   ]
  },
  {
   "cell_type": "code",
   "execution_count": 4,
   "metadata": {},
   "outputs": [
    {
     "name": "stdout",
     "output_type": "stream",
     "text": [
      "#----------------------------------------------------------------------------------\n",
      "# Model[00000]:\n",
      "#   - NcmModelMVND : MVND\n",
      "#----------------------------------------------------------------------------------\n",
      "# Model parameters\n",
      "#   -  mu_0[00]:  0.194592064890647   [FREE]\n",
      "#   -  mu_1[01]:  0.5068320679751     [FREE]\n",
      "#   -  mu_2[02]:  0.353382065185798   [FREE]\n",
      "#   -  mu_3[03]:  0.74751732099736    [FREE]\n",
      "#   -  mu_4[04]:  0.386653327947842   [FREE]\n",
      "#   -  mu_5[05]:  0.0312701012203526  [FREE]\n",
      "#   -  mu_6[06]:  0.963099665919059   [FREE]\n",
      "#   -  mu_7[07]:  0.416647563371957   [FREE]\n",
      "#   -  mu_8[08]:  0.0441137684078027  [FREE]\n",
      "#   -  mu_9[09]:  0.905961170420766   [FREE]\n",
      "#   - mu_10[10]:  0.186274762551146   [FREE]\n",
      "#   - mu_11[11]:  0.802795588687904   [FREE]\n",
      "#   - mu_12[12]:  0.729426754808311   [FREE]\n",
      "#   - mu_13[13]:  0.129796513064303   [FREE]\n",
      "#   - mu_14[14]:  0.363790525619304   [FREE]\n",
      "#   - mu_15[15]:  0.277028190038865   [FREE]\n",
      "#   - mu_16[16]:  0.456979720901271   [FREE]\n",
      "#   - mu_17[17]:  0.193961331251375   [FREE]\n",
      "#   - mu_18[18]:  0.783766658293381   [FREE]\n",
      "#   - mu_19[19]:  0.82718774453208    [FREE]\n"
     ]
    }
   ],
   "source": [
    "rng = Ncm.RNG.new (None)\n",
    "\n",
    "fmodel = Ncm.ModelMVND.new (dim)\n",
    "fdata = Ncm.DataGaussCovMVND.new_full (dim, 0.1, 0.4, 10.0, -1.0, 1.0, rng)\n",
    "fdata.props.use_norma = True\n",
    "\n",
    "mset = Ncm.MSet.new_array ([fmodel])\n",
    "mset.param_set_all_ftype (Ncm.ParamType.FREE)\n",
    "mset.prepare_fparam_map ()\n",
    "\n",
    "mset.fparams_set_array (p)\n",
    "mset.pretty_log ()"
   ]
  },
  {
   "cell_type": "code",
   "execution_count": 5,
   "metadata": {},
   "outputs": [
    {
     "data": {
      "text/plain": [
       "-34.47593073502856"
      ]
     },
     "execution_count": 5,
     "metadata": {},
     "output_type": "execute_result"
    }
   ],
   "source": [
    "y_a = []\n",
    "x_a = []\n",
    "xn_a = []\n",
    "\n",
    "interp = Ncm.StatsDistNdKDEGauss.new (len (p), False)\n",
    "\n",
    "for a in range (5000):\n",
    "    v, N = fdata.gen (mset, None, None, rng)\n",
    "    interp.add_obs (v)\n",
    "    y_a.append (fdata.m2lnL_val (mset))\n",
    "    x_a.append (v.dup_array ())\n",
    "\n",
    "for a in range (5000):\n",
    "    v, N = fdata.gen (mset, None, None, rng)\n",
    "    xn_a.append (v.dup_array ())\n",
    "\n",
    "y_a = np.array (y_a)\n",
    "x_a = np.array (x_a)\n",
    "xn_a = np.array (xn_a)\n",
    "\n",
    "fdata.y.set_array (p)\n",
    "\n",
    "fdata.m2lnL_val (mset)"
   ]
  },
  {
   "cell_type": "code",
   "execution_count": 6,
   "metadata": {},
   "outputs": [],
   "source": [
    "#interp.prepare ()\n",
    "interp.prepare_interp (Ncm.Vector.new_array (y_a))"
   ]
  },
  {
   "cell_type": "code",
   "execution_count": 7,
   "metadata": {},
   "outputs": [
    {
     "data": {
      "image/png": "[encoded data removed]",
      "text/plain": [
       "<Figure size 1008x504 with 1 Axes>"
      ]
     },
     "metadata": {
      "needs_background": "light"
     },
     "output_type": "display_data"
    }
   ],
   "source": [
    "yi_a = []\n",
    "ya_a = []\n",
    "\n",
    "for x in x_a:\n",
    "    mset.fparams_set_array (x)\n",
    "    fdata.prepare (mset)\n",
    "    yi_a.append (interp.eval_m2lnp (Ncm.Vector.new_array (x)))\n",
    "    ya_a.append (fdata.m2lnL_val (mset))\n",
    "\n",
    "yi_a = np.array (yi_a)\n",
    "ya_a = np.array (ya_a)\n",
    "\n",
    "diff = yi_a - ya_a\n",
    "\n",
    "norm, cont = scipy.stats.mode (diff)\n",
    "\n",
    "plt.figure (figsize=(14, 7))\n",
    "bla = plt.hist(np.abs(diff), bins = 60)"
   ]
  },
  {
   "cell_type": "code",
   "execution_count": 14,
   "metadata": {},
   "outputs": [
    {
     "name": "stdout",
     "output_type": "stream",
     "text": [
      "[0.54937922 0.73888531 0.72892364 ... 1.91940115 0.96602767 0.53689978]\n",
      "12.6\n"
     ]
    }
   ],
   "source": [
    "yi_a = []\n",
    "ya_a = []\n",
    "\n",
    "for x in xn_a:\n",
    "    mset.fparams_set_array (x)\n",
    "    fdata.prepare (mset)\n",
    "    yi_a.append (interp.eval_m2lnp (Ncm.Vector.new_array (x)))\n",
    "    ya_a.append (fdata.m2lnL_val (mset))\n",
    "\n",
    "yi_a = np.array (yi_a) + (norm[0])\n",
    "ya_a = np.array (ya_a)\n",
    "\n",
    "diff = yi_a - ya_a\n",
    "reldiff = np.abs (diff / ya_a)\n",
    "\n",
    "print (reldiff)\n",
    "\n",
    "#print (ya_a)\n",
    "#print (yi_a)\n",
    "\n",
    "print (np.sum ((reldiff < 0.5)/len(reldiff))*100.0)\n"
   ]
  },
  {
   "cell_type": "code",
   "execution_count": 9,
   "metadata": {},
   "outputs": [
    {
     "data": {
      "image/png": "[encoded data removed]",
      "text/plain": [
       "<Figure size 1008x504 with 1 Axes>"
      ]
     },
     "metadata": {
      "needs_background": "light"
     },
     "output_type": "display_data"
    }
   ],
   "source": [
    "plt.figure (figsize=(14, 7))\n",
    "bla = plt.hist(np.log10 (reldiff), bins = np.linspace (-1,1,60))"
   ]
  },
  {
   "cell_type": "code",
   "execution_count": null,
   "metadata": {},
   "outputs": [],
   "source": []
  }
 ],
 "metadata": {
  "kernelspec": {
   "display_name": "Python 3",
   "language": "python",
   "name": "python3"
  },
  "language_info": {
   "codemirror_mode": {
    "name": "ipython",
    "version": 3
   },
   "file_extension": ".py",
   "mimetype": "text/x-python",
   "name": "python",
   "nbconvert_exporter": "python",
   "pygments_lexer": "ipython3",
   "version": "3.9.1"
  }
 },
 "nbformat": 4,
 "nbformat_minor": 2
}
