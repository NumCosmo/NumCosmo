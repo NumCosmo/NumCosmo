{
 "cells": [
  {
   "cell_type": "code",
   "execution_count": 2,
   "metadata": {},
   "outputs": [],
   "source": [
    "#!/usr/bin/env python\n",
    "\n",
    "import math\n",
    "import healpy as hp\n",
    "from classy import Class\n",
    "from scipy.stats import norm\n",
    "import numpy as np\n",
    "import sys\n",
    "sys.path.insert(1, '../../../Programas_Cosmologia/PySSC/')\n",
    "sys.path.insert(1, '../../../Programas_Cosmologia/CLASS/')\n",
    "import PySSC\n",
    "import ncounts_gauss_SSC\n",
    "try:\n",
    "    import gi\n",
    "\n",
    "    gi.require_version('NumCosmo', '1.0')\n",
    "    gi.require_version('NumCosmoMath', '1.0')\n",
    "except:\n",
    "    pass\n",
    "from gi.repository import GObject\n",
    "from gi.repository import NumCosmo as Nc\n",
    "from gi.repository import NumCosmoMath as Ncm\n",
    "\n",
    "Ncm.cfg_init()\n",
    "Ncm.cfg_set_log_handler (lambda msg: sys.stdout.write (msg) and sys.stdout.flush ())\n"
   ]
  },
  {
   "attachments": {},
   "cell_type": "markdown",
   "metadata": {},
   "source": [
    "# Initialize the `Cosmological model`"
   ]
  },
  {
   "cell_type": "code",
   "execution_count": 4,
   "metadata": {},
   "outputs": [
    {
     "name": "stdout",
     "output_type": "stream",
     "text": [
      "0.82505858 0.8900071895091025 -9.085228043836935e-05\n",
      "0.82505858 0.82505858\n"
     ]
    }
   ],
   "source": [
    "cosmo = Nc.HICosmoDEXcdm()\n",
    "cosmo.props.H0  =  67.81\n",
    "cosmo.props.Omegac  =  0.2612\n",
    "cosmo.props.Omegab =  0.0486\n",
    "cosmo.props.Omegax = 1 - 0.0486 -  0.2612\n",
    "cosmo.props.w = -1.0\n",
    "\n",
    "\n",
    "reion = Nc.HIReionCamb.new () \n",
    "prim = Nc.HIPrimPowerLaw.new () \n",
    "\n",
    "\n",
    "\n",
    "cosmo.add_submodel (reion)\n",
    "cosmo.add_submodel (prim)\n",
    "\n",
    "dist = Nc.Distance.new (2.0)\n",
    "\n",
    "tf = Nc.TransferFunc.new_from_name (\"NcTransferFuncEH\")\n",
    "\n",
    "psml = Nc.PowspecMLTransfer.new (tf)\n",
    "psml.require_kmin (1.0e-6)\n",
    "psml.require_kmax (1.0e3)\n",
    "\n",
    "psf = Ncm.PowspecFilter.new (psml, Ncm.PowspecFilterType.TOPHAT)\n",
    "psf.set_best_lnr0 ()\n",
    "prim.props.n_SA = 0.9660\n",
    "print(0.82505858,cosmo.sigma8(psf),cosmo.Omega_k0())\n",
    "\n",
    "old_amplitude = math.exp (prim.props.ln10e10ASA)\n",
    "prim.props.ln10e10ASA = math.log ((0.82505858/ cosmo.sigma8(psf))**2 * old_amplitude)\n",
    "print(0.82505858, cosmo.sigma8(psf))\n",
    "\n",
    "z_obs_bins  = Ncm.Vector.new_array(np.linspace(0.1,1.8,3))\n",
    "lnM_obs_bins = Ncm.Vector.new_array(np.linspace(np.log(10)*13.0,np.log(10)*15, 2))"
   ]
  },
  {
   "attachments": {},
   "cell_type": "markdown",
   "metadata": {},
   "source": [
    "# Construct the $S_{ij}$  Matrix"
   ]
  },
  {
   "attachments": {},
   "cell_type": "markdown",
   "metadata": {},
   "source": [
    "`kernel and masks`"
   ]
  },
  {
   "cell_type": "code",
   "execution_count": 8,
   "metadata": {},
   "outputs": [
    {
     "name": "stdout",
     "output_type": "stream",
     "text": [
      "[0.         0.         0.         0.         0.         0.\n",
      " 0.         0.         0.         0.         0.         0.\n",
      " 0.         0.         0.         0.         0.         0.\n",
      " 0.         0.         0.         1.17647059 1.17647059 1.17647059\n",
      " 1.17647059 1.17647059 1.17647059 1.17647059 1.17647059 1.17647059\n",
      " 1.17647059 1.17647059 1.17647059 1.17647059 1.17647059 1.17647059\n",
      " 1.17647059 1.17647059 1.17647059 1.17647059 1.17647059 1.17647059\n",
      " 1.17647059 1.17647059 1.17647059 1.17647059 1.17647059 1.17647059\n",
      " 1.17647059 1.17647059 1.17647059 1.17647059 1.17647059 1.17647059\n",
      " 1.17647059 1.17647059 1.17647059 1.17647059 1.17647059 1.17647059\n",
      " 1.17647059 1.17647059 1.17647059 1.17647059 1.17647059 1.17647059\n",
      " 1.17647059 1.17647059 1.17647059 1.17647059 1.17647059 1.17647059\n",
      " 1.17647059 1.17647059 1.17647059 1.17647059 1.17647059 1.17647059\n",
      " 1.17647059 1.17647059 1.17647059 1.17647059 1.17647059 1.17647059\n",
      " 1.17647059 1.17647059 1.17647059 1.17647059 1.17647059 1.17647059\n",
      " 1.17647059 1.17647059 1.17647059 1.17647059 1.17647059 1.17647059\n",
      " 1.17647059 1.17647059 1.17647059 1.17647059 1.17647059 1.17647059\n",
      " 1.17647059 1.17647059 1.17647059 1.17647059 1.17647059 1.17647059\n",
      " 1.17647059 1.17647059 1.17647059 1.17647059 1.17647059 1.17647059\n",
      " 1.17647059 1.17647059 1.17647059 1.17647059 1.17647059 1.17647059\n",
      " 1.17647059 1.17647059 1.17647059 1.17647059 1.17647059 1.17647059\n",
      " 1.17647059 1.17647059 1.17647059 1.17647059 1.17647059 1.17647059\n",
      " 1.17647059 1.17647059 1.17647059 1.17647059 1.17647059 1.17647059\n",
      " 1.17647059 1.17647059 1.17647059 1.17647059 1.17647059 1.17647059\n",
      " 1.17647059 1.17647059 1.17647059 1.17647059 1.17647059 1.17647059\n",
      " 1.17647059 1.17647059 1.17647059 1.17647059 1.17647059 1.17647059\n",
      " 1.17647059 1.17647059 1.17647059 1.17647059 1.17647059 1.17647059\n",
      " 1.17647059 1.17647059 1.17647059 1.17647059 1.17647059 1.17647059\n",
      " 1.17647059 1.17647059 1.17647059 1.17647059 1.17647059 1.17647059\n",
      " 1.17647059 1.17647059 1.17647059 1.17647059 1.17647059 1.17647059\n",
      " 1.17647059 1.17647059 1.17647059 1.17647059 1.17647059 1.17647059\n",
      " 1.17647059 1.17647059 1.17647059 1.17647059 1.17647059 1.17647059\n",
      " 1.17647059 1.17647059 1.17647059 1.17647059 1.17647059 1.17647059\n",
      " 1.17647059 1.17647059 0.         0.         0.         0.\n",
      " 0.         0.         0.         0.         0.         0.\n",
      " 0.         0.         0.         0.         0.         0.\n",
      " 0.         0.         0.         0.         0.         0.\n",
      " 0.         0.         0.         0.         0.         0.\n",
      " 0.         0.         0.         0.         0.         0.\n",
      " 0.         0.         0.         0.         0.         0.\n",
      " 0.         0.         0.         0.         0.         0.\n",
      " 0.         0.         0.         0.         0.         0.\n",
      " 0.         0.         0.         0.         0.         0.\n",
      " 0.         0.         0.         0.         0.         0.\n",
      " 0.         0.         0.         0.         0.         0.\n",
      " 0.         0.         0.         0.         0.         0.\n",
      " 0.         0.         0.         0.         0.         0.\n",
      " 0.         0.         0.         0.         0.         0.\n",
      " 0.         0.         0.         0.         0.         0.\n",
      " 0.         0.         0.         0.         0.         0.\n",
      " 0.         0.         0.         0.         0.         0.\n",
      " 0.         0.         0.         0.         0.         0.\n",
      " 0.         0.         0.         0.         0.         0.\n",
      " 0.         0.         0.         0.         0.         0.\n",
      " 0.         0.         0.         0.         0.         0.\n",
      " 0.         0.         0.         0.         0.         0.\n",
      " 0.         0.         0.         0.         0.         0.\n",
      " 0.         0.         0.         0.         0.         0.\n",
      " 0.         0.         0.         0.         0.         0.\n",
      " 0.         0.         0.         0.         0.         0.\n",
      " 0.         0.         0.         0.         0.         0.\n",
      " 0.         0.         0.         0.         0.         0.\n",
      " 0.         0.         0.         0.         0.         0.\n",
      " 0.         0.         0.         0.         0.         0.\n",
      " 0.         0.         0.         0.         0.         0.\n",
      " 0.         0.         0.         0.         0.         0.\n",
      " 0.         0.         0.         0.        ]\n"
     ]
    }
   ],
   "source": [
    "nz       = 400\n",
    "z_arr    = np.linspace(0,1.9,num=nz+1)[1:]\n",
    "\n",
    "\n",
    "nbins_T   = z_obs_bins.len() -1\n",
    "\n",
    "\n",
    "kernels_T = np.zeros((nbins_T,nz))\n",
    "for i in range(nbins_T):\n",
    "    zminbin = z_obs_bins.get(i) ; zmaxbin = z_obs_bins.get(i+1) ; Dz = zmaxbin-zminbin\n",
    "    for iz in range(nz):\n",
    "        z = z_arr[iz]\n",
    "        if ((z>zminbin) and (z<=zmaxbin)):\n",
    "            kernels_T[i,iz] = 1/Dz\n",
    "\n",
    "\n",
    "\n",
    "\n",
    "NSIDE = 2*512\n",
    "NPIX = hp.nside2npix(NSIDE)\n",
    "m = np.zeros(hp.nside2npix(NSIDE))\n",
    "pix_theta_ecl, pix_phi_ecl = hp.pix2ang(NSIDE, np.arange(NPIX))\n",
    "\n",
    "#Guaranteed mask\n",
    "mask1_guaranteed = np.zeros(NPIX)\n",
    "mask2_guaranteed = np.zeros(NPIX)\n",
    "mask3_guaranteed = np.zeros(NPIX)\n",
    "\n",
    "mask1_guaranteed_condition = (pix_phi_ecl > 3.*np.pi/4.) & (pix_phi_ecl < 13.*np.pi/12.) & (pix_theta_ecl < np.pi/2. - 30.*np.pi/180) & (pix_theta_ecl > np.pi/2. - 80.*np.pi/180)\n",
    "mask2_guaranteed_condition = (pix_phi_ecl > 11.*np.pi/6.) & (pix_theta_ecl < np.pi/2. - 20.*np.pi/180) & (pix_theta_ecl > np.pi/2. - 40.*np.pi/180)\n",
    "mask3_guaranteed_condition = (pix_phi_ecl < np.pi/4.) & (pix_theta_ecl < np.pi/2. - 20.*np.pi/180) & (pix_theta_ecl > np.pi/2. - 40.*np.pi/180)\n",
    "\n",
    "mask1_guaranteed[mask1_guaranteed_condition] = 1\n",
    "mask2_guaranteed[mask2_guaranteed_condition] = 1\n",
    "mask3_guaranteed[mask3_guaranteed_condition] = 1\n",
    "\n",
    "mask_guaranteed = mask1_guaranteed + mask2_guaranteed + mask3_guaranteed\n",
    "\n",
    "#Total mask\n",
    "mask1_full = np.zeros(NPIX)\n",
    "mask2_full = np.zeros(NPIX)\n",
    "mask3_full = np.zeros(NPIX)\n",
    "\n",
    "mask1_full_condition = (pix_phi_ecl > 2.*np.pi/3.) & (pix_phi_ecl < 3.*np.pi/2.) & (pix_theta_ecl < np.pi/2. - 10.*np.pi/180) & (pix_theta_ecl > np.pi/2. - 80.*np.pi/180)\n",
    "mask2_full_condition = (pix_phi_ecl > 11.*np.pi/6.) & (pix_theta_ecl < np.pi/2.) & (pix_theta_ecl > np.pi/2. - 45.*np.pi/180)\n",
    "mask3_full_condition = (pix_phi_ecl < np.pi/4.) & (pix_theta_ecl < np.pi/2.) & (pix_theta_ecl > np.pi/2. - 45.*np.pi/180)\n",
    "\n",
    "mask1_full[mask1_full_condition] = 1\n",
    "mask2_full[mask2_full_condition] = 1\n",
    "mask3_full[mask3_full_condition] = 1\n",
    "\n",
    "mask_full = mask1_full + mask2_full + mask3_full\n",
    "\n",
    "\n",
    "\n",
    "\n"
   ]
  },
  {
   "attachments": {},
   "cell_type": "markdown",
   "metadata": {},
   "source": [
    "# Define proxy modelling\n"
   ]
  },
  {
   "cell_type": "code",
   "execution_count": null,
   "metadata": {},
   "outputs": [],
   "source": [
    "cluster_m = Nc.ClusterMass.new_from_name(\"NcClusterMassNodist{'lnM-min':<%20.15e>, 'lnM-max':<%20.15e>}\" % (math.log(10)*np.log10(1e14),math.log(10)*np.log10(1e16)))\n",
    "cluster_z = Nc.ClusterRedshift.new_from_name(\"NcClusterRedshiftNodist{'z-min': <%20.15e>, 'z-max':<%20.15e>}\" % (0.25,2))"
   ]
  },
  {
   "attachments": {},
   "cell_type": "markdown",
   "metadata": {},
   "source": [
    "# Initialize the `ClusterAbundance` object"
   ]
  },
  {
   "cell_type": "code",
   "execution_count": null,
   "metadata": {},
   "outputs": [],
   "source": [
    "mulf = Nc.MultiplicityFuncTinker.new ()\n",
    "mulf.set_mdef (Nc.MultiplicityFuncMassDef.CRITICAL)\n",
    "mulf.set_Delta (200.0)\n",
    "\n",
    "hmf = Nc.HaloMassFunction.new (dist, psf, mulf)\n",
    "hbias_Tinker = Nc.HaloBiasTinker.new(hmf)\n",
    "ca = Nc.ClusterAbundance.new(hmf,hbias_Tinker)"
   ]
  },
  {
   "attachments": {},
   "cell_type": "markdown",
   "metadata": {},
   "source": [
    "# Data model\n",
    "\n",
    "$f(x_i)$ for the Gaussian distribution $$-2\\ln L = \\sum_{ij}\\left[(f(x_i) - y_i)C^{-1}_{ij}(f(x_j) - y_j)\\right] + \\dots$$"
   ]
  },
  {
   "cell_type": "code",
   "execution_count": null,
   "metadata": {},
   "outputs": [
    {
     "ename": "NameError",
     "evalue": "name 'S' is not defined",
     "output_type": "error",
     "traceback": [
      "\u001b[0;31m---------------------------------------------------------------------------\u001b[0m",
      "\u001b[0;31mNameError\u001b[0m                                 Traceback (most recent call last)",
      "\u001b[0;32m/tmp/ipykernel_48675/3570313401.py\u001b[0m in \u001b[0;36m<module>\u001b[0;34m\u001b[0m\n\u001b[1;32m      6\u001b[0m \u001b[0mgauss\u001b[0m\u001b[0;34m.\u001b[0m\u001b[0mset_lnM_obs_bins\u001b[0m\u001b[0;34m(\u001b[0m\u001b[0mlnM_obs_bins\u001b[0m\u001b[0;34m)\u001b[0m\u001b[0;34m\u001b[0m\u001b[0;34m\u001b[0m\u001b[0m\n\u001b[1;32m      7\u001b[0m \u001b[0mgauss\u001b[0m\u001b[0;34m.\u001b[0m\u001b[0mset_cad\u001b[0m\u001b[0;34m(\u001b[0m\u001b[0mca\u001b[0m\u001b[0;34m)\u001b[0m\u001b[0;34m\u001b[0m\u001b[0;34m\u001b[0m\u001b[0m\n\u001b[0;32m----> 8\u001b[0;31m \u001b[0mgauss\u001b[0m\u001b[0;34m.\u001b[0m\u001b[0mset_S\u001b[0m\u001b[0;34m(\u001b[0m\u001b[0mS\u001b[0m\u001b[0;34m)\u001b[0m\u001b[0;34m\u001b[0m\u001b[0;34m\u001b[0m\u001b[0m\n\u001b[0m\u001b[1;32m      9\u001b[0m \u001b[0;34m\u001b[0m\u001b[0m\n\u001b[1;32m     10\u001b[0m \u001b[0;34m\u001b[0m\u001b[0m\n",
      "\u001b[0;31mNameError\u001b[0m: name 'S' is not defined"
     ]
    }
   ],
   "source": [
    "mset = Ncm.MSet.new_array([cosmo,cluster_m,cluster_z])\n",
    "\n",
    "\n",
    "gauss = ncounts_gauss_SSC.ncounts(len = (z_obs_bins.len()-1)* (lnM_obs_bins.len()-1))\n",
    "gauss.set_z_obs_bins(z_obs_bins)\n",
    "gauss.set_lnM_obs_bins(lnM_obs_bins)"
   ]
  },
  {
   "attachments": {},
   "cell_type": "markdown",
   "metadata": {},
   "source": [
    "# Creating the fit object and calculating the Fisher Matrix"
   ]
  },
  {
   "attachments": {},
   "cell_type": "markdown",
   "metadata": {},
   "source": [
    "`Full-Sky`"
   ]
  },
  {
   "cell_type": "code",
   "execution_count": null,
   "metadata": {},
   "outputs": [
    {
     "ename": "",
     "evalue": "",
     "output_type": "error",
     "traceback": [
      "\u001b[1;31mA execução de células com '/bin/python' requer o pacote ipykernel.\n",
      "\u001b[1;31mRun the following command to install 'ipykernel' into the Python environment. \n",
      "\u001b[1;31mCommand: '/bin/python -m pip install ipykernel -U --user --force-reinstall'"
     ]
    }
   ],
   "source": [
    "print('Full Sky')\n",
    "guaranteed_area = 2959.1\n",
    "ca.set_area(guaranteed_area*(np.pi/180)**2)\n",
    "gauss.set_kernel(kernels_T)\n",
    "gauss.set_cad(ca)\n",
    "\n",
    "\n",
    "rng = Ncm.RNG.seeded_new (None, 12)\n",
    "\n",
    "gauss.do_cov_func(mset, rng)\n",
    "gauss.resample(mset, rng)\n",
    "dset = Ncm.Dataset.new()\n",
    "dset.append_data(gauss)\n",
    "\n",
    "\n",
    "cosmo.props.Omegac_fit = True\n",
    "cosmo.props.Omegab_fit    = False\n",
    "#cosmo.props.w_fit = True\n",
    "cosmo.props.H0_fit = True\n",
    "#prim.props.ln10e10ASA_fit = True\n",
    "mfunc_oa = Ncm.ObjArray.new ()\n",
    "mfunc_sigma8 = Ncm.MSetFuncList.new (\"NcHICosmo:sigma8\", psf)\n",
    "mfunc_oa.add (mfunc_sigma8) \n",
    "print (mfunc_sigma8.eval0 (mset))\n",
    "\n",
    "mset.prepare_fparam_map ()\n",
    "#gauss.do_cov_func(mset,rng)\n",
    "\n",
    "lh = Ncm.Likelihood.new (dset)\n",
    "\n",
    "fit = Ncm.Fit.new (Ncm.FitType.NLOPT, \"ln-neldermead\", lh, mset,  Ncm.FitGradType.NUMDIFF_FORWARD)\n",
    "\n",
    "\n",
    "gauss.y.log_vals(\"y: \", \"%.3f\", True)\n",
    "gauss.cov.log_vals(\"cov:\", \"%.3f\")\n",
    "\n",
    "fit.log_info()\n",
    "fit.fisher()\n",
    "fit.log_covar ()\n"
   ]
  },
  {
   "attachments": {},
   "cell_type": "markdown",
   "metadata": {},
   "source": [
    "`Partial-Sky guaranteed`"
   ]
  },
  {
   "cell_type": "code",
   "execution_count": null,
   "metadata": {},
   "outputs": [],
   "source": [
    "print('Partial Sky guaranteed area')\n",
    "guaranteed_area = 2959.1\n",
    "ca.set_area(guaranteed_area*(np.pi/180)**2)\n",
    "gauss.set_kernel(kernels_T)\n",
    "gauss.set_mask(mask_guaranteed)\n",
    "gauss.set_cad(ca)\n",
    "\n",
    "rng = Ncm.RNG.seeded_new (None, 123)\n",
    "gauss.resample (mset, rng)\n",
    "\n",
    "dset = Ncm.Dataset.new()\n",
    "dset.append_data(gauss)\n",
    "\n",
    "cosmo.props.Omegac_fit = True\n",
    "cosmo.props.Omegab_fit    = False\n",
    "#cosmo.props.w_fit = True\n",
    "#cosmo.props.H0_fit = True\n",
    "prim.props.ln10e10ASA_fit = True\n",
    "mfunc_oa = Ncm.ObjArray.new ()\n",
    "mfunc_sigma8 = Ncm.MSetFuncList.new (\"NcHICosmo:sigma8\", psf)\n",
    "mfunc_oa.add (mfunc_sigma8) \n",
    "print (mfunc_sigma8.eval0 (mset))\n",
    "\n",
    "mset.prepare_fparam_map ()\n",
    "#gauss.do_cov_func(mset)\n",
    "\n",
    "lh = Ncm.Likelihood.new (dset)\n",
    "\n",
    "fit = Ncm.Fit.new (Ncm.FitType.NLOPT, \"ln-neldermead\", lh, mset,  Ncm.FitGradType.NUMDIFF_FORWARD)\n",
    "\n",
    "\n",
    "gauss.y.log_vals(\"y: \", \"%.3f\", True)\n",
    "gauss.cov.log_vals(\"cov:\", \"%.3f\")\n",
    "\n",
    "fit.log_info()\n",
    "fit.fisher()\n",
    "fit.log_covar ()\n"
   ]
  },
  {
   "attachments": {},
   "cell_type": "markdown",
   "metadata": {},
   "source": [
    "`Partial-Sky Maximal`"
   ]
  },
  {
   "cell_type": "code",
   "execution_count": null,
   "metadata": {},
   "outputs": [],
   "source": [
    "print('Partial Sky maximal area')\n",
    "maximal_area = 10009.97\n",
    "ca.set_area(maximal_area*(np.pi/180)**2)\n",
    "gauss.set_kernel(kernels_T)\n",
    "gauss.set_mask(mask_full)\n",
    "gauss.set_cad(ca)\n",
    "\n",
    "rng = Ncm.RNG.seeded_new (None, 123)\n",
    "gauss.resample (mset, rng)\n",
    "\n",
    "dset = Ncm.Dataset.new()\n",
    "dset.append_data(gauss)\n",
    "\n",
    "\n",
    "cosmo.props.Omegac_fit = True\n",
    "cosmo.props.Omegab_fit    = False\n",
    "#cosmo.props.w_fit = True\n",
    "#cosmo.props.H0_fit = True\n",
    "prim.props.ln10e10ASA_fit = True\n",
    "mfunc_oa = Ncm.ObjArray.new ()\n",
    "mfunc_sigma8 = Ncm.MSetFuncList.new (\"NcHICosmo:sigma8\", psf)\n",
    "mfunc_oa.add (mfunc_sigma8) \n",
    "print (mfunc_sigma8.eval0 (mset))\n",
    "\n",
    "mset.prepare_fparam_map ()\n",
    "#gauss.do_cov_func(mset)\n",
    "\n",
    "lh = Ncm.Likelihood.new (dset)\n",
    "\n",
    "fit = Ncm.Fit.new (Ncm.FitType.NLOPT, \"ln-neldermead\", lh, mset,  Ncm.FitGradType.NUMDIFF_FORWARD)\n",
    "\n",
    "\n",
    "gauss.y.log_vals(\"y: \", \"%.3f\", True)\n",
    "gauss.cov.log_vals(\"cov:\", \"%.3f\")\n",
    "\n",
    "fit.log_info()\n",
    "fit.fisher()\n",
    "fit.log_covar ()"
   ]
  }
 ],
 "metadata": {
  "kernelspec": {
   "display_name": "Python 3",
   "language": "python",
   "name": "python3"
  },
  "language_info": {
   "codemirror_mode": {
    "name": "ipython",
    "version": 3
   },
   "file_extension": ".py",
   "mimetype": "text/x-python",
   "name": "python",
   "nbconvert_exporter": "python",
   "pygments_lexer": "ipython3",
   "version": "3.8.10"
  },
  "orig_nbformat": 4
 },
 "nbformat": 4,
 "nbformat_minor": 2
}
