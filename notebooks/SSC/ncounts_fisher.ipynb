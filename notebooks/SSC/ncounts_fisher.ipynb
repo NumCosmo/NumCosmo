{
 "cells": [
  {
   "cell_type": "code",
   "execution_count": 9,
   "metadata": {},
   "outputs": [],
   "source": [
    "#!/usr/bin/env python\n",
    "\n",
    "import math\n",
    "from scipy.stats import norm\n",
    "import numpy as np\n",
    "import sys\n",
    "sys.path.insert(1, '../../../Programas_Cosmologia/PySSC/')\n",
    "import PySSC\n",
    "import ncounts_gauss_SSC\n",
    "try:\n",
    "    import gi\n",
    "\n",
    "    gi.require_version('NumCosmo', '1.0')\n",
    "    gi.require_version('NumCosmoMath', '1.0')\n",
    "except:\n",
    "    pass\n",
    "from gi.repository import GObject\n",
    "from gi.repository import NumCosmo as Nc\n",
    "from gi.repository import NumCosmoMath as Ncm\n",
    "\n",
    "Ncm.cfg_init()\n",
    "Ncm.cfg_set_log_handler (lambda msg: sys.stdout.write (msg) and sys.stdout.flush ())\n"
   ]
  },
  {
   "attachments": {},
   "cell_type": "markdown",
   "metadata": {},
   "source": [
    "# Initialize the `Cosmological model`"
   ]
  },
  {
   "cell_type": "code",
   "execution_count": 2,
   "metadata": {},
   "outputs": [
    {
     "name": "stdout",
     "output_type": "stream",
     "text": [
      "0.82505858 0.8900071895091025 -9.085228043836935e-05\n",
      "0.82505858 0.82505858\n"
     ]
    }
   ],
   "source": [
    "cosmo = Nc.HICosmoDEXcdm()\n",
    "cosmo.props.H0  =  67.81\n",
    "cosmo.props.Omegac  =  0.2612\n",
    "cosmo.props.Omegab =  0.0486\n",
    "cosmo.props.Omegax = 1 - 0.0486 -  0.2612\n",
    "cosmo.props.w = -1.0\n",
    "\n",
    "\n",
    "reion = Nc.HIReionCamb.new () \n",
    "prim = Nc.HIPrimPowerLaw.new () \n",
    "\n",
    "\n",
    "\n",
    "cosmo.add_submodel (reion)\n",
    "cosmo.add_submodel (prim)\n",
    "\n",
    "dist = Nc.Distance.new (2.0)\n",
    "\n",
    "tf = Nc.TransferFunc.new_from_name (\"NcTransferFuncEH\")\n",
    "\n",
    "psml = Nc.PowspecMLTransfer.new (tf)\n",
    "psml.require_kmin (1.0e-6)\n",
    "psml.require_kmax (1.0e3)\n",
    "\n",
    "psf = Ncm.PowspecFilter.new (psml, Ncm.PowspecFilterType.TOPHAT)\n",
    "psf.set_best_lnr0 ()\n",
    "prim.props.n_SA = 0.9660\n",
    "print(0.82505858,cosmo.sigma8(psf),cosmo.Omega_k0())\n",
    "\n",
    "old_amplitude = math.exp (prim.props.ln10e10ASA)\n",
    "prim.props.ln10e10ASA = math.log ((0.82505858/ cosmo.sigma8(psf))**2 * old_amplitude)\n",
    "print(0.82505858, cosmo.sigma8(psf))"
   ]
  },
  {
   "attachments": {},
   "cell_type": "markdown",
   "metadata": {},
   "source": [
    "# Initialize the `ClusterAbundance` object"
   ]
  },
  {
   "cell_type": "code",
   "execution_count": 3,
   "metadata": {},
   "outputs": [],
   "source": [
    "mulf = Nc.MultiplicityFuncTinker.new ()\n",
    "mulf.set_mdef (Nc.MultiplicityFuncMassDef.CRITICAL)\n",
    "mulf.set_Delta (200.0)\n",
    "\n",
    "hmf = Nc.HaloMassFunction.new (dist, psf, mulf)\n",
    "hbias_Tinker = Nc.HaloBiasTinker.new(hmf)\n",
    "ca = Nc.ClusterAbundance.new(hmf,hbias_Tinker)\n",
    "ca.set_area(0.1)"
   ]
  },
  {
   "attachments": {},
   "cell_type": "markdown",
   "metadata": {},
   "source": [
    "# Define proxy modelling\n"
   ]
  },
  {
   "cell_type": "code",
   "execution_count": 4,
   "metadata": {},
   "outputs": [],
   "source": [
    "cluster_m = Nc.ClusterMass.new_from_name(\"NcClusterMassNodist{'lnM-min':<%20.15e>, 'lnM-max':<%20.15e>}\" % (math.log(10)*np.log10(1e14),math.log(10)*np.log10(1e16)))\n",
    "cluster_z = Nc.ClusterRedshift.new_from_name(\"NcClusterRedshiftNodist{'z-min': <%20.15e>, 'z-max':<%20.15e>}\" % (0.25,2))"
   ]
  },
  {
   "attachments": {},
   "cell_type": "markdown",
   "metadata": {},
   "source": [
    "# Construct the $S_{ij}$  Matrix"
   ]
  },
  {
   "cell_type": "code",
   "execution_count": null,
   "metadata": {},
   "outputs": [],
   "source": []
  },
  {
   "attachments": {},
   "cell_type": "markdown",
   "metadata": {},
   "source": [
    "# Data model\n",
    "\n",
    "$f(x_i)$ for the Gaussian distribution $$-2\\ln L = \\sum_{ij}\\left[(f(x_i) - y_i)C^{-1}_{ij}(f(x_j) - y_j)\\right] + \\dots$$"
   ]
  },
  {
   "cell_type": "code",
   "execution_count": 10,
   "metadata": {},
   "outputs": [],
   "source": [
    "z_obs_bins  = Ncm.Vector.new_array(np.linspace(0.1,0.8,8))\n",
    "lnM_obs_bins = Ncm.Vector.new_array(np.linspace(14.8,15, 2))\n",
    "mset = Ncm.MSet.new_array([cosmo,cluster_m,cluster_z])\n",
    "\n",
    "\n",
    "gauss = ncounts_gauss_SSC.ncounts(len = (z_obs_bins.len()-1)* (lnM_obs_bins.len()-1))\n",
    "gauss.set_z_obs_bins(z_obs_bins)\n",
    "gauss.set_lnM_obs_bins(lnM_obs_bins)\n",
    "gauss.set_cad(ca)\n",
    "gauss.set_S(Ncm.Matrix.new0((z_obs_bins.len()-1)* (lnM_obs_bins.len()-1) , (z_obs_bins.len()-1)* (lnM_obs_bins.len()-1)))\n",
    "\n",
    "\n",
    "rng = Ncm.RNG.seeded_new (None, 123)\n",
    "gauss.resample (mset, rng)\n",
    "\n",
    "dset = Ncm.Dataset.new()\n",
    "dset.append_data(gauss)"
   ]
  },
  {
   "attachments": {},
   "cell_type": "markdown",
   "metadata": {},
   "source": [
    "# Creating the fit object"
   ]
  },
  {
   "cell_type": "code",
   "execution_count": 7,
   "metadata": {},
   "outputs": [
    {
     "name": "stdout",
     "output_type": "stream",
     "text": [
      "0.82505858\n",
      "y: 70223.440 176517.514 312984.063 464800.255 621161.886 766849.292 898732.675\n",
      "cov: 70511.766 0.000 0.000 0.000 0.000 0.000 0.000\n",
      "cov: 0.000 176279.838 0.000 0.000 0.000 0.000 0.000\n",
      "cov: 0.000 0.000 313392.592 0.000 0.000 0.000 0.000\n",
      "cov: 0.000 0.000 0.000 465987.860 0.000 0.000 0.000\n",
      "cov: 0.000 0.000 0.000 0.000 621104.084 0.000 0.000\n",
      "cov: 0.000 0.000 0.000 0.000 0.000 768095.243 0.000\n",
      "cov: 0.000 0.000 0.000 0.000 0.000 0.000 898681.031\n"
     ]
    }
   ],
   "source": [
    "\n",
    "cosmo.props.Omegac_fit = True\n",
    "cosmo.props.Omegab_fit    = False\n",
    "cosmo.props.w_fit = True\n",
    "prim.props.ln10e10ASA_fit = True\n",
    "mfunc_oa = Ncm.ObjArray.new ()\n",
    "mfunc_sigma8 = Ncm.MSetFuncList.new (\"NcHICosmo:sigma8\", psf)\n",
    "mfunc_oa.add (mfunc_sigma8)\n",
    "\n",
    "print (mfunc_sigma8.eval0 (mset))\n",
    "\n",
    "mset.prepare_fparam_map ()\n",
    "#gauss.do_cov_func(mset)\n",
    "\n",
    "lh = Ncm.Likelihood.new (dset)\n",
    "\n",
    "fit = Ncm.Fit.new (Ncm.FitType.NLOPT, \"ln-neldermead\", lh, mset,  Ncm.FitGradType.NUMDIFF_FORWARD)\n",
    "\n",
    "\n",
    "gauss.y.log_vals(\"y: \", \"%.3f\", True)\n",
    "gauss.cov.log_vals(\"cov:\", \"%.3f\")\n"
   ]
  },
  {
   "attachments": {},
   "cell_type": "markdown",
   "metadata": {},
   "source": [
    "# Fisher Matrix"
   ]
  },
  {
   "cell_type": "code",
   "execution_count": 8,
   "metadata": {},
   "outputs": [
    {
     "name": "stdout",
     "output_type": "stream",
     "text": [
      "#----------------------------------------------------------------------------------\n",
      "# Data used:\n",
      "#   - ncounts_gauss_SSC+ncounts\n",
      "#----------------------------------------------------------------------------------\n",
      "# Model[03000]:\n",
      "#   - NcHICosmo : XCDM - Constant EOS\n",
      "#----------------------------------------------------------------------------------\n",
      "# Model parameters\n",
      "#   -         H0[00]:  67.81               [FIXED]\n",
      "#   -     Omegac[01]:  0.2612              [FREE]\n",
      "#   -     Omegax[02]:  0.6902              [FIXED]\n",
      "#   -    Tgamma0[03]:  2.7245              [FIXED]\n",
      "#   -         Yp[04]:  0.24                [FIXED]\n",
      "#   -       ENnu[05]:  3.046               [FIXED]\n",
      "#   -     Omegab[06]:  0.0486              [FIXED]\n",
      "#   -          w[07]: -1                   [FREE]\n",
      "#----------------------------------------------------------------------------------\n",
      "# Model[05000]:\n",
      "#   - NcHIPrim : Power Law model for primordial spectra\n",
      "#----------------------------------------------------------------------------------\n",
      "# Model parameters\n",
      "#   - ln10e10ASA[00]:  3.02744969816161    [FREE]\n",
      "#   - T_SA_ratio[01]:  0.2                 [FIXED]\n",
      "#   -       n_SA[02]:  0.966               [FIXED]\n",
      "#   -        n_T[03]:  0                   [FIXED]\n",
      "#----------------------------------------------------------------------------------\n",
      "# Model[07000]:\n",
      "#   - NcClusterMass : No mass distribution\n",
      "#----------------------------------------------------------------------------------\n",
      "# Model parameters\n",
      "#----------------------------------------------------------------------------------\n",
      "# Model[08000]:\n",
      "#   - NcClusterRedshift : No redshift distribution\n",
      "#----------------------------------------------------------------------------------\n",
      "# Model parameters\n",
      "#----------------------------------------------------------------------------------\n",
      "# Model[13000]:\n",
      "#   - NcHIReion : Reion-CAMB\n",
      "#----------------------------------------------------------------------------------\n",
      "# Model parameters\n",
      "#   -       z_re[00]:  13                  [FIXED]\n",
      "#   -    z_He_re[01]:  3.5                 [FIXED]\n",
      "#----------------------------------------------------------------------------------\n",
      "# NcmMSet parameters covariance matrix\n",
      "#                                                      ----------------------------------------------\n",
      "#     Omegac[03000:01] =  0.2612      +/-  0.001593    |  1           |  0.9945      |  0.6733      |\n",
      "#          w[03000:07] = -1           +/-  0.01089     |  0.9945      |  1           |  0.7296      |\n",
      "# ln10e10ASA[05000:00] =  3.027       +/-  0.009072    |  0.6733      |  0.7296      |  1           |\n",
      "#                                                      ----------------------------------------------\n"
     ]
    }
   ],
   "source": [
    "fit.log_info()\n",
    "fit.fisher()\n",
    "fit.log_covar ()"
   ]
  }
 ],
 "metadata": {
  "kernelspec": {
   "display_name": "Python 3",
   "language": "python",
   "name": "python3"
  },
  "language_info": {
   "codemirror_mode": {
    "name": "ipython",
    "version": 3
   },
   "file_extension": ".py",
   "mimetype": "text/x-python",
   "name": "python",
   "nbconvert_exporter": "python",
   "pygments_lexer": "ipython3",
   "version": "3.8.10"
  },
  "orig_nbformat": 4
 },
 "nbformat": 4,
 "nbformat_minor": 2
}
