{
 "cells": [
  {
   "cell_type": "code",
   "execution_count": 1,
   "metadata": {},
   "outputs": [
    {
     "data": {
      "text/html": [
       "<style>.container { width:80% !important; }</style>"
      ],
      "text/plain": [
       "<IPython.core.display.HTML object>"
      ]
     },
     "metadata": {},
     "output_type": "display_data"
    }
   ],
   "source": [
    "  #!/usr/bin/env python\n",
    "\n",
    "try:\n",
    "    import gi\n",
    "    gi.require_version('NumCosmo', '1.0')\n",
    "    gi.require_version('NumCosmoMath', '1.0')\n",
    "except:\n",
    "    pass\n",
    "from astropy.io import fits\n",
    "from astropy.table import Table\n",
    "import math\n",
    "import matplotlib.pyplot as plt\n",
    "from gi.repository import GObject\n",
    "from gi.repository import NumCosmo as Nc\n",
    "from gi.repository import NumCosmoMath as Ncm\n",
    "import numpy as np\n",
    "import sys\n",
    "sys.path.insert(0,'../../scripts')\n",
    "\n",
    "from scipy.stats import chi2\n",
    "import corner\n",
    "Ncm.cfg_init()\n",
    "Ncm.cfg_set_log_handler (lambda msg: sys.stdout.write (msg) and sys.stdout.flush ())\n",
    "\n",
    "from IPython.display import display, HTML\n",
    "display(HTML(\"<style>.container { width:80% !important; }</style>\"))\n",
    "from chainconsumer import ChainConsumer"
   ]
  },
  {
   "cell_type": "code",
   "execution_count": 2,
   "metadata": {},
   "outputs": [],
   "source": [
    "def add_mcat(c, mcat, name):\n",
    "    nwalkers = mcat.nchains ()\n",
    "    m2lnL = mcat.get_m2lnp_var ()\n",
    "\n",
    "    # Use nwalkers * 10 as burning length\n",
    "    burn = nwalkers * burnin\n",
    "    rows = np.array ([mcat.peek_row (i).dup_array () for i in range (burn, mcat.len ())])\n",
    "    params = [\"$\" + mcat.col_symb (i) + \"$\" for i in range (mcat.ncols ())]\n",
    "\n",
    "    posterior = -0.5 * rows[:,m2lnL]\n",
    "\n",
    "    rows   = np.delete (rows,   m2lnL, 1)\n",
    "    params = np.delete (params, m2lnL, 0)\n",
    "\n",
    "    indices = [0,1,2]\n",
    "\n",
    "    rows   = rows[:,indices]\n",
    "    params = params[indices]\n",
    "\n",
    "    c.add_chain(rows, posterior = posterior, parameters=list(params), name=name, plot_point = True)"
   ]
  },
  {
   "cell_type": "code",
   "execution_count": 6,
   "metadata": {},
   "outputs": [
    {
     "name": "stderr",
     "output_type": "stream",
     "text": [
      "/tmp/ipykernel_3940/3462168236.py:22: UserWarning: Matplotlib is currently using module://matplotlib_inline.backend_inline, which is a non-GUI backend, so cannot show the figure.\n",
      "  fig.show()\n",
      "WARNING:chainconsumer:Parameter $w$ in chain Correct is not constrained\n"
     ]
    }
   ],
   "source": [
    "burnin  = 50\n",
    "\n",
    "parameters = [[0.8,4.5, 0.0, 2.560352988400761] , [0.8,4.5,-4.0, 3.139799921784934] , [0.8,2.5,0.0,0.9419012265745043]  , [0.8,2.5,-4.0,1.15506784061638] , [0.2,4.5,-4.0,2.7559040762338385]  , [0.2,2.5,-4.0,1.0138404514870045]]\n",
    "burnins = [[72,80], [56,80], [144,72], [64,64], [64,88], [152,160]]\n",
    "\n",
    "\n",
    "\n",
    "for i in  range(len(parameters)-1):\n",
    "    mcat_mc = Ncm.MSetCatalog.new_from_file_ro (\"mc_%.2f,%.2f,%.2f.fits\" % (parameters[i][2],parameters[i][0],parameters[i][1]), burnins[i][0] * 0)\n",
    "    mcat_mc_correct = Ncm.MSetCatalog.new_from_file_ro (\"mc_%.2f,%.2f,%.2f.fits\" % (parameters[i][2],parameters[i][0],parameters[i][1]), burnins[i][1] * 0)\n",
    "\n",
    "    consumer = ChainConsumer()\n",
    "\n",
    "    add_mcat (consumer, mcat_mc, \"Incorrect\")\n",
    "    add_mcat (consumer, mcat_mc_correct, \"Correct\")\n",
    "\n",
    "    consumer.configure (kde = True, label_font_size=11, cloud=True, sigma2d=True, sigmas = [1, 2, 3], spacing = 0.0, tick_font_size=11, usetex=False, shade = True)\n",
    "\n",
    "    fig = consumer.plotter.plot(truth = [parameters[i][0], parameters[i][2],parameters[i][1]])\n",
    "\n",
    "    fig.set_size_inches(12, 12)\n",
    "    fig.show()     "
   ]
  }
 ],
 "metadata": {
  "kernelspec": {
   "display_name": "Python 3",
   "language": "python",
   "name": "python3"
  },
  "language_info": {
   "codemirror_mode": {
    "name": "ipython",
    "version": 3
   },
   "file_extension": ".py",
   "mimetype": "text/x-python",
   "name": "python",
   "nbconvert_exporter": "python",
   "pygments_lexer": "ipython3",
   "version": "3.10.6"
  },
  "orig_nbformat": 4
 },
 "nbformat": 4,
 "nbformat_minor": 2
}
