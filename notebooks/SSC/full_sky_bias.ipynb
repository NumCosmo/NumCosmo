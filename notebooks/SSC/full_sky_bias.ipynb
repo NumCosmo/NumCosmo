{
 "cells": [
  {
   "cell_type": "code",
   "execution_count": 1,
   "metadata": {},
   "outputs": [],
   "source": [
    "#!/usr/bin/env python\n",
    "\n",
    "import math\n",
    "import healpy as hp\n",
    "import numpy as np\n",
    "import sys\n",
    "import time\n",
    "import os\n",
    "sys.path.insert(1, '../../../PySSC/')\n",
    "\n",
    "from classy import Class\n",
    "import PySSC\n",
    "from scipy.stats import norm\n",
    "from matplotlib import pyplot as plt\n",
    "\n",
    "from numcosmo_py import Ncm, Nc\n",
    "\n",
    "Ncm.cfg_init()\n",
    "Ncm.cfg_set_log_handler(lambda msg: sys.stdout.write(msg) and sys.stdout.flush())"
   ]
  },
  {
   "cell_type": "code",
   "execution_count": 2,
   "metadata": {},
   "outputs": [
    {
     "name": "stdout",
     "output_type": "stream",
     "text": [
      "[0.1, 0.2, 0.30000000000000004, 0.4, 0.5, 0.6, 0.7000000000000001, 0.8]\n",
      "[32.23619130191664, 34.53877639491069]\n",
      "2.727449698161606\n"
     ]
    }
   ],
   "source": [
    "cosmo_resample = Nc.HICosmoDEXcdm()\n",
    "cosmo_resample.props.H0 = 67.81\n",
    "cosmo_resample.props.Omegac = 0.3\n",
    "cosmo_resample.props.Omegab = 0.0486\n",
    "cosmo_resample.props.Omegax = 1 - 0.0486 - 0.3\n",
    "cosmo_resample.props.w = -1.3\n",
    "\n",
    "reion_resample = Nc.HIReionCamb.new()\n",
    "prim_resample = Nc.HIPrimPowerLaw.new()\n",
    "\n",
    "cosmo_resample.add_submodel(reion_resample)\n",
    "cosmo_resample.add_submodel(prim_resample)\n",
    "\n",
    "dist = Nc.Distance.new(2.0)\n",
    "\n",
    "tf = Nc.TransferFunc.new_from_name(\"NcTransferFuncEH\")\n",
    "\n",
    "psml = Nc.PowspecMLTransfer.new(tf)\n",
    "psml.require_kmin(1.0e-6)\n",
    "psml.require_kmax(1.0e3)\n",
    "\n",
    "psf = Ncm.PowspecFilter.new(psml, Ncm.PowspecFilterType.TOPHAT)\n",
    "psf.set_best_lnr0()\n",
    "prim_resample.props.n_SA = 0.9660\n",
    "\n",
    "\n",
    "prim_resample.props.ln10e10ASA = 3.427449698161606\n",
    "\n",
    "\n",
    "z_obs = Ncm.Vector.new_array(np.linspace(0.1, 0.8, 8))\n",
    "lnM_obs = Ncm.Vector.new_array(np.linspace(np.log(10) * 14.0, np.log(10) * 15, 2))\n",
    "\n",
    "print(z_obs.dup_array())\n",
    "print(lnM_obs.dup_array())\n",
    "print(prim_resample.props.ln10e10ASA)"
   ]
  },
  {
   "cell_type": "markdown",
   "metadata": {},
   "source": [
    "# Construct the $S_{ij}$  Matrix"
   ]
  },
  {
   "cell_type": "code",
   "execution_count": 3,
   "metadata": {},
   "outputs": [
    {
     "data": {
      "image/png": "[encoded data removed]",
      "text/plain": [
       "<Figure size 432x288 with 2 Axes>"
      ]
     },
     "metadata": {
      "needs_background": "light"
     },
     "output_type": "display_data"
    }
   ],
   "source": [
    "nz = 400\n",
    "z_arr = np.linspace(0, 1.9, num=nz + 1)[1:]\n",
    "\n",
    "nbins_T = z_obs.len() - 1\n",
    "\n",
    "kernels_T = np.zeros((nbins_T, nz))\n",
    "for i in range(nbins_T):\n",
    "    zminbin = z_obs.get(i)\n",
    "    zmaxbin = z_obs.get(i + 1)\n",
    "    Dz = zmaxbin - zminbin\n",
    "\n",
    "    for iz in range(nz):\n",
    "        z = z_arr[iz]\n",
    "        if (z > zminbin) and (z <= zmaxbin):\n",
    "            kernels_T[i, iz] = 1 / Dz\n",
    "\n",
    "fig = plt.figure()\n",
    "ax = fig.add_subplot(111)\n",
    "\n",
    "im = ax.matshow(kernels_T)\n",
    "ax.set_aspect(\"auto\")\n",
    "plt.colorbar(im)\n",
    "pass"
   ]
  },
  {
   "cell_type": "code",
   "execution_count": 4,
   "metadata": {},
   "outputs": [],
   "source": [
    "NSIDE = 2 * 512\n",
    "NPIX = hp.nside2npix(NSIDE)\n",
    "m = np.zeros(hp.nside2npix(NSIDE))\n",
    "pix_theta_ecl, pix_phi_ecl = hp.pix2ang(NSIDE, np.arange(NPIX))\n",
    "\n",
    "# Guaranteed mask\n",
    "mask1_guaranteed = np.zeros(NPIX)\n",
    "mask2_guaranteed = np.zeros(NPIX)\n",
    "mask3_guaranteed = np.zeros(NPIX)\n",
    "\n",
    "mask1_guaranteed_condition = (\n",
    "    (pix_phi_ecl > 3.0 * np.pi / 4.0)\n",
    "    & (pix_phi_ecl < 13.0 * np.pi / 12.0)\n",
    "    & (pix_theta_ecl < np.pi / 2.0 - 30.0 * np.pi / 180)\n",
    "    & (pix_theta_ecl > np.pi / 2.0 - 80.0 * np.pi / 180)\n",
    ")\n",
    "mask2_guaranteed_condition = (\n",
    "    (pix_phi_ecl > 11.0 * np.pi / 6.0)\n",
    "    & (pix_theta_ecl < np.pi / 2.0 - 20.0 * np.pi / 180)\n",
    "    & (pix_theta_ecl > np.pi / 2.0 - 40.0 * np.pi / 180)\n",
    ")\n",
    "mask3_guaranteed_condition = (\n",
    "    (pix_phi_ecl < np.pi / 4.0)\n",
    "    & (pix_theta_ecl < np.pi / 2.0 - 20.0 * np.pi / 180)\n",
    "    & (pix_theta_ecl > np.pi / 2.0 - 40.0 * np.pi / 180)\n",
    ")\n",
    "\n",
    "mask1_guaranteed[mask1_guaranteed_condition] = 1\n",
    "mask2_guaranteed[mask2_guaranteed_condition] = 1\n",
    "mask3_guaranteed[mask3_guaranteed_condition] = 1\n",
    "\n",
    "mask_guaranteed = mask1_guaranteed + mask2_guaranteed + mask3_guaranteed\n",
    "\n",
    "# Total mask\n",
    "mask1_full = np.zeros(NPIX)\n",
    "mask2_full = np.zeros(NPIX)\n",
    "mask3_full = np.zeros(NPIX)\n",
    "\n",
    "mask1_full_condition = (\n",
    "    (pix_phi_ecl > 2.0 * np.pi / 3.0)\n",
    "    & (pix_phi_ecl < 3.0 * np.pi / 2.0)\n",
    "    & (pix_theta_ecl < np.pi / 2.0 - 10.0 * np.pi / 180)\n",
    "    & (pix_theta_ecl > np.pi / 2.0 - 80.0 * np.pi / 180)\n",
    ")\n",
    "mask2_full_condition = (\n",
    "    (pix_phi_ecl > 11.0 * np.pi / 6.0)\n",
    "    & (pix_theta_ecl < np.pi / 2.0)\n",
    "    & (pix_theta_ecl > np.pi / 2.0 - 45.0 * np.pi / 180)\n",
    ")\n",
    "mask3_full_condition = (\n",
    "    (pix_phi_ecl < np.pi / 4.0)\n",
    "    & (pix_theta_ecl < np.pi / 2.0)\n",
    "    & (pix_theta_ecl > np.pi / 2.0 - 45.0 * np.pi / 180)\n",
    ")\n",
    "\n",
    "mask1_full[mask1_full_condition] = 1\n",
    "mask2_full[mask2_full_condition] = 1\n",
    "mask3_full[mask3_full_condition] = 1\n",
    "\n",
    "mask_full = mask1_full + mask2_full + mask3_full"
   ]
  },
  {
   "cell_type": "markdown",
   "metadata": {},
   "source": [
    "`S matrices`"
   ]
  },
  {
   "cell_type": "code",
   "execution_count": 5,
   "metadata": {},
   "outputs": [
    {
     "name": "stdout",
     "output_type": "stream",
     "text": [
      "Full sky time (seconds) = 0.5293445587158203\n"
     ]
    }
   ],
   "source": [
    "cosmo_sij = Nc.HICosmoDEXcdm()\n",
    "cosmo_sij.props.H0 = 67.81\n",
    "cosmo_sij.props.Omegac = 0.2612\n",
    "cosmo_sij.props.Omegab = 0.0486\n",
    "cosmo_sij.props.Omegax = 1 - 0.0486 - 0.2612\n",
    "cosmo_sij.props.w = -1.0\n",
    "\n",
    "reion_sij = Nc.HIReionCamb.new()\n",
    "prim_sij = Nc.HIPrimPowerLaw.new()\n",
    "\n",
    "prim_sij.props.ln10e10ASA = 3.027449698161606\n",
    "\n",
    "cosmo_sij.add_submodel(reion_sij)\n",
    "cosmo_sij.add_submodel(prim_sij)\n",
    "\n",
    "# Full sky\n",
    "t0 = time.time()\n",
    "S_lacasa_full = PySSC.Sij(z_arr, kernels_T, cosmo_Class=cosmo_sij)\n",
    "t1 = time.time()\n",
    "print(\"Full sky time (seconds) = \" + str(t1 - t0))\n",
    "\n",
    "S_full = Ncm.Matrix.new(S_lacasa_full.shape[0], S_lacasa_full.shape[1])\n",
    "for i in range(len(S_lacasa_full)):\n",
    "    for j in range(len(S_lacasa_full[i])):\n",
    "        S_full.set(i, j, S_lacasa_full[i][j])\n",
    "\n",
    "\n",
    "S_full.log_vals(\"Sij: \", \"% 22.15g\")"
   ]
  },
  {
   "cell_type": "markdown",
   "metadata": {},
   "source": [
    "# Define proxy modelling"
   ]
  },
  {
   "cell_type": "code",
   "execution_count": 6,
   "metadata": {},
   "outputs": [],
   "source": [
    "cluster_m = Nc.ClusterMassNodist(lnM_min=np.log(10) * 14.0, lnM_max=np.log(10) * 16 )\n",
    "cluster_z = Nc.ClusterRedshiftNodist(z_min=0.0, z_max=2.0)"
   ]
  },
  {
   "cell_type": "markdown",
   "metadata": {},
   "source": [
    "# Initialize the `ClusterAbundance` object"
   ]
  },
  {
   "cell_type": "code",
   "execution_count": 7,
   "metadata": {},
   "outputs": [
    {
     "ename": "",
     "evalue": "",
     "output_type": "error",
     "traceback": [
      "\u001b[1;31mCannot execute code, session has been disposed. Please try restarting the Kernel."
     ]
    },
    {
     "ename": "",
     "evalue": "",
     "output_type": "error",
     "traceback": [
      "\u001b[1;31mThe Kernel crashed while executing code in the the current cell or a previous cell. Please review the code in the cell(s) to identify a possible cause of the failure. Click <a href='https://aka.ms/vscodeJupyterKernelCrash'>here</a> for more info. View Jupyter <a href='command:jupyter.viewOutput'>log</a> for further details."
     ]
    }
   ],
   "source": [
    "mulf = Nc.MultiplicityFuncTinker.new()\n",
    "mulf.set_mdef(Nc.MultiplicityFuncMassDef.CRITICAL)\n",
    "mulf.set_Delta(200.0)\n",
    "\n",
    "hmf = Nc.HaloMassFunction.new(dist, psf, mulf)\n",
    "hbias_Tinker = Nc.HaloBiasTinker.new(hmf)\n",
    "cad = Nc.ClusterAbundance.new(hmf, hbias_Tinker)\n",
    "cad.prepare(cosmo_resample, cluster_z, cluster_m)\n",
    "\n",
    "for z in range(z_obs.len()-1):\n",
    "    print(cad.intp_bin_d2n(cosmo_resample, cluster_z,cluster_m , [lnM_obs.get(0)],[lnM_obs.get(1)],None, [z_obs.get(z)],[z_obs.get(z+1)],None))"
   ]
  },
  {
   "cell_type": "markdown",
   "metadata": {},
   "source": [
    "# Data model\n",
    "\n",
    "$f(x_i)$ for the Gaussian distribution $$-2\\ln L = \\sum_{ij}\\left[(f(x_i) - y_i)C^{-1}_{ij}(f(x_j) - y_j)\\right] + \\dots$$"
   ]
  },
  {
   "cell_type": "code",
   "execution_count": null,
   "metadata": {},
   "outputs": [
    {
     "name": "stdout",
     "output_type": "stream",
     "text": [
      "False\n"
     ]
    }
   ],
   "source": [
    "mset_fiducial = Ncm.MSet.new_array([cosmo_resample,cluster_m,cluster_z])\n",
    "mset_sij = Ncm.MSet.new_array([cosmo_sij,cluster_m,cluster_z])\n",
    "ser = Ncm.Serialize.new(Ncm.SerializeOpt.NONE)\n",
    "\n",
    "ncounts_gauss = Nc.DataClusterNCountsGauss.new(cad)\n",
    "ncounts_gauss.set_size((z_obs.len()-1)*(lnM_obs.len()-1))\n",
    "ncounts_gauss.set_init(True)\n",
    "ncounts_gauss.set_fix_cov(False)\n",
    "ncounts_gauss.use_norma(True)\n",
    "ncounts_gauss.set_z_obs(z_obs)\n",
    "ncounts_gauss.set_lnM_obs(lnM_obs)\n",
    "rng = Ncm.RNG.seeded_new (None, 42)"
   ]
  },
  {
   "cell_type": "markdown",
   "metadata": {},
   "source": [
    "# Creating the fit object and calculating the MC"
   ]
  },
  {
   "cell_type": "code",
   "execution_count": null,
   "metadata": {},
   "outputs": [],
   "source": [
    "print(\"Full sky MC fixed cov\")\n",
    "\n",
    "guaranteed_area = 2959.1\n",
    "cad.set_area(guaranteed_area * (np.pi / 180) ** 2)\n",
    "ncounts_gauss.resample(mset_sij, rng)\n",
    "\n",
    "ncounts_gauss.peek_mean().log_vals(\"y: \", \"%.3f\", True)\n",
    "ncounts_gauss.peek_cov().log_vals(\"cov: \", \"% 22.15g\")\n",
    "ncounts_gauss.set_fix_cov(True)\n",
    "print(ncounts_gauss.get_fix_cov())\n",
    "\n",
    "\n",
    "dset = Ncm.Dataset.new()\n",
    "dset.append_data(ncounts_gauss)\n",
    "\n",
    "\n",
    "cosmo_sij.props.Omegac_fit = True\n",
    "cosmo_sij.props.Omegab_fit = False\n",
    "cosmo_sij.props.w_fit = True\n",
    "prim_sij.props.ln10e10ASA_fit = True\n",
    "mfunc_oa = Ncm.ObjArray.new()\n",
    "mfunc_sigma8 = Ncm.MSetFuncList.new(\"NcHICosmo:sigma8\", psf)\n",
    "mfunc_oa.add(mfunc_sigma8)\n",
    "print(mfunc_sigma8.eval0(mset_fiducial))\n",
    "\n",
    "\n",
    "mset_full = mset_sij.dup(ser)\n",
    "mset_full.prepare_fparam_map()\n",
    "\n",
    "\n",
    "lh = Ncm.Likelihood.new(dset)\n",
    "\n",
    "fit = Ncm.Fit.new(\n",
    "    Ncm.FitType.NLOPT, \"ln-neldermead\", lh, mset_full, Ncm.FitGradType.NUMDIFF_FORWARD\n",
    ")\n",
    "\n",
    "\n",
    "fitmc = Ncm.FitMC.new(fit, Ncm.FitMCResampleType.FROM_MODEL, Ncm.FitRunMsgs.FULL)\n",
    "fitmc.set_fiducial(mset_fiducial)\n",
    "fitmc.set_nthreads(3)\n",
    "\n",
    "fitmc.set_data_file(\"mc_fullsky_3parameters_fixedcov.fits\")\n",
    "\n",
    "fitmc.start_run()\n",
    "fitmc.run(500)\n",
    "fitmc.end_run()\n",
    "\n",
    "\n",
    "print(\"Full sky guaranteed time (seconds) = \" + str(t1 - t0))\n",
    "ncounts_gauss.peek_cov().log_vals(\"cov: \", \"% 22.15g\")"
   ]
  },
  {
   "cell_type": "code",
   "execution_count": null,
   "metadata": {},
   "outputs": [],
   "source": [
    "print(\"Full sky MC\")\n",
    "\n",
    "guaranteed_area = 2959.1\n",
    "cad.set_area(guaranteed_area * (np.pi / 180) ** 2)\n",
    "ncounts_gauss.set_s_matrix(S_full)\n",
    "ncounts_gauss.peek_mean().log_vals(\"y: \", \"%.3f\", True)\n",
    "ncounts_gauss.set_fix_cov(False)\n",
    "print(ncounts_gauss.get_fix_cov())\n",
    "\n",
    "dset = Ncm.Dataset.new()\n",
    "dset.append_data(ncounts_gauss)\n",
    "\n",
    "\n",
    "cosmo_sij.props.Omegac_fit = True\n",
    "cosmo_sij.props.Omegab_fit = False\n",
    "cosmo_sij.props.w_fit = True\n",
    "prim_sij.props.ln10e10ASA_fit = True\n",
    "mfunc_oa = Ncm.ObjArray.new()\n",
    "mfunc_sigma8 = Ncm.MSetFuncList.new(\"NcHICosmo:sigma8\", psf)\n",
    "mfunc_oa.add(mfunc_sigma8)\n",
    "print(mfunc_sigma8.eval0(mset_fiducial))\n",
    "\n",
    "\n",
    "mset_full = mset_sij.dup(ser)\n",
    "mset_full.prepare_fparam_map()\n",
    "\n",
    "\n",
    "lh = Ncm.Likelihood.new(dset)\n",
    "\n",
    "fit = Ncm.Fit.new(\n",
    "    Ncm.FitType.NLOPT, \"ln-neldermead\", lh, mset_full, Ncm.FitGradType.NUMDIFF_FORWARD\n",
    ")\n",
    "\n",
    "\n",
    "fitmc = Ncm.FitMC.new(fit, Ncm.FitMCResampleType.FROM_MODEL, Ncm.FitRunMsgs.FULL)\n",
    "fitmc.set_fiducial(mset_fiducial)\n",
    "fitmc.set_nthreads(3)\n",
    "\n",
    "fitmc.set_data_file(\"mc_fullsky_3parameters.fits\")\n",
    "\n",
    "fitmc.start_run()\n",
    "fitmc.run(500)\n",
    "fitmc.end_run()\n",
    "\n",
    "\n",
    "print(\"Full sky guaranteed time (seconds) = \" + str(t1 - t0))"
   ]
  }
 ],
 "metadata": {
  "kernelspec": {
   "display_name": "Python 3",
   "language": "python",
   "name": "python3"
  },
  "language_info": {
   "codemirror_mode": {
    "name": "ipython",
    "version": 3
   },
   "file_extension": ".py",
   "mimetype": "text/x-python",
   "name": "python",
   "nbconvert_exporter": "python",
   "pygments_lexer": "ipython3",
   "version": "3.10.6"
  },
  "orig_nbformat": 4
 },
 "nbformat": 4,
 "nbformat_minor": 2
}
