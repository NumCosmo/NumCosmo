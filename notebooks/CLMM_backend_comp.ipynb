{
 "cells": [
  {
   "cell_type": "markdown",
   "metadata": {},
   "source": [
    "---\n",
    "**License**\n",
    "\n",
    " CLMM_backend_comp\n",
    "\n",
    " Sat Jan 09 16:11:00 2021\\\n",
    " Copyright  2021\\\n",
    " Mariana Penna-Lima <pennalima@gmail.com>\n",
    "\n",
    "---\n",
    "---\n",
    "\n",
    " CLMM_backend_comp\\\n",
    " Copyright (C) 2021 Mariana Penna-Lima <pennalima@gmail.com>\n",
    "\n",
    " numcosmo is free software: you can redistribute it and/or modify it\n",
    " under the terms of the GNU General Public License as published by the\n",
    " Free Software Foundation, either version 3 of the License, or\n",
    " (at your option) any later version.\n",
    "\n",
    " numcosmo is distributed in the hope that it will be useful, but\n",
    " WITHOUT ANY WARRANTY; without even the implied warranty of\n",
    " MERCHANTABILITY or FITNESS FOR A PARTICULAR PURPOSE.\n",
    " See the GNU General Public License for more details.\n",
    "\n",
    " You should have received a copy of the GNU General Public License along\n",
    " with this program.  If not, see <http://www.gnu.org/licenses/>.\n",
    " \n",
    "---"
   ]
  },
  {
   "cell_type": "code",
   "execution_count": 1,
   "metadata": {},
   "outputs": [],
   "source": [
    "# NumCosmo\n",
    "try:\n",
    "  import gi\n",
    "  gi.require_version('NumCosmo', '1.0')\n",
    "  gi.require_version('NumCosmoMath', '1.0')\n",
    "except:\n",
    "  pass\n",
    "\n",
    "from gi.repository import GObject\n",
    "from gi.repository import NumCosmo as Nc\n",
    "from gi.repository import NumCosmoMath as Ncm\n",
    "\n",
    "# Colossus\n",
    "from colossus.cosmology import cosmology\n",
    "from colossus.halo import profile_nfw\n",
    "from colossus.halo import mass_so\n",
    "from colossus.utils import constants\n",
    "\n",
    "# CCL\n",
    "import pyccl as ccl\n",
    "\n",
    "# Cluster-toolkit\n",
    "from astropy.cosmology import FlatLambdaCDM\n",
    "import cluster_toolkit as ct\n",
    "\n",
    "import sys\n",
    "import numpy as np\n",
    "import math\n",
    "import matplotlib.pyplot as plt\n"
   ]
  },
  {
   "cell_type": "code",
   "execution_count": 2,
   "metadata": {},
   "outputs": [],
   "source": [
    "# Colossus Cosmology\n",
    "cosmo_col = cosmology.setCosmology('planck18');\n",
    "\n",
    "Omega_c_col = cosmo_col.Om0 - cosmo_col.Ob0\n",
    "Omega_b_col = cosmo_col.Ob0\n",
    "h_col       = cosmo_col.H0 / 100.0\n",
    "n_s_col     = cosmo_col.ns\n",
    "\n",
    "# CCL Cosmology\n",
    "cosmo_ccl = ccl.Cosmology(Omega_c=Omega_c_col, Omega_b=Omega_b_col, h=h_col, A_s=2.1e-9, n_s=n_s_col)\n",
    "\n",
    "Ncm.cfg_init ()\n",
    "Ncm.cfg_set_log_handler (lambda msg: sys.stdout.write (msg) and sys.stdout.flush ())\n",
    "\n",
    "# CT cosmology\n",
    "cosmo = FlatLambdaCDM(H0=cosmo_col.H0, Om0=cosmo_col.Om0, Ob0=cosmo_col.Ob0)"
   ]
  },
  {
   "cell_type": "code",
   "execution_count": 3,
   "metadata": {},
   "outputs": [],
   "source": [
    "# NumCosmo Cosmology\n",
    "cosmo = Nc.HICosmo.new_from_name (Nc.HICosmo, \"NcHICosmoDEXcdm{'massnu-length':<0>}\")\n",
    "#cosmo = Nc.HICosmo.new_from_name (Nc.HICosmo, \"NcHICosmoDECpl{'massnu-length':<0>}\")\n",
    "cosmo.omega_x2omega_k ()\n",
    "cosmo.param_set_by_name (\"H0\",        cosmo_col.H0)\n",
    "cosmo.param_set_by_name (\"Omegak\",    cosmo_col.Ok(0.0))\n",
    "cosmo.param_set_by_name (\"w\",         cosmo_col.w0)\n",
    "#cosmo.param_set_by_name (\"w1\",        cosmo_col.wa)\n",
    "cosmo.param_set_by_name (\"Omegab\",    Omega_b_col)\n",
    "cosmo.param_set_by_name (\"Omegac\",    Omega_c_col)\n",
    "#cosmo.param_set_by_name (\"massnu_0\",  Planck13.m_nu.value[2])\n",
    "#cosmo.param_set_by_name (\"ENnu\",      cosmo_col.Neff - 3.0 * cosmo.E2Press_mnu (1.0e10) / (cosmo.E2Omega_g (1.0e10) * (7 / 8 * (4 / 11)**(4 / 3))))\n",
    "cosmo.param_set_by_name (\"ENnu\",      cosmo_col.Neff)\n",
    "cosmo.param_set_by_name (\"Tgamma0\",   cosmo_col.Tcmb0)\n"
   ]
  },
  {
   "cell_type": "code",
   "execution_count": 4,
   "metadata": {},
   "outputs": [],
   "source": [
    "def cmp_double (desc, m1, m2, x1, x2):\n",
    "    print (\"%s: %s = % 22.15g, %s = % 22.15g, CMP: %9.2e\" % (desc, m1, x1, m2, x2, math.fabs (x1 / x2 - 1.0)))"
   ]
  },
  {
   "cell_type": "code",
   "execution_count": 5,
   "metadata": {},
   "outputs": [],
   "source": [
    "Delta = 200.0\n",
    "Delta_ccl = 200.0#'vir'\n",
    "Mvir  = 1.0e15 # M_sun\n",
    "cvir  = 5.0\n",
    "z     = 0.2\n",
    "a     = 1.0 / (1.0 + z)\n",
    "\n",
    "# CCL\n",
    "MDEF               = 'matter'\n",
    "mdef               = ccl.halos.MassDef (Delta_ccl, MDEF)\n",
    "conc               = ccl.halos.ConcentrationConstant(cvir)\n",
    "mdef.concentration = conc\n",
    "ccl_nfw            = ccl.halos.HaloProfileNFW (conc,\n",
    "                                               truncated = False, \n",
    "                                               projected_analytic = True, \n",
    "                                               cumul2d_analytic = True)\n",
    "\n",
    "# Colossus\n",
    "col_nfw = profile_nfw.NFWProfile (M = (Mvir * cosmo.h ()), c = cvir, z = z, mdef = '200m')"
   ]
  },
  {
   "cell_type": "code",
   "execution_count": 7,
   "metadata": {},
   "outputs": [],
   "source": [
    "# NumCosmo\n",
    "reltol = 1.0e-9\n",
    "lnXi   = math.log (1.0e-4)\n",
    "lnXf   = math.log (1.0e+4)\n",
    "improve_prec = True\n",
    "\n",
    "nc_nfw = Nc.HaloDensityProfileNFW.new (Nc.HaloDensityProfileMassDef.MEAN, Delta) \n",
    "nc_nfw.param_set_by_name ('cDelta', cvir) \n",
    "nc_nfw.param_set_by_name ('log10MDelta', math.log10(Mvir)) \n",
    "\n",
    "if improve_prec:\n",
    "    nc_nfw.set_reltol (reltol) \n",
    "    nc_nfw.set_lnXi (lnXi)\n",
    "    nc_nfw.set_lnXf (lnXf)\n",
    "\n",
    "smd = Nc.WLSurfaceMassDensity.new (Nc.Distance.new (5.0))\n",
    "smd.prepare (cosmo)"
   ]
  },
  {
   "cell_type": "markdown",
   "metadata": {},
   "source": [
    "**Comparing NFW, Einasto and Hernquist the scale radius $r_s$ and $\\rho_s$**"
   ]
  },
  {
   "cell_type": "code",
   "execution_count": 9,
   "metadata": {},
   "outputs": [
    {
     "name": "stdout",
     "output_type": "stream",
     "text": [
      "NFW:rhos: Colossus =        593865571078916, NumCosmo =        593865571079178, CMP:  4.42e-13\n",
      "NFW:rs  : Colossus =      0.519016438491629, NumCosmo =      0.519016438491552, CMP:  1.48e-13\n",
      "NFW:rhos: CCL      =        593865571079690, NumCosmo =        593865571079178, CMP:  8.62e-13\n",
      "NFW:rs  : CCL      =      0.519016438491403, NumCosmo =      0.519016438491552, CMP:  2.87e-13\n"
     ]
    }
   ],
   "source": [
    "r     = 10**np.arange (-1, +4, 0.02) * 1.0e-3 # Mpc - physical\n",
    "rho_m = cosmo_col.rho_m (z) * (cosmo.h2 () * 1.0e9) # matter density units: M_sun / Mpc^3\n",
    "\n",
    "# Colossus \n",
    "(col_rhos, col_rs)  = col_nfw.fundamentalParameters (Mvir * cosmo.h (), cvir, z, '200m')\n",
    "\n",
    "# CCL scale radius NFW\n",
    "R_M = mdef.get_radius(cosmo_ccl, Mvir, a) / a \n",
    "c = conc.get_concentration(cosmo_ccl, Mvir, a, mdef_other=mdef)\n",
    "ccl_rs = R_M / c\n",
    "ccl_rhos = ccl_nfw._norm (Mvir, ccl_rs, c)\n",
    "\n",
    "# NumCosmo\n",
    "(nc_rs, nc_rhos)    = nc_nfw.r_s_rho_s (cosmo, z)\n",
    "\n",
    "cmp_double (\"NFW:rhos\", \"Colossus\", \"NumCosmo\", col_rhos * (cosmo.h2 () * 1.0e9), nc_rhos)\n",
    "cmp_double (\"NFW:rs  \", \"Colossus\", \"NumCosmo\", col_rs / 1.0e3 / cosmo.h (), nc_rs)\n",
    "cmp_double (\"NFW:rhos\", \"CCL     \", \"NumCosmo\", ccl_rhos / a**3, nc_rhos)\n",
    "cmp_double (\"NFW:rs  \", \"CCL     \", \"NumCosmo\", a * ccl_rs, nc_rs)\n"
   ]
  },
  {
   "cell_type": "markdown",
   "metadata": {},
   "source": [
    "**Comparing NFW, Einasto and Hernquist profiles $\\rho(r) /\\rho_m$**"
   ]
  },
  {
   "cell_type": "code",
   "execution_count": 11,
   "metadata": {},
   "outputs": [
    {
     "ename": "NameError",
     "evalue": "name 'ct_rho_nfw' is not defined",
     "output_type": "error",
     "traceback": [
      "\u001b[0;31m---------------------------------------------------------------------------\u001b[0m",
      "\u001b[0;31mNameError\u001b[0m                                 Traceback (most recent call last)",
      "\u001b[0;32m<ipython-input-11-6d183f9fa9f4>\u001b[0m in \u001b[0;36m<module>\u001b[0;34m\u001b[0m\n\u001b[1;32m     23\u001b[0m \u001b[0maxs\u001b[0m\u001b[0;34m[\u001b[0m\u001b[0;36m0\u001b[0m\u001b[0;34m]\u001b[0m\u001b[0;34m.\u001b[0m\u001b[0mplot\u001b[0m \u001b[0;34m(\u001b[0m\u001b[0mr\u001b[0m\u001b[0;34m,\u001b[0m \u001b[0mnc_rho_nfw\u001b[0m\u001b[0;34m,\u001b[0m  \u001b[0;34m'-'\u001b[0m\u001b[0;34m,\u001b[0m \u001b[0mlabel\u001b[0m \u001b[0;34m=\u001b[0m \u001b[0;34m'NFW - NC'\u001b[0m\u001b[0;34m)\u001b[0m\u001b[0;34m\u001b[0m\u001b[0;34m\u001b[0m\u001b[0m\n\u001b[1;32m     24\u001b[0m \u001b[0maxs\u001b[0m\u001b[0;34m[\u001b[0m\u001b[0;36m0\u001b[0m\u001b[0;34m]\u001b[0m\u001b[0;34m.\u001b[0m\u001b[0mplot\u001b[0m \u001b[0;34m(\u001b[0m\u001b[0mr\u001b[0m\u001b[0;34m,\u001b[0m \u001b[0mccl_rho_nfw\u001b[0m\u001b[0;34m,\u001b[0m \u001b[0;34m'-'\u001b[0m\u001b[0;34m,\u001b[0m \u001b[0mlabel\u001b[0m \u001b[0;34m=\u001b[0m \u001b[0;34m'NFW - CCL'\u001b[0m\u001b[0;34m)\u001b[0m\u001b[0;34m\u001b[0m\u001b[0;34m\u001b[0m\u001b[0m\n\u001b[0;32m---> 25\u001b[0;31m \u001b[0maxs\u001b[0m\u001b[0;34m[\u001b[0m\u001b[0;36m0\u001b[0m\u001b[0;34m]\u001b[0m\u001b[0;34m.\u001b[0m\u001b[0mplot\u001b[0m \u001b[0;34m(\u001b[0m\u001b[0mr\u001b[0m\u001b[0;34m,\u001b[0m \u001b[0mct_rho_nfw\u001b[0m\u001b[0;34m,\u001b[0m  \u001b[0;34m'-'\u001b[0m\u001b[0;34m,\u001b[0m \u001b[0mlabel\u001b[0m \u001b[0;34m=\u001b[0m \u001b[0;34m'NFW - CT'\u001b[0m\u001b[0;34m)\u001b[0m\u001b[0;34m\u001b[0m\u001b[0;34m\u001b[0m\u001b[0m\n\u001b[0m\u001b[1;32m     26\u001b[0m \u001b[0;34m\u001b[0m\u001b[0m\n\u001b[1;32m     27\u001b[0m \u001b[0maxs\u001b[0m\u001b[0;34m[\u001b[0m\u001b[0;36m1\u001b[0m\u001b[0;34m]\u001b[0m\u001b[0;34m.\u001b[0m\u001b[0mplot\u001b[0m \u001b[0;34m(\u001b[0m\u001b[0mr\u001b[0m\u001b[0;34m,\u001b[0m \u001b[0mnp\u001b[0m\u001b[0;34m.\u001b[0m\u001b[0mabs\u001b[0m \u001b[0;34m(\u001b[0m\u001b[0mcol_rho_nfw\u001b[0m \u001b[0;34m/\u001b[0m \u001b[0mnc_rho_nfw\u001b[0m  \u001b[0;34m-\u001b[0m \u001b[0;36m1.0\u001b[0m\u001b[0;34m)\u001b[0m\u001b[0;34m,\u001b[0m \u001b[0;34m'-'\u001b[0m\u001b[0;34m,\u001b[0m \u001b[0mlabel\u001b[0m \u001b[0;34m=\u001b[0m \u001b[0;34m\"NFW - CMP - Col\"\u001b[0m\u001b[0;34m)\u001b[0m\u001b[0;34m\u001b[0m\u001b[0;34m\u001b[0m\u001b[0m\n",
      "\u001b[0;31mNameError\u001b[0m: name 'ct_rho_nfw' is not defined"
     ]
    },
    {
     "data": {
      "text/plain": [
       "<Figure size 432x288 with 0 Axes>"
      ]
     },
     "metadata": {},
     "output_type": "display_data"
    },
    {
     "data": {
      "image/png": "[encoded data removed]",
      "text/plain": [
       "<Figure size 1008x504 with 2 Axes>"
      ]
     },
     "metadata": {
      "needs_background": "light"
     },
     "output_type": "display_data"
    }
   ],
   "source": [
    "# Colossus density profiles\n",
    "col_rho_nfw = col_nfw.density (r * cosmo.h () * 1.0e3) * (cosmo.h2 () * 1.0e9)\n",
    "\n",
    "# NumCosmo density profiles\n",
    "nc_rho_nfw  = np.array (nc_nfw.eval_density_array (cosmo, r, 1.0, 1.0, z))\n",
    "\n",
    "# CCL density profiles\n",
    "# CCL input: comoving distance \n",
    "ccl_rho_nfw = ccl_nfw.real (cosmo_ccl, r / a, Mvir, a, mdef) / a**3\n",
    "\n",
    "# CT density profile\n",
    "\n",
    "plt.figure()\n",
    "fig, axs = plt.subplots (2, sharex=True, gridspec_kw={'hspace': 0}, figsize=(14,7))\n",
    "\n",
    "axs[0].set_xscale ('log')\n",
    "axs[0].set_yscale ('log')\n",
    "axs[1].set_yscale ('log')\n",
    "axs[1].set_xlabel(r'$r$[Mpc]')\n",
    "axs[0].set_ylabel(r'$\\rho (r) / \\rho_m$')\n",
    "axs[1].set_ylabel(r'$\\rho_{\\mathrm{i}} (r) / \\rho_{\\mathrm{nc}} - 1$')\n",
    "axs[0].plot (r, col_rho_nfw, '-', label = 'NFW - Col')\n",
    "axs[0].plot (r, nc_rho_nfw,  '-', label = 'NFW - NC')\n",
    "axs[0].plot (r, ccl_rho_nfw, '-', label = 'NFW - CCL')\n",
    "axs[0].plot (r, ct_rho_nfw,  '-', label = 'NFW - CT')\n",
    "\n",
    "axs[1].plot (r, np.abs (col_rho_nfw / nc_rho_nfw  - 1.0), '-', label = \"NFW - CMP - Col\")\n",
    "axs[1].plot (r, np.abs (ccl_rho_nfw / nc_rho_nfw - 1.0),  '-', label = \"NFW - CMP - CCL\")\n",
    "axs[1].plot (r, np.abs (ct_rho_nfw / nc_rho_nfw - 1.0),   '-', label = \"NFW - CMP - CT\")\n",
    "\n",
    "axs[0].legend(loc='best')\n",
    "axs[1].legend(loc='best')\n",
    "axs[1].grid()\n",
    "\n",
    "plt.show ()"
   ]
  },
  {
   "cell_type": "markdown",
   "metadata": {},
   "source": [
    "**Comparing NFW, Einasto and Hernquist surface mass density $\\Sigma (R)$**"
   ]
  },
  {
   "cell_type": "code",
   "execution_count": null,
   "metadata": {},
   "outputs": [],
   "source": [
    "# Colossus\n",
    "col_Sigma_nfw = col_nfw.surfaceDensity (r * cosmo.h () * 1.0e3) * (cosmo.h () * 1.0e6)\n",
    "\n",
    "# NumCosmo\n",
    "nc_Sigma_nfw  = smd.sigma_array (nc_nfw, cosmo, r, 1.0, 1.0, z)\n",
    "\n",
    "# CCL\n",
    "ccl_Sigma_nfw = ccl_nfw.projected (cosmo_ccl, r / a, Mvir, a, mdef) / a**2\n",
    "\n",
    "#CT\n",
    "Om = cosmo_col.Om0 * (1.0 + z)**3. # Need Omega_m(z) in cluster-toolkit\n",
    "ct_Sigma_nfw = ct.deltasigma.Sigma_nfw_at_R(r * cosmo.h (), Mvir, cvir, Om)\n",
    "\n",
    "plt.figure()\n",
    "fig, axs = plt.subplots (2, sharex=True, gridspec_kw={'hspace': 0}, figsize=(14,7))\n",
    "\n",
    "axs[0].set_xscale ('log')\n",
    "axs[0].set_yscale ('log')\n",
    "axs[1].set_yscale ('log')\n",
    "axs[1].set_xlabel('R (Mpc)')\n",
    "axs[0].set_ylabel(r'$\\Sigma (R)$')\n",
    "axs[1].set_ylabel(r'$\\Sigma_{\\mathrm{i}} (R) / \\Sigma_{\\mathrm{nc}} (R) - 1$')\n",
    "axs[0].plot (r, col_Sigma_nfw, '-', label = 'NFW - Col')\n",
    "axs[0].plot (r, nc_Sigma_nfw,  '-', label = 'NFW - NC')\n",
    "axs[0].plot (r, ccl_Sigma_nfw, '-', label = 'NFW - CCL')\n",
    "axs[0].plot (r, ct_Sigma_nfw,  '-', label = 'NFW - CT')\n",
    "axs[1].plot (r, np.abs (col_Sigma_nfw / nc_Sigma_nfw - 1.0), '-', label = \"CMP - NFW - Col\")\n",
    "axs[1].plot (r, np.abs (ccl_Sigma_nfw / nc_Sigma_nfw - 1.0), '-', label = \"CMP - NFW - CCL\")\n",
    "axs[1].plot (r, np.abs (ct_Sigma_nfw / nc_Sigma_nfw - 1.0),  '-', label = \"CMP - NFW - CT\")\n",
    "\n",
    "axs[0].legend(loc='best')\n",
    "axs[1].legend(loc='best')\n",
    "axs[1].grid()\n",
    "plt.show ()"
   ]
  },
  {
   "cell_type": "markdown",
   "metadata": {},
   "source": [
    "**Comparing NFW excess $\\Delta\\Sigma (R) = \\overline\\Sigma (<R) - \\Sigma(R)$**"
   ]
  },
  {
   "cell_type": "code",
   "execution_count": null,
   "metadata": {},
   "outputs": [],
   "source": [
    "# Colossus\n",
    "col_DeltaSigma_nfw  = col_nfw.deltaSigma (r * cosmo.h () * 1.0e3) * (cosmo.h () * 1.0e6)\n",
    "\n",
    "# NumCosmo\n",
    "nc_DeltaSigma_nfw  = np.array (smd.sigma_excess_array (nc_nfw, cosmo, r, 1.0, 1.0, z))\n",
    "\n",
    "# CCL\n",
    "ccl_BarSigma_nfw = ccl_nfw.cumul2d (cosmo_ccl, r / a, Mvir, a, mdef) / a**2\n",
    "ccl_DeltaSigma_nfw = ccl_BarSigma_nfw - ccl_Sigma_nfw\n",
    "\n",
    "plt.figure()\n",
    "fig, axs = plt.subplots (2, sharex=True, gridspec_kw={'hspace': 0}, figsize=(14,7))\n",
    "\n",
    "axs[0].set_xscale ('log')\n",
    "axs[0].set_yscale ('log')\n",
    "axs[1].set_yscale ('log')\n",
    "axs[1].set_xlabel('R (Mpc)')\n",
    "axs[0].set_ylabel(r'$\\Delta\\Sigma(R)$')\n",
    "axs[1].set_ylabel(r'$\\Delta\\Sigma_\\mathrm{i}(R) / \\Delta\\Sigma_\\mathrm{nc}(R) - 1$')\n",
    "axs[0].plot (r, col_DeltaSigma_nfw,  '-', label = 'NFW - Col')\n",
    "axs[0].plot (r, nc_DeltaSigma_nfw,   '-', label = 'NFW - Nc')\n",
    "axs[0].plot (r, ccl_DeltaSigma_nfw,  '-', label = 'NFW - CCL')\n",
    "axs[0].plot (r, ct_DeltaSigma_nfw,  '-', label = 'NFW - CT')\n",
    "axs[1].plot (r, np.abs (col_DeltaSigma_nfw  / nc_DeltaSigma_nfw  - 1.0), '-', label = \"CMP - NFW - Col\")\n",
    "axs[1].plot (r, np.abs (ccl_DeltaSigma_nfw  / nc_DeltaSigma_nfw  - 1.0), '-', label = \"CMP - NFW - CCL\")\n",
    "axs[1].plot (r, np.abs (ct_DeltaSigma_nfw  / nc_DeltaSigma_nfw  - 1.0),  '-', label = \"CMP - NFW - CT\")\n",
    "axs[0].legend(loc='best')\n",
    "axs[1].legend(loc='best')\n",
    "axs[1].grid()\n",
    "plt.show ()"
   ]
  }
 ],
 "metadata": {
  "kernelspec": {
   "display_name": "Python 3",
   "language": "python",
   "name": "python3"
  },
  "language_info": {
   "codemirror_mode": {
    "name": "ipython",
    "version": 3
   },
   "file_extension": ".py",
   "mimetype": "text/x-python",
   "name": "python",
   "nbconvert_exporter": "python",
   "pygments_lexer": "ipython3",
   "version": "3.9.6"
  }
 },
 "nbformat": 4,
 "nbformat_minor": 2
}
