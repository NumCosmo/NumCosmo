{
 "cells": [
  {
   "cell_type": "code",
   "execution_count": 6,
   "id": "8bc0a038-5a4a-4c33-8bf4-9d8b6449e72e",
   "metadata": {
    "tags": []
   },
   "outputs": [],
   "source": [
    "#!/usr/bin/env python\n",
    "\n",
    "from astropy.io import fits\n",
    "from astropy.table import Table\n",
    "\n",
    "\n",
    "import numpy as np\n",
    "import matplotlib.pyplot as plt\n",
    "import pickle as pkl\n",
    "import scipy.integrate\n",
    "import astropy.units as u\n",
    "import GCRCatalogs\n",
    "import pandas as pd\n",
    "from astropy.io import fits\n",
    "from astropy.table import Table\n",
    "\n",
    "from numcosmo_py import Ncm, Nc\n",
    "from numcosmo_py.external.pyssc import pyssc as PySSC\n",
    "Ncm.cfg_init()\n",
    "\n",
    "\n",
    "%matplotlib inline\n",
    "catalog = \"skysim5000_v1.1.1\"\n",
    "skysim_cat = GCRCatalogs.load_catalog(catalog)\n",
    "cosmo_ss = skysim_cat.cosmology"
   ]
  },
  {
   "cell_type": "code",
   "execution_count": 11,
   "id": "27ee5bf8-be41-4d49-9af1-c11e140089b4",
   "metadata": {
    "tags": []
   },
   "outputs": [
    {
     "name": "stdout",
     "output_type": "stream",
     "text": [
      "0.8 0.8490796381179414 0.0\n",
      "0.8 0.7999999999999999\n"
     ]
    }
   ],
   "source": [
    "cosmo = Nc.HICosmoDEXcdm()\n",
    "reion = Nc.HIReionCamb.new()\n",
    "prim = Nc.HIPrimPowerLaw.new()\n",
    "\n",
    "cosmo.add_submodel(reion)\n",
    "cosmo.add_submodel(prim)\n",
    "\n",
    "dist = Nc.Distance.new(2.0)\n",
    "\n",
    "tf = Nc.TransferFuncEH()\n",
    "\n",
    "psml = Nc.PowspecMLTransfer.new(tf)\n",
    "psml.require_kmin(1.0e-6)\n",
    "psml.require_kmax(1.0e3)\n",
    "\n",
    "psf = Ncm.PowspecFilter.new(psml, Ncm.PowspecFilterType.TOPHAT)\n",
    "psf.set_best_lnr0()\n",
    "\n",
    "\n",
    "cosmo.props.H0 = cosmo_ss.H0.value\n",
    "cosmo.props.Omegab = cosmo_ss.Ob0\n",
    "cosmo.props.Omegac = cosmo_ss.Odm0\n",
    "cosmo.props.Omegax = cosmo_ss.Ode0\n",
    "\n",
    "cosmo.omega_x2omega_k()\n",
    "cosmo.param_set_by_name(\"Omegak\", 0.0)\n",
    "\n",
    "prim.props.n_SA = cosmo_ss.n_s\n",
    "print(cosmo_ss.sigma8, cosmo.sigma8(psf), cosmo.Omega_k0())\n",
    "\n",
    "old_amplitude = np.exp(prim.props.ln10e10ASA)\n",
    "prim.props.ln10e10ASA = np.log(\n",
    "    (cosmo_ss.sigma8 / cosmo.sigma8(psf)) ** 2 * old_amplitude\n",
    ")\n",
    "print(cosmo_ss.sigma8, cosmo.sigma8(psf))"
   ]
  },
  {
   "cell_type": "code",
   "execution_count": 16,
   "id": "ca4cefc9-b530-4881-87e5-a217e61c7c05",
   "metadata": {
    "tags": []
   },
   "outputs": [],
   "source": [
    "# CosmoSim_proxy model\n",
    "# M_0, z_0\n",
    "#theta_pivot = [3e14 / 0.71, 0.6]\n",
    "# \\mu_0, a_\\mu^z, a_\\mu^M\n",
    "#theta_mu = [3.19, -0.7, 2]\n",
    "# \\sigma_0, a_\\sigma^z, a_\\sigma^M\n",
    "#theta_sigma = [0.33, 0.0, -0.08]\n",
    "\n",
    "area = 439.78987\n",
    "lnM_min = np.log(10) * (13)\n",
    "lnM_max =  np.log(10.0) * (15.0)\n",
    "z_min = 0.0\n",
    "z_max = 1.0\n",
    "\n",
    "#mass proxy\n",
    "cluster_m = Nc.ClusterMassNodist(lnM_min=lnM_min, lnM_max=lnM_max)\n",
    "\n",
    "#photo-z\n",
    "cluster_z = Nc.ClusterRedshiftNodist (z_min = z_min, z_max = z_max)"
   ]
  },
  {
   "cell_type": "code",
   "execution_count": 18,
   "id": "6f1c1e19-5efe-44a9-9bff-3eeea1c22aa0",
   "metadata": {
    "tags": []
   },
   "outputs": [],
   "source": [
    "# Numcosmo Cluster Abundance\n",
    "\n",
    "# First we need to define the multiplicity function here we will use the tinker\n",
    "mulf = Nc.MultiplicityFuncDespali.new()\n",
    "mulf.set_mdef(Nc.MultiplicityFuncMassDef.CRITICAL)\n",
    "mulf.set_Delta(200)\n",
    "# Second we need to construct a filtered power spectrum\n",
    "\n",
    "hmf = Nc.HaloMassFunction.new(dist, psf, mulf)\n",
    "hmf.set_area_sd(area)\n",
    "\n",
    "\n",
    "ca = Nc.ClusterAbundance.new(hmf, None)\n",
    "mset = Ncm.MSet.new_array([cosmo, cluster_m, cluster_z])"
   ]
  },
  {
   "cell_type": "code",
   "execution_count": null,
   "id": "a9176f5b-becd-46f1-9465-04ea5ad2b981",
   "metadata": {},
   "outputs": [],
   "source": [
    "ncount = Nc.DataClusterNCount.new(ca, \"NcClusterRedshiftNodist\", \"NcClusterMassNodist\")\n",
    "\n",
    "ca.prepare(cosmo, cluster_z, cluster_m)\n",
    "mset = Ncm.MSet.new_array([cosmo, cluster_z, cluster_m])\n",
    "\n",
    "rng = Ncm.RNG.seeded_new(None, 42)\n",
    "\n",
    "ncount.init_from_sampling(mset, area * ((np.pi / 180) ** 2), rng)\n",
    "print(ncount.desc)"
   ]
  },
  {
   "cell_type": "code",
   "execution_count": null,
   "id": "9318af49-eeff-4ec7-aec3-c0d0b82f0e99",
   "metadata": {},
   "outputs": [],
   "source": [
    "# Bins definition\n",
    "z_edges = np.linspace(zl, zu, 5)\n",
    "# proxy_edges = np.linspace(lnRl, lnRu, 4)\n",
    "mass_edges = np.linspace(math.log(10) * 13, math.log(10) * 15, 4)\n",
    "\n",
    "ncount.del_bins()\n",
    "for rich_l, rich_u in zip(mass_edges, mass_edges[1:]):\n",
    "    for zl, zu in zip(z_edges, z_edges[1:]):\n",
    "        lnM_obs_lb = Ncm.Vector.new_array([rich_l])\n",
    "        lnM_obs_ub = Ncm.Vector.new_array([rich_u])\n",
    "        z_obs_lb = Ncm.Vector.new_array([zl])\n",
    "        z_obs_ub = Ncm.Vector.new_array([zu])\n",
    "\n",
    "        ncount.add_bin(lnM_obs_lb, lnM_obs_ub, z_obs_lb, z_obs_ub)\n",
    "\n",
    "ncount.bin_data()"
   ]
  },
  {
   "cell_type": "code",
   "execution_count": null,
   "id": "3cca6d15-77e0-4af1-84a7-d19584714324",
   "metadata": {},
   "outputs": [],
   "source": [
    "ncount.catalog_save(\"ncount_ascaso2.fits\", True)\n",
    "ncount.catalog_load(\"ncount_ascaso2.fits\")\n",
    "\n",
    "# ncount.catalog_save (\"ncount_nodist.fits\", True)\n",
    "# ncount.catalog_load (\"ncount_nodist.fits\")"
   ]
  },
  {
   "cell_type": "code",
   "execution_count": null,
   "id": "f2ee48b2-e74b-4f1e-8d60-fa4430ff11aa",
   "metadata": {},
   "outputs": [],
   "source": [
    "ncdata_fits = fits.open(\"ncount_ascaso2.fits\")\n",
    "# ncdata_fits.info()\n",
    "\n",
    "ncdata_data = ncdata_fits[1].data\n",
    "\n",
    "ncdata_Table = Table(ncdata_data)\n",
    "ncdata_Table.columns\n",
    "# ncdata_Table.sort('LNM_TRUE')\n",
    "\n",
    "display(ncdata_Table)"
   ]
  },
  {
   "cell_type": "code",
   "execution_count": 12,
   "id": "890dc374-83b4-4d24-94a1-ab91e17e5dea",
   "metadata": {
    "tags": []
   },
   "outputs": [
    {
     "ename": "AttributeError",
     "evalue": "type object 'ClusterMass' has no attribute 'new_from_name'",
     "output_type": "error",
     "traceback": [
      "\u001b[0;31m---------------------------------------------------------------------------\u001b[0m",
      "\u001b[0;31mAttributeError\u001b[0m                            Traceback (most recent call last)",
      "Cell \u001b[0;32mIn[12], line 1\u001b[0m\n\u001b[0;32m----> 1\u001b[0m cluster_m \u001b[38;5;241m=\u001b[39m \u001b[43mNc\u001b[49m\u001b[38;5;241;43m.\u001b[39;49m\u001b[43mClusterMass\u001b[49m\u001b[38;5;241;43m.\u001b[39;49m\u001b[43mnew_from_name\u001b[49m(\n\u001b[1;32m      2\u001b[0m     \u001b[38;5;124m\"\u001b[39m\u001b[38;5;124mNcClusterMassNodist\u001b[39m\u001b[38;5;124m{\u001b[39m\u001b[38;5;124m'\u001b[39m\u001b[38;5;124mlnM-min\u001b[39m\u001b[38;5;124m'\u001b[39m\u001b[38;5;124m:<\u001b[39m\u001b[38;5;132;01m%20.15e\u001b[39;00m\u001b[38;5;124m>, \u001b[39m\u001b[38;5;124m'\u001b[39m\u001b[38;5;124mlnM-max\u001b[39m\u001b[38;5;124m'\u001b[39m\u001b[38;5;124m:<\u001b[39m\u001b[38;5;132;01m%20.15e\u001b[39;00m\u001b[38;5;124m>}\u001b[39m\u001b[38;5;124m\"\u001b[39m\n\u001b[1;32m      3\u001b[0m     \u001b[38;5;241m%\u001b[39m (math\u001b[38;5;241m.\u001b[39mlog(\u001b[38;5;241m10\u001b[39m) \u001b[38;5;241m*\u001b[39m np\u001b[38;5;241m.\u001b[39mlog10(\u001b[38;5;241m1e13\u001b[39m), math\u001b[38;5;241m.\u001b[39mlog(\u001b[38;5;241m10\u001b[39m) \u001b[38;5;241m*\u001b[39m np\u001b[38;5;241m.\u001b[39mlog10(\u001b[38;5;241m1e15\u001b[39m))\n\u001b[1;32m      4\u001b[0m )\n\u001b[1;32m      5\u001b[0m ncount_nodist \u001b[38;5;241m=\u001b[39m Nc\u001b[38;5;241m.\u001b[39mDataClusterNCount\u001b[38;5;241m.\u001b[39mnew(\n\u001b[1;32m      6\u001b[0m     ca, \u001b[38;5;124m\"\u001b[39m\u001b[38;5;124mNcClusterRedshiftNodist\u001b[39m\u001b[38;5;124m\"\u001b[39m, \u001b[38;5;124m\"\u001b[39m\u001b[38;5;124mNcClusterMassNodist\u001b[39m\u001b[38;5;124m\"\u001b[39m\n\u001b[1;32m      7\u001b[0m )\n\u001b[1;32m      8\u001b[0m ca\u001b[38;5;241m.\u001b[39mprepare(cosmo, cluster_z, cluster_m)\n",
      "\u001b[0;31mAttributeError\u001b[0m: type object 'ClusterMass' has no attribute 'new_from_name'"
     ]
    }
   ],
   "source": [
    "cluster_m = Nc.ClusterMass.new_from_name(\n",
    "    \"NcClusterMassNodist{'lnM-min':<%20.15e>, 'lnM-max':<%20.15e>}\"\n",
    "    % (math.log(10) * np.log10(1e13), math.log(10) * np.log10(1e15))\n",
    ")\n",
    "ncount_nodist = Nc.DataClusterNCount.new(\n",
    "    ca, \"NcClusterRedshiftNodist\", \"NcClusterMassNodist\"\n",
    ")\n",
    "ca.prepare(cosmo, cluster_z, cluster_m)\n",
    "mset = Ncm.MSet.new_array([cosmo, cluster_z, cluster_m])\n",
    "\n",
    "hmf.set_area_sd(skysim_cat.sky_area)\n",
    "ncount_nodist.set_lnM_true(Ncm.Vector.new_array(ncdata_Table[\"LNM_TRUE\"]))\n",
    "ncount_nodist.set_z_true(Ncm.Vector.new_array(ncdata_Table[\"Z_TRUE\"]))\n",
    "\n",
    "# Because we are using true masses and redshifts in this example,\n",
    "# we replicate the true data in the 'observed' masses and redshift attributes\n",
    "ncount_nodist.set_lnM_obs(Ncm.Matrix.new_array(ncdata_Table[\"LNM_TRUE\"], 1))\n",
    "ncount_nodist.set_z_obs(Ncm.Matrix.new_array(ncdata_Table[\"Z_TRUE\"], 1))\n",
    "ncount_nodist.props.area = skysim_cat.sky_area\n",
    "ncount_nodist.true_data(True)\n",
    "ncount_nodist.set_init(True)\n",
    "\n",
    "print(ncount_nodist.desc)\n",
    "\n",
    "ncount_nodist.catalog_save(\"ncount_nodist.fits\", True)\n",
    "ncount_nodist.catalog_load(\"ncount_nodist.fits\")\n",
    "\n",
    "ncdata_fits = fits.open(\"ncount_nodist.fits\")\n",
    "print(ncount_nodist.desc)\n",
    "\n",
    "\n",
    "# ncdata_fits.info()\n",
    "\n",
    "ncdata_data = ncdata_fits[1].data\n",
    "\n",
    "ncdata_Table = Table(ncdata_data)\n",
    "ncdata_Table.columns\n",
    "ncdata_Table.sort(\"LNM_TRUE\")\n",
    "\n",
    "display(ncdata_Table)"
   ]
  },
  {
   "cell_type": "code",
   "execution_count": null,
   "id": "fada854f-1cb5-47a8-8670-be21a3169389",
   "metadata": {},
   "outputs": [],
   "source": []
  }
 ],
 "metadata": {
  "kernelspec": {
   "display_name": "numcosmo",
   "language": "python",
   "name": "numcosmo"
  },
  "language_info": {
   "codemirror_mode": {
    "name": "ipython",
    "version": 3
   },
   "file_extension": ".py",
   "mimetype": "text/x-python",
   "name": "python",
   "nbconvert_exporter": "python",
   "pygments_lexer": "ipython3",
   "version": "3.12.4"
  }
 },
 "nbformat": 4,
 "nbformat_minor": 5
}
