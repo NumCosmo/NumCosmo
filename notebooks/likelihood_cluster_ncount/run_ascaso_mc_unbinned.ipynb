{
 "cells": [
  {
   "cell_type": "code",
   "execution_count": 1,
   "metadata": {},
   "outputs": [
    {
     "data": {
      "text/html": [
       "<style>.container { width:80% !important; }</style>"
      ],
      "text/plain": [
       "<IPython.core.display.HTML object>"
      ]
     },
     "metadata": {},
     "output_type": "display_data"
    }
   ],
   "source": [
    "  #!/usr/bin/env python\n",
    "\n",
    "try:\n",
    "    import gi\n",
    "    gi.require_version('NumCosmo', '1.0')\n",
    "    gi.require_version('NumCosmoMath', '1.0')\n",
    "except:\n",
    "    pass\n",
    "\n",
    "import math\n",
    "import matplotlib.pyplot as plt\n",
    "from gi.repository import GObject\n",
    "from gi.repository import NumCosmo as nc\n",
    "from gi.repository import NumCosmoMath as ncm\n",
    "import numpy as np\n",
    "from astropy.io import fits\n",
    "from astropy.table import Table\n",
    "import sys\n",
    "sys.path.insert(0,'../../scripts')\n",
    "\n",
    "import pyccl as ccl\n",
    "\n",
    "from nc_ccl import create_nc_obj, ccl_cosmo_set_high_prec\n",
    "\n",
    "ncm.cfg_init()\n",
    "ncm.cfg_set_log_handler (lambda msg: sys.stdout.write (msg) and sys.stdout.flush ())\n",
    "\n",
    "from IPython.display import display, HTML\n",
    "display(HTML(\"<style>.container { width:80% !important; }</style>\"))"
   ]
  },
  {
   "cell_type": "markdown",
   "metadata": {},
   "source": [
    "initialize the `Cosmological models`"
   ]
  },
  {
   "cell_type": "code",
   "execution_count": 2,
   "metadata": {},
   "outputs": [],
   "source": [
    "#CCL cosmology\n",
    "cosmo_ccl = ccl.Cosmology(Omega_c = 0.30711 - 0.048254, Omega_b = 0.048254, h = 0.677, sigma8 = 0.8822714165197718, n_s=0.96, Omega_k = 0, transfer_function='eisenstein_hu')\n",
    "#ccl_cosmo_set_high_prec (cosmo_ccl)\n",
    "\n",
    "cosmo_numcosmo, dist, ps_lin, ps_nln, hmfunc = create_nc_obj (cosmo_ccl)\n",
    "\n",
    "psf = hmfunc.peek_psf ()"
   ]
  },
  {
   "cell_type": "markdown",
   "metadata": {},
   "source": [
    "# Define proxy modelling\n",
    "Use a mass proxy, define the probability for observing a proxy given a mass and redhsift"
   ]
  },
  {
   "cell_type": "markdown",
   "metadata": {},
   "source": [
    "$$\n",
    "P(\\log\\lambda|M,z) = N(\\mu(M,z), \\sigma^2(M,z))\n",
    "$$\n",
    "the mean is\n",
    "$$\n",
    "\\mu(M,z) = \\mu_0 + a_\\mu^M\\log_{10}\\frac{M}{M_0} + a_\\mu^z\\log_{10}\\frac{1+z}{1+z_0} \n",
    "$$\n",
    "variance is\n",
    "$$\n",
    "\\sigma(M,z) = \\sigma_0 + a_\\sigma^M\\log_{10}\\frac{M}{M_0} + a_\\sigma ^z\\log_{10}\\frac{1+z}{1+z_0} \n",
    "$$"
   ]
  },
  {
   "cell_type": "code",
   "execution_count": 3,
   "metadata": {},
   "outputs": [],
   "source": [
    "#CosmoSim_proxy model\n",
    "#M_0, z_0\n",
    "theta_pivot = [3e14/0.71, 0.6]\n",
    "#\\mu_0, a_\\mu^z, a_\\mu^M\n",
    "theta_mu = [3.19, -0.7, 2]\n",
    "#\\sigma_0, a_\\sigma^z, a_\\sigma^M\n",
    "theta_sigma = [0.33, 0.,-0.08]\n",
    "#Richness object\n",
    "\n",
    "area = (0.25)*4*np.pi / 100.0\n",
    "lnRl = 1.0\n",
    "lnRu = 2.0\n",
    "zl = 0.25\n",
    "zu = 1.0\n",
    "\n",
    "#Numcosmo_proxy model\n",
    "cluster_z = nc.ClusterRedshift.new_from_name(\"NcClusterRedshiftNodist{'z-min': <%20.15e>, 'z-max':<%20.15e>}\" % (zl, zu))\n",
    "cluster_m = nc.ClusterMass.new_from_name(\"NcClusterMassAscaso{'M0':<%20.15e>,'z0':<%20.15e>,'lnRichness-min':<%20.15e>, 'lnRichness-max':<%20.15e>}\" % (3e14/(0.71),0.6, lnRl, lnRu))\n",
    "cluster_m.param_set_by_name('mup0', 3.19)\n",
    "cluster_m.param_set_by_name('mup1', 2/np.log(10))\n",
    "cluster_m.param_set_by_name('mup2', -0.7/np.log(10))\n",
    "cluster_m.param_set_by_name('sigmap0', 0.33)\n",
    "cluster_m.param_set_by_name('sigmap1', -0.08/np.log(10))\n",
    "cluster_m.param_set_by_name('sigmap2', 0/np.log(10))"
   ]
  },
  {
   "cell_type": "markdown",
   "metadata": {},
   "source": [
    "initialize the `ClusterAbundance` object"
   ]
  },
  {
   "cell_type": "code",
   "execution_count": 4,
   "metadata": {},
   "outputs": [],
   "source": [
    "#Numcosmo Cluster Abundance\n",
    "\n",
    "#First we need to define the multiplicity function here we will use the tinker\n",
    "mulf = nc.MultiplicityFuncTinker.new()\n",
    "mulf.set_linear_interp (True)\n",
    "mulf.set_mdef(nc.MultiplicityFuncMassDef.CRITICAL)\n",
    "mulf.set_Delta(200)\n",
    "#Second we need to construct a filtered power spectrum \n",
    "\n",
    "hmf = nc.HaloMassFunction.new(dist,psf,mulf)\n",
    "hmf.set_area(area)\n",
    "\n",
    "ca = nc.ClusterAbundance.new(hmf,None)\n",
    "mset = ncm.MSet.new_array([cosmo_numcosmo,cluster_m,cluster_z])"
   ]
  },
  {
   "cell_type": "code",
   "execution_count": 5,
   "metadata": {},
   "outputs": [],
   "source": [
    "ncount = Nc.DataClusterNCount.new (ca, \"NcClusterRedshiftNodist\", \"NcClusterMassAscaso\")\n",
    "ncount.catalog_load (\"ncount_ascaso.fits\")"
   ]
  },
  {
   "cell_type": "code",
   "execution_count": 6,
   "metadata": {},
   "outputs": [],
   "source": [
    "cosmo_numcosmo.props.Omegac_fit = True\n",
    "cosmo_numcosmo.props.w0_fit = True\n",
    "cluster_m.props.mup0_fit = True\n",
    "mset.prepare_fparam_map ()"
   ]
  },
  {
   "cell_type": "code",
   "execution_count": 7,
   "metadata": {},
   "outputs": [],
   "source": [
    "ncount.set_binned (False)"
   ]
  },
  {
   "cell_type": "code",
   "execution_count": 8,
   "metadata": {},
   "outputs": [],
   "source": [
    "dset = ncm.Dataset.new ()\n",
    "dset.append_data (ncount)"
   ]
  },
  {
   "cell_type": "code",
   "execution_count": 9,
   "metadata": {},
   "outputs": [],
   "source": [
    "lh = Ncm.Likelihood (dataset = dset)\n",
    "fit = Ncm.Fit.new (Ncm.FitType.NLOPT, \"ln-neldermead\", lh, mset, Ncm.FitGradType.NUMDIFF_FORWARD)"
   ]
  },
  {
   "cell_type": "code",
   "execution_count": 10,
   "metadata": {},
   "outputs": [
    {
     "name": "stdout",
     "output_type": "stream",
     "text": [
      "#----------------------------------------------------------------------------------\n",
      "# NcmFitMC: Skipping 5000 realizations, will start at 5001-th realization.\n",
      "# NcmFitMC: Largest relative error 5.000000e-03 attained: 1.614945e-03\n"
     ]
    }
   ],
   "source": [
    "fitmc = Ncm.FitMC.new (fit, Ncm.FitMCResampleType.FROM_MODEL, Ncm.FitRunMsgs.SIMPLE)\n",
    "fitmc.set_nthreads (3)\n",
    "\n",
    "fitmc.set_data_file (\"ncount_ascaso_mc_unbinned.fits\")\n",
    "\n",
    "fitmc.start_run ()\n",
    "fitmc.run_lre (5000, 5.0e-3)\n",
    "fitmc.end_run ()\n"
   ]
  },
  {
   "cell_type": "code",
   "execution_count": 11,
   "metadata": {},
   "outputs": [
    {
     "name": "stdout",
     "output_type": "stream",
     "text": [
      "#----------------------------------------------------------------------------------\n",
      "# NcmMSetCatalog: Calculating catalog effective sample size from chain 5000 => 0 using 100 blocks:\n",
      "# NcmMSetCatalog: - best cutoff time:         0   \n",
      "# NcmMSetCatalog: - total number of points:   5000\n",
      "# NcmMSetCatalog: - number of points left:    5000\n",
      "# NcmMSetCatalog: - worst parameter:          NcClusterMass:mup0[03]\n",
      "# NcmMSetCatalog: - worst parameter ess:      4292.95\n",
      "# NcmMSetCatalog: - worst parameter ar order: 9   \n",
      "# NcmMSetCatalog: - ess's:                    5000.00 4734.57 5000.00 4292.95\n",
      "#----------------------------------------------------------------------------------\n",
      "# NcmMSetCatalog: Applying the Heidelberger and Welch's convergence diagnostic from chain 5000 => 0 using 100 blocks:\n",
      "# NcmMSetCatalog: - best cutoff time:         0   \n",
      "# NcmMSetCatalog: - worst parameter:          NcClusterMass:mup0[03]\n",
      "# NcmMSetCatalog: - worst parameter pvalue:   15.84%\n",
      "# NcmMSetCatalog: - worst parameter ar order: 5   \n",
      "# NcmMSetCatalog: - target pvalue:             1.70%\n",
      "# NcmMSetCatalog: - pvalues:                  52.52% 19.84% 84.86% 15.84%\n",
      "#----------------------------------------------------------------------------------\n",
      "# Model[03000]:\n",
      "#   - NcHICosmo : Chevalier-Polarski-Linder parametrization\n",
      "#----------------------------------------------------------------------------------\n",
      "# Model parameters\n",
      "#   -         H0[00]:  67.7                [FIXED]\n",
      "#   -     Omegac[01]:  0.192121296118012   [FREE]\n",
      "#   -     Omegak[02]:  0                   [FIXED]\n",
      "#   -    Tgamma0[03]:  2.725               [FIXED]\n",
      "#   -         Yp[04]:  0.24                [FIXED]\n",
      "#   -       ENnu[05]:  3.046               [FIXED]\n",
      "#   -     Omegab[06]:  0.048254            [FIXED]\n",
      "#   -         w0[07]: -1.44360656595635    [FREE]\n",
      "#   -         w1[08]:  0                   [FIXED]\n",
      "#----------------------------------------------------------------------------------\n",
      "# Model[05000]:\n",
      "#   - NcHIPrim : Power Law model for primordial spectra\n",
      "#----------------------------------------------------------------------------------\n",
      "# Model parameters\n",
      "#   - ln10e10ASA[00]:  3.18008784661456    [FIXED]\n",
      "#   - T_SA_ratio[01]:  0.2                 [FIXED]\n",
      "#   -       n_SA[02]:  0.96                [FIXED]\n",
      "#   -        n_T[03]:  0                   [FIXED]\n",
      "#----------------------------------------------------------------------------------\n",
      "# Model[07000]:\n",
      "#   - NcClusterMass : Ascaso Ln-normal richness distribution\n",
      "#----------------------------------------------------------------------------------\n",
      "# Model parameters\n",
      "#   -       mup0[00]:  3.19633881522375    [FREE]\n",
      "#   -       mup1[01]:  0.868588963806504   [FIXED]\n",
      "#   -       mup2[02]: -0.304006137332276   [FIXED]\n",
      "#   -    sigmap0[03]:  0.33                [FIXED]\n",
      "#   -    sigmap1[04]: -0.0347435585522601  [FIXED]\n",
      "#   -    sigmap2[05]:  0                   [FIXED]\n",
      "#----------------------------------------------------------------------------------\n",
      "# Model[08000]:\n",
      "#   - NcClusterRedshift : No redshift distribution\n",
      "#----------------------------------------------------------------------------------\n",
      "# Model parameters\n",
      "#----------------------------------------------------------------------------------\n",
      "# NcmMSetCatalog full covariance matrix\n",
      "#                                                                       -------------------------------------------------------------\n",
      "# NcmFit:m2lnL[99999:00] = -3095        (-3529       ) +/-  111.6       |  1           |  0.5941      |  0.6401      | -0.1481      |\n",
      "#       Omegac[03000:01] =  0.2604      ( 0.1921     ) +/-  0.02973     |  0.5941      |  1           |  0.5547      | -0.756       |\n",
      "#           w0[03000:07] = -1.016       (-1.444      ) +/-  0.1132      |  0.6401      |  0.5547      |  1           |  0.1068      |\n",
      "#         mup0[07000:00] =  3.183       ( 3.196      ) +/-  0.1451      | -0.1481      | -0.756       |  0.1068      |  1           |\n",
      "#                                                                       -------------------------------------------------------------\n",
      "# NcmMSetCatalog: Current mean:  -3095.3       0.26036     -1.0159       3.1833     \n",
      "# NcmMSetCatalog: Current msd:    1.5777       0.00042046   0.0016016    0.0020521  \n",
      "# NcmMSetCatalog: Current sd:     111.56       0.029731     0.11325      0.14511    \n",
      "# NcmMSetCatalog: Current var:    12446        0.00088395   0.012825     0.021056   \n",
      "# NcmMSetCatalog: Current tau:    1            1            1            1          \n",
      "#----------------------------------------------------------------------------------\n",
      "# Bayesian evidence:                                       1362.17553563347 +/-       6.27754661822427\n",
      "# 1 sigma posterior volume:                               -164.184885259697\n",
      "# 1 sigma posterior volume (Gaussian approximation):      -6.25929158070471\n"
     ]
    }
   ],
   "source": [
    "ntests = 100.0\n",
    "mcat = fitmc.mcat\n",
    "\n",
    "mcat.log_current_chain_stats ()\n",
    "mcat.calc_max_ess_time (ntests, Ncm.FitRunMsgs.FULL);\n",
    "mcat.calc_heidel_diag (ntests, 0.0, Ncm.FitRunMsgs.FULL);\n",
    "\n",
    "mset.pretty_log ()\n",
    "mcat.log_full_covar ()\n",
    "mcat.log_current_stats ()\n",
    "\n",
    "be, post_lnnorm_sd = mcat.get_post_lnnorm ()\n",
    "lnevol, glnvol = mcat.get_post_lnvol (0.6827)\n",
    "\n",
    "Ncm.cfg_msg_sepa ()\n",
    "print (\"# Bayesian evidence:                                 % 22.15g +/- % 22.15g\" % (be, post_lnnorm_sd))\n",
    "print (\"# 1 sigma posterior volume:                          % 22.15g\" % lnevol)\n",
    "print (\"# 1 sigma posterior volume (Gaussian approximation): % 22.15g\" % glnvol)"
   ]
  },
  {
   "cell_type": "code",
   "execution_count": null,
   "metadata": {},
   "outputs": [],
   "source": []
  }
 ],
 "metadata": {
  "interpreter": {
   "hash": "916dbcbb3f70747c44a77c7bcd40155683ae19c65e1c03b4aa3499c5328201f1"
  },
  "kernelspec": {
   "display_name": "Python 3 (ipykernel)",
   "language": "python",
   "name": "python3"
  },
  "language_info": {
   "codemirror_mode": {
    "name": "ipython",
    "version": 3
   },
   "file_extension": ".py",
   "mimetype": "text/x-python",
   "name": "python",
   "nbconvert_exporter": "python",
   "pygments_lexer": "ipython3",
   "version": "3.10.5"
  }
 },
 "nbformat": 4,
 "nbformat_minor": 2
}
