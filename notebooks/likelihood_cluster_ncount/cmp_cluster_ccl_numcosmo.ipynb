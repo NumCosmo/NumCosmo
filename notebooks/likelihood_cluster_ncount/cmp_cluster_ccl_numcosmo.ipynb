{
 "cells": [
  {
   "cell_type": "markdown",
   "metadata": {},
   "source": [
    "---\n",
    "**License**\n",
    "\n",
    " cmp_cluster_ccl_numcosmo\n",
    "\n",
    " Wen Aug 07 15:11:00 2024\\\n",
    " Copyright  2024\\\n",
    " Henrique Cardoso Naves Lettieri  <henrique.cnl23@uel.br>\n",
    " Mariana Penna-Lima     <pennalima@gmail.com> \\\n",
    " Sandro Dias Pinto Vitenti <vitenti@uel.br>\n",
    "\n",
    "---\n",
    "---\n",
    "\n",
    " cmp_cluster_ccl_numcosmo\\\n",
    " Copyright (C) 2021 Henrique Cardoso Naves Lettieri  <henrique.cnl23@uel.br>, Mariana Penna-Lima <pennalima@gmail.com>, Sandro Dias Pinto Vitenti <vitenti@uel.br>\n",
    "\n",
    " numcosmo is free software: you can redistribute it and/or modify it\n",
    " under the terms of the GNU General Public License as published by the\n",
    " Free Software Foundation, either version 3 of the License, or\n",
    " (at your option) any later version.\n",
    "\n",
    " numcosmo is distributed in the hope that it will be useful, but\n",
    " WITHOUT ANY WARRANTY; without even the implied warranty of\n",
    " MERCHANTABILITY or FITNESS FOR A PARTICULAR PURPOSE.\n",
    " See the GNU General Public License for more details.\n",
    "\n",
    " You should have received a copy of the GNU General Public License along\n",
    " with this program.  If not, see <http://www.gnu.org/licenses/>.\n",
    " \n",
    "---"
   ]
  },
  {
   "cell_type": "markdown",
   "metadata": {},
   "source": [
    "<a class=\"anchor\" id=\"contents\"></a>\n",
    "# Contents\n",
    "\n",
    "### 1. [Packages](#libraries)\n",
    "### 2. [Cosmological models](#constants)\n",
    "### 3. [Halo mass function](#mass)\n",
    "### 4. [Unbinned approach](#unbinned)\n",
    "####     4.1 [Mock catalog](#mock)\n",
    "####     4.2 [NumCosmo predictions](#numcosmo_ubinned)\n",
    "####     4.3 [CCL preditictios](#ccl_unbinned)\n",
    "####     4.4 [Relative error plots](#plots_unbinned)\n",
    "### 5. [Binned approach](#binned)\n",
    "####     5.1 [Bins](#bins)\n",
    "####     5.2 [NumCosmo predictions](#numcosmo_binned)\n",
    "####     5.3 [CCL preditictios](#ccl_binned)\n",
    "####     5.4 [Relative error plots](#plots_binned)"
   ]
  },
  {
   "cell_type": "markdown",
   "metadata": {},
   "source": [
    "<a class=\"anchor\" id=\"libraries\"></a>\n",
    "## 1.  [Packages](#libraries)\n",
    "***\n",
    "\n",
    "In the cell below, we import the libraries `CCL` and `NumCosmo` for comparison between their cluster counts predictions in an unbinned and binned true table analyses.\n",
    "\n",
    "To import `NumCosmo`, we should import `GObject`. This is important because `GObject` help us to maps the C language in other languages, like python.\n",
    "\n",
    "The package `sys` is related to the manipulation and obtaining information from the python environment imports the auxiliary library `CLCosmo_Sim` to run the binned counts version of `CCL`. The package `numpy` help us with the calculations, gives us access to mathematical functions, while astropy is used too handle the fits files for the cluster mock catalog.\n",
    "\n"
   ]
  },
  {
   "cell_type": "code",
   "execution_count": 5,
   "metadata": {},
   "outputs": [
    {
     "ename": "ImportError",
     "evalue": "libgsl.so.27: cannot open shared object file: No such file or directory",
     "output_type": "error",
     "traceback": [
      "\u001b[0;31m---------------------------------------------------------------------------\u001b[0m",
      "\u001b[0;31mImportError\u001b[0m                               Traceback (most recent call last)",
      "Cell \u001b[0;32mIn[5], line 4\u001b[0m\n\u001b[1;32m      2\u001b[0m \u001b[38;5;28;01mfrom\u001b[39;00m \u001b[38;5;21;01mnumcosmo_py\u001b[39;00m \u001b[38;5;28;01mimport\u001b[39;00m Ncm, Nc\n\u001b[1;32m      3\u001b[0m \u001b[38;5;28;01mfrom\u001b[39;00m \u001b[38;5;21;01mnumcosmo_py\u001b[39;00m\u001b[38;5;21;01m.\u001b[39;00m\u001b[38;5;21;01mexternal\u001b[39;00m\u001b[38;5;21;01m.\u001b[39;00m\u001b[38;5;21;01mpyssc\u001b[39;00m \u001b[38;5;28;01mimport\u001b[39;00m pyssc \u001b[38;5;28;01mas\u001b[39;00m PySSC\n\u001b[0;32m----> 4\u001b[0m \u001b[38;5;28;01mfrom\u001b[39;00m \u001b[38;5;21;01mnumcosmo_py\u001b[39;00m\u001b[38;5;21;01m.\u001b[39;00m\u001b[38;5;21;01mccl\u001b[39;00m \u001b[38;5;28;01mimport\u001b[39;00m nc_ccl\n\u001b[1;32m      6\u001b[0m Ncm\u001b[38;5;241m.\u001b[39mcfg_init()\n\u001b[1;32m      7\u001b[0m Ncm\u001b[38;5;241m.\u001b[39mcfg_set_log_handler(\u001b[38;5;28;01mlambda\u001b[39;00m msg: sys\u001b[38;5;241m.\u001b[39mstdout\u001b[38;5;241m.\u001b[39mwrite(msg) \u001b[38;5;129;01mand\u001b[39;00m sys\u001b[38;5;241m.\u001b[39mstdout\u001b[38;5;241m.\u001b[39mflush())\n",
      "File \u001b[0;32m~/cosmolibraries/NumCosmo/numcosmo_py/ccl/nc_ccl.py:28\u001b[0m\n\u001b[1;32m     26\u001b[0m \u001b[38;5;28;01mimport\u001b[39;00m \u001b[38;5;21;01mmath\u001b[39;00m\n\u001b[1;32m     27\u001b[0m \u001b[38;5;28;01mimport\u001b[39;00m \u001b[38;5;21;01mnumpy\u001b[39;00m \u001b[38;5;28;01mas\u001b[39;00m \u001b[38;5;21;01mnp\u001b[39;00m\n\u001b[0;32m---> 28\u001b[0m \u001b[38;5;28;01mimport\u001b[39;00m \u001b[38;5;21;01mpyccl\u001b[39;00m\n\u001b[1;32m     30\u001b[0m \u001b[38;5;28;01mfrom\u001b[39;00m \u001b[38;5;21;01mnumcosmo_py\u001b[39;00m \u001b[38;5;28;01mimport\u001b[39;00m Ncm, Nc\n\u001b[1;32m     33\u001b[0m \u001b[38;5;66;03m# pylint:disable-next=too-many-arguments,too-many-locals\u001b[39;00m\n",
      "File \u001b[0;32m~/cosmolibraries/venv/lib/python3.12/site-packages/pyccl/__init__.py:22\u001b[0m\n\u001b[1;32m     19\u001b[0m numpy\u001b[38;5;241m.\u001b[39mint \u001b[38;5;241m=\u001b[39m \u001b[38;5;28mint\u001b[39m \u001b[38;5;28;01mif\u001b[39;00m parse(numpy\u001b[38;5;241m.\u001b[39m__version__) \u001b[38;5;241m>\u001b[39m\u001b[38;5;241m=\u001b[39m parse(\u001b[38;5;124m\"\u001b[39m\u001b[38;5;124m1.20.0\u001b[39m\u001b[38;5;124m\"\u001b[39m) \u001b[38;5;28;01melse\u001b[39;00m numpy\u001b[38;5;241m.\u001b[39mint\n\u001b[1;32m     20\u001b[0m \u001b[38;5;28;01mdel\u001b[39;00m parse, numpy\n\u001b[0;32m---> 22\u001b[0m \u001b[38;5;28;01mfrom\u001b[39;00m \u001b[38;5;21;01m.\u001b[39;00m \u001b[38;5;28;01mimport\u001b[39;00m ccllib \u001b[38;5;28;01mas\u001b[39;00m lib\n\u001b[1;32m     23\u001b[0m \u001b[38;5;28;01mfrom\u001b[39;00m \u001b[38;5;21;01m.\u001b[39;00m\u001b[38;5;21;01merrors\u001b[39;00m \u001b[38;5;28;01mimport\u001b[39;00m \u001b[38;5;241m*\u001b[39m\n\u001b[1;32m     24\u001b[0m \u001b[38;5;28;01mfrom\u001b[39;00m \u001b[38;5;21;01m.\u001b[39;00m\u001b[38;5;21;01m_core\u001b[39;00m \u001b[38;5;28;01mimport\u001b[39;00m \u001b[38;5;241m*\u001b[39m\n",
      "File \u001b[0;32m~/cosmolibraries/venv/lib/python3.12/site-packages/pyccl/ccllib.py:16\u001b[0m\n\u001b[1;32m     14\u001b[0m \u001b[38;5;66;03m# Import the low-level C/C++ module\u001b[39;00m\n\u001b[1;32m     15\u001b[0m \u001b[38;5;28;01mif\u001b[39;00m __package__ \u001b[38;5;129;01mor\u001b[39;00m \u001b[38;5;124m\"\u001b[39m\u001b[38;5;124m.\u001b[39m\u001b[38;5;124m\"\u001b[39m \u001b[38;5;129;01min\u001b[39;00m \u001b[38;5;18m__name__\u001b[39m:\n\u001b[0;32m---> 16\u001b[0m     \u001b[38;5;28;01mfrom\u001b[39;00m \u001b[38;5;21;01m.\u001b[39;00m \u001b[38;5;28;01mimport\u001b[39;00m _ccllib\n\u001b[1;32m     17\u001b[0m \u001b[38;5;28;01melse\u001b[39;00m:\n\u001b[1;32m     18\u001b[0m     \u001b[38;5;28;01mimport\u001b[39;00m \u001b[38;5;21;01m_ccllib\u001b[39;00m\n",
      "\u001b[0;31mImportError\u001b[0m: libgsl.so.27: cannot open shared object file: No such file or directory"
     ]
    }
   ],
   "source": [
    "#!/usr/bin/env python\n",
    "from numcosmo_py import Ncm, Nc\n",
    "from numcosmo_py.external.pyssc import pyssc as PySSC\n",
    "from numcosmo_py.ccl import nc_ccl\n",
    "\n",
    "Ncm.cfg_init()\n",
    "Ncm.cfg_set_log_handler(lambda msg: sys.stdout.write(msg) and sys.stdout.flush())\n",
    "import numpy as np\n",
    "from matplotlib import pyplot as plt\n",
    "from astropy.io import fits\n",
    "from astropy.table import Table\n",
    "\n",
    "\n",
    "\n",
    "\n",
    "import pyccl as ccl\n",
    "get_ipython().run_line_magic('load_ext', 'autoreload')\n",
    "get_ipython().run_line_magic('autoreload', '2')\n",
    "\n",
    "import sys\n",
    "sys.path.insert(0,'../../../CLCosmo_Sim/modeling/')\n",
    "sys.path.insert(0,'../../../CLCosmo_Sim/modeling/old_files/')\n",
    "import CL_COUNT_modeling_halo_mass_function as hmf\n",
    "import CL_COUNT_cluster_abundance as cl_count\n",
    "import old_CL_COUNT_class_cluster_abundance as old_cl_count\n",
    "\n",
    "import time"
   ]
  },
  {
   "cell_type": "markdown",
   "metadata": {},
   "source": [
    "<a class=\"anchor\" id=\"constants\"></a>\n",
    "## 2. [Cosmological models](#constants)\n",
    "***\n",
    "In this cell below we fix the cosmological constants to avoid conflits in the calculations and comparisons between the libraries.\n",
    "\n",
    "\n",
    "$\\Omega_{C}$ = 0.265 The density fraction at z=0 of CDM.<br>\n",
    "$\\Omega_{b}$ = 0.0448 The density fraction at z=0 of baryons.<br>\n",
    "$\\Omega_{k}$ = 0.0 The curvature density fraction at z=0.<br>\n",
    "$H_{0 }$ = 71.00   The Hubble constant.<br>\n",
    "$Tcmb_{0}$  = 2.7255 The temperature at z=0 of CMB.<br>\n",
    "$\\sigma_{8}$ = 0.80 The normalization of the power spectrum today. <br>\n",
    "$n_{s}$ = 0.96 Scalar spectral index.<br>\n",
    "$N_{eff}$ = 0.0 3.046 effective number of massless+massive neutrinos present at recombination.<br>\n",
    "$\\omega_{0}$ = -1.0 First order term of the dark energy equation of state.<br>\n",
    "$\\omega_{a}$ = 0.0 Second order term of the dark energy equation of state.<br>\n"
   ]
  },
  {
   "cell_type": "code",
   "execution_count": null,
   "metadata": {},
   "outputs": [],
   "source": [
    "# CCL cosmology default paramters\n",
    "cosmo_ccl_default = ccl.Cosmology(Omega_c=0.265, Omega_b=0.0448, h=0.71, sigma8=0.8, n_s=0.96, Omega_k=0, transfer_function=\"eisenstein_hu\",)\n",
    "\n",
    "\n",
    "# CCL cosmology high precision paramters\n",
    "ccl_params = nc_ccl.CCLParams()\n",
    "ccl_params.set_high_prec_params()\n",
    "\n",
    "cosmo_ccl_high = ccl.Cosmology(Omega_c=0.265, Omega_b=0.0448, h=0.71, sigma8=0.8, n_s=0.96, Omega_k=0, transfer_function=\"eisenstein_hu\",)\n",
    "\n",
    "#NumCosmo Cosmology\n",
    "cosmo_numcosmo, dist, ps_lin, ps_nln, psf = nc_ccl.create_nc_obj(cosmo_ccl_default)"
   ]
  },
  {
   "cell_type": "markdown",
   "metadata": {},
   "source": [
    "<a class=\"anchor\" id=\"mass\"></a>\n",
    "## 3.  [Halo Mass Function](#mass)\n",
    "***\n",
    "In the cell above we initialize the halo mass function objects in both `NumCosmo` and `CCL`"
   ]
  },
  {
   "cell_type": "code",
   "execution_count": null,
   "metadata": {},
   "outputs": [],
   "source": [
    "# Numcosmo Halo mass function\n",
    "\n",
    "# First we define the mass proxy in the first analysis is used the true mass and redshift of the clusters\n",
    "cluster_m = Nc.ClusterMassNodist(lnM_min=np.log(10) * 14.0, lnM_max=np.log(10) * 16.0)\n",
    "cluster_z = Nc.ClusterRedshiftNodist(z_min=0.0, z_max=2.0)\n",
    "\n",
    "sky_area = 5264.05 * (np.pi / 180) ** 2\n",
    "\n",
    "\n",
    "mulf = Nc.MultiplicityFuncTinker.new()\n",
    "mulf.set_linear_interp(True)\n",
    "mulf.set_mdef(Nc.MultiplicityFuncMassDef.CRITICAL)\n",
    "mulf.set_Delta(200)\n",
    "\n",
    "hmf_numcosmo = Nc.HaloMassFunction.new(dist, psf, mulf)\n",
    "hmf_numcosmo.set_area(sky_area)\n",
    "\n",
    "ca = Nc.ClusterAbundance.new(hmf_numcosmo, None)\n",
    "\n",
    "mset = Ncm.MSet.new_array([cosmo_numcosmo, cluster_m, cluster_z])\n",
    "mset.pretty_log()\n",
    "print(\"sigma8 = \" + str(cosmo_numcosmo.sigma8(psf)))\n",
    "\n",
    "\n",
    "# CCL halo mass funtion\n",
    "massdef = ccl.halos.massdef.MassDef(200, \"critical\")\n",
    "hmf_ccl = ccl.halos.hmfunc.MassFuncTinker08(mass_def=massdef)"
   ]
  },
  {
   "cell_type": "markdown",
   "metadata": {},
   "source": [
    "<a class=\"anchor\" id=\"unbinned\"></a>\n",
    "## 4.  [Unbinned approach](#unbinned)\n",
    "***\n",
    "In the cells above we compute"
   ]
  },
  {
   "cell_type": "markdown",
   "metadata": {},
   "source": [
    " $$\\frac{d^2V(z_i)}{dz d\\Omega}\\frac{dn(M_i,z_i)}{d\\log_{10}M_i}$$ for each masses and redshifts in a dark matter halo catalog"
   ]
  },
  {
   "cell_type": "markdown",
   "metadata": {},
   "source": [
    "<a class=\"anchor\" id=\"mock\"></a>\n",
    "### 4.1 [Mock catalog](#mock)\n",
    "\n",
    "In the cell below we created a the mock catalog to compare the predictions in the unbinned case"
   ]
  },
  {
   "cell_type": "code",
   "execution_count": null,
   "metadata": {},
   "outputs": [],
   "source": [
    "# Generates cluster count catalog data\n",
    "ncdata = Nc.DataClusterNCount.new(ca, \"NcClusterRedshiftNodist\", \"NcClusterMassNodist\")\n",
    "rng = Ncm.RNG.pool_get(\"example_ca_sampling\")\n",
    "ncdata.init_from_sampling(mset, sky_area, rng)\n",
    "ncdata.catalog_save(\"ca_nodist_unbinned_numcosmo.fits\", True)\n",
    "\n",
    "ncdata_fits = fits.open(\"ca_nodist_unbinned_numcosmo.fits\")\n",
    "# ncdata_fits.info()\n",
    "\n",
    "ncdata_data = ncdata_fits[1].data\n",
    "\n",
    "ncdata_Table = Table(ncdata_data)\n",
    "ncdata_Table.columns\n",
    "ncdata_Table.sort(\"Z_TRUE\")\n",
    "\n",
    "display(ncdata_Table)"
   ]
  },
  {
   "cell_type": "markdown",
   "metadata": {},
   "source": [
    "<a class=\"anchor\" id=\"numcosmo_ubinned\"></a>\n",
    "### 4.2 [NumCosmo predictions](#numcosmo_ubinned)"
   ]
  },
  {
   "cell_type": "code",
   "execution_count": null,
   "metadata": {},
   "outputs": [],
   "source": [
    "# Using Numcosmo\n",
    "t0 = time.time()\n",
    "d2n_numcosmo = []\n",
    "\n",
    "for i in ncdata_Table:\n",
    "    d2n_numcosmo.append(ca.d2n(cosmo_numcosmo, cluster_z, cluster_m, i[1], i[0]))\n",
    "d2n_numcosmo = np.array(d2n_numcosmo)\n",
    "\n",
    "t1 = time.time()\n",
    "print(\"time (seconds) = \" + str(t1 - t0))"
   ]
  },
  {
   "cell_type": "markdown",
   "metadata": {},
   "source": [
    "<a class=\"anchor\" id=\"ccl_ubinned\"></a>\n",
    "### 4.3 [CCL predictions](#ccl_ubinned)"
   ]
  },
  {
   "cell_type": "code",
   "execution_count": null,
   "metadata": {},
   "outputs": [],
   "source": [
    "conversion_factor = sky_area/np.log(10)\n",
    "conversion_factor = sky_area/np.log(10)\n",
    "# Using CCL default parameters\n",
    "d2n_clcosmo_default = []\n",
    "t0 = time.time()\n",
    "for i in ncdata_Table:\n",
    "    d2n_cclcosmo_default.append(conversion_factor * hmf.dVdzdOmega(z = i[0] , cosmo=cosmo_ccl_default) * hmf_ccl.__call__(cosmo =cosmo_ccl_default , M=np.exp(i[1]) , a=1/(1+i[0])))\n",
    "\n",
    "d2n_cclcosmo_default = np.array(d2n_cclcosmo_default)\n",
    "t1 = time.time()\n",
    "\n",
    "print(\"time (seconds) = \" + str(t1 - t0))\n",
    "\n",
    "# Using CCL high precision parameters\n",
    "d2n_clcosmo_high = []\n",
    "t0 = time.time()\n",
    "for i in ncdata_Table:\n",
    "    d2n_cclcosmo_high.append(conversion_factor * hmf.dVdzdOmega(z = i[0] , cosmo=cosmo_ccl_high) * hmf_ccl.__call__(cosmo =cosmo_ccl_high , M=np.exp(i[1]) , a=1/(1+i[0])))\n",
    "\n",
    "d2n_cclcosmo_high = np.array(d2n_cclcosmo_high)\n",
    "t1 = time.time()\n",
    "\n",
    "print(\"time (seconds) = \" + str(t1 - t0))"
   ]
  },
  {
   "cell_type": "markdown",
   "metadata": {},
   "source": [
    "<a class=\"anchor\" id=\"plots_unbinned\"></a>\n",
    "### 4.4 [Relative error plots](#plots_unbinned)"
   ]
  },
  {
   "cell_type": "code",
   "execution_count": null,
   "metadata": {},
   "outputs": [],
   "source": [
    "z = []\n",
    "log10M = []\n",
    "#default parameters\n",
    "for i in ncdata_Table:\n",
    "    z.append(i[0])\n",
    "    log10M.append(i[1]/np.log(10))\n",
    "\n",
    "diff = abs(100 * (d2n_cclcosmo_default - d2n_numcosmo) / d2n_numcosmo)\n",
    "\n",
    "plt.figure(figsize=(14, 7))\n",
    "plt.yscale(\"log\")\n",
    "\n",
    "plt.tick_params(axis=\"both\", which=\"major\", labelsize=15)\n",
    "\n",
    "plt.scatter(z, diff, s=20, c=log10M)\n",
    "plt.colorbar()\n",
    "plt.grid(True, which=\"both\")\n",
    "plt.xlabel(r\"$z$\", fontsize=20)\n",
    "plt.ylabel(r\"|bias| CCL exact method to Numcosmo $(\\%)$\", fontsize=20)\n",
    "plt.ylim(10e-10, 1)\n",
    "plt.show()\n",
    "\n",
    "#high precision parameters\n",
    "diff = abs(100 * (d2n_cclcosmo_high - d2n_numcosmo) / d2n_numcosmo)\n",
    "\n",
    "plt.figure(figsize=(14, 7))\n",
    "plt.yscale(\"log\")\n",
    "plt.tick_params(axis=\"both\", which=\"major\", labelsize=15)\n",
    "\n",
    "plt.scatter(z, diff, s=20, c=log10M)\n",
    "plt.colorbar()\n",
    "plt.grid(True, which=\"both\")\n",
    "plt.xlabel(r\"$z$\", fontsize=20)\n",
    "plt.ylabel(r\"|bias| CCL exact method to Numcosmo $(\\%)$\", fontsize=20)\n",
    "plt.ylim(10e-10, 1)\n",
    "plt.show()"
   ]
  },
  {
   "cell_type": "markdown",
   "metadata": {},
   "source": [
    "<a class=\"anchor\" id=\"binned\"></a>\n",
    "## 5.  [Binned approach](#binned)\n",
    "***\n",
    "In the cells above we compute the 2D integral\n"
   ]
  },
  {
   "cell_type": "markdown",
   "metadata": {},
   "source": [
    "$$\n",
    "N_{\\alpha\\beta}^{\\rm predicted} = \\Omega_s\\int_{z_\\alpha}^{z_{\\alpha + 1}} dz\\int_{\\log_{10}M_\\beta}^{\\log_{10}M_{\\beta + 1}}\\frac{d^2V(z)}{dz d\\Omega}\\frac{dn(M,z)}{d\\log_{10}M}d\\log_{10}M\n",
    "$$"
   ]
  },
  {
   "cell_type": "markdown",
   "metadata": {},
   "source": [
    "<a class=\"anchor\" id=\"mass\"></a>\n",
    "### 5.1 [Bins](#bins)\n",
    "\n",
    "In the cell below we created the bins to compare the predictions in the binned case"
   ]
  },
  {
   "cell_type": "code",
   "execution_count": null,
   "metadata": {},
   "outputs": [],
   "source": [
    "# Bins definition\n",
    "z_nodes = np.linspace(0.1, 2, 9)\n",
    "log10M_nodes = np.linspace(14, 14.8, 11)\n",
    "lnM_nodes = log10M_nodes * np.log(10)\n",
    "\n",
    "def binning(nodes): return [[nodes[i],nodes[i+1]] for i in range(len(nodes)-1)]\n",
    "\n",
    "z_bins = binning(z_nodes)\n",
    "log10M_bins = binning(log10M_nodes)"
   ]
  },
  {
   "cell_type": "markdown",
   "metadata": {},
   "source": [
    "<a class=\"anchor\" id=\"numcosmo_binned\"></a>\n",
    "### 5.2 [NumCosmo predictions](#numcosmo_binned)"
   ]
  },
  {
   "cell_type": "code",
   "execution_count": null,
   "metadata": {},
   "outputs": [],
   "source": [
    "t0 = time.time()\n",
    "\n",
    "Numcosmo_Abundance = []\n",
    "ca.prepare(cosmo_numcosmo, cluster_z, cluster_m)\n",
    "for zl, zu in zip(z_nodes, z_nodes[1:]):\n",
    "    nc_bin_mass = []\n",
    "    for lnMl, lnMu in zip(lnM_nodes, lnM_nodes[1:]):\n",
    "        Pbin = ca.intp_bin_d2n(\n",
    "            cosmo_numcosmo, cluster_z, cluster_m, [lnMl], [lnMu], None, [zl], [zu], None\n",
    "        )\n",
    "        nc_bin_mass.append(Pbin)\n",
    "    Numcosmo_Abundance.append(nc_bin_mass)\n",
    "\n",
    "# Numcosmo_Abundance[i][j] is the number of clusters in i-th z_bin and j-th mass_bin\n",
    "\n",
    "\n",
    "t1 = time.time()\n",
    "print(\"time (seconds) = \" + str(t1 - t0))"
   ]
  },
  {
   "cell_type": "markdown",
   "metadata": {},
   "source": [
    "<a class=\"anchor\" id=\"ccl_binned\"></a>\n",
    "### 5.3 [CCL predictions](#ccl_binned)"
   ]
  },
  {
   "cell_type": "code",
   "execution_count": null,
   "metadata": {},
   "outputs": [],
   "source": [
    "# CCL Cluster Abundance\n",
    "\n",
    "#default parameters\n",
    "t0 = time.time()\n",
    "clc = old_cl_count.ClusterAbundance()\n",
    "clc.set_cosmology(cosmo=cosmo_ccl_default, hmd=hmf_ccl, massdef=massdef)\n",
    "clc.sky_area = sky_area\n",
    "\n",
    "CCL_Abundance_default = clc.Cluster_Abundance_MZ(\n",
    "    zbin_edges=z_nodes, proxybin_edges=log10M_nodes, method=\"exact\"\n",
    ")\n",
    "t1 = time.time()\n",
    "print(\"time (seconds) = \" + str(t1 - t0))\n",
    "\n",
    "\n",
    "#high precision parameters\n",
    "t0 = time.time()\n",
    "clc = old_cl_count.ClusterAbundance()\n",
    "clc.set_cosmology(cosmo=cosmo_ccl_high, hmd=hmf_ccl, massdef=massdef)\n",
    "clc.sky_area = sky_area\n",
    "\n",
    "CCL_Abundance_high = clc.Cluster_Abundance_MZ(\n",
    "    zbin_edges=z_nodes, proxybin_edges=log10M_nodes, method=\"exact\"\n",
    ")\n",
    "t1 = time.time()\n",
    "print(\"time (seconds) = \" + str(t1 - t0))\n",
    "\n",
    "\n",
    "                                                        "
   ]
  },
  {
   "cell_type": "markdown",
   "metadata": {},
   "source": [
    "<a class=\"anchor\" id=\"plots_binned\"></a>\n",
    "### 5.4 [Relative error plots](#plots_binned)"
   ]
  },
  {
   "cell_type": "code",
   "execution_count": null,
   "metadata": {},
   "outputs": [],
   "source": [
    "#default parameters\n",
    "diff = []\n",
    "\n",
    "for i in range(len(CCL_Abundance_default)):\n",
    "    diff.append(100 * abs((Numcosmo_Abundance[i] - CCL_Abundance_default[i]) / Numcosmo_Abundance[i]))\n",
    "\n",
    "plt.figure(figsize=(14, 9))\n",
    "plt.yscale(\"log\")\n",
    "z_ = [np.mean([z_nodes[i], z_nodes[i + 1]]) for i in np.arange(len(z_nodes) - 1)]\n",
    "mass = [\n",
    "    np.mean([10 ** log10M_nodes[i], 10 ** log10M_nodes[i + 1]])\n",
    "    for i in np.arange(len(log10M_nodes) - 1)\n",
    "]\n",
    "\n",
    "plt.tick_params(axis=\"both\", which=\"both\", labelsize=15)\n",
    "legend = []\n",
    "for i in range(len(z_)-1):\n",
    "    plt.scatter(mass, diff[:][i])\n",
    "    legend.append(str(round(z_[i], 3)) + \"< z <\" + str(round(z_[i + 1], 3)))\n",
    "plt.legend(legend, loc=4, fontsize=10)\n",
    "plt.grid(True, which=\"both\")\n",
    "plt.ylabel(r\"|bias| CCL exact method to Numcosmo $(\\%)$\", fontsize=20)\n",
    "plt.xlabel(r\"$z$\", fontsize=20)\n",
    "#plt.ylim(1e-9, 1e-1)\n",
    "plt.show()\n",
    "\n",
    "\n",
    "#high precision parameters\n",
    "diff = []\n",
    "\n",
    "for i in range(len(CCL_Abundance_high)):\n",
    "    diff.append(100 * abs((Numcosmo_Abundance[i] - CCL_Abundance_high[i]) / Numcosmo_Abundance[i]))\n",
    "\n",
    "plt.figure(figsize=(14, 9))\n",
    "plt.yscale(\"log\")\n",
    "z_ = [np.mean([z_nodes[i], z_nodes[i + 1]]) for i in np.arange(len(z_nodes) - 1)]\n",
    "mass = [\n",
    "    np.mean([10 ** log10M_nodes[i], 10 ** log10M_nodes[i + 1]])\n",
    "    for i in np.arange(len(log10M_nodes) - 1)\n",
    "]\n",
    "\n",
    "plt.tick_params(axis=\"both\", which=\"both\", labelsize=15)\n",
    "legend = []\n",
    "for i in range(len(z_)-1):\n",
    "    plt.scatter(mass, diff[:][i])\n",
    "    legend.append(str(round(z_[i], 3)) + \"< z <\" + str(round(z_[i + 1], 3)))\n",
    "plt.legend(legend, loc=4, fontsize=10)\n",
    "plt.grid(True, which=\"both\")\n",
    "plt.ylabel(r\"|bias| CCL exact method to Numcosmo $(\\%)$\", fontsize=20)\n",
    "plt.xlabel(r\"$z$\", fontsize=20)\n",
    "#plt.ylim(1e-9, 1e-1)\n",
    "plt.show()"
   ]
  },
  {
   "cell_type": "code",
   "execution_count": null,
   "metadata": {},
   "outputs": [],
   "source": []
  }
 ],
 "metadata": {
  "interpreter": {
   "hash": "916dbcbb3f70747c44a77c7bcd40155683ae19c65e1c03b4aa3499c5328201f1"
  },
  "kernelspec": {
   "display_name": "Python 3 (ipykernel)",
   "language": "python",
   "name": "python3"
  },
  "language_info": {
   "codemirror_mode": {
    "name": "ipython",
    "version": 3
   },
   "file_extension": ".py",
   "mimetype": "text/x-python",
   "name": "python",
   "nbconvert_exporter": "python",
   "pygments_lexer": "ipython3",
   "version": "3.12.4"
  }
 },
 "nbformat": 4,
 "nbformat_minor": 4
}
