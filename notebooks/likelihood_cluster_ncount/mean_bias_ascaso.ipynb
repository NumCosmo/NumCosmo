{
 "cells": [
  {
   "cell_type": "code",
   "execution_count": 1,
   "metadata": {},
   "outputs": [],
   "source": [
    "  #!/usr/bin/env python\n",
    "\n",
    "try:\n",
    "    import gi\n",
    "    gi.require_version('NumCosmo', '1.0')\n",
    "    gi.require_version('NumCosmoMath', '1.0')\n",
    "except:\n",
    "    pass\n",
    "\n",
    "import math\n",
    "import matplotlib.pyplot as plt\n",
    "from gi.repository import GObject\n",
    "from gi.repository import NumCosmo as Nc\n",
    "from gi.repository import NumCosmoMath as Ncm\n",
    "import numpy as np\n",
    "from astropy.io import fits\n",
    "from astropy.table import Table\n",
    "import sys\n",
    "sys.path.insert(0,'/home/henrique/Programas_Cosmologia/CLCosmo_Sim/cluster_abundance/')\n",
    "sys.path.insert(0,'../../scripts')\n",
    "\n",
    "import pyccl as ccl\n",
    "%load_ext autoreload\n",
    "%autoreload 2\n",
    "import CL_COUNT_class_cluster_abundance as cl_count\n",
    "import time\n",
    "from nc_ccl import create_nc_obj, ccl_cosmo_set_high_prec\n",
    "\n",
    "Ncm.cfg_init()\n",
    "Ncm.cfg_set_log_handler (lambda msg: sys.stdout.write (msg) and sys.stdout.flush ())"
   ]
  },
  {
   "cell_type": "markdown",
   "metadata": {},
   "source": [
    "initialize the `Cosmological model`"
   ]
  },
  {
   "cell_type": "code",
   "execution_count": 2,
   "metadata": {},
   "outputs": [],
   "source": [
    "cosmo = Nc.HICosmo.new_from_name(Nc.HICosmo, \"NcHICosmoDEXcdm\")\n",
    "reion = Nc.HIReionCamb.new () \n",
    "\n",
    "prim = Nc.HIPrimPowerLaw.new () \n",
    "\n",
    "cosmo.add_submodel (reion)\n",
    "cosmo.add_submodel (prim)\n",
    "\n",
    "dist = Nc.Distance.new(2.0)\n",
    "\n",
    "tf = Nc.TransferFunc.new_from_name('NcTransferFuncEH')\n",
    "\n",
    "psml = Nc.PowspecMLTransfer.new (tf)\n",
    "psml.require_kmin (1.0e-3)\n",
    "psml.require_kmax (1.0e3)\n",
    "psf = Ncm.PowspecFilter.new (psml, Ncm.PowspecFilterType.TOPHAT)\n",
    "psf.set_best_lnr0 ()\n",
    "\n",
    "mulf = Nc.MultiplicityFuncTinker.new ()\n",
    "mulf.set_mdef (Nc.MultiplicityFuncMassDef.CRITICAL)\n",
    "mulf.set_Delta (200.0)\n",
    "#mulf.set_sim (Nc.MultiplicityFuncBocquetSim.DM)\n",
    "\n",
    "hmf = Nc.HaloMassFunction.new (dist, psf, mulf)\n",
    "hmf.set_area_sd(5264.05)\n",
    "\n",
    "#Creating the halo bias \n",
    "hbias_Tinker = Nc.HaloBiasTinker.new(hmf)"
   ]
  },
  {
   "cell_type": "markdown",
   "metadata": {},
   "source": [
    "# Define proxy modelling\n",
    "Use a mass proxy, define the probability for observing a proxy given a mass and redhsift"
   ]
  },
  {
   "cell_type": "markdown",
   "metadata": {},
   "source": [
    "$$\n",
    "P(\\log\\lambda|M,z) = N(\\mu(M,z), \\sigma^2(M,z))\n",
    "$$\n",
    "the mean is\n",
    "$$\n",
    "    \\mu(M,z) = \\mu_0 + a_\\mu^M\\log_{10}\\frac{M}{M_0} + a_\\mu^z\\log_{10}\\frac{1+z}{1+z_0} \n",
    "$$\n",
    "variance is\n",
    "$$\n",
    "\\sigma(M,z) = \\sigma_0 + a_\\sigma^M\\log_{10}\\frac{M}{M_0} + a_\\sigma ^z\\log_{10}\\frac{1+z}{1+z_0} \n",
    "$$"
   ]
  },
  {
   "cell_type": "code",
   "execution_count": 3,
   "metadata": {},
   "outputs": [],
   "source": [
    "cluster_z = Nc.ClusterRedshift.new_from_name(\"NcClusterRedshiftNodist{'z-min': <%20.15e>, 'z-max':<%20.15e>}\" % (0,2))\n",
    "cluster_m = Nc.ClusterMass.new_from_name(\"NcClusterMassAscaso{'M0':<%20.15e>,'z0':<%20.15e>,'lnRichness-min':<%20.15e>, 'lnRichness-max':<%20.15e>}\" % (3e14/(0.71),0.6, 0, 1/np.log(10) * np.log10(10e2)))\n",
    "cluster_m.param_set_by_name('mup0', 3.19)\n",
    "cluster_m.param_set_by_name('mup1', 2/np.log(10))\n",
    "cluster_m.param_set_by_name('mup2', -0.7/np.log(10))\n",
    "cluster_m.param_set_by_name('sigmap0', 0.33)\n",
    "cluster_m.param_set_by_name('sigmap1', -0.08/np.log(10))\n",
    "cluster_m.param_set_by_name('sigmap2', 0/np.log(10))"
   ]
  },
  {
   "cell_type": "markdown",
   "metadata": {},
   "source": [
    "Create the `Cluster Abundance Data`"
   ]
  },
  {
   "cell_type": "code",
   "execution_count": 4,
   "metadata": {},
   "outputs": [
    {
     "name": "stdout",
     "output_type": "stream",
     "text": [
      "#----------------------------------------------------------------------------------\n",
      "# Model[03000]:\n",
      "#   - NcHICosmo : XCDM - Constant EOS\n",
      "#----------------------------------------------------------------------------------\n",
      "# Model parameters\n",
      "#   -         H0[00]:  67.36               [FIXED]\n",
      "#   -     Omegac[01]:  0.2568              [FIXED]\n",
      "#   -     Omegax[02]:  0.7                 [FIXED]\n",
      "#   -    Tgamma0[03]:  2.7245              [FIXED]\n",
      "#   -         Yp[04]:  0.24                [FIXED]\n",
      "#   -       ENnu[05]:  3.046               [FIXED]\n",
      "#   -     Omegab[06]:  0.0432              [FIXED]\n",
      "#   -          w[07]: -1                   [FIXED]\n",
      "#----------------------------------------------------------------------------------\n",
      "# Model[05000]:\n",
      "#   - NcHIPrim : Power Law model for primordial spectra\n",
      "#----------------------------------------------------------------------------------\n",
      "# Model parameters\n",
      "#   - ln10e10ASA[00]:  3.179               [FIXED]\n",
      "#   - T_SA_ratio[01]:  0.2                 [FIXED]\n",
      "#   -       n_SA[02]:  0.9742              [FIXED]\n",
      "#   -        n_T[03]:  0                   [FIXED]\n",
      "#----------------------------------------------------------------------------------\n",
      "# Model[07000]:\n",
      "#   - NcClusterMass : Ascaso Ln-normal richness distribution\n",
      "#----------------------------------------------------------------------------------\n",
      "# Model parameters\n",
      "#   -       mup0[00]:  3.19                [FIXED]\n",
      "#   -       mup1[01]:  0.868588963806504   [FIXED]\n",
      "#   -       mup2[02]: -0.304006137332276   [FIXED]\n",
      "#   -    sigmap0[03]:  0.33                [FIXED]\n",
      "#   -    sigmap1[04]: -0.0347435585522601  [FIXED]\n",
      "#   -    sigmap2[05]:  0                   [FIXED]\n",
      "#----------------------------------------------------------------------------------\n",
      "# Model[08000]:\n",
      "#   - NcClusterRedshift : No redshift distribution\n",
      "#----------------------------------------------------------------------------------\n",
      "# Model parameters\n",
      "#----------------------------------------------------------------------------------\n",
      "# Model[13000]:\n",
      "#   - NcHIReion : Reion-CAMB\n",
      "#----------------------------------------------------------------------------------\n",
      "# Model parameters\n",
      "#   -       z_re[00]:  13                  [FIXED]\n",
      "#   -    z_He_re[01]:  3.5                 [FIXED]\n"
     ]
    }
   ],
   "source": [
    "ca = Nc.ClusterAbundance.new(hmf,hbias_Tinker)\n",
    "mset = Ncm.MSet.new_array([cosmo,cluster_m,cluster_z])\n",
    "\n",
    "#Generates cluster count catalog data\n",
    "\n",
    "\n",
    "ncdata = Nc.DataClusterNCount.new(ca,'NcClusterRedshiftNodist','NcClusterMassAscaso')\n",
    "rng = Ncm.RNG.pool_get(\"example_ca_sampling\");\n",
    "ncdata.init_from_sampling(mset,5264.05*(np.pi/180)**2,rng)\n",
    "ncdata.catalog_save(\"ca_mean_bias_ascaso.fits\", True)\n",
    "\n",
    "ncdata_fits = fits.open('ca_mean_bias_ascaso.fits')\n",
    "#ncdata_fits.info()\n",
    "\n",
    "ncdata_data =  ncdata_fits[1].data\n",
    "\n",
    "ncdata_Table = Table(ncdata_data)\n",
    "ncdata_Table.columns\n",
    "ncdata_Table.sort('LNM_OBS')\n",
    "mset.pretty_log()\n"
   ]
  },
  {
   "cell_type": "markdown",
   "metadata": {},
   "source": [
    "# Un-binned approach"
   ]
  },
  {
   "cell_type": "markdown",
   "metadata": {},
   "source": [
    "$$\n",
    "b_i =\\frac{\\Omega_s}{x_i}\\int_{\\log_{10}M_{min}}^{\\log_{10}M_{max}}\\frac{d^2V(z_i)}{dz d\\Omega}\\frac{dn(M,z_i)}{d\\log_{10}M}P(\\lambda_i|M,z_i)b(M,z_i) d\\log_{10}M\n",
    "$$"
   ]
  },
  {
   "cell_type": "code",
   "execution_count": 5,
   "metadata": {},
   "outputs": [
    {
     "data": {
      "text/html": [
       "<div><i>Table length=5577604</i>\n",
       "<table id=\"table140032966012640\" class=\"table-striped table-bordered table-condensed\">\n",
       "<thead><tr><th>Z_OBS</th><th>LNM_OBS</th><th>Z_TRUE</th><th>LNM_TRUE</th></tr></thead>\n",
       "<thead><tr><th>float64</th><th>float64</th><th>float64</th><th>float64</th></tr></thead>\n",
       "<tr><td>0.945079810402473</td><td>7.285239522758502e-09</td><td>0.945079810402473</td><td>30.65332397696699</td></tr>\n",
       "<tr><td>1.3819426778316708</td><td>3.9351147684829613e-07</td><td>1.3819426778316708</td><td>30.356771464842158</td></tr>\n",
       "<tr><td>1.2103446456089348</td><td>4.4257021287325005e-07</td><td>1.2103446456089348</td><td>30.184843222204567</td></tr>\n",
       "<tr><td>1.1945959102956092</td><td>6.958697037692807e-07</td><td>1.1945959102956092</td><td>30.07819423503248</td></tr>\n",
       "<tr><td>1.3618670297755766</td><td>1.0809774521614024e-06</td><td>1.3618670297755766</td><td>30.203391212990397</td></tr>\n",
       "<tr><td>0.9077914055198468</td><td>1.1299386450946969e-06</td><td>0.9077914055198468</td><td>30.169747269719405</td></tr>\n",
       "<tr><td>0.9352088677758387</td><td>1.3576971183981712e-06</td><td>0.9352088677758387</td><td>30.25962373080609</td></tr>\n",
       "<tr><td>1.4300710616492707</td><td>1.4220425693725613e-06</td><td>1.4300710616492707</td><td>30.10456059709779</td></tr>\n",
       "<tr><td>0.16439571798523195</td><td>1.512338978021388e-06</td><td>0.16439571798523195</td><td>30.015166094506835</td></tr>\n",
       "<tr><td>1.8653508580435016</td><td>1.5909372542456668e-06</td><td>1.8653508580435016</td><td>30.178868086956488</td></tr>\n",
       "<tr><td>...</td><td>...</td><td>...</td><td>...</td></tr>\n",
       "<tr><td>0.752841640489995</td><td>4.484667725043803</td><td>0.752841640489995</td><td>34.47782175389695</td></tr>\n",
       "<tr><td>1.037403806627674</td><td>4.501006578506422</td><td>1.037403806627674</td><td>34.499809620764836</td></tr>\n",
       "<tr><td>0.17571834106990292</td><td>4.511496520035418</td><td>0.17571834106990292</td><td>34.46956934700512</td></tr>\n",
       "<tr><td>0.39138401778365045</td><td>4.522902291161533</td><td>0.39138401778365045</td><td>34.342808932560175</td></tr>\n",
       "<tr><td>0.5124138930870339</td><td>4.538462747713644</td><td>0.5124138930870339</td><td>34.36115713191393</td></tr>\n",
       "<tr><td>0.14425948245457995</td><td>4.554335906394446</td><td>0.14425948245457995</td><td>34.2508330528575</td></tr>\n",
       "<tr><td>0.3778718710149723</td><td>4.612962394346303</td><td>0.3778718710149723</td><td>34.465275724463446</td></tr>\n",
       "<tr><td>0.8188081140405145</td><td>4.624033213271806</td><td>0.8188081140405145</td><td>34.452080872439225</td></tr>\n",
       "<tr><td>0.40844302838712804</td><td>4.659011693204671</td><td>0.40844302838712804</td><td>34.37046338593124</td></tr>\n",
       "<tr><td>0.31455134031830895</td><td>4.818492560281981</td><td>0.31455134031830895</td><td>34.478804462367904</td></tr>\n",
       "</table></div>"
      ],
      "text/plain": [
       "<Table length=5577604>\n",
       "       Z_OBS               LNM_OBS         ...      LNM_TRUE     \n",
       "      float64              float64         ...      float64      \n",
       "------------------- ---------------------- ... ------------------\n",
       "  0.945079810402473  7.285239522758502e-09 ...  30.65332397696699\n",
       " 1.3819426778316708 3.9351147684829613e-07 ... 30.356771464842158\n",
       " 1.2103446456089348 4.4257021287325005e-07 ... 30.184843222204567\n",
       " 1.1945959102956092  6.958697037692807e-07 ...  30.07819423503248\n",
       " 1.3618670297755766 1.0809774521614024e-06 ... 30.203391212990397\n",
       " 0.9077914055198468 1.1299386450946969e-06 ... 30.169747269719405\n",
       " 0.9352088677758387 1.3576971183981712e-06 ...  30.25962373080609\n",
       " 1.4300710616492707 1.4220425693725613e-06 ...  30.10456059709779\n",
       "0.16439571798523195  1.512338978021388e-06 ... 30.015166094506835\n",
       " 1.8653508580435016 1.5909372542456668e-06 ... 30.178868086956488\n",
       "                ...                    ... ...                ...\n",
       "  0.752841640489995      4.484667725043803 ...  34.47782175389695\n",
       "  1.037403806627674      4.501006578506422 ... 34.499809620764836\n",
       "0.17571834106990292      4.511496520035418 ...  34.46956934700512\n",
       "0.39138401778365045      4.522902291161533 ... 34.342808932560175\n",
       " 0.5124138930870339      4.538462747713644 ...  34.36115713191393\n",
       "0.14425948245457995      4.554335906394446 ...   34.2508330528575\n",
       " 0.3778718710149723      4.612962394346303 ... 34.465275724463446\n",
       " 0.8188081140405145      4.624033213271806 ... 34.452080872439225\n",
       "0.40844302838712804      4.659011693204671 ...  34.37046338593124\n",
       "0.31455134031830895      4.818492560281981 ... 34.478804462367904"
      ]
     },
     "metadata": {},
     "output_type": "display_data"
    },
    {
     "name": "stdout",
     "output_type": "stream",
     "text": [
      "2.516219529859268\n"
     ]
    },
    {
     "ename": "KeyboardInterrupt",
     "evalue": "",
     "output_type": "error",
     "traceback": [
      "\u001b[0;31m---------------------------------------------------------------------------\u001b[0m",
      "\u001b[0;31mKeyboardInterrupt\u001b[0m                         Traceback (most recent call last)",
      "\u001b[0;32m/tmp/ipykernel_67442/139903223.py\u001b[0m in \u001b[0;36m<module>\u001b[0;34m\u001b[0m\n\u001b[1;32m      7\u001b[0m \u001b[0mdv\u001b[0m \u001b[0;34m=\u001b[0m \u001b[0;34m[\u001b[0m\u001b[0;34m]\u001b[0m\u001b[0;34m\u001b[0m\u001b[0;34m\u001b[0m\u001b[0m\n\u001b[1;32m      8\u001b[0m \u001b[0;34m\u001b[0m\u001b[0m\n\u001b[0;32m----> 9\u001b[0;31m \u001b[0;32mfor\u001b[0m \u001b[0mcluster\u001b[0m \u001b[0;32min\u001b[0m \u001b[0mncdata_Table\u001b[0m\u001b[0;34m:\u001b[0m\u001b[0;34m\u001b[0m\u001b[0;34m\u001b[0m\u001b[0m\n\u001b[0m\u001b[1;32m     10\u001b[0m     \u001b[0mdnbias\u001b[0m\u001b[0;34m.\u001b[0m\u001b[0mappend\u001b[0m\u001b[0;34m(\u001b[0m\u001b[0;36m5264.05\u001b[0m\u001b[0;34m*\u001b[0m\u001b[0;34m(\u001b[0m\u001b[0mnp\u001b[0m\u001b[0;34m.\u001b[0m\u001b[0mpi\u001b[0m\u001b[0;34m/\u001b[0m\u001b[0;36m180\u001b[0m\u001b[0;34m)\u001b[0m\u001b[0;34m**\u001b[0m\u001b[0;36m2\u001b[0m\u001b[0;34m*\u001b[0m\u001b[0mca\u001b[0m\u001b[0;34m.\u001b[0m\u001b[0mintp_d2n_bias\u001b[0m\u001b[0;34m(\u001b[0m\u001b[0mcosmo\u001b[0m\u001b[0;34m,\u001b[0m \u001b[0mcluster_z\u001b[0m\u001b[0;34m,\u001b[0m \u001b[0mcluster_m\u001b[0m\u001b[0;34m,\u001b[0m \u001b[0;34m[\u001b[0m\u001b[0mcluster\u001b[0m\u001b[0;34m[\u001b[0m\u001b[0;36m1\u001b[0m\u001b[0;34m]\u001b[0m\u001b[0;34m]\u001b[0m\u001b[0;34m,\u001b[0m \u001b[0;32mNone\u001b[0m\u001b[0;34m,\u001b[0m \u001b[0;34m[\u001b[0m\u001b[0mcluster\u001b[0m\u001b[0;34m[\u001b[0m\u001b[0;36m0\u001b[0m\u001b[0;34m]\u001b[0m\u001b[0;34m]\u001b[0m\u001b[0;34m,\u001b[0m \u001b[0;32mNone\u001b[0m\u001b[0;34m)\u001b[0m \u001b[0;34m/\u001b[0m \u001b[0mca\u001b[0m\u001b[0;34m.\u001b[0m\u001b[0mlnM_p_d2n\u001b[0m\u001b[0;34m(\u001b[0m\u001b[0mcosmo\u001b[0m\u001b[0;34m,\u001b[0m \u001b[0mcluster_z\u001b[0m\u001b[0;34m,\u001b[0m \u001b[0mcluster_m\u001b[0m\u001b[0;34m,\u001b[0m \u001b[0;34m[\u001b[0m\u001b[0mcluster\u001b[0m\u001b[0;34m[\u001b[0m\u001b[0;36m1\u001b[0m\u001b[0;34m]\u001b[0m\u001b[0;34m]\u001b[0m\u001b[0;34m,\u001b[0m\u001b[0;32mNone\u001b[0m\u001b[0;34m,\u001b[0m \u001b[0mcluster\u001b[0m\u001b[0;34m[\u001b[0m\u001b[0;36m0\u001b[0m\u001b[0;34m]\u001b[0m\u001b[0;34m)\u001b[0m\u001b[0;34m)\u001b[0m\u001b[0;34m\u001b[0m\u001b[0;34m\u001b[0m\u001b[0m\n\u001b[1;32m     11\u001b[0m \u001b[0;34m\u001b[0m\u001b[0m\n",
      "\u001b[0;32m~/.local/lib/python3.8/site-packages/astropy/table/table.py\u001b[0m in \u001b[0;36m__getitem__\u001b[0;34m(self, item)\u001b[0m\n\u001b[1;32m   1867\u001b[0m             \u001b[0;32mreturn\u001b[0m \u001b[0mself\u001b[0m\u001b[0;34m.\u001b[0m\u001b[0mcolumns\u001b[0m\u001b[0;34m[\u001b[0m\u001b[0mitem\u001b[0m\u001b[0;34m]\u001b[0m\u001b[0;34m\u001b[0m\u001b[0;34m\u001b[0m\u001b[0m\n\u001b[1;32m   1868\u001b[0m         \u001b[0;32melif\u001b[0m \u001b[0misinstance\u001b[0m\u001b[0;34m(\u001b[0m\u001b[0mitem\u001b[0m\u001b[0;34m,\u001b[0m \u001b[0;34m(\u001b[0m\u001b[0mint\u001b[0m\u001b[0;34m,\u001b[0m \u001b[0mnp\u001b[0m\u001b[0;34m.\u001b[0m\u001b[0minteger\u001b[0m\u001b[0;34m)\u001b[0m\u001b[0;34m)\u001b[0m\u001b[0;34m:\u001b[0m\u001b[0;34m\u001b[0m\u001b[0;34m\u001b[0m\u001b[0m\n\u001b[0;32m-> 1869\u001b[0;31m             \u001b[0;32mreturn\u001b[0m \u001b[0mself\u001b[0m\u001b[0;34m.\u001b[0m\u001b[0mRow\u001b[0m\u001b[0;34m(\u001b[0m\u001b[0mself\u001b[0m\u001b[0;34m,\u001b[0m \u001b[0mitem\u001b[0m\u001b[0;34m)\u001b[0m\u001b[0;34m\u001b[0m\u001b[0;34m\u001b[0m\u001b[0m\n\u001b[0m\u001b[1;32m   1870\u001b[0m         \u001b[0;32melif\u001b[0m \u001b[0;34m(\u001b[0m\u001b[0misinstance\u001b[0m\u001b[0;34m(\u001b[0m\u001b[0mitem\u001b[0m\u001b[0;34m,\u001b[0m \u001b[0mnp\u001b[0m\u001b[0;34m.\u001b[0m\u001b[0mndarray\u001b[0m\u001b[0;34m)\u001b[0m \u001b[0;32mand\u001b[0m \u001b[0mitem\u001b[0m\u001b[0;34m.\u001b[0m\u001b[0mshape\u001b[0m \u001b[0;34m==\u001b[0m \u001b[0;34m(\u001b[0m\u001b[0;34m)\u001b[0m \u001b[0;32mand\u001b[0m \u001b[0mitem\u001b[0m\u001b[0;34m.\u001b[0m\u001b[0mdtype\u001b[0m\u001b[0;34m.\u001b[0m\u001b[0mkind\u001b[0m \u001b[0;34m==\u001b[0m \u001b[0;34m'i'\u001b[0m\u001b[0;34m)\u001b[0m\u001b[0;34m:\u001b[0m\u001b[0;34m\u001b[0m\u001b[0;34m\u001b[0m\u001b[0m\n\u001b[1;32m   1871\u001b[0m             \u001b[0;32mreturn\u001b[0m \u001b[0mself\u001b[0m\u001b[0;34m.\u001b[0m\u001b[0mRow\u001b[0m\u001b[0;34m(\u001b[0m\u001b[0mself\u001b[0m\u001b[0;34m,\u001b[0m \u001b[0mitem\u001b[0m\u001b[0;34m.\u001b[0m\u001b[0mitem\u001b[0m\u001b[0;34m(\u001b[0m\u001b[0;34m)\u001b[0m\u001b[0;34m)\u001b[0m\u001b[0;34m\u001b[0m\u001b[0;34m\u001b[0m\u001b[0m\n",
      "\u001b[0;32m~/.local/lib/python3.8/site-packages/astropy/table/row.py\u001b[0m in \u001b[0;36m__init__\u001b[0;34m(self, table, index)\u001b[0m\n\u001b[1;32m     34\u001b[0m         \u001b[0mindex\u001b[0m \u001b[0;34m=\u001b[0m \u001b[0moperator_index\u001b[0m\u001b[0;34m(\u001b[0m\u001b[0mindex\u001b[0m\u001b[0;34m)\u001b[0m\u001b[0;34m\u001b[0m\u001b[0;34m\u001b[0m\u001b[0m\n\u001b[1;32m     35\u001b[0m \u001b[0;34m\u001b[0m\u001b[0m\n\u001b[0;32m---> 36\u001b[0;31m         \u001b[0mn\u001b[0m \u001b[0;34m=\u001b[0m \u001b[0mlen\u001b[0m\u001b[0;34m(\u001b[0m\u001b[0mtable\u001b[0m\u001b[0;34m)\u001b[0m\u001b[0;34m\u001b[0m\u001b[0;34m\u001b[0m\u001b[0m\n\u001b[0m\u001b[1;32m     37\u001b[0m \u001b[0;34m\u001b[0m\u001b[0m\n\u001b[1;32m     38\u001b[0m         \u001b[0;32mif\u001b[0m \u001b[0mindex\u001b[0m \u001b[0;34m<\u001b[0m \u001b[0;34m-\u001b[0m\u001b[0mn\u001b[0m \u001b[0;32mor\u001b[0m \u001b[0mindex\u001b[0m \u001b[0;34m>=\u001b[0m \u001b[0mn\u001b[0m\u001b[0;34m:\u001b[0m\u001b[0;34m\u001b[0m\u001b[0;34m\u001b[0m\u001b[0m\n",
      "\u001b[0;32m~/.local/lib/python3.8/site-packages/astropy/table/table.py\u001b[0m in \u001b[0;36m__len__\u001b[0;34m(self)\u001b[0m\n\u001b[1;32m   2029\u001b[0m         \u001b[0;31m# try again in the except block.\u001b[0m\u001b[0;34m\u001b[0m\u001b[0;34m\u001b[0m\u001b[0;34m\u001b[0m\u001b[0m\n\u001b[1;32m   2030\u001b[0m         \u001b[0;32mtry\u001b[0m\u001b[0;34m:\u001b[0m\u001b[0;34m\u001b[0m\u001b[0;34m\u001b[0m\u001b[0m\n\u001b[0;32m-> 2031\u001b[0;31m             \u001b[0;32mreturn\u001b[0m \u001b[0mlen\u001b[0m\u001b[0;34m(\u001b[0m\u001b[0mOrderedDict\u001b[0m\u001b[0;34m.\u001b[0m\u001b[0m__getitem__\u001b[0m\u001b[0;34m(\u001b[0m\u001b[0mself\u001b[0m\u001b[0;34m.\u001b[0m\u001b[0mcolumns\u001b[0m\u001b[0;34m,\u001b[0m \u001b[0mself\u001b[0m\u001b[0;34m.\u001b[0m\u001b[0m_first_colname\u001b[0m\u001b[0;34m)\u001b[0m\u001b[0;34m)\u001b[0m\u001b[0;34m\u001b[0m\u001b[0;34m\u001b[0m\u001b[0m\n\u001b[0m\u001b[1;32m   2032\u001b[0m         \u001b[0;32mexcept\u001b[0m \u001b[0;34m(\u001b[0m\u001b[0mAttributeError\u001b[0m\u001b[0;34m,\u001b[0m \u001b[0mKeyError\u001b[0m\u001b[0;34m)\u001b[0m\u001b[0;34m:\u001b[0m\u001b[0;34m\u001b[0m\u001b[0;34m\u001b[0m\u001b[0m\n\u001b[1;32m   2033\u001b[0m             \u001b[0;32mif\u001b[0m \u001b[0mlen\u001b[0m\u001b[0;34m(\u001b[0m\u001b[0mself\u001b[0m\u001b[0;34m.\u001b[0m\u001b[0mcolumns\u001b[0m\u001b[0;34m)\u001b[0m \u001b[0;34m==\u001b[0m \u001b[0;36m0\u001b[0m\u001b[0;34m:\u001b[0m\u001b[0;34m\u001b[0m\u001b[0;34m\u001b[0m\u001b[0m\n",
      "\u001b[0;31mKeyboardInterrupt\u001b[0m: "
     ]
    }
   ],
   "source": [
    "display(ncdata_Table)\n",
    "ca.prepare(cosmo,cluster_z,cluster_m)\n",
    "\n",
    "\n",
    "print(5264.05*(np.pi/180)**2*ca.mean_bias(cosmo, cluster_z, cluster_m)/ca.n(cosmo,cluster_z,cluster_m))\n",
    "dnbias = []\n",
    "dv = []\n",
    "\n",
    "for cluster in ncdata_Table:\n",
    "    dnbias.append(5264.05*(np.pi/180)**2*ca.intp_d2n_bias(cosmo, cluster_z, cluster_m, [cluster[1]], None, [cluster[0]], None) / ca.lnM_p_d2n(cosmo, cluster_z, cluster_m, [cluster[1]],None, cluster[0]))\n",
    "\n",
    "dnbias\n"
   ]
  },
  {
   "cell_type": "code",
   "execution_count": null,
   "metadata": {},
   "outputs": [
    {
     "data": {
      "image/png": "[encoded data removed]",
      "text/plain": [
       "<Figure size 504x360 with 2 Axes>"
      ]
     },
     "metadata": {
      "needs_background": "light"
     },
     "output_type": "display_data"
    },
    {
     "data": {
      "image/png": "[encoded data removed]",
      "text/plain": [
       "<Figure size 504x360 with 2 Axes>"
      ]
     },
     "metadata": {
      "needs_background": "light"
     },
     "output_type": "display_data"
    }
   ],
   "source": [
    "plt.figure(figsize = (7,5))\n",
    "plt.scatter(ncdata_Table['Z_OBS'], dnbias ,s = 7, c = ncdata_Table['LNM_OBS'], cmap = 'viridis')\n",
    "plt.colorbar()\n",
    "plt.xlabel('redshift', fontsize = 20)\n",
    "plt.ylabel('$b_i$', fontsize = 20)\n",
    "#plt.yscale('log')\n",
    "plt.grid(True, which=\"both\")\n",
    "plt.show()\n",
    "\n",
    "\n",
    "plt.figure(figsize = (7,5))\n",
    "plt.scatter(ncdata_Table['Z_OBS'], dnbias ,s = 7, c = ncdata_Table['LNM_TRUE'], cmap = 'viridis')\n",
    "plt.colorbar()\n",
    "plt.xlabel('redshift', fontsize = 20)\n",
    "plt.ylabel('$b_i$', fontsize = 20)\n",
    "#plt.yscale('log')\n",
    "plt.grid(True, which=\"both\")\n",
    "plt.show()"
   ]
  },
  {
   "cell_type": "markdown",
   "metadata": {},
   "source": [
    "# Binned approach"
   ]
  },
  {
   "cell_type": "markdown",
   "metadata": {},
   "source": [
    "Compute the integral"
   ]
  },
  {
   "cell_type": "markdown",
   "metadata": {},
   "source": [
    "$$\n",
    "b_{\\alpha\\beta}^{\\rm predicted} = \\frac{\\Omega_s}{N_{\\alpha\\beta}^{\\rm predicted}}\\int_{z_\\alpha}^{z_{\\alpha + 1}} dz\\int_{\\lambda_{\\beta}}^{\\lambda_{\\beta + 1}}d\\lambda\\int_{\\log_{10}M_{min}}^{\\log_{10}M_{max}}\\frac{d^2V(z)}{dz d\\Omega}\\frac{dn(M,z)}{d\\log_{10}M}b(M,z)P(\\lambda|M,z)d\\log_{10}M\n",
    "$$"
   ]
  },
  {
   "cell_type": "code",
   "execution_count": null,
   "metadata": {},
   "outputs": [],
   "source": [
    "#Bins definition\n",
    "z_edges = np.linspace(0.25, 2, 5)\n",
    "proxy_edges = np.linspace(0, 2, 4)"
   ]
  },
  {
   "cell_type": "code",
   "execution_count": null,
   "metadata": {},
   "outputs": [
    {
     "name": "stdout",
     "output_type": "stream",
     "text": [
      "time (seconds) = 0.11003947257995605\n"
     ]
    }
   ],
   "source": [
    "#Using Numcosmo\n",
    "\n",
    "t0 = time.time()\n",
    "ca.prepare(cosmo,cluster_z,cluster_m)\n",
    "N_proxy_numcosmo = []\n",
    "\n",
    "\n",
    "for rich_l, rich_u in zip(proxy_edges, proxy_edges[1:]):\n",
    "    N_zbin = []\n",
    "    for zl, zu in zip(z_edges,z_edges[1:]):\n",
    "        N_zbin.append(5264.05*(np.pi/180)**2*ca.intp_bin_d2n_bias(cosmo,cluster_z,cluster_m, [rich_l], [rich_u],None ,[zl],[zu], None)/ca.intp_bin_d2n(cosmo, cluster_z, cluster_m, [rich_l], [rich_u], None, [zl], [zu], None))\n",
    "    \n",
    "    N_proxy_numcosmo.append(N_zbin)\n",
    "\n",
    "t1 = time.time()\n",
    "print('time (seconds) = ' + str(t1-t0))\n"
   ]
  },
  {
   "cell_type": "code",
   "execution_count": null,
   "metadata": {},
   "outputs": [
    {
     "data": {
      "text/plain": [
       "<matplotlib.legend.Legend at 0x7f9336b61cd0>"
      ]
     },
     "execution_count": 9,
     "metadata": {},
     "output_type": "execute_result"
    },
    {
     "data": {
      "image/png": "[encoded data removed]",
      "text/plain": [
       "<Figure size 648x720 with 1 Axes>"
      ]
     },
     "metadata": {
      "needs_background": "light"
     },
     "output_type": "display_data"
    }
   ],
   "source": [
    "plt.figure(figsize = (9,10))\n",
    "plt.yscale('log')\n",
    "z_ = [np.mean([z_edges[i],z_edges[i+1]]) for i in np.arange(len(z_edges)-1)]\n",
    "proxy = [np.mean([proxy_edges[i],proxy_edges[i+1]]) for i in np.arange(len(proxy_edges)-1)]\n",
    "\n",
    "\n",
    "plt.tick_params(axis='both', which=\"both\", labelsize= 15)\n",
    "for f in range(len(proxy_edges)-1):\n",
    "    if f == 0:\n",
    "        label = []\n",
    "    y_simps = (N_proxy_numcosmo[:][f])\n",
    "    plt.scatter(z_, y_simps, label = str(f+1)+' richness bin')\n",
    "plt.grid(True, which=\"both\" )\n",
    "plt.ylabel(r'$b_{\\alpha \\beta}$', fontsize = 20)\n",
    "#plt.ylim(1,2)\n",
    "plt.xlabel(r'$redshift$', fontsize = 20)\n",
    "plt.legend(frameon = False, fontsize = 20)"
   ]
  }
 ],
 "metadata": {
  "kernelspec": {
   "display_name": "NERSC Python",
   "language": "python",
   "name": "python3"
  },
  "language_info": {
   "codemirror_mode": {
    "name": "ipython",
    "version": 3
   },
   "file_extension": ".py",
   "mimetype": "text/x-python",
   "name": "python",
   "nbconvert_exporter": "python",
   "pygments_lexer": "ipython3",
   "version": "3.9.7"
  },
  "vscode": {
   "interpreter": {
    "hash": "916dbcbb3f70747c44a77c7bcd40155683ae19c65e1c03b4aa3499c5328201f1"
   }
  }
 },
 "nbformat": 4,
 "nbformat_minor": 4
}
