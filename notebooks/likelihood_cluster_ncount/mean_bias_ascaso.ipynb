{
 "cells": [
  {
   "cell_type": "code",
   "execution_count": null,
   "metadata": {},
   "outputs": [],
   "source": [
    "  #!/usr/bin/env python\n",
    "\n",
    "try:\n",
    "    import gi\n",
    "    gi.require_version('NumCosmo', '1.0')\n",
    "    gi.require_version('NumCosmoMath', '1.0')\n",
    "except:\n",
    "    pass\n",
    "\n",
    "import math\n",
    "import matplotlib.pyplot as plt\n",
    "from gi.repository import GObject\n",
    "from gi.repository import NumCosmo as Nc\n",
    "from gi.repository import NumCosmoMath as Ncm\n",
    "import numpy as np\n",
    "from astropy.io import fits\n",
    "from astropy.table import Table\n",
    "import sys\n",
    "sys.path.insert(0,'/home/henrique/Programas_Cosmologia/CLCosmo_Sim/cluster_abundance/')\n",
    "sys.path.insert(0,'../../scripts')\n",
    "\n",
    "import pyccl as ccl\n",
    "%load_ext autoreload\n",
    "%autoreload 2\n",
    "import CL_COUNT_class_cluster_abundance as cl_count\n",
    "import time\n",
    "from nc_ccl import create_nc_obj, ccl_cosmo_set_high_prec\n",
    "\n",
    "Ncm.cfg_init()\n",
    "Ncm.cfg_set_log_handler (lambda msg: sys.stdout.write (msg) and sys.stdout.flush ())"
   ]
  },
  {
   "cell_type": "markdown",
   "metadata": {},
   "source": [
    "initialize the `Cosmological model`"
   ]
  },
  {
   "cell_type": "code",
   "execution_count": null,
   "metadata": {},
   "outputs": [],
   "source": [
    "cosmo = Nc.HICosmo.new_from_name(Nc.HICosmo, \"NcHICosmoDEXcdm\")\n",
    "reion = Nc.HIReionCamb.new () \n",
    "\n",
    "prim = Nc.HIPrimPowerLaw.new () \n",
    "\n",
    "cosmo.add_submodel (reion)\n",
    "cosmo.add_submodel (prim)\n",
    "\n",
    "dist = Nc.Distance.new(2.0)\n",
    "\n",
    "tf = Nc.TransferFunc.new_from_name('NcTransferFuncEH')\n",
    "\n",
    "psml = Nc.PowspecMLTransfer.new (tf)\n",
    "psml.require_kmin (1.0e-3)\n",
    "psml.require_kmax (1.0e3)\n",
    "psf = Ncm.PowspecFilter.new (psml, Ncm.PowspecFilterType.TOPHAT)\n",
    "psf.set_best_lnr0 ()\n",
    "\n",
    "mulf = Nc.MultiplicityFuncTinker.new ()\n",
    "mulf.set_mdef (Nc.MultiplicityFuncMassDef.CRITICAL)\n",
    "mulf.set_Delta (200.0)\n",
    "#mulf.set_sim (Nc.MultiplicityFuncBocquetSim.DM)\n",
    "\n",
    "hmf = Nc.HaloMassFunction.new (dist, psf, mulf)\n",
    "hmf.set_area_sd(5264.05)\n",
    "\n",
    "#Creating the halo bias \n",
    "hbias_Tinker = Nc.HaloBiasTinker.new(hmf)"
   ]
  },
  {
   "cell_type": "markdown",
   "metadata": {},
   "source": [
    "# Define proxy modelling\n",
    "Use a mass proxy, define the probability for observing a proxy given a mass and redhsift"
   ]
  },
  {
   "cell_type": "markdown",
   "metadata": {},
   "source": [
    "$$\n",
    "P(\\log\\lambda|M,z) = N(\\mu(M,z), \\sigma^2(M,z))\n",
    "$$\n",
    "the mean is\n",
    "$$\n",
    "    \\mu(M,z) = \\mu_0 + a_\\mu^M\\log_{10}\\frac{M}{M_0} + a_\\mu^z\\log_{10}\\frac{1+z}{1+z_0} \n",
    "$$\n",
    "variance is\n",
    "$$\n",
    "\\sigma(M,z) = \\sigma_0 + a_\\sigma^M\\log_{10}\\frac{M}{M_0} + a_\\sigma ^z\\log_{10}\\frac{1+z}{1+z_0} \n",
    "$$"
   ]
  },
  {
   "cell_type": "code",
   "execution_count": null,
   "metadata": {},
   "outputs": [],
   "source": [
    "cluster_z = Nc.ClusterRedshift.new_from_name(\"NcClusterRedshiftNodist{'z-min': <%20.15e>, 'z-max':<%20.15e>}\" % (0,2))\n",
    "cluster_m = Nc.ClusterMass.new_from_name(\"NcClusterMassAscaso{'M0':<%20.15e>,'z0':<%20.15e>,'lnRichness-min':<%20.15e>, 'lnRichness-max':<%20.15e>}\" % (3e14/(0.71),0.6, 0, 1/np.log(10) * np.log10(10e2)))\n",
    "cluster_m.param_set_by_name('mup0', 3.19)\n",
    "cluster_m.param_set_by_name('mup1', 2/np.log(10))\n",
    "cluster_m.param_set_by_name('mup2', -0.7/np.log(10))\n",
    "cluster_m.param_set_by_name('sigmap0', 0.33)\n",
    "cluster_m.param_set_by_name('sigmap1', -0.08/np.log(10))\n",
    "cluster_m.param_set_by_name('sigmap2', 0/np.log(10))"
   ]
  },
  {
   "cell_type": "markdown",
   "metadata": {},
   "source": [
    "Create the `Cluster Abundance Data`"
   ]
  },
  {
   "cell_type": "code",
   "execution_count": null,
   "metadata": {},
   "outputs": [],
   "source": [
    "ca = Nc.ClusterAbundance.new(hmf,hbias_Tinker)\n",
    "mset = Ncm.MSet.new_array([cosmo,cluster_m,cluster_z])\n",
    "\n",
    "#Generates cluster count catalog data\n",
    "\n",
    "\n",
    "ncdata = Nc.DataClusterNCount.new(ca,'NcClusterRedshiftNodist','NcClusterMassAscaso')\n",
    "rng = Ncm.RNG.pool_get(\"example_ca_sampling\");\n",
    "ncdata.init_from_sampling(mset,5264.05*(np.pi/180)**2,rng)\n",
    "ncdata.catalog_save(\"ca_mean_bias_ascaso.fits\", True)\n",
    "\n",
    "ncdata_fits = fits.open('ca_mean_bias_ascaso.fits')\n",
    "#ncdata_fits.info()\n",
    "\n",
    "ncdata_data =  ncdata_fits[1].data\n",
    "\n",
    "ncdata_Table = Table(ncdata_data)\n",
    "ncdata_Table.columns\n",
    "ncdata_Table.sort('LNM_OBS')\n",
    "mset.pretty_log()\n"
   ]
  },
  {
   "cell_type": "markdown",
   "metadata": {},
   "source": [
    "# Un-binned approach"
   ]
  },
  {
   "cell_type": "markdown",
   "metadata": {},
   "source": [
    "$$\n",
    "b_i =\\frac{\\Omega_s}{x_i}\\int_{\\log_{10}M_{min}}^{\\log_{10}M_{max}}\\frac{d^2V(z_i)}{dz d\\Omega}\\frac{dn(M,z_i)}{d\\log_{10}M}P(\\lambda_i|M,z_i)b(M,z_i) d\\log_{10}M\n",
    "$$"
   ]
  },
  {
   "cell_type": "code",
   "execution_count": null,
   "metadata": {},
   "outputs": [],
   "source": [
    "display(ncdata_Table)\n",
    "ca.prepare(cosmo,cluster_z,cluster_m)\n",
    "\n",
    "\n",
    "print(5264.05*(np.pi/180)**2*ca.mean_bias(cosmo, cluster_z, cluster_m)/ca.n(cosmo,cluster_z,cluster_m))\n",
    "dnbias = []\n",
    "dv = []\n",
    "\n",
    "for cluster in ncdata_Table:\n",
    "    dnbias.append(5264.05*(np.pi/180)**2*ca.intp_d2n_bias(cosmo, cluster_z, cluster_m, [cluster[1]], None, [cluster[0]], None) / ca.lnM_p_d2n(cosmo, cluster_z, cluster_m, [cluster[1]],None, cluster[0]))\n",
    "\n",
    "dnbias\n"
   ]
  },
  {
   "cell_type": "code",
   "execution_count": null,
   "metadata": {},
   "outputs": [],
   "source": [
    "plt.figure(figsize = (7,5))\n",
    "plt.scatter(ncdata_Table['Z_OBS'], dnbias ,s = 7, c = ncdata_Table['LNM_OBS'], cmap = 'viridis')\n",
    "plt.colorbar()\n",
    "plt.xlabel('redshift', fontsize = 20)\n",
    "plt.ylabel('$b_i$', fontsize = 20)\n",
    "#plt.yscale('log')\n",
    "plt.grid(True, which=\"both\")\n",
    "plt.show()\n",
    "\n",
    "\n",
    "plt.figure(figsize = (7,5))\n",
    "plt.scatter(ncdata_Table['Z_OBS'], dnbias ,s = 7, c = ncdata_Table['LNM_TRUE'], cmap = 'viridis')\n",
    "plt.colorbar()\n",
    "plt.xlabel('redshift', fontsize = 20)\n",
    "plt.ylabel('$b_i$', fontsize = 20)\n",
    "#plt.yscale('log')\n",
    "plt.grid(True, which=\"both\")\n",
    "plt.show()"
   ]
  },
  {
   "cell_type": "markdown",
   "metadata": {},
   "source": [
    "# Binned approach"
   ]
  },
  {
   "cell_type": "markdown",
   "metadata": {},
   "source": [
    "Compute the integral"
   ]
  },
  {
   "cell_type": "markdown",
   "metadata": {},
   "source": [
    "$$\n",
    "b_{\\alpha\\beta}^{\\rm predicted} = \\frac{\\Omega_s}{N_{\\alpha\\beta}^{\\rm predicted}}\\int_{z_\\alpha}^{z_{\\alpha + 1}} dz\\int_{\\lambda_{\\beta}}^{\\lambda_{\\beta + 1}}d\\lambda\\int_{\\log_{10}M_{min}}^{\\log_{10}M_{max}}\\frac{d^2V(z)}{dz d\\Omega}\\frac{dn(M,z)}{d\\log_{10}M}b(M,z)P(\\lambda|M,z)d\\log_{10}M\n",
    "$$"
   ]
  },
  {
   "cell_type": "code",
   "execution_count": null,
   "metadata": {},
   "outputs": [],
   "source": [
    "#Bins definition\n",
    "z_edges = np.linspace(0.25, 2, 5)\n",
    "proxy_edges = np.linspace(0, 2, 4)"
   ]
  },
  {
   "cell_type": "code",
   "execution_count": null,
   "metadata": {},
   "outputs": [],
   "source": [
    "#Using Numcosmo\n",
    "\n",
    "t0 = time.time()\n",
    "ca.prepare(cosmo,cluster_z,cluster_m)\n",
    "N_proxy_numcosmo = []\n",
    "\n",
    "\n",
    "for rich_l, rich_u in zip(proxy_edges, proxy_edges[1:]):\n",
    "    N_zbin = []\n",
    "    for zl, zu in zip(z_edges,z_edges[1:]):\n",
    "        N_zbin.append(5264.05*(np.pi/180)**2*ca.intp_bin_d2n_bias(cosmo,cluster_z,cluster_m, [rich_l], [rich_u],None ,[zl],[zu], None)/ca.intp_bin_d2n(cosmo, cluster_z, cluster_m, [rich_l], [rich_u], None, [zl], [zu], None))\n",
    "    \n",
    "    N_proxy_numcosmo.append(N_zbin)\n",
    "\n",
    "t1 = time.time()\n",
    "print('time (seconds) = ' + str(t1-t0))\n"
   ]
  },
  {
   "cell_type": "code",
   "execution_count": null,
   "metadata": {},
   "outputs": [],
   "source": [
    "plt.figure(figsize = (9,10))\n",
    "plt.yscale('log')\n",
    "z_ = [np.mean([z_edges[i],z_edges[i+1]]) for i in np.arange(len(z_edges)-1)]\n",
    "proxy = [np.mean([proxy_edges[i],proxy_edges[i+1]]) for i in np.arange(len(proxy_edges)-1)]\n",
    "\n",
    "\n",
    "plt.tick_params(axis='both', which=\"both\", labelsize= 15)\n",
    "for f in range(len(proxy_edges)-1):\n",
    "    if f == 0:\n",
    "        label = []\n",
    "    y_simps = (N_proxy_numcosmo[:][f])\n",
    "    plt.scatter(z_, y_simps, label = str(f+1)+' richness bin')\n",
    "plt.grid(True, which=\"both\" )\n",
    "plt.ylabel(r'$b_{\\alpha \\beta}$', fontsize = 20)\n",
    "#plt.ylim(1,2)\n",
    "plt.xlabel(r'$redshift$', fontsize = 20)\n",
    "plt.legend(frameon = False, fontsize = 20)"
   ]
  }
 ],
 "metadata": {
  "kernelspec": {
   "display_name": "NERSC Python",
   "language": "python",
   "name": "python3"
  },
  "language_info": {
   "codemirror_mode": {
    "name": "ipython",
    "version": 3
   },
   "file_extension": ".py",
   "mimetype": "text/x-python",
   "name": "python",
   "nbconvert_exporter": "python",
   "pygments_lexer": "ipython3"
  },
  "vscode": {
   "interpreter": {
    "hash": "916dbcbb3f70747c44a77c7bcd40155683ae19c65e1c03b4aa3499c5328201f1"
   }
  }
 },
 "nbformat": 4,
 "nbformat_minor": 4
}
