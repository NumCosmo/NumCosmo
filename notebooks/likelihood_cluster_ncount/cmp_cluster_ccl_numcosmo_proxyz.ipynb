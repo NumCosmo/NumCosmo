{
 "cells": [
  {
   "cell_type": "code",
   "execution_count": null,
   "metadata": {},
   "outputs": [],
   "source": [
    "#!/usr/bin/env python\n",
    "\n",
    "try:\n",
    "    import gi\n",
    "\n",
    "    gi.require_version(\"NumCosmo\", \"1.0\")\n",
    "    gi.require_version(\"NumCosmoMath\", \"1.0\")\n",
    "except:\n",
    "    pass\n",
    "\n",
    "import math\n",
    "import matplotlib.pyplot as plt\n",
    "from gi.repository import GObject\n",
    "from gi.repository import NumCosmo as nc\n",
    "from gi.repository import NumCosmoMath as ncm\n",
    "import numpy as np\n",
    "from astropy.io import fits\n",
    "from astropy.table import Table\n",
    "import sys\n",
    "\n",
    "sys.path.insert(0, \"/home/henrique/Programas_Cosmologia/CLCosmo_Sim/cluster_abundance/\")\n",
    "sys.path.insert(0, \"../../scripts\")\n",
    "\n",
    "import pyccl as ccl\n",
    "\n",
    "%load_ext autoreload\n",
    "%autoreload 2\n",
    "import CL_COUNT_class_cluster_abundance as cl_count\n",
    "import CL_COUNT_modeling_richness as richness_model\n",
    "import time\n",
    "\n",
    "from nc_ccl import create_nc_obj, ccl_cosmo_set_high_prec\n",
    "\n",
    "ncm.cfg_init()\n",
    "ncm.cfg_set_log_handler(lambda msg: sys.stdout.write(msg) and sys.stdout.flush())"
   ]
  },
  {
   "cell_type": "markdown",
   "metadata": {},
   "source": [
    "initialize the `Cosmological models`"
   ]
  },
  {
   "cell_type": "code",
   "execution_count": null,
   "metadata": {},
   "outputs": [],
   "source": [
    "# CCL cosmology\n",
    "cosmo_ccl = ccl.Cosmology(\n",
    "    Omega_c=0.265,\n",
    "    Omega_b=0.0448,\n",
    "    h=0.71,\n",
    "    sigma8=0.8,\n",
    "    n_s=0.96,\n",
    "    Omega_k=0,\n",
    "    transfer_function=\"eisenstein_hu\",\n",
    ")\n",
    "ccl_cosmo_set_high_prec(cosmo_ccl)\n",
    "\n",
    "cosmo_numcosmo, dist, ps_lin, ps_nln, hmfunc = create_nc_obj(cosmo_ccl)\n",
    "\n",
    "psf = hmfunc.peek_psf()"
   ]
  },
  {
   "cell_type": "markdown",
   "metadata": {},
   "source": [
    "# Define proxy modelling\n",
    "Use a mass proxy, define the probability for observing a proxy given a mass and redhsift"
   ]
  },
  {
   "cell_type": "markdown",
   "metadata": {},
   "source": [
    "$$\n",
    "P(\\log\\lambda|M,z) = N(\\mu(M,z), \\sigma^2(M,z))\n",
    "$$\n",
    "the mean is\n",
    "$$\n",
    "    \\mu(M,z) = \\mu_0 + a_\\mu^M\\log_{10}\\frac{M}{M_0} + a_\\mu^z\\log_{10}\\frac{1+z}{1+z_0} \n",
    "$$\n",
    "variance is\n",
    "$$\n",
    "\\sigma(M,z) = \\sigma_0 + a_\\sigma^M\\log_{10}\\frac{M}{M_0} + a_\\sigma ^z\\log_{10}\\frac{1+z}{1+z_0} \n",
    "$$"
   ]
  },
  {
   "cell_type": "code",
   "execution_count": null,
   "metadata": {},
   "outputs": [],
   "source": [
    "# CosmoSim_proxy model\n",
    "# M_0, z_0\n",
    "theta_pivot = [3e14 / 0.71, 0.6]\n",
    "# \\mu_0, a_\\mu^z, a_\\mu^M\n",
    "theta_mu = [3.19, -0.7, 2]\n",
    "# \\sigma_0, a_\\sigma^z, a_\\sigma^M\n",
    "theta_sigma = [0.33, 0.0, -0.08]\n",
    "# Richness object\n",
    "richness = richness_model.Richness(theta_mu, theta_sigma, theta_pivot)\n",
    "\n",
    "# Numcosmo_proxy model\n",
    "cluster_z = nc.ClusterRedshift.new_from_name(\n",
    "    \"NcClusterRedshiftNodist{'z-min': <%20.15e>, 'z-max':<%20.15e>}\" % (0, 2)\n",
    ")\n",
    "cluster_m = nc.ClusterMass.new_from_name(\n",
    "    \"NcClusterMassAscaso{'M0':<%20.15e>,'Z0':<%20.15e>,'lnRichness-min':<%20.15e>, 'lnRichness-max':<%20.15e>}\"\n",
    "    % (3e14 / (0.71), 0.6, np.log(10) * np.log10(10e0), np.log(10) * np.log10(10e2))\n",
    ")\n",
    "cluster_m.param_set_by_name(\"mup0\", 3.19)\n",
    "cluster_m.param_set_by_name(\"mup1\", 2 / np.log(10))\n",
    "cluster_m.param_set_by_name(\"mup2\", -0.7 / np.log(10))\n",
    "cluster_m.param_set_by_name(\"sigmap0\", 0.33)\n",
    "cluster_m.param_set_by_name(\"sigmap1\", -0.08 / np.log(10))\n",
    "cluster_m.param_set_by_name(\"sigmap2\", 0 / np.log(10))"
   ]
  },
  {
   "cell_type": "code",
   "execution_count": null,
   "metadata": {},
   "outputs": [],
   "source": [
    "proxy_array = np.linspace(0, 6, 1000)\n",
    "z = 0.5\n",
    "logM = np.log(10) * np.log10(1e14)\n",
    "pdf_clusterm = []\n",
    "for lnrichness in proxy_array:\n",
    "    pdf_clusterm.append(cluster_m.p(cosmo_numcosmo, logM, z, [lnrichness], None))\n",
    "\n",
    "diff = abs((pdf_clusterm - richness.pdf(proxy_array, z, logm=14)))\n",
    "\n",
    "fig1 = plt.figure(figsize=(8, 6))\n",
    "frame1 = fig1.add_axes((0.1, 0.3, 0.8, 0.6))\n",
    "frame1.set_xticklabels([])\n",
    "plt.plot(proxy_array, richness.pdf(proxy_array, z, logm=14), label=\"CCL proxy\")\n",
    "plt.plot(proxy_array, pdf_clusterm, label=\"Numcosmo Proxy\")\n",
    "plt.legend()\n",
    "plt.ylabel(r\"$P(\\lambda|\\log M, z)$\", fontsize=20)\n",
    "\n",
    "frame2 = fig1.add_axes((0.1, 0.1, 0.8, 0.2))\n",
    "plt.plot(proxy_array, diff, c=\"g\", label=\"absolute diference\")\n",
    "plt.legend()\n",
    "plt.xlabel(\"$\\ln \\lambda$\", fontsize=20)\n",
    "plt.ylabel(r\"$|P_{Num} - P_{CCL}|$\", fontsize=10)\n",
    "diff.max()"
   ]
  },
  {
   "cell_type": "markdown",
   "metadata": {},
   "source": [
    "initialize the `ClusterAbundance` object"
   ]
  },
  {
   "cell_type": "code",
   "execution_count": null,
   "metadata": {},
   "outputs": [],
   "source": [
    "# CCL cluster abundance\n",
    "t0 = time.time()\n",
    "clc = cl_count.ClusterAbundance()\n",
    "# choose mass function and mass definition\n",
    "massdef = ccl.halos.massdef.MassDef(200, \"critical\", c_m_relation=None)\n",
    "hmd = ccl.halos.hmfunc.MassFuncTinker08(cosmo_ccl, mass_def=massdef)\n",
    "clc.set_cosmology(cosmo=cosmo_ccl, hmd=hmd, massdef=massdef)\n",
    "clc.sky_area = 5264.05 * (np.pi / 180) ** 2\n",
    "t1 = time.time()\n",
    "print(\"time (seconds) = \" + str(t1 - t0))\n",
    "# 0.28 segundos\n",
    "\n",
    "\n",
    "# Numcosmo Cluster Abundance\n",
    "\n",
    "t0 = time.time()\n",
    "# First we need to define the multiplicity function here we will use the tinker\n",
    "mulf = nc.MultiplicityFuncTinker.new()\n",
    "mulf.set_linear_interp(True)\n",
    "mulf.set_mdef(nc.MultiplicityFuncMassDef.CRITICAL)\n",
    "mulf.set_Delta(200)\n",
    "# Second we need to construct a filtered power spectrum\n",
    "\n",
    "hmf = nc.HaloMassFunction.new(dist, psf, mulf)\n",
    "hmf.set_area(5264.05 * (np.pi / 180) ** 2)\n",
    "\n",
    "\n",
    "ca = nc.ClusterAbundance.new(hmf, None)\n",
    "mset = ncm.MSet.new_array([cosmo_numcosmo, cluster_m, cluster_z])\n",
    "\n",
    "t1 = time.time()\n",
    "print(\"time (seconds) = \" + str(t1 - t0))\n",
    "mset.pretty_log()"
   ]
  },
  {
   "cell_type": "markdown",
   "metadata": {},
   "source": [
    "# Un-binned approach"
   ]
  },
  {
   "cell_type": "markdown",
   "metadata": {},
   "source": [
    "$$\n",
    "x_i = \\int_{\\log_{10}M_{min}}^{\\log_{10}M_{min}}\\frac{d^2V(z_i)}{dz d\\Omega}\\frac{dn(M,z_i)}{d\\log_{10}M}P(\\lambda_i|M,z_i)d\\log_{10}M\n",
    "$$"
   ]
  },
  {
   "cell_type": "code",
   "execution_count": null,
   "metadata": {},
   "outputs": [],
   "source": [
    "# Generates cluster count catalog data\n",
    "ncdata = nc.DataClusterNCount.new(ca, \"NcClusterRedshiftNodist\", \"NcClusterMassAscaso\")\n",
    "rng = ncm.RNG.pool_get(\"example_ca_sampling\")\n",
    "ncdata.init_from_sampling(mset, 5264.05 * (np.pi / 180) ** 2, rng)\n",
    "ncdata.catalog_save(\"ca_nodist_unbinned_numcosmo.fits\", True)\n",
    "\n",
    "ncdata_fits = fits.open(\"ca_nodist_unbinned_numcosmo.fits\")\n",
    "# ncdata_fits.info()\n",
    "\n",
    "ncdata_data = ncdata_fits[1].data\n",
    "\n",
    "ncdata_Table = Table(ncdata_data)\n",
    "ncdata_Table.columns\n",
    "ncdata_Table.sort(\"Z_TRUE\")\n",
    "\n",
    "display(ncdata_Table)"
   ]
  },
  {
   "cell_type": "code",
   "execution_count": null,
   "metadata": {},
   "outputs": [],
   "source": [
    "# Using CCL\n",
    "t0 = time.time()\n",
    "z_grid = np.linspace(0.0, 3, 1000)\n",
    "logm_grid = np.linspace(13, 15, 1000)\n",
    "clc.compute_pdf_grid_ProxyZ(\n",
    "    proxy=proxy_array,\n",
    "    z=np.array(ncdata_Table[0][:]),\n",
    "    proxy_model=richness,\n",
    "    z_grid=z_grid,\n",
    "    logm_grid=logm_grid,\n",
    ")\n",
    "clc.compute_multiplicity_grid_MZ(z_grid=z_grid, logm_grid=logm_grid)\n",
    "dndproxy_exact_CCL = clc.multiplicity_function_individual_ProxyZ(\n",
    "    z=np.array(ncdata_Table[0][:]),\n",
    "    proxy=np.array(ncdata_Table[1][:]),\n",
    "    proxy_model=richness,\n",
    "    method=\"exact\",\n",
    ")\n",
    "dndproxy_exact_CCL *= clc.sky_area\n",
    "\n",
    "t1 = time.time()\n",
    "print(\"time (seconds) = \" + str(t1 - t0))\n",
    "# 21 minutos e 45 segundos\n",
    "# 19 minutos e 10 segundos high precision"
   ]
  },
  {
   "cell_type": "code",
   "execution_count": null,
   "metadata": {},
   "outputs": [],
   "source": [
    "# Using Numcosmo\n",
    "t0 = time.time()\n",
    "\n",
    "ca.prepare(cosmo_numcosmo, cluster_z, cluster_m)\n",
    "dndproxy_numcosmo = []\n",
    "for richness_i in range(len(ncdata_Table[0][:])):\n",
    "    dndproxy_numcosmo.append(\n",
    "        ca.lnM_p_d2n(\n",
    "            cosmo_numcosmo,\n",
    "            cluster_z,\n",
    "            cluster_m,\n",
    "            [ncdata_Table[richness_i][1]],\n",
    "            None,\n",
    "            ncdata_Table[richness_i][0],\n",
    "        )\n",
    "    )\n",
    "t1 = time.time()\n",
    "print(\"time (seconds) = \" + str(t1 - t0))"
   ]
  },
  {
   "cell_type": "code",
   "execution_count": null,
   "metadata": {},
   "outputs": [],
   "source": [
    "plt.figure(figsize=(7, 5))\n",
    "plt.scatter(\n",
    "    ncdata_Table[0][:],\n",
    "    100\n",
    "    * abs(np.array(dndproxy_numcosmo) - np.array(dndproxy_exact_CCL))\n",
    "    / np.array(dndproxy_numcosmo),\n",
    "    s=20,\n",
    "    c=ncdata_Table[1][:],\n",
    "    cmap=\"viridis\",\n",
    ")\n",
    "plt.colorbar()\n",
    "plt.xlabel(\"redshift\", fontsize=20)\n",
    "plt.ylabel(\"|bias| CCL exact method to Numcosmo $(\\%)$\", fontsize=20)\n",
    "plt.yscale(\"log\")\n",
    "plt.ylim(1e-6, 1e-1)\n",
    "plt.grid(True, which=\"both\")"
   ]
  },
  {
   "cell_type": "markdown",
   "metadata": {},
   "source": [
    "# Binned approach"
   ]
  },
  {
   "cell_type": "markdown",
   "metadata": {},
   "source": [
    "Comptue the integral"
   ]
  },
  {
   "cell_type": "markdown",
   "metadata": {},
   "source": [
    "$$\n",
    "N_{\\alpha\\beta}^{\\rm predicted} = \\Omega_s\\int_{z_\\alpha}^{z_{\\alpha + 1}} dz\\int_{\\lambda_{\\beta}}^{\\lambda_{\\beta + 1}}d\\lambda\\int_{\\log_{10}M_{min}}^{\\log_{10}M_{max}}\\frac{d^2V(z)}{dz d\\Omega}\\frac{dn(M,z)}{d\\log_{10}M}P(\\lambda|M,z)d\\log_{10}M\n",
    "$$"
   ]
  },
  {
   "cell_type": "code",
   "execution_count": null,
   "metadata": {},
   "outputs": [],
   "source": [
    "# Bins definition\n",
    "z_edges = np.linspace(0.25, 2, 8)\n",
    "proxy_edges = np.linspace(0, 2, 11)"
   ]
  },
  {
   "cell_type": "code",
   "execution_count": null,
   "metadata": {},
   "outputs": [],
   "source": [
    "# Using CCL\n",
    "t0 = time.time()\n",
    "N_ProxyZ_exact = clc.Cluster_Abundance_ProxyZ(\n",
    "    zbin_edges=z_edges,\n",
    "    proxybin_edges=proxy_edges,\n",
    "    logm_limit=[min(logm_grid), max(logm_grid)],\n",
    "    proxy_model=richness,\n",
    "    method=\"exact\",\n",
    ")\n",
    "\n",
    "t1 = time.time()\n",
    "print(\"time (seconds) = \" + str(t1 - t0))\n",
    "# 8 minutos e 43 segundos\n",
    "# 5 minutos e 31 segundos high precision"
   ]
  },
  {
   "cell_type": "code",
   "execution_count": null,
   "metadata": {},
   "outputs": [],
   "source": [
    "# Using Numcosmo\n",
    "\n",
    "t0 = time.time()\n",
    "ca.prepare(cosmo_numcosmo, cluster_z, cluster_m)\n",
    "N_proxy_numcosmo = []\n",
    "\n",
    "\n",
    "for rich_l, rich_u in zip(proxy_edges, proxy_edges[1:]):\n",
    "    N_zbin = []\n",
    "    for zl, zu in zip(z_edges, z_edges[1:]):\n",
    "        N_zbin.append(\n",
    "            ca.intp_bin_d2n(\n",
    "                cosmo_numcosmo,\n",
    "                cluster_z,\n",
    "                cluster_m,\n",
    "                [rich_l],\n",
    "                [rich_u],\n",
    "                None,\n",
    "                [zl],\n",
    "                [zu],\n",
    "                None,\n",
    "            )\n",
    "        )\n",
    "\n",
    "    N_proxy_numcosmo.append(N_zbin)\n",
    "\n",
    "t1 = time.time()\n",
    "print(\"time (seconds) = \" + str(t1 - t0))"
   ]
  },
  {
   "cell_type": "code",
   "execution_count": null,
   "metadata": {},
   "outputs": [],
   "source": [
    "plt.figure(figsize=(9, 10))\n",
    "plt.yscale(\"log\")\n",
    "z_ = [np.mean([z_edges[i], z_edges[i + 1]]) for i in np.arange(len(z_edges) - 1)]\n",
    "proxy = [\n",
    "    np.mean([proxy_edges[i], proxy_edges[i + 1]])\n",
    "    for i in np.arange(len(proxy_edges) - 1)\n",
    "]\n",
    "\n",
    "\n",
    "plt.tick_params(axis=\"both\", which=\"both\", labelsize=15)\n",
    "for f in range(len(proxy_edges) - 1):\n",
    "    if f == 0:\n",
    "        label = []\n",
    "    y_simps = abs(100 * (1 - N_ProxyZ_exact[:, f] / N_proxy_numcosmo[:][f]))\n",
    "    plt.scatter(z_, y_simps, label=str(f + 1) + \" richness bin\")\n",
    "plt.grid(True, which=\"both\")\n",
    "plt.ylabel(\"|bias| CCL exact method to Numcosmo $(\\%)$\", fontsize=20)\n",
    "plt.ylim(1e-7, 1e-1)\n",
    "plt.xlabel(r\"$redshift$\", fontsize=20)\n",
    "plt.legend(frameon=False, fontsize=20)"
   ]
  }
 ],
 "metadata": {
  "interpreter": {
   "hash": "916dbcbb3f70747c44a77c7bcd40155683ae19c65e1c03b4aa3499c5328201f1"
  },
  "kernelspec": {
   "display_name": "NERSC Python",
   "language": "python",
   "name": "python3"
  },
  "language_info": {
   "codemirror_mode": {
    "name": "ipython",
    "version": 3
   },
   "file_extension": ".py",
   "mimetype": "text/x-python",
   "name": "python",
   "nbconvert_exporter": "python",
   "pygments_lexer": "ipython3"
  }
 },
 "nbformat": 4,
 "nbformat_minor": 4
}
