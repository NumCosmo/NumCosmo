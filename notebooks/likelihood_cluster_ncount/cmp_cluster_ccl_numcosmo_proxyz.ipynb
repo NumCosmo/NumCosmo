{
 "cells": [
  {
   "cell_type": "markdown",
   "metadata": {},
   "source": [
    "---\n",
    "**License**\n",
    "\n",
    " cmp_cluster_ccl_numcosmo\n",
    "\n",
    " Wen Aug 07 15:11:00 2024\\\n",
    " Copyright  2024\\\n",
    " Henrique Cardoso Naves Lettieri  <henrique.cnl23@uel.br>\n",
    " Mariana Penna-Lima     <pennalima@gmail.com> \\\n",
    " Sandro Dias Pinto Vitenti <vitenti@uel.br>\n",
    "\n",
    "---\n",
    "---\n",
    "\n",
    " cmp_cluster_ccl_numcosmo\\\n",
    " Copyright (C) 2021 Henrique Cardoso Naves Lettieri  <henrique.cnl23@uel.br>, Mariana Penna-Lima <pennalima@gmail.com>, Sandro Dias Pinto Vitenti <vitenti@uel.br>\n",
    "\n",
    " numcosmo is free software: you can redistribute it and/or modify it\n",
    " under the terms of the GNU General Public License as published by the\n",
    " Free Software Foundation, either version 3 of the License, or\n",
    " (at your option) any later version.\n",
    "\n",
    " numcosmo is distributed in the hope that it will be useful, but\n",
    " WITHOUT ANY WARRANTY; without even the implied warranty of\n",
    " MERCHANTABILITY or FITNESS FOR A PARTICULAR PURPOSE.\n",
    " See the GNU General Public License for more details.\n",
    "\n",
    " You should have received a copy of the GNU General Public License along\n",
    " with this program.  If not, see <http://www.gnu.org/licenses/>.\n",
    " \n",
    "---"
   ]
  },
  {
   "cell_type": "markdown",
   "metadata": {},
   "source": [
    "<a class=\"anchor\" id=\"contents\"></a>\n",
    "# Contents\n",
    "\n",
    "### 1. [Packages](#libraries)\n",
    "### 2. [Cosmological models](#constants)\n",
    "### 3. [Proxy modeling](#proxy)\n",
    "####     3.1 [Relative error plot](#proxy_plots)\n",
    "### 4. [Halo mass function](#mass)\n",
    "### 5. [Unbinned approach](#unbinned)\n",
    "####     5.1 [Mock catalog](#mock)\n",
    "####     5.2 [NumCosmo predictions](#numcosmo_ubinned)\n",
    "####     5.3 [CCL preditictios](#ccl_unbinned)\n",
    "####     5.4 [Relative error plots](#plots_unbinned)\n",
    "### 6. [Binned approach](#binned)\n",
    "####     6.1 [Bins](#bins)\n",
    "####     6.2 [NumCosmo predictions](#numcosmo_binned)\n",
    "####     6.3 [CCL preditictios](#ccl_binned)\n",
    "####     6.4 [Relative error plots](#plots_binned)"
   ]
  },
  {
   "cell_type": "markdown",
   "metadata": {},
   "source": [
    "<a class=\"anchor\" id=\"libraries\"></a>\n",
    "## 1.  [Packages](#libraries)\n",
    "***\n",
    "\n",
    "In the cell below, we import the libraries `CCL` and `NumCosmo` for comparison between their cluster counts predictions in an unbinned and binned with a richness-proxy.\n",
    "\n",
    "To import `NumCosmo`, we should import `GObject`. This is important because `GObject` help us to maps the C language in other languages, like python.\n",
    "\n",
    "The package `sys` is related to the manipulation and obtaining information from the python environment imports the auxiliary library `CLCosmo_Sim` to run the binned counts version of `CCL`. The package `numpy` help us with the calculations, gives us access to mathematical functions, while astropy is used too handle the fits files for the cluster mock catalog.\n"
   ]
  },
  {
   "cell_type": "code",
   "execution_count": 1,
   "metadata": {},
   "outputs": [
    {
     "name": "stderr",
     "output_type": "stream",
     "text": [
      "\n",
      "WARNING: version mismatch between CFITSIO header (v40301) and linked library (v40400).\n",
      "\n"
     ]
    }
   ],
   "source": [
    "#!/usr/bin/env python\n",
    "from numcosmo_py import Ncm, Nc\n",
    "from numcosmo_py.external.pyssc import pyssc as PySSC\n",
    "from numcosmo_py.ccl import nc_ccl\n",
    "\n",
    "Ncm.cfg_init()\n",
    "Ncm.cfg_set_log_handler(lambda msg: sys.stdout.write(msg) and sys.stdout.flush())\n",
    "import numpy as np\n",
    "from matplotlib import pyplot as plt\n",
    "from astropy.io import fits\n",
    "from astropy.table import Table\n",
    "\n",
    "\n",
    "\n",
    "\n",
    "import pyccl as ccl\n",
    "get_ipython().run_line_magic('load_ext', 'autoreload')\n",
    "get_ipython().run_line_magic('autoreload', '2')\n",
    "\n",
    "import sys\n",
    "sys.path.insert(0,'../../../CLCosmo_Sim/modeling/')\n",
    "sys.path.insert(0,'../../../CLCosmo_Sim/modeling/old_files/')\n",
    "import CL_COUNT_modeling_halo_mass_function as hmf\n",
    "import CL_COUNT_cluster_abundance as cl_count\n",
    "import old_CL_COUNT_class_cluster_abundance as old_cl_count\n",
    "import CL_COUNT_modeling_richness_mass_relation as rm_relation\n",
    "\n",
    "import time"
   ]
  },
  {
   "cell_type": "markdown",
   "metadata": {},
   "source": [
    "<a class=\"anchor\" id=\"constants\"></a>\n",
    "## 2. [Cosmological models](#constants)\n",
    "***\n",
    "In this cell below we fix the cosmological constants to avoid conflits in the calculations and comparisons between the libraries.\n",
    "\n",
    "\n",
    "$\\Omega_{C}$ = 0.265 The density fraction at z=0 of CDM.<br>\n",
    "$\\Omega_{b}$ = 0.0448 The density fraction at z=0 of baryons.<br>\n",
    "$\\Omega_{k}$ = 0.0 The curvature density fraction at z=0.<br>\n",
    "$H_{0 }$ = 71.00   The Hubble constant.<br>\n",
    "$Tcmb_{0}$  = 2.7255 The temperature at z=0 of CMB.<br>\n",
    "$\\sigma_{8}$ = 0.80 The normalization of the power spectrum today. <br>\n",
    "$n_{s}$ = 0.96 Scalar spectral index.<br>\n",
    "$N_{eff}$ = 0.0 3.046 effective number of massless+massive neutrinos present at recombination.<br>\n",
    "$\\omega_{0}$ = -1.0 First order term of the dark energy equation of state.<br>\n",
    "$\\omega_{a}$ = 0.0 Second order term of the dark energy equation of state.<br>\n"
   ]
  },
  {
   "cell_type": "code",
   "execution_count": 11,
   "metadata": {},
   "outputs": [],
   "source": [
    "# CCL cosmology default paramters\n",
    "cosmo_ccl_default = ccl.Cosmology(Omega_c=0.265, Omega_b=0.0448, h=0.71, sigma8=0.8, n_s=0.96, Omega_k=0, transfer_function=\"eisenstein_hu\",)\n",
    "\n",
    "\n",
    "# CCL cosmology high precision paramters\n",
    "ccl_params = nc_ccl.CCLParams()\n",
    "ccl_params.set_high_prec_params()\n",
    "\n",
    "cosmo_ccl_high = ccl.Cosmology(Omega_c=0.265, Omega_b=0.0448, h=0.71, sigma8=0.8, n_s=0.96, Omega_k=0, transfer_function=\"eisenstein_hu\",)\n",
    "\n",
    "#NumCosmo Cosmology\n",
    "cosmo_numcosmo, dist, ps_lin, ps_nln, psf = nc_ccl.create_nc_obj(cosmo_ccl_default)"
   ]
  },
  {
   "cell_type": "markdown",
   "metadata": {},
   "source": [
    "<a class=\"anchor\" id=\"constants\"></a>\n",
    "## 2. [Proxy model](#constants)\n",
    "***\n",
    "In this cell below we fix the mass observable relation given by"
   ]
  },
  {
   "attachments": {},
   "cell_type": "markdown",
   "metadata": {},
   "source": [
    "$$\n",
    "P(\\log\\lambda|M,z) = N(\\mu(M,z), \\sigma^2(M,z))\n",
    "$$\n",
    "the mean is\n",
    "$$\n",
    "    \\mu(M,z) = \\mu_0 + \\mu_M\\log_{10}\\frac{M}{M_0} + \\mu_z\\log_{10}\\frac{1+z}{1+z_0} \n",
    "$$\n",
    "variance is\n",
    "$$\n",
    "\\sigma(M,z) = \\sigma_0 + \\sigma_M\\log_{10}\\frac{M}{M_0} + \\sigma_z\\log_{10}\\frac{1+z}{1+z_0} \n",
    "$$\n",
    "\n",
    "With parameters given by\n",
    "$\\mu_{0}$ = 3.091<br>\n",
    "$\\mu_{M}$ = 2.4177<br>\n",
    "$\\mu_{z}$ = 0.0<br>\n",
    "\n",
    "$\\sigma_{0}$ = 0.594<br>\n",
    "$\\sigma_{M}$ = 0.05987<br>\n",
    "$\\sigma_{z}$ = 0.0<br>\n",
    "and pivot mass and redshift\n",
    "\n",
    "$M_{0}$ = 1e14.2<br>\n",
    "$z_{0}$ = 0.4<br>\n"
   ]
  },
  {
   "cell_type": "code",
   "execution_count": 3,
   "metadata": {},
   "outputs": [],
   "source": [
    "#CCL proxy model\n",
    "log10m0, z0 = np.log10(10**14.2), .4\n",
    "proxy_mu0, proxy_muz, proxy_mulog10m =  3.091, 0, 1.05*np.log(10)\n",
    "proxy_sigma0, proxy_sigmaz, proxy_sigmalog10m =  0.594, 0., 0.026*np.log(10)\n",
    "theta_rm = [log10m0, z0, proxy_mu0, proxy_muz, proxy_mulog10m, proxy_sigma0, proxy_sigmaz, proxy_sigmalog10m]\n",
    "\n",
    "\n",
    "\n",
    "\n",
    "# Numcosmo_proxy model\n",
    "cluster_z = Nc.ClusterRedshiftNodist(z_min=0.0, z_max=2.0)\n",
    "\n",
    "cluster_m = Nc.ClusterMassAscaso(lnRichness_min=0.0, lnRichness_max=np.log(700) , z0=0.4 , M0 =10**14.2)\n",
    "cluster_m.param_set_by_name(\"mup0\", 3.091)\n",
    "cluster_m.param_set_by_name(\"mup1\", 1.05)\n",
    "cluster_m.param_set_by_name(\"mup2\", 0.0)\n",
    "cluster_m.param_set_by_name(\"sigmap0\", 0.594)\n",
    "cluster_m.param_set_by_name(\"sigmap1\", 0.026)\n",
    "cluster_m.param_set_by_name(\"sigmap2\", 0)"
   ]
  },
  {
   "cell_type": "code",
   "execution_count": 4,
   "metadata": {},
   "outputs": [
    {
     "data": {
      "image/png": "[encoded data removed]",
      "text/plain": [
       "<Figure size 800x600 with 1 Axes>"
      ]
     },
     "metadata": {},
     "output_type": "display_data"
    },
    {
     "data": {
      "text/plain": [
       "Text(0, 0.5, '$|P_{Num} - P_{CCL}|$')"
      ]
     },
     "execution_count": 4,
     "metadata": {},
     "output_type": "execute_result"
    },
    {
     "data": {
      "image/png": "[encoded data removed]",
      "text/plain": [
       "<Figure size 640x480 with 1 Axes>"
      ]
     },
     "metadata": {},
     "output_type": "display_data"
    }
   ],
   "source": [
    "proxy_array = np.linspace(np.log(2), np.log(500), 1000)\n",
    "proxy10_array = np.logspace(np.log10(2), np.log10(500), 1000)\n",
    "z = 0.5\n",
    "logM = np.log(10) * np.log10(10**(14.5))\n",
    "pdf_clusterm_numcosmo = []\n",
    "diff = []\n",
    "for lnrichness in range(len(proxy_array)):\n",
    "    pdf_clusterm_numcosmo.append(cluster_m.p(cosmo_numcosmo, logM, z, [proxy_array[lnrichness]], None)/(np.exp(proxy_array[lnrichness])))\n",
    "    diff.append(abs(cluster_m.p(cosmo_numcosmo, logM, z, [proxy_array[lnrichness]], None)/np.exp(proxy_array[lnrichness]) - \n",
    "                rm_relation.pdf_richness_mass_relation(proxy10_array, 14.5, z, theta_rm)[lnrichness]))\n",
    "\n",
    "\n",
    "fig1 = plt.figure(figsize=(8, 6))\n",
    "plt.plot(proxy10_array,  rm_relation.pdf_richness_mass_relation(proxy10_array, 14.5, z, theta_rm), label=\"CCL proxy\")\n",
    "plt.plot(proxy10_array, pdf_clusterm_numcosmo, label=\"Numcosmo Proxy\")\n",
    "plt.legend()\n",
    "plt.ylabel(r\"$P(\\lambda|\\log M, z)$\", fontsize=20)\n",
    "plt.show()\n",
    "\n",
    "frame2 = fig1.add_axes((0.1, 0.1, 0.8, 0.2))\n",
    "plt.plot(proxy10_array, diff, c=\"g\", label=\"absolute diference\")\n",
    "plt.legend()\n",
    "plt.xlabel(r\"$\\ln \\lambda$\", fontsize=20)\n",
    "plt.ylabel(r\"$|P_{Num} - P_{CCL}|$\", fontsize=10)"
   ]
  },
  {
   "cell_type": "markdown",
   "metadata": {},
   "source": [
    "<a class=\"anchor\" id=\"mass\"></a>\n",
    "## 4.  [Halo Mass Function](#mass)\n",
    "***\n",
    "In the cell above we initialize the halo mass function objects in both `NumCosmo` and `CCL`"
   ]
  },
  {
   "cell_type": "code",
   "execution_count": 5,
   "metadata": {},
   "outputs": [
    {
     "name": "stdout",
     "output_type": "stream",
     "text": [
      "#----------------------------------------------------------------------------------\n",
      "# Model[03000]:\n",
      "#   - NcHICosmo : Chevalier-Polarski-Linder parametrization\n",
      "#----------------------------------------------------------------------------------\n",
      "# Model parameters\n",
      "#   -         H0[00]:  71                  [FIXED]\n",
      "#   -     Omegac[01]:  0.265               [FIXED]\n",
      "#   -     Omegak[02]:  0                   [FIXED]\n",
      "#   -    Tgamma0[03]:  2.7255              [FIXED]\n",
      "#   -         Yp[04]:  0.24                [FIXED]\n",
      "#   -       ENnu[05]:  3.044               [FIXED]\n",
      "#   -     Omegab[06]:  0.0448              [FIXED]\n",
      "#   -         w0[07]: -1                   [FIXED]\n",
      "#   -         w1[08]:  0                   [FIXED]\n",
      "#----------------------------------------------------------------------------------\n",
      "# Model[05000]:\n",
      "#   - NcHIPrim : Power Law model for primordial spectra\n",
      "#----------------------------------------------------------------------------------\n",
      "# Model parameters\n",
      "#   - ln10e10ASA[00]:  2.81857454954003    [FIXED]\n",
      "#   - T_SA_ratio[01]:  0.2                 [FIXED]\n",
      "#   -       n_SA[02]:  0.96                [FIXED]\n",
      "#   -        n_T[03]:  0                   [FIXED]\n",
      "#----------------------------------------------------------------------------------\n",
      "# Model[07000]:\n",
      "#   - NcClusterMass : Ascaso Ln-normal richness distribution\n",
      "#----------------------------------------------------------------------------------\n",
      "# Model parameters\n",
      "#   -       mup0[00]:  3.091               [FIXED]\n",
      "#   -       mup1[01]:  1.05                [FIXED]\n",
      "#   -       mup2[02]:  0                   [FIXED]\n",
      "#   -    sigmap0[03]:  0.594               [FIXED]\n",
      "#   -    sigmap1[04]:  0.026               [FIXED]\n",
      "#   -    sigmap2[05]:  0                   [FIXED]\n",
      "#----------------------------------------------------------------------------------\n",
      "# Model[08000]:\n",
      "#   - NcClusterRedshift : No redshift distribution\n",
      "#----------------------------------------------------------------------------------\n",
      "# Model parameters\n",
      "sigma8 = 0.8000000012222674\n"
     ]
    }
   ],
   "source": [
    "sky_area = 5264.05 * (np.pi / 180) ** 2\n",
    "\n",
    "\n",
    "mulf = Nc.MultiplicityFuncTinker.new()\n",
    "mulf.set_linear_interp(True)\n",
    "mulf.set_mdef(Nc.MultiplicityFuncMassDef.CRITICAL)\n",
    "mulf.set_Delta(200)\n",
    "\n",
    "hmf_numcosmo = Nc.HaloMassFunction.new(dist, psf, mulf)\n",
    "hmf_numcosmo.set_area(sky_area)\n",
    "\n",
    "ca = Nc.ClusterAbundance.new(hmf_numcosmo, None)\n",
    "\n",
    "mset = Ncm.MSet.new_array([cosmo_numcosmo, cluster_m, cluster_z])\n",
    "mset.pretty_log()\n",
    "print(\"sigma8 = \" + str(cosmo_numcosmo.sigma8(psf)))\n",
    "\n",
    "\n",
    "# CCL halo mass funtion\n",
    "massdef = ccl.halos.massdef.MassDef(200, \"critical\")\n",
    "hmd = ccl.halos.hmfunc.MassFuncTinker08(mass_def=massdef)"
   ]
  },
  {
   "cell_type": "markdown",
   "metadata": {},
   "source": [
    "<a class=\"anchor\" id=\"unbinned\"></a>\n",
    "## 5.  [Unbinned approach](#unbinned)\n",
    "***\n",
    "In the cells above we compute"
   ]
  },
  {
   "cell_type": "markdown",
   "metadata": {},
   "source": [
    "$$\n",
    "x_i = \\int_{\\log_{10}M_{min}}^{\\log_{10}M_{min}}\\frac{d^2V(z_i)}{dz d\\Omega}\\frac{dn(M,z_i)}{d\\log_{10}M}P(\\lambda_i|M,z_i)d\\log_{10}M\n",
    "$$"
   ]
  },
  {
   "cell_type": "markdown",
   "metadata": {},
   "source": [
    "<a class=\"anchor\" id=\"mock\"></a>\n",
    "### 5.1 [Mock catalog](#mock)\n",
    "\n",
    "In the cell below we created a the mock catalog to compare the predictions in the unbinned case"
   ]
  },
  {
   "cell_type": "code",
   "execution_count": 6,
   "metadata": {},
   "outputs": [
    {
     "data": {
      "text/html": [
       "<div><i>Table length=4844735</i>\n",
       "<table id=\"table124920936391520\" class=\"table-striped table-bordered table-condensed\">\n",
       "<thead><tr><th>Z_OBS</th><th>LNM_OBS</th><th>Z_TRUE</th><th>LNM_TRUE</th></tr></thead>\n",
       "<thead><tr><th>float64</th><th>float64</th><th>float64</th><th>float64</th></tr></thead>\n",
       "<tr><td>0.001900252390442583</td><td>1.7772047388295968</td><td>0.001900252390442583</td><td>30.914815447313956</td></tr>\n",
       "<tr><td>0.0022496852139460557</td><td>0.8041419749709758</td><td>0.0022496852139460557</td><td>30.74150701667652</td></tr>\n",
       "<tr><td>0.003291023327279388</td><td>0.366802921732712</td><td>0.003291023327279388</td><td>29.94486823768091</td></tr>\n",
       "<tr><td>0.003306900097891742</td><td>0.5993288418950476</td><td>0.003306900097891742</td><td>30.670150727361467</td></tr>\n",
       "<tr><td>0.0053421390146509325</td><td>1.4550044101585669</td><td>0.0053421390146509325</td><td>30.088770032191416</td></tr>\n",
       "<tr><td>0.005446012950210867</td><td>2.90766727300798</td><td>0.005446012950210867</td><td>31.842687307669497</td></tr>\n",
       "<tr><td>0.005454241192466682</td><td>1.3494645113547659</td><td>0.005454241192466682</td><td>31.266456609084656</td></tr>\n",
       "<tr><td>0.0070476065458995605</td><td>0.42490565147040493</td><td>0.0070476065458995605</td><td>30.26335111917985</td></tr>\n",
       "<tr><td>0.007944628745680037</td><td>1.078173055343659</td><td>0.007944628745680037</td><td>30.25923792864631</td></tr>\n",
       "<tr><td>...</td><td>...</td><td>...</td><td>...</td></tr>\n",
       "<tr><td>1.999994902720976</td><td>1.427640774922295</td><td>1.999994902720976</td><td>30.738951533680623</td></tr>\n",
       "<tr><td>1.9999952774054417</td><td>0.8786873225271056</td><td>1.9999952774054417</td><td>30.277709445061447</td></tr>\n",
       "<tr><td>1.9999953212619634</td><td>0.6498668324946995</td><td>1.9999953212619634</td><td>30.142325912297835</td></tr>\n",
       "<tr><td>1.9999955901229982</td><td>0.4683780489389992</td><td>1.9999955901229982</td><td>30.208477875029956</td></tr>\n",
       "<tr><td>1.9999962594264749</td><td>0.5788341089724038</td><td>1.9999962594264749</td><td>30.10454063042608</td></tr>\n",
       "<tr><td>1.999996411023055</td><td>0.3811047607146342</td><td>1.999996411023055</td><td>30.093499593126914</td></tr>\n",
       "<tr><td>1.9999979136847463</td><td>1.1691156414396415</td><td>1.9999979136847463</td><td>30.51982701409736</td></tr>\n",
       "<tr><td>1.999998524879042</td><td>1.3449379267911292</td><td>1.999998524879042</td><td>30.057099055232673</td></tr>\n",
       "<tr><td>1.9999994736390028</td><td>0.4668301276043769</td><td>1.9999994736390028</td><td>30.822997709336796</td></tr>\n",
       "<tr><td>1.9999997749604004</td><td>0.25151247494397666</td><td>1.9999997749604004</td><td>30.001023409766898</td></tr>\n",
       "</table></div>"
      ],
      "text/plain": [
       "<Table length=4844735>\n",
       "        Z_OBS               LNM_OBS       ...      LNM_TRUE     \n",
       "       float64              float64       ...      float64      \n",
       "--------------------- ------------------- ... ------------------\n",
       " 0.001900252390442583  1.7772047388295968 ... 30.914815447313956\n",
       "0.0022496852139460557  0.8041419749709758 ...  30.74150701667652\n",
       " 0.003291023327279388   0.366802921732712 ...  29.94486823768091\n",
       " 0.003306900097891742  0.5993288418950476 ... 30.670150727361467\n",
       "0.0053421390146509325  1.4550044101585669 ... 30.088770032191416\n",
       " 0.005446012950210867    2.90766727300798 ... 31.842687307669497\n",
       " 0.005454241192466682  1.3494645113547659 ... 31.266456609084656\n",
       "0.0070476065458995605 0.42490565147040493 ...  30.26335111917985\n",
       " 0.007944628745680037   1.078173055343659 ...  30.25923792864631\n",
       "                  ...                 ... ...                ...\n",
       "    1.999994902720976   1.427640774922295 ... 30.738951533680623\n",
       "   1.9999952774054417  0.8786873225271056 ... 30.277709445061447\n",
       "   1.9999953212619634  0.6498668324946995 ... 30.142325912297835\n",
       "   1.9999955901229982  0.4683780489389992 ... 30.208477875029956\n",
       "   1.9999962594264749  0.5788341089724038 ...  30.10454063042608\n",
       "    1.999996411023055  0.3811047607146342 ... 30.093499593126914\n",
       "   1.9999979136847463  1.1691156414396415 ...  30.51982701409736\n",
       "    1.999998524879042  1.3449379267911292 ... 30.057099055232673\n",
       "   1.9999994736390028  0.4668301276043769 ... 30.822997709336796\n",
       "   1.9999997749604004 0.25151247494397666 ... 30.001023409766898"
      ]
     },
     "metadata": {},
     "output_type": "display_data"
    }
   ],
   "source": [
    "# Generates cluster count catalog data\n",
    "ncdata = Nc.DataClusterNCount.new(ca, \"NcClusterRedshiftNodist\", \"NcClusterMassAscaso\")\n",
    "rng = Ncm.RNG.pool_get(\"example_ca_sampling\")\n",
    "ncdata.init_from_sampling(mset, sky_area, rng)\n",
    "ncdata.catalog_save(\"ca_ascaso_unbinned_numcosmo.fits\", True)\n",
    "\n",
    "ncdata_fits = fits.open(\"ca_ascaso_unbinned_numcosmo.fits\")\n",
    "# ncdata_fits.info()\n",
    "\n",
    "ncdata_data = ncdata_fits[1].data\n",
    "\n",
    "ncdata_Table = Table(ncdata_data)\n",
    "ncdata_Table.columns\n",
    "ncdata_Table.sort(\"Z_TRUE\")\n",
    "\n",
    "display(ncdata_Table)"
   ]
  },
  {
   "cell_type": "markdown",
   "metadata": {},
   "source": [
    "<a class=\"anchor\" id=\"numcosmo_ubinned\"></a>\n",
    "### 5.2 [NumCosmo predictions](#numcosmo_ubinned)"
   ]
  },
  {
   "cell_type": "code",
   "execution_count": 7,
   "metadata": {},
   "outputs": [
    {
     "name": "stdout",
     "output_type": "stream",
     "text": [
      "time (seconds) = 0.0004162788391113281\n"
     ]
    }
   ],
   "source": [
    "# Using Numcosmo\n",
    "t0 = time.time()\n",
    "\n",
    "ca.prepare(cosmo_numcosmo, cluster_z, cluster_m)\n",
    "dndproxy_numcosmo = []\n",
    "for richness_i in range(len(ncdata_Table[0][:])):\n",
    "    dndproxy_numcosmo.append(\n",
    "        ca.lnM_p_d2n(\n",
    "            cosmo_numcosmo,\n",
    "            cluster_z,\n",
    "            cluster_m,\n",
    "            [ncdata_Table[richness_i][1]],\n",
    "            None,\n",
    "            ncdata_Table[richness_i][0],\n",
    "        )\n",
    "    )\n",
    "t1 = time.time()\n",
    "print(\"time (seconds) = \" + str(t1 - t0))"
   ]
  },
  {
   "cell_type": "markdown",
   "metadata": {},
   "source": [
    "<a class=\"anchor\" id=\"ccl_ubinned\"></a>\n",
    "### 5.3 [CCL predictions](#ccl_ubinned)"
   ]
  },
  {
   "cell_type": "code",
   "execution_count": null,
   "metadata": {},
   "outputs": [],
   "source": [
    "# Using CCL\n",
    "richness_grid = np.logspace(np.log10(2), np.log10(500), 310)\n",
    "logm_grid = np.linspace(11, 16, 30)\n",
    "z_grid = np.linspace(.1, 1, 301)\n",
    "\n",
    "bins = {'redshift_bins':Z_bin, 'richness_bins': Richness_bin}\n",
    "grids = {'logm_grid': logm_grid, 'z_grid': z_grid, 'richness_grid':richness_grid}\n",
    "count_modelling = {'dNdzdlogMdOmega':None,'richness_mass_relation':None, 'completeness':None, 'purity':None }\n",
    "params = {'params_purity':theta_purity, 'params_completeness': theta_completeness, 'params_richness_mass_relation': theta_rm,\n",
    "         'CCL_cosmology': cosmo, 'halo_mass_distribution': hmd}\n",
    "adds = {'add_purity' : True, 'add_completeness':True}\n",
    "compute = {'compute_dNdzdlogMdOmega':True,'compute_richness_mass_relation':True, 'compute_completeness':False, 'compute_purity':False }\n",
    "\n",
    "t0 = time.time()\n",
    "\n",
    "\n",
    "t1 = time.time()\n",
    "print(\"time (seconds) = \" + str(t1 - t0))\n"
   ]
  },
  {
   "cell_type": "markdown",
   "metadata": {},
   "source": [
    "<a class=\"anchor\" id=\"plots_unbinned\"></a>\n",
    "### 5.4 [Relative error plots](#plots_unbinned)"
   ]
  },
  {
   "cell_type": "code",
   "execution_count": null,
   "metadata": {},
   "outputs": [],
   "source": [
    "plt.figure(figsize=(7, 5))\n",
    "plt.scatter(\n",
    "    ncdata_Table[0][:],\n",
    "    100\n",
    "    * abs(np.array(dndproxy_numcosmo) - np.array(dndproxy_exact_CCL))\n",
    "    / np.array(dndproxy_numcosmo),\n",
    "    s=20,\n",
    "    c=ncdata_Table[1][:],\n",
    "    cmap=\"viridis\",\n",
    ")\n",
    "plt.colorbar()\n",
    "plt.xlabel(\"redshift\", fontsize=20)\n",
    "plt.ylabel(\"|bias| CCL exact method to Numcosmo $(\\%)$\", fontsize=20)\n",
    "plt.yscale(\"log\")\n",
    "plt.ylim(1e-6, 1e-1)\n",
    "plt.grid(True, which=\"both\")"
   ]
  },
  {
   "cell_type": "markdown",
   "metadata": {},
   "source": [
    "<a class=\"anchor\" id=\"binned\"></a>\n",
    "## 5.  [Binned approach](#binned)\n",
    "***"
   ]
  },
  {
   "cell_type": "markdown",
   "metadata": {},
   "source": [
    "Compute the integral"
   ]
  },
  {
   "cell_type": "markdown",
   "metadata": {},
   "source": [
    "$$\n",
    "N_{\\alpha\\beta}^{\\rm predicted} = \\Omega_s\\int_{z_\\alpha}^{z_{\\alpha + 1}} dz\\int_{\\lambda_{\\beta}}^{\\lambda_{\\beta + 1}}d\\lambda\\int_{\\log_{10}M_{min}}^{\\log_{10}M_{max}}\\frac{d^2V(z)}{dz d\\Omega}\\frac{dn(M,z)}{d\\log_{10}M}P(\\lambda|M,z)d\\log_{10}M\n",
    "$$"
   ]
  },
  {
   "cell_type": "markdown",
   "metadata": {},
   "source": [
    "<a class=\"anchor\" id=\"mass\"></a>\n",
    "### 5.1 [Bins](#bins)\n",
    "\n",
    "In the cell below we created the bins to compare the predictions in the binned case\n"
   ]
  },
  {
   "cell_type": "code",
   "execution_count": 8,
   "metadata": {},
   "outputs": [],
   "source": [
    "# Bins definition\n",
    "def binning(nodes): return [[nodes[i],nodes[i+1]] for i in range(len(nodes)-1)]\n",
    "z_edges = np.linspace(0.1, 1, 4)\n",
    "Z_bin = binning(z_edges)\n",
    "logrichness_edges = np.linspace(np.log(20), np.log(200), 5)\n",
    "richness_edges = np.exp(np.linspace(np.log(20), np.log(200), 5))\n",
    "Richness_bin = binning(richness_edges)"
   ]
  },
  {
   "cell_type": "code",
   "execution_count": 9,
   "metadata": {},
   "outputs": [
    {
     "name": "stdout",
     "output_type": "stream",
     "text": [
      "time (seconds) = 0.42832422256469727\n",
      "time (seconds) = 27.02368426322937\n"
     ]
    }
   ],
   "source": [
    "# Using CCL\n",
    "richness_grid = np.logspace(np.log10(2), np.log10(500), 310)\n",
    "logm_grid = np.linspace(11, 16, 30)\n",
    "z_grid = np.linspace(.1, 1, 301)\n",
    "\n",
    "\n",
    "t0 = time.time()\n",
    "bins = {'redshift_bins':Z_bin, 'richness_bins': Richness_bin}\n",
    "grids = {'logm_grid': logm_grid, 'z_grid': z_grid, 'richness_grid':richness_grid}\n",
    "count_modelling = {'dNdzdlogMdOmega':None,'richness_mass_relation':None, 'completeness':None, 'purity':None }\n",
    "params = {'params_purity':None, 'params_completeness': None, 'params_richness_mass_relation': theta_rm,\n",
    "         'CCL_cosmology': cosmo_ccl_default, 'halo_mass_distribution': hmd}\n",
    "adds = {'add_purity' : False, 'add_completeness':False}\n",
    "compute = {'compute_dNdzdlogMdOmega':True,'compute_richness_mass_relation':True, 'compute_completeness':False, 'compute_purity':False }\n",
    "\n",
    "count_modelling_new = cl_count.recompute_count_modelling(count_modelling, grids = grids, compute = compute, params = params)\n",
    "integrand_count_default = cl_count.define_count_integrand(count_modelling_new, adds)\n",
    "\n",
    "\n",
    "\n",
    "\n",
    "t1 = time.time()\n",
    "print(\"time (seconds) = \" + str(t1 - t0))\n",
    "\n",
    "t0 = time.time()\n",
    "bins = {'redshift_bins':Z_bin, 'richness_bins': Richness_bin}\n",
    "grids = {'logm_grid': logm_grid, 'z_grid': z_grid, 'richness_grid':richness_grid}\n",
    "count_modelling = {'dNdzdlogMdOmega':None,'richness_mass_relation':None, 'completeness':None, 'purity':None }\n",
    "params = {'params_purity':None, 'params_completeness': None, 'params_richness_mass_relation': theta_rm,\n",
    "         'CCL_cosmology': cosmo_ccl_high, 'halo_mass_distribution': hmd}\n",
    "adds = {'add_purity' : False, 'add_completeness':False}\n",
    "compute = {'compute_dNdzdlogMdOmega':True,'compute_richness_mass_relation':True, 'compute_completeness':False, 'compute_purity':False }\n",
    "\n",
    "count_modelling_new = cl_count.recompute_count_modelling(count_modelling, grids = grids, compute = compute, params = params)\n",
    "integrand_count_high = cl_count.define_count_integrand(count_modelling_new, adds)\n",
    "\n",
    "\n",
    "\n",
    "\n",
    "t1 = time.time()\n",
    "print(\"time (seconds) = \" + str(t1 - t0))"
   ]
  },
  {
   "cell_type": "code",
   "execution_count": 24,
   "metadata": {},
   "outputs": [
    {
     "name": "stdout",
     "output_type": "stream",
     "text": [
      "time (seconds) = 0.04285454750061035\n"
     ]
    }
   ],
   "source": [
    "# Using Numcosmo\n",
    "\n",
    "t0 = time.time()\n",
    "ca.prepare(cosmo_numcosmo, cluster_z, cluster_m)\n",
    "N_proxy_numcosmo = []\n",
    "\n",
    "\n",
    "for rich_l, rich_u in zip(logrichness_edges, logrichness_edges[1:]):\n",
    "    N_zbin = []\n",
    "    for zl, zu in zip(z_edges, z_edges[1:]):\n",
    "        N_zbin.append(\n",
    "            ca.intp_bin_d2n(\n",
    "                cosmo_numcosmo,\n",
    "                cluster_z,\n",
    "                cluster_m,\n",
    "                [rich_l],\n",
    "                [rich_u],\n",
    "                None,\n",
    "                [zl],\n",
    "                [zu],\n",
    "                None,\n",
    "            )\n",
    "        )\n",
    "\n",
    "    N_proxy_numcosmo.append(N_zbin)\n",
    "\n",
    "t1 = time.time()\n",
    "print(\"time (seconds) = \" + str(t1 - t0))"
   ]
  },
  {
   "cell_type": "code",
   "execution_count": 10,
   "metadata": {},
   "outputs": [
    {
     "name": "stderr",
     "output_type": "stream",
     "text": [
      "<>:17: SyntaxWarning: invalid escape sequence '\\%'\n",
      "<>:17: SyntaxWarning: invalid escape sequence '\\%'\n",
      "/tmp/ipykernel_5626/3706076166.py:17: SyntaxWarning: invalid escape sequence '\\%'\n",
      "  plt.ylabel(\"|bias| CCL exact method to Numcosmo $(\\%)$\", fontsize=20)\n",
      "/tmp/ipykernel_5626/3706076166.py:17: SyntaxWarning: invalid escape sequence '\\%'\n",
      "  plt.ylabel(\"|bias| CCL exact method to Numcosmo $(\\%)$\", fontsize=20)\n"
     ]
    },
    {
     "ename": "NameError",
     "evalue": "name 'proxy_edges' is not defined",
     "output_type": "error",
     "traceback": [
      "\u001b[0;31m---------------------------------------------------------------------------\u001b[0m",
      "\u001b[0;31mNameError\u001b[0m                                 Traceback (most recent call last)",
      "Cell \u001b[0;32mIn[10], line 6\u001b[0m\n\u001b[1;32m      2\u001b[0m plt\u001b[38;5;241m.\u001b[39myscale(\u001b[38;5;124m\"\u001b[39m\u001b[38;5;124mlog\u001b[39m\u001b[38;5;124m\"\u001b[39m)\n\u001b[1;32m      3\u001b[0m z_ \u001b[38;5;241m=\u001b[39m [np\u001b[38;5;241m.\u001b[39mmean([z_edges[i], z_edges[i \u001b[38;5;241m+\u001b[39m \u001b[38;5;241m1\u001b[39m]]) \u001b[38;5;28;01mfor\u001b[39;00m i \u001b[38;5;129;01min\u001b[39;00m np\u001b[38;5;241m.\u001b[39marange(\u001b[38;5;28mlen\u001b[39m(z_edges) \u001b[38;5;241m-\u001b[39m \u001b[38;5;241m1\u001b[39m)]\n\u001b[1;32m      4\u001b[0m proxy \u001b[38;5;241m=\u001b[39m [\n\u001b[1;32m      5\u001b[0m     np\u001b[38;5;241m.\u001b[39mmean([proxy_edges[i], proxy_edges[i \u001b[38;5;241m+\u001b[39m \u001b[38;5;241m1\u001b[39m]])\n\u001b[0;32m----> 6\u001b[0m     \u001b[38;5;28;01mfor\u001b[39;00m i \u001b[38;5;129;01min\u001b[39;00m np\u001b[38;5;241m.\u001b[39marange(\u001b[38;5;28mlen\u001b[39m(\u001b[43mproxy_edges\u001b[49m) \u001b[38;5;241m-\u001b[39m \u001b[38;5;241m1\u001b[39m)\n\u001b[1;32m      7\u001b[0m ]\n\u001b[1;32m     10\u001b[0m plt\u001b[38;5;241m.\u001b[39mtick_params(axis\u001b[38;5;241m=\u001b[39m\u001b[38;5;124m\"\u001b[39m\u001b[38;5;124mboth\u001b[39m\u001b[38;5;124m\"\u001b[39m, which\u001b[38;5;241m=\u001b[39m\u001b[38;5;124m\"\u001b[39m\u001b[38;5;124mboth\u001b[39m\u001b[38;5;124m\"\u001b[39m, labelsize\u001b[38;5;241m=\u001b[39m\u001b[38;5;241m15\u001b[39m)\n\u001b[1;32m     11\u001b[0m \u001b[38;5;28;01mfor\u001b[39;00m f \u001b[38;5;129;01min\u001b[39;00m \u001b[38;5;28mrange\u001b[39m(\u001b[38;5;28mlen\u001b[39m(proxy_edges) \u001b[38;5;241m-\u001b[39m \u001b[38;5;241m1\u001b[39m):\n",
      "\u001b[0;31mNameError\u001b[0m: name 'proxy_edges' is not defined"
     ]
    },
    {
     "data": {
      "image/png": "[encoded data removed]",
      "text/plain": [
       "<Figure size 900x1000 with 1 Axes>"
      ]
     },
     "metadata": {},
     "output_type": "display_data"
    }
   ],
   "source": [
    "plt.figure(figsize=(9, 10))\n",
    "plt.yscale(\"log\")\n",
    "z_ = [np.mean([z_edges[i], z_edges[i + 1]]) for i in np.arange(len(z_edges) - 1)]\n",
    "proxy = [\n",
    "    np.mean([proxy_edges[i], proxy_edges[i + 1]])\n",
    "    for i in np.arange(len(proxy_edges) - 1)\n",
    "]\n",
    "\n",
    "\n",
    "plt.tick_params(axis=\"both\", which=\"both\", labelsize=15)\n",
    "for f in range(len(proxy_edges) - 1):\n",
    "    if f == 0:\n",
    "        label = []\n",
    "    y_simps = abs(100 * (1 - N_ProxyZ_exact[:, f] / N_proxy_numcosmo[:][f]))\n",
    "    plt.scatter(z_, y_simps, label=str(f + 1) + \" richness bin\")\n",
    "plt.grid(True, which=\"both\")\n",
    "plt.ylabel(\"|bias| CCL exact method to Numcosmo $(\\%)$\", fontsize=20)\n",
    "plt.ylim(1e-7, 1e-1)\n",
    "plt.xlabel(r\"$redshift$\", fontsize=20)\n",
    "plt.legend(frameon=False, fontsize=20)"
   ]
  },
  {
   "cell_type": "code",
   "execution_count": null,
   "metadata": {},
   "outputs": [],
   "source": []
  }
 ],
 "metadata": {
  "interpreter": {
   "hash": "916dbcbb3f70747c44a77c7bcd40155683ae19c65e1c03b4aa3499c5328201f1"
  },
  "kernelspec": {
   "display_name": "Python 3 (ipykernel)",
   "language": "python",
   "name": "python3"
  },
  "language_info": {
   "codemirror_mode": {
    "name": "ipython",
    "version": 3
   },
   "file_extension": ".py",
   "mimetype": "text/x-python",
   "name": "python",
   "nbconvert_exporter": "python",
   "pygments_lexer": "ipython3",
   "version": "3.12.3"
  }
 },
 "nbformat": 4,
 "nbformat_minor": 4
}
