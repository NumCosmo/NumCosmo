{
 "cells": [
  {
   "cell_type": "markdown",
   "metadata": {},
   "source": [
    "---\n",
    "**License**\n",
    "\n",
    " cmp_cluster_ccl_numcosmo\n",
    "\n",
    " Wen Aug 07 15:11:00 2024\\\n",
    " Copyright  2024\\\n",
    " Henrique Cardoso Naves Lettieri  <henrique.cnl23@uel.br>\n",
    " Mariana Penna-Lima     <pennalima@gmail.com> \\\n",
    " Sandro Dias Pinto Vitenti <vitenti@uel.br>\n",
    "\n",
    "---\n",
    "---\n",
    "\n",
    " cmp_cluster_ccl_numcosmo\\\n",
    " Copyright (C) 2021 Henrique Cardoso Naves Lettieri  <henrique.cnl23@uel.br>, Mariana Penna-Lima <pennalima@gmail.com>, Sandro Dias Pinto Vitenti <vitenti@uel.br>\n",
    "\n",
    " numcosmo is free software: you can redistribute it and/or modify it\n",
    " under the terms of the GNU General Public License as published by the\n",
    " Free Software Foundation, either version 3 of the License, or\n",
    " (at your option) any later version.\n",
    "\n",
    " numcosmo is distributed in the hope that it will be useful, but\n",
    " WITHOUT ANY WARRANTY; without even the implied warranty of\n",
    " MERCHANTABILITY or FITNESS FOR A PARTICULAR PURPOSE.\n",
    " See the GNU General Public License for more details.\n",
    "\n",
    " You should have received a copy of the GNU General Public License along\n",
    " with this program.  If not, see <http://www.gnu.org/licenses/>.\n",
    " \n",
    "---"
   ]
  },
  {
   "cell_type": "markdown",
   "metadata": {},
   "source": [
    "<a class=\"anchor\" id=\"contents\"></a>\n",
    "# Contents\n",
    "\n",
    "### 1. [Packages](#libraries)\n",
    "### 2. [Cosmological models](#constants)\n",
    "### 3. [Proxy modeling](#proxy)\n",
    "####     3.1 [Relative error plot](#proxy_plots)\n",
    "### 4. [Halo mass function](#mass)\n",
    "### 5. [Unbinned approach](#unbinned)\n",
    "####     5.1 [Mock catalog](#mock)\n",
    "####     5.2 [NumCosmo predictions](#numcosmo_ubinned)\n",
    "####     5.3 [CCL preditictios](#ccl_unbinned)\n",
    "####     5.4 [Relative error plots](#plots_unbinned)\n",
    "### 6. [Binned approach](#binned)\n",
    "####     6.1 [Bins](#bins)\n",
    "####     6.2 [NumCosmo predictions](#numcosmo_binned)\n",
    "####     6.3 [CCL preditictios](#ccl_binned)\n",
    "####     6.4 [Relative error plots](#plots_binned)"
   ]
  },
  {
   "cell_type": "markdown",
   "metadata": {},
   "source": [
    "<a class=\"anchor\" id=\"libraries\"></a>\n",
    "## 1.  [Packages](#libraries)\n",
    "***\n",
    "\n",
    "In the cell below, we import the libraries `CCL` and `NumCosmo` for comparison between their cluster counts predictions in an unbinned and binned with a richness-proxy.\n",
    "\n",
    "To import `NumCosmo`, we should import `GObject`. This is important because `GObject` help us to maps the C language in other languages, like python.\n",
    "\n",
    "The package `sys` is related to the manipulation and obtaining information from the python environment imports the auxiliary library `CLCosmo_Sim` to run the binned counts version of `CCL`. The package `numpy` help us with the calculations, gives us access to mathematical functions, while astropy is used too handle the fits files for the cluster mock catalog.\n"
   ]
  },
  {
   "cell_type": "code",
   "execution_count": null,
   "metadata": {},
   "outputs": [],
   "source": [
    "#!/usr/bin/env python\n",
    "from numcosmo_py import Ncm, Nc\n",
    "from numcosmo_py.external.pyssc import pyssc as PySSC\n",
    "from numcosmo_py.ccl import nc_ccl\n",
    "\n",
    "Ncm.cfg_init()\n",
    "Ncm.cfg_set_log_handler(lambda msg: sys.stdout.write(msg) and sys.stdout.flush())\n",
    "import numpy as np\n",
    "from matplotlib import pyplot as plt\n",
    "from astropy.io import fits\n",
    "from astropy.table import Table\n",
    "\n",
    "\n",
    "\n",
    "\n",
    "import pyccl as ccl\n",
    "get_ipython().run_line_magic('load_ext', 'autoreload')\n",
    "get_ipython().run_line_magic('autoreload', '2')\n",
    "\n",
    "import sys\n",
    "sys.path.insert(0,'../../../CLCosmo_Sim/modeling/')\n",
    "sys.path.insert(0,'../../../CLCosmo_Sim/modeling/old_files/')\n",
    "import CL_COUNT_modeling_halo_mass_function as hmf\n",
    "import CL_COUNT_cluster_abundance as cl_count\n",
    "import old_CL_COUNT_class_cluster_abundance as old_cl_count\n",
    "import CL_COUNT_modeling_richness_mass_relation as rm_relation\n",
    "\n",
    "import time"
   ]
  },
  {
   "cell_type": "markdown",
   "metadata": {},
   "source": [
    "<a class=\"anchor\" id=\"constants\"></a>\n",
    "## 2. [Cosmological models](#constants)\n",
    "***\n",
    "In this cell below we fix the cosmological constants to avoid conflits in the calculations and comparisons between the libraries.\n",
    "\n",
    "\n",
    "$\\Omega_{C}$ = 0.265 The density fraction at z=0 of CDM.<br>\n",
    "$\\Omega_{b}$ = 0.0448 The density fraction at z=0 of baryons.<br>\n",
    "$\\Omega_{k}$ = 0.0 The curvature density fraction at z=0.<br>\n",
    "$H_{0 }$ = 71.00   The Hubble constant.<br>\n",
    "$Tcmb_{0}$  = 2.7255 The temperature at z=0 of CMB.<br>\n",
    "$\\sigma_{8}$ = 0.80 The normalization of the power spectrum today. <br>\n",
    "$n_{s}$ = 0.96 Scalar spectral index.<br>\n",
    "$N_{eff}$ = 0.0 3.046 effective number of massless+massive neutrinos present at recombination.<br>\n",
    "$\\omega_{0}$ = -1.0 First order term of the dark energy equation of state.<br>\n",
    "$\\omega_{a}$ = 0.0 Second order term of the dark energy equation of state.<br>\n"
   ]
  },
  {
   "cell_type": "code",
   "execution_count": null,
   "metadata": {},
   "outputs": [],
   "source": [
    "# CCL cosmology default paramters\n",
    "cosmo_ccl_default = ccl.Cosmology(Omega_c=0.265, Omega_b=0.0448, h=0.71, sigma8=0.8, n_s=0.96, Omega_k=0, transfer_function=\"eisenstein_hu\",)\n",
    "\n",
    "\n",
    "# CCL cosmology high precision paramters\n",
    "ccl_params = nc_ccl.CCLParams()\n",
    "ccl_params.set_high_prec_params()\n",
    "\n",
    "cosmo_ccl_high = ccl.Cosmology(Omega_c=0.265, Omega_b=0.0448, h=0.71, sigma8=0.8, n_s=0.96, Omega_k=0, transfer_function=\"eisenstein_hu\",)\n",
    "\n",
    "#NumCosmo Cosmology\n",
    "cosmo_numcosmo, dist, ps_lin, ps_nln, psf = nc_ccl.create_nc_obj(cosmo_ccl_default)"
   ]
  },
  {
   "cell_type": "markdown",
   "metadata": {},
   "source": [
    "<a class=\"anchor\" id=\"constants\"></a>\n",
    "## 2. [Proxy model](#constants)\n",
    "***\n",
    "In this cell below we fix the mass observable relation given by"
   ]
  },
  {
   "cell_type": "markdown",
   "metadata": {},
   "source": [
    "$$\n",
    "P(\\log\\lambda|M,z) = N(\\mu(M,z), \\sigma^2(M,z))\n",
    "$$\n",
    "the mean is\n",
    "$$\n",
    "    \\mu(M,z) = \\mu_0 + \\mu_M\\log_{10}\\frac{M}{M_0} + \\mu_z\\log_{10}\\frac{1+z}{1+z_0} \n",
    "$$\n",
    "variance is\n",
    "$$\n",
    "\\sigma(M,z) = \\sigma_0 + \\sigma_M\\log_{10}\\frac{M}{M_0} + \\sigma_z\\log_{10}\\frac{1+z}{1+z_0} \n",
    "$$\n",
    "\n",
    "With parameters given by\n",
    "$\\mu_{0}$ = 3.091<br>\n",
    "$\\mu_{M}$ = 2.4177<br>\n",
    "$\\mu_{z}$ = 0.0<br>\n",
    "\n",
    "$\\sigma_{0}$ = 0.594<br>\n",
    "$\\sigma_{M}$ = 0.05987<br>\n",
    "$\\sigma_{z}$ = 0.0<br>\n",
    "and pivot mass and redshift\n",
    "\n",
    "$M_{0}$ = 1e14.2<br>\n",
    "$z_{0}$ = 0.4<br>\n"
   ]
  },
  {
   "cell_type": "code",
   "execution_count": null,
   "metadata": {},
   "outputs": [],
   "source": [
    "#CCL proxy model\n",
    "log10m0, z0 = np.log10(10**14.2), .4\n",
    "proxy_mu0, proxy_muz, proxy_mulog10m =  3.091, 0, 1.05*np.log(10)\n",
    "proxy_sigma0, proxy_sigmaz, proxy_sigmalog10m =  0.594, 0., 0.026*np.log(10)\n",
    "theta_rm = [log10m0, z0, proxy_mu0, proxy_muz, proxy_mulog10m, proxy_sigma0, proxy_sigmaz, proxy_sigmalog10m]\n",
    "\n",
    "\n",
    "\n",
    "\n",
    "# Numcosmo_proxy model\n",
    "cluster_z = Nc.ClusterRedshiftNodist(z_min=0.0, z_max=2.0)\n",
    "\n",
    "cluster_m = Nc.ClusterMassAscaso(lnRichness_min=0.0, lnRichness_max=np.log(700) , z0=0.4 , M0 =10**14.2)\n",
    "cluster_m.param_set_by_name(\"mup0\", 3.091)\n",
    "cluster_m.param_set_by_name(\"mup1\", 1.05)\n",
    "cluster_m.param_set_by_name(\"mup2\", 0.0)\n",
    "cluster_m.param_set_by_name(\"sigmap0\", 0.594)\n",
    "cluster_m.param_set_by_name(\"sigmap1\", 0.026)\n",
    "cluster_m.param_set_by_name(\"sigmap2\", 0)"
   ]
  },
  {
   "cell_type": "code",
   "execution_count": null,
   "metadata": {},
   "outputs": [],
   "source": [
    "proxy_array = np.linspace(np.log(2), np.log(500), 1000)\n",
    "proxy10_array = np.logspace(np.log10(2), np.log10(500), 1000)\n",
    "z = 0.5\n",
    "logM = np.log(10) * np.log10(10**(14.5))\n",
    "pdf_clusterm_numcosmo = []\n",
    "diff = []\n",
    "for lnrichness in range(len(proxy_array)):\n",
    "    pdf_clusterm_numcosmo.append(cluster_m.p(cosmo_numcosmo, logM, z, [proxy_array[lnrichness]], None)/(np.exp(proxy_array[lnrichness])))\n",
    "    diff.append(abs(cluster_m.p(cosmo_numcosmo, logM, z, [proxy_array[lnrichness]], None)/np.exp(proxy_array[lnrichness]) - \n",
    "                rm_relation.pdf_richness_mass_relation(proxy10_array, 14.5, z, theta_rm)[lnrichness]))\n",
    "\n",
    "\n",
    "fig1 = plt.figure(figsize=(8, 6))\n",
    "plt.plot(proxy10_array,  rm_relation.pdf_richness_mass_relation(proxy10_array, 14.5, z, theta_rm), label=\"CCL proxy\")\n",
    "plt.plot(proxy10_array, pdf_clusterm_numcosmo, label=\"Numcosmo Proxy\")\n",
    "plt.legend()\n",
    "plt.ylabel(r\"$P(\\lambda|\\log M, z)$\", fontsize=20)\n",
    "plt.show()\n",
    "\n",
    "frame2 = fig1.add_axes((0.1, 0.1, 0.8, 0.2))\n",
    "plt.plot(proxy10_array, diff, c=\"g\", label=\"absolute diference\")\n",
    "plt.legend()\n",
    "plt.xlabel(r\"$\\ln \\lambda$\", fontsize=20)\n",
    "plt.ylabel(r\"$|P_{Num} - P_{CCL}|$\", fontsize=10)"
   ]
  },
  {
   "cell_type": "markdown",
   "metadata": {},
   "source": [
    "<a class=\"anchor\" id=\"mass\"></a>\n",
    "## 4.  [Halo Mass Function](#mass)\n",
    "***\n",
    "In the cell above we initialize the halo mass function objects in both `NumCosmo` and `CCL`"
   ]
  },
  {
   "cell_type": "code",
   "execution_count": null,
   "metadata": {},
   "outputs": [],
   "source": [
    "sky_area = 5264.05 * (np.pi / 180) ** 2\n",
    "\n",
    "\n",
    "mulf = Nc.MultiplicityFuncTinker.new()\n",
    "mulf.set_linear_interp(True)\n",
    "mulf.set_mdef(Nc.MultiplicityFuncMassDef.CRITICAL)\n",
    "mulf.set_Delta(200)\n",
    "\n",
    "hmf_numcosmo = Nc.HaloMassFunction.new(dist, psf, mulf)\n",
    "hmf_numcosmo.set_area(sky_area)\n",
    "\n",
    "ca = Nc.ClusterAbundance.new(hmf_numcosmo, None)\n",
    "\n",
    "mset = Ncm.MSet.new_array([cosmo_numcosmo, cluster_m, cluster_z])\n",
    "mset.pretty_log()\n",
    "print(\"sigma8 = \" + str(cosmo_numcosmo.sigma8(psf)))\n",
    "\n",
    "\n",
    "# CCL halo mass funtion\n",
    "massdef = ccl.halos.massdef.MassDef(200, \"critical\")\n",
    "hmd = ccl.halos.hmfunc.MassFuncTinker08(mass_def=massdef)"
   ]
  },
  {
   "cell_type": "markdown",
   "metadata": {},
   "source": [
    "<a class=\"anchor\" id=\"unbinned\"></a>\n",
    "## 5.  [Unbinned approach](#unbinned)\n",
    "***\n",
    "In the cells above we compute"
   ]
  },
  {
   "cell_type": "markdown",
   "metadata": {},
   "source": [
    "$$\n",
    "x_i = \\int_{\\log_{10}M_{min}}^{\\log_{10}M_{min}}\\frac{d^2V(z_i)}{dz d\\Omega}\\frac{dn(M,z_i)}{d\\log_{10}M}P(\\lambda_i|M,z_i)d\\log_{10}M\n",
    "$$"
   ]
  },
  {
   "cell_type": "markdown",
   "metadata": {},
   "source": [
    "<a class=\"anchor\" id=\"mock\"></a>\n",
    "### 5.1 [Mock catalog](#mock)\n",
    "\n",
    "In the cell below we created a the mock catalog to compare the predictions in the unbinned case"
   ]
  },
  {
   "cell_type": "code",
   "execution_count": null,
   "metadata": {},
   "outputs": [],
   "source": [
    "# Generates cluster count catalog data\n",
    "ncdata = Nc.DataClusterNCount.new(ca, \"NcClusterRedshiftNodist\", \"NcClusterMassAscaso\")\n",
    "rng = Ncm.RNG.pool_get(\"example_ca_sampling\")\n",
    "ncdata.init_from_sampling(mset, sky_area, rng)\n",
    "ncdata.catalog_save(\"ca_ascaso_unbinned_numcosmo.fits\", True)\n",
    "\n",
    "ncdata_fits = fits.open(\"ca_ascaso_unbinned_numcosmo.fits\")\n",
    "# ncdata_fits.info()\n",
    "\n",
    "ncdata_data = ncdata_fits[1].data\n",
    "\n",
    "ncdata_Table = Table(ncdata_data)\n",
    "ncdata_Table.columns\n",
    "ncdata_Table.sort(\"Z_TRUE\")\n",
    "\n",
    "display(ncdata_Table)"
   ]
  },
  {
   "cell_type": "markdown",
   "metadata": {},
   "source": [
    "<a class=\"anchor\" id=\"numcosmo_ubinned\"></a>\n",
    "### 5.2 [NumCosmo predictions](#numcosmo_ubinned)"
   ]
  },
  {
   "cell_type": "code",
   "execution_count": null,
   "metadata": {},
   "outputs": [],
   "source": [
    "# Using Numcosmo\n",
    "t0 = time.time()\n",
    "\n",
    "ca.prepare(cosmo_numcosmo, cluster_z, cluster_m)\n",
    "dndproxy_numcosmo = []\n",
    "for richness_i in range(len(ncdata_Table[0][:])):\n",
    "    dndproxy_numcosmo.append(\n",
    "        ca.lnM_p_d2n(\n",
    "            cosmo_numcosmo,\n",
    "            cluster_z,\n",
    "            cluster_m,\n",
    "            [ncdata_Table[richness_i][1]],\n",
    "            None,\n",
    "            ncdata_Table[richness_i][0],\n",
    "        )\n",
    "    )\n",
    "t1 = time.time()\n",
    "print(\"time (seconds) = \" + str(t1 - t0))"
   ]
  },
  {
   "cell_type": "markdown",
   "metadata": {},
   "source": [
    "<a class=\"anchor\" id=\"ccl_ubinned\"></a>\n",
    "### 5.3 [CCL predictions](#ccl_ubinned)"
   ]
  },
  {
   "cell_type": "code",
   "execution_count": null,
   "metadata": {},
   "outputs": [],
   "source": [
    "# Using CCL\n",
    "richness_grid = np.logspace(np.log10(2), np.log10(500), 310)\n",
    "logm_grid = np.linspace(11, 16, 30)\n",
    "z_grid = np.linspace(.1, 1, 301)\n",
    "\n",
    "bins = {'redshift_bins':Z_bin, 'richness_bins': Richness_bin}\n",
    "grids = {'logm_grid': logm_grid, 'z_grid': z_grid, 'richness_grid':richness_grid}\n",
    "count_modelling = {'dNdzdlogMdOmega':None,'richness_mass_relation':None, 'completeness':None, 'purity':None }\n",
    "params = {'params_purity':theta_purity, 'params_completeness': theta_completeness, 'params_richness_mass_relation': theta_rm,\n",
    "         'CCL_cosmology': cosmo, 'halo_mass_distribution': hmd}\n",
    "adds = {'add_purity' : True, 'add_completeness':True}\n",
    "compute = {'compute_dNdzdlogMdOmega':True,'compute_richness_mass_relation':True, 'compute_completeness':False, 'compute_purity':False }\n",
    "\n",
    "t0 = time.time()\n",
    "\n",
    "\n",
    "t1 = time.time()\n",
    "print(\"time (seconds) = \" + str(t1 - t0))\n"
   ]
  },
  {
   "cell_type": "markdown",
   "metadata": {},
   "source": [
    "<a class=\"anchor\" id=\"plots_unbinned\"></a>\n",
    "### 5.4 [Relative error plots](#plots_unbinned)"
   ]
  },
  {
   "cell_type": "code",
   "execution_count": null,
   "metadata": {},
   "outputs": [],
   "source": [
    "plt.figure(figsize=(7, 5))\n",
    "plt.scatter(\n",
    "    ncdata_Table[0][:],\n",
    "    100\n",
    "    * abs(np.array(dndproxy_numcosmo) - np.array(dndproxy_exact_CCL))\n",
    "    / np.array(dndproxy_numcosmo),\n",
    "    s=20,\n",
    "    c=ncdata_Table[1][:],\n",
    "    cmap=\"viridis\",\n",
    ")\n",
    "plt.colorbar()\n",
    "plt.xlabel(\"redshift\", fontsize=20)\n",
    "plt.ylabel(\"|bias| CCL exact method to Numcosmo $(\\%)$\", fontsize=20)\n",
    "plt.yscale(\"log\")\n",
    "plt.ylim(1e-6, 1e-1)\n",
    "plt.grid(True, which=\"both\")"
   ]
  },
  {
   "cell_type": "markdown",
   "metadata": {},
   "source": [
    "<a class=\"anchor\" id=\"binned\"></a>\n",
    "## 5.  [Binned approach](#binned)\n",
    "***"
   ]
  },
  {
   "cell_type": "markdown",
   "metadata": {},
   "source": [
    "Compute the integral"
   ]
  },
  {
   "cell_type": "markdown",
   "metadata": {},
   "source": [
    "$$\n",
    "N_{\\alpha\\beta}^{\\rm predicted} = \\Omega_s\\int_{z_\\alpha}^{z_{\\alpha + 1}} dz\\int_{\\lambda_{\\beta}}^{\\lambda_{\\beta + 1}}d\\lambda\\int_{\\log_{10}M_{min}}^{\\log_{10}M_{max}}\\frac{d^2V(z)}{dz d\\Omega}\\frac{dn(M,z)}{d\\log_{10}M}P(\\lambda|M,z)d\\log_{10}M\n",
    "$$"
   ]
  },
  {
   "cell_type": "markdown",
   "metadata": {},
   "source": [
    "<a class=\"anchor\" id=\"mass\"></a>\n",
    "### 5.1 [Bins](#bins)\n",
    "\n",
    "In the cell below we created the bins to compare the predictions in the binned case\n"
   ]
  },
  {
   "cell_type": "code",
   "execution_count": null,
   "metadata": {},
   "outputs": [],
   "source": [
    "# Bins definition\n",
    "def binning(nodes): return [[nodes[i],nodes[i+1]] for i in range(len(nodes)-1)]\n",
    "z_edges = np.linspace(0.1, 1, 4)\n",
    "Z_bin = binning(z_edges)\n",
    "logrichness_edges = np.linspace(np.log(20), np.log(200), 5)\n",
    "richness_edges = np.exp(np.linspace(np.log(20), np.log(200), 5))\n",
    "Richness_bin = binning(richness_edges)"
   ]
  },
  {
   "cell_type": "code",
   "execution_count": null,
   "metadata": {},
   "outputs": [],
   "source": [
    "# Using CCL\n",
    "richness_grid = np.logspace(np.log10(2), np.log10(500), 310)\n",
    "logm_grid = np.linspace(11, 16, 30)\n",
    "z_grid = np.linspace(.1, 1, 301)\n",
    "\n",
    "\n",
    "t0 = time.time()\n",
    "bins = {'redshift_bins':Z_bin, 'richness_bins': Richness_bin}\n",
    "grids = {'logm_grid': logm_grid, 'z_grid': z_grid, 'richness_grid':richness_grid}\n",
    "count_modelling = {'dNdzdlogMdOmega':None,'richness_mass_relation':None, 'completeness':None, 'purity':None }\n",
    "params = {'params_purity':None, 'params_completeness': None, 'params_richness_mass_relation': theta_rm,\n",
    "         'CCL_cosmology': cosmo_ccl_default, 'halo_mass_distribution': hmd}\n",
    "adds = {'add_purity' : False, 'add_completeness':False}\n",
    "compute = {'compute_dNdzdlogMdOmega':True,'compute_richness_mass_relation':True, 'compute_completeness':False, 'compute_purity':False }\n",
    "\n",
    "count_modelling_new = cl_count.recompute_count_modelling(count_modelling, grids = grids, compute = compute, params = params)\n",
    "integrand_count_default = cl_count.define_count_integrand(count_modelling_new, adds)\n",
    "\n",
    "\n",
    "\n",
    "\n",
    "t1 = time.time()\n",
    "print(\"time (seconds) = \" + str(t1 - t0))\n",
    "\n",
    "t0 = time.time()\n",
    "bins = {'redshift_bins':Z_bin, 'richness_bins': Richness_bin}\n",
    "grids = {'logm_grid': logm_grid, 'z_grid': z_grid, 'richness_grid':richness_grid}\n",
    "count_modelling = {'dNdzdlogMdOmega':None,'richness_mass_relation':None, 'completeness':None, 'purity':None }\n",
    "params = {'params_purity':None, 'params_completeness': None, 'params_richness_mass_relation': theta_rm,\n",
    "         'CCL_cosmology': cosmo_ccl_high, 'halo_mass_distribution': hmd}\n",
    "adds = {'add_purity' : False, 'add_completeness':False}\n",
    "compute = {'compute_dNdzdlogMdOmega':True,'compute_richness_mass_relation':True, 'compute_completeness':False, 'compute_purity':False }\n",
    "\n",
    "count_modelling_new = cl_count.recompute_count_modelling(count_modelling, grids = grids, compute = compute, params = params)\n",
    "integrand_count_high = cl_count.define_count_integrand(count_modelling_new, adds)\n",
    "\n",
    "\n",
    "\n",
    "\n",
    "t1 = time.time()\n",
    "print(\"time (seconds) = \" + str(t1 - t0))"
   ]
  },
  {
   "cell_type": "code",
   "execution_count": null,
   "metadata": {},
   "outputs": [],
   "source": [
    "# Using Numcosmo\n",
    "\n",
    "t0 = time.time()\n",
    "ca.prepare(cosmo_numcosmo, cluster_z, cluster_m)\n",
    "N_proxy_numcosmo = []\n",
    "\n",
    "\n",
    "for rich_l, rich_u in zip(logrichness_edges, logrichness_edges[1:]):\n",
    "    N_zbin = []\n",
    "    for zl, zu in zip(z_edges, z_edges[1:]):\n",
    "        N_zbin.append(\n",
    "            ca.intp_bin_d2n(\n",
    "                cosmo_numcosmo,\n",
    "                cluster_z,\n",
    "                cluster_m,\n",
    "                [rich_l],\n",
    "                [rich_u],\n",
    "                None,\n",
    "                [zl],\n",
    "                [zu],\n",
    "                None,\n",
    "            )\n",
    "        )\n",
    "\n",
    "    N_proxy_numcosmo.append(N_zbin)\n",
    "\n",
    "t1 = time.time()\n",
    "print(\"time (seconds) = \" + str(t1 - t0))"
   ]
  },
  {
   "cell_type": "code",
   "execution_count": null,
   "metadata": {},
   "outputs": [],
   "source": [
    "plt.figure(figsize=(9, 10))\n",
    "plt.yscale(\"log\")\n",
    "z_ = [np.mean([z_edges[i], z_edges[i + 1]]) for i in np.arange(len(z_edges) - 1)]\n",
    "proxy = [\n",
    "    np.mean([proxy_edges[i], proxy_edges[i + 1]])\n",
    "    for i in np.arange(len(proxy_edges) - 1)\n",
    "]\n",
    "\n",
    "\n",
    "plt.tick_params(axis=\"both\", which=\"both\", labelsize=15)\n",
    "for f in range(len(proxy_edges) - 1):\n",
    "    if f == 0:\n",
    "        label = []\n",
    "    y_simps = abs(100 * (1 - N_ProxyZ_exact[:, f] / N_proxy_numcosmo[:][f]))\n",
    "    plt.scatter(z_, y_simps, label=str(f + 1) + \" richness bin\")\n",
    "plt.grid(True, which=\"both\")\n",
    "plt.ylabel(\"|bias| CCL exact method to Numcosmo $(\\%)$\", fontsize=20)\n",
    "plt.ylim(1e-7, 1e-1)\n",
    "plt.xlabel(r\"$redshift$\", fontsize=20)\n",
    "plt.legend(frameon=False, fontsize=20)"
   ]
  },
  {
   "cell_type": "code",
   "execution_count": null,
   "metadata": {},
   "outputs": [],
   "source": []
  }
 ],
 "metadata": {
  "interpreter": {
   "hash": "916dbcbb3f70747c44a77c7bcd40155683ae19c65e1c03b4aa3499c5328201f1"
  },
  "kernelspec": {
   "display_name": "NERSC Python",
   "language": "python",
   "name": "python3"
  },
  "language_info": {
   "codemirror_mode": {
    "name": "ipython",
    "version": 3
   },
   "file_extension": ".py",
   "mimetype": "text/x-python",
   "name": "python",
   "nbconvert_exporter": "python",
   "pygments_lexer": "ipython3"
  }
 },
 "nbformat": 4,
 "nbformat_minor": 4
}
