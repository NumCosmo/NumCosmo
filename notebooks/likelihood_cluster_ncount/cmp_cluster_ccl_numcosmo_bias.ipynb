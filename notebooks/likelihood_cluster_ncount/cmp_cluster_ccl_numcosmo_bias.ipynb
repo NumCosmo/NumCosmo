{
 "cells": [
  {
   "cell_type": "code",
   "execution_count": 1,
   "metadata": {},
   "outputs": [
    {
     "ename": "ImportError",
     "evalue": "/home/Henrique/cosmolibraries/.venv/lib/python3.11/site-packages/gi/_gi.cpython-311-x86_64-linux-gnu.so: undefined symbol: g_assertion_message_cmpint",
     "output_type": "error",
     "traceback": [
      "\u001b[0;31m---------------------------------------------------------------------------\u001b[0m",
      "\u001b[0;31mImportError\u001b[0m                               Traceback (most recent call last)",
      "Cell \u001b[0;32mIn[1], line 12\u001b[0m\n\u001b[1;32m     10\u001b[0m \u001b[38;5;28;01mimport\u001b[39;00m \u001b[38;5;21;01mmath\u001b[39;00m\n\u001b[1;32m     11\u001b[0m \u001b[38;5;28;01mimport\u001b[39;00m \u001b[38;5;21;01mmatplotlib\u001b[39;00m\u001b[38;5;21;01m.\u001b[39;00m\u001b[38;5;21;01mpyplot\u001b[39;00m \u001b[38;5;28;01mas\u001b[39;00m \u001b[38;5;21;01mplt\u001b[39;00m\n\u001b[0;32m---> 12\u001b[0m \u001b[38;5;28;01mfrom\u001b[39;00m \u001b[38;5;21;01mgi\u001b[39;00m\u001b[38;5;21;01m.\u001b[39;00m\u001b[38;5;21;01mrepository\u001b[39;00m \u001b[38;5;28;01mimport\u001b[39;00m GObject\n\u001b[1;32m     13\u001b[0m \u001b[38;5;28;01mfrom\u001b[39;00m \u001b[38;5;21;01mgi\u001b[39;00m\u001b[38;5;21;01m.\u001b[39;00m\u001b[38;5;21;01mrepository\u001b[39;00m \u001b[38;5;28;01mimport\u001b[39;00m NumCosmo \u001b[38;5;28;01mas\u001b[39;00m Nc\n\u001b[1;32m     14\u001b[0m \u001b[38;5;28;01mfrom\u001b[39;00m \u001b[38;5;21;01mgi\u001b[39;00m\u001b[38;5;21;01m.\u001b[39;00m\u001b[38;5;21;01mrepository\u001b[39;00m \u001b[38;5;28;01mimport\u001b[39;00m NumCosmoMath \u001b[38;5;28;01mas\u001b[39;00m Ncm\n",
      "File \u001b[0;32m~/cosmolibraries/.venv/lib/python3.11/site-packages/gi/__init__.py:40\u001b[0m\n\u001b[1;32m     36\u001b[0m \u001b[38;5;28;01mif\u001b[39;00m \u001b[38;5;124m'\u001b[39m\u001b[38;5;124mgobject\u001b[39m\u001b[38;5;124m'\u001b[39m \u001b[38;5;129;01min\u001b[39;00m sys\u001b[38;5;241m.\u001b[39mmodules:\n\u001b[1;32m     37\u001b[0m     \u001b[38;5;28;01mraise\u001b[39;00m \u001b[38;5;167;01mImportError\u001b[39;00m(_static_binding_error)\n\u001b[0;32m---> 40\u001b[0m \u001b[38;5;28;01mfrom\u001b[39;00m \u001b[38;5;21;01m.\u001b[39;00m \u001b[38;5;28;01mimport\u001b[39;00m _gi\n\u001b[1;32m     41\u001b[0m \u001b[38;5;28;01mfrom\u001b[39;00m \u001b[38;5;21;01m.\u001b[39;00m\u001b[38;5;21;01m_gi\u001b[39;00m \u001b[38;5;28;01mimport\u001b[39;00m _API\n\u001b[1;32m     42\u001b[0m \u001b[38;5;28;01mfrom\u001b[39;00m \u001b[38;5;21;01m.\u001b[39;00m\u001b[38;5;21;01m_gi\u001b[39;00m \u001b[38;5;28;01mimport\u001b[39;00m Repository\n",
      "\u001b[0;31mImportError\u001b[0m: /home/Henrique/cosmolibraries/.venv/lib/python3.11/site-packages/gi/_gi.cpython-311-x86_64-linux-gnu.so: undefined symbol: g_assertion_message_cmpint"
     ]
    }
   ],
   "source": [
    "#!/usr/bin/env python\n",
    "\n",
    "try:\n",
    "  import gi\n",
    "  gi.require_version('NumCosmo', '1.0')\n",
    "  gi.require_version('NumCosmoMath', '1.0')\n",
    "except:\n",
    "  pass\n",
    "\n",
    "import math\n",
    "import matplotlib.pyplot as plt\n",
    "from numcosmo_py import Ncm, Nc\n",
    "from numcosmo_py.external.pyssc import pyssc as PySSC\n",
    "import numpy as np\n",
    "from astropy.io import fits\n",
    "from astropy.table import Table\n",
    "import sys\n",
    "sys.path.insert(0,'/home/henrique/Programas_Cosmologia/CLCosmo_Sim/cluster_abundance/')\n",
    "sys.path.insert(0,'../../scripts')\n",
    "\n",
    "import pyccl as ccl\n",
    "get_ipython().run_line_magic('load_ext', 'autoreload')\n",
    "get_ipython().run_line_magic('autoreload', '2')\n",
    "import CL_COUNT_class_cluster_abundance as cl_count\n",
    "import time\n",
    "from nc_ccl import create_nc_obj, ccl_cosmo_set_high_prec\n",
    "import CL_COUNT_modeling_richness as richness_model\n",
    "\n",
    "Ncm.cfg_init()\n",
    "Ncm.cfg_set_log_handler (lambda msg: sys.stdout.write (msg) and sys.stdout.flush ())"
   ]
  },
  {
   "cell_type": "markdown",
   "metadata": {},
   "source": [
    "# initialize the `Cosmological model`"
   ]
  },
  {
   "cell_type": "code",
   "execution_count": null,
   "metadata": {},
   "outputs": [],
   "source": [
    "#CCL cosmology\n",
    "cosmo_ccl = ccl.Cosmology(Omega_c = 0.265, Omega_b = 0.0448, h = 0.71, sigma8 = 0.8, n_s=0.96, Omega_k = 0, transfer_function='eisenstein_hu')\n",
    "ccl_cosmo_set_high_prec (cosmo_ccl)\n",
    "\n",
    "#Numcosmo cosmology\n",
    "cosmo, dist, ps_lin, ps_nln, hmfunc = create_nc_obj (cosmo_ccl)\n",
    "\n",
    "psf = hmfunc.peek_psf ()"
   ]
  },
  {
   "cell_type": "markdown",
   "metadata": {},
   "source": [
    "# initialize the `ClusterAbundance and bias` object"
   ]
  },
  {
   "cell_type": "code",
   "execution_count": null,
   "metadata": {},
   "outputs": [],
   "source": [
    "#Numcosmo Cluster Abundance mean bias\n",
    "\n",
    "#First we need to define the multiplicity function here we will use the tinker\n",
    "from hashlib import new\n",
    "\n",
    "\n",
    "mulf = Nc.MultiplicityFuncTinker.new()\n",
    "mulf.set_linear_interp (True)\n",
    "mulf.set_mdef(Nc.MultiplicityFuncMassDef.CRITICAL)\n",
    "print(mulf.get_Delta())\n",
    "#Second we need to construct a filtered power spectrum \n",
    "\n",
    "\n",
    "hmf = Nc.HaloMassFunction.new(dist,psf,mulf)\n",
    "hmf.set_area(5264.05*(np.pi/180)**2)\n",
    "hmf.prepare(cosmo)\n",
    "\n",
    "#Creating the halo bias \n",
    "\n",
    "hbias_Tinker = Nc.HaloBiasTinker.new(hmf)\n",
    "ca = Nc.ClusterAbundance.new(hmf,hbias_Tinker)"
   ]
  },
  {
   "cell_type": "code",
   "execution_count": null,
   "metadata": {},
   "outputs": [],
   "source": [
    "#CCL Cluster mean bias\n",
    "#choose the halo mass function and mass definition\n",
    "clc = cl_count.ClusterAbundance()\n",
    "massdef = ccl.halos.massdef.MassDef(200, 'critical', c_m_relation=None)\n",
    "hmd = ccl.halos.hmfunc.MassFuncTinker08(cosmo_ccl, mass_def=massdef)\n",
    "clc.set_cosmology(cosmo = cosmo_ccl, hmd = hmd, massdef = massdef)\n",
    "clc.sky_area = 5264.05*(np.pi/180)**2\n",
    "z_grid = np.linspace(0., 3, 500)\n",
    "logm_grid = np.linspace(12,16, 500)\n",
    "\n",
    "halobias_model = ccl.halos.hbias.HaloBiasTinker10(cosmo_ccl, mass_def=massdef)"
   ]
  },
  {
   "cell_type": "code",
   "execution_count": null,
   "metadata": {},
   "outputs": [],
   "source": [
    "#Here we define the mass proxy in the first analysis is used the true mass and redshift of the clusters\n",
    "cluster_m = Nc.ClusterMass.new_from_name(\"NcClusterMassNodist{'lnM-min':<%20.15e>, 'lnM-max':<%20.15e>}\" % (math.log(10)*np.log10(1e14),math.log(10)*np.log10(1e16)))\n",
    "cluster_z = Nc.ClusterRedshift.new_from_name(\"NcClusterRedshiftNodist{'z-min': <%20.15e>, 'z-max':<%20.15e>}\" % (0.25,2))\n",
    "\n",
    "\n",
    "mset = Ncm.MSet.new_array([cosmo,cluster_m,cluster_z])\n",
    "mset.pretty_log()\n",
    "print('sigma8 = '+str(cosmo.sigma8(psf)))"
   ]
  },
  {
   "cell_type": "markdown",
   "metadata": {},
   "source": [
    "# Create the `Cluster Abundance Data`"
   ]
  },
  {
   "cell_type": "code",
   "execution_count": null,
   "metadata": {},
   "outputs": [],
   "source": [
    "mset = Ncm.MSet.new_array([cosmo,cluster_m,cluster_z])\n",
    "\n",
    "#Generates cluster count catalog data\n",
    "\n",
    "\n",
    "ncdata = Nc.DataClusterNCount.new(ca,'NcClusterRedshiftNodist','NcClusterMassNodist')\n",
    "rng = Ncm.RNG.pool_get(\"example_ca_sampling\");\n",
    "ncdata.init_from_sampling(mset,5264.05*(np.pi/180)**2,rng)\n",
    "ncdata.catalog_save(\"ca_mean_bias_nodist.fits\", True)\n",
    "\n",
    "ncdata_fits = fits.open('ca_mean_bias_nodist.fits')\n",
    "#ncdata_fits.info()\n",
    "\n",
    "ncdata_data =  ncdata_fits[1].data\n",
    "\n",
    "ncdata_Table = Table(ncdata_data)\n",
    "ncdata_Table.columns\n",
    "ncdata_Table.sort('Z_TRUE')\n",
    "mset.pretty_log()"
   ]
  },
  {
   "cell_type": "code",
   "execution_count": null,
   "metadata": {},
   "outputs": [],
   "source": [
    "display(ncdata_Table)"
   ]
  },
  {
   "cell_type": "markdown",
   "metadata": {},
   "source": [
    "# Un-binned approach"
   ]
  },
  {
   "cell_type": "markdown",
   "metadata": {},
   "source": [
    "$$\n",
    "b_i = \\frac{\\Omega_s}{x_i}\\frac{d^2V(z_i)}{dz d\\Omega}\\frac{dn(M_i,z_i)}{d\\log_{10}M_i} b(M_i,z_i)\n",
    "$$"
   ]
  },
  {
   "cell_type": "code",
   "execution_count": null,
   "metadata": {},
   "outputs": [],
   "source": [
    "#Numcosm bias\n",
    "ca.prepare(cosmo,cluster_z,cluster_m)\n",
    "dnbias = []\n",
    "for cluster in ncdata_Table:\n",
    "    dnbias.append(ca.intp_d2n_bias(cosmo, cluster_z, cluster_m, [cluster[1]], None, [cluster[0]], None )/ca.d2n(cosmo, cluster_z, cluster_m, cluster[1], cluster[0]))\n"
   ]
  },
  {
   "cell_type": "code",
   "execution_count": null,
   "metadata": {},
   "outputs": [],
   "source": [
    "#CCL bias\n",
    "ccl_unbinned_bias = []\n",
    "for cluster in ncdata_Table:\n",
    "    ccl_unbinned_bias.append(halobias_model.get_halo_bias(cosmo_ccl,10**(cluster[1]/math.log(10)),1/(1+cluster[0])))\n"
   ]
  },
  {
   "cell_type": "code",
   "execution_count": null,
   "metadata": {},
   "outputs": [],
   "source": [
    "diff = []\n",
    "for cluster in range(len(dnbias)):\n",
    "    diff.append(abs(100*(ccl_unbinned_bias[cluster]-dnbias[cluster])/dnbias[cluster]))\n",
    "\n",
    "plt.figure(figsize = (14,7))\n",
    "plt.yscale('log')\n",
    "plt.tick_params(axis='both', which = 'major', labelsize= 15)\n",
    "plt.scatter(ncdata_Table[0][:], diff, s = 20, c = ncdata_Table['LNM_OBS']/math.log(10))\n",
    "plt.colorbar()\n",
    "plt.grid(True, which='both')\n",
    "plt.xlabel(r'$redshift$', fontsize = 30)\n",
    "plt.ylabel('|bias| CCL exact method to Numcosmo halo bias $(\\%)$', fontsize = 30)\n",
    "plt.ylim(4e-2,0.1)\n"
   ]
  },
  {
   "cell_type": "markdown",
   "metadata": {},
   "source": [
    "# Binned approach\n"
   ]
  },
  {
   "cell_type": "markdown",
   "metadata": {},
   "source": [
    "\n",
    "# Compute the integral"
   ]
  },
  {
   "cell_type": "markdown",
   "metadata": {},
   "source": [
    "$$\n",
    " b_{\\alpha\\beta}^{\\rm predicted} = \\frac{\\Omega_s}{N^{predicted}_{\\alpha \\beta}}\\int_{z_\\alpha}^{z_{\\alpha + 1}} dz\\int_{\\lambda_{\\beta}}^{\\lambda_{\\beta + 1}}d\\lambda\\int_{\\log_{10}M_{min}}^{\\log_{10}M_{max}}\\frac{d^2V(z)}{dz d\\Omega}\\frac{dn(M,z)}{d\\log_{10}M}b(M,z)P(\\lambda|M,z)d\\log_{10}M\n",
    " $$"
   ]
  },
  {
   "cell_type": "code",
   "execution_count": null,
   "metadata": {},
   "outputs": [],
   "source": [
    "#Bins definition\n",
    "z_edges = np.linspace(0.25, 2, 8)\n",
    "mass_edges = np.linspace(14, 14.8, 11)"
   ]
  },
  {
   "cell_type": "code",
   "execution_count": null,
   "metadata": {},
   "outputs": [],
   "source": [
    "#Using Numcosmo\n",
    "mass_edges_ln = mass_edges*math.log(10)\n",
    "t0 = time.time()\n",
    "ca.prepare(cosmo,cluster_z,cluster_m)\n",
    "numcosmo_bias_binned = []\n",
    "\n",
    "\n",
    "for zl, zu in zip (z_edges, z_edges[1:]):\n",
    "    nc_bin_mass = []\n",
    "    for lnMl, lnMu in zip (mass_edges_ln, mass_edges_ln[1:]):\n",
    "        P_bias_bin = ca.intp_bin_d2n_bias(cosmo, cluster_z, cluster_m, [lnMl], [lnMu], None, [zl], [zu], None)/ca.intp_bin_d2n(cosmo, cluster_z, cluster_m, [lnMl], [lnMu], None, [zl], [zu], None)\n",
    "        nc_bin_mass.append(P_bias_bin)\n",
    "    numcosmo_bias_binned.append(nc_bin_mass)\n",
    "\n",
    "t1 = time.time()\n",
    "print('time (seconds) = ' + str(t1-t0))"
   ]
  },
  {
   "cell_type": "code",
   "execution_count": null,
   "metadata": {},
   "outputs": [],
   "source": [
    "#Using CCL\n",
    "clc.compute_multiplicity_grid_MZ(z_grid = z_grid, logm_grid = logm_grid)\n",
    "clc.compute_halo_bias_grid_MZ(z_grid = z_grid, logm_grid = logm_grid, halobias = halobias_model)\n",
    "Abundance_exact = clc.Cluster_Abundance_MZ(zbin_edges = z_edges, proxybin_edges = mass_edges, method = 'exact')\n",
    "t0 = time.time()\n",
    "ccl_bias_binned = clc.halo_bias_MZ(zbin_edges = z_edges, proxybin_edges = mass_edges, N_th = Abundance_exact, method ='exact')\n",
    "\n",
    "t1 = time.time()\n",
    "print('time (seconds) = ' + str(t1-t0))"
   ]
  },
  {
   "cell_type": "code",
   "execution_count": null,
   "metadata": {},
   "outputs": [],
   "source": [
    "diff = []\n",
    "for i in range(len(ccl_bias_binned)):\n",
    "        diff.append(100*abs((numcosmo_bias_binned[i]-ccl_bias_binned[i])/numcosmo_bias_binned[i]))\n",
    "\n",
    "plt.figure(figsize = (14,9))\n",
    "plt.yscale('log')\n",
    "z_ = [np.mean([z_edges[i],z_edges[i+1]]) for i in np.arange(len(z_edges)-1)]\n",
    "mass = [np.mean([10**mass_edges[i],10**mass_edges[i+1]]) for i in np.arange(len(mass_edges)-1)]\n",
    "plt.tick_params(axis='both', which=\"both\", labelsize= 15)\n",
    "legend = []\n",
    "for i in range(len(z_)):\n",
    "        plt.scatter(mass, diff[:][i])\n",
    "        legend.append(str(round(z_edges[i],3))+'< z <'+str(round(z_edges[i+1],3)))\n",
    "plt.legend(legend,loc =4, fontsize = 10)\n",
    "plt.grid(True, which=\"both\" )\n",
    "plt.ylabel('|bias| CCL exact method to Numcosmo halo bias $(\\%)$', fontsize = 30)\n",
    "plt.xlabel(r'$log_{10}(M)$', fontsize = 30)\n",
    "plt.ylim(4e-2,7e-2)\n",
    "plt.show()"
   ]
  },
  {
   "cell_type": "code",
   "execution_count": null,
   "metadata": {},
   "outputs": [],
   "source": [
    "class Point:\n",
    "    def __init__(self):\n",
    "        self._x = 0\n",
    "        self._y = 0\n",
    "\n",
    "    def get_x(self):\n",
    "        return self._x\n",
    "\n",
    "    def set_x(self, value):\n",
    "        self._x = value\n",
    "\n",
    "    def get_y(self):\n",
    "        return self._y\n",
    "\n",
    "    def set_y(self, value):\n",
    "        self._y = value\n",
    "\n",
    "a = Point()\n",
    "a.get_x()"
   ]
  }
 ],
 "metadata": {
  "kernelspec": {
   "display_name": "Python 3.8.10 64-bit",
   "language": "python",
   "name": "python3"
  },
  "language_info": {
   "codemirror_mode": {
    "name": "ipython",
    "version": 3
   },
   "file_extension": ".py",
   "mimetype": "text/x-python",
   "name": "python",
   "nbconvert_exporter": "python",
   "pygments_lexer": "ipython3",
   "version": "3.11.9"
  },
  "vscode": {
   "interpreter": {
    "hash": "916dbcbb3f70747c44a77c7bcd40155683ae19c65e1c03b4aa3499c5328201f1"
   }
  }
 },
 "nbformat": 4,
 "nbformat_minor": 2
}
