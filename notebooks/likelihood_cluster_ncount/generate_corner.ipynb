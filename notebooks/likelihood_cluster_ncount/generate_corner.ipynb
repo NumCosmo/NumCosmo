{
 "cells": [
  {
   "cell_type": "code",
   "execution_count": null,
   "metadata": {},
   "outputs": [],
   "source": [
    "#!/usr/bin/env python\n",
    "\n",
    "try:\n",
    "    import gi\n",
    "\n",
    "    gi.require_version(\"NumCosmo\", \"1.0\")\n",
    "    gi.require_version(\"NumCosmoMath\", \"1.0\")\n",
    "except:\n",
    "    pass\n",
    "\n",
    "import math\n",
    "import matplotlib.pyplot as plt\n",
    "from gi.repository import GObject\n",
    "from gi.repository import NumCosmo as Nc\n",
    "from gi.repository import NumCosmoMath as Ncm\n",
    "import numpy as np\n",
    "import sys\n",
    "\n",
    "sys.path.insert(0, \"../../scripts\")\n",
    "\n",
    "from scipy.stats import chi2\n",
    "import corner\n",
    "\n",
    "import pyccl as ccl\n",
    "from nc_ccl import create_nc_obj, ccl_cosmo_set_high_prec\n",
    "\n",
    "Ncm.cfg_init()\n",
    "Ncm.cfg_set_log_handler(lambda msg: sys.stdout.write(msg) and sys.stdout.flush())\n",
    "\n",
    "from IPython.display import display, HTML\n",
    "\n",
    "display(HTML(\"<style>.container { width:80% !important; }</style>\"))"
   ]
  },
  {
   "cell_type": "code",
   "execution_count": null,
   "metadata": {},
   "outputs": [],
   "source": [
    "s1d1 = chi2.cdf(1.0, df=1)\n",
    "s1d2 = chi2.cdf(4.0, df=1)\n",
    "s2d1 = chi2.cdf(1.0, df=1)\n",
    "s2d2 = chi2.cdf(4.0, df=1)\n",
    "s2d3 = chi2.cdf(9.0, df=1)\n",
    "qts = [0.5 - s1d2 / 2.0, 0.5 - s1d1 / 2.0, 0.5, 0.5 + s1d1 / 2.0, 0.5 + s1d2 / 2.0]"
   ]
  },
  {
   "cell_type": "code",
   "execution_count": null,
   "metadata": {},
   "outputs": [],
   "source": [
    "from chainconsumer import ChainConsumer\n",
    "\n",
    "\n",
    "def add_mcat(c, mcat, name):\n",
    "    nwalkers = mcat.nchains()\n",
    "    m2lnL = mcat.get_m2lnp_var()\n",
    "\n",
    "    # Use nwalkers * 10 as burning length\n",
    "    burn = nwalkers * burnin\n",
    "    rows = np.array([mcat.peek_row(i).dup_array() for i in range(burn, mcat.len())])\n",
    "    params = [\"$\" + mcat.col_symb(i) + \"$\" for i in range(mcat.ncols())]\n",
    "\n",
    "    posterior = -0.5 * rows[:, m2lnL]\n",
    "\n",
    "    rows = np.delete(rows, m2lnL, 1)\n",
    "    params = np.delete(params, m2lnL, 0)\n",
    "\n",
    "    indices = [0, 1, 2]\n",
    "\n",
    "    rows = rows[:, indices]\n",
    "    params = params[indices]\n",
    "\n",
    "    # c.add_chain(rows, posterior = posterior, parameters=list(params), name=name, plot_point = True)\n",
    "    c.add_chain(rows)"
   ]
  },
  {
   "cell_type": "code",
   "execution_count": null,
   "metadata": {},
   "outputs": [],
   "source": [
    "nwalkers = 300\n",
    "burnin = 80\n",
    "\n",
    "mcat_mcmc_unbinned = Ncm.MSetCatalog.new_from_file_ro(\n",
    "    \"ncount_ascaso_mcmc_unbinned.fits\", nwalkers * burnin\n",
    ")\n",
    "mcat_mcmc_binned = Ncm.MSetCatalog.new_from_file_ro(\n",
    "    \"ncount_ascaso_mcmc_binned.fits\", nwalkers * burnin\n",
    ")"
   ]
  },
  {
   "cell_type": "code",
   "execution_count": null,
   "metadata": {},
   "outputs": [],
   "source": [
    "consumer = ChainConsumer()\n",
    "\n",
    "add_mcat(consumer, mcat_mcmc_unbinned, \"unbinned\")\n",
    "add_mcat(consumer, mcat_mcmc_binned, \"binned\")\n",
    "\n",
    "consumer.configure(\n",
    "    kde=True,\n",
    "    label_font_size=11,\n",
    "    cloud=True,\n",
    "    sigma2d=True,\n",
    "    sigmas=[1, 2, 3],\n",
    "    spacing=0.0,\n",
    "    tick_font_size=11,\n",
    "    usetex=False,\n",
    "    shade=True,\n",
    ")\n",
    "\n",
    "fig = consumer.plotter.plot(truth=[0.258, -1, 3.19])\n",
    "\n",
    "fig.set_size_inches(12, 12)"
   ]
  },
  {
   "cell_type": "code",
   "execution_count": null,
   "metadata": {},
   "outputs": [],
   "source": [
    "nwalkers = 300\n",
    "burnin = 0\n",
    "\n",
    "mcat_mc_unbinned = Ncm.MSetCatalog.new_from_file_ro(\n",
    "    \"ncount_ascaso_mc_unbinned.fits\", nwalkers * burnin\n",
    ")\n",
    "mcat_mc_binned = Ncm.MSetCatalog.new_from_file_ro(\n",
    "    \"ncount_ascaso_mc_binned.fits\", nwalkers * burnin\n",
    ")"
   ]
  },
  {
   "cell_type": "code",
   "execution_count": null,
   "metadata": {},
   "outputs": [],
   "source": [
    "consumer = ChainConsumer()\n",
    "\n",
    "add_mcat(consumer, mcat_mc_unbinned, \"unbinned\")\n",
    "add_mcat(consumer, mcat_mc_binned, \"binned\")\n",
    "\n",
    "consumer.configure(\n",
    "    kde=True,\n",
    "    label_font_size=11,\n",
    "    cloud=True,\n",
    "    sigma2d=True,\n",
    "    sigmas=[1, 2, 3],\n",
    "    spacing=0.0,\n",
    "    tick_font_size=11,\n",
    "    usetex=False,\n",
    ")\n",
    "\n",
    "fig = consumer.plotter.plot(truth=[0.258, -1, 3.19])\n",
    "\n",
    "fig.set_size_inches(12, 12)"
   ]
  },
  {
   "cell_type": "code",
   "execution_count": null,
   "metadata": {},
   "outputs": [],
   "source": [
    "consumer = ChainConsumer()\n",
    "\n",
    "add_mcat(consumer, mcat_mc_unbinned, \"MC unbinned\")\n",
    "add_mcat(consumer, mcat_mc_binned, \"MC binned\")\n",
    "add_mcat(consumer, mcat_mcmc_unbinned, \"MCMC unbinned\")\n",
    "add_mcat(consumer, mcat_mcmc_binned, \"MCMC binned\")\n",
    "\n",
    "consumer.configure(\n",
    "    kde=True,\n",
    "    label_font_size=11,\n",
    "    cloud=True,\n",
    "    sigma2d=True,\n",
    "    sigmas=[1, 2, 3],\n",
    "    spacing=0.0,\n",
    "    tick_font_size=11,\n",
    "    usetex=False,\n",
    ")\n",
    "\n",
    "fig = consumer.plotter.plot()\n",
    "\n",
    "fig.set_size_inches(12, 12)"
   ]
  },
  {
   "cell_type": "code",
   "execution_count": null,
   "metadata": {},
   "outputs": [],
   "source": [
    "def measure_over_smooth(mcat):\n",
    "    mcat_len = mcat.len()\n",
    "    nwalkers = mcat.nchains()\n",
    "    last_e = [mcat.peek_row(mcat_len - nwalkers + i) for i in range(nwalkers)]\n",
    "    k = Ncm.StatsDistKernelST.new(3, 1.0)\n",
    "    sd = Ncm.StatsDistVKDE.new(k, Ncm.StatsDistCV.SPLIT)\n",
    "    sd.reset()\n",
    "    m2lnL = []\n",
    "    for row in last_e:\n",
    "        m2lnL.append(row.get(0))\n",
    "        sd.add_obs(row.get_subvector(1, 3))\n",
    "\n",
    "    m2lnL_v = Ncm.Vector.new_array(m2lnL)\n",
    "    sd.prepare_interp(m2lnL_v)\n",
    "    return sd.get_over_smooth()"
   ]
  },
  {
   "cell_type": "code",
   "execution_count": null,
   "metadata": {},
   "outputs": [],
   "source": [
    "print(measure_over_smooth(mcat_mcmc_unbinned))\n",
    "print(measure_over_smooth(mcat_mcmc_binned))"
   ]
  }
 ],
 "metadata": {
  "interpreter": {
   "hash": "916dbcbb3f70747c44a77c7bcd40155683ae19c65e1c03b4aa3499c5328201f1"
  },
  "kernelspec": {
   "display_name": "NERSC Python",
   "language": "python",
   "name": "python3"
  },
  "language_info": {
   "codemirror_mode": {
    "name": "ipython",
    "version": 3
   },
   "file_extension": ".py",
   "mimetype": "text/x-python",
   "name": "python",
   "nbconvert_exporter": "python",
   "pygments_lexer": "ipython3"
  }
 },
 "nbformat": 4,
 "nbformat_minor": 4
}
