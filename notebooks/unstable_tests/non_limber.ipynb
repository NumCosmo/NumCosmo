{
 "cells": [
  {
   "cell_type": "markdown",
   "metadata": {},
   "source": [
    "---\n",
    "**License**\n",
    "\n",
    " NonLimber\n",
    "\n",
    " Mon Jan 25 20:56:00 2020\\\n",
    " Copyright  2021\\\n",
    " Sandro Dias Pinto Vitenti <vitenti@uel.br>\n",
    " Mariana Penna-Lima <pennalima@unb.br>\n",
    "\n",
    "---\n",
    "---\n",
    "\n",
    " TestInterp\\\n",
    " Copyright (C) 2021 Sandro Dias Pinto Vitenti <vitenti@uel.br>\n",
    " Copyright (C) 2021 Mariana Penna-Lima <pennalima@unb.br>\n",
    "\n",
    "\n",
    " numcosmo is free software: you can redistribute it and/or modify it\n",
    " under the terms of the GNU General Public License as published by the\n",
    " Free Software Foundation, either version 3 of the License, or\n",
    " (at your option) any later version.\n",
    "\n",
    " numcosmo is distributed in the hope that it will be useful, but\n",
    " WITHOUT ANY WARRANTY; without even the implied warranty of\n",
    " MERCHANTABILITY or FITNESS FOR A PARTICULAR PURPOSE.\n",
    " See the GNU General Public License for more details.\n",
    "\n",
    " You should have received a copy of the GNU General Public License along\n",
    " with this program.  If not, see <http://www.gnu.org/licenses/>.\n",
    " \n",
    "---"
   ]
  },
  {
   "cell_type": "code",
   "execution_count": null,
   "metadata": {},
   "outputs": [],
   "source": [
    "try:\n",
    "    import gi\n",
    "\n",
    "    gi.require_version(\"NumCosmo\", \"1.0\")\n",
    "    gi.require_version(\"NumCosmoMath\", \"1.0\")\n",
    "except:\n",
    "    pass\n",
    "\n",
    "import os\n",
    "import sys\n",
    "import math\n",
    "import matplotlib as mpl\n",
    "import matplotlib.pyplot as plt\n",
    "import matplotlib.colors\n",
    "from mpl_toolkits.mplot3d import Axes3D\n",
    "import numpy as np\n",
    "import scipy.stats\n",
    "from scipy.interpolate import interp1d, interp2d\n",
    "import n5k\n",
    "\n",
    "from gi.repository import NumCosmo as Nc\n",
    "from gi.repository import NumCosmoMath as Ncm\n",
    "\n",
    "%matplotlib inline"
   ]
  },
  {
   "cell_type": "code",
   "execution_count": null,
   "metadata": {},
   "outputs": [],
   "source": [
    "__name__ = \"NcContext\"\n",
    "\n",
    "Ncm.cfg_init()\n",
    "Ncm.cfg_set_log_handler(lambda msg: sys.stdout.write(msg) and sys.stdout.flush())"
   ]
  },
  {
   "cell_type": "code",
   "execution_count": null,
   "metadata": {},
   "outputs": [],
   "source": [
    "class N5KCalculatorNc(n5k.N5KCalculatorBase):\n",
    "    name = \"NumCosmo\"\n",
    "\n",
    "    def setup(self):\n",
    "        tpar = self.get_tracer_parameters()\n",
    "        ker = self.get_tracer_kernels()\n",
    "        pk = self.get_pk()\n",
    "        bg = self.get_background()\n",
    "\n",
    "        # for ki in ker.keys():\n",
    "        #    print (ki, ker[ki].shape)\n",
    "\n",
    "        # for pki in pk.keys():\n",
    "        #    print (pki, pk[pki].shape)\n",
    "\n",
    "        # for bgi in bg.keys():\n",
    "        #    print (bgi, bg[bgi].shape)\n",
    "\n",
    "    def run(self):\n",
    "        pk = self.get_pk()\n",
    "        kernels = self.get_tracer_kernels()\n",
    "        background = self.get_background()\n",
    "        ells = self.get_ells()\n",
    "\n",
    "        k = pk[\"k\"]\n",
    "        pk_z = pk[\"z\"]\n",
    "        pk_nl = pk[\"pk_nl\"]\n",
    "\n",
    "        z2chi = interp1d(background[\"z\"], background[\"chi\"])\n",
    "        chi2z = interp1d(\n",
    "            background[\"chi\"], background[\"z\"], bounds_error=False, fill_value=1.0e30\n",
    "        )\n",
    "        pk_interp = interp2d(\n",
    "            pk[\"k\"],\n",
    "            z2chi(pk[\"z\"]),\n",
    "            pk[\"pk_nl\"],\n",
    "            kind=\"cubic\",\n",
    "            bounds_error=False,\n",
    "            fill_value=0.0,\n",
    "        )\n",
    "        self.kernels_interp_cl = [\n",
    "            interp1d(\n",
    "                kernels[\"chi_cl\"],\n",
    "                kernels[\"kernels_cl\"][i],\n",
    "                fill_value=0.0,\n",
    "                bounds_error=False,\n",
    "            )\n",
    "            for i in range(len(kernels[\"kernels_cl\"]))\n",
    "        ]\n",
    "        self.kernels_interp_sh = [\n",
    "            interp1d(\n",
    "                kernels[\"chi_sh\"],\n",
    "                kernels[\"kernels_sh\"][i],\n",
    "                fill_value=0.0,\n",
    "                bounds_error=False,\n",
    "            )\n",
    "            for i in range(len(kernels[\"kernels_sh\"]))\n",
    "        ]\n",
    "\n",
    "        lnk_min = math.log(k[0])\n",
    "        lnk_max = math.log(k[-1])\n",
    "        lnk0 = 0.5 * (lnk_max + lnk_min)\n",
    "        Lk = lnk_max - lnk_min\n",
    "        lnchi_min = math.log(kernels[\"chi_cl\"][0])\n",
    "        lnchi_max = math.log(kernels[\"chi_cl\"][-1])\n",
    "        lnchi0 = 0.5 * (lnchi_max + lnchi_min)\n",
    "        Lchi = lnchi_max - lnchi_min\n",
    "        lnPchi_max = math.log(z2chi(pk_z[-1]))\n",
    "        L = max(Lk, Lchi)\n",
    "\n",
    "        # print (\"Pk:  lnk_min:   % 22.15g lnk_max:   % 22.15g, Lk   = % 22.15g\" % (lnk_min, lnk_max, lnk_max - lnk_min))\n",
    "        # print (\"Pk:  lnchi_max: % 22.15g\" % (lnPchi_max))\n",
    "        # print (\"Kcl: lnchi_min: % 22.15g lnchi_max: % 22.15g, Lchi = % 22.15g\" % (lnchi_min, lnchi_max, lnchi_max - lnchi_min))\n",
    "\n",
    "        NT = 8\n",
    "\n",
    "        self.lnk_a = lnk0 + np.arange(-NT / 2, NT / 2) * L / NT\n",
    "        self.lnchi_a = lnchi0 + np.arange(-NT / 2, NT / 2) * L / NT\n",
    "        self.pk_a = pk_interp(np.exp(self.lnk_a), chi2z(np.exp(self.lnchi_a))).T\n",
    "        self.NT = NT\n",
    "        self.lnk0 = lnk0\n",
    "        self.lnchi0 = lnchi0\n",
    "        self.L = L\n",
    "        # print (self.kernels_interp_cl[0] (np.exp (self.lnchi_a)))\n",
    "        # print (self.pk_a[:,None] * self.kernels_interp_cl[0] (np.exp (self.lnchi_a)))\n",
    "\n",
    "        # print (lnk_a)\n",
    "        # print (lnchi_a)\n",
    "        # print (FM)\n",
    "\n",
    "        tp = np.exp(\n",
    "            -2.0\n",
    "            * np.pi\n",
    "            * 1j\n",
    "            * (self.lnk0 + self.lnchi0)\n",
    "            / cal_nl.L\n",
    "            * np.arange(cal_nl.NT / 2)\n",
    "        )\n",
    "        tn = np.exp(\n",
    "            -2.0\n",
    "            * np.pi\n",
    "            * 1j\n",
    "            * (self.lnk0 + self.lnchi0)\n",
    "            / cal_nl.L\n",
    "            * np.arange(-cal_nl.NT / 2, 0)\n",
    "        )\n",
    "\n",
    "        self.center = np.concatenate((tp, tn))\n",
    "\n",
    "        nl = len(self.get_ells())\n",
    "        ngg, ngs, nss = self.get_num_cls()\n",
    "        self.cls_gg = np.zeros((ngg, nl))\n",
    "        self.cls_gs = np.zeros((ngs, nl))\n",
    "        self.cls_ss = np.zeros((nss, nl))"
   ]
  },
  {
   "cell_type": "code",
   "execution_count": null,
   "metadata": {},
   "outputs": [],
   "source": [
    "os.chdir(\"/home/sandro/Projects/N5K\")\n",
    "\n",
    "cal_nl = N5KCalculatorNc(\"tests/config_nl.yml\")\n",
    "cal_nl.setup()\n",
    "cal_nl.run()\n",
    "cal_nl.write_output()\n",
    "cal_nl.teardown()\n",
    "\n",
    "x, y = np.meshgrid(cal_nl.lnk_a, cal_nl.lnchi_a)\n",
    "\n",
    "fig = plt.figure(figsize=(18, 18))\n",
    "ax = fig.add_subplot(111)\n",
    "\n",
    "W = cal_nl.kernels_interp_cl[0](np.exp(cal_nl.lnchi_a))\n",
    "P = np.sqrt(cal_nl.pk_a)\n",
    "PW = P * W\n",
    "\n",
    "p = ax.imshow(\n",
    "    PW,\n",
    "    interpolation=\"quadric\",\n",
    "    origin=\"lower\",\n",
    "    extent=(cal_nl.lnk_a[0], cal_nl.lnk_a[-1], cal_nl.lnchi_a[0], cal_nl.lnchi_a[-1]),\n",
    "    norm=matplotlib.colors.SymLogNorm(10 ** (-1), base=10.0),\n",
    ")\n",
    "plt.colorbar(p)\n",
    "pass"
   ]
  },
  {
   "cell_type": "code",
   "execution_count": null,
   "metadata": {},
   "outputs": [],
   "source": [
    "TPW = np.fft.fft2(PW)\n",
    "TPWs = np.fft.fftshift(TPW)\n",
    "\n",
    "fig = plt.figure(figsize=(12, 12))\n",
    "ax = fig.add_subplot(111)\n",
    "\n",
    "p = ax.imshow(np.real(TPWs), norm=matplotlib.colors.SymLogNorm(10 ** (-1), base=10.0))\n",
    "plt.colorbar(p)\n",
    "\n",
    "TPW = TPWs\n",
    "\n",
    "pass"
   ]
  },
  {
   "cell_type": "code",
   "execution_count": null,
   "metadata": {},
   "outputs": [],
   "source": [
    "index_a = np.concatenate((np.arange(0, cal_nl.NT / 2), np.arange(-cal_nl.NT / 2, 0)))\n",
    "index_a = np.concatenate((np.arange(-cal_nl.NT / 2, 0), np.arange(0, cal_nl.NT / 2)))\n",
    "\n",
    "for m in np.arange(cal_nl.NT):\n",
    "    for n in np.arange(cal_nl.NT):\n",
    "        v1 = np.exp(+2.0 * np.pi * m * 1j / cal_nl.NT * index_a)\n",
    "        v2 = np.exp(+2.0 * np.pi * n * 1j / cal_nl.NT * index_a)\n",
    "\n",
    "        test = (TPW.dot(v2)).dot(v1) / cal_nl.NT**2\n",
    "\n",
    "        if PW[m, n] == 0.0:\n",
    "            continue\n",
    "\n",
    "        reltol = np.real(test / PW[m, n] - 1.0)\n",
    "\n",
    "        print(\n",
    "            \"%3d %3d % 22.15g % 22.15g % 8.2e % 8.2e\"\n",
    "            % (m, n, np.real(test), PW[m, n], np.imag(test), reltol)\n",
    "        )"
   ]
  },
  {
   "cell_type": "code",
   "execution_count": null,
   "metadata": {},
   "outputs": [],
   "source": [
    "fft_jl = Ncm.FftlogSBesselJ.new(15, cal_nl.lnchi0, cal_nl.lnk0, cal_nl.L, cal_nl.NT)\n",
    "fft_jl.set_padding(0.0)"
   ]
  },
  {
   "cell_type": "code",
   "execution_count": null,
   "metadata": {},
   "outputs": [],
   "source": [
    "fft_jl.get_full_size()"
   ]
  },
  {
   "cell_type": "code",
   "execution_count": null,
   "metadata": {},
   "outputs": [],
   "source": [
    "TPWc = TPW * cal_nl.center\n",
    "\n",
    "fft_jl.set_q(0.5)\n",
    "\n",
    "ep = np.array(fft_jl.get_Ym())\n",
    "ep = ep[0::2] + ep[1::2] * 1j\n",
    "\n",
    "\n",
    "print(fft_jl.get_q())\n",
    "\n",
    "print(ep.dot(np.conj(ep)))\n",
    "len(ep)\n",
    "TPW.shape"
   ]
  },
  {
   "cell_type": "code",
   "execution_count": null,
   "metadata": {},
   "outputs": [],
   "source": [
    "MF = np.zeros_like(TPWc)\n",
    "for n in range(cal_nl.NT):\n",
    "    for r in range(cal_nl.NT):\n",
    "        li = min(n + 1, cal_nl.NT - r)\n",
    "        MF[n, r] = np.sum([TPWc[n - l, n] * TPWc[r + l, r] for l in range(li)])"
   ]
  },
  {
   "cell_type": "code",
   "execution_count": null,
   "metadata": {},
   "outputs": [],
   "source": [
    "MF2 = np.zeros_like(TPWc)\n",
    "for n in range(cal_nl.NT):\n",
    "    for r in range(cal_nl.NT):\n",
    "        MF2[n, r] = 0.0\n",
    "        for m in range(cal_nl.NT):\n",
    "            for q in range(cal_nl.NT):\n",
    "                for s in range(cal_nl.NT):\n",
    "                    if (n == m + s) and (r == q - s):\n",
    "                        MF2[n, r] = MF2[n, r] + TPWc[m, n] * TPWc[q, r]"
   ]
  },
  {
   "cell_type": "code",
   "execution_count": null,
   "metadata": {},
   "outputs": [],
   "source": [
    "for n in range(cal_nl.NT):\n",
    "    for r in range(cal_nl.NT):\n",
    "        if MF[n, r] != MF2[n, r]:\n",
    "            print(\n",
    "                \"%4d %4d % 22.15g % 22.15gi\"\n",
    "                % (n, r, np.real(MF[n, r] - MF2[n, r]), np.imag(MF[n, r] - MF2[n, r]))\n",
    "            )"
   ]
  },
  {
   "cell_type": "code",
   "execution_count": null,
   "metadata": {},
   "outputs": [],
   "source": [
    "MF.dot(ep).dot(ep)"
   ]
  },
  {
   "cell_type": "code",
   "execution_count": null,
   "metadata": {},
   "outputs": [],
   "source": [
    "cal_nl.L"
   ]
  },
  {
   "cell_type": "code",
   "execution_count": null,
   "metadata": {},
   "outputs": [],
   "source": [
    "ep[17]"
   ]
  },
  {
   "cell_type": "code",
   "execution_count": null,
   "metadata": {},
   "outputs": [],
   "source": [
    "for i in range(-10, 0):\n",
    "    print(i)"
   ]
  },
  {
   "cell_type": "code",
   "execution_count": null,
   "metadata": {},
   "outputs": [],
   "source": [
    "np.concatenate(([1, 3], [2]))"
   ]
  },
  {
   "cell_type": "code",
   "execution_count": null,
   "metadata": {},
   "outputs": [],
   "source": [
    "np.concatenate((np.arange(-cal_nl.NT / 2, 0), np.arange(cal_nl.NT / 2)))"
   ]
  }
 ],
 "metadata": {
  "kernelspec": {
   "display_name": "Python 3 (ipykernel)",
   "language": "python",
   "name": "python3"
  },
  "language_info": {
   "codemirror_mode": {
    "name": "ipython",
    "version": 3
   },
   "file_extension": ".py",
   "mimetype": "text/x-python",
   "name": "python",
   "nbconvert_exporter": "python",
   "pygments_lexer": "ipython3"
  }
 },
 "nbformat": 4,
 "nbformat_minor": 2
}
