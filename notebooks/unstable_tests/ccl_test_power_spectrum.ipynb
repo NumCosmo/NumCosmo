{
 "cells": [
  {
   "cell_type": "markdown",
   "metadata": {},
   "source": [
    "---\n",
    "**License**\n",
    "\n",
    " NumCosmoCCLTest\n",
    "\n",
    " Mon Jun 01 09:20:00 2020\\\n",
    " Copyright  2020\\\n",
    " Sandro Dias Pinto Vitenti <vitenti@uel.br>\n",
    "\n",
    "---\n",
    "---\n",
    "\n",
    " NumCosmoCCLTest\\\n",
    " Copyright (C) 2020 Sandro Dias Pinto Vitenti <vitenti@uel.br>\n",
    "\n",
    " numcosmo is free software: you can redistribute it and/or modify it\n",
    " under the terms of the GNU General Public License as published by the\n",
    " Free Software Foundation, either version 3 of the License, or\n",
    " (at your option) any later version.\n",
    "\n",
    " numcosmo is distributed in the hope that it will be useful, but\n",
    " WITHOUT ANY WARRANTY; without even the implied warranty of\n",
    " MERCHANTABILITY or FITNESS FOR A PARTICULAR PURPOSE.\n",
    " See the GNU General Public License for more details.\n",
    "\n",
    " You should have received a copy of the GNU General Public License along\n",
    " with this program.  If not, see <http://www.gnu.org/licenses/>.\n",
    " \n",
    "---"
   ]
  },
  {
   "cell_type": "markdown",
   "metadata": {},
   "source": [
    "# The power spectrum\n",
    "\n",
    "This notebook calculates moving distance using the Numcosmo and CCL libraries, and then it compares the results between themselves, plotting the compare and the relative distance of their results in graphics.\n",
    "\n",
    "\n",
    "## Loading NumCosmo and CCL\n",
    "\n",
    "The first step is to load both NumCosmo and CCL libraries. We also load some Python packages."
   ]
  },
  {
   "cell_type": "code",
   "execution_count": null,
   "metadata": {},
   "outputs": [],
   "source": [
    "try:\n",
    "  import gi\n",
    "  gi.require_version('NumCosmo', '1.0')\n",
    "  gi.require_version('NumCosmoMath', '1.0')\n",
    "except:\n",
    "  pass\n",
    "\n",
    "from gi.repository import GObject\n",
    "from gi.repository import NumCosmo as Nc\n",
    "from gi.repository import NumCosmoMath as Ncm\n",
    "\n",
    "import pyccl as ccl\n",
    "\n",
    "import sys\n",
    "import numpy as np\n",
    "import math\n",
    "import matplotlib.pyplot as plt\n"
   ]
  },
  {
   "cell_type": "markdown",
   "metadata": {},
   "source": [
    "### Initializing the NumCosmo library:"
   ]
  },
  {
   "cell_type": "code",
   "execution_count": null,
   "metadata": {},
   "outputs": [],
   "source": [
    "Ncm.cfg_init ()\n",
    "Ncm.cfg_set_log_handler (lambda msg: sys.stdout.write (msg) and sys.stdout.flush ())"
   ]
  },
  {
   "cell_type": "markdown",
   "metadata": {},
   "source": [
    "### The function of building comparison graphics:\n",
    "Assembles two comparison graphs, where the graph above presents the result curves of both libraries, while the graph below presents the difference relative distance curve between the results found using the same values in the abscissas axis.                                                                                               "
   ]
  },
  {
   "cell_type": "code",
   "execution_count": null,
   "metadata": {},
   "outputs": [],
   "source": [
    "import pylab as plt\n",
    "def compare(x, y_ccl, y_nc, x_name='x', y_name='func', subplots_pars={'figsize':(12, 6)}, xscale = 'linear', yscale = 'log'):\n",
    "    ccl_name, nc_name = '%s_{clmm}'%y_name, '%s_{nc}'%y_name\n",
    "    \n",
    "    x     = np.array (x)\n",
    "    y_ccl = np.array (y_ccl)\n",
    "    y_nc  = np.array (y_nc)\n",
    "    diff  = np.zeros_like (y_ccl)\n",
    "    \n",
    "    non_zind = np.where (y_ccl != 0.0)[0]\n",
    "    zind     = np.where (y_ccl == 0.0)[0]\n",
    "    diff[non_zind] = y_nc[non_zind]/y_ccl[non_zind] - 1.0\n",
    "    diff[zind]     = y_nc[zind] - y_ccl[zind]\n",
    "    print('[%10s]: rel diff min: %e\\trel diff max: %e'%(y_name, min(abs(diff)), max(abs(diff))))\n",
    "        \n",
    "    fig, axs = plt.subplots(2, sharex=True, **subplots_pars)\n",
    "    fig.subplots_adjust(hspace=0)\n",
    "    \n",
    "    axs[0].plot(x, y_ccl, label='ccl', lw=3)\n",
    "    axs[0].plot(x, y_nc, label='nc')\n",
    "    \n",
    "    axs[1].plot(x, np.abs (diff), c='r')\n",
    "    axs[1].set_xscale (xscale)\n",
    "    axs[1].set_yscale (yscale)\n",
    "\n",
    "    axs[0].legend()\n",
    "    axs[0].set_ylabel('$%s$'%y_name)\n",
    "    axs[1].set_xlabel('$%s$'%x_name)\n",
    "    axs[1].set_ylabel('$%s/%s-1$'%(nc_name, ccl_name))\n",
    "    \n",
    "    return fig, axs"
   ]
  },
  {
   "cell_type": "markdown",
   "metadata": {},
   "source": [
    "### The fixed cosmological parameters using the cosmology object:\n",
    "\n",
    "* The cold dark matter density fraction $\\Omega_c$ ;\n",
    "* The baryonic matter density fraction $\\Omega_b$ ;\n",
    "* The hubble constant divided by 100 km/s/Mpc and unitless $h$ ;\n",
    "* The effective number of massless neutrinos present $N_{\\nu}$ ;\n",
    "* The primordial scalar perturbation spectral index $n_s$ ;\n",
    "* The power spectrum normalization $A_s$ ;\n",
    "* The first order term of dark energy equation of state $w_0$ ;\n",
    "\n",
    "* The second order term of dark energy equation of state $w_a$;\n"
   ]
  },
  {
   "cell_type": "code",
   "execution_count": null,
   "metadata": {},
   "outputs": [],
   "source": [
    "Omega_c = 0.25   # The cold dark matter density fraction.\n",
    "\n",
    "Omega_b = 0.05   # The baryonic matter density fraction.\n",
    "        \n",
    "h       = 0.7    # The hubble constant divided by 100 km/s/Mpc; unitless.\n",
    "\n",
    "A_s     = 2.1e-9 # The power spectrum normalization.\n",
    "\n",
    "n_s     = 0.96   # The primordial scalar perturbation spectral index.\n",
    "\n",
    "Neff    = 0.0    # The effective number of massless neutrinos present.\n",
    "\n",
    "w0 = -1.0        # The first order term of dark energy equation of state.\n",
    "\n",
    "wa = 0.0         # The second order term of dark energy equation of state."
   ]
  },
  {
   "cell_type": "markdown",
   "metadata": {},
   "source": [
    "### Function compare power spectrum\n",
    "The below function compares the power spectrum calculation performed by both libraries and buils comparison graphics, it use the following parameters:\n",
    "\n",
    " * The redshift between $0.0$ to $1.0$ $z$;\n",
    " \n",
    " * The wavenumbe with 10000 wavenumber points between $10^{-3}$ to $10$ per Mpc. $k$;\n",
    " "
   ]
  },
  {
   "cell_type": "code",
   "execution_count": null,
   "metadata": {},
   "outputs": [],
   "source": [
    "def compare_ps (k, z):\n",
    "    \"\"\"\n",
    "    Compare the linear power spectrum.\n",
    "    \"\"\"\n",
    "\n",
    "    cosmo = Nc.HICosmo.new_from_name (Nc.HICosmo, \"NcHICosmoDECpl{'massnu-length':<0>}\")\n",
    "    cosmo.omega_x2omega_k ()\n",
    "    cosmo.param_set_by_name (\"H0\",        h * 100)\n",
    "    cosmo.param_set_by_name (\"Omegak\",    0.0)\n",
    "    cosmo.param_set_by_name (\"w0\",        w0)\n",
    "    cosmo.param_set_by_name (\"w1\",        wa)\n",
    "    cosmo.param_set_by_name (\"Omegab\",    Omega_b)\n",
    "    cosmo.param_set_by_name (\"Omegac\",    Omega_c)\n",
    "    cosmo.param_set_by_name (\"ENnu\",      Neff)\n",
    "    \n",
    "    # Set Omega_K in a consistent way\n",
    "    Omega_k = cosmo.Omega_k0 ()\n",
    "    Omega_v = cosmo.E2Omega_de (0.0)\n",
    "    T_CMB   = cosmo.T_gamma0 ()\n",
    "\n",
    "    ccl_cosmo = ccl.Cosmology(\n",
    "        Omega_c=Omega_c, Omega_b=Omega_b, Neff=Neff,\n",
    "        h=h, n_s=n_s, Omega_k=Omega_k,\n",
    "        w0=w0, wa=wa, Omega_g=0, sigma8 = 0.8,\n",
    "        transfer_function='eisenstein_hu',\n",
    "        T_CMB = T_CMB,\n",
    "        matter_power_spectrum='linear')\n",
    "\n",
    "    hiprim = Nc.HIPrimPowerLaw.new ()\n",
    "    hiprim.param_set_by_name (\"ln10e10ASA\", math.log (1.0e10 * A_s))\n",
    "    hiprim.param_set_by_name (\"n_SA\",       n_s)\n",
    "    \n",
    "    cosmo.add_submodel (hiprim)\n",
    "    \n",
    "    dist = Nc.Distance.new (5.0)\n",
    "    dist.prepare (cosmo)\n",
    "    \n",
    "    tf_eh = Nc.TransferFuncEH.new ()\n",
    "    tf_eh.props.CCL_comp = True\n",
    "    ps_eh = Nc.PowspecMLTransfer.new (tf_eh)\n",
    "    ps_eh.prepare (cosmo)\n",
    "    \n",
    "    fact = (0.8 / ps_eh.sigma_tophat_R (cosmo, 1.0e-7, 0.0, 8.0 / cosmo.h ()))**2\n",
    "    \n",
    "    #fact = ccl.linear_matter_power (ccl_cosmo, 1.0e-1, 1.0) / ps_eh.eval (cosmo, 0.0, 1.0e-1)      <<---    ??????????\n",
    "    \n",
    "    hiprim.param_set_by_name (\"ln10e10ASA\", math.log (1.0e10 * A_s * fact))\n",
    "    \n",
    "    k_min = 1.0e-3\n",
    "    k_max = 1.0e1\n",
    "    \n",
    "    z_min = 0.0\n",
    "    z_max = 1.0\n",
    "\n",
    "    ps_eh.set_kmin (k_min)\n",
    "    ps_eh.set_kmax (k_max)\n",
    "    ps_eh.require_zi (z_min)\n",
    "    ps_eh.require_zf (z_max)\n",
    "\n",
    "    ps_eh.prepare (cosmo)\n",
    "    \n",
    "    a = 1.0 / (1.0 + z)\n",
    "    \n",
    "    pk_ccl = ccl.linear_matter_power (ccl_cosmo, k, a)\n",
    "    pk_nc  = [ps_eh.eval (cosmo, z, k_i) for k_i in k]\n",
    "    compare (k, pk_ccl, pk_nc, x_name = 'k', y_name = 'P_k(%f)' % z, xscale = 'log')    \n"
   ]
  },
  {
   "cell_type": "markdown",
   "metadata": {},
   "source": [
    "#### Gets redshift and wavenumbers points"
   ]
  },
  {
   "cell_type": "code",
   "execution_count": null,
   "metadata": {},
   "outputs": [],
   "source": [
    "k = np.geomspace (1.0e-3, 1.0e1, 10000)\n",
    "\n",
    "z = [0.0, 0.5, 1.0]"
   ]
  },
  {
   "cell_type": "code",
   "execution_count": null,
   "metadata": {},
   "outputs": [],
   "source": [
    "compare_ps (k,z[0])         # z[0] = 0.0"
   ]
  },
  {
   "cell_type": "code",
   "execution_count": null,
   "metadata": {},
   "outputs": [],
   "source": [
    "compare_ps (k,z[1])         # z[1] = 0.5 "
   ]
  },
  {
   "cell_type": "code",
   "execution_count": null,
   "metadata": {},
   "outputs": [],
   "source": [
    "compare_ps (k,z[2])         # z[2] = 1.0 "
   ]
  }
 ],
 "metadata": {
  "kernelspec": {
   "display_name": "Python 3",
   "language": "python",
   "name": "python3"
  },
  "language_info": {
   "codemirror_mode": {
    "name": "ipython",
    "version": 3
   },
   "file_extension": ".py",
   "mimetype": "text/x-python",
   "name": "python",
   "nbconvert_exporter": "python",
   "pygments_lexer": "ipython3"
  }
 },
 "nbformat": 4,
 "nbformat_minor": 2
}
