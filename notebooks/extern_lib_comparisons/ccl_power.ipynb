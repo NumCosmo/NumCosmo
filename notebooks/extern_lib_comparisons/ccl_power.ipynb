{
 "cells": [
  {
   "cell_type": "markdown",
   "id": "c3bb440e",
   "metadata": {},
   "source": [
    "---\n",
    "**License**\n",
    "\n",
    " ccl_power\n",
    "\n",
    " Fri Jul 17 11:15:00 2023\\\n",
    " Copyright  2023\\\n",
    " Mariana Penna-Lima pennalima@unb.br Pedro Henrique Costa Ribeiro pedrohenriquecostaribeiro@gmail.com Vinicius dos Santos Bessa Ribeiro viniciusbessa@on.br Sandro Vitenti vitenti@uel.br\n",
    "\n",
    "---\n",
    "---\n",
    "\n",
    " ccl_power\\\n",
    " Copyright (C) 2023 Mariana Penna-Lima <pennalima@unb.br> Pedro Henrique Costa Ribeiro <pedrohenriquecostaribeiro@gmail.com> Vinicius dos Santos Bessa Ribeiro <viniciusbessa@on.br> Sandro Vitenti <vitenti@uel.br>\n",
    "\n",
    " numcosmo is free software: you can redistribute it and/or modify it\n",
    " under the terms of the GNU General Public License as published by the\n",
    " Free Software Foundation, either version 3 of the License, or\n",
    " (at your option) any later version.\n",
    "\n",
    " numcosmo is distributed in the hope that it will be useful, but\n",
    " WITHOUT ANY WARRANTY; without even the implied warranty of\n",
    " MERCHANTABILITY or FITNESS FOR A PARTICULAR PURPOSE.\n",
    " See the GNU General Public License for more details.\n",
    "\n",
    " You should have received a copy of the GNU General Public License along\n",
    " with this program.  If not, see <http://www.gnu.org/licenses/>.\n",
    "\n",
    "---"
   ]
  },
  {
   "cell_type": "markdown",
   "id": "17d853ba-d369-4d99-bdd5-280697d94032",
   "metadata": {},
   "source": [
    "---\n",
    "\n",
    "# Comparison Notebook: CCL - Power module\n",
    "\n",
    "---"
   ]
  },
  {
   "cell_type": "code",
   "execution_count": null,
   "id": "c73088e8",
   "metadata": {},
   "outputs": [],
   "source": [
    "# NumCosmo\n",
    "from numcosmo_py import Nc, Ncm\n",
    "from numcosmo_py.ccl.nc_ccl import create_nc_obj, CCLParams, dsigmaM_dlnM\n",
    "from numcosmo_py.ccl.comparison import compare_ccl_nc_func\n",
    "\n",
    "# CCL\n",
    "import pyccl as ccl\n",
    "\n",
    "import sys\n",
    "import numpy as np\n",
    "import math\n",
    "import matplotlib.pyplot as plt\n",
    "\n",
    "import scipy \n",
    "\n",
    "%matplotlib inline"
   ]
  },
  {
   "cell_type": "markdown",
   "id": "987b3e38",
   "metadata": {},
   "source": [
    "### Starting NumCosmo\n",
    "\n",
    "First, we have to iniciate the NumCosmo configuration, and redirect it's outputs to this notebook."
   ]
  },
  {
   "cell_type": "code",
   "execution_count": null,
   "id": "9cc505bd",
   "metadata": {},
   "outputs": [],
   "source": [
    "Ncm.cfg_init ()\n",
    "Ncm.cfg_set_log_handler (lambda msg: sys.stdout.write (msg) and sys.stdout.flush ())"
   ]
  },
  {
   "cell_type": "markdown",
   "id": "28572c23",
   "metadata": {},
   "source": [
    "### Defining initial quantities\n",
    "\n",
    "Before creating the comparison functions, we must create all the necessary global variables and atribute their initial values."
   ]
  },
  {
   "cell_type": "code",
   "execution_count": null,
   "id": "d038b1e2",
   "metadata": {},
   "outputs": [],
   "source": [
    "Omega_c = 0.25\n",
    "Omega_b = 0.05\n",
    "Omega_k = 0.0\n",
    "h = 0.7\n",
    "A_s = 2.1e-9\n",
    "n_s = 0.96\n",
    "Neff = 0.0\n",
    "sigma8 = 0.9\n",
    "mu_0 = 0.1\n",
    "sigma_0 = 0.1\n",
    "\n",
    "Omega_v_vals = np.array([0.7, 0.7, 0.7, 0.65, 0.75])\n",
    "w0_vals = np.array([-1.0, -0.9, -0.9, -0.9, -0.9])\n",
    "wa_vals = np.array([0.0, 0.0, 0.1, 0.1, 0.1])\n",
    "\n",
    "mnu = [[0.04, 0.0, 0.0], [0.05, 0.01, 0.0], [0.05, 0.0, 0.0], [0.03, 0.02, 0.0]]\n",
    "Neff_mnu = 3.0"
   ]
  },
  {
   "cell_type": "markdown",
   "id": "eG54ejCXEkni",
   "metadata": {},
   "source": [
    "### Table of variables\n",
    "\n",
    "Simple explanation of the values defined above.\n",
    "\n",
    "\n",
    "| Var. Name |    Quantity     |\n",
    "|   :----:  |     :----:      |\n",
    "|  Omega_c  | Cold Dark Matter Density |\n",
    "|  Omega_b  | Baryonic Matter Density  |\n",
    "|  Omega_v  | Dark Energy Density |\n",
    "|  Omega_k  | Curvature Density |\n",
    "|     h     |    Hubble Constant (dimensionless)   |\n",
    "|    A_s    | Power spectrum normalization |\n",
    "|    n_s    | Adiabatic scalar spectral index |\n",
    "|    Neff   | Effective Nº of massless neutrinos present |\n",
    "|   sigma8  | Variance of matter density perturbations*|\n",
    "|    mu_0   | parameter of the mu-Sigma modified gravity model|\n",
    "|  sigma_0  | parameter of the mu-Sigma modified gravity model|\n",
    "|    w0     | parameter of the DE equation of state|\n",
    "|    wa     | parameter of the DE equation of state|\n",
    "|    mnu    | Total mass in eV of the massive neutrinos |\n",
    "\n",
    "\n",
    "\\* at an 8 Mpc/h scale\n",
    "\n",
    "---\n",
    "\n",
    "### 1) Matter Power Spectrum\n",
    "\n",
    "This function will compare the linear and non linear matter power spectrum."
   ]
  },
  {
   "cell_type": "code",
   "execution_count": null,
   "id": "4X98zC80EJq1",
   "metadata": {},
   "outputs": [],
   "source": [
    "def compare_ps (k, z, Omega_v, w0, wa):\n",
    "    \"\"\"\n",
    "    Compare the power spectrum 'pk' calculated by CCL and by NumCosmo.\n",
    "    This test is only valid when massive neutrinos are set to zero (ccl default parameter: mnu = 0.0).\n",
    "    \"\"\"\n",
    "\n",
    "    # Set Omega_K in a consistent way\n",
    "    Omega_k = 1.0 - Omega_c - Omega_b - Omega_v\n",
    "\n",
    "    ccl_cosmo = ccl.Cosmology(\n",
    "        Omega_c=Omega_c, Omega_b=Omega_b, Neff=Neff,\n",
    "        h=h, sigma8=sigma8, n_s=n_s, Omega_k=Omega_k,\n",
    "        w0=w0, wa=wa, transfer_function='eisenstein_hu')\n",
    "\n",
    "    CCLParams.set_high_prec_params ()\n",
    "    cosmo, dist, ps_lin, ps_nln, hmfunc = create_nc_obj (ccl_cosmo)\n",
    "\n",
    "    for z_i in z:\n",
    "        a_i = 1.0 / (1.0 + z_i)\n",
    "\n",
    "        # linear matter power\n",
    "        pk_ccl = ccl.linear_matter_power (ccl_cosmo, k, a_i)\n",
    "        pk_nc  = np.array ([ps_lin.eval (cosmo, z_i, k_i) for k_i in k])\n",
    "        compare_ccl_nc_func (k, pk_ccl, pk_nc, x_name = 'k', y_name = 'P_k(%.2f)' % z_i, xscale = 'log')\n",
    "\n",
    "        # non-linear matter power\n",
    "        pnl_ccl = ccl.power.nonlin_matter_power(ccl_cosmo, k, a_i)\n",
    "        pnl_nc  = np.array ([ps_nln.eval (cosmo, z_i, k_i) for k_i in k])\n",
    "        compare_ccl_nc_func (k, pnl_ccl, pnl_nc, x_name = 'k', y_name = 'P_nl(%.2f)' % z_i, xscale = 'log')\n",
    "\n",
    "        # kNL\n",
    "        def integ(x):\n",
    "          y = ps_lin.eval (cosmo, z_i, x)\n",
    "          return y\n",
    "        pkint = scipy.integrate.quad(integ,k[0],k[-1])\n",
    "\n",
    "        pknl_ccl = ccl.power.kNL(ccl_cosmo, a_i)\n",
    "        pknl_nc = ((1/(6*math.pi**2))*pkint[0])**(-1/2)\n",
    "\n",
    "        print(f'\\nkNL_ccl: {pknl_ccl}  /  kNL_nc: {pknl_nc}  /  diff: {abs(pknl_ccl-pknl_nc)}\\n')\n",
    "\n",
    "\n",
    "\n",
    "\n",
    "    ccl.gsl_params.reload()\n",
    "    ccl.spline_params.reload()"
   ]
  },
  {
   "cell_type": "code",
   "execution_count": null,
   "id": "5Z00QlMnE-i-",
   "metadata": {},
   "outputs": [],
   "source": [
    "k = np.geomspace (1.0e-6, 1.0e3, 1000)\n",
    "z = [0.0, 0.5, 1.0]\n",
    "\n",
    "for i in range(5):\n",
    "    print(\"-\"*80)\n",
    "    compare_ps (k, z, Omega_v_vals[i], w0_vals[i], wa_vals[i])\n",
    "    print(\"-\"*80 + \"\\n\")\n",
    "\n",
    "    plt.show()\n",
    "    plt.close()           # It's faster to close figures in each loop\n",
    "    print()\n",
    "\n",
    "#compare_ps (k, z, 0.7, -1.0, 0.0)\n"
   ]
  },
  {
   "cell_type": "markdown",
   "id": "wOnetva8iJbI",
   "metadata": {},
   "source": [
    "#### 1.1) Time Comparison\n",
    "\n",
    "We compare the time spent on calculating the power spectrum."
   ]
  },
  {
   "cell_type": "code",
   "execution_count": null,
   "id": "T3Wst3oVFAt9",
   "metadata": {},
   "outputs": [],
   "source": [
    "# z_i = 0.5\n",
    "# a_i = 1.0 / (1.0 + z_i)\n",
    "\n",
    "# print(\"1.1) LINEAR MATTER POWER\\n\")\n",
    "# %timeit pk_ccl = ccl.linear_matter_power (ccl_cosmology, k, a_i)\n",
    "# %timeit pk_nc  = np.array ([ps_lin.eval (cosmo, z_i, k_i) for k_i in k])\n",
    "# print()\n",
    "\n",
    "# print(\"1.2) NON-LINEAR MATTER POWER\\n\")\n",
    "# %timeit pnl_ccl = ccl.power.nonlin_matter_power(ccl_cosmology, k, a_i)\n",
    "# %timeit pnl_nc  = np.array ([ps_nln.eval (cosmo, z_i, k_i) for k_i in k])\n",
    "# print()"
   ]
  },
  {
   "cell_type": "code",
   "execution_count": null,
   "id": "wS0LOx9TODFi",
   "metadata": {},
   "outputs": [],
   "source": [
    "# %timeit pknl_ccl = ccl.power.kNL(ccl_cosmology, a_i)"
   ]
  },
  {
   "cell_type": "code",
   "execution_count": null,
   "id": "Rvgt-YkGOAbs",
   "metadata": {},
   "outputs": [],
   "source": [
    "# %%timeit\n",
    "\n",
    "# def integ(x):\n",
    "#   y = ps_lin.eval (cosmo, z_i, x)\n",
    "#   return y\n",
    "# pkint = scipy.integrate.quad(integ,k[0],k[-1])\n",
    "\n",
    "# pknl_nc = ((1/(6*math.pi**2))*pkint[0])**(-1/2)"
   ]
  },
  {
   "cell_type": "markdown",
   "id": "IoTqcEFsPUZq",
   "metadata": {},
   "source": [
    "### 2) Sigma 8\n",
    "\n",
    "This function compares the \"root mean square variance in a top-hat sphere  of radius 8 Mpc/h\"."
   ]
  },
  {
   "cell_type": "code",
   "execution_count": null,
   "id": "OA6kbnFaTr_z",
   "metadata": {},
   "outputs": [],
   "source": [
    "def compare_sigma8 (Omega_v, w0, wa):\n",
    "    \"\"\"\n",
    "    Compare the RMS variance in top-hat sphere of radius 8 Mpc/h calculated by pyccl and Numcosmo.\n",
    "    \"\"\"\n",
    "\n",
    "    # Set Omega_K in a consistent way\n",
    "    Omega_k = 1.0 - Omega_c - Omega_b - Omega_v\n",
    "\n",
    "    ccl_cosmo = ccl.Cosmology(\n",
    "        Omega_c=Omega_c, Omega_b=Omega_b, Neff=Neff,\n",
    "        h=h, sigma8=sigma8, n_s=n_s, Omega_k=Omega_k,\n",
    "        w0=w0, wa=wa, transfer_function='eisenstein_hu')\n",
    "\n",
    "    CCLParams.set_high_prec_params ()\n",
    "    cosmo, dist, ps_lin, ps_nln, hmfunc = create_nc_obj (ccl_cosmo)\n",
    "    psf = Ncm.PowspecFilter.new(ps_lin, Ncm.PowspecFilterType.TOPHAT)\n",
    "    psf.set_best_lnr0()\n",
    "    psf.prepare (cosmo)\n",
    "    \n",
    "    sigma8_ccl = ccl.sigma8 (ccl_cosmo)\n",
    "    sigma8_nc = Nc.HICosmo.sigma8(cosmo,psf)\n",
    "\n",
    "    print(f'sigma8_ccl: {sigma8_ccl}  /  sigma8_nc: {sigma8_nc}  /  diff: {abs(sigma8_ccl-sigma8_nc)}')"
   ]
  },
  {
   "cell_type": "code",
   "execution_count": null,
   "id": "3b3RXIHwV0l7",
   "metadata": {},
   "outputs": [],
   "source": [
    "for i in range(5):\n",
    "\n",
    "  print(\"-\"*80)\n",
    "  compare_sigma8(Omega_v_vals[i], w0_vals[i], wa_vals[i])\n",
    "  print(\"-\"*80 + \"\\n\")"
   ]
  },
  {
   "cell_type": "markdown",
   "id": "7e-bwV-SjCXG",
   "metadata": {},
   "source": [
    "#### 2.1) Time Comparison\n",
    "\n",
    "We compare the time spent on calculating sigma 8."
   ]
  },
  {
   "cell_type": "code",
   "execution_count": null,
   "id": "1i8wVuYYWccu",
   "metadata": {},
   "outputs": [],
   "source": [
    "# %timeit sigma8_ccl = ccl.sigma8 (ccl_cosmology)"
   ]
  },
  {
   "cell_type": "code",
   "execution_count": null,
   "id": "Ch2JbpXTXKPa",
   "metadata": {},
   "outputs": [],
   "source": [
    "# %%timeit\n",
    "# psf = hmfunc.peek_psf ()\n",
    "# sigma8_nc = Nc.HICosmo.sigma8(cosmo,psf)"
   ]
  },
  {
   "cell_type": "markdown",
   "id": "oq5-vfKoXhFb",
   "metadata": {},
   "source": [
    "### 3) Sigma M\n",
    "\n",
    "This function will compare the square root of the filtered power spectrum , when the mass enclosed by the sphere is known (M is given in Solar Masses M⊙)."
   ]
  },
  {
   "cell_type": "code",
   "execution_count": null,
   "id": "8IMN0fxXXhUB",
   "metadata": {},
   "outputs": [],
   "source": [
    "def compare_sigmaM (M, z, Omega_v, w0, wa):\n",
    "    \"\"\"\n",
    "    Compare the square root of the filtered power spectrum, calculated by CCL\n",
    "    and NumCosmo, for the given halo mass.\n",
    "    \"\"\"\n",
    "\n",
    "    # Set Omega_K in a consistent way\n",
    "    Omega_k = 1.0 - Omega_c - Omega_b - Omega_v\n",
    "\n",
    "    ccl_cosmo = ccl.Cosmology(\n",
    "        Omega_c=Omega_c, Omega_b=Omega_b, Neff=Neff,\n",
    "        h=h, sigma8=sigma8, n_s=n_s, Omega_k=Omega_k,\n",
    "        w0=w0, wa=wa, transfer_function='eisenstein_hu')\n",
    "\n",
    "    CCLParams.set_high_prec_params ()\n",
    "    cosmo, dist, ps_lin, ps_nln, hmfunc = create_nc_obj (ccl_cosmo)\n",
    "    psf = Ncm.PowspecFilter.new(ps_lin, Ncm.PowspecFilterType.TOPHAT)\n",
    "    psf.set_best_lnr0()\n",
    "    multf = Nc.MultiplicityFuncPS.new()\n",
    "    hmfunc = Nc.HaloMassFunction.new (dist, psf, multf)\n",
    "    hmfunc.prepare (cosmo)\n",
    "    \n",
    "    for z_i in z:\n",
    "        a_i = 1.0 / (1.0 + z_i)\n",
    "        print (\"Aqui z =\", z_i)\n",
    "\n",
    "        sigma_ccl = ccl.sigmaM (ccl_cosmo, M, a_i)\n",
    "        sigma_nc  = np.array ([psf.eval_sigma (z_i, math.exp(hmfunc.lnM_to_lnR (cosmo, math.log(M_i)))) for M_i in M])\n",
    "        compare_ccl_nc_func (M, sigma_ccl, sigma_nc, x_name = 'M', y_name = r'\\sigma(%.1f)' % z_i, xscale = 'log')\n",
    "\n",
    "        dsigma_ccl = dsigmaM_dlnM (ccl_cosmo, M, a_i)\n",
    "        dsigma_nc  = np.array ([(-math.log(10)/6.0) * psf.eval_dlnvar_dlnr (z_i, hmfunc.lnM_to_lnR (cosmo, math.log(M_i))) for M_i in M])\n",
    "        compare_ccl_nc_func (M, dsigma_ccl, dsigma_nc, x_name = 'M', y_name = r'\\frac{d\\ln\\sigma}{d\\log_{10} M}(%.1f)' % z_i, xscale = 'log')\n",
    "\n",
    "    #ccl.gsl_params.reload()\n",
    "    #ccl.spline_params.reload()"
   ]
  },
  {
   "cell_type": "code",
   "execution_count": null,
   "id": "d3MyldaQYcG_",
   "metadata": {},
   "outputs": [],
   "source": [
    "# Array of masses\n",
    "M = np.geomspace(1.0e11, 1.0e14, 1000)\n",
    "\n",
    "# Array of redshifts\n",
    "z = np.linspace(0.0,1.0,3)\n",
    "\n",
    "#for i in range(5):\n",
    "\n",
    "print(\"-\"*80)\n",
    "compare_sigmaM (M, z, 0.7, -1.0, 0.0) #(M, z, Omega_v_vals[i], w0_vals[i], wa_vals[i])\n",
    "print(\"-\"*80 + \"\\n\")"
   ]
  },
  {
   "cell_type": "markdown",
   "id": "KYzgE1w7jJ2a",
   "metadata": {},
   "source": [
    "#### 3.1) Time Comparison\n",
    "\n",
    "We compare the time spent on calculating sigma M."
   ]
  },
  {
   "cell_type": "code",
   "execution_count": null,
   "id": "6KzOOVERY5gd",
   "metadata": {},
   "outputs": [],
   "source": [
    "# z_i = 0.5\n",
    "# a_i = 1.0 / (1.0 + z_i)\n",
    "# psf = Ncm.PowspecFilter.new(ps_lin, Ncm.PowspecFilterType.TOPHAT)\n",
    "# psf.set_best_lnr0()\n",
    "# psf.prepare (cosmo)\n",
    "\n",
    "# print(\"3.1) SIGMA M\\n\")\n",
    "# %timeit sigma_ccl = ccl.sigmaM (ccl_cosmology, M, a_i)\n",
    "# %timeit sigma_nc  = np.array ([psf.eval_sigma (z_i, math.exp(hmfunc.lnM_to_lnR (cosmo, math.log(M_i)))) for M_i in M])\n",
    "# print()\n",
    "\n",
    "# print(\"3.2) D SIGMAM/D LN(M)\\n\")\n",
    "# %timeit dsigma_ccl = dsigmaM_dlnM (ccl_cosmology, M, a_i)\n",
    "# %timeit dsigma_nc  = np.array ([(-math.log(10)/6.0) * psf.eval_dlnvar_dlnr (z_i, hmfunc.lnM_to_lnR (cosmo, math.log(M_i))) for M_i in M])\n",
    "# print()"
   ]
  },
  {
   "cell_type": "markdown",
   "id": "b5XVVXrdlalM",
   "metadata": {},
   "source": [
    "### 4) Sigma R\n",
    "\n",
    "This function will compare the square root of the filtered power spectrum."
   ]
  },
  {
   "cell_type": "code",
   "execution_count": null,
   "id": "CIvjR_gwaDUp",
   "metadata": {},
   "outputs": [],
   "source": [
    "def compare_sigmaR (R, z, Omega_v, w0, wa):\n",
    "    \"\"\"\n",
    "    Compare the square root of of the filtered power spectrum calculated by pyccl and NumCosmo.\n",
    "    \"\"\"\n",
    "\n",
    "    # Set Omega_K in a consistent way\n",
    "    Omega_k = 1.0 - Omega_c - Omega_b - Omega_v\n",
    "\n",
    "    ccl_cosmo = ccl.Cosmology(\n",
    "        Omega_c=Omega_c, Omega_b=Omega_b, Neff=Neff,\n",
    "        h=h, sigma8=sigma8, n_s=n_s, Omega_k=Omega_k,\n",
    "        w0=w0, wa=wa, transfer_function='eisenstein_hu')\n",
    "\n",
    "    CCLParams.set_high_prec_params ()\n",
    "    cosmo, dist, ps_lin, ps_nln, hmfunc = create_nc_obj (ccl_cosmo)\n",
    "    psf = Ncm.PowspecFilter.new(ps_lin, Ncm.PowspecFilterType.TOPHAT)\n",
    "    psf.set_best_lnr0()\n",
    "    psf.prepare (cosmo)\n",
    "\n",
    "    for z_i in z:\n",
    "        a_i = 1.0 / (1.0 + z_i)\n",
    "        sigma_ccl = ccl.sigmaR (ccl_cosmo, R, a_i)\n",
    "        sigma_nc  = np.array ([psf.eval_sigma (z_i, R_i) for R_i in R])\n",
    "        compare_ccl_nc_func (R, sigma_ccl, sigma_nc, x_name = 'R', y_name = r'\\sigma(%.2f)' % z_i, xscale = 'log')\n",
    "\n",
    "    ccl.gsl_params.reload()\n",
    "    ccl.spline_params.reload()\n"
   ]
  },
  {
   "cell_type": "code",
   "execution_count": null,
   "id": "K74FhLXLaHMH",
   "metadata": {},
   "outputs": [],
   "source": [
    "# Array of radius\n",
    "R = np.geomspace(1.0e-1, 1.0e2, 1000)\n",
    "\n",
    "# Array of redshifts\n",
    "z = np.linspace(0.0,1.0,3)\n",
    "\n",
    "print(\"-\"*80)\n",
    "compare_sigmaR (R, z, 0.7, -1.0, 0.0)\n",
    "print(\"-\"*80 + \"\\n\")"
   ]
  },
  {
   "cell_type": "markdown",
   "id": "mZLWMSmtjQlO",
   "metadata": {},
   "source": [
    "#### 4.1) Time Comparison\n",
    "\n",
    "We compare the time spent on calculating sigma R."
   ]
  },
  {
   "cell_type": "code",
   "execution_count": null,
   "id": "E02NEu8agEGZ",
   "metadata": {},
   "outputs": [],
   "source": [
    "# z_i = 0.5\n",
    "# a_i = 1.0 / (1.0 + z_i)\n",
    "#psf = Ncm.PowspecFilter.new(ps_lin, Ncm.PowspecFilterType.TOPHAT)\n",
    "#psf.set_best_lnr0()\n",
    "#psf.prepare (cosmo)\n",
    "\n",
    "# print(\"4.1) SIGMA R\\n\")\n",
    "# %timeit sigma_ccl = ccl.sigmaR (ccl_cosmology, R, a_i)\n",
    "# %timeit sigma_nc  = np.array ([psf.eval_sigma (z_i, R_i) for R_i in R])\n",
    "# print()"
   ]
  },
  {
   "cell_type": "markdown",
   "id": "TpqBg8M1GdZr",
   "metadata": {},
   "source": [
    "### Summary\n",
    "\n",
    "The table below show all estimated times and orders of the minimum and maximum relative differences for each function compared in this notebook. The CCL function for sigmaV is not being compared, since NumCosmo does not have a specific function to compute it.\n",
    "\n",
    "\n",
    "<table {style=\"border-style: solid;\"}>\n",
    "  <tr>\n",
    "    <th>Function</th>\n",
    "    <th>Runtime CCL</th>\n",
    "    <th>Runtime NumCosmo</th>\n",
    "    <th>Min. Rel. Diff. Order</th>\n",
    "    <th>Max. Rel. Diff. Order</th>\n",
    "    <tr>\n",
    "  <tr>\n",
    "      <td>KNL</td>\n",
    "      <td>188 ± 1 μs</td>\n",
    "      <td>1.04 ± 0.01 ms</td>\n",
    "      <td>1e-08</td>\n",
    "      <td>1e-08</td>\n",
    "  </tr>\n",
    "  <tr>\n",
    "      <td>Linear Matter Power</td>\n",
    "      <td>262 ± 18 μs</td>\n",
    "      <td>1.07 ± 0.01 ms</td>\n",
    "      <td>1e-11</td>\n",
    "      <td>1e-09</td>\n",
    "  </tr>\n",
    "  <tr>\n",
    "      <td>Non Linear Matter Power</td>\n",
    "      <td>234 ± 14 μs</td>\n",
    "      <td>1.25 ± 0.01 ms</td>\n",
    "      <td>1e-12</td>\n",
    "      <td>1e-08</td>\n",
    "  </tr>\n",
    "  <tr>\n",
    "      <td>sigma 8</td>\n",
    "      <td>2.13 ± 0.01 ms</td>\n",
    "      <td>1.34 ± 0.01 μs</td>\n",
    "      <td>1e-10</td>\n",
    "      <td>1e-10</td>\n",
    "  </tr>\n",
    "  <tr>\n",
    "      <td>sigma M</td>\n",
    "      <td>155 ± 1 μs</td>\n",
    "      <td>1.43 ± 0.01 ms</td>\n",
    "      <td>1e-11</td>\n",
    "      <td>1e-09</td>\n",
    "  </tr>\n",
    "  <tr>\n",
    "      <td>d ln sigma_M / dlnM</td>\n",
    "      <td>155 ± 1 μs</td>\n",
    "      <td>1.43 ± 0.01 ms</td>\n",
    "      <td>1e-11</td>\n",
    "      <td>1e-08</td>\n",
    "  </tr>  \n",
    "  <tr>\n",
    "      <td>sigma R</td>\n",
    "      <td>2.20 ± 2 s</td>\n",
    "      <td>618 ± 7 μs</td>\n",
    "      <td>1e-11</td>\n",
    "      <td>1e-09</td>\n",
    "  </tr>\n",
    "</table>"
   ]
  }
 ],
 "metadata": {
  "colab": {
   "provenance": []
  },
  "kernelspec": {
   "display_name": "Python 3 (ipykernel)",
   "language": "python",
   "name": "python3"
  },
  "language_info": {
   "codemirror_mode": {
    "name": "ipython",
    "version": 3
   },
   "file_extension": ".py",
   "mimetype": "text/x-python",
   "name": "python",
   "nbconvert_exporter": "python",
   "pygments_lexer": "ipython3"
  }
 },
 "nbformat": 4,
 "nbformat_minor": 5
}
