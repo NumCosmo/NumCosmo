{
 "cells": [
  {
   "cell_type": "markdown",
   "id": "bea24f4c-e7fa-480d-b9d8-6e44b73102d3",
   "metadata": {},
   "source": [
    "---\n",
    "**License**\n",
    "\n",
    " NC_ccl_xcor_dndz_interpolation_methods\n",
    "\n",
    " Thu Feb 29 12:00:00 2024\\\n",
    " Copyright  2024\\\n",
    " Luigi Lucas de Carvalho Silva <luigi.lcsilva@gmail.com>\n",
    "\n",
    "---\n",
    "---\n",
    "\n",
    " NC_ccl_xcor_dndz_interpolation_methods\\\n",
    " Copyright (C) 2024 Luigi Lucas de Carvalho Silva <luigi.lcsilva@gmail.com>\n",
    "\n",
    " numcosmo is free software: you can redistribute it and/or modify it\n",
    " under the terms of the GNU General Public License as published by the\n",
    " Free Software Foundation, either version 3 of the License, or\n",
    " (at your option) any later version.\n",
    "\n",
    " numcosmo is distributed in the hope that it will be useful, but\n",
    " WITHOUT ANY WARRANTY; without even the implied warranty of\n",
    " MERCHANTABILITY or FITNESS FOR A PARTICULAR PURPOSE.\n",
    " See the GNU General Public License for more details.\n",
    "\n",
    " You should have received a copy of the GNU General Public License along\n",
    " with this program.  If not, see <http://www.gnu.org/licenses/>.\n",
    " \n",
    "---"
   ]
  },
  {
   "cell_type": "markdown",
   "id": "c7c03e4f",
   "metadata": {},
   "source": [
    "## Startups and Packages"
   ]
  },
  {
   "cell_type": "markdown",
   "id": "773dea97",
   "metadata": {},
   "source": [
    "First of all, let us import some useful packages."
   ]
  },
  {
   "cell_type": "code",
   "execution_count": null,
   "id": "f2708faa-6f06-4824-aa74-62ee903df440",
   "metadata": {},
   "outputs": [],
   "source": [
    "##### NUMCOSMO ######\n",
    "from numcosmo_py import Ncm\n",
    "from numcosmo_py.ccl.nc_ccl import CCLParams\n",
    "#from numcosmo_py.ccl.comparison import compare_ccl_nc_func\n",
    "\n",
    "ccl_params_class = CCLParams()\n",
    "ccl_cosmo_set_high_prec = ccl_params_class.set_high_prec_params\n",
    "\n",
    "######## CCL ########\n",
    "import pyccl as pyccl\n",
    "\n",
    "######## GENERAL ########\n",
    "import sys\n",
    "import numpy as np\n",
    "import math\n",
    "import matplotlib.pyplot as plt\n",
    "%matplotlib inline\n",
    "import time\n",
    "from scipy.interpolate import interp1d"
   ]
  },
  {
   "cell_type": "markdown",
   "id": "357a402e-c886-40fe-815e-712489433fd5",
   "metadata": {},
   "source": [
    "Now, let us get the libraries versions."
   ]
  },
  {
   "cell_type": "code",
   "execution_count": null,
   "id": "e003aea1-3272-4ab6-abf3-ef2e724d0113",
   "metadata": {},
   "outputs": [],
   "source": [
    "### GETTING NUMCOSMO VERSION\n",
    "# dir(Ncm) # Show the library functions.\n",
    "\n",
    "ncmpath = Ncm.__path__[0]\n",
    "ncmpath = ncmpath.replace(\"/NumCosmoMath-1.0.typelib\", \"\")\n",
    "buildfile = open(ncmpath + \"/build_cfg.h\", \"r\").readlines()\n",
    "\n",
    "for line in buildfile:\n",
    "    if \"NUMCOSMO_VERSION\" in line:\n",
    "        ncversion = line\n",
    "        for ch in [\"#define\", \"NUMCOSMO_VERSION\", '\"', \"\\n\", \"  \"]:\n",
    "            if ch in ncversion:\n",
    "                ncversion = ncversion.replace(ch, \"\")\n",
    "print(\"NumCosmo Version: \" + ncversion)\n",
    "\n",
    "### GETTING CCL VERSION\n",
    "print(\"CCL Version: \" + str(pyccl.__version__))"
   ]
  },
  {
   "cell_type": "markdown",
   "id": "a05ae0b2",
   "metadata": {},
   "source": [
    "Now, let us initialize the NumCosmo library."
   ]
  },
  {
   "cell_type": "code",
   "execution_count": null,
   "id": "b126b50e",
   "metadata": {},
   "outputs": [],
   "source": [
    "Ncm.cfg_init()\n",
    "Ncm.cfg_set_log_handler(lambda msg: sys.stdout.write(msg) and sys.stdout.flush())"
   ]
  },
  {
   "cell_type": "markdown",
   "id": "e1f61f91",
   "metadata": {},
   "source": [
    "## Cosmological parameters"
   ]
  },
  {
   "cell_type": "code",
   "execution_count": null,
   "id": "11a95ec4-8655-41d7-a10e-b9fdb26c0428",
   "metadata": {},
   "outputs": [],
   "source": [
    "# Fixed parameters.\n",
    "Neff_massless_neutrinos = 3.0  # Effective number of massless neutrinos present. For the massive case, the Neff is\n",
    "# defined with the other parameters in the cosmology array.\n",
    "T_CMB = 2.726  # The CMB temperature today.\n",
    "\n",
    "######### COSMOLOGIES ##########\n",
    "# Reference: https://arxiv.org/pdf/1812.05995.pdf, Table 3 and Table 4.\n",
    "# Order of parameters: Omega_c, Omega_b, Omega_v, h, sigma8, n_s, w0, wa, Neff, m_nu\n",
    "CCL_cosmologies = {}\n",
    "### MASSLESS NEUTRINOS ####\n",
    "CCL_cosmologies[\"CCL1\"] = [\n",
    "    0.25,\n",
    "    0.05,\n",
    "    0.7,\n",
    "    0.7,\n",
    "    0.8,\n",
    "    0.96,\n",
    "    -1.0,\n",
    "    0.0,\n",
    "    Neff_massless_neutrinos,\n",
    "    0,\n",
    "]  # flat ΛCDM\n",
    "CCL_cosmologies[\"CCL2\"] = [\n",
    "    0.25,\n",
    "    0.05,\n",
    "    0.7,\n",
    "    0.7,\n",
    "    0.8,\n",
    "    0.96,\n",
    "    -0.9,\n",
    "    0.0,\n",
    "    Neff_massless_neutrinos,\n",
    "    0,\n",
    "]  # wCDM\n",
    "CCL_cosmologies[\"CCL3\"] = [\n",
    "    0.25,\n",
    "    0.05,\n",
    "    0.7,\n",
    "    0.7,\n",
    "    0.8,\n",
    "    0.96,\n",
    "    -0.9,\n",
    "    0.1,\n",
    "    Neff_massless_neutrinos,\n",
    "    0,\n",
    "]  # wCDM\n",
    "# CCL_cosmologies[\"CCL4\"] = [0.25, 0.05, 0.65, 0.7, 0.8, 0.96, -0.9, 0.1, Neff_massless_neutrinos, 0] #open wCDM    # Bad results for k different from 0.\n",
    "# CCL_cosmologies[\"CCL5\"] = [0.25, 0.05, 0.75, 0.7, 0.8, 0.96, -0.9, 0.1, Neff_massless_neutrinos, 0] #closed wCDM  # Bad results for k different from 0.\n",
    "# CCL_cosmologies[\"CCL6\"] = [0.3, 0.0, 0.7, 0.7, 0.8, 0.96, -1.0, 0.0, Neff_massless_neutrinos, 0]    #flat ΛCDM    # Kernel dying for this cosmology\n",
    "CCL_cosmologies[\"WMAP7\"] = [\n",
    "    0.2265,\n",
    "    0.0455,\n",
    "    0.728,\n",
    "    0.704,\n",
    "    0.810,\n",
    "    0.967,\n",
    "    -1.0,\n",
    "    0.0,\n",
    "    Neff_massless_neutrinos,\n",
    "    0,\n",
    "]  # flat ΛCDM\n",
    "CCL_cosmologies[\"Planck2013\"] = [\n",
    "    0.269,\n",
    "    0.0490,\n",
    "    0.682,\n",
    "    0.671,\n",
    "    0.834,\n",
    "    0.962,\n",
    "    -1.0,\n",
    "    0.0,\n",
    "    Neff_massless_neutrinos,\n",
    "    0,\n",
    "]  # flat ΛCDM\n",
    "### MASSIVE NEUTRINOS ####\n",
    "# Obs.: The create_nc_obj from nc_ccl.py is not updated for the new version of CCL. So, we cannot include massive neutrinos right now.\n",
    "# CCL_cosmologies[\"CCL7\"] = [0.25, 0.05, 0.7, 0.7, 0.8, 0.96, -1.0, 0.0, 3.013, [0.04,0,0]]  #flat ΛCDM, mν\n",
    "\n",
    "cosmo_names = []\n",
    "for key, value in CCL_cosmologies.items():\n",
    "    cosmo_names.append(key)"
   ]
  },
  {
   "cell_type": "markdown",
   "id": "9c748ae4",
   "metadata": {},
   "source": [
    "# Defining the tracers"
   ]
  },
  {
   "cell_type": "code",
   "execution_count": null,
   "id": "799bace1-1bb3-4820-b25f-4ca9d1913db5",
   "metadata": {},
   "outputs": [],
   "source": [
    "###################### TIME START ##########################\n",
    "start = time.time()\n",
    "\n",
    "######## REDSHIFT DISTRIBUTION OF OBJECTS FROM HISTOGRAM ########\n",
    "### Getting the redshift distribution for the objects from the CCL bin1_histo and bin2_histo files.\n",
    "# Source: https://github.com/LSSTDESC/CCL/tree/master/benchmarks/data -- Files bin1_histo.txt and bin2_histo.txt\n",
    "# Used in the CCL article: https://arxiv.org/pdf/1812.05995.pdf\n",
    "\n",
    "# Loading the data. The txt files have 2 columns. The first column contains the redshift values,\n",
    "# and the second column contains the dndz values.\n",
    "bin1_histo = np.loadtxt(\n",
    "    \"./data/bin1_histo.txt\", delimiter=\" \"\n",
    ")  # Loading the first histogram.\n",
    "len_bin1_histo = bin1_histo.shape[0]  # Getting the number of lines.\n",
    "\n",
    "bin2_histo = np.loadtxt(\n",
    "    \"./data/bin2_histo.txt\", delimiter=\" \"\n",
    ")  # Loading the second histogram.\n",
    "len_bin2_histo = bin2_histo.shape[0]  # Getting the number of lines.\n",
    "\n",
    "# Saving the redshift in two lists.\n",
    "z_bin1_histo = []\n",
    "z_bin2_histo = []\n",
    "\n",
    "for i in range(len_bin1_histo):\n",
    "    z_bin1_histo.append(bin1_histo[i][0])\n",
    "\n",
    "for i in range(len_bin2_histo):\n",
    "    z_bin2_histo.append(bin2_histo[i][0])\n",
    "\n",
    "z_bin1_histo_np = np.array(z_bin1_histo)\n",
    "z_bin2_histo_np = np.array(z_bin2_histo)\n",
    "\n",
    "# Checking if the histograms have the same number of lines, and if the redshifts values are equal.\n",
    "if len_bin1_histo != len_bin2_histo:\n",
    "    print(\"Different histograms size!\")\n",
    "else:\n",
    "    print(\"Equal histograms size! \\n\")\n",
    "    z_histo_diff = [z_bin1_histo[i] - z_bin2_histo[i] for i in range(len_bin1_histo)]\n",
    "    count_z_histo_diff_nonzero = np.count_nonzero(z_histo_diff)\n",
    "    if count_z_histo_diff_nonzero == 0:\n",
    "        print(\"Redshifts are also equal!\")\n",
    "\n",
    "# Saving the dndz values in two lists.\n",
    "dndz_bin1_histo = []\n",
    "dndz_bin2_histo = []\n",
    "for i in range(len_bin1_histo):\n",
    "    dndz_bin1_histo.append(bin1_histo[i][1])\n",
    "\n",
    "for i in range(len_bin2_histo):\n",
    "    dndz_bin2_histo.append(bin2_histo[i][1])\n",
    "\n",
    "dndz_bin1_histo_np = np.array(dndz_bin1_histo)\n",
    "dndz_bin2_histo_np = np.array(dndz_bin2_histo)\n",
    "\n",
    "###################### TIME END ##########################\n",
    "end = time.time()\n",
    "print(str(end - start) + \"s\")"
   ]
  },
  {
   "cell_type": "code",
   "execution_count": null,
   "id": "7547899e-b74d-4c2d-a3a4-6bfb134bf519",
   "metadata": {},
   "outputs": [],
   "source": [
    "######## PLOT OF THE REDSHIFT DISTRIBUTIONS OF OBJECTS ########\n",
    "plt.plot(z_bin1_histo, dndz_bin1_histo, label=\"dndz_bin1_histo\")\n",
    "plt.plot(z_bin2_histo, dndz_bin2_histo, label=\"dndz_bin2_histo\")\n",
    "plt.legend()\n",
    "plt.xlabel(\"z\")\n",
    "plt.ylabel(\"dndz\")\n",
    "plt.show()"
   ]
  },
  {
   "cell_type": "markdown",
   "id": "55fb4aae-0f2e-4cbd-81c3-6d8df0011354",
   "metadata": {},
   "source": [
    "# COMPARING THE INTERPOLATIONS METHODS"
   ]
  },
  {
   "cell_type": "markdown",
   "id": "892b69dc-6762-4cc2-8281-c95698005d50",
   "metadata": {},
   "source": [
    "The way that the interpolation is done in NumCosmo is the following:"
   ]
  },
  {
   "cell_type": "code",
   "execution_count": null,
   "id": "729054e5-bdee-4ead-aa36-c016f32e3cce",
   "metadata": {},
   "outputs": [],
   "source": [
    "### Computing the angular power spectrum in NumCosmo.\n",
    "# Defining Ncm vectors.\n",
    "v_z1 = Ncm.Vector.new_array(z_bin1_histo_np)\n",
    "v_pz1 = Ncm.Vector.new_array(dndz_bin1_histo_np)\n",
    "\n",
    "# Defining the splines.\n",
    "s_pz1 = Ncm.SplineCubicNotaknot.new_full(v_z1, v_pz1, True)"
   ]
  },
  {
   "cell_type": "code",
   "execution_count": null,
   "id": "48d64f7f-4e87-48b2-a9ef-42a972c2693e",
   "metadata": {},
   "outputs": [],
   "source": [
    "# dir(Ncm.Spline.eval)\n",
    "minimum_z = min(z_bin1_histo)\n",
    "maximum_z = max(z_bin1_histo)\n",
    "step = 0.0001\n",
    "z_array = np.arange(minimum_z, maximum_z, step)\n",
    "\n",
    "Nc_Spline_values = np.array([Ncm.Spline.eval(s_pz1, i) for i in z_array])"
   ]
  },
  {
   "cell_type": "code",
   "execution_count": null,
   "id": "5e654f77-23b0-4862-9c44-4be3cff180ba",
   "metadata": {},
   "outputs": [],
   "source": [
    "plt.plot(z_bin1_histo_np, dndz_bin1_histo_np, \"o\", label=\"Original_histo1\")\n",
    "plt.plot(z_array, Nc_Spline_values, \"-\", label=\"Ncm_Spline_histo1\")\n",
    "plt.legend()\n",
    "plt.xlabel(\"z\")\n",
    "plt.ylabel(\"dndz\")\n",
    "plt.show()"
   ]
  },
  {
   "cell_type": "markdown",
   "id": "8cad9559-f8f2-47ba-848a-f822060af2d8",
   "metadata": {},
   "source": [
    "The way that the interpolation is done in CCL is the following:"
   ]
  },
  {
   "cell_type": "code",
   "execution_count": null,
   "id": "9dc6ec56-134f-4cca-b082-12e96ff1cd8b",
   "metadata": {},
   "outputs": [],
   "source": [
    "### Use Interp1d\n",
    "# https://ccl.readthedocs.io/en/latest/api/pyccl.tracers.html\n",
    "# https://ccl.readthedocs.io/en/latest/_modules/pyccl/tracers.html#NumberCountsTracer\n",
    "# https://github.com/LSSTDESC/CCL/blob/master/pyccl/tracers.py\n",
    "\n",
    "CCL_Spline = interp1d(\n",
    "    z_bin1_histo_np, dndz_bin1_histo_np, bounds_error=False, fill_value=0\n",
    ")\n",
    "CCL_Spline_values = CCL_Spline(z_array)"
   ]
  },
  {
   "cell_type": "code",
   "execution_count": null,
   "id": "4f0c8163-1fd2-4cba-9c80-3b372b815dbc",
   "metadata": {},
   "outputs": [],
   "source": [
    "plt.plot(z_bin1_histo_np, dndz_bin1_histo_np, \"o\", label=\"Original_histo1\")\n",
    "plt.plot(z_array, CCL_Spline_values, \"-\", label=\"CCL_Spline_histo1\")\n",
    "plt.legend()\n",
    "plt.xlabel(\"z\")\n",
    "plt.ylabel(\"dndz\")\n",
    "plt.show()"
   ]
  },
  {
   "cell_type": "markdown",
   "id": "27d64067-0810-4fd3-aba9-c87cefa22194",
   "metadata": {},
   "source": [
    "Let us compare both."
   ]
  },
  {
   "cell_type": "code",
   "execution_count": null,
   "id": "7e81323e-70b5-4032-a459-296940bbd3f7",
   "metadata": {},
   "outputs": [],
   "source": [
    "relative_diff_spline = np.abs((CCL_Spline_values - Nc_Spline_values) / Nc_Spline_values)"
   ]
  },
  {
   "cell_type": "code",
   "execution_count": null,
   "id": "011f3a19-c69d-446a-93ae-fe6bbe503af7",
   "metadata": {},
   "outputs": [],
   "source": [
    "col_num = 2\n",
    "size_ref = 5\n",
    "line_num = 2\n",
    "\n",
    "fig, axs = plt.subplots(\n",
    "    line_num, col_num, figsize=(col_num * size_ref, line_num * size_ref)\n",
    ")\n",
    "\n",
    "i = 0\n",
    "j = 0\n",
    "axs[i, j].plot(z_array, Nc_Spline_values, label=\"Ncm_Spline_histo1\")\n",
    "axs[i, j].plot(z_array, CCL_Spline_values, label=\"CCL_Spline_values\")\n",
    "axs[i, j].set_title(\"Splines\")\n",
    "axs[i, j].legend()\n",
    "axs[i, j].set(xlabel=\"z\", ylabel=\"p(z)\")\n",
    "\n",
    "i = 0\n",
    "j = 1\n",
    "axs[i, j].plot(z_array, relative_diff_spline, label=\"relative_diff\")\n",
    "axs[i, j].set_title(\"Splines Relative Difference\")\n",
    "axs[i, j].legend()\n",
    "axs[i, j].set(xlabel=\"z\", ylabel=\"Rel. Diff.\")\n",
    "axs[i, j].set_yscale(\"log\")"
   ]
  }
 ],
 "metadata": {
  "kernelspec": {
   "display_name": "Python 3",
   "language": "python",
   "name": "python3"
  },
  "language_info": {
   "codemirror_mode": {
    "name": "ipython",
    "version": 3
   },
   "file_extension": ".py",
   "mimetype": "text/x-python",
   "name": "python",
   "nbconvert_exporter": "python",
   "pygments_lexer": "ipython3"
  }
 },
 "nbformat": 4,
 "nbformat_minor": 5
}
