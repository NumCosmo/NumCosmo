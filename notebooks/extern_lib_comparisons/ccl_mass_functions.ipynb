{
 "cells": [
  {
   "cell_type": "markdown",
   "metadata": {},
   "source": [
    "---\n",
    "**License**\n",
    "\n",
    " NC_CCL_mass_function\n",
    "\n",
    " Thu Apr 01 14:32:00 2021\\\n",
    " Copyright  2021\\\n",
    " Mariana Penna-Lima     <pennalima@gmail.com> \\\n",
    " Cinthia Nunes de Lima  <cinthia.n.lima@uel.br>\n",
    "\n",
    "---\n",
    "---\n",
    "\n",
    " NC_CCL_mass_function\\\n",
    " Copyright (C) 2021 Mariana Penna-Lima <pennalima@gmail.com>, Cinthia Nunes de Lima  <cinthia.n.lima@uel.br>\n",
    "\n",
    " numcosmo is free software: you can redistribute it and/or modify it\n",
    " under the terms of the GNU General Public License as published by the\n",
    " Free Software Foundation, either version 3 of the License, or\n",
    " (at your option) any later version.\n",
    "\n",
    " numcosmo is distributed in the hope that it will be useful, but\n",
    " WITHOUT ANY WARRANTY; without even the implied warranty of\n",
    " MERCHANTABILITY or FITNESS FOR A PARTICULAR PURPOSE.\n",
    " See the GNU General Public License for more details.\n",
    "\n",
    " You should have received a copy of the GNU General Public License along\n",
    " with this program.  If not, see <http://www.gnu.org/licenses/>.\n",
    " \n",
    "---"
   ]
  },
  {
   "cell_type": "markdown",
   "metadata": {},
   "source": [
    "<a class=\"anchor\" id=\"contents\"></a>\n",
    "# Contents\n",
    "\n",
    "### 1. [Packages](#libraries)\n",
    "### 2. [Cosmological constants](#constants)\n",
    "### 3. [Libraries settings](#Initializing)\n",
    "### 4. [Linear matter power spectrum](#powerspectrum)\n",
    "### 5. [Multiplicity functions tests](#multiplicity)\n",
    "####     5.1 [Mass function and plot](#mass)\n",
    "####     5.2 [Time tests](#5.2)\n",
    "####     5.3 [Note](#5.3)\n",
    "### 6. [Tinker multiplicity function tests](#tinkertests)\n",
    "####     6.1 [Results](#6.1)\n",
    "####         6.1.1 [Plot of mass function and relative error, between CCL and NumCosmo, for z=0:](#6.1.1)\n",
    "####         6.1.2 [Plot of mass function and relative error, between CCL and NumCosmo, for z=1:](#6.1.2)\n",
    "####         6.1.3 [Plot of mass function and relative error, between CCL and NumCosmo, for z=2:](#6.1.3)\n",
    "####     6.2 [Note](#6.2)\n",
    "### 7. [Bocquet multiplicity function tests](#bocquet)\n",
    "####     7.1 [Results](#7.1)"
   ]
  },
  {
   "cell_type": "markdown",
   "metadata": {},
   "source": [
    "<a class=\"anchor\" id=\"libraries\"></a>\n",
    "## 1.  [Packages](#contents)\n",
    "***\n",
    "\n",
    "In the cell below, we import the libraries `CCL` and `NumCosmo` for comparison between their mass functions for different multiplicity functions.\n",
    "\n",
    "To import `NumCosmo`, we should import `GObject`. This is important because `GObject` help us to maps the C language in other languages, like python.\n",
    "\n",
    "The package `sys` is related to the manipulation and obtaining information from the python environment. The packages `numpy` and `math` help us with the calculations, gives us access to mathematical functions.\n",
    "\n",
    "\n"
   ]
  },
  {
   "cell_type": "code",
   "execution_count": 1,
   "metadata": {},
   "outputs": [],
   "source": [
    "# NumCosmo\n",
    "try:\n",
    "    import gi\n",
    "\n",
    "    gi.require_version(\"NumCosmo\", \"1.0\")\n",
    "    gi.require_version(\"NumCosmoMath\", \"1.0\")\n",
    "except:\n",
    "    pass\n",
    "\n",
    "from gi.repository import GObject\n",
    "from gi.repository import NumCosmo as Nc\n",
    "from gi.repository import NumCosmoMath as Ncm\n",
    "\n",
    "# CCL\n",
    "import pyccl as ccl\n",
    "from pyccl.halos.massdef import MassDef\n",
    "\n",
    "import sys\n",
    "import numpy as np\n",
    "import math\n",
    "import matplotlib.pyplot as plt\n",
    "\n",
    "import sys\n",
    "\n",
    "sys.path.insert(0, \"../scripts\")\n",
    "import numcosmo_py.ccl.nc_ccl as nc_ccl"
   ]
  },
  {
   "cell_type": "markdown",
   "metadata": {},
   "source": [
    "<a class=\"anchor\" id=\"constants\"></a>\n",
    "## 2. [Cosmological constants](#contents)\n",
    "***\n",
    "In this cell below we fix the cosmological constants to avoid conflits in the calculations and comparisons between the libraries.\n",
    "\n",
    "\n",
    "$\\Omega_{C}$ = 0.262 The density fraction at z=0 of CDM.<br>\n",
    "$\\Omega_{b}$ = 0.049 The density fraction at z=0 of baryons.<br>\n",
    "$\\Omega_{k}$ = 0.0 The curvature density fraction at z=0.<br>\n",
    "$H_{0 }$ = 67.66   The Hubble constant.<br>\n",
    "$Tcmb_{0}$  = 2.7255 The temperature at z=0 of CMB.<br>\n",
    "$A_{s} = 2.1E-9$  The primordial normalization of the power spectrum at k=0.05 Mpc −1.<br>\n",
    "$\\sigma_{8}$ = 0.8277 The normalization of the power spectrum today. <br>\n",
    "$n_{s}$ = 0.96 Scalar spectral index.<br>\n",
    "$N_{eff}$ = 0.0 3.046 effective number of massless+massive neutrinos present at recombination.<br>\n",
    "$\\omega_{0}$ = -1.0 First order term of the dark energy equation of state.<br>\n",
    "$\\omega_{a}$ = 0.0 Second order term of the dark energy equation of state.<br>\n"
   ]
  },
  {
   "cell_type": "code",
   "execution_count": 2,
   "metadata": {},
   "outputs": [],
   "source": [
    "Omega_c = 0.262\n",
    "Omega_b = 0.049\n",
    "Omega_k = 0.0\n",
    "H0 = 67.66\n",
    "h = H0 / 100.0\n",
    "Tcmb0 = 2.7255\n",
    "A_s = 2.1e-9\n",
    "sigma8 = 0.8277\n",
    "n_s = 0.96\n",
    "Neff = 3.046\n",
    "w0 = -1.0\n",
    "wa = 0.0\n",
    "\n",
    "# CCL uses linear interpolation for the Tinker mass function. Set here to False\n",
    "# To see the error in comparison with the the cubic interpolation proposed in\n",
    "# the paper\n",
    "Tinker_lin_interp = True"
   ]
  },
  {
   "cell_type": "markdown",
   "metadata": {},
   "source": [
    "<a class=\"anchor\" id=\"Initializing\"></a>\n",
    "## 3. [Libraries settings](#contents)\n",
    "\n",
    "***\n",
    "First we create the cosmology object  of CCL, `cosmo_ccl`.Next, we initialize the `NumCosmo` using `Ncm.cfg_init ()`, this function should be placed before any NumCosmo function, and then we create the cosmology object of `NumCosmo`.\n",
    "\n",
    "We also create the homogeneous and isotropic object, ` hiprim `, this is necessary to calculate the linear power spectrum P(k).\n",
    "\n",
    "\n",
    "\n"
   ]
  },
  {
   "cell_type": "markdown",
   "metadata": {},
   "source": [
    "<a class=\"anchor\" id=\"powerspectrum\"></a>\n",
    "## 4. [Linear matter power spectrum](#contents)\n",
    "***\n",
    "\n",
    "The linear matter power spectrum P(k) describes the linear evolution of the density pertubations. To calculate it we use the transfer function T(k) and apply a tophat filter.\n",
    "\n",
    "The code `TransferFunc.new_from_name` returns a new `NcTransferFunc`, whose type is defined in this case by \"NcTransferFuncEH\" .\n",
    "    \n",
    "The transfer function, T(k), is defined as,\n",
    "$$\n",
    "T(k)\\equiv \\frac{\\hat{\\delta}(k,z=0)}{\\hat{\\delta}(k,z=\\infty)} \\frac {\\hat{\\delta}(k=0,z=\\infty)}{\\hat{\\delta}(k=0,z=0)}\n",
    "$$\n",
    "\n",
    "$\\hat{\\delta}(k,z) $ is the density pertubation and, by definition, $\\lim_{k\\rightarrow 0} T (k) \\rightarrow 1$.\n",
    "\n",
    "We create a new linear matter power spectrum object using `PowspecMLTransfer.new (tf)` calculated over a range of small to large scales of the wavenumber,k, and apply a tophat filter using ` Ncm.PowspecFilter.new (psml, Ncm.PowspecFilterType.TOPHAT)`."
   ]
  },
  {
   "cell_type": "code",
   "execution_count": 10,
   "metadata": {},
   "outputs": [],
   "source": [
    "# CCL Cosmology\n",
    "ccl_params = nc_ccl.CCLParams()\n",
    "ccl_params.set_high_prec_params()\n",
    "\n",
    "cosmo_ccl = ccl.Cosmology(\n",
    "    Omega_c=Omega_c,\n",
    "    Omega_b=Omega_b,\n",
    "    Neff=Neff,\n",
    "    h=h,\n",
    "    sigma8=sigma8,\n",
    "    n_s=n_s,\n",
    "    Omega_k=Omega_k,\n",
    "    w0=w0,\n",
    "    wa=wa,\n",
    "    T_CMB=Tcmb0,\n",
    "    m_nu=[0.00, 0.0, 0.0],\n",
    "    transfer_function=\"eisenstein_hu\",\n",
    "    matter_power_spectrum=\"linear\",\n",
    ")\n",
    "\n",
    "\n",
    "Ncm.cfg_init()\n",
    "Ncm.cfg_set_log_handler(lambda msg: sys.stdout.write(msg) and sys.stdout.flush())\n",
    "\n",
    "cosmo, dist, ps_lin, ps_nln, psf = nc_ccl.create_nc_obj(cosmo_ccl)"
   ]
  },
  {
   "cell_type": "markdown",
   "metadata": {},
   "source": [
    "<a class=\"anchor\" id=\"multiplicity\"></a>\n",
    "## 5. [Multiplicity functions tests](#contents)\n",
    "***\n",
    "\n",
    "The multiplicity function contains information about the collapse process and halo formation. In the cell above we  defined the multiplicity functions objects for different formalisms. The form of them can be consulted in the following papers:\n",
    "\n",
    "Press-Schechter (1974) [(1974ApJ...187..425P)](http://articles.adsabs.harvard.edu/pdf/1974ApJ...187..425P>);\n",
    "\n",
    "Sheth-Tormen (1899)[(arXiv:astro-ph/9901122)](https://arxiv.org/pdf/astro-ph/9901122.pdf);\n",
    "\n",
    "Jenkins (2001) [(arXiv:astro-ph/0005260)](https://arxiv.org/pdf/astro-ph/0005260.pdf);\n",
    "\n",
    "Tinker (2008) [(astro-ph/0803.2706)](https://arxiv.org/pdf/0803.2706.pdf);\n",
    "\n",
    "Tinker (2010) [(arXiv:1001.3162)](https://arxiv.org/pdf/1001.3162.pdf).\n",
    "\n"
   ]
  },
  {
   "cell_type": "code",
   "execution_count": 11,
   "metadata": {},
   "outputs": [],
   "source": [
    "# CCL multiplicity functions\n",
    "\n",
    "# Press & Schechter mass function\n",
    "ccl_hmf_PS = ccl.halos.MassFuncPress74()\n",
    "\n",
    "# Sheth & Tormen mass function\n",
    "ccl_hmf_ST = ccl.halos.MassFuncSheth99()\n",
    "\n",
    "# Jenkins 2001 mass function\n",
    "ccl_hmf_Jenkins = ccl.halos.MassFuncJenkins01()\n",
    "\n",
    "# Tinker 2008 mass function\n",
    "ccl_hmf_T08 = ccl.halos.MassFuncTinker08()\n",
    "\n",
    "# Tinker 2010 mass function\n",
    "ccl_hmf_T10 = ccl.halos.MassFuncTinker10()\n",
    "\n",
    "# NumCosmo multiplicity functions\n",
    "\n",
    "# Press & Schechter\n",
    "hmf_PS = Nc.MultiplicityFuncPS.new()\n",
    "\n",
    "# Sheth & Tormen\n",
    "hmf_ST = Nc.MultiplicityFuncST.new()\n",
    "\n",
    "# Jenkins\n",
    "hmf_Jenkins = Nc.MultiplicityFuncJenkins.new()\n",
    "\n",
    "# Tinker 2008\n",
    "hmf_TM08 = Nc.MultiplicityFuncTinker.new()\n",
    "hmf_TM08.set_linear_interp(Tinker_lin_interp)\n",
    "\n",
    "# Tinker 2010\n",
    "hmf_T10 = Nc.MultiplicityFuncTinkerMeanNormalized.new()\n",
    "\n",
    "#\n",
    "# New mass function object using the objects defined above.\n",
    "#\n",
    "mf_PS = Nc.HaloMassFunction.new(dist, psf, hmf_PS)\n",
    "mf_ST = Nc.HaloMassFunction.new(dist, psf, hmf_ST)\n",
    "mf_Jenkins = Nc.HaloMassFunction.new(dist, psf, hmf_Jenkins)\n",
    "mf_TM08 = Nc.HaloMassFunction.new(dist, psf, hmf_TM08)\n",
    "mf_T10 = Nc.HaloMassFunction.new(dist, psf, hmf_T10)"
   ]
  },
  {
   "cell_type": "code",
   "execution_count": 12,
   "metadata": {},
   "outputs": [],
   "source": [
    "# Array of masses\n",
    "m_arr = np.geomspace(1e10, 1e15, 128)\n",
    "\n",
    "# Array of redshifts\n",
    "z_arr = np.linspace(0.0, 1.0, 16)"
   ]
  },
  {
   "cell_type": "code",
   "execution_count": 13,
   "metadata": {},
   "outputs": [],
   "source": [
    "psf.prepare(cosmo)\n",
    "sigma8_nc = psf.eval_sigma(0.0, 8.0 / h)\n",
    "\n",
    "mf_PS.set_eval_limits(cosmo, math.log(1e11), math.log(1e16), 0.0, 2.0)\n",
    "mf_PS.prepare(cosmo)\n",
    "mf_ST.set_eval_limits(cosmo, math.log(1e11), math.log(1e16), 0.0, 2.0)\n",
    "mf_ST.prepare(cosmo)\n",
    "mf_Jenkins.set_eval_limits(cosmo, math.log(1e11), math.log(1e16), 0.0, 2.0)\n",
    "mf_Jenkins.prepare(cosmo)\n",
    "mf_TM08.set_eval_limits(cosmo, math.log(1e11), math.log(1e16), 0.0, 2.0)\n",
    "mf_TM08.prepare(cosmo)\n",
    "mf_T10.set_eval_limits(cosmo, math.log(1e11), math.log(1e16), 0.0, 2.0)\n",
    "mf_T10.prepare(cosmo)"
   ]
  },
  {
   "cell_type": "code",
   "execution_count": 14,
   "metadata": {},
   "outputs": [],
   "source": [
    "def cmp_double(desc, m1, m2, x1, x2):\n",
    "    print(\n",
    "        \"%s: %s = % 22.15g, %s = % 22.15g, CMP: %9.2e\"\n",
    "        % (desc, m1, x1, m2, x2, math.fabs(x1 / x2 - 1.0))\n",
    "    )"
   ]
  },
  {
   "cell_type": "markdown",
   "metadata": {},
   "source": [
    "<a class=\"anchor\" id=\"mass\"></a>\n",
    "### 5.1 [Mass function and plot](#contents)\n",
    "\n",
    "In the cell below we created a list `multiplicity_functions` of pairs, containing the multiplicity function of ` ccl` and `numcosmo`, respectively, for each formalism. Then we use the multiplicity functions to calculate the mass function in each case.\n",
    "\n",
    "We plot first the graph of mass functions calculated using data of ccl and the second graph plotted is the difference of the mass function of libraries, for each formalism.\n"
   ]
  },
  {
   "cell_type": "code",
   "execution_count": 29,
   "metadata": {},
   "outputs": [
    {
     "ename": "TypeError",
     "evalue": "MassFuncPress74._get_fsigma() missing 1 required positional argument: 'lnM'",
     "output_type": "error",
     "traceback": [
      "\u001b[0;31m---------------------------------------------------------------------------\u001b[0m",
      "\u001b[0;31mTypeError\u001b[0m                                 Traceback (most recent call last)",
      "Cell \u001b[0;32mIn[29], line 14\u001b[0m\n\u001b[1;32m     12\u001b[0m \u001b[38;5;66;03m# CCL\u001b[39;00m\n\u001b[1;32m     13\u001b[0m \u001b[38;5;28;01mfor\u001b[39;00m ccl_mf_obj, nc_mf_obj \u001b[38;5;129;01min\u001b[39;00m multiplicity_functions:\n\u001b[0;32m---> 14\u001b[0m     ccl_mf \u001b[38;5;241m=\u001b[39m \u001b[43mccl_mf_obj\u001b[49m\u001b[38;5;241;43m.\u001b[39;49m\u001b[43m_get_fsigma\u001b[49m\u001b[43m(\u001b[49m\u001b[43mcosmo_ccl\u001b[49m\u001b[43m,\u001b[49m\u001b[43m \u001b[49m\u001b[43mm_arr\u001b[49m\u001b[43m,\u001b[49m\u001b[43m \u001b[49m\u001b[38;5;241;43m1.0\u001b[39;49m\u001b[43m)\u001b[49m\n\u001b[1;32m     15\u001b[0m     ccl_nm \u001b[38;5;241m=\u001b[39m m_arr \u001b[38;5;241m*\u001b[39m ccl_mf\n\u001b[1;32m     16\u001b[0m     axs[\u001b[38;5;241m0\u001b[39m]\u001b[38;5;241m.\u001b[39mplot(m_arr, ccl_nm, label\u001b[38;5;241m=\u001b[39mccl_mf_obj\u001b[38;5;241m.\u001b[39mname)\n",
      "\u001b[0;31mTypeError\u001b[0m: MassFuncPress74._get_fsigma() missing 1 required positional argument: 'lnM'"
     ]
    },
    {
     "data": {
      "text/plain": [
       "<Figure size 640x480 with 0 Axes>"
      ]
     },
     "metadata": {},
     "output_type": "display_data"
    },
    {
     "data": {
      "image/png": "[encoded data removed]",
      "text/plain": [
       "<Figure size 1400x700 with 2 Axes>"
      ]
     },
     "metadata": {},
     "output_type": "display_data"
    }
   ],
   "source": [
    "plt.figure()\n",
    "fig, axs = plt.subplots(2, sharex=True, gridspec_kw={\"hspace\": 0}, figsize=(14, 7))\n",
    "\n",
    "multiplicity_functions = [\n",
    "    (ccl_hmf_PS, mf_PS),\n",
    "    (ccl_hmf_ST, mf_ST),\n",
    "    (ccl_hmf_Jenkins, mf_Jenkins),\n",
    "    (ccl_hmf_T08, mf_TM08),\n",
    "    (ccl_hmf_T10, mf_T10),\n",
    "]\n",
    "\n",
    "# CCL\n",
    "for ccl_mf_obj, nc_mf_obj in multiplicity_functions:\n",
    "    ccl_mf = ccl_mf_obj.get_mass_function(cosmo_ccl, m_arr, 1.0)\n",
    "    ccl_nm = m_arr * ccl_mf\n",
    "    axs[0].plot(m_arr, ccl_nm, label=ccl_mf_obj.name)\n",
    "\n",
    "    # NumCosmo\n",
    "    nc_mf = [\n",
    "        nc_mf_obj.dn_dlnM(cosmo, logm, 0.0) * math.log(10.0) for logm in np.log(m_arr)\n",
    "    ]\n",
    "    nc_nm = m_arr * nc_mf\n",
    "\n",
    "    axs[1].plot(m_arr, np.abs(ccl_nm / nc_nm - 1.0), \"-\", label=ccl_mf_obj.name)\n",
    "\n",
    "\n",
    "# Plot settings\n",
    "axs[0].set_xscale(\"log\")\n",
    "axs[0].set_yscale(\"log\")\n",
    "# axs[0].ylim([1.0E9,8.5E9])\n",
    "axs[1].set_yscale(\"log\")\n",
    "axs[1].set_xlabel(r\"$M/M_\\odot$\", fontsize=14)\n",
    "axs[0].set_ylabel(\n",
    "    r\"$M\\,\\frac{dn}{d\\log_{10}M}\\,[M_\\odot\\,{\\rm Mpc}^{-3}]$\", fontsize=14\n",
    ")\n",
    "axs[1].set_ylabel(\n",
    "    r\"$\\frac{dn}{d\\log_{10}M}_{\\mathrm{ccl}} () / \\frac{dn}{d\\log_{10}M}_{\\mathrm{nc}} - 1$\"\n",
    ")\n",
    "axs[0].legend(loc=\"best\")\n",
    "\n",
    "axs[1].legend(loc=\"best\")\n",
    "axs[1].grid()\n",
    "\n",
    "plt.show()"
   ]
  },
  {
   "cell_type": "markdown",
   "metadata": {},
   "source": [
    "<a class=\"anchor\" id=\"5.2\"></a>\n",
    "### 5.2 [Time tests:](#contents)"
   ]
  },
  {
   "cell_type": "markdown",
   "metadata": {},
   "source": [
    "### CCL"
   ]
  },
  {
   "cell_type": "code",
   "execution_count": 16,
   "metadata": {},
   "outputs": [
    {
     "name": "stdout",
     "output_type": "stream",
     "text": [
      "125 μs ± 3.02 μs per loop (mean ± std. dev. of 7 runs, 10,000 loops each)\n"
     ]
    }
   ],
   "source": [
    "%timeit [nc_mf_obj.dn_dlnM (cosmo, logm, 0.0) * math.log(10.0) for logm in np.log(m_arr)]"
   ]
  },
  {
   "cell_type": "markdown",
   "metadata": {},
   "source": [
    "<a class=\"anchor\" id=\"5.3\"></a>\n",
    "### 5.3 [Note](#contents)\n",
    "\n",
    "For the mass functions analyzed in this test, note that the precision and execution time of the codes are close.  "
   ]
  },
  {
   "cell_type": "markdown",
   "metadata": {},
   "source": [
    "<a class=\"anchor\" id=\"tinkertests\"></a>\n",
    "## 6. [Tinker (2008) multiplicity function tests](#contents)\n",
    "***"
   ]
  },
  {
   "cell_type": "markdown",
   "metadata": {},
   "source": [
    "###  NumCosmo"
   ]
  },
  {
   "cell_type": "code",
   "execution_count": 17,
   "metadata": {},
   "outputs": [],
   "source": [
    "# Tinker MEAN\n",
    "\n",
    "# Delta200\n",
    "hmf_TM200 = Nc.MultiplicityFuncTinker.new()\n",
    "hmf_TM200.set_linear_interp(Tinker_lin_interp)\n",
    "hmf_TM200.set_mdef(Nc.MultiplicityFuncMassDef.MEAN)\n",
    "hmf_TM200.set_Delta(200.0)\n",
    "\n",
    "\n",
    "# Delta300\n",
    "hmf_TM300 = Nc.MultiplicityFuncTinker.new()\n",
    "hmf_TM300.set_linear_interp(Tinker_lin_interp)\n",
    "hmf_TM300.set_mdef(Nc.MultiplicityFuncMassDef.MEAN)\n",
    "hmf_TM300.set_Delta(300.0)\n",
    "\n",
    "# Delta400\n",
    "hmf_TM400 = Nc.MultiplicityFuncTinker.new()\n",
    "hmf_TM400.set_linear_interp(Tinker_lin_interp)\n",
    "hmf_TM400.set_mdef(Nc.MultiplicityFuncMassDef.MEAN)\n",
    "hmf_TM400.set_Delta(400.0)\n",
    "\n",
    "# Delta600\n",
    "hmf_TM600 = Nc.MultiplicityFuncTinker.new()\n",
    "hmf_TM600.set_linear_interp(Tinker_lin_interp)\n",
    "hmf_TM600.set_mdef(Nc.MultiplicityFuncMassDef.MEAN)\n",
    "hmf_TM600.set_Delta(600.0)\n",
    "\n",
    "# Delta800\n",
    "hmf_TM800 = Nc.MultiplicityFuncTinker.new()\n",
    "hmf_TM800.set_linear_interp(Tinker_lin_interp)\n",
    "hmf_TM800.set_mdef(Nc.MultiplicityFuncMassDef.MEAN)\n",
    "hmf_TM800.set_Delta(800.0)\n",
    "\n",
    "# Delta1200\n",
    "hmf_TM1200 = Nc.MultiplicityFuncTinker.new()\n",
    "hmf_TM1200.set_linear_interp(Tinker_lin_interp)\n",
    "hmf_TM1200.set_mdef(Nc.MultiplicityFuncMassDef.MEAN)\n",
    "hmf_TM1200.set_Delta(1200.0)\n",
    "\n",
    "# Delta1600\n",
    "hmf_TM1600 = Nc.MultiplicityFuncTinker.new()\n",
    "hmf_TM1600.set_linear_interp(Tinker_lin_interp)\n",
    "hmf_TM1600.set_mdef(Nc.MultiplicityFuncMassDef.MEAN)\n",
    "hmf_TM1600.set_Delta(1600.0)\n",
    "\n",
    "# Delta2400\n",
    "hmf_TM2400 = Nc.MultiplicityFuncTinker.new()\n",
    "hmf_TM2400.set_linear_interp(Tinker_lin_interp)\n",
    "hmf_TM2400.set_mdef(Nc.MultiplicityFuncMassDef.MEAN)\n",
    "hmf_TM2400.set_Delta(2400.0)\n",
    "\n",
    "# Delta3200\n",
    "hmf_TM3200 = Nc.MultiplicityFuncTinker.new()\n",
    "hmf_TM300.set_mdef(Nc.MultiplicityFuncMassDef.MEAN)\n",
    "hmf_TM3200.set_Delta(3200.0)"
   ]
  },
  {
   "cell_type": "code",
   "execution_count": 18,
   "metadata": {},
   "outputs": [],
   "source": [
    "# Tinker CRITICAL\n",
    "\n",
    "# Delta200\n",
    "hmf_TC200 = Nc.MultiplicityFuncTinker.new()\n",
    "hmf_TC200.set_linear_interp(Tinker_lin_interp)\n",
    "hmf_TC200.set_mdef(Nc.MultiplicityFuncMassDef.CRITICAL)\n",
    "hmf_TC200.set_Delta(200.0)\n",
    "\n",
    "# Delta300\n",
    "hmf_TC300 = Nc.MultiplicityFuncTinker.new()\n",
    "hmf_TC300.set_linear_interp(Tinker_lin_interp)\n",
    "hmf_TC300.set_mdef(Nc.MultiplicityFuncMassDef.CRITICAL)\n",
    "hmf_TC300.set_Delta(300.0)\n",
    "\n",
    "# Delta400\n",
    "hmf_TC400 = Nc.MultiplicityFuncTinker.new()\n",
    "hmf_TC400.set_linear_interp(Tinker_lin_interp)\n",
    "hmf_TC400.set_mdef(Nc.MultiplicityFuncMassDef.CRITICAL)\n",
    "hmf_TC400.set_Delta(400.0)\n",
    "\n",
    "# Delta600\n",
    "hmf_TC600 = Nc.MultiplicityFuncTinker.new()\n",
    "hmf_TC600.set_linear_interp(Tinker_lin_interp)\n",
    "hmf_TC600.set_mdef(Nc.MultiplicityFuncMassDef.CRITICAL)\n",
    "hmf_TC600.set_Delta(600.0)\n",
    "\n",
    "# Delta800\n",
    "hmf_TC800 = Nc.MultiplicityFuncTinker.new()\n",
    "hmf_TC800.set_linear_interp(Tinker_lin_interp)\n",
    "hmf_TC800.set_mdef(Nc.MultiplicityFuncMassDef.CRITICAL)\n",
    "hmf_TC800.set_Delta(800.0)\n",
    "\n",
    "# Delta1200\n",
    "hmf_TC1200 = Nc.MultiplicityFuncTinker.new()\n",
    "hmf_TC1200.set_linear_interp(Tinker_lin_interp)\n",
    "hmf_TC1200.set_mdef(Nc.MultiplicityFuncMassDef.CRITICAL)\n",
    "hmf_TC1200.set_Delta(1200.0)\n",
    "\n",
    "# Delta1600\n",
    "hmf_TC1600 = Nc.MultiplicityFuncTinker.new()\n",
    "hmf_TC1600.set_linear_interp(Tinker_lin_interp)\n",
    "hmf_TC1600.set_mdef(Nc.MultiplicityFuncMassDef.CRITICAL)\n",
    "hmf_TC1600.set_Delta(1600.0)\n",
    "\n",
    "# Delta2400\n",
    "hmf_TC2400 = Nc.MultiplicityFuncTinker.new()\n",
    "hmf_TC2400.set_linear_interp(Tinker_lin_interp)\n",
    "hmf_TC2400.set_mdef(Nc.MultiplicityFuncMassDef.CRITICAL)\n",
    "hmf_TC2400.set_Delta(2400.0)\n",
    "\n",
    "# Delta3200\n",
    "hmf_TC3200 = Nc.MultiplicityFuncTinker.new()\n",
    "hmf_TC3200.set_linear_interp(Tinker_lin_interp)\n",
    "hmf_TC300.set_mdef(Nc.MultiplicityFuncMassDef.CRITICAL)\n",
    "hmf_TC3200.set_Delta(3200.0)"
   ]
  },
  {
   "cell_type": "markdown",
   "metadata": {},
   "source": [
    "Configurations of NumCosmo Multiplicity Functions"
   ]
  },
  {
   "cell_type": "code",
   "execution_count": 19,
   "metadata": {},
   "outputs": [],
   "source": [
    "nc_TM200 = Nc.HaloMassFunction.new(dist, psf, hmf_TM200)\n",
    "nc_TM200.set_eval_limits(cosmo, math.log(1e11), math.log(1e16), 0.0, 2.0)\n",
    "nc_TM200.prepare(cosmo)\n",
    "\n",
    "nc_TM300 = Nc.HaloMassFunction.new(dist, psf, hmf_TM300)\n",
    "nc_TM300.set_eval_limits(cosmo, math.log(1e11), math.log(1e16), 0.0, 2.0)\n",
    "nc_TM300.prepare(cosmo)\n",
    "\n",
    "nc_TM400 = Nc.HaloMassFunction.new(dist, psf, hmf_TM400)\n",
    "nc_TM400.set_eval_limits(cosmo, math.log(1e11), math.log(1e16), 0.0, 2.0)\n",
    "nc_TM400.prepare(cosmo)\n",
    "\n",
    "nc_TM600 = Nc.HaloMassFunction.new(dist, psf, hmf_TM600)\n",
    "nc_TM600.set_eval_limits(cosmo, math.log(1e11), math.log(1e16), 0.0, 2.0)\n",
    "nc_TM600.prepare(cosmo)\n",
    "\n",
    "nc_TM800 = Nc.HaloMassFunction.new(dist, psf, hmf_TM800)\n",
    "nc_TM800.set_eval_limits(cosmo, math.log(1e11), math.log(1e16), 0.0, 2.0)\n",
    "nc_TM800.prepare(cosmo)\n",
    "\n",
    "nc_TM1200 = Nc.HaloMassFunction.new(dist, psf, hmf_TM1200)\n",
    "nc_TM1200.set_eval_limits(cosmo, math.log(1e11), math.log(1e16), 0.0, 2.0)\n",
    "nc_TM1200.prepare(cosmo)\n",
    "\n",
    "nc_TM1600 = Nc.HaloMassFunction.new(dist, psf, hmf_TM1600)\n",
    "nc_TM1600.set_eval_limits(cosmo, math.log(1e11), math.log(1e16), 0.0, 2.0)\n",
    "nc_TM1600.prepare(cosmo)\n",
    "\n",
    "nc_TM2400 = Nc.HaloMassFunction.new(dist, psf, hmf_TM2400)\n",
    "nc_TM2400.set_eval_limits(cosmo, math.log(1e11), math.log(1e16), 0.0, 2.0)\n",
    "nc_TM2400.prepare(cosmo)\n",
    "\n",
    "nc_TM3200 = Nc.HaloMassFunction.new(dist, psf, hmf_TM3200)\n",
    "nc_TM3200.set_eval_limits(cosmo, math.log(1e11), math.log(1e16), 0.0, 2.0)\n",
    "nc_TM3200.prepare(cosmo)\n",
    "\n",
    "nc_TC200 = Nc.HaloMassFunction.new(dist, psf, hmf_TC200)\n",
    "nc_TC200.set_eval_limits(cosmo, math.log(1e11), math.log(1e16), 0.0, 2.0)\n",
    "nc_TC200.prepare(cosmo)\n",
    "\n",
    "nc_TC300 = Nc.HaloMassFunction.new(dist, psf, hmf_TC300)\n",
    "nc_TC300.set_eval_limits(cosmo, math.log(1e11), math.log(1e16), 0.0, 2.0)\n",
    "nc_TC300.prepare(cosmo)\n",
    "\n",
    "nc_TC400 = Nc.HaloMassFunction.new(dist, psf, hmf_TC400)\n",
    "nc_TC400.set_eval_limits(cosmo, math.log(1e11), math.log(1e16), 0.0, 2.0)\n",
    "nc_TC400.prepare(cosmo)\n",
    "\n",
    "nc_TC600 = Nc.HaloMassFunction.new(dist, psf, hmf_TC600)\n",
    "nc_TC600.set_eval_limits(cosmo, math.log(1e11), math.log(1e16), 0.0, 2.0)\n",
    "nc_TC600.prepare(cosmo)\n",
    "\n",
    "nc_TC800 = Nc.HaloMassFunction.new(dist, psf, hmf_TC800)\n",
    "nc_TC800.set_eval_limits(cosmo, math.log(1e11), math.log(1e16), 0.0, 2.0)\n",
    "nc_TC800.prepare(cosmo)\n",
    "\n",
    "nc_TC1200 = Nc.HaloMassFunction.new(dist, psf, hmf_TC1200)\n",
    "nc_TC1200.set_eval_limits(cosmo, math.log(1e11), math.log(1e16), 0.0, 2.0)\n",
    "nc_TC1200.prepare(cosmo)\n",
    "\n",
    "nc_TC1600 = Nc.HaloMassFunction.new(dist, psf, hmf_TC1600)\n",
    "nc_TC1600.set_eval_limits(cosmo, math.log(1e11), math.log(1e16), 0.0, 2.0)\n",
    "nc_TC1600.prepare(cosmo)\n",
    "\n",
    "nc_TC2400 = Nc.HaloMassFunction.new(dist, psf, hmf_TC2400)\n",
    "nc_TC2400.set_eval_limits(cosmo, math.log(1e11), math.log(1e16), 0.0, 2.0)\n",
    "nc_TC2400.prepare(cosmo)\n",
    "\n",
    "nc_TC3200 = Nc.HaloMassFunction.new(dist, psf, hmf_TC3200)\n",
    "nc_TC3200.set_eval_limits(cosmo, math.log(1e11), math.log(1e16), 0.0, 2.0)\n",
    "nc_TC3200.prepare(cosmo)"
   ]
  },
  {
   "cell_type": "markdown",
   "metadata": {},
   "source": [
    "### CCL"
   ]
  },
  {
   "cell_type": "code",
   "execution_count": 24,
   "metadata": {},
   "outputs": [],
   "source": [
    "# CCL\n",
    "\n",
    "# MEAN\n",
    "\n",
    "# Delta200\n",
    "ccl_mdef_TM200 = MassDef(Delta=200, rho_type=\"matter\")\n",
    "ccl_TM200 = ccl.halos.MassFuncTinker08(mass_def=ccl_mdef_TM300)\n",
    "\n",
    "# Delta300\n",
    "ccl_mdef_TM300 = MassDef(Delta=300, rho_type=\"matter\")\n",
    "ccl_TM300 = ccl.halos.MassFuncTinker08(mass_def=ccl_mdef_TM300)\n",
    "\n",
    "# Delta400\n",
    "ccl_mdef_TM400 = MassDef(Delta=400, rho_type=\"matter\")\n",
    "ccl_TM400 = ccl.halos.MassFuncTinker08(mass_def=ccl_mdef_TM400)\n",
    "\n",
    "# Delta600\n",
    "ccl_mdef_TM600 = MassDef(Delta=600, rho_type=\"matter\")\n",
    "ccl_TM600 = ccl.halos.MassFuncTinker08(mass_def=ccl_mdef_TM600)\n",
    "\n",
    "# Delta800\n",
    "ccl_mdef_TM800 = MassDef(Delta=800, rho_type=\"matter\")\n",
    "ccl_TM800 = ccl.halos.MassFuncTinker08(mass_def=ccl_mdef_TM800)\n",
    "\n",
    "# Delta1200\n",
    "ccl_mdef_TM1200 = MassDef(Delta=1200, rho_type=\"matter\")\n",
    "ccl_TM1200 = ccl.halos.MassFuncTinker08(mass_def=ccl_mdef_TM1200)\n",
    "\n",
    "# Delta1600\n",
    "ccl_mdef_TM1600 = MassDef(Delta=1600, rho_type=\"matter\")\n",
    "ccl_TM1600 = ccl.halos.MassFuncTinker08(mass_def=ccl_mdef_TM1600)\n",
    "\n",
    "# Delta2400\n",
    "ccl_mdef_TM2400 = MassDef(Delta=2400, rho_type=\"matter\")\n",
    "ccl_TM2400 = ccl.halos.MassFuncTinker08( mass_def=ccl_mdef_TM2400)\n",
    "\n",
    "# Delta3200\n",
    "ccl_mdef_TM3200 = MassDef(Delta=3200, rho_type=\"matter\")\n",
    "ccl_TM3200 = ccl.halos.MassFuncTinker08(mass_def=ccl_mdef_TM3200)\n",
    "\n",
    "# CRITICAL\n",
    "\n",
    "# Delta200\n",
    "ccl_mdef_TC200 = MassDef(Delta=200, rho_type=\"critical\")\n",
    "ccl_TC200 = ccl.halos.MassFuncTinker08(mass_def=ccl_mdef_TC200)\n",
    "\n",
    "# Delta300\n",
    "ccl_mdef_TC300 = MassDef(Delta=300, rho_type=\"critical\")\n",
    "ccl_TC300 = ccl.halos.MassFuncTinker08(mass_def=ccl_mdef_TC300)\n",
    "\n",
    "# Delta400\n",
    "ccl_mdef_TC400 = MassDef(Delta=400, rho_type=\"critical\")\n",
    "ccl_TC400 = ccl.halos.MassFuncTinker08(mass_def=ccl_mdef_TC400)\n",
    "\n",
    "# Delta600\n",
    "ccl_mdef_TC600 = MassDef(Delta=600, rho_type=\"critical\")\n",
    "ccl_TC600 = ccl.halos.MassFuncTinker08(mass_def=ccl_mdef_TC600)\n",
    "\n",
    "# Delta800\n",
    "ccl_mdef_TC800 = MassDef(Delta=800, rho_type=\"critical\")\n",
    "ccl_TC800 = ccl.halos.MassFuncTinker08(mass_def=ccl_mdef_TC800)\n",
    "\n",
    "# Delta1200\n",
    "ccl_mdef_TC1200 = MassDef(Delta=1200, rho_type=\"critical\")\n",
    "ccl_TC1200 = ccl.halos.MassFuncTinker08(mass_def=ccl_mdef_TC1200)\n",
    "\n",
    "# Delta1600\n",
    "ccl_mdef_TC1600 = MassDef(Delta=1600, rho_type=\"critical\")\n",
    "ccl_TC1600 = ccl.halos.MassFuncTinker08(mass_def=ccl_mdef_TC1600)\n",
    "\n",
    "# Delta2400\n",
    "ccl_mdef_TC2400 = MassDef(Delta=2400, rho_type=\"critical\")\n",
    "ccl_TC2400 = ccl.halos.MassFuncTinker08(mass_def=ccl_mdef_TC2400)\n",
    "\n",
    "# Delta3200\n",
    "ccl_mdef_TC3200 = MassDef(Delta=3200, rho_type=\"critical\")\n",
    "ccl_TC3200 = ccl.halos.MassFuncTinker08(mass_def=ccl_mdef_TC3200)"
   ]
  },
  {
   "cell_type": "code",
   "execution_count": 25,
   "metadata": {},
   "outputs": [],
   "source": [
    "Tinker_CCL_NC = [\n",
    "    (ccl_TM200, nc_TM200, \"200-Mean\"),\n",
    "    (ccl_TM300, nc_TM300, \"300-Mean\"),\n",
    "    (ccl_TM400, nc_TM400, \"400-Mean\"),\n",
    "    (ccl_TM600, nc_TM600, \"600-Mean\"),\n",
    "    (ccl_TM800, nc_TM800, \"800-Mean\"),\n",
    "    (ccl_TM1200, nc_TM1200, \"1200-Mean\"),\n",
    "    (ccl_TM1600, nc_TM1600, \"1600-Mean\"),\n",
    "    (ccl_TM2400, nc_TM2400, \"2400-Mean\"),\n",
    "    (ccl_TM3200, nc_TM3200, \"3200-Mean\"),\n",
    "    (ccl_TC200, nc_TC200, \"200-Critical\"),\n",
    "    (ccl_TC300, nc_TC300, \"300-Critical\"),\n",
    "    (ccl_TC400, nc_TC400, \"400-Critical\"),\n",
    "    (ccl_TC600, nc_TC600, \"600-Critical\"),\n",
    "    (ccl_TC800, nc_TC800, \"800-Critical\"),\n",
    "    (ccl_TC1200, nc_TC1200, \"1200-Critical\"),\n",
    "    (ccl_TC1600, nc_TC1600, \"1600-Critical\"),\n",
    "    (ccl_TC2400, nc_TC2400, \"2400-Critical\"),\n",
    "    (ccl_TC3200, nc_TC3200, \"3200-Critical\"),\n",
    "]"
   ]
  },
  {
   "cell_type": "markdown",
   "metadata": {},
   "source": [
    "<a class=\"anchor\" id=\"6.1\"></a>\n",
    "## 6.1 [Results](#contents)\n",
    "\n",
    "<a class=\"anchor\" id=\"6.1.1\"></a>\n",
    "### 6.1.1 [Plot of mass function and relative error, between CCL and NumCosmo, for z=0:](#contents)\n"
   ]
  },
  {
   "cell_type": "code",
   "execution_count": 26,
   "metadata": {},
   "outputs": [
    {
     "ename": "AttributeError",
     "evalue": "'MassFuncTinker08' object has no attribute 'get_mass_function'",
     "output_type": "error",
     "traceback": [
      "\u001b[0;31m---------------------------------------------------------------------------\u001b[0m",
      "\u001b[0;31mAttributeError\u001b[0m                            Traceback (most recent call last)",
      "Cell \u001b[0;32mIn[26], line 10\u001b[0m\n\u001b[1;32m      7\u001b[0m \u001b[38;5;66;03m# CCL\u001b[39;00m\n\u001b[1;32m      8\u001b[0m \u001b[38;5;28;01mfor\u001b[39;00m ccl_mfobj, nc_mfobj, mfobj_name \u001b[38;5;129;01min\u001b[39;00m Tinker_CCL_NC[:\u001b[38;5;241m-\u001b[39m\u001b[38;5;241m4\u001b[39m]:\n\u001b[1;32m      9\u001b[0m     \u001b[38;5;66;03m# print(mfobj_name, ccl_mfobj, nc_mfobj,ccl_mfobj._get_Delta_m(cosmo_ccl, a))\u001b[39;00m\n\u001b[0;32m---> 10\u001b[0m     ccl_tmf0 \u001b[38;5;241m=\u001b[39m \u001b[43mccl_mfobj\u001b[49m\u001b[38;5;241;43m.\u001b[39;49m\u001b[43mget_mass_function\u001b[49m(cosmo_ccl, m_arr, a)\n\u001b[1;32m     11\u001b[0m     ccl_tnm0 \u001b[38;5;241m=\u001b[39m m_arr \u001b[38;5;241m*\u001b[39m ccl_tmf0\n\u001b[1;32m     13\u001b[0m     axs[\u001b[38;5;241m0\u001b[39m]\u001b[38;5;241m.\u001b[39mplot(m_arr, ccl_tnm0, label\u001b[38;5;241m=\u001b[39mmfobj_name)\n",
      "\u001b[0;31mAttributeError\u001b[0m: 'MassFuncTinker08' object has no attribute 'get_mass_function'"
     ]
    },
    {
     "data": {
      "text/plain": [
       "<Figure size 640x480 with 0 Axes>"
      ]
     },
     "metadata": {},
     "output_type": "display_data"
    },
    {
     "data": {
      "image/png": "[encoded data removed]",
      "text/plain": [
       "<Figure size 1400x700 with 2 Axes>"
      ]
     },
     "metadata": {},
     "output_type": "display_data"
    }
   ],
   "source": [
    "plt.figure()\n",
    "fig, axs = plt.subplots(2, sharex=True, gridspec_kw={\"hspace\": 0}, figsize=(14, 7))\n",
    "\n",
    "z = 0.0\n",
    "a = 1.0 / (1.0 + z)\n",
    "\n",
    "# CCL\n",
    "for ccl_mfobj, nc_mfobj, mfobj_name in Tinker_CCL_NC[:-4]:\n",
    "    # print(mfobj_name, ccl_mfobj, nc_mfobj,ccl_mfobj._get_Delta_m(cosmo_ccl, a))\n",
    "    ccl_tmf0 = ccl_mfobj.get_mass_function(cosmo_ccl, m_arr, a)\n",
    "    ccl_tnm0 = m_arr * ccl_tmf0\n",
    "\n",
    "    axs[0].plot(m_arr, ccl_tnm0, label=mfobj_name)\n",
    "\n",
    "    # NumCosmo\n",
    "    nc_tmf0 = [\n",
    "        nc_mfobj.dn_dlnM(cosmo, logm, z) * math.log(10.0) for logm in np.log(m_arr)\n",
    "    ]\n",
    "    nc_tnm0 = m_arr * nc_tmf0\n",
    "\n",
    "    axs[1].plot(m_arr, np.abs(ccl_tnm0 / nc_tnm0 - 1.0), \"-\", label=mfobj_name)\n",
    "\n",
    "# Plot settings\n",
    "\n",
    "axs[0].set_xscale(\"log\")\n",
    "axs[0].set_yscale(\"log\")\n",
    "# axs[0].ylim([1.0E9,8.5E9])\n",
    "axs[1].set_yscale(\"log\")\n",
    "axs[1].set_xlabel(r\"$M/M_\\odot$\", fontsize=14)\n",
    "axs[0].set_ylabel(\n",
    "    r\"$M\\,\\frac{dn}{d\\log_{10}M}\\,[M_\\odot\\,{\\rm Mpc}^{-3}]$\", fontsize=14\n",
    ")\n",
    "axs[1].set_ylabel(\n",
    "    r\"$\\frac{dn}{d\\log_{10}M}_{\\mathrm{ccl}} () / \\frac{dn}{d\\log_{10}M}_{\\mathrm{nc}} - 1$\"\n",
    ")\n",
    "axs[0].legend(loc=\"best\")\n",
    "\n",
    "axs[1].legend(loc=\"best\")\n",
    "axs[1].grid()\n",
    "\n",
    "plt.title(\"Tinker08\")\n",
    "plt.show()"
   ]
  },
  {
   "cell_type": "markdown",
   "metadata": {},
   "source": [
    "<a class=\"anchor\" id=\"6.1.2\"></a>\n",
    "### 6.1.1 [Plot of mass function and relative error, between CCL and NumCosmo, for z=1:](#contents)\n"
   ]
  },
  {
   "cell_type": "code",
   "execution_count": 27,
   "metadata": {},
   "outputs": [
    {
     "ename": "AttributeError",
     "evalue": "'MassFuncTinker08' object has no attribute 'get_mass_function'",
     "output_type": "error",
     "traceback": [
      "\u001b[0;31m---------------------------------------------------------------------------\u001b[0m",
      "\u001b[0;31mAttributeError\u001b[0m                            Traceback (most recent call last)",
      "Cell \u001b[0;32mIn[27], line 10\u001b[0m\n\u001b[1;32m      7\u001b[0m \u001b[38;5;66;03m# CCL\u001b[39;00m\n\u001b[1;32m      8\u001b[0m \u001b[38;5;28;01mfor\u001b[39;00m ccl_mfobj, nc_mfobj, mfobj_name \u001b[38;5;129;01min\u001b[39;00m Tinker_CCL_NC[:\u001b[38;5;241m-\u001b[39m\u001b[38;5;241m1\u001b[39m]:\n\u001b[1;32m      9\u001b[0m     \u001b[38;5;66;03m# print(mfobj_name, ccl_mfobj, nc_mfobj,ccl_mfobj._get_Delta_m(cosmo_ccl, a))\u001b[39;00m\n\u001b[0;32m---> 10\u001b[0m     ccl_tmf1 \u001b[38;5;241m=\u001b[39m \u001b[43mccl_mfobj\u001b[49m\u001b[38;5;241;43m.\u001b[39;49m\u001b[43mget_mass_function\u001b[49m(cosmo_ccl, m_arr, a)\n\u001b[1;32m     11\u001b[0m     ccl_tnm1 \u001b[38;5;241m=\u001b[39m m_arr \u001b[38;5;241m*\u001b[39m ccl_tmf1\n\u001b[1;32m     13\u001b[0m     axs[\u001b[38;5;241m0\u001b[39m]\u001b[38;5;241m.\u001b[39mplot(m_arr, ccl_tnm1, label\u001b[38;5;241m=\u001b[39mmfobj_name)\n",
      "\u001b[0;31mAttributeError\u001b[0m: 'MassFuncTinker08' object has no attribute 'get_mass_function'"
     ]
    },
    {
     "data": {
      "text/plain": [
       "<Figure size 640x480 with 0 Axes>"
      ]
     },
     "metadata": {},
     "output_type": "display_data"
    },
    {
     "data": {
      "image/png": "[encoded data removed]",
      "text/plain": [
       "<Figure size 1400x700 with 2 Axes>"
      ]
     },
     "metadata": {},
     "output_type": "display_data"
    }
   ],
   "source": [
    "plt.figure()\n",
    "fig, axs = plt.subplots(2, sharex=True, gridspec_kw={\"hspace\": 0}, figsize=(14, 7))\n",
    "\n",
    "z = 1.0\n",
    "a = 1.0 / (1.0 + z)\n",
    "\n",
    "# CCL\n",
    "for ccl_mfobj, nc_mfobj, mfobj_name in Tinker_CCL_NC[:-1]:\n",
    "    # print(mfobj_name, ccl_mfobj, nc_mfobj,ccl_mfobj._get_Delta_m(cosmo_ccl, a))\n",
    "    ccl_tmf1 = ccl_mfobj.get_mass_function(cosmo_ccl, m_arr, a)\n",
    "    ccl_tnm1 = m_arr * ccl_tmf1\n",
    "\n",
    "    axs[0].plot(m_arr, ccl_tnm1, label=mfobj_name)\n",
    "\n",
    "    # NumCosmo\n",
    "    nc_tmf1 = [\n",
    "        nc_mfobj.dn_dlnM(cosmo, logm, z) * math.log(10.0) for logm in np.log(m_arr)\n",
    "    ]\n",
    "    nc_tnm1 = m_arr * nc_tmf1\n",
    "\n",
    "    axs[1].plot(m_arr, np.abs(ccl_tnm1 / nc_tnm1 - 1.0), \"-\", label=mfobj_name)\n",
    "\n",
    "# Plot settings\n",
    "\n",
    "axs[0].set_xscale(\"log\")\n",
    "axs[0].set_yscale(\"log\")\n",
    "# axs[0].ylim([1.0E9,8.5E9])\n",
    "axs[1].set_yscale(\"log\")\n",
    "axs[1].set_xlabel(r\"$M/M_\\odot$\", fontsize=14)\n",
    "axs[0].set_ylabel(\n",
    "    r\"$M\\,\\frac{dn}{d\\log_{10}M}\\,[M_\\odot\\,{\\rm Mpc}^{-3}]$\", fontsize=14\n",
    ")\n",
    "axs[1].set_ylabel(\n",
    "    r\"$\\frac{dn}{d\\log_{10}M}_{\\mathrm{ccl}} () / \\frac{dn}{d\\log_{10}M}_{\\mathrm{nc}} - 1$\"\n",
    ")\n",
    "axs[0].legend(loc=\"best\")\n",
    "\n",
    "axs[1].legend(loc=\"best\")\n",
    "axs[1].grid()\n",
    "\n",
    "plt.title(\"Tinker08\")\n",
    "plt.show()"
   ]
  },
  {
   "cell_type": "markdown",
   "metadata": {},
   "source": [
    "<a class=\"anchor\" id=\"6.1.3\"></a>\n",
    "### 6.1.1 [Plot of mass function and relative error, between CCL and NumCosmo, for z=2:](#contents)\n"
   ]
  },
  {
   "cell_type": "code",
   "execution_count": 28,
   "metadata": {},
   "outputs": [
    {
     "ename": "AttributeError",
     "evalue": "'MassFuncTinker08' object has no attribute 'get_mass_function'",
     "output_type": "error",
     "traceback": [
      "\u001b[0;31m---------------------------------------------------------------------------\u001b[0m",
      "\u001b[0;31mAttributeError\u001b[0m                            Traceback (most recent call last)",
      "Cell \u001b[0;32mIn[28], line 10\u001b[0m\n\u001b[1;32m      7\u001b[0m \u001b[38;5;66;03m# CCL\u001b[39;00m\n\u001b[1;32m      8\u001b[0m \u001b[38;5;28;01mfor\u001b[39;00m ccl_mfobj, nc_mfobj, mfobj_name \u001b[38;5;129;01min\u001b[39;00m Tinker_CCL_NC[:\u001b[38;5;241m-\u001b[39m\u001b[38;5;241m1\u001b[39m]:\n\u001b[1;32m      9\u001b[0m     \u001b[38;5;66;03m# print(mfobj_name, ccl_mfobj, nc_mfobj,ccl_mfobj._get_Delta_m(cosmo_ccl, a))\u001b[39;00m\n\u001b[0;32m---> 10\u001b[0m     ccl_tmf1 \u001b[38;5;241m=\u001b[39m \u001b[43mccl_mfobj\u001b[49m\u001b[38;5;241;43m.\u001b[39;49m\u001b[43mget_mass_function\u001b[49m(cosmo_ccl, m_arr, a)\n\u001b[1;32m     11\u001b[0m     ccl_tnm1 \u001b[38;5;241m=\u001b[39m m_arr \u001b[38;5;241m*\u001b[39m ccl_tmf1\n\u001b[1;32m     13\u001b[0m     axs[\u001b[38;5;241m0\u001b[39m]\u001b[38;5;241m.\u001b[39mplot(m_arr, ccl_tnm1, label\u001b[38;5;241m=\u001b[39mmfobj_name)\n",
      "\u001b[0;31mAttributeError\u001b[0m: 'MassFuncTinker08' object has no attribute 'get_mass_function'"
     ]
    },
    {
     "data": {
      "text/plain": [
       "<Figure size 640x480 with 0 Axes>"
      ]
     },
     "metadata": {},
     "output_type": "display_data"
    },
    {
     "data": {
      "image/png": "[encoded data removed]",
      "text/plain": [
       "<Figure size 1400x700 with 2 Axes>"
      ]
     },
     "metadata": {},
     "output_type": "display_data"
    }
   ],
   "source": [
    "plt.figure()\n",
    "fig, axs = plt.subplots(2, sharex=True, gridspec_kw={\"hspace\": 0}, figsize=(14, 7))\n",
    "\n",
    "z = 2.0\n",
    "a = 1.0 / (1.0 + z)\n",
    "\n",
    "# CCL\n",
    "for ccl_mfobj, nc_mfobj, mfobj_name in Tinker_CCL_NC[:-1]:\n",
    "    # print(mfobj_name, ccl_mfobj, nc_mfobj,ccl_mfobj._get_Delta_m(cosmo_ccl, a))\n",
    "    ccl_tmf1 = ccl_mfobj.get_mass_function(cosmo_ccl, m_arr, a)\n",
    "    ccl_tnm1 = m_arr * ccl_tmf1\n",
    "\n",
    "    axs[0].plot(m_arr, ccl_tnm1, label=mfobj_name)\n",
    "\n",
    "    # NumCosmo\n",
    "    nc_tmf1 = [\n",
    "        nc_mfobj.dn_dlnM(cosmo, logm, z) * math.log(10.0) for logm in np.log(m_arr)\n",
    "    ]\n",
    "    nc_tnm1 = m_arr * nc_tmf1\n",
    "\n",
    "    axs[1].plot(m_arr, np.abs(ccl_tnm1 / nc_tnm1 - 1.0), \"-\", label=mfobj_name)\n",
    "\n",
    "# Plot settings\n",
    "\n",
    "axs[0].set_xscale(\"log\")\n",
    "axs[0].set_yscale(\"log\")\n",
    "# axs[0].ylim([1.0E9,8.5E9])\n",
    "axs[1].set_yscale(\"log\")\n",
    "axs[1].set_xlabel(r\"$M/M_\\odot$\", fontsize=14)\n",
    "axs[0].set_ylabel(\n",
    "    r\"$M\\,\\frac{dn}{d\\log_{10}M}\\,[M_\\odot\\,{\\rm Mpc}^{-3}]$\", fontsize=14\n",
    ")\n",
    "axs[1].set_ylabel(\n",
    "    r\"$\\frac{dn}{d\\log_{10}M}_{\\mathrm{ccl}} () / \\frac{dn}{d\\log_{10}M}_{\\mathrm{nc}} - 1$\"\n",
    ")\n",
    "axs[0].legend(loc=\"best\")\n",
    "\n",
    "axs[1].legend(loc=\"best\")\n",
    "axs[1].grid()\n",
    "\n",
    "plt.title(\"Tinker08\")\n",
    "plt.show()"
   ]
  },
  {
   "cell_type": "code",
   "execution_count": null,
   "metadata": {},
   "outputs": [],
   "source": []
  }
 ],
 "metadata": {
  "kernelspec": {
   "display_name": "Python 3 (ipykernel)",
   "language": "python",
   "name": "python3"
  },
  "language_info": {
   "codemirror_mode": {
    "name": "ipython",
    "version": 3
   },
   "file_extension": ".py",
   "mimetype": "text/x-python",
   "name": "python",
   "nbconvert_exporter": "python",
   "pygments_lexer": "ipython3",
   "version": "3.12.3"
  }
 },
 "nbformat": 4,
 "nbformat_minor": 4
}
