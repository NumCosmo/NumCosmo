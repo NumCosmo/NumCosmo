{
 "cells": [
  {
   "cell_type": "code",
   "execution_count": null,
   "id": "regulated-ballet",
   "metadata": {},
   "outputs": [],
   "source": [
    "# For NumCosmo\n",
    "import os\n",
    "import sys\n",
    "import gi\n",
    "\n",
    "gi.require_version('NumCosmo', '1.0')\n",
    "gi.require_version('NumCosmoMath', '1.0')\n",
    "from gi.repository import GObject\n",
    "from gi.repository import NumCosmo as Nc\n",
    "from gi.repository import NumCosmoMath as Ncm\n",
    "\n",
    "from scipy.stats import chi2\n",
    "\n",
    "import numpy as np\n",
    "import matplotlib.pyplot as plt\n",
    "from matplotlib.animation import FuncAnimation\n",
    "from IPython.display import HTML\n",
    "\n",
    "import numpy as np\n",
    "import math\n",
    "# The corner package is needed to view the results of the MCMC analysis\n",
    "import corner\n",
    "\n"
   ]
  },
  {
   "cell_type": "code",
   "execution_count": null,
   "id": "comparative-matthew",
   "metadata": {},
   "outputs": [],
   "source": [
    "os.environ['CLMM_MODELING_BACKEND'] = 'nc'\n",
    "\n",
    "__name__ = \"NcContext\"\n",
    "\n",
    "Ncm.cfg_init ()\n",
    "Ncm.cfg_set_log_handler (lambda msg: sys.stdout.write (msg) and sys.stdout.flush ())"
   ]
  },
  {
   "cell_type": "code",
   "execution_count": null,
   "id": "charged-therapy",
   "metadata": {},
   "outputs": [],
   "source": [
    "nwalkers = 320\n",
    "burnin   = 5000\n",
    "\n",
    "mcat  = Ncm.MSetCatalog.new_from_file_ro (\"../examples/example_rosenbrock_aps_st_320.fits\",     nwalkers * burnin)\n",
    "mcat2 = Ncm.MSetCatalog.new_from_file_ro (\"../examples/example_rosenbrock_stretch_st_320.fits\", nwalkers * burnin)\n"
   ]
  },
  {
   "cell_type": "code",
   "execution_count": null,
   "id": "understanding-saturn",
   "metadata": {},
   "outputs": [],
   "source": [
    "s1d1 = chi2.cdf (1.0, df = 1)\n",
    "s1d2 = chi2.cdf (4.0, df = 1)\n",
    "s2d1 = chi2.cdf (1.0, df = 1)\n",
    "s2d2 = chi2.cdf (4.0, df = 1)\n",
    "s2d3 = chi2.cdf (9.0, df = 1)\n",
    "qts = [0.5 - s1d2 / 2.0, 0.5 - s1d1 / 2.0, 0.5, 0.5 + s1d1 / 2.0, 0.5 + s1d2 / 2.0]\n",
    "\n",
    "print (qts)\n",
    "print (s2d1, s2d2, s2d3)\n"
   ]
  },
  {
   "cell_type": "code",
   "execution_count": null,
   "id": "proof-member",
   "metadata": {},
   "outputs": [],
   "source": [
    "rows = np.array ([mcat.peek_row (i).dup_array () for i in range (0, mcat.len ())])\n",
    "params = [\"$\" + mcat.col_symb (i) + \"$\" for i in range (mcat.ncols ())]\n",
    "figure = corner.corner (rows[:,1:], labels = params[1:], reverse = False,\n",
    "                        quantiles=qts, levels = (s2d1, s2d2, s2d3), \n",
    "                        bins = 120, smooth = 0.8, smooth1d = 0.8, color = \"red\",\n",
    "                        range = [(-10, 14), (-10, 150)])\n",
    "\n",
    "rows2 = np.array ([mcat2.peek_row (i).dup_array () for i in range (0, mcat2.len ())])\n",
    "params = [\"$\" + mcat2.col_symb (i) + \"$\" for i in range (mcat2.ncols ())]\n",
    "figure = corner.corner (rows2[:,1:], labels = params[1:], reverse = False,\n",
    "                        levels = (s2d1, s2d2, s2d3), color = \"blue\",\n",
    "                        bins = 120, smooth = 0.8, smooth1d = 0.8, fig = figure)\n",
    "\n",
    "figure.set_size_inches(16, 10)\n"
   ]
  },
  {
   "cell_type": "code",
   "execution_count": null,
   "id": "caroline-circulation",
   "metadata": {},
   "outputs": [],
   "source": [
    "fig, ax = plt.subplots(figsize=(14, 8))\n",
    "ax.set(xlim=(-10, 14), ylim=(-10, 150))\n",
    "\n",
    "scat = ax.scatter(rows[0:nwalkers,1], rows[0:nwalkers,2], s = 4, c = \"red\")\n",
    "scat2 = ax.scatter(rows2[0:nwalkers,1], rows[0:nwalkers,2], s = 4, c = \"blue\")\n",
    "\n",
    "nframes = 600\n",
    "b = np.unique (np.floor (np.linspace (0, rows.shape[0]/nwalkers, nframes)).astype(int))\n",
    "nframes = len (b)\n",
    "\n",
    "def animate(i):    \n",
    "    x_i = rows[nwalkers * b[i] : nwalkers * b[i + 1], 1]\n",
    "    y_i = rows[nwalkers * b[i] : nwalkers * b[i + 1], 2]\n",
    "    x2_i = rows2[nwalkers * b[i] : nwalkers * b[i + 1], 1]\n",
    "    y2_i = rows2[nwalkers * b[i] : nwalkers * b[i + 1], 2]\n",
    "    scat.set_offsets(np.c_[x_i, y_i])\n",
    "    scat2.set_offsets(np.c_[x2_i, y2_i])\n",
    "\n",
    "anim = FuncAnimation (fig, animate, interval=50, frames=nframes-1)\n",
    " \n",
    "#plt.draw()\n",
    "#plt.show()\n",
    "\n",
    "HTML (anim.to_html5_video ())"
   ]
  },
  {
   "cell_type": "code",
   "execution_count": null,
   "id": "popular-produce",
   "metadata": {},
   "outputs": [],
   "source": [
    "n = min (int(rows.shape[0]/nwalkers), int(rows2.shape[0]/nwalkers))\n",
    "sv = Ncm.StatsVec.new (1, Ncm.StatsVecType.VAR, False)\n",
    "\n",
    "tevar = []\n",
    "tevar_var = []\n",
    "for i in range (n-1):\n",
    "    for w in range (nwalkers):\n",
    "        sv.set (0, rows[i*nwalkers + w, 2])\n",
    "        sv.update_weight (1.0)\n",
    "    tevar.append (sv.get_mean (0))\n",
    "\n",
    "\n",
    "    \n",
    "    \n",
    "sv.reset (True)\n",
    "    \n",
    "tevar2 = []\n",
    "tevar_var2 = []\n",
    "for i in range (n-1):\n",
    "    for w in range (nwalkers):\n",
    "        sv.set (0, rows2[i*nwalkers + w, 2])\n",
    "        sv.update_weight (1.0)\n",
    "    tevar2.append (sv.get_mean (0))\n",
    "\n",
    "for i in range (0,20000):\n",
    "    tevar_var.append(mcat.peek_e_var_t(i).dup_array()[0])\n",
    "    tevar_var2.append(mcat2.peek_e_var_t(i).dup_array()[0])\n",
    "    \n",
    "tevar_var_mean = [np.mean(tevar_var[0:(i+1)]) for i in range(len(tevar_var)-1)]\n",
    "\n",
    "tevar_var_mean2 = [np.mean(tevar_var2[0:(i+1)]) for i in range(len(tevar_var2)-1)]"
   ]
  },
  {
   "cell_type": "code",
   "execution_count": null,
   "id": "valued-abraham",
   "metadata": {},
   "outputs": [],
   "source": [
    "plt.figure (dpi = 160)\n",
    "plt.plot (tevar,  c = 'red',  lw = 0.5)\n",
    "plt.plot (tevar2, c = 'blue', lw = 0.5)\n",
    "plt.grid ()\n",
    "#plt.ylim (3.8, 4.2)"
   ]
  },
  {
   "cell_type": "code",
   "execution_count": null,
   "id": "wired-carbon",
   "metadata": {},
   "outputs": [],
   "source": [
    "plt.figure (dpi = 160)\n",
    "plt.ylabel(\"$\\sigma^2$\")\n",
    "plt.xlabel(\"Time\")\n",
    "plt.plot (tevar_var_mean,  c = 'red',  lw = 0.5, label='APES')\n",
    "plt.plot (tevar_var_mean2, c = 'blue', lw = 0.5, label='Stretch')\n",
    "plt.legend(loc=\"lower right\")\n",
    "plt.grid ()\n",
    "#plt.ylim (3.8, 4.2)\n"
   ]
  },
  {
   "cell_type": "code",
   "execution_count": null,
   "id": "political-stroke",
   "metadata": {},
   "outputs": [],
   "source": [
    "print(tevar_var_mean[-1], tevar_var_mean2[-1])"
   ]
  },
  {
   "cell_type": "code",
   "execution_count": null,
   "id": "varied-treasurer",
   "metadata": {},
   "outputs": [],
   "source": []
  }
 ],
 "metadata": {
  "kernelspec": {
   "display_name": "Python 3",
   "language": "python",
   "name": "python3"
  },
  "language_info": {
   "codemirror_mode": {
    "name": "ipython",
    "version": 3
   },
   "file_extension": ".py",
   "mimetype": "text/x-python",
   "name": "python",
   "nbconvert_exporter": "python",
   "pygments_lexer": "ipython3"
  }
 },
 "nbformat": 4,
 "nbformat_minor": 5
}
