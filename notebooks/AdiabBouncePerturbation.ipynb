{
 "cells": [
  {
   "cell_type": "code",
   "execution_count": 1,
   "id": "6fb17153",
   "metadata": {},
   "outputs": [],
   "source": [
    "from sympy import *\n",
    "import numpy as np\n",
    "import math"
   ]
  },
  {
   "cell_type": "markdown",
   "id": "20641590",
   "metadata": {},
   "source": [
    "Checking Some Derivatives"
   ]
  },
  {
   "cell_type": "code",
   "execution_count": 2,
   "id": "b346c34e",
   "metadata": {},
   "outputs": [],
   "source": [
    "try:\n",
    "  import gi\n",
    "  gi.require_version('NumCosmo', '1.0')\n",
    "  gi.require_version('NumCosmoMath', '1.0')\n",
    "except:\n",
    "  pass\n",
    "\n",
    "import sys\n",
    "import math\n",
    "import matplotlib as mpl\n",
    "import matplotlib.pyplot as plt\n",
    "import numpy as np\n",
    "\n",
    "from gi.repository import NumCosmo as Nc\n",
    "from gi.repository import NumCosmoMath as Ncm\n",
    "%matplotlib inline"
   ]
  },
  {
   "cell_type": "code",
   "execution_count": 3,
   "id": "89cea4aa",
   "metadata": {},
   "outputs": [],
   "source": [
    "__name__ = \"NcContext\"\n",
    "\n",
    "Ncm.cfg_init ()\n",
    "Ncm.cfg_set_log_handler (lambda msg: sys.stdout.write (msg) and sys.stdout.flush ())"
   ]
  },
  {
   "cell_type": "code",
   "execution_count": 4,
   "id": "31d58f76",
   "metadata": {},
   "outputs": [],
   "source": [
    "xb, z, Omega, w = symbols ('xb z Omega w', real=True, nonzero=True)\n"
   ]
  },
  {
   "cell_type": "code",
   "execution_count": 5,
   "id": "66a98c45",
   "metadata": {},
   "outputs": [
    {
     "name": "stdout",
     "output_type": "stream",
     "text": [
      "-Omega*((z + 1)/xb)**(3 - 3*w)*(3 - 3*w)*(z + 1)**(3*w + 3)/(z + 1) + Omega*(1 - ((z + 1)/xb)**(3 - 3*w))*(3*w + 3)*(z + 1)**(3*w + 3)/(z + 1)\n"
     ]
    }
   ],
   "source": [
    "x = diff ((Omega * (1+z)**(3 * (1 + w)) * (1 -((1+z) / xb)**(3 * (1 - w)))), z,1)\n",
    "print(x)\n",
    "\n"
   ]
  },
  {
   "cell_type": "code",
   "execution_count": 6,
   "id": "505d9292",
   "metadata": {},
   "outputs": [],
   "source": [
    "xb = 1.0*10**25\n",
    "w = 0.33\n",
    "Omega = 1\n",
    "l = -43\n",
    "z = 2.0"
   ]
  },
  {
   "cell_type": "code",
   "execution_count": 7,
   "id": "f4d2d5a9",
   "metadata": {},
   "outputs": [
    {
     "name": "stdout",
     "output_type": "stream",
     "text": [
      "3.0770466144546744e-07 2.404097794717623e-13\n"
     ]
    }
   ],
   "source": [
    "N = 1 / (Omega * (xb * math.exp(-abs(l)))**(3 * (1 + w)) * (1 -(math.exp(-abs(l)))**(3 * (1 - w))))**(1/2)\n",
    "dndtau = ((xb*math.exp(-abs(l)))**(-3*w - 3)*(0.5*Omega*(xb*math.exp(-abs(l)))**(3*w + 3)*(1 - math.exp(-(3 - 3*w)*abs(l)))*(3*w + 3)*l+ 0.5*Omega*(xb*math.exp(-abs(l)))**(3*w + 3)*(3*w - 3)*math.exp(-(3 - 3*w)*abs(l))*l))/(Omega*(Omega*(xb*math.exp(-abs(l)))**(3*w + 3)*(1 - math.exp(-(3 - 3*w)*abs(l))))**0.5*(1 - math.exp(-(3 - 3*w)*abs(l))))\n",
    "num = (xb*math.exp(-abs(l)))**(-3*w - 3)*(0.5*Omega*(xb*math.exp(-abs(l)))**(3*w + 3)*(1 - math.exp(-(3 - 3*w)*abs(l)))*(3*w + 3)*l+ 0.5*Omega*(xb*math.exp(-abs(l)))**(3*w + 3)*(3*w - 3)*math.exp(-(3 - 3*w)*abs(l))*l)\n",
    "dndtau2 = (2.25*(xb*math.exp(-abs(l)))**(-6*w - 6)*(xb*math.exp(-abs(l)))**(6*w + 6)*((w - 1)*math.exp(3*(w - 1)*abs(l)) - (w + 1)*(math.exp(3*(w - 1)*abs(l)) - 1))**2/(math.exp(3*(w - 1)*abs(l)) - 1) + 4.5*(xb*math.exp(-abs(l)))**(-3*w - 3)*(xb*math.exp(-abs(l)))**(3*w + 3)*(w - 1)*((w - 1)*math.exp(3*(w - 1)*abs(l)) - (w + 1)*(math.exp(3*(w - 1)*abs(l)) - 1))*math.exp(3*(w - 1)*abs(l))/(math.exp(3*(w - 1)*abs(l)) - 1) - 4.5*(xb*math.exp(-abs(l)))**(-3*w - 3)*(xb*math.exp(-abs(l)))**(3*w + 3)*(w + 1)*((w - 1)*math.exp(3*(w - 1)*abs(l)) - (w + 1)*(math.exp(3*(w - 1)*abs(l)) - 1)) - (xb*math.exp(-abs(l)))**(-3*w - 3)*(xb*math.exp(-abs(l)))**(3*w + 3)*(4.5*(w - 1)**2*math.exp(3*(w - 1)*abs(l)) - 9.0*(w - 1)*(w + 1)*math.exp(3*(w - 1)*abs(l)) + 4.5*(w + 1)**2*(math.exp(3*(w - 1)*abs(l)) - 1)))/((-Omega*(xb*math.exp(-abs(l)))**(3*w + 3)*(math.exp(3*(w - 1)*abs(l)) - 1))**0.5*(math.exp(3*(w - 1)*abs(l)) - 1))\n",
    "x = xb * math.exp(- abs(l))\n",
    "print(0.7 / (N * x**3), N)"
   ]
  },
  {
   "cell_type": "code",
   "execution_count": 8,
   "id": "aed07b99",
   "metadata": {},
   "outputs": [
    {
     "name": "stdout",
     "output_type": "stream",
     "text": [
      "80.11499433794584 106.19776599456976 106.552942469468\n",
      "80.11499433794584\n"
     ]
    }
   ],
   "source": [
    "E2 = (Omega * (1+z)**(3 * (1 + w)) * (1 -((1+z) / xb)**(3 * (1 - w))))\n",
    "d2E2dz2 = 3*Omega*(z + 1)**(3*w + 3)*(6*((z + 1)/xb)**(3 - 3*w)*(w - 1)*(w + 1) - ((z + 1)/xb)**(3 - 3*w)*(w - 1)*(3*w - 2) + (1 - ((z + 1)/xb)**(3 - 3*w))*(w + 1)*(3*w + 2))/(z + 1)**2\n",
    "dE2dz = -Omega*((z + 1)/xb)**(3 - 3*w)*(3 - 3*w)*(z + 1)**(3*w + 3)/(z + 1) + Omega*(1 - ((z + 1)/xb)**(3 - 3*w))*(3*w + 3)*(z + 1)**(3*w + 3)/(z + 1)\n",
    "print(E2, d2E2dz2, dE2dz)\n",
    "cosmo1 = Nc.HICosmo.new_from_name(Nc.HICosmo, \"NcHICosmoSFB\")\n",
    "\n",
    "\n"
   ]
  },
  {
   "cell_type": "code",
   "execution_count": 9,
   "id": "70d066d5",
   "metadata": {},
   "outputs": [
    {
     "name": "stdout",
     "output_type": "stream",
     "text": [
      "-1.03334185323554e+51 -1.02645290754731e+51 2.13559077129653e+102\n"
     ]
    }
   ],
   "source": [
    "lnX_B = log (1.0e25);\n",
    "x = z + 1.0;\n",
    "lnx = log(x);\n",
    "w = 0.33;\n",
    "x_3_1pw = pow (x, 3.0 * (1.0 + w));\n",
    "x_2_p3w = pow (x, 2.0 + 3.0 * w);\n",
    "x_1_p3w = pow (x, 1.0 + 3.0 * w);\n",
    "Omega_w = 1;\n",
    "e_3t_1mw = (exp (-3.0 *(1.0 - w) * (lnx - lnX_B)) - 1.0);\n",
    "E2 = Omega_w *x_3_1pw * e_3t_1mw;\n",
    "E = sqrt(E2);\n",
    "e_3t1w = exp (-3.0 *(1.0 - w) * (lnx - lnX_B));\n",
    "dEdz = Omega_w * x_2_p3w * (3.0 * (1.0 + w) - 6.0 * w * e_3t1w);\n",
    "dEdz2 = Omega_w * x_1_p3w * (3.0 * (1.0 + w) * (3.0 * w + 2.0) - 6.0 * w * (6.0 * w + 1.0) * e_3t1w);\n",
    "result = 2.0 * dEdz * dEdz + 2.0 * E * dEdz2\n",
    "print(dEdz, dEdz2, result)"
   ]
  },
  {
   "cell_type": "code",
   "execution_count": null,
   "id": "1a7ee252",
   "metadata": {},
   "outputs": [],
   "source": []
  },
  {
   "cell_type": "code",
   "execution_count": 10,
   "id": "cd66c9c4",
   "metadata": {},
   "outputs": [],
   "source": [
    "lp_RH= 1.0 / (Ncm.C.hubble_radius_hm1_planck () / 0.7)"
   ]
  },
  {
   "cell_type": "code",
   "execution_count": 11,
   "id": "6b040631",
   "metadata": {},
   "outputs": [
    {
     "name": "stdout",
     "output_type": "stream",
     "text": [
      "True, 37.01764822306717\n",
      "True, -54.865466933188785\n"
     ]
    }
   ],
   "source": [
    "cosmo = Nc.HICosmo.new_from_name(Nc.HICosmo, \"NcHICosmoSFB\")\n",
    "csq1d = Nc.HIPertAdiab.new ()\n",
    "\n",
    "ki    = 1.0e1\n",
    "kf    = 1.0e9\n",
    "k_a   = np.geomspace (ki, kf, 5)\n",
    "csq1d.set_k (kf)\n",
    "(Found2, etafa) = csq1d.find_adiab_time_limit (cosmo, t0=20.0, t1=100.0, reltol=1.0e1)\n",
    "\n",
    "print (f\"{Found2}, {etafa}\")\n",
    "\n",
    "csq1d.set_k (ki)\n",
    "(Found1, etaia) = csq1d.find_adiab_time_limit (cosmo, t0=-100.0, t1=20.0, reltol=1.0e1)\n",
    "\n",
    "print (f\"{Found1}, {etaia}\")\n"
   ]
  },
  {
   "cell_type": "code",
   "execution_count": 12,
   "id": "d4858fa8",
   "metadata": {},
   "outputs": [
    {
     "data": {
      "image/png": "[encoded data removed]",
      "text/plain": [
       "<Figure size 720x480 with 1 Axes>"
      ]
     },
     "metadata": {
      "needs_background": "light"
     },
     "output_type": "display_data"
    }
   ],
   "source": [
    "fig = plt.figure (dpi = 120)\n",
    "max_etaf = 200.0\n",
    "min_etai = -200.0\n",
    "\n",
    "for k in k_a:\n",
    "  csq1d.set_k (k)\n",
    "  csq1d.set_reltol (1.0e-5)\n",
    "\n",
    "  (Found1, etai)  = csq1d.find_adiab_time_limit (cosmo, -100.0, 20.0, 1.0e-5)\n",
    "  (Found2, etafa) = csq1d.find_adiab_time_limit (cosmo, -100.0, 100.0, 1.0e-1)\n",
    "  etaf = etafa * 10\n",
    "  csq1d.set_ti (etai)\n",
    "  csq1d.set_init_cond_adiab (cosmo, etai)\n",
    "  csq1d.prepare(cosmo)\n",
    "  min_etai = min (etai, min_etai)\n",
    "  max_etaf = max (etaf, max_etaf)\n",
    "#Check if the derivatives are right with sympy and then check why is init_cond_adiab crashing for some momentum. Find a   \n",
    "  eta_a, eta_s = csq1d.get_time_array ()\n",
    "     \n",
    "  y_a          = []\n",
    "  Abs_phi2_a   = []\n",
    "  Abs_Pphi2_a  = []\n",
    "  myt = []\n",
    "\n",
    "  eta_a = np.array (eta_a)\n",
    "  for eta in eta_a:\n",
    "    (J11, J12, J22) = csq1d.get_J_at (cosmo, eta)\n",
    "    if eta <= 0.0:\n",
    "      Abs_phi2_a.append (J11)\n",
    "      Abs_Pphi2_a.append (J22)\n",
    "      myt.append(eta)\n",
    "    else:\n",
    "      pass\n",
    "  y_a         = np.array (y_a)\n",
    "  Abs_phi2_a  = np.array (Abs_phi2_a)\n",
    "  Abs_Pphi2_a = np.array (Abs_Pphi2_a)\n",
    "\n",
    "  mylw    = 1\n",
    "\n",
    "  plt.plot (myt, np.sqrt (Abs_phi2_a), lw=mylw, label = r'$\\vert h\\vert_{k_s = 10^{%0.2g}}$' % math.log10 (k))\n",
    "  plt.plot (myt, np.sqrt (Abs_Pphi2_a), lw=mylw, label = r'$\\vert\\Pi_h\\vert_{k_s = 10^{%0.2g}}$' % math.log10 (k))\n",
    "\n",
    "etac_a = np.geomspace (min_etai, -eta_s, 1000)\n",
    "etae_a = np.geomspace (eta_s, max_etaf, 1000)\n",
    "eta_a  = np.concatenate ((etac_a, etae_a))\n",
    "a_a    = np.array ([10**(-25)*math.exp(abs(eta)) for eta in myt])\n",
    "a_b    = min (a_a)\n",
    "\n",
    "plt.plot (myt, a_a, lw=mylw, label = r'$a(\\eta)$')\n",
    "\n",
    "plt.grid (b=True, which='both', linestyle=':', color='0.75', linewidth=0.5)\n",
    "leg = plt.legend (loc=\"best\", ncol = 2)\n",
    "plt.xscale('symlog', linthresh = 1.0e-30, linscale = 4.0)\n",
    "plt.yscale('log')\n",
    "plt.xlabel (\"$\\t_s$\")\n",
    "fig.tight_layout ()\n",
    "\n",
    "\n",
    "\n",
    "plt.show ()\n",
    "\n"
   ]
  },
  {
   "cell_type": "code",
   "execution_count": 55,
   "id": "f316bc3c",
   "metadata": {},
   "outputs": [
    {
     "name": "stdout",
     "output_type": "stream",
     "text": [
      "15.889479926992577 15.889479926992697\n"
     ]
    }
   ],
   "source": [
    "num = np.log(2.0e-25)\n",
    "test22 = Nc.HIPertIAdiab.eval_H(cosmo, -num, 2)\n",
    "z = 1.0\n",
    "E2 = (Omega * (1+z)**(3 * (1 + w)) * (1 -((1+z) / xb)**(3 * (1 - w))))\n",
    "print (E2, test22**2)\n"
   ]
  },
  {
   "cell_type": "code",
   "execution_count": null,
   "id": "1010fead",
   "metadata": {},
   "outputs": [],
   "source": []
  }
 ],
 "metadata": {
  "kernelspec": {
   "display_name": "Python 3 (ipykernel)",
   "language": "python",
   "name": "python3"
  },
  "language_info": {
   "codemirror_mode": {
    "name": "ipython",
    "version": 3
   },
   "file_extension": ".py",
   "mimetype": "text/x-python",
   "name": "python",
   "nbconvert_exporter": "python",
   "pygments_lexer": "ipython3",
   "version": "3.8.10"
  }
 },
 "nbformat": 4,
 "nbformat_minor": 5
}
