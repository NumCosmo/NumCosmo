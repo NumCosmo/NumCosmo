{
 "cells": [
  {
   "cell_type": "markdown",
   "id": "09822a53",
   "metadata": {},
   "source": [
    "---\n",
    "**License**\n",
    "\n",
    " VexpBounce\n",
    "\n",
    " Tue Nov 15 12:13:14 2022\\\n",
    " Copyright  2022\\\n",
    " Sandro Dias Pinto Vitenti <vitenti@uel.br>\n",
    "\n",
    "---\n",
    "---\n",
    "\n",
    " MagDustBounce\\\n",
    " Copyright (C) 2022 Sandro Dias Pinto Vitenti <vitenti@uel.br>\n",
    "\n",
    " numcosmo is free software: you can redistribute it and/or modify it\n",
    " under the terms of the GNU General Public License as published by the\n",
    " Free Software Foundation, either version 3 of the License, or\n",
    " (at your option) any later version.\n",
    "\n",
    " numcosmo is distributed in the hope that it will be useful, but\n",
    " WITHOUT ANY WARRANTY; without even the implied warranty of\n",
    " MERCHANTABILITY or FITNESS FOR A PARTICULAR PURPOSE.\n",
    " See the GNU General Public License for more details.\n",
    "\n",
    " You should have received a copy of the GNU General Public License along\n",
    " with this program.  If not, see <http://www.gnu.org/licenses/>.\n",
    " \n",
    "---"
   ]
  },
  {
   "cell_type": "markdown",
   "id": "83c92c47",
   "metadata": {},
   "source": [
    "# Magnetic field in dust dominated bouncing cosmology\n",
    "\n",
    "In this notebook we develop the necessary objects to compute the power spectrum (and other observables) for magnetic field production in the contraction phase of a bouncing cosmology dominated by a scalar field.\n",
    "\n",
    "The scale factor for this model is described at 1706.08830.\n",
    "\n",
    "The electromagnetic vector field satisfy the following Hamilton equations:\n",
    "\\begin{equation}\n",
    "\\dot{A} = \\frac{\\Pi_A}{m}, \\qquad \\dot{\\Pi}_A = -m\\nu^2 A, \\qquad m \\equiv \\frac{a F}{N},\\quad \\nu = \\frac{Nk}{a},\\qquad N = \\frac{\\mathrm{d}t}{\\mathrm{d}\\tau}, \\qquad \\alpha = \\alpha_b + \\frac{\\tau^2}{2},\\qquad \\alpha = \\ln(a), \\qquad N = \\frac{\\tau}{H}.\n",
    "\\end{equation}\n",
    "for the mode $k$. It is convenient to rewrite $F$ as\n",
    "\\begin{equation}\n",
    "F\\equiv \\frac{1}{4}+B e^{-\\frac{\\phi^2}{\\beta^2}}.\n",
    "\\end{equation}\n",
    "The coupling is controlled by the parameters $B$ and $\\beta$.\n",
    "\n",
    "## Loading NumCosmo\n",
    "\n",
    "The first step is to load both NumCosmo and NumCosmoMath libraries."
   ]
  },
  {
   "cell_type": "code",
   "execution_count": null,
   "id": "7dcaa200",
   "metadata": {},
   "outputs": [],
   "source": [
    "import sys\n",
    "import matplotlib.pyplot as plt\n",
    "import numpy as np\n",
    "from matplotlib.pyplot import cm\n",
    "\n",
    "from numcosmo_py import Ncm, Nc\n",
    "from numcosmo_py.plotting.tools import set_rc_params_article, latex_float"
   ]
  },
  {
   "cell_type": "markdown",
   "id": "d088def3",
   "metadata": {},
   "source": [
    "# Initializing the library"
   ]
  },
  {
   "cell_type": "code",
   "execution_count": null,
   "id": "7968aadd",
   "metadata": {},
   "outputs": [],
   "source": [
    "__name__ = \"NcContext\"\n",
    "\n",
    "Ncm.cfg_init()\n",
    "Ncm.cfg_set_log_handler(lambda msg: sys.stdout.write(msg) and sys.stdout.flush())"
   ]
  },
  {
   "cell_type": "markdown",
   "id": "a809c869",
   "metadata": {},
   "source": [
    "# Latex definition"
   ]
  },
  {
   "cell_type": "code",
   "execution_count": null,
   "id": "039b5406",
   "metadata": {},
   "outputs": [],
   "source": [
    "set_rc_params_article(ncol=2)"
   ]
  },
  {
   "cell_type": "markdown",
   "id": "67bcf96e",
   "metadata": {},
   "source": [
    "# Model initialization\n",
    "\n",
    "Creating a new background Vexp model"
   ]
  },
  {
   "cell_type": "code",
   "execution_count": null,
   "id": "bd83b1a2",
   "metadata": {},
   "outputs": [],
   "source": [
    "Vexp_none = Nc.HICosmoVexp.new()\n",
    "Vexp_none.set_em_coupling(Nc.HICosmoVexpEMCoupling.NONE)\n",
    "\n",
    "Vexp_cauchy = Nc.HICosmoVexp.new()\n",
    "Vexp_cauchy.set_em_coupling(Nc.HICosmoVexpEMCoupling.CAUCHY)\n",
    "\n",
    "Vexp_gauss = Nc.HICosmoVexp.new()\n",
    "Vexp_gauss.set_em_coupling(Nc.HICosmoVexpEMCoupling.GAUSS)\n",
    "\n",
    "current_set = {\n",
    "    \"alphab\": 7.4847e-3,  # Alpha (# of e-fold\\s) at the bounce\n",
    "    \"sigmaphi\": 100.0,  # Width of the Gaussian solution for the WdW equation\n",
    "    \"xb\": 2.0e36,  # Inverse of the scale factor at the bounce (Initial condition)\n",
    "    \"dphi\": -9.0e-4,  # Deviation of the Gaussian solution for the WdW equation\n",
    "    \"OmegaL\": 1.0,  # H²(a when w=-1)/H²(a0). Basically gives the DE-dominated phase\n",
    "    \"Omegac\": 1.0,  # Omega_d???\n",
    "    \"H0\": 67.8,  # Hubble parameter today given by CMB observations\n",
    "    \"Bem\": 1.0e60,  # Amplitude of the EM gaussian coupling\n",
    "    \"betaem\": 3.2,  # Width of the EM gaussian coupling\n",
    "}\n",
    "\n",
    "Vexp_none.set_properties(**current_set)\n",
    "Vexp_cauchy.set_properties(**current_set)\n",
    "Vexp_gauss.set_properties(**current_set)\n",
    "\n",
    "tc = Vexp_none.tau_xe(\n",
    "    1.0e15\n",
    ")  # Initial tau in expansion phase??? tau para quando a expansão é 10^15\n",
    "reltol = 1.0e-14  # Relative tolerance for solving differential equations\n",
    "\n",
    "Vexp_none.tau_xe(1.0)"
   ]
  },
  {
   "cell_type": "markdown",
   "id": "0266f16d",
   "metadata": {},
   "source": [
    "# Model integrated time\n",
    "\n",
    "Getting the time intervals for the computed model in terms of $\\alpha \\equiv \\ln(a/a_0)$ and $\\alpha = \\alpha_b + \\frac{\\tau^2}{2}$.\n",
    "\n"
   ]
  },
  {
   "cell_type": "code",
   "execution_count": null,
   "id": "25196b3b",
   "metadata": {},
   "outputs": [],
   "source": [
    "tau_min = Vexp_none.tau_min()  # Get initial time\n",
    "tau_max = Vexp_none.tau_max()  # Get final time\n",
    "tau_qt_c = Vexp_none.tau_qt_c()  # Get initial time of the quantum phase\n",
    "tau_qt_e = Vexp_none.tau_qt_e()  # Get final time of the quantum phase\n",
    "npoints = 5000\n",
    "\n",
    "tau_a = np.linspace(tau_min, tau_max, npoints)\n",
    "tau_q_a = np.linspace(tau_qt_c, tau_qt_e, npoints)\n",
    "\n",
    "print(f\"Vexp model prepared in the interval ({tau_min}, {tau_max})\")\n",
    "print(f\"Vexp quantum dominated interval ({tau_qt_c}, {tau_qt_e})\")"
   ]
  },
  {
   "cell_type": "markdown",
   "id": "3c633661-3b73-4bf6-883d-fcc39d45838b",
   "metadata": {},
   "source": [
    "Computing background functions"
   ]
  },
  {
   "cell_type": "code",
   "execution_count": null,
   "id": "25b11fe3-543a-4254-901a-bdffb0408cc4",
   "metadata": {},
   "outputs": [],
   "source": [
    "alpha_a = [Vexp_none.alpha(tau) for tau in tau_a]\n",
    "phi_a = np.array([Vexp_none.phi(tau) for tau in tau_a])\n",
    "phi_q_a = np.array([Vexp_none.phi(tau) for tau in tau_q_a])\n",
    "deta_s = Ncm.SplineCubicNotaknot.new()\n",
    "deta_s.set_array(tau_a, [Vexp_none.eval_nu(tau, 1.0) for tau in tau_a], True)\n",
    "rescale = Vexp_none.RH_planck() / np.exp(Vexp_none.alpha_0e())\n",
    "eta_a = [\n",
    "    (\n",
    "        -deta_s.eval_integ(tau, 0.0) * rescale\n",
    "        if tau < 1.0\n",
    "        else deta_s.eval_integ(0.0, tau) * rescale\n",
    "    )\n",
    "    for tau in tau_a\n",
    "]\n",
    "RS_a = np.array(\n",
    "    [Vexp_none.Ricci_scale(tau) for tau in tau_a]\n",
    ")  # Hubble scale goes to 0 at the bounce, but not the Ricci scalar\n",
    "nu_a = np.array([Vexp_none.eval_nu(tau, 1.0) for tau in tau_a])\n",
    "x_y_a = np.array([Vexp_none.x_y(tau) for tau in tau_a])"
   ]
  },
  {
   "cell_type": "markdown",
   "id": "e88d0550",
   "metadata": {},
   "source": [
    "# Consistence check\n",
    "\n",
    "Plotting $\\alpha(\\tau) - \\alpha_b$."
   ]
  },
  {
   "cell_type": "code",
   "execution_count": null,
   "id": "076f80d0",
   "metadata": {},
   "outputs": [],
   "source": [
    "plt.figure()\n",
    "\n",
    "plt.plot(tau_a, alpha_a, label=r\"$\\alpha$\")\n",
    "\n",
    "plt.grid(visible=True, which=\"both\", linestyle=\":\", color=\"0.75\", linewidth=0.5)\n",
    "leg = plt.legend(loc=\"best\", ncol=2, fontsize=13)\n",
    "\n",
    "plt.xlabel(r\"$\\tau$\")\n",
    "plt.show()\n",
    "pass"
   ]
  },
  {
   "cell_type": "markdown",
   "id": "30583ff4",
   "metadata": {},
   "source": [
    "# Plotting scale factor as a function of tau.\n",
    "\n",
    "$a(\\tau)$"
   ]
  },
  {
   "cell_type": "code",
   "execution_count": null,
   "id": "7fcf428b",
   "metadata": {},
   "outputs": [],
   "source": [
    "plt.figure()\n",
    "\n",
    "print(Vexp_none.alpha_0e())  # alpha_0 na expansão\n",
    "print(Vexp_none.tau_xe(1.0))\n",
    "\n",
    "plt.plot(tau_a, np.exp(alpha_a) / Vexp_none.props.xb, label=r\"$a$\")\n",
    "\n",
    "plt.grid(visible=True, which=\"both\", linestyle=\":\", color=\"0.75\", linewidth=0.5)\n",
    "leg = plt.legend(loc=\"best\", ncol=2, fontsize=13)\n",
    "\n",
    "plt.xlabel(r\"$\\tau$\")\n",
    "plt.yscale(\"log\")\n",
    "plt.show()\n",
    "pass"
   ]
  },
  {
   "cell_type": "markdown",
   "id": "11ffc7cb",
   "metadata": {},
   "source": [
    "# Plotting the scalar field as a function of tau.\n",
    "\n",
    "$\\phi(\\tau)$"
   ]
  },
  {
   "cell_type": "code",
   "execution_count": null,
   "id": "911f016d",
   "metadata": {},
   "outputs": [],
   "source": [
    "plt.figure()\n",
    "\n",
    "plt.plot(tau_a, phi_a, label=r\"$\\phi$\")\n",
    "\n",
    "plt.grid(visible=True, which=\"both\", linestyle=\":\", color=\"0.75\", linewidth=0.5)\n",
    "leg = plt.legend(loc=\"best\", ncol=2, fontsize=13)\n",
    "\n",
    "plt.xlabel(r\"$\\tau$\")\n",
    "plt.show()"
   ]
  },
  {
   "cell_type": "code",
   "execution_count": null,
   "id": "1a0b6299-24d4-4e79-a32a-855412bde8ca",
   "metadata": {},
   "outputs": [],
   "source": [
    "plt.figure()\n",
    "\n",
    "plt.plot(tau_q_a, phi_q_a, label=r\"$\\phi$\")\n",
    "\n",
    "plt.grid(visible=True, which=\"both\", linestyle=\":\", color=\"0.75\", linewidth=0.5)\n",
    "leg = plt.legend(loc=\"best\", ncol=2, fontsize=13)\n",
    "\n",
    "plt.xlabel(r\"$\\tau$\")\n",
    "plt.show()"
   ]
  },
  {
   "cell_type": "code",
   "execution_count": null,
   "id": "6165b7a9-60eb-46cd-9cdd-8388d2ad2fa0",
   "metadata": {},
   "outputs": [],
   "source": [
    "plt.figure()\n",
    "\n",
    "plt.plot(eta_a, phi_a, label=r\"$\\phi$\")\n",
    "\n",
    "plt.grid(visible=True, which=\"both\", linestyle=\":\", color=\"0.75\", linewidth=0.5)\n",
    "leg = plt.legend(loc=\"best\", ncol=2, fontsize=13)\n",
    "\n",
    "plt.xscale(\"symlog\", linthresh=1.0e-1)\n",
    "plt.xlabel(r\"$\\eta$\")\n",
    "plt.show()"
   ]
  },
  {
   "cell_type": "markdown",
   "id": "33a74f85",
   "metadata": {},
   "source": [
    "# Ploting Ricci scalar and mode frequency.\n",
    "\n",
    "$R(\\tau)$ and $\\nu(\\tau)$"
   ]
  },
  {
   "cell_type": "code",
   "execution_count": null,
   "id": "1ef41aa3",
   "metadata": {},
   "outputs": [],
   "source": [
    "plt.figure()\n",
    "\n",
    "plt.plot(tau_a, RS_a, label=r\"$R_s$\")\n",
    "plt.plot(tau_a, nu_a, label=r\"$\\nu$\")\n",
    "\n",
    "plt.grid(visible=True, which=\"both\", linestyle=\":\", color=\"0.75\", linewidth=0.5)\n",
    "leg = plt.legend(loc=\"best\", ncol=2, fontsize=13)\n",
    "\n",
    "plt.xlabel(r\"$\\tau$\")\n",
    "plt.yscale(\"log\")\n",
    "\n",
    "plt.show()"
   ]
  },
  {
   "cell_type": "markdown",
   "id": "dcdcb840",
   "metadata": {},
   "source": [
    "# Plotting background field variables\n",
    "\n",
    "$x(\\tau)$, $y(\\tau)$ and $\\sqrt{x^2 + y^2}$."
   ]
  },
  {
   "cell_type": "code",
   "execution_count": null,
   "id": "440c06e2",
   "metadata": {},
   "outputs": [],
   "source": [
    "plt.figure()\n",
    "\n",
    "plt.plot(tau_a, x_y_a[:, 0], label=\"$x$\")\n",
    "plt.plot(tau_a, x_y_a[:, 1], label=\"$y$\")\n",
    "plt.plot(tau_a, np.hypot(x_y_a[:, 0], x_y_a[:, 1]), label=\"$\\sqrt{x^2+y^2}$\")\n",
    "\n",
    "plt.grid(visible=True, which=\"both\", linestyle=\":\", color=\"0.75\", linewidth=0.5)\n",
    "leg = plt.legend(loc=\"best\", ncol=2, fontsize=13)\n",
    "\n",
    "plt.xlabel(r\"$\\tau$\")\n",
    "plt.yscale(\"symlog\")\n",
    "\n",
    "plt.show()\n",
    "\n",
    "# Close-up on the Friedmann constraint in the quantum regime\n",
    "plt.figure()\n",
    "\n",
    "plt.plot(\n",
    "    tau_a,\n",
    "    np.sqrt(x_y_a[:, 0] * x_y_a[:, 0] + x_y_a[:, 1] * x_y_a[:, 1]),\n",
    "    label=\"$x^2+y^2$\",\n",
    ")\n",
    "plt.plot(\n",
    "    tau_a,\n",
    "    np.hypot(x_y_a[:, 0], x_y_a[:, 1]),\n",
    "    label=\"$\\sqrt{x^2+y^2}$\",\n",
    "    linestyle=\"dashed\",\n",
    ")\n",
    "\n",
    "plt.xlim(-0.25, 0.25)\n",
    "plt.yscale(\"symlog\")\n",
    "\n",
    "plt.show()"
   ]
  },
  {
   "cell_type": "markdown",
   "id": "566ed5a5",
   "metadata": {},
   "source": [
    "# Plotting magnetic field background quantities \n",
    "\n",
    "$\\phi(\\tau)$, $f(\\phi(\\tau)) = e^{-\\phi^2/\\beta^2}$ and the equation of state $w$."
   ]
  },
  {
   "cell_type": "code",
   "execution_count": null,
   "id": "0ae42aa6",
   "metadata": {},
   "outputs": [],
   "source": [
    "plt.figure()\n",
    "\n",
    "plt.plot(tau_a, phi_a, label=\"$\\phi$\")\n",
    "# plt.plot (tau_a, np.exp (-(phi_a / beta)**2), label=r'$f(\\phi)$')\n",
    "plt.plot(tau_a, 2.0 * x_y_a[:, 0] ** 2 - 1.0, label=\"$w = 2x^2-1$\")\n",
    "\n",
    "plt.grid(visible=True, which=\"both\", linestyle=\":\", color=\"0.75\", linewidth=0.5)\n",
    "leg = plt.legend(loc=\"best\", ncol=2, fontsize=13)\n",
    "\n",
    "plt.xlabel(r\"$\\tau$\")\n",
    "# plt.yscale('symlog')\n",
    "plt.xlim(-2.0, tau_qt_e)\n",
    "plt.ylim(-1.1, 1.1)\n",
    "\n",
    "plt.show()\n",
    "\n",
    "###\n",
    "### Equation of state\n",
    "###\n",
    "\n",
    "plt.figure()\n",
    "\n",
    "plt.plot(tau_a, 2.0 * x_y_a[:, 0] ** 2 - 1.0, label=\"$w = 2x^2-1$\")\n",
    "\n",
    "plt.grid(visible=True, which=\"both\", linestyle=\":\", color=\"0.75\", linewidth=0.5)\n",
    "leg = plt.legend(loc=\"best\", ncol=2, fontsize=13)\n",
    "plt.xlim(-0.025, 0.025)\n",
    "plt.xlabel(r\"$\\tau$\")\n",
    "\n",
    "plt.show()"
   ]
  },
  {
   "cell_type": "markdown",
   "id": "3fd4824a",
   "metadata": {},
   "source": [
    "# Defines the electromagnetic field model\n",
    "\n",
    "This model use the Complex Structure Quantization method CSQ1D."
   ]
  },
  {
   "cell_type": "code",
   "execution_count": null,
   "id": "b97f932b-65fa-4639-96c4-bdc8db63bb61",
   "metadata": {},
   "outputs": [],
   "source": [
    "tau_f = 9.3\n",
    "\n",
    "pem_none = Nc.HIPertEM.new()\n",
    "pem_none.set_initial_condition_type(Ncm.CSQ1DInitialStateType.ADIABATIC2)\n",
    "pem_none.set_abstol(\n",
    "    1.0e-200\n",
    ")  # The vacuum is a fixed point at zero, we need an absolute tolerance to evolve the system\n",
    "pem_none.set_k(4.0e3)\n",
    "pem_none.set_ti(Vexp_none.tau_min())\n",
    "pem_none.set_tf(tau_f)  # We do not want to evolve through the singularity\n",
    "pem_none.set_vacuum_max_time(-12.0)\n",
    "pem_none.set_vacuum_reltol(1.0e-8)\n",
    "\n",
    "\n",
    "pem_cauchy = Nc.HIPertEM.new()\n",
    "pem_cauchy.set_k(4.0e3)\n",
    "pem_cauchy.set_initial_condition_type(Ncm.CSQ1DInitialStateType.ADIABATIC4)\n",
    "pem_cauchy.set_ti(Vexp_cauchy.tau_min())\n",
    "pem_cauchy.set_tf(tau_f)  # We do not want to evolve through the singularity\n",
    "pem_cauchy.set_vacuum_max_time(-1.0e-1)\n",
    "pem_cauchy.set_vacuum_reltol(1.0e-8)\n",
    "\n",
    "\n",
    "pem_gauss = Nc.HIPertEM.new()\n",
    "pem_gauss.set_initial_condition_type(Ncm.CSQ1DInitialStateType.ADIABATIC2)\n",
    "pem_gauss.set_k(4.0e3)\n",
    "pem_gauss.set_ti(Vexp_gauss.tau_min())\n",
    "pem_gauss.set_tf(tau_f)  # We do not want to evolve through the singularity\n",
    "pem_gauss.set_vacuum_max_time(-1.0e-1)\n",
    "pem_gauss.set_vacuum_reltol(1.0e-8)"
   ]
  },
  {
   "cell_type": "markdown",
   "id": "50bf1a78",
   "metadata": {},
   "source": [
    "# Setting up models\n",
    "\n",
    "Setting up all models, including the benchmark with no coupling."
   ]
  },
  {
   "cell_type": "markdown",
   "id": "2eb3f807",
   "metadata": {},
   "source": [
    "# Finding starting point as the end of the adiabatic phase\n",
    "\n",
    "Setting limit for the adiabatic phase with $10^{-9}$."
   ]
  },
  {
   "cell_type": "code",
   "execution_count": null,
   "id": "15557cb5",
   "metadata": {},
   "outputs": [],
   "source": [
    "print(f\"Searching for WKB scale in ({tau_min}, {tau_qt_c})\")\n",
    "\n",
    "(Found_tau_i_none, tau_i_none) = pem_none.find_adiab_time_limit(\n",
    "    Vexp_none, tau_min, -12.0, 1.0e-9\n",
    ")\n",
    "(Found_tau_i_cauchy, tau_i_cauchy) = pem_cauchy.find_adiab_time_limit(\n",
    "    Vexp_cauchy, tau_min, -1.0e-5, 1.0e-9\n",
    ")\n",
    "(Found_tau_i_gauss, tau_i_gauss) = pem_gauss.find_adiab_time_limit(\n",
    "    Vexp_gauss, tau_min, -1.0e-5, 1.0e-9\n",
    ")"
   ]
  },
  {
   "cell_type": "markdown",
   "id": "cc51f921",
   "metadata": {},
   "source": [
    "# Checking if the search for the starting time was successful "
   ]
  },
  {
   "cell_type": "code",
   "execution_count": null,
   "id": "4f5bf439",
   "metadata": {},
   "outputs": [],
   "source": [
    "print(\n",
    "    f\"Found ({Found_tau_i_none  }) WKB scale for no-potential at     {tau_i_none:7.3f}\"\n",
    ")\n",
    "print(\n",
    "    f\"Found ({Found_tau_i_cauchy}) WKB scale for cauchy-potential at {tau_i_cauchy:7.3f} (B = {Vexp_gauss.props.Bem:.2e}, beta = {Vexp_gauss.props.betaem})\"\n",
    ")\n",
    "print(\n",
    "    f\"Found ({Found_tau_i_gauss }) WKB scale for gauss-potential at  {tau_i_gauss:7.3f} (B = {Vexp_gauss.props.Bem:.2e}, beta = {Vexp_gauss.props.betaem})\"\n",
    ")\n",
    "\n",
    "print(pem_none.eval_F1(Vexp_none, tau_i_none))\n",
    "print(pem_none.eval_F2(Vexp_none, tau_i_none))\n",
    "print(pem_cauchy.eval_F1(Vexp_cauchy, tau_i_cauchy))\n",
    "print(pem_cauchy.eval_F2(Vexp_cauchy, tau_i_cauchy))\n",
    "print(pem_gauss.eval_F1(Vexp_gauss, tau_i_gauss))\n",
    "print(pem_gauss.eval_F2(Vexp_gauss, tau_i_gauss))\n",
    "\n",
    "state_none = Ncm.CSQ1DState.new()\n",
    "state_cauchy = Ncm.CSQ1DState.new()\n",
    "state_gauss = Ncm.CSQ1DState.new()\n",
    "\n",
    "print(pem_none.compute_adiab(Vexp_none, tau_i_none, state_none)[0].get_ag())\n",
    "print(pem_cauchy.compute_adiab(Vexp_cauchy, tau_i_cauchy, state_cauchy)[0].get_ag())\n",
    "print(pem_gauss.compute_adiab(Vexp_gauss, tau_i_gauss, state_gauss)[0].get_ag())"
   ]
  },
  {
   "cell_type": "code",
   "execution_count": null,
   "id": "46d519a9",
   "metadata": {},
   "outputs": [],
   "source": [
    "plt.figure()\n",
    "\n",
    "tau_ad_a = np.linspace(-2.35, -1.0, 100)\n",
    "tau_ad_a = tau_a\n",
    "\n",
    "\n",
    "F1_a_cauchy = np.abs([pem_cauchy.eval_F1(Vexp_cauchy, tau) for tau in tau_ad_a])\n",
    "F2_a_cauchy = np.abs([pem_cauchy.eval_F2(Vexp_cauchy, tau) for tau in tau_ad_a])\n",
    "\n",
    "F1_a_gauss = np.abs([pem_gauss.eval_F1(Vexp_gauss, tau) for tau in tau_ad_a])\n",
    "F2_a_gauss = np.abs([pem_gauss.eval_F2(Vexp_gauss, tau) for tau in tau_ad_a])\n",
    "\n",
    "plt.plot(tau_ad_a, F1_a_cauchy, label=r\"cauchy $|F_1|$\")\n",
    "plt.plot(tau_ad_a, F1_a_gauss, label=r\"gauss  $|F_1|$\")\n",
    "\n",
    "plt.plot(tau_ad_a, F2_a_cauchy, label=r\"cauchy $|F_2|$\")\n",
    "plt.plot(tau_ad_a, F2_a_gauss, label=r\"gauss  $|F_2|$\")\n",
    "\n",
    "plt.grid(visible=True, which=\"both\", linestyle=\":\", color=\"0.75\", linewidth=0.5)\n",
    "leg = plt.legend(loc=\"best\", ncol=2, fontsize=13)\n",
    "\n",
    "plt.ylim(1.0e-20, None)\n",
    "plt.xlabel(r\"$\\tau$\")\n",
    "plt.yscale(\"log\")\n",
    "\n",
    "plt.show()"
   ]
  },
  {
   "cell_type": "code",
   "execution_count": null,
   "id": "4d27899c",
   "metadata": {},
   "outputs": [],
   "source": [
    "def compute_PE_PB(pem, Vexp, tau):\n",
    "    state = Ncm.CSQ1DState.new()\n",
    "    pem.prepare(Vexp)\n",
    "    tau_evol = np.array(pem.get_time_array()[0])\n",
    "    PE_a, PB_a, J11_a, J22_a = [], [], [], []\n",
    "    for tau in tau_evol:\n",
    "        PE, PB = pem.eval_PE_PB(Vexp, tau)\n",
    "        J11, _, J22 = pem.eval_at(Vexp, tau, state).get_J()\n",
    "        PE_a.append(PE)\n",
    "        PB_a.append(PB)\n",
    "        J11_a.append(J11)\n",
    "        J22_a.append(J22)\n",
    "\n",
    "    return tau_evol, np.array(PE_a), np.array(PB_a), np.array(J11_a), np.array(J22_a)"
   ]
  },
  {
   "cell_type": "code",
   "execution_count": null,
   "id": "3006250b",
   "metadata": {},
   "outputs": [],
   "source": [
    "def compute_and_plot_PE_PB(pem, Vexp, tau, label, ax, mylw=1):\n",
    "    tau_a, PE_a, PB_a, J11_a, J22_a = compute_PE_PB(pem, Vexp, tau)\n",
    "\n",
    "    if ax[0] is not None:\n",
    "        ax[0].plot(\n",
    "            tau_a, PE_a, lw=mylw, label=f\"{label} $P_{{E}}(k_s = {pem.get_k()})$\"\n",
    "        )\n",
    "    if ax[1] is not None:\n",
    "        ax[1].plot(\n",
    "            tau_a, PB_a, lw=mylw, label=f\"{label} $P_{{B}}(k_s = {pem.get_k()})$\"\n",
    "        )\n",
    "    if ax[2] is not None:\n",
    "        ax[2].plot(\n",
    "            tau_a, J11_a, lw=mylw, label=f\"{label} $J_{{11}}(k_s = {pem.get_k()})$\"\n",
    "        )\n",
    "    if ax[3] is not None:\n",
    "        ax[3].plot(\n",
    "            tau_a, J22_a, lw=mylw, label=f\"{label} $J_{{22}}(k_s = {pem.get_k()})$\"\n",
    "        )"
   ]
  },
  {
   "cell_type": "code",
   "execution_count": null,
   "id": "3b581dae",
   "metadata": {},
   "outputs": [],
   "source": [
    "fig1, ax1 = plt.subplots()\n",
    "fig2, ax2 = plt.subplots()\n",
    "fig3, ax3 = plt.subplots()\n",
    "\n",
    "axs = [ax1, ax2, ax3, ax3]\n",
    "compute_and_plot_PE_PB(pem_none, Vexp_none, tau_i_none, \"none\", axs)\n",
    "compute_and_plot_PE_PB(pem_cauchy, Vexp_cauchy, tau_i_cauchy, \"cauchy\", axs)\n",
    "compute_and_plot_PE_PB(pem_gauss, Vexp_gauss, tau_i_gauss, \"gauss\", axs)\n",
    "\n",
    "ax1.legend(loc=\"best\", ncol=2, fontsize=13)\n",
    "ax1.set_yscale(\"log\")\n",
    "\n",
    "ax2.legend(loc=\"best\", ncol=2, fontsize=13)\n",
    "ax2.set_yscale(\"log\")\n",
    "\n",
    "ax3.legend(loc=\"best\", ncol=2, fontsize=13)\n",
    "ax3.set_yscale(\"log\")"
   ]
  },
  {
   "cell_type": "code",
   "execution_count": null,
   "id": "72de3331",
   "metadata": {},
   "outputs": [],
   "source": [
    "fig1, ax1 = plt.subplots(figsize=(15, 7))\n",
    "axs = [ax1, ax1, None, None]\n",
    "\n",
    "compute_and_plot_PE_PB(pem_none, Vexp_none, tau_i_none, \"none\", axs)\n",
    "\n",
    "for beta in np.geomspace(2.0, 4.0, 5):\n",
    "    for B in np.geomspace(1.0e70, 1.0e80, 5):\n",
    "        Vexp_cauchy.set_properties(betaem=beta, Bem=B)\n",
    "        Vexp_gauss.set_properties(betaem=beta, Bem=B)\n",
    "\n",
    "        compute_and_plot_PE_PB(\n",
    "            pem_cauchy,\n",
    "            Vexp_cauchy,\n",
    "            tau_i_cauchy,\n",
    "            rf\"cauchy $\\beta = {beta:.1g}$, $B = {latex_float(B)}$, \",\n",
    "            axs,\n",
    "        )\n",
    "        compute_and_plot_PE_PB(\n",
    "            pem_gauss,\n",
    "            Vexp_gauss,\n",
    "            tau_i_gauss,\n",
    "            rf\"gauss $\\beta = {beta:.1g}$, $B = {latex_float(B)}$, \",\n",
    "            axs,\n",
    "        )\n",
    "\n",
    "ax1.set_xlim(8.0, None)\n",
    "ax1.set_ylim(1.0e-80, None)\n",
    "\n",
    "#ax1.legend(loc=\"best\", ncol=2, fontsize=13)\n",
    "ax1.set_yscale(\"log\")"
   ]
  },
  {
   "cell_type": "code",
   "execution_count": null,
   "id": "86c4839c",
   "metadata": {},
   "outputs": [],
   "source": [
    "tau_ad_a = np.linspace(9.29, 9.30, 6)\n",
    "\n",
    "ki = 1.0\n",
    "kf = 4.0e3\n",
    "k_a = np.geomspace(ki, kf, 100)\n",
    "k_a_plot = np.geomspace(ki, kf, 1000)\n",
    "\n",
    "ps_E_none, ps_B_none = pem_none.prepare_spectrum(Vexp_none, k_a, tau_ad_a)\n",
    "ps_E_cauchy, ps_B_cauchy = pem_cauchy.prepare_spectrum(Vexp_cauchy, k_a, tau_ad_a)\n",
    "ps_E_gauss, ps_B_gauss = pem_gauss.prepare_spectrum(Vexp_gauss, k_a, tau_ad_a)"
   ]
  },
  {
   "cell_type": "code",
   "execution_count": null,
   "id": "cb68322f",
   "metadata": {},
   "outputs": [],
   "source": [
    "plt.figure(figsize=(16, 8))\n",
    "\n",
    "for tau in tau_ad_a[-1:]:\n",
    "\n",
    "    ps_E_none_tau = [ps_E_none.eval(Vexp_none, tau, k) for k in k_a_plot]\n",
    "    ps_B_none_tau = [ps_B_none.eval(Vexp_none, tau, k) for k in k_a_plot]\n",
    "\n",
    "    ps_B_cauchy_tau = [ps_B_cauchy.eval(Vexp_cauchy, tau, k) for k in k_a_plot]\n",
    "    ps_E_cauchy_tau = [ps_E_cauchy.eval(Vexp_cauchy, tau, k) for k in k_a_plot]\n",
    "\n",
    "    ps_B_gauss_tau = [ps_B_gauss.eval(Vexp_gauss, tau, k) for k in k_a_plot]\n",
    "    ps_E_gauss_tau = [ps_E_gauss.eval(Vexp_gauss, tau, k) for k in k_a_plot]\n",
    "\n",
    "    plt.plot(k_a_plot, ps_E_none_tau, label=rf\"no-pot $P_{{E}}(\\tau = {tau})$\")\n",
    "    plt.plot(k_a_plot, ps_B_none_tau, label=rf\"no-pot $P_{{B}}(\\tau = {tau})$\")\n",
    "\n",
    "    plt.plot(k_a_plot, ps_E_cauchy_tau, label=rf\"cauchy $P_{{E}}(\\tau = {tau})$\")\n",
    "    plt.plot(k_a_plot, ps_B_cauchy_tau, label=rf\"cauchy $P_{{B}}(\\tau = {tau})$\")\n",
    "\n",
    "    plt.plot(k_a_plot, ps_E_gauss_tau, label=rf\"gauss $P_{{E}}(\\tau = {tau})$\")\n",
    "    plt.plot(k_a_plot, ps_B_gauss_tau, label=rf\"gauss $P_{{B}}(\\tau = {tau})$\")\n",
    "\n",
    "plt.xlabel(r\"$k$\")\n",
    "plt.ylabel(r\"$P(k)$\")\n",
    "plt.xscale(\"log\")\n",
    "plt.yscale(\"log\")\n",
    "plt.legend()\n",
    "plt.show()"
   ]
  }
 ],
 "metadata": {
  "kernelspec": {
   "display_name": "Python 3 (ipykernel)",
   "language": "python",
   "name": "python3"
  },
  "language_info": {
   "codemirror_mode": {
    "name": "ipython",
    "version": 3
   },
   "file_extension": ".py",
   "mimetype": "text/x-python",
   "name": "python",
   "nbconvert_exporter": "python",
   "pygments_lexer": "ipython3"
  }
 },
 "nbformat": 4,
 "nbformat_minor": 5
}
