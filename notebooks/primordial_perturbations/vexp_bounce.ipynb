{
 "cells": [
  {
   "cell_type": "markdown",
   "id": "09822a53",
   "metadata": {},
   "source": [
    "---\n",
    "**License**\n",
    "\n",
    " VexpBounce\n",
    "\n",
    " Tue Nov 15 12:13:14 2022\\\n",
    " Copyright  2022\\\n",
    " Sandro Dias Pinto Vitenti <vitenti@uel.br>\n",
    "\n",
    "---\n",
    "---\n",
    "\n",
    " MagDustBounce\\\n",
    " Copyright (C) 2022 Sandro Dias Pinto Vitenti <vitenti@uel.br>\n",
    "\n",
    " numcosmo is free software: you can redistribute it and/or modify it\n",
    " under the terms of the GNU General Public License as published by the\n",
    " Free Software Foundation, either version 3 of the License, or\n",
    " (at your option) any later version.\n",
    "\n",
    " numcosmo is distributed in the hope that it will be useful, but\n",
    " WITHOUT ANY WARRANTY; without even the implied warranty of\n",
    " MERCHANTABILITY or FITNESS FOR A PARTICULAR PURPOSE.\n",
    " See the GNU General Public License for more details.\n",
    "\n",
    " You should have received a copy of the GNU General Public License along\n",
    " with this program.  If not, see <http://www.gnu.org/licenses/>.\n",
    " \n",
    "---"
   ]
  },
  {
   "cell_type": "markdown",
   "id": "83c92c47",
   "metadata": {},
   "source": [
    "# Magnetic field in dust dominated bouncing cosmology\n",
    "\n",
    "In this notebook we develop the necessary objects to compute the power spectrum (and other observables) for magnetic field production in the contraction phase of a bouncing cosmology dominated by a scalar field.\n",
    "\n",
    "The scale factor for this model is described at 1706.08830.\n",
    "\n",
    "The electromagnetic vector field satisfy the following Hamilton equations:\n",
    "\\begin{equation}\n",
    "\\dot{A} = \\frac{\\Pi_A}{m}, \\qquad \\dot{\\Pi}_A = -m\\nu^2 A, \\qquad m \\equiv \\frac{a F}{N},\\quad \\nu = \\frac{Nk}{a},\\qquad N = \\frac{\\mathrm{d}t}{\\mathrm{d}\\tau}, \\qquad \\alpha = \\alpha_b + \\frac{\\tau^2}{2},\\qquad \\alpha = \\ln(a), \\qquad N = \\frac{\\tau}{H}.\n",
    "\\end{equation}\n",
    "for the mode $k$. It is convenient to rewrite $F$ as\n",
    "\\begin{equation}\n",
    "F\\equiv \\frac{1}{4}+B e^{-\\frac{\\phi^2}{\\beta^2}}.\n",
    "\\end{equation}\n",
    "\n",
    "\n",
    "## Loading NumCosmo\n",
    "\n",
    "The first step is to load both NumCosmo and NumCosmoMath libraries."
   ]
  },
  {
   "cell_type": "code",
   "execution_count": null,
   "id": "7dcaa200",
   "metadata": {},
   "outputs": [],
   "source": [
    "from numcosmo_py import Nc\n",
    "from numcosmo_py import Ncm\n",
    "\n",
    "import sys\n",
    "import math\n",
    "import matplotlib\n",
    "import matplotlib.pyplot as plt\n",
    "import numpy as np\n"
   ]
  },
  {
   "cell_type": "code",
   "execution_count": null,
   "id": "bd83b1a2",
   "metadata": {},
   "outputs": [],
   "source": [
    "Vexp = Nc.HICosmoVexp.new ()\n",
    "Vexp.props.alphab   = 8.3163e-2\n",
    "Vexp.props.sigmaphi = 9.0\n",
    "Vexp.props.dphi     = -9.0e-4\n",
    "Vexp.props.xb       = 2.0e36\n",
    "Vexp.props.OmegaL   = 1.0\n",
    "Vexp.props.Omegac   = 1.0\n",
    "Vexp.props.H0       = 67.8\n",
    "\n",
    "tc = Vexp.tau_xe (1.0e15)\n",
    "reltol = 1.0e-14\n",
    "B = 1.0e-58\n",
    "beta = 0.08\n",
    "k = 1.0"
   ]
  },
  {
   "cell_type": "code",
   "execution_count": null,
   "id": "25196b3b",
   "metadata": {},
   "outputs": [],
   "source": [
    "tau_min = Vexp.tau_min ()\n",
    "tau_max = Vexp.tau_max ()\n",
    "tau_qt_c = Vexp.tau_qt_c()\n",
    "tau_qt_e = Vexp.tau_qt_e()\n",
    "npoints = 5000\n",
    "\n",
    "tau_a = np.linspace (tau_min, tau_max, npoints)\n",
    "tau_q_a = np.linspace (tau_qt_c, tau_qt_e, npoints)\n",
    "\n",
    "print (f\"Vexp model prepared in the interval ({tau_min},{tau_max})\")\n",
    "print (f\"Vexp quantum dominated interval ({tau_qt_c},{tau_qt_e})\")"
   ]
  },
  {
   "cell_type": "code",
   "execution_count": null,
   "id": "076f80d0",
   "metadata": {},
   "outputs": [],
   "source": [
    "plt.figure (figsize=(14, 7))\n",
    "\n",
    "alpha_a = [Vexp.alpha (tau) for tau in tau_a]\n",
    "\n",
    "plt.plot (tau_a, alpha_a, label=r\"$\\alpha$\")\n",
    "\n",
    "plt.grid (visible=True, which='both', linestyle=':', color='0.75', linewidth=0.5)\n",
    "leg = plt.legend (loc=\"best\", ncol = 2, fontsize=13)\n",
    "\n",
    "plt.xlabel (r\"$\\tau$\")\n",
    "plt.show()\n",
    "pass"
   ]
  },
  {
   "cell_type": "code",
   "execution_count": null,
   "id": "911f016d",
   "metadata": {},
   "outputs": [],
   "source": [
    "plt.figure (figsize=(14, 7))\n",
    "\n",
    "phi_a = [Vexp.phi (tau) for tau in tau_a]\n",
    "\n",
    "plt.plot (tau_a, phi_a, label=r\"$\\phi$\")\n",
    "\n",
    "plt.grid (visible=True, which='both', linestyle=':', color='0.75', linewidth=0.5)\n",
    "leg = plt.legend (loc=\"best\", ncol = 2, fontsize=13)\n",
    "\n",
    "plt.xlabel (r\"$\\tau$\")\n",
    "plt.show()"
   ]
  },
  {
   "cell_type": "code",
   "execution_count": null,
   "id": "1ef41aa3",
   "metadata": {},
   "outputs": [],
   "source": [
    "plt.figure (figsize=(14, 7))\n",
    "\n",
    "RS_a = [Vexp.Ricci_scale (tau) for tau in tau_a]\n",
    "nu_a = [Vexp.eval_nu (tau, k) for tau in tau_a]\n",
    "\n",
    "plt.plot (tau_a, RS_a, label=r\"$R_s$\")\n",
    "plt.plot (tau_a, nu_a, label=r\"$\\nu$\")\n",
    "\n",
    "plt.grid (visible=True, which='both', linestyle=':', color='0.75', linewidth=0.5)\n",
    "leg = plt.legend (loc=\"best\", ncol = 2, fontsize=13)\n",
    "\n",
    "plt.xlabel (r\"$\\tau$\")\n",
    "plt.yscale('log')\n",
    "\n",
    "plt.show()"
   ]
  },
  {
   "cell_type": "code",
   "execution_count": null,
   "id": "440c06e2",
   "metadata": {},
   "outputs": [],
   "source": [
    "plt.figure (figsize=(14, 7))\n",
    "\n",
    "x_y_a = np.array ([Vexp.x_y (tau) for tau in tau_a])\n",
    "\n",
    "plt.plot (tau_a, x_y_a[:,0], label='$x$')\n",
    "plt.plot (tau_a, x_y_a[:,1], label='$y$')\n",
    "plt.plot (tau_a, np.hypot(x_y_a[:,0], x_y_a[:,1]), label='$\\sqrt{x^2+y^2}$')\n",
    "\n",
    "plt.grid (visible=True, which='both', linestyle=':', color='0.75', linewidth=0.5)\n",
    "leg = plt.legend (loc=\"best\", ncol = 2, fontsize=13)\n",
    "\n",
    "plt.xlabel (r\"$\\tau$\")\n",
    "plt.yscale('symlog')\n",
    "\n",
    "plt.show()"
   ]
  },
  {
   "cell_type": "code",
   "execution_count": null,
   "id": "0ae42aa6",
   "metadata": {},
   "outputs": [],
   "source": [
    "#plt.figure (figsize=(14, 7))\n",
    "\n",
    "#x_y_a = np.array ([Vexp.x_y (tau) for tau in tau_a])\n",
    "\n",
    "#plt.plot (tau_a, 2.0 * x_y_a[:,0]**2-1.0, label='$w = 2x^2-1$')\n",
    "\n",
    "#plt.grid (visible=True, which='both', linestyle=':', color='0.75', linewidth=0.5)\n",
    "#leg = plt.legend (loc=\"best\", ncol = 2, fontsize=13)\n",
    "\n",
    "#plt.xlabel (r\"$\\tau$\")\n",
    "#plt.yscale('symlog')\n",
    "#plt.ylim(-1.1, 1.1)\n",
    "\n",
    "#plt.show()\n",
    "\n",
    "plt.figure (figsize=(14, 7))\n",
    "\n",
    "x_y_a = np.array ([Vexp.x_y (tau) for tau in tau_q_a])\n",
    "phi_q_a = [Vexp.phi (tau) for tau in tau_q_a]\n",
    "phi_q_a = np.array (phi_q_a)\n",
    "\n",
    "plt.plot (tau_q_a, phi_q_a, label='$\\phi$')\n",
    "plt.plot (tau_q_a, np.exp (-(phi_q_a / 0.08)**2), label=r'$f(\\phi)$')\n",
    "plt.plot (tau_q_a, 2.0 * x_y_a[:,0]**2-1.0, label='$w = 2x^2-1$')\n",
    "\n",
    "plt.grid (visible=True, which='both', linestyle=':', color='0.75', linewidth=0.5)\n",
    "leg = plt.legend (loc=\"best\", ncol = 2, fontsize=13)\n",
    "\n",
    "plt.xlabel (r\"$\\tau$\")\n",
    "#plt.yscale('symlog')\n",
    "plt.xlim(tau_qt_c, tau_qt_e)\n",
    "plt.ylim(-2.1, 2.1)\n",
    "\n",
    "plt.show()"
   ]
  },
  {
   "cell_type": "code",
   "execution_count": null,
   "id": "41770867",
   "metadata": {},
   "outputs": [],
   "source": [
    "class PyCSQ1DMagScalarField (Ncm.CSQ1D):\n",
    "  def __init__ (self, B, beta):\n",
    "    Ncm.CSQ1D.__init__ (self)\n",
    "    self.B = B\n",
    "    self.beta = beta\n",
    "\n",
    "  def do_eval_xi (self, model, t, k):\n",
    "    return model.eval_xi (t, k, self.B, self.beta)\n",
    "\n",
    "  def do_eval_nu (self, model, t, k):\n",
    "    return model.eval_nu (t, k)\n",
    "\n",
    "  def do_eval_nu2 (self, model, t, k):\n",
    "    return model.eval_nu (t, k)**2\n",
    "\n",
    "  def do_eval_m (self, model, t, k):\n",
    "    return model.eval_m (t, self.B, self.beta)\n",
    "\n",
    "  def do_eval_F1 (self, model, t, k):\n",
    "    return model.eval_F1 (t, k, self.B, self.beta)\n",
    "\n",
    "  def do_prepare (self, model):\n",
    "    pass \n",
    "\n",
    "  def eval_PB_PE (self, t, c_A2 = 0.0, c_PiA2 = 0.0):\n",
    "    if (c_A2 == 0.0) or (c_PiA2 == 0.0):\n",
    "      (J11, J12, J22) = self.get_J_at (None, t)    \n",
    "    A2   = 0.5 * J11 if c_A2   == 0.0 else c_A2\n",
    "    PiA2 = 0.5 * J22 if c_PiA2 == 0.0 else c_PiA2\n",
    "    F    = self.F_t (t)\n",
    "    xb   = self.xb\n",
    "    k    = self.get_k ()\n",
    "    y    = self.y_t (t)\n",
    "    RH   = self.RH\n",
    "    m    = self.eval_m (None, t, k)\n",
    "    PE   = PiA2   * (k / y)**3 / (2.0 * math.pi**2 * RH**4 * m)\n",
    "    PB   = m * A2 * (k / y)**5 / (2.0 * math.pi**2 * RH**4)\n",
    "\n",
    "    return PB, PE\n"
   ]
  },
  {
   "cell_type": "code",
   "execution_count": null,
   "id": "fc63790d",
   "metadata": {},
   "outputs": [],
   "source": [
    "csq1d = PyCSQ1DMagScalarField (B * 1.0e60, beta * 1.0e2)\n",
    "csq1d.set_k (k)"
   ]
  },
  {
   "cell_type": "code",
   "execution_count": null,
   "id": "15557cb5",
   "metadata": {},
   "outputs": [],
   "source": [
    "print(f\"Searching for WKB scale in ({tau_min}, {tau_qt_c})\")\n",
    "#(Found2, tf) = csq1d.find_adiab_time_limit (Vexp, tau_min, tau_qt_c, 1.0e0)"
   ]
  },
  {
   "cell_type": "code",
   "execution_count": null,
   "id": "4f5bf439",
   "metadata": {},
   "outputs": [],
   "source": [
    "csq1d.eval_F1 (Vexp, -1.0, k)"
   ]
  },
  {
   "cell_type": "code",
   "execution_count": null,
   "id": "46d519a9",
   "metadata": {},
   "outputs": [],
   "source": [
    "plt.figure (figsize=(14, 7))\n",
    "\n",
    "tau_ad_a = np.linspace(-1.35, -1.0, 100)\n",
    "tau_ad_a = tau_a\n",
    "\n",
    "F1_a = np.array ([csq1d.eval_F1 (Vexp, tau, k) for tau in tau_ad_a])\n",
    "F2_a = np.array ([csq1d.eval_F2 (Vexp, tau, k) for tau in tau_ad_a])\n",
    "nu_a = np.array ([csq1d.eval_nu (Vexp, tau, k) for tau in tau_ad_a])\n",
    "\n",
    "plt.plot (tau_ad_a, F1_a, label=r\"$F_1$\")\n",
    "#plt.plot (tau_ad_a, F2_a, label=r\"$F_2$\")\n",
    "\n",
    "plt.grid (visible=True, which='both', linestyle=':', color='0.75', linewidth=0.5)\n",
    "leg = plt.legend (loc=\"best\", ncol = 2, fontsize=13)\n",
    "\n",
    "plt.xlabel (r\"$\\tau$\")\n",
    "plt.xscale('symlog')\n",
    "plt.yscale('symlog')\n",
    "\n",
    "plt.show()"
   ]
  },
  {
   "cell_type": "code",
   "execution_count": null,
   "id": "428fe34a",
   "metadata": {},
   "outputs": [],
   "source": [
    "tau_min"
   ]
  },
  {
   "cell_type": "code",
   "execution_count": null,
   "id": "13579524",
   "metadata": {},
   "outputs": [],
   "source": [
    "tau_i = -15.5\n",
    "tau_f = 5.0\n",
    "csq1d.eval_adiab_at (Vexp, tau_i)"
   ]
  },
  {
   "cell_type": "code",
   "execution_count": null,
   "id": "825f9b1d",
   "metadata": {},
   "outputs": [],
   "source": [
    "csq1d.set_init_cond_adiab (Vexp, tau_i)"
   ]
  },
  {
   "cell_type": "code",
   "execution_count": null,
   "id": "1603d89c",
   "metadata": {},
   "outputs": [],
   "source": [
    "csq1d.set_ti (tau_i)\n",
    "csq1d.set_tf (tau_f)\n",
    "csq1d.prepare (Vexp)\n",
    "\n",
    "tau_evol_a, tau_s = csq1d.get_time_array ()\n",
    "tau_evol_a = np.array (tau_evol_a)"
   ]
  },
  {
   "cell_type": "code",
   "execution_count": null,
   "id": "4d27899c",
   "metadata": {},
   "outputs": [],
   "source": [
    "y_a         = []\n",
    "Abs_phi2_a  = []\n",
    "Abs_Pphi2_a = []\n",
    "\n",
    "for tau in tau_evol_a:\n",
    "    (J11, J12, J22) = csq1d.get_J_at (Vexp, tau)\n",
    "    Abs_phi2_a.append (0.5 * J11)\n",
    "    Abs_Pphi2_a.append (0.5 * J22)\n",
    "\n",
    "Abs_phi2_a  = np.array (Abs_phi2_a)\n",
    "Abs_Pphi2_a = np.array (Abs_Pphi2_a)"
   ]
  },
  {
   "cell_type": "code",
   "execution_count": null,
   "id": "594d9532",
   "metadata": {},
   "outputs": [],
   "source": [
    "mylw = 1\n",
    "\n",
    "plt.plot (tau_evol_a, np.sqrt (Abs_Pphi2_a), lw=mylw, label = f'$|\\Pi_A|(k_s = {k})$')\n",
    "\n",
    "leg = plt.legend (loc=\"best\", ncol = 2, fontsize=13)\n",
    "plt.yscale(\"log\")"
   ]
  },
  {
   "cell_type": "code",
   "execution_count": null,
   "id": "ff245de2",
   "metadata": {},
   "outputs": [],
   "source": [
    "mylw = 1\n",
    "\n",
    "g0 = np.sqrt (Abs_phi2_a)[0]\n",
    "\n",
    "plt.plot (tau_evol_a, np.abs(np.sqrt (Abs_phi2_a)/g0 - 1.0), lw=mylw, label = f'$|A_{{sk}}|(k_s = {k})$', linestyle='--')\n",
    "\n",
    "leg = plt.legend (loc=\"best\", ncol = 2, fontsize=13)\n",
    "plt.yscale(\"log\")"
   ]
  }
 ],
 "metadata": {
  "kernelspec": {
   "display_name": "Python 3 (ipykernel)",
   "language": "python",
   "name": "python3"
  },
  "language_info": {
   "codemirror_mode": {
    "name": "ipython",
    "version": 3
   },
   "file_extension": ".py",
   "mimetype": "text/x-python",
   "name": "python",
   "nbconvert_exporter": "python",
   "pygments_lexer": "ipython3"
  }
 },
 "nbformat": 4,
 "nbformat_minor": 5
}
