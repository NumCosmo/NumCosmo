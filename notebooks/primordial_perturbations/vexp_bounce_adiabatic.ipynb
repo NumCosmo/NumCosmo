{
 "cells": [
  {
   "cell_type": "markdown",
   "id": "09822a53",
   "metadata": {},
   "source": [
    "---\n",
    "**License**\n",
    "\n",
    " VexpBounce\n",
    "\n",
    " Tue Nov 15 12:13:14 2022\\\n",
    " Copyright  2022\\\n",
    " Sandro Dias Pinto Vitenti <vitenti@uel.br>\n",
    "\n",
    "---\n",
    "---\n",
    "\n",
    " MagDustBounce\\\n",
    " Copyright (C) 2022 Sandro Dias Pinto Vitenti <vitenti@uel.br>\n",
    "\n",
    " numcosmo is free software: you can redistribute it and/or modify it\n",
    " under the terms of the GNU General Public License as published by the\n",
    " Free Software Foundation, either version 3 of the License, or\n",
    " (at your option) any later version.\n",
    "\n",
    " numcosmo is distributed in the hope that it will be useful, but\n",
    " WITHOUT ANY WARRANTY; without even the implied warranty of\n",
    " MERCHANTABILITY or FITNESS FOR A PARTICULAR PURPOSE.\n",
    " See the GNU General Public License for more details.\n",
    "\n",
    " You should have received a copy of the GNU General Public License along\n",
    " with this program.  If not, see <http://www.gnu.org/licenses/>.\n",
    " \n",
    "---"
   ]
  },
  {
   "cell_type": "code",
   "execution_count": null,
   "id": "7dcaa200",
   "metadata": {},
   "outputs": [],
   "source": [
    "import sys\n",
    "import matplotlib.pyplot as plt\n",
    "import numpy as np\n",
    "from matplotlib.pyplot import cm\n",
    "\n",
    "from numcosmo_py import Ncm, Nc\n",
    "from numcosmo_py.plotting.tools import set_rc_params_article, latex_float"
   ]
  },
  {
   "cell_type": "markdown",
   "id": "d088def3",
   "metadata": {},
   "source": [
    "# Initializing the library"
   ]
  },
  {
   "cell_type": "code",
   "execution_count": null,
   "id": "7968aadd",
   "metadata": {},
   "outputs": [],
   "source": [
    "__name__ = \"NcContext\"\n",
    "\n",
    "Ncm.cfg_init()\n",
    "Ncm.cfg_set_log_handler(lambda msg: sys.stdout.write(msg) and sys.stdout.flush())"
   ]
  },
  {
   "cell_type": "markdown",
   "id": "a809c869",
   "metadata": {},
   "source": [
    "# Latex definition"
   ]
  },
  {
   "cell_type": "code",
   "execution_count": null,
   "id": "039b5406",
   "metadata": {},
   "outputs": [],
   "source": [
    "set_rc_params_article(ncol=2)"
   ]
  },
  {
   "cell_type": "markdown",
   "id": "67bcf96e",
   "metadata": {},
   "source": [
    "# Model initialization\n",
    "\n",
    "Creating a new background Vexp model"
   ]
  },
  {
   "cell_type": "code",
   "execution_count": null,
   "id": "bd83b1a2",
   "metadata": {},
   "outputs": [],
   "source": [
    "Vexp = Nc.HICosmoVexp.new()\n",
    "\n",
    "current_set = {\n",
    "    \"alphab\": 7.4847e-3,  # Alpha (# of e-fold\\s) at the bounce\n",
    "    \"sigmaphi\": 100.0,  # Width of the Gaussian solution for the WdW equation\n",
    "    \"xb\": 2.0e36,  # Inverse of the scale factor at the bounce (Initial condition)\n",
    "    \"dphi\": -9.0e-4,  # Deviation of the Gaussian solution for the WdW equation\n",
    "    \"OmegaL\": 1.0,  # H²(a when w=-1)/H²(a0). Basically gives the DE-dominated phase\n",
    "    \"Omegac\": 1.0,  # Omega_d???\n",
    "    \"H0\": 67.8,  # Hubble parameter today given by CMB observations\n",
    "    \"Bem\": 1.0e60,  # Amplitude of the EM gaussian coupling\n",
    "    \"betaem\": 3.2,  # Width of the EM gaussian coupling\n",
    "}\n",
    "\n",
    "Vexp.set_properties(**current_set)\n",
    "\n",
    "tc = Vexp.tau_xe(\n",
    "    1.0e15\n",
    ")  # Initial tau in expansion phase??? tau para quando a expansão é 10^15\n",
    "reltol = 1.0e-12  # Relative tolerance for solving differential equations\n",
    "\n",
    "Vexp.tau_xe(1.0)"
   ]
  },
  {
   "cell_type": "markdown",
   "id": "0266f16d",
   "metadata": {},
   "source": [
    "# Model integrated time\n",
    "\n",
    "Getting the time intervals for the computed model in terms of $\\alpha \\equiv \\ln(a/a_0)$ and $\\alpha = \\alpha_b + \\frac{\\tau^2}{2}$.\n",
    "\n"
   ]
  },
  {
   "cell_type": "code",
   "execution_count": null,
   "id": "25196b3b",
   "metadata": {},
   "outputs": [],
   "source": [
    "tau_min = Vexp.tau_min()  # Get initial time\n",
    "tau_max = Vexp.tau_max()  # Get final time\n",
    "tau_qt_c = Vexp.tau_qt_c()  # Get initial time of the quantum phase\n",
    "tau_qt_e = Vexp.tau_qt_e()  # Get final time of the quantum phase\n",
    "npoints = 5000\n",
    "\n",
    "tau_a = np.linspace(tau_min, tau_max, npoints)\n",
    "tau_q_a = np.linspace(tau_qt_c, tau_qt_e, npoints)\n",
    "\n",
    "print(f\"Vexp model prepared in the interval ({tau_min}, {tau_max})\")\n",
    "print(f\"Vexp quantum dominated interval ({tau_qt_c}, {tau_qt_e})\")"
   ]
  },
  {
   "cell_type": "markdown",
   "id": "3c633661-3b73-4bf6-883d-fcc39d45838b",
   "metadata": {},
   "source": [
    "Computing background functions"
   ]
  },
  {
   "cell_type": "code",
   "execution_count": null,
   "id": "25b11fe3-543a-4254-901a-bdffb0408cc4",
   "metadata": {},
   "outputs": [],
   "source": [
    "alpha_a = [Vexp.alpha(tau) for tau in tau_a]\n",
    "phi_a = np.array([Vexp.phi(tau) for tau in tau_a])\n",
    "phi_q_a = np.array([Vexp.phi(tau) for tau in tau_q_a])\n",
    "deta_s = Ncm.SplineCubicNotaknot.new()\n",
    "deta_s.set_array(tau_a, [Vexp.eval_nu(tau, 1.0) for tau in tau_a], True)\n",
    "rescale = Vexp.RH_planck() / np.exp(Vexp.alpha_0e())\n",
    "eta_a = [\n",
    "    (\n",
    "        -deta_s.eval_integ(tau, 0.0) * rescale\n",
    "        if tau < 1.0\n",
    "        else deta_s.eval_integ(0.0, tau) * rescale\n",
    "    )\n",
    "    for tau in tau_a\n",
    "]\n",
    "RS_a = np.array(\n",
    "    [Vexp.Ricci_scale(tau) for tau in tau_a]\n",
    ")  # Hubble scale goes to 0 at the bounce, but not the Ricci scalar\n",
    "nu_a = np.array([Vexp.eval_nu(tau, 1.0) for tau in tau_a])\n",
    "x_y_a = np.array([Vexp.x_y(tau) for tau in tau_a])"
   ]
  },
  {
   "cell_type": "markdown",
   "id": "e88d0550",
   "metadata": {},
   "source": [
    "# Consistence check\n",
    "\n",
    "Plotting $\\alpha(\\tau) - \\alpha_b$."
   ]
  },
  {
   "cell_type": "code",
   "execution_count": null,
   "id": "076f80d0",
   "metadata": {},
   "outputs": [],
   "source": [
    "plt.figure()\n",
    "\n",
    "plt.plot(tau_a, alpha_a, label=r\"$\\alpha$\")\n",
    "\n",
    "plt.grid(visible=True, which=\"both\", linestyle=\":\", color=\"0.75\", linewidth=0.5)\n",
    "leg = plt.legend(loc=\"best\", ncol=2, fontsize=13)\n",
    "\n",
    "plt.xlabel(r\"$\\tau$\")\n",
    "plt.show()\n",
    "pass"
   ]
  },
  {
   "cell_type": "markdown",
   "id": "30583ff4",
   "metadata": {},
   "source": [
    "# Plotting scale factor as a function of tau.\n",
    "\n",
    "$a(\\tau)$"
   ]
  },
  {
   "cell_type": "code",
   "execution_count": null,
   "id": "7fcf428b",
   "metadata": {},
   "outputs": [],
   "source": [
    "plt.figure()\n",
    "\n",
    "print(Vexp.alpha_0e())  # alpha_0 na expansão\n",
    "print(Vexp.tau_xe(1.0))\n",
    "\n",
    "plt.plot(tau_a, np.exp(alpha_a) / Vexp.props.xb, label=r\"$a$\")\n",
    "\n",
    "plt.grid(visible=True, which=\"both\", linestyle=\":\", color=\"0.75\", linewidth=0.5)\n",
    "leg = plt.legend(loc=\"best\", ncol=2, fontsize=13)\n",
    "\n",
    "plt.xlabel(r\"$\\tau$\")\n",
    "plt.yscale(\"log\")\n",
    "plt.show()\n",
    "pass"
   ]
  },
  {
   "cell_type": "markdown",
   "id": "11ffc7cb",
   "metadata": {},
   "source": [
    "# Plotting the scalar field as a function of tau.\n",
    "\n",
    "$\\phi(\\tau)$"
   ]
  },
  {
   "cell_type": "code",
   "execution_count": null,
   "id": "911f016d",
   "metadata": {},
   "outputs": [],
   "source": [
    "plt.figure()\n",
    "\n",
    "plt.plot(tau_a, phi_a, label=r\"$\\phi$\")\n",
    "\n",
    "plt.grid(visible=True, which=\"both\", linestyle=\":\", color=\"0.75\", linewidth=0.5)\n",
    "leg = plt.legend(loc=\"best\", ncol=2, fontsize=13)\n",
    "\n",
    "plt.xlabel(r\"$\\tau$\")\n",
    "plt.show()"
   ]
  },
  {
   "cell_type": "code",
   "execution_count": null,
   "id": "1a0b6299-24d4-4e79-a32a-855412bde8ca",
   "metadata": {},
   "outputs": [],
   "source": [
    "plt.figure()\n",
    "\n",
    "plt.plot(tau_q_a, phi_q_a, label=r\"$\\phi$\")\n",
    "\n",
    "plt.grid(visible=True, which=\"both\", linestyle=\":\", color=\"0.75\", linewidth=0.5)\n",
    "leg = plt.legend(loc=\"best\", ncol=2, fontsize=13)\n",
    "\n",
    "plt.xlabel(r\"$\\tau$\")\n",
    "plt.show()"
   ]
  },
  {
   "cell_type": "code",
   "execution_count": null,
   "id": "6165b7a9-60eb-46cd-9cdd-8388d2ad2fa0",
   "metadata": {},
   "outputs": [],
   "source": [
    "plt.figure()\n",
    "\n",
    "plt.plot(eta_a, phi_a, label=r\"$\\phi$\")\n",
    "\n",
    "plt.grid(visible=True, which=\"both\", linestyle=\":\", color=\"0.75\", linewidth=0.5)\n",
    "leg = plt.legend(loc=\"best\", ncol=2, fontsize=13)\n",
    "\n",
    "plt.xscale(\"symlog\", linthresh=1.0e-1)\n",
    "plt.xlabel(r\"$\\eta$\")\n",
    "plt.show()"
   ]
  },
  {
   "cell_type": "markdown",
   "id": "33a74f85",
   "metadata": {},
   "source": [
    "# Ploting Ricci scalar and mode frequency.\n",
    "\n",
    "$R(\\tau)$ and $\\nu(\\tau)$"
   ]
  },
  {
   "cell_type": "code",
   "execution_count": null,
   "id": "1ef41aa3",
   "metadata": {},
   "outputs": [],
   "source": [
    "plt.figure()\n",
    "\n",
    "plt.plot(tau_a, RS_a, label=r\"$R_s$\")\n",
    "plt.plot(tau_a, nu_a, label=r\"$\\nu$\")\n",
    "\n",
    "plt.grid(visible=True, which=\"both\", linestyle=\":\", color=\"0.75\", linewidth=0.5)\n",
    "leg = plt.legend(loc=\"best\", ncol=2, fontsize=13)\n",
    "\n",
    "plt.xlabel(r\"$\\tau$\")\n",
    "plt.yscale(\"log\")\n",
    "\n",
    "plt.show()"
   ]
  },
  {
   "cell_type": "markdown",
   "id": "dcdcb840",
   "metadata": {},
   "source": [
    "# Plotting background field variables\n",
    "\n",
    "$x(\\tau)$, $y(\\tau)$ and $\\sqrt{x^2 + y^2}$."
   ]
  },
  {
   "cell_type": "code",
   "execution_count": null,
   "id": "440c06e2",
   "metadata": {},
   "outputs": [],
   "source": [
    "plt.figure()\n",
    "\n",
    "plt.plot(tau_a, x_y_a[:, 0], label=\"$x$\")\n",
    "plt.plot(tau_a, x_y_a[:, 1], label=\"$y$\")\n",
    "plt.plot(tau_a, np.hypot(x_y_a[:, 0], x_y_a[:, 1]), label=r\"$\\sqrt{x^2+y^2}$\")\n",
    "\n",
    "plt.grid(visible=True, which=\"both\", linestyle=\":\", color=\"0.75\", linewidth=0.5)\n",
    "leg = plt.legend(loc=\"best\", ncol=2, fontsize=13)\n",
    "\n",
    "plt.xlabel(r\"$\\tau$\")\n",
    "plt.yscale(\"symlog\")\n",
    "\n",
    "plt.show()\n",
    "\n",
    "# Close-up on the Friedmann constraint in the quantum regime\n",
    "plt.figure()\n",
    "\n",
    "plt.plot(\n",
    "    tau_a,\n",
    "    np.sqrt(x_y_a[:, 0] * x_y_a[:, 0] + x_y_a[:, 1] * x_y_a[:, 1]),\n",
    "    label=\"$x^2+y^2$\",\n",
    ")\n",
    "plt.plot(\n",
    "    tau_a,\n",
    "    np.hypot(x_y_a[:, 0], x_y_a[:, 1]),\n",
    "    label=r\"$\\sqrt{x^2+y^2}$\",\n",
    "    linestyle=\"dashed\",\n",
    ")\n",
    "\n",
    "plt.xlim(-0.25, 0.25)\n",
    "plt.yscale(\"symlog\")\n",
    "\n",
    "plt.show()"
   ]
  },
  {
   "cell_type": "markdown",
   "id": "566ed5a5",
   "metadata": {},
   "source": [
    "# Plotting magnetic field background quantities \n",
    "\n",
    "$\\phi(\\tau)$, $f(\\phi(\\tau)) = e^{-\\phi^2/\\beta^2}$ and the equation of state $w$."
   ]
  },
  {
   "cell_type": "code",
   "execution_count": null,
   "id": "0ae42aa6",
   "metadata": {},
   "outputs": [],
   "source": [
    "plt.figure()\n",
    "\n",
    "plt.plot(tau_a, phi_a, label=r\"$\\phi$\")\n",
    "# plt.plot (tau_a, np.exp (-(phi_a / beta)**2), label=r'$f(\\phi)$')\n",
    "plt.plot(tau_a, 2.0 * x_y_a[:, 0] ** 2 - 1.0, label=\"$w = 2x^2-1$\")\n",
    "\n",
    "plt.grid(visible=True, which=\"both\", linestyle=\":\", color=\"0.75\", linewidth=0.5)\n",
    "leg = plt.legend(loc=\"best\", ncol=2, fontsize=13)\n",
    "\n",
    "plt.xlabel(r\"$\\tau$\")\n",
    "# plt.yscale('symlog')\n",
    "plt.xlim(-2.0, tau_qt_e)\n",
    "plt.ylim(-1.1, 1.1)\n",
    "\n",
    "plt.show()\n",
    "\n",
    "###\n",
    "### Equation of state\n",
    "###\n",
    "\n",
    "plt.figure()\n",
    "\n",
    "plt.plot(tau_a, 2.0 * x_y_a[:, 0] ** 2 - 1.0, label=\"$w = 2x^2-1$\")\n",
    "\n",
    "plt.grid(visible=True, which=\"both\", linestyle=\":\", color=\"0.75\", linewidth=0.5)\n",
    "leg = plt.legend(loc=\"best\", ncol=2, fontsize=13)\n",
    "plt.xlim(-0.025, 0.025)\n",
    "plt.xlabel(r\"$\\tau$\")\n",
    "\n",
    "plt.show()"
   ]
  },
  {
   "cell_type": "markdown",
   "id": "3fd4824a",
   "metadata": {},
   "source": [
    "# Defines the electromagnetic field model\n",
    "\n",
    "This model use the Complex Structure Quantization method CSQ1D."
   ]
  },
  {
   "cell_type": "code",
   "execution_count": null,
   "id": "b97f932b-65fa-4639-96c4-bdc8db63bb61",
   "metadata": {},
   "outputs": [],
   "source": [
    "tau_f = 9.3\n",
    "\n",
    "pad = Nc.HIPertAdiab.new()\n",
    "pad.set_initial_condition_type(Ncm.CSQ1DInitialStateType.ADIABATIC4)\n",
    "pad.set_k(1.0)\n",
    "pad.set_ti(Vexp.tau_min())\n",
    "pad.set_tf(tau_f)\n",
    "pad.set_vacuum_max_time(-1.0)\n",
    "pad.set_vacuum_reltol(1.0e-8)\n",
    "pad.set_reltol(reltol)"
   ]
  },
  {
   "cell_type": "markdown",
   "id": "2eb3f807",
   "metadata": {},
   "source": [
    "# Finding starting point as the end of the adiabatic phase\n",
    "\n",
    "Setting limit for the adiabatic phase with $10^{-9}$."
   ]
  },
  {
   "cell_type": "code",
   "execution_count": null,
   "id": "15557cb5",
   "metadata": {},
   "outputs": [],
   "source": [
    "print(f\"Searching for WKB scale in ({tau_min}, {tau_qt_c})\")\n",
    "\n",
    "(Found_tau_i, tau_i) = pad.find_adiab_time_limit(\n",
    "    Vexp, tau_min, -12.0, 1.0e-9\n",
    ")\n",
    "print(f\"{Found_tau_i} {tau_i}\")"
   ]
  },
  {
   "cell_type": "markdown",
   "id": "cc51f921",
   "metadata": {},
   "source": [
    "# Checking if the search for the starting time was successful "
   ]
  },
  {
   "cell_type": "code",
   "execution_count": null,
   "id": "4f5bf439",
   "metadata": {},
   "outputs": [],
   "source": [
    "print(\n",
    "    f\"Found ({Found_tau_i}) WKB scale for no-potential at     {tau_i:7.3f}\"\n",
    ")\n",
    "\n",
    "print(pad.eval_F1(Vexp, tau_i))\n",
    "print(pad.eval_F2(Vexp, tau_i))\n",
    "\n",
    "state = Ncm.CSQ1DState.new()\n",
    "\n",
    "print(pad.compute_adiab(Vexp, tau_i, state)[0].get_ag())"
   ]
  },
  {
   "cell_type": "code",
   "execution_count": null,
   "id": "46d519a9",
   "metadata": {},
   "outputs": [],
   "source": [
    "plt.figure()\n",
    "\n",
    "tau_ad_a = tau_a\n",
    "\n",
    "F1_a = np.abs([pad.eval_F1(Vexp, tau) for tau in tau_ad_a])\n",
    "F2_a = np.abs([pad.eval_F2(Vexp, tau) for tau in tau_ad_a])\n",
    "\n",
    "plt.plot(tau_ad_a, F1_a, label=r\"$|F_1|$\")\n",
    "plt.plot(tau_ad_a, F2_a, label=r\"$|F_2|$\")\n",
    "\n",
    "plt.grid(visible=True, which=\"both\", linestyle=\":\", color=\"0.75\", linewidth=0.5)\n",
    "leg = plt.legend(loc=\"best\", ncol=2, fontsize=13)\n",
    "\n",
    "plt.ylim(1.0e-20, None)\n",
    "plt.xlabel(r\"$\\tau$\")\n",
    "plt.yscale(\"log\")\n",
    "\n",
    "plt.show()"
   ]
  },
  {
   "cell_type": "code",
   "execution_count": null,
   "id": "ee12fb58-e1e8-42f3-9184-6e27de1b5061",
   "metadata": {},
   "outputs": [],
   "source": [
    "pad.prepare(Vexp)\n",
    "tau_evol = np.array(pad.get_time_array()[0])\n",
    "Pzeta_array = [pad.eval_powspec_zeta_at(Vexp, tau) for tau in tau_evol]\n"
   ]
  },
  {
   "cell_type": "code",
   "execution_count": null,
   "id": "3b581dae",
   "metadata": {},
   "outputs": [],
   "source": [
    "fig1, ax1 = plt.subplots()\n",
    "mylw=1\n",
    "plt.plot(tau_evol, Pzeta_array, lw=mylw, label=fr\"$P_\\zeta(k_s = {pad.get_k()})$\")\n",
    "\n",
    "ax1.legend(loc=\"best\", ncol=2, fontsize=13)\n",
    "ax1.set_yscale(\"log\")"
   ]
  },
  {
   "cell_type": "code",
   "execution_count": null,
   "id": "86c4839c",
   "metadata": {},
   "outputs": [],
   "source": [
    "tau_ad_a = np.linspace(-6.0, 6.00, 6)\n",
    "\n",
    "ki = 1.0\n",
    "kf = 4.0e3\n",
    "k_a = np.geomspace(ki, kf, 300)\n",
    "k_a_plot = np.geomspace(ki, kf, 1000)\n",
    "\n",
    "pad.prepare_spectrum(Vexp, k_a, tau_ad_a)"
   ]
  },
  {
   "cell_type": "code",
   "execution_count": null,
   "id": "109cb76c-43dc-4986-964a-313e754f2042",
   "metadata": {},
   "outputs": [],
   "source": [
    "Pzeta = pad.eval_powspec_zeta(Vexp)"
   ]
  },
  {
   "cell_type": "code",
   "execution_count": null,
   "id": "d98676a2-778f-4271-ba0b-140fc0a7eee0",
   "metadata": {},
   "outputs": [],
   "source": [
    "tau = 5.0\n",
    "ps_zeta_tau = [Pzeta.eval(Vexp, tau, k) for k in k_a_plot]\n",
    "coeffs = np.polyfit(np.log(k_a_plot), np.log(k_a_plot**3 * ps_zeta_tau), 1)"
   ]
  },
  {
   "cell_type": "code",
   "execution_count": null,
   "id": "c515086b-8056-4196-bbb4-f2b8cef30bb2",
   "metadata": {},
   "outputs": [],
   "source": [
    "fig1, ax1 = plt.subplots()\n",
    "mylw=1\n",
    "plt.plot(k_a_plot, k_a_plot**3 * ps_zeta_tau, lw=mylw, label=fr\"$k^3P_\\zeta(\\tau = {tau})$\")\n",
    "plt.plot(k_a_plot, np.exp(np.log(k_a_plot) * coeffs[0] + coeffs[1]), lw=mylw, label=fr\"linear fit\")\n",
    "\n",
    "ax1.legend(loc=\"best\", ncol=2, fontsize=13)\n",
    "ax1.set_xscale(\"log\")\n",
    "ax1.set_yscale(\"log\")"
   ]
  },
  {
   "cell_type": "code",
   "execution_count": null,
   "id": "242c7bbc-ebc9-4303-8586-7f97111f95be",
   "metadata": {},
   "outputs": [],
   "source": [
    "coeffs[0]"
   ]
  },
  {
   "cell_type": "code",
   "execution_count": null,
   "id": "4d3f2bcb-a895-4974-82ee-9a04531b59df",
   "metadata": {},
   "outputs": [],
   "source": []
  }
 ],
 "metadata": {
  "kernelspec": {
   "display_name": "Python 3 (ipykernel)",
   "language": "python",
   "name": "python3"
  },
  "language_info": {
   "codemirror_mode": {
    "name": "ipython",
    "version": 3
   },
   "file_extension": ".py",
   "mimetype": "text/x-python",
   "name": "python",
   "nbconvert_exporter": "python",
   "pygments_lexer": "ipython3"
  }
 },
 "nbformat": 4,
 "nbformat_minor": 5
}
