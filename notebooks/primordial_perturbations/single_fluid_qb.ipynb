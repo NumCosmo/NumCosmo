{
 "cells": [
  {
   "cell_type": "code",
   "execution_count": null,
   "id": "a5537045-5ff7-4a4f-9ae0-3f71a250f6f7",
   "metadata": {},
   "outputs": [],
   "source": [
    "from numcosmo_py import Ncm, Nc\n",
    "import sys\n",
    "import math\n",
    "import matplotlib.pyplot as plt\n",
    "import numpy as np\n",
    "import warnings\n",
    "from matplotlib.pyplot import cm\n",
    "\n",
    "from scipy.integrate import odeint\n",
    "from scipy.interpolate import interp1d\n",
    "from numcosmo_py.plotting.tools import set_rc_params_article, latex_float"
   ]
  },
  {
   "cell_type": "code",
   "execution_count": null,
   "id": "c51de52a-3e9f-41d0-abbf-42273e752ca6",
   "metadata": {},
   "outputs": [],
   "source": [
    "__name__ = \"NcContext\"\n",
    "\n",
    "Ncm.cfg_init ()\n",
    "Ncm.cfg_set_log_handler (lambda msg: sys.stdout.write (msg) and sys.stdout.flush ())"
   ]
  },
  {
   "cell_type": "code",
   "execution_count": null,
   "id": "99c566ef-a694-4756-bb1f-47f19aaed50c",
   "metadata": {},
   "outputs": [],
   "source": [
    "set_rc_params_article(ncol=2)"
   ]
  },
  {
   "cell_type": "code",
   "execution_count": null,
   "id": "18a16757-a85b-4b0e-a7e4-7ce5e08501e0",
   "metadata": {},
   "outputs": [],
   "source": [
    "qgw = Nc.HICosmoQGW.new()\n",
    "adiab = Nc.HIPertAdiab.new()"
   ]
  },
  {
   "cell_type": "code",
   "execution_count": null,
   "id": "6c8eee25-27f7-4ad2-a62d-a2a19226f48c",
   "metadata": {},
   "outputs": [],
   "source": [
    "qgw.props.xb = 1.0e35\n",
    "qgw.props.w = 1.0e-5"
   ]
  },
  {
   "cell_type": "code",
   "execution_count": null,
   "id": "d4b4bf8d-50b2-40c8-8532-59a3712daefb",
   "metadata": {},
   "outputs": [],
   "source": [
    "\n",
    "tAi = -200.0\n",
    "tAf = -5.0e-2\n",
    "\n",
    "ki = 1.0e0\n",
    "kf = 1.0e2\n",
    "k_a = np.geomspace(ki, kf, 1000)\n",
    "\n",
    "adiab.set_k(1.0e-1)\n",
    "adiab.set_ti(-200.0)\n",
    "adiab.set_tf(60.0)\n",
    "adiab.set_reltol(1.0e-11)\n",
    "adiab.set_max_order_2(False)\n",
    "\n",
    "Found, tAD = adiab.find_adiab_time_limit(qgw, tAi, tAf, 1.0e-3)\n",
    "\n",
    "print(f\"Found: {Found}, tAD: {tAD}\")"
   ]
  },
  {
   "cell_type": "code",
   "execution_count": null,
   "id": "804cf6e5-dfc7-4286-ac78-a5c9152b2763",
   "metadata": {},
   "outputs": [],
   "source": [
    "adiab.set_init_cond_adiab(qgw, tAD)\n",
    "adiab.prepare(qgw)"
   ]
  },
  {
   "cell_type": "code",
   "execution_count": null,
   "id": "e530eb26-a982-4535-8648-9d94ddf04dc5",
   "metadata": {},
   "outputs": [],
   "source": [
    "ta, ts = adiab.get_time_array()"
   ]
  },
  {
   "cell_type": "code",
   "execution_count": null,
   "id": "fb7981b8-3870-4bca-b603-7e0ce02e4280",
   "metadata": {},
   "outputs": [],
   "source": [
    "Pzeta = [adiab.eval_powspec_zeta_at(qgw, t) for t in ta]\n",
    "PPsi = [adiab.eval_powspec_Psi_at(qgw, t) for t in ta]\n",
    "Pdrho = [adiab.eval_powspec_drho_at(qgw, t) for t in ta]"
   ]
  },
  {
   "cell_type": "code",
   "execution_count": null,
   "id": "555ba73a-ec5a-4dfa-9ab7-8ddc46af0df5",
   "metadata": {},
   "outputs": [],
   "source": [
    "fig = plt.figure()\n",
    "\n",
    "plt.plot(ta, Pzeta, label=\"$P_\\zeta$\")\n",
    "plt.plot(ta, PPsi, label=\"$P_\\Psi$\")\n",
    "plt.plot(ta, Pdrho, label=\"$P_{\\delta_\\rho}$\")\n",
    "\n",
    "plt.yscale('log')\n",
    "\n",
    "plt.grid()\n",
    "plt.legend()"
   ]
  },
  {
   "cell_type": "code",
   "execution_count": null,
   "id": "32a86b73-2dc9-40d3-bd2b-44c1852140c5",
   "metadata": {},
   "outputs": [],
   "source": [
    "ka = np.geomspace(1.0e-1, 1.0e10, 1000)\n",
    "tau_a = np.linspace(-250.0, 10.0, 200)"
   ]
  },
  {
   "cell_type": "code",
   "execution_count": null,
   "id": "2f5d6059-ceb5-4a2a-8017-f11f42e84869",
   "metadata": {},
   "outputs": [],
   "source": [
    "adiab.prepare_spectrum(qgw, -1.0, 1.0e-7, ka, tau_a)"
   ]
  },
  {
   "cell_type": "code",
   "execution_count": null,
   "id": "2f3ea952-2793-4aee-bb8b-222bd4ce3d18",
   "metadata": {},
   "outputs": [],
   "source": [
    "Pzetak = adiab.eval_powspec_zeta(qgw)\n",
    "PPsik = adiab.eval_powspec_Psi(qgw)\n",
    "Pdrhok = adiab.eval_powspec_drho(qgw)"
   ]
  },
  {
   "cell_type": "code",
   "execution_count": null,
   "id": "fab4ff05-8f89-4f47-b0aa-4e4449244e61",
   "metadata": {},
   "outputs": [],
   "source": [
    "fig = plt.figure()\n",
    "\n",
    "tau_plot_a = [-180, -162.8, -10, 10]\n",
    "for tau in tau_plot_a:\n",
    "    plt.plot(ka, [Pzetak.eval(None, tau, k) for k in ka], label=f\"$P_\\zeta({tau})$\")\n",
    "\n",
    "plt.xscale('log')\n",
    "plt.yscale('log')\n",
    "plt.legend()\n",
    "pass"
   ]
  },
  {
   "cell_type": "code",
   "execution_count": null,
   "id": "229e071d-ccf7-491b-927b-9d9fac4a136a",
   "metadata": {},
   "outputs": [],
   "source": [
    "fig = plt.figure()\n",
    "\n",
    "tau_plot_a = [-180, -162.8, -10, 10]\n",
    "for tau in tau_plot_a:\n",
    "    plt.plot(ka, [PPsik.eval(None, tau, k) for k in ka], label=rf\"$P_\\Psi({tau})$\")\n",
    "\n",
    "plt.xscale('log')\n",
    "plt.yscale('log')\n",
    "plt.legend()\n",
    "pass"
   ]
  },
  {
   "cell_type": "code",
   "execution_count": null,
   "id": "ca049064-099c-40d8-a36a-f827252c681d",
   "metadata": {},
   "outputs": [],
   "source": [
    "fig = plt.figure()\n",
    "\n",
    "tau_plot_a = [-180, -162.8, -10, 10]\n",
    "for tau in tau_plot_a:\n",
    "    plt.plot(ka, [Pdrhok.eval(None, tau, k) for k in ka], label=rf\"$P_{{\\delta_\\rho}}({tau})$\")\n",
    "\n",
    "plt.xscale('log')\n",
    "plt.yscale('log')\n",
    "plt.legend()\n",
    "pass"
   ]
  },
  {
   "cell_type": "code",
   "execution_count": null,
   "id": "1ff68299-7e6f-4eee-b7ee-159b13729a16",
   "metadata": {},
   "outputs": [],
   "source": [
    "psf_zeta = Ncm.PowspecFilter.new(Pzetak, Ncm.PowspecFilterType.TOPHAT)\n",
    "psf_zeta.set_best_lnr0()\n",
    "\n",
    "psf_Psi = Ncm.PowspecFilter.new(PPsik, Ncm.PowspecFilterType.TOPHAT)\n",
    "psf_Psi.set_best_lnr0()\n",
    "\n",
    "psf_drho = Ncm.PowspecFilter.new(Pdrhok, Ncm.PowspecFilterType.TOPHAT)\n",
    "psf_drho.set_best_lnr0()\n"
   ]
  },
  {
   "cell_type": "code",
   "execution_count": null,
   "id": "725984f3-35b4-4d06-b5a0-533f29cf3ae7",
   "metadata": {},
   "outputs": [],
   "source": [
    "psf_zeta.prepare(qgw)\n",
    "psf_Psi.prepare(qgw)\n",
    "psf_drho.prepare(qgw)"
   ]
  },
  {
   "cell_type": "code",
   "execution_count": null,
   "id": "e273e7ba-ffc3-40e7-8e09-d94aede5e17e",
   "metadata": {},
   "outputs": [],
   "source": [
    "print(psf_zeta.eval_sigma(10.0, 1.0))\n",
    "print(psf_Psi.eval_sigma(10.0, 1.0))\n",
    "print(psf_drho.eval_sigma(10.0, 1.0))"
   ]
  },
  {
   "cell_type": "code",
   "execution_count": null,
   "id": "424c8cf5-c04c-47a0-983e-ff9083848a00",
   "metadata": {},
   "outputs": [],
   "source": [
    "r_a = np.geomspace(psf_zeta.get_r_min(), psf_zeta.get_r_max(), 1000)\n",
    "sigma_r = [psf_drho.eval_sigma(-170.0, r) for r in r_a]"
   ]
  },
  {
   "cell_type": "code",
   "execution_count": null,
   "id": "41b59f4c-1bbf-4dbf-8f6a-c5b9bf2d6d2e",
   "metadata": {},
   "outputs": [],
   "source": [
    "fig = plt.figure()\n",
    "\n",
    "plt.plot(r_a, sigma_r)\n",
    "plt.xscale('log')\n",
    "plt.yscale('log')"
   ]
  },
  {
   "cell_type": "code",
   "execution_count": null,
   "id": "21934167-007f-4794-95f2-508c7cb64b0b",
   "metadata": {},
   "outputs": [],
   "source": []
  }
 ],
 "metadata": {
  "kernelspec": {
   "display_name": "Python 3 (ipykernel)",
   "language": "python",
   "name": "python3"
  },
  "language_info": {
   "codemirror_mode": {
    "name": "ipython",
    "version": 3
   },
   "file_extension": ".py",
   "mimetype": "text/x-python",
   "name": "python",
   "nbconvert_exporter": "python",
   "pygments_lexer": "ipython3"
  }
 },
 "nbformat": 4,
 "nbformat_minor": 5
}
