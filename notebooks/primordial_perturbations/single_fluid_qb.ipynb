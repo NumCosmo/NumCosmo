{
 "cells": [
  {
   "cell_type": "code",
   "execution_count": null,
   "id": "a5537045-5ff7-4a4f-9ae0-3f71a250f6f7",
   "metadata": {},
   "outputs": [],
   "source": [
    "from numcosmo_py import Ncm, Nc\n",
    "import sys\n",
    "import math\n",
    "import matplotlib.pyplot as plt\n",
    "import numpy as np\n",
    "import warnings\n",
    "from matplotlib.pyplot import cm\n",
    "from scipy.special import erfc, erf\n",
    "from scipy.integrate import odeint\n",
    "from scipy.interpolate import interp1d\n",
    "from numcosmo_py.plotting.tools import set_rc_params_article, latex_float"
   ]
  },
  {
   "cell_type": "code",
   "execution_count": null,
   "id": "c51de52a-3e9f-41d0-abbf-42273e752ca6",
   "metadata": {},
   "outputs": [],
   "source": [
    "__name__ = \"NcContext\"\n",
    "\n",
    "Ncm.cfg_init ()\n",
    "Ncm.cfg_set_log_handler (lambda msg: sys.stdout.write (msg) and sys.stdout.flush ())"
   ]
  },
  {
   "cell_type": "code",
   "execution_count": null,
   "id": "99c566ef-a694-4756-bb1f-47f19aaed50c",
   "metadata": {},
   "outputs": [],
   "source": [
    "set_rc_params_article(ncol=2)"
   ]
  },
  {
   "cell_type": "code",
   "execution_count": null,
   "id": "18a16757-a85b-4b0e-a7e4-7ce5e08501e0",
   "metadata": {},
   "outputs": [],
   "source": [
    "qgw = Nc.HICosmoQGW.new()\n",
    "adiab = Nc.HIPertAdiab.new()"
   ]
  },
  {
   "cell_type": "code",
   "execution_count": null,
   "id": "6c8eee25-27f7-4ad2-a62d-a2a19226f48c",
   "metadata": {},
   "outputs": [],
   "source": [
    "qgw.props.xb = 1.0e35\n",
    "qgw.props.w = 1.0e-18"
   ]
  },
  {
   "cell_type": "code",
   "execution_count": null,
   "id": "d4b4bf8d-50b2-40c8-8532-59a3712daefb",
   "metadata": {},
   "outputs": [],
   "source": [
    "\n",
    "tAi = -300.0\n",
    "tAf = -5.0e-2\n",
    "\n",
    "ki = 1.0e0\n",
    "kf = 1.0e2\n",
    "k_a = np.geomspace(ki, kf, 1000)\n",
    "\n",
    "adiab.set_k(1.0e-1)\n",
    "adiab.set_ti(-300.0)\n",
    "adiab.set_tf(-1.0)\n",
    "adiab.set_reltol(1.0e-11)\n",
    "adiab.set_max_order_2(False)\n",
    "\n",
    "Found, tAD = adiab.find_adiab_time_limit(qgw, tAi, tAf, 1.0e-3)\n",
    "\n",
    "print(f\"Found: {Found}, tAD: {tAD}\")"
   ]
  },
  {
   "cell_type": "code",
   "execution_count": null,
   "id": "804cf6e5-dfc7-4286-ac78-a5c9152b2763",
   "metadata": {},
   "outputs": [],
   "source": [
    "adiab.set_init_cond_adiab(qgw, tAD)\n",
    "adiab.prepare(qgw)"
   ]
  },
  {
   "cell_type": "code",
   "execution_count": null,
   "id": "e530eb26-a982-4535-8648-9d94ddf04dc5",
   "metadata": {},
   "outputs": [],
   "source": [
    "ta, ts = adiab.get_time_array()"
   ]
  },
  {
   "cell_type": "code",
   "execution_count": null,
   "id": "fb7981b8-3870-4bca-b603-7e0ce02e4280",
   "metadata": {},
   "outputs": [],
   "source": [
    "Pzeta = [adiab.eval_powspec_zeta_at(qgw, t) for t in ta]\n",
    "PPsi = [adiab.eval_powspec_Psi_at(qgw, t) for t in ta]\n",
    "Pdrho = [adiab.eval_powspec_drho_at(qgw, t) for t in ta]"
   ]
  },
  {
   "cell_type": "code",
   "execution_count": null,
   "id": "555ba73a-ec5a-4dfa-9ab7-8ddc46af0df5",
   "metadata": {},
   "outputs": [],
   "source": [
    "fig = plt.figure()\n",
    "\n",
    "plt.plot(ta, Pzeta, label=\"$P_\\zeta$\")\n",
    "plt.plot(ta, PPsi, label=\"$P_\\Psi$\")\n",
    "plt.plot(ta, Pdrho, label=r\"$P_{\\delta_\\rho}$\")\n",
    "\n",
    "plt.hlines(2.0e-9, xmin=min(ta), xmax=max(ta))\n",
    "plt.yscale('log')\n",
    "\n",
    "plt.grid()\n",
    "plt.legend()"
   ]
  },
  {
   "cell_type": "code",
   "execution_count": null,
   "id": "867871b9-1ecc-4635-8b20-909bd92bc1b3",
   "metadata": {},
   "outputs": [],
   "source": [
    "adiab.eval_cosmic_time(qgw, -170)\n",
    "pass"
   ]
  },
  {
   "cell_type": "code",
   "execution_count": null,
   "id": "a8518196-073e-49a5-8fc8-ed66b5abbead",
   "metadata": {},
   "outputs": [],
   "source": [
    "def tau_jeans_k(k):\n",
    "    t0 = (qgw.props.xb * 3.0 * qgw.props.Omegaw / (k**2 * qgw.props.w * 2.0))**(1.5)\n",
    "    return -math.acosh(t0 if t0 > 1.0 else 1.0)\n",
    "\n",
    "def tau_hubble_k(k):\n",
    "    t0 = (qgw.props.xb * qgw.props.Omegaw / k**2)**(1.5)\n",
    "    return -math.acosh(t0 if t0 > 1.0 else 1.0)"
   ]
  },
  {
   "cell_type": "code",
   "execution_count": null,
   "id": "3edb486c-a1a6-4156-9cc9-92dde501ec5b",
   "metadata": {},
   "outputs": [],
   "source": [
    "for k in np.geomspace(1.0e2, 1.0e17, 10):\n",
    "    adiab.set_k(k)\n",
    "    tau_min = tau_jeans_k(k)\n",
    "    tau_max = tau_hubble_k(k)\n",
    "    tau_l_a = np.linspace(tau_min, tau_max, 100)\n",
    "\n",
    "    plt.plot(tau_l_a, [adiab.eval_delta_critial(qgw, tau) for tau in tau_l_a], label=rf\"$k={latex_float(k)}$\")\n",
    "\n",
    "print(adiab.eval_delta_critial(qgw, tau_jeans_k(k)))\n",
    "\n",
    "plt.yscale('log')\n",
    "plt.legend()\n",
    "pass"
   ]
  },
  {
   "cell_type": "code",
   "execution_count": null,
   "id": "23da41ab-e85b-4b9e-acea-85cf9f4c3f2f",
   "metadata": {},
   "outputs": [],
   "source": [
    "fig = plt.figure()\n",
    "\n",
    "ka = np.geomspace(1.0e4, 2.0e17, 1000)\n",
    "tau_jeans_a = [tau_jeans_k(k) for k in ka]\n",
    "tau_hubble_a = [tau_hubble_k(k) for k in ka]\n",
    "tau_a = np.linspace(min(tau_jeans_a), max(tau_hubble_a), 120)\n",
    "\n",
    "plt.plot(ka, tau_jeans_a, label=rf\"$\\tau_\\mathrm{{Jeans}}$\")\n",
    "plt.plot(ka, tau_hubble_a, label=rf\"$\\tau_\\mathrm{{Hubble}}$\")\n",
    "\n",
    "plt.xscale('log')\n",
    "\n",
    "plt.grid()\n",
    "plt.legend()\n",
    "pass"
   ]
  },
  {
   "cell_type": "code",
   "execution_count": null,
   "id": "2f5d6059-ceb5-4a2a-8017-f11f42e84869",
   "metadata": {},
   "outputs": [],
   "source": [
    "ka = np.geomspace(1.0e2, 1.0e20, 1000)\n",
    "tau_a = np.linspace(-120.0, -10.0, 500)\n",
    "adiab.prepare_spectrum(qgw, -1.0e-15, 1.0e-7, ka, tau_a)"
   ]
  },
  {
   "cell_type": "code",
   "execution_count": null,
   "id": "b2493ebe-d0ba-4295-873d-3ddf5ed74837",
   "metadata": {},
   "outputs": [],
   "source": [
    "ka = np.geomspace(1.0e2, 1.0e21, 1000)"
   ]
  },
  {
   "cell_type": "code",
   "execution_count": null,
   "id": "2f3ea952-2793-4aee-bb8b-222bd4ce3d18",
   "metadata": {},
   "outputs": [],
   "source": [
    "Pzetak = adiab.eval_powspec_zeta(qgw)\n",
    "#Pzetak.set_kmax(1.0e21)\n",
    "PPsik = adiab.eval_powspec_Psi(qgw)\n",
    "#PPsik.set_kmax(1.0e21)\n",
    "Pdrhok = adiab.eval_powspec_drho(qgw)\n",
    "#Pdrhok.set_kmax(1.0e21)"
   ]
  },
  {
   "cell_type": "code",
   "execution_count": null,
   "id": "31a64851-bf8a-4fc5-b6ae-8acf86933147",
   "metadata": {},
   "outputs": [],
   "source": [
    "fig = plt.figure()\n",
    "\n",
    "k = 1.0e15\n",
    "\n",
    "ymin = 1.0e300\n",
    "ymax = 1.0e-300\n",
    "\n",
    "tau = tau_jeans_k(k)\n",
    "\n",
    "Ps = [k**3 * 0.5 / np.pi**2 * Pzetak.eval(None, tau, k) for tau in tau_a]\n",
    "plt.plot(tau_a, Ps, label=f\"$P_\\zeta({latex_float(tau)})$\")\n",
    "\n",
    "ymin = np.min(np.concatenate((Ps, [ymin])))\n",
    "ymax = np.max(np.concatenate((Ps, [ymax])))\n",
    "\n",
    "Ps = [k**3 * 0.5 / np.pi**2 * PPsik.eval(None, tau, k) for tau in tau_a]\n",
    "plt.plot(tau_a, Ps, label=f\"$P_\\Psi({latex_float(tau)})$\")\n",
    "\n",
    "ymin = np.min(np.concatenate((Ps, [ymin])))\n",
    "ymax = np.max(np.concatenate((Ps, [ymax])))\n",
    "\n",
    "Ps = [k**3 * 0.5 / np.pi**2 * Pdrhok.eval(None, tau, k) for tau in tau_a]\n",
    "plt.plot(tau_a, Ps, label=f\"$P_\\Psi({latex_float(tau)})$\")\n",
    "\n",
    "ymin = np.min(np.concatenate((Ps, [ymin])))\n",
    "ymax = np.max(np.concatenate((Ps, [ymax])))\n",
    "\n",
    "plt.vlines([tau_jeans_k(k), tau_hubble_k(k)], ymin=ymin, ymax=ymax)\n",
    "\n",
    "plt.yscale('log')\n",
    "\n",
    "pass"
   ]
  },
  {
   "cell_type": "code",
   "execution_count": null,
   "id": "fab4ff05-8f89-4f47-b0aa-4e4449244e61",
   "metadata": {},
   "outputs": [],
   "source": [
    "fig = plt.figure()\n",
    "\n",
    "tau_plot_a = tau_a[::40]\n",
    "for tau in tau_plot_a:\n",
    "    Ps = [k**3 * 0.5 / np.pi**2 * Pzetak.eval(None, tau, k) for k in ka]\n",
    "    plt.plot(ka, Ps, label=f\"$P_\\zeta({latex_float(tau)})$\")\n",
    "\n",
    "plt.xscale('log')\n",
    "plt.yscale('log')\n",
    "plt.legend()\n",
    "pass"
   ]
  },
  {
   "cell_type": "code",
   "execution_count": null,
   "id": "229e071d-ccf7-491b-927b-9d9fac4a136a",
   "metadata": {},
   "outputs": [],
   "source": [
    "fig = plt.figure()\n",
    "\n",
    "for tau in tau_plot_a:\n",
    "    plt.plot(ka, [k**3 * 0.5 / np.pi**2 * PPsik.eval(None, tau, k) for k in ka], label=rf\"$P_\\Psi({latex_float(tau)})$\")\n",
    "\n",
    "plt.xscale('log')\n",
    "plt.yscale('log')\n",
    "plt.legend()\n",
    "pass"
   ]
  },
  {
   "cell_type": "code",
   "execution_count": null,
   "id": "ca049064-099c-40d8-a36a-f827252c681d",
   "metadata": {},
   "outputs": [],
   "source": [
    "fig = plt.figure()\n",
    "\n",
    "for tau in tau_plot_a:\n",
    "    plt.plot(ka, [k**3 * 0.5 / np.pi**2 * Pdrhok.eval(None, tau, k) for k in ka], label=rf\"$P_{{\\delta_\\rho}}({latex_float(tau)})$\")\n",
    "\n",
    "plt.xscale('log')\n",
    "plt.yscale('log')\n",
    "plt.legend()\n",
    "plt.grid()\n",
    "pass"
   ]
  },
  {
   "cell_type": "code",
   "execution_count": null,
   "id": "1ff68299-7e6f-4eee-b7ee-159b13729a16",
   "metadata": {},
   "outputs": [],
   "source": [
    "psf_zeta = Ncm.PowspecFilter.new(Pzetak, Ncm.PowspecFilterType.TOPHAT)\n",
    "psf_zeta.set_best_lnr0()\n",
    "psf_zeta.set_reltol(1.0e-1)\n",
    "psf_zeta.set_property(\"max-k-knots\", 1000)\n",
    "psf_zeta.set_property(\"max-z-knots\", 500)\n",
    "\n",
    "psf_Psi = Ncm.PowspecFilter.new(PPsik, Ncm.PowspecFilterType.TOPHAT)\n",
    "psf_Psi.set_best_lnr0()\n",
    "psf_Psi.set_reltol(1.0e-1)\n",
    "psf_Psi.set_property(\"max-k-knots\", 1000)\n",
    "psf_Psi.set_property(\"max-z-knots\", 500)\n",
    "\n",
    "psf_drho = Ncm.PowspecFilter.new(Pdrhok, Ncm.PowspecFilterType.TOPHAT)\n",
    "psf_drho.set_best_lnr0()\n",
    "psf_drho.set_reltol(1.0e-1)\n",
    "psf_drho.set_property(\"max-k-knots\", 1000)\n",
    "psf_drho.set_property(\"max-z-knots\", 500)\n"
   ]
  },
  {
   "cell_type": "code",
   "execution_count": null,
   "id": "af9f9c2f-6edb-4bec-918d-8fb64ce8333f",
   "metadata": {},
   "outputs": [],
   "source": [
    "psf_zeta.prepare(qgw)\n",
    "psf_drho.prepare(qgw)\n",
    "psf_Psi.prepare(qgw)"
   ]
  },
  {
   "cell_type": "code",
   "execution_count": null,
   "id": "011f81b9-3da5-4f9e-aade-4d2731905a27",
   "metadata": {},
   "outputs": [],
   "source": [
    "fig = plt.figure()\n",
    "\n",
    "k_a_test = np.geomspace(1.0e15, 1.0e17, 100)\n",
    "\n",
    "sigma_c_a = []\n",
    "for k in k_a_test:\n",
    "    adiab.set_k(k)\n",
    "    sigma_c_a.append(adiab.eval_delta_critial(qgw, tau_jeans_k(k)))\n",
    "\n",
    "sigma_c_a = np.array(sigma_c_a)\n",
    "\n",
    "plt.plot(1.0/k_a_test, [erfc(sigma_c/(np.sqrt(2.0) * Pdrhok.sigma_tophat_R(qgw, 1.0e-4, tau_jeans_k(k), 1.0 / k))) for k, sigma_c in zip(k_a_test, sigma_c_a)], label=r\"$\\sigma$\")\n",
    "#plt.plot(k_a_test, sigma_c_a, label=r\"$\\delta_c$\")\n",
    "\n",
    "k = 1.0e17\n",
    "print(Pdrhok.sigma_tophat_R(qgw, 1.0e-4, tau_jeans_k(k), 1.0 / k))\n",
    "\n",
    "plt.xscale('log')\n",
    "plt.yscale('log')\n",
    "plt.xlabel('k')\n",
    "plt.legend()\n",
    "pass"
   ]
  },
  {
   "cell_type": "code",
   "execution_count": null,
   "id": "1066db1d-9fd6-4642-ab20-dad3c16ac719",
   "metadata": {},
   "outputs": [],
   "source": [
    "fig = plt.figure()\n",
    "\n",
    "k_a_test = np.geomspace(1.0e15, 1.0e17, 100)\n",
    "\n",
    "sigma_c_a = []\n",
    "for k in k_a_test:\n",
    "    adiab.set_k(k)\n",
    "    sigma_c_a.append(adiab.eval_delta_critial(qgw, tau_jeans_k(k)))\n",
    "\n",
    "sigma_c_a = np.array(sigma_c_a)\n",
    "sigma_drho = [Pdrhok.sigma_tophat_R(qgw, 1.0e-4, tau_jeans_k(k), 1.0 / k) for k in k_a_test]\n",
    "\n",
    "sigma_drho_poly = np.polyfit(np.log(k_a_test), np.log(sigma_drho), 1)\n",
    "def sigma_drho_fit(k):\n",
    "    return np.exp(sigma_drho_poly[0] * np.log(k) + sigma_drho_poly[1])\n",
    "\n",
    "plt.plot(1.0 / k_a_test, sigma_drho_fit(k_a_test), label=r\"$\\sigma$\")\n",
    "plt.plot(1.0 / k_a_test, [Pdrhok.sigma_tophat_R(qgw, 1.0e-4, tau_jeans_k(k), 1.0 / k) for k, sigma_c in zip(k_a_test, sigma_c_a)], label=r\"$\\sigma$\")\n",
    "\n",
    "plt.xscale('log')\n",
    "plt.yscale('log')"
   ]
  },
  {
   "cell_type": "code",
   "execution_count": null,
   "id": "f78fff83-7026-498d-b4c9-b7cb13f2c8ac",
   "metadata": {},
   "outputs": [],
   "source": [
    "fig = plt.figure()\n",
    "\n",
    "k_a_test = np.geomspace(1.0e12, 1.0e16, 100)\n",
    "\n",
    "delta_c_a = []\n",
    "for k in k_a_test:\n",
    "    adiab.set_k(k)\n",
    "    delta_c_a.append(adiab.eval_delta_critial(qgw, tau_jeans_k(k)))\n",
    "\n",
    "sigma_c_a = np.array(sigma_c_a)\n",
    "\n",
    "plt.plot(1.0/k_a_test, [erfc(delta_c/(np.sqrt(2.0)*sigma_drho_fit(k))) for k, delta_c in zip(k_a_test, delta_c_a)], label=r\"$\\sigma$\")\n",
    "#plt.plot(k_a_test, sigma_c_a, label=r\"$\\delta_c$\")\n",
    "#plt.hlines(1.0e-3, xmin=min(k_a_test), xmax=max(k_a_test))\n",
    "k = 1.0e17\n",
    "\n",
    "plt.ylim(1.0e-4, 1.5)\n",
    "\n",
    "plt.xscale('log')\n",
    "plt.yscale('log')\n",
    "plt.xlabel('r')\n",
    "plt.legend()\n",
    "plt.grid()\n",
    "pass"
   ]
  },
  {
   "cell_type": "code",
   "execution_count": null,
   "id": "51ba3ac9-e2f2-4555-a964-ce1ea746fb83",
   "metadata": {},
   "outputs": [],
   "source": [
    "fig = plt.figure()\n",
    "\n",
    "k_a_test = np.geomspace(1.0e12, 1.0e16, 100)\n",
    "\n",
    "delta_c_a = []\n",
    "for k in k_a_test:\n",
    "    adiab.set_k(k)\n",
    "    delta_c_a.append(adiab.eval_delta_critial(qgw, tau_jeans_k(k)))\n",
    "\n",
    "sigma_c_a = np.array(sigma_c_a)\n",
    "\n",
    "plt.plot(4.0 * np.pi * 1.0e22 / 3.0 * (1.0/k_a_test)**3, [erfc(delta_c/(np.sqrt(2.0)*sigma_drho_fit(k))) for k, delta_c in zip(k_a_test, delta_c_a)], label=r\"$\\sigma$\")\n",
    "#plt.plot(k_a_test, sigma_c_a, label=r\"$\\delta_c$\")\n",
    "#plt.hlines(1.0e-3, xmin=min(k_a_test), xmax=max(k_a_test))\n",
    "k = 1.0e17\n",
    "\n",
    "plt.ylim(1.0e-6, 1.5)\n",
    "\n",
    "plt.xscale('log')\n",
    "plt.yscale('log')\n",
    "plt.xlabel('r')\n",
    "plt.legend()\n",
    "plt.grid()\n",
    "pass"
   ]
  }
 ],
 "metadata": {
  "kernelspec": {
   "display_name": "Python 3 (ipykernel)",
   "language": "python",
   "name": "python3"
  },
  "language_info": {
   "codemirror_mode": {
    "name": "ipython",
    "version": 3
   },
   "file_extension": ".py",
   "mimetype": "text/x-python",
   "name": "python",
   "nbconvert_exporter": "python",
   "pygments_lexer": "ipython3"
  }
 },
 "nbformat": 4,
 "nbformat_minor": 5
}
