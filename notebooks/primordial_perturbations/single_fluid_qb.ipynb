{
 "cells": [
  {
   "cell_type": "code",
   "execution_count": null,
   "id": "a5537045-5ff7-4a4f-9ae0-3f71a250f6f7",
   "metadata": {},
   "outputs": [],
   "source": [
    "from numcosmo_py import Ncm, Nc\n",
    "import sys\n",
    "import math\n",
    "import matplotlib.pyplot as plt\n",
    "import numpy as np\n",
    "\n",
    "from scipy.special import erfc\n",
    "\n",
    "from numcosmo_py.plotting.tools import set_rc_params_article, latex_float"
   ]
  },
  {
   "cell_type": "code",
   "execution_count": null,
   "id": "c51de52a-3e9f-41d0-abbf-42273e752ca6",
   "metadata": {},
   "outputs": [],
   "source": [
    "__name__ = \"NcContext\"\n",
    "\n",
    "Ncm.cfg_init()\n",
    "Ncm.cfg_set_log_handler(lambda msg: sys.stdout.write(msg) and sys.stdout.flush())"
   ]
  },
  {
   "cell_type": "code",
   "execution_count": null,
   "id": "99c566ef-a694-4756-bb1f-47f19aaed50c",
   "metadata": {},
   "outputs": [],
   "source": [
    "set_rc_params_article(ncol=2)"
   ]
  },
  {
   "cell_type": "code",
   "execution_count": null,
   "id": "18a16757-a85b-4b0e-a7e4-7ce5e08501e0",
   "metadata": {},
   "outputs": [],
   "source": [
    "qgw = Nc.HICosmoQGW.new()\n",
    "adiab = Nc.HIPertAdiab.new()"
   ]
  },
  {
   "cell_type": "code",
   "execution_count": null,
   "id": "6c8eee25-27f7-4ad2-a62d-a2a19226f48c",
   "metadata": {},
   "outputs": [],
   "source": [
    "qgw.props.xb = 1.0e35\n",
    "qgw.props.w = 1.0e-18"
   ]
  },
  {
   "cell_type": "code",
   "execution_count": null,
   "id": "d4b4bf8d-50b2-40c8-8532-59a3712daefb",
   "metadata": {},
   "outputs": [],
   "source": [
    "adiab.set_k(1.0e-1)\n",
    "adiab.set_ti(-300.0)\n",
    "adiab.set_tf(-1.0)\n",
    "adiab.set_reltol(1.0e-11)\n",
    "adiab.set_initial_condition_type(Ncm.CSQ1DInitialStateType.ADIABATIC4)\n",
    "adiab.set_vacuum_max_time(-1.0e-15)\n",
    "adiab.set_vacuum_reltol(1.0e-7)\n",
    "\n",
    "Found, tAD = adiab.find_adiab_time_limit(\n",
    "    qgw, adiab.get_ti(), adiab.get_vacuum_max_time(), adiab.get_vacuum_reltol()\n",
    ")\n",
    "\n",
    "print(f\"Found: {Found}, tAD: {tAD}\")"
   ]
  },
  {
   "cell_type": "code",
   "execution_count": null,
   "id": "804cf6e5-dfc7-4286-ac78-a5c9152b2763",
   "metadata": {},
   "outputs": [],
   "source": [
    "adiab.prepare(qgw)"
   ]
  },
  {
   "cell_type": "code",
   "execution_count": null,
   "id": "e530eb26-a982-4535-8648-9d94ddf04dc5",
   "metadata": {},
   "outputs": [],
   "source": [
    "ta, ts = adiab.get_time_array()"
   ]
  },
  {
   "cell_type": "code",
   "execution_count": null,
   "id": "fb7981b8-3870-4bca-b603-7e0ce02e4280",
   "metadata": {},
   "outputs": [],
   "source": [
    "Pzeta = [adiab.eval_powspec_zeta_at(qgw, t) for t in ta]\n",
    "PPsi = [adiab.eval_powspec_Psi_at(qgw, t) for t in ta]\n",
    "Pdrho = [adiab.eval_powspec_drho_at(qgw, t) for t in ta]"
   ]
  },
  {
   "cell_type": "code",
   "execution_count": null,
   "id": "555ba73a-ec5a-4dfa-9ab7-8ddc46af0df5",
   "metadata": {},
   "outputs": [],
   "source": [
    "fig = plt.figure()\n",
    "\n",
    "plt.plot(ta, Pzeta, label=\"$P_\\zeta$\")\n",
    "plt.plot(ta, PPsi, label=\"$P_\\Psi$\")\n",
    "plt.plot(ta, Pdrho, label=r\"$P_{\\delta_\\rho}$\")\n",
    "\n",
    "plt.hlines(2.0e-9, xmin=min(ta), xmax=max(ta))\n",
    "plt.yscale(\"log\")\n",
    "\n",
    "plt.grid()\n",
    "plt.legend()"
   ]
  },
  {
   "cell_type": "code",
   "execution_count": null,
   "id": "867871b9-1ecc-4635-8b20-909bd92bc1b3",
   "metadata": {},
   "outputs": [],
   "source": [
    "adiab.eval_cosmic_time(qgw, -170)\n",
    "pass"
   ]
  },
  {
   "cell_type": "code",
   "execution_count": null,
   "id": "3edb486c-a1a6-4156-9cc9-92dde501ec5b",
   "metadata": {},
   "outputs": [],
   "source": [
    "for k in np.geomspace(1.0e2, 1.0e17, 10):\n",
    "    adiab.set_k(k)\n",
    "    tau_min = -qgw.eval_tau_jeans(k)\n",
    "    tau_max = -qgw.eval_tau_hubble(k)\n",
    "    tau_l_a = np.linspace(tau_min, tau_max, 100)\n",
    "\n",
    "    plt.plot(\n",
    "        tau_l_a,\n",
    "        [adiab.eval_delta_critical(qgw, tau) for tau in tau_l_a],\n",
    "        label=rf\"$k={latex_float(k)}$\",\n",
    "    )\n",
    "\n",
    "plt.yscale(\"log\")\n",
    "plt.legend()\n",
    "pass"
   ]
  },
  {
   "cell_type": "code",
   "execution_count": null,
   "id": "23da41ab-e85b-4b9e-acea-85cf9f4c3f2f",
   "metadata": {},
   "outputs": [],
   "source": [
    "fig = plt.figure()\n",
    "\n",
    "ka = np.geomspace(1.0e4, 2.0e17, 1000)\n",
    "tau_jeans_a = [-qgw.eval_tau_jeans(k) for k in ka]\n",
    "tau_hubble_a = [-qgw.eval_tau_hubble(k) for k in ka]\n",
    "tau_a = np.linspace(min(tau_jeans_a), max(tau_hubble_a), 120)\n",
    "\n",
    "plt.plot(ka, tau_jeans_a, label=rf\"$\\tau_\\mathrm{{Jeans}}$\")\n",
    "plt.plot(ka, tau_hubble_a, label=rf\"$\\tau_\\mathrm{{Hubble}}$\")\n",
    "\n",
    "plt.xscale(\"log\")\n",
    "\n",
    "plt.grid()\n",
    "plt.legend()\n",
    "pass"
   ]
  },
  {
   "cell_type": "code",
   "execution_count": null,
   "id": "2f5d6059-ceb5-4a2a-8017-f11f42e84869",
   "metadata": {},
   "outputs": [],
   "source": [
    "ka = np.geomspace(1.0e2, 1.0e20, 1000)\n",
    "tau_a = np.linspace(-120.0, -10.0, 500)\n",
    "adiab.prepare_spectrum(qgw, ka, tau_a)"
   ]
  },
  {
   "cell_type": "code",
   "execution_count": null,
   "id": "b2493ebe-d0ba-4295-873d-3ddf5ed74837",
   "metadata": {},
   "outputs": [],
   "source": [
    "ka = np.geomspace(1.0e2, 1.0e21, 1000)"
   ]
  },
  {
   "cell_type": "code",
   "execution_count": null,
   "id": "2f3ea952-2793-4aee-bb8b-222bd4ce3d18",
   "metadata": {},
   "outputs": [],
   "source": [
    "Pzetak = adiab.eval_powspec_zeta(qgw)\n",
    "# Pzetak.set_kmax(1.0e21)\n",
    "PPsik = adiab.eval_powspec_Psi(qgw)\n",
    "# PPsik.set_kmax(1.0e21)\n",
    "Pdrhok = adiab.eval_powspec_drho(qgw)\n",
    "# Pdrhok.set_kmax(1.0e21)"
   ]
  },
  {
   "cell_type": "code",
   "execution_count": null,
   "id": "31a64851-bf8a-4fc5-b6ae-8acf86933147",
   "metadata": {},
   "outputs": [],
   "source": [
    "fig = plt.figure()\n",
    "\n",
    "k = 1.0e15\n",
    "\n",
    "ymin = 1.0e300\n",
    "ymax = 1.0e-300\n",
    "\n",
    "tau = -qgw.eval_tau_jeans(k)\n",
    "\n",
    "Ps = [k**3 * 0.5 / np.pi**2 * Pzetak.eval(None, tau, k) for tau in tau_a]\n",
    "plt.plot(tau_a, Ps, label=f\"$P_\\zeta({latex_float(tau)})$\")\n",
    "\n",
    "ymin = np.min(np.concatenate((Ps, [ymin])))\n",
    "ymax = np.max(np.concatenate((Ps, [ymax])))\n",
    "\n",
    "Ps = [k**3 * 0.5 / np.pi**2 * PPsik.eval(None, tau, k) for tau in tau_a]\n",
    "plt.plot(tau_a, Ps, label=f\"$P_\\Psi({latex_float(tau)})$\")\n",
    "\n",
    "ymin = np.min(np.concatenate((Ps, [ymin])))\n",
    "ymax = np.max(np.concatenate((Ps, [ymax])))\n",
    "\n",
    "Ps = [k**3 * 0.5 / np.pi**2 * Pdrhok.eval(None, tau, k) for tau in tau_a]\n",
    "plt.plot(tau_a, Ps, label=f\"$P_\\Psi({latex_float(tau)})$\")\n",
    "\n",
    "ymin = np.min(np.concatenate((Ps, [ymin])))\n",
    "ymax = np.max(np.concatenate((Ps, [ymax])))\n",
    "\n",
    "plt.vlines([-qgw.eval_tau_jeans(k), -qgw.eval_tau_hubble(k)], ymin=ymin, ymax=ymax)\n",
    "\n",
    "plt.yscale(\"log\")\n",
    "\n",
    "pass"
   ]
  },
  {
   "cell_type": "code",
   "execution_count": null,
   "id": "e21d385e",
   "metadata": {},
   "outputs": [],
   "source": [
    "fig = plt.figure()\n",
    "\n",
    "ka = np.geomspace(1.0e2, 1.0e21, 1000)\n",
    "\n",
    "tau_plot_a = tau_a[::40]\n",
    "for tau in tau_plot_a:\n",
    "    Ps = [k**3 * 0.5 / np.pi**2 * Pzetak.eval(None, tau, k) for k in ka]\n",
    "    plt.plot(ka, Ps, label=f\"$P_\\zeta({latex_float(tau)})$\")\n",
    "\n",
    "plt.xscale(\"log\")\n",
    "plt.yscale(\"log\")\n",
    "plt.legend()\n",
    "pass"
   ]
  },
  {
   "cell_type": "code",
   "execution_count": null,
   "id": "229e071d-ccf7-491b-927b-9d9fac4a136a",
   "metadata": {},
   "outputs": [],
   "source": [
    "fig = plt.figure()\n",
    "\n",
    "for tau in tau_plot_a:\n",
    "    plt.plot(\n",
    "        ka,\n",
    "        [k**3 * 0.5 / np.pi**2 * PPsik.eval(None, tau, k) for k in ka],\n",
    "        label=rf\"$P_\\Psi({latex_float(tau)})$\",\n",
    "    )\n",
    "\n",
    "plt.xscale(\"log\")\n",
    "plt.yscale(\"log\")\n",
    "plt.legend()\n",
    "pass"
   ]
  },
  {
   "cell_type": "code",
   "execution_count": null,
   "id": "ca049064-099c-40d8-a36a-f827252c681d",
   "metadata": {},
   "outputs": [],
   "source": [
    "fig = plt.figure()\n",
    "\n",
    "for tau in tau_plot_a:\n",
    "    plt.plot(\n",
    "        ka,\n",
    "        [k**3 * 0.5 / np.pi**2 * Pdrhok.eval(None, tau, k) for k in ka],\n",
    "        label=rf\"$P_{{\\delta_\\rho}}({latex_float(tau)})$\",\n",
    "    )\n",
    "\n",
    "plt.xscale(\"log\")\n",
    "plt.yscale(\"log\")\n",
    "plt.legend()\n",
    "plt.grid()\n",
    "pass"
   ]
  },
  {
   "cell_type": "code",
   "execution_count": null,
   "id": "15dbfa20",
   "metadata": {},
   "outputs": [],
   "source": [
    "def compute_sigma_at_jeans(kJ):\n",
    "    # Compute the time at which the wave-number k enters the Jeans scale\n",
    "    tau_k_jeans = -qgw.eval_tau_jeans(kJ)\n",
    "    # Compute the Hubble scale at that time\n",
    "    kH = np.abs(qgw.eval_hubble(tau_k_jeans) / qgw.eval_x(tau_k_jeans))\n",
    "    # Create a range of wave-numbers from the Jeans scale to the Hubble scale\n",
    "    ka = np.geomspace(kH, kJ, 50)\n",
    "    # Create a range of times from the time the wave-number k enters the Jeans scale to\n",
    "    # the time it enters the Hubble scale\n",
    "    tau_a = np.linspace(tau_k_jeans - 1.0e-1, tau_k_jeans + 1.0e-1, 6)\n",
    "    # Prepare the spectrum for the range of wave-numbers and times\n",
    "    adiab.prepare_spectrum(qgw, ka, tau_a)\n",
    "    # Evaluate the power spectrum of the energy density perturbation at the time\n",
    "    # the wave-number kJ enters the Jeans scale.\n",
    "    Pdrhok = adiab.eval_powspec_drho(qgw)\n",
    "    # Evaluate the variance of the energy density perturbation at the time\n",
    "    # the wave-number kJ enters the Jeans scale.\n",
    "    sigma_drho = Pdrhok.sigma_tophat_R(qgw, 1.0e-4, tau_k_jeans, 1.0 / kJ)\n",
    "\n",
    "    # Compute the critical delta for\n",
    "    adiab.set_k(kJ)\n",
    "    delta_c = adiab.eval_delta_critical(qgw, tau_k_jeans)\n",
    "\n",
    "    return delta_c, sigma_drho"
   ]
  },
  {
   "cell_type": "code",
   "execution_count": null,
   "id": "033d8a20",
   "metadata": {},
   "outputs": [],
   "source": [
    "fig = plt.figure()\n",
    "\n",
    "ka = np.geomspace(1.0e10, 1.0e15, 10)\n",
    "sigma_delta = np.array([compute_sigma_at_jeans(k) for k in ka])\n",
    "\n",
    "plt.plot(1.0 / ka, sigma_delta[:, 1], label=r\"$\\sigma(\\tau_J, \\lambda_J)$\")\n",
    "plt.plot(1.0 / ka, sigma_delta[:, 0], label=r\"$\\delta_c(\\tau_J)$\")\n",
    "\n",
    "plt.xscale(\"log\")\n",
    "plt.yscale(\"log\")\n",
    "plt.xlabel(\"$\\lambda$\")\n",
    "plt.legend()\n",
    "pass"
   ]
  }
 ],
 "metadata": {
  "kernelspec": {
   "display_name": "Python 3 (ipykernel)",
   "language": "python",
   "name": "python3"
  },
  "language_info": {
   "codemirror_mode": {
    "name": "ipython",
    "version": 3
   },
   "file_extension": ".py",
   "mimetype": "text/x-python",
   "name": "python",
   "nbconvert_exporter": "python",
   "pygments_lexer": "ipython3"
  }
 },
 "nbformat": 4,
 "nbformat_minor": 5
}
