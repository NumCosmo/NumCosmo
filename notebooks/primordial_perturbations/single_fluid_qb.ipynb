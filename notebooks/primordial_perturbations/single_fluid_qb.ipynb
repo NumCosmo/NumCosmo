{
 "cells": [
  {
   "cell_type": "code",
   "execution_count": null,
   "id": "a5537045-5ff7-4a4f-9ae0-3f71a250f6f7",
   "metadata": {},
   "outputs": [],
   "source": [
    "from numcosmo_py import Ncm, Nc\n",
    "import sys\n",
    "import math\n",
    "import matplotlib.pyplot as plt\n",
    "import numpy as np\n",
    "import warnings\n",
    "from matplotlib.pyplot import cm\n",
    "\n",
    "from scipy.integrate import odeint\n",
    "from scipy.interpolate import interp1d\n",
    "from numcosmo_py.plotting.tools import set_rc_params_article, latex_float"
   ]
  },
  {
   "cell_type": "code",
   "execution_count": null,
   "id": "c51de52a-3e9f-41d0-abbf-42273e752ca6",
   "metadata": {},
   "outputs": [],
   "source": [
    "__name__ = \"NcContext\"\n",
    "\n",
    "Ncm.cfg_init ()\n",
    "Ncm.cfg_set_log_handler (lambda msg: sys.stdout.write (msg) and sys.stdout.flush ())"
   ]
  },
  {
   "cell_type": "code",
   "execution_count": null,
   "id": "99c566ef-a694-4756-bb1f-47f19aaed50c",
   "metadata": {},
   "outputs": [],
   "source": [
    "set_rc_params_article(ncol=2)"
   ]
  },
  {
   "cell_type": "code",
   "execution_count": null,
   "id": "18a16757-a85b-4b0e-a7e4-7ce5e08501e0",
   "metadata": {},
   "outputs": [],
   "source": [
    "qgw = Nc.HICosmoQGW.new()\n",
    "adiab = Nc.HIPertAdiab.new()"
   ]
  },
  {
   "cell_type": "code",
   "execution_count": null,
   "id": "6c8eee25-27f7-4ad2-a62d-a2a19226f48c",
   "metadata": {},
   "outputs": [],
   "source": [
    "qgw.props.xb = 1.0e35\n",
    "qgw.props.w = 1.0e-5"
   ]
  },
  {
   "cell_type": "code",
   "execution_count": null,
   "id": "d4b4bf8d-50b2-40c8-8532-59a3712daefb",
   "metadata": {},
   "outputs": [],
   "source": [
    "\n",
    "tAi = -200.0\n",
    "tAf = -5.0e-2\n",
    "\n",
    "ki = 1.0e0\n",
    "kf = 1.0e2\n",
    "k_a = np.geomspace(ki, kf, 1000)\n",
    "\n",
    "adiab.set_k(1.0e-1)\n",
    "adiab.set_tf(60.0)\n",
    "adiab.set_reltol(1.0e-11)\n",
    "adiab.set_max_order_2(False)\n",
    "\n",
    "Found, tAD = adiab.find_adiab_time_limit(qgw, tAi, tAf, 1.0e-3)\n",
    "\n",
    "print(f\"Found: {Found}, tAD: {tAD}\")"
   ]
  },
  {
   "cell_type": "code",
   "execution_count": null,
   "id": "804cf6e5-dfc7-4286-ac78-a5c9152b2763",
   "metadata": {},
   "outputs": [],
   "source": [
    "adiab.set_init_cond_adiab(qgw, tAD)\n",
    "adiab.prepare(qgw)"
   ]
  },
  {
   "cell_type": "code",
   "execution_count": null,
   "id": "e530eb26-a982-4535-8648-9d94ddf04dc5",
   "metadata": {},
   "outputs": [],
   "source": [
    "ta, ts = adiab.get_time_array()"
   ]
  },
  {
   "cell_type": "code",
   "execution_count": null,
   "id": "fb7981b8-3870-4bca-b603-7e0ce02e4280",
   "metadata": {},
   "outputs": [],
   "source": [
    "Pzeta = [adiab.eval_powspec_zeta_at(qgw, t) for t in ta]\n",
    "PPsi = [adiab.eval_powspec_Psi_at(qgw, t) for t in ta]\n",
    "Pdrho = [adiab.eval_powspec_drho_at(qgw, t) for t in ta]"
   ]
  },
  {
   "cell_type": "code",
   "execution_count": null,
   "id": "555ba73a-ec5a-4dfa-9ab7-8ddc46af0df5",
   "metadata": {},
   "outputs": [],
   "source": [
    "fig = plt.figure()\n",
    "\n",
    "plt.plot(ta, Pzeta)\n",
    "plt.plot(ta, PPsi)\n",
    "plt.plot(ta, Pdrho)\n",
    "\n",
    "plt.yscale('log')\n",
    "\n",
    "plt.grid()"
   ]
  },
  {
   "cell_type": "code",
   "execution_count": null,
   "id": "32a86b73-2dc9-40d3-bd2b-44c1852140c5",
   "metadata": {},
   "outputs": [],
   "source": [
    "ka = np.geomspace(1.0e-1, 1.0e10, 10000)"
   ]
  },
  {
   "cell_type": "code",
   "execution_count": null,
   "id": "0b18845b-e0f3-4cd0-a0d9-b0f5c053d7d8",
   "metadata": {},
   "outputs": [],
   "source": [
    "Pzetak = adiab.eval_powspec_zeta(qgw, -300.0, -1.0, 1.0e-7, ka, 10.0)\n",
    "PPsik = adiab.eval_powspec_Psi(qgw, -300.0, -1.0, 1.0e-7, ka, 10.0)\n",
    "Pdrhok = adiab.eval_powspec_drho(qgw, -300.0, -1.0, 1.0e-7, ka, 10.0)"
   ]
  },
  {
   "cell_type": "code",
   "execution_count": null,
   "id": "fab4ff05-8f89-4f47-b0aa-4e4449244e61",
   "metadata": {},
   "outputs": [],
   "source": [
    "fig = plt.figure()\n",
    "\n",
    "plt.plot(ka, Pzetak)\n",
    "plt.xscale('log')\n",
    "plt.yscale('log')"
   ]
  },
  {
   "cell_type": "code",
   "execution_count": null,
   "id": "229e071d-ccf7-491b-927b-9d9fac4a136a",
   "metadata": {},
   "outputs": [],
   "source": [
    "fig = plt.figure()\n",
    "\n",
    "plt.plot(ka, PPsik)\n",
    "plt.xscale('log')\n",
    "plt.yscale('log')"
   ]
  },
  {
   "cell_type": "code",
   "execution_count": null,
   "id": "ca049064-099c-40d8-a36a-f827252c681d",
   "metadata": {},
   "outputs": [],
   "source": [
    "fig = plt.figure()\n",
    "\n",
    "plt.plot(ka, Pdrhok)\n",
    "plt.xscale('log')\n",
    "plt.yscale('log')"
   ]
  },
  {
   "cell_type": "code",
   "execution_count": null,
   "id": "8de3426a-f63a-44f8-94c9-a2be817a8010",
   "metadata": {},
   "outputs": [],
   "source": [
    "print(f\"{np.polyfit(np.log(ka), np.log(Pzetak), 1)[0]} \"\n",
    "      f\"{np.polyfit(np.log(ka), np.log(Pzetak), 1)[0] / (12.0 * qgw.props.w / (1.0 + 3.0 * qgw.props.w))}\"\n",
    ")\n",
    "print(f\"{np.polyfit(np.log(ka), np.log(Pdrhok), 1)[0]}\")\n",
    "print(f\"{np.polyfit(np.log(ka), np.log(PPsik), 1)[0]}\")"
   ]
  },
  {
   "cell_type": "code",
   "execution_count": null,
   "id": "5b013472-63a3-4592-8ab0-b48aeec4b5fb",
   "metadata": {},
   "outputs": [],
   "source": [
    "ps = Nc.PowspecMLFixSpline()\n",
    "Pdrhok_s = Ncm.SplineCubicNotaknot()\n",
    "Pdrhok_s.set_array(ka, Pzetak, True)\n",
    "ps.set_spline(Pdrhok_s)\n",
    "ps.set_kmin(ka[0])\n",
    "ps.set_kmax(ka[-1])"
   ]
  },
  {
   "cell_type": "code",
   "execution_count": null,
   "id": "1ff68299-7e6f-4eee-b7ee-159b13729a16",
   "metadata": {},
   "outputs": [],
   "source": [
    "psf = Ncm.PowspecFilter.new(ps, Ncm.PowspecFilterType.TOPHAT)\n",
    "psf.set_best_lnr0()"
   ]
  },
  {
   "cell_type": "code",
   "execution_count": null,
   "id": "725984f3-35b4-4d06-b5a0-533f29cf3ae7",
   "metadata": {},
   "outputs": [],
   "source": [
    "psf.prepare(qgw)"
   ]
  },
  {
   "cell_type": "code",
   "execution_count": null,
   "id": "e273e7ba-ffc3-40e7-8e09-d94aede5e17e",
   "metadata": {},
   "outputs": [],
   "source": [
    "psf.eval_sigma(0.0, 1.0)"
   ]
  },
  {
   "cell_type": "code",
   "execution_count": null,
   "id": "424c8cf5-c04c-47a0-983e-ff9083848a00",
   "metadata": {},
   "outputs": [],
   "source": [
    "r_a = np.geomspace(psf.get_r_min(), psf.get_r_max(), 1000)\n",
    "sigma_r = [psf.eval_sigma(0.0, r) for r in r_a]"
   ]
  },
  {
   "cell_type": "code",
   "execution_count": null,
   "id": "41b59f4c-1bbf-4dbf-8f6a-c5b9bf2d6d2e",
   "metadata": {},
   "outputs": [],
   "source": [
    "fig = plt.figure()\n",
    "\n",
    "plt.plot(r_a, sigma_r)\n",
    "plt.xscale('log')\n",
    "plt.yscale('log')"
   ]
  },
  {
   "cell_type": "code",
   "execution_count": null,
   "id": "26bc5357-52ee-4a9a-905a-4a59623f27f7",
   "metadata": {},
   "outputs": [],
   "source": []
  },
  {
   "cell_type": "code",
   "execution_count": null,
   "id": "c7b319d0-c9c0-44b4-a3f3-8ef153155da9",
   "metadata": {},
   "outputs": [],
   "source": []
  }
 ],
 "metadata": {
  "kernelspec": {
   "display_name": "Python 3 (ipykernel)",
   "language": "python",
   "name": "python3"
  },
  "language_info": {
   "codemirror_mode": {
    "name": "ipython",
    "version": 3
   },
   "file_extension": ".py",
   "mimetype": "text/x-python",
   "name": "python",
   "nbconvert_exporter": "python",
   "pygments_lexer": "ipython3"
  }
 },
 "nbformat": 4,
 "nbformat_minor": 5
}
