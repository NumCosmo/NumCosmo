{
 "cells": [
  {
   "cell_type": "code",
   "execution_count": 1,
   "id": "0a37176a-cf7d-4263-a5fd-0009f361aef7",
   "metadata": {},
   "outputs": [
    {
     "name": "stderr",
     "output_type": "stream",
     "text": [
      "\n",
      "WARNING: version mismatch between CFITSIO header (v40500) and linked library (v40602).\n",
      "\n"
     ]
    }
   ],
   "source": [
    "from astropy.io import fits\n",
    "import sys\n",
    "import pandas as pd\n",
    "from astropy.table import unique, Table\n",
    "import astropy\n",
    "from matplotlib import pyplot as plt\n",
    "import numpy as np\n",
    "from numcosmo_py import Ncm, Nc, sky_match\n",
    "from numcosmo_py.external.pyssc import pyssc as PySSC\n",
    "from numcosmo_py.helper import npa_to_seq\n",
    "import timeit\n",
    "Ncm.cfg_init()\n",
    "\n",
    "from getdist.mcsamples import  MCSamples\n",
    "from getdist import plots\n",
    "import getdist"
   ]
  },
  {
   "cell_type": "markdown",
   "id": "7384bd52-4fae-4985-ae57-42ae7e3f319d",
   "metadata": {},
   "source": [
    "# Cosmological Model"
   ]
  },
  {
   "cell_type": "code",
   "execution_count": 2,
   "id": "2ec3fc2e-c9a3-4c4e-b4ff-b9c52c340637",
   "metadata": {},
   "outputs": [
    {
     "name": "stdout",
     "output_type": "stream",
     "text": [
      "0.8000000000000014\n"
     ]
    }
   ],
   "source": [
    "# Taking some important information about the fiducial cosmological model and survey region\n",
    "sky_area = 439.790\n",
    "\n",
    "#cosmological model\n",
    "cosmo = Nc.HICosmoDEXcdm()\n",
    "cosmo.omega_x2omega_k()\n",
    "cosmo.param_set_by_name(\"Omegak\",0.0)\n",
    "cosmo.param_set_by_name(\"H0\", 71)\n",
    "cosmo.param_set_by_name(\"Omegab\", 0.0448)\n",
    "cosmo.param_set_by_name(\"Omegac\", 0.22)  # 0.2603\n",
    "\n",
    "cosmo.param_set_by_name(\"w\", -1.0)  # -1.0\n",
    "\n",
    "prim = Nc.HIPrimPowerLaw.new()\n",
    "prim.param_set_by_name(\"ln10e10ASA\",  3.05991748699321)\n",
    "prim.props.n_SA = 0.963\n",
    "reion = Nc.HIReionCamb.new()\n",
    "\n",
    "cosmo.add_submodel(prim)\n",
    "cosmo.add_submodel(reion)\n",
    "\n",
    "#matter power spectrum\n",
    "tf = Nc.TransferFuncEH()\n",
    "\n",
    "psml = Nc.PowspecMLTransfer.new(tf)\n",
    "psml.require_kmin(1.0e-6)\n",
    "psml.require_kmax(1.0e3)\n",
    "\n",
    "psf = Ncm.PowspecFilter.new(psml, Ncm.PowspecFilterType.TOPHAT)\n",
    "psf.set_best_lnr0()\n",
    "psf.prepare(cosmo)\n",
    "print(cosmo.sigma8(psf))\n",
    "\n",
    "dist = Nc.Distance.new(2.0)\n",
    "dist.prepare(cosmo)"
   ]
  },
  {
   "cell_type": "markdown",
   "id": "658720db-ec67-4724-9cc8-d9d511f451bc",
   "metadata": {},
   "source": [
    "# Cluster Mass-Richness and photoz model "
   ]
  },
  {
   "cell_type": "code",
   "execution_count": 3,
   "id": "8dffe7f0-0971-4cb7-97db-93f707529378",
   "metadata": {},
   "outputs": [],
   "source": [
    "cut = np.log(1.0)\n",
    "\n",
    "cluster_m = Nc.ClusterMassAscaso(lnRichness_min = 0.0 ,lnRichness_max = 6.0)\n",
    "cluster_m.param_set_by_name(\"mup0\", 4.11945317984568)\n",
    "cluster_m.param_set_by_name(\"mup1\", 1.11236863168254)\n",
    "cluster_m.param_set_by_name(\"mup2\", 0.299464198653602)\n",
    "cluster_m.param_set_by_name(\"sigmap0\", 0.471246505057074)\n",
    "cluster_m.param_set_by_name(\"sigmap1\", -0.0591674971985774)\n",
    "cluster_m.param_set_by_name(\"sigmap2\", -0.109077938873429)\n",
    "cluster_m.param_set_by_name(\"cut\", cut)\n",
    "cluster_m.set_enable_rejection(True)\n",
    "\n",
    "cluster_m.param_set_desc(\"mup0\",{ \"lower-bound\": 3.0,\"upper-bound\": 5.0,\"scale\": 1.0e-2,\"abstol\": 1.0e-50,\"fit\": True,\"value\": 4.11945317984568})\n",
    "cluster_m.param_set_desc(\"mup1\",{ \"lower-bound\": 0.0,\"upper-bound\": 3.0,\"scale\": 1.0e-2,\"abstol\": 1.0e-50,\"fit\": True,\"value\": 1.11236863168254})\n",
    "cluster_m.param_set_desc(\"mup2\",{ \"lower-bound\": -1.0,\"upper-bound\": 1.0,\"scale\": 1.0e-2,\"abstol\": 1.0e-50,\"fit\": True,\"value\": 0.299464198653602})\n",
    "cluster_m.param_set_desc(\"sigmap0\",{ \"lower-bound\": 0.1,\"upper-bound\": 2.0,\"scale\": 1.0e-2,\"abstol\": 1.0e-50,\"fit\": True,\"value\": 0.471246505057074})\n",
    "cluster_m.param_set_desc(\"sigmap1\",{ \"lower-bound\": -0.1,\"upper-bound\": -0.00001,\"scale\": 1.0e-2,\"abstol\": 1.0e-50,\"fit\": True,\"value\": -0.0591674971985774})\n",
    "cluster_m.param_set_desc(\"sigmap2\",{ \"lower-bound\": -0.3,\"upper-bound\": 0.1,\"scale\": 1.0e-2,\"abstol\": 1.0e-50,\"fit\": True,\"value\":-0.109077938873429})\n",
    "\n",
    "\n",
    "cut = np.log(5.0)\n",
    "cluster_m_truncated = Nc.ClusterMassAscaso(lnRichness_min = cut ,lnRichness_max = 6.0)\n",
    "cluster_m_truncated.param_set_by_name(\"mup0\", 4.11945317984568)\n",
    "cluster_m_truncated.param_set_by_name(\"mup1\", 1.11236863168254)\n",
    "cluster_m_truncated.param_set_by_name(\"mup2\", 0.299464198653602)\n",
    "cluster_m_truncated.param_set_by_name(\"sigmap0\", 0.471246505057074)\n",
    "cluster_m_truncated.param_set_by_name(\"sigmap1\", -0.0591674971985774)\n",
    "cluster_m_truncated.param_set_by_name(\"sigmap2\", -0.109077938873429)\n",
    "cluster_m_truncated.param_set_by_name(\"cut\", cut)\n",
    "cluster_m_truncated.set_enable_rejection(True)\n",
    "\n",
    "cluster_m_truncated.param_set_desc(\"mup0\",{ \"lower-bound\": 3.0,\"upper-bound\": 5.0,\"scale\": 1.0e-2,\"abstol\": 1.0e-50,\"fit\": True,\"value\": 4.11945317984568})\n",
    "cluster_m_truncated.param_set_desc(\"mup1\",{ \"lower-bound\": 0.0,\"upper-bound\": 3.0,\"scale\": 1.0e-2,\"abstol\": 1.0e-50,\"fit\": True,\"value\": 1.11236863168254})\n",
    "cluster_m_truncated.param_set_desc(\"mup2\",{ \"lower-bound\": -1.0,\"upper-bound\": 1.0,\"scale\": 1.0e-2,\"abstol\": 1.0e-50,\"fit\": True,\"value\": 0.299464198653602})\n",
    "cluster_m_truncated.param_set_desc(\"sigmap0\",{ \"lower-bound\": 0.2,\"upper-bound\": 2.0,\"scale\": 1.0e-2,\"abstol\": 1.0e-50,\"fit\": True,\"value\": 0.471246505057074})\n",
    "cluster_m_truncated.param_set_desc(\"sigmap1\",{ \"lower-bound\": -0.1,\"upper-bound\": -0.00001,\"scale\": 1.0e-2,\"abstol\": 1.0e-50,\"fit\": True,\"value\": -0.0591674971985774})\n",
    "cluster_m_truncated.param_set_desc(\"sigmap2\",{ \"lower-bound\": -0.3,\"upper-bound\": 0.1,\"scale\": 1.0e-2,\"abstol\": 1.0e-50,\"fit\": True,\"value\":-0.109077938873429})\n",
    "\n",
    "cluster_z = Nc.ClusterRedshiftNodist(z_min = 0.0 ,z_max = 1.1)"
   ]
  },
  {
   "cell_type": "markdown",
   "id": "ac2bf2d9-5189-451e-b1ad-e5701f65e712",
   "metadata": {},
   "source": [
    "# Cluster abundance model"
   ]
  },
  {
   "cell_type": "code",
   "execution_count": 4,
   "id": "137cdfb0-6e1f-485f-9269-256de8db86d0",
   "metadata": {},
   "outputs": [
    {
     "name": "stdout",
     "output_type": "stream",
     "text": [
      "183710.07160070643\n"
     ]
    }
   ],
   "source": [
    "mulf = Nc.MultiplicityFuncDespali.new()\n",
    "mulf.set_mdef(Nc.MultiplicityFuncMassDef.VIRIAL)\n",
    "\n",
    "hmf = Nc.HaloMassFunction.new(dist, psf, mulf)\n",
    "hmf.prepare(cosmo)\n",
    "hbias = Nc.HaloBiasTinker.new(hmf)\n",
    "cad = Nc.ClusterAbundance.new(hmf, hbias)\n",
    "cad.set_area(sky_area * (np.pi / 180) ** 2)\n",
    "cad.prepare(cosmo , cluster_z , cluster_m)\n",
    "print(cad.n(cosmo ,cluster_z , cluster_m))"
   ]
  },
  {
   "cell_type": "code",
   "execution_count": 5,
   "id": "27210995-d752-472b-9e98-0a73029410be",
   "metadata": {
    "scrolled": true
   },
   "outputs": [],
   "source": [
    "rng = Ncm.RNG.seeded_new(None, 13)\n",
    "mset = Ncm.MSet.new_array([cluster_m, cosmo, cluster_z])\n",
    "mset.prepare_fparam_map()\n",
    "\n",
    "ncdata = Nc.DataClusterNCount.new(cad, \"NcClusterRedshiftNodist\", \"NcClusterMassAscaso\")\n",
    "ncdata.init_from_sampling(mset, sky_area * (np.pi / 180) ** 2  , rng)\n",
    "\n",
    "lnM_obs_data = np.array([ncdata.get_lnM_obs().get_col(0).get(i) for i in range(ncdata.get_lnM_obs().get_col(0).len())])\n",
    "lnM_true     = np.array([ncdata.get_lnM_true().get(i) for i in range(ncdata.get_lnM_obs().get_col(0).len())])\n",
    "z_obs_data    = np.array([ncdata.get_z_obs().get_col(0).get(i) for i in range(ncdata.get_z_obs().get_col(0).len())])\n",
    "z_true   = np.array([ncdata.get_z_true().get(i) for i in range(ncdata.get_z_obs().get_col(0).len())])\n",
    "\n",
    "lnM_v = Ncm.Vector.new_array(npa_to_seq(lnM_true))\n",
    "z_v = Ncm.Vector.new_array(npa_to_seq(z_true))\n",
    "rich_v = Ncm.Vector.new_array(npa_to_seq(lnM_obs_data))\n",
    "\n",
    "dmr = Nc.DataClusterMassRich.new()\n",
    "dmr.set_data(lnM_v, z_v, rich_v)\n",
    "\n",
    "mset_truncated = Ncm.MSet.new_array([cluster_m_truncated, cosmo, cluster_z])\n",
    "dmr.resample(mset_truncated , rng)\n",
    "#print(dmr.peek_lnR().len())"
   ]
  },
  {
   "cell_type": "markdown",
   "id": "eef016f6-1294-4a4b-8fe9-1bddd4a3a9fd",
   "metadata": {},
   "source": [
    "# Fitting"
   ]
  },
  {
   "cell_type": "markdown",
   "id": "a1814c6b-212b-4b2e-ad00-dd298ce9e6e6",
   "metadata": {},
   "source": [
    "## Fit"
   ]
  },
  {
   "cell_type": "code",
   "execution_count": 6,
   "id": "eafde6c2-d61a-4eae-966b-e9d77dcf85c1",
   "metadata": {
    "scrolled": true
   },
   "outputs": [
    {
     "name": "stdout",
     "output_type": "stream",
     "text": [
      "#----------------------------------------------------------------------------------\n",
      "# Data used:\n",
      "#   - NcDataClusterMassRich\n",
      "#----------------------------------------------------------------------------------\n",
      "# Model[03000]:\n",
      "#   - NcHICosmo : XCDM - Constant EOS\n",
      "#----------------------------------------------------------------------------------\n",
      "# Model parameters\n",
      "#   -         H0[00]:  71                  [FIXED]\n",
      "#   -     Omegac[01]:  0.22                [FIXED]\n",
      "#   -     Omegak[02]:  0                   [FIXED]\n",
      "#   -    Tgamma0[03]:  2.7245              [FIXED]\n",
      "#   -         Yp[04]:  0.24                [FIXED]\n",
      "#   -       ENnu[05]:  3.046               [FIXED]\n",
      "#   -     Omegab[06]:  0.0448              [FIXED]\n",
      "#   -          w[07]: -1                   [FIXED]\n",
      "#----------------------------------------------------------------------------------\n",
      "# Model[05000]:\n",
      "#   - NcHIPrim : Power Law model for primordial spectra\n",
      "#----------------------------------------------------------------------------------\n",
      "# Model parameters\n",
      "#   - ln10e10ASA[00]:  3.05991748699321    [FIXED]\n",
      "#   - T_SA_ratio[01]:  0.2                 [FIXED]\n",
      "#   -       n_SA[02]:  0.963               [FIXED]\n",
      "#   -        n_T[03]:  0                   [FIXED]\n",
      "#----------------------------------------------------------------------------------\n",
      "# Model[09000]:\n",
      "#   - NcClusterMass : Ascaso Ln-normal richness distribution\n",
      "#----------------------------------------------------------------------------------\n",
      "# Model parameters\n",
      "#   -       mup0[00]:  4.11945317984568    [FREE]\n",
      "#   -       mup1[01]:  1.11236863168254    [FREE]\n",
      "#   -       mup2[02]:  0.299464198653602   [FREE]\n",
      "#   -    sigmap0[03]:  0.471246505057074   [FREE]\n",
      "#   -    sigmap1[04]: -0.0591674971985774  [FREE]\n",
      "#   -    sigmap2[05]: -0.109077938873429   [FREE]\n",
      "#   -        cut[06]:  1.6094379124341     [FIXED]\n",
      "#----------------------------------------------------------------------------------\n",
      "# Model[10000]:\n",
      "#   - NcClusterRedshift : No redshift distribution\n",
      "#----------------------------------------------------------------------------------\n",
      "# Model parameters\n",
      "#----------------------------------------------------------------------------------\n",
      "# Model[19000]:\n",
      "#   - NcHIReion : Reion-CAMB\n",
      "#----------------------------------------------------------------------------------\n",
      "# Model parameters\n",
      "#   -       z_re[00]:  13                  [FIXED]\n",
      "#   -    z_He_re[01]:  3.5                 [FIXED]\n",
      "#----------------------------------------------------------------------------------\n",
      "# Model fitting. Iterating using:\n",
      "#  - solver:            NLOpt:ln-neldermead\n",
      "#  - differentiation:   Numerical differentiation (central)\n",
      "...................\n",
      "#  Minimum found with precision: |df|/f =  1.00000e-08 and |dx| =  1.00000e-05\n",
      "#  Elapsed time: 00 days, 00:00:01.8656820\n",
      "#  iteration            [000215]\n",
      "#  function evaluations [000217]\n",
      "#  gradient evaluations [000000]\n",
      "#  degrees of freedom   [184433]\n",
      "#  m2lnL     =    -50693.3990308753 (    -50693.399 )\n",
      "#  Fit parameters:\n",
      "#     4.1004890895389        1.09853026174536       0.32850871232089       0.47153055444617      -0.0565863047480105    -0.121967841917224     \n",
      "# Computing Hessian matrix using numerical differentiation.\n",
      "#  - relative tolerance: 1.00e-05\n",
      "......................................................................................................................................................................................................................................................................................................................................................................................................................................................................................................................................................................................................................................................................................................................................................................................................................................................................................................................................................................................................................................................................................................................................................................................................................................................................................................................................................................................................................................................................................................................\n",
      "#  - worst relative error: 2.27e-01\n",
      "#  - relative tolerance not reached, trying again with larger initial step.\n",
      ".....................................................................................................................................................................................................................................................................................................................................................................................................................................................................................................................................................................................................................................................................................................................................................................................................................................................................................................................................................................................................................................................................................................................................................................................................................................................................................................................................................................................................................................................................................................................................#  - worst relative error: 8.97e-02\n",
      "\n",
      "#----------------------------------------------------------------------------------\n",
      "# NcmMSet parameters covariance matrix\n",
      "#                                                   -------------------------------------------------------------------------------------------\n",
      "#    mup0[09000:00] =  4.1         +/-  0.01247     |  1           |  0.9036      |  0.06367     | -0.1912      | -0.4415      | -0.02166     |\n",
      "#    mup1[09000:01] =  1.099       +/-  0.009132    |  0.9036      |  1           |  0.2073      | -0.1336      | -0.5281      | -0.1053      |\n",
      "#    mup2[09000:02] =  0.3285      +/-  0.03438     |  0.06367     |  0.2073      |  1           |  0.00847     | -0.1385      | -0.5849      |\n",
      "# sigmap0[09000:03] =  0.4715      +/-  0.006381    | -0.1912      | -0.1336      |  0.00847     |  1           |  0.826       |  0.003787    |\n",
      "# sigmap1[09000:04] = -0.05659     +/-  0.003252    | -0.4415      | -0.5281      | -0.1385      |  0.826       |  1           |  0.1834      |\n",
      "# sigmap2[09000:05] = -0.122       +/-  0.01761     | -0.02166     | -0.1053      | -0.5849      |  0.003787    |  0.1834      |  1           |\n",
      "#                                                   -------------------------------------------------------------------------------------------\n"
     ]
    }
   ],
   "source": [
    "dset = Ncm.Dataset.new()\n",
    "dset.append_data(dmr)\n",
    "lh = Ncm.Likelihood.new(dset)\n",
    "\n",
    "fit = Ncm.Fit.factory(\n",
    "    Ncm.FitType.NLOPT, \"ln-neldermead\", lh, mset_truncated, Ncm.FitGradType.NUMDIFF_CENTRAL\n",
    ")\n",
    "\n",
    "fit.log_info()\n",
    "fit.run(Ncm.FitRunMsgs.SIMPLE)\n",
    "fit.obs_fisher()\n",
    "fit.log_covar()"
   ]
  },
  {
   "cell_type": "markdown",
   "id": "f441b32d-d5af-44e7-990e-2a9f079c13f6",
   "metadata": {},
   "source": [
    "## MC"
   ]
  },
  {
   "cell_type": "code",
   "execution_count": null,
   "id": "e9ae6762-f0eb-4519-834a-9c3e4e90556b",
   "metadata": {
    "scrolled": true
   },
   "outputs": [
    {
     "name": "stdout",
     "output_type": "stream",
     "text": [
      "# NcmThreadPool:Unused:      0\n",
      "# NcmThreadPool:Max Unused:  8\n",
      "# NcmThreadPool:Running:     0\n",
      "# NcmThreadPool:Unprocessed: 0\n",
      "# NcmThreadPool:Unused:      2\n",
      "# NcmFitMC: No RNG was defined, using algorithm: `mt19937' and seed: 3658470564.\n",
      "#----------------------------------------------------------------------------------\n",
      "# NcmFitMC: Calculating [020000] Monte Carlo fits [from-model]\n",
      "# Task:NcmFitMC, started at: Mon Oct 20 2025, 13:50:46\n",
      "# NcmMSetCatalog: Current mean:  -52361        4.0995       1.0977       0.32441      0.47291     -0.0558      -0.12252    \n",
      "# NcmMSetCatalog: Current msd:    45.51        0.0015876    0.0011756    0.0053955    0.00073905   0.00036106   0.0025844  \n",
      "# NcmMSetCatalog: Current sd:     340.57       0.01188      0.0087976    0.040376     0.0055306    0.0027019    0.01934    \n",
      "# NcmMSetCatalog: Current var:    1.1599e+05   0.00014114   7.7398e-05   0.0016302    3.0587e-05   7.3005e-06   0.00037404 \n",
      "# NcmMSetCatalog: Current tau:    1            1            1            1            1            1            1          \n",
      "# Task:NcmFitMC, completed: 56 of 20000, elapsed time: 00:01:00.8755\n",
      "# Task:NcmFitMC, mean time: 00:00:01.0871 +/- 00:00:00.0988\n",
      "# Task:NcmFitMC, time left: 06:01:20.3175 +/- 00:32:51.1047\n",
      "# Task:NcmFitMC, current time:        Mon Oct 20 2025, 13:51:47\n",
      "# Task:NcmFitMC, estimated to end at: Mon Oct 20 2025, 19:53:07 +/- 00:32:51.1047\n"
     ]
    }
   ],
   "source": [
    "Ncm.func_eval_set_max_threads(2)\n",
    "Ncm.func_eval_log_pool_stats()\n",
    "    \n",
    "fitmc = Ncm.FitMC.new(fit, Ncm.FitMCResampleType.FROM_MODEL, Ncm.FitRunMsgs.SIMPLE)\n",
    "fitmc.set_nthreads(2)\n",
    "fitmc.set_data_file(\"mc_cut.fits\")\n",
    "\n",
    "fitmc.start_run()\n",
    "fitmc.run(20000)\n",
    "fitmc.end_run()\n",
    "fitmc.mean_covar()\n",
    "fit.log_covar()\n",
    "\n",
    "mcat = Ncm.MSetCatalog.new_from_file_ro(\"mc_cut.fits\", 0)\n",
    "mcat.log_full_covar()"
   ]
  },
  {
   "cell_type": "code",
   "execution_count": null,
   "id": "8a382195-5867-4ff8-b4da-d925bfdf04b7",
   "metadata": {},
   "outputs": [],
   "source": []
  }
 ],
 "metadata": {
  "kernelspec": {
   "display_name": "numcosmo",
   "language": "python",
   "name": "numcosmo_developer"
  },
  "language_info": {
   "codemirror_mode": {
    "name": "ipython",
    "version": 3
   },
   "file_extension": ".py",
   "mimetype": "text/x-python",
   "name": "python",
   "nbconvert_exporter": "python",
   "pygments_lexer": "ipython3",
   "version": "3.13.2"
  }
 },
 "nbformat": 4,
 "nbformat_minor": 5
}
