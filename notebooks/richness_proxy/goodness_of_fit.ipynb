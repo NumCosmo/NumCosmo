{
 "cells": [
  {
   "cell_type": "code",
   "execution_count": 1,
   "id": "0a37176a-cf7d-4263-a5fd-0009f361aef7",
   "metadata": {},
   "outputs": [
    {
     "name": "stderr",
     "output_type": "stream",
     "text": [
      "\n",
      "WARNING: version mismatch between CFITSIO header (v40500) and linked library (v40602).\n",
      "\n"
     ]
    }
   ],
   "source": [
    "from astropy.io import fits\n",
    "import sys\n",
    "import pandas as pd\n",
    "from astropy.table import unique, Table\n",
    "import astropy\n",
    "from matplotlib import pyplot as plt\n",
    "import numpy as np\n",
    "from numcosmo_py import Ncm, Nc, sky_match\n",
    "from numcosmo_py.external.pyssc import pyssc as PySSC\n",
    "from numcosmo_py.helper import npa_to_seq\n",
    "import timeit\n",
    "Ncm.cfg_init()\n",
    "\n",
    "from getdist.mcsamples import  MCSamples\n",
    "from getdist import plots\n",
    "import getdist"
   ]
  },
  {
   "cell_type": "markdown",
   "id": "7384bd52-4fae-4985-ae57-42ae7e3f319d",
   "metadata": {},
   "source": [
    "# Cosmological Model"
   ]
  },
  {
   "cell_type": "code",
   "execution_count": 2,
   "id": "2ec3fc2e-c9a3-4c4e-b4ff-b9c52c340637",
   "metadata": {},
   "outputs": [
    {
     "name": "stdout",
     "output_type": "stream",
     "text": [
      "0.8000000000000014\n"
     ]
    }
   ],
   "source": [
    "# Taking some important information about the fiducial cosmological model and survey region\n",
    "sky_area = 439.790\n",
    "\n",
    "#cosmological model\n",
    "cosmo = Nc.HICosmoDEXcdm()\n",
    "cosmo.omega_x2omega_k()\n",
    "cosmo.param_set_by_name(\"Omegak\",0.0)\n",
    "cosmo.param_set_by_name(\"H0\", 71)\n",
    "cosmo.param_set_by_name(\"Omegab\", 0.0448)\n",
    "cosmo.param_set_by_name(\"Omegac\", 0.22)  # 0.2603\n",
    "\n",
    "cosmo.param_set_by_name(\"w\", -1.0)  # -1.0\n",
    "\n",
    "prim = Nc.HIPrimPowerLaw.new()\n",
    "prim.param_set_by_name(\"ln10e10ASA\",  3.05991748699321)\n",
    "prim.props.n_SA = 0.963\n",
    "reion = Nc.HIReionCamb.new()\n",
    "\n",
    "cosmo.add_submodel(prim)\n",
    "cosmo.add_submodel(reion)\n",
    "\n",
    "#matter power spectrum\n",
    "tf = Nc.TransferFuncEH()\n",
    "\n",
    "psml = Nc.PowspecMLTransfer.new(tf)\n",
    "psml.require_kmin(1.0e-6)\n",
    "psml.require_kmax(1.0e3)\n",
    "\n",
    "psf = Ncm.PowspecFilter.new(psml, Ncm.PowspecFilterType.TOPHAT)\n",
    "psf.set_best_lnr0()\n",
    "psf.prepare(cosmo)\n",
    "print(cosmo.sigma8(psf))\n",
    "\n",
    "dist = Nc.Distance.new(2.0)\n",
    "dist.prepare(cosmo)"
   ]
  },
  {
   "cell_type": "markdown",
   "id": "658720db-ec67-4724-9cc8-d9d511f451bc",
   "metadata": {},
   "source": [
    "# Cluster Mass-Richness and photoz model "
   ]
  },
  {
   "cell_type": "code",
   "execution_count": 3,
   "id": "8dffe7f0-0971-4cb7-97db-93f707529378",
   "metadata": {},
   "outputs": [],
   "source": [
    "cluster_m = Nc.ClusterMassAscaso(lnRichness_min = 0.0 ,lnRichness_max = 6.0)\n",
    "cluster_m.param_set_by_name(\"mup0\", 4.11945317984568)\n",
    "cluster_m.param_set_by_name(\"mup1\", 1.11236863168254)\n",
    "cluster_m.param_set_by_name(\"mup2\", 0.299464198653602)\n",
    "cluster_m.param_set_by_name(\"sigmap0\", 0.471246505057074)\n",
    "cluster_m.param_set_by_name(\"sigmap1\", -0.0591674971985774)\n",
    "cluster_m.param_set_by_name(\"sigmap2\", -0.109077938873429)\n",
    "cluster_m.param_set_by_name(\"cut\", np.log(1.0))\n",
    "cluster_m.set_enable_rejection(True)\n",
    "\n",
    "cluster_m.param_set_desc(\"mup0\",{ \"lower-bound\": 3.0,\"upper-bound\": 5.0,\"scale\": 1.0e-2,\"abstol\": 1.0e-50,\"fit\": True,\"value\": 4.11945317984568})\n",
    "cluster_m.param_set_desc(\"mup1\",{ \"lower-bound\": 0.0,\"upper-bound\": 3.0,\"scale\": 1.0e-2,\"abstol\": 1.0e-50,\"fit\": True,\"value\": 1.11236863168254})\n",
    "cluster_m.param_set_desc(\"mup2\",{ \"lower-bound\": -1.0,\"upper-bound\": 1.0,\"scale\": 1.0e-2,\"abstol\": 1.0e-50,\"fit\": True,\"value\": 0.299464198653602})\n",
    "cluster_m.param_set_desc(\"sigmap0\",{ \"lower-bound\": 0.1,\"upper-bound\": 2.0,\"scale\": 1.0e-2,\"abstol\": 1.0e-50,\"fit\": True,\"value\": 0.471246505057074})\n",
    "cluster_m.param_set_desc(\"sigmap1\",{ \"lower-bound\": -0.1,\"upper-bound\": -0.00001,\"scale\": 1.0e-2,\"abstol\": 1.0e-50,\"fit\": True,\"value\": -0.0591674971985774})\n",
    "cluster_m.param_set_desc(\"sigmap2\",{ \"lower-bound\": -0.3,\"upper-bound\": 0.1,\"scale\": 1.0e-2,\"abstol\": 1.0e-50,\"fit\": True,\"value\":-0.109077938873429})\n",
    "\n",
    "\n",
    "cut = np.log(20.0)\n",
    "cluster_m_truncated = Nc.ClusterMassAscaso(lnRichness_min = cut ,lnRichness_max = 6.0)\n",
    "cluster_m_truncated.param_set_by_name(\"mup0\", 4.11945317984568)\n",
    "cluster_m_truncated.param_set_by_name(\"mup1\", 1.11236863168254)\n",
    "cluster_m_truncated.param_set_by_name(\"mup2\", 0.299464198653602)\n",
    "cluster_m_truncated.param_set_by_name(\"sigmap0\", 0.471246505057074)\n",
    "cluster_m_truncated.param_set_by_name(\"sigmap1\", -0.0591674971985774)\n",
    "cluster_m_truncated.param_set_by_name(\"sigmap2\", -0.109077938873429)\n",
    "cluster_m_truncated.param_set_by_name(\"cut\", cut)\n",
    "\n",
    "cluster_m_truncated.param_set_desc(\"mup0\",{ \"lower-bound\": 3.0,\"upper-bound\": 5.0,\"scale\": 1.0e-2,\"abstol\": 1.0e-50,\"fit\": True,\"value\": 4.11945317984568})\n",
    "cluster_m_truncated.param_set_desc(\"mup1\",{ \"lower-bound\": 0.0,\"upper-bound\": 3.0,\"scale\": 1.0e-2,\"abstol\": 1.0e-50,\"fit\": True,\"value\": 1.11236863168254})\n",
    "cluster_m_truncated.param_set_desc(\"mup2\",{ \"lower-bound\": -1.0,\"upper-bound\": 1.0,\"scale\": 1.0e-2,\"abstol\": 1.0e-50,\"fit\": True,\"value\": 0.299464198653602})\n",
    "cluster_m_truncated.param_set_desc(\"sigmap0\",{ \"lower-bound\": 0.2,\"upper-bound\": 2.0,\"scale\": 1.0e-2,\"abstol\": 1.0e-50,\"fit\": True,\"value\": 0.471246505057074})\n",
    "cluster_m_truncated.param_set_desc(\"sigmap1\",{ \"lower-bound\": -0.1,\"upper-bound\": -0.00001,\"scale\": 1.0e-2,\"abstol\": 1.0e-50,\"fit\": True,\"value\": -0.0591674971985774})\n",
    "cluster_m_truncated.param_set_desc(\"sigmap2\",{ \"lower-bound\": -0.3,\"upper-bound\": 0.1,\"scale\": 1.0e-2,\"abstol\": 1.0e-50,\"fit\": True,\"value\":-0.109077938873429})\n",
    "\n",
    "cluster_z = Nc.ClusterRedshiftNodist(z_min = 0.0 ,z_max = 1.1)"
   ]
  },
  {
   "cell_type": "markdown",
   "id": "ac2bf2d9-5189-451e-b1ad-e5701f65e712",
   "metadata": {},
   "source": [
    "# Cluster abundance model"
   ]
  },
  {
   "cell_type": "code",
   "execution_count": 4,
   "id": "137cdfb0-6e1f-485f-9269-256de8db86d0",
   "metadata": {},
   "outputs": [
    {
     "name": "stdout",
     "output_type": "stream",
     "text": [
      "183710.07160070643\n"
     ]
    }
   ],
   "source": [
    "mulf = Nc.MultiplicityFuncDespali.new()\n",
    "mulf.set_mdef(Nc.MultiplicityFuncMassDef.VIRIAL)\n",
    "\n",
    "hmf = Nc.HaloMassFunction.new(dist, psf, mulf)\n",
    "hmf.prepare(cosmo)\n",
    "hbias = Nc.HaloBiasTinker.new(hmf)\n",
    "cad = Nc.ClusterAbundance.new(hmf, hbias)\n",
    "cad.set_area(sky_area * (np.pi / 180) ** 2)\n",
    "cad.prepare(cosmo , cluster_z , cluster_m)\n",
    "print(cad.n(cosmo ,cluster_z , cluster_m))"
   ]
  },
  {
   "cell_type": "code",
   "execution_count": 5,
   "id": "27210995-d752-472b-9e98-0a73029410be",
   "metadata": {
    "scrolled": true
   },
   "outputs": [
    {
     "name": "stdout",
     "output_type": "stream",
     "text": [
      "151861\n"
     ]
    }
   ],
   "source": [
    "rng = Ncm.RNG.seeded_new(None, 13)\n",
    "mset = Ncm.MSet.new_array([cluster_m, cosmo, cluster_z])\n",
    "mset.prepare_fparam_map()\n",
    "\n",
    "ncdata = Nc.DataClusterNCount.new(cad, \"NcClusterRedshiftNodist\", \"NcClusterMassAscaso\")\n",
    "ncdata.init_from_sampling(mset, sky_area * (np.pi / 180) ** 2  , rng)\n",
    "\n",
    "lnM_obs_data = np.array([ncdata.get_lnM_obs().get_col(0).get(i) for i in range(ncdata.get_lnM_obs().get_col(0).len())])\n",
    "lnM_true     = np.array([ncdata.get_lnM_true().get(i) for i in range(ncdata.get_lnM_obs().get_col(0).len())])\n",
    "z_obs_data    = np.array([ncdata.get_z_obs().get_col(0).get(i) for i in range(ncdata.get_z_obs().get_col(0).len())])\n",
    "z_true   = np.array([ncdata.get_z_true().get(i) for i in range(ncdata.get_z_obs().get_col(0).len())])\n",
    "\n",
    "lnM_v = Ncm.Vector.new_array(npa_to_seq(lnM_true))\n",
    "z_v = Ncm.Vector.new_array(npa_to_seq(z_true))\n",
    "rich_v = Ncm.Vector.new_array(npa_to_seq(lnM_obs_data))\n",
    "\n",
    "dmr = Nc.DataClusterMassRich.new()\n",
    "dmr.set_data(lnM_v, z_v, rich_v)\n",
    "\n",
    "mset_truncated = Ncm.MSet.new_array([cluster_m_truncated, cosmo, cluster_z])\n",
    "dmr.resample(mset , rng)\n",
    "print(dmr.peek_lnR().len())"
   ]
  },
  {
   "cell_type": "code",
   "execution_count": 6,
   "id": "c84eb781-4fec-4620-94d8-5379a2e8ef6f",
   "metadata": {},
   "outputs": [
    {
     "name": "stdout",
     "output_type": "stream",
     "text": [
      "4494\n"
     ]
    },
    {
     "name": "stderr",
     "output_type": "stream",
     "text": [
      "/tmp/ipykernel_1883019/1463760110.py:1: Warning: g_object_unref: assertion 'G_IS_OBJECT (object)' failed\n",
      "  dmr.resample(mset_truncated , rng)\n"
     ]
    }
   ],
   "source": [
    "#dmr.resample(mset_truncated , rng)\n",
    "#print(dmr.peek_lnR().len())"
   ]
  },
  {
   "cell_type": "markdown",
   "id": "eef016f6-1294-4a4b-8fe9-1bddd4a3a9fd",
   "metadata": {},
   "source": [
    "# Fitting"
   ]
  },
  {
   "cell_type": "markdown",
   "id": "a1814c6b-212b-4b2e-ad00-dd298ce9e6e6",
   "metadata": {},
   "source": [
    "## Fit"
   ]
  },
  {
   "cell_type": "code",
   "execution_count": null,
   "id": "eafde6c2-d61a-4eae-966b-e9d77dcf85c1",
   "metadata": {
    "scrolled": true
   },
   "outputs": [],
   "source": [
    "dset = Ncm.Dataset.new()\n",
    "dset.append_data(dmr)\n",
    "lh = Ncm.Likelihood.new(dset)\n",
    "\n",
    "fit = Ncm.Fit.factory(\n",
    "    Ncm.FitType.NLOPT, \"ln-neldermead\", lh, mset, Ncm.FitGradType.NUMDIFF_CENTRAL\n",
    ")\n",
    "\n",
    "fit.log_info()\n",
    "fit.run(Ncm.FitRunMsgs.SIMPLE)\n",
    "fit.obs_fisher()\n",
    "fit.log_covar()"
   ]
  },
  {
   "cell_type": "markdown",
   "id": "f441b32d-d5af-44e7-990e-2a9f079c13f6",
   "metadata": {},
   "source": [
    "## MC"
   ]
  },
  {
   "cell_type": "code",
   "execution_count": null,
   "id": "e9ae6762-f0eb-4519-834a-9c3e4e90556b",
   "metadata": {
    "scrolled": true
   },
   "outputs": [],
   "source": [
    "Ncm.func_eval_set_max_threads(2)\n",
    "Ncm.func_eval_log_pool_stats()\n",
    "\n",
    "fitmc = Ncm.FitMC.new(fit, Ncm.FitMCResampleType.FROM_MODEL, Ncm.FitRunMsgs.SIMPLE)\n",
    "fitmc.set_nthreads(2)\n",
    "fitmc.set_data_file(\"mc_cut.fits\")\n",
    "\n",
    "fitmc.start_run()\n",
    "fitmc.run(2000)\n",
    "fitmc.end_run()\n",
    "fitmc.mean_covar()\n",
    "fit.log_covar()\n",
    "\n",
    "mcat = Ncm.MSetCatalog.new_from_file_ro(\"mc_cut.fits\", 0)\n",
    "mcat.log_full_covar()\n"
   ]
  }
 ],
 "metadata": {
  "kernelspec": {
   "display_name": "numcosmo",
   "language": "python",
   "name": "numcosmo_developer"
  },
  "language_info": {
   "codemirror_mode": {
    "name": "ipython",
    "version": 3
   },
   "file_extension": ".py",
   "mimetype": "text/x-python",
   "name": "python",
   "nbconvert_exporter": "python",
   "pygments_lexer": "ipython3",
   "version": "3.13.2"
  }
 },
 "nbformat": 4,
 "nbformat_minor": 5
}
