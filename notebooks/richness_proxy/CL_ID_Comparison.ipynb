{
 "cells": [
  {
   "cell_type": "code",
   "execution_count": 16,
   "id": "a0696325-1f4f-41d1-b39b-1c3561ecae4e",
   "metadata": {},
   "outputs": [
    {
     "name": "stdout",
     "output_type": "stream",
     "text": [
      "GCRCatalogs = 1.9.0 | GCR = 0.9.2\n"
     ]
    }
   ],
   "source": [
    "import sys\n",
    "\n",
    "import os\n",
    "import numpy as np\n",
    "import matplotlib.pyplot as plt\n",
    "\n",
    "from astropy.io import fits\n",
    "from astropy.table import Table\n",
    "import pandas as pd\n",
    "\n",
    "sys.path.insert(0, \"/global/homes/c/cinlima/gcrcatalogs-new/gcr-catalogs\")\n",
    "\n",
    "import GCRCatalogs\n",
    "#Put nersc if using nersc\n",
    "GCRCatalogs.set_root_dir_by_site(\"nersc\")\n",
    "\n",
    "print('GCRCatalogs =', GCRCatalogs.__version__, '|' ,'GCR =', GCRCatalogs.GCR.__version__)\n",
    "\n",
    "import clevar\n",
    "from clevar import ClCatalog, MemCatalog\n",
    "from clevar.match import MembershipMatch, get_matched_pairs\n",
    "from clevar.match import output_matched_catalog\n",
    "from clevar.match_metrics.scaling import ClCatalogFuncs as s_cf"
   ]
  },
  {
   "cell_type": "code",
   "execution_count": 17,
   "id": "2fa3ea5a-a9a2-4c18-a922-0540cadcec59",
   "metadata": {},
   "outputs": [],
   "source": [
    "cluster_data = Table.read('/global/homes/c/cinlima/NumCosmo/notebooks/richness_proxy/CatalogsMatching/cluster_data.fits')\n",
    "member_data = Table.read('/global/homes/c/cinlima/NumCosmo/notebooks/richness_proxy/CatalogsMatching/member_data.fits')\n",
    "truth_data = Table.read('/global/homes/c/cinlima/NumCosmo/notebooks/richness_proxy/CatalogsMatching/truth_data.fits')"
   ]
  },
  {
   "cell_type": "code",
   "execution_count": 18,
   "id": "d06b9448-b992-42a8-b53b-46612768f2c7",
   "metadata": {},
   "outputs": [],
   "source": [
    "match_ID = Table.read('/global/homes/c/cinlima/NumCosmo/notebooks/richness_proxy/CatalogsMatching/match_ID.fits')"
   ]
  },
  {
   "cell_type": "code",
   "execution_count": 19,
   "id": "31092127-a829-4bfc-b920-bcebda50a8ba",
   "metadata": {},
   "outputs": [
    {
     "name": "stdout",
     "output_type": "stream",
     "text": [
      "RM_cat\n",
      "    * ClEvar used in matching: 0.14.1\n",
      " * Total objects:    45,081\n",
      " * multiple (self):  43,213\n",
      " * multiple (other): 43,213\n",
      " * unique (self):    43,035\n",
      " * unique (other):   43,037\n",
      " * cross:            43,035\n",
      "\n",
      "halo_cat\n",
      "    * ClEvar used in matching: 0.14.1\n",
      " * Total objects:    471,457\n",
      " * multiple (self):  75,785\n",
      " * multiple (other): 75,785\n",
      " * unique (self):    43,037\n",
      " * unique (other):   43,035\n",
      " * cross:            43,035\n"
     ]
    }
   ],
   "source": [
    "# CLEVAR\n",
    "\n",
    "min_richness = 5\n",
    "min_halo_mass = 1e13 #Msun\n",
    "\n",
    "# Halos/Clusters\n",
    "#CosmoDC2 + RedMaPPer: 'cosmoDC2_v1.1.4_redmapper_v0.8.1'\n",
    "RM_cat = ClCatalog.read('/global/homes/c/cinlima/Data/CDC2Data/RM_cat_richness_min_'+str(min_richness)+'.fits', name='RM_cat', full=True, tags={'mass':'richness'})\n",
    "\n",
    "#CosmoDC2: 'cosmoDC2_v1.1.4_image'\n",
    "halo_cat = ClCatalog.read('/global/homes/c/cinlima/Data/CDC2Data/halo_cat_mass_min_'+f\"{min_halo_mass:1.2e}\"+'.fits', name='halo_cat', full=True, tags={'mass':'mass_fof'})\n",
    "\n",
    "#Members\n",
    "RM_cat.read_members('/global/homes/c/cinlima/Data/CDC2Data/RM_cat_richness_min_'+str(min_richness)+'_members.fits',  full=True)\n",
    "halo_cat.read_members('/global/homes/c/cinlima/Data/CDC2Data/halo_cat_mass_min_'+f\"{min_halo_mass:1.2e}\"+'_members.fits', full=True)\n",
    "\n",
    "#Match catalogs\n",
    "mt = MembershipMatch()\n",
    "\n",
    "mt.load_matches(RM_cat, halo_cat, out_dir='/global/homes/c/cinlima/Data/CDC2Data/cosmoDC2_RM_match_cross_membership')\n",
    "RM_cat_bij, halo_cat_bij = get_matched_pairs(RM_cat, halo_cat, 'cross')"
   ]
  },
  {
   "cell_type": "code",
   "execution_count": 24,
   "id": "a2deadf8-0252-43da-a7ed-c4cd3f76bc44",
   "metadata": {},
   "outputs": [],
   "source": [
    "match_clevar = Table([halo_cat_bij['mass_fof'], RM_cat_bij['richness'], RM_cat_bij['z']], names=('mass', 'richness', 'redshift'))\n"
   ]
  },
  {
   "cell_type": "code",
   "execution_count": 25,
   "id": "e4d41dd2-a6d7-4048-822d-b43429723d38",
   "metadata": {},
   "outputs": [
    {
     "name": "stderr",
     "output_type": "stream",
     "text": [
      "/tmp/ipykernel_880061/3075592925.py:2: RuntimeWarning: divide by zero encountered in log\n",
      "  np.log(match_ID['richness'] < 5.5))]\n"
     ]
    },
    {
     "data": {
      "text/html": [
       "<div><i>Table length=5</i>\n",
       "<table id=\"table140704362374416\" class=\"table-striped table-bordered table-condensed\">\n",
       "<thead><tr><th>id</th><th>cluster_id</th><th>halo_id</th><th>cluster_ra</th><th>ra</th><th>cluster_dec</th><th>dec</th><th>richness</th><th>richness_err</th><th>halo_mass</th><th>is_central</th><th>redshift</th><th>cluster_redshift</th><th>cluster_redshift_err</th><th>frac_catalog1</th></tr></thead>\n",
       "<thead><tr><th>int64</th><th>int32</th><th>int64</th><th>float64</th><th>float64</th><th>float64</th><th>float64</th><th>float32</th><th>float32</th><th>float64</th><th>bool</th><th>float64</th><th>float32</th><th>float32</th><th>float64</th></tr></thead>\n",
       "<tr><td>5250182580</td><td>14</td><td>57800084355</td><td>69.34670035077468</td><td>69.34670035077468</td><td>-33.39340819018279</td><td>-33.39340819018279</td><td>204.72597</td><td>4.495039</td><td>364188580734197.2</td><td>True</td><td>0.3756054176465722</td><td>0.3828181</td><td>0.00384154</td><td>0.9</td></tr>\n",
       "<tr><td>8562541846</td><td>3</td><td>101900137401</td><td>50.413689701043914</td><td>50.413689701043914</td><td>-38.520252684731176</td><td>-38.520252684731176</td><td>266.29504</td><td>4.584456</td><td>395317641677521.1</td><td>True</td><td>0.21616988261672043</td><td>0.21920915</td><td>0.004083831</td><td>0.3344155844155844</td></tr>\n",
       "<tr><td>8812617235</td><td>8</td><td>536900141373</td><td>60.730393791492105</td><td>60.730393791492105</td><td>-37.49569503313509</td><td>-37.49569503313509</td><td>253.75546</td><td>5.3337297</td><td>560738888378050.75</td><td>True</td><td>0.3329006927699356</td><td>0.33059168</td><td>0.005507138</td><td>0.42342342342342343</td></tr>\n",
       "<tr><td>9750040774</td><td>12</td><td>700156401</td><td>63.563618571508925</td><td>63.563618571508925</td><td>-40.402946189791535</td><td>-40.402946189791535</td><td>203.45981</td><td>4.691607</td><td>401753499884529.6</td><td>True</td><td>0.24034691441733247</td><td>0.2439135</td><td>0.004576755</td><td>0.42084942084942084</td></tr>\n",
       "<tr><td>12000042585</td><td>22</td><td>242900192401</td><td>71.48910979131912</td><td>71.48910979131912</td><td>-45.107857596384726</td><td>-45.107857596384726</td><td>170.55482</td><td>3.8476717</td><td>451815767233262.0</td><td>True</td><td>0.2261143025679202</td><td>0.22532119</td><td>0.004205084</td><td>0.9257425742574258</td></tr>\n",
       "</table></div>"
      ],
      "text/plain": [
       "<Table length=5>\n",
       "     id     cluster_id   halo_id    ... cluster_redshift_err    frac_catalog1   \n",
       "   int64      int32       int64     ...       float32              float64      \n",
       "----------- ---------- ------------ ... -------------------- -------------------\n",
       " 5250182580         14  57800084355 ...           0.00384154                 0.9\n",
       " 8562541846          3 101900137401 ...          0.004083831  0.3344155844155844\n",
       " 8812617235          8 536900141373 ...          0.005507138 0.42342342342342343\n",
       " 9750040774         12    700156401 ...          0.004576755 0.42084942084942084\n",
       "12000042585         22 242900192401 ...          0.004205084  0.9257425742574258"
      ]
     },
     "execution_count": 25,
     "metadata": {},
     "output_type": "execute_result"
    }
   ],
   "source": [
    "selection_ID = match_ID[np.logical_and(np.log(match_ID['richness']) > 5.0,\n",
    "                                                       np.log(match_ID['richness'] < 5.5))]\n",
    "\n",
    "selection_ID = selection_ID[np.logical_and(selection_ID['redshift'] > 0.2, selection_ID['redshift'] < 0.4 )]\n",
    "\n",
    "selection_ID"
   ]
  },
  {
   "cell_type": "code",
   "execution_count": 27,
   "id": "1dad7a43-75bc-419d-b8be-d7b6d8c296f7",
   "metadata": {},
   "outputs": [
    {
     "name": "stderr",
     "output_type": "stream",
     "text": [
      "/tmp/ipykernel_880061/2332066690.py:2: RuntimeWarning: divide by zero encountered in log\n",
      "  np.log(match_clevar['richness'] < 5.5))]\n"
     ]
    },
    {
     "ename": "IndexError",
     "evalue": "boolean index did not match indexed array along dimension 0; dimension is 38907 but corresponding boolean dimension is 43035",
     "output_type": "error",
     "traceback": [
      "\u001b[0;31m---------------------------------------------------------------------------\u001b[0m",
      "\u001b[0;31mIndexError\u001b[0m                                Traceback (most recent call last)",
      "Cell \u001b[0;32mIn[27], line 1\u001b[0m\n\u001b[0;32m----> 1\u001b[0m selection_clevar \u001b[38;5;241m=\u001b[39m \u001b[43mmatch_ID\u001b[49m\u001b[43m[\u001b[49m\u001b[43mnp\u001b[49m\u001b[38;5;241;43m.\u001b[39;49m\u001b[43mlogical_and\u001b[49m\u001b[43m(\u001b[49m\u001b[43mnp\u001b[49m\u001b[38;5;241;43m.\u001b[39;49m\u001b[43mlog\u001b[49m\u001b[43m(\u001b[49m\u001b[43mmatch_clevar\u001b[49m\u001b[43m[\u001b[49m\u001b[38;5;124;43m'\u001b[39;49m\u001b[38;5;124;43mrichness\u001b[39;49m\u001b[38;5;124;43m'\u001b[39;49m\u001b[43m]\u001b[49m\u001b[43m)\u001b[49m\u001b[43m \u001b[49m\u001b[38;5;241;43m>\u001b[39;49m\u001b[43m \u001b[49m\u001b[38;5;241;43m5.0\u001b[39;49m\u001b[43m,\u001b[49m\n\u001b[1;32m      2\u001b[0m \u001b[43m                                                       \u001b[49m\u001b[43mnp\u001b[49m\u001b[38;5;241;43m.\u001b[39;49m\u001b[43mlog\u001b[49m\u001b[43m(\u001b[49m\u001b[43mmatch_clevar\u001b[49m\u001b[43m[\u001b[49m\u001b[38;5;124;43m'\u001b[39;49m\u001b[38;5;124;43mrichness\u001b[39;49m\u001b[38;5;124;43m'\u001b[39;49m\u001b[43m]\u001b[49m\u001b[43m \u001b[49m\u001b[38;5;241;43m<\u001b[39;49m\u001b[43m \u001b[49m\u001b[38;5;241;43m5.5\u001b[39;49m\u001b[43m)\u001b[49m\u001b[43m)\u001b[49m\u001b[43m]\u001b[49m\n\u001b[1;32m      4\u001b[0m selection_clevar \u001b[38;5;241m=\u001b[39m selection_clevar[np\u001b[38;5;241m.\u001b[39mlogical_and(selection_clevar[\u001b[38;5;124m'\u001b[39m\u001b[38;5;124mredshift\u001b[39m\u001b[38;5;124m'\u001b[39m] \u001b[38;5;241m>\u001b[39m \u001b[38;5;241m0.2\u001b[39m, selection_clevar[\u001b[38;5;124m'\u001b[39m\u001b[38;5;124mredshift\u001b[39m\u001b[38;5;124m'\u001b[39m] \u001b[38;5;241m<\u001b[39m \u001b[38;5;241m0.4\u001b[39m )]\n\u001b[1;32m      6\u001b[0m selection_clevar\n",
      "File \u001b[0;32m~/.conda/envs/numcosmo/lib/python3.11/site-packages/astropy/table/table.py:2093\u001b[0m, in \u001b[0;36mTable.__getitem__\u001b[0;34m(self, item)\u001b[0m\n\u001b[1;32m   2084\u001b[0m     \u001b[38;5;28;01mreturn\u001b[39;00m \u001b[38;5;28mself\u001b[39m\u001b[38;5;241m.\u001b[39m_new_from_slice([])\n\u001b[1;32m   2085\u001b[0m \u001b[38;5;28;01melif\u001b[39;00m (\n\u001b[1;32m   2086\u001b[0m     \u001b[38;5;28misinstance\u001b[39m(item, (\u001b[38;5;28mslice\u001b[39m, np\u001b[38;5;241m.\u001b[39mndarray, \u001b[38;5;28mlist\u001b[39m))\n\u001b[1;32m   2087\u001b[0m     \u001b[38;5;129;01mor\u001b[39;00m \u001b[38;5;28misinstance\u001b[39m(item, \u001b[38;5;28mtuple\u001b[39m)\n\u001b[0;32m   (...)\u001b[0m\n\u001b[1;32m   2091\u001b[0m     \u001b[38;5;66;03m# is produced by np.where, as in t[np.where(t['a'] > 2)]\u001b[39;00m\n\u001b[1;32m   2092\u001b[0m     \u001b[38;5;66;03m# For all, a new table is constructed with slice of all columns\u001b[39;00m\n\u001b[0;32m-> 2093\u001b[0m     \u001b[38;5;28;01mreturn\u001b[39;00m \u001b[38;5;28;43mself\u001b[39;49m\u001b[38;5;241;43m.\u001b[39;49m\u001b[43m_new_from_slice\u001b[49m\u001b[43m(\u001b[49m\u001b[43mitem\u001b[49m\u001b[43m)\u001b[49m\n\u001b[1;32m   2094\u001b[0m \u001b[38;5;28;01melse\u001b[39;00m:\n\u001b[1;32m   2095\u001b[0m     \u001b[38;5;28;01mraise\u001b[39;00m \u001b[38;5;167;01mValueError\u001b[39;00m(\u001b[38;5;124mf\u001b[39m\u001b[38;5;124m\"\u001b[39m\u001b[38;5;124mIllegal type \u001b[39m\u001b[38;5;132;01m{\u001b[39;00m\u001b[38;5;28mtype\u001b[39m(item)\u001b[38;5;132;01m}\u001b[39;00m\u001b[38;5;124m for table item access\u001b[39m\u001b[38;5;124m\"\u001b[39m)\n",
      "File \u001b[0;32m~/.conda/envs/numcosmo/lib/python3.11/site-packages/astropy/table/table.py:1508\u001b[0m, in \u001b[0;36mTable._new_from_slice\u001b[0;34m(self, slice_)\u001b[0m\n\u001b[1;32m   1506\u001b[0m newcols \u001b[38;5;241m=\u001b[39m []\n\u001b[1;32m   1507\u001b[0m \u001b[38;5;28;01mfor\u001b[39;00m col \u001b[38;5;129;01min\u001b[39;00m \u001b[38;5;28mself\u001b[39m\u001b[38;5;241m.\u001b[39mcolumns\u001b[38;5;241m.\u001b[39mvalues():\n\u001b[0;32m-> 1508\u001b[0m     newcol \u001b[38;5;241m=\u001b[39m \u001b[43mcol\u001b[49m\u001b[43m[\u001b[49m\u001b[43mslice_\u001b[49m\u001b[43m]\u001b[49m\n\u001b[1;32m   1510\u001b[0m     \u001b[38;5;66;03m# Note in line below, use direct attribute access to col.indices for Column\u001b[39;00m\n\u001b[1;32m   1511\u001b[0m     \u001b[38;5;66;03m# instances instead of the generic col.info.indices.  This saves about 4 usec\u001b[39;00m\n\u001b[1;32m   1512\u001b[0m     \u001b[38;5;66;03m# per column.\u001b[39;00m\n\u001b[1;32m   1513\u001b[0m     \u001b[38;5;28;01mif\u001b[39;00m (col \u001b[38;5;28;01mif\u001b[39;00m \u001b[38;5;28misinstance\u001b[39m(col, Column) \u001b[38;5;28;01melse\u001b[39;00m col\u001b[38;5;241m.\u001b[39minfo)\u001b[38;5;241m.\u001b[39mindices:\n\u001b[1;32m   1514\u001b[0m         \u001b[38;5;66;03m# TODO : as far as I can tell the only purpose of setting _copy_indices\u001b[39;00m\n\u001b[1;32m   1515\u001b[0m         \u001b[38;5;66;03m# here is to communicate that to the initial test in `slice_indices`.\u001b[39;00m\n\u001b[1;32m   1516\u001b[0m         \u001b[38;5;66;03m# Why isn't that just sent as an arg to the function?\u001b[39;00m\n",
      "File \u001b[0;32m~/.conda/envs/numcosmo/lib/python3.11/site-packages/astropy/table/_column_mixins.pyx:79\u001b[0m, in \u001b[0;36mastropy.table._column_mixins._ColumnGetitemShim.__getitem__\u001b[0;34m()\u001b[0m\n",
      "File \u001b[0;32m~/.conda/envs/numcosmo/lib/python3.11/site-packages/astropy/table/_column_mixins.pyx:62\u001b[0m, in \u001b[0;36mastropy.table._column_mixins.base_getitem\u001b[0;34m()\u001b[0m\n",
      "File \u001b[0;32m~/.conda/envs/numcosmo/lib/python3.11/site-packages/astropy/table/_column_mixins.pyx:74\u001b[0m, in \u001b[0;36mastropy.table._column_mixins.column_getitem\u001b[0;34m()\u001b[0m\n",
      "\u001b[0;31mIndexError\u001b[0m: boolean index did not match indexed array along dimension 0; dimension is 38907 but corresponding boolean dimension is 43035"
     ]
    }
   ],
   "source": [
    "selection_clevar = match_ID[np.logical_and(np.log(match_clevar['richness']) > 5.0,\n",
    "                                                       np.log(match_clevar['richness'] < 5.5))]\n",
    "\n",
    "selection_clevar = selection_clevar[np.logical_and(selection_clevar['redshift'] > 0.2, selection_clevar['redshift'] < 0.4 )]\n",
    "\n",
    "# selection_clevar"
   ]
  },
  {
   "cell_type": "code",
   "execution_count": null,
   "id": "5c41d0f9-148d-4949-86a9-3fe1c5682135",
   "metadata": {},
   "outputs": [],
   "source": []
  }
 ],
 "metadata": {
  "kernelspec": {
   "display_name": "numcosmo",
   "language": "python",
   "name": "numcosmo"
  },
  "language_info": {
   "codemirror_mode": {
    "name": "ipython",
    "version": 3
   },
   "file_extension": ".py",
   "mimetype": "text/x-python",
   "name": "python",
   "nbconvert_exporter": "python",
   "pygments_lexer": "ipython3",
   "version": "3.11.11"
  }
 },
 "nbformat": 4,
 "nbformat_minor": 5
}
