{
 "cells": [
  {
   "cell_type": "code",
   "execution_count": 1,
   "id": "87c713e7-2bca-4f28-b6be-2b1f9742b8dd",
   "metadata": {
    "tags": []
   },
   "outputs": [],
   "source": [
    "import sys\n",
    "import math\n",
    "import numpy as np                                                # imports the Numpy Library\n",
    "\n",
    "from tqdm import tqdm\n",
    "\n",
    "import matplotlib.pyplot as plt\n",
    "\n",
    "from numcosmo_py import Nc, Ncm                                   # imports the NumCosmo library\n",
    "from numcosmo_py.plotting.tools import set_rc_params_article      # imports Numcosmo plotting tools\n",
    "\n",
    "Ncm.cfg_init()                                                    # starts the NumCosmo library"
   ]
  },
  {
   "cell_type": "code",
   "execution_count": 2,
   "id": "cc4be9cb-5177-4e6f-8a11-9939ba3dc31c",
   "metadata": {
    "tags": []
   },
   "outputs": [
    {
     "name": "stdout",
     "output_type": "stream",
     "text": [
      "w=0 => 1.0\n",
      "w=1/3 => 3.0\n"
     ]
    }
   ],
   "source": [
    "def nsw(w):\n",
    "  return 1 + 12*w/(1+3*w)\n",
    "print(r'w=0 => '+str(nsw(0)))\n",
    "print(r'w=1/3 => '+str(nsw(1/3)))"
   ]
  },
  {
   "cell_type": "code",
   "execution_count": 15,
   "id": "e42d57ea-37e7-41b1-8ea3-48d772178e80",
   "metadata": {
    "tags": []
   },
   "outputs": [],
   "source": [
    "cosmo = Nc.HICosmoQGRW()                                    # defines a cosmological model, which is represented by a NumCosmo object. Then, the relevant cosmological parameters are added to this object\n",
    "\n",
    "# the above lines set the relevant cosmological parameters\n",
    "cosmo.props.w = 1.0e-2                                      # dust/dark matter equation of state\n",
    "cosmo.props.Omegar = 2.0 * (1.0e-8)                         # radiation abundance today\n",
    "#cosmo.props.Omegaw = 2.0 * (1.0 - 1.0e-8)                   # dust/dark matter abundance today\n",
    "cosmo.props.xb = 1.0e30         \n",
    "\n"
   ]
  },
  {
   "cell_type": "code",
   "execution_count": 5,
   "id": "b6d217a6-44a0-4d05-9cad-df2417930272",
   "metadata": {
    "tags": []
   },
   "outputs": [],
   "source": [
    "k = 1.0\n",
    "min_alpha_c = -120.0\n",
    "max_alpha_c = -1.0\n",
    "min_alpha_scale = 1.0e-12\n",
    "np_plot = 100\n",
    "\n",
    "# Time arrays for the contraction and bounce phases\n",
    "\n",
    "alpha_c = np.linspace(min_alpha_c, max_alpha_c, np_plot)\n",
    "alpha_b_e = np.geomspace(min_alpha_scale, 2.0, np_plot)\n",
    "alpha_b = np.concatenate((np.flip(-alpha_b_e), alpha_b_e))"
   ]
  },
  {
   "cell_type": "code",
   "execution_count": 6,
   "id": "53fa3e0b-ad94-4218-ad98-72741766c333",
   "metadata": {
    "tags": []
   },
   "outputs": [],
   "source": [
    "# print(cosmo.eom_eval(-120,-1))\n",
    "# m_s_c = np.array([cosmo.eom_eval(alpha, k).m_s for alpha in alpha_c])\n",
    "# print(m_s_c)\n",
    "# m_zeta_c = np.array([cosmo.eom_eval(alpha, k).m_zeta for alpha in alpha_c])"
   ]
  },
  {
   "cell_type": "code",
   "execution_count": 5,
   "id": "789c2455-efb8-43d1-8243-5f7f75635470",
   "metadata": {
    "tags": []
   },
   "outputs": [
    {
     "ename": "TypeError",
     "evalue": "Item 0: argument self: Expected NumCosmoMath.Model, but got gi.repository.NumCosmo.HIPertITwoFluidsEOM",
     "output_type": "error",
     "traceback": [
      "\u001b[0;31m---------------------------------------------------------------------------\u001b[0m",
      "\u001b[0;31mTypeError\u001b[0m                                 Traceback (most recent call last)",
      "Cell \u001b[0;32mIn[5], line 2\u001b[0m\n\u001b[1;32m      1\u001b[0m model \u001b[38;5;241m=\u001b[39m cosmo\u001b[38;5;241m.\u001b[39meom_eval(\u001b[38;5;241m-\u001b[39m\u001b[38;5;241m120\u001b[39m,\u001b[38;5;241m-\u001b[39m\u001b[38;5;241m1\u001b[39m)\n\u001b[0;32m----> 2\u001b[0m mset \u001b[38;5;241m=\u001b[39m \u001b[43mNcm\u001b[49m\u001b[38;5;241;43m.\u001b[39;49m\u001b[43mMSet\u001b[49m\u001b[38;5;241;43m.\u001b[39;49m\u001b[43mnew_array\u001b[49m\u001b[43m(\u001b[49m\u001b[43m[\u001b[49m\u001b[43mmodel\u001b[49m\u001b[43m]\u001b[49m\u001b[43m)\u001b[49m\n\u001b[1;32m      3\u001b[0m mset\u001b[38;5;241m.\u001b[39mpretty_log()\n",
      "\u001b[0;31mTypeError\u001b[0m: Item 0: argument self: Expected NumCosmoMath.Model, but got gi.repository.NumCosmo.HIPertITwoFluidsEOM"
     ]
    }
   ],
   "source": [
    "model = cosmo.eom_eval(-120,-1)\n",
    "mset = Ncm.MSet.new_array([model])\n",
    "mset.pretty_log()"
   ]
  },
  {
   "cell_type": "code",
   "execution_count": 1,
   "id": "fa38834f-1b3a-42ca-b2f2-d1c4aa111613",
   "metadata": {},
   "outputs": [],
   "source": [
    "import sys\n",
    "import math\n",
    "import numpy as np\n",
    "\n",
    "from tqdm import tqdm\n",
    "\n",
    "import matplotlib.pyplot as plt\n",
    "\n",
    "from numcosmo_py import Nc, Ncm\n",
    "from numcosmo_py.plotting.tools import set_rc_params_article\n",
    "Ncm.cfg_init()\n",
    "\n",
    "cosmo = Nc.HICosmoQGRW()\n",
    "cosmo.props.w = 1.0e-6\n",
    "cosmo.props.Omegar = 2.0 * (1.0e-8)\n",
    "cosmo.props.Omegaw = 2.0 * (1.0 - 1.0e-8)\n",
    "cosmo.props.xb = 1.0e30\n",
    "\n",
    "k = 1.0\n",
    "min_alpha_c = -120.0\n",
    "max_alpha_c = -1.0\n",
    "min_alpha_scale = 1.0e-12\n",
    "np_plot = 1000\n",
    "\n",
    "# Time arrays for the contraction and bounce phases\n",
    "\n",
    "alpha_c = np.linspace(min_alpha_c, max_alpha_c, np_plot)\n",
    "alpha_b_e = np.geomspace(min_alpha_scale, 2.0, np_plot)\n",
    "alpha_b = np.concatenate((np.flip(-alpha_b_e), alpha_b_e))"
   ]
  },
  {
   "cell_type": "code",
   "execution_count": null,
   "id": "4c673fc7-10e3-4ab4-bdbf-c7f243912b27",
   "metadata": {},
   "outputs": [],
   "source": [
    "# Computing background observables in the contraction phase\n",
    "\n",
    "m_s_c = np.array([cosmo.eom_eval(alpha, k).m_s for alpha in alpha_c])\n",
    "# m_zeta_c = np.array([cosmo.eom_eval(alpha, k).m_zeta for alpha in alpha_c])\n",
    "# mnu2_s_c = np.array([cosmo.eom_eval(alpha, k).mnu2_s for alpha in alpha_c])\n",
    "# mnu2_zeta_c = np.array([cosmo.eom_eval(alpha, k).mnu2_zeta for alpha in alpha_c])\n",
    "# nu1_c = np.array([cosmo.eom_eval(alpha, k).nu1 for alpha in alpha_c])\n",
    "# nu2_c = np.array([cosmo.eom_eval(alpha, k).nu2 for alpha in alpha_c])\n",
    "# nu_s_c = np.sqrt(mnu2_s_c / m_s_c)\n",
    "# nu_zeta_c = np.sqrt(mnu2_zeta_c / m_zeta_c)\n",
    "# y_c = np.array([cosmo.eom_eval(alpha, k).y for alpha in alpha_c])\n",
    "# gamma11_c = np.array([cosmo.eom_eval(alpha, k).gammabar11 for alpha in alpha_c])\n",
    "# gamma22_c = np.array([cosmo.eom_eval(alpha, k).gammabar22 for alpha in alpha_c])\n",
    "# gamma12_c = np.array([cosmo.eom_eval(alpha, k).gammabar12 for alpha in alpha_c])\n",
    "# tau_c = np.array([cosmo.eom_eval(alpha, k).taubar for alpha in alpha_c])\n"
   ]
  },
  {
   "cell_type": "code",
   "execution_count": null,
   "id": "6ad3a3fc-abf6-46b5-b317-8af65bc2fecd",
   "metadata": {},
   "outputs": [],
   "source": []
  }
 ],
 "metadata": {
  "kernelspec": {
   "display_name": "numcosmo",
   "language": "python",
   "name": "numcosmo"
  },
  "language_info": {
   "codemirror_mode": {
    "name": "ipython",
    "version": 3
   },
   "file_extension": ".py",
   "mimetype": "text/x-python",
   "name": "python",
   "nbconvert_exporter": "python",
   "pygments_lexer": "ipython3",
   "version": "3.11.5"
  }
 },
 "nbformat": 4,
 "nbformat_minor": 5
}
