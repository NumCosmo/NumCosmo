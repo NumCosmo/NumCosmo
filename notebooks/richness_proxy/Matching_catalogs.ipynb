{
 "cells": [
  {
   "cell_type": "code",
   "execution_count": 1,
   "id": "31a24b86-efb5-4e89-a6e4-655cf1f62bd0",
   "metadata": {
    "tags": []
   },
   "outputs": [],
   "source": [
    "import math\n",
    "\n",
    "import sys\n",
    "\n",
    "import os\n",
    "import numpy as np\n",
    "import pandas as pd\n",
    "\n",
    "from astropy.io import fits\n",
    "from astropy.table import Table\n",
    "\n",
    "import matplotlib\n",
    "from matplotlib import pyplot as plt\n",
    "# %matplotlib inline\n",
    "\n",
    "sys.path.insert(0, \"/global/homes/c/cinlima/gcr-catalogs\")\n",
    "sys.path.insert(0, \"global/homes/c/cinlima/clevar/clevar\")\n",
    "\n",
    "import GCRCatalogs\n",
    "#Put nerc if using nersc\n",
    "GCRCatalogs.set_root_dir_by_site(\"nersc\")\n",
    "\n",
    "from clevar import ClCatalog, MemCatalog\n",
    "from clevar.match import MembershipMatch, get_matched_pairs\n",
    "\n",
    "from clevar.match import output_matched_catalog\n",
    "import clevar\n",
    "clevar.__version__\n",
    "\n",
    "\n",
    "# matplotlib.rcParams.update({'font.size': 22})\n",
    "# matplotlib.rcParams.update({'figure.figsize': (10,8)})\n",
    "\n",
    "sys.path.insert(0, 'NumCosmo/notebooks/richness_proxy/CDC2Data/')\n"
   ]
  },
  {
   "cell_type": "code",
   "execution_count": 2,
   "id": "eb42a8c6-e547-4d7f-8232-c1a7abb0bbbf",
   "metadata": {},
   "outputs": [
    {
     "data": {
      "text/plain": [
       "'0.14.1'"
      ]
     },
     "execution_count": 2,
     "metadata": {},
     "output_type": "execute_result"
    }
   ],
   "source": [
    "clevar.__version__\n",
    "\n",
    "#GCRCatalogs.load_catalog('cosmoDC2_v1.1.4_image').get_catalog_info()\n"
   ]
  },
  {
   "cell_type": "code",
   "execution_count": null,
   "id": "120e8691-d3bb-4a3f-90e1-fed17655020a",
   "metadata": {
    "tags": []
   },
   "outputs": [],
   "source": []
  },
  {
   "cell_type": "code",
   "execution_count": 3,
   "id": "7916a59f-da36-4d7f-a4e6-58599c6697fa",
   "metadata": {
    "tags": []
   },
   "outputs": [],
   "source": [
    "min_richness = 5\n",
    "min_halo_mass = 1e13 #Msun\n",
    "redshift_max = 1.2\n",
    "\n",
    "# gc = GCRCatalogs.load_catalog('skysim5000_v1.1.1_redmapper_v0.8.5')\n",
    "# gc_truth = GCRCatalogs.load_catalog('skysim5000_v1.1.1_image')  \n",
    "\n",
    "gc = GCRCatalogs.load_catalog('cosmoDC2_v1.1.4_redmapper_v0.8.1')\n",
    "gc_truth = GCRCatalogs.load_catalog('cosmoDC2_v1.1.4_image')  \n",
    "    \n",
    "quantities = gc.list_all_quantities()\n",
    "cluster_quantities = [q for q in quantities if 'member' not in q]\n",
    "member_quantities = [q for q in quantities if 'member' in q]\n",
    "    \n",
    "query = GCRCatalogs.GCRQuery('(richness > ' + str(min_richness) +')')\n",
    "cluster_data = Table(gc.get_quantities(cluster_quantities, [query]))\n",
    "member_data = Table(gc.get_quantities(member_quantities))\n",
    "   \n",
    "quantities_wanted = ['redshift','halo_mass','halo_id','galaxy_id','ra','dec', 'is_central', 'mag_true_u_lsst', 'mag_true_g_lsst', 'mag_true_r_lsst', 'mag_true_i_lsst', 'mag_true_z_lsst', 'mag_true_y_lsst']\n",
    "#quantities_wanted = ['redshift','halo_mass','halo_id','galaxy_id','ra','dec', 'is_central']\n",
    "\n",
    "query = GCRCatalogs.GCRQuery('(halo_mass > ' + str(min_halo_mass) +') & (redshift < ' + str(redshift_max) +')')\n",
    "truth_data = Table(gc_truth.get_quantities(quantities_wanted, [query]))\n"
   ]
  },
  {
   "cell_type": "code",
   "execution_count": 4,
   "id": "c1ca6525-1815-488c-93f9-0a9a69d2ca9f",
   "metadata": {
    "tags": []
   },
   "outputs": [
    {
     "ename": "NameError",
     "evalue": "name 'time' is not defined",
     "output_type": "error",
     "traceback": [
      "\u001b[0;31m---------------------------------------------------------------------------\u001b[0m",
      "\u001b[0;31mNameError\u001b[0m                                 Traceback (most recent call last)",
      "Cell \u001b[0;32mIn[4], line 1\u001b[0m\n\u001b[0;32m----> 1\u001b[0m inicio \u001b[38;5;241m=\u001b[39m \u001b[43mtime\u001b[49m\u001b[38;5;241m.\u001b[39mtime()\n\u001b[1;32m      3\u001b[0m RM_cat_name \u001b[38;5;241m=\u001b[39m \u001b[38;5;124m'\u001b[39m\u001b[38;5;124mcosmoDC2_v1.1.4_redmapper_v0.8.1\u001b[39m\u001b[38;5;124m'\u001b[39m\n\u001b[1;32m      4\u001b[0m DC2_cat_name \u001b[38;5;241m=\u001b[39m \u001b[38;5;124m'\u001b[39m\u001b[38;5;124mcosmoDC2_v1.1.4_image\u001b[39m\u001b[38;5;124m'\u001b[39m\n",
      "\u001b[0;31mNameError\u001b[0m: name 'time' is not defined"
     ]
    }
   ],
   "source": [
    "inicio = time.time()\n",
    "\n",
    "RM_cat_name = 'cosmoDC2_v1.1.4_redmapper_v0.8.1'\n",
    "DC2_cat_name = 'cosmoDC2_v1.1.4_image'\n",
    "\n",
    "#Redmapper\n",
    "RM_cat = ClCatalog(RM_cat_name, z=cluster_data[\"redshift\"], ra=cluster_data[\"ra\"], dec=cluster_data[\"dec\"], id = cluster_data[\"cluster_id\"], richness = cluster_data[\"richness\"], richness_err=cluster_data[\"richness_err\"], \\\n",
    "                   id_cg = cluster_data[\"id_cen_0\"], ztrue_cg=cluster_data[\"redshift_true_cg\"], p_cg_0=cluster_data[\"p_cen_0\"])\n",
    "\n",
    "pmem = member_data[\"p_member\"] * member_data[\"pfree_member\"] * member_data[\"theta_i_member\"] * member_data[\"theta_r_member\"] \n",
    "\n",
    "member_data.add_column(pmem, name=\"pmem\")\n",
    "\n",
    "RM_cat_members = MemCatalog(\"RM_members\", id_cluster=member_data[\"cluster_id_member\"], id=member_data[\"id_member\"], ra=member_data[\"ra_member\"], dec=member_data[\"dec_member\"],\n",
    "                            pmem=member_data[\"pmem\"],  redshift=member_data[\"redshift_true_member\"], \n",
    "                            mag_g_lsst_member=member_data[\"mag_g_lsst_member\"], mag_r_lsst_member=member_data[\"mag_r_lsst_member\"], \n",
    "                            mag_i_lsst_member=member_data[\"mag_i_lsst_member\"], mag_z_lsst_member=member_data[\"mag_z_lsst_member\"], mag_y_lsst_member=member_data[\"mag_y_lsst_member\"]) \n",
    "RM_cat.add_members(members_catalog=RM_cat_members)\n",
    "\n",
    "\n",
    "#Dc2\n",
    "halo_cat = ClCatalog(DC2_cat_name, z= truth_data[\"redshift\"][truth_data[\"is_central\"]],\n",
    "                     ra= truth_data[\"ra\"][truth_data[\"is_central\"]], dec= truth_data[\"dec\"][truth_data[\"is_central\"]],\n",
    "                     id=truth_data[\"halo_id\"][truth_data[\"is_central\"]], mass_fof=truth_data[\"halo_mass\"][truth_data[\"is_central\"]])\n",
    "\n",
    "halo_cat_members = MemCatalog(\"halo_members\", id_cluster=truth_data[\"halo_id\"], id=truth_data[\"galaxy_id\"], ra=truth_data[\"ra\"], dec=truth_data[\"dec\"],\n",
    "                              redshift=truth_data[\"redshift\"], is_central = truth_data[\"is_central\"], \n",
    "                              mag_true_u_lsst = truth_data[\"mag_true_u_lsst\"],  mag_true_g_lsst = truth_data[\"mag_true_g_lsst\"],\n",
    "                              mag_true_r_lsst = truth_data[\"mag_true_r_lsst\"], mag_true_i_lsst = truth_data[\"mag_true_i_lsst\"],  mag_true_z_lsst = truth_data[\"mag_true_z_lsst\"], ) \n",
    "\n",
    "halo_cat.add_members(members_catalog=halo_cat_members)\n",
    "\n",
    "RM_cat._init_match_vals(True)\n",
    "halo_cat._init_match_vals(True)\n",
    "\n",
    "#Matching\n",
    "mt = MembershipMatch()\n",
    "match_config = {\n",
    "    'type': 'cross', # options are cross, cat1, cat2\n",
    "    'preference': 'shared_member_fraction', # other options are more_massive, angular_proximity or redshift_proximity\n",
    "    'minimum_share_fraction': 0,\n",
    "    'match_members_kwargs': {'method':'id'},\n",
    "}\n",
    "mt.match_from_config(RM_cat, halo_cat, match_config)\n",
    "\n",
    "\n",
    "fim = time.time()\n",
    "tempo_total = fim - inicio\n",
    "\n",
    "print(f\"Tempo de execução: {tempo_total/60:.3}min\")"
   ]
  },
  {
   "cell_type": "code",
   "execution_count": 4,
   "id": "13a95b1a-363d-4cb2-8546-113d34345133",
   "metadata": {
    "tags": []
   },
   "outputs": [
    {
     "data": {
      "text/html": [
       "<b>skysim5000_v1.1.1_redmapper_v0.8.5</b><br></b><b>tags:</b> id(id), z(z), ra(ra), dec(dec)<br><b>Radius unit:</b> None<br><div><i>ClData length=46491</i>\n",
       "<table id=\"table140634750760272\" class=\"table-striped table-bordered table-condensed\">\n",
       "<thead><tr><th>id</th><th>z</th><th>ra</th><th>dec</th><th>richness</th><th>richness_err</th><th>id_cg</th><th>ztrue_cg</th><th>p_cg_0</th><th>mt_self</th><th>mt_other</th><th>mt_multi_self</th><th>mt_multi_other</th></tr></thead>\n",
       "<thead><tr><th>str11</th><th>float32</th><th>float64</th><th>float64</th><th>float32</th><th>float32</th><th>int64</th><th>float32</th><th>float32</th><th>object</th><th>object</th><th>object</th><th>object</th></tr></thead>\n",
       "<tr><td>34</td><td>0.21707904</td><td>4.801543436336212</td><td>-3.430296893154116</td><td>248.12637</td><td>3.64447</td><td>6466000014572</td><td>0.21771926</td><td>0.9986252</td><td>None</td><td>None</td><td>[]</td><td>[]</td></tr>\n",
       "<tr><td>136</td><td>0.3411566</td><td>4.724775814119802</td><td>-0.4457212024208109</td><td>185.82506</td><td>3.4095232</td><td>6081000026524</td><td>0.33966494</td><td>0.98930895</td><td>None</td><td>None</td><td>[]</td><td>[]</td></tr>\n",
       "<tr><td>142</td><td>0.5101348</td><td>3.734412956523043</td><td>-0.7502042775962834</td><td>163.7206</td><td>2.5087166</td><td>6081000093184</td><td>0.51063555</td><td>0.9998284</td><td>None</td><td>None</td><td>[]</td><td>[]</td></tr>\n",
       "<tr><td>1365</td><td>0.5912586</td><td>2.896798269949837</td><td>-1.5203787028802902</td><td>87.18639</td><td>2.3910992</td><td>6209000243030</td><td>0.59068364</td><td>0.7898552</td><td>None</td><td>None</td><td>[]</td><td>[]</td></tr>\n",
       "<tr><td>1510</td><td>0.42078963</td><td>4.760800620903602</td><td>-3.4031714124970533</td><td>88.62036</td><td>2.40914</td><td>6466000092913</td><td>0.4168227</td><td>0.99990094</td><td>None</td><td>None</td><td>[]</td><td>[]</td></tr>\n",
       "<tr><td>1549</td><td>0.5069738</td><td>4.290126649178689</td><td>-0.16020782034271513</td><td>83.693</td><td>2.3135304</td><td>6081000094492</td><td>0.50784713</td><td>0.9911676</td><td>None</td><td>None</td><td>[]</td><td>[]</td></tr>\n",
       "<tr><td>1664</td><td>0.14206502</td><td>6.015723330476854</td><td>-3.333165464623904</td><td>74.540016</td><td>1.9305084</td><td>6466000003732</td><td>0.14274381</td><td>0.99998873</td><td>None</td><td>None</td><td>[]</td><td>[]</td></tr>\n",
       "<tr><td>1674</td><td>0.5376342</td><td>4.779452073850936</td><td>-0.1736404654609399</td><td>74.753586</td><td>2.1025321</td><td>6081000089361</td><td>0.5307513</td><td>0.9999747</td><td>None</td><td>None</td><td>[]</td><td>[]</td></tr>\n",
       "<tr><td>1777</td><td>0.6139372</td><td>5.3226312459458365</td><td>-3.816390369189824</td><td>80.550476</td><td>2.2452028</td><td>6466000244571</td><td>0.61191887</td><td>0.9979278</td><td>None</td><td>None</td><td>[]</td><td>[]</td></tr>\n",
       "<tr><td>2097</td><td>0.61224484</td><td>6.0206156220654075</td><td>-2.952938498295803</td><td>78.84192</td><td>2.259059</td><td>6466000245114</td><td>0.614416</td><td>0.9999936</td><td>None</td><td>None</td><td>[]</td><td>[]</td></tr>\n",
       "<tr><td>...</td><td>...</td><td>...</td><td>...</td><td>...</td><td>...</td><td>...</td><td>...</td><td>...</td><td>...</td><td>...</td><td>...</td><td>...</td></tr>\n",
       "<tr><td>79583</td><td>1.1067967</td><td>42.54210607651717</td><td>-81.79883076119896</td><td>22.001886</td><td>2.0583782</td><td>12230101814242</td><td>1.1924384</td><td>0.99973077</td><td>None</td><td>None</td><td>[]</td><td>[]</td></tr>\n",
       "<tr><td>76109</td><td>1.1041237</td><td>63.652926487288646</td><td>-83.88670232577071</td><td>25.434256</td><td>2.3936124</td><td>12250101895844</td><td>1.1281416</td><td>0.92202663</td><td>None</td><td>None</td><td>[]</td><td>[]</td></tr>\n",
       "<tr><td>61420</td><td>1.065984</td><td>64.66854021034624</td><td>-82.09594465361961</td><td>23.862993</td><td>2.5057895</td><td>12231000774864</td><td>0.9618061</td><td>0.66117704</td><td>None</td><td>None</td><td>[]</td><td>[]</td></tr>\n",
       "<tr><td>30393</td><td>1.0984243</td><td>45.05185794774879</td><td>-79.19798734127002</td><td>37.0738</td><td>2.951788</td><td>12179101916468</td><td>1.119409</td><td>0.9555292</td><td>None</td><td>None</td><td>[]</td><td>[]</td></tr>\n",
       "<tr><td>134365</td><td>1.1145425</td><td>30.98690474282938</td><td>-83.89620249029721</td><td>20.01874</td><td>2.0011363</td><td>12249101835296</td><td>1.1628639</td><td>0.99943894</td><td>None</td><td>None</td><td>[]</td><td>[]</td></tr>\n",
       "<tr><td>135044</td><td>1.1112394</td><td>62.185817973501024</td><td>-83.7063560279432</td><td>23.924013</td><td>2.4663513</td><td>12250101909008</td><td>1.1294031</td><td>0.999577</td><td>None</td><td>None</td><td>[]</td><td>[]</td></tr>\n",
       "<tr><td>69147</td><td>1.1148312</td><td>33.4734077899234</td><td>-81.65053002046737</td><td>33.183784</td><td>2.6007042</td><td>12206101866718</td><td>1.1919754</td><td>0.999999</td><td>None</td><td>None</td><td>[]</td><td>[]</td></tr>\n",
       "<tr><td>122114</td><td>1.104614</td><td>34.636871090187235</td><td>-81.33106633247748</td><td>20.903528</td><td>2.5013766</td><td>12206101947985</td><td>1.1347675</td><td>0.9994509</td><td>None</td><td>None</td><td>[]</td><td>[]</td></tr>\n",
       "<tr><td>629342</td><td>1.1168218</td><td>51.966811713867074</td><td>-81.9280093053777</td><td>22.41377</td><td>2.7599475</td><td>12207101649291</td><td>1.2108034</td><td>0.9998732</td><td>None</td><td>None</td><td>[]</td><td>[]</td></tr>\n",
       "<tr><td>156420</td><td>1.113156</td><td>61.43595446521929</td><td>-82.40114825521364</td><td>25.129156</td><td>2.8148816</td><td>12231101742336</td><td>1.238896</td><td>0.972424</td><td>None</td><td>None</td><td>[]</td><td>[]</td></tr>\n",
       "</table></div>"
      ],
      "text/plain": [
       "<clevar.catalog.catalog.ClCatalog at 0x7fe815b7ca90>"
      ]
     },
     "execution_count": 4,
     "metadata": {},
     "output_type": "execute_result"
    }
   ],
   "source": [
    "RM_cat_name = 'skysim5000_v1.1.1_redmapper_v0.8.5'\n",
    "DC2_cat_name = 'skysim5000_v1.1.1_image'\n",
    "\n",
    "# RM_cat_name = 'cosmoDC2_v1.1.4_redmapper_v0.8.1'\n",
    "# DC2_cat_name = 'cosmoDC2_v1.1.4_image'\n",
    "\n",
    "RM_cat = ClCatalog(RM_cat_name, z=cluster_data[\"redshift\"], ra=cluster_data[\"ra\"], dec=cluster_data[\"dec\"], id = cluster_data[\"cluster_id\"], richness = cluster_data[\"richness\"], richness_err=cluster_data[\"richness_err\"], \\\n",
    "                   id_cg = cluster_data[\"id_cen_0\"], ztrue_cg=cluster_data[\"redshift_true_cg\"], p_cg_0=cluster_data[\"p_cen_0\"])\n",
    "\n"
   ]
  },
  {
   "cell_type": "code",
   "execution_count": 5,
   "id": "188440e0-a5a8-4175-aff2-8a5836a74aa5",
   "metadata": {},
   "outputs": [],
   "source": [
    "# display(RM_cat)"
   ]
  },
  {
   "cell_type": "code",
   "execution_count": 6,
   "id": "3e19e3c4-2fdf-405c-818d-37962f2f4de7",
   "metadata": {
    "tags": []
   },
   "outputs": [],
   "source": [
    "RM_cat.write('RM_cat_richness_min_'+str(min_richness)+'.fits', add_header =True, overwrite=True)\n",
    "#RM_cat.write('NumCosmo/notebooks/richness_proxy/RM_cat_richness_min_'+str(min_richness)+'.fits', add_header =True, overwrite=True)"
   ]
  },
  {
   "cell_type": "code",
   "execution_count": null,
   "id": "2b4d7343-0f3b-498c-8e6a-3c3eb0022b79",
   "metadata": {},
   "outputs": [],
   "source": []
  },
  {
   "cell_type": "code",
   "execution_count": 7,
   "id": "8133d64b-3021-4bbd-beb5-1381547ce4f8",
   "metadata": {
    "tags": []
   },
   "outputs": [],
   "source": [
    "pmem = member_data[\"p_member\"] * member_data[\"pfree_member\"] * member_data[\"theta_i_member\"] * member_data[\"theta_r_member\"] \n",
    "\n",
    "member_data.add_column(pmem, name=\"pmem\")"
   ]
  },
  {
   "cell_type": "code",
   "execution_count": 8,
   "id": "113643ed-23c9-47a4-bf41-000e111003d6",
   "metadata": {
    "tags": []
   },
   "outputs": [],
   "source": [
    "RM_cat_members = MemCatalog(\"RM_members\", id_cluster=member_data[\"cluster_id_member\"], id=member_data[\"id_member\"], ra=member_data[\"ra_member\"], dec=member_data[\"dec_member\"],\n",
    "                            pmem=member_data[\"pmem\"],  redshift=member_data[\"redshift_true_member\"], \n",
    "                            mag_g_lsst_member=member_data[\"mag_g_lsst_member\"], mag_r_lsst_member=member_data[\"mag_r_lsst_member\"], \n",
    "                            mag_i_lsst_member=member_data[\"mag_i_lsst_member\"], mag_z_lsst_member=member_data[\"mag_z_lsst_member\"], mag_y_lsst_member=member_data[\"mag_y_lsst_member\"]) \n",
    "RM_cat.add_members(members_catalog=RM_cat_members)\n",
    "\n",
    "# #RM_cat.members.write('NumCosmo/notebooks/richness_proxy/CDC2Data/RM_cat_richness_min_'+str(min_richness)+'_members.fits', overwrite=True)\n",
    "# RM_cat.members.write('RM_cat_richness_min_'+str(min_richness)+'_members.fits', overwrite=True)\n"
   ]
  },
  {
   "cell_type": "code",
   "execution_count": null,
   "id": "646f9edf-6f47-4017-8404-b94df167c4b1",
   "metadata": {
    "tags": []
   },
   "outputs": [],
   "source": []
  },
  {
   "cell_type": "code",
   "execution_count": 9,
   "id": "0bbbbf17-e32b-4df5-9f0c-e1dcefc70e44",
   "metadata": {
    "tags": []
   },
   "outputs": [
    {
     "data": {
      "text/html": [
       "<b>skysim5000_v1.1.1_image</b><br></b><b>tags:</b> id(id), z(z), ra(ra), dec(dec)<br><b>Radius unit:</b> None<br><div><i>ClData length=249495</i>\n",
       "<table id=\"table140631986772048\" class=\"table-striped table-bordered table-condensed\">\n",
       "<thead><tr><th>id</th><th>z</th><th>ra</th><th>dec</th><th>mass_fof</th><th>mt_self</th><th>mt_other</th><th>mt_multi_self</th><th>mt_multi_other</th></tr></thead>\n",
       "<thead><tr><th>str21</th><th>float64</th><th>float64</th><th>float64</th><th>float64</th><th>object</th><th>object</th><th>object</th><th>object</th></tr></thead>\n",
       "<tr><td>4010066475</td><td>0.04554527819345999</td><td>51.008516490175516</td><td>-40.83107772618864</td><td>33506664194163.383</td><td>None</td><td>None</td><td>[]</td><td>[]</td></tr>\n",
       "<tr><td>8410066475</td><td>0.048258542345124944</td><td>50.95764333668338</td><td>-41.34449214014141</td><td>74621860826501.4</td><td>None</td><td>None</td><td>[]</td><td>[]</td></tr>\n",
       "<tr><td>13910066475</td><td>0.0481862270842659</td><td>49.638658115154634</td><td>-40.400678302137855</td><td>16891355712901.41</td><td>None</td><td>None</td><td>[]</td><td>[]</td></tr>\n",
       "<tr><td>710066464</td><td>0.06438326462902522</td><td>50.57650523362703</td><td>-41.15895234883735</td><td>17911434075583.098</td><td>None</td><td>None</td><td>[]</td><td>[]</td></tr>\n",
       "<tr><td>31710066442</td><td>0.1137579883816715</td><td>49.504804200029895</td><td>-40.23973139541635</td><td>69213477135143.664</td><td>None</td><td>None</td><td>[]</td><td>[]</td></tr>\n",
       "<tr><td>42110066442</td><td>0.1259633143787311</td><td>51.069670404722665</td><td>-39.645283542113106</td><td>62974036412214.086</td><td>None</td><td>None</td><td>[]</td><td>[]</td></tr>\n",
       "<tr><td>57710066442</td><td>0.12743589142235479</td><td>50.60532208979055</td><td>-39.33595810866306</td><td>48388878878287.33</td><td>None</td><td>None</td><td>[]</td><td>[]</td></tr>\n",
       "<tr><td>71610066442</td><td>0.10736840257999059</td><td>50.77613148927426</td><td>-39.16862215638887</td><td>13042641686354.93</td><td>None</td><td>None</td><td>[]</td><td>[]</td></tr>\n",
       "<tr><td>7910066432</td><td>0.12775858757827474</td><td>50.36982737040335</td><td>-39.097459789992094</td><td>34125997485791.55</td><td>None</td><td>None</td><td>[]</td><td>[]</td></tr>\n",
       "<tr><td>12710066432</td><td>0.12802469231703473</td><td>50.83193920551051</td><td>-39.02524691844606</td><td>10520540970546.479</td><td>None</td><td>None</td><td>[]</td><td>[]</td></tr>\n",
       "<tr><td>...</td><td>...</td><td>...</td><td>...</td><td>...</td><td>...</td><td>...</td><td>...</td><td>...</td></tr>\n",
       "<tr><td>3588109946224</td><td>1.1906176364836982</td><td>73.81518029036283</td><td>-38.527851189112674</td><td>22454946374670.42</td><td>None</td><td>None</td><td>[]</td><td>[]</td></tr>\n",
       "<tr><td>3588209946224</td><td>1.1961432767417817</td><td>73.90643966060414</td><td>-39.178420513647566</td><td>19868319097870.42</td><td>None</td><td>None</td><td>[]</td><td>[]</td></tr>\n",
       "<tr><td>3590409946224</td><td>1.1895525129892017</td><td>75.40095094010032</td><td>-38.686507360439414</td><td>15795812369307.043</td><td>None</td><td>None</td><td>[]</td><td>[]</td></tr>\n",
       "<tr><td>3591609946224</td><td>1.1971650915147918</td><td>75.65021616863926</td><td>-38.712673417769565</td><td>11283213862940.846</td><td>None</td><td>None</td><td>[]</td><td>[]</td></tr>\n",
       "<tr><td>3651309946224</td><td>1.196863097008574</td><td>73.38501786651474</td><td>-38.502313721446455</td><td>10770426969419.719</td><td>None</td><td>None</td><td>[]</td><td>[]</td></tr>\n",
       "<tr><td>3685209946224</td><td>1.1768722430131042</td><td>74.8304165532133</td><td>-39.27855656743354</td><td>12878700520923.943</td><td>None</td><td>None</td><td>[]</td><td>[]</td></tr>\n",
       "<tr><td>3727909946224</td><td>1.1659389945036094</td><td>74.55294032934745</td><td>-38.37616571206911</td><td>11288419821250.705</td><td>None</td><td>None</td><td>[]</td><td>[]</td></tr>\n",
       "<tr><td>3758409946224</td><td>1.1883408101928743</td><td>74.072094940292</td><td>-38.26527263126851</td><td>37488092497487.33</td><td>None</td><td>None</td><td>[]</td><td>[]</td></tr>\n",
       "<tr><td>3890409946224</td><td>1.1696271441906183</td><td>74.70084607870639</td><td>-37.75563499560388</td><td>10871943156461.973</td><td>None</td><td>None</td><td>[]</td><td>[]</td></tr>\n",
       "<tr><td>3953709946224</td><td>1.1849759027039424</td><td>73.81100687153335</td><td>-39.14566231836294</td><td>14013277475335.213</td><td>None</td><td>None</td><td>[]</td><td>[]</td></tr>\n",
       "</table></div>"
      ],
      "text/plain": [
       "<clevar.catalog.catalog.ClCatalog at 0x7fe815b82190>"
      ]
     },
     "execution_count": 9,
     "metadata": {},
     "output_type": "execute_result"
    }
   ],
   "source": [
    "halo_cat = ClCatalog(DC2_cat_name, z= truth_data[\"redshift\"][truth_data[\"is_central\"]],\n",
    "                     ra= truth_data[\"ra\"][truth_data[\"is_central\"]], dec= truth_data[\"dec\"][truth_data[\"is_central\"]],\n",
    "                     id=truth_data[\"halo_id\"][truth_data[\"is_central\"]], mass_fof=truth_data[\"halo_mass\"][truth_data[\"is_central\"]])\n",
    "halo_cat"
   ]
  },
  {
   "cell_type": "code",
   "execution_count": 10,
   "id": "ea443f5a-ef6e-4605-8232-315a1c9aaa82",
   "metadata": {
    "tags": []
   },
   "outputs": [],
   "source": [
    "#halo_cat.write('NumCosmo/notebooks/richness_proxy/CDC2Data/halo_cat_mass_min_'+ f\"{min_halo_mass:1.2e}\"+'.fits', overwrite=True)\n",
    "# halo_cat.write('halo_cat_mass_min_'+ f\"{min_halo_mass:1.2e}\"+'.fits', overwrite=True)\n"
   ]
  },
  {
   "cell_type": "code",
   "execution_count": 11,
   "id": "84c611a3-8f9a-4fca-a7cd-45ae77807f5d",
   "metadata": {
    "tags": []
   },
   "outputs": [],
   "source": [
    "halo_cat_members = MemCatalog(\"halo_members\", id_cluster=truth_data[\"halo_id\"], id=truth_data[\"galaxy_id\"], ra=truth_data[\"ra\"], dec=truth_data[\"dec\"],\n",
    "                              redshift=truth_data[\"redshift\"], is_central = truth_data[\"is_central\"], \n",
    "                              mag_true_u_lsst = truth_data[\"mag_true_u_lsst\"],  mag_true_g_lsst = truth_data[\"mag_true_g_lsst\"],\n",
    "                              mag_true_r_lsst = truth_data[\"mag_true_r_lsst\"], mag_true_i_lsst = truth_data[\"mag_true_i_lsst\"],  mag_true_z_lsst = truth_data[\"mag_true_z_lsst\"], ) \n"
   ]
  },
  {
   "cell_type": "code",
   "execution_count": 12,
   "id": "61841367-d81f-4398-97bf-aeea5edad33c",
   "metadata": {
    "tags": []
   },
   "outputs": [
    {
     "data": {
      "text/html": [
       "<b>halo_members</b><br><b>tags:</b> id(id), id_cluster(id_cluster), ra(ra), dec(dec)<br><div><i>ClData length=5551176</i>\n",
       "<table id=\"table140627951865680\" class=\"table-striped table-bordered table-condensed\">\n",
       "<thead><tr><th>id</th><th>id_cluster</th><th>ra</th><th>dec</th><th>redshift</th><th>is_central</th><th>mag_true_u_lsst</th><th>mag_true_g_lsst</th><th>mag_true_r_lsst</th><th>mag_true_i_lsst</th><th>mag_true_z_lsst</th></tr></thead>\n",
       "<thead><tr><th>str21</th><th>str21</th><th>float64</th><th>float64</th><th>float64</th><th>bool</th><th>float32</th><th>float32</th><th>float32</th><th>float32</th><th>float32</th></tr></thead>\n",
       "<tr><td>10066000000072</td><td>4010066475</td><td>51.008516490175516</td><td>-40.83107772618864</td><td>0.04554527819345999</td><td>True</td><td>16.616812</td><td>14.937185</td><td>14.107611</td><td>13.733477</td><td>13.46904</td></tr>\n",
       "<tr><td>10066000000073</td><td>4010066475</td><td>51.025154929742484</td><td>-40.845821579233935</td><td>0.046072561671865575</td><td>False</td><td>20.1658</td><td>18.890131</td><td>18.359976</td><td>18.100388</td><td>17.965904</td></tr>\n",
       "<tr><td>10066000000074</td><td>4010066475</td><td>50.72472382760179</td><td>-40.57478437526675</td><td>0.045541266862879404</td><td>False</td><td>16.636957</td><td>14.957333</td><td>14.127756</td><td>13.753624</td><td>13.489187</td></tr>\n",
       "<tr><td>10066000000075</td><td>4010066475</td><td>50.81571008109443</td><td>-40.59157963288105</td><td>0.04531300720087894</td><td>False</td><td>21.162346</td><td>19.918613</td><td>19.267712</td><td>18.875559</td><td>18.552221</td></tr>\n",
       "<tr><td>10066000000076</td><td>4010066475</td><td>51.0590243314875</td><td>-40.83909415345591</td><td>0.04547781829126207</td><td>False</td><td>21.695549</td><td>20.191692</td><td>19.435575</td><td>19.067238</td><td>18.837688</td></tr>\n",
       "<tr><td>10066000000077</td><td>4010066475</td><td>51.046995498068696</td><td>-40.81164729369869</td><td>0.04510798075102729</td><td>False</td><td>17.266966</td><td>15.784197</td><td>15.054684</td><td>14.694525</td><td>14.458246</td></tr>\n",
       "<tr><td>10066000000078</td><td>4010066475</td><td>51.066331267759075</td><td>-40.88275021954884</td><td>0.04658017672825321</td><td>False</td><td>22.088558</td><td>20.706915</td><td>20.059488</td><td>19.755507</td><td>19.591475</td></tr>\n",
       "<tr><td>10066000000079</td><td>4010066475</td><td>51.10025645305562</td><td>-40.92527470689328</td><td>0.04349527948965948</td><td>False</td><td>22.487223</td><td>20.992882</td><td>20.250214</td><td>19.893808</td><td>19.673271</td></tr>\n",
       "<tr><td>10066000000080</td><td>4010066475</td><td>51.08218725961258</td><td>-40.98542072893441</td><td>0.04576709666611212</td><td>False</td><td>22.175161</td><td>20.835583</td><td>20.19861</td><td>19.897142</td><td>19.75168</td></tr>\n",
       "<tr><td>10066000000081</td><td>4010066475</td><td>50.91995940731048</td><td>-40.83119753162792</td><td>0.04536877503050163</td><td>False</td><td>18.73809</td><td>17.774029</td><td>17.33703</td><td>17.089043</td><td>16.933092</td></tr>\n",
       "<tr><td>...</td><td>...</td><td>...</td><td>...</td><td>...</td><td>...</td><td>...</td><td>...</td><td>...</td><td>...</td><td>...</td></tr>\n",
       "<tr><td>9946101914870</td><td>3953709946224</td><td>73.81704108089488</td><td>-39.14301648290766</td><td>1.1825788596427356</td><td>False</td><td>26.817436</td><td>26.829115</td><td>26.455158</td><td>26.123201</td><td>25.321404</td></tr>\n",
       "<tr><td>9946101914871</td><td>3953709946224</td><td>73.81217096700082</td><td>-39.14313796312679</td><td>1.1845174728020136</td><td>False</td><td>26.671938</td><td>26.687202</td><td>26.313822</td><td>26.004953</td><td>25.205357</td></tr>\n",
       "<tr><td>9946101914872</td><td>3953709946224</td><td>73.8130782658954</td><td>-39.146567519995095</td><td>1.1858249000604872</td><td>False</td><td>27.525414</td><td>27.229372</td><td>26.437113</td><td>25.747993</td><td>24.812834</td></tr>\n",
       "<tr><td>9946101914873</td><td>3953709946224</td><td>73.81099309596851</td><td>-39.1446150844758</td><td>1.1863016721593018</td><td>False</td><td>27.88319</td><td>27.673252</td><td>27.31493</td><td>26.973488</td><td>26.12743</td></tr>\n",
       "<tr><td>9946101914874</td><td>3953709946224</td><td>73.81023374282377</td><td>-39.14479564885864</td><td>1.1817888463377622</td><td>False</td><td>30.202423</td><td>29.568354</td><td>28.709644</td><td>27.955553</td><td>27.104094</td></tr>\n",
       "<tr><td>9946101914875</td><td>3953709946224</td><td>73.81238547253585</td><td>-39.14802931294496</td><td>1.183634466590724</td><td>False</td><td>28.886244</td><td>28.543205</td><td>28.050789</td><td>27.588861</td><td>26.72209</td></tr>\n",
       "<tr><td>9946101914876</td><td>3953709946224</td><td>73.81049621872342</td><td>-39.14500731464505</td><td>1.1848362354872486</td><td>False</td><td>27.990345</td><td>27.443472</td><td>26.69152</td><td>26.022493</td><td>25.093157</td></tr>\n",
       "<tr><td>9946101914877</td><td>3953709946224</td><td>73.80907475279062</td><td>-39.14345417020633</td><td>1.1849202340753875</td><td>False</td><td>27.752567</td><td>27.726212</td><td>27.386892</td><td>27.10297</td><td>26.312195</td></tr>\n",
       "<tr><td>9946101915042</td><td>2261109946224</td><td>73.51020825183531</td><td>-38.477577203469075</td><td>1.1864203256841828</td><td>False</td><td>33.385696</td><td>31.655087</td><td>30.232298</td><td>29.204992</td><td>28.409697</td></tr>\n",
       "<tr><td>9946101915044</td><td>2261109946224</td><td>73.52610571436492</td><td>-38.4726281312143</td><td>1.1970621488182633</td><td>False</td><td>33.509365</td><td>31.877247</td><td>30.477518</td><td>29.456568</td><td>28.663664</td></tr>\n",
       "</table></div>"
      ],
      "text/plain": [
       "<clevar.catalog.catalog.MemCatalog at 0x7fe8145db190>"
      ]
     },
     "execution_count": 12,
     "metadata": {},
     "output_type": "execute_result"
    }
   ],
   "source": [
    "halo_cat_members"
   ]
  },
  {
   "cell_type": "code",
   "execution_count": null,
   "id": "46aea4e5-26c4-44d5-8153-689e26afcfc1",
   "metadata": {
    "tags": []
   },
   "outputs": [],
   "source": [
    "\n"
   ]
  },
  {
   "cell_type": "code",
   "execution_count": 13,
   "id": "b11bb9b5-3c21-4ddf-98c4-27995fdff2b0",
   "metadata": {
    "tags": []
   },
   "outputs": [
    {
     "name": "stderr",
     "output_type": "stream",
     "text": [
      "/global/homes/c/cinlima/.local/lib/python3.11/site-packages/clevar-0.14.1-py3.11.egg/clevar/catalog/catalog.py:728: UserWarning: Some galaxies were not members of the cluster catalog. They are stored in leftover_members attribute.\n",
      "  warnings.warn(\n"
     ]
    }
   ],
   "source": [
    "halo_cat.add_members(members_catalog=halo_cat_members)\n"
   ]
  },
  {
   "cell_type": "code",
   "execution_count": 14,
   "id": "1cc22807-e031-4bcd-908f-b26b36a61061",
   "metadata": {
    "tags": []
   },
   "outputs": [],
   "source": [
    "#halo_cat.members.write('NumCosmo/notebooks/richness_proxy/CDC2Data/halo_cat_mass_min_'+f\"{min_halo_mass:1.2e}\"+'_members.fits', overwrite=True)\n",
    "# halo_cat.members.write('halo_cat_mass_min_'+f\"{min_halo_mass:1.2e}\"+'_members.fits', overwrite=True)\n"
   ]
  },
  {
   "cell_type": "code",
   "execution_count": null,
   "id": "0b86b9fe-1016-44ae-8c51-d8af819a5ece",
   "metadata": {
    "tags": []
   },
   "outputs": [],
   "source": []
  },
  {
   "cell_type": "code",
   "execution_count": 15,
   "id": "40bb0511-802d-46d1-b09f-a731afd018fa",
   "metadata": {
    "tags": []
   },
   "outputs": [],
   "source": [
    "# RM_cat = ClCatalog.read('RM_cat_richness_min_'+str(min_richness)+'.fits', name='RM_cat', full=True, tags={'mass':'richness'})\n",
    "# halo_cat = ClCatalog.read('halo_cat_mass_min_'+f\"{min_halo_mass:1.2e}\"+'.fits', name='halo_cat', full=True, tags={'mass':'mass_fof'})\n",
    "\n"
   ]
  },
  {
   "cell_type": "code",
   "execution_count": 16,
   "id": "8dcabb1e-64e6-49b4-a829-f205e02e9e61",
   "metadata": {},
   "outputs": [],
   "source": [
    "# RM_cat.read_members('RM_cat_richness_min_'+str(min_richness)+'_members.fits',  full=True)\n",
    "# halo_cat.read_members('halo_cat_mass_min_'+f\"{min_halo_mass:1.2e}\"+'_members.fits', full=True)\n"
   ]
  },
  {
   "cell_type": "code",
   "execution_count": 17,
   "id": "ce07a832-3f25-4093-93c4-e5a252e05681",
   "metadata": {},
   "outputs": [],
   "source": [
    "RM_cat._init_match_vals(True)\n",
    "halo_cat._init_match_vals(True)"
   ]
  },
  {
   "cell_type": "code",
   "execution_count": 18,
   "id": "3c576742-a3c4-4b52-8740-52bf82f2be63",
   "metadata": {},
   "outputs": [
    {
     "name": "stdout",
     "output_type": "stream",
     "text": [
      "308,136 members were matched.\n"
     ]
    },
    {
     "ename": "KeyError",
     "evalue": "'mass'",
     "output_type": "error",
     "traceback": [
      "\u001b[0;31m---------------------------------------------------------------------------\u001b[0m",
      "\u001b[0;31mKeyError\u001b[0m                                  Traceback (most recent call last)",
      "Cell \u001b[0;32mIn[18], line 8\u001b[0m\n\u001b[1;32m      1\u001b[0m mt \u001b[38;5;241m=\u001b[39m MembershipMatch()\n\u001b[1;32m      2\u001b[0m match_config \u001b[38;5;241m=\u001b[39m {\n\u001b[1;32m      3\u001b[0m     \u001b[38;5;124m'\u001b[39m\u001b[38;5;124mtype\u001b[39m\u001b[38;5;124m'\u001b[39m: \u001b[38;5;124m'\u001b[39m\u001b[38;5;124mcross\u001b[39m\u001b[38;5;124m'\u001b[39m, \u001b[38;5;66;03m# options are cross, cat1, cat2\u001b[39;00m\n\u001b[1;32m      4\u001b[0m     \u001b[38;5;124m'\u001b[39m\u001b[38;5;124mpreference\u001b[39m\u001b[38;5;124m'\u001b[39m: \u001b[38;5;124m'\u001b[39m\u001b[38;5;124mshared_member_fraction\u001b[39m\u001b[38;5;124m'\u001b[39m, \u001b[38;5;66;03m# other options are more_massive, angular_proximity or redshift_proximity\u001b[39;00m\n\u001b[1;32m      5\u001b[0m     \u001b[38;5;124m'\u001b[39m\u001b[38;5;124mminimum_share_fraction\u001b[39m\u001b[38;5;124m'\u001b[39m: \u001b[38;5;241m0\u001b[39m,\n\u001b[1;32m      6\u001b[0m     \u001b[38;5;124m'\u001b[39m\u001b[38;5;124mmatch_members_kwargs\u001b[39m\u001b[38;5;124m'\u001b[39m: {\u001b[38;5;124m'\u001b[39m\u001b[38;5;124mmethod\u001b[39m\u001b[38;5;124m'\u001b[39m:\u001b[38;5;124m'\u001b[39m\u001b[38;5;124mid\u001b[39m\u001b[38;5;124m'\u001b[39m},\n\u001b[1;32m      7\u001b[0m }\n\u001b[0;32m----> 8\u001b[0m \u001b[43mmt\u001b[49m\u001b[38;5;241;43m.\u001b[39;49m\u001b[43mmatch_from_config\u001b[49m\u001b[43m(\u001b[49m\u001b[43mRM_cat\u001b[49m\u001b[43m,\u001b[49m\u001b[43m \u001b[49m\u001b[43mhalo_cat\u001b[49m\u001b[43m,\u001b[49m\u001b[43m \u001b[49m\u001b[43mmatch_config\u001b[49m\u001b[43m)\u001b[49m\n",
      "File \u001b[0;32m~/.local/lib/python3.11/site-packages/clevar-0.14.1-py3.11.egg/clevar/match/membership.py:388\u001b[0m, in \u001b[0;36mMembershipMatch.match_from_config\u001b[0;34m(self, cat1, cat2, match_config, cosmo)\u001b[0m\n\u001b[1;32m    386\u001b[0m load_shared_member \u001b[38;5;241m=\u001b[39m match_config\u001b[38;5;241m.\u001b[39mget(\u001b[38;5;124m\"\u001b[39m\u001b[38;5;124mshared_members_load\u001b[39m\u001b[38;5;124m\"\u001b[39m, \u001b[38;5;28;01mFalse\u001b[39;00m)\n\u001b[1;32m    387\u001b[0m \u001b[38;5;28;01mif\u001b[39;00m match_config\u001b[38;5;241m.\u001b[39mget(\u001b[38;5;124m\"\u001b[39m\u001b[38;5;124mshared_members_fill\u001b[39m\u001b[38;5;124m\"\u001b[39m, \u001b[38;5;28;01mTrue\u001b[39;00m) \u001b[38;5;129;01mand\u001b[39;00m \u001b[38;5;129;01mnot\u001b[39;00m load_shared_member:\n\u001b[0;32m--> 388\u001b[0m     \u001b[38;5;28;43mself\u001b[39;49m\u001b[38;5;241;43m.\u001b[39;49m\u001b[43mfill_shared_members\u001b[49m\u001b[43m(\u001b[49m\u001b[43mcat1\u001b[49m\u001b[43m,\u001b[49m\u001b[43m \u001b[49m\u001b[43mcat2\u001b[49m\u001b[43m)\u001b[49m\n\u001b[1;32m    389\u001b[0m \u001b[38;5;28;01mif\u001b[39;00m match_config\u001b[38;5;241m.\u001b[39mget(\u001b[38;5;124m\"\u001b[39m\u001b[38;5;124mshared_members_save\u001b[39m\u001b[38;5;124m\"\u001b[39m, \u001b[38;5;28;01mFalse\u001b[39;00m) \u001b[38;5;129;01mand\u001b[39;00m \u001b[38;5;129;01mnot\u001b[39;00m load_shared_member:\n\u001b[1;32m    390\u001b[0m     \u001b[38;5;28mself\u001b[39m\u001b[38;5;241m.\u001b[39msave_shared_members(\n\u001b[1;32m    391\u001b[0m         cat1,\n\u001b[1;32m    392\u001b[0m         cat2,\n\u001b[1;32m    393\u001b[0m         match_config[\u001b[38;5;124m\"\u001b[39m\u001b[38;5;124mshared_members_file\u001b[39m\u001b[38;5;124m\"\u001b[39m],\n\u001b[1;32m    394\u001b[0m     )\n",
      "File \u001b[0;32m~/.local/lib/python3.11/site-packages/clevar-0.14.1-py3.11.egg/clevar/match/membership.py:96\u001b[0m, in \u001b[0;36mMembershipMatch.fill_shared_members\u001b[0;34m(self, cat1, cat2)\u001b[0m\n\u001b[1;32m     94\u001b[0m     \u001b[38;5;28mself\u001b[39m\u001b[38;5;241m.\u001b[39m_add_pmem(cat2\u001b[38;5;241m.\u001b[39mmt_input[\u001b[38;5;124m\"\u001b[39m\u001b[38;5;124mshare_mems\u001b[39m\u001b[38;5;124m\"\u001b[39m], cat2\u001b[38;5;241m.\u001b[39mid_dict[idcl2], idcl1, pmem2)\n\u001b[1;32m     95\u001b[0m \u001b[38;5;66;03m# sort order in dicts by mass\u001b[39;00m\n\u001b[0;32m---> 96\u001b[0m cat1\u001b[38;5;241m.\u001b[39mmt_input[\u001b[38;5;124m\"\u001b[39m\u001b[38;5;124mshare_mems\u001b[39m\u001b[38;5;124m\"\u001b[39m] \u001b[38;5;241m=\u001b[39m \u001b[43m[\u001b[49m\n\u001b[1;32m     97\u001b[0m \u001b[43m    \u001b[49m\u001b[38;5;28;43mself\u001b[39;49m\u001b[38;5;241;43m.\u001b[39;49m\u001b[43m_sort_share_mem_mass\u001b[49m\u001b[43m(\u001b[49m\u001b[43mshare_mem1\u001b[49m\u001b[43m,\u001b[49m\u001b[43m \u001b[49m\u001b[43mcat2\u001b[49m\u001b[43m)\u001b[49m\n\u001b[1;32m     98\u001b[0m \u001b[43m    \u001b[49m\u001b[38;5;28;43;01mfor\u001b[39;49;00m\u001b[43m \u001b[49m\u001b[43mshare_mem1\u001b[49m\u001b[43m \u001b[49m\u001b[38;5;129;43;01min\u001b[39;49;00m\u001b[43m \u001b[49m\u001b[43mcat1\u001b[49m\u001b[38;5;241;43m.\u001b[39;49m\u001b[43mmt_input\u001b[49m\u001b[43m[\u001b[49m\u001b[38;5;124;43m\"\u001b[39;49m\u001b[38;5;124;43mshare_mems\u001b[39;49m\u001b[38;5;124;43m\"\u001b[39;49m\u001b[43m]\u001b[49m\n\u001b[1;32m     99\u001b[0m \u001b[43m\u001b[49m\u001b[43m]\u001b[49m\n\u001b[1;32m    100\u001b[0m cat2\u001b[38;5;241m.\u001b[39mmt_input[\u001b[38;5;124m\"\u001b[39m\u001b[38;5;124mshare_mems\u001b[39m\u001b[38;5;124m\"\u001b[39m] \u001b[38;5;241m=\u001b[39m [\n\u001b[1;32m    101\u001b[0m     \u001b[38;5;28mself\u001b[39m\u001b[38;5;241m.\u001b[39m_sort_share_mem_mass(share_mem2, cat1)\n\u001b[1;32m    102\u001b[0m     \u001b[38;5;28;01mfor\u001b[39;00m share_mem2 \u001b[38;5;129;01min\u001b[39;00m cat2\u001b[38;5;241m.\u001b[39mmt_input[\u001b[38;5;124m\"\u001b[39m\u001b[38;5;124mshare_mems\u001b[39m\u001b[38;5;124m\"\u001b[39m]\n\u001b[1;32m    103\u001b[0m ]\n",
      "File \u001b[0;32m~/.local/lib/python3.11/site-packages/clevar-0.14.1-py3.11.egg/clevar/match/membership.py:97\u001b[0m, in \u001b[0;36m<listcomp>\u001b[0;34m(.0)\u001b[0m\n\u001b[1;32m     94\u001b[0m     \u001b[38;5;28mself\u001b[39m\u001b[38;5;241m.\u001b[39m_add_pmem(cat2\u001b[38;5;241m.\u001b[39mmt_input[\u001b[38;5;124m\"\u001b[39m\u001b[38;5;124mshare_mems\u001b[39m\u001b[38;5;124m\"\u001b[39m], cat2\u001b[38;5;241m.\u001b[39mid_dict[idcl2], idcl1, pmem2)\n\u001b[1;32m     95\u001b[0m \u001b[38;5;66;03m# sort order in dicts by mass\u001b[39;00m\n\u001b[1;32m     96\u001b[0m cat1\u001b[38;5;241m.\u001b[39mmt_input[\u001b[38;5;124m\"\u001b[39m\u001b[38;5;124mshare_mems\u001b[39m\u001b[38;5;124m\"\u001b[39m] \u001b[38;5;241m=\u001b[39m [\n\u001b[0;32m---> 97\u001b[0m     \u001b[38;5;28;43mself\u001b[39;49m\u001b[38;5;241;43m.\u001b[39;49m\u001b[43m_sort_share_mem_mass\u001b[49m\u001b[43m(\u001b[49m\u001b[43mshare_mem1\u001b[49m\u001b[43m,\u001b[49m\u001b[43m \u001b[49m\u001b[43mcat2\u001b[49m\u001b[43m)\u001b[49m\n\u001b[1;32m     98\u001b[0m     \u001b[38;5;28;01mfor\u001b[39;00m share_mem1 \u001b[38;5;129;01min\u001b[39;00m cat1\u001b[38;5;241m.\u001b[39mmt_input[\u001b[38;5;124m\"\u001b[39m\u001b[38;5;124mshare_mems\u001b[39m\u001b[38;5;124m\"\u001b[39m]\n\u001b[1;32m     99\u001b[0m ]\n\u001b[1;32m    100\u001b[0m cat2\u001b[38;5;241m.\u001b[39mmt_input[\u001b[38;5;124m\"\u001b[39m\u001b[38;5;124mshare_mems\u001b[39m\u001b[38;5;124m\"\u001b[39m] \u001b[38;5;241m=\u001b[39m [\n\u001b[1;32m    101\u001b[0m     \u001b[38;5;28mself\u001b[39m\u001b[38;5;241m.\u001b[39m_sort_share_mem_mass(share_mem2, cat1)\n\u001b[1;32m    102\u001b[0m     \u001b[38;5;28;01mfor\u001b[39;00m share_mem2 \u001b[38;5;129;01min\u001b[39;00m cat2\u001b[38;5;241m.\u001b[39mmt_input[\u001b[38;5;124m\"\u001b[39m\u001b[38;5;124mshare_mems\u001b[39m\u001b[38;5;124m\"\u001b[39m]\n\u001b[1;32m    103\u001b[0m ]\n",
      "File \u001b[0;32m~/.local/lib/python3.11/site-packages/clevar-0.14.1-py3.11.egg/clevar/match/membership.py:112\u001b[0m, in \u001b[0;36mMembershipMatch._sort_share_mem_mass\u001b[0;34m(self, share_mem1, cat2)\u001b[0m\n\u001b[1;32m    110\u001b[0m     \u001b[38;5;28;01mreturn\u001b[39;00m {}\n\u001b[1;32m    111\u001b[0m ids2 \u001b[38;5;241m=\u001b[39m np\u001b[38;5;241m.\u001b[39marray(\u001b[38;5;28mlist\u001b[39m(share_mem1\u001b[38;5;241m.\u001b[39mkeys()))\n\u001b[0;32m--> 112\u001b[0m mass2 \u001b[38;5;241m=\u001b[39m np\u001b[38;5;241m.\u001b[39marray(\u001b[43mcat2\u001b[49m\u001b[43m[\u001b[49m\u001b[38;5;124;43m\"\u001b[39;49m\u001b[38;5;124;43mmass\u001b[39;49m\u001b[38;5;124;43m\"\u001b[39;49m\u001b[43m]\u001b[49m[cat2\u001b[38;5;241m.\u001b[39mids2inds(ids2)])\n\u001b[1;32m    113\u001b[0m \u001b[38;5;28;01mreturn\u001b[39;00m {id2: share_mem1[id2] \u001b[38;5;28;01mfor\u001b[39;00m id2 \u001b[38;5;129;01min\u001b[39;00m ids2[mass2\u001b[38;5;241m.\u001b[39margsort()[::\u001b[38;5;241m-\u001b[39m\u001b[38;5;241m1\u001b[39m]]}\n",
      "File \u001b[0;32m~/.local/lib/python3.11/site-packages/clevar-0.14.1-py3.11.egg/clevar/catalog/catalog.py:649\u001b[0m, in \u001b[0;36mClCatalog.__getitem__\u001b[0;34m(self, item)\u001b[0m\n\u001b[1;32m    647\u001b[0m             cl_mask[item] \u001b[38;5;241m=\u001b[39m \u001b[38;5;28;01mTrue\u001b[39;00m\n\u001b[1;32m    648\u001b[0m             kwargs[\u001b[38;5;124m\"\u001b[39m\u001b[38;5;124mmembers\u001b[39m\u001b[38;5;124m\"\u001b[39m] \u001b[38;5;241m=\u001b[39m \u001b[38;5;28mself\u001b[39m\u001b[38;5;241m.\u001b[39mmembers[cl_mask[\u001b[38;5;28mself\u001b[39m\u001b[38;5;241m.\u001b[39mmembers[\u001b[38;5;124m\"\u001b[39m\u001b[38;5;124mind_cl\u001b[39m\u001b[38;5;124m\"\u001b[39m]]]\n\u001b[0;32m--> 649\u001b[0m \u001b[38;5;28;01mreturn\u001b[39;00m \u001b[38;5;28;43mself\u001b[39;49m\u001b[38;5;241;43m.\u001b[39;49m\u001b[43m_getitem_base\u001b[49m\u001b[43m(\u001b[49m\u001b[43mDataType\u001b[49m\u001b[38;5;241;43m=\u001b[39;49m\u001b[43mClCatalog\u001b[49m\u001b[43m,\u001b[49m\u001b[43m \u001b[49m\u001b[38;5;241;43m*\u001b[39;49m\u001b[38;5;241;43m*\u001b[39;49m\u001b[43mkwargs\u001b[49m\u001b[43m)\u001b[49m\n",
      "File \u001b[0;32m~/.local/lib/python3.11/site-packages/clevar-0.14.1-py3.11.egg/clevar/catalog/tagdata.py:184\u001b[0m, in \u001b[0;36mTagData._getitem_base\u001b[0;34m(self, item, DataType, **kwargs)\u001b[0m\n\u001b[1;32m    180\u001b[0m \u001b[38;5;66;03m# pylint: disable=invalid-name\u001b[39;00m\n\u001b[1;32m    181\u001b[0m \n\u001b[1;32m    182\u001b[0m \u001b[38;5;66;03m# Get one row/col\u001b[39;00m\n\u001b[1;32m    183\u001b[0m \u001b[38;5;28;01mif\u001b[39;00m \u001b[38;5;28misinstance\u001b[39m(item, (\u001b[38;5;28mstr\u001b[39m, \u001b[38;5;28mint\u001b[39m, np\u001b[38;5;241m.\u001b[39mint64)):\n\u001b[0;32m--> 184\u001b[0m     \u001b[38;5;28;01mreturn\u001b[39;00m \u001b[38;5;28;43mself\u001b[39;49m\u001b[38;5;241;43m.\u001b[39;49m\u001b[43mdata\u001b[49m\u001b[43m[\u001b[49m\u001b[38;5;28;43mself\u001b[39;49m\u001b[38;5;241;43m.\u001b[39;49m\u001b[43mtags\u001b[49m\u001b[38;5;241;43m.\u001b[39;49m\u001b[43mget\u001b[49m\u001b[43m(\u001b[49m\u001b[43mitem\u001b[49m\u001b[43m,\u001b[49m\u001b[43m \u001b[49m\u001b[43mitem\u001b[49m\u001b[43m)\u001b[49m\u001b[43m \u001b[49m\u001b[38;5;28;43;01mif\u001b[39;49;00m\u001b[43m \u001b[49m\u001b[38;5;28;43misinstance\u001b[39;49m\u001b[43m(\u001b[49m\u001b[43mitem\u001b[49m\u001b[43m,\u001b[49m\u001b[43m \u001b[49m\u001b[38;5;28;43mstr\u001b[39;49m\u001b[43m)\u001b[49m\u001b[43m \u001b[49m\u001b[38;5;28;43;01melse\u001b[39;49;00m\u001b[43m \u001b[49m\u001b[43mitem\u001b[49m\u001b[43m]\u001b[49m\n\u001b[1;32m    186\u001b[0m \u001b[38;5;66;03m# Get sub cols\u001b[39;00m\n\u001b[1;32m    187\u001b[0m \u001b[38;5;28;01mif\u001b[39;00m \u001b[38;5;28misinstance\u001b[39m(item, (\u001b[38;5;28mtuple\u001b[39m, \u001b[38;5;28mlist\u001b[39m)) \u001b[38;5;129;01mand\u001b[39;00m \u001b[38;5;28mall\u001b[39m(\u001b[38;5;28misinstance\u001b[39m(x, \u001b[38;5;28mstr\u001b[39m) \u001b[38;5;28;01mfor\u001b[39;00m x \u001b[38;5;129;01min\u001b[39;00m item):\n",
      "File \u001b[0;32m~/.local/lib/python3.11/site-packages/clevar-0.14.1-py3.11.egg/clevar/catalog/tagdata.py:51\u001b[0m, in \u001b[0;36mClData.__getitem__\u001b[0;34m(self, item)\u001b[0m\n\u001b[1;32m     49\u001b[0m \u001b[38;5;66;03m# get one column\u001b[39;00m\n\u001b[1;32m     50\u001b[0m \u001b[38;5;28;01mif\u001b[39;00m \u001b[38;5;28misinstance\u001b[39m(item, \u001b[38;5;28mstr\u001b[39m):\n\u001b[0;32m---> 51\u001b[0m     \u001b[38;5;28;01mreturn\u001b[39;00m \u001b[38;5;28;43msuper\u001b[39;49m\u001b[43m(\u001b[49m\u001b[43m)\u001b[49m\u001b[38;5;241;43m.\u001b[39;49m\u001b[38;5;21;43m__getitem__\u001b[39;49m\u001b[43m(\u001b[49m\u001b[38;5;28;43mself\u001b[39;49m\u001b[38;5;241;43m.\u001b[39;49m\u001b[43mnamedict\u001b[49m\u001b[38;5;241;43m.\u001b[39;49m\u001b[43mget\u001b[49m\u001b[43m(\u001b[49m\u001b[43mitem\u001b[49m\u001b[43m,\u001b[49m\u001b[43m \u001b[49m\u001b[43mitem\u001b[49m\u001b[43m)\u001b[49m\u001b[43m)\u001b[49m\n\u001b[1;32m     53\u001b[0m \u001b[38;5;66;03m# get one row\u001b[39;00m\n\u001b[1;32m     54\u001b[0m \u001b[38;5;28;01mif\u001b[39;00m \u001b[38;5;28misinstance\u001b[39m(item, (\u001b[38;5;28mint\u001b[39m, np\u001b[38;5;241m.\u001b[39mint64)):\n",
      "File \u001b[0;32m~/.conda/envs/numcosmo/lib/python3.11/site-packages/astropy/table/table.py:2055\u001b[0m, in \u001b[0;36mTable.__getitem__\u001b[0;34m(self, item)\u001b[0m\n\u001b[1;32m   2053\u001b[0m \u001b[38;5;28;01mdef\u001b[39;00m \u001b[38;5;21m__getitem__\u001b[39m(\u001b[38;5;28mself\u001b[39m, item):\n\u001b[1;32m   2054\u001b[0m     \u001b[38;5;28;01mif\u001b[39;00m \u001b[38;5;28misinstance\u001b[39m(item, \u001b[38;5;28mstr\u001b[39m):\n\u001b[0;32m-> 2055\u001b[0m         \u001b[38;5;28;01mreturn\u001b[39;00m \u001b[38;5;28;43mself\u001b[39;49m\u001b[38;5;241;43m.\u001b[39;49m\u001b[43mcolumns\u001b[49m\u001b[43m[\u001b[49m\u001b[43mitem\u001b[49m\u001b[43m]\u001b[49m\n\u001b[1;32m   2056\u001b[0m     \u001b[38;5;28;01melif\u001b[39;00m \u001b[38;5;28misinstance\u001b[39m(item, (\u001b[38;5;28mint\u001b[39m, np\u001b[38;5;241m.\u001b[39minteger)):\n\u001b[1;32m   2057\u001b[0m         \u001b[38;5;28;01mreturn\u001b[39;00m \u001b[38;5;28mself\u001b[39m\u001b[38;5;241m.\u001b[39mRow(\u001b[38;5;28mself\u001b[39m, item)\n",
      "File \u001b[0;32m~/.conda/envs/numcosmo/lib/python3.11/site-packages/astropy/table/table.py:264\u001b[0m, in \u001b[0;36mTableColumns.__getitem__\u001b[0;34m(self, item)\u001b[0m\n\u001b[1;32m    253\u001b[0m \u001b[38;5;250m\u001b[39m\u001b[38;5;124;03m\"\"\"Get items from a TableColumns object.\u001b[39;00m\n\u001b[1;32m    254\u001b[0m \n\u001b[1;32m    255\u001b[0m \u001b[38;5;124;03m::\u001b[39;00m\n\u001b[0;32m   (...)\u001b[0m\n\u001b[1;32m    261\u001b[0m \u001b[38;5;124;03m  tc[1:3] # <TableColumns names=('b', 'c')>\u001b[39;00m\n\u001b[1;32m    262\u001b[0m \u001b[38;5;124;03m\"\"\"\u001b[39;00m\n\u001b[1;32m    263\u001b[0m \u001b[38;5;28;01mif\u001b[39;00m \u001b[38;5;28misinstance\u001b[39m(item, \u001b[38;5;28mstr\u001b[39m):\n\u001b[0;32m--> 264\u001b[0m     \u001b[38;5;28;01mreturn\u001b[39;00m \u001b[43mOrderedDict\u001b[49m\u001b[38;5;241;43m.\u001b[39;49m\u001b[38;5;21;43m__getitem__\u001b[39;49m\u001b[43m(\u001b[49m\u001b[38;5;28;43mself\u001b[39;49m\u001b[43m,\u001b[49m\u001b[43m \u001b[49m\u001b[43mitem\u001b[49m\u001b[43m)\u001b[49m\n\u001b[1;32m    265\u001b[0m \u001b[38;5;28;01melif\u001b[39;00m \u001b[38;5;28misinstance\u001b[39m(item, (\u001b[38;5;28mint\u001b[39m, np\u001b[38;5;241m.\u001b[39minteger)):\n\u001b[1;32m    266\u001b[0m     \u001b[38;5;28;01mreturn\u001b[39;00m \u001b[38;5;28mlist\u001b[39m(\u001b[38;5;28mself\u001b[39m\u001b[38;5;241m.\u001b[39mvalues())[item]\n",
      "\u001b[0;31mKeyError\u001b[0m: 'mass'"
     ]
    }
   ],
   "source": [
    "mt = MembershipMatch()\n",
    "match_config = {\n",
    "    'type': 'cross', # options are cross, cat1, cat2\n",
    "    'preference': 'shared_member_fraction', # other options are more_massive, angular_proximity or redshift_proximity\n",
    "    'minimum_share_fraction': 0,\n",
    "    'match_members_kwargs': {'method':'id'},\n",
    "}\n",
    "mt.match_from_config(RM_cat, halo_cat, match_config)\n"
   ]
  },
  {
   "cell_type": "code",
   "execution_count": null,
   "id": "0b257275-18e5-4ab0-b99f-68321dc9d508",
   "metadata": {},
   "outputs": [],
   "source": [
    "#mt.save_matches(RM_cat, halo_cat, out_dir='NumCosmo/notebooks/richness_proxy/CDC2Data/cosmoDC2_RM_match_cross_membership', overwrite=True)\n",
    "# mt.save_matches(RM_cat, halo_cat, out_dir='SS_RM_match_cross_membership', overwrite=True)\n"
   ]
  },
  {
   "cell_type": "code",
   "execution_count": null,
   "id": "c9daa6d5-7b71-4c29-8bc5-73d4023a1344",
   "metadata": {
    "tags": []
   },
   "outputs": [],
   "source": [
    "#mt.load_matches(RM_cat, halo_cat, out_dir='NumCosmo/notebooks/richness_proxy/CDC2Data/cosmoDC2_RM_match_cross_membership')\n",
    "# mt.load_matches(RM_cat, halo_cat, out_dir='SS_RM_match_cross_membership')\n"
   ]
  },
  {
   "cell_type": "code",
   "execution_count": null,
   "id": "cd97bd5a-ab6f-491b-8e9e-705d3e5188fe",
   "metadata": {
    "tags": []
   },
   "outputs": [],
   "source": [
    "RM_cat_bij, halo_cat_bij = get_matched_pairs(RM_cat, halo_cat, 'cross')"
   ]
  },
  {
   "cell_type": "code",
   "execution_count": null,
   "id": "dfb9aded-e4fc-4059-93f0-9023d533d180",
   "metadata": {
    "tags": []
   },
   "outputs": [],
   "source": [
    "RM_cat_bij.size, RM_cat_bij.size/RM_cat.size,  halo_cat_bij.size/halo_cat.size\n"
   ]
  },
  {
   "cell_type": "code",
   "execution_count": null,
   "id": "345e19c1-352b-4998-8cd8-7e93d5463da2",
   "metadata": {
    "tags": []
   },
   "outputs": [],
   "source": [
    "plt.scatter(np.log(halo_cat_bij['mass_fof']),np.log(RM_cat_bij['richness']))\n",
    "# plt.scatter(halo_cat_bij['mass_fof'],RM_cat_bij['richness'])\n",
    "\n",
    "plt.xlabel('$\\ln (M_{fof}$)')\n",
    "plt.ylabel('$\\ln (\\lambda)$')"
   ]
  },
  {
   "cell_type": "code",
   "execution_count": null,
   "id": "d61dd338-492a-4dec-87c8-a8008fe8e15a",
   "metadata": {},
   "outputs": [],
   "source": [
    "Table([halo_cat_bij['mass_fof'], RM_cat_bij['richness'], RM_cat_bij['z']])"
   ]
  },
  {
   "cell_type": "code",
   "execution_count": null,
   "id": "9fdb3e70-8242-4c75-b1d5-0f6c5b4e087a",
   "metadata": {},
   "outputs": [],
   "source": []
  },
  {
   "cell_type": "code",
   "execution_count": null,
   "id": "03fe6b04-d314-4581-b887-2b4f58a39769",
   "metadata": {
    "tags": []
   },
   "outputs": [],
   "source": []
  },
  {
   "cell_type": "code",
   "execution_count": null,
   "id": "bb80f73c-ad8a-4107-be3f-e1efe6b46869",
   "metadata": {},
   "outputs": [],
   "source": []
  },
  {
   "cell_type": "code",
   "execution_count": null,
   "id": "a81752a0-faeb-4907-9396-7bbd86f3a94a",
   "metadata": {},
   "outputs": [],
   "source": []
  },
  {
   "cell_type": "code",
   "execution_count": null,
   "id": "c1d3241a-8dfe-415a-95b2-70b930d0b88d",
   "metadata": {},
   "outputs": [],
   "source": []
  },
  {
   "cell_type": "code",
   "execution_count": null,
   "id": "871e9fab-129e-4415-8992-b4707042361d",
   "metadata": {},
   "outputs": [],
   "source": []
  }
 ],
 "metadata": {
  "kernelspec": {
   "display_name": "numcosmo",
   "language": "python",
   "name": "numcosmo"
  },
  "language_info": {
   "codemirror_mode": {
    "name": "ipython",
    "version": 3
   },
   "file_extension": ".py",
   "mimetype": "text/x-python",
   "name": "python",
   "nbconvert_exporter": "python",
   "pygments_lexer": "ipython3",
   "version": "3.11.9"
  }
 },
 "nbformat": 4,
 "nbformat_minor": 5
}
