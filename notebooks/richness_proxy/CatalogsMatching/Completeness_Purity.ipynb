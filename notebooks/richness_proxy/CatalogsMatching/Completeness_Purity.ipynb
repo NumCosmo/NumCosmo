{
 "cells": [
  {
   "cell_type": "markdown",
   "id": "5cca85bf-5df5-44ae-ba95-b2776feeb987",
   "metadata": {
    "tags": []
   },
   "source": [
    "#  Completeness and Purity - DC2 with RedMaPPer - NumCosmo\n",
    "\n",
    "---\n",
    "**License**\n",
    "\n",
    " Completeness and Purity - DC2 with RedMaPPer - NumCosmo\n",
    "\n",
    " Mon Jan 13 14:30:00 2025\\\n",
    " Copyright  2025\\\n",
    " Cinthia Nunes de Lima <cinthia.n.lima@uel.br> \\ Sandro Dias Pinto Vitenti <vitenti@uel.br>\n",
    "\n",
    "---\n",
    "---\n",
    " completeness_purity\\\n",
    " Copyright (C) 2025 Cinthia Nunes de Lima <cinthia.n.lima@uel.br>, Sandro Dias Pinto Vitenti <vitenti@uel.br>\n",
    "\n",
    " numcosmo is free software: you can redistribute it and/or modify it\n",
    " under the terms of the GNU General Public License as published by the\n",
    " Free Software Foundation, either version 3 of the License, or\n",
    " (at your option) any later version.\n",
    "\n",
    " numcosmo is distributed in the hope that it will be useful, but\n",
    " WITHOUT ANY WARRANTY; without even the implied warranty of\n",
    " MERCHANTABILITY or FITNESS FOR A PARTICULAR PURPOSE.\n",
    " See the GNU General Public License for more details.\n",
    "\n",
    " You should have received a copy of the GNU General Public License along\n",
    " with this program.  If not, see <http://www.gnu.org/licenses/>.\n",
    " \n",
    "---"
   ]
  },
  {
   "cell_type": "markdown",
   "id": "24d69080-9110-491b-b33a-94c1a99d54cd",
   "metadata": {
    "tags": []
   },
   "source": [
    "## Libraries & Configs"
   ]
  },
  {
   "cell_type": "code",
   "execution_count": 2,
   "id": "3d15dcd2-81ec-4213-8fda-5bcc9e8dd122",
   "metadata": {},
   "outputs": [
    {
     "name": "stdout",
     "output_type": "stream",
     "text": [
      "GCRCatalogs = 1.9.0 | GCR = 0.9.2\n"
     ]
    }
   ],
   "source": [
    "import sys\n",
    "\n",
    "import os\n",
    "import numpy as np\n",
    "import matplotlib.pyplot as plt\n",
    "\n",
    "from astropy.io import fits\n",
    "from astropy.table import Table\n",
    "import pandas as pd\n",
    "\n",
    "sys.path.insert(0, \"/global/homes/c/cinlima/gcrcatalogs-new/gcr-catalogs\")\n",
    "sys.path.insert(0, \"/global/homes/c/cinlima/\")\n",
    "sys.path.insert(0, \"/global/homes/c/cinlima/NumCosmo/notebooks/richness_proxy/MachingCatalogs\")\n",
    "\n",
    "import GCRCatalogs\n",
    "#Put nersc if using nersc\n",
    "GCRCatalogs.set_root_dir_by_site(\"nersc\")\n",
    "\n",
    "print('GCRCatalogs =', GCRCatalogs.__version__, '|' ,'GCR =', GCRCatalogs.GCR.__version__)\n",
    "\n",
    "# GCRCatalogs.get_available_catalog_names()"
   ]
  },
  {
   "cell_type": "code",
   "execution_count": 3,
   "id": "c8f7585a-f244-4e34-9e78-e01542f9e439",
   "metadata": {},
   "outputs": [],
   "source": [
    "import clevar\n",
    "from clevar import ClCatalog, MemCatalog\n",
    "from clevar.match import MembershipMatch, get_matched_pairs\n",
    "from clevar.match import output_matched_catalog\n",
    "from clevar.match_metrics.scaling import ClCatalogFuncs as s_cf\n"
   ]
  },
  {
   "cell_type": "markdown",
   "id": "b14a91d1-d006-41bd-bcbd-b9efa3aec139",
   "metadata": {},
   "source": [
    "## Catalogs"
   ]
  },
  {
   "cell_type": "code",
   "execution_count": 4,
   "id": "61f8f651-65bf-41eb-8f15-f0f890d421ab",
   "metadata": {},
   "outputs": [],
   "source": [
    "# #Cosmo DC2\n",
    "# cosmodc2= GCRCatalogs.load_catalog('cosmoDC2_v1.1.4_image')\n",
    "\n",
    "# #Cosmo DC2 + RedMaPPer\n",
    "# catalog_dc2_redmapper = GCRCatalogs.load_catalog('cosmoDC2_v1.1.4_redmapper_v0.8.1')"
   ]
  },
  {
   "cell_type": "code",
   "execution_count": 5,
   "id": "44360191-aed3-4604-a3d1-1c651a8f2665",
   "metadata": {},
   "outputs": [],
   "source": [
    "# # Restrictions on richness, mass and redshift\n",
    "# min_richness = 0\n",
    "# min_halo_mass = 1e13 #Msunmmm\n",
    "# redshift_max = 1.2\n",
    "\n",
    "# #cDC2 + RM data\n",
    "# quantities = catalog_dc2_redmapper.list_all_quantities()\n",
    "# cluster_quantities = [q for q in quantities if 'member' not in q]\n",
    "# member_quantities = [q for q in quantities if 'member' in q]\n",
    "    \n",
    "# query = GCRCatalogs.GCRQuery('(richness > ' + str(min_richness) +')')\n",
    "# cluster_data = Table(catalog_dc2_redmapper.get_quantities(cluster_quantities, [query])) # cDC2 + RM cluster data\n",
    "# member_data = Table(catalog_dc2_redmapper.get_quantities(member_quantities)) # cDC2 + RM member data\n",
    "\n",
    "# #cDC2 data\n",
    "# quantities_wanted = ['redshift','halo_mass','halo_id','galaxy_id','ra','dec', 'is_central']\n",
    "# query = GCRCatalogs.GCRQuery('(halo_mass > ' + str(min_halo_mass) +') & (redshift < ' + str(redshift_max) +') & (is_central < ' + str(redshift_max) +') ')\n",
    "# truth_data = Table(cosmodc2.get_quantities(quantities_wanted, [query]))\n",
    "\n",
    "cluster_data = Table.read('/global/homes/c/cinlima/NumCosmo/notebooks/richness_proxy/CatalogsMatching/cluster_data.fits')\n",
    "member_data = Table.read('/global/homes/c/cinlima/NumCosmo/notebooks/richness_proxy/CatalogsMatching/member_data.fits')\n",
    "truth_data = Table.read('/global/homes/c/cinlima/NumCosmo/notebooks/richness_proxy/CatalogsMatching/truth_data.fits')"
   ]
  },
  {
   "cell_type": "code",
   "execution_count": 5,
   "id": "569a2dcf-384a-4b63-ab81-4bbd78a704ae",
   "metadata": {},
   "outputs": [],
   "source": [
    "# cluster_data"
   ]
  },
  {
   "cell_type": "code",
   "execution_count": 6,
   "id": "bc580a54-a820-45f6-9ef4-a27ea5b9a822",
   "metadata": {},
   "outputs": [],
   "source": [
    "truthdf = truth_data.to_pandas().rename(columns={'galaxy_id': 'id'})\n",
    "\n",
    "halo_g = truthdf.groupby('halo_id')\n",
    "\n",
    "halo_data = pd.DataFrame(data = {'halo_id':[], 'halo_mass': [], 'halo_redshift': []})\n",
    "                                 \n",
    "for ha in truthdf['halo_id'].unique():\n",
    "    halo_mass =  halo_g.get_group(ha)['halo_mass'].iloc[0]\n",
    "    halo_redshift = np.mean(halo_g.get_group(ha)[['redshift']])\n",
    "\n",
    "    data = pd.DataFrame([{'halo_id': ha, 'halo_mass': halo_mass, 'halo_redshift': halo_redshift}])                \n",
    "    \n",
    "    halo_data = pd.concat([halo_data, data], ignore_index=True)"
   ]
  },
  {
   "cell_type": "code",
   "execution_count": 65,
   "id": "e358c45d-0f3c-482b-a99c-d600df3bc8a3",
   "metadata": {},
   "outputs": [],
   "source": [
    "mdata = Table.read('/global/homes/c/cinlima/NumCosmo/notebooks/richness_proxy/CatalogsMatching/match_proximity.fits')\n"
   ]
  },
  {
   "cell_type": "code",
   "execution_count": 66,
   "id": "6b75962c-727e-405a-b2a3-ef90790f1922",
   "metadata": {},
   "outputs": [],
   "source": [
    "test_matchdata = Table.read('/global/homes/c/cinlima/NumCosmo/notebooks/richness_proxy/CatalogsMatching/match_ID.fits')\n",
    "\n",
    "rich_data = test_matchdata[\"richness\"]\n",
    "z_data = test_matchdata[\"cluster_redshift\"]\n",
    "mass_data = test_matchdata[\"halo_mass\"]\n",
    "\n",
    "mt_data2 = Table([mass_data, rich_data, z_data], names=('mass', 'R', 'z'))\n"
   ]
  },
  {
   "cell_type": "code",
   "execution_count": 27,
   "id": "ead46a66-675a-4ee4-8954-b932c114f294",
   "metadata": {},
   "outputs": [
    {
     "name": "stdout",
     "output_type": "stream",
     "text": [
      "RM_cat\n",
      "    * ClEvar used in matching: 0.14.1\n",
      " * Total objects:    45,081\n",
      " * multiple (self):  43,106\n",
      " * multiple (other): 43,106\n",
      " * unique (self):    42,914\n",
      " * unique (other):   42,917\n",
      " * cross:            42,914\n",
      "\n",
      "halo_cat\n",
      "    * ClEvar used in matching: 0.14.1\n",
      " * Total objects:    249,557\n",
      " * multiple (self):  74,474\n",
      " * multiple (other): 74,474\n",
      " * unique (self):    42,917\n",
      " * unique (other):   42,914\n",
      " * cross:            42,914\n"
     ]
    }
   ],
   "source": [
    "# CLEVAR\n",
    "\n",
    "min_richness = 5\n",
    "min_halo_mass = 1e13 #Msun\n",
    "\n",
    "# Halos/Clusters\n",
    "#CosmoDC2 + RedMaPPer: 'cosmoDC2_v1.1.4_redmapper_v0.8.1'\n",
    "RM_cat = ClCatalog.read('/global/homes/c/cinlima/NumCosmo/notebooks/richness_proxy/CatalogsMatching/cDC2_RM_match_cross_membership/RM_cat.fits', name='RM_cat', full=True) #tags={'mass':'richness'}\n",
    "\n",
    "#CosmoDC2: 'cosmoDC2_v1.1.4_image'\n",
    "halo_cat = ClCatalog.read('/global/homes/c/cinlima/NumCosmo/notebooks/richness_proxy/CatalogsMatching/cDC2_RM_match_cross_membership/halo_cat.fits', name='halo_cat', full=True) #tags={'mass':'mass_fof'}\n",
    "\n",
    "#Members\n",
    "RM_cat.read_members('/global/homes/c/cinlima/NumCosmo/notebooks/richness_proxy/CatalogsMatching/cDC2_RM_match_cross_membership/RM_cat_members.fits',  full=True)\n",
    "halo_cat.read_members('/global/homes/c/cinlima/NumCosmo/notebooks/richness_proxy/CatalogsMatching/cDC2_RM_match_cross_membership/halo_cat_members.fits', full=True)\n",
    "\n",
    "#Match catalogs\n",
    "mt = MembershipMatch()\n",
    "\n",
    "mt.load_matches(RM_cat, halo_cat, out_dir='/global/homes/c/cinlima/NumCosmo/notebooks/richness_proxy/CatalogsMatching/cDC2_RM_match_cross_membership/')\n",
    "RM_cat_bij, halo_cat_bij = get_matched_pairs(RM_cat, halo_cat, 'self')"
   ]
  },
  {
   "cell_type": "code",
   "execution_count": 28,
   "id": "91d74377-b1a2-427e-ac2b-ce3322ee71f3",
   "metadata": {},
   "outputs": [
    {
     "data": {
      "text/html": [
       "<b>RM_cat</b><br></b><b>tags:</b> id(id), z(z), ra(ra), dec(dec), mass(mass)<br><b>Radius unit:</b> None<br><div><i>ClData length=42914</i>\n",
       "<table id=\"table140476412740112\" class=\"table-striped table-bordered table-condensed\">\n",
       "<thead><tr><th>id</th><th>z</th><th>ra</th><th>dec</th><th>mass</th><th>richness_err</th><th>id_cg</th><th>ztrue_cg</th><th>p_cg_0</th><th>mt_self</th><th>mt_other</th><th>mt_multi_self</th><th>mt_multi_other</th><th>mt_frac_self</th><th>mt_frac_other</th><th>mt_cross</th></tr></thead>\n",
       "<thead><tr><th>str11</th><th>float32</th><th>float64</th><th>float64</th><th>float32</th><th>float32</th><th>int64</th><th>float32</th><th>float32</th><th>object</th><th>object</th><th>object</th><th>object</th><th>float64</th><th>float64</th><th>object</th></tr></thead>\n",
       "<tr><td>10</td><td>0.5135129</td><td>52.520436430812914</td><td>-25.717996124671657</td><td>190.70665</td><td>3.7469666</td><td>1312945563</td><td>0.51072353</td><td>0.79138356</td><td>1162500021323</td><td>1162500021323</td><td>[&apos;665600021315&apos;, &apos;1361100021315&apos;, &apos;205900021323&apos;, &apos;80500021323&apos;, &apos;711400021315&apos;, &apos;417800021323&apos;, &apos;1162500021323&apos;, &apos;922700021315&apos;]</td><td>[&apos;1361100021315&apos;, &apos;205900021323&apos;, &apos;80500021323&apos;, &apos;711400021315&apos;, &apos;417800021323&apos;, &apos;1162500021323&apos;, &apos;665600021315&apos;, &apos;922700021315&apos;]</td><td>0.4496726208984491</td><td>0.30094043887147337</td><td>1162500021323</td></tr>\n",
       "<tr><td>18</td><td>0.5712697</td><td>56.920376528125075</td><td>-27.20434071042304</td><td>179.12813</td><td>3.6934361</td><td>2000524808</td><td>0.5740297</td><td>0.99996513</td><td>549500032315</td><td>549500032315</td><td>[&apos;549500032315&apos;]</td><td>[&apos;549500032315&apos;]</td><td>0.9421648861882373</td><td>0.35064935064935066</td><td>549500032315</td></tr>\n",
       "<tr><td>24</td><td>1.040338</td><td>56.99849698116052</td><td>-26.7172081871169</td><td>124.02715</td><td>2.4172914</td><td>2002535198</td><td>1.0347759</td><td>0.93527913</td><td>2554900032241</td><td>2554900032241</td><td>[&apos;1212700032259&apos;, &apos;2554900032241&apos;, &apos;3011300032241&apos;]</td><td>[&apos;1212700032259&apos;, &apos;2554900032241&apos;, &apos;3011300032241&apos;]</td><td>0.9468829847683286</td><td>0.28444444444444444</td><td>2554900032241</td></tr>\n",
       "<tr><td>30</td><td>0.63518524</td><td>58.56362402841767</td><td>-27.429961828331713</td><td>167.33603</td><td>3.6777163</td><td>2000759779</td><td>0.6426174</td><td>0.9958548</td><td>1275900032300</td><td>1275900032300</td><td>[&apos;23400032300&apos;, &apos;6600032300&apos;, &apos;1275900032300&apos;]</td><td>[&apos;23400032300&apos;, &apos;6600032300&apos;, &apos;1275900032300&apos;]</td><td>0.9812835255072209</td><td>0.2767857142857143</td><td>1275900032300</td></tr>\n",
       "<tr><td>71</td><td>0.44230303</td><td>58.35519782866568</td><td>-26.867687128773035</td><td>111.9147</td><td>3.366554</td><td>2000289335</td><td>0.43919736</td><td>0.7297119</td><td>564000032338</td><td>564000032338</td><td>[&apos;359200032338&apos;, &apos;161400032338&apos;, &apos;731900032338&apos;, &apos;564000032338&apos;, &apos;778100032338&apos;, &apos;243000032347&apos;]</td><td>[&apos;359200032338&apos;, &apos;161400032338&apos;, &apos;731900032338&apos;, &apos;564000032338&apos;, &apos;778100032338&apos;, &apos;243000032347&apos;]</td><td>0.5346957617359577</td><td>0.2518518518518518</td><td>564000032338</td></tr>\n",
       "<tr><td>73</td><td>0.46697217</td><td>57.76575707007693</td><td>-28.119101936484828</td><td>104.439766</td><td>2.9570596</td><td>2000290819</td><td>0.4680865</td><td>0.99970347</td><td>459400032338</td><td>459400032338</td><td>[&apos;980800032331&apos;, &apos;2200032331&apos;, &apos;459400032338&apos;]</td><td>[&apos;980800032331&apos;, &apos;2200032331&apos;, &apos;459400032338&apos;]</td><td>0.9046435837281485</td><td>0.2780612244897959</td><td>459400032338</td></tr>\n",
       "<tr><td>109</td><td>0.4413634</td><td>58.509466974185045</td><td>-26.989676182075844</td><td>103.49396</td><td>3.3524604</td><td>2000286447</td><td>0.44349608</td><td>0.99999905</td><td>156700032338</td><td>156700032338</td><td>[&apos;156700032338&apos;, &apos;433200032355&apos;]</td><td>[&apos;156700032338&apos;, &apos;433200032355&apos;]</td><td>0.9589822433529834</td><td>0.28672985781990523</td><td>156700032338</td></tr>\n",
       "<tr><td>116</td><td>1.0629631</td><td>54.494027152041674</td><td>-27.896589555863095</td><td>76.85877</td><td>2.2175314</td><td>1940324795</td><td>1.0758829</td><td>0.6544826</td><td>3080200031235</td><td>3080200031235</td><td>[&apos;2468800031230&apos;, &apos;3080200031235&apos;]</td><td>[&apos;2468800031230&apos;, &apos;3080200031235&apos;]</td><td>0.9300718737691595</td><td>0.2791519434628975</td><td>3080200031235</td></tr>\n",
       "<tr><td>133</td><td>1.037697</td><td>58.137368555958155</td><td>-27.199784884537003</td><td>75.89771</td><td>2.26323</td><td>2002528355</td><td>1.0311339</td><td>0.991116</td><td>2067100032241</td><td>2067100032241</td><td>[&apos;1539400032241&apos;, &apos;2412900032235&apos;, &apos;2067100032241&apos;, &apos;1231200032230&apos;]</td><td>[&apos;1231200032230&apos;, &apos;1539400032241&apos;, &apos;2412900032235&apos;, &apos;2067100032241&apos;]</td><td>0.9547645155057961</td><td>0.29213483146067415</td><td>2067100032241</td></tr>\n",
       "<tr><td>...</td><td>...</td><td>...</td><td>...</td><td>...</td><td>...</td><td>...</td><td>...</td><td>...</td><td>...</td><td>...</td><td>...</td><td>...</td><td>...</td><td>...</td><td>...</td></tr>\n",
       "<tr><td>27511</td><td>1.1456813</td><td>69.22754543520179</td><td>-43.75642157983322</td><td>17.669474</td><td>2.6048646</td><td>11314668167</td><td>0.962661</td><td>0.8840111</td><td>1597500181247</td><td>1597500181247</td><td>[&apos;1597500181247&apos;]</td><td>[&apos;1597500181247&apos;]</td><td>0.008870080191489261</td><td>0.04</td><td>1597500181247</td></tr>\n",
       "<tr><td>21720</td><td>1.133446</td><td>67.80686586780557</td><td>-45.04968907693027</td><td>10.81999</td><td>1.5633166</td><td>11940608972</td><td>1.1316372</td><td>0.94121623</td><td>2358500191230</td><td>2358500191230</td><td>[&apos;2358500191230&apos;]</td><td>[&apos;2358500191230&apos;]</td><td>0.8824831649287685</td><td>0.1625</td><td>2358500191230</td></tr>\n",
       "<tr><td>84643</td><td>1.1440023</td><td>69.32447991359263</td><td>-44.58164957988367</td><td>5.1451397</td><td>1.4131594</td><td>12003349376</td><td>1.2002995</td><td>0.94542605</td><td>541200192247</td><td>541200192247</td><td>[&apos;541200192247&apos;, &apos;1786400192230&apos;]</td><td>[&apos;1786400192230&apos;, &apos;541200192247&apos;]</td><td>0.021015778213650433</td><td>0.037037037037037035</td><td>541200192247</td></tr>\n",
       "<tr><td>35682</td><td>0.47193053</td><td>69.5183602456607</td><td>-44.85610621353534</td><td>5.9383984</td><td>1.2630464</td><td>12000315335</td><td>0.47074133</td><td>0.89693886</td><td>696100192331</td><td>696100192331</td><td>[&apos;696100192331&apos;]</td><td>[&apos;696100192331&apos;]</td><td>0.017778697678850017</td><td>0.030303030303030304</td><td>696100192331</td></tr>\n",
       "<tr><td>54206</td><td>0.5012809</td><td>70.47296979578381</td><td>-44.81929434112701</td><td>5.2824345</td><td>1.234711</td><td>12000459039</td><td>0.50687563</td><td>0.85845697</td><td>958400192323</td><td>958400192323</td><td>[&apos;958400192323&apos;, &apos;943400192331&apos;]</td><td>[&apos;958400192323&apos;, &apos;943400192331&apos;]</td><td>0.7348789770590428</td><td>0.2727272727272727</td><td>958400192323</td></tr>\n",
       "<tr><td>29100</td><td>1.1359326</td><td>66.93469285125511</td><td>-45.3464905749836</td><td>5.3739643</td><td>1.7012949</td><td>11940894380</td><td>1.1941854</td><td>0.8403742</td><td>3554200191224</td><td>3554200191224</td><td>[&apos;3554200191224&apos;, &apos;3336200191235&apos;, &apos;3535600191224&apos;]</td><td>[&apos;3554200191224&apos;, &apos;3336200191235&apos;, &apos;3535600191224&apos;]</td><td>0.7996905046086651</td><td>0.1694915254237288</td><td>3554200191224</td></tr>\n",
       "<tr><td>97018</td><td>1.1348144</td><td>71.14867155851915</td><td>-45.04493556544232</td><td>7.5554256</td><td>1.5348982</td><td>12003351933</td><td>1.1928569</td><td>0.9071249</td><td>2509400192224</td><td>2509400192224</td><td>[&apos;2022200192235&apos;, &apos;2509400192224&apos;]</td><td>[&apos;2022200192235&apos;, &apos;2509400192224&apos;]</td><td>0.7451329708867663</td><td>0.09900990099009901</td><td>2509400192224</td></tr>\n",
       "<tr><td>97912</td><td>0.21152088</td><td>71.59288528630849</td><td>-44.833270342288635</td><td>5.007845</td><td>0.8978684</td><td>12000026207</td><td>0.20771948</td><td>0.7053878</td><td>314500192401</td><td>314500192401</td><td>[&apos;320200192382&apos;, &apos;451400192373&apos;, &apos;314500192401&apos;]</td><td>[&apos;451400192373&apos;, &apos;320200192382&apos;, &apos;314500192401&apos;]</td><td>0.47681663911539257</td><td>0.21428571428571427</td><td>314500192401</td></tr>\n",
       "<tr><td>37112</td><td>1.1475015</td><td>69.36171381510071</td><td>-44.138625691755685</td><td>5.3587093</td><td>1.4293212</td><td>11315864504</td><td>1.1517015</td><td>0.9720678</td><td>1958200181224</td><td>1958200181224</td><td>[&apos;1958200181224&apos;, &apos;2037700181253&apos;]</td><td>[&apos;1958200181224&apos;, &apos;2037700181253&apos;]</td><td>0.8709066517243511</td><td>0.19148936170212766</td><td>1958200181224</td></tr>\n",
       "<tr><td>74968</td><td>0.9184803</td><td>70.4738860743343</td><td>-44.583719372027936</td><td>5.1298847</td><td>1.5429279</td><td>12001980394</td><td>0.93659854</td><td>0.99953824</td><td>1860600192253</td><td>1860600192253</td><td>[&apos;3061600192253&apos;, &apos;1860600192253&apos;, &apos;904100192259&apos;]</td><td>[&apos;3061600192253&apos;, &apos;1860600192253&apos;, &apos;904100192259&apos;]</td><td>0.702194475807478</td><td>0.15555555555555556</td><td>1860600192253</td></tr>\n",
       "</table></div>"
      ],
      "text/plain": [
       "<clevar.catalog.catalog.ClCatalog at 0x7fc331443cd0>"
      ]
     },
     "execution_count": 28,
     "metadata": {},
     "output_type": "execute_result"
    }
   ],
   "source": [
    "RM_cat_bij"
   ]
  },
  {
   "cell_type": "code",
   "execution_count": 14,
   "id": "6d9348c3-e600-4fbd-bdfc-c4ae231ca2fb",
   "metadata": {},
   "outputs": [
    {
     "data": {
      "text/html": [
       "<b>RM_cat</b><br></b><b>tags:</b> id(id), z(z), ra(ra), dec(dec), mass(mass)<br><b>Radius unit:</b> None<br><div><i>ClData length=3</i>\n",
       "<table id=\"table140472973038096\" class=\"table-striped table-bordered table-condensed\">\n",
       "<thead><tr><th>id</th><th>z</th><th>ra</th><th>dec</th><th>mass</th><th>richness_err</th><th>id_cg</th><th>ztrue_cg</th><th>p_cg_0</th><th>mt_self</th><th>mt_other</th><th>mt_multi_self</th><th>mt_multi_other</th><th>mt_frac_self</th><th>mt_frac_other</th><th>mt_cross</th></tr></thead>\n",
       "<thead><tr><th>str11</th><th>float32</th><th>float64</th><th>float64</th><th>float32</th><th>float32</th><th>int64</th><th>float32</th><th>float32</th><th>object</th><th>object</th><th>object</th><th>object</th><th>float64</th><th>float64</th><th>object</th></tr></thead>\n",
       "<tr><td>36779</td><td>1.1018943</td><td>64.1539926876899</td><td>-26.163777500759423</td><td>6.060438</td><td>1.2709843</td><td>1565595908</td><td>1.1107318</td><td>0.9725479</td><td>None</td><td>1214300025241</td><td>[&apos;1214300025241&apos;, &apos;2454300025230&apos;]</td><td>[&apos;1214300025241&apos;, &apos;2454300025230&apos;]</td><td>0.0</td><td>1.0</td><td>None</td></tr>\n",
       "<tr><td>6679</td><td>0.8118417</td><td>75.23254893312459</td><td>-29.720579159016125</td><td>5.7248287</td><td>2.0537908</td><td>3751375740</td><td>0.8197346</td><td>0.8442593</td><td>None</td><td>2191200060272</td><td>[&apos;1817100060286&apos;, &apos;2191200060272&apos;, &apos;967300060266&apos;, &apos;2604000060272&apos;]</td><td>[&apos;967300060266&apos;, &apos;1817100060286&apos;, &apos;2191200060272&apos;, &apos;2604000060272&apos;]</td><td>0.0</td><td>0.16883116883116883</td><td>None</td></tr>\n",
       "<tr><td>35507</td><td>0.49879035</td><td>58.96389653258708</td><td>-38.01710915885276</td><td>5.663809</td><td>1.1600951</td><td>7875432615</td><td>0.500419</td><td>0.81199914</td><td>None</td><td>248900126338</td><td>[&apos;676200126323&apos;, &apos;248900126338&apos;]</td><td>[&apos;676200126323&apos;, &apos;248900126338&apos;]</td><td>0.0</td><td>0.047619047619047616</td><td>None</td></tr>\n",
       "</table></div>"
      ],
      "text/plain": [
       "<clevar.catalog.catalog.ClCatalog at 0x7fc0b4d6bd90>"
      ]
     },
     "execution_count": 14,
     "metadata": {},
     "output_type": "execute_result"
    }
   ],
   "source": [
    "RM_cat_bij_other, halo_cat_bij_other = get_matched_pairs(RM_cat, halo_cat, 'other')\n",
    "RM_cat_bij_cross, halo_cat_bij_cross = get_matched_pairs(RM_cat, halo_cat, 'cross')\n",
    "\n",
    "diff = np.isin(RM_cat_bij_other['id'], RM_cat_bij_cross['id'], invert=True)\n",
    "\n",
    "RM_cat_bij_other[diff]"
   ]
  },
  {
   "cell_type": "code",
   "execution_count": 13,
   "id": "9301333d-6708-4613-9143-88f18e1f5e18",
   "metadata": {},
   "outputs": [
    {
     "data": {
      "text/html": [
       "<b>RM_cat</b><br></b><b>tags:</b> id(id), z(z), ra(ra), dec(dec), mass(mass)<br><b>Radius unit:</b> None<br><div><i>ClData length=42917</i>\n",
       "<table id=\"table140473293156368\" class=\"table-striped table-bordered table-condensed\">\n",
       "<thead><tr><th>id</th><th>z</th><th>ra</th><th>dec</th><th>mass</th><th>richness_err</th><th>id_cg</th><th>ztrue_cg</th><th>p_cg_0</th><th>mt_self</th><th>mt_other</th><th>mt_multi_self</th><th>mt_multi_other</th><th>mt_frac_self</th><th>mt_frac_other</th><th>mt_cross</th></tr></thead>\n",
       "<thead><tr><th>str11</th><th>float32</th><th>float64</th><th>float64</th><th>float32</th><th>float32</th><th>int64</th><th>float32</th><th>float32</th><th>object</th><th>object</th><th>object</th><th>object</th><th>float64</th><th>float64</th><th>object</th></tr></thead>\n",
       "<tr><td>10</td><td>0.5135129</td><td>52.520436430812914</td><td>-25.717996124671657</td><td>190.70665</td><td>3.7469666</td><td>1312945563</td><td>0.51072353</td><td>0.79138356</td><td>1162500021323</td><td>1162500021323</td><td>[&apos;665600021315&apos;, &apos;1361100021315&apos;, &apos;205900021323&apos;, &apos;80500021323&apos;, &apos;711400021315&apos;, &apos;417800021323&apos;, &apos;1162500021323&apos;, &apos;922700021315&apos;]</td><td>[&apos;1361100021315&apos;, &apos;205900021323&apos;, &apos;80500021323&apos;, &apos;711400021315&apos;, &apos;417800021323&apos;, &apos;1162500021323&apos;, &apos;665600021315&apos;, &apos;922700021315&apos;]</td><td>0.4496726208984491</td><td>0.30094043887147337</td><td>1162500021323</td></tr>\n",
       "<tr><td>18</td><td>0.5712697</td><td>56.920376528125075</td><td>-27.20434071042304</td><td>179.12813</td><td>3.6934361</td><td>2000524808</td><td>0.5740297</td><td>0.99996513</td><td>549500032315</td><td>549500032315</td><td>[&apos;549500032315&apos;]</td><td>[&apos;549500032315&apos;]</td><td>0.9421648861882373</td><td>0.35064935064935066</td><td>549500032315</td></tr>\n",
       "<tr><td>24</td><td>1.040338</td><td>56.99849698116052</td><td>-26.7172081871169</td><td>124.02715</td><td>2.4172914</td><td>2002535198</td><td>1.0347759</td><td>0.93527913</td><td>2554900032241</td><td>2554900032241</td><td>[&apos;1212700032259&apos;, &apos;2554900032241&apos;, &apos;3011300032241&apos;]</td><td>[&apos;1212700032259&apos;, &apos;2554900032241&apos;, &apos;3011300032241&apos;]</td><td>0.9468829847683286</td><td>0.28444444444444444</td><td>2554900032241</td></tr>\n",
       "<tr><td>30</td><td>0.63518524</td><td>58.56362402841767</td><td>-27.429961828331713</td><td>167.33603</td><td>3.6777163</td><td>2000759779</td><td>0.6426174</td><td>0.9958548</td><td>1275900032300</td><td>1275900032300</td><td>[&apos;23400032300&apos;, &apos;6600032300&apos;, &apos;1275900032300&apos;]</td><td>[&apos;23400032300&apos;, &apos;6600032300&apos;, &apos;1275900032300&apos;]</td><td>0.9812835255072209</td><td>0.2767857142857143</td><td>1275900032300</td></tr>\n",
       "<tr><td>71</td><td>0.44230303</td><td>58.35519782866568</td><td>-26.867687128773035</td><td>111.9147</td><td>3.366554</td><td>2000289335</td><td>0.43919736</td><td>0.7297119</td><td>564000032338</td><td>564000032338</td><td>[&apos;359200032338&apos;, &apos;161400032338&apos;, &apos;731900032338&apos;, &apos;564000032338&apos;, &apos;778100032338&apos;, &apos;243000032347&apos;]</td><td>[&apos;359200032338&apos;, &apos;161400032338&apos;, &apos;731900032338&apos;, &apos;564000032338&apos;, &apos;778100032338&apos;, &apos;243000032347&apos;]</td><td>0.5346957617359577</td><td>0.2518518518518518</td><td>564000032338</td></tr>\n",
       "<tr><td>73</td><td>0.46697217</td><td>57.76575707007693</td><td>-28.119101936484828</td><td>104.439766</td><td>2.9570596</td><td>2000290819</td><td>0.4680865</td><td>0.99970347</td><td>459400032338</td><td>459400032338</td><td>[&apos;980800032331&apos;, &apos;2200032331&apos;, &apos;459400032338&apos;]</td><td>[&apos;980800032331&apos;, &apos;2200032331&apos;, &apos;459400032338&apos;]</td><td>0.9046435837281485</td><td>0.2780612244897959</td><td>459400032338</td></tr>\n",
       "<tr><td>109</td><td>0.4413634</td><td>58.509466974185045</td><td>-26.989676182075844</td><td>103.49396</td><td>3.3524604</td><td>2000286447</td><td>0.44349608</td><td>0.99999905</td><td>156700032338</td><td>156700032338</td><td>[&apos;156700032338&apos;, &apos;433200032355&apos;]</td><td>[&apos;156700032338&apos;, &apos;433200032355&apos;]</td><td>0.9589822433529834</td><td>0.28672985781990523</td><td>156700032338</td></tr>\n",
       "<tr><td>116</td><td>1.0629631</td><td>54.494027152041674</td><td>-27.896589555863095</td><td>76.85877</td><td>2.2175314</td><td>1940324795</td><td>1.0758829</td><td>0.6544826</td><td>3080200031235</td><td>3080200031235</td><td>[&apos;2468800031230&apos;, &apos;3080200031235&apos;]</td><td>[&apos;2468800031230&apos;, &apos;3080200031235&apos;]</td><td>0.9300718737691595</td><td>0.2791519434628975</td><td>3080200031235</td></tr>\n",
       "<tr><td>133</td><td>1.037697</td><td>58.137368555958155</td><td>-27.199784884537003</td><td>75.89771</td><td>2.26323</td><td>2002528355</td><td>1.0311339</td><td>0.991116</td><td>2067100032241</td><td>2067100032241</td><td>[&apos;1539400032241&apos;, &apos;2412900032235&apos;, &apos;2067100032241&apos;, &apos;1231200032230&apos;]</td><td>[&apos;1231200032230&apos;, &apos;1539400032241&apos;, &apos;2412900032235&apos;, &apos;2067100032241&apos;]</td><td>0.9547645155057961</td><td>0.29213483146067415</td><td>2067100032241</td></tr>\n",
       "<tr><td>...</td><td>...</td><td>...</td><td>...</td><td>...</td><td>...</td><td>...</td><td>...</td><td>...</td><td>...</td><td>...</td><td>...</td><td>...</td><td>...</td><td>...</td><td>...</td></tr>\n",
       "<tr><td>27511</td><td>1.1456813</td><td>69.22754543520179</td><td>-43.75642157983322</td><td>17.669474</td><td>2.6048646</td><td>11314668167</td><td>0.962661</td><td>0.8840111</td><td>1597500181247</td><td>1597500181247</td><td>[&apos;1597500181247&apos;]</td><td>[&apos;1597500181247&apos;]</td><td>0.008870080191489261</td><td>0.04</td><td>1597500181247</td></tr>\n",
       "<tr><td>21720</td><td>1.133446</td><td>67.80686586780557</td><td>-45.04968907693027</td><td>10.81999</td><td>1.5633166</td><td>11940608972</td><td>1.1316372</td><td>0.94121623</td><td>2358500191230</td><td>2358500191230</td><td>[&apos;2358500191230&apos;]</td><td>[&apos;2358500191230&apos;]</td><td>0.8824831649287685</td><td>0.1625</td><td>2358500191230</td></tr>\n",
       "<tr><td>84643</td><td>1.1440023</td><td>69.32447991359263</td><td>-44.58164957988367</td><td>5.1451397</td><td>1.4131594</td><td>12003349376</td><td>1.2002995</td><td>0.94542605</td><td>541200192247</td><td>541200192247</td><td>[&apos;541200192247&apos;, &apos;1786400192230&apos;]</td><td>[&apos;1786400192230&apos;, &apos;541200192247&apos;]</td><td>0.021015778213650433</td><td>0.037037037037037035</td><td>541200192247</td></tr>\n",
       "<tr><td>35682</td><td>0.47193053</td><td>69.5183602456607</td><td>-44.85610621353534</td><td>5.9383984</td><td>1.2630464</td><td>12000315335</td><td>0.47074133</td><td>0.89693886</td><td>696100192331</td><td>696100192331</td><td>[&apos;696100192331&apos;]</td><td>[&apos;696100192331&apos;]</td><td>0.017778697678850017</td><td>0.030303030303030304</td><td>696100192331</td></tr>\n",
       "<tr><td>54206</td><td>0.5012809</td><td>70.47296979578381</td><td>-44.81929434112701</td><td>5.2824345</td><td>1.234711</td><td>12000459039</td><td>0.50687563</td><td>0.85845697</td><td>958400192323</td><td>958400192323</td><td>[&apos;958400192323&apos;, &apos;943400192331&apos;]</td><td>[&apos;958400192323&apos;, &apos;943400192331&apos;]</td><td>0.7348789770590428</td><td>0.2727272727272727</td><td>958400192323</td></tr>\n",
       "<tr><td>29100</td><td>1.1359326</td><td>66.93469285125511</td><td>-45.3464905749836</td><td>5.3739643</td><td>1.7012949</td><td>11940894380</td><td>1.1941854</td><td>0.8403742</td><td>3554200191224</td><td>3554200191224</td><td>[&apos;3554200191224&apos;, &apos;3336200191235&apos;, &apos;3535600191224&apos;]</td><td>[&apos;3554200191224&apos;, &apos;3336200191235&apos;, &apos;3535600191224&apos;]</td><td>0.7996905046086651</td><td>0.1694915254237288</td><td>3554200191224</td></tr>\n",
       "<tr><td>97018</td><td>1.1348144</td><td>71.14867155851915</td><td>-45.04493556544232</td><td>7.5554256</td><td>1.5348982</td><td>12003351933</td><td>1.1928569</td><td>0.9071249</td><td>2509400192224</td><td>2509400192224</td><td>[&apos;2022200192235&apos;, &apos;2509400192224&apos;]</td><td>[&apos;2022200192235&apos;, &apos;2509400192224&apos;]</td><td>0.7451329708867663</td><td>0.09900990099009901</td><td>2509400192224</td></tr>\n",
       "<tr><td>97912</td><td>0.21152088</td><td>71.59288528630849</td><td>-44.833270342288635</td><td>5.007845</td><td>0.8978684</td><td>12000026207</td><td>0.20771948</td><td>0.7053878</td><td>314500192401</td><td>314500192401</td><td>[&apos;320200192382&apos;, &apos;451400192373&apos;, &apos;314500192401&apos;]</td><td>[&apos;451400192373&apos;, &apos;320200192382&apos;, &apos;314500192401&apos;]</td><td>0.47681663911539257</td><td>0.21428571428571427</td><td>314500192401</td></tr>\n",
       "<tr><td>37112</td><td>1.1475015</td><td>69.36171381510071</td><td>-44.138625691755685</td><td>5.3587093</td><td>1.4293212</td><td>11315864504</td><td>1.1517015</td><td>0.9720678</td><td>1958200181224</td><td>1958200181224</td><td>[&apos;1958200181224&apos;, &apos;2037700181253&apos;]</td><td>[&apos;1958200181224&apos;, &apos;2037700181253&apos;]</td><td>0.8709066517243511</td><td>0.19148936170212766</td><td>1958200181224</td></tr>\n",
       "<tr><td>74968</td><td>0.9184803</td><td>70.4738860743343</td><td>-44.583719372027936</td><td>5.1298847</td><td>1.5429279</td><td>12001980394</td><td>0.93659854</td><td>0.99953824</td><td>1860600192253</td><td>1860600192253</td><td>[&apos;3061600192253&apos;, &apos;1860600192253&apos;, &apos;904100192259&apos;]</td><td>[&apos;3061600192253&apos;, &apos;1860600192253&apos;, &apos;904100192259&apos;]</td><td>0.702194475807478</td><td>0.15555555555555556</td><td>1860600192253</td></tr>\n",
       "</table></div>"
      ],
      "text/plain": [
       "<clevar.catalog.catalog.ClCatalog at 0x7fc381d5d010>"
      ]
     },
     "execution_count": 13,
     "metadata": {},
     "output_type": "execute_result"
    }
   ],
   "source": [
    "RM_cat_bij"
   ]
  },
  {
   "cell_type": "code",
   "execution_count": 24,
   "id": "1314d9b1-6cda-4f4a-b597-da70bc0fa377",
   "metadata": {},
   "outputs": [],
   "source": [
    "mt_data3 = Table([RM_cat_bij['id'], halo_cat_bij['id'],halo_cat_bij['mass'], RM_cat_bij['mass'], RM_cat_bij['z']], names=('cluster_id', 'halo_id','mass', 'R', 'z'))\n",
    "# dt_halos = clusters_dt[np.logical_and(clusters_dt['redshift_true'] > 0.14, clusters_dt['redshift_true']< 0.33)]\n",
    "# dt_halos = dt_halos[dt_halos['richness'] > 20]\n",
    "# dt_halos = clusters_dt\n",
    "\n",
    "# mt_data3 = Table([halo_cat_bij['mass_fof'], halo_cat_bij['z'], halo_cat_bij['ra'], halo_cat_bij['dec'],\n",
    "#                   RM_cat_bij['richness'], RM_cat_bij['richness_err'], RM_cat_bij['z'], RM_cat_bij['ra'], RM_cat_bij['dec']], \n",
    "#                  names=('halo_mass', 'redshift', 'ra', 'dec', 'richness', 'richness_err', 'cluster_redshift', 'cluster_ra', 'cluster_dec'))\n",
    "\n",
    "mt_data3 = mt_data3.to_pandas()\n"
   ]
  },
  {
   "cell_type": "markdown",
   "id": "b88a9212-d60c-458f-9c6b-293bf8172671",
   "metadata": {},
   "source": [
    "## Completeness\n",
    "\n",
    "The **completeness** ($c(M, z)$) of a cluster catalog is defined as the fraction of true galaxy clusters correctly identified by the algorithm within a specific mass range ($M$)  and redshift ($z$). It is calculated as follows ([Aguena, Lima 2016](\n",
    "https://doi.org/10.48550/arXiv.1611.05468\n",
    ")):\n",
    "\n",
    "$$\n",
    "c(M, z) = \\frac{N_{\\text{mat}}(M, z)}{N_h(M, z)}\n",
    "$$\n",
    "\n",
    "Where:  \n",
    "$N_{\\text{mat}}(M, z)$ : Number of halos with mass ($M$) and redshift ($z$) that were correctly matched to clusters detected in the catalog.  \n",
    "$N_h(M, z)$: Total number of halos with mass ($M$) and redshift ($z$) present in the dataset."
   ]
  },
  {
   "cell_type": "code",
   "execution_count": 69,
   "id": "c4b172f3-effc-40c6-9d7e-ab9c5ed8b7f0",
   "metadata": {},
   "outputs": [],
   "source": [
    "def completeness(halos, clusters, bin_range = None, bins = None) :\n",
    "\n",
    "    hist_matches = np.histogram2d(clusters['z'], np.log10(clusters['mass']),range=bin_range, bins= bins)\n",
    "    N_matches = hist_matches[0]\n",
    "    # print(N_matches)\n",
    "    \n",
    "    hist_halos = np.histogram2d(halos[\"halo_redshift\"],np.log10(halos['halo_mass']),range=bin_range, bins= bins)\n",
    "    N_halos = hist_halos[0]\n",
    "    # print(N_halos)\n",
    "    \n",
    "    complet =  N_matches / N_halos \n",
    "           \n",
    "    return complet\n"
   ]
  },
  {
   "cell_type": "code",
   "execution_count": 70,
   "id": "6bfc8494-0556-478c-9189-36991ba9ad60",
   "metadata": {},
   "outputs": [
    {
     "name": "stderr",
     "output_type": "stream",
     "text": [
      "/tmp/ipykernel_1290923/3195316643.py:11: RuntimeWarning: invalid value encountered in divide\n",
      "  complet =  N_matches / N_halos\n"
     ]
    },
    {
     "data": {
      "image/png": "[encoded data removed]",
      "text/plain": [
       "<Figure size 640x480 with 2 Axes>"
      ]
     },
     "metadata": {},
     "output_type": "display_data"
    }
   ],
   "source": [
    "bin_range = [[0.0,1.2],[13.,16]]\n",
    "bins = [8,6]\n",
    "\n",
    "complet = completeness(halo_data, mdata, bin_range = bin_range, bins = bins) \n",
    "\n",
    "fig, ax = plt.subplots(1,1)\n",
    "\n",
    "hist2d = ax.imshow(complet.T,origin = 'lower',aspect='auto',extent = [bin_range[0][0],bin_range[0][1], \n",
    "                                                                  bin_range[1][0], bin_range[1][1]], vmin=0, vmax=1, cmap='viridis')\n",
    "fig.colorbar(hist2d , ax=ax)\n",
    "\n",
    "ax.set_xlabel('$z$')\n",
    "ax.set_ylabel('$log(M)$')\n",
    "\n",
    "ax.set_title('completeness (proximity)')\n",
    "\n",
    "plt.show()"
   ]
  },
  {
   "cell_type": "code",
   "execution_count": 71,
   "id": "348c318a-71bf-4fe2-9ab6-befc372b6251",
   "metadata": {},
   "outputs": [
    {
     "name": "stderr",
     "output_type": "stream",
     "text": [
      "/tmp/ipykernel_1290923/3195316643.py:11: RuntimeWarning: invalid value encountered in divide\n",
      "  complet =  N_matches / N_halos\n"
     ]
    },
    {
     "data": {
      "image/png": "[encoded data removed]",
      "text/plain": [
       "<Figure size 640x480 with 2 Axes>"
      ]
     },
     "metadata": {},
     "output_type": "display_data"
    }
   ],
   "source": [
    "bin_range = [[0.0,1.2],[13.,15.5]]\n",
    "bins = [10,10]\n",
    "\n",
    "complet = completeness(halo_data, mt_data3, bin_range = bin_range, bins = bins) \n",
    "\n",
    "fig, ax = plt.subplots(1,1)\n",
    "\n",
    "hist2d = ax.imshow(complet.T,origin = 'lower',aspect='auto',extent = [bin_range[0][0],bin_range[0][1], \n",
    "                                                                  bin_range[1][0], bin_range[1][1]], vmin=0, vmax=1, cmap='viridis')\n",
    "fig.colorbar(hist2d , ax=ax)\n",
    "\n",
    "ax.set_xlabel('$z$')\n",
    "ax.set_ylabel('$log(M)$')\n",
    "\n",
    "ax.set_title('completeness (Id) - Clevar')\n",
    "\n",
    "plt.show()"
   ]
  },
  {
   "cell_type": "code",
   "execution_count": 72,
   "id": "fd81db1e-05e3-4f88-ab56-c7dff1904c78",
   "metadata": {},
   "outputs": [
    {
     "name": "stderr",
     "output_type": "stream",
     "text": [
      "/tmp/ipykernel_1290923/3195316643.py:11: RuntimeWarning: invalid value encountered in divide\n",
      "  complet =  N_matches / N_halos\n"
     ]
    },
    {
     "data": {
      "image/png": "[encoded data removed]",
      "text/plain": [
       "<Figure size 640x480 with 2 Axes>"
      ]
     },
     "metadata": {},
     "output_type": "display_data"
    }
   ],
   "source": [
    "bin_range = [[0.0,1.2],[13.,15.5]]\n",
    "bins = [10,10]\n",
    "\n",
    "complet = completeness(halo_data, mt_data2, bin_range = bin_range, bins = bins) \n",
    "\n",
    "fig, ax = plt.subplots(1,1)\n",
    "\n",
    "hist2d = ax.imshow(complet.T,origin = 'lower',aspect='auto',extent = [bin_range[0][0],bin_range[0][1], \n",
    "                                                                  bin_range[1][0], bin_range[1][1]], vmin=0, vmax=1, cmap='viridis')\n",
    "fig.colorbar(hist2d , ax=ax)\n",
    "\n",
    "ax.set_xlabel('$z$')\n",
    "ax.set_ylabel('$log(M)$')\n",
    "\n",
    "ax.set_title('completeness (Id)')\n",
    "\n",
    "plt.show()"
   ]
  },
  {
   "cell_type": "markdown",
   "id": "4d3e61c4-1240-4c05-b2ea-71c3ce61eb17",
   "metadata": {},
   "source": [
    "## Purity\n",
    "\n",
    "**Purity** ( $ p(\\lambda, z)$ ) measures the fraction of detected clusters that correspond to true halos, serving as a metric to avoid false positives in the catalog. It is calculated as ([Aguena, Lima 2016](\n",
    "https://doi.org/10.48550/arXiv.1611.05468\n",
    ")):\n",
    "\n",
    "$$\n",
    "p(M, z) = \\frac{N_{\\text{mat}}(\\lambda, z)}{N_c(\\lambda, z)}\n",
    "$$\n",
    "\n",
    "Where:  \n",
    "$ N_{\\text{mat}}(\\lambda, z)$: Number of detected clusters that are correctly matched to true dark matter halos.  \n",
    "$ N_c(\\lambda, z) $: Total number of clusters detected by the algorithm within an observed richness range $\\lambda$ and  redshift $z$."
   ]
  },
  {
   "cell_type": "code",
   "execution_count": 73,
   "id": "c73c1ec4-0670-4912-ad68-99b504e793a4",
   "metadata": {},
   "outputs": [],
   "source": [
    "def purity(catalog_clusters, clusters, bin_range = None, bins = None) :\n",
    "\n",
    "    hist_matches = np.histogram2d(clusters['z'], np.log(clusters['R']),range=bin_range, bins= bins)\n",
    "    N_matches = hist_matches[0]\n",
    "    # print(N_matches)\n",
    "    \n",
    "    hist_c = np.histogram2d(catalog_clusters[\"cluster_redshift\"],np.log(catalog_clusters['richness']),range=bin_range, bins= bins)\n",
    "    N_c = hist_c[0]\n",
    "    # print(N_c)\n",
    "    \n",
    "    purit =  N_matches / N_c \n",
    "           \n",
    "    return purit\n"
   ]
  },
  {
   "cell_type": "code",
   "execution_count": 74,
   "id": "7a021bfb-2913-4b1e-83e2-6e524ba3071f",
   "metadata": {},
   "outputs": [
    {
     "name": "stderr",
     "output_type": "stream",
     "text": [
      "/tmp/ipykernel_1290923/805087121.py:11: RuntimeWarning: invalid value encountered in divide\n",
      "  purit =  N_matches / N_c\n"
     ]
    },
    {
     "data": {
      "image/png": "[encoded data removed]",
      "text/plain": [
       "<Figure size 640x480 with 2 Axes>"
      ]
     },
     "metadata": {},
     "output_type": "display_data"
    }
   ],
   "source": [
    "bin_range = [[0, 1.2],[1.5, 6.0]]\n",
    "bins = [9,9]\n",
    "\n",
    "pur = purity(cluster_data, mdata, bin_range = bin_range, bins = bins) \n",
    "\n",
    "fig, ax = plt.subplots(1,1)\n",
    "\n",
    "hist2d = ax.imshow(pur.T,origin = 'lower',aspect='auto',extent = [bin_range[0][0],bin_range[0][1], \n",
    "                                                                  bin_range[1][0], bin_range[1][1]], vmin=0, vmax=1, cmap='viridis')\n",
    "fig.colorbar(hist2d , ax=ax)\n",
    "\n",
    "ax.set_xlabel('$z$')\n",
    "ax.set_ylabel('$log(R)$')\n",
    "\n",
    "ax.set_title('purity (proximity)')\n",
    "\n",
    "plt.show()"
   ]
  },
  {
   "cell_type": "code",
   "execution_count": 75,
   "id": "cb9bac2b-6b1a-4fc6-ba19-d66dbfacc88d",
   "metadata": {},
   "outputs": [
    {
     "name": "stderr",
     "output_type": "stream",
     "text": [
      "/tmp/ipykernel_1290923/805087121.py:11: RuntimeWarning: invalid value encountered in divide\n",
      "  purit =  N_matches / N_c\n"
     ]
    },
    {
     "data": {
      "image/png": "[encoded data removed]",
      "text/plain": [
       "<Figure size 640x480 with 2 Axes>"
      ]
     },
     "metadata": {},
     "output_type": "display_data"
    }
   ],
   "source": [
    "bin_range = [[0, 1.2],[1.5, 6.0]]\n",
    "bins = [10,10]\n",
    "\n",
    "pur = purity(cluster_data, mt_data2, bin_range = bin_range, bins = bins) \n",
    "\n",
    "fig, ax = plt.subplots(1,1)\n",
    "\n",
    "hist2d = ax.imshow(pur.T,origin = 'lower',aspect='auto',extent = [bin_range[0][0],bin_range[0][1], \n",
    "                                                                  bin_range[1][0], bin_range[1][1]], vmin=0.82, vmax=1, cmap='viridis')\n",
    "fig.colorbar(hist2d , ax=ax)\n",
    "\n",
    "ax.set_xlabel('$z$')\n",
    "ax.set_ylabel('$log(R)$')\n",
    "\n",
    "ax.set_title('purity (Id)')\n",
    "\n",
    "plt.show()"
   ]
  },
  {
   "cell_type": "code",
   "execution_count": 55,
   "id": "8d9d341b-2a39-45f4-b826-8a67efe89ee2",
   "metadata": {},
   "outputs": [
    {
     "name": "stderr",
     "output_type": "stream",
     "text": [
      "/tmp/ipykernel_1290923/805087121.py:11: RuntimeWarning: invalid value encountered in divide\n",
      "  purit =  N_matches / N_c\n"
     ]
    },
    {
     "data": {
      "image/png": "[encoded data removed]",
      "text/plain": [
       "<Figure size 640x480 with 2 Axes>"
      ]
     },
     "metadata": {},
     "output_type": "display_data"
    }
   ],
   "source": [
    "bin_range = [[0, 1.2],[1.5, 6.0]]\n",
    "bins = [10,10]\n",
    "\n",
    "from matplotlib.colors import LogNorm\n",
    "\n",
    "pur = purity(cluster_data, mt_data3, bin_range = bin_range, bins = bins) \n",
    "\n",
    "fig, ax = plt.subplots(1,1)\n",
    "\n",
    "hist2d = ax.imshow(pur.T,origin = 'lower',aspect='auto',extent = [bin_range[0][0],bin_range[0][1], \n",
    "                                                                  bin_range[1][0], bin_range[1][1]], vmin=0.82, vmax=1, cmap='viridis')\n",
    "fig.colorbar(hist2d , ax=ax)\n",
    "\n",
    "ax.set_xlabel('$z$')\n",
    "ax.set_ylabel('$log(R)$')\n",
    "\n",
    "ax.set_title('purity (Id) - Clevar')\n",
    "\n",
    "plt.show()"
   ]
  },
  {
   "cell_type": "code",
   "execution_count": null,
   "id": "5f02b75f-f359-4dd1-97a4-b9f0dc4c2609",
   "metadata": {},
   "outputs": [],
   "source": []
  },
  {
   "cell_type": "code",
   "execution_count": 56,
   "id": "815db32a-e1d5-4a78-ba41-e43e638ba29f",
   "metadata": {},
   "outputs": [
    {
     "data": {
      "text/html": [
       "<div><i>Table length=25</i>\n",
       "<table id=\"table140261081269968\" class=\"table-striped table-bordered table-condensed\">\n",
       "<thead><tr><th>cluster_id</th><th>halo_id</th><th>halo_redshift</th><th>cluster_ra</th><th>cluster_dec</th><th>richness</th><th>richness_err</th><th>halo_mass</th><th>redshift</th><th>cluster_redshift</th><th>cluster_redshift_err</th></tr></thead>\n",
       "<thead><tr><th>int64</th><th>int64</th><th>float64</th><th>float64</th><th>float64</th><th>float32</th><th>float32</th><th>float64</th><th>float64</th><th>float32</th><th>float32</th></tr></thead>\n",
       "<tr><td>360</td><td>1810500026224</td><td>1.1545501998902412</td><td>68.05730522606055</td><td>-26.32801978663107</td><td>59.31555</td><td>2.2767918</td><td>187164140558422.53</td><td>1.1545501998902412</td><td>1.1314876</td><td>0.0035982751</td></tr>\n",
       "<tr><td>460</td><td>1886700030230</td><td>1.1571031464971346</td><td>52.015938509303254</td><td>-28.05278780383607</td><td>50.894806</td><td>2.134983</td><td>107547980179830.98</td><td>1.1571031464971346</td><td>1.1318549</td><td>0.003973647</td></tr>\n",
       "<tr><td>696</td><td>2990100077224</td><td>1.1632103863359635</td><td>49.00157024980271</td><td>-31.76930891993833</td><td>61.878387</td><td>2.73021</td><td>211846969776676.06</td><td>1.1632103863359635</td><td>1.1328292</td><td>0.0033179373</td></tr>\n",
       "<tr><td>995</td><td>3214700092230</td><td>1.1369453262710527</td><td>51.45804576871438</td><td>-33.84026348665239</td><td>46.898003</td><td>2.8389993</td><td>255533186148957.75</td><td>1.1369453262710527</td><td>1.1325066</td><td>0.0085057905</td></tr>\n",
       "<tr><td>979</td><td>2343100092224</td><td>1.174033524449844</td><td>51.158666528914495</td><td>-34.200424385217964</td><td>40.490913</td><td>2.2930572</td><td>98274421295594.38</td><td>1.174033524449844</td><td>1.1330091</td><td>0.004247245</td></tr>\n",
       "<tr><td>480</td><td>1924500069230</td><td>1.1153124570539537</td><td>63.897843647928816</td><td>-30.85106289918204</td><td>49.506607</td><td>2.0113895</td><td>132571315993239.44</td><td>1.1153124570539537</td><td>1.1325246</td><td>0.00542803</td></tr>\n",
       "<tr><td>429</td><td>506600071230</td><td>1.1373506511575204</td><td>69.8429539229386</td><td>-31.391579515110415</td><td>52.92372</td><td>2.3798506</td><td>192957951250028.2</td><td>1.1373506511575204</td><td>1.1294616</td><td>0.007868702</td></tr>\n",
       "<tr><td>395</td><td>1918100125230</td><td>1.147433989246974</td><td>55.926306205931716</td><td>-37.93799300397122</td><td>55.303497</td><td>2.3469532</td><td>194985395099042.25</td><td>1.147433989246974</td><td>1.1321709</td><td>0.003447287</td></tr>\n",
       "<tr><td>691</td><td>2466500123235</td><td>1.1007810669218094</td><td>50.95949804449071</td><td>-36.02843006275398</td><td>46.303062</td><td>2.4472985</td><td>578135916174783.1</td><td>1.1007810669218094</td><td>1.100632</td><td>0.010546984</td></tr>\n",
       "<tr><td>...</td><td>...</td><td>...</td><td>...</td><td>...</td><td>...</td><td>...</td><td>...</td><td>...</td><td>...</td><td>...</td></tr>\n",
       "<tr><td>5025</td><td>3727500144224</td><td>1.1868639016760856</td><td>68.5480150470874</td><td>-39.61195776727645</td><td>43.618187</td><td>2.305473</td><td>185170487440225.38</td><td>1.1868639016760856</td><td>1.1385366</td><td>0.0050492585</td></tr>\n",
       "<tr><td>2527</td><td>2254400137224</td><td>1.1741916484225778</td><td>48.86485760587627</td><td>-38.543940036179144</td><td>63.388634</td><td>3.3445954</td><td>304599926582084.5</td><td>1.1741916484225778</td><td>1.1330938</td><td>0.0035878546</td></tr>\n",
       "<tr><td>217</td><td>537000190230</td><td>1.1265709352381017</td><td>64.59032266665602</td><td>-44.26345397434329</td><td>65.87519</td><td>3.098419</td><td>133184747721915.5</td><td>1.1265709352381017</td><td>1.1316854</td><td>0.0042419033</td></tr>\n",
       "<tr><td>758</td><td>528300190230</td><td>1.1428349420486685</td><td>65.15387753473284</td><td>-44.534084210051255</td><td>40.734993</td><td>2.2313244</td><td>127856209400788.73</td><td>1.1428349420486685</td><td>1.1289263</td><td>0.0064308187</td></tr>\n",
       "<tr><td>378</td><td>3255600172224</td><td>1.1549720541381765</td><td>74.98875680949865</td><td>-42.39509961122872</td><td>54.61702</td><td>2.3018594</td><td>216944171556056.34</td><td>1.1549720541381765</td><td>1.1318829</td><td>0.003072931</td></tr>\n",
       "<tr><td>439</td><td>4165200172224</td><td>1.1592902368075895</td><td>74.52190595990366</td><td>-41.72324526142361</td><td>52.755913</td><td>2.2001605</td><td>187463058561802.8</td><td>1.1592902368075895</td><td>1.1340373</td><td>0.004450026</td></tr>\n",
       "<tr><td>686</td><td>1808000172235</td><td>1.0724090151746752</td><td>74.4523160758134</td><td>-42.64030588317502</td><td>41.32994</td><td>2.7255123</td><td>47004486814647.89</td><td>1.0724090151746752</td><td>1.1316094</td><td>0.0044457447</td></tr>\n",
       "<tr><td>965</td><td>2466800131235</td><td>1.0956217374196018</td><td>73.24174338348773</td><td>-36.41735650757543</td><td>41.009583</td><td>2.5563817</td><td>277767487026478.88</td><td>1.0956217374196018</td><td>1.1027833</td><td>0.0108389575</td></tr>\n",
       "<tr><td>1059</td><td>2489100159235</td><td>1.0939518594115878</td><td>71.9716327302191</td><td>-40.353707357080204</td><td>57.881584</td><td>3.163651</td><td>11978209297307.043</td><td>1.0939518594115878</td><td>1.14877</td><td>0.0046066497</td></tr>\n",
       "<tr><td>855</td><td>1580900188230</td><td>1.1399272322224183</td><td>58.806183601791425</td><td>-44.82349944045213</td><td>54.12886</td><td>3.3261666</td><td>312304213208338.06</td><td>1.1399272322224183</td><td>1.1311173</td><td>0.0071953987</td></tr>\n",
       "</table></div>"
      ],
      "text/plain": [
       "<Table length=25>\n",
       "cluster_id    halo_id    ... cluster_redshift cluster_redshift_err\n",
       "  int64        int64     ...     float32            float32       \n",
       "---------- ------------- ... ---------------- --------------------\n",
       "       360 1810500026224 ...        1.1314876         0.0035982751\n",
       "       460 1886700030230 ...        1.1318549          0.003973647\n",
       "       696 2990100077224 ...        1.1328292         0.0033179373\n",
       "       995 3214700092230 ...        1.1325066         0.0085057905\n",
       "       979 2343100092224 ...        1.1330091          0.004247245\n",
       "       480 1924500069230 ...        1.1325246           0.00542803\n",
       "       429  506600071230 ...        1.1294616          0.007868702\n",
       "       395 1918100125230 ...        1.1321709          0.003447287\n",
       "       691 2466500123235 ...         1.100632          0.010546984\n",
       "       ...           ... ...              ...                  ...\n",
       "      5025 3727500144224 ...        1.1385366         0.0050492585\n",
       "      2527 2254400137224 ...        1.1330938         0.0035878546\n",
       "       217  537000190230 ...        1.1316854         0.0042419033\n",
       "       758  528300190230 ...        1.1289263         0.0064308187\n",
       "       378 3255600172224 ...        1.1318829          0.003072931\n",
       "       439 4165200172224 ...        1.1340373          0.004450026\n",
       "       686 1808000172235 ...        1.1316094         0.0044457447\n",
       "       965 2466800131235 ...        1.1027833         0.0108389575\n",
       "      1059 2489100159235 ...          1.14877         0.0046066497\n",
       "       855 1580900188230 ...        1.1311173         0.0071953987"
      ]
     },
     "execution_count": 56,
     "metadata": {},
     "output_type": "execute_result"
    }
   ],
   "source": [
    "test_id = test_matchdata[np.logical_and(np.log(test_matchdata['richness']) > 3.7 , np.log(test_matchdata['richness']) < 4.2 )]\n",
    "\n",
    "test_id = test_id[np.logical_and(test_id['cluster_redshift'] > 1.1 , test_id['cluster_redshift'] < 1.2 )]\n",
    "\n",
    "test_id"
   ]
  },
  {
   "cell_type": "code",
   "execution_count": 57,
   "id": "270258b5-4fbb-4329-9625-395869e7629f",
   "metadata": {},
   "outputs": [],
   "source": [
    "test_clevar = mt_data3[np.logical_and(np.log(mt_data3['R']) > 3.7 , np.log(mt_data3['R']) < 4.2 )]\n",
    "\n",
    "test_clevar = test_clevar[np.logical_and(test_clevar['z'] > 1.1 , test_clevar['z'] < 1.2 )]\n",
    "\n",
    "# test_clevar"
   ]
  },
  {
   "cell_type": "code",
   "execution_count": 58,
   "id": "bd72f73f-cbc9-49eb-8224-310f232614a5",
   "metadata": {},
   "outputs": [],
   "source": [
    "# set(test_clevar['halo_id']) - set(test_id['halo_id'])"
   ]
  },
  {
   "cell_type": "code",
   "execution_count": 59,
   "id": "31d7608c-24c3-4672-aada-b7e3e7ecde28",
   "metadata": {},
   "outputs": [
    {
     "data": {
      "text/plain": [
       "{2197}"
      ]
     },
     "execution_count": 59,
     "metadata": {},
     "output_type": "execute_result"
    }
   ],
   "source": [
    "{int(a) for a in test_clevar['cluster_id']} - {int(a) for a in test_id['cluster_id']}\n",
    "\n",
    "\n",
    "# set(test_clevar['cluster_id']) set(test_id['cluster_id'])\n",
    "\n",
    "\n",
    "# diference = list(map(int, list(set(test_clevar['cluster_id']) - set(test_id['cluster_id']))))\n",
    "# len(diference)"
   ]
  },
  {
   "cell_type": "code",
   "execution_count": 60,
   "id": "c3a8c8eb-76a8-4507-89b0-f3d259b0d33b",
   "metadata": {},
   "outputs": [
    {
     "data": {
      "text/html": [
       "<div><i>Table length=0</i>\n",
       "<table id=\"table140270972944528\" class=\"table-striped table-bordered table-condensed\">\n",
       "<thead><tr><th>cluster_id</th><th>halo_id</th><th>mass</th><th>R</th><th>z</th></tr></thead>\n",
       "<thead><tr><th>str11</th><th>str21</th><th>float64</th><th>float32</th><th>float32</th></tr></thead>\n",
       "</table></div>"
      ],
      "text/plain": [
       "<Table length=0>\n",
       "cluster_id halo_id   mass     R       z   \n",
       "  str11     str21  float64 float32 float32\n",
       "---------- ------- ------- ------- -------"
      ]
     },
     "execution_count": 60,
     "metadata": {},
     "output_type": "execute_result"
    }
   ],
   "source": [
    "test_clevar[test_clevar['cluster_id'] == '1736']"
   ]
  },
  {
   "cell_type": "code",
   "execution_count": 61,
   "id": "eeb14084-6249-4c62-a68e-25e94efb9969",
   "metadata": {},
   "outputs": [
    {
     "data": {
      "text/html": [
       "<div><i>Table length=1</i>\n",
       "<table id=\"table140261081393744\" class=\"table-striped table-bordered table-condensed\">\n",
       "<thead><tr><th>ra_cen_1</th><th>ra_cen_3</th><th>ra_cen_0</th><th>id_cen_1</th><th>cluster_id</th><th>p_cen_2</th><th>id_cen_0</th><th>cluster_ra</th><th>cluster_redshift</th><th>richness_err</th><th>p_cen_0</th><th>id_cen_2</th><th>cluster_dec</th><th>p_cen_1</th><th>cluster_redshift_err</th><th>dec_cen_2</th><th>ra_cen_4</th><th>dec_cen_0</th><th>dec_cen_3</th><th>richness</th><th>dec_cen_1</th><th>maskfrac</th><th>id_cen_3</th><th>id_cen_4</th><th>ra_cen_2</th><th>p_cen_3</th><th>scaleval</th><th>p_cen_4</th><th>redshift_true_cg</th><th>dec_cen_4</th></tr></thead>\n",
       "<thead><tr><th>float64</th><th>float64</th><th>float64</th><th>int64</th><th>int32</th><th>float32</th><th>int64</th><th>float64</th><th>float32</th><th>float32</th><th>float32</th><th>int64</th><th>float64</th><th>float32</th><th>float32</th><th>float64</th><th>float64</th><th>float64</th><th>float64</th><th>float32</th><th>float64</th><th>float32</th><th>int64</th><th>int64</th><th>float64</th><th>float32</th><th>float32</th><th>float32</th><th>float32</th><th>float64</th></tr></thead>\n",
       "<tr><td>53.23105480732438</td><td>53.23456150592032</td><td>53.233116382090074</td><td>11003719413</td><td>1736</td><td>1.0715993e-09</td><td>11003719405</td><td>53.233116382090074</td><td>1.1480688</td><td>2.8512337</td><td>0.9999999</td><td>11003719439</td><td>-43.88434311004422</td><td>1.1447624e-07</td><td>0.0052446635</td><td>-43.88389218600875</td><td>-400.0</td><td>-43.88434311004422</td><td>-43.87646781904724</td><td>46.287804</td><td>-43.884596224123065</td><td>0.0</td><td>11003719530</td><td>11000445129</td><td>53.23502070355236</td><td>7.705469e-11</td><td>1.0000631</td><td>0.0</td><td>1.2099386</td><td>-400.0</td></tr>\n",
       "</table></div>"
      ],
      "text/plain": [
       "<Table length=1>\n",
       "     ra_cen_1          ra_cen_3     ... redshift_true_cg dec_cen_4\n",
       "     float64           float64      ...     float32       float64 \n",
       "----------------- ----------------- ... ---------------- ---------\n",
       "53.23105480732438 53.23456150592032 ...        1.2099386    -400.0"
      ]
     },
     "execution_count": 61,
     "metadata": {},
     "output_type": "execute_result"
    }
   ],
   "source": [
    "cluster_data[cluster_data['cluster_id'] == 1736]"
   ]
  },
  {
   "cell_type": "code",
   "execution_count": null,
   "id": "11ac9dab-f495-4441-8023-5aee154998a0",
   "metadata": {},
   "outputs": [],
   "source": []
  },
  {
   "cell_type": "code",
   "execution_count": 29,
   "id": "992bedf4-d3e1-43d0-a375-25ac5ae7dc55",
   "metadata": {},
   "outputs": [
    {
     "data": {
      "text/html": [
       "<div><i>Table length=0</i>\n",
       "<table id=\"table140270997937488\" class=\"table-striped table-bordered table-condensed\">\n",
       "<thead><tr><th>cluster_id</th><th>halo_id</th><th>halo_redshift</th><th>cluster_ra</th><th>cluster_dec</th><th>richness</th><th>richness_err</th><th>halo_mass</th><th>redshift</th><th>cluster_redshift</th><th>cluster_redshift_err</th></tr></thead>\n",
       "<thead><tr><th>float64</th><th>float64</th><th>float64</th><th>float64</th><th>float64</th><th>float32</th><th>float32</th><th>float64</th><th>float64</th><th>float32</th><th>float32</th></tr></thead>\n",
       "</table></div>"
      ],
      "text/plain": [
       "<Table length=0>\n",
       "cluster_id halo_id halo_redshift ... cluster_redshift cluster_redshift_err\n",
       " float64   float64    float64    ...     float32            float32       \n",
       "---------- ------- ------------- ... ---------------- --------------------"
      ]
     },
     "execution_count": 29,
     "metadata": {},
     "output_type": "execute_result"
    }
   ],
   "source": [
    "test_id[test_id['halo_id'] == '3696200176219']"
   ]
  },
  {
   "cell_type": "code",
   "execution_count": 30,
   "id": "6e1fae61-b7c7-40dd-92ac-5a6e010a5c8b",
   "metadata": {},
   "outputs": [],
   "source": [
    "# test_clevar[test_clevar['cluster_id'].isin(diference)]"
   ]
  },
  {
   "cell_type": "code",
   "execution_count": 31,
   "id": "0b9c88ed-9081-42cb-a0e2-8dc757ba3cdf",
   "metadata": {},
   "outputs": [],
   "source": [
    "# # Use np.isin() to create a boolean mask\n",
    "# mask = np.isin(test_clevar['cluster_id'], diference)\n",
    "\n",
    "# # Apply the mask to the table\n",
    "# filtered_table = test_clevar[mask]"
   ]
  },
  {
   "cell_type": "code",
   "execution_count": 32,
   "id": "a9b35aa8-829c-429d-bcf3-6af0a6874756",
   "metadata": {},
   "outputs": [],
   "source": [
    "# filtered_table"
   ]
  },
  {
   "cell_type": "code",
   "execution_count": 33,
   "id": "3a83ef23-12fd-4ecc-9b00-45cea39647cc",
   "metadata": {},
   "outputs": [],
   "source": [
    "# test_clevar['cluster_id']"
   ]
  },
  {
   "cell_type": "code",
   "execution_count": 34,
   "id": "116f2506-8368-4336-8908-be1ba6d43f99",
   "metadata": {},
   "outputs": [
    {
     "ename": "SyntaxError",
     "evalue": "incomplete input (106048834.py, line 1)",
     "output_type": "error",
     "traceback": [
      "\u001b[0;36m  Cell \u001b[0;32mIn[34], line 1\u001b[0;36m\u001b[0m\n\u001b[0;31m    cluster_data = Table.read(\u001b[0m\n\u001b[0m                              ^\u001b[0m\n\u001b[0;31mSyntaxError\u001b[0m\u001b[0;31m:\u001b[0m incomplete input\n"
     ]
    }
   ],
   "source": [
    "cluster_data = Table.read("
   ]
  },
  {
   "cell_type": "code",
   "execution_count": null,
   "id": "2f1180d5-7cd7-473b-8739-1b5f157937d4",
   "metadata": {},
   "outputs": [],
   "source": []
  },
  {
   "cell_type": "code",
   "execution_count": null,
   "id": "dfda1c55-9ef1-4f8d-8d6c-fd5e790ce4aa",
   "metadata": {},
   "outputs": [],
   "source": []
  },
  {
   "cell_type": "code",
   "execution_count": null,
   "id": "874f6a40-7a51-4814-8436-0e320588f1aa",
   "metadata": {},
   "outputs": [],
   "source": []
  }
 ],
 "metadata": {
  "kernelspec": {
   "display_name": "numcosmo",
   "language": "python",
   "name": "numcosmo"
  },
  "language_info": {
   "codemirror_mode": {
    "name": "ipython",
    "version": 3
   },
   "file_extension": ".py",
   "mimetype": "text/x-python",
   "name": "python",
   "nbconvert_exporter": "python",
   "pygments_lexer": "ipython3",
   "version": "3.11.11"
  }
 },
 "nbformat": 4,
 "nbformat_minor": 5
}
