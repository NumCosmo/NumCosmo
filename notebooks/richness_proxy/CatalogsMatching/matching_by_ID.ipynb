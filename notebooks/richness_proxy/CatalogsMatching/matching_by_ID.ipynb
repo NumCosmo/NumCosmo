{
 "cells": [
  {
   "cell_type": "markdown",
   "id": "8f2398f3-40ca-4785-8ed5-b1944513a629",
   "metadata": {
    "tags": []
   },
   "source": [
    "#  Matching Catalogs by Members ID\n",
    "\n",
    "---\n",
    "**License**\n",
    "\n",
    " Matching Catalogs by Members ID\n",
    "\n",
    " Tue Aug 24 10:30:00 2021\\\n",
    " Copyright  2021\\\n",
    " Cinthia Nunes de Lima <cinthia.n.lima@uel.br> \\ Sandro Dias Pinto Vitenti <vitenti@uel.br>\n",
    "\n",
    "---\n",
    "---\n",
    "\n",
    " Ascaso_Extended_cDC2_RM_Test\\\n",
    " Copyright (C) 2021 Cinthia Nunes de Lima <cinthia.n.lima@uel.br>, Sandro Dias Pinto Vitenti <vitenti@uel.br>\n",
    "\n",
    " numcosmo is free software: you can redistribute it and/or modify it\n",
    " under the terms of the GNU General Public License as published by the\n",
    " Free Software Foundation, either version 3 of the License, or\n",
    " (at your option) any later version.\n",
    "\n",
    " numcosmo is distributed in the hope that it will be useful, but\n",
    " WITHOUT ANY WARRANTY; without even the implied warranty of\n",
    " MERCHANTABILITY or FITNESS FOR A PARTICULAR PURPOSE.\n",
    " See the GNU General Public License for more details.\n",
    "\n",
    " You should have received a copy of the GNU General Public License along\n",
    " with this program.  If not, see <http://www.gnu.org/licenses/>.\n",
    " \n",
    "---"
   ]
  },
  {
   "cell_type": "markdown",
   "id": "8a25e5a3-c1ac-4ae2-8526-221ba6439909",
   "metadata": {},
   "source": [
    "## Libraries & Configs"
   ]
  },
  {
   "cell_type": "code",
   "execution_count": 1,
   "id": "42d55c92-1e3e-44af-8aa5-6baaf3b88c4e",
   "metadata": {
    "tags": []
   },
   "outputs": [
    {
     "name": "stdout",
     "output_type": "stream",
     "text": [
      "GCRCatalogs = 1.9.0 | GCR = 0.9.2\n",
      "Numpy = 1.26.4\n"
     ]
    }
   ],
   "source": [
    "import math\n",
    "import sys\n",
    "\n",
    "import os\n",
    "import numpy as np\n",
    "import matplotlib.pyplot as plt\n",
    "\n",
    "from astropy.io import fits\n",
    "from astropy.table import Table\n",
    "import pandas as pd\n",
    "\n",
    "sys.path.insert(0, \"/global/homes/c/cinlima/gcrcatalogs-new/gcr-catalogs\")\n",
    "sys.path.insert(0, \"/global/homes/c/cinlima/\")\n",
    "sys.path.insert(0, \"/global/homes/c/cinlima/NumCosmo/notebooks/richness_proxy/MachingCatalogs\")\n",
    "\n",
    "\n",
    "import GCRCatalogs\n",
    "#Put nersc if using nersc\n",
    "GCRCatalogs.set_root_dir_by_site(\"nersc\")\n",
    "\n",
    "print('GCRCatalogs =', GCRCatalogs.__version__, '|' ,'GCR =', GCRCatalogs.GCR.__version__)\n",
    "\n",
    "\n",
    "from numcosmo_py import Nc, Ncm\n",
    "\n",
    "from match_id import MatchID as MID\n",
    "\n",
    "import time\n",
    "\n",
    "# GCRCatalogs.get_available_catalog_names()\n",
    "print('Numpy =', np.__version__)"
   ]
  },
  {
   "cell_type": "markdown",
   "id": "0c49458e-0259-4166-92be-6850d9cd9746",
   "metadata": {},
   "source": [
    "## Catalogs"
   ]
  },
  {
   "cell_type": "code",
   "execution_count": 24,
   "id": "0891fc00-6989-46c6-8231-029cd60a2d94",
   "metadata": {
    "tags": []
   },
   "outputs": [
    {
     "data": {
      "text/plain": [
       "{'subclass_name': 'redmapper.RedmapperCatalog',\n",
       " 'catalog_root_dir': '/global/cfs/cdirs/lsst/shared/xgal/cosmoDC2/addons/redmapper_v1.1.4',\n",
       " 'catalog_path_template': {'clusters': 'cosmoDC2_v1.1.4_mag_run_redmapper_v0.8.1_lgt05_catalog.fit',\n",
       "  'members': 'cosmoDC2_v1.1.4_mag_run_redmapper_v0.8.1_lgt05_catalog_members.fit'},\n",
       " 'sky_area': 439.78987,\n",
       " 'cosmology': {'H0': 71.0,\n",
       "  'Om0': 0.2648,\n",
       "  'Ob0': 0.0448,\n",
       "  'sigma8': 0.8,\n",
       "  'n_s': 0.963},\n",
       " 'creators': ['Eli Rykoff'],\n",
       " 'description': 'Cluster and member catalogs computed from the redMaPPer cluster finder\\n(v0.8.1) run on cosmoDC2 v1.1.4.  Richness selection is lambda > 5 to\\nfacilitate matching with catalogs run on run2.2i DR6.\\n',\n",
       " 'include_in_default_catalog_list': True}"
      ]
     },
     "execution_count": 24,
     "metadata": {},
     "output_type": "execute_result"
    }
   ],
   "source": [
    "#Cosmo DC2\n",
    "cosmodc2= GCRCatalogs.load_catalog('cosmoDC2_v1.1.4_image')\n",
    "\n",
    "#Cosmo DC2 + RedMaPPer\n",
    "catalog_dc2_redmapper = GCRCatalogs.load_catalog('cosmoDC2_v1.1.4_redmapper_v0.8.1')\n",
    "\n",
    "catalog_dc2_redmapper.get_catalog_info()"
   ]
  },
  {
   "cell_type": "code",
   "execution_count": 3,
   "id": "8ea889da-c613-4806-845e-a233bff76759",
   "metadata": {
    "tags": []
   },
   "outputs": [],
   "source": [
    "# Restrictions on richness, mass and redshift\n",
    "# min_richness = 0\n",
    "# min_halo_mass = 1e13 #Msun\n",
    "# redshift_max = 1.2\n",
    "\n",
    "# #cDC2 + RM data\n",
    "# quantities = catalog_dc2_redmapper.list_all_quantities()\n",
    "# cluster_quantities = [q for q in quantities if 'member' not in q]\n",
    "# member_quantities = [q for q in quantities if 'member' in q]\n",
    "    \n",
    "# query = GCRCatalogs.GCRQuery('(richness > ' + str(min_richness) +')')\n",
    "# cluster_data = Table(catalog_dc2_redmapper.get_quantities(cluster_quantities, [query])) # cDC2 + RM cluster data\n",
    "# member_data = Table(catalog_dc2_redmapper.get_quantities(member_quantities)) # cDC2 + RM member data\n",
    "\n",
    "# #cDC2 data\n",
    "# quantities_wanted = ['redshift','halo_mass','halo_id','galaxy_id','ra','dec', 'is_central']\n",
    "# query = GCRCatalogs.GCRQuery('(halo_mass > ' + str(min_halo_mass) +') & (redshift < ' + str(redshift_max) +') & (is_central < ' + str(redshift_max) +') ')\n",
    "# truth_data = Table(cosmodc2.get_quantities(quantities_wanted, [query]))\n",
    "\n",
    "cluster_data = Table.read('cluster_data.fits')\n",
    "member_data = Table.read('member_data.fits')\n",
    "truth_data = Table.read('truth_data.fits')\n",
    "\n"
   ]
  },
  {
   "cell_type": "code",
   "execution_count": 22,
   "id": "e7305c78-5323-4cf6-ae07-d44598a461f4",
   "metadata": {},
   "outputs": [
    {
     "data": {
      "text/plain": [
       "1.1499926"
      ]
     },
     "execution_count": 22,
     "metadata": {},
     "output_type": "execute_result"
    }
   ],
   "source": [
    "max(cluster_data['cluster_redshift'])"
   ]
  },
  {
   "cell_type": "code",
   "execution_count": 4,
   "id": "543539aa-d02b-4fef-b6f4-9b2f470eeed8",
   "metadata": {},
   "outputs": [],
   "source": [
    "# member_data.write('member_data.fits')"
   ]
  },
  {
   "cell_type": "code",
   "execution_count": null,
   "id": "11a5ce18-2639-4a8c-a68f-f192982d268d",
   "metadata": {
    "tags": []
   },
   "outputs": [],
   "source": [
    "# truth_data[truth_data['is_central'] == True]\n",
    "\n",
    "# cluster_data.to_pandas().head()\n",
    "\n",
    "# type(member_data)\n",
    "\n",
    "# cluster_data.rename_column('ra', 'cluster_ra')\n",
    "# cluster_data.rename_column('dec', 'cluster_dec')\n",
    "# cluster_data.rename_column('redshift', 'cluster_redshift')\n",
    "# cluster_data.rename_column('redshift_err', 'cluster_redshift_err')"
   ]
  },
  {
   "cell_type": "markdown",
   "id": "d9d56baa-8905-4c42-9727-3163927e4594",
   "metadata": {
    "tags": []
   },
   "source": [
    "## cDC2 and cDC2 + RM Catalogs Match"
   ]
  },
  {
   "cell_type": "code",
   "execution_count": 5,
   "id": "34e1726a-4eda-42c7-a7e2-040adbf50fd4",
   "metadata": {
    "scrolled": true
   },
   "outputs": [
    {
     "name": "stdout",
     "output_type": "stream",
     "text": [
      "Tempo de execução: 0.503min\n"
     ]
    }
   ],
   "source": [
    "inicio = time.time()\n",
    "\n",
    "mid = MID(member_data, cluster_data, truth_data)\n",
    "matchdf = mid.unique_id_match(distance=False)\n",
    "fim = time.time()\n",
    "tempo_total = fim - inicio\n",
    "\n",
    "print(f\"Tempo de execução: {tempo_total/60:.3}min\")"
   ]
  },
  {
   "cell_type": "code",
   "execution_count": 6,
   "id": "383ef284-8e63-40a8-8bd2-33c4fa90e67a",
   "metadata": {},
   "outputs": [
    {
     "data": {
      "text/html": [
       "<div>\n",
       "<style scoped>\n",
       "    .dataframe tbody tr th:only-of-type {\n",
       "        vertical-align: middle;\n",
       "    }\n",
       "\n",
       "    .dataframe tbody tr th {\n",
       "        vertical-align: top;\n",
       "    }\n",
       "\n",
       "    .dataframe thead th {\n",
       "        text-align: right;\n",
       "    }\n",
       "</style>\n",
       "<table border=\"1\" class=\"dataframe\">\n",
       "  <thead>\n",
       "    <tr style=\"text-align: right;\">\n",
       "      <th></th>\n",
       "      <th>id</th>\n",
       "      <th>cluster_id</th>\n",
       "      <th>richness</th>\n",
       "      <th>richness_err</th>\n",
       "      <th>cluster_redshift</th>\n",
       "      <th>cluster_redshift_err</th>\n",
       "      <th>cluster_ra</th>\n",
       "      <th>cluster_dec</th>\n",
       "      <th>ra</th>\n",
       "      <th>redshift</th>\n",
       "      <th>dec</th>\n",
       "      <th>is_central</th>\n",
       "      <th>halo_id</th>\n",
       "      <th>halo_mass</th>\n",
       "      <th>freq</th>\n",
       "    </tr>\n",
       "  </thead>\n",
       "  <tbody>\n",
       "    <tr>\n",
       "      <th>0</th>\n",
       "      <td>1312945563</td>\n",
       "      <td>10</td>\n",
       "      <td>190.706650</td>\n",
       "      <td>3.746967</td>\n",
       "      <td>0.513513</td>\n",
       "      <td>0.002786</td>\n",
       "      <td>52.520436</td>\n",
       "      <td>-25.717996</td>\n",
       "      <td>52.520436</td>\n",
       "      <td>0.510724</td>\n",
       "      <td>-25.717996</td>\n",
       "      <td>True</td>\n",
       "      <td>1162500021323</td>\n",
       "      <td>5.461543e+14</td>\n",
       "      <td>96</td>\n",
       "    </tr>\n",
       "    <tr>\n",
       "      <th>1</th>\n",
       "      <td>2000524808</td>\n",
       "      <td>18</td>\n",
       "      <td>179.128128</td>\n",
       "      <td>3.693436</td>\n",
       "      <td>0.571270</td>\n",
       "      <td>0.003218</td>\n",
       "      <td>56.920377</td>\n",
       "      <td>-27.204341</td>\n",
       "      <td>56.920377</td>\n",
       "      <td>0.574030</td>\n",
       "      <td>-27.204341</td>\n",
       "      <td>True</td>\n",
       "      <td>549500032315</td>\n",
       "      <td>1.009535e+15</td>\n",
       "      <td>189</td>\n",
       "    </tr>\n",
       "    <tr>\n",
       "      <th>2</th>\n",
       "      <td>2002535198</td>\n",
       "      <td>24</td>\n",
       "      <td>124.027153</td>\n",
       "      <td>2.417291</td>\n",
       "      <td>1.040338</td>\n",
       "      <td>0.006518</td>\n",
       "      <td>56.998497</td>\n",
       "      <td>-26.717208</td>\n",
       "      <td>56.998497</td>\n",
       "      <td>1.034776</td>\n",
       "      <td>-26.717208</td>\n",
       "      <td>True</td>\n",
       "      <td>2554900032241</td>\n",
       "      <td>3.818845e+14</td>\n",
       "      <td>128</td>\n",
       "    </tr>\n",
       "    <tr>\n",
       "      <th>3</th>\n",
       "      <td>2000759779</td>\n",
       "      <td>30</td>\n",
       "      <td>167.336029</td>\n",
       "      <td>3.677716</td>\n",
       "      <td>0.635185</td>\n",
       "      <td>0.006033</td>\n",
       "      <td>58.563624</td>\n",
       "      <td>-27.429962</td>\n",
       "      <td>58.563624</td>\n",
       "      <td>0.642617</td>\n",
       "      <td>-27.429962</td>\n",
       "      <td>True</td>\n",
       "      <td>1275900032300</td>\n",
       "      <td>3.884919e+14</td>\n",
       "      <td>186</td>\n",
       "    </tr>\n",
       "    <tr>\n",
       "      <th>4</th>\n",
       "      <td>2000292501</td>\n",
       "      <td>71</td>\n",
       "      <td>111.914703</td>\n",
       "      <td>3.366554</td>\n",
       "      <td>0.442303</td>\n",
       "      <td>0.003674</td>\n",
       "      <td>58.355198</td>\n",
       "      <td>-26.867687</td>\n",
       "      <td>58.349925</td>\n",
       "      <td>0.438581</td>\n",
       "      <td>-26.866271</td>\n",
       "      <td>True</td>\n",
       "      <td>564000032338</td>\n",
       "      <td>3.569262e+14</td>\n",
       "      <td>68</td>\n",
       "    </tr>\n",
       "    <tr>\n",
       "      <th>...</th>\n",
       "      <td>...</td>\n",
       "      <td>...</td>\n",
       "      <td>...</td>\n",
       "      <td>...</td>\n",
       "      <td>...</td>\n",
       "      <td>...</td>\n",
       "      <td>...</td>\n",
       "      <td>...</td>\n",
       "      <td>...</td>\n",
       "      <td>...</td>\n",
       "      <td>...</td>\n",
       "      <td>...</td>\n",
       "      <td>...</td>\n",
       "      <td>...</td>\n",
       "      <td>...</td>\n",
       "    </tr>\n",
       "    <tr>\n",
       "      <th>39595</th>\n",
       "      <td>11315022342</td>\n",
       "      <td>80120</td>\n",
       "      <td>5.251925</td>\n",
       "      <td>1.314113</td>\n",
       "      <td>1.075930</td>\n",
       "      <td>0.042013</td>\n",
       "      <td>67.007234</td>\n",
       "      <td>-43.275547</td>\n",
       "      <td>66.977340</td>\n",
       "      <td>1.024822</td>\n",
       "      <td>-43.254448</td>\n",
       "      <td>True</td>\n",
       "      <td>1645300181241</td>\n",
       "      <td>2.216870e+13</td>\n",
       "      <td>2</td>\n",
       "    </tr>\n",
       "    <tr>\n",
       "      <th>39596</th>\n",
       "      <td>11940608972</td>\n",
       "      <td>21720</td>\n",
       "      <td>10.819990</td>\n",
       "      <td>1.563317</td>\n",
       "      <td>1.133446</td>\n",
       "      <td>0.007788</td>\n",
       "      <td>67.806866</td>\n",
       "      <td>-45.049689</td>\n",
       "      <td>67.806866</td>\n",
       "      <td>1.131637</td>\n",
       "      <td>-45.049689</td>\n",
       "      <td>True</td>\n",
       "      <td>2358500191230</td>\n",
       "      <td>7.055515e+13</td>\n",
       "      <td>13</td>\n",
       "    </tr>\n",
       "    <tr>\n",
       "      <th>39597</th>\n",
       "      <td>12000459039</td>\n",
       "      <td>54206</td>\n",
       "      <td>5.282434</td>\n",
       "      <td>1.234711</td>\n",
       "      <td>0.501281</td>\n",
       "      <td>0.008677</td>\n",
       "      <td>70.472970</td>\n",
       "      <td>-44.819294</td>\n",
       "      <td>70.472970</td>\n",
       "      <td>0.506876</td>\n",
       "      <td>-44.819294</td>\n",
       "      <td>True</td>\n",
       "      <td>958400192323</td>\n",
       "      <td>1.931144e+13</td>\n",
       "      <td>6</td>\n",
       "    </tr>\n",
       "    <tr>\n",
       "      <th>39598</th>\n",
       "      <td>12000044030</td>\n",
       "      <td>97912</td>\n",
       "      <td>5.007845</td>\n",
       "      <td>0.897868</td>\n",
       "      <td>0.211521</td>\n",
       "      <td>0.006237</td>\n",
       "      <td>71.592885</td>\n",
       "      <td>-44.833270</td>\n",
       "      <td>71.566666</td>\n",
       "      <td>0.218527</td>\n",
       "      <td>-44.863084</td>\n",
       "      <td>True</td>\n",
       "      <td>314500192401</td>\n",
       "      <td>1.619135e+13</td>\n",
       "      <td>3</td>\n",
       "    </tr>\n",
       "    <tr>\n",
       "      <th>39599</th>\n",
       "      <td>11315864504</td>\n",
       "      <td>37112</td>\n",
       "      <td>5.358709</td>\n",
       "      <td>1.429321</td>\n",
       "      <td>1.147501</td>\n",
       "      <td>0.009259</td>\n",
       "      <td>69.361714</td>\n",
       "      <td>-44.138626</td>\n",
       "      <td>69.361714</td>\n",
       "      <td>1.151701</td>\n",
       "      <td>-44.138626</td>\n",
       "      <td>True</td>\n",
       "      <td>1958200181224</td>\n",
       "      <td>4.699408e+13</td>\n",
       "      <td>12</td>\n",
       "    </tr>\n",
       "  </tbody>\n",
       "</table>\n",
       "<p>39600 rows × 15 columns</p>\n",
       "</div>"
      ],
      "text/plain": [
       "                id  cluster_id    richness  richness_err  cluster_redshift  \\\n",
       "0       1312945563          10  190.706650      3.746967          0.513513   \n",
       "1       2000524808          18  179.128128      3.693436          0.571270   \n",
       "2       2002535198          24  124.027153      2.417291          1.040338   \n",
       "3       2000759779          30  167.336029      3.677716          0.635185   \n",
       "4       2000292501          71  111.914703      3.366554          0.442303   \n",
       "...            ...         ...         ...           ...               ...   \n",
       "39595  11315022342       80120    5.251925      1.314113          1.075930   \n",
       "39596  11940608972       21720   10.819990      1.563317          1.133446   \n",
       "39597  12000459039       54206    5.282434      1.234711          0.501281   \n",
       "39598  12000044030       97912    5.007845      0.897868          0.211521   \n",
       "39599  11315864504       37112    5.358709      1.429321          1.147501   \n",
       "\n",
       "       cluster_redshift_err  cluster_ra  cluster_dec         ra  redshift  \\\n",
       "0                  0.002786   52.520436   -25.717996  52.520436  0.510724   \n",
       "1                  0.003218   56.920377   -27.204341  56.920377  0.574030   \n",
       "2                  0.006518   56.998497   -26.717208  56.998497  1.034776   \n",
       "3                  0.006033   58.563624   -27.429962  58.563624  0.642617   \n",
       "4                  0.003674   58.355198   -26.867687  58.349925  0.438581   \n",
       "...                     ...         ...          ...        ...       ...   \n",
       "39595              0.042013   67.007234   -43.275547  66.977340  1.024822   \n",
       "39596              0.007788   67.806866   -45.049689  67.806866  1.131637   \n",
       "39597              0.008677   70.472970   -44.819294  70.472970  0.506876   \n",
       "39598              0.006237   71.592885   -44.833270  71.566666  0.218527   \n",
       "39599              0.009259   69.361714   -44.138626  69.361714  1.151701   \n",
       "\n",
       "             dec  is_central        halo_id     halo_mass  freq  \n",
       "0     -25.717996        True  1162500021323  5.461543e+14    96  \n",
       "1     -27.204341        True   549500032315  1.009535e+15   189  \n",
       "2     -26.717208        True  2554900032241  3.818845e+14   128  \n",
       "3     -27.429962        True  1275900032300  3.884919e+14   186  \n",
       "4     -26.866271        True   564000032338  3.569262e+14    68  \n",
       "...          ...         ...            ...           ...   ...  \n",
       "39595 -43.254448        True  1645300181241  2.216870e+13     2  \n",
       "39596 -45.049689        True  2358500191230  7.055515e+13    13  \n",
       "39597 -44.819294        True   958400192323  1.931144e+13     6  \n",
       "39598 -44.863084        True   314500192401  1.619135e+13     3  \n",
       "39599 -44.138626        True  1958200181224  4.699408e+13    12  \n",
       "\n",
       "[39600 rows x 15 columns]"
      ]
     },
     "execution_count": 6,
     "metadata": {},
     "output_type": "execute_result"
    }
   ],
   "source": [
    "# print(matchdf['distance_2d'].min(), matchdf['distance_2d'].max())\n",
    "\n",
    "matchdf"
   ]
  },
  {
   "cell_type": "code",
   "execution_count": null,
   "id": "e1fc2250-b0c0-439a-a7b3-c1b4e8d561fc",
   "metadata": {
    "tags": []
   },
   "outputs": [],
   "source": [
    "memberdf = member_data.to_pandas().rename(columns={'id_member': 'id'}) #This creates a dataframe and rename: id_member -> id (cDC2 + RM MEMBERS).\n",
    "truthdf = truth_data.to_pandas().rename(columns={'galaxy_id': 'id'}) #This creates a dataframe and rename: galaxy_id -> id (cDC2 MEMBERS).\n",
    "\n",
    "cluster_df=cluster_data.to_pandas()[['richness', 'richness_err', 'cluster_id', 'redshift', 'redshift_err', 'ra', 'dec']].rename(columns={'ra': 'cluster_ra', 'dec': 'cluster_dec', 'redshift': 'cluster_redshift', 'redshift_err': 'cluster_redshift_err'}) #This creates a dataframe for cDC2 clusters."
   ]
  },
  {
   "cell_type": "code",
   "execution_count": null,
   "id": "259a24c9-953d-40e2-8b7a-33fd11a770e2",
   "metadata": {
    "tags": []
   },
   "outputs": [],
   "source": [
    "# memberdf"
   ]
  },
  {
   "cell_type": "code",
   "execution_count": null,
   "id": "689d6f61-be9c-40a4-b8f3-9b8e95b24c35",
   "metadata": {
    "tags": []
   },
   "outputs": [],
   "source": [
    "# truthdf"
   ]
  },
  {
   "cell_type": "code",
   "execution_count": null,
   "id": "5dc2cf9d-5204-45c5-8bca-570b0b713ac0",
   "metadata": {
    "tags": []
   },
   "outputs": [],
   "source": [
    "# cluster_df"
   ]
  },
  {
   "cell_type": "code",
   "execution_count": null,
   "id": "559c65f4-01b2-4de4-9cdd-61d7d4a2cb52",
   "metadata": {},
   "outputs": [],
   "source": [
    "memberdf[memberdf['id'] == 1312946359]['redshift_true_member']"
   ]
  },
  {
   "cell_type": "code",
   "execution_count": null,
   "id": "de431f95-b409-425d-945a-c4ca3d690b7b",
   "metadata": {},
   "outputs": [],
   "source": [
    "truthdf[truthdf['id'] == 1312946359]['redshift']"
   ]
  },
  {
   "cell_type": "code",
   "execution_count": null,
   "id": "fbf15793-c8d2-4cea-8e84-2a236ba0f426",
   "metadata": {
    "tags": []
   },
   "outputs": [],
   "source": [
    "Mt_df = pd.merge(memberdf['id'], truthdf['id'], how='inner', on=['id']) #This selects commom members ID from cDC2 and cDC2 + RM data\n",
    "# Mt_df"
   ]
  },
  {
   "cell_type": "code",
   "execution_count": null,
   "id": "9e3a3770-1a1d-4b4f-9599-2115c1a5efd6",
   "metadata": {
    "tags": []
   },
   "outputs": [],
   "source": [
    "mt_member = pd.merge(memberdf, Mt_df, how='inner', on=['id']) #This selects the matching members using Mt_df IDs\n",
    "# mt_member"
   ]
  },
  {
   "cell_type": "code",
   "execution_count": null,
   "id": "c10c0982-a7bb-4439-817b-dcc5bc920ef9",
   "metadata": {
    "tags": []
   },
   "outputs": [],
   "source": [
    "idc = mt_member[['id', 'cluster_id_member']].rename(columns={'cluster_id_member': 'cluster_id'}) #This selects the members and clusters IDs\n",
    "# idc"
   ]
  },
  {
   "cell_type": "code",
   "execution_count": null,
   "id": "0f1ec267-e4d3-4aa3-8347-470306a6da9e",
   "metadata": {
    "tags": []
   },
   "outputs": [],
   "source": [
    "mt_cluster = pd.merge(idc, cluster_df, how='inner', on=['cluster_id']) #This selects the clusters data by idc IDS \n",
    "# mt_cluster"
   ]
  },
  {
   "cell_type": "code",
   "execution_count": null,
   "id": "c9b0b6ee-0327-4b2d-be67-4fdc95079c8b",
   "metadata": {
    "tags": []
   },
   "outputs": [],
   "source": [
    "mt_catalog = pd.merge(mt_cluster, truthdf, how='inner', on=['id']) #This creates the matching catalog with clustes and halos\n",
    "# mt_catalog"
   ]
  },
  {
   "cell_type": "code",
   "execution_count": null,
   "id": "2a21d68d-613a-46e7-aef2-c28a68a99199",
   "metadata": {
    "tags": []
   },
   "outputs": [],
   "source": [
    "clusters_id = mt_catalog[mt_catalog['is_central'] == True]['cluster_id'].unique() #This selects the clusters IDs\n",
    "\n",
    "# clusters_id"
   ]
  },
  {
   "cell_type": "code",
   "execution_count": null,
   "id": "bf6e3b21-d6e1-4dbf-bd60-641675936f1a",
   "metadata": {
    "tags": []
   },
   "outputs": [],
   "source": [
    "mt_catalog['freq'] = mt_catalog.groupby(['cluster_id', 'halo_id'])['halo_id'].transform('count') # This Adds a frequency column for each halo ID\n",
    "                                                                                                 # in mt_catalog.\n",
    "# mt_catalog.head()"
   ]
  },
  {
   "cell_type": "code",
   "execution_count": null,
   "id": "469d60db-8d0f-4fba-8058-a135e6697c70",
   "metadata": {
    "tags": []
   },
   "outputs": [],
   "source": [
    "iscentral = mt_catalog[mt_catalog['is_central'] == True] #This selects the central members\n",
    "\n",
    "# iscentral.head(4)\n",
    "\n",
    "\n",
    "iscentral[['id','cluster_id','halo_id', 'cluster_ra', 'ra',\n",
    "                                             'cluster_dec', 'dec', 'cluster_redshift', 'redshift',\n",
    "                                             'cluster_redshift_err', 'richness', 'richness_err', 'halo_mass', 'is_central' ]].head(4)"
   ]
  },
  {
   "cell_type": "code",
   "execution_count": null,
   "id": "d8115a0a-3fe9-40dc-bc8c-2c7345837805",
   "metadata": {},
   "outputs": [],
   "source": [
    "# gcut = iscentral.groupby('cluster_id').get_group(10)\n"
   ]
  },
  {
   "cell_type": "code",
   "execution_count": null,
   "id": "f2d98db8-7013-4853-8f16-857b90cf4f61",
   "metadata": {},
   "outputs": [],
   "source": [
    "# gcut[(gcut['redshift'] > gcut['cluster_redshift'] - gcut['cluster_redshift_err']) & (gcut['redshift'] < gcut['cluster_redshift'] + gcut['cluster_redshift_err'])  ] \n",
    "\n",
    "# ra_cut = (gcut['ra'] > gcut['cluster_ra'] - 1e-4) & (gcut['ra'] < gcut['cluster_ra'] + 1e-4) \n",
    "# dec_cut = (gcut['dec'] > gcut['cluster_dec'] - 1e-4) & (gcut['dec'] < gcut['cluster_dec'] + 1e-4)\n",
    "# gcut = gcut[ra_cut & dec_cut]\n",
    "# gcut"
   ]
  },
  {
   "cell_type": "code",
   "execution_count": null,
   "id": "04e374d6-227c-4f04-9faf-65c4e37f513e",
   "metadata": {},
   "outputs": [],
   "source": []
  },
  {
   "cell_type": "code",
   "execution_count": null,
   "id": "0d44522e-3036-4c59-bd40-d1fa9bace042",
   "metadata": {
    "scrolled": true,
    "tags": []
   },
   "outputs": [],
   "source": [
    "# This loop creates the unique matching catalog using the halo ID frequency. It selects the halos with maximum frequency.\n",
    "\n",
    "idgroups = iscentral.groupby('cluster_id') # It groups data by cluster_id. \n",
    "\n",
    "inicio = time.time()\n",
    "\n",
    "match_dataframe = pd.DataFrame()                                                                                                                                                                            #\n",
    "for cl in clusters_id:                                                                                        \n",
    "    gcut = idgroups.get_group(cl)\n",
    "    \n",
    "    ra_cut = (gcut['ra'] > gcut['cluster_ra'] - 1e-4) & (gcut['ra'] < gcut['cluster_ra'] + 1e-4) \n",
    "    dec_cut = (gcut['dec'] > gcut['cluster_dec'] - 1e-4) & (gcut['dec'] < gcut['cluster_dec'] + 1e-4)\n",
    "    \n",
    "    gcut = gcut[ra_cut & dec_cut]\n",
    "\n",
    "    if len(gcut) == 1:\n",
    "        match_dataframe = pd.concat([match_dataframe, gcut], ignore_index=True)\n",
    "        \n",
    "    elif len(gcut) == 0:\n",
    "        pass\n",
    "        \n",
    "    else:\n",
    "        gcut = gcut[gcut['freq'] == gcut['freq'].max()]\n",
    "        match_dataframe = pd.concat([match_dataframe, gcut], ignore_index=True)\n",
    "    \n",
    "fim = time.time()\n"
   ]
  },
  {
   "cell_type": "code",
   "execution_count": null,
   "id": "082d1398-b789-41ee-877d-77bb0748c792",
   "metadata": {},
   "outputs": [],
   "source": [
    "print(f'total time = {fim - inicio :.2f} seconds')\n"
   ]
  },
  {
   "cell_type": "code",
   "execution_count": null,
   "id": "abc7c02e-e7f8-4462-a505-d32980de0eb9",
   "metadata": {},
   "outputs": [],
   "source": [
    "# match_dataframe"
   ]
  },
  {
   "cell_type": "code",
   "execution_count": 7,
   "id": "6305199d-46ac-4bba-9381-4446e0f4ba79",
   "metadata": {},
   "outputs": [
    {
     "data": {
      "text/html": [
       "<div>\n",
       "<style scoped>\n",
       "    .dataframe tbody tr th:only-of-type {\n",
       "        vertical-align: middle;\n",
       "    }\n",
       "\n",
       "    .dataframe tbody tr th {\n",
       "        vertical-align: top;\n",
       "    }\n",
       "\n",
       "    .dataframe thead th {\n",
       "        text-align: right;\n",
       "    }\n",
       "</style>\n",
       "<table border=\"1\" class=\"dataframe\">\n",
       "  <thead>\n",
       "    <tr style=\"text-align: right;\">\n",
       "      <th></th>\n",
       "      <th>id</th>\n",
       "      <th>cluster_id</th>\n",
       "      <th>halo_id</th>\n",
       "      <th>cluster_ra</th>\n",
       "      <th>ra</th>\n",
       "      <th>cluster_dec</th>\n",
       "      <th>dec</th>\n",
       "      <th>richness</th>\n",
       "      <th>richness_err</th>\n",
       "      <th>halo_mass</th>\n",
       "      <th>is_central</th>\n",
       "      <th>redshift</th>\n",
       "      <th>cluster_redshift</th>\n",
       "      <th>cluster_redshift_err</th>\n",
       "    </tr>\n",
       "  </thead>\n",
       "  <tbody>\n",
       "    <tr>\n",
       "      <th>0</th>\n",
       "      <td>1312945563</td>\n",
       "      <td>10</td>\n",
       "      <td>1162500021323</td>\n",
       "      <td>52.520436</td>\n",
       "      <td>52.520436</td>\n",
       "      <td>-25.717996</td>\n",
       "      <td>-25.717996</td>\n",
       "      <td>190.706650</td>\n",
       "      <td>3.746967</td>\n",
       "      <td>5.461543e+14</td>\n",
       "      <td>True</td>\n",
       "      <td>0.510724</td>\n",
       "      <td>0.513513</td>\n",
       "      <td>0.002786</td>\n",
       "    </tr>\n",
       "    <tr>\n",
       "      <th>1</th>\n",
       "      <td>2000524808</td>\n",
       "      <td>18</td>\n",
       "      <td>549500032315</td>\n",
       "      <td>56.920377</td>\n",
       "      <td>56.920377</td>\n",
       "      <td>-27.204341</td>\n",
       "      <td>-27.204341</td>\n",
       "      <td>179.128128</td>\n",
       "      <td>3.693436</td>\n",
       "      <td>1.009535e+15</td>\n",
       "      <td>True</td>\n",
       "      <td>0.574030</td>\n",
       "      <td>0.571270</td>\n",
       "      <td>0.003218</td>\n",
       "    </tr>\n",
       "    <tr>\n",
       "      <th>2</th>\n",
       "      <td>2002535198</td>\n",
       "      <td>24</td>\n",
       "      <td>2554900032241</td>\n",
       "      <td>56.998497</td>\n",
       "      <td>56.998497</td>\n",
       "      <td>-26.717208</td>\n",
       "      <td>-26.717208</td>\n",
       "      <td>124.027153</td>\n",
       "      <td>2.417291</td>\n",
       "      <td>3.818845e+14</td>\n",
       "      <td>True</td>\n",
       "      <td>1.034776</td>\n",
       "      <td>1.040338</td>\n",
       "      <td>0.006518</td>\n",
       "    </tr>\n",
       "    <tr>\n",
       "      <th>3</th>\n",
       "      <td>2000759779</td>\n",
       "      <td>30</td>\n",
       "      <td>1275900032300</td>\n",
       "      <td>58.563624</td>\n",
       "      <td>58.563624</td>\n",
       "      <td>-27.429962</td>\n",
       "      <td>-27.429962</td>\n",
       "      <td>167.336029</td>\n",
       "      <td>3.677716</td>\n",
       "      <td>3.884919e+14</td>\n",
       "      <td>True</td>\n",
       "      <td>0.642617</td>\n",
       "      <td>0.635185</td>\n",
       "      <td>0.006033</td>\n",
       "    </tr>\n",
       "    <tr>\n",
       "      <th>4</th>\n",
       "      <td>2000292501</td>\n",
       "      <td>71</td>\n",
       "      <td>564000032338</td>\n",
       "      <td>58.355198</td>\n",
       "      <td>58.349925</td>\n",
       "      <td>-26.867687</td>\n",
       "      <td>-26.866271</td>\n",
       "      <td>111.914703</td>\n",
       "      <td>3.366554</td>\n",
       "      <td>3.569262e+14</td>\n",
       "      <td>True</td>\n",
       "      <td>0.438581</td>\n",
       "      <td>0.442303</td>\n",
       "      <td>0.003674</td>\n",
       "    </tr>\n",
       "    <tr>\n",
       "      <th>...</th>\n",
       "      <td>...</td>\n",
       "      <td>...</td>\n",
       "      <td>...</td>\n",
       "      <td>...</td>\n",
       "      <td>...</td>\n",
       "      <td>...</td>\n",
       "      <td>...</td>\n",
       "      <td>...</td>\n",
       "      <td>...</td>\n",
       "      <td>...</td>\n",
       "      <td>...</td>\n",
       "      <td>...</td>\n",
       "      <td>...</td>\n",
       "      <td>...</td>\n",
       "    </tr>\n",
       "    <tr>\n",
       "      <th>39595</th>\n",
       "      <td>11315022342</td>\n",
       "      <td>80120</td>\n",
       "      <td>1645300181241</td>\n",
       "      <td>67.007234</td>\n",
       "      <td>66.977340</td>\n",
       "      <td>-43.275547</td>\n",
       "      <td>-43.254448</td>\n",
       "      <td>5.251925</td>\n",
       "      <td>1.314113</td>\n",
       "      <td>2.216870e+13</td>\n",
       "      <td>True</td>\n",
       "      <td>1.024822</td>\n",
       "      <td>1.075930</td>\n",
       "      <td>0.042013</td>\n",
       "    </tr>\n",
       "    <tr>\n",
       "      <th>39596</th>\n",
       "      <td>11940608972</td>\n",
       "      <td>21720</td>\n",
       "      <td>2358500191230</td>\n",
       "      <td>67.806866</td>\n",
       "      <td>67.806866</td>\n",
       "      <td>-45.049689</td>\n",
       "      <td>-45.049689</td>\n",
       "      <td>10.819990</td>\n",
       "      <td>1.563317</td>\n",
       "      <td>7.055515e+13</td>\n",
       "      <td>True</td>\n",
       "      <td>1.131637</td>\n",
       "      <td>1.133446</td>\n",
       "      <td>0.007788</td>\n",
       "    </tr>\n",
       "    <tr>\n",
       "      <th>39597</th>\n",
       "      <td>12000459039</td>\n",
       "      <td>54206</td>\n",
       "      <td>958400192323</td>\n",
       "      <td>70.472970</td>\n",
       "      <td>70.472970</td>\n",
       "      <td>-44.819294</td>\n",
       "      <td>-44.819294</td>\n",
       "      <td>5.282434</td>\n",
       "      <td>1.234711</td>\n",
       "      <td>1.931144e+13</td>\n",
       "      <td>True</td>\n",
       "      <td>0.506876</td>\n",
       "      <td>0.501281</td>\n",
       "      <td>0.008677</td>\n",
       "    </tr>\n",
       "    <tr>\n",
       "      <th>39598</th>\n",
       "      <td>12000044030</td>\n",
       "      <td>97912</td>\n",
       "      <td>314500192401</td>\n",
       "      <td>71.592885</td>\n",
       "      <td>71.566666</td>\n",
       "      <td>-44.833270</td>\n",
       "      <td>-44.863084</td>\n",
       "      <td>5.007845</td>\n",
       "      <td>0.897868</td>\n",
       "      <td>1.619135e+13</td>\n",
       "      <td>True</td>\n",
       "      <td>0.218527</td>\n",
       "      <td>0.211521</td>\n",
       "      <td>0.006237</td>\n",
       "    </tr>\n",
       "    <tr>\n",
       "      <th>39599</th>\n",
       "      <td>11315864504</td>\n",
       "      <td>37112</td>\n",
       "      <td>1958200181224</td>\n",
       "      <td>69.361714</td>\n",
       "      <td>69.361714</td>\n",
       "      <td>-44.138626</td>\n",
       "      <td>-44.138626</td>\n",
       "      <td>5.358709</td>\n",
       "      <td>1.429321</td>\n",
       "      <td>4.699408e+13</td>\n",
       "      <td>True</td>\n",
       "      <td>1.151701</td>\n",
       "      <td>1.147501</td>\n",
       "      <td>0.009259</td>\n",
       "    </tr>\n",
       "  </tbody>\n",
       "</table>\n",
       "<p>39600 rows × 14 columns</p>\n",
       "</div>"
      ],
      "text/plain": [
       "                id  cluster_id        halo_id  cluster_ra         ra  \\\n",
       "0       1312945563          10  1162500021323   52.520436  52.520436   \n",
       "1       2000524808          18   549500032315   56.920377  56.920377   \n",
       "2       2002535198          24  2554900032241   56.998497  56.998497   \n",
       "3       2000759779          30  1275900032300   58.563624  58.563624   \n",
       "4       2000292501          71   564000032338   58.355198  58.349925   \n",
       "...            ...         ...            ...         ...        ...   \n",
       "39595  11315022342       80120  1645300181241   67.007234  66.977340   \n",
       "39596  11940608972       21720  2358500191230   67.806866  67.806866   \n",
       "39597  12000459039       54206   958400192323   70.472970  70.472970   \n",
       "39598  12000044030       97912   314500192401   71.592885  71.566666   \n",
       "39599  11315864504       37112  1958200181224   69.361714  69.361714   \n",
       "\n",
       "       cluster_dec        dec    richness  richness_err     halo_mass  \\\n",
       "0       -25.717996 -25.717996  190.706650      3.746967  5.461543e+14   \n",
       "1       -27.204341 -27.204341  179.128128      3.693436  1.009535e+15   \n",
       "2       -26.717208 -26.717208  124.027153      2.417291  3.818845e+14   \n",
       "3       -27.429962 -27.429962  167.336029      3.677716  3.884919e+14   \n",
       "4       -26.867687 -26.866271  111.914703      3.366554  3.569262e+14   \n",
       "...            ...        ...         ...           ...           ...   \n",
       "39595   -43.275547 -43.254448    5.251925      1.314113  2.216870e+13   \n",
       "39596   -45.049689 -45.049689   10.819990      1.563317  7.055515e+13   \n",
       "39597   -44.819294 -44.819294    5.282434      1.234711  1.931144e+13   \n",
       "39598   -44.833270 -44.863084    5.007845      0.897868  1.619135e+13   \n",
       "39599   -44.138626 -44.138626    5.358709      1.429321  4.699408e+13   \n",
       "\n",
       "       is_central  redshift  cluster_redshift  cluster_redshift_err  \n",
       "0            True  0.510724          0.513513              0.002786  \n",
       "1            True  0.574030          0.571270              0.003218  \n",
       "2            True  1.034776          1.040338              0.006518  \n",
       "3            True  0.642617          0.635185              0.006033  \n",
       "4            True  0.438581          0.442303              0.003674  \n",
       "...           ...       ...               ...                   ...  \n",
       "39595        True  1.024822          1.075930              0.042013  \n",
       "39596        True  1.131637          1.133446              0.007788  \n",
       "39597        True  0.506876          0.501281              0.008677  \n",
       "39598        True  0.218527          0.211521              0.006237  \n",
       "39599        True  1.151701          1.147501              0.009259  \n",
       "\n",
       "[39600 rows x 14 columns]"
      ]
     },
     "execution_count": 7,
     "metadata": {},
     "output_type": "execute_result"
    }
   ],
   "source": [
    "match_dataframe_organized = matchdf[['id','cluster_id','halo_id', 'cluster_ra', 'ra',\n",
    "                                             'cluster_dec', 'dec', 'richness', 'richness_err', 'halo_mass', 'is_central', 'redshift', 'cluster_redshift', 'cluster_redshift_err']]\n",
    "match_dataframe_organized"
   ]
  },
  {
   "cell_type": "code",
   "execution_count": 15,
   "id": "819357c7-69be-481d-b0d1-237db02e9868",
   "metadata": {},
   "outputs": [],
   "source": [
    "Table.from_pandas(match_dataframe_organized).write('match_ID.fits', overwrite=True)"
   ]
  },
  {
   "cell_type": "markdown",
   "id": "f0cb9313-f3a4-4edd-8ced-cfe7cf4f1b3a",
   "metadata": {},
   "source": [
    "## Data Analysis"
   ]
  },
  {
   "cell_type": "markdown",
   "id": "f30c12f6-3e2b-4ee8-87f6-5158fa25136c",
   "metadata": {},
   "source": [
    "### Duplicates"
   ]
  },
  {
   "cell_type": "code",
   "execution_count": 8,
   "id": "e34d1068-3762-4ffe-9c04-fdf9e84babb3",
   "metadata": {},
   "outputs": [
    {
     "name": "stdout",
     "output_type": "stream",
     "text": [
      "Duplicated halos don't exists.\n"
     ]
    }
   ],
   "source": [
    "if True in match_dataframe_organized['halo_id'].duplicated():\n",
    "    df_test_matchdata[df_test_matchdata['halo_id'].duplicated()]\n",
    "else:\n",
    "    print( \"Duplicated halos don't exists.\")"
   ]
  },
  {
   "cell_type": "code",
   "execution_count": 9,
   "id": "e214c76b-767c-402a-9587-ec6aa229c9ae",
   "metadata": {},
   "outputs": [
    {
     "name": "stdout",
     "output_type": "stream",
     "text": [
      "Duplicated clusters don't exists.\n"
     ]
    }
   ],
   "source": [
    "if True in match_dataframe_organized['cluster_id'].duplicated():\n",
    "    df_test_matchdata[df_test_matchdata['cluster_id'].duplicated()]\n",
    "else:\n",
    "    print( \"Duplicated clusters don't exists.\")"
   ]
  },
  {
   "cell_type": "code",
   "execution_count": 10,
   "id": "b1bb6661-61d0-4596-bf4f-d4c35e1d87f4",
   "metadata": {},
   "outputs": [
    {
     "name": "stdout",
     "output_type": "stream",
     "text": [
      "Duplicated members don't exists.\n"
     ]
    }
   ],
   "source": [
    "if True in match_dataframe_organized['id'].duplicated():\n",
    "    df_test_matchdata[df_test_matchdata['id'].duplicated()]\n",
    "else:\n",
    "    print( \"Duplicated members don't exists.\")"
   ]
  },
  {
   "cell_type": "markdown",
   "id": "2ee85c06-8dcd-4488-a28c-fadb1c62560c",
   "metadata": {},
   "source": [
    "### RA, Dec, Redshift"
   ]
  },
  {
   "cell_type": "code",
   "execution_count": 11,
   "id": "6276511b-0f4a-4ce2-ab40-e736a9d3520c",
   "metadata": {},
   "outputs": [
    {
     "data": {
      "image/png": "[encoded data removed]",
      "text/plain": [
       "<Figure size 640x480 with 1 Axes>"
      ]
     },
     "metadata": {},
     "output_type": "display_data"
    }
   ],
   "source": [
    "plt.scatter(match_dataframe_organized['cluster_ra'], match_dataframe_organized['ra'])\n",
    "\n",
    "plt.xlabel('Cluster RA')\n",
    "plt.ylabel('Halo RA')\n",
    "plt.show()"
   ]
  },
  {
   "cell_type": "code",
   "execution_count": 12,
   "id": "c69fe3f1-b82d-4b43-b7c5-66dd0e45bfec",
   "metadata": {},
   "outputs": [
    {
     "data": {
      "image/png": "[encoded data removed]",
      "text/plain": [
       "<Figure size 640x480 with 1 Axes>"
      ]
     },
     "metadata": {},
     "output_type": "display_data"
    }
   ],
   "source": [
    "plt.scatter(match_dataframe_organized['cluster_dec'], match_dataframe_organized['dec'])\n",
    "\n",
    "plt.xlabel('Cluster Dec')\n",
    "plt.ylabel('Halo Dec')\n",
    "plt.show()"
   ]
  },
  {
   "cell_type": "code",
   "execution_count": 13,
   "id": "ab463540-0422-42d5-a7ba-a911f85cace5",
   "metadata": {},
   "outputs": [
    {
     "data": {
      "image/png": "[encoded data removed]",
      "text/plain": [
       "<Figure size 640x480 with 1 Axes>"
      ]
     },
     "metadata": {},
     "output_type": "display_data"
    }
   ],
   "source": [
    "zdf = match_dataframe_organized.sort_values(by='redshift')\n",
    "\n",
    "x = match_dataframe_organized['redshift']\n",
    "y = match_dataframe_organized['cluster_redshift']\n",
    "y_err = match_dataframe_organized['cluster_redshift_err']\n",
    "\n",
    "# plt.scatter(x, y)\n",
    "\n",
    "plt.errorbar(x, y, yerr = y_err, fmt=\".\")\n",
    "\n",
    "plt.xlabel('Cluster redshift')\n",
    "plt.ylabel('Halo redshift')\n",
    "plt.show()\n",
    "\n"
   ]
  },
  {
   "cell_type": "markdown",
   "id": "33aa7c24-0ffb-4170-9276-7f0688d629c2",
   "metadata": {},
   "source": [
    "### Richness x Mass"
   ]
  },
  {
   "cell_type": "code",
   "execution_count": 14,
   "id": "3c7e202f-9c2f-4523-ab51-f74b123b4c05",
   "metadata": {},
   "outputs": [
    {
     "data": {
      "image/png": "[encoded data removed]",
      "text/plain": [
       "<Figure size 640x480 with 1 Axes>"
      ]
     },
     "metadata": {},
     "output_type": "display_data"
    }
   ],
   "source": [
    "plt.scatter(np.log10(match_dataframe_organized['halo_mass']), np.log(match_dataframe_organized['richness']))\n",
    "\n",
    "plt.xlabel('log10 M ')\n",
    "plt.ylabel('ln R')\n",
    "plt.show()"
   ]
  },
  {
   "cell_type": "markdown",
   "id": "e6ced01b-7e72-434a-8bf2-bc8ecc4d93e8",
   "metadata": {},
   "source": [
    "## tests"
   ]
  },
  {
   "cell_type": "code",
   "execution_count": null,
   "id": "a2761ec1-8ab0-49ca-b6e5-8ec8ae99e9ba",
   "metadata": {},
   "outputs": [],
   "source": [
    "# inicio = time.time()\n",
    "\n",
    "# mt_dataframe2 = mtrmdc2(member_data, cluster_data, truth_data)\n",
    "\n",
    "# fim = time.time()\n",
    "# tempo_total = fim - inicio\n",
    "\n",
    "# print(f\"Tempo de execução: {tempo_total/60:.3}min\")"
   ]
  },
  {
   "cell_type": "code",
   "execution_count": null,
   "id": "a1eb9e90-7958-4e4f-8e5d-4ffa738b1c13",
   "metadata": {},
   "outputs": [],
   "source": [
    "# mt_dataframe"
   ]
  },
  {
   "cell_type": "code",
   "execution_count": null,
   "id": "963bc8b1-388c-4126-bbef-22a9bc6713ba",
   "metadata": {},
   "outputs": [],
   "source": [
    "# mt_table = Table.from_pandas(match_dataframe)"
   ]
  },
  {
   "cell_type": "code",
   "execution_count": null,
   "id": "51257b02-6654-44f2-b395-8e0879661d18",
   "metadata": {},
   "outputs": [],
   "source": [
    "# mt_table.write('match_ID.fits')"
   ]
  }
 ],
 "metadata": {
  "kernelspec": {
   "display_name": "numcosmo",
   "language": "python",
   "name": "numcosmo"
  },
  "language_info": {
   "codemirror_mode": {
    "name": "ipython",
    "version": 3
   },
   "file_extension": ".py",
   "mimetype": "text/x-python",
   "name": "python",
   "nbconvert_exporter": "python",
   "pygments_lexer": "ipython3",
   "version": "3.11.11"
  }
 },
 "nbformat": 4,
 "nbformat_minor": 5
}
