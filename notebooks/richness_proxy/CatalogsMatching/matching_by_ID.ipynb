{
 "cells": [
  {
   "cell_type": "markdown",
   "id": "8f2398f3-40ca-4785-8ed5-b1944513a629",
   "metadata": {
    "tags": []
   },
   "source": [
    "#  Matching Catalogs by Members ID\n",
    "\n",
    "---\n",
    "**License**\n",
    "\n",
    " Matching Catalogs by Members ID\n",
    "\n",
    " Tue Aug 24 10:30:00 2021\\\n",
    " Copyright  2021\\\n",
    " Cinthia Nunes de Lima <cinthia.n.lima@uel.br> \\ Sandro Dias Pinto Vitenti <vitenti@uel.br>\n",
    "\n",
    "---\n",
    "---\n",
    "\n",
    " Ascaso_Extended_cDC2_RM_Test\\\n",
    " Copyright (C) 2021 Cinthia Nunes de Lima <cinthia.n.lima@uel.br>, Sandro Dias Pinto Vitenti <vitenti@uel.br>\n",
    "\n",
    " numcosmo is free software: you can redistribute it and/or modify it\n",
    " under the terms of the GNU General Public License as published by the\n",
    " Free Software Foundation, either version 3 of the License, or\n",
    " (at your option) any later version.\n",
    "\n",
    " numcosmo is distributed in the hope that it will be useful, but\n",
    " WITHOUT ANY WARRANTY; without even the implied warranty of\n",
    " MERCHANTABILITY or FITNESS FOR A PARTICULAR PURPOSE.\n",
    " See the GNU General Public License for more details.\n",
    "\n",
    " You should have received a copy of the GNU General Public License along\n",
    " with this program.  If not, see <http://www.gnu.org/licenses/>.\n",
    " \n",
    "---"
   ]
  },
  {
   "cell_type": "markdown",
   "id": "8a25e5a3-c1ac-4ae2-8526-221ba6439909",
   "metadata": {},
   "source": [
    "## Libraries & Configs"
   ]
  },
  {
   "cell_type": "code",
   "execution_count": 1,
   "id": "42d55c92-1e3e-44af-8aa5-6baaf3b88c4e",
   "metadata": {
    "tags": []
   },
   "outputs": [
    {
     "name": "stdout",
     "output_type": "stream",
     "text": [
      "GCRCatalogs = 1.9.0 | GCR = 0.9.2\n",
      "Numpy = 1.26.4\n"
     ]
    }
   ],
   "source": [
    "import math\n",
    "import sys\n",
    "\n",
    "import os\n",
    "import numpy as np\n",
    "import matplotlib.pyplot as plt\n",
    "\n",
    "from astropy.io import fits\n",
    "from astropy.table import Table\n",
    "import pandas as pd\n",
    "\n",
    "sys.path.insert(0, \"/global/homes/c/cinlima/gcrcatalogs-new/gcr-catalogs\")\n",
    "sys.path.insert(0, \"/global/homes/c/cinlima/\")\n",
    "sys.path.insert(0, \"/global/homes/c/cinlima/NumCosmo/notebooks/richness_proxy/MachingCatalogs\")\n",
    "\n",
    "\n",
    "import GCRCatalogs\n",
    "#Put nersc if using nersc\n",
    "GCRCatalogs.set_root_dir_by_site(\"nersc\")\n",
    "\n",
    "print('GCRCatalogs =', GCRCatalogs.__version__, '|' ,'GCR =', GCRCatalogs.GCR.__version__)\n",
    "\n",
    "\n",
    "from numcosmo_py import Nc, Ncm\n",
    "\n",
    "from match_id import MatchID as MID\n",
    "\n",
    "import time\n",
    "\n",
    "# GCRCatalogs.get_available_catalog_names()\n",
    "print('Numpy =', np.__version__)"
   ]
  },
  {
   "cell_type": "markdown",
   "id": "0c49458e-0259-4166-92be-6850d9cd9746",
   "metadata": {},
   "source": [
    "## Catalogs"
   ]
  },
  {
   "cell_type": "code",
   "execution_count": 2,
   "id": "0891fc00-6989-46c6-8231-029cd60a2d94",
   "metadata": {
    "tags": []
   },
   "outputs": [
    {
     "data": {
      "text/plain": [
       "{'subclass_name': 'redmapper.RedmapperCatalog',\n",
       " 'catalog_root_dir': '/global/cfs/cdirs/lsst/shared/xgal/cosmoDC2/addons/redmapper_v1.1.4',\n",
       " 'catalog_path_template': {'clusters': 'cosmoDC2_v1.1.4_mag_run_redmapper_v0.8.1_lgt05_catalog.fit',\n",
       "  'members': 'cosmoDC2_v1.1.4_mag_run_redmapper_v0.8.1_lgt05_catalog_members.fit'},\n",
       " 'sky_area': 439.78987,\n",
       " 'cosmology': {'H0': 71.0,\n",
       "  'Om0': 0.2648,\n",
       "  'Ob0': 0.0448,\n",
       "  'sigma8': 0.8,\n",
       "  'n_s': 0.963},\n",
       " 'creators': ['Eli Rykoff'],\n",
       " 'description': 'Cluster and member catalogs computed from the redMaPPer cluster finder\\n(v0.8.1) run on cosmoDC2 v1.1.4.  Richness selection is lambda > 5 to\\nfacilitate matching with catalogs run on run2.2i DR6.\\n',\n",
       " 'include_in_default_catalog_list': True}"
      ]
     },
     "execution_count": 2,
     "metadata": {},
     "output_type": "execute_result"
    }
   ],
   "source": [
    "#Cosmo DC2\n",
    "cosmodc2= GCRCatalogs.load_catalog('cosmoDC2_v1.1.4_image')\n",
    "\n",
    "#Cosmo DC2 + RedMaPPer\n",
    "catalog_dc2_redmapper = GCRCatalogs.load_catalog('cosmoDC2_v1.1.4_redmapper_v0.8.1')\n",
    "\n",
    "catalog_dc2_redmapper.get_catalog_info()"
   ]
  },
  {
   "cell_type": "code",
   "execution_count": 3,
   "id": "8ea889da-c613-4806-845e-a233bff76759",
   "metadata": {
    "tags": []
   },
   "outputs": [],
   "source": [
    "# Restrictions on richness, mass and redshift\n",
    "# min_richness = 0\n",
    "# min_halo_mass = 1e13 #Msun\n",
    "# redshift_max = 1.2\n",
    "\n",
    "# #cDC2 + RM data\n",
    "# quantities = catalog_dc2_redmapper.list_all_quantities()\n",
    "# cluster_quantities = [q for q in quantities if 'member' not in q]\n",
    "# member_quantities = [q for q in quantities if 'member' in q]\n",
    "    \n",
    "# query = GCRCatalogs.GCRQuery('(richness > ' + str(min_richness) +')')\n",
    "# cluster_data = Table(catalog_dc2_redmapper.get_quantities(cluster_quantities, [query])) # cDC2 + RM cluster data\n",
    "# member_data = Table(catalog_dc2_redmapper.get_quantities(member_quantities)) # cDC2 + RM member data\n",
    "\n",
    "# #cDC2 data\n",
    "# quantities_wanted = ['redshift','halo_mass','halo_id','galaxy_id','ra','dec', 'is_central']\n",
    "# query = GCRCatalogs.GCRQuery('(halo_mass > ' + str(min_halo_mass) +') & (redshift < ' + str(redshift_max) +') & (is_central < ' + str(redshift_max) +') ')\n",
    "# truth_data = Table(cosmodc2.get_quantities(quantities_wanted, [query]))\n",
    "\n",
    "cluster_data = Table.read('cluster_data.fits')\n",
    "member_data = Table.read('member_data.fits')\n",
    "truth_data = Table.read('truth_data.fits')\n"
   ]
  },
  {
   "cell_type": "code",
   "execution_count": 4,
   "id": "e7305c78-5323-4cf6-ae07-d44598a461f4",
   "metadata": {},
   "outputs": [
    {
     "data": {
      "text/plain": [
       "1.1499926"
      ]
     },
     "execution_count": 4,
     "metadata": {},
     "output_type": "execute_result"
    }
   ],
   "source": [
    "max(cluster_data['cluster_redshift'])"
   ]
  },
  {
   "cell_type": "code",
   "execution_count": 5,
   "id": "543539aa-d02b-4fef-b6f4-9b2f470eeed8",
   "metadata": {},
   "outputs": [],
   "source": [
    "# member_data.write('member_data.fits')"
   ]
  },
  {
   "cell_type": "code",
   "execution_count": 6,
   "id": "11a5ce18-2639-4a8c-a68f-f192982d268d",
   "metadata": {
    "tags": []
   },
   "outputs": [],
   "source": [
    "# truth_data[truth_data['is_central'] == True]\n",
    "\n",
    "# cluster_data.to_pandas().head()\n",
    "\n",
    "# type(member_data)\n",
    "\n",
    "# cluster_data.rename_column('ra', 'cluster_ra')\n",
    "# cluster_data.rename_column('dec', 'cluster_dec')\n",
    "# cluster_data.rename_column('redshift', 'cluster_redshift')\n",
    "# cluster_data.rename_column('redshift_err', 'cluster_redshift_err')"
   ]
  },
  {
   "cell_type": "markdown",
   "id": "d9d56baa-8905-4c42-9727-3163927e4594",
   "metadata": {
    "tags": []
   },
   "source": [
    "## cDC2 and cDC2 + RM Catalogs Match"
   ]
  },
  {
   "cell_type": "code",
   "execution_count": 7,
   "id": "34e1726a-4eda-42c7-a7e2-040adbf50fd4",
   "metadata": {
    "scrolled": true
   },
   "outputs": [],
   "source": [
    "# inicio = time.time()\n",
    "\n",
    "\n",
    "# mid = MID(member_data, cluster_data, truth_data)\n",
    "# matchdf = mid.unique_id_match(distance=False)\n",
    "# fim = time.time()\n",
    "# tempo_total = fim - inicio\n",
    "\n",
    "# print(f\"Tempo de execução: {tempo_total/60:.3}min\")"
   ]
  },
  {
   "cell_type": "code",
   "execution_count": 8,
   "id": "383ef284-8e63-40a8-8bd2-33c4fa90e67a",
   "metadata": {},
   "outputs": [],
   "source": [
    "# print(matchdf['distance_2d'].min(), matchdf['distance_2d'].max())\n",
    "\n",
    "# matchdf"
   ]
  },
  {
   "cell_type": "code",
   "execution_count": 9,
   "id": "e1fc2250-b0c0-439a-a7b3-c1b4e8d561fc",
   "metadata": {
    "tags": []
   },
   "outputs": [],
   "source": [
    "memberdf = member_data.to_pandas().rename(columns={'id_member': 'id'}) #This creates a dataframe and rename: id_member -> id (cDC2 + RM MEMBERS).\n",
    "truthdf = truth_data.to_pandas().rename(columns={'galaxy_id': 'id'}) #This creates a dataframe and rename: galaxy_id -> id (cDC2 MEMBERS).\n",
    "cluster_df=cluster_data.to_pandas()[['richness', 'richness_err', 'cluster_id', 'cluster_redshift', 'cluster_redshift_err', 'cluster_ra', 'cluster_dec']].rename(columns={'ra': 'cluster_ra', 'dec': 'cluster_dec', 'redshift': 'cluster_redshift', 'redshift_err': 'cluster_redshift_err'}) #This creates a dataframe for cDC2 clusters."
   ]
  },
  {
   "cell_type": "code",
   "execution_count": 10,
   "id": "f983fecc-b7cb-4351-a90f-fb3db2466e50",
   "metadata": {},
   "outputs": [],
   "source": [
    "mt_df1 = pd.merge(memberdf['id'], truthdf['id'], how='inner', on=['id']) #This selects commom members ID from cDC2 and cDC2 + RM data\n",
    "mt_df2 = pd.merge(truthdf['id'], memberdf['id'], how='inner', on=['id']) #This selects commom members ID from cDC2 and cDC2 + RM data\n"
   ]
  },
  {
   "cell_type": "code",
   "execution_count": 84,
   "id": "259a24c9-953d-40e2-8b7a-33fd11a770e2",
   "metadata": {
    "tags": []
   },
   "outputs": [],
   "source": [
    "# memberdf"
   ]
  },
  {
   "cell_type": "code",
   "execution_count": 12,
   "id": "689d6f61-be9c-40a4-b8f3-9b8e95b24c35",
   "metadata": {
    "tags": []
   },
   "outputs": [],
   "source": [
    "# truthdf"
   ]
  },
  {
   "cell_type": "code",
   "execution_count": 79,
   "id": "5dc2cf9d-5204-45c5-8bca-570b0b713ac0",
   "metadata": {
    "tags": []
   },
   "outputs": [],
   "source": [
    "# cluster_df"
   ]
  },
  {
   "cell_type": "code",
   "execution_count": 14,
   "id": "fbf15793-c8d2-4cea-8e84-2a236ba0f426",
   "metadata": {
    "tags": []
   },
   "outputs": [],
   "source": [
    "Mt_df = pd.merge(memberdf['id'], truthdf['id'], how='inner', on=['id']) #This selects commom members ID from cDC2 and cDC2 + RM data\n",
    "# Mt_df"
   ]
  },
  {
   "cell_type": "code",
   "execution_count": 15,
   "id": "9e3a3770-1a1d-4b4f-9599-2115c1a5efd6",
   "metadata": {
    "tags": []
   },
   "outputs": [],
   "source": [
    "mt_member = pd.merge(memberdf, mt_df1, how='inner', on=['id']) #This selects the matching members using Mt_df IDs\n",
    "# mt_member"
   ]
  },
  {
   "cell_type": "code",
   "execution_count": 16,
   "id": "c10c0982-a7bb-4439-817b-dcc5bc920ef9",
   "metadata": {
    "tags": []
   },
   "outputs": [],
   "source": [
    "idc = mt_member[['id', 'cluster_id_member']].rename(columns={'cluster_id_member': 'cluster_id'}) #This selects the members and clusters IDs\n",
    "# idc"
   ]
  },
  {
   "cell_type": "code",
   "execution_count": 17,
   "id": "0f1ec267-e4d3-4aa3-8347-470306a6da9e",
   "metadata": {
    "tags": []
   },
   "outputs": [],
   "source": [
    "mt_cluster = pd.merge(idc, cluster_df, how='inner', on=['cluster_id']) #This selects the clusters data by idc IDS \n",
    "# mt_cluster"
   ]
  },
  {
   "cell_type": "code",
   "execution_count": 18,
   "id": "c9b0b6ee-0327-4b2d-be67-4fdc95079c8b",
   "metadata": {
    "tags": []
   },
   "outputs": [],
   "source": [
    "mt_catalog = pd.merge(mt_cluster, truthdf, how='inner', on=['id']) #This creates the matching catalog with clustes and halos\n",
    "# mt_catalog"
   ]
  },
  {
   "cell_type": "code",
   "execution_count": 19,
   "id": "588c0f37-37e1-40a6-9632-8036be43c3d2",
   "metadata": {},
   "outputs": [],
   "source": [
    "# mt_catalog"
   ]
  },
  {
   "cell_type": "code",
   "execution_count": 20,
   "id": "2a21d68d-613a-46e7-aef2-c28a68a99199",
   "metadata": {
    "tags": []
   },
   "outputs": [],
   "source": [
    "clusters_id = mt_catalog[mt_catalog['is_central'] == True]['cluster_id'].unique() #This selects the clusters IDs\n",
    "\n",
    "# clusters_id"
   ]
  },
  {
   "cell_type": "code",
   "execution_count": 85,
   "id": "bf6e3b21-d6e1-4dbf-bd60-641675936f1a",
   "metadata": {
    "tags": []
   },
   "outputs": [
    {
     "data": {
      "text/html": [
       "<div><i>Table length=89</i>\n",
       "<table id=\"table139936442888912\" class=\"table-striped table-bordered table-condensed\">\n",
       "<thead><tr><th>mag_y_lsst_member</th><th>redshift_true_member</th><th>mag_i_lsst_member</th><th>magerr_y_lsst_member</th><th>dec_member</th><th>mag_z_lsst_member</th><th>p_member</th><th>pfree_member</th><th>magerr_r_lsst_member</th><th>magerr_z_lsst_member</th><th>refmag_member</th><th>ra_member</th><th>theta_r_member</th><th>id_member</th><th>magerr_i_lsst_member</th><th>refmag_err_member</th><th>magerr_g_lsst_member</th><th>theta_i_member</th><th>mag_r_lsst_member</th><th>mag_g_lsst_member</th><th>cluster_id_member</th></tr></thead>\n",
       "<thead><tr><th>float32</th><th>float32</th><th>float32</th><th>float32</th><th>float64</th><th>float32</th><th>float32</th><th>float32</th><th>float32</th><th>float32</th><th>float32</th><th>float64</th><th>float32</th><th>int64</th><th>float32</th><th>float32</th><th>float32</th><th>float32</th><th>float32</th><th>float32</th><th>int32</th></tr></thead>\n",
       "<tr><td>22.631079</td><td>1.2173296</td><td>24.013145</td><td>0.06995306</td><td>-40.35381778896553</td><td>23.184786</td><td>0.9909057</td><td>1.0</td><td>0.057793073</td><td>0.043042533</td><td>23.184786</td><td>71.97131250832355</td><td>1.0</td><td>9941199170</td><td>0.04011971</td><td>0.043042533</td><td>0.14750005</td><td>1.0</td><td>25.130165</td><td>26.866028</td><td>1059</td></tr>\n",
       "<tr><td>20.636473</td><td>1.2152241</td><td>22.094528</td><td>0.024215415</td><td>-40.353707357080204</td><td>21.334375</td><td>0.93042225</td><td>1.0</td><td>0.019713001</td><td>0.027573032</td><td>21.334375</td><td>71.9716327302191</td><td>1.0</td><td>9941194053</td><td>0.019002954</td><td>0.027573032</td><td>0.056430068</td><td>1.0</td><td>23.222033</td><td>24.988403</td><td>1059</td></tr>\n",
       "<tr><td>23.073053</td><td>1.2130288</td><td>24.511799</td><td>0.08365784</td><td>-40.35340328846461</td><td>23.73429</td><td>0.98982924</td><td>1.0</td><td>0.06752749</td><td>0.055328887</td><td>23.73429</td><td>71.97134392694149</td><td>1.0</td><td>9941199166</td><td>0.059165236</td><td>0.055328887</td><td>0.12060203</td><td>0.9996841</td><td>25.63061</td><td>27.276848</td><td>1059</td></tr>\n",
       "<tr><td>21.822155</td><td>1.2178587</td><td>23.26639</td><td>0.038719576</td><td>-40.35438885599343</td><td>22.622007</td><td>0.5306202</td><td>1.0</td><td>0.04173506</td><td>0.045710012</td><td>22.622007</td><td>71.97172996825088</td><td>1.0</td><td>9941199169</td><td>0.035832178</td><td>0.045710012</td><td>0.076697275</td><td>1.0</td><td>24.528866</td><td>26.193745</td><td>1059</td></tr>\n",
       "<tr><td>21.657778</td><td>1.2142217</td><td>23.118017</td><td>0.034313925</td><td>-40.35317280721748</td><td>22.316154</td><td>0.99588466</td><td>1.0</td><td>0.03436987</td><td>0.033355962</td><td>22.316154</td><td>71.97045159690926</td><td>1.0</td><td>9941194056</td><td>0.028548542</td><td>0.033355962</td><td>0.06496423</td><td>1.0</td><td>24.26065</td><td>25.850462</td><td>1059</td></tr>\n",
       "<tr><td>22.275122</td><td>1.2188866</td><td>23.754839</td><td>0.055939622</td><td>-40.352983162573715</td><td>23.119137</td><td>0.8308559</td><td>1.0</td><td>0.06580083</td><td>0.053725567</td><td>23.119137</td><td>71.97231179115215</td><td>1.0</td><td>9941199148</td><td>0.03790149</td><td>0.053725567</td><td>0.09482112</td><td>1.0</td><td>24.943996</td><td>26.329994</td><td>1059</td></tr>\n",
       "<tr><td>21.71211</td><td>1.2145417</td><td>23.115406</td><td>0.041354753</td><td>-40.35245896915369</td><td>22.370255</td><td>0.535679</td><td>1.0</td><td>0.0471725</td><td>0.033976812</td><td>22.370255</td><td>71.97154714098859</td><td>1.0</td><td>9941199164</td><td>0.027251622</td><td>0.033976812</td><td>0.08215716</td><td>1.0</td><td>24.385363</td><td>26.110294</td><td>1059</td></tr>\n",
       "<tr><td>22.053432</td><td>1.2214016</td><td>23.550816</td><td>0.052169457</td><td>-40.353504763880615</td><td>22.845572</td><td>0.8099709</td><td>1.0</td><td>0.0417499</td><td>0.043092433</td><td>22.845572</td><td>71.96939640570447</td><td>1.0</td><td>9941199149</td><td>0.03592084</td><td>0.043092433</td><td>0.13034344</td><td>1.0</td><td>24.78143</td><td>26.619183</td><td>1059</td></tr>\n",
       "<tr><td>21.918905</td><td>1.2196746</td><td>23.276403</td><td>0.054295212</td><td>-40.35207404959336</td><td>22.457602</td><td>0.9015137</td><td>1.0</td><td>0.042716626</td><td>0.025169889</td><td>22.457602</td><td>71.9705206563592</td><td>1.0</td><td>9941199147</td><td>0.037068784</td><td>0.025169889</td><td>0.06691048</td><td>1.0</td><td>24.495232</td><td>25.82888</td><td>1059</td></tr>\n",
       "<tr><td>...</td><td>...</td><td>...</td><td>...</td><td>...</td><td>...</td><td>...</td><td>...</td><td>...</td><td>...</td><td>...</td><td>...</td><td>...</td><td>...</td><td>...</td><td>...</td><td>...</td><td>...</td><td>...</td><td>...</td><td>...</td></tr>\n",
       "<tr><td>23.449783</td><td>1.0999124</td><td>24.728407</td><td>0.109168686</td><td>-40.346931987612614</td><td>23.856667</td><td>0.20921445</td><td>1.0</td><td>0.06211268</td><td>0.062883526</td><td>23.856667</td><td>71.92157406105945</td><td>0.96348053</td><td>9940281283</td><td>0.0607269</td><td>0.062883526</td><td>0.14802885</td><td>0.85562617</td><td>25.530256</td><td>27.012846</td><td>1059</td></tr>\n",
       "<tr><td>23.104721</td><td>1.2580515</td><td>24.361145</td><td>0.08086145</td><td>-40.31600158515569</td><td>23.66326</td><td>0.6965543</td><td>1.0</td><td>0.059421666</td><td>0.048628606</td><td>23.66326</td><td>71.95688090289411</td><td>0.9385434</td><td>9941516995</td><td>0.067185014</td><td>0.048628606</td><td>0.09968674</td><td>1.0</td><td>25.556358</td><td>26.869633</td><td>1059</td></tr>\n",
       "<tr><td>23.677155</td><td>1.1269501</td><td>24.868275</td><td>0.11825657</td><td>-40.393004039625666</td><td>24.082138</td><td>0.62286246</td><td>1.0</td><td>0.091446646</td><td>0.07824174</td><td>24.082138</td><td>71.96477211238079</td><td>0.9221136</td><td>9940585471</td><td>0.06356948</td><td>0.07824174</td><td>0.12031325</td><td>0.02122423</td><td>26.005623</td><td>27.258495</td><td>1059</td></tr>\n",
       "<tr><td>23.144426</td><td>1.2609593</td><td>24.439594</td><td>0.06487998</td><td>-40.39227771718118</td><td>23.798996</td><td>0.2653246</td><td>1.0</td><td>0.0724497</td><td>0.051835846</td><td>23.798996</td><td>71.95835710112671</td><td>0.907079</td><td>9941495362</td><td>0.05649331</td><td>0.051835846</td><td>0.1237191</td><td>0.9917921</td><td>25.557882</td><td>26.69349</td><td>1059</td></tr>\n",
       "<tr><td>23.347158</td><td>1.0711759</td><td>24.530136</td><td>0.07835561</td><td>-40.328639108550384</td><td>23.677801</td><td>0.025608076</td><td>1.0</td><td>0.07825831</td><td>0.0550979</td><td>23.677801</td><td>72.01233869190025</td><td>0.9061391</td><td>9940292973</td><td>0.048865456</td><td>0.0550979</td><td>0.11028616</td><td>0.9999958</td><td>25.443855</td><td>26.544897</td><td>1059</td></tr>\n",
       "<tr><td>23.137575</td><td>1.2980175</td><td>24.6824</td><td>0.07001162</td><td>-40.32256644094319</td><td>23.959074</td><td>0.5866967</td><td>1.0</td><td>0.07144922</td><td>0.06645974</td><td>23.959074</td><td>71.93736687012716</td><td>0.84193</td><td>9941485803</td><td>0.072715946</td><td>0.06645974</td><td>0.15474781</td><td>0.29559666</td><td>25.86485</td><td>27.298393</td><td>1059</td></tr>\n",
       "<tr><td>22.83641</td><td>1.2217064</td><td>24.293962</td><td>0.056602884</td><td>-40.37692223030995</td><td>23.521622</td><td>0.68530816</td><td>1.0</td><td>0.10417505</td><td>0.06287823</td><td>23.521622</td><td>71.9263959628609</td><td>0.7332158</td><td>9941161480</td><td>0.06672481</td><td>0.06287823</td><td>0.10041831</td><td>1.0</td><td>25.487196</td><td>26.705942</td><td>1059</td></tr>\n",
       "<tr><td>23.178602</td><td>0.9902244</td><td>24.309834</td><td>0.07061574</td><td>-40.371246660066525</td><td>23.643534</td><td>0.3426794</td><td>1.0</td><td>0.051707495</td><td>0.059519444</td><td>23.643534</td><td>72.02228269414175</td><td>0.6081741</td><td>9939673616</td><td>0.051570475</td><td>0.059519444</td><td>0.09184725</td><td>0.9999987</td><td>25.30888</td><td>26.603012</td><td>1059</td></tr>\n",
       "<tr><td>22.04145</td><td>1.1289517</td><td>23.424913</td><td>0.05045787</td><td>-40.398340555459015</td><td>22.534695</td><td>0.80306</td><td>1.0</td><td>0.037626337</td><td>0.044155348</td><td>22.534695</td><td>71.99376106050332</td><td>0.026169375</td><td>9940571701</td><td>0.03787484</td><td>0.044155348</td><td>0.07429531</td><td>1.0</td><td>24.453644</td><td>25.97176</td><td>1059</td></tr>\n",
       "<tr><td>22.659073</td><td>1.21058</td><td>24.104809</td><td>0.07371047</td><td>-40.324138617593164</td><td>23.317806</td><td>0.67346007</td><td>1.0</td><td>0.03770369</td><td>0.043200504</td><td>23.317806</td><td>72.02096447467481</td><td>0.02316811</td><td>9941189259</td><td>0.05675807</td><td>0.043200504</td><td>0.07943651</td><td>1.0</td><td>25.047598</td><td>26.464258</td><td>1059</td></tr>\n",
       "</table></div>"
      ],
      "text/plain": [
       "<Table length=89>\n",
       "mag_y_lsst_member redshift_true_member ... mag_g_lsst_member cluster_id_member\n",
       "     float32            float32        ...      float32            int32      \n",
       "----------------- -------------------- ... ----------------- -----------------\n",
       "        22.631079            1.2173296 ...         26.866028              1059\n",
       "        20.636473            1.2152241 ...         24.988403              1059\n",
       "        23.073053            1.2130288 ...         27.276848              1059\n",
       "        21.822155            1.2178587 ...         26.193745              1059\n",
       "        21.657778            1.2142217 ...         25.850462              1059\n",
       "        22.275122            1.2188866 ...         26.329994              1059\n",
       "         21.71211            1.2145417 ...         26.110294              1059\n",
       "        22.053432            1.2214016 ...         26.619183              1059\n",
       "        21.918905            1.2196746 ...          25.82888              1059\n",
       "              ...                  ... ...               ...               ...\n",
       "        23.449783            1.0999124 ...         27.012846              1059\n",
       "        23.104721            1.2580515 ...         26.869633              1059\n",
       "        23.677155            1.1269501 ...         27.258495              1059\n",
       "        23.144426            1.2609593 ...          26.69349              1059\n",
       "        23.347158            1.0711759 ...         26.544897              1059\n",
       "        23.137575            1.2980175 ...         27.298393              1059\n",
       "         22.83641            1.2217064 ...         26.705942              1059\n",
       "        23.178602            0.9902244 ...         26.603012              1059\n",
       "         22.04145            1.1289517 ...          25.97176              1059\n",
       "        22.659073              1.21058 ...         26.464258              1059"
      ]
     },
     "execution_count": 85,
     "metadata": {},
     "output_type": "execute_result"
    }
   ],
   "source": [
    "mt_catalog['freq'] = mt_catalog.groupby(['cluster_id', 'halo_id'])['halo_id'].transform('count') # This Adds a frequency column for each halo ID\n",
    "                                                                                                 # in mt_catalog.\n",
    "# mt_catalog.head()\n",
    "# bla = mt_catalog.groupby(['cluster_id'])['cluster_id'].transform('count')\n",
    "# bla\n",
    "\n",
    "cluster_23 = mt_catalog[mt_catalog['cluster_id'] == 1059]\n",
    "member_data[member_data['cluster_id_member'] == 1059]"
   ]
  },
  {
   "cell_type": "code",
   "execution_count": 22,
   "id": "469d60db-8d0f-4fba-8058-a135e6697c70",
   "metadata": {
    "tags": []
   },
   "outputs": [],
   "source": [
    "# iscentral = mt_catalog[mt_catalog['is_central'] == True] #This selects the central members\n",
    "\n",
    "# iscentral.head(4)\n",
    "\n",
    "\n",
    "# iscentral[['id','cluster_id','halo_id', 'cluster_ra', 'ra',\n",
    "#                                              'cluster_dec', 'dec', 'cluster_redshift', 'redshift',\n",
    "#                                              'cluster_redshift_err', 'richness', 'richness_err', 'halo_mass', 'is_central', 'freq']].head(4)\n",
    "\n",
    "\n",
    "# iscentral[mt_catalog['cluster_id'] == 23]"
   ]
  },
  {
   "cell_type": "code",
   "execution_count": 23,
   "id": "f2d98db8-7013-4853-8f16-857b90cf4f61",
   "metadata": {},
   "outputs": [],
   "source": [
    "# gcut[(gcut['redshift'] > gcut['cluster_redshift'] - gcut['cluster_redshift_err']) & (gcut['redshift'] < gcut['cluster_redshift'] + gcut['cluster_redshift_err'])  ] \n",
    "\n",
    "# ra_cut = (gcut['ra'] > gcut['cluster_ra'] - 1e-4) & (gcut['ra'] < gcut['cluster_ra'] + 1e-4) \n",
    "# dec_cut = (gcut['dec'] > gcut['cluster_dec'] - 1e-4) & (gcut['dec'] < gcut['cluster_dec'] + 1e-4)\n",
    "# gcut = gcut[ra_cut & dec_cut]\n",
    "# gcut"
   ]
  },
  {
   "cell_type": "code",
   "execution_count": 24,
   "id": "04e374d6-227c-4f04-9faf-65c4e37f513e",
   "metadata": {},
   "outputs": [],
   "source": [
    "# idgroups.get_group(3)"
   ]
  },
  {
   "cell_type": "code",
   "execution_count": 25,
   "id": "0d44522e-3036-4c59-bd40-d1fa9bace042",
   "metadata": {
    "scrolled": true,
    "tags": []
   },
   "outputs": [],
   "source": [
    "# This loop creates the unique matching catalog using the halo ID frequency. It selects the halos with maximum frequency.\n",
    "\n",
    "idgroups = mt_catalog.groupby('cluster_id') # It groups data by cluster_id. \n",
    "\n",
    "inicio = time.time()\n",
    "\n",
    "match_dataframe = pd.DataFrame()                                                                                                                                                                            #\n",
    "for cl in clusters_id:                                                                                        \n",
    "    gcut = idgroups.get_group(cl)\n",
    "    \n",
    "    gcut = gcut[gcut['freq'] == gcut['freq'].max()]\n",
    "\n",
    "    match_dataframe = pd.concat([match_dataframe, gcut], ignore_index=True)\n",
    "    \n",
    "fim = time.time()\n"
   ]
  },
  {
   "cell_type": "code",
   "execution_count": 26,
   "id": "082d1398-b789-41ee-877d-77bb0748c792",
   "metadata": {},
   "outputs": [
    {
     "name": "stdout",
     "output_type": "stream",
     "text": [
      "total time = 81.29 seconds\n"
     ]
    }
   ],
   "source": [
    "print(f'total time = {fim - inicio :.2f} seconds')\n"
   ]
  },
  {
   "cell_type": "code",
   "execution_count": 27,
   "id": "abc7c02e-e7f8-4462-a505-d32980de0eb9",
   "metadata": {},
   "outputs": [],
   "source": [
    "# match_dataframe.head(15)\n"
   ]
  },
  {
   "cell_type": "code",
   "execution_count": 58,
   "id": "6305199d-46ac-4bba-9381-4446e0f4ba79",
   "metadata": {},
   "outputs": [],
   "source": [
    "match_dataframe_organized = match_dataframe[['id','cluster_id','halo_id', 'cluster_ra', 'ra',\n",
    "                                             'cluster_dec', 'dec', 'richness', 'richness_err', 'halo_mass', 'is_central', 'redshift', 'cluster_redshift', 'cluster_redshift_err']]\n",
    "match_dataframe_organized = match_dataframe_organized[match_dataframe_organized['is_central'] == True]"
   ]
  },
  {
   "cell_type": "code",
   "execution_count": 59,
   "id": "b0e179ef-186f-44d3-af6f-0192a4104a91",
   "metadata": {},
   "outputs": [
    {
     "data": {
      "text/html": [
       "<div>\n",
       "<style scoped>\n",
       "    .dataframe tbody tr th:only-of-type {\n",
       "        vertical-align: middle;\n",
       "    }\n",
       "\n",
       "    .dataframe tbody tr th {\n",
       "        vertical-align: top;\n",
       "    }\n",
       "\n",
       "    .dataframe thead th {\n",
       "        text-align: right;\n",
       "    }\n",
       "</style>\n",
       "<table border=\"1\" class=\"dataframe\">\n",
       "  <thead>\n",
       "    <tr style=\"text-align: right;\">\n",
       "      <th></th>\n",
       "      <th>id</th>\n",
       "      <th>cluster_id</th>\n",
       "      <th>halo_id</th>\n",
       "      <th>cluster_ra</th>\n",
       "      <th>ra</th>\n",
       "      <th>cluster_dec</th>\n",
       "      <th>dec</th>\n",
       "      <th>richness</th>\n",
       "      <th>richness_err</th>\n",
       "      <th>halo_mass</th>\n",
       "      <th>is_central</th>\n",
       "      <th>redshift</th>\n",
       "      <th>cluster_redshift</th>\n",
       "      <th>cluster_redshift_err</th>\n",
       "    </tr>\n",
       "  </thead>\n",
       "  <tbody>\n",
       "    <tr>\n",
       "      <th>0</th>\n",
       "      <td>1312945563</td>\n",
       "      <td>10</td>\n",
       "      <td>1162500021323</td>\n",
       "      <td>52.520436</td>\n",
       "      <td>52.520436</td>\n",
       "      <td>-25.717996</td>\n",
       "      <td>-25.717996</td>\n",
       "      <td>190.706650</td>\n",
       "      <td>3.746967</td>\n",
       "      <td>5.461543e+14</td>\n",
       "      <td>True</td>\n",
       "      <td>0.510724</td>\n",
       "      <td>0.513513</td>\n",
       "      <td>0.002786</td>\n",
       "    </tr>\n",
       "    <tr>\n",
       "      <th>96</th>\n",
       "      <td>2000524808</td>\n",
       "      <td>18</td>\n",
       "      <td>549500032315</td>\n",
       "      <td>56.920377</td>\n",
       "      <td>56.920377</td>\n",
       "      <td>-27.204341</td>\n",
       "      <td>-27.204341</td>\n",
       "      <td>179.128128</td>\n",
       "      <td>3.693436</td>\n",
       "      <td>1.009535e+15</td>\n",
       "      <td>True</td>\n",
       "      <td>0.574030</td>\n",
       "      <td>0.571270</td>\n",
       "      <td>0.003218</td>\n",
       "    </tr>\n",
       "    <tr>\n",
       "      <th>285</th>\n",
       "      <td>2002535198</td>\n",
       "      <td>24</td>\n",
       "      <td>2554900032241</td>\n",
       "      <td>56.998497</td>\n",
       "      <td>56.998497</td>\n",
       "      <td>-26.717208</td>\n",
       "      <td>-26.717208</td>\n",
       "      <td>124.027153</td>\n",
       "      <td>2.417291</td>\n",
       "      <td>3.818845e+14</td>\n",
       "      <td>True</td>\n",
       "      <td>1.034776</td>\n",
       "      <td>1.040338</td>\n",
       "      <td>0.006518</td>\n",
       "    </tr>\n",
       "    <tr>\n",
       "      <th>413</th>\n",
       "      <td>2000759779</td>\n",
       "      <td>30</td>\n",
       "      <td>1275900032300</td>\n",
       "      <td>58.563624</td>\n",
       "      <td>58.563624</td>\n",
       "      <td>-27.429962</td>\n",
       "      <td>-27.429962</td>\n",
       "      <td>167.336029</td>\n",
       "      <td>3.677716</td>\n",
       "      <td>3.884919e+14</td>\n",
       "      <td>True</td>\n",
       "      <td>0.642617</td>\n",
       "      <td>0.635185</td>\n",
       "      <td>0.006033</td>\n",
       "    </tr>\n",
       "    <tr>\n",
       "      <th>599</th>\n",
       "      <td>2000292501</td>\n",
       "      <td>71</td>\n",
       "      <td>564000032338</td>\n",
       "      <td>58.355198</td>\n",
       "      <td>58.349925</td>\n",
       "      <td>-26.867687</td>\n",
       "      <td>-26.866271</td>\n",
       "      <td>111.914703</td>\n",
       "      <td>3.366554</td>\n",
       "      <td>3.569262e+14</td>\n",
       "      <td>True</td>\n",
       "      <td>0.438581</td>\n",
       "      <td>0.442303</td>\n",
       "      <td>0.003674</td>\n",
       "    </tr>\n",
       "    <tr>\n",
       "      <th>...</th>\n",
       "      <td>...</td>\n",
       "      <td>...</td>\n",
       "      <td>...</td>\n",
       "      <td>...</td>\n",
       "      <td>...</td>\n",
       "      <td>...</td>\n",
       "      <td>...</td>\n",
       "      <td>...</td>\n",
       "      <td>...</td>\n",
       "      <td>...</td>\n",
       "      <td>...</td>\n",
       "      <td>...</td>\n",
       "      <td>...</td>\n",
       "      <td>...</td>\n",
       "    </tr>\n",
       "    <tr>\n",
       "      <th>430494</th>\n",
       "      <td>11315892952</td>\n",
       "      <td>6928</td>\n",
       "      <td>4041900181224</td>\n",
       "      <td>69.227644</td>\n",
       "      <td>69.227644</td>\n",
       "      <td>-43.144912</td>\n",
       "      <td>-43.144912</td>\n",
       "      <td>17.501669</td>\n",
       "      <td>1.679644</td>\n",
       "      <td>6.707982e+13</td>\n",
       "      <td>True</td>\n",
       "      <td>1.168442</td>\n",
       "      <td>1.135227</td>\n",
       "      <td>0.007037</td>\n",
       "    </tr>\n",
       "    <tr>\n",
       "      <th>430522</th>\n",
       "      <td>11940608972</td>\n",
       "      <td>21720</td>\n",
       "      <td>2358500191230</td>\n",
       "      <td>67.806866</td>\n",
       "      <td>67.806866</td>\n",
       "      <td>-45.049689</td>\n",
       "      <td>-45.049689</td>\n",
       "      <td>10.819990</td>\n",
       "      <td>1.563317</td>\n",
       "      <td>7.055515e+13</td>\n",
       "      <td>True</td>\n",
       "      <td>1.131637</td>\n",
       "      <td>1.133446</td>\n",
       "      <td>0.007788</td>\n",
       "    </tr>\n",
       "    <tr>\n",
       "      <th>430532</th>\n",
       "      <td>12000459039</td>\n",
       "      <td>54206</td>\n",
       "      <td>958400192323</td>\n",
       "      <td>70.472970</td>\n",
       "      <td>70.472970</td>\n",
       "      <td>-44.819294</td>\n",
       "      <td>-44.819294</td>\n",
       "      <td>5.282434</td>\n",
       "      <td>1.234711</td>\n",
       "      <td>1.931144e+13</td>\n",
       "      <td>True</td>\n",
       "      <td>0.506876</td>\n",
       "      <td>0.501281</td>\n",
       "      <td>0.008677</td>\n",
       "    </tr>\n",
       "    <tr>\n",
       "      <th>430535</th>\n",
       "      <td>12000044030</td>\n",
       "      <td>97912</td>\n",
       "      <td>314500192401</td>\n",
       "      <td>71.592885</td>\n",
       "      <td>71.566666</td>\n",
       "      <td>-44.833270</td>\n",
       "      <td>-44.863084</td>\n",
       "      <td>5.007845</td>\n",
       "      <td>0.897868</td>\n",
       "      <td>1.619135e+13</td>\n",
       "      <td>True</td>\n",
       "      <td>0.218527</td>\n",
       "      <td>0.211521</td>\n",
       "      <td>0.006237</td>\n",
       "    </tr>\n",
       "    <tr>\n",
       "      <th>430538</th>\n",
       "      <td>11315864504</td>\n",
       "      <td>37112</td>\n",
       "      <td>1958200181224</td>\n",
       "      <td>69.361714</td>\n",
       "      <td>69.361714</td>\n",
       "      <td>-44.138626</td>\n",
       "      <td>-44.138626</td>\n",
       "      <td>5.358709</td>\n",
       "      <td>1.429321</td>\n",
       "      <td>4.699408e+13</td>\n",
       "      <td>True</td>\n",
       "      <td>1.151701</td>\n",
       "      <td>1.147501</td>\n",
       "      <td>0.009259</td>\n",
       "    </tr>\n",
       "  </tbody>\n",
       "</table>\n",
       "<p>37462 rows × 14 columns</p>\n",
       "</div>"
      ],
      "text/plain": [
       "                 id  cluster_id        halo_id  cluster_ra         ra  \\\n",
       "0        1312945563          10  1162500021323   52.520436  52.520436   \n",
       "96       2000524808          18   549500032315   56.920377  56.920377   \n",
       "285      2002535198          24  2554900032241   56.998497  56.998497   \n",
       "413      2000759779          30  1275900032300   58.563624  58.563624   \n",
       "599      2000292501          71   564000032338   58.355198  58.349925   \n",
       "...             ...         ...            ...         ...        ...   \n",
       "430494  11315892952        6928  4041900181224   69.227644  69.227644   \n",
       "430522  11940608972       21720  2358500191230   67.806866  67.806866   \n",
       "430532  12000459039       54206   958400192323   70.472970  70.472970   \n",
       "430535  12000044030       97912   314500192401   71.592885  71.566666   \n",
       "430538  11315864504       37112  1958200181224   69.361714  69.361714   \n",
       "\n",
       "        cluster_dec        dec    richness  richness_err     halo_mass  \\\n",
       "0        -25.717996 -25.717996  190.706650      3.746967  5.461543e+14   \n",
       "96       -27.204341 -27.204341  179.128128      3.693436  1.009535e+15   \n",
       "285      -26.717208 -26.717208  124.027153      2.417291  3.818845e+14   \n",
       "413      -27.429962 -27.429962  167.336029      3.677716  3.884919e+14   \n",
       "599      -26.867687 -26.866271  111.914703      3.366554  3.569262e+14   \n",
       "...             ...        ...         ...           ...           ...   \n",
       "430494   -43.144912 -43.144912   17.501669      1.679644  6.707982e+13   \n",
       "430522   -45.049689 -45.049689   10.819990      1.563317  7.055515e+13   \n",
       "430532   -44.819294 -44.819294    5.282434      1.234711  1.931144e+13   \n",
       "430535   -44.833270 -44.863084    5.007845      0.897868  1.619135e+13   \n",
       "430538   -44.138626 -44.138626    5.358709      1.429321  4.699408e+13   \n",
       "\n",
       "        is_central  redshift  cluster_redshift  cluster_redshift_err  \n",
       "0             True  0.510724          0.513513              0.002786  \n",
       "96            True  0.574030          0.571270              0.003218  \n",
       "285           True  1.034776          1.040338              0.006518  \n",
       "413           True  0.642617          0.635185              0.006033  \n",
       "599           True  0.438581          0.442303              0.003674  \n",
       "...            ...       ...               ...                   ...  \n",
       "430494        True  1.168442          1.135227              0.007037  \n",
       "430522        True  1.131637          1.133446              0.007788  \n",
       "430532        True  0.506876          0.501281              0.008677  \n",
       "430535        True  0.218527          0.211521              0.006237  \n",
       "430538        True  1.151701          1.147501              0.009259  \n",
       "\n",
       "[37462 rows x 14 columns]"
      ]
     },
     "execution_count": 59,
     "metadata": {},
     "output_type": "execute_result"
    }
   ],
   "source": [
    "match_dataframe_organized"
   ]
  },
  {
   "cell_type": "code",
   "execution_count": 60,
   "id": "819357c7-69be-481d-b0d1-237db02e9868",
   "metadata": {},
   "outputs": [],
   "source": [
    "# Table.from_pandas(match_dataframe_organized).write('match_ID.fits', overwrite=True)"
   ]
  },
  {
   "cell_type": "markdown",
   "id": "f0cb9313-f3a4-4edd-8ced-cfe7cf4f1b3a",
   "metadata": {},
   "source": [
    "## Data Analysis"
   ]
  },
  {
   "cell_type": "markdown",
   "id": "f30c12f6-3e2b-4ee8-87f6-5158fa25136c",
   "metadata": {},
   "source": [
    "### Duplicates"
   ]
  },
  {
   "cell_type": "code",
   "execution_count": 61,
   "id": "e34d1068-3762-4ffe-9c04-fdf9e84babb3",
   "metadata": {},
   "outputs": [
    {
     "name": "stdout",
     "output_type": "stream",
     "text": [
      "Duplicated halos don't exists.\n"
     ]
    }
   ],
   "source": [
    "if True in match_dataframe_organized['halo_id'].duplicated():\n",
    "    match_dataframe_organized[match_dataframe_organized['halo_id'].duplicated()]\n",
    "else:\n",
    "    print( \"Duplicated halos don't exists.\")"
   ]
  },
  {
   "cell_type": "code",
   "execution_count": 62,
   "id": "e214c76b-767c-402a-9587-ec6aa229c9ae",
   "metadata": {},
   "outputs": [
    {
     "name": "stdout",
     "output_type": "stream",
     "text": [
      "Duplicated clusters don't exists.\n"
     ]
    }
   ],
   "source": [
    "if True in match_dataframe_organized['cluster_id'].duplicated():\n",
    "    match_dataframe_organized[match_dataframe_organized['cluster_id'].duplicated()]\n",
    "else:\n",
    "    print( \"Duplicated clusters don't exists.\")"
   ]
  },
  {
   "cell_type": "code",
   "execution_count": 63,
   "id": "b1bb6661-61d0-4596-bf4f-d4c35e1d87f4",
   "metadata": {},
   "outputs": [
    {
     "name": "stdout",
     "output_type": "stream",
     "text": [
      "Duplicated members don't exists.\n"
     ]
    }
   ],
   "source": [
    "if True in match_dataframe_organized['id'].duplicated():\n",
    "    match_dataframe_organized[match_dataframe_organized['id'].duplicated()]\n",
    "else:\n",
    "    print( \"Duplicated members don't exists.\")"
   ]
  },
  {
   "cell_type": "markdown",
   "id": "2ee85c06-8dcd-4488-a28c-fadb1c62560c",
   "metadata": {},
   "source": [
    "### RA, Dec, Redshift"
   ]
  },
  {
   "cell_type": "code",
   "execution_count": 64,
   "id": "6276511b-0f4a-4ce2-ab40-e736a9d3520c",
   "metadata": {},
   "outputs": [
    {
     "data": {
      "image/png": "[encoded data removed]",
      "text/plain": [
       "<Figure size 640x480 with 1 Axes>"
      ]
     },
     "metadata": {},
     "output_type": "display_data"
    }
   ],
   "source": [
    "plt.scatter(match_dataframe_organized['cluster_ra'], match_dataframe_organized['ra'])\n",
    "\n",
    "plt.xlabel('Cluster RA')\n",
    "plt.ylabel('Halo RA')\n",
    "plt.show()"
   ]
  },
  {
   "cell_type": "code",
   "execution_count": 65,
   "id": "c69fe3f1-b82d-4b43-b7c5-66dd0e45bfec",
   "metadata": {},
   "outputs": [
    {
     "data": {
      "image/png": "[encoded data removed]",
      "text/plain": [
       "<Figure size 640x480 with 1 Axes>"
      ]
     },
     "metadata": {},
     "output_type": "display_data"
    }
   ],
   "source": [
    "plt.scatter(match_dataframe_organized['cluster_dec'], match_dataframe_organized['dec'])\n",
    "\n",
    "plt.xlabel('Cluster Dec')\n",
    "plt.ylabel('Halo Dec')\n",
    "plt.show()"
   ]
  },
  {
   "cell_type": "code",
   "execution_count": 66,
   "id": "ab463540-0422-42d5-a7ba-a911f85cace5",
   "metadata": {},
   "outputs": [
    {
     "data": {
      "image/png": "[encoded data removed]",
      "text/plain": [
       "<Figure size 640x480 with 1 Axes>"
      ]
     },
     "metadata": {},
     "output_type": "display_data"
    }
   ],
   "source": [
    "zdf = match_dataframe_organized.sort_values(by='redshift')\n",
    "\n",
    "x = match_dataframe_organized['redshift']\n",
    "y = match_dataframe_organized['cluster_redshift']\n",
    "y_err = match_dataframe_organized['cluster_redshift_err']\n",
    "\n",
    "# plt.scatter(x, y)\n",
    "\n",
    "plt.errorbar(x, y, yerr = y_err, fmt=\".\")\n",
    "\n",
    "plt.xlabel('Cluster redshift')\n",
    "plt.ylabel('Halo redshift')\n",
    "plt.show()\n",
    "\n"
   ]
  },
  {
   "cell_type": "markdown",
   "id": "33aa7c24-0ffb-4170-9276-7f0688d629c2",
   "metadata": {},
   "source": [
    "### Richness x Mass"
   ]
  },
  {
   "cell_type": "code",
   "execution_count": 67,
   "id": "3c7e202f-9c2f-4523-ab51-f74b123b4c05",
   "metadata": {},
   "outputs": [
    {
     "data": {
      "image/png": "[encoded data removed]",
      "text/plain": [
       "<Figure size 640x480 with 1 Axes>"
      ]
     },
     "metadata": {},
     "output_type": "display_data"
    }
   ],
   "source": [
    "plt.scatter(np.log10(match_dataframe_organized['halo_mass']), np.log(match_dataframe_organized['richness']))\n",
    "\n",
    "plt.xlabel('log10 M ')\n",
    "plt.ylabel('ln R')\n",
    "plt.show()"
   ]
  },
  {
   "cell_type": "markdown",
   "id": "e6ced01b-7e72-434a-8bf2-bc8ecc4d93e8",
   "metadata": {},
   "source": [
    "## tests"
   ]
  },
  {
   "cell_type": "code",
   "execution_count": 68,
   "id": "a2761ec1-8ab0-49ca-b6e5-8ec8ae99e9ba",
   "metadata": {},
   "outputs": [],
   "source": [
    "# inicio = time.time()\n",
    "\n",
    "# mt_dataframe2 = mtrmdc2(member_data, cluster_data, truth_data)\n",
    "\n",
    "# fim = time.time()\n",
    "# tempo_total = fim - inicio\n",
    "\n",
    "# print(f\"Tempo de execução: {tempo_total/60:.3}min\")"
   ]
  },
  {
   "cell_type": "code",
   "execution_count": 69,
   "id": "a1eb9e90-7958-4e4f-8e5d-4ffa738b1c13",
   "metadata": {},
   "outputs": [],
   "source": [
    "# mt_dataframe"
   ]
  },
  {
   "cell_type": "code",
   "execution_count": 70,
   "id": "963bc8b1-388c-4126-bbef-22a9bc6713ba",
   "metadata": {},
   "outputs": [],
   "source": [
    "# mt_table = Table.from_pandas(match_dataframe)"
   ]
  },
  {
   "cell_type": "code",
   "execution_count": 71,
   "id": "51257b02-6654-44f2-b395-8e0879661d18",
   "metadata": {},
   "outputs": [],
   "source": [
    "# mt_table.write('match_ID.fits')"
   ]
  },
  {
   "cell_type": "code",
   "execution_count": 72,
   "id": "b9dc9153-5cbd-4823-b43a-bab94743be58",
   "metadata": {},
   "outputs": [],
   "source": [
    "# match_dataframe_organized = match_dataframe_organized[match_dataframe_organized['cluster_id'] == 23]"
   ]
  },
  {
   "cell_type": "code",
   "execution_count": 73,
   "id": "5afe6374-dc4d-4a34-8e69-090254edf155",
   "metadata": {},
   "outputs": [
    {
     "data": {
      "text/html": [
       "<div>\n",
       "<style scoped>\n",
       "    .dataframe tbody tr th:only-of-type {\n",
       "        vertical-align: middle;\n",
       "    }\n",
       "\n",
       "    .dataframe tbody tr th {\n",
       "        vertical-align: top;\n",
       "    }\n",
       "\n",
       "    .dataframe thead th {\n",
       "        text-align: right;\n",
       "    }\n",
       "</style>\n",
       "<table border=\"1\" class=\"dataframe\">\n",
       "  <thead>\n",
       "    <tr style=\"text-align: right;\">\n",
       "      <th></th>\n",
       "      <th>id</th>\n",
       "      <th>cluster_id</th>\n",
       "      <th>halo_id</th>\n",
       "      <th>cluster_ra</th>\n",
       "      <th>ra</th>\n",
       "      <th>cluster_dec</th>\n",
       "      <th>dec</th>\n",
       "      <th>richness</th>\n",
       "      <th>richness_err</th>\n",
       "      <th>halo_mass</th>\n",
       "      <th>is_central</th>\n",
       "      <th>redshift</th>\n",
       "      <th>cluster_redshift</th>\n",
       "      <th>cluster_redshift_err</th>\n",
       "    </tr>\n",
       "  </thead>\n",
       "  <tbody>\n",
       "    <tr>\n",
       "      <th>230031</th>\n",
       "      <td>8937947934</td>\n",
       "      <td>237</td>\n",
       "      <td>1023400143323</td>\n",
       "      <td>65.703074</td>\n",
       "      <td>65.703074</td>\n",
       "      <td>-38.113944</td>\n",
       "      <td>-38.113944</td>\n",
       "      <td>71.428001</td>\n",
       "      <td>3.361983</td>\n",
       "      <td>9.600790e+13</td>\n",
       "      <td>True</td>\n",
       "      <td>0.517887</td>\n",
       "      <td>0.517373</td>\n",
       "      <td>0.003140</td>\n",
       "    </tr>\n",
       "    <tr>\n",
       "      <th>289088</th>\n",
       "      <td>10938375100</td>\n",
       "      <td>683</td>\n",
       "      <td>272100175293</td>\n",
       "      <td>50.307897</td>\n",
       "      <td>50.307897</td>\n",
       "      <td>-43.535580</td>\n",
       "      <td>-43.535580</td>\n",
       "      <td>55.288239</td>\n",
       "      <td>2.703483</td>\n",
       "      <td>8.961475e+13</td>\n",
       "      <td>True</td>\n",
       "      <td>0.681201</td>\n",
       "      <td>0.683202</td>\n",
       "      <td>0.007408</td>\n",
       "    </tr>\n",
       "    <tr>\n",
       "      <th>383213</th>\n",
       "      <td>9940304208</td>\n",
       "      <td>1059</td>\n",
       "      <td>2489100159235</td>\n",
       "      <td>71.971633</td>\n",
       "      <td>72.003318</td>\n",
       "      <td>-40.353707</td>\n",
       "      <td>-40.353284</td>\n",
       "      <td>57.881584</td>\n",
       "      <td>3.163651</td>\n",
       "      <td>1.197821e+13</td>\n",
       "      <td>True</td>\n",
       "      <td>1.093952</td>\n",
       "      <td>1.148770</td>\n",
       "      <td>0.004607</td>\n",
       "    </tr>\n",
       "  </tbody>\n",
       "</table>\n",
       "</div>"
      ],
      "text/plain": [
       "                 id  cluster_id        halo_id  cluster_ra         ra  \\\n",
       "230031   8937947934         237  1023400143323   65.703074  65.703074   \n",
       "289088  10938375100         683   272100175293   50.307897  50.307897   \n",
       "383213   9940304208        1059  2489100159235   71.971633  72.003318   \n",
       "\n",
       "        cluster_dec        dec   richness  richness_err     halo_mass  \\\n",
       "230031   -38.113944 -38.113944  71.428001      3.361983  9.600790e+13   \n",
       "289088   -43.535580 -43.535580  55.288239      2.703483  8.961475e+13   \n",
       "383213   -40.353707 -40.353284  57.881584      3.163651  1.197821e+13   \n",
       "\n",
       "        is_central  redshift  cluster_redshift  cluster_redshift_err  \n",
       "230031        True  0.517887          0.517373              0.003140  \n",
       "289088        True  0.681201          0.683202              0.007408  \n",
       "383213        True  1.093952          1.148770              0.004607  "
      ]
     },
     "execution_count": 73,
     "metadata": {},
     "output_type": "execute_result"
    }
   ],
   "source": [
    "match_dataframe_organized = match_dataframe_organized[match_dataframe_organized['richness'] > 50]\n",
    "\n",
    "match_dataframe_organized[match_dataframe_organized['halo_mass'] < 1e14]"
   ]
  },
  {
   "cell_type": "code",
   "execution_count": 75,
   "id": "3b8c8012-195b-4d5f-aea1-893e8134e4d4",
   "metadata": {},
   "outputs": [
    {
     "data": {
      "text/html": [
       "<div>\n",
       "<style scoped>\n",
       "    .dataframe tbody tr th:only-of-type {\n",
       "        vertical-align: middle;\n",
       "    }\n",
       "\n",
       "    .dataframe tbody tr th {\n",
       "        vertical-align: top;\n",
       "    }\n",
       "\n",
       "    .dataframe thead th {\n",
       "        text-align: right;\n",
       "    }\n",
       "</style>\n",
       "<table border=\"1\" class=\"dataframe\">\n",
       "  <thead>\n",
       "    <tr style=\"text-align: right;\">\n",
       "      <th></th>\n",
       "      <th>id</th>\n",
       "      <th>cluster_id</th>\n",
       "      <th>richness</th>\n",
       "      <th>richness_err</th>\n",
       "      <th>cluster_redshift</th>\n",
       "      <th>cluster_redshift_err</th>\n",
       "      <th>cluster_ra</th>\n",
       "      <th>cluster_dec</th>\n",
       "      <th>ra</th>\n",
       "      <th>redshift</th>\n",
       "      <th>dec</th>\n",
       "      <th>is_central</th>\n",
       "      <th>halo_id</th>\n",
       "      <th>halo_mass</th>\n",
       "      <th>freq</th>\n",
       "    </tr>\n",
       "  </thead>\n",
       "  <tbody>\n",
       "    <tr>\n",
       "      <th>383213</th>\n",
       "      <td>9940304208</td>\n",
       "      <td>1059</td>\n",
       "      <td>57.881584</td>\n",
       "      <td>3.163651</td>\n",
       "      <td>1.14877</td>\n",
       "      <td>0.004607</td>\n",
       "      <td>71.971633</td>\n",
       "      <td>-40.353707</td>\n",
       "      <td>72.003318</td>\n",
       "      <td>1.093952</td>\n",
       "      <td>-40.353284</td>\n",
       "      <td>True</td>\n",
       "      <td>2489100159235</td>\n",
       "      <td>1.197821e+13</td>\n",
       "      <td>2</td>\n",
       "    </tr>\n",
       "    <tr>\n",
       "      <th>383214</th>\n",
       "      <td>9940304231</td>\n",
       "      <td>1059</td>\n",
       "      <td>57.881584</td>\n",
       "      <td>3.163651</td>\n",
       "      <td>1.14877</td>\n",
       "      <td>0.004607</td>\n",
       "      <td>71.971633</td>\n",
       "      <td>-40.353707</td>\n",
       "      <td>72.011116</td>\n",
       "      <td>1.095576</td>\n",
       "      <td>-40.352566</td>\n",
       "      <td>False</td>\n",
       "      <td>2489100159235</td>\n",
       "      <td>1.197821e+13</td>\n",
       "      <td>2</td>\n",
       "    </tr>\n",
       "  </tbody>\n",
       "</table>\n",
       "</div>"
      ],
      "text/plain": [
       "                id  cluster_id   richness  richness_err  cluster_redshift  \\\n",
       "383213  9940304208        1059  57.881584      3.163651           1.14877   \n",
       "383214  9940304231        1059  57.881584      3.163651           1.14877   \n",
       "\n",
       "        cluster_redshift_err  cluster_ra  cluster_dec         ra  redshift  \\\n",
       "383213              0.004607   71.971633   -40.353707  72.003318  1.093952   \n",
       "383214              0.004607   71.971633   -40.353707  72.011116  1.095576   \n",
       "\n",
       "              dec  is_central        halo_id     halo_mass  freq  \n",
       "383213 -40.353284        True  2489100159235  1.197821e+13     2  \n",
       "383214 -40.352566       False  2489100159235  1.197821e+13     2  "
      ]
     },
     "execution_count": 75,
     "metadata": {},
     "output_type": "execute_result"
    }
   ],
   "source": [
    "match_dataframe[ match_dataframe['cluster_id'] == 1059]"
   ]
  },
  {
   "cell_type": "code",
   "execution_count": null,
   "id": "ac7ed9e7-9b7a-49bb-b77e-40f6ca4e545c",
   "metadata": {},
   "outputs": [],
   "source": []
  }
 ],
 "metadata": {
  "kernelspec": {
   "display_name": "numcosmo",
   "language": "python",
   "name": "numcosmo"
  },
  "language_info": {
   "codemirror_mode": {
    "name": "ipython",
    "version": 3
   },
   "file_extension": ".py",
   "mimetype": "text/x-python",
   "name": "python",
   "nbconvert_exporter": "python",
   "pygments_lexer": "ipython3",
   "version": "3.11.11"
  }
 },
 "nbformat": 4,
 "nbformat_minor": 5
}
