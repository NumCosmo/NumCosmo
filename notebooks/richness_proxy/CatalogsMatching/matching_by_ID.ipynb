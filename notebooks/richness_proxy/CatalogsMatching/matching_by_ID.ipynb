{
 "cells": [
  {
   "cell_type": "markdown",
   "id": "8f2398f3-40ca-4785-8ed5-b1944513a629",
   "metadata": {
    "tags": []
   },
   "source": [
    "#  Matching Catalogs by Members ID\n",
    "\n",
    "---\n",
    "**License**\n",
    "\n",
    " Matching Catalogs by Members ID\n",
    "\n",
    " Tue Aug 24 10:30:00 2021\\\n",
    " Copyright  2021\\\n",
    " Cinthia Nunes de Lima <cinthia.n.lima@uel.br> \\ Sandro Dias Pinto Vitenti <vitenti@uel.br>\n",
    "\n",
    "---\n",
    "---\n",
    "\n",
    " Ascaso_Extended_cDC2_RM_Test\\\n",
    " Copyright (C) 2021 Cinthia Nunes de Lima <cinthia.n.lima@uel.br>, Sandro Dias Pinto Vitenti <vitenti@uel.br>\n",
    "\n",
    " numcosmo is free software: you can redistribute it and/or modify it\n",
    " under the terms of the GNU General Public License as published by the\n",
    " Free Software Foundation, either version 3 of the License, or\n",
    " (at your option) any later version.\n",
    "\n",
    " numcosmo is distributed in the hope that it will be useful, but\n",
    " WITHOUT ANY WARRANTY; without even the implied warranty of\n",
    " MERCHANTABILITY or FITNESS FOR A PARTICULAR PURPOSE.\n",
    " See the GNU General Public License for more details.\n",
    "\n",
    " You should have received a copy of the GNU General Public License along\n",
    " with this program.  If not, see <http://www.gnu.org/licenses/>.\n",
    " \n",
    "---"
   ]
  },
  {
   "cell_type": "markdown",
   "id": "8a25e5a3-c1ac-4ae2-8526-221ba6439909",
   "metadata": {},
   "source": [
    "## Libraries & Configs"
   ]
  },
  {
   "cell_type": "code",
   "execution_count": 1,
   "id": "42d55c92-1e3e-44af-8aa5-6baaf3b88c4e",
   "metadata": {
    "tags": []
   },
   "outputs": [
    {
     "name": "stdout",
     "output_type": "stream",
     "text": [
      "GCRCatalogs = 1.9.0 | GCR = 0.9.2\n"
     ]
    }
   ],
   "source": [
    "import math\n",
    "import sys\n",
    "\n",
    "import os\n",
    "import numpy as np\n",
    "import matplotlib.pyplot as plt\n",
    "\n",
    "from astropy.io import fits\n",
    "from astropy.table import Table\n",
    "import pandas as pd\n",
    "\n",
    "sys.path.insert(0, \"/global/homes/c/cinlima/gcrcatalogs-new/gcr-catalogs\")\n",
    "sys.path.insert(0, \"/global/homes/c/cinlima/\")\n",
    "sys.path.insert(0, \"/global/homes/c/cinlima/NumCosmo/notebooks/richness_proxy/MachingCatalogs\")\n",
    "\n",
    "\n",
    "import GCRCatalogs\n",
    "#Put nersc if using nersc\n",
    "GCRCatalogs.set_root_dir_by_site(\"nersc\")\n",
    "\n",
    "print('GCRCatalogs =', GCRCatalogs.__version__, '|' ,'GCR =', GCRCatalogs.GCR.__version__)\n",
    "\n",
    "\n",
    "from numcosmo_py import Nc, Ncm\n",
    "\n",
    "from mtdc2 import mtrmdc2\n",
    "\n",
    "import time\n",
    "\n",
    "# GCRCatalogs.get_available_catalog_names()\n"
   ]
  },
  {
   "cell_type": "markdown",
   "id": "0c49458e-0259-4166-92be-6850d9cd9746",
   "metadata": {},
   "source": [
    "## Catalogs"
   ]
  },
  {
   "cell_type": "code",
   "execution_count": 2,
   "id": "0891fc00-6989-46c6-8231-029cd60a2d94",
   "metadata": {
    "tags": []
   },
   "outputs": [],
   "source": [
    "#Cosmo DC2\n",
    "cosmodc2= GCRCatalogs.load_catalog('cosmoDC2_v1.1.4_image')\n",
    "\n",
    "#Cosmo DC2 + RedMaPPer\n",
    "catalog_dc2_redmapper = GCRCatalogs.load_catalog('cosmoDC2_v1.1.4_redmapper_v0.8.1')"
   ]
  },
  {
   "cell_type": "code",
   "execution_count": 3,
   "id": "8ea889da-c613-4806-845e-a233bff76759",
   "metadata": {
    "tags": []
   },
   "outputs": [],
   "source": [
    "# Restrictions on richness, mass and redshift\n",
    "min_richness = 5\n",
    "min_halo_mass = 1e13 #Msun\n",
    "redshift_max = 1.2\n",
    "\n",
    "#cDC2 + RM data\n",
    "quantities = catalog_dc2_redmapper.list_all_quantities()\n",
    "cluster_quantities = [q for q in quantities if 'member' not in q]\n",
    "member_quantities = [q for q in quantities if 'member' in q]\n",
    "    \n",
    "query = GCRCatalogs.GCRQuery('(richness > ' + str(min_richness) +')')\n",
    "cluster_data = Table(catalog_dc2_redmapper.get_quantities(cluster_quantities, [query])) # cDC2 + RM cluster data\n",
    "member_data = Table(catalog_dc2_redmapper.get_quantities(member_quantities)) # cDC2 + RM member data\n",
    "\n",
    "#cDC2 data\n",
    "quantities_wanted = ['redshift','halo_mass','halo_id','galaxy_id','ra','dec', 'is_central']\n",
    "query = GCRCatalogs.GCRQuery('(halo_mass > ' + str(min_halo_mass) +') & (redshift < ' + str(redshift_max) +') & (is_central < ' + str(redshift_max) +') ')\n",
    "truth_data = Table(cosmodc2.get_quantities(quantities_wanted, [query]))"
   ]
  },
  {
   "cell_type": "code",
   "execution_count": 1,
   "id": "11a5ce18-2639-4a8c-a68f-f192982d268d",
   "metadata": {
    "tags": []
   },
   "outputs": [],
   "source": [
    "# truth_data[truth_data['is_central'] == True]\n",
    "\n",
    "# cluster_data"
   ]
  },
  {
   "cell_type": "markdown",
   "id": "d9d56baa-8905-4c42-9727-3163927e4594",
   "metadata": {
    "tags": []
   },
   "source": [
    "## Matching cDC2 and cDC2 + RM Catalogs"
   ]
  },
  {
   "cell_type": "code",
   "execution_count": 4,
   "id": "e1fc2250-b0c0-439a-a7b3-c1b4e8d561fc",
   "metadata": {
    "tags": []
   },
   "outputs": [],
   "source": [
    "memberdf = member_data.to_pandas().rename(columns={'id_member': 'id'}) #This creates a dataframe and rename: id_member -> id (cDC2 + RM MEMBERS).\n",
    "truthdf = truth_data.to_pandas().rename(columns={'galaxy_id': 'id'}) #This creates a dataframe and rename: galaxy_id -> id (cDC2 MEMBERS).\n",
    "\n",
    "cluster_df=cluster_data.to_pandas()[['richness', 'cluster_id', 'redshift']] #This creates a dataframe for cDC2 clusters with columns:\n",
    "                                                                            #                    richness', 'cluster_id', 'redshift."
   ]
  },
  {
   "cell_type": "code",
   "execution_count": null,
   "id": "259a24c9-953d-40e2-8b7a-33fd11a770e2",
   "metadata": {
    "tags": []
   },
   "outputs": [],
   "source": [
    "memberdf"
   ]
  },
  {
   "cell_type": "code",
   "execution_count": null,
   "id": "689d6f61-be9c-40a4-b8f3-9b8e95b24c35",
   "metadata": {
    "tags": []
   },
   "outputs": [],
   "source": [
    "truthdf"
   ]
  },
  {
   "cell_type": "code",
   "execution_count": null,
   "id": "5dc2cf9d-5204-45c5-8bca-570b0b713ac0",
   "metadata": {
    "tags": []
   },
   "outputs": [],
   "source": [
    "cluster_df"
   ]
  },
  {
   "cell_type": "code",
   "execution_count": null,
   "id": "fbf15793-c8d2-4cea-8e84-2a236ba0f426",
   "metadata": {
    "tags": []
   },
   "outputs": [],
   "source": [
    "Mt_df = pd.merge(memberdf['id'], truthdf['id'], how='inner', on=['id']) #This selects commom members ID from cDC2 and cDC2 + RM data\n",
    "Mt_df"
   ]
  },
  {
   "cell_type": "code",
   "execution_count": null,
   "id": "9e3a3770-1a1d-4b4f-9599-2115c1a5efd6",
   "metadata": {
    "tags": []
   },
   "outputs": [],
   "source": [
    "mt_member = pd.merge(memberdf, Mt_df, how='inner', on=['id']) #This selects the matching members using Mt_df IDs\n",
    "mt_member"
   ]
  },
  {
   "cell_type": "code",
   "execution_count": null,
   "id": "c10c0982-a7bb-4439-817b-dcc5bc920ef9",
   "metadata": {
    "tags": []
   },
   "outputs": [],
   "source": [
    "idc = mt_member[['id', 'cluster_id_member']].rename(columns={'cluster_id_member': 'cluster_id'}) #This selects the members and clusters IDs\n",
    "idc"
   ]
  },
  {
   "cell_type": "code",
   "execution_count": null,
   "id": "0f1ec267-e4d3-4aa3-8347-470306a6da9e",
   "metadata": {
    "tags": []
   },
   "outputs": [],
   "source": [
    "mt_cluster = pd.merge(idc, cluster_df, how='inner', on=['cluster_id']) #This selects the clusters data by idc IDS \n",
    "mt_cluster"
   ]
  },
  {
   "cell_type": "code",
   "execution_count": null,
   "id": "c9b0b6ee-0327-4b2d-be67-4fdc95079c8b",
   "metadata": {
    "tags": []
   },
   "outputs": [],
   "source": [
    "mt_catalog = pd.merge(mt_cluster, truthdf, how='inner', on=['id']) #This creates the matching catalog with clustes and halos"
   ]
  },
  {
   "cell_type": "code",
   "execution_count": null,
   "id": "2a21d68d-613a-46e7-aef2-c28a68a99199",
   "metadata": {
    "tags": []
   },
   "outputs": [],
   "source": [
    "clusters_id = mt_catalog[mt_catalog['is_central'] == True]['cluster_id'].unique() #This selects the clusters IDs\n",
    "\n",
    "clusters_id"
   ]
  },
  {
   "cell_type": "code",
   "execution_count": null,
   "id": "bf6e3b21-d6e1-4dbf-bd60-641675936f1a",
   "metadata": {
    "tags": []
   },
   "outputs": [],
   "source": [
    "mt_catalog['freq'] = mt_catalog.groupby(['cluster_id', 'halo_id'])['halo_id'].transform('count') # This Adds a frequency column for each halo ID\n",
    "                                                                                                 # in mt_catalog.\n",
    "mt_catalog[0:15]"
   ]
  },
  {
   "cell_type": "code",
   "execution_count": null,
   "id": "469d60db-8d0f-4fba-8058-a135e6697c70",
   "metadata": {
    "tags": []
   },
   "outputs": [],
   "source": [
    "iscentral = mt_catalog[mt_catalog['is_central'] == True] #This selects the central members\n",
    "\n",
    "iscentral"
   ]
  },
  {
   "cell_type": "code",
   "execution_count": null,
   "id": "0d44522e-3036-4c59-bd40-d1fa9bace042",
   "metadata": {
    "tags": []
   },
   "outputs": [],
   "source": [
    "# This loop creates the unique matching catalog using the halo ID frequency. It selects the halos with maximum frequency.\n",
    "match_dataframe = pd.DataFrame()                                                                                                                                                                            #\n",
    "for cl in clusters_id:                                                                                        \n",
    "    gcut = iscentral.groupby('cluster_id').get_group(cl)\n",
    "    match_dataframe = pd.concat([match_dataframe, gcut[gcut['freq'] == gcut['freq'].max()]], ignore_index=True)\n"
   ]
  },
  {
   "cell_type": "markdown",
   "id": "f0cb9313-f3a4-4edd-8ced-cfe7cf4f1b3a",
   "metadata": {},
   "source": [
    "## Time measurement"
   ]
  },
  {
   "cell_type": "code",
   "execution_count": null,
   "id": "a2761ec1-8ab0-49ca-b6e5-8ec8ae99e9ba",
   "metadata": {},
   "outputs": [],
   "source": [
    "inicio = time.time()\n",
    "\n",
    "mt_dataframe = mtrmdc2(member_data, cluster_data, truth_data)\n",
    "\n",
    "fim = time.time()\n",
    "tempo_total = fim - inicio\n",
    "\n",
    "print(f\"Tempo de execução: {tempo_total:.3}s\")"
   ]
  },
  {
   "cell_type": "code",
   "execution_count": null,
   "id": "a1eb9e90-7958-4e4f-8e5d-4ffa738b1c13",
   "metadata": {},
   "outputs": [],
   "source": []
  }
 ],
 "metadata": {
  "kernelspec": {
   "display_name": "numcosmo",
   "language": "python",
   "name": "numcosmo"
  },
  "language_info": {
   "codemirror_mode": {
    "name": "ipython",
    "version": 3
   },
   "file_extension": ".py",
   "mimetype": "text/x-python",
   "name": "python",
   "nbconvert_exporter": "python",
   "pygments_lexer": "ipython3",
   "version": "3.11.10"
  }
 },
 "nbformat": 4,
 "nbformat_minor": 5
}
