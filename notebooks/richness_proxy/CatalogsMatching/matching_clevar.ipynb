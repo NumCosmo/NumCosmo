{
 "cells": [
  {
   "cell_type": "code",
   "execution_count": 16,
   "id": "31a24b86-efb5-4e89-a6e4-655cf1f62bd0",
   "metadata": {
    "tags": []
   },
   "outputs": [
    {
     "name": "stdout",
     "output_type": "stream",
     "text": [
      "GCRCatalogs = 1.9.0 | GCR = 0.9.2\n",
      "Clevar = 0.14.1\n"
     ]
    }
   ],
   "source": [
    "import math\n",
    "import sys\n",
    "import os\n",
    "import numpy as np\n",
    "import pandas as pd\n",
    "from astropy.io import fits\n",
    "from astropy.table import Table\n",
    "import matplotlib\n",
    "from matplotlib import pyplot as plt\n",
    "import time\n",
    "\n",
    "\n",
    "sys.path.insert(0, \"/global/homes/c/cinlima/gcrcatalogs-new/gcr-catalogs\")\n",
    "sys.path.insert(0, \"global/homes/c/cinlima/clevar/clevar\")\n",
    "\n",
    "import GCRCatalogs\n",
    "#Put nersc if using nersc\n",
    "GCRCatalogs.set_root_dir_by_site(\"nersc\")\n",
    "print('GCRCatalogs =', GCRCatalogs.__version__, '|' ,'GCR =', GCRCatalogs.GCR.__version__)\n",
    "\n",
    "from clevar import ClCatalog, MemCatalog\n",
    "from clevar.match import MembershipMatch, get_matched_pairs\n",
    "\n",
    "from clevar.match import output_matched_catalog\n",
    "import clevar\n",
    "\n",
    "print('Clevar =', clevar.__version__)\n",
    "\n",
    "\n",
    "# matplotlib.rcParams.update({'font.size': 22})\n",
    "# matplotlib.rcParams.update({'figure.figsize': (10,8)})\n"
   ]
  },
  {
   "cell_type": "code",
   "execution_count": 2,
   "id": "7916a59f-da36-4d7f-a4e6-58599c6697fa",
   "metadata": {
    "tags": []
   },
   "outputs": [],
   "source": [
    "gc = GCRCatalogs.load_catalog('cosmoDC2_v1.1.4_redmapper_v0.8.1')\n",
    "gc_truth = GCRCatalogs.load_catalog('cosmoDC2_v1.1.4_image')  "
   ]
  },
  {
   "cell_type": "code",
   "execution_count": 3,
   "id": "9e698195-c082-4cdc-8d4a-0edd42c561e9",
   "metadata": {},
   "outputs": [],
   "source": [
    "quantities = gc.list_all_quantities()\n",
    "cluster_quantities = [q for q in quantities if 'member' not in q]\n",
    "member_quantities = [q for q in quantities if 'member' in q]"
   ]
  },
  {
   "cell_type": "code",
   "execution_count": 4,
   "id": "3286c20f-94b7-4a4f-8390-54b1740094d7",
   "metadata": {},
   "outputs": [],
   "source": [
    "# query = GCRCatalogs.GCRQuery('(richness > ' + str(min_richness) +')')   \n",
    "cluster_data = Table(gc.get_quantities(cluster_quantities))\n",
    "member_data = Table(gc.get_quantities(member_quantities))"
   ]
  },
  {
   "cell_type": "code",
   "execution_count": 21,
   "id": "d95c1b23-54cd-4d89-b8c6-5fdff4625ef9",
   "metadata": {},
   "outputs": [],
   "source": [
    "# cluster_data[cluster_data['richness'] < 5]"
   ]
  },
  {
   "cell_type": "code",
   "execution_count": 14,
   "id": "ca8301c8-d1ff-4292-9569-5cc7b56905c9",
   "metadata": {},
   "outputs": [],
   "source": [
    "# min_halo_mass = 1e13 #Msun\n",
    "# redshift_max = 1.2\n",
    "\n",
    "# quantities_wanted = ['redshift','halo_mass','halo_id','galaxy_id','ra','dec', 'is_central', 'mag_true_u_lsst', 'mag_true_g_lsst', 'mag_true_r_lsst', 'mag_true_i_lsst', 'mag_true_z_lsst', 'mag_true_y_lsst']\n",
    "\n",
    "# query = GCRCatalogs.GCRQuery('(halo_mass > ' + str(min_halo_mass) +') & (redshift < ' + str(redshift_max) +')')\n",
    "# truth_data = Table(gc_truth.get_quantities(quantities_wanted, [query]))\n",
    "truth_data = Table.read('cosmoDC2_image_selected_data.fits')\n"
   ]
  },
  {
   "cell_type": "code",
   "execution_count": 18,
   "id": "c1ca6525-1815-488c-93f9-0a9a69d2ca9f",
   "metadata": {
    "tags": []
   },
   "outputs": [
    {
     "ename": "ValueError",
     "evalue": "Cannot replace column 'pmem'.  Use Table.replace_column() instead.",
     "output_type": "error",
     "traceback": [
      "\u001b[0;31m---------------------------------------------------------------------------\u001b[0m",
      "\u001b[0;31mValueError\u001b[0m                                Traceback (most recent call last)",
      "Cell \u001b[0;32mIn[18], line 10\u001b[0m\n\u001b[1;32m      5\u001b[0m RM_cat \u001b[38;5;241m=\u001b[39m ClCatalog(RM_cat_name, z\u001b[38;5;241m=\u001b[39mcluster_data[\u001b[38;5;124m\"\u001b[39m\u001b[38;5;124mredshift\u001b[39m\u001b[38;5;124m\"\u001b[39m], ra\u001b[38;5;241m=\u001b[39mcluster_data[\u001b[38;5;124m\"\u001b[39m\u001b[38;5;124mra\u001b[39m\u001b[38;5;124m\"\u001b[39m], dec\u001b[38;5;241m=\u001b[39mcluster_data[\u001b[38;5;124m\"\u001b[39m\u001b[38;5;124mdec\u001b[39m\u001b[38;5;124m\"\u001b[39m], \u001b[38;5;28mid\u001b[39m \u001b[38;5;241m=\u001b[39m cluster_data[\u001b[38;5;124m\"\u001b[39m\u001b[38;5;124mcluster_id\u001b[39m\u001b[38;5;124m\"\u001b[39m], richness \u001b[38;5;241m=\u001b[39m cluster_data[\u001b[38;5;124m\"\u001b[39m\u001b[38;5;124mrichness\u001b[39m\u001b[38;5;124m\"\u001b[39m], richness_err\u001b[38;5;241m=\u001b[39mcluster_data[\u001b[38;5;124m\"\u001b[39m\u001b[38;5;124mrichness_err\u001b[39m\u001b[38;5;124m\"\u001b[39m], \\\n\u001b[1;32m      6\u001b[0m                    id_cg \u001b[38;5;241m=\u001b[39m cluster_data[\u001b[38;5;124m\"\u001b[39m\u001b[38;5;124mid_cen_0\u001b[39m\u001b[38;5;124m\"\u001b[39m], ztrue_cg\u001b[38;5;241m=\u001b[39mcluster_data[\u001b[38;5;124m\"\u001b[39m\u001b[38;5;124mredshift_true_cg\u001b[39m\u001b[38;5;124m\"\u001b[39m], p_cg_0\u001b[38;5;241m=\u001b[39mcluster_data[\u001b[38;5;124m\"\u001b[39m\u001b[38;5;124mp_cen_0\u001b[39m\u001b[38;5;124m\"\u001b[39m])\n\u001b[1;32m      8\u001b[0m pmem \u001b[38;5;241m=\u001b[39m member_data[\u001b[38;5;124m\"\u001b[39m\u001b[38;5;124mp_member\u001b[39m\u001b[38;5;124m\"\u001b[39m] \u001b[38;5;241m*\u001b[39m member_data[\u001b[38;5;124m\"\u001b[39m\u001b[38;5;124mpfree_member\u001b[39m\u001b[38;5;124m\"\u001b[39m] \u001b[38;5;241m*\u001b[39m member_data[\u001b[38;5;124m\"\u001b[39m\u001b[38;5;124mtheta_i_member\u001b[39m\u001b[38;5;124m\"\u001b[39m] \u001b[38;5;241m*\u001b[39m member_data[\u001b[38;5;124m\"\u001b[39m\u001b[38;5;124mtheta_r_member\u001b[39m\u001b[38;5;124m\"\u001b[39m] \n\u001b[0;32m---> 10\u001b[0m \u001b[43mmember_data\u001b[49m\u001b[38;5;241;43m.\u001b[39;49m\u001b[43madd_column\u001b[49m\u001b[43m(\u001b[49m\u001b[43mpmem\u001b[49m\u001b[43m,\u001b[49m\u001b[43m \u001b[49m\u001b[43mname\u001b[49m\u001b[38;5;241;43m=\u001b[39;49m\u001b[38;5;124;43m\"\u001b[39;49m\u001b[38;5;124;43mpmem\u001b[39;49m\u001b[38;5;124;43m\"\u001b[39;49m\u001b[43m)\u001b[49m\n\u001b[1;32m     12\u001b[0m RM_cat_members \u001b[38;5;241m=\u001b[39m MemCatalog(\u001b[38;5;124m\"\u001b[39m\u001b[38;5;124mRM_members\u001b[39m\u001b[38;5;124m\"\u001b[39m, id_cluster\u001b[38;5;241m=\u001b[39mmember_data[\u001b[38;5;124m\"\u001b[39m\u001b[38;5;124mcluster_id_member\u001b[39m\u001b[38;5;124m\"\u001b[39m], \u001b[38;5;28mid\u001b[39m\u001b[38;5;241m=\u001b[39mmember_data[\u001b[38;5;124m\"\u001b[39m\u001b[38;5;124mid_member\u001b[39m\u001b[38;5;124m\"\u001b[39m], ra\u001b[38;5;241m=\u001b[39mmember_data[\u001b[38;5;124m\"\u001b[39m\u001b[38;5;124mra_member\u001b[39m\u001b[38;5;124m\"\u001b[39m], dec\u001b[38;5;241m=\u001b[39mmember_data[\u001b[38;5;124m\"\u001b[39m\u001b[38;5;124mdec_member\u001b[39m\u001b[38;5;124m\"\u001b[39m],\n\u001b[1;32m     13\u001b[0m                             pmem\u001b[38;5;241m=\u001b[39mmember_data[\u001b[38;5;124m\"\u001b[39m\u001b[38;5;124mpmem\u001b[39m\u001b[38;5;124m\"\u001b[39m],  redshift\u001b[38;5;241m=\u001b[39mmember_data[\u001b[38;5;124m\"\u001b[39m\u001b[38;5;124mredshift_true_member\u001b[39m\u001b[38;5;124m\"\u001b[39m], \n\u001b[1;32m     14\u001b[0m                             mag_g_lsst_member\u001b[38;5;241m=\u001b[39mmember_data[\u001b[38;5;124m\"\u001b[39m\u001b[38;5;124mmag_g_lsst_member\u001b[39m\u001b[38;5;124m\"\u001b[39m], mag_r_lsst_member\u001b[38;5;241m=\u001b[39mmember_data[\u001b[38;5;124m\"\u001b[39m\u001b[38;5;124mmag_r_lsst_member\u001b[39m\u001b[38;5;124m\"\u001b[39m], \n\u001b[1;32m     15\u001b[0m                             mag_i_lsst_member\u001b[38;5;241m=\u001b[39mmember_data[\u001b[38;5;124m\"\u001b[39m\u001b[38;5;124mmag_i_lsst_member\u001b[39m\u001b[38;5;124m\"\u001b[39m], mag_z_lsst_member\u001b[38;5;241m=\u001b[39mmember_data[\u001b[38;5;124m\"\u001b[39m\u001b[38;5;124mmag_z_lsst_member\u001b[39m\u001b[38;5;124m\"\u001b[39m], mag_y_lsst_member\u001b[38;5;241m=\u001b[39mmember_data[\u001b[38;5;124m\"\u001b[39m\u001b[38;5;124mmag_y_lsst_member\u001b[39m\u001b[38;5;124m\"\u001b[39m]) \n\u001b[1;32m     17\u001b[0m RM_cat\u001b[38;5;241m.\u001b[39madd_members(members_catalog\u001b[38;5;241m=\u001b[39mRM_cat_members)\n",
      "File \u001b[0;32m~/.conda/envs/numcosmo/lib/python3.11/site-packages/astropy/table/table.py:2436\u001b[0m, in \u001b[0;36mTable.add_column\u001b[0;34m(self, col, index, name, rename_duplicate, copy, default_name)\u001b[0m\n\u001b[1;32m   2433\u001b[0m \u001b[38;5;28mself\u001b[39m\u001b[38;5;241m.\u001b[39m_set_col_parent_table_and_mask(col)\n\u001b[1;32m   2435\u001b[0m \u001b[38;5;66;03m# Add new column as last column\u001b[39;00m\n\u001b[0;32m-> 2436\u001b[0m \u001b[38;5;28;43mself\u001b[39;49m\u001b[38;5;241;43m.\u001b[39;49m\u001b[43mcolumns\u001b[49m\u001b[43m[\u001b[49m\u001b[43mname\u001b[49m\u001b[43m]\u001b[49m \u001b[38;5;241m=\u001b[39m col\n\u001b[1;32m   2438\u001b[0m \u001b[38;5;28;01mif\u001b[39;00m index \u001b[38;5;129;01mis\u001b[39;00m \u001b[38;5;129;01mnot\u001b[39;00m \u001b[38;5;28;01mNone\u001b[39;00m:\n\u001b[1;32m   2439\u001b[0m     \u001b[38;5;66;03m# Move the other cols to the right of the new one\u001b[39;00m\n\u001b[1;32m   2440\u001b[0m     move_names \u001b[38;5;241m=\u001b[39m \u001b[38;5;28mself\u001b[39m\u001b[38;5;241m.\u001b[39mcolnames[index:\u001b[38;5;241m-\u001b[39m\u001b[38;5;241m1\u001b[39m]\n",
      "File \u001b[0;32m~/.conda/envs/numcosmo/lib/python3.11/site-packages/astropy/table/table.py:294\u001b[0m, in \u001b[0;36mTableColumns.__setitem__\u001b[0;34m(self, item, value, validated)\u001b[0m\n\u001b[1;32m    283\u001b[0m \u001b[38;5;250m\u001b[39m\u001b[38;5;124;03m\"\"\"\u001b[39;00m\n\u001b[1;32m    284\u001b[0m \u001b[38;5;124;03mSet item in this dict instance, but do not allow directly replacing an\u001b[39;00m\n\u001b[1;32m    285\u001b[0m \u001b[38;5;124;03mexisting column unless it is already validated (and thus is certain to\u001b[39;00m\n\u001b[0;32m   (...)\u001b[0m\n\u001b[1;32m    291\u001b[0m \n\u001b[1;32m    292\u001b[0m \u001b[38;5;124;03m\"\"\"\u001b[39;00m\n\u001b[1;32m    293\u001b[0m \u001b[38;5;28;01mif\u001b[39;00m item \u001b[38;5;129;01min\u001b[39;00m \u001b[38;5;28mself\u001b[39m \u001b[38;5;129;01mand\u001b[39;00m \u001b[38;5;129;01mnot\u001b[39;00m validated:\n\u001b[0;32m--> 294\u001b[0m     \u001b[38;5;28;01mraise\u001b[39;00m \u001b[38;5;167;01mValueError\u001b[39;00m(\n\u001b[1;32m    295\u001b[0m         \u001b[38;5;124mf\u001b[39m\u001b[38;5;124m\"\u001b[39m\u001b[38;5;124mCannot replace column \u001b[39m\u001b[38;5;124m'\u001b[39m\u001b[38;5;132;01m{\u001b[39;00mitem\u001b[38;5;132;01m}\u001b[39;00m\u001b[38;5;124m'\u001b[39m\u001b[38;5;124m.  Use Table.replace_column() instead.\u001b[39m\u001b[38;5;124m\"\u001b[39m\n\u001b[1;32m    296\u001b[0m     )\n\u001b[1;32m    297\u001b[0m \u001b[38;5;28msuper\u001b[39m()\u001b[38;5;241m.\u001b[39m\u001b[38;5;21m__setitem__\u001b[39m(item, value)\n",
      "\u001b[0;31mValueError\u001b[0m: Cannot replace column 'pmem'.  Use Table.replace_column() instead."
     ]
    }
   ],
   "source": [
    "RM_cat_name = 'cosmoDC2_v1.1.4_redmapper_v0.8.1'\n",
    "DC2_cat_name = 'cosmoDC2_v1.1.4_image'\n",
    "\n",
    "#Redmapper\n",
    "RM_cat = ClCatalog(RM_cat_name, z=cluster_data[\"redshift\"], ra=cluster_data[\"ra\"], dec=cluster_data[\"dec\"], id = cluster_data[\"cluster_id\"], richness = cluster_data[\"richness\"], richness_err=cluster_data[\"richness_err\"], \\\n",
    "                   id_cg = cluster_data[\"id_cen_0\"], ztrue_cg=cluster_data[\"redshift_true_cg\"], p_cg_0=cluster_data[\"p_cen_0\"])\n",
    "\n",
    "pmem = member_data[\"p_member\"] * member_data[\"pfree_member\"] * member_data[\"theta_i_member\"] * member_data[\"theta_r_member\"] \n",
    "\n",
    "member_data.add_column(pmem, name=\"pmem\")\n",
    "\n",
    "RM_cat_members = MemCatalog(\"RM_members\", id_cluster=member_data[\"cluster_id_member\"], id=member_data[\"id_member\"], ra=member_data[\"ra_member\"], dec=member_data[\"dec_member\"],\n",
    "                            pmem=member_data[\"pmem\"],  redshift=member_data[\"redshift_true_member\"], \n",
    "                            mag_g_lsst_member=member_data[\"mag_g_lsst_member\"], mag_r_lsst_member=member_data[\"mag_r_lsst_member\"], \n",
    "                            mag_i_lsst_member=member_data[\"mag_i_lsst_member\"], mag_z_lsst_member=member_data[\"mag_z_lsst_member\"], mag_y_lsst_member=member_data[\"mag_y_lsst_member\"]) \n",
    "\n",
    "RM_cat.add_members(members_catalog=RM_cat_members)\n",
    "\n",
    "\n",
    "#Dc2\n",
    "halo_cat = ClCatalog(DC2_cat_name, z= truth_data[\"redshift\"][truth_data[\"is_central\"]],\n",
    "                     ra= truth_data[\"ra\"][truth_data[\"is_central\"]], dec= truth_data[\"dec\"][truth_data[\"is_central\"]],\n",
    "                     id=truth_data[\"halo_id\"][truth_data[\"is_central\"]], mass_fof=truth_data[\"halo_mass\"][truth_data[\"is_central\"]])\n",
    "\n",
    "halo_cat_members = MemCatalog(\"halo_members\", id_cluster=truth_data[\"halo_id\"], id=truth_data[\"galaxy_id\"], ra=truth_data[\"ra\"], dec=truth_data[\"dec\"],\n",
    "                              redshift=truth_data[\"redshift\"], is_central = truth_data[\"is_central\"], \n",
    "                              mag_true_u_lsst = truth_data[\"mag_true_u_lsst\"],  mag_true_g_lsst = truth_data[\"mag_true_g_lsst\"],\n",
    "                              mag_true_r_lsst = truth_data[\"mag_true_r_lsst\"], mag_true_i_lsst = truth_data[\"mag_true_i_lsst\"],  mag_true_z_lsst = truth_data[\"mag_true_z_lsst\"], ) \n",
    "\n",
    "halo_cat.add_members(members_catalog=halo_cat_members)\n",
    "\n",
    "RM_cat._init_match_vals(True)\n",
    "halo_cat._init_match_vals(True)"
   ]
  },
  {
   "cell_type": "code",
   "execution_count": null,
   "id": "13a95b1a-363d-4cb2-8546-113d34345133",
   "metadata": {
    "tags": []
   },
   "outputs": [],
   "source": [
    "# RM_cat_name = 'skysim5000_v1.1.1_redmapper_v0.8.5'\n",
    "# DC2_cat_name = 'skysim5000_v1.1.1_image'\n",
    "\n",
    "RM_cat_name = 'cosmoDC2_v1.1.4_redmapper_v0.8.1'\n",
    "DC2_cat_name = 'cosmoDC2_v1.1.4_image'\n",
    "\n",
    "RM_cat = ClCatalog(RM_cat_name, z=cluster_data[\"redshift\"], ra=cluster_data[\"ra\"], dec=cluster_data[\"dec\"], id = cluster_data[\"cluster_id\"], richness = cluster_data[\"richness\"], richness_err=cluster_data[\"richness_err\"], \\\n",
    "                   id_cg = cluster_data[\"id_cen_0\"], ztrue_cg=cluster_data[\"redshift_true_cg\"], p_cg_0=cluster_data[\"p_cen_0\"])\n",
    "\n"
   ]
  },
  {
   "cell_type": "code",
   "execution_count": null,
   "id": "188440e0-a5a8-4175-aff2-8a5836a74aa5",
   "metadata": {},
   "outputs": [],
   "source": [
    "display(RM_cat)"
   ]
  },
  {
   "cell_type": "code",
   "execution_count": null,
   "id": "3e19e3c4-2fdf-405c-818d-37962f2f4de7",
   "metadata": {
    "tags": []
   },
   "outputs": [],
   "source": [
    "#RM_cat.write('RM_cat.fits', add_header =True, overwrite=True)\n"
   ]
  },
  {
   "cell_type": "code",
   "execution_count": null,
   "id": "8133d64b-3021-4bbd-beb5-1381547ce4f8",
   "metadata": {
    "tags": []
   },
   "outputs": [],
   "source": [
    "pmem = member_data[\"p_member\"] * member_data[\"pfree_member\"] * member_data[\"theta_i_member\"] * member_data[\"theta_r_member\"] \n",
    "\n",
    "member_data.add_column(pmem, name=\"pmem\")"
   ]
  },
  {
   "cell_type": "code",
   "execution_count": null,
   "id": "113643ed-23c9-47a4-bf41-000e111003d6",
   "metadata": {
    "tags": []
   },
   "outputs": [],
   "source": [
    "RM_cat_members = MemCatalog(\"RM_members\", id_cluster=member_data[\"cluster_id_member\"], id=member_data[\"id_member\"], ra=member_data[\"ra_member\"], dec=member_data[\"dec_member\"],\n",
    "                            pmem=member_data[\"pmem\"],  redshift=member_data[\"redshift_true_member\"], \n",
    "                            mag_g_lsst_member=member_data[\"mag_g_lsst_member\"], mag_r_lsst_member=member_data[\"mag_r_lsst_member\"], \n",
    "                            mag_i_lsst_member=member_data[\"mag_i_lsst_member\"], mag_z_lsst_member=member_data[\"mag_z_lsst_member\"], mag_y_lsst_member=member_data[\"mag_y_lsst_member\"]) \n",
    "RM_cat.add_members(members_catalog=RM_cat_members)\n",
    "\n",
    "# RM_cat.members.write('RM_cat_members.fits', overwrite=True)\n"
   ]
  },
  {
   "cell_type": "code",
   "execution_count": null,
   "id": "0bbbbf17-e32b-4df5-9f0c-e1dcefc70e44",
   "metadata": {
    "tags": []
   },
   "outputs": [],
   "source": [
    "halo_cat = ClCatalog(DC2_cat_name, z= truth_data[\"redshift\"][truth_data[\"is_central\"]],\n",
    "                     ra= truth_data[\"ra\"][truth_data[\"is_central\"]], dec= truth_data[\"dec\"][truth_data[\"is_central\"]],\n",
    "                     id=truth_data[\"halo_id\"][truth_data[\"is_central\"]], mass_fof=truth_data[\"halo_mass\"][truth_data[\"is_central\"]])\n",
    "halo_cat"
   ]
  },
  {
   "cell_type": "code",
   "execution_count": null,
   "id": "ea443f5a-ef6e-4605-8232-315a1c9aaa82",
   "metadata": {
    "tags": []
   },
   "outputs": [],
   "source": [
    "# halo_cat.write('halo_cat.fits', overwrite=True)\n"
   ]
  },
  {
   "cell_type": "code",
   "execution_count": null,
   "id": "84c611a3-8f9a-4fca-a7cd-45ae77807f5d",
   "metadata": {
    "tags": []
   },
   "outputs": [],
   "source": [
    "halo_cat_members = MemCatalog(\"halo_members\", id_cluster=truth_data[\"halo_id\"], id=truth_data[\"galaxy_id\"], ra=truth_data[\"ra\"], dec=truth_data[\"dec\"],\n",
    "                              redshift=truth_data[\"redshift\"], is_central = truth_data[\"is_central\"], \n",
    "                              mag_true_u_lsst = truth_data[\"mag_true_u_lsst\"],  mag_true_g_lsst = truth_data[\"mag_true_g_lsst\"],\n",
    "                              mag_true_r_lsst = truth_data[\"mag_true_r_lsst\"], mag_true_i_lsst = truth_data[\"mag_true_i_lsst\"],  mag_true_z_lsst = truth_data[\"mag_true_z_lsst\"], ) \n"
   ]
  },
  {
   "cell_type": "code",
   "execution_count": null,
   "id": "61841367-d81f-4398-97bf-aeea5edad33c",
   "metadata": {
    "tags": []
   },
   "outputs": [],
   "source": [
    "halo_cat_members"
   ]
  },
  {
   "cell_type": "code",
   "execution_count": null,
   "id": "b11bb9b5-3c21-4ddf-98c4-27995fdff2b0",
   "metadata": {
    "tags": []
   },
   "outputs": [],
   "source": [
    "halo_cat.add_members(members_catalog=halo_cat_members)\n"
   ]
  },
  {
   "cell_type": "code",
   "execution_count": null,
   "id": "1cc22807-e031-4bcd-908f-b26b36a61061",
   "metadata": {
    "tags": []
   },
   "outputs": [],
   "source": [
    "# halo_cat.members.write('halo_cat_members.fits', overwrite=True)\n"
   ]
  },
  {
   "cell_type": "code",
   "execution_count": null,
   "id": "40bb0511-802d-46d1-b09f-a731afd018fa",
   "metadata": {
    "tags": []
   },
   "outputs": [],
   "source": [
    "# RM_cat = ClCatalog.read('RM_cat_richness_min_'+str(min_richness)+'.fits', name='RM_cat', full=True, tags={'mass':'richness'})\n",
    "# halo_cat = ClCatalog.read('halo_cat_mass_min_'+f\"{min_halo_mass:1.2e}\"+'.fits', name='halo_cat', full=True, tags={'mass':'mass_fof'})\n",
    "\n"
   ]
  },
  {
   "cell_type": "code",
   "execution_count": null,
   "id": "8dcabb1e-64e6-49b4-a829-f205e02e9e61",
   "metadata": {},
   "outputs": [],
   "source": [
    "# RM_cat.read_members('RM_cat_richness_min_'+str(min_richness)+'_members.fits',  full=True)\n",
    "# halo_cat.read_members('halo_cat_mass_min_'+f\"{min_halo_mass:1.2e}\"+'_members.fits', full=True)\n"
   ]
  },
  {
   "cell_type": "code",
   "execution_count": null,
   "id": "ce07a832-3f25-4093-93c4-e5a252e05681",
   "metadata": {},
   "outputs": [],
   "source": [
    "RM_cat._init_match_vals(True)\n",
    "halo_cat._init_match_vals(True)"
   ]
  },
  {
   "cell_type": "code",
   "execution_count": null,
   "id": "3c576742-a3c4-4b52-8740-52bf82f2be63",
   "metadata": {},
   "outputs": [],
   "source": [
    "mt = MembershipMatch()\n",
    "match_config = {\n",
    "    'type': 'cross', # options are cross, cat1, cat2\n",
    "    'preference': 'shared_member_fraction', # other options are more_massive, angular_proximity or redshift_proximity\n",
    "    'minimum_share_fraction': 0,\n",
    "    'match_members_kwargs': {'method':'id'},\n",
    "}\n",
    "mt.match_from_config(RM_cat, halo_cat, match_config)\n"
   ]
  },
  {
   "cell_type": "code",
   "execution_count": null,
   "id": "0b257275-18e5-4ab0-b99f-68321dc9d508",
   "metadata": {},
   "outputs": [],
   "source": [
    "# mt.save_matches(RM_cat, halo_cat, out_dir='cDC2_RM_match_cross_membership', overwrite=True)\n"
   ]
  },
  {
   "cell_type": "code",
   "execution_count": null,
   "id": "c9daa6d5-7b71-4c29-8bc5-73d4023a1344",
   "metadata": {
    "tags": []
   },
   "outputs": [],
   "source": [
    "# mt.load_matches(RM_cat, halo_cat, out_dir='cDC2_RM_match_cross_membership')\n"
   ]
  },
  {
   "cell_type": "code",
   "execution_count": null,
   "id": "cd97bd5a-ab6f-491b-8e9e-705d3e5188fe",
   "metadata": {
    "tags": []
   },
   "outputs": [],
   "source": [
    "RM_cat_bij, halo_cat_bij = get_matched_pairs(RM_cat, halo_cat, 'cross')"
   ]
  },
  {
   "cell_type": "code",
   "execution_count": null,
   "id": "dfb9aded-e4fc-4059-93f0-9023d533d180",
   "metadata": {
    "tags": []
   },
   "outputs": [],
   "source": [
    "RM_cat_bij.size, RM_cat_bij.size/RM_cat.size,  halo_cat_bij.size/halo_cat.size\n"
   ]
  },
  {
   "cell_type": "code",
   "execution_count": null,
   "id": "345e19c1-352b-4998-8cd8-7e93d5463da2",
   "metadata": {
    "tags": []
   },
   "outputs": [],
   "source": [
    "plt.scatter(np.log(halo_cat_bij['mass_fof']),np.log(RM_cat_bij['richness']))\n",
    "# plt.scatter(halo_cat_bij['mass_fof'],RM_cat_bij['richness'])\n",
    "\n",
    "plt.xlabel('$\\ln (M_{fof}$)')\n",
    "plt.ylabel('$\\ln (\\lambda)$')"
   ]
  },
  {
   "cell_type": "code",
   "execution_count": null,
   "id": "d61dd338-492a-4dec-87c8-a8008fe8e15a",
   "metadata": {},
   "outputs": [],
   "source": [
    "Table([halo_cat_bij['mass_fof'], RM_cat_bij['richness'], RM_cat_bij['z']])"
   ]
  },
  {
   "cell_type": "code",
   "execution_count": null,
   "id": "9fdb3e70-8242-4c75-b1d5-0f6c5b4e087a",
   "metadata": {},
   "outputs": [],
   "source": []
  },
  {
   "cell_type": "code",
   "execution_count": null,
   "id": "03fe6b04-d314-4581-b887-2b4f58a39769",
   "metadata": {
    "tags": []
   },
   "outputs": [],
   "source": []
  },
  {
   "cell_type": "code",
   "execution_count": null,
   "id": "bb80f73c-ad8a-4107-be3f-e1efe6b46869",
   "metadata": {},
   "outputs": [],
   "source": []
  },
  {
   "cell_type": "code",
   "execution_count": null,
   "id": "a81752a0-faeb-4907-9396-7bbd86f3a94a",
   "metadata": {},
   "outputs": [],
   "source": []
  },
  {
   "cell_type": "code",
   "execution_count": null,
   "id": "c1d3241a-8dfe-415a-95b2-70b930d0b88d",
   "metadata": {},
   "outputs": [],
   "source": []
  },
  {
   "cell_type": "code",
   "execution_count": null,
   "id": "871e9fab-129e-4415-8992-b4707042361d",
   "metadata": {},
   "outputs": [],
   "source": []
  }
 ],
 "metadata": {
  "kernelspec": {
   "display_name": "numcosmo",
   "language": "python",
   "name": "numcosmo"
  },
  "language_info": {
   "codemirror_mode": {
    "name": "ipython",
    "version": 3
   },
   "file_extension": ".py",
   "mimetype": "text/x-python",
   "name": "python",
   "nbconvert_exporter": "python",
   "pygments_lexer": "ipython3",
   "version": "3.11.11"
  }
 },
 "nbformat": 4,
 "nbformat_minor": 5
}
