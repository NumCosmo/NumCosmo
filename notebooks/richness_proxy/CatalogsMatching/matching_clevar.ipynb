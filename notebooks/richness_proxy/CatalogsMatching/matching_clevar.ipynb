{
 "cells": [
  {
   "cell_type": "code",
   "execution_count": 1,
   "id": "31a24b86-efb5-4e89-a6e4-655cf1f62bd0",
   "metadata": {
    "tags": []
   },
   "outputs": [
    {
     "name": "stdout",
     "output_type": "stream",
     "text": [
      "GCRCatalogs = 1.9.0 | GCR = 0.9.2\n"
     ]
    },
    {
     "name": "stderr",
     "output_type": "stream",
     "text": [
      "/global/homes/l/lettieri/.local/lib/python3.13/site-packages/hpgeom-0.0.0-py3.13-linux-x86_64.egg/hpgeom/_hpgeom.py:3: UserWarning: pkg_resources is deprecated as an API. See https://setuptools.pypa.io/en/latest/pkg_resources.html. The pkg_resources package is slated for removal as early as 2025-11-30. Refrain from using this package or pin to Setuptools<81.\n"
     ]
    },
    {
     "name": "stdout",
     "output_type": "stream",
     "text": [
      "Clevar = 0.17.1\n"
     ]
    }
   ],
   "source": [
    "import math\n",
    "import sys\n",
    "import os\n",
    "import numpy as np\n",
    "import pandas as pd\n",
    "from astropy.io import fits\n",
    "from astropy.table import Table\n",
    "import matplotlib\n",
    "from matplotlib import pyplot as plt\n",
    "import time\n",
    "\n",
    "\n",
    "sys.path.insert(0, \"/global/homes/l/lettieri/gcrcatalogs-new/gcr-catalogs\")\n",
    "sys.path.insert(0, \"global/homes/l/lettieri/clevar/clevar\")\n",
    "sys.path.insert(0, \"/global/homes/l/lettieri/gcr-catalogs\")\n",
    "\n",
    "import GCRCatalogs\n",
    "#Put nersc if using nersc\n",
    "GCRCatalogs.set_root_dir_by_site(\"nersc\")\n",
    "print('GCRCatalogs =', GCRCatalogs.__version__, '|' ,'GCR =', GCRCatalogs.GCR.__version__)\n",
    "\n",
    "from clevar import ClCatalog, MemCatalog\n",
    "from clevar.match import MembershipMatch, get_matched_pairs\n",
    "\n",
    "from clevar.match import output_matched_catalog\n",
    "import clevar\n",
    "\n",
    "print('Clevar =', clevar.__version__)\n",
    "\n",
    "\n",
    "# matplotlib.rcParams.update({'font.size': 22})\n",
    "# matplotlib.rcParams.update({'figure.figsize': (10,8)})\n"
   ]
  },
  {
   "cell_type": "code",
   "execution_count": 2,
   "id": "7916a59f-da36-4d7f-a4e6-58599c6697fa",
   "metadata": {
    "tags": []
   },
   "outputs": [],
   "source": [
    "gc = GCRCatalogs.load_catalog('cosmoDC2_v1.1.4_redmapper_v0.8.1')\n",
    "gc_truth = GCRCatalogs.load_catalog('cosmoDC2_v1.1.4_image')  "
   ]
  },
  {
   "cell_type": "code",
   "execution_count": 3,
   "id": "9e698195-c082-4cdc-8d4a-0edd42c561e9",
   "metadata": {},
   "outputs": [],
   "source": [
    "quantities = gc.list_all_quantities()\n",
    "cluster_quantities = [q for q in quantities if 'member' not in q]\n",
    "member_quantities = [q for q in quantities if 'member' in q]"
   ]
  },
  {
   "cell_type": "code",
   "execution_count": 4,
   "id": "3286c20f-94b7-4a4f-8390-54b1740094d7",
   "metadata": {},
   "outputs": [],
   "source": [
    "# query = GCRCatalogs.GCRQuery('(richness > ' + str(min_richness) +')')   \n",
    "cluster_data = Table(gc.get_quantities(cluster_quantities))\n",
    "member_data = Table(gc.get_quantities(member_quantities))"
   ]
  },
  {
   "cell_type": "code",
   "execution_count": 5,
   "id": "d95c1b23-54cd-4d89-b8c6-5fdff4625ef9",
   "metadata": {},
   "outputs": [],
   "source": [
    "# cluster_data[cluster_data['richness'] < 5]"
   ]
  },
  {
   "cell_type": "code",
   "execution_count": 6,
   "id": "ca8301c8-d1ff-4292-9569-5cc7b56905c9",
   "metadata": {},
   "outputs": [],
   "source": [
    "min_halo_mass = 1e13 #Msun\n",
    "redshift_max = 1.2\n",
    "\n",
    "quantities_wanted = ['redshift','halo_mass','halo_id','galaxy_id','ra','dec', 'is_central', 'mag_true_u_lsst', 'mag_true_g_lsst', 'mag_true_r_lsst', 'mag_true_i_lsst', 'mag_true_z_lsst', 'mag_true_y_lsst']\n",
    "\n",
    "query = GCRCatalogs.GCRQuery('(halo_mass > ' + str(min_halo_mass) +') & (redshift < ' + str(redshift_max) +')')\n",
    "truth_data = Table(gc_truth.get_quantities(quantities_wanted, [query]))\n",
    "#truth_data = Table.read('cosmoDC2_image_selected_data.fits')"
   ]
  },
  {
   "cell_type": "code",
   "execution_count": 7,
   "id": "c1ca6525-1815-488c-93f9-0a9a69d2ca9f",
   "metadata": {
    "tags": []
   },
   "outputs": [
    {
     "name": "stderr",
     "output_type": "stream",
     "text": [
      "/global/homes/l/lettieri/.local/lib/python3.13/site-packages/clevar-0.17.1-py3.13.egg/clevar/catalog/catalog.py:745: UserWarning: Some galaxies were not members of the cluster catalog. They are stored in leftover_members attribute.\n",
      "  warnings.warn(\n"
     ]
    }
   ],
   "source": [
    "RM_cat_name = 'cosmoDC2_v1.1.4_redmapper_v0.8.1'\n",
    "DC2_cat_name = 'cosmoDC2_v1.1.4_image'\n",
    "\n",
    "#Redmapper\n",
    "RM_cat = ClCatalog(RM_cat_name, z=cluster_data[\"redshift\"], ra=cluster_data[\"ra\"], dec=cluster_data[\"dec\"], id = cluster_data[\"cluster_id\"], richness = cluster_data[\"richness\"], richness_err=cluster_data[\"richness_err\"], \\\n",
    "                   id_cg = cluster_data[\"id_cen_0\"], ztrue_cg=cluster_data[\"redshift_true_cg\"], p_cg_0=cluster_data[\"p_cen_0\"])\n",
    "\n",
    "pmem = member_data[\"p_member\"] * member_data[\"pfree_member\"] * member_data[\"theta_i_member\"] * member_data[\"theta_r_member\"] \n",
    "\n",
    "member_data.add_column(pmem, name=\"pmem\")\n",
    "\n",
    "RM_cat_members = MemCatalog(\"RM_members\", id_cluster=member_data[\"cluster_id_member\"], id=member_data[\"id_member\"], ra=member_data[\"ra_member\"], dec=member_data[\"dec_member\"],\n",
    "                            pmem=member_data[\"pmem\"],  redshift=member_data[\"redshift_true_member\"], \n",
    "                            mag_g_lsst_member=member_data[\"mag_g_lsst_member\"], mag_r_lsst_member=member_data[\"mag_r_lsst_member\"], \n",
    "                            mag_i_lsst_member=member_data[\"mag_i_lsst_member\"], mag_z_lsst_member=member_data[\"mag_z_lsst_member\"], mag_y_lsst_member=member_data[\"mag_y_lsst_member\"]) \n",
    "\n",
    "RM_cat.add_members(members_catalog=RM_cat_members)\n",
    "\n",
    "\n",
    "#Dc2\n",
    "halo_cat = ClCatalog(DC2_cat_name, z= truth_data[\"redshift\"][truth_data[\"is_central\"]],\n",
    "                     ra= truth_data[\"ra\"][truth_data[\"is_central\"]], dec= truth_data[\"dec\"][truth_data[\"is_central\"]],\n",
    "                     id=truth_data[\"halo_id\"][truth_data[\"is_central\"]], mass_fof=truth_data[\"halo_mass\"][truth_data[\"is_central\"]])\n",
    "\n",
    "halo_cat_members = MemCatalog(\"halo_members\", id_cluster=truth_data[\"halo_id\"], id=truth_data[\"galaxy_id\"], ra=truth_data[\"ra\"], dec=truth_data[\"dec\"],\n",
    "                              redshift=truth_data[\"redshift\"], is_central = truth_data[\"is_central\"], \n",
    "                              mag_true_u_lsst = truth_data[\"mag_true_u_lsst\"],  mag_true_g_lsst = truth_data[\"mag_true_g_lsst\"],\n",
    "                              mag_true_r_lsst = truth_data[\"mag_true_r_lsst\"], mag_true_i_lsst = truth_data[\"mag_true_i_lsst\"],  mag_true_z_lsst = truth_data[\"mag_true_z_lsst\"], ) \n",
    "\n",
    "halo_cat.add_members(members_catalog=halo_cat_members)\n",
    "\n",
    "RM_cat._init_match_vals(True)\n",
    "halo_cat._init_match_vals(True)"
   ]
  },
  {
   "cell_type": "code",
   "execution_count": 8,
   "id": "13a95b1a-363d-4cb2-8546-113d34345133",
   "metadata": {
    "tags": []
   },
   "outputs": [],
   "source": [
    "# RM_cat_name = 'skysim5000_v1.1.1_redmapper_v0.8.5'\n",
    "# DC2_cat_name = 'skysim5000_v1.1.1_image'\n",
    "\n",
    "RM_cat_name = 'cosmoDC2_v1.1.4_redmapper_v0.8.1'\n",
    "DC2_cat_name = 'cosmoDC2_v1.1.4_image'\n",
    "\n",
    "RM_cat = ClCatalog(RM_cat_name, z=cluster_data[\"redshift\"], ra=cluster_data[\"ra\"], dec=cluster_data[\"dec\"], id = cluster_data[\"cluster_id\"], mass = cluster_data[\"richness\"], richness_err=cluster_data[\"richness_err\"], \\\n",
    "                   id_cg = cluster_data[\"id_cen_0\"], ztrue_cg=cluster_data[\"redshift_true_cg\"], p_cg_0=cluster_data[\"p_cen_0\"])\n",
    "\n"
   ]
  },
  {
   "cell_type": "code",
   "execution_count": 9,
   "id": "188440e0-a5a8-4175-aff2-8a5836a74aa5",
   "metadata": {},
   "outputs": [
    {
     "data": {
      "text/html": [
       "<b>cosmoDC2_v1.1.4_redmapper_v0.8.1</b><br></b><b>tags:</b> id(id), z(z), ra(ra), dec(dec), mass(mass)<br><b>Radius unit:</b> None<br><div><i>ClData length=45081</i>\n",
       "<table id=\"table139651401395280\" class=\"table-striped table-bordered table-condensed\">\n",
       "<thead><tr><th>id</th><th>z</th><th>ra</th><th>dec</th><th>mass</th><th>richness_err</th><th>id_cg</th><th>ztrue_cg</th><th>p_cg_0</th></tr></thead>\n",
       "<thead><tr><th>str11</th><th>float32</th><th>float64</th><th>float64</th><th>float32</th><th>float32</th><th>int64</th><th>float32</th><th>float32</th></tr></thead>\n",
       "<tr><td>10</td><td>0.5135129</td><td>52.520436430812914</td><td>-25.717996124671657</td><td>190.70665</td><td>3.7469666</td><td>1312945563</td><td>0.51072353</td><td>0.79138356</td></tr>\n",
       "<tr><td>18</td><td>0.5712697</td><td>56.920376528125075</td><td>-27.20434071042304</td><td>179.12813</td><td>3.6934361</td><td>2000524808</td><td>0.5740297</td><td>0.99996513</td></tr>\n",
       "<tr><td>24</td><td>1.040338</td><td>56.99849698116052</td><td>-26.7172081871169</td><td>124.02715</td><td>2.4172914</td><td>2002535198</td><td>1.0347759</td><td>0.93527913</td></tr>\n",
       "<tr><td>30</td><td>0.63518524</td><td>58.56362402841767</td><td>-27.429961828331713</td><td>167.33603</td><td>3.6777163</td><td>2000759779</td><td>0.6426174</td><td>0.9958548</td></tr>\n",
       "<tr><td>71</td><td>0.44230303</td><td>58.35519782866568</td><td>-26.867687128773035</td><td>111.9147</td><td>3.366554</td><td>2000289335</td><td>0.43919736</td><td>0.7297119</td></tr>\n",
       "<tr><td>73</td><td>0.46697217</td><td>57.76575707007693</td><td>-28.119101936484828</td><td>104.439766</td><td>2.9570596</td><td>2000290819</td><td>0.4680865</td><td>0.99970347</td></tr>\n",
       "<tr><td>109</td><td>0.4413634</td><td>58.509466974185045</td><td>-26.989676182075844</td><td>103.49396</td><td>3.3524604</td><td>2000286447</td><td>0.44349608</td><td>0.99999905</td></tr>\n",
       "<tr><td>116</td><td>1.0629631</td><td>54.494027152041674</td><td>-27.896589555863095</td><td>76.85877</td><td>2.2175314</td><td>1940324795</td><td>1.0758829</td><td>0.6544826</td></tr>\n",
       "<tr><td>133</td><td>1.037697</td><td>58.137368555958155</td><td>-27.199784884537003</td><td>75.89771</td><td>2.26323</td><td>2002528355</td><td>1.0311339</td><td>0.991116</td></tr>\n",
       "<tr><td>...</td><td>...</td><td>...</td><td>...</td><td>...</td><td>...</td><td>...</td><td>...</td><td>...</td></tr>\n",
       "<tr><td>88669</td><td>1.1347386</td><td>68.97659374968845</td><td>-43.46226537592641</td><td>6.5180874</td><td>1.1459903</td><td>11315873807</td><td>1.2043793</td><td>0.99999994</td></tr>\n",
       "<tr><td>21720</td><td>1.133446</td><td>67.80686586780557</td><td>-45.04968907693027</td><td>10.81999</td><td>1.5633166</td><td>11940608972</td><td>1.1316372</td><td>0.94121623</td></tr>\n",
       "<tr><td>84643</td><td>1.1440023</td><td>69.32447991359263</td><td>-44.58164957988367</td><td>5.1451397</td><td>1.4131594</td><td>12003349376</td><td>1.2002995</td><td>0.94542605</td></tr>\n",
       "<tr><td>35682</td><td>0.47193053</td><td>69.5183602456607</td><td>-44.85610621353534</td><td>5.9383984</td><td>1.2630464</td><td>12000315335</td><td>0.47074133</td><td>0.89693886</td></tr>\n",
       "<tr><td>54206</td><td>0.5012809</td><td>70.47296979578381</td><td>-44.81929434112701</td><td>5.2824345</td><td>1.234711</td><td>12000459039</td><td>0.50687563</td><td>0.85845697</td></tr>\n",
       "<tr><td>29100</td><td>1.1359326</td><td>66.93469285125511</td><td>-45.3464905749836</td><td>5.3739643</td><td>1.7012949</td><td>11940894380</td><td>1.1941854</td><td>0.8403742</td></tr>\n",
       "<tr><td>97018</td><td>1.1348144</td><td>71.14867155851915</td><td>-45.04493556544232</td><td>7.5554256</td><td>1.5348982</td><td>12003351933</td><td>1.1928569</td><td>0.9071249</td></tr>\n",
       "<tr><td>97912</td><td>0.21152088</td><td>71.59288528630849</td><td>-44.833270342288635</td><td>5.007845</td><td>0.8978684</td><td>12000026207</td><td>0.20771948</td><td>0.7053878</td></tr>\n",
       "<tr><td>37112</td><td>1.1475015</td><td>69.36171381510071</td><td>-44.138625691755685</td><td>5.3587093</td><td>1.4293212</td><td>11315864504</td><td>1.1517015</td><td>0.9720678</td></tr>\n",
       "<tr><td>74968</td><td>0.9184803</td><td>70.4738860743343</td><td>-44.583719372027936</td><td>5.1298847</td><td>1.5429279</td><td>12001980394</td><td>0.93659854</td><td>0.99953824</td></tr>\n",
       "</table></div>"
      ],
      "text/plain": [
       "<clevar.catalog.catalog.ClCatalog at 0x7f02bbb4d950>"
      ]
     },
     "metadata": {},
     "output_type": "display_data"
    }
   ],
   "source": [
    "display(RM_cat)"
   ]
  },
  {
   "cell_type": "code",
   "execution_count": 10,
   "id": "3e19e3c4-2fdf-405c-818d-37962f2f4de7",
   "metadata": {
    "tags": []
   },
   "outputs": [],
   "source": [
    "RM_cat.write('RM_cat.fits', add_header =True, overwrite=True)"
   ]
  },
  {
   "cell_type": "code",
   "execution_count": 11,
   "id": "8133d64b-3021-4bbd-beb5-1381547ce4f8",
   "metadata": {
    "tags": []
   },
   "outputs": [],
   "source": [
    "pmem = member_data[\"p_member\"] * member_data[\"pfree_member\"] * member_data[\"theta_i_member\"] * member_data[\"theta_r_member\"] \n",
    "member_data.replace_column(\"pmem\",pmem) "
   ]
  },
  {
   "cell_type": "code",
   "execution_count": 12,
   "id": "113643ed-23c9-47a4-bf41-000e111003d6",
   "metadata": {
    "tags": []
   },
   "outputs": [
    {
     "data": {
      "text/html": [
       "<b>cosmoDC2_v1.1.4_redmapper_v0.8.1</b><br></b><b>tags:</b> id(id), z(z), ra(ra), dec(dec), mass(mass)<br><b>Radius unit:</b> None<br><div><i>ClData length=45081</i>\n",
       "<table id=\"table139649871175840\" class=\"table-striped table-bordered table-condensed\">\n",
       "<thead><tr><th>id</th><th>z</th><th>ra</th><th>dec</th><th>mass</th><th>richness_err</th><th>id_cg</th><th>ztrue_cg</th><th>p_cg_0</th></tr></thead>\n",
       "<thead><tr><th>str11</th><th>float32</th><th>float64</th><th>float64</th><th>float32</th><th>float32</th><th>int64</th><th>float32</th><th>float32</th></tr></thead>\n",
       "<tr><td>10</td><td>0.5135129</td><td>52.520436430812914</td><td>-25.717996124671657</td><td>190.70665</td><td>3.7469666</td><td>1312945563</td><td>0.51072353</td><td>0.79138356</td></tr>\n",
       "<tr><td>18</td><td>0.5712697</td><td>56.920376528125075</td><td>-27.20434071042304</td><td>179.12813</td><td>3.6934361</td><td>2000524808</td><td>0.5740297</td><td>0.99996513</td></tr>\n",
       "<tr><td>24</td><td>1.040338</td><td>56.99849698116052</td><td>-26.7172081871169</td><td>124.02715</td><td>2.4172914</td><td>2002535198</td><td>1.0347759</td><td>0.93527913</td></tr>\n",
       "<tr><td>30</td><td>0.63518524</td><td>58.56362402841767</td><td>-27.429961828331713</td><td>167.33603</td><td>3.6777163</td><td>2000759779</td><td>0.6426174</td><td>0.9958548</td></tr>\n",
       "<tr><td>71</td><td>0.44230303</td><td>58.35519782866568</td><td>-26.867687128773035</td><td>111.9147</td><td>3.366554</td><td>2000289335</td><td>0.43919736</td><td>0.7297119</td></tr>\n",
       "<tr><td>73</td><td>0.46697217</td><td>57.76575707007693</td><td>-28.119101936484828</td><td>104.439766</td><td>2.9570596</td><td>2000290819</td><td>0.4680865</td><td>0.99970347</td></tr>\n",
       "<tr><td>109</td><td>0.4413634</td><td>58.509466974185045</td><td>-26.989676182075844</td><td>103.49396</td><td>3.3524604</td><td>2000286447</td><td>0.44349608</td><td>0.99999905</td></tr>\n",
       "<tr><td>116</td><td>1.0629631</td><td>54.494027152041674</td><td>-27.896589555863095</td><td>76.85877</td><td>2.2175314</td><td>1940324795</td><td>1.0758829</td><td>0.6544826</td></tr>\n",
       "<tr><td>133</td><td>1.037697</td><td>58.137368555958155</td><td>-27.199784884537003</td><td>75.89771</td><td>2.26323</td><td>2002528355</td><td>1.0311339</td><td>0.991116</td></tr>\n",
       "<tr><td>...</td><td>...</td><td>...</td><td>...</td><td>...</td><td>...</td><td>...</td><td>...</td><td>...</td></tr>\n",
       "<tr><td>88669</td><td>1.1347386</td><td>68.97659374968845</td><td>-43.46226537592641</td><td>6.5180874</td><td>1.1459903</td><td>11315873807</td><td>1.2043793</td><td>0.99999994</td></tr>\n",
       "<tr><td>21720</td><td>1.133446</td><td>67.80686586780557</td><td>-45.04968907693027</td><td>10.81999</td><td>1.5633166</td><td>11940608972</td><td>1.1316372</td><td>0.94121623</td></tr>\n",
       "<tr><td>84643</td><td>1.1440023</td><td>69.32447991359263</td><td>-44.58164957988367</td><td>5.1451397</td><td>1.4131594</td><td>12003349376</td><td>1.2002995</td><td>0.94542605</td></tr>\n",
       "<tr><td>35682</td><td>0.47193053</td><td>69.5183602456607</td><td>-44.85610621353534</td><td>5.9383984</td><td>1.2630464</td><td>12000315335</td><td>0.47074133</td><td>0.89693886</td></tr>\n",
       "<tr><td>54206</td><td>0.5012809</td><td>70.47296979578381</td><td>-44.81929434112701</td><td>5.2824345</td><td>1.234711</td><td>12000459039</td><td>0.50687563</td><td>0.85845697</td></tr>\n",
       "<tr><td>29100</td><td>1.1359326</td><td>66.93469285125511</td><td>-45.3464905749836</td><td>5.3739643</td><td>1.7012949</td><td>11940894380</td><td>1.1941854</td><td>0.8403742</td></tr>\n",
       "<tr><td>97018</td><td>1.1348144</td><td>71.14867155851915</td><td>-45.04493556544232</td><td>7.5554256</td><td>1.5348982</td><td>12003351933</td><td>1.1928569</td><td>0.9071249</td></tr>\n",
       "<tr><td>97912</td><td>0.21152088</td><td>71.59288528630849</td><td>-44.833270342288635</td><td>5.007845</td><td>0.8978684</td><td>12000026207</td><td>0.20771948</td><td>0.7053878</td></tr>\n",
       "<tr><td>37112</td><td>1.1475015</td><td>69.36171381510071</td><td>-44.138625691755685</td><td>5.3587093</td><td>1.4293212</td><td>11315864504</td><td>1.1517015</td><td>0.9720678</td></tr>\n",
       "<tr><td>74968</td><td>0.9184803</td><td>70.4738860743343</td><td>-44.583719372027936</td><td>5.1298847</td><td>1.5429279</td><td>12001980394</td><td>0.93659854</td><td>0.99953824</td></tr>\n",
       "</table></div>"
      ],
      "text/plain": [
       "<clevar.catalog.catalog.ClCatalog at 0x7f02bbb4d950>"
      ]
     },
     "execution_count": 12,
     "metadata": {},
     "output_type": "execute_result"
    }
   ],
   "source": [
    "RM_cat_members = MemCatalog(\"RM_members\", id_cluster=member_data[\"cluster_id_member\"], id=member_data[\"id_member\"], ra=member_data[\"ra_member\"], dec=member_data[\"dec_member\"],\n",
    "                            pmem=member_data[\"pmem\"],  redshift=member_data[\"redshift_true_member\"], \n",
    "                            mag_g_lsst_member=member_data[\"mag_g_lsst_member\"], mag_r_lsst_member=member_data[\"mag_r_lsst_member\"], \n",
    "                            mag_i_lsst_member=member_data[\"mag_i_lsst_member\"], mag_z_lsst_member=member_data[\"mag_z_lsst_member\"], mag_y_lsst_member=member_data[\"mag_y_lsst_member\"]) \n",
    "RM_cat.add_members(members_catalog=RM_cat_members)\n",
    "\n",
    "# RM_cat.members.write('RM_cat_members.fits', overwrite=True)\n",
    "RM_cat"
   ]
  },
  {
   "cell_type": "code",
   "execution_count": 13,
   "id": "0bbbbf17-e32b-4df5-9f0c-e1dcefc70e44",
   "metadata": {
    "tags": []
   },
   "outputs": [
    {
     "data": {
      "text/html": [
       "<b>cosmoDC2_v1.1.4_image</b><br></b><b>tags:</b> id(id), z(z), ra(ra), dec(dec), mass(mass)<br><b>Radius unit:</b> None<br><div><i>ClData length=249557</i>\n",
       "<table id=\"table139649712674032\" class=\"table-striped table-bordered table-condensed\">\n",
       "<thead><tr><th>id</th><th>z</th><th>ra</th><th>dec</th><th>mass</th></tr></thead>\n",
       "<thead><tr><th>str21</th><th>float64</th><th>float64</th><th>float64</th><th>float64</th></tr></thead>\n",
       "<tr><td>4500151475</td><td>0.04818676962281132</td><td>49.6366034309591</td><td>-40.400894272468605</td><td>16891355712901.41</td></tr>\n",
       "<tr><td>7300151475</td><td>0.04825926322238838</td><td>50.957598308861314</td><td>-41.3447799174979</td><td>74621860826501.4</td></tr>\n",
       "<tr><td>13700151475</td><td>0.04554516035339984</td><td>51.00887984172898</td><td>-40.832338501224754</td><td>33506664194163.383</td></tr>\n",
       "<tr><td>1100151464</td><td>0.0643846735498792</td><td>50.57641425057562</td><td>-41.15855360868742</td><td>17911434075583.098</td></tr>\n",
       "<tr><td>18300151442</td><td>0.10736840205357634</td><td>50.77601162448169</td><td>-39.168679326038024</td><td>13042641686354.93</td></tr>\n",
       "<tr><td>36400151442</td><td>0.12743613052494784</td><td>50.60510200022939</td><td>-39.336294511446724</td><td>48388878878287.33</td></tr>\n",
       "<tr><td>43700151442</td><td>0.11375834498747261</td><td>49.50475455575477</td><td>-40.23977306100707</td><td>69213477135143.664</td></tr>\n",
       "<tr><td>52300151442</td><td>0.1259639067546261</td><td>51.070122482361214</td><td>-39.64548257286864</td><td>62974036412214.086</td></tr>\n",
       "<tr><td>1200151432</td><td>0.12775858760889358</td><td>50.36982165635327</td><td>-39.09754001831282</td><td>34125997485791.55</td></tr>\n",
       "<tr><td>...</td><td>...</td><td>...</td><td>...</td><td>...</td></tr>\n",
       "<tr><td>3682600146224</td><td>1.1853570163214662</td><td>75.55359016100344</td><td>-39.08539288599104</td><td>32478779109318.312</td></tr>\n",
       "<tr><td>3697000146224</td><td>1.176876263452105</td><td>74.83087511096365</td><td>-39.278859347493345</td><td>12878700520923.943</td></tr>\n",
       "<tr><td>3722900146224</td><td>1.1905445077711279</td><td>73.84047973663067</td><td>-39.286556937838554</td><td>12251522108574.648</td></tr>\n",
       "<tr><td>3765500146224</td><td>1.1734714584012749</td><td>74.86771814462249</td><td>-38.43122088428722</td><td>20021851300416.902</td></tr>\n",
       "<tr><td>3808800146224</td><td>1.1946265992489535</td><td>74.65571079074518</td><td>-39.7675290320449</td><td>35354255106163.38</td></tr>\n",
       "<tr><td>3871300146224</td><td>1.1849773059535407</td><td>73.81128737143172</td><td>-39.14638595036369</td><td>14013277475335.213</td></tr>\n",
       "<tr><td>3911800146224</td><td>1.1800017149140816</td><td>74.88470898258565</td><td>-38.02756142548923</td><td>44490722278039.44</td></tr>\n",
       "<tr><td>3912800146224</td><td>1.1971548172109827</td><td>75.65011974249386</td><td>-38.713099486333775</td><td>11283213862940.846</td></tr>\n",
       "<tr><td>3932700146224</td><td>1.1894043018632114</td><td>74.67939837200306</td><td>-37.47552757193451</td><td>13930005772259.156</td></tr>\n",
       "<tr><td>3944400146224</td><td>1.1883444026995855</td><td>74.07236340535268</td><td>-38.265619746963445</td><td>37488092497487.33</td></tr>\n",
       "</table></div>"
      ],
      "text/plain": [
       "<clevar.catalog.catalog.ClCatalog at 0x7f02bbb1df30>"
      ]
     },
     "execution_count": 13,
     "metadata": {},
     "output_type": "execute_result"
    }
   ],
   "source": [
    "halo_cat = ClCatalog(DC2_cat_name, z= truth_data[\"redshift\"][truth_data[\"is_central\"]],\n",
    "                     ra= truth_data[\"ra\"][truth_data[\"is_central\"]], dec= truth_data[\"dec\"][truth_data[\"is_central\"]],\n",
    "                     id=truth_data[\"halo_id\"][truth_data[\"is_central\"]], mass=truth_data[\"halo_mass\"][truth_data[\"is_central\"]])\n",
    "halo_cat"
   ]
  },
  {
   "cell_type": "code",
   "execution_count": 14,
   "id": "ea443f5a-ef6e-4605-8232-315a1c9aaa82",
   "metadata": {
    "tags": []
   },
   "outputs": [],
   "source": [
    "# halo_cat.write('halo_cat.fits', overwrite=True)\n"
   ]
  },
  {
   "cell_type": "code",
   "execution_count": 15,
   "id": "84c611a3-8f9a-4fca-a7cd-45ae77807f5d",
   "metadata": {
    "tags": []
   },
   "outputs": [],
   "source": [
    "halo_cat_members = MemCatalog(\"halo_members\", id_cluster=truth_data[\"halo_id\"], id=truth_data[\"galaxy_id\"], ra=truth_data[\"ra\"], dec=truth_data[\"dec\"],\n",
    "                              redshift=truth_data[\"redshift\"], is_central = truth_data[\"is_central\"], \n",
    "                              mag_true_u_lsst = truth_data[\"mag_true_u_lsst\"],  mag_true_g_lsst = truth_data[\"mag_true_g_lsst\"],\n",
    "                              mag_true_r_lsst = truth_data[\"mag_true_r_lsst\"], mag_true_i_lsst = truth_data[\"mag_true_i_lsst\"],  mag_true_z_lsst = truth_data[\"mag_true_z_lsst\"], )"
   ]
  },
  {
   "cell_type": "code",
   "execution_count": 16,
   "id": "61841367-d81f-4398-97bf-aeea5edad33c",
   "metadata": {
    "tags": []
   },
   "outputs": [
    {
     "data": {
      "text/html": [
       "<b>halo_members</b><br><b>tags:</b> id(id), id_cluster(id_cluster), ra(ra), dec(dec)<br><div><i>ClData length=5786060</i>\n",
       "<table id=\"table139649871175840\" class=\"table-striped table-bordered table-condensed\">\n",
       "<thead><tr><th>id_cluster</th><th>id</th><th>ra</th><th>dec</th><th>redshift</th><th>is_central</th><th>mag_true_u_lsst</th><th>mag_true_g_lsst</th><th>mag_true_r_lsst</th><th>mag_true_i_lsst</th><th>mag_true_z_lsst</th></tr></thead>\n",
       "<thead><tr><th>str21</th><th>str21</th><th>float64</th><th>float64</th><th>float64</th><th>bool</th><th>float32</th><th>float32</th><th>float32</th><th>float32</th><th>float32</th></tr></thead>\n",
       "<tr><td>4500151475</td><td>9437500128</td><td>49.6366034309591</td><td>-40.400894272468605</td><td>0.04818676962281132</td><td>True</td><td>17.104242</td><td>15.427202</td><td>14.594372</td><td>14.220104</td><td>13.957041</td></tr>\n",
       "<tr><td>4500151475</td><td>9437500129</td><td>49.46521866823849</td><td>-40.41371737691802</td><td>0.04920109901409253</td><td>False</td><td>22.25664</td><td>21.199564</td><td>20.71225</td><td>20.43797</td><td>20.297253</td></tr>\n",
       "<tr><td>4500151475</td><td>9437500130</td><td>49.62952487674635</td><td>-40.40525333868696</td><td>0.04825475916728461</td><td>False</td><td>17.41775</td><td>15.811033</td><td>15.01067</td><td>14.648596</td><td>14.410269</td></tr>\n",
       "<tr><td>4500151475</td><td>9437500131</td><td>49.63722268629932</td><td>-40.40213407288883</td><td>0.04908434162264519</td><td>False</td><td>20.77637</td><td>19.294384</td><td>18.560036</td><td>18.194801</td><td>17.962835</td></tr>\n",
       "<tr><td>4500151475</td><td>9437500132</td><td>49.47215142449812</td><td>-40.40661788509503</td><td>0.04715899608329677</td><td>False</td><td>20.729671</td><td>19.474966</td><td>19.085833</td><td>18.89763</td><td>18.833975</td></tr>\n",
       "<tr><td>4500151475</td><td>9437500133</td><td>49.62774364073635</td><td>-40.389274415076976</td><td>0.04834164860201673</td><td>False</td><td>22.528042</td><td>21.259693</td><td>20.748756</td><td>20.500061</td><td>20.401487</td></tr>\n",
       "<tr><td>4500151475</td><td>9437500134</td><td>49.7276378027726</td><td>-40.383940630337435</td><td>0.04834778668489825</td><td>False</td><td>19.053247</td><td>17.43881</td><td>16.642687</td><td>16.257164</td><td>16.007717</td></tr>\n",
       "<tr><td>4500151475</td><td>9437500135</td><td>49.698541467041395</td><td>-40.27724451449116</td><td>0.04829776417102405</td><td>False</td><td>18.213757</td><td>17.159548</td><td>16.622149</td><td>16.261654</td><td>15.996252</td></tr>\n",
       "<tr><td>4500151475</td><td>9437500136</td><td>49.718255793095075</td><td>-40.54445769390596</td><td>0.04739776740602353</td><td>False</td><td>22.01182</td><td>20.756655</td><td>20.328505</td><td>20.129255</td><td>20.065802</td></tr>\n",
       "<tr><td>...</td><td>...</td><td>...</td><td>...</td><td>...</td><td>...</td><td>...</td><td>...</td><td>...</td><td>...</td><td>...</td></tr>\n",
       "<tr><td>3944400146224</td><td>9128382987</td><td>74.07040251426744</td><td>-38.257786475135525</td><td>1.1860555737792184</td><td>False</td><td>25.555918</td><td>25.413824</td><td>24.933334</td><td>24.391943</td><td>23.595003</td></tr>\n",
       "<tr><td>3944400146224</td><td>9128382988</td><td>74.07016000284766</td><td>-38.26810501525522</td><td>1.1883391084966863</td><td>False</td><td>23.048727</td><td>23.057901</td><td>23.05444</td><td>22.932653</td><td>22.372614</td></tr>\n",
       "<tr><td>3944400146224</td><td>9128382989</td><td>74.07692255554177</td><td>-38.25556789920321</td><td>1.1896890416875174</td><td>False</td><td>27.263674</td><td>27.400927</td><td>27.183006</td><td>27.008017</td><td>26.341026</td></tr>\n",
       "<tr><td>3944400146224</td><td>9128382990</td><td>74.0811632633662</td><td>-38.27113227751618</td><td>1.1890212268972271</td><td>False</td><td>30.677101</td><td>28.84907</td><td>27.270428</td><td>26.215904</td><td>25.408318</td></tr>\n",
       "<tr><td>3944400146224</td><td>9128382991</td><td>74.07477772508051</td><td>-38.257782289954704</td><td>1.1889246344502609</td><td>False</td><td>27.722687</td><td>27.184193</td><td>26.20785</td><td>25.369385</td><td>24.488705</td></tr>\n",
       "<tr><td>2708300146224</td><td>9128383264</td><td>73.51006391555748</td><td>-38.47407994796945</td><td>1.1998932864590355</td><td>False</td><td>28.785465</td><td>27.496964</td><td>25.815361</td><td>24.65799</td><td>23.864344</td></tr>\n",
       "<tr><td>2708300146224</td><td>9128383265</td><td>73.50858342661034</td><td>-38.47894392853281</td><td>1.1973882748053901</td><td>False</td><td>28.702217</td><td>27.567368</td><td>25.998478</td><td>24.81063</td><td>24.00279</td></tr>\n",
       "<tr><td>2708300146224</td><td>9128383266</td><td>73.511652078639</td><td>-38.46804977385459</td><td>1.1980546071329465</td><td>False</td><td>28.780819</td><td>27.672031</td><td>26.19173</td><td>25.106665</td><td>24.310595</td></tr>\n",
       "<tr><td>625600146219</td><td>9128679743</td><td>75.58185625101201</td><td>-38.79146709526531</td><td>1.1999550053369257</td><td>False</td><td>31.563055</td><td>29.768656</td><td>28.283943</td><td>27.227827</td><td>26.435768</td></tr>\n",
       "<tr><td>2947900146219</td><td>9128711479</td><td>73.46368735772134</td><td>-38.33519107294565</td><td>1.1992794744859823</td><td>False</td><td>26.562826</td><td>26.50731</td><td>26.011894</td><td>25.615463</td><td>24.769867</td></tr>\n",
       "</table></div>"
      ],
      "text/plain": [
       "<clevar.catalog.catalog.MemCatalog at 0x7f01f1fcdeb0>"
      ]
     },
     "execution_count": 16,
     "metadata": {},
     "output_type": "execute_result"
    }
   ],
   "source": [
    "halo_cat_members"
   ]
  },
  {
   "cell_type": "code",
   "execution_count": 17,
   "id": "b11bb9b5-3c21-4ddf-98c4-27995fdff2b0",
   "metadata": {
    "tags": []
   },
   "outputs": [],
   "source": [
    "halo_cat.add_members(members_catalog=halo_cat_members)"
   ]
  },
  {
   "cell_type": "code",
   "execution_count": 18,
   "id": "1cc22807-e031-4bcd-908f-b26b36a61061",
   "metadata": {
    "tags": []
   },
   "outputs": [],
   "source": [
    "# halo_cat.members.write('halo_cat_members.fits', overwrite=True)\n"
   ]
  },
  {
   "cell_type": "code",
   "execution_count": 19,
   "id": "40bb0511-802d-46d1-b09f-a731afd018fa",
   "metadata": {
    "tags": []
   },
   "outputs": [],
   "source": [
    "#RM_cat = ClCatalog.read('RM_cat_richness_min_'+str(min_richness)+'.fits', name='RM_cat', full=True, tags={'mass':'richness'})\n",
    "#halo_cat = ClCatalog.read('halo_cat_mass_min_'+f\"{min_halo_mass:1.2e}\"+'.fits', name='halo_cat', full=True, tags={'mass':'mass_fof'})\n",
    "\n"
   ]
  },
  {
   "cell_type": "code",
   "execution_count": 20,
   "id": "8dcabb1e-64e6-49b4-a829-f205e02e9e61",
   "metadata": {},
   "outputs": [],
   "source": [
    "# RM_cat.read_members('RM_cat_richness_min_'+str(min_richness)+'_members.fits',  full=True)\n",
    "# halo_cat.read_members('halo_cat_mass_min_'+f\"{min_halo_mass:1.2e}\"+'_members.fits', full=True)\n"
   ]
  },
  {
   "cell_type": "code",
   "execution_count": 21,
   "id": "ce07a832-3f25-4093-93c4-e5a252e05681",
   "metadata": {},
   "outputs": [],
   "source": [
    "RM_cat._init_match_vals(True)\n",
    "halo_cat._init_match_vals(True)"
   ]
  },
  {
   "cell_type": "code",
   "execution_count": 22,
   "id": "3c576742-a3c4-4b52-8740-52bf82f2be63",
   "metadata": {},
   "outputs": [
    {
     "name": "stdout",
     "output_type": "stream",
     "text": [
      "1,085,430 members were matched.\n",
      "\n",
      "## Multiple match (catalog 1)\n",
      "Finding candidates (cosmoDC2_v1.1.4_redmapper_v0.8.1)\n",
      "* 43,106/45,081 objects matched.\n",
      "\n",
      "## Multiple match (catalog 2)\n",
      "Finding candidates (cosmoDC2_v1.1.4_image)\n",
      "* 74,474/249,557 objects matched.\n",
      "\n",
      "## Finding unique matches of catalog 1\n",
      "Unique Matches (cosmoDC2_v1.1.4_redmapper_v0.8.1)\n",
      "* 42,914/45,081 objects matched.\n",
      "\n",
      "## Finding unique matches of catalog 2\n",
      "Unique Matches (cosmoDC2_v1.1.4_image)\n",
      "* 42,917/249,557 objects matched.\n",
      "Cross Matches (cosmoDC2_v1.1.4_redmapper_v0.8.1)\n",
      "* 42,914/45,081 objects matched.\n",
      "Cross Matches (cosmoDC2_v1.1.4_image)\n",
      "* 42,914/249,557 objects matched.\n"
     ]
    }
   ],
   "source": [
    "mt = MembershipMatch()\n",
    "match_config = {\n",
    "    'type': 'cross', # options are cross, cat1, cat2\n",
    "    'preference': 'shared_member_fraction', # other options are more_massive, angular_proximity or redshift_proximity\n",
    "    'minimum_share_fraction': -0.5,\n",
    "    'match_members_kwargs': {'method':'id'},\n",
    "}\n",
    "mt.match_from_config(RM_cat, halo_cat, match_config)\n"
   ]
  },
  {
   "cell_type": "code",
   "execution_count": 25,
   "id": "0b257275-18e5-4ab0-b99f-68321dc9d508",
   "metadata": {},
   "outputs": [],
   "source": [
    "mt.save_matches(RM_cat, halo_cat, out_dir='cDC2_RM_match_cross_membership', overwrite=True)\n"
   ]
  },
  {
   "cell_type": "code",
   "execution_count": 27,
   "id": "50c3c94f-2eac-4136-ba9c-9d6f30ce5746",
   "metadata": {
    "tags": []
   },
   "outputs": [
    {
     "name": "stdout",
     "output_type": "stream",
     "text": [
      "cosmoDC2_v1.1.4_redmapper_v0.8.1\n",
      "    * ClEvar used in matching: 0.17.1\n",
      " * Total objects:    45,081\n",
      " * multiple (self):  43,106\n",
      " * multiple (other): 43,106\n",
      " * unique (self):    42,914\n",
      " * unique (other):   42,917\n",
      " * cross:            42,914\n",
      "\n",
      "cosmoDC2_v1.1.4_image\n",
      "    * ClEvar used in matching: 0.17.1\n",
      " * Total objects:    249,557\n",
      " * multiple (self):  74,474\n",
      " * multiple (other): 74,474\n",
      " * unique (self):    42,917\n",
      " * unique (other):   42,914\n",
      " * cross:            42,914\n"
     ]
    },
    {
     "data": {
      "text/html": [
       "<b>cosmoDC2_v1.1.4_image</b><br></b><b>tags:</b> id(id), z(z), ra(ra), dec(dec), mass(mass)<br><b>Radius unit:</b> None<br><div><i>ClData length=0</i>\n",
       "<table id=\"table139649712684240\" class=\"table-striped table-bordered table-condensed\">\n",
       "<thead><tr><th colspan=12></th><th colspan=2 style='text-align:left; background-color:grey; color:white'>mt_input</th></tr></thread><thead><tr><th>id</th><th>z</th><th>ra</th><th>dec</th><th>mass</th><th>mt_self</th><th>mt_other</th><th>mt_multi_self</th><th>mt_multi_other</th><th>mt_frac_other</th><th>mt_frac_self</th><th>mt_cross</th><th>share_mems</th><th>nmem</th></tr></thead>\n",
       "<thead><tr><th>str21</th><th>float64</th><th>float64</th><th>float64</th><th>float64</th><th>object</th><th>object</th><th>object</th><th>object</th><th>float64</th><th>float64</th><th>object</th><th>object</th><th>float64</th></tr></thead>\n",
       "</table></div>"
      ],
      "text/plain": [
       "<clevar.catalog.catalog.ClCatalog at 0x7f02c4d63f50>"
      ]
     },
     "execution_count": 27,
     "metadata": {},
     "output_type": "execute_result"
    }
   ],
   "source": [
    "mt.load_matches(RM_cat, halo_cat, out_dir='cDC2_RM_match_cross_membership')\n"
   ]
  },
  {
   "cell_type": "code",
   "execution_count": 45,
   "id": "cd97bd5a-ab6f-491b-8e9e-705d3e5188fe",
   "metadata": {
    "tags": []
   },
   "outputs": [
    {
     "data": {
      "text/html": [
       "<b>cosmoDC2_v1.1.4_image</b><br></b><b>tags:</b> id(id), z(z), ra(ra), dec(dec), mass(mass)<br><b>Radius unit:</b> None<br><div><i>ClData length=0</i>\n",
       "<table id=\"table139639300997200\" class=\"table-striped table-bordered table-condensed\">\n",
       "<thead><tr><th colspan=12></th><th colspan=2 style='text-align:left; background-color:grey; color:white'>mt_input</th></tr></thread><thead><tr><th>id</th><th>z</th><th>ra</th><th>dec</th><th>mass</th><th>mt_self</th><th>mt_other</th><th>mt_multi_self</th><th>mt_multi_other</th><th>mt_frac_other</th><th>mt_frac_self</th><th>mt_cross</th><th>share_mems</th><th>nmem</th></tr></thead>\n",
       "<thead><tr><th>str21</th><th>float64</th><th>float64</th><th>float64</th><th>float64</th><th>object</th><th>object</th><th>object</th><th>object</th><th>float64</th><th>float64</th><th>object</th><th>object</th><th>float64</th></tr></thead>\n",
       "</table></div>"
      ],
      "text/plain": [
       "<clevar.catalog.catalog.ClCatalog at 0x7f004f01f710>"
      ]
     },
     "execution_count": 45,
     "metadata": {},
     "output_type": "execute_result"
    }
   ],
   "source": [
    "#RM_cat_bij, halo_cat_bij = get_matched_pairs(RM_cat, halo_cat, 'cross')\n",
    "{int(a) for a in halo_cat_bij['id']}\n",
    "#halo_cat_bij['id']== 3696200176219\n",
    "#halo_cat_bij[halo_cat_bij['id']== str(1162500021323)]\n",
    "halo_cat_bij[halo_cat_bij['id']== str(3696200176219)]"
   ]
  },
  {
   "cell_type": "code",
   "execution_count": 26,
   "id": "dfb9aded-e4fc-4059-93f0-9023d533d180",
   "metadata": {
    "tags": []
   },
   "outputs": [
    {
     "data": {
      "text/plain": [
       "(42914, 0.9519309687007831, 0.1719607143858918)"
      ]
     },
     "execution_count": 26,
     "metadata": {},
     "output_type": "execute_result"
    }
   ],
   "source": [
    "RM_cat_bij.size, RM_cat_bij.size/RM_cat.size,  halo_cat_bij.size/halo_cat.size\n"
   ]
  },
  {
   "cell_type": "code",
   "execution_count": 27,
   "id": "345e19c1-352b-4998-8cd8-7e93d5463da2",
   "metadata": {
    "tags": []
   },
   "outputs": [
    {
     "data": {
      "text/plain": [
       "Text(0, 0.5, '$\\\\ln (\\\\lambda)$')"
      ]
     },
     "execution_count": 27,
     "metadata": {},
     "output_type": "execute_result"
    },
    {
     "data": {
      "image/png": "[encoded data removed]",
      "text/plain": [
       "<Figure size 640x480 with 1 Axes>"
      ]
     },
     "metadata": {},
     "output_type": "display_data"
    }
   ],
   "source": [
    "plt.scatter(np.log(halo_cat_bij['mass']),np.log(RM_cat_bij['mass']))\n",
    "# plt.scatter(halo_cat_bij['mass_fof'],RM_cat_bij['richness'])\n",
    "\n",
    "plt.xlabel('$\\ln (M_{fof}$)')\n",
    "plt.ylabel('$\\ln (\\lambda)$')"
   ]
  },
  {
   "cell_type": "code",
   "execution_count": 28,
   "id": "d61dd338-492a-4dec-87c8-a8008fe8e15a",
   "metadata": {},
   "outputs": [
    {
     "data": {
      "text/html": [
       "<b>cosmoDC2_v1.1.4_redmapper_v0.8.1</b><br></b><b>tags:</b> id(id), z(z), ra(ra), dec(dec), mass(mass)<br><b>Radius unit:</b> None<br><div><i>ClData length=45081</i>\n",
       "<table id=\"table140375918690912\" class=\"table-striped table-bordered table-condensed\">\n",
       "<thead><tr><th colspan=16></th><th colspan=2 style='text-align:left; background-color:grey; color:white'>mt_input</th></tr></thread><thead><tr><th>id</th><th>z</th><th>ra</th><th>dec</th><th>mass</th><th>richness_err</th><th>id_cg</th><th>ztrue_cg</th><th>p_cg_0</th><th>mt_self</th><th>mt_other</th><th>mt_multi_self</th><th>mt_multi_other</th><th>mt_frac_self</th><th>mt_frac_other</th><th>mt_cross</th><th>share_mems</th><th>nmem</th></tr></thead>\n",
       "<thead><tr><th>str11</th><th>float32</th><th>float64</th><th>float64</th><th>float32</th><th>float32</th><th>int64</th><th>float32</th><th>float32</th><th>object</th><th>object</th><th>object</th><th>object</th><th>float64</th><th>float64</th><th>object</th><th>object</th><th>float64</th></tr></thead>\n",
       "<tr><td>10</td><td>0.5135129</td><td>52.520436430812914</td><td>-25.717996124671657</td><td>190.70665</td><td>3.7469666</td><td>1312945563</td><td>0.51072353</td><td>0.79138356</td><td>1162500021323</td><td>1162500021323</td><td>[&apos;205900021323&apos;, &apos;417800021323&apos;, &apos;80500021323&apos;, &apos;711400021315&apos;, &apos;922700021315&apos;, &apos;665600021315&apos;, &apos;1162500021323&apos;, &apos;1361100021315&apos;]</td><td>[&apos;417800021323&apos;, &apos;205900021323&apos;, &apos;80500021323&apos;, &apos;711400021315&apos;, &apos;922700021315&apos;, &apos;665600021315&apos;, &apos;1162500021323&apos;, &apos;1361100021315&apos;]</td><td>0.44967260509229673</td><td>0.30094043887147337</td><td>1162500021323</td><td>{np.str_(&apos;205900021323&apos;): np.float32(80.064476), np.str_(&apos;1162500021323&apos;): np.float32(85.7391), np.str_(&apos;711400021315&apos;): np.float32(4.704665), np.str_(&apos;417800021323&apos;): np.float32(0.28121206), np.str_(&apos;665600021315&apos;): np.float32(0.0369435), np.str_(&apos;922700021315&apos;): np.float32(0.41149607), np.str_(&apos;1361100021315&apos;): np.float32(1.458513), np.str_(&apos;80500021323&apos;): np.float32(1.8004375)}</td><td>190.67004888504744</td></tr>\n",
       "<tr><td>18</td><td>0.5712697</td><td>56.920376528125075</td><td>-27.20434071042304</td><td>179.12813</td><td>3.6934361</td><td>2000524808</td><td>0.5740297</td><td>0.99996513</td><td>549500032315</td><td>549500032315</td><td>[&apos;549500032315&apos;]</td><td>[&apos;549500032315&apos;]</td><td>0.9421649032208474</td><td>0.35064935064935066</td><td>549500032315</td><td>{np.str_(&apos;549500032315&apos;): np.float32(168.66483)}</td><td>179.01837020553648</td></tr>\n",
       "<tr><td>24</td><td>1.040338</td><td>56.99849698116052</td><td>-26.7172081871169</td><td>124.02715</td><td>2.4172914</td><td>2002535198</td><td>1.0347759</td><td>0.93527913</td><td>2554900032241</td><td>2554900032241</td><td>[&apos;3011300032241&apos;, &apos;1212700032259&apos;, &apos;2554900032241&apos;]</td><td>[&apos;3011300032241&apos;, &apos;1212700032259&apos;, &apos;2554900032241&apos;]</td><td>0.9468828222044754</td><td>0.28444444444444444</td><td>2554900032241</td><td>{np.str_(&apos;2554900032241&apos;): np.float32(117.32451), np.str_(&apos;3011300032241&apos;): np.float32(3.916585), np.str_(&apos;1212700032259&apos;): np.float32(0.39352813)}</td><td>123.90604826249182</td></tr>\n",
       "<tr><td>30</td><td>0.63518524</td><td>58.56362402841767</td><td>-27.429961828331713</td><td>167.33603</td><td>3.6777163</td><td>2000759779</td><td>0.6426174</td><td>0.9958548</td><td>1275900032300</td><td>1275900032300</td><td>[&apos;6600032300&apos;, &apos;1275900032300&apos;, &apos;23400032300&apos;]</td><td>[&apos;1275900032300&apos;, &apos;6600032300&apos;, &apos;23400032300&apos;]</td><td>0.9812835515853648</td><td>0.2767857142857143</td><td>1275900032300</td><td>{np.str_(&apos;1275900032300&apos;): np.float32(163.93745), np.str_(&apos;6600032300&apos;): np.float32(0.7480289), np.str_(&apos;23400032300&apos;): np.float32(0.01347958)}</td><td>167.0643046637997</td></tr>\n",
       "<tr><td>71</td><td>0.44230303</td><td>58.35519782866568</td><td>-26.867687128773035</td><td>111.9147</td><td>3.366554</td><td>2000289335</td><td>0.43919736</td><td>0.7297119</td><td>564000032338</td><td>564000032338</td><td>[&apos;731900032338&apos;, &apos;564000032338&apos;, &apos;359200032338&apos;, &apos;161400032338&apos;, &apos;778100032338&apos;, &apos;243000032347&apos;]</td><td>[&apos;731900032338&apos;, &apos;564000032338&apos;, &apos;359200032338&apos;, &apos;161400032338&apos;, &apos;778100032338&apos;, &apos;243000032347&apos;]</td><td>0.5346957863717553</td><td>0.2518518518518518</td><td>564000032338</td><td>{np.str_(&apos;359200032338&apos;): np.float32(37.181667), np.str_(&apos;564000032338&apos;): np.float32(59.831787), np.str_(&apos;778100032338&apos;): np.float32(3.1218123), np.str_(&apos;731900032338&apos;): np.float32(1.741376), np.str_(&apos;243000032347&apos;): np.float32(0.93810743), np.str_(&apos;161400032338&apos;): np.float32(0.80190504)}</td><td>111.89874435961246</td></tr>\n",
       "<tr><td>73</td><td>0.46697217</td><td>57.76575707007693</td><td>-28.119101936484828</td><td>104.439766</td><td>2.9570596</td><td>2000290819</td><td>0.4680865</td><td>0.99970347</td><td>459400032338</td><td>459400032338</td><td>[&apos;980800032331&apos;, &apos;2200032331&apos;, &apos;459400032338&apos;]</td><td>[&apos;980800032331&apos;, &apos;2200032331&apos;, &apos;459400032338&apos;]</td><td>0.9046434064937273</td><td>0.2780612244897959</td><td>459400032338</td><td>{np.str_(&apos;459400032338&apos;): np.float32(94.32242), np.str_(&apos;980800032331&apos;): np.float32(0.717288), np.str_(&apos;2200032331&apos;): np.float32(3.046856)}</td><td>104.26474955305457</td></tr>\n",
       "<tr><td>109</td><td>0.4413634</td><td>58.509466974185045</td><td>-26.989676182075844</td><td>103.49396</td><td>3.3524604</td><td>2000286447</td><td>0.44349608</td><td>0.99999905</td><td>156700032338</td><td>156700032338</td><td>[&apos;156700032338&apos;, &apos;433200032355&apos;]</td><td>[&apos;156700032338&apos;, &apos;433200032355&apos;]</td><td>0.9589822872928483</td><td>0.28672985781990523</td><td>156700032338</td><td>{np.str_(&apos;156700032338&apos;): np.float32(99.02829), np.str_(&apos;433200032355&apos;): np.float32(0.0688783)}</td><td>103.26394043676555</td></tr>\n",
       "<tr><td>116</td><td>1.0629631</td><td>54.494027152041674</td><td>-27.896589555863095</td><td>76.85877</td><td>2.2175314</td><td>1940324795</td><td>1.0758829</td><td>0.6544826</td><td>3080200031235</td><td>3080200031235</td><td>[&apos;3080200031235&apos;, &apos;2468800031230&apos;]</td><td>[&apos;3080200031235&apos;, &apos;2468800031230&apos;]</td><td>0.9300720563676681</td><td>0.2791519434628975</td><td>3080200031235</td><td>{np.str_(&apos;3080200031235&apos;): np.float32(71.336136), np.str_(&apos;2468800031230&apos;): np.float32(0.6367651)}</td><td>76.69957975391299</td></tr>\n",
       "<tr><td>133</td><td>1.037697</td><td>58.137368555958155</td><td>-27.199784884537003</td><td>75.89771</td><td>2.26323</td><td>2002528355</td><td>1.0311339</td><td>0.991116</td><td>2067100032241</td><td>2067100032241</td><td>[&apos;1231200032230&apos;, &apos;2067100032241&apos;, &apos;2412900032235&apos;, &apos;1539400032241&apos;]</td><td>[&apos;1231200032230&apos;, &apos;2067100032241&apos;, &apos;2412900032235&apos;, &apos;1539400032241&apos;]</td><td>0.9547644944189148</td><td>0.29213483146067415</td><td>2067100032241</td><td>{np.str_(&apos;2067100032241&apos;): np.float32(72.19179), np.str_(&apos;1539400032241&apos;): np.float32(0.014654029), np.str_(&apos;1231200032230&apos;): np.float32(1.0574595), np.str_(&apos;2412900032235&apos;): np.float32(0.682882)}</td><td>75.61214115284383</td></tr>\n",
       "<tr><td>...</td><td>...</td><td>...</td><td>...</td><td>...</td><td>...</td><td>...</td><td>...</td><td>...</td><td>...</td><td>...</td><td>...</td><td>...</td><td>...</td><td>...</td><td>...</td><td>...</td><td>...</td></tr>\n",
       "<tr><td>88669</td><td>1.1347386</td><td>68.97659374968845</td><td>-43.46226537592641</td><td>6.5180874</td><td>1.1459903</td><td>11315873807</td><td>1.2043793</td><td>0.99999994</td><td>None</td><td>None</td><td>[]</td><td>[]</td><td>0.0</td><td>0.0</td><td>None</td><td>{}</td><td>6.507807187736034</td></tr>\n",
       "<tr><td>21720</td><td>1.133446</td><td>67.80686586780557</td><td>-45.04968907693027</td><td>10.81999</td><td>1.5633166</td><td>11940608972</td><td>1.1316372</td><td>0.94121623</td><td>2358500191230</td><td>2358500191230</td><td>[&apos;2358500191230&apos;]</td><td>[&apos;2358500191230&apos;]</td><td>0.8824831317971753</td><td>0.1625</td><td>2358500191230</td><td>{np.str_(&apos;2358500191230&apos;): np.float32(9.525668)}</td><td>10.794164557941258</td></tr>\n",
       "<tr><td>84643</td><td>1.1440023</td><td>69.32447991359263</td><td>-44.58164957988367</td><td>5.1451397</td><td>1.4131594</td><td>12003349376</td><td>1.2002995</td><td>0.94542605</td><td>541200192247</td><td>541200192247</td><td>[&apos;541200192247&apos;, &apos;1786400192230&apos;]</td><td>[&apos;541200192247&apos;, &apos;1786400192230&apos;]</td><td>0.021015778213650433</td><td>0.037037037037037035</td><td>541200192247</td><td>{np.str_(&apos;541200192247&apos;): np.float32(0.10769883), np.str_(&apos;1786400192230&apos;): np.float32(0.017499851)}</td><td>5.124665234237909</td></tr>\n",
       "<tr><td>35682</td><td>0.47193053</td><td>69.5183602456607</td><td>-44.85610621353534</td><td>5.9383984</td><td>1.2630464</td><td>12000315335</td><td>0.47074133</td><td>0.89693886</td><td>696100192331</td><td>696100192331</td><td>[&apos;696100192331&apos;]</td><td>[&apos;696100192331&apos;]</td><td>0.017778697678850017</td><td>0.030303030303030304</td><td>696100192331</td><td>{np.str_(&apos;696100192331&apos;): np.float32(0.10648052)}</td><td>5.989219143986702</td></tr>\n",
       "<tr><td>54206</td><td>0.5012809</td><td>70.47296979578381</td><td>-44.81929434112701</td><td>5.2824345</td><td>1.234711</td><td>12000459039</td><td>0.50687563</td><td>0.85845697</td><td>958400192323</td><td>958400192323</td><td>[&apos;958400192323&apos;, &apos;943400192331&apos;]</td><td>[&apos;958400192323&apos;, &apos;943400192331&apos;]</td><td>0.7348790053127392</td><td>0.2727272727272727</td><td>958400192323</td><td>{np.str_(&apos;943400192331&apos;): np.float32(0.9932326), np.str_(&apos;958400192323&apos;): np.float32(3.875794)}</td><td>5.274057233706117</td></tr>\n",
       "<tr><td>29100</td><td>1.1359326</td><td>66.93469285125511</td><td>-45.3464905749836</td><td>5.3739643</td><td>1.7012949</td><td>11940894380</td><td>1.1941854</td><td>0.8403742</td><td>3554200191224</td><td>3554200191224</td><td>[&apos;3535600191224&apos;, &apos;3554200191224&apos;, &apos;3336200191235&apos;]</td><td>[&apos;3535600191224&apos;, &apos;3554200191224&apos;, &apos;3336200191235&apos;]</td><td>0.7996905171296282</td><td>0.1694915254237288</td><td>3554200191224</td><td>{np.str_(&apos;3535600191224&apos;): np.float32(0.02091396), np.str_(&apos;3554200191224&apos;): np.float32(4.282692), np.str_(&apos;3336200191235&apos;): np.float32(0.3563772)}</td><td>5.355436714366078</td></tr>\n",
       "<tr><td>97018</td><td>1.1348144</td><td>71.14867155851915</td><td>-45.04493556544232</td><td>7.5554256</td><td>1.5348982</td><td>12003351933</td><td>1.1928569</td><td>0.9071249</td><td>2509400192224</td><td>2509400192224</td><td>[&apos;2509400192224&apos;, &apos;2022200192235&apos;]</td><td>[&apos;2509400192224&apos;, &apos;2022200192235&apos;]</td><td>0.7451329731067399</td><td>0.09900990099009901</td><td>2509400192224</td><td>{np.str_(&apos;2509400192224&apos;): np.float32(5.626763), np.str_(&apos;2022200192235&apos;): np.float32(1.1944562)}</td><td>7.5513540133833885</td></tr>\n",
       "<tr><td>97912</td><td>0.21152088</td><td>71.59288528630849</td><td>-44.833270342288635</td><td>5.007845</td><td>0.8978684</td><td>12000026207</td><td>0.20771948</td><td>0.7053878</td><td>314500192401</td><td>314500192401</td><td>[&apos;314500192401&apos;, &apos;320200192382&apos;, &apos;451400192373&apos;]</td><td>[&apos;314500192401&apos;, &apos;320200192382&apos;, &apos;451400192373&apos;]</td><td>0.47681663911539257</td><td>0.21428571428571427</td><td>314500192401</td><td>{np.str_(&apos;320200192382&apos;): np.float32(0.0), np.str_(&apos;451400192373&apos;): np.float32(0.8426091), np.str_(&apos;314500192401&apos;): np.float32(2.3880873)}</td><td>5.0083975195884705</td></tr>\n",
       "<tr><td>37112</td><td>1.1475015</td><td>69.36171381510071</td><td>-44.138625691755685</td><td>5.3587093</td><td>1.4293212</td><td>11315864504</td><td>1.1517015</td><td>0.9720678</td><td>1958200181224</td><td>1958200181224</td><td>[&apos;2037700181253&apos;, &apos;1958200181224&apos;]</td><td>[&apos;2037700181253&apos;, &apos;1958200181224&apos;]</td><td>0.8709066161900441</td><td>0.19148936170212766</td><td>1958200181224</td><td>{np.str_(&apos;2037700181253&apos;): np.float32(0.1052949), np.str_(&apos;1958200181224&apos;): np.float32(4.6564403)}</td><td>5.346658495254815</td></tr>\n",
       "<tr><td>74968</td><td>0.9184803</td><td>70.4738860743343</td><td>-44.583719372027936</td><td>5.1298847</td><td>1.5429279</td><td>12001980394</td><td>0.93659854</td><td>0.99953824</td><td>1860600192253</td><td>1860600192253</td><td>[&apos;904100192259&apos;, &apos;3061600192253&apos;, &apos;1860600192253&apos;]</td><td>[&apos;904100192259&apos;, &apos;3061600192253&apos;, &apos;1860600192253&apos;]</td><td>0.7021945223951296</td><td>0.15555555555555556</td><td>1860600192253</td><td>{np.str_(&apos;1860600192253&apos;): np.float32(3.593575), np.str_(&apos;3061600192253&apos;): np.float32(0.49905092), np.str_(&apos;904100192259&apos;): np.float32(0.50994307)}</td><td>5.117634624242783</td></tr>\n",
       "</table></div>"
      ],
      "text/plain": [
       "<clevar.catalog.catalog.ClCatalog at 0x7fabd0f89950>"
      ]
     },
     "execution_count": 28,
     "metadata": {},
     "output_type": "execute_result"
    }
   ],
   "source": [
    "#Table([halo_cat_bij['mass'], RM_cat_bij['mass'], RM_cat_bij['z']])\n",
    "RM_cat"
   ]
  },
  {
   "cell_type": "code",
   "execution_count": null,
   "id": "c5c2331e-24ad-4c3e-9997-3040c1566216",
   "metadata": {},
   "outputs": [],
   "source": []
  }
 ],
 "metadata": {
  "kernelspec": {
   "display_name": "numcosmo",
   "language": "python",
   "name": "numcosmo_developer"
  },
  "language_info": {
   "codemirror_mode": {
    "name": "ipython",
    "version": 3
   },
   "file_extension": ".py",
   "mimetype": "text/x-python",
   "name": "python",
   "nbconvert_exporter": "python",
   "pygments_lexer": "ipython3",
   "version": "3.13.2"
  }
 },
 "nbformat": 4,
 "nbformat_minor": 5
}
