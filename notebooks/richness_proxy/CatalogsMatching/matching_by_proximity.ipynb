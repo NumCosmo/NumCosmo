{
 "cells": [
  {
   "cell_type": "markdown",
   "id": "a4fd62c5-6fa4-4923-b931-8910f1c2ae3b",
   "metadata": {
    "tags": []
   },
   "source": [
    "#  Matching Catalogs by Proximity with NumCosmo\n",
    "\n",
    "---\n",
    "**License**\n",
    "\n",
    " Matching Catalogs by Proximity with NumCosmo\n",
    "\n",
    " Mon Dec 2 18:30:00 2024\\\n",
    " Copyright  2024\\\n",
    " Cinthia Nunes de Lima <cinthia.n.lima@uel.br> \\ Sandro Dias Pinto Vitenti <vitenti@uel.br>\n",
    "\n",
    "---\n",
    "---\n",
    " matching_by_proximity\\\n",
    " Copyright (C) 2024 Cinthia Nunes de Lima <cinthia.n.lima@uel.br>, Sandro Dias Pinto Vitenti <vitenti@uel.br>\n",
    "\n",
    " numcosmo is free software: you can redistribute it and/or modify it\n",
    " under the terms of the GNU General Public License as published by the\n",
    " Free Software Foundation, either version 3 of the License, or\n",
    " (at your option) any later version.\n",
    "\n",
    " numcosmo is distributed in the hope that it will be useful, but\n",
    " WITHOUT ANY WARRANTY; without even the implied warranty of\n",
    " MERCHANTABILITY or FITNESS FOR A PARTICULAR PURPOSE.\n",
    " See the GNU General Public License for more details.\n",
    "\n",
    " You should have received a copy of the GNU General Public License along\n",
    " with this program.  If not, see <http://www.gnu.org/licenses/>.\n",
    " \n",
    "---"
   ]
  },
  {
   "cell_type": "markdown",
   "id": "c7ae9c1c-b499-4b67-8d83-1665dc873625",
   "metadata": {
    "tags": []
   },
   "source": [
    "## Libraries & Configs"
   ]
  },
  {
   "cell_type": "code",
   "execution_count": 1,
   "id": "bf1e458c-55d2-42cb-a22b-c089a982860e",
   "metadata": {},
   "outputs": [
    {
     "name": "stdout",
     "output_type": "stream",
     "text": [
      "GCRCatalogs = 1.9.0 | GCR = 0.9.2\n"
     ]
    }
   ],
   "source": [
    "import math\n",
    "import sys\n",
    "\n",
    "import os\n",
    "import numpy as np\n",
    "import matplotlib.pyplot as plt\n",
    "\n",
    "from astropy.io import fits\n",
    "from astropy.table import Table\n",
    "import pandas as pd\n",
    "\n",
    "sys.path.insert(0, \"/global/homes/c/cinlima/gcrcatalogs-new/gcr-catalogs\")\n",
    "sys.path.insert(0, \"/global/homes/c/cinlima/\")\n",
    "sys.path.insert(0, \"/global/homes/c/cinlima/NumCosmo/notebooks/richness_proxy/MachingCatalogs\")\n",
    "\n",
    "\n",
    "import GCRCatalogs\n",
    "#Put nersc if using nersc\n",
    "GCRCatalogs.set_root_dir_by_site(\"nersc\")\n",
    "\n",
    "print('GCRCatalogs =', GCRCatalogs.__version__, '|' ,'GCR =', GCRCatalogs.GCR.__version__)\n",
    "\n",
    "\n",
    "from numcosmo_py import Nc, Ncm\n",
    "\n",
    "import time\n",
    "\n",
    "# GCRCatalogs.get_available_catalog_names()\n"
   ]
  },
  {
   "cell_type": "markdown",
   "id": "786d28e1-57bd-41cd-ba4e-a7fbf7a70b51",
   "metadata": {},
   "source": [
    "## Catalogs"
   ]
  },
  {
   "cell_type": "code",
   "execution_count": 2,
   "id": "98e88314-ac20-4799-9c7f-fea47cc0632a",
   "metadata": {},
   "outputs": [],
   "source": [
    "#Cosmo DC2\n",
    "cosmodc2= GCRCatalogs.load_catalog('cosmoDC2_v1.1.4_image')\n",
    "\n",
    "#Cosmo DC2 + RedMaPPer\n",
    "catalog_dc2_redmapper = GCRCatalogs.load_catalog('cosmoDC2_v1.1.4_redmapper_v0.8.1')"
   ]
  },
  {
   "cell_type": "code",
   "execution_count": 3,
   "id": "db31fc51-540e-4265-8565-f632579324d8",
   "metadata": {},
   "outputs": [],
   "source": [
    "# Restrictions on richness, mass and redshift\n",
    "min_richness = 5\n",
    "min_halo_mass = 1e13 #Msun\n",
    "redshift_max = 1.2\n",
    "\n",
    "#cDC2 + RM data\n",
    "quantities = catalog_dc2_redmapper.list_all_quantities()\n",
    "cluster_quantities = [q for q in quantities if 'member' not in q]\n",
    "member_quantities = [q for q in quantities if 'member' in q]\n",
    "    \n",
    "query = GCRCatalogs.GCRQuery('(richness > ' + str(min_richness) +')')\n",
    "cluster_data = Table(catalog_dc2_redmapper.get_quantities(cluster_quantities, [query])) # cDC2 + RM cluster data\n",
    "member_data = Table(catalog_dc2_redmapper.get_quantities(member_quantities)) # cDC2 + RM member data\n",
    "\n",
    "#cDC2 data\n",
    "quantities_wanted = ['redshift','halo_mass','halo_id','galaxy_id','ra','dec', 'is_central']\n",
    "query = GCRCatalogs.GCRQuery('(halo_mass > ' + str(min_halo_mass) +') & (redshift < ' + str(redshift_max) +') & (is_central < ' + str(redshift_max) +') ')\n",
    "truth_data = Table(cosmodc2.get_quantities(quantities_wanted, [query]))"
   ]
  },
  {
   "cell_type": "code",
   "execution_count": 4,
   "id": "25f0d4d1-e4ae-48ab-9b1a-40aa50c6aba2",
   "metadata": {},
   "outputs": [
    {
     "data": {
      "text/html": [
       "<div><i>Table length=249557</i>\n",
       "<table id=\"table140357492264144\" class=\"table-striped table-bordered table-condensed\">\n",
       "<thead><tr><th>halo_id</th><th>redshift</th><th>galaxy_id</th><th>dec</th><th>halo_mass</th><th>ra</th><th>is_central</th></tr></thead>\n",
       "<thead><tr><th>int64</th><th>float64</th><th>int64</th><th>float64</th><th>float64</th><th>float64</th><th>bool</th></tr></thead>\n",
       "<tr><td>4500151475</td><td>0.04818676962281132</td><td>9437500128</td><td>-40.400894272468605</td><td>16891355712901.41</td><td>49.6366034309591</td><td>True</td></tr>\n",
       "<tr><td>7300151475</td><td>0.04825926322238838</td><td>9437500172</td><td>-41.3447799174979</td><td>74621860826501.4</td><td>50.957598308861314</td><td>True</td></tr>\n",
       "<tr><td>13700151475</td><td>0.04554516035339984</td><td>9437500288</td><td>-40.832338501224754</td><td>33506664194163.383</td><td>51.00887984172898</td><td>True</td></tr>\n",
       "<tr><td>1100151464</td><td>0.0643846735498792</td><td>9437500798</td><td>-41.15855360868742</td><td>17911434075583.098</td><td>50.57641425057562</td><td>True</td></tr>\n",
       "<tr><td>18300151442</td><td>0.10736840205357634</td><td>9437504902</td><td>-39.168679326038024</td><td>13042641686354.93</td><td>50.77601162448169</td><td>True</td></tr>\n",
       "<tr><td>36400151442</td><td>0.12743613052494784</td><td>9437505130</td><td>-39.336294511446724</td><td>48388878878287.33</td><td>50.60510200022939</td><td>True</td></tr>\n",
       "<tr><td>43700151442</td><td>0.11375834498747261</td><td>9437505232</td><td>-40.23977306100707</td><td>69213477135143.664</td><td>49.50475455575477</td><td>True</td></tr>\n",
       "<tr><td>52300151442</td><td>0.1259639067546261</td><td>9437505371</td><td>-39.64548257286864</td><td>62974036412214.086</td><td>51.070122482361214</td><td>True</td></tr>\n",
       "<tr><td>1200151432</td><td>0.12775858760889358</td><td>9437509536</td><td>-39.09754001831282</td><td>34125997485791.55</td><td>50.36982165635327</td><td>True</td></tr>\n",
       "<tr><td>...</td><td>...</td><td>...</td><td>...</td><td>...</td><td>...</td><td>...</td></tr>\n",
       "<tr><td>3682600146224</td><td>1.1853570163214662</td><td>9128379416</td><td>-39.08539288599104</td><td>32478779109318.312</td><td>75.55359016100344</td><td>True</td></tr>\n",
       "<tr><td>3697000146224</td><td>1.176876263452105</td><td>9128379620</td><td>-39.278859347493345</td><td>12878700520923.943</td><td>74.83087511096365</td><td>True</td></tr>\n",
       "<tr><td>3722900146224</td><td>1.1905445077711279</td><td>9128379983</td><td>-39.286556937838554</td><td>12251522108574.648</td><td>73.84047973663067</td><td>True</td></tr>\n",
       "<tr><td>3765500146224</td><td>1.1734714584012749</td><td>9128380557</td><td>-38.43122088428722</td><td>20021851300416.902</td><td>74.86771814462249</td><td>True</td></tr>\n",
       "<tr><td>3808800146224</td><td>1.1946265992489535</td><td>9128381129</td><td>-39.7675290320449</td><td>35354255106163.38</td><td>74.65571079074518</td><td>True</td></tr>\n",
       "<tr><td>3871300146224</td><td>1.1849773059535407</td><td>9128381976</td><td>-39.14638595036369</td><td>14013277475335.213</td><td>73.81128737143172</td><td>True</td></tr>\n",
       "<tr><td>3911800146224</td><td>1.1800017149140816</td><td>9128382481</td><td>-38.02756142548923</td><td>44490722278039.44</td><td>74.88470898258565</td><td>True</td></tr>\n",
       "<tr><td>3912800146224</td><td>1.1971548172109827</td><td>9128382536</td><td>-38.713099486333775</td><td>11283213862940.846</td><td>75.65011974249386</td><td>True</td></tr>\n",
       "<tr><td>3932700146224</td><td>1.1894043018632114</td><td>9128382785</td><td>-37.47552757193451</td><td>13930005772259.156</td><td>74.67939837200306</td><td>True</td></tr>\n",
       "<tr><td>3944400146224</td><td>1.1883444026995855</td><td>9128382968</td><td>-38.265619746963445</td><td>37488092497487.33</td><td>74.07236340535268</td><td>True</td></tr>\n",
       "</table></div>"
      ],
      "text/plain": [
       "<Table length=249557>\n",
       "   halo_id          redshift      galaxy_id  ...         ra         is_central\n",
       "    int64           float64         int64    ...      float64          bool   \n",
       "------------- ------------------- ---------- ... ------------------ ----------\n",
       "   4500151475 0.04818676962281132 9437500128 ...   49.6366034309591       True\n",
       "   7300151475 0.04825926322238838 9437500172 ... 50.957598308861314       True\n",
       "  13700151475 0.04554516035339984 9437500288 ...  51.00887984172898       True\n",
       "   1100151464  0.0643846735498792 9437500798 ...  50.57641425057562       True\n",
       "  18300151442 0.10736840205357634 9437504902 ...  50.77601162448169       True\n",
       "  36400151442 0.12743613052494784 9437505130 ...  50.60510200022939       True\n",
       "  43700151442 0.11375834498747261 9437505232 ...  49.50475455575477       True\n",
       "  52300151442  0.1259639067546261 9437505371 ... 51.070122482361214       True\n",
       "   1200151432 0.12775858760889358 9437509536 ...  50.36982165635327       True\n",
       "          ...                 ...        ... ...                ...        ...\n",
       "3682600146224  1.1853570163214662 9128379416 ...  75.55359016100344       True\n",
       "3697000146224   1.176876263452105 9128379620 ...  74.83087511096365       True\n",
       "3722900146224  1.1905445077711279 9128379983 ...  73.84047973663067       True\n",
       "3765500146224  1.1734714584012749 9128380557 ...  74.86771814462249       True\n",
       "3808800146224  1.1946265992489535 9128381129 ...  74.65571079074518       True\n",
       "3871300146224  1.1849773059535407 9128381976 ...  73.81128737143172       True\n",
       "3911800146224  1.1800017149140816 9128382481 ...  74.88470898258565       True\n",
       "3912800146224  1.1971548172109827 9128382536 ...  75.65011974249386       True\n",
       "3932700146224  1.1894043018632114 9128382785 ...  74.67939837200306       True\n",
       "3944400146224  1.1883444026995855 9128382968 ...  74.07236340535268       True"
      ]
     },
     "execution_count": 4,
     "metadata": {},
     "output_type": "execute_result"
    }
   ],
   "source": [
    "truth_data[truth_data['is_central'] == True]"
   ]
  },
  {
   "cell_type": "code",
   "execution_count": 5,
   "id": "2c55bcfb-55db-4ff5-9132-ed1ee2446400",
   "metadata": {},
   "outputs": [
    {
     "data": {
      "text/html": [
       "<div><i>Table length=45081</i>\n",
       "<table id=\"table140357484556944\" class=\"table-striped table-bordered table-condensed\">\n",
       "<thead><tr><th>ra_cen_4</th><th>p_cen_2</th><th>id_cen_1</th><th>redshift_true_cg</th><th>id_cen_3</th><th>richness</th><th>ra</th><th>dec_cen_1</th><th>ra_cen_3</th><th>p_cen_3</th><th>dec_cen_4</th><th>dec_cen_0</th><th>scaleval</th><th>p_cen_0</th><th>redshift_err</th><th>p_cen_4</th><th>ra_cen_2</th><th>id_cen_0</th><th>richness_err</th><th>cluster_id</th><th>p_cen_1</th><th>redshift</th><th>dec</th><th>maskfrac</th><th>ra_cen_1</th><th>ra_cen_0</th><th>id_cen_2</th><th>dec_cen_3</th><th>id_cen_4</th><th>dec_cen_2</th></tr></thead>\n",
       "<thead><tr><th>float64</th><th>float32</th><th>int64</th><th>float32</th><th>int64</th><th>float32</th><th>float64</th><th>float64</th><th>float64</th><th>float32</th><th>float64</th><th>float64</th><th>float32</th><th>float32</th><th>float32</th><th>float32</th><th>float64</th><th>int64</th><th>float32</th><th>int32</th><th>float32</th><th>float32</th><th>float64</th><th>float32</th><th>float64</th><th>float64</th><th>int64</th><th>float64</th><th>int64</th><th>float64</th></tr></thead>\n",
       "<tr><td>52.51910078836549</td><td>0.00010373697</td><td>1312932492</td><td>0.51072353</td><td>1312945763</td><td>190.70665</td><td>52.520436430812914</td><td>-25.71783277825776</td><td>52.527338368381535</td><td>1.5151493e-06</td><td>-25.727465056757442</td><td>-25.717996124671657</td><td>1.0001404</td><td>0.79138356</td><td>0.0027861558</td><td>3.0111536e-07</td><td>52.50825021974284</td><td>1312945563</td><td>3.7469666</td><td>10</td><td>0.20851088</td><td>0.5135129</td><td>-25.717996124671657</td><td>0.0</td><td>52.519490104517175</td><td>52.520436430812914</td><td>1312932494</td><td>-25.72165959330821</td><td>1313029113</td><td>-25.716281990601974</td></tr>\n",
       "<tr><td>56.92602537669649</td><td>1.8312696e-06</td><td>2000524824</td><td>0.5740297</td><td>2000536980</td><td>179.12813</td><td>56.920376528125075</td><td>-27.199286148618782</td><td>56.92348931320997</td><td>5.984015e-08</td><td>-27.211258176404048</td><td>-27.20434071042304</td><td>1.0005391</td><td>0.99996513</td><td>0.0032183963</td><td>1.7345036e-08</td><td>56.94124732225573</td><td>2000524808</td><td>3.6934361</td><td>18</td><td>3.297315e-05</td><td>0.5712697</td><td>-27.20434071042304</td><td>0.0</td><td>56.927010885055374</td><td>56.920376528125075</td><td>2000525108</td><td>-27.20003879579277</td><td>2000536915</td><td>-27.204497548758997</td></tr>\n",
       "<tr><td>56.999685738888104</td><td>0.026989846</td><td>2002535425</td><td>1.0347759</td><td>2002541935</td><td>124.02715</td><td>56.99849698116052</td><td>-26.718600369742887</td><td>56.98989225804766</td><td>0.0052658287</td><td>-26.72317780680594</td><td>-26.7172081871169</td><td>1.000476</td><td>0.93527913</td><td>0.0065176566</td><td>0.00042643907</td><td>57.00496745151956</td><td>2002535198</td><td>2.4172914</td><td>24</td><td>0.03203878</td><td>1.040338</td><td>-26.7172081871169</td><td>0.0</td><td>57.0029430173563</td><td>56.99849698116052</td><td>2002535403</td><td>-26.719138984756995</td><td>2002535397</td><td>-26.707287415263906</td></tr>\n",
       "<tr><td>58.54795919291436</td><td>0.0005243642</td><td>2000760286</td><td>0.6426174</td><td>2000760140</td><td>167.33603</td><td>58.56362402841767</td><td>-27.440237841615975</td><td>58.56448660673249</td><td>1.3199483e-05</td><td>-27.441554361218707</td><td>-27.429961828331713</td><td>1.0015866</td><td>0.9958548</td><td>0.0060331975</td><td>6.2297656e-10</td><td>58.57655423797249</td><td>2000759779</td><td>3.6777163</td><td>30</td><td>0.0036076254</td><td>0.63518524</td><td>-27.429961828331713</td><td>0.0</td><td>58.55617219161547</td><td>58.56362402841767</td><td>2000760010</td><td>-27.44671248175573</td><td>2000760130</td><td>-27.4342933293566</td></tr>\n",
       "<tr><td>58.34775850906022</td><td>0.008745701</td><td>2000292501</td><td>0.43919736</td><td>2000292504</td><td>111.9147</td><td>58.35519782866568</td><td>-26.866270557202213</td><td>58.35345231858996</td><td>4.2903914e-05</td><td>-26.873768459561727</td><td>-26.867687128773035</td><td>1.0000473</td><td>0.7297119</td><td>0.003674398</td><td>3.132921e-05</td><td>58.358819114610974</td><td>2000289335</td><td>3.366554</td><td>71</td><td>0.2614682</td><td>0.44230303</td><td>-26.867687128773035</td><td>0.0</td><td>58.34992458608299</td><td>58.35519782866568</td><td>2000292571</td><td>-26.864486047315793</td><td>2000292608</td><td>-26.87437529777802</td></tr>\n",
       "<tr><td>57.78520845355392</td><td>6.477703e-05</td><td>2000290835</td><td>0.4680865</td><td>2000291009</td><td>104.439766</td><td>57.76575707007693</td><td>-28.13711378351597</td><td>57.77313021619973</td><td>5.2879543e-05</td><td>-28.130550627706278</td><td>-28.119101936484828</td><td>1.0014223</td><td>0.99970347</td><td>0.0035005552</td><td>8.6784746e-07</td><td>57.76312485832799</td><td>2000290819</td><td>2.9570596</td><td>73</td><td>0.00017803152</td><td>0.46697217</td><td>-28.119101936484828</td><td>0.0</td><td>57.75748991205223</td><td>57.76575707007693</td><td>2000290930</td><td>-28.112182213542138</td><td>2000290977</td><td>-28.123262961841775</td></tr>\n",
       "<tr><td>58.49500042467478</td><td>3.0540557e-09</td><td>2000286723</td><td>0.44349608</td><td>2000286566</td><td>103.49396</td><td>58.509466974185045</td><td>-27.01259056457905</td><td>58.50636920080823</td><td>2.2677467e-09</td><td>-27.003486551712935</td><td>-26.989676182075844</td><td>1.0021384</td><td>0.99999905</td><td>0.0036729097</td><td>1.5482234e-09</td><td>58.4977149963539</td><td>2000286447</td><td>3.3524604</td><td>109</td><td>9.2802935e-07</td><td>0.4413634</td><td>-26.989676182075844</td><td>0.0</td><td>58.48648688545692</td><td>58.509466974185045</td><td>2000286516</td><td>-26.99741400320372</td><td>2000286533</td><td>-27.00358318558357</td></tr>\n",
       "<tr><td>54.498303753402574</td><td>0.0004447735</td><td>1940324773</td><td>1.0758829</td><td>1940324997</td><td>76.85877</td><td>54.494027152041674</td><td>-27.89888605332762</td><td>54.47973899232569</td><td>4.1882024e-05</td><td>-27.89828451222208</td><td>-27.896589555863095</td><td>1.0017645</td><td>0.6544826</td><td>0.0070620407</td><td>1.6846216e-05</td><td>54.48695011233644</td><td>1940324795</td><td>2.2175314</td><td>116</td><td>0.34501392</td><td>1.0629631</td><td>-27.896589555863095</td><td>0.0</td><td>54.496631285075914</td><td>54.494027152041674</td><td>1940324810</td><td>-27.890609698478475</td><td>1940324995</td><td>-27.90097379323573</td></tr>\n",
       "<tr><td>58.116146694872974</td><td>0.00023012425</td><td>2002528410</td><td>1.0311339</td><td>2002528366</td><td>75.89771</td><td>58.137368555958155</td><td>-27.200526363363345</td><td>58.135413610969586</td><td>9.39317e-05</td><td>-27.206664475172484</td><td>-27.199784884537003</td><td>1.00349</td><td>0.991116</td><td>0.0069939015</td><td>2.9116934e-05</td><td>58.13909799735227</td><td>2002528355</td><td>2.26323</td><td>133</td><td>0.008530826</td><td>1.037697</td><td>-27.199784884537003</td><td>0.0</td><td>58.14009283286545</td><td>58.137368555958155</td><td>2002528530</td><td>-27.20713970237154</td><td>2002528509</td><td>-27.196502840091497</td></tr>\n",
       "<tr><td>...</td><td>...</td><td>...</td><td>...</td><td>...</td><td>...</td><td>...</td><td>...</td><td>...</td><td>...</td><td>...</td><td>...</td><td>...</td><td>...</td><td>...</td><td>...</td><td>...</td><td>...</td><td>...</td><td>...</td><td>...</td><td>...</td><td>...</td><td>...</td><td>...</td><td>...</td><td>...</td><td>...</td><td>...</td><td>...</td></tr>\n",
       "<tr><td>-400.0</td><td>2.388526e-08</td><td>11315873779</td><td>1.2043793</td><td>11315281137</td><td>6.5180874</td><td>68.97659374968845</td><td>-43.468558111132936</td><td>-400.0</td><td>0.0</td><td>-400.0</td><td>-43.46226537592641</td><td>0.9990632</td><td>0.99999994</td><td>0.014196193</td><td>0.0</td><td>68.97752123140242</td><td>11315873807</td><td>1.1459903</td><td>88669</td><td>5.4325948e-08</td><td>1.1347386</td><td>-43.46226537592641</td><td>0.0</td><td>68.9879117114789</td><td>68.97659374968845</td><td>11315873798</td><td>-400.0</td><td>11315281137</td><td>-43.45327982701871</td></tr>\n",
       "<tr><td>67.81788149022213</td><td>0.018368939</td><td>11940609037</td><td>1.1316372</td><td>11940609000</td><td>10.81999</td><td>67.80686586780557</td><td>-45.04844520357351</td><td>67.8046259360765</td><td>0.012956159</td><td>-45.04935904458178</td><td>-45.04968907693027</td><td>0.9996955</td><td>0.94121623</td><td>0.0077883224</td><td>7.4236304e-05</td><td>67.8055859780071</td><td>11940608972</td><td>1.5633166</td><td>21720</td><td>0.027384417</td><td>1.133446</td><td>-45.04968907693027</td><td>0.0</td><td>67.79573377644711</td><td>67.80686586780557</td><td>11938800053</td><td>-45.0499676892893</td><td>11940609031</td><td>-45.06345923405334</td></tr>\n",
       "<tr><td>69.3145634301266</td><td>2.9100298e-09</td><td>12003078460</td><td>1.2002995</td><td>12002537131</td><td>5.1451397</td><td>69.32447991359263</td><td>-44.56468146949303</td><td>69.30780794635095</td><td>7.521757e-10</td><td>-44.5720561717583</td><td>-44.58164957988367</td><td>0.9998631</td><td>0.94542605</td><td>0.011778358</td><td>4.3651854e-10</td><td>69.31614833404358</td><td>12003349376</td><td>1.4131594</td><td>84643</td><td>0.054573968</td><td>1.1440023</td><td>-44.58164957988367</td><td>0.0</td><td>69.31804169359866</td><td>69.32447991359263</td><td>12004024922</td><td>-44.57203049075738</td><td>12003349389</td><td>-44.5691655911881</td></tr>\n",
       "<tr><td>-400.0</td><td>0.00031157126</td><td>12000549730</td><td>0.47074133</td><td>12000386016</td><td>5.9383984</td><td>69.5183602456607</td><td>-44.88676745566054</td><td>69.50534190836301</td><td>9.3734794e-05</td><td>-400.0</td><td>-44.85610621353534</td><td>1.000718</td><td>0.89693886</td><td>0.0065609813</td><td>0.0</td><td>69.55395136654735</td><td>12000315335</td><td>1.2630464</td><td>35682</td><td>0.10265582</td><td>0.47193053</td><td>-44.85610621353534</td><td>0.0</td><td>69.50582593616012</td><td>69.5183602456607</td><td>12000191387</td><td>-44.8694854071614</td><td>12000452186</td><td>-44.85008792310275</td></tr>\n",
       "<tr><td>70.50342538824981</td><td>0.00017296364</td><td>12000389879</td><td>0.50687563</td><td>12000459056</td><td>5.2824345</td><td>70.47296979578381</td><td>-44.841016646300154</td><td>70.46402486741995</td><td>2.631936e-07</td><td>-44.80207233062581</td><td>-44.81929434112701</td><td>1.0010183</td><td>0.85845697</td><td>0.008677344</td><td>9.249381e-08</td><td>70.4530674098294</td><td>12000459039</td><td>1.234711</td><td>54206</td><td>0.14136972</td><td>0.5012809</td><td>-44.81929434112701</td><td>0.0</td><td>70.4659203991391</td><td>70.47296979578381</td><td>12000459051</td><td>-44.81770170367978</td><td>12000548661</td><td>-44.81168302246774</td></tr>\n",
       "<tr><td>-400.0</td><td>0.078116626</td><td>11939660821</td><td>1.1941854</td><td>11937556511</td><td>5.3739643</td><td>66.93469285125511</td><td>-45.3637390502805</td><td>-400.0</td><td>0.0</td><td>-400.0</td><td>-45.3464905749836</td><td>1.0003414</td><td>0.8403742</td><td>0.014880834</td><td>0.0</td><td>66.9249009391719</td><td>11940894380</td><td>1.7012949</td><td>29100</td><td>0.08150919</td><td>1.1359326</td><td>-45.3464905749836</td><td>0.0</td><td>66.92394277519993</td><td>66.93469285125511</td><td>11940894353</td><td>-400.0</td><td>11937556511</td><td>-45.33502530781955</td></tr>\n",
       "<tr><td>-400.0</td><td>0.037769303</td><td>12003351938</td><td>1.1928569</td><td>12003351984</td><td>7.5554256</td><td>71.14867155851915</td><td>-45.04709545043818</td><td>71.15602320068342</td><td>0.003885588</td><td>-400.0</td><td>-45.04493556544232</td><td>0.9990255</td><td>0.9071249</td><td>0.014019256</td><td>0.0</td><td>71.15491255337162</td><td>12003351933</td><td>1.5348982</td><td>97018</td><td>0.051220242</td><td>1.1348144</td><td>-45.04493556544232</td><td>0.0</td><td>71.14918967492261</td><td>71.14867155851915</td><td>12003351963</td><td>-45.05549708786394</td><td>12000387050</td><td>-45.04455028827233</td></tr>\n",
       "<tr><td>-400.0</td><td>8.605044e-08</td><td>12000044030</td><td>0.20771948</td><td>12000044033</td><td>5.007845</td><td>71.59288528630849</td><td>-44.86308374906282</td><td>71.56847541780564</td><td>1.0402092e-08</td><td>-400.0</td><td>-44.833270342288635</td><td>0.9999124</td><td>0.7053878</td><td>0.0062373024</td><td>0.0</td><td>71.60356135113122</td><td>12000026207</td><td>0.8978684</td><td>97912</td><td>0.29461214</td><td>0.21152088</td><td>-44.833270342288635</td><td>0.0</td><td>71.56666588633108</td><td>71.59288528630849</td><td>12000118091</td><td>-44.8551522465471</td><td>12000084412</td><td>-44.79614984074484</td></tr>\n",
       "<tr><td>69.34479566877773</td><td>1.8772846e-06</td><td>11315864541</td><td>1.1517015</td><td>12003086276</td><td>5.3587093</td><td>69.36171381510071</td><td>-44.13408104727835</td><td>69.39829676340347</td><td>1.5933754e-06</td><td>-44.13348704203978</td><td>-44.138625691755685</td><td>0.99894387</td><td>0.9720678</td><td>0.009258653</td><td>8.9555203e-07</td><td>69.35887460566508</td><td>11315864504</td><td>1.4293212</td><td>37112</td><td>0.027927874</td><td>1.1475015</td><td>-44.138625691755685</td><td>0.0</td><td>69.34671670180377</td><td>69.36171381510071</td><td>11315864528</td><td>-44.13069499107035</td><td>11315864516</td><td>-44.131327734745184</td></tr>\n",
       "<tr><td>-400.0</td><td>1.8672206e-05</td><td>12002195458</td><td>0.93659854</td><td>12001980397</td><td>5.1298847</td><td>70.4738860743343</td><td>-44.593653558487226</td><td>70.46873011879825</td><td>2.3593702e-06</td><td>-400.0</td><td>-44.583719372027936</td><td>1.0006644</td><td>0.99953824</td><td>0.016998282</td><td>0.0</td><td>70.47414010423694</td><td>12001980394</td><td>1.5429279</td><td>74968</td><td>0.00044070464</td><td>0.9184803</td><td>-44.583719372027936</td><td>0.0</td><td>70.48714930074922</td><td>70.4738860743343</td><td>12001980379</td><td>-44.57916457802848</td><td>12000039772</td><td>-44.58316724123151</td></tr>\n",
       "</table></div>"
      ],
      "text/plain": [
       "<Table length=45081>\n",
       "     ra_cen_4         p_cen_2      id_cen_1  ...   id_cen_4       dec_cen_2     \n",
       "     float64          float32       int64    ...    int64          float64      \n",
       "------------------ ------------- ----------- ... ----------- -------------------\n",
       " 52.51910078836549 0.00010373697  1312932492 ...  1313029113 -25.716281990601974\n",
       " 56.92602537669649 1.8312696e-06  2000524824 ...  2000536915 -27.204497548758997\n",
       "56.999685738888104   0.026989846  2002535425 ...  2002535397 -26.707287415263906\n",
       " 58.54795919291436  0.0005243642  2000760286 ...  2000760130   -27.4342933293566\n",
       " 58.34775850906022   0.008745701  2000292501 ...  2000292608  -26.87437529777802\n",
       " 57.78520845355392  6.477703e-05  2000290835 ...  2000290977 -28.123262961841775\n",
       " 58.49500042467478 3.0540557e-09  2000286723 ...  2000286533  -27.00358318558357\n",
       "54.498303753402574  0.0004447735  1940324773 ...  1940324995  -27.90097379323573\n",
       "58.116146694872974 0.00023012425  2002528410 ...  2002528509 -27.196502840091497\n",
       "               ...           ...         ... ...         ...                 ...\n",
       "            -400.0  2.388526e-08 11315873779 ... 11315281137  -43.45327982701871\n",
       " 67.81788149022213   0.018368939 11940609037 ... 11940609031  -45.06345923405334\n",
       "  69.3145634301266 2.9100298e-09 12003078460 ... 12003349389   -44.5691655911881\n",
       "            -400.0 0.00031157126 12000549730 ... 12000452186  -44.85008792310275\n",
       " 70.50342538824981 0.00017296364 12000389879 ... 12000548661  -44.81168302246774\n",
       "            -400.0   0.078116626 11939660821 ... 11937556511  -45.33502530781955\n",
       "            -400.0   0.037769303 12003351938 ... 12000387050  -45.04455028827233\n",
       "            -400.0  8.605044e-08 12000044030 ... 12000084412  -44.79614984074484\n",
       " 69.34479566877773 1.8772846e-06 11315864541 ... 11315864516 -44.131327734745184\n",
       "            -400.0 1.8672206e-05 12002195458 ... 12000039772  -44.58316724123151"
      ]
     },
     "execution_count": 5,
     "metadata": {},
     "output_type": "execute_result"
    }
   ],
   "source": [
    "cluster_data"
   ]
  },
  {
   "cell_type": "markdown",
   "id": "17dc3cdd-78f3-4120-ba15-317f262b4a97",
   "metadata": {},
   "source": [
    "## Matching by Proximity"
   ]
  },
  {
   "cell_type": "code",
   "execution_count": 6,
   "id": "441fd02a-e6a8-4839-8a08-b9199a93d4ae",
   "metadata": {},
   "outputs": [],
   "source": [
    "halo_data = truth_data[truth_data['is_central'] == True]\n",
    "z1 = halo_data['redshift']\n",
    "theta1= np.radians(halo_data['dec'])\n",
    "phi1 = np.radians(halo_data['ra'])\n",
    "\n",
    "z2 = cluster_data['redshift']\n",
    "theta2 = cluster_data['dec']\n",
    "phi2 = cluster_data['ra']\n"
   ]
  },
  {
   "cell_type": "code",
   "execution_count": 25,
   "id": "3c327318-da9a-4aa0-a0d4-fe73f791a5fa",
   "metadata": {},
   "outputs": [
    {
     "name": "stderr",
     "output_type": "stream",
     "text": [
      "100%|██████████| 45081/45081 [00:15<00:00, 2871.78it/s]\n"
     ]
    }
   ],
   "source": [
    "import tqdm\n",
    "\n",
    "snn = Ncm.SphereNN()\n",
    "# cosmo = Nc.HICosmoDEXcdm()\n",
    "# dist = Nc.Distance.new(3.0)\n",
    "# dist.prepare(cosmo)\n",
    "\n",
    "# r_a = np.array([dist.comoving(cosmo, z) for z in z1])\n",
    "\n",
    "r_a = np.ones(len(theta1))\n",
    "snn.insert_array(r_a, theta1, phi1)\n",
    "\n",
    "snn.rebuild()\n",
    "\n",
    "    \n",
    "# for theta, phi in zip(theta2, phi2):\n",
    "#     snn.knn_search(theta, phi, 10)\n",
    "\n",
    "# for r, theta, phi in zip(r_a, theta2, phi2):\n",
    "#         snn.insert(r, theta, phi)\n",
    "\n",
    "    # Do the above using tqdm\n",
    "\n",
    "for i, (theta, phi, z) in tqdm.tqdm(\n",
    "    enumerate(zip(theta2, phi2, z2)), total=len(theta2)\n",
    "    ):\n",
    "    # r = dist.comoving(cosmo, z)\n",
    "    indices = np.array(snn.knn_search(1, theta, phi, 10))"
   ]
  },
  {
   "cell_type": "code",
   "execution_count": 26,
   "id": "172e9a70-9373-4d6a-8689-9b54ac7760f3",
   "metadata": {},
   "outputs": [
    {
     "data": {
      "text/plain": [
       "array([161807, 161912, 240757, 240759, 161190, 161812, 160631, 161847,\n",
       "       160881, 240461])"
      ]
     },
     "execution_count": 26,
     "metadata": {},
     "output_type": "execute_result"
    }
   ],
   "source": [
    "indices"
   ]
  },
  {
   "cell_type": "code",
   "execution_count": null,
   "id": "38c78f53-df2a-4ce8-951e-5a4854f2eaa2",
   "metadata": {},
   "outputs": [],
   "source": []
  },
  {
   "cell_type": "code",
   "execution_count": null,
   "id": "08d9267f-3315-4cf4-9174-a95f4ec7692b",
   "metadata": {},
   "outputs": [],
   "source": []
  }
 ],
 "metadata": {
  "kernelspec": {
   "display_name": "numcosmo",
   "language": "python",
   "name": "numcosmo"
  },
  "language_info": {
   "codemirror_mode": {
    "name": "ipython",
    "version": 3
   },
   "file_extension": ".py",
   "mimetype": "text/x-python",
   "name": "python",
   "nbconvert_exporter": "python",
   "pygments_lexer": "ipython3",
   "version": "3.11.10"
  }
 },
 "nbformat": 4,
 "nbformat_minor": 5
}
