{
 "cells": [
  {
   "cell_type": "markdown",
   "id": "a4fd62c5-6fa4-4923-b931-8910f1c2ae3b",
   "metadata": {
    "tags": []
   },
   "source": [
    "#  Matching Catalogs by Proximity with NumCosmo\n",
    "\n",
    "---\n",
    "**License**\n",
    "\n",
    " Matching Catalogs by Proximity with NumCosmo\n",
    "\n",
    " Mon Dec 2 18:30:00 2024\\\n",
    " Copyright  2024\\\n",
    " Cinthia Nunes de Lima <cinthia.n.lima@uel.br> \\ Sandro Dias Pinto Vitenti <vitenti@uel.br>\n",
    "\n",
    "---\n",
    "---\n",
    " matching_by_proximity\\\n",
    " Copyright (C) 2024 Cinthia Nunes de Lima <cinthia.n.lima@uel.br>, Sandro Dias Pinto Vitenti <vitenti@uel.br>\n",
    "\n",
    " numcosmo is free software: you can redistribute it and/or modify it\n",
    " under the terms of the GNU General Public License as published by the\n",
    " Free Software Foundation, either version 3 of the License, or\n",
    " (at your option) any later version.\n",
    "\n",
    " numcosmo is distributed in the hope that it will be useful, but\n",
    " WITHOUT ANY WARRANTY; without even the implied warranty of\n",
    " MERCHANTABILITY or FITNESS FOR A PARTICULAR PURPOSE.\n",
    " See the GNU General Public License for more details.\n",
    "\n",
    " You should have received a copy of the GNU General Public License along\n",
    " with this program.  If not, see <http://www.gnu.org/licenses/>.\n",
    " \n",
    "---"
   ]
  },
  {
   "cell_type": "markdown",
   "id": "c7ae9c1c-b499-4b67-8d83-1665dc873625",
   "metadata": {
    "tags": []
   },
   "source": [
    "## Libraries & Configs"
   ]
  },
  {
   "cell_type": "code",
   "execution_count": 1,
   "id": "bf1e458c-55d2-42cb-a22b-c089a982860e",
   "metadata": {},
   "outputs": [
    {
     "name": "stdout",
     "output_type": "stream",
     "text": [
      "GCRCatalogs = 1.9.0 | GCR = 0.9.2\n"
     ]
    }
   ],
   "source": [
    "import math\n",
    "import sys\n",
    "\n",
    "import os\n",
    "import numpy as np\n",
    "import matplotlib.pyplot as plt\n",
    "\n",
    "from astropy.io import fits\n",
    "from astropy.table import Table\n",
    "import pandas as pd\n",
    "\n",
    "sys.path.insert(0, \"/global/homes/c/cinlima/gcrcatalogs-new/gcr-catalogs\")\n",
    "sys.path.insert(0, \"/global/homes/c/cinlima/\")\n",
    "sys.path.insert(0, \"/global/homes/c/cinlima/NumCosmo/notebooks/richness_proxy/MachingCatalogs\")\n",
    "\n",
    "import GCRCatalogs\n",
    "#Put nersc if using nersc\n",
    "GCRCatalogs.set_root_dir_by_site(\"nersc\")\n",
    "\n",
    "print('GCRCatalogs =', GCRCatalogs.__version__, '|' ,'GCR =', GCRCatalogs.GCR.__version__)\n",
    "\n",
    "\n",
    "from numcosmo_py import Nc, Ncm, sky_match\n",
    "\n",
    "Ncm.cfg_init()\n",
    "\n",
    "import tqdm\n",
    "\n",
    "# GCRCatalogs.get_available_catalog_names()"
   ]
  },
  {
   "cell_type": "markdown",
   "id": "786d28e1-57bd-41cd-ba4e-a7fbf7a70b51",
   "metadata": {},
   "source": [
    "## Catalogs"
   ]
  },
  {
   "cell_type": "code",
   "execution_count": 2,
   "id": "98e88314-ac20-4799-9c7f-fea47cc0632a",
   "metadata": {},
   "outputs": [],
   "source": [
    "# #Cosmo DC2\n",
    "cosmodc2= GCRCatalogs.load_catalog('cosmoDC2_v1.1.4_image')\n",
    "\n",
    "# #Cosmo DC2 + RedMaPPer\n",
    "# catalog_dc2_redmapper = GCRCatalogs.load_catalog('cosmoDC2_v1.1.4_redmapper_v0.8.1')\n"
   ]
  },
  {
   "cell_type": "code",
   "execution_count": 4,
   "id": "fe76306b-c14a-4861-afb1-5605fd731a22",
   "metadata": {},
   "outputs": [],
   "source": [
    "# for i in catalog_dc2_redmapper.list_all_quantities():\n",
    "#     if 'redshift' in i:\n",
    "#         print (i)\n",
    "\n",
    "# print(', '.join(sorted(cosmodc2.list_all_quantities())))\n",
    "# cosmodc2.get_catalog_info()"
   ]
  },
  {
   "cell_type": "code",
   "execution_count": null,
   "id": "db31fc51-540e-4265-8565-f632579324d8",
   "metadata": {},
   "outputs": [],
   "source": [
    "# Restrictions on richness, mass and redshift\n",
    "# min_richness = 0\n",
    "# min_halo_mass = 1e13 #Msun\n",
    "# redshift_max = 3.0\n",
    "\n",
    "# #cDC2 + RM data\n",
    "# quantities = catalog_dc2_redmapper.list_all_quantities()\n",
    "# cluster_quantities = [q for q in quantities if 'member' not in q]\n",
    "# member_quantities = [q for q in quantities if 'member' in q]\n",
    "    \n",
    "# query = GCRCatalogs.GCRQuery('(richness > ' + str(min_richness) +')')\n",
    "# cluster_data = Table(catalog_dc2_redmapper.get_quantities(cluster_quantities, [query])) # cDC2 + RM cluster data\n",
    "# member_data = Table(catalog_dc2_redmapper.get_quantities(member_quantities)) # cDC2 + RM member data\n",
    "\n",
    "#cDC2 data\n",
    "# quantities_wanted = ['redshift','halo_mass','halo_id','galaxy_id','ra','dec', 'is_central']\n",
    "# query = GCRCatalogs.GCRQuery('(halo_mass > ' + str(min_halo_mass) +') & (redshift < ' + str(redshift_max) +') & (is_central < ' + str(redshift_max) +') ')\n",
    "# truth_data = Table(cosmodc2.get_quantities(quantities_wanted, [query]))\n",
    "\n",
    "# cluster_data = Table.read('cluster_data.fits')\n",
    "# member_data = Table.read('member_data.fits')\n",
    "# truth_data = Table.read('truth_data.fits')"
   ]
  },
  {
   "cell_type": "code",
   "execution_count": 9,
   "id": "25f0d4d1-e4ae-48ab-9b1a-40aa50c6aba2",
   "metadata": {},
   "outputs": [],
   "source": [
    "table_halos = truth_data[truth_data['is_central'] == True]"
   ]
  },
  {
   "cell_type": "markdown",
   "id": "17dc3cdd-78f3-4120-ba15-317f262b4a97",
   "metadata": {},
   "source": [
    "## Matching by Proximity"
   ]
  },
  {
   "cell_type": "code",
   "execution_count": 17,
   "id": "441fd02a-e6a8-4839-8a08-b9199a93d4ae",
   "metadata": {},
   "outputs": [],
   "source": [
    "area = 439.78987\n",
    "cosmo = Nc.HICosmoDEXcdm()\n",
    "cosmo.omega_x2omega_k()\n",
    "cosmo.param_set_by_name(\"H0\", 71.0)\n",
    "cosmo.param_set_by_name(\"Omegab\", 0.0448)\n",
    "cosmo.param_set_by_name(\"Omegac\", 0.2648) #0.2603\n",
    "cosmo.param_set_by_name(\"Omegak\", 0.00)\n",
    "cosmo.param_set_by_name(\"w\", -1.0) #-1.0\n",
    "\n",
    "\n",
    "prim = Nc.HIPrimPowerLaw.new()\n",
    "prim.param_set_by_name(\"ln10e10ASA\",3.0116707481421923)\n",
    "prim.param_set_by_name(\"n_SA\", 0.963)\n",
    "\n",
    "\n",
    "reion = Nc.HIReionCamb.new()\n",
    "\n",
    "cosmo.add_submodel(prim)\n",
    "cosmo.add_submodel(reion)\n",
    "\n",
    "halo_coordinates = {\"RA\":\"ra\" , \"DEC\":\"dec\" , \"z\":\"redshift\"}\n",
    "halo_properties  = {\"halo_mass\":\"mass\"}\n",
    "\n",
    "detections_coordinates =  {\"RA\":\"cluster_ra\" , \"DEC\":\"cluster_dec\" , \"z\":\"cluster_redshift\"}\n",
    "detections_properties  = {\"richness\":\"R\" , \"cluster_redshift_err\":\"z_err\" , \"richness_err\":\"R_err\"}\n",
    "\n",
    "\n",
    "halos = sky_match.SkyMatch(query_data=table_halos, query_coordinates=halo_coordinates,match_data=cluster_data,\n",
    "                   match_coordinates=detections_coordinates)\n",
    "\n",
    "detections = halos.invert_query_match()"
   ]
  },
  {
   "cell_type": "code",
   "execution_count": 19,
   "id": "caea31a7-46fa-4414-b973-4b201d51e03a",
   "metadata": {},
   "outputs": [],
   "source": [
    "halos_matched =  halos.match_2d(cosmo, 100 ,distance_method= sky_match.DistanceMethod.QUERY_RADIUS)\n",
    "detections_matched =  detections.match_2d(cosmo, 100,distance_method= sky_match.DistanceMethod.MATCH_RADIUS)\n",
    "\n",
    "mask_halos = halos_matched.filter_mask_by_redshift_proximity(sigma_z= 0.0, match_sigma_z_column='cluster_redshift_err') & halos_matched.filter_mask_by_distance(1)\n",
    "mask_detections = detections_matched.filter_mask_by_redshift_proximity(sigma_z= 0.0, query_sigma_z_column='cluster_redshift_err') & detections_matched.filter_mask_by_distance(1)\n",
    "\n",
    "halos_table = halos_matched.to_table_complete(query_properties=halo_properties , match_properties=detections_properties,mask=mask_halos)\n",
    "detections_table = detections_matched.to_table_complete(query_properties=detections_properties , match_properties=halo_properties,mask=mask_detections)\n",
    "\n",
    "unique_halos = halos_matched.select_best(mask=mask_halos , selection_criteria=sky_match.SelectionCriteria.DISTANCES)\n",
    "unique_detections = detections_matched.select_best(mask=mask_detections , selection_criteria=sky_match.SelectionCriteria.MORE_MASSIVE , more_massive_column='halo_mass')\n",
    "\n",
    "unique_halos_table = halos_matched.to_table_best(best=unique_halos , query_properties=halo_properties , match_properties=detections_properties)\n",
    "unique_detections_table = detections_matched.to_table_best(best=unique_detections , query_properties=detections_properties , match_properties=halo_properties)\n",
    "\n",
    "cross_indices = unique_halos.get_cross_match_indices(unique_detections)\n",
    "cross = Table(names=(unique_halos_table.columns) , dtype=tuple([unique_halos_table.columns[i].dtype for i in range(len(unique_halos_table.columns))]))\n",
    "for halo in cross_indices:\n",
    "    cross_halo = unique_halos_table[unique_halos_table['ID'] == halo]\n",
    "    cross.add_row(cross_halo[0])\n"
   ]
  },
  {
   "cell_type": "code",
   "execution_count": 24,
   "id": "3f7fcec0-ac07-4a66-9e69-16cafbc73a7c",
   "metadata": {},
   "outputs": [],
   "source": [
    "# cross.write('match_proximity.fits', format='fits')\n"
   ]
  },
  {
   "cell_type": "code",
   "execution_count": 25,
   "id": "34cd62cc-220a-487a-880e-c37d1745fb52",
   "metadata": {},
   "outputs": [],
   "source": [
    "# cross"
   ]
  },
  {
   "cell_type": "code",
   "execution_count": null,
   "id": "02b49a73-9609-43fd-bb58-56971ba344c1",
   "metadata": {},
   "outputs": [],
   "source": []
  }
 ],
 "metadata": {
  "kernelspec": {
   "display_name": "numcosmo",
   "language": "python",
   "name": "numcosmo"
  },
  "language_info": {
   "codemirror_mode": {
    "name": "ipython",
    "version": 3
   },
   "file_extension": ".py",
   "mimetype": "text/x-python",
   "name": "python",
   "nbconvert_exporter": "python",
   "pygments_lexer": "ipython3",
   "version": "3.11.11"
  }
 },
 "nbformat": 4,
 "nbformat_minor": 5
}
