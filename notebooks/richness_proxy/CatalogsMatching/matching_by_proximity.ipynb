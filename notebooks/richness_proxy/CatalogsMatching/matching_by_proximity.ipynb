{
 "cells": [
  {
   "cell_type": "markdown",
   "id": "a4fd62c5-6fa4-4923-b931-8910f1c2ae3b",
   "metadata": {
    "tags": []
   },
   "source": [
    "#  Matching Catalogs by Proximity with NumCosmo\n",
    "\n",
    "---\n",
    "**License**\n",
    "\n",
    " Matching Catalogs by Proximity with NumCosmo\n",
    "\n",
    " Mon Dec 2 18:30:00 2024\\\n",
    " Copyright  2024\\\n",
    " Cinthia Nunes de Lima <cinthia.n.lima@uel.br> \\ Sandro Dias Pinto Vitenti <vitenti@uel.br>\n",
    "\n",
    "---\n",
    "---\n",
    " matching_by_proximity\\\n",
    " Copyright (C) 2024 Cinthia Nunes de Lima <cinthia.n.lima@uel.br>, Sandro Dias Pinto Vitenti <vitenti@uel.br>\n",
    "\n",
    " numcosmo is free software: you can redistribute it and/or modify it\n",
    " under the terms of the GNU General Public License as published by the\n",
    " Free Software Foundation, either version 3 of the License, or\n",
    " (at your option) any later version.\n",
    "\n",
    " numcosmo is distributed in the hope that it will be useful, but\n",
    " WITHOUT ANY WARRANTY; without even the implied warranty of\n",
    " MERCHANTABILITY or FITNESS FOR A PARTICULAR PURPOSE.\n",
    " See the GNU General Public License for more details.\n",
    "\n",
    " You should have received a copy of the GNU General Public License along\n",
    " with this program.  If not, see <http://www.gnu.org/licenses/>.\n",
    " \n",
    "---"
   ]
  },
  {
   "cell_type": "markdown",
   "id": "c7ae9c1c-b499-4b67-8d83-1665dc873625",
   "metadata": {
    "tags": []
   },
   "source": [
    "## Libraries & Configs"
   ]
  },
  {
   "cell_type": "code",
   "execution_count": 5,
   "id": "bf1e458c-55d2-42cb-a22b-c089a982860e",
   "metadata": {},
   "outputs": [
    {
     "name": "stdout",
     "output_type": "stream",
     "text": [
      "GCRCatalogs = 1.9.0 | GCR = 0.9.2\n"
     ]
    }
   ],
   "source": [
    "import math\n",
    "import sys\n",
    "\n",
    "import os\n",
    "import numpy as np\n",
    "import matplotlib.pyplot as plt\n",
    "\n",
    "from astropy.io import fits\n",
    "from astropy.table import Table\n",
    "import pandas as pd\n",
    "\n",
    "sys.path.insert(0, \"/global/homes/c/cinlima/gcrcatalogs-new/gcr-catalogs\")\n",
    "sys.path.insert(0, \"/global/homes/c/cinlima/\")\n",
    "sys.path.insert(0, \"/global/homes/c/cinlima/NumCosmo/notebooks/richness_proxy/MachingCatalogs\")\n",
    "\n",
    "from NcSkyMatching import NcSkyMatching\n",
    "\n",
    "import GCRCatalogs\n",
    "#Put nersc if using nersc\n",
    "GCRCatalogs.set_root_dir_by_site(\"nersc\")\n",
    "\n",
    "print('GCRCatalogs =', GCRCatalogs.__version__, '|' ,'GCR =', GCRCatalogs.GCR.__version__)\n",
    "\n",
    "\n",
    "from numcosmo_py import Nc, Ncm\n",
    "\n",
    "Ncm.cfg_init()\n",
    "\n",
    "import tqdm\n",
    "\n",
    "# GCRCatalogs.get_available_catalog_names()"
   ]
  },
  {
   "cell_type": "markdown",
   "id": "786d28e1-57bd-41cd-ba4e-a7fbf7a70b51",
   "metadata": {},
   "source": [
    "## Catalogs"
   ]
  },
  {
   "cell_type": "code",
   "execution_count": 6,
   "id": "98e88314-ac20-4799-9c7f-fea47cc0632a",
   "metadata": {},
   "outputs": [],
   "source": [
    "#Cosmo DC2\n",
    "cosmodc2= GCRCatalogs.load_catalog('cosmoDC2_v1.1.4_image')\n",
    "\n",
    "#Cosmo DC2 + RedMaPPer\n",
    "catalog_dc2_redmapper = GCRCatalogs.load_catalog('cosmoDC2_v1.1.4_redmapper_v0.8.1')"
   ]
  },
  {
   "cell_type": "code",
   "execution_count": 9,
   "id": "fe76306b-c14a-4861-afb1-5605fd731a22",
   "metadata": {},
   "outputs": [
    {
     "name": "stdout",
     "output_type": "stream",
     "text": [
      "redshift\n",
      "redshift_err\n",
      "redshift_true_member\n",
      "redshift_true_cg\n"
     ]
    }
   ],
   "source": [
    "for i in catalog_dc2_redmapper.list_all_quantities():\n",
    "    if 'redshift' in i:\n",
    "        print (i)\n",
    "\n",
    "# print(', '.join(sorted(cosmodc2.list_all_quantities())))\n"
   ]
  },
  {
   "cell_type": "code",
   "execution_count": null,
   "id": "ebc27293-811f-46c7-aabe-e0237178c1bf",
   "metadata": {},
   "outputs": [],
   "source": [
    "import re\n",
    "\n",
    "data = gc.get_quantities([q for q in gc.list_all_quantities() if re.match(r'sed_\\d+_\\d+$', q)])\n",
    "list(data.keys())"
   ]
  },
  {
   "cell_type": "code",
   "execution_count": 10,
   "id": "db31fc51-540e-4265-8565-f632579324d8",
   "metadata": {},
   "outputs": [],
   "source": [
    "# Restrictions on richness, mass and redshift\n",
    "min_richness = 5\n",
    "min_halo_mass = 1e13 #Msun\n",
    "redshift_max = 1.2\n",
    "\n",
    "#cDC2 + RM data\n",
    "quantities = catalog_dc2_redmapper.list_all_quantities()\n",
    "cluster_quantities = [q for q in quantities if 'member' not in q]\n",
    "member_quantities = [q for q in quantities if 'member' in q]\n",
    "    \n",
    "query = GCRCatalogs.GCRQuery('(richness > ' + str(min_richness) +')')\n",
    "cluster_data = Table(catalog_dc2_redmapper.get_quantities(cluster_quantities, [query])) # cDC2 + RM cluster data\n",
    "member_data = Table(catalog_dc2_redmapper.get_quantities(member_quantities)) # cDC2 + RM member data\n",
    "\n",
    "#cDC2 data\n",
    "quantities_wanted = ['redshift','halo_mass','halo_id','galaxy_id','ra','dec', 'is_central']\n",
    "query = GCRCatalogs.GCRQuery('(halo_mass > ' + str(min_halo_mass) +') & (redshift < ' + str(redshift_max) +') & (is_central < ' + str(redshift_max) +') ')\n",
    "truth_data = Table(cosmodc2.get_quantities(quantities_wanted, [query]))"
   ]
  },
  {
   "cell_type": "code",
   "execution_count": 26,
   "id": "25f0d4d1-e4ae-48ab-9b1a-40aa50c6aba2",
   "metadata": {},
   "outputs": [
    {
     "data": {
      "text/html": [
       "<div><i>Table length=35</i>\n",
       "<table id=\"table140584633918032\" class=\"table-striped table-bordered table-condensed\">\n",
       "<thead><tr><th>is_central</th><th>redshift</th><th>ra</th><th>halo_id</th><th>halo_mass</th><th>dec</th><th>galaxy_id</th></tr></thead>\n",
       "<thead><tr><th>bool</th><th>float64</th><th>float64</th><th>int64</th><th>float64</th><th>float64</th><th>int64</th></tr></thead>\n",
       "<tr><td>True</td><td>0.6938528022558739</td><td>74.18864456687197</td><td>1915500193286</td><td>18010319222985.918</td><td>-46.147101132277875</td><td>12063531591</td></tr>\n",
       "<tr><td>False</td><td>0.6940052919399451</td><td>74.19625950662343</td><td>1915500193286</td><td>18010319222985.918</td><td>-46.15230614428633</td><td>12063531592</td></tr>\n",
       "<tr><td>False</td><td>0.6941812391799049</td><td>74.18416773457602</td><td>1915500193286</td><td>18010319222985.918</td><td>-46.13343424302369</td><td>12063531593</td></tr>\n",
       "<tr><td>False</td><td>0.6929244982578675</td><td>74.19341078134596</td><td>1915500193286</td><td>18010319222985.918</td><td>-46.14313909941326</td><td>12063531594</td></tr>\n",
       "<tr><td>False</td><td>0.6940649379394672</td><td>74.18292345656629</td><td>1915500193286</td><td>18010319222985.918</td><td>-46.155157761991354</td><td>12063531595</td></tr>\n",
       "<tr><td>False</td><td>0.6929906587243495</td><td>74.19744734475395</td><td>1915500193286</td><td>18010319222985.918</td><td>-46.14117834043028</td><td>12063531596</td></tr>\n",
       "<tr><td>False</td><td>0.6938415513831853</td><td>74.17608373413937</td><td>1915500193286</td><td>18010319222985.918</td><td>-46.145308324443555</td><td>12063531597</td></tr>\n",
       "<tr><td>False</td><td>0.6942096864900011</td><td>74.18242647687327</td><td>1915500193286</td><td>18010319222985.918</td><td>-46.14102802039924</td><td>12063531598</td></tr>\n",
       "<tr><td>False</td><td>0.6950496812747564</td><td>74.18974895231635</td><td>1915500193286</td><td>18010319222985.918</td><td>-46.15163197139814</td><td>12063531599</td></tr>\n",
       "<tr><td>...</td><td>...</td><td>...</td><td>...</td><td>...</td><td>...</td><td>...</td></tr>\n",
       "<tr><td>False</td><td>0.6935566554427273</td><td>74.18563127185277</td><td>1915500193286</td><td>18010319222985.918</td><td>-46.15509167290914</td><td>12063531616</td></tr>\n",
       "<tr><td>False</td><td>0.693516665655904</td><td>74.1962929366894</td><td>1915500193286</td><td>18010319222985.918</td><td>-46.145115261234835</td><td>12063531617</td></tr>\n",
       "<tr><td>False</td><td>0.6917894891378189</td><td>74.19037108354637</td><td>1915500193286</td><td>18010319222985.918</td><td>-46.14551815078926</td><td>12063531618</td></tr>\n",
       "<tr><td>False</td><td>0.6936544063659538</td><td>74.18843426103764</td><td>1915500193286</td><td>18010319222985.918</td><td>-46.14888156265163</td><td>12063531619</td></tr>\n",
       "<tr><td>False</td><td>0.6925708951712077</td><td>74.18323078752712</td><td>1915500193286</td><td>18010319222985.918</td><td>-46.13942664089246</td><td>12063531620</td></tr>\n",
       "<tr><td>False</td><td>0.694172627762504</td><td>74.20535980888715</td><td>1915500193286</td><td>18010319222985.918</td><td>-46.15129279674834</td><td>12063531621</td></tr>\n",
       "<tr><td>False</td><td>0.6940878068719054</td><td>74.18214702657838</td><td>1915500193286</td><td>18010319222985.918</td><td>-46.15380961863518</td><td>12063531622</td></tr>\n",
       "<tr><td>False</td><td>0.6944866419005249</td><td>74.18941835590613</td><td>1915500193286</td><td>18010319222985.918</td><td>-46.14021088226073</td><td>12063531623</td></tr>\n",
       "<tr><td>False</td><td>0.6940556826417461</td><td>74.19863613162435</td><td>1915500193286</td><td>18010319222985.918</td><td>-46.13443758989236</td><td>12063531624</td></tr>\n",
       "<tr><td>False</td><td>0.6936807733760761</td><td>74.20320041146606</td><td>1915500193286</td><td>18010319222985.918</td><td>-46.15016224115121</td><td>12063531625</td></tr>\n",
       "</table></div>"
      ],
      "text/plain": [
       "<Table length=35>\n",
       "is_central      redshift      ...         dec          galaxy_id \n",
       "   bool         float64       ...       float64          int64   \n",
       "---------- ------------------ ... ------------------- -----------\n",
       "      True 0.6938528022558739 ... -46.147101132277875 12063531591\n",
       "     False 0.6940052919399451 ...  -46.15230614428633 12063531592\n",
       "     False 0.6941812391799049 ...  -46.13343424302369 12063531593\n",
       "     False 0.6929244982578675 ...  -46.14313909941326 12063531594\n",
       "     False 0.6940649379394672 ... -46.155157761991354 12063531595\n",
       "     False 0.6929906587243495 ...  -46.14117834043028 12063531596\n",
       "     False 0.6938415513831853 ... -46.145308324443555 12063531597\n",
       "     False 0.6942096864900011 ...  -46.14102802039924 12063531598\n",
       "     False 0.6950496812747564 ...  -46.15163197139814 12063531599\n",
       "       ...                ... ...                 ...         ...\n",
       "     False 0.6935566554427273 ...  -46.15509167290914 12063531616\n",
       "     False  0.693516665655904 ... -46.145115261234835 12063531617\n",
       "     False 0.6917894891378189 ...  -46.14551815078926 12063531618\n",
       "     False 0.6936544063659538 ...  -46.14888156265163 12063531619\n",
       "     False 0.6925708951712077 ...  -46.13942664089246 12063531620\n",
       "     False  0.694172627762504 ...  -46.15129279674834 12063531621\n",
       "     False 0.6940878068719054 ...  -46.15380961863518 12063531622\n",
       "     False 0.6944866419005249 ...  -46.14021088226073 12063531623\n",
       "     False 0.6940556826417461 ...  -46.13443758989236 12063531624\n",
       "     False 0.6936807733760761 ...  -46.15016224115121 12063531625"
      ]
     },
     "execution_count": 26,
     "metadata": {},
     "output_type": "execute_result"
    }
   ],
   "source": [
    "# truth_data[truth_data['is_central'] == True]\n",
    "truth_data[truth_data['halo_id'] == 1915500193286]"
   ]
  },
  {
   "cell_type": "code",
   "execution_count": 25,
   "id": "2c55bcfb-55db-4ff5-9132-ed1ee2446400",
   "metadata": {},
   "outputs": [
    {
     "data": {
      "text/html": [
       "<div><i>Table length=1</i>\n",
       "<table id=\"table140584678868432\" class=\"table-striped table-bordered table-condensed\">\n",
       "<thead><tr><th>p_cen_0</th><th>ra</th><th>maskfrac</th><th>dec_cen_4</th><th>ra_cen_0</th><th>ra_cen_2</th><th>richness</th><th>ra_cen_4</th><th>ra_cen_1</th><th>cluster_id</th><th>redshift_true_cg</th><th>redshift_err</th><th>richness_err</th><th>dec_cen_1</th><th>dec</th><th>dec_cen_2</th><th>id_cen_3</th><th>redshift</th><th>id_cen_1</th><th>dec_cen_0</th><th>dec_cen_3</th><th>p_cen_3</th><th>scaleval</th><th>id_cen_2</th><th>p_cen_4</th><th>id_cen_0</th><th>p_cen_2</th><th>p_cen_1</th><th>id_cen_4</th><th>ra_cen_3</th></tr></thead>\n",
       "<thead><tr><th>float32</th><th>float64</th><th>float32</th><th>float64</th><th>float64</th><th>float64</th><th>float32</th><th>float64</th><th>float64</th><th>int32</th><th>float32</th><th>float32</th><th>float32</th><th>float64</th><th>float64</th><th>float64</th><th>int64</th><th>float32</th><th>int64</th><th>float64</th><th>float64</th><th>float32</th><th>float32</th><th>int64</th><th>float32</th><th>int64</th><th>float32</th><th>float32</th><th>int64</th><th>float64</th></tr></thead>\n",
       "<tr><td>0.9763951</td><td>53.46292368544768</td><td>0.0</td><td>-45.13212876090004</td><td>53.46292368544768</td><td>53.48551434249019</td><td>5.2671795</td><td>53.44740614348428</td><td>53.50290245885472</td><td>41339</td><td>0.12456173</td><td>0.0071628466</td><td>1.2773417</td><td>-45.229915961636024</td><td>-45.19317372744965</td><td>-45.24676640433799</td><td>11625004505</td><td>0.12825155</td><td>11625004504</td><td>-45.19317372744965</td><td>-45.16080132898102</td><td>4.3574695e-07</td><td>1.0002445</td><td>11625002074</td><td>2.2487037e-09</td><td>11625004501</td><td>5.2151707e-05</td><td>0.02355235</td><td>11625005427</td><td>53.42879185779369</td></tr>\n",
       "</table></div>"
      ],
      "text/plain": [
       "<Table length=1>\n",
       " p_cen_0          ra        maskfrac ...   id_cen_4       ra_cen_3    \n",
       " float32       float64      float32  ...    int64         float64     \n",
       "--------- ----------------- -------- ... ----------- -----------------\n",
       "0.9763951 53.46292368544768      0.0 ... 11625005427 53.42879185779369"
      ]
     },
     "execution_count": 25,
     "metadata": {},
     "output_type": "execute_result"
    }
   ],
   "source": [
    "cluster_data[cluster_data['cluster_id'] == 41339]"
   ]
  },
  {
   "cell_type": "markdown",
   "id": "17dc3cdd-78f3-4120-ba15-317f262b4a97",
   "metadata": {},
   "source": [
    "## Matching by Proximity"
   ]
  },
  {
   "cell_type": "code",
   "execution_count": 82,
   "id": "441fd02a-e6a8-4839-8a08-b9199a93d4ae",
   "metadata": {},
   "outputs": [],
   "source": [
    "halo_data = truth_data[truth_data['is_central'] == True]\n",
    "z1 = halo_data['redshift']\n",
    "theta1= np.radians(halo_data['dec'])\n",
    "phi1 = np.radians(halo_data['ra'])\n",
    "\n",
    "z2 = cluster_data['redshift']\n",
    "theta2 = cluster_data['dec']\n",
    "phi2 = cluster_data['ra']\n",
    "\n",
    "# truth_data.write('halo_data.fits') "
   ]
  },
  {
   "cell_type": "code",
   "execution_count": 88,
   "id": "a0ec94c3-378a-478b-af24-ab0ae4d41d13",
   "metadata": {},
   "outputs": [
    {
     "data": {
      "text/html": [
       "<div><i>Table length=249557</i>\n",
       "<table id=\"table140306412561936\" class=\"table-striped table-bordered table-condensed\">\n",
       "<thead><tr><th>redshift</th><th>dec</th><th>halo_id</th><th>halo_mass</th><th>is_central</th><th>ra</th><th>galaxy_id</th></tr></thead>\n",
       "<thead><tr><th>float64</th><th>float64</th><th>int64</th><th>float64</th><th>bool</th><th>float64</th><th>int64</th></tr></thead>\n",
       "<tr><td>0.04818676962281132</td><td>-40.400894272468605</td><td>4500151475</td><td>16891355712901.41</td><td>True</td><td>49.6366034309591</td><td>9437500128</td></tr>\n",
       "<tr><td>0.04825926322238838</td><td>-41.3447799174979</td><td>7300151475</td><td>74621860826501.4</td><td>True</td><td>50.957598308861314</td><td>9437500172</td></tr>\n",
       "<tr><td>0.04554516035339984</td><td>-40.832338501224754</td><td>13700151475</td><td>33506664194163.383</td><td>True</td><td>51.00887984172898</td><td>9437500288</td></tr>\n",
       "<tr><td>0.0643846735498792</td><td>-41.15855360868742</td><td>1100151464</td><td>17911434075583.098</td><td>True</td><td>50.57641425057562</td><td>9437500798</td></tr>\n",
       "<tr><td>0.10736840205357634</td><td>-39.168679326038024</td><td>18300151442</td><td>13042641686354.93</td><td>True</td><td>50.77601162448169</td><td>9437504902</td></tr>\n",
       "<tr><td>0.12743613052494784</td><td>-39.336294511446724</td><td>36400151442</td><td>48388878878287.33</td><td>True</td><td>50.60510200022939</td><td>9437505130</td></tr>\n",
       "<tr><td>0.11375834498747261</td><td>-40.23977306100707</td><td>43700151442</td><td>69213477135143.664</td><td>True</td><td>49.50475455575477</td><td>9437505232</td></tr>\n",
       "<tr><td>0.1259639067546261</td><td>-39.64548257286864</td><td>52300151442</td><td>62974036412214.086</td><td>True</td><td>51.070122482361214</td><td>9437505371</td></tr>\n",
       "<tr><td>0.12775858760889358</td><td>-39.09754001831282</td><td>1200151432</td><td>34125997485791.55</td><td>True</td><td>50.36982165635327</td><td>9437509536</td></tr>\n",
       "<tr><td>...</td><td>...</td><td>...</td><td>...</td><td>...</td><td>...</td><td>...</td></tr>\n",
       "<tr><td>1.1853570163214662</td><td>-39.08539288599104</td><td>3682600146224</td><td>32478779109318.312</td><td>True</td><td>75.55359016100344</td><td>9128379416</td></tr>\n",
       "<tr><td>1.176876263452105</td><td>-39.278859347493345</td><td>3697000146224</td><td>12878700520923.943</td><td>True</td><td>74.83087511096365</td><td>9128379620</td></tr>\n",
       "<tr><td>1.1905445077711279</td><td>-39.286556937838554</td><td>3722900146224</td><td>12251522108574.648</td><td>True</td><td>73.84047973663067</td><td>9128379983</td></tr>\n",
       "<tr><td>1.1734714584012749</td><td>-38.43122088428722</td><td>3765500146224</td><td>20021851300416.902</td><td>True</td><td>74.86771814462249</td><td>9128380557</td></tr>\n",
       "<tr><td>1.1946265992489535</td><td>-39.7675290320449</td><td>3808800146224</td><td>35354255106163.38</td><td>True</td><td>74.65571079074518</td><td>9128381129</td></tr>\n",
       "<tr><td>1.1849773059535407</td><td>-39.14638595036369</td><td>3871300146224</td><td>14013277475335.213</td><td>True</td><td>73.81128737143172</td><td>9128381976</td></tr>\n",
       "<tr><td>1.1800017149140816</td><td>-38.02756142548923</td><td>3911800146224</td><td>44490722278039.44</td><td>True</td><td>74.88470898258565</td><td>9128382481</td></tr>\n",
       "<tr><td>1.1971548172109827</td><td>-38.713099486333775</td><td>3912800146224</td><td>11283213862940.846</td><td>True</td><td>75.65011974249386</td><td>9128382536</td></tr>\n",
       "<tr><td>1.1894043018632114</td><td>-37.47552757193451</td><td>3932700146224</td><td>13930005772259.156</td><td>True</td><td>74.67939837200306</td><td>9128382785</td></tr>\n",
       "<tr><td>1.1883444026995855</td><td>-38.265619746963445</td><td>3944400146224</td><td>37488092497487.33</td><td>True</td><td>74.07236340535268</td><td>9128382968</td></tr>\n",
       "</table></div>"
      ],
      "text/plain": [
       "<Table length=249557>\n",
       "      redshift              dec         ...         ra         galaxy_id \n",
       "      float64             float64       ...      float64         int64   \n",
       "------------------- ------------------- ... ------------------ ----------\n",
       "0.04818676962281132 -40.400894272468605 ...   49.6366034309591 9437500128\n",
       "0.04825926322238838   -41.3447799174979 ... 50.957598308861314 9437500172\n",
       "0.04554516035339984 -40.832338501224754 ...  51.00887984172898 9437500288\n",
       " 0.0643846735498792  -41.15855360868742 ...  50.57641425057562 9437500798\n",
       "0.10736840205357634 -39.168679326038024 ...  50.77601162448169 9437504902\n",
       "0.12743613052494784 -39.336294511446724 ...  50.60510200022939 9437505130\n",
       "0.11375834498747261  -40.23977306100707 ...  49.50475455575477 9437505232\n",
       " 0.1259639067546261  -39.64548257286864 ... 51.070122482361214 9437505371\n",
       "0.12775858760889358  -39.09754001831282 ...  50.36982165635327 9437509536\n",
       "                ...                 ... ...                ...        ...\n",
       " 1.1853570163214662  -39.08539288599104 ...  75.55359016100344 9128379416\n",
       "  1.176876263452105 -39.278859347493345 ...  74.83087511096365 9128379620\n",
       " 1.1905445077711279 -39.286556937838554 ...  73.84047973663067 9128379983\n",
       " 1.1734714584012749  -38.43122088428722 ...  74.86771814462249 9128380557\n",
       " 1.1946265992489535   -39.7675290320449 ...  74.65571079074518 9128381129\n",
       " 1.1849773059535407  -39.14638595036369 ...  73.81128737143172 9128381976\n",
       " 1.1800017149140816  -38.02756142548923 ...  74.88470898258565 9128382481\n",
       " 1.1971548172109827 -38.713099486333775 ...  75.65011974249386 9128382536\n",
       " 1.1894043018632114  -37.47552757193451 ...  74.67939837200306 9128382785\n",
       " 1.1883444026995855 -38.265619746963445 ...  74.07236340535268 9128382968"
      ]
     },
     "execution_count": 88,
     "metadata": {},
     "output_type": "execute_result"
    }
   ],
   "source": [
    "halo_data"
   ]
  },
  {
   "cell_type": "code",
   "execution_count": 83,
   "id": "3c327318-da9a-4aa0-a0d4-fe73f791a5fa",
   "metadata": {},
   "outputs": [],
   "source": [
    "snn = Ncm.SphereNN()\n",
    "cosmo = Nc.HICosmoDEXcdm()\n",
    "dist = Nc.Distance.new(3.0)\n",
    "dist.prepare(cosmo)\n",
    "\n",
    "# r_a = np.array([dist.comoving(cosmo, z) for z in z1])\n",
    "\n",
    "# snn.insert_array(r_a, theta1, phi1)\n",
    "# snn.rebuild()\n",
    "\n",
    "\n",
    "# ind = []\n",
    "# for i, (theta, phi, z) in tqdm.tqdm(\n",
    "#     enumerate(zip(theta2, phi2, z2)), total=len(theta2)\n",
    "#     ):\n",
    "#     r = dist.comoving(cosmo, z)\n",
    "#     indices = np.array(snn.knn_search(r, theta, phi, 5))\n",
    "    "
   ]
  },
  {
   "cell_type": "code",
   "execution_count": null,
   "id": "1d04ed86-664d-426b-9879-4943bedf1bbe",
   "metadata": {},
   "outputs": [],
   "source": [
    "halo_names = {\"RA\": 'ra' , \"DEC\": \"dec\" , \"z\": 'redshift'}\n",
    "halo_property = {\"mass\": \"halo_mass\"}\n",
    "cluster_names = {\"RA\": 'ra' , \"DEC\": \"dec\" , \"z\": 'redshift'}\n",
    "cluster_property = {\"richness\":'richness'}\n",
    "\n",
    "test = NcSkyMatching(cat1=\"halo_data.fits\", cat1_coordinates=halo_names, cat2=\"cluster_data.fits\", \n",
    "                                   cat2_coordinates=cluster_names, cat1_properties=halo_property, cat2_properties=cluster_property)\n",
    "\n",
    "matches = test.process_halos(cosmo=cosmo , matching_distance=1, n_nearest_neighbours=10, match_file=\"test.fits\")"
   ]
  },
  {
   "cell_type": "code",
   "execution_count": 12,
   "id": "308741ea-6449-4478-9c8e-b8a99a34a348",
   "metadata": {},
   "outputs": [
    {
     "data": {
      "text/html": [
       "<div><i>Table length=45081</i>\n",
       "<table id=\"table140306441288144\" class=\"table-striped table-bordered table-condensed\">\n",
       "<thead><tr><th>ID</th><th>RA</th><th>DEC</th><th>z</th><th>ID_matched</th><th>RA_matched</th><th>DEC_matched</th><th>z_matched</th><th>distances Mpc</th><th>mass</th><th>richness</th></tr></thead>\n",
       "<thead><tr><th>int64</th><th>float64</th><th>float64</th><th>float32</th><th>object</th><th>object</th><th>object</th><th>object</th><th>object</th><th>object</th><th>float32</th></tr></thead>\n",
       "<tr><td>0</td><td>52.520436430812914</td><td>-25.717996124671657</td><td>0.5135129</td><td>[1257983.]</td><td>[52.51421229]</td><td>[-25.70845685]</td><td>[0.51349377]</td><td>[0.39320361]</td><td>[5.46154289e+14]</td><td>190.70665</td></tr>\n",
       "<tr><td>1</td><td>56.920376528125075</td><td>-27.20434071042304</td><td>0.5712697</td><td>[1601312.]</td><td>[56.92027236]</td><td>[-27.20381396]</td><td>[0.57123694]</td><td>[0.1087216]</td><td>[1.00953537e+15]</td><td>179.12813</td></tr>\n",
       "<tr><td>2</td><td>56.99849698116052</td><td>-26.7172081871169</td><td>1.040338</td><td>[4904818.]</td><td>[56.99678924]</td><td>[-26.71643078]</td><td>[1.04040836]</td><td>[0.20320977]</td><td>[2.89475385e+13]</td><td>124.02715</td></tr>\n",
       "<tr><td>3</td><td>58.56362402841767</td><td>-27.429961828331713</td><td>0.63518524</td><td>[1606532.]</td><td>[58.56328785]</td><td>[-27.40997922]</td><td>[0.63534048]</td><td>[0.96988225]</td><td>[3.88491914e+14]</td><td>167.33603</td></tr>\n",
       "<tr><td>4</td><td>58.35519782866568</td><td>-26.867687128773035</td><td>0.44230303</td><td>[1596785.]</td><td>[58.35345232]</td><td>[-26.86448605]</td><td>[0.44228231]</td><td>[0.13156795]</td><td>[3.56926173e+14]</td><td>111.9147</td></tr>\n",
       "<tr><td>5</td><td>57.76575707007693</td><td>-28.119101936484828</td><td>0.46697217</td><td>[1597957.]</td><td>[57.76346932]</td><td>[-28.11657909]</td><td>[0.46702997]</td><td>[0.22592255]</td><td>[3.58202423e+14]</td><td>104.439766</td></tr>\n",
       "<tr><td>6</td><td>58.509466974185045</td><td>-26.989676182075844</td><td>0.4413634</td><td>[1595669.]</td><td>[58.497715]</td><td>[-27.00358319]</td><td>[0.44125815]</td><td>[0.65042407]</td><td>[4.36869867e+14]</td><td>103.49396</td></tr>\n",
       "<tr><td>7</td><td>54.494027152041674</td><td>-27.896589555863095</td><td>1.0629631</td><td>[4896403.]</td><td>[54.49391401]</td><td>[-27.8947772]</td><td>[1.06317824]</td><td>[0.53638431]</td><td>[2.53118449e+14]</td><td>76.85877</td></tr>\n",
       "<tr><td>8</td><td>58.137368555958155</td><td>-27.199784884537003</td><td>1.037697</td><td>[4903474.]</td><td>[58.13075023]</td><td>[-27.20154935]</td><td>[1.03757698]</td><td>[0.48076345]</td><td>[3.40049002e+14]</td><td>75.89771</td></tr>\n",
       "<tr><td>...</td><td>...</td><td>...</td><td>...</td><td>...</td><td>...</td><td>...</td><td>...</td><td>...</td><td>...</td><td>...</td></tr>\n",
       "<tr><td>45071</td><td>68.97659374968845</td><td>-43.46226537592641</td><td>1.1347386</td><td>[]</td><td>[]</td><td>[]</td><td>[]</td><td>[]</td><td>[]</td><td>6.5180874</td></tr>\n",
       "<tr><td>45072</td><td>67.80686586780557</td><td>-45.04968907693027</td><td>1.133446</td><td>[4748518.]</td><td>[67.81793268]</td><td>[-45.05008302]</td><td>[1.13336736]</td><td>[0.5453998]</td><td>[7.05551523e+13]</td><td>10.81999</td></tr>\n",
       "<tr><td>45073</td><td>69.32447991359263</td><td>-44.58164957988367</td><td>1.1440023</td><td>[]</td><td>[]</td><td>[]</td><td>[]</td><td>[]</td><td>[]</td><td>5.1451397</td></tr>\n",
       "<tr><td>45074</td><td>69.5183602456607</td><td>-44.85610621353534</td><td>0.47193053</td><td>[]</td><td>[]</td><td>[]</td><td>[]</td><td>[]</td><td>[]</td><td>5.9383984</td></tr>\n",
       "<tr><td>45075</td><td>70.47296979578381</td><td>-44.81929434112701</td><td>0.5012809</td><td>[]</td><td>[]</td><td>[]</td><td>[]</td><td>[]</td><td>[]</td><td>5.2824345</td></tr>\n",
       "<tr><td>45076</td><td>66.93469285125511</td><td>-45.3464905749836</td><td>1.1359326</td><td>[]</td><td>[]</td><td>[]</td><td>[]</td><td>[]</td><td>[]</td><td>5.3739643</td></tr>\n",
       "<tr><td>45077</td><td>71.14867155851915</td><td>-45.04493556544232</td><td>1.1348144</td><td>[]</td><td>[]</td><td>[]</td><td>[]</td><td>[]</td><td>[]</td><td>7.5554256</td></tr>\n",
       "<tr><td>45078</td><td>71.59288528630849</td><td>-44.833270342288635</td><td>0.21152088</td><td>[]</td><td>[]</td><td>[]</td><td>[]</td><td>[]</td><td>[]</td><td>5.007845</td></tr>\n",
       "<tr><td>45079</td><td>69.36171381510071</td><td>-44.138625691755685</td><td>1.1475015</td><td>[4641528.]</td><td>[69.35307462]</td><td>[-44.13374727]</td><td>[1.14737012]</td><td>[0.60452189]</td><td>[4.69940779e+13]</td><td>5.3587093</td></tr>\n",
       "<tr><td>45080</td><td>70.4738860743343</td><td>-44.583719372027936</td><td>0.9184803</td><td>[]</td><td>[]</td><td>[]</td><td>[]</td><td>[]</td><td>[]</td><td>5.1298847</td></tr>\n",
       "</table></div>"
      ],
      "text/plain": [
       "<Table length=45081>\n",
       "  ID          RA                 DEC         ...       mass        richness \n",
       "int64      float64             float64       ...      object       float32  \n",
       "----- ------------------ ------------------- ... ---------------- ----------\n",
       "    0 52.520436430812914 -25.717996124671657 ... [5.46154289e+14]  190.70665\n",
       "    1 56.920376528125075  -27.20434071042304 ... [1.00953537e+15]  179.12813\n",
       "    2  56.99849698116052   -26.7172081871169 ... [2.89475385e+13]  124.02715\n",
       "    3  58.56362402841767 -27.429961828331713 ... [3.88491914e+14]  167.33603\n",
       "    4  58.35519782866568 -26.867687128773035 ... [3.56926173e+14]   111.9147\n",
       "    5  57.76575707007693 -28.119101936484828 ... [3.58202423e+14] 104.439766\n",
       "    6 58.509466974185045 -26.989676182075844 ... [4.36869867e+14]  103.49396\n",
       "    7 54.494027152041674 -27.896589555863095 ... [2.53118449e+14]   76.85877\n",
       "    8 58.137368555958155 -27.199784884537003 ... [3.40049002e+14]   75.89771\n",
       "  ...                ...                 ... ...              ...        ...\n",
       "45071  68.97659374968845  -43.46226537592641 ...               []  6.5180874\n",
       "45072  67.80686586780557  -45.04968907693027 ... [7.05551523e+13]   10.81999\n",
       "45073  69.32447991359263  -44.58164957988367 ...               []  5.1451397\n",
       "45074   69.5183602456607  -44.85610621353534 ...               []  5.9383984\n",
       "45075  70.47296979578381  -44.81929434112701 ...               []  5.2824345\n",
       "45076  66.93469285125511   -45.3464905749836 ...               []  5.3739643\n",
       "45077  71.14867155851915  -45.04493556544232 ...               []  7.5554256\n",
       "45078  71.59288528630849 -44.833270342288635 ...               []   5.007845\n",
       "45079  69.36171381510071 -44.138625691755685 ... [4.69940779e+13]  5.3587093\n",
       "45080   70.4738860743343 -44.583719372027936 ...               []  5.1298847"
      ]
     },
     "execution_count": 12,
     "metadata": {},
     "output_type": "execute_result"
    }
   ],
   "source": [
    "mdata = Table.read('test.fits')\n",
    "mdata"
   ]
  },
  {
   "cell_type": "code",
   "execution_count": 103,
   "id": "ab8058f7-875b-407a-bf0f-924d3e81294a",
   "metadata": {},
   "outputs": [],
   "source": [
    "data = mdata[mdata['mass'] > 0]\n",
    "mt_data = Table([[m[0] for m in data['mass']], [l for l in data['richness']], [r for r in data['z']]], names=('mass', 'richness', 'z'))"
   ]
  },
  {
   "cell_type": "code",
   "execution_count": 129,
   "id": "ad7993a3-a375-4e07-80f1-9735a5fce62c",
   "metadata": {},
   "outputs": [
    {
     "data": {
      "text/plain": [
       "<matplotlib.collections.PathCollection at 0x7f9ba155c850>"
      ]
     },
     "execution_count": 129,
     "metadata": {},
     "output_type": "execute_result"
    },
    {
     "data": {
      "image/png": "[encoded data removed]",
      "text/plain": [
       "<Figure size 640x480 with 1 Axes>"
      ]
     },
     "metadata": {},
     "output_type": "display_data"
    }
   ],
   "source": [
    "plt.scatter(np.log(mt_data['mass']), np.log(mt_data['richness']))"
   ]
  },
  {
   "cell_type": "code",
   "execution_count": null,
   "id": "caea31a7-46fa-4414-b973-4b201d51e03a",
   "metadata": {},
   "outputs": [],
   "source": []
  }
 ],
 "metadata": {
  "kernelspec": {
   "display_name": "numcosmo",
   "language": "python",
   "name": "numcosmo"
  },
  "language_info": {
   "codemirror_mode": {
    "name": "ipython",
    "version": 3
   },
   "file_extension": ".py",
   "mimetype": "text/x-python",
   "name": "python",
   "nbconvert_exporter": "python",
   "pygments_lexer": "ipython3",
   "version": "3.11.11"
  }
 },
 "nbformat": 4,
 "nbformat_minor": 5
}
