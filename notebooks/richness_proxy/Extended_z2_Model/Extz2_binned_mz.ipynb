{
 "cells": [
  {
   "cell_type": "markdown",
   "id": "3d0ebcd3-0a8e-4cb7-a35d-a557d1748712",
   "metadata": {},
   "source": [
    "# Settings"
   ]
  },
  {
   "cell_type": "code",
   "execution_count": 2,
   "id": "7d2fc400-719e-45c6-8525-8a4279a11855",
   "metadata": {
    "tags": []
   },
   "outputs": [],
   "source": [
    "%load_ext autoreload\n",
    "%autoreload 2\n",
    "\n",
    "from numcosmo_py import Ncm, Nc, GObject\n",
    "\n",
    "from richness_mass_calib import create_richness_mass_calib\n",
    "import numpy as np\n",
    "import math\n",
    "import sys\n",
    "import os.path\n",
    "\n",
    "from astropy.io import fits\n",
    "from astropy.table import Table\n",
    "from scipy import stats\n",
    "\n",
    "import matplotlib.pyplot as plt\n",
    "\n",
    "import pandas as pd\n",
    "\n",
    "Ncm.cfg_init()\n",
    "\n",
    "%matplotlib inline\n",
    "sys.path.insert(0, \"/global/homes/c/cinlima/NumCosmo/notebooks/richness_proxy\")"
   ]
  },
  {
   "cell_type": "markdown",
   "id": "35a19de2-e406-4915-bb78-8ced9171d979",
   "metadata": {},
   "source": [
    "# Data"
   ]
  },
  {
   "cell_type": "code",
   "execution_count": 3,
   "id": "fe13054e-4f73-48d8-903b-33e983463726",
   "metadata": {},
   "outputs": [],
   "source": [
    "# DC2 data\n",
    "DC2_halos_m200c = fits.open(\n",
    "    \"/global/cfs/projectdirs/lsst/groups/CL/cosmoDC2_v1.1.4/extragal/full/halos/halos_m200c_13.0.fits\")\n",
    "\n",
    "dt_halos = Table(DC2_halos_m200c[1].data)\n",
    "\n",
    "lnM = np.log(dt_halos[\"m200c\"])  # ln(mass)\n",
    "z = dt_halos[\"redshift_true\"]  # redshift\n",
    "lnR = np.log(dt_halos[\"richness\"])  # ln(richness)"
   ]
  },
  {
   "cell_type": "markdown",
   "id": "b482a273-4ee1-4364-bfbc-fadecfd59e68",
   "metadata": {
    "tags": []
   },
   "source": [
    "# Compute Mean, SD, Residuals"
   ]
  },
  {
   "cell_type": "code",
   "execution_count": 4,
   "id": "efa76ba3-7ff4-4a0c-abc9-f79a3e0276c1",
   "metadata": {
    "tags": []
   },
   "outputs": [],
   "source": [
    "def compute_res(rich_model):\n",
    "\n",
    "    lnR_mean = np.array(\n",
    "        [rich_model.get_mean_richness(lnM[i], z[i]) for i in range(len(dt_halos))]\n",
    "    )\n",
    "    lnR_std = np.array(\n",
    "        [rich_model.get_std_richness(lnM[i], z[i]) for i in range(len(dt_halos))]\n",
    "    )\n",
    "    \n",
    "    lnr_cut = np.array(\n",
    "        [rich_model.get_cut(lnM[i], z[i]) for i in range(len(dt_halos))])\n",
    "\n",
    "    abs_err = (lnR - lnR_mean) / lnR_std\n",
    "    # Data cut\n",
    "#     sigma_cut = 5.0\n",
    "\n",
    "#     sigma_cut_array = np.abs(abs_err) < sigma_cut\n",
    "#     print(f\"Cutting {sigma_cut}-sigma, {np.sum(np.logical_not(sigma_cut_array))}\")\n",
    "\n",
    "#     lnR_mean = lnR_mean[sigma_cut_array]\n",
    "#     z_sigma_cut = z[sigma_cut_array]\n",
    "#     lnM_sigma_cut = lnM[sigma_cut_array]\n",
    "#     abs_err = abs_err[sigma_cut_array]\n",
    "#     lnR_ext = lnR[sigma_cut_array]\n",
    "#     lnr_cut = lnr_cut[sigma_cut_array] \n",
    "    \n",
    "    lnR_mean = lnR_mean\n",
    "    z_sigma_cut = z\n",
    "    lnM_sigma_cut = lnM\n",
    "    abs_err = abs_err\n",
    "    lnR_ext = lnR\n",
    "    lnr_cut = lnr_cut\n",
    "    \n",
    "    \n",
    "    return abs_err, lnR_mean, z_sigma_cut, lnM_sigma_cut, lnr_cut, lnR_ext \n"
   ]
  },
  {
   "cell_type": "markdown",
   "id": "1fb3dc56-ba7c-402a-b3b3-9c77717e7c84",
   "metadata": {
    "tags": []
   },
   "source": [
    "# Bins"
   ]
  },
  {
   "cell_type": "code",
   "execution_count": 5,
   "id": "13e8c903-64d4-4919-b036-97a999b4d53c",
   "metadata": {
    "tags": []
   },
   "outputs": [],
   "source": [
    "# redshift bins\n",
    "z_0 = 0.0\n",
    "z_1 = 0.1\n",
    "halos_bin_z =[]\n",
    "\n",
    "for i in range(30):\n",
    "    cut_z = np.logical_and (dt_halos['redshift_true'] > z_0, dt_halos['redshift_true'] < z_1)\n",
    "    halos_bin_z.append(dt_halos[cut_z])\n",
    "    z_0 = z_0 + 0.1\n",
    "    z_1 = z_1 + 0.1\n",
    "\n",
    "# mass bins\n",
    "label = []\n",
    "halos_bin_mz =[]\n",
    "for i in range(30):\n",
    "    lnM_0 = min(lnM)\n",
    "    lnM_1 = min(lnM) + 0.5\n",
    "\n",
    "    for j in range(9):\n",
    "        cut = np.logical_and (np.log(halos_bin_z[i][\"m200c\"]) > lnM_0, np.log(halos_bin_z[i][\"m200c\"]) < lnM_1)\n",
    "        halos_bin_mz.append(halos_bin_z[i][cut])\n",
    "        label.append(f\"{min(halos_bin_z[i]['redshift_true']):.3f} < z < {max(halos_bin_z[i]['redshift_true']):.3f}\\n{lnM_0:.3f} < lnM < {lnM_1:.3f}\")\n",
    "        lnM_0 = lnM_0 + 0.5\n",
    "        lnM_1 = lnM_1 + 0.5"
   ]
  },
  {
   "cell_type": "markdown",
   "id": "67e79cbb-c1d3-490f-a495-5e469b967878",
   "metadata": {
    "tags": []
   },
   "source": [
    "# Fitting - binned data"
   ]
  },
  {
   "cell_type": "code",
   "execution_count": null,
   "id": "362743c1-8dec-4737-b424-cde4d2b0f4a5",
   "metadata": {
    "tags": []
   },
   "outputs": [],
   "source": [
    "fit_results_ascaso = []\n",
    "fit_results_ext = []\n",
    "\n",
    "mean_ext_list=[]\n",
    "\n",
    "for i in range(len(halos_bin_mz)):\n",
    "    \n",
    "    if len(halos_bin_mz[i]) == 0:\n",
    "        fit_results_ascaso.append(([], [], [], [], [] ,[]))\n",
    "        fit_results_ext.append(([], [], [], [], [] ,[]))\n",
    "\n",
    "    \n",
    "    else:\n",
    "        rmdata = create_richness_mass_calib(halos_bin_mz[i])\n",
    "\n",
    "        use_ascaso = False\n",
    "\n",
    "        ascaso = Nc.ClusterMassAscaso()\n",
    "\n",
    "        ascaso.param_set_by_name(\"mup0\", 4.45393539397061)\n",
    "        # ascaso.param_set_by_name(\"mup1\", 0.688627943224023)\n",
    "        # ascaso.param_set_by_name(\"mup2\", 1.23735536845047)\n",
    "        # ascaso.param_set_by_name(\"sigmap0\", 0.227197277810533)\n",
    "        # ascaso.param_set_by_name(\"sigmap1\", -0.0514034833229222)\n",
    "        # ascaso.param_set_by_name(\"sigmap2\", -0.125446104089159)\n",
    "        ascaso.param_set_by_name(\"cut\", 1e15)\n",
    "        \n",
    "        ascaso.param_set_by_name(\"mup1\", 0.0)\n",
    "        ascaso.param_set_by_name(\"mup2\", 0.0)\n",
    "        ascaso.param_set_by_name(\"sigmap0\", 0.227197277810533)\n",
    "        ascaso.param_set_by_name(\"sigmap1\", 0.0)\n",
    "        ascaso.param_set_by_name(\"sigmap2\", 0.0)\n",
    "\n",
    "\n",
    "        ascaso.param_set_ftype(0, Ncm.ParamType.FREE)\n",
    "        ascaso.param_set_ftype(1, Ncm.ParamType.FIXED)\n",
    "        ascaso.param_set_ftype(2, Ncm.ParamType.FIXED)\n",
    "        ascaso.param_set_ftype(3, Ncm.ParamType.FREE)\n",
    "        ascaso.param_set_ftype(4, Ncm.ParamType.FIXED)\n",
    "        ascaso.param_set_ftype(5, Ncm.ParamType.FIXED)\n",
    "        ascaso.param_set_ftype(6, Ncm.ParamType.FIXED)\n",
    "\n",
    "        lnrich_ext = Nc.ClusterMassLnrichExt()\n",
    "        lnrich_ext.param_set_by_name(\"mu\", 4.60456407051582)\n",
    "        # lnrich_ext.param_set_by_name(\"muM1\", 0.872079943089853)\n",
    "        # lnrich_ext.param_set_by_name(\"muZ1\", 1.77432682440775)\n",
    "        # lnrich_ext.param_set_by_name(\"muM2\", 0.0417736274804596)\n",
    "        # lnrich_ext.param_set_by_name(\"muZ2\", -0.140721577418961)\n",
    "        # lnrich_ext.param_set_by_name(\"muMZ\", 0.142254333837774)\n",
    "        \n",
    "        lnrich_ext.param_set_by_name(\"muM1\", 0.0)\n",
    "        lnrich_ext.param_set_by_name(\"muZ1\", 0.0)\n",
    "        lnrich_ext.param_set_by_name(\"muM2\", 0.0)\n",
    "        lnrich_ext.param_set_by_name(\"muZ2\", 0.0)\n",
    "        lnrich_ext.param_set_by_name(\"muMZ\", 0.0)\n",
    "        \n",
    "        lnrich_ext.param_set_by_name(\"sigma0\", 0.288099083637692)\n",
    "#         lnrich_ext.param_set_by_name(\"sigmaM1\", 0.01665425603827)\n",
    "#         lnrich_ext.param_set_by_name(\"sigmaZ1\", -0.0170544925340452)\n",
    "#         lnrich_ext.param_set_by_name(\"sigmaM2\", 0.0151710348889877)\n",
    "#         lnrich_ext.param_set_by_name(\"sigmaZ2\", 0.00841242091702829)\n",
    "#         lnrich_ext.param_set_by_name(\"sigmaMZ\", 0.0375086602261856)\n",
    "        \n",
    "        lnrich_ext.param_set_by_name(\"sigmaM1\", 0.0)\n",
    "        lnrich_ext.param_set_by_name(\"sigmaZ1\", 0.0)\n",
    "        lnrich_ext.param_set_by_name(\"sigmaM2\", 0.0)\n",
    "        lnrich_ext.param_set_by_name(\"sigmaZ2\", 0.0)\n",
    "        lnrich_ext.param_set_by_name(\"sigmaMZ\", 0.0)\n",
    "\n",
    "\n",
    "        lnrich_ext.param_set_by_name(\"cut\", 1e15)\n",
    "        lnrich_ext.param_set_by_name(\"cutM1\", 0)\n",
    "        lnrich_ext.param_set_by_name(\"cutZ1\", 0)\n",
    "\n",
    "\n",
    "        lnrich_ext.param_set_ftype(0, Ncm.ParamType.FREE)\n",
    "        lnrich_ext.param_set_ftype(1, Ncm.ParamType.FREE)\n",
    "        lnrich_ext.param_set_ftype(2, Ncm.ParamType.FREE)\n",
    "        lnrich_ext.param_set_ftype(3, Ncm.ParamType.FREE)\n",
    "        lnrich_ext.param_set_ftype(4, Ncm.ParamType.FREE)\n",
    "        lnrich_ext.param_set_ftype(5, Ncm.ParamType.FREE)\n",
    "        lnrich_ext.param_set_ftype(6, Ncm.ParamType.FREE)\n",
    "\n",
    "        lnrich_ext.param_set_ftype(7, Ncm.ParamType.FREE)\n",
    "        lnrich_ext.param_set_ftype(8, Ncm.ParamType.FREE)\n",
    "        lnrich_ext.param_set_ftype(9, Ncm.ParamType.FREE)\n",
    "        lnrich_ext.param_set_ftype(10, Ncm.ParamType.FREE)\n",
    "        lnrich_ext.param_set_ftype(11, Ncm.ParamType.FREE)\n",
    "\n",
    "        lnrich_ext.param_set_ftype(12, Ncm.ParamType.FIXED)\n",
    "        lnrich_ext.param_set_ftype(13, Ncm.ParamType.FIXED)\n",
    "        lnrich_ext.param_set_ftype(14, Ncm.ParamType.FIXED)\n",
    "\n",
    "        mset_ascaso = Ncm.MSet()\n",
    "        mset_ascaso.set(ascaso)\n",
    "\n",
    "        mset_ext = Ncm.MSet()\n",
    "        mset_ext.set(lnrich_ext)\n",
    "\n",
    "        dset = Ncm.Dataset.new()\n",
    "        dset.append_data(rmdata)\n",
    "\n",
    "        lh = Ncm.Likelihood.new(dset)\n",
    "\n",
    "        # mset_ascaso.param_set_all_ftype(Ncm.ParamType.FIXED)\n",
    "        # mset_ext.param_set_all_ftype(Ncm.ParamType.FIXED)\n",
    "\n",
    "        fit_ascaso = Ncm.Fit.factory(\n",
    "            Ncm.FitType.NLOPT, \"ln-neldermead\", lh, mset_ascaso, Ncm.FitGradType.NUMDIFF_CENTRAL)\n",
    "\n",
    "        fit_ext = Ncm.Fit.factory(\n",
    "            Ncm.FitType.NLOPT, \"ln-neldermead\", lh, mset_ext, Ncm.FitGradType.NUMDIFF_CENTRAL)\n",
    "\n",
    "        fit_ascaso.run_restart(Ncm.FitRunMsgs.SIMPLE, 1.0e-3, 0.0, None, None)\n",
    "        fit_ext.run_restart(Ncm.FitRunMsgs.SIMPLE, 1.0e-3, 0.0, None, None)\n",
    "        \n",
    "        \n",
    "        dt_halos = halos_bin_mz[i]\n",
    "        lnM = np.log(dt_halos[\"m200c\"])  # ln(mass)\n",
    "        z = dt_halos[\"redshift_true\"]  # redshift\n",
    "        lnR = np.log(dt_halos[\"richness\"])  # ln(richness)\n",
    "\n",
    "        res_ascaso, lnR_mean_ascaso, z_sigma_cut_ascaso, lnM_sigma_cut_ascaso, lnr_cut_ascaso, lnR_ascaso  = compute_res(ascaso)\n",
    "\n",
    "        res_ext, lnR_mean_ext, z_sigma_cut_ext, lnM_sigma_cut_ext, lnr_cut_ext, lnR_ext  = compute_res(lnrich_ext)\n",
    "\n",
    "        fit_results_ascaso.append((res_ascaso, lnR_mean_ascaso, z_sigma_cut_ascaso, lnM_sigma_cut_ascaso, lnr_cut_ascaso, lnR_ascaso))\n",
    "        fit_results_ext.append((res_ext, lnR_mean_ext, z_sigma_cut_ext, lnM_sigma_cut_ext, lnr_cut_ext, lnR_ext))\n",
    "        mean_ext_list.append(lnR_mean_ext)\n"
   ]
  },
  {
   "cell_type": "markdown",
   "id": "d18574b0-0b1b-4282-b8ea-09dbd5562637",
   "metadata": {
    "jp-MarkdownHeadingCollapsed": true,
    "tags": []
   },
   "source": [
    "# Residuals results"
   ]
  },
  {
   "cell_type": "code",
   "execution_count": null,
   "id": "01635e09-86c7-445a-8556-e8f3002e64cd",
   "metadata": {
    "tags": []
   },
   "outputs": [],
   "source": [
    "#Resíduos binnados: Ascaso\n",
    "\n",
    "#lnM \n",
    "\n",
    "fig = plt.figure(figsize=(20,150))\n",
    "plt.subplots_adjust(wspace=0.5, \n",
    "                    hspace=1.5)\n",
    "\n",
    "\n",
    "for i in range(len(fit_results_ascaso)): \n",
    "    \n",
    "        t=i+1\n",
    "\n",
    "        axt = fig.add_subplot(70,5,t)\n",
    "\n",
    "\n",
    "        axt.scatter(fit_results_ascaso[i][3], fit_results_ascaso[i][0], c=\"salmon\")\n",
    "        axt.set_xlabel(\"$\\ln M$\", fontsize=12)\n",
    "        axt.set_ylabel(\"Resíduos:\\nAscaso\", fontsize=12)\n",
    "        axt.set_title(label[i],fontsize=14)\n",
    "    \n",
    "\n",
    "##plt.savefig('Figures/Res_Ascaso_lnM_1.png', format='png')\n",
    "\n",
    "\n",
    "# z \n",
    "\n",
    "fig = plt.figure(figsize=(20,150))\n",
    "plt.subplots_adjust(wspace=0.5, \n",
    "                    hspace=1.5)\n",
    "\n",
    "\n",
    "for i in range(len(fit_results_ascaso)): \n",
    "    \n",
    "        t=i+1\n",
    "\n",
    "        axt = fig.add_subplot(70,5,t)\n",
    "\n",
    "\n",
    "        axt.scatter(fit_results_ascaso[i][2], fit_results_ascaso[i][0], c=\"salmon\")\n",
    "        axt.set_xlabel(\"$z$\", fontsize=12)\n",
    "        axt.set_ylabel(\"Resíduos:\\nAscaso\", fontsize=12)\n",
    "        axt.set_title(label[i],fontsize=14)\n",
    "    \n",
    "\n",
    "#plt.savefig('Figures/Res_Ascaso_z_1.png', format='png')\n",
    "\n"
   ]
  },
  {
   "cell_type": "code",
   "execution_count": null,
   "id": "c6949fa1-f88d-4463-aff4-3b4aa1ac334e",
   "metadata": {
    "tags": []
   },
   "outputs": [],
   "source": [
    "#Resíduos binnados: Ext\n",
    "\n",
    "#lnM - Parte1\n",
    "\n",
    "fig = plt.figure(figsize=(20,150))\n",
    "plt.subplots_adjust(wspace=0.5, \n",
    "                    hspace=1.5)\n",
    "\n",
    "\n",
    "for i in range(len(fit_results_ext)): \n",
    "    \n",
    "        t=i+1\n",
    "\n",
    "        axt = fig.add_subplot(70,5,t)\n",
    "\n",
    "\n",
    "        axt.scatter(fit_results_ext[i][3], fit_results_ext[i][0], c=\"skyblue\")\n",
    "        axt.set_xlabel(\"$\\ln M$\", fontsize=12)\n",
    "        axt.set_ylabel(\"Resíduos:\\nExtended\", fontsize=12)\n",
    "        axt.set_title(label[i],fontsize=14)\n",
    "    \n",
    "\n",
    "#plt.savefig('Figures/Res_Extended_lnM_1.png', format='png')\n",
    "\n",
    "# z\n",
    "\n",
    "fig = plt.figure(figsize=(20,150))\n",
    "plt.subplots_adjust(wspace=0.5, \n",
    "                    hspace=1.5)\n",
    "\n",
    "\n",
    "for i in range(70): \n",
    "    \n",
    "        t=i+1\n",
    "\n",
    "        axt = fig.add_subplot(70,5,t)\n",
    "\n",
    "\n",
    "        axt.scatter(fit_results_ext[i][2], fit_results_ext[i][0], c=\"skyblue\")\n",
    "        axt.set_xlabel(\"$z$\", fontsize=12)\n",
    "        axt.set_ylabel(\"Resíduos:\\nExtended\", fontsize=12)\n",
    "        axt.set_title(label[i],fontsize=14)\n",
    "    \n",
    "\n",
    "#plt.savefig('Figures/Res_Extended_z_1.png', format='png')\n",
    "\n"
   ]
  },
  {
   "cell_type": "code",
   "execution_count": null,
   "id": "fb02e4fe-642e-4b44-a7bb-0eaffa6cba97",
   "metadata": {
    "tags": []
   },
   "outputs": [],
   "source": [
    "#Ext\n",
    "res_ext_m = [i for i, j, k, l, m, n in fit_results_ext]\n",
    "res_ascaso_m = [i for i, j, k, l, m, n in fit_results_ascaso]\n",
    "    \n",
    "fig, axs = plt.subplots(nrows=28, ncols=10,figsize=(23,50))\n",
    "\n",
    "\n",
    "for res_ext, ax, i in zip(res_ext_m, axs.flat, range(len(res_ext_m))):\n",
    "    \n",
    "    points = np.linspace(stats.norm.ppf(0.01,loc=np.mean(res_ext),scale=np.std(res_ext)),\n",
    "                 stats.norm.ppf(0.9999,loc=np.mean(res_ext),scale=np.std(res_ext)),100)\n",
    "    \n",
    "    \n",
    "    ax.hist(res_ext, bins=20, density=True, color='skyblue')\n",
    "    ax.plot(points, stats.norm.pdf(points, np.mean(res_ext), np.std(res_ext)), color='black')\n",
    "\n",
    "    ax.tick_params(axis='x', labelrotation = 45)\n",
    "    ax.set_title(label[i],fontsize=12)\n",
    "    \n",
    "fig.tight_layout()\n",
    "#plt.savefig('Figures/Res_Extended_hist.png', format='png')\n",
    "\n",
    "\n",
    "#Ascaso\n",
    "fig, axs = plt.subplots(nrows=28, ncols=10,figsize=(23,50))\n",
    "\n",
    "\n",
    "for res_asc, ax, i in zip(res_ascaso_m, axs.flat, range(len(res_ext_m))):\n",
    "    \n",
    "    points = np.linspace(stats.norm.ppf(0.01,loc=np.mean(res_asc),scale=np.std(res_asc)),\n",
    "                 stats.norm.ppf(0.9999,loc=np.mean(res_asc),scale=np.std(res_asc)),100)\n",
    "    \n",
    "    \n",
    "    ax.hist(res_asc, bins=20, density=True, color='salmon')\n",
    "    ax.plot(points, stats.norm.pdf(points, np.mean(res_asc), np.std(res_asc)), color='black')\n",
    "\n",
    "    ax.tick_params(axis='x', labelrotation = 45)\n",
    "    ax.set_title(label[i],fontsize=12)\n",
    "fig.tight_layout()\n",
    "#plt.savefig('Figures/Res_Ascaso_hist.png', format='png')\n"
   ]
  },
  {
   "cell_type": "code",
   "execution_count": null,
   "id": "f36c23cd-3259-4c08-b484-2e23dc6d16bb",
   "metadata": {
    "tags": []
   },
   "outputs": [],
   "source": [
    "#fig, axs = plt.subplots(nrows=45, ncols=5, figsize=(12,70))\n",
    "\n",
    "# for res_ext, ax in zip(res_ascaso_m, axs.flat):\n",
    "    \n",
    "#     points = np.linspace(stats.norm.ppf(0.01,loc=np.mean(res_ext),scale=np.std(res_ext)),\n",
    "#                  stats.norm.ppf(0.9999,loc=np.mean(res_ext),scale=np.std(res_ext)),100)\n",
    "    \n",
    "#     ax.hist(res_ext, bins=20, density=True)\n",
    "#     ax.plot(points, stats.norm.pdf(points, np.mean(res_ext), np.std(res_ext)), color='r')\n",
    "#     ax.tick_params(axis='x', labelrotation = 45)\n",
    "# fig.tight_layout()\n",
    "\n",
    "# plt.show()\n"
   ]
  },
  {
   "cell_type": "markdown",
   "id": "6491bdb6-a1a9-43e2-8994-4f4f6be2b07b",
   "metadata": {
    "jp-MarkdownHeadingCollapsed": true,
    "tags": []
   },
   "source": [
    "# Normality test"
   ]
  },
  {
   "cell_type": "code",
   "execution_count": null,
   "id": "b5a931f8-6b31-4264-950e-94e9711cdf60",
   "metadata": {
    "tags": []
   },
   "outputs": [],
   "source": [
    "p_value_res_SW=[]\n",
    "p_value_res_KS=[]\n",
    "\n",
    "for res_i in res_ascaso_m:\n",
    "    \n",
    "    if len(res_i) < 5:\n",
    "        pass\n",
    "    \n",
    "    elif len(res_i) > 50:\n",
    "        pvalue=stats.kstest(res_i, stats.norm.cdf, args=(np.mean(res_i), np.std(res_i))).pvalue\n",
    "        p_value_res_KS.append(pvalue)\n",
    "        \n",
    "    else:\n",
    "        pvalue=stats.shapiro(res_i).pvalue\n",
    "        p_value_res_SW.append(pvalue)\n",
    "\n",
    "porc_SW = len([p for p in p_value_res_SW if p > 0.05]) / len(p_value_res_SW)   * 100\n",
    "porc_KS = len([p for p in p_value_res_KS if p > 0.05]) / len(p_value_res_KS)   * 100\n",
    "\n",
    "\n",
    "print(f\"Ascaso bins (> 5 elements) - Normality tests: \\nKS-Test:{porc_KS:.2f}% \\nSW-Test:{porc_SW:.2f}%\")"
   ]
  },
  {
   "cell_type": "code",
   "execution_count": null,
   "id": "ec3f67aa-6997-41a0-bec7-3ecef7b6a1a1",
   "metadata": {
    "tags": []
   },
   "outputs": [],
   "source": [
    "p_value_ext_SW=[]\n",
    "p_value_ext_KS=[]\n",
    "\n",
    "for res_i in res_ext_m:\n",
    "    \n",
    "    if len(res_i) < 5:\n",
    "        pass\n",
    "    \n",
    "    elif len(res_i) > 50:\n",
    "        pvalue=stats.kstest(res_i, stats.norm.cdf, args=(np.mean(res_i), np.std(res_i))).pvalue\n",
    "        p_value_ext_KS.append(pvalue)\n",
    "        \n",
    "    else:\n",
    "        pvalue=stats.shapiro(res_i).pvalue\n",
    "        p_value_ext_SW.append(pvalue)\n",
    "\n",
    "porc_SW_ext = len([p for p in p_value_ext_SW if p > 0.05]) / len(p_value_ext_SW)   * 100\n",
    "porc_KS_ext = len([p for p in p_value_ext_KS if p > 0.05]) / len(p_value_ext_KS)   * 100\n",
    "\n",
    "print(f\"Et bins (> 5 elements) - Normality tests: \\nKS-Test:{porc_KS_ext:.2f}% \\nSW-Test:{porc_SW_ext:.2f}%\")"
   ]
  },
  {
   "cell_type": "markdown",
   "id": "5d6e7a89-acd3-436b-b565-e619ae8aba8e",
   "metadata": {
    "tags": []
   },
   "source": [
    "# Mean plots"
   ]
  },
  {
   "cell_type": "markdown",
   "id": "788c57b7-1677-44dc-994e-3004f13e7d10",
   "metadata": {
    "tags": []
   },
   "source": [
    "## Extended - complete data"
   ]
  },
  {
   "cell_type": "code",
   "execution_count": 8,
   "id": "49ce6477-a61c-40ac-b79a-a10187005761",
   "metadata": {
    "tags": []
   },
   "outputs": [],
   "source": [
    "# Modelo de Ascaso tradicional\n",
    "\n",
    "dt_halos = Table(DC2_halos_m200c[1].data)\n",
    "\n",
    "lnM = np.sort(np.log(dt_halos[\"m200c\"]))  # ln(mass)\n",
    "z = dt_halos[\"redshift_true\"]  # redshift\n",
    "lnR = np.log(dt_halos[\"richness\"])  # ln(richness)\n",
    "\n",
    "#Fit:\n",
    "    \n",
    "rmdt = create_richness_mass_calib(dt_halos)\n",
    "rich_ext = Nc.ClusterMassLnrichExt()\n",
    "\n",
    "rich_ext.param_set_by_name(\"mu\", 3.95849990149314)\n",
    "rich_ext.param_set_by_name(\"muM1\", 0.834834799745832)\n",
    "rich_ext.param_set_by_name(\"muZ1\", 0.695004688438083)\n",
    "rich_ext.param_set_by_name(\"muM2\", 0.0421606025663114)\n",
    "rich_ext.param_set_by_name(\"muZ2\", -0.051715032078255)\n",
    "rich_ext.param_set_by_name(\"muMZ\", 0.0402769634041103)\n",
    "        \n",
    "\n",
    "rich_ext.param_set_by_name(\"sigma0\", 0.306313313048325)\n",
    "rich_ext.param_set_by_name(\"sigmaM1\", 0.00737198200713169)\n",
    "rich_ext.param_set_by_name(\"sigmaZ1\", -0.0212988049057424)\n",
    "rich_ext.param_set_by_name(\"sigmaM2\", 0.015610993686449)\n",
    "rich_ext.param_set_by_name(\"sigmaZ2\", 0.00480098229907118)\n",
    "rich_ext.param_set_by_name(\"sigmaMZ\", 0.0111750633563743)\n",
    "\n",
    "rich_ext.param_set_by_name(\"cut\", 1e15)\n",
    "rich_ext.param_set_by_name(\"cutM1\", 0)\n",
    "rich_ext.param_set_by_name(\"cutZ1\", 0)\n",
    "  \n",
    "lnR_mean = np.array( [rich_ext.get_mean_richness(lnM[i], z[i]) for i in range(len(dt_halos))])\n",
    "\n",
    "abs_err, lnR_mean_extended, z_sigma_cut_extended, lnM_sigma_cut_extended, lnr_cut, lnR_ext = compute_res(rich_ext)"
   ]
  },
  {
   "cell_type": "code",
   "execution_count": 9,
   "id": "c9d43628-7aab-44b7-b202-892fdfc7f85f",
   "metadata": {},
   "outputs": [
    {
     "data": {
      "text/plain": [
       "<matplotlib.colorbar.Colorbar at 0x7fc689f9ef50>"
      ]
     },
     "execution_count": 9,
     "metadata": {},
     "output_type": "execute_result"
    },
    {
     "data": {
      "image/png": "[encoded data removed]",
      "text/plain": [
       "<Figure size 1400x700 with 4 Axes>"
      ]
     },
     "metadata": {},
     "output_type": "display_data"
    }
   ],
   "source": [
    "fig = plt.figure(figsize=(14,7))\n",
    "\n",
    "ax1 = fig.add_subplot(2,2,1, projection='3d')\n",
    "ax2 = fig.add_subplot(2,2,2)\n",
    "\n",
    "xs = z_sigma_cut_extended\n",
    "ys = lnM_sigma_cut_extended\n",
    "zs = lnR_mean_extended\n",
    "\n",
    "p1=ax1.scatter(xs, ys, zs, c=zs)\n",
    "\n",
    "ax1.set_xlabel('bin_z')\n",
    "ax1.set_ylabel('bin_lnM')\n",
    "ax1.set_zlabel('mu0')\n",
    "\n",
    "fig.colorbar(p1, ax=ax1, label='mu0')\n",
    "\n",
    "p2=ax2.scatter(z_sigma_cut_extended, lnR_mean_extended, c=lnM_sigma_cut_extended, cmap='viridis') #extended tradicional\n",
    "ax2.set_xlabel('redshift z')\n",
    "ax2.set_ylabel('mu0')\n",
    "\n",
    "fig.colorbar(p2, ax=ax2, label='lnM')\n"
   ]
  },
  {
   "cell_type": "markdown",
   "id": "011e626a-4feb-4fdf-93bc-aa937f6f2f61",
   "metadata": {},
   "source": [
    "## Ascaso - <lnR|M,z> = \\mu_0 - Binned data"
   ]
  },
  {
   "cell_type": "code",
   "execution_count": null,
   "id": "23bd8691-701f-4ac8-88e2-7dfbc3da03ee",
   "metadata": {
    "tags": []
   },
   "outputs": [],
   "source": [
    "# Modelo de Ascaso para <lnR|M,z> = \\mu_0 e dados binados\n",
    "\n",
    "mu0_ascaso = [j for i, j, k, l, m, n in fit_results_ascaso if len(j)>0]\n",
    "\n",
    "mean_z_ascaso = [k for i, j, k, l, m, n in fit_results_ascaso if len(k) > 0]\n",
    "\n",
    "mean_lnM_ascaso = [l for i, j, k, l, m, n in fit_results_ascaso if len(l) > 0]\n",
    "\n",
    "mu0 = np.concatenate(mu0_ascaso,  axis=None)\n",
    "m_z = np.concatenate(mean_z_ascaso,  axis=None)\n",
    "m_lnM = np.concatenate(mean_lnM_ascaso,  axis=None)"
   ]
  },
  {
   "cell_type": "code",
   "execution_count": null,
   "id": "c4f2fbae-442f-46cb-9971-ed721c8b0e59",
   "metadata": {
    "tags": []
   },
   "outputs": [],
   "source": [
    "fig = plt.figure(figsize=(16,4))\n",
    "\n",
    "ax1 = fig.add_subplot(1,3,1, projection='3d')\n",
    "ax2 = fig.add_subplot(1,3,2)\n",
    "ax3 = fig.add_subplot(1,3,3)\n",
    "\n",
    "xs = m_z\n",
    "ys = m_lnM\n",
    "zs = mu0\n",
    "\n",
    "p3 =ax1.scatter(xs, ys, zs, c=zs, cmap='RdYlBu')\n",
    "ax1.set_xlabel('bin_z')\n",
    "ax1.set_ylabel('bin_lnM')\n",
    "#ax1.set_zlabel('mu0')\n",
    "fig.colorbar(p3, ax=ax1, label='mu0')\n",
    "\n",
    "p4 = ax2.scatter(m_lnM, mu0 , c= m_z, cmap='RdYlBu')\n",
    "ax2.set_xlabel('lnM')\n",
    "ax2.set_ylabel('mu0')\n",
    "fig.colorbar(p4, ax=ax2, label='redshift z')\n",
    "\n",
    "p5 = ax3.scatter(m_z, mu0 , c=m_lnM, cmap='RdYlBu') #Ascaso <lnR|M,z> = \\mu_0, dados binados\n",
    "ax3.set_xlabel('redshift z')\n",
    "ax3.set_ylabel('mu0')\n",
    "fig.colorbar(p5, ax=ax3, label='lnM')\n",
    "\n",
    "plt.show()"
   ]
  },
  {
   "cell_type": "markdown",
   "id": "b03997a2-8c36-4593-bbdf-e2f9e51f9b94",
   "metadata": {},
   "source": [
    "## Extended z2 model - Binned data"
   ]
  },
  {
   "cell_type": "code",
   "execution_count": null,
   "id": "97dbffca-0b4b-43c4-8902-59e78aed97b3",
   "metadata": {
    "tags": []
   },
   "outputs": [],
   "source": [
    "fig = plt.figure(figsize=(16,4))\n",
    "\n",
    "ax1 = fig.add_subplot(1,3,1, projection='3d')\n",
    "ax2 = fig.add_subplot(1,3,2)\n",
    "ax3 = fig.add_subplot(1,3,3)\n",
    "\n",
    "mean_ext_z2 = np.concatenate([j for i, j, k, l, m, n in fit_results_ext if len(j)>0], axis=None)\n",
    "z_ext_z2 = np.concatenate([k for i, j, k, l, m, n in fit_results_ext if len(k) > 0], axis=None)\n",
    "lnM_ext_z2 = np.concatenate([l for i, j, k, l, m, n in fit_results_ext if len(l) > 0], axis=None)\n",
    "\n",
    "\n",
    "p3 =ax1.scatter(z_ext_z2, lnM_ext_z2, mean_ext_z2, c = mean_ext_z2, cmap='plasma', alpha=1.0)\n",
    "ax1.set_xlabel('z')\n",
    "ax1.set_ylabel('lnM')\n",
    "#ax1.set_zlabel('lnR_mean')\n",
    "fig.colorbar(p3, ax=ax1, label=' <lnR|M,z>')\n",
    "\n",
    "p4 = ax2.scatter(z_ext_z2, mean_ext_z2 , c=lnM_ext_z2, cmap='plasma')\n",
    "ax2.set_xlabel('z')\n",
    "ax2.set_ylabel('<lnR|M,z>')\n",
    "fig.colorbar(p4, ax=ax2, label='lnM')\n",
    "\n",
    "p5 = ax3.scatter(lnM_ext_z2, mean_ext_z2 , c=z_ext_z2, cmap='plasma') \n",
    "ax3.set_xlabel('lnM')\n",
    "ax3.set_ylabel('<lnR|M,z>')\n",
    "fig.colorbar(p5, ax=ax3, label='redshift z')\n",
    "\n",
    "plt.show()"
   ]
  },
  {
   "cell_type": "markdown",
   "id": "d3dd289b-db61-4f1d-8cf5-fa8faf91afa2",
   "metadata": {
    "tags": []
   },
   "source": [
    "## Models comparison"
   ]
  },
  {
   "cell_type": "code",
   "execution_count": null,
   "id": "789900ba-c649-4128-9d43-fd42cc11c171",
   "metadata": {
    "tags": []
   },
   "outputs": [],
   "source": [
    "fig = plt.figure(figsize=(12,4))\n",
    "\n",
    "ax1 = fig.add_subplot(1,2,1)\n",
    "ax2 = fig.add_subplot(1,2,2)\n",
    "\n",
    "\n",
    "ax1.scatter(z_ext_z2, mean_ext_z2, c='k') #Ext z2\n",
    "p6 = ax1.scatter(m_z, mu0 , c=m_lnM, cmap='RdYlBu') #Ascaso <lnR|M,z> = \\mu_0, dados binados\n",
    "ax1.set_xlabel('z')\n",
    "ax1.set_ylabel('<lnR|M,z>')\n",
    "ax1.set_title('Binned Ascaso')\n",
    "fig.colorbar(p6, ax=ax1, label='lnM')\n",
    "\n",
    "p7 = ax2.scatter(z_ext_z2, mean_ext_z2, c=lnM_ext_z2, cmap='viridis')\n",
    "ax2.set_xlabel('z')\n",
    "ax2.set_ylabel('<lnR|M,z>')\n",
    "ax2.set_title('Unbinned Ascaso')\n",
    "fig.colorbar(p7, ax=ax2, label='lnM')\n",
    "\n",
    "plt.show()"
   ]
  },
  {
   "cell_type": "code",
   "execution_count": null,
   "id": "35e3c3ac-571d-41af-a22a-f38b5af02c01",
   "metadata": {},
   "outputs": [],
   "source": []
  }
 ],
 "metadata": {
  "kernelspec": {
   "display_name": "numcosmo",
   "language": "python",
   "name": "numcosmo"
  },
  "language_info": {
   "codemirror_mode": {
    "name": "ipython",
    "version": 3
   },
   "file_extension": ".py",
   "mimetype": "text/x-python",
   "name": "python",
   "nbconvert_exporter": "python",
   "pygments_lexer": "ipython3",
   "version": "3.11.5"
  }
 },
 "nbformat": 4,
 "nbformat_minor": 5
}
