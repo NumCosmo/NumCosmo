{
 "cells": [
  {
   "cell_type": "code",
   "execution_count": 1,
   "id": "a7f9b466-a941-4db1-b09f-e69d9320f0c3",
   "metadata": {
    "tags": []
   },
   "outputs": [],
   "source": [
    "from numcosmo_py import Ncm, Nc, GObject\n",
    "\n",
    "import numpy as np\n",
    "import math\n",
    "import sys\n",
    "from astropy.io import fits\n",
    "from astropy.table import Table\n",
    "import matplotlib.pyplot as plt\n",
    "\n",
    "sys.path.insert(0, \"/global/homes/c/cinlima/NumCosmo/notebooks/richness_proxy/\")\n",
    "sys.path.insert(0, \"/global/homes/c/cinlima/NumCosmo/notebooks/richness_proxy/CosmoDC2+RedMaPPer\")\n",
    "\n",
    "sys.path.insert(0, \"/global/homes/c/cinlima/gcr-catalogs\")\n",
    "import GCRCatalogs\n",
    "\n",
    "sys.path.insert(0, \"global/homes/c/cinlima/clevar/clevar\")\n",
    "\n",
    "#Put nerc if using nersc\n",
    "GCRCatalogs.set_root_dir_by_site(\"nersc\")\n",
    "\n",
    "# from clevar import ClCatalog, MemCatalog\n",
    "# from clevar.match import MembershipMatch, get_matched_pairs\n",
    "# from clevar.match import output_matched_catalog\n",
    "# from clevar.match_metrics.scaling import ClCatalogFuncs as s_cf\n",
    "\n",
    "# import clevar\n",
    "\n",
    "from richness_mass_calib import create_richness_mass_calib"
   ]
  },
  {
   "cell_type": "code",
   "execution_count": 2,
   "id": "cf64d227-9066-4922-8e94-fd12d0260780",
   "metadata": {
    "tags": []
   },
   "outputs": [
    {
     "name": "stdout",
     "output_type": "stream",
     "text": [
      "GetDist Version: 1.4.7, Matplotlib version: 3.9.1\n"
     ]
    }
   ],
   "source": [
    "from getdist import plots\n",
    "from getdist.mcsamples import  MCSamples\n",
    "import getdist\n",
    "print('GetDist Version: %s, Matplotlib version: %s'%(getdist.__version__, plt.matplotlib.__version__))\n",
    "\n",
    "import pygtc\n",
    "import pandas as pd\n",
    "from IPython.display import display, Math\n"
   ]
  },
  {
   "cell_type": "code",
   "execution_count": 3,
   "id": "911b3b29-e5f3-4c52-ac5d-771f6ad0edb6",
   "metadata": {
    "tags": []
   },
   "outputs": [],
   "source": [
    "# #Settings\n",
    "Ncm.cfg_init()\n",
    "Ncm.cfg_set_log_handler(lambda msg: sys.stdout.write(msg) and sys.stdout.flush())"
   ]
  },
  {
   "cell_type": "code",
   "execution_count": 4,
   "id": "9108dcac-8604-4c15-9ccb-cb95ebbffbdc",
   "metadata": {
    "tags": []
   },
   "outputs": [],
   "source": [
    "# # Data\n",
    "# DC2_halos_m200c = fits.open(\n",
    "#     \"/global/cfs/projectdirs/lsst/groups/CL/cosmoDC2_v1.1.4/extragal/full/halos/halos_m200c_13.0.fits\"\n",
    "# )\n",
    "# dt_halos = Table(DC2_halos_m200c[1].data)\n",
    "# # dt_halos['redshift_true', 'mass_fof', 'm200c', 'richness']\n"
   ]
  },
  {
   "cell_type": "code",
   "execution_count": 5,
   "id": "d5928494-5fe6-4e62-99eb-90ec9f3c3525",
   "metadata": {
    "tags": []
   },
   "outputs": [],
   "source": [
    "# min_richness = 5\n",
    "# min_halo_mass = 1e13 #Msun\n",
    "\n",
    "# #Halos/Clusters\n",
    "# #SkySim + RedMaPPer: 'skysim5000_v1.1.1_redmapper_v0.8.5'\n",
    "# RM_cat = ClCatalog.read('/global/homes/c/cinlima/NumCosmo/notebooks/richness_proxy/SSData/RM_cat_richness_min_'+str(min_richness)+'.fits', name='RM_cat', full=True, tags={'mass':'richness'})\n",
    "\n",
    "# #SkySim: 'skysim5000_v1.1.1_image'\n",
    "# halo_cat = ClCatalog.read('/global/homes/c/cinlima/NumCosmo/notebooks/richness_proxy/SSData/halo_cat_mass_min_'+f\"{min_halo_mass:1.2e}\"+'.fits', name='halo_cat', full=True, tags={'mass':'mass_fof'})\n",
    "\n",
    "# #Members\n",
    "# RM_cat.read_members('/global/homes/c/cinlima/NumCosmo/notebooks/richness_proxy/SSData/RM_cat_richness_min_'+str(min_richness)+'_members.fits',  full=True)\n",
    "# halo_cat.read_members('/global/homes/c/cinlima/NumCosmo/notebooks/richness_proxy/SSData/halo_cat_mass_min_'+f\"{min_halo_mass:1.2e}\"+'_members.fits', full=True)\n",
    "\n",
    "# #Match catalogs\n",
    "# mt = MembershipMatch()\n",
    "\n",
    "# mt.load_matches(RM_cat, halo_cat, out_dir='/global/homes/c/cinlima/NumCosmo/notebooks/richness_proxy/SSData/SS_RM_match_cross_membership')\n",
    "\n",
    "# RM_cat_bij, halo_cat_bij = get_matched_pairs(RM_cat, halo_cat, 'cross')\n",
    "\n",
    "# clusters_dt = Table([halo_cat_bij['mass_fof'], RM_cat_bij['richness'], RM_cat_bij['z']], names=('m200c', 'richness', 'redshift_true'))\n",
    "\n",
    "# dt_halos = clusters_dt\n",
    "\n",
    "test_matchdata = pd.read_csv('/global/homes/c/cinlima/MatchingCatalogs/match_catalog.csv',  sep = ';')\n",
    "\n",
    "rich_data = test_matchdata[\"richness\"]\n",
    "z_data = test_matchdata[\"redshift_x\"]\n",
    "mass_data = test_matchdata[\"halo_mass\"]\n",
    "\n",
    "test_dt = Table([mass_data, rich_data, z_data], names=('m200c', 'richness', 'redshift_true'))\n",
    "test_dt = test_dt[test_dt['m200c'] > 1.0e13]\n",
    "dt_halos = test_dt"
   ]
  },
  {
   "cell_type": "code",
   "execution_count": null,
   "id": "e341462c-49c8-42a8-a3d4-20c282cef40f",
   "metadata": {
    "scrolled": true,
    "tags": []
   },
   "outputs": [
    {
     "name": "stdout",
     "output_type": "stream",
     "text": [
      "#----------------------------------------------------------------------------------\n",
      "# Data used:\n",
      "#   - NcDataClusterMassRich\n",
      "#----------------------------------------------------------------------------------\n",
      "# Model[07000]:\n",
      "#   - NcClusterMass : LnrichExt Ln-normal richness distribution\n",
      "#----------------------------------------------------------------------------------\n",
      "# Model parameters\n",
      "#   -      mu[00]:  3.19                [FREE]\n",
      "#   -    muM1[01]:  0.868588963806504   [FREE]\n",
      "#   -    muZ1[02]: -0.304006137332276   [FREE]\n",
      "#   -    muM2[03]:  0                   [FREE]\n",
      "#   -    muZ2[04]:  0                   [FREE]\n",
      "#   -    muMZ[05]:  0                   [FREE]\n",
      "#   -  sigma0[06]:  0.33                [FREE]\n",
      "#   - sigmaM1[07]: -0.0347435585522601  [FREE]\n",
      "#   - sigmaZ1[08]:  0                   [FREE]\n",
      "#   - sigmaM2[09]:  0                   [FREE]\n",
      "#   - sigmaZ2[10]:  0                   [FREE]\n",
      "#   - sigmaMZ[11]:  0                   [FREE]\n",
      "#   -      A0[12]:  0                   [FIXED]\n",
      "#   -     cut[13]:  1e+15               [FIXED]\n",
      "#   -   cutM1[14]:  0                   [FIXED]\n",
      "#   -   cutZ1[15]:  0                   [FIXED]\n",
      "#----------------------------------------------------------------------------------\n",
      "# Model fitting. Interating using:\n",
      "#  - solver:            NLOpt:ln-neldermead\n",
      "#  - differentiation:   Numerical differentiantion (central)\n",
      "#............................................................................................................................................................................................................................................................\n",
      "#  Minimum found with precision: |df|/f =  1.00000e-08 and |dx| =  1.00000e-05\n",
      "#  Elapsed time: 00 days, 00:00:08.3540970\n",
      "#  iteration            [002430]\n",
      "#  function evaluations [002432]\n",
      "#  gradient evaluations [000000]\n",
      "#  degrees of freedom   [039588]\n",
      "#  m2lnL     =     13609.9280591278 (     13609.928 )\n",
      "#  Fit parameters:\n",
      "#     3.97980595861949       1.22649544842165      -1.00848170323517       0.180551721438294     -0.601100274560499     -0.401102110376541      0.279137691162695     -0.445434721880792     -0.0192405472933142    -0.0434960583507681    -0.373182593057308      0.0576545617730758    \n",
      "#----------------------------------------------------------------------------------\n",
      "# Restarting:              yes\n",
      "#  - absolute improvement: 134164.691231639      \n",
      "#  - relative improvement: 0.907900773999976     \n",
      "#  - m2lnL_0  :            147774.619290766      \n",
      "#  - m2lnL_1  :            13609.9280591278      \n",
      "#----------------------------------------------------------------------------------\n",
      "# Model fitting. Interating using:\n",
      "#  - solver:            NLOpt:ln-neldermead\n",
      "#  - differentiation:   Numerical differentiantion (central)\n",
      "#......................................................"
     ]
    }
   ],
   "source": [
    "ascaso = Nc.ClusterMassAscaso()\n",
    "fixed_parameters_ascaso = [6] #fixing cut parameter\n",
    "\n",
    "ascaso.param_set_by_name(\"cut\", 1e15) #Set cut parameter value \n",
    "mset = Ncm.MSet()\n",
    "\n",
    "lnrich_ext = Nc.ClusterMassLnrichExt()\n",
    "\n",
    "def catalog_fit(dt_halos, model):\n",
    "    rmdata = create_richness_mass_calib(dt_halos)\n",
    "    dset = Ncm.Dataset.new()\n",
    "    dset.append_data(rmdata)\n",
    "\n",
    "    lh = Ncm.Likelihood.new(dset)\n",
    "    \n",
    "    if model:     \n",
    "        mset.set(ascaso)\n",
    "        rmdata.m2lnL_val(mset)  \n",
    "        mset.param_set_all_ftype(Ncm.ParamType.FREE) #All parameters free\n",
    "\n",
    "        #All parameters free except cut parameters:\n",
    "        for par in fixed_parameters_ascaso:\n",
    "            mset.param_set_ftype(7000, par, Ncm.ParamType.FIXED)\n",
    "\n",
    "        mset.prepare_fparam_map()\n",
    "\n",
    "    else:\n",
    "        fixed_parameters_lnrich_ext = [12, 13, 14, 15] #fixing cut parameters\n",
    "\n",
    "        lnrich_ext.param_set_by_name(\"cut\", 1e15) #Set cut parameter value \n",
    "        mset.set(lnrich_ext)\n",
    "        rmdata.m2lnL_val(mset)  \n",
    "        mset.param_set_all_ftype(Ncm.ParamType.FREE) #All parameters free\n",
    "\n",
    "        #All parameters free except cut parameters:\n",
    "        for par in fixed_parameters_lnrich_ext:\n",
    "            mset.param_set_ftype(7000, par, Ncm.ParamType.FIXED)\n",
    "\n",
    "        mset.prepare_fparam_map()\n",
    "\n",
    "    fit = Ncm.Fit.factory( Ncm.FitType.NLOPT, \"ln-neldermead\", lh, mset, Ncm.FitGradType.NUMDIFF_CENTRAL )\n",
    "    fit.log_info()\n",
    "    fit.run_restart(Ncm.FitRunMsgs.SIMPLE, 1.0e-3, 0.0, None, None)\n",
    "    fit.log_info()\n",
    "        \n",
    "    return fit\n",
    "\n",
    "fit = catalog_fit(dt_halos, model=False)"
   ]
  },
  {
   "cell_type": "code",
   "execution_count": null,
   "id": "87d236de-17d1-4608-8a69-6b695bde425c",
   "metadata": {
    "tags": []
   },
   "outputs": [],
   "source": [
    "fit.log_info()"
   ]
  },
  {
   "cell_type": "code",
   "execution_count": null,
   "id": "d6975b06-c85a-47a0-ace6-68f3820fbf68",
   "metadata": {
    "scrolled": true,
    "tags": []
   },
   "outputs": [],
   "source": [
    "nwalkers = 1200\n",
    "\n",
    "Ncm.func_eval_set_max_threads(2)\n",
    "Ncm.func_eval_log_pool_stats()\n",
    "\n",
    "init_sampler = Ncm.MSetTransKernGauss.new(0)\n",
    "init_sampler.set_mset(mset)\n",
    "init_sampler.set_prior_from_mset()\n",
    "init_sampler.set_cov_from_rescale(1.0)\n",
    "\n",
    "apes = Ncm.FitESMCMCWalkerAPES.new(nwalkers, mset.fparams_len())\n",
    "\n",
    "esmcmc = Ncm.FitESMCMC.new(fit, nwalkers, init_sampler, apes, Ncm.FitRunMsgs.FULL)\n",
    "esmcmc.set_nthreads(2)\n",
    "esmcmc.set_data_file(\"Ext1.fits\")\n",
    "\n",
    "esmcmc.start_run()\n",
    "esmcmc.run(800)  \n",
    "esmcmc.end_run()\n",
    "\n",
    "esmcmc.mean_covar()"
   ]
  },
  {
   "cell_type": "code",
   "execution_count": null,
   "id": "62efc45c-0c65-4388-b36c-82112079b9be",
   "metadata": {
    "scrolled": true,
    "tags": []
   },
   "outputs": [],
   "source": [
    "fit = catalog_fit(dt_halos, model=True)"
   ]
  },
  {
   "cell_type": "code",
   "execution_count": null,
   "id": "50c05bc0-e4d8-4b59-b246-96faca99c6db",
   "metadata": {
    "scrolled": true,
    "tags": []
   },
   "outputs": [],
   "source": [
    "nwalkers = 1000\n",
    "\n",
    "Ncm.func_eval_set_max_threads(2)\n",
    "Ncm.func_eval_log_pool_stats()\n",
    "\n",
    "init_sampler = Ncm.MSetTransKernGauss.new(0)\n",
    "init_sampler.set_mset(mset)\n",
    "init_sampler.set_prior_from_mset()\n",
    "init_sampler.set_cov_from_rescale(1.0)\n",
    "\n",
    "apes = Ncm.FitESMCMCWalkerAPES.new(nwalkers, mset.fparams_len())\n",
    "\n",
    "esmcmc = Ncm.FitESMCMC.new(fit, nwalkers, init_sampler, apes, Ncm.FitRunMsgs.FULL)\n",
    "esmcmc.set_nthreads(2)\n",
    "esmcmc.set_data_file(\"Ascaso1.fits\")\n",
    "\n",
    "esmcmc.start_run()\n",
    "esmcmc.run(500)  \n",
    "esmcmc.end_run()\n",
    "\n",
    "esmcmc.mean_covar()\n"
   ]
  },
  {
   "cell_type": "code",
   "execution_count": null,
   "id": "0ff41116-e795-4ad3-ad90-6d923617373d",
   "metadata": {
    "tags": []
   },
   "outputs": [],
   "source": [
    "nwalkers = 1200\n",
    "burnin = 10\n",
    "\n",
    "ntests = 50.0\n",
    "\n",
    "mcat = Ncm.MSetCatalog.new_from_file_ro(\"Ext1.fits\", nwalkers * burnin)\n",
    "\n",
    "mcat.log_current_chain_stats()\n",
    "mcat.calc_max_ess_time(ntests, Ncm.FitRunMsgs.SIMPLE)\n",
    "mcat.calc_heidel_diag(ntests, 0.0, Ncm.FitRunMsgs.SIMPLE)\n",
    "\n",
    "# mcat.log_full_covar()\n",
    "mcat.log_current_stats()\n",
    "\n",
    "be1, post_lnnorm_sd = mcat.get_post_lnnorm()\n",
    "lnevol, glnvol = mcat.get_post_lnvol(0.6827)\n",
    "\n",
    "Ncm.cfg_msg_sepa()\n",
    "print(\n",
    "    \"# Bayesian evidence:                                 % 22.15g +/- % 22.15g\"\n",
    "    % (be1, post_lnnorm_sd)\n",
    ")\n",
    "print(\"# 1 sigma posterior volume:                          % 22.15g\" % lnevol)\n",
    "print(\"# 1 sigma posterior volume (Gaussian approximation): % 22.15g\" % glnvol)"
   ]
  },
  {
   "cell_type": "code",
   "execution_count": 1,
   "id": "b2e999e1-b9f0-4453-982f-e6c55aa3f3fb",
   "metadata": {},
   "outputs": [
    {
     "ename": "NameError",
     "evalue": "name 'Ncm' is not defined",
     "output_type": "error",
     "traceback": [
      "\u001b[0;31m---------------------------------------------------------------------------\u001b[0m",
      "\u001b[0;31mNameError\u001b[0m                                 Traceback (most recent call last)",
      "Cell \u001b[0;32mIn[1], line 6\u001b[0m\n\u001b[1;32m      2\u001b[0m burnin \u001b[38;5;241m=\u001b[39m \u001b[38;5;241m10\u001b[39m\n\u001b[1;32m      4\u001b[0m ntests \u001b[38;5;241m=\u001b[39m \u001b[38;5;241m100.0\u001b[39m\n\u001b[0;32m----> 6\u001b[0m mcat \u001b[38;5;241m=\u001b[39m \u001b[43mNcm\u001b[49m\u001b[38;5;241m.\u001b[39mMSetCatalog\u001b[38;5;241m.\u001b[39mnew_from_file_ro(\u001b[38;5;124m\"\u001b[39m\u001b[38;5;124mAscaso1.fits\u001b[39m\u001b[38;5;124m\"\u001b[39m, nwalkers \u001b[38;5;241m*\u001b[39m burnin)\n\u001b[1;32m      8\u001b[0m mcat\u001b[38;5;241m.\u001b[39mlog_current_chain_stats()\n\u001b[1;32m      9\u001b[0m mcat\u001b[38;5;241m.\u001b[39mcalc_max_ess_time(ntests, Ncm\u001b[38;5;241m.\u001b[39mFitRunMsgs\u001b[38;5;241m.\u001b[39mSIMPLE)\n",
      "\u001b[0;31mNameError\u001b[0m: name 'Ncm' is not defined"
     ]
    }
   ],
   "source": [
    "nwalkers = 1000\n",
    "burnin = 10\n",
    "\n",
    "ntests = 100.0\n",
    "\n",
    "mcat = Ncm.MSetCatalog.new_from_file_ro(\"Ascaso1.fits\", nwalkers * burnin)\n",
    "\n",
    "mcat.log_current_chain_stats()\n",
    "mcat.calc_max_ess_time(ntests, Ncm.FitRunMsgs.SIMPLE)\n",
    "mcat.calc_heidel_diag(ntests, 0.0, Ncm.FitRunMsgs.SIMPLE)\n",
    "\n",
    "# mset.pretty_log()\n",
    "# mcat.log_full_covar()\n",
    "mcat.log_current_stats()\n",
    "\n",
    "be2, post_lnnorm_sd = mcat.get_post_lnnorm()\n",
    "lnevol, glnvol = mcat.get_post_lnvol(0.6827)\n",
    "\n",
    "Ncm.cfg_msg_sepa()\n",
    "print(\n",
    "    \"# Bayesian evidence:                                 % 22.15g +/- % 22.15g\"\n",
    "    % (be2, post_lnnorm_sd)\n",
    ")\n",
    "print(\"# 1 sigma posterior volume:                          % 22.15g\" % lnevol)\n",
    "print(\"# 1 sigma posterior volume (Gaussian approximation): % 22.15g\" % glnvol)"
   ]
  },
  {
   "cell_type": "code",
   "execution_count": null,
   "id": "99b92daa-a7e5-4c79-b2f4-dcf0ed0d5d0c",
   "metadata": {
    "tags": []
   },
   "outputs": [],
   "source": [
    "np.exp(be1 - be2)"
   ]
  },
  {
   "cell_type": "code",
   "execution_count": null,
   "id": "64ecb0dd-c83e-485a-ba1a-506c60aba273",
   "metadata": {
    "tags": []
   },
   "outputs": [],
   "source": [
    "data_fit_full = pd.DataFrame(fits.open(\"Ascaso.fits\")[1].data).iloc[:, 1:7].T\n",
    "data_fit_void = np.array(data_fit_full)\n",
    "data_fit = []\n",
    "for item in data_fit_void:\n",
    "    arr= np.array(item)\n",
    "    data_fit.append(np.asarray(arr.tolist()))\n",
    "\n",
    "names = [\n",
    "    '1',\n",
    "    '2',\n",
    "    '3',\n",
    "    '4',\n",
    "    '5',\n",
    "    '6',\n",
    "]\n",
    "labels=[\"\\mu_{0}\", \"\\mu_{1}\", \"\\mu_{2}\", \"\\sigma_{0}\", \"\\sigma_{1}\", \"\\sigma_{2}\"]\n",
    "settings = {\n",
    "    \"mult_bias_correction_order\": 0,\n",
    "    \"smooth_scale_2D\": 3,\n",
    "    \"smooth_scale_1D\": 3,\n",
    "    \"boundary_correction_order\": 0,\n",
    "}\n",
    "samples1 = MCSamples(samples=data_fit, names=names, labels=labels, settings=settings)\n",
    "samples1.removeBurn(0.3)"
   ]
  },
  {
   "cell_type": "code",
   "execution_count": null,
   "id": "017daad3-2dba-4cd3-846c-ea877de4aff0",
   "metadata": {
    "tags": []
   },
   "outputs": [],
   "source": [
    "# Triangle plot\n",
    "g1 = plots.get_subplot_plotter()\n",
    "\n",
    "g1.settings.legend_fontsize = 18\n",
    "g1.settings.lab_fontsize = 25\n",
    "g1.settings.axes_fontsize = 20\n",
    "\n",
    "\n",
    "g1.triangle_plot(\n",
    "    [samples1],\n",
    "    filled=True,\n",
    "    contour_ls=\"-\",\n",
    "    contour_lws=1,\n",
    "    fontsize=14,\n",
    "    fine_bins=1,\n",
    "    colors=['#a0d995'],\n",
    "    line_args=[{'lw':1.2,'ls':'-', 'color':'#a0d995'}],\n",
    "    legend_labels=[\"Ascaso\"],\n",
    ")\n",
    "\n",
    "plt.show()\n",
    "for i in range(1, 7):\n",
    "    display(Math(samples1.getInlineLatex(str(i),limit=1)))\n",
    "plt.savefig('mcmc3.png')\n",
    "\n"
   ]
  },
  {
   "cell_type": "code",
   "execution_count": null,
   "id": "c9509ffb-59c4-4675-997a-41bcf6995ac3",
   "metadata": {},
   "outputs": [],
   "source": [
    "data_fit_full = pd.DataFrame(fits.open(\"Ext.fits\")[1].data).iloc[:, 1:13].T\n",
    "data_fit_void = np.array(data_fit_full)\n",
    "data_fit = []\n",
    "for item in data_fit_void:\n",
    "    arr= np.array(item)\n",
    "    data_fit.append(np.asarray(arr.tolist()))\n",
    "\n",
    "names = [\n",
    "    '1',\n",
    "    '2',\n",
    "    '3',\n",
    "    '4',\n",
    "    '5',\n",
    "    '6',\n",
    "    '7',\n",
    "    '8',\n",
    "    '9',\n",
    "    '10',\n",
    "    '11',\n",
    "    '12'\n",
    "]\n",
    "labels=[\"\\mu_0\", \"\\mu_{M1}\", \"\\mu_{M2}\", \"\\mu_{Z1}\",\" \\mu_{Z2}\", \"\\mu_{MZ}\", \"\\sigma_0\", \"\\sigma_{M1}\", \"\\sigma_{M2}\", \"\\sigma_{Z1}\", \"\\sigma_{Z2}\", \"\\sigma_{MZ}\" ]\n",
    "settings = {\n",
    "    \"mult_bias_correction_order\": 0,\n",
    "    \"smooth_scale_2D\": 3,\n",
    "    \"smooth_scale_1D\": 3,\n",
    "    \"boundary_correction_order\": 0,\n",
    "}\n",
    "samples2 = MCSamples(samples=data_fit, names=names, labels=labels, settings=settings)\n",
    "samples2.removeBurn(0.3)\n"
   ]
  },
  {
   "cell_type": "code",
   "execution_count": null,
   "id": "c5651a92-67ba-49a8-b351-321cfdc3799c",
   "metadata": {},
   "outputs": [],
   "source": [
    "# Triangle plot\n",
    "g2 = plots.get_subplot_plotter()\n",
    "\n",
    "g2.settings.lab_fontsize = 40\n",
    "g2.settings.legend_fontsize = 40\n",
    "g2.settings.axes_fontsize = 30\n",
    "\n",
    "g2.triangle_plot(\n",
    "    [samples2],\n",
    "    filled=True,\n",
    "    contour_ls=\"-\",\n",
    "    contour_lws=1,\n",
    "    fine_bins=1,\n",
    "    colors=['#b186f1'],\n",
    "    fontsize=70,\n",
    "    line_args=[{'lw':1.2,'ls':'-', 'color':'#b186f1'}],\n",
    "    legend_labels=[\"Estendido\", ],\n",
    ")\n",
    "#plt.savefig('mcmc.png')\n",
    "plt.show()\n"
   ]
  },
  {
   "cell_type": "code",
   "execution_count": null,
   "id": "5ee06f31-668b-435f-989b-753bb5952805",
   "metadata": {},
   "outputs": [],
   "source": [
    "for i in range(1, 14):\n",
    "    display(Math(samples2.getInlineLatex(str(i),limit=1)))\n"
   ]
  },
  {
   "cell_type": "code",
   "execution_count": null,
   "id": "c3f3644a-2e2b-410c-8018-ad5340a8e0ab",
   "metadata": {},
   "outputs": [],
   "source": []
  },
  {
   "cell_type": "code",
   "execution_count": null,
   "id": "1af345be-60f9-44cf-adea-ada703e6eb8e",
   "metadata": {},
   "outputs": [],
   "source": []
  },
  {
   "cell_type": "code",
   "execution_count": null,
   "id": "f85623f9-203e-4ce3-83eb-9b297f807ab9",
   "metadata": {},
   "outputs": [],
   "source": []
  },
  {
   "cell_type": "code",
   "execution_count": null,
   "id": "6d0129b4-4bfc-46fd-ae99-5dc82d1df6f6",
   "metadata": {
    "scrolled": true,
    "tags": []
   },
   "outputs": [],
   "source": [
    "# min_richness = 5\n",
    "# min_halo_mass = 1e13 #Msun\n",
    "\n",
    "# #Halos/Clusters\n",
    "# #CosmoDC2 + RedMaPPer: 'cosmoDC2_v1.1.4_redmapper_v0.8.1'\n",
    "# RM_cat = ClCatalog.read('/global/homes/c/cinlima/NumCosmo/notebooks/richness_proxy/CDC2Data/RM_cat_richness_min_'+str(min_richness)+'.fits', name='RM_cat', full=True, tags={'mass':'richness'})\n",
    "\n",
    "# #CosmoDC2: 'cosmoDC2_v1.1.4_image'\n",
    "# halo_cat = ClCatalog.read('/global/homes/c/cinlima/NumCosmo/notebooks/richness_proxy/CDC2Data/halo_cat_mass_min_'+f\"{min_halo_mass:1.2e}\"+'.fits', name='halo_cat', full=True, tags={'mass':'mass_fof'})\n",
    "\n",
    "# #Members\n",
    "# RM_cat.read_members('/global/homes/c/cinlima/NumCosmo/notebooks/richness_proxy/CDC2Data/RM_cat_richness_min_'+str(min_richness)+'_members.fits',  full=True)\n",
    "# halo_cat.read_members('/global/homes/c/cinlima/NumCosmo/notebooks/richness_proxy/CDC2Data/halo_cat_mass_min_'+f\"{min_halo_mass:1.2e}\"+'_members.fits', full=True)\n",
    "\n",
    "# #Match catalogs\n",
    "# mt = MembershipMatch()\n",
    "\n",
    "# mt.load_matches(RM_cat, halo_cat, out_dir='/global/homes/c/cinlima/NumCosmo/notebooks/richness_proxy/CDC2Data/cosmoDC2_RM_match_cross_membership')\n",
    "\n",
    "# #Matched Data\n",
    "# RM_cat_bij, halo_cat_bij = get_matched_pairs(RM_cat, halo_cat, 'cross')\n",
    "\n",
    "# cdc2_dt = Table([halo_cat_bij['mass_fof'], RM_cat_bij['richness'], RM_cat_bij['z']], names=('m200c', 'richness', 'redshift_true'))\n",
    "# dt_halos = cdc2_dt\n",
    "\n",
    "\n",
    "# fit = catalog_fit(dt_halos, ascaso=False)\n"
   ]
  },
  {
   "cell_type": "code",
   "execution_count": null,
   "id": "b264659e-d346-4996-90fd-ac6829656a38",
   "metadata": {
    "scrolled": true,
    "tags": []
   },
   "outputs": [],
   "source": [
    "# nwalkers = 1500\n",
    "\n",
    "# Ncm.func_eval_set_max_threads(2)\n",
    "# Ncm.func_eval_log_pool_stats()\n",
    "\n",
    "# init_sampler = Ncm.MSetTransKernGauss.new(0)\n",
    "# init_sampler.set_mset(mset)\n",
    "# init_sampler.set_prior_from_mset()\n",
    "# init_sampler.set_cov_from_rescale(1.0)\n",
    "\n",
    "# apes = Ncm.FitESMCMCWalkerAPES.new(nwalkers, mset.fparams_len())\n",
    "\n",
    "# esmcmc = Ncm.FitESMCMC.new(fit, nwalkers, init_sampler, apes, Ncm.FitRunMsgs.FULL)\n",
    "# esmcmc.set_nthreads(2)\n",
    "# esmcmc.set_data_file(\"mcmc2.fits\")\n",
    "\n",
    "# esmcmc.start_run()\n",
    "# esmcmc.run(1000)  \n",
    "# esmcmc.end_run()\n",
    "\n",
    "# esmcmc.mean_covar()\n"
   ]
  },
  {
   "cell_type": "code",
   "execution_count": null,
   "id": "e684e487-7ece-4221-8164-d1cfd6fdd7ae",
   "metadata": {
    "tags": []
   },
   "outputs": [],
   "source": [
    "fit.log_covar()"
   ]
  },
  {
   "cell_type": "code",
   "execution_count": null,
   "id": "639a9cc7-89a8-406b-8485-7f20c6949e1d",
   "metadata": {
    "tags": []
   },
   "outputs": [],
   "source": [
    "data_fit_full = pd.DataFrame(fits.open(\"mcmc2.fits\")[1].data).iloc[:, 1:14].T\n",
    "data_fit_void = np.array(data_fit_full)\n",
    "data_fit = []\n",
    "for item in data_fit_void:\n",
    "    arr= np.array(item)\n",
    "    data_fit.append(np.asarray(arr.tolist()))\n",
    "\n",
    "names = [\n",
    "    '1',\n",
    "    '2',\n",
    "    '3',\n",
    "    '4',\n",
    "    '5',\n",
    "    '6',\n",
    "    '7',\n",
    "    '8',\n",
    "    '9',\n",
    "    '10',\n",
    "    '11',\n",
    "    '12',\n",
    "    '13'\n",
    "]\n",
    "labels=[\"\\mu_0\", \"\\mu_{M1}\", \"\\mu_{M2}\", \"\\mu_{Z1}\",\" \\mu_{Z2}\", \"\\mu_{MZ}\", \"\\sigma_0\", \"\\sigma_{M1}\", \"\\sigma_{M2}\", \"\\sigma_{Z1}\", \"\\sigma_{Z2}\", \"\\sigma_{MZ}\",\"A_0\" ]\n",
    "settings = {\n",
    "    \"mult_bias_correction_order\": 0,\n",
    "    \"smooth_scale_2D\": 3,\n",
    "    \"smooth_scale_1D\": 3,\n",
    "    \"boundary_correction_order\": 0,\n",
    "}\n",
    "samples3 = MCSamples(samples=data_fit, names=names, labels=labels, settings=settings)\n",
    "samples3.removeBurn(0.3)"
   ]
  },
  {
   "cell_type": "code",
   "execution_count": null,
   "id": "d9cb0724-3bd0-4342-9d31-cdf8715d20ac",
   "metadata": {
    "tags": []
   },
   "outputs": [],
   "source": [
    "# Triangle plot\n",
    "g2 = plots.get_subplot_plotter()\n",
    "\n",
    "g2.settings.lab_fontsize = 40\n",
    "g2.settings.legend_fontsize = 40\n",
    "g2.settings.axes_fontsize = 30\n",
    "\n",
    "g2.triangle_plot(\n",
    "    [samples3],\n",
    "    filled=True,\n",
    "    contour_ls=\"-\",\n",
    "    contour_lws=1,\n",
    "    fine_bins=1,\n",
    "    colors=['#b186f1'],\n",
    "    fontsize=70,\n",
    "    line_args=[{'lw':1.2,'ls':'-', 'color':'#b186f1'}],\n",
    "    legend_labels=[\"Estendido\", ],\n",
    ")\n",
    "plt.savefig('mcmc2.png')\n",
    "plt.show()\n"
   ]
  },
  {
   "cell_type": "code",
   "execution_count": null,
   "id": "460d3281-c5b7-4bd7-95b6-2df3ad9b984d",
   "metadata": {
    "tags": []
   },
   "outputs": [],
   "source": [
    "for i in range(1, 14):\n",
    "    display(Math(samples3.getInlineLatex(str(i),limit=1)))\n"
   ]
  },
  {
   "cell_type": "code",
   "execution_count": null,
   "id": "2b8c64ff-e05d-4617-a39c-c6155c85c67f",
   "metadata": {},
   "outputs": [],
   "source": []
  }
 ],
 "metadata": {
  "kernelspec": {
   "display_name": "numcosmo",
   "language": "python",
   "name": "numcosmo"
  },
  "language_info": {
   "codemirror_mode": {
    "name": "ipython",
    "version": 3
   },
   "file_extension": ".py",
   "mimetype": "text/x-python",
   "name": "python",
   "nbconvert_exporter": "python",
   "pygments_lexer": "ipython3",
   "version": "3.11.9"
  }
 },
 "nbformat": 4,
 "nbformat_minor": 5
}
