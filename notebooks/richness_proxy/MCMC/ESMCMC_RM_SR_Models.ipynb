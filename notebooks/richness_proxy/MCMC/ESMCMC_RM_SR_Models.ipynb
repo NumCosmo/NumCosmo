{
 "cells": [
  {
   "cell_type": "markdown",
   "id": "da058759-7eb2-463b-8d8a-f1f249308afb",
   "metadata": {
    "tags": []
   },
   "source": [
    "# ESMCMC: Richness-Mass Scaling Relation Calibration\n",
    "\n",
    "---\n",
    "**License**\n",
    "\n",
    " ESMCMC_RM_SR_Models\n",
    "\n",
    " Mon Nov 11 10:30:00 2024\\\n",
    " Copyright  2024\\\n",
    " Cinthia Nunes de Lima <cinthia.n.lima@uel.br> \\ Sandro Dias Pinto Vitenti <vitenti@uel.br>\n",
    "\n",
    "---\n",
    "---\n",
    "\n",
    " ESMCMC_RM_SR_Models\\\n",
    " Copyright (C) 2024 Cinthia Nunes de Lima <cinthia.n.lima@uel.br>, Sandro Dias Pinto Vitenti <vitenti@uel.br>\n",
    "\n",
    " numcosmo is free software: you can redistribute it and/or modify it\n",
    " under the terms of the GNU General Public License as published by the\n",
    " Free Software Foundation, either version 3 of the License, or\n",
    " (at your option) any later version.\n",
    "\n",
    " numcosmo is distributed in the hope that it will be useful, but\n",
    " WITHOUT ANY WARRANTY; without even the implied warranty of\n",
    " MERCHANTABILITY or FITNESS FOR A PARTICULAR PURPOSE.\n",
    " See the GNU General Public License for more details.\n",
    "\n",
    " You should have received a copy of the GNU General Public License along\n",
    " with this program.  If not, see <http://www.gnu.org/licenses/>.\n",
    " \n",
    "---"
   ]
  },
  {
   "cell_type": "markdown",
   "id": "ddbff4ee-2caf-49f6-8725-b0ebd29b42d7",
   "metadata": {
    "tags": []
   },
   "source": [
    "## Settings"
   ]
  },
  {
   "cell_type": "code",
   "execution_count": 1,
   "id": "a7f9b466-a941-4db1-b09f-e69d9320f0c3",
   "metadata": {
    "tags": []
   },
   "outputs": [
    {
     "name": "stdout",
     "output_type": "stream",
     "text": [
      "GetDist Version: 1.4.7, Matplotlib version: 3.9.1\n"
     ]
    }
   ],
   "source": [
    "import sys\n",
    "\n",
    "sys.path.insert(0, \"/global/homes/c/cinlima/NumCosmo/notebooks/richness_proxy/\")\n",
    "sys.path.insert(0, \"/global/homes/c/cinlima/NumCosmo/notebooks/richness_proxy/Scripts\")\n",
    "\n",
    "#NumCosmo\n",
    "from numcosmo_py import Ncm, Nc, GObject\n",
    "\n",
    "Ncm.cfg_init()\n",
    "Ncm.cfg_set_log_handler(lambda msg: sys.stdout.write(msg) and sys.stdout.flush())\n",
    "from richness_mass_calib import create_richness_mass_calib\n",
    "\n",
    "#Useful packages\n",
    "import numpy as np\n",
    "import pandas as pd\n",
    "from astropy.io import fits\n",
    "from astropy.table import Table\n",
    "import matplotlib.pyplot as plt\n",
    "\n",
    "\n",
    "#GCR Catalogs\n",
    "sys.path.insert(0, \"/global/homes/c/cinlima/gcr-catalogs\")\n",
    "import GCRCatalogs\n",
    "GCRCatalogs.set_root_dir_by_site(\"nersc\")\n",
    "\n",
    "##If it uses Clevar:\n",
    "\n",
    "# sys.path.insert(0, \"global/homes/c/cinlima/clevar/clevar\")\n",
    "# import clevar\n",
    "# from clevar import ClCatalog, MemCatalog\n",
    "# from clevar.match import MembershipMatch, get_matched_pairs\n",
    "# from clevar.match import output_matched_catalog\n",
    "# from clevar.match_metrics.scaling import ClCatalogFuncs as s_cf\n",
    "\n",
    "#Corner plots \n",
    "from getdist import plots\n",
    "from getdist.mcsamples import  MCSamples\n",
    "import getdist\n",
    "print('GetDist Version: %s, Matplotlib version: %s'%(getdist.__version__, plt.matplotlib.__version__))\n",
    "\n",
    "import pygtc\n",
    "from IPython.display import display, Math\n",
    "%matplotlib inline"
   ]
  },
  {
   "cell_type": "markdown",
   "id": "aa326bfd-ec9c-44c0-a7c8-1407cf75a634",
   "metadata": {
    "tags": []
   },
   "source": [
    "## Data"
   ]
  },
  {
   "cell_type": "code",
   "execution_count": 2,
   "id": "63422873-87c4-4fae-8e14-01bd3625505c",
   "metadata": {
    "tags": []
   },
   "outputs": [],
   "source": [
    "RICH_CUT = 50\n",
    "MASS_CUT = 1e13"
   ]
  },
  {
   "cell_type": "code",
   "execution_count": 3,
   "id": "d5928494-5fe6-4e62-99eb-90ec9f3c3525",
   "metadata": {
    "tags": []
   },
   "outputs": [
    {
     "name": "stdout",
     "output_type": "stream",
     "text": [
      "Catalog info:\n",
      "Richness: min: 5.01; max: 266.30.\n",
      "Redshift: min: 0.09; max: 1.15.\n",
      "Mass: min: 1e+13; max: 1.9e+15.\n",
      "\n",
      "Cut data:\n",
      "Catalog size: 644.\n",
      "Richness: min: 50.06; max: 266.30.\n"
     ]
    }
   ],
   "source": [
    "## cDC2-MatchingByID catalog ------------------------------------------------------------------------------------------------\n",
    "\n",
    "cDC2 = pd.read_csv('/global/homes/c/cinlima/MatchingCatalogs/match_catalog.csv',  sep = ';')\n",
    "\n",
    "rich_data = cDC2[\"richness\"]\n",
    "z_data = cDC2[\"redshift_x\"]\n",
    "mass_data = cDC2[\"halo_mass\"]\n",
    "\n",
    "cDC2_data = Table([mass_data, rich_data, z_data], names=('mass', 'richness', 'redshift_true'))\n",
    "\n",
    "#Data cut:\n",
    "cDC2_data = cDC2_data[cDC2_data['richness'] > RICH_CUT]\n",
    "# cDC2_data = cDC2_data[cDC2_data['mass'] > MASS_CUT]\n",
    "\n",
    "print(f'Catalog info:\\nRichness: min: {min( rich_data):.2f}; max: {max(rich_data):.2f}.\\nRedshift: min: {min( z_data):.2f}; max: {max(z_data):.2f}.\\nMass: min: {min( mass_data):.2}; max: {max(mass_data):.2}.\\n')\n",
    "\n",
    "richness_dt = cDC2_data['richness']\n",
    "print(f'Cut data:\\nCatalog size: {len(cDC2_data)}.\\nRichness: min: {min(richness_dt):.2f}; max: {max(richness_dt):.2f}.')\n"
   ]
  },
  {
   "cell_type": "markdown",
   "id": "83c9c031-ba45-4471-b746-95734c7d3154",
   "metadata": {
    "tags": []
   },
   "source": [
    "## MLE"
   ]
  },
  {
   "cell_type": "code",
   "execution_count": null,
   "id": "e341462c-49c8-42a8-a3d4-20c282cef40f",
   "metadata": {
    "scrolled": true,
    "tags": []
   },
   "outputs": [],
   "source": [
    "ascaso = Nc.ClusterMassAscaso()\n",
    "mset = Ncm.MSet()\n",
    "\n",
    "lnrich_ext = Nc.ClusterMassLnrichExt()\n",
    "\n",
    "def catalog_fit(DATA, LINEAR):\n",
    "    rmdata = create_richness_mass_calib(DATA, mass_col_name = 'mass')\n",
    "    dset = Ncm.Dataset.new()\n",
    "    dset.append_data(rmdata)\n",
    "\n",
    "    lh = Ncm.Likelihood.new(dset)\n",
    "    \n",
    "    if LINEAR:\n",
    "        fixed_parameters_ascaso = [6] #fixing cut parameter\n",
    "        ascaso.param_set_by_name(\"cut\", 1e15) #Set cut parameter value \n",
    "        mset.set(ascaso)\n",
    "        rmdata.m2lnL_val(mset)  \n",
    "        mset.param_set_all_ftype(Ncm.ParamType.FREE) #All parameters free\n",
    "\n",
    "        #All parameters free except cut parameters:\n",
    "        for par in fixed_parameters_ascaso:\n",
    "            mset.param_set_ftype(7000, par, Ncm.ParamType.FIXED)\n",
    "\n",
    "        mset.prepare_fparam_map()\n",
    "\n",
    "    else:\n",
    "        fixed_parameters_lnrich_ext = [12, 13, 14, 15] #fixing cut parameters\n",
    "\n",
    "        lnrich_ext.param_set_by_name(\"cut\", 1e15) #Set cut parameter value \n",
    "        mset.set(lnrich_ext)\n",
    "        rmdata.m2lnL_val(mset)  \n",
    "        mset.param_set_all_ftype(Ncm.ParamType.FREE) #All parameters free\n",
    "\n",
    "        #All parameters free except cut parameters:\n",
    "        for par in fixed_parameters_lnrich_ext:\n",
    "            mset.param_set_ftype(7000, par, Ncm.ParamType.FIXED)\n",
    "\n",
    "        mset.prepare_fparam_map()\n",
    "\n",
    "    fit = Ncm.Fit.factory( Ncm.FitType.NLOPT, \"ln-neldermead\", lh, mset, Ncm.FitGradType.NUMDIFF_CENTRAL )\n",
    "    fit.log_info()\n",
    "    fit.run_restart(Ncm.FitRunMsgs.SIMPLE, 1.0e-3, 0.0, None, None)\n",
    "    fit.log_info()\n",
    "        \n",
    "    return fit"
   ]
  },
  {
   "cell_type": "markdown",
   "id": "06a4a24d-5046-443a-a83a-b220e255845d",
   "metadata": {
    "tags": []
   },
   "source": [
    "## MCMC"
   ]
  },
  {
   "cell_type": "code",
   "execution_count": null,
   "id": "d6975b06-c85a-47a0-ace6-68f3820fbf68",
   "metadata": {
    "scrolled": true,
    "tags": []
   },
   "outputs": [],
   "source": [
    "def esmcmc(DATA, N_WALKERS, N_RUN, MODEL, FILE_NAME):\n",
    "    \n",
    "    if MODEL == 'asc':\n",
    "        fit = catalog_fit(DATA, LINEAR=True)\n",
    "    \n",
    "    else:\n",
    "        fit = catalog_fit(DATA, LINEAR=False)\n",
    "\n",
    "    \n",
    "    Ncm.func_eval_set_max_threads(2)\n",
    "    Ncm.func_eval_log_pool_stats()\n",
    "\n",
    "    init_sampler = Ncm.MSetTransKernGauss.new(0)\n",
    "    init_sampler.set_mset(mset)\n",
    "    init_sampler.set_prior_from_mset()\n",
    "    init_sampler.set_cov_from_rescale(1.0)\n",
    "\n",
    "    apes = Ncm.FitESMCMCWalkerAPES.new(N_WALKERS, mset.fparams_len())\n",
    "\n",
    "    esmcmc = Ncm.FitESMCMC.new(fit, N_WALKERS, init_sampler, apes, Ncm.FitRunMsgs.FULL)\n",
    "    esmcmc.set_nthreads(2)\n",
    "    esmcmc.set_data_file(FILE_NAME)\n",
    "\n",
    "    esmcmc.start_run()\n",
    "    esmcmc.run(N_RUN)  \n",
    "    esmcmc.end_run()\n",
    "\n",
    "    esmcmc.mean_covar()\n"
   ]
  },
  {
   "cell_type": "markdown",
   "id": "b4cc3cee-e0e2-4361-918a-606f7ff46a49",
   "metadata": {},
   "source": [
    "## Quadratic Model"
   ]
  },
  {
   "cell_type": "code",
   "execution_count": null,
   "id": "88d38a44-21f3-4d83-acf7-a75a1d2aed98",
   "metadata": {
    "scrolled": true,
    "tags": []
   },
   "outputs": [],
   "source": [
    "N_WALKERS = 1200\n",
    "N_RUN = 100\n",
    "MODEL = 'ext'\n",
    "FILE_NAME = \"richness_cut/\"+MODEL+\"_rmin_\"+str(RICH_CUT)+\".fits\"\n",
    "\n",
    "\n",
    "# esmcmc(cDC2_data, N_WALKERS, N_RUN, MODEL, FILE_NAME)"
   ]
  },
  {
   "cell_type": "code",
   "execution_count": null,
   "id": "5d484ba6-d3b2-4634-a344-8c88f4c8f152",
   "metadata": {
    "tags": []
   },
   "outputs": [],
   "source": [
    "BURNIN = 30\n",
    "\n",
    "mcat1 = Ncm.MSetCatalog.new_from_file_ro(FILE_NAME, N_WALKERS * BURNIN)\n",
    "be1, post_lnnorm_sd1 = mcat1.get_post_lnnorm()\n",
    "# lnevol, glnvol = mcat1.get_post_lnvol(0.6827)\n",
    "\n",
    "print(\"Bayesian evidence:    % 22.15g +/- % 22.15g\"\n",
    "    % (be1, post_lnnorm_sd1) )"
   ]
  },
  {
   "cell_type": "markdown",
   "id": "59b576e4-7e89-4812-87a4-609946c8ca27",
   "metadata": {},
   "source": [
    "## Linear Model"
   ]
  },
  {
   "cell_type": "code",
   "execution_count": null,
   "id": "62efc45c-0c65-4388-b36c-82112079b9be",
   "metadata": {
    "scrolled": true,
    "tags": []
   },
   "outputs": [],
   "source": [
    "N_WALKERS = 1200\n",
    "N_RUN = 100\n",
    "MODEL2 = 'asc'\n",
    "FILE_NAME2 = \"richness_cut/\"+MODEL2+\"_rmin_\"+str(RICH_CUT)+\".fits\"\n",
    "\n",
    "# esmcmc(cDC2_data, N_WALKERS, N_RUN, MODEL2, FILE_NAME)"
   ]
  },
  {
   "cell_type": "code",
   "execution_count": null,
   "id": "50c05bc0-e4d8-4b59-b246-96faca99c6db",
   "metadata": {
    "tags": []
   },
   "outputs": [],
   "source": [
    "BURNIN = 30\n",
    "\n",
    "mcat2 = Ncm.MSetCatalog.new_from_file_ro(FILE_NAME2, N_WALKERS * BURNIN)\n",
    "be2, post_lnnorm_sd2 = mcat2.get_post_lnnorm()\n",
    "# lnevol, glnvol = mcat2.get_post_lnvol(0.6827)\n",
    "\n",
    "print(\"Bayesian evidence:    % 22.15g +/- % 22.15g\"\n",
    "    % (be2, post_lnnorm_sd2) )"
   ]
  },
  {
   "cell_type": "markdown",
   "id": "6aaefd9a-ae7f-4f4d-a958-6609e929e674",
   "metadata": {
    "tags": []
   },
   "source": [
    "## Bayes Factor"
   ]
  },
  {
   "cell_type": "code",
   "execution_count": 4,
   "id": "99b92daa-a7e5-4c79-b2f4-dcf0ed0d5d0c",
   "metadata": {
    "tags": []
   },
   "outputs": [
    {
     "ename": "NameError",
     "evalue": "name 'be1' is not defined",
     "output_type": "error",
     "traceback": [
      "\u001b[0;31m---------------------------------------------------------------------------\u001b[0m",
      "\u001b[0;31mNameError\u001b[0m                                 Traceback (most recent call last)",
      "Cell \u001b[0;32mIn[4], line 1\u001b[0m\n\u001b[0;32m----> 1\u001b[0m \u001b[38;5;28mprint\u001b[39m(\u001b[38;5;124mf\u001b[39m\u001b[38;5;124m'\u001b[39m\u001b[38;5;124mBEQ = \u001b[39m\u001b[38;5;132;01m{\u001b[39;00m\u001b[43mbe1\u001b[49m\u001b[38;5;132;01m:\u001b[39;00m\u001b[38;5;124m.3f\u001b[39m\u001b[38;5;132;01m}\u001b[39;00m\u001b[38;5;124m +/- \u001b[39m\u001b[38;5;132;01m{\u001b[39;00mpost_lnnorm_sd1\u001b[38;5;132;01m:\u001b[39;00m\u001b[38;5;124m.3f\u001b[39m\u001b[38;5;132;01m}\u001b[39;00m\u001b[38;5;124m.\u001b[39m\u001b[38;5;130;01m\\n\u001b[39;00m\u001b[38;5;124mBEL = \u001b[39m\u001b[38;5;132;01m{\u001b[39;00mbe2\u001b[38;5;132;01m:\u001b[39;00m\u001b[38;5;124m.3f\u001b[39m\u001b[38;5;132;01m}\u001b[39;00m\u001b[38;5;124m +/- \u001b[39m\u001b[38;5;132;01m{\u001b[39;00mpost_lnnorm_sd2\u001b[38;5;132;01m:\u001b[39;00m\u001b[38;5;124m.3f\u001b[39m\u001b[38;5;132;01m}\u001b[39;00m\u001b[38;5;124m.\u001b[39m\u001b[38;5;130;01m\\n\u001b[39;00m\u001b[38;5;130;01m\\n\u001b[39;00m\u001b[38;5;124mBayes factor = \u001b[39m\u001b[38;5;132;01m{\u001b[39;00mnp\u001b[38;5;241m.\u001b[39mexp(be1\u001b[38;5;250m \u001b[39m\u001b[38;5;241m-\u001b[39m\u001b[38;5;250m \u001b[39mbe2)\u001b[38;5;132;01m:\u001b[39;00m\u001b[38;5;124m.3e\u001b[39m\u001b[38;5;132;01m}\u001b[39;00m\u001b[38;5;124m.\u001b[39m\u001b[38;5;124m'\u001b[39m)\n",
      "\u001b[0;31mNameError\u001b[0m: name 'be1' is not defined"
     ]
    }
   ],
   "source": [
    "print(f'BEQ = {be1:.3f} +/- {post_lnnorm_sd1:.3f}.\\nBEL = {be2:.3f} +/- {post_lnnorm_sd2:.3f}.\\n\\nBayes factor = {np.exp(be1 - be2):.3e}.')"
   ]
  },
  {
   "cell_type": "code",
   "execution_count": 11,
   "id": "5e461cd7-727c-4d7e-beb7-03c33523cb09",
   "metadata": {
    "tags": []
   },
   "outputs": [
    {
     "name": "stdout",
     "output_type": "stream",
     "text": [
      "-6123.547517146596 -10449.87785485265\n",
      "1.0 1.706507188127774 0.4933644206098312\n",
      "62.612308542923074 -696.1789801836052\n",
      "1.0 -11.118883752806344 183300.79167047734\n",
      "105.33994126701114 4.112652540070741\n",
      "1.0 0.03904172045858813 2.614200408265129\n"
     ]
    }
   ],
   "source": [
    "rich_cut_list = [5,20,50]\n",
    "\n",
    "be_df = pd.DataFrame(data = {'BEQ': [], 'BEQ Err': [], 'BEL': [], 'BEL Err': [], 'BF': []})\n",
    "\n",
    "for rcut in rich_cut_list:\n",
    "    \n",
    "    N_WALKERS = 1200\n",
    "    N_RUN = 100\n",
    "    BURNIN = 50\n",
    "    \n",
    "    RICH_CUT = rcut\n",
    "    \n",
    "    MODEL = 'ext'\n",
    "    FILE_NAME1 = \"richness_cut/\"+MODEL+\"_rmin_\"+str(RICH_CUT)+\".fits\"\n",
    "\n",
    "    MODEL2 = 'asc'\n",
    "    FILE_NAME2 = \"richness_cut/\"+MODEL2+\"_rmin_\"+str(RICH_CUT)+\".fits\"\n",
    "    \n",
    "    mcat1 = Ncm.MSetCatalog.new_from_file_ro(FILE_NAME1, N_WALKERS * BURNIN)\n",
    "    be1, post_lnnorm_sd1 = mcat1.get_post_lnnorm()\n",
    "\n",
    "    mcat2 = Ncm.MSetCatalog.new_from_file_ro(FILE_NAME2, N_WALKERS * BURNIN)\n",
    "    be2, post_lnnorm_sd2 = mcat2.get_post_lnnorm()\n",
    "    print(be1, be2)\n",
    "    \n",
    "    be2 = be2/be1\n",
    "    be1 = be1/be1\n",
    "    \n",
    "    bf = np.exp(be1 - be2)\n",
    "    # bf = be1 / be2\n",
    "    print( be1, be2, bf)\n",
    "    be_df = pd.concat([be_df, pd.DataFrame([{'BEQ': be1, 'BEQ Err': post_lnnorm_sd1, 'BEL': be2, 'BEL Err':post_lnnorm_sd2, 'BF': bf}])], ignore_index=True)\n"
   ]
  },
  {
   "cell_type": "code",
   "execution_count": 8,
   "id": "c6c602f9-b679-423e-9dc1-44a1a364e4d0",
   "metadata": {
    "tags": []
   },
   "outputs": [],
   "source": [
    "# FILE_NAME1 = \"mass_cut/Ext3.fits\"\n",
    "\n",
    "# FILE_NAME2 = \"mass_cut/Ascaso3.fits\"\n",
    "    \n",
    "\n",
    "# mcat1 = Ncm.MSetCatalog.new_from_file_ro(FILE_NAME1, N_WALKERS * BURNIN)\n",
    "# be1, post_lnnorm_sd1 = mcat1.get_post_lnnorm()\n",
    "\n",
    "# mcat2 = Ncm.MSetCatalog.new_from_file_ro(FILE_NAME2, N_WALKERS * BURNIN)\n",
    "# be2, post_lnnorm_sd2 = mcat2.get_post_lnnorm()\n",
    "    \n",
    "# be2 = be2 / be1\n",
    "# be1 = be1/ be1\n",
    "    \n",
    "# bf = np.exp(be1 - be2)\n",
    "# # bf = be1 / be2\n",
    "  \n",
    "# print(f'{be1}, {be2}, {bf:.2}')"
   ]
  },
  {
   "cell_type": "code",
   "execution_count": 9,
   "id": "9d16783c-96c4-48fe-ad52-6e48aa9eb9e6",
   "metadata": {
    "tags": []
   },
   "outputs": [
    {
     "data": {
      "text/html": [
       "<div>\n",
       "<style scoped>\n",
       "    .dataframe tbody tr th:only-of-type {\n",
       "        vertical-align: middle;\n",
       "    }\n",
       "\n",
       "    .dataframe tbody tr th {\n",
       "        vertical-align: top;\n",
       "    }\n",
       "\n",
       "    .dataframe thead th {\n",
       "        text-align: right;\n",
       "    }\n",
       "</style>\n",
       "<table border=\"1\" class=\"dataframe\">\n",
       "  <thead>\n",
       "    <tr style=\"text-align: right;\">\n",
       "      <th></th>\n",
       "      <th>BEQ</th>\n",
       "      <th>BEQ Err</th>\n",
       "      <th>BEL</th>\n",
       "      <th>BEL Err</th>\n",
       "      <th>BF</th>\n",
       "    </tr>\n",
       "  </thead>\n",
       "  <tbody>\n",
       "    <tr>\n",
       "      <th>0</th>\n",
       "      <td>1.0</td>\n",
       "      <td>0.002724</td>\n",
       "      <td>1.706507</td>\n",
       "      <td>0.01653</td>\n",
       "      <td>0.493364</td>\n",
       "    </tr>\n",
       "    <tr>\n",
       "      <th>1</th>\n",
       "      <td>1.0</td>\n",
       "      <td>0.002451</td>\n",
       "      <td>-11.118884</td>\n",
       "      <td>0.00146</td>\n",
       "      <td>183300.791670</td>\n",
       "    </tr>\n",
       "    <tr>\n",
       "      <th>2</th>\n",
       "      <td>1.0</td>\n",
       "      <td>0.002850</td>\n",
       "      <td>0.039042</td>\n",
       "      <td>0.00158</td>\n",
       "      <td>2.614200</td>\n",
       "    </tr>\n",
       "  </tbody>\n",
       "</table>\n",
       "</div>"
      ],
      "text/plain": [
       "   BEQ   BEQ Err        BEL  BEL Err             BF\n",
       "0  1.0  0.002724   1.706507  0.01653       0.493364\n",
       "1  1.0  0.002451 -11.118884  0.00146  183300.791670\n",
       "2  1.0  0.002850   0.039042  0.00158       2.614200"
      ]
     },
     "execution_count": 9,
     "metadata": {},
     "output_type": "execute_result"
    }
   ],
   "source": [
    "be_df"
   ]
  },
  {
   "cell_type": "markdown",
   "id": "13e1fb45-a37d-45f5-be88-c5b4a8194d24",
   "metadata": {},
   "source": [
    "### Results:\n",
    "\n",
    "BEQ - Beyesian evidence - quadratic model.\n",
    "\n",
    "BEL - Beyesian evidence - linear model.\n",
    "\n",
    "BF - Bayes factor.\n",
    "\n",
    "| Mass cut        | BEQ             | BEL            | BF ( exp(BEQ - BEL) ) |\n",
    "| :-------------: | -------------: | -------------: | -------------: |\n",
    "| M > 1.0 x 10¹³  | -6123.563 $\\pm$ 0.003 | -10461.289 $\\pm$ 0.124| $\\infty$  |\n",
    "| M > 0.5 x 10¹⁴  | -6420.187 $\\pm$ 0.002 | -6487.899 $\\pm$ 0.006  | 2.553 x 10²⁹ |\n",
    "| M > 1.0 x 10¹⁴  | -3504.885 $\\pm$ 0.002 | -3524.918 $\\pm$ 0.001  | 5.011 x 10⁸|\n",
    "| M > 0.5 x 10¹⁵  | -112.753 $\\pm$ 0.005 | -126.761 $\\pm$ 0.001  | 1.212 x 10⁶|\n",
    "\n",
    "\n",
    "| Richness cut        | BEQ             | BEL            | BF ( exp(BEQ - BEL) ) |\n",
    "| :-------------: | -------------: | -------------: | -------------: |\n",
    "| $\\lambda$ > 5   | -6123.548 $\\pm$ 0.003 | -10449.859 $\\pm$ 0.019| $\\infty$  |\n",
    "| $\\lambda$ > 20  |    62.612 $\\pm$ 0.002 | -696.178 $\\pm$ 0.001  | $\\infty$ |\n",
    "| $\\lambda$ > 50  |   105.337 $\\pm$ 0.003 |  4.114 $\\pm$ 0.001  | 9.130 x 10⁴³|\n",
    "| $\\lambda$ > 75 |  $\\pm$  |  $\\pm$   | |\n",
    "\n"
   ]
  },
  {
   "cell_type": "markdown",
   "id": "fb5a3537-8f46-40f7-937d-82ed8f355a2c",
   "metadata": {
    "tags": []
   },
   "source": [
    "## Plots"
   ]
  },
  {
   "cell_type": "code",
   "execution_count": null,
   "id": "64ecb0dd-c83e-485a-ba1a-506c60aba273",
   "metadata": {
    "tags": []
   },
   "outputs": [],
   "source": [
    "data_fit_full = pd.DataFrame(fits.open(\"richness_cut/\"+MODEL2+\"_rmin_\"+str(RICH_CUT)+\".fits\")[1].data).iloc[:, 1:7].T\n",
    "data_fit_void = np.array(data_fit_full)\n",
    "data_fit = []\n",
    "for item in data_fit_void:\n",
    "    arr= np.array(item)\n",
    "    data_fit.append(np.asarray(arr.tolist()))\n",
    "\n",
    "names = [\n",
    "    '1',\n",
    "    '2',\n",
    "    '3',\n",
    "    '4',\n",
    "    '5',\n",
    "    '6',\n",
    "]\n",
    "labels=[\"\\mu_{0}\", \"\\mu_{1}\", \"\\mu_{2}\", \"\\sigma_{0}\", \"\\sigma_{1}\", \"\\sigma_{2}\"]\n",
    "settings = {\n",
    "    \"mult_bias_correction_order\": 0,\n",
    "    \"smooth_scale_2D\": 3,\n",
    "    \"smooth_scale_1D\": 3,\n",
    "    \"boundary_correction_order\": 0,\n",
    "}\n",
    "samples1 = MCSamples(samples=data_fit, names=names, labels=labels, settings=settings)\n",
    "samples1.removeBurn(0.3)"
   ]
  },
  {
   "cell_type": "code",
   "execution_count": null,
   "id": "017daad3-2dba-4cd3-846c-ea877de4aff0",
   "metadata": {
    "tags": []
   },
   "outputs": [],
   "source": [
    "# Triangle plot\n",
    "g1 = plots.get_subplot_plotter()\n",
    "\n",
    "g1.settings.legend_fontsize = 18\n",
    "g1.settings.lab_fontsize = 25\n",
    "g1.settings.axes_fontsize = 20\n",
    "\n",
    "\n",
    "g1.triangle_plot(\n",
    "    [samples1],\n",
    "    filled=True,\n",
    "    contour_ls=\"-\",\n",
    "    contour_lws=1,\n",
    "    fontsize=14,\n",
    "    fine_bins=1,\n",
    "    colors=['red'],\n",
    "    line_args=[{'lw':1.2,'ls':'-', 'color':'red'}],\n",
    "    legend_labels=[\"Ascaso\"],\n",
    ")\n",
    "\n",
    "plt.show()\n",
    "for i in range(1, 7):\n",
    "    display(Math(samples1.getInlineLatex(str(i),limit=1)))\n",
    "# plt.savefig('mcmc3.png')\n",
    "\n"
   ]
  },
  {
   "cell_type": "code",
   "execution_count": null,
   "id": "c9509ffb-59c4-4675-997a-41bcf6995ac3",
   "metadata": {},
   "outputs": [],
   "source": [
    "data_fit_full = pd.DataFrame(fits.open(\"richness_cut/\"+MODEL+\"_rmin_\"+str(RICH_CUT)+\".fits\")[1].data).iloc[:, 1:13].T\n",
    "data_fit_void = np.array(data_fit_full)\n",
    "data_fit = []\n",
    "for item in data_fit_void:\n",
    "    arr= np.array(item)\n",
    "    data_fit.append(np.asarray(arr.tolist()))\n",
    "\n",
    "names = [\n",
    "    '1',\n",
    "    '2',\n",
    "    '3',\n",
    "    '4',\n",
    "    '5',\n",
    "    '6',\n",
    "    '7',\n",
    "    '8',\n",
    "    '9',\n",
    "    '10',\n",
    "    '11',\n",
    "    '12'\n",
    "]\n",
    "labels=[\"\\mu_0\", \"\\mu_{M1}\", \"\\mu_{M2}\", \"\\mu_{Z1}\",\" \\mu_{Z2}\", \"\\mu_{MZ}\", \"\\sigma_0\", \"\\sigma_{M1}\", \"\\sigma_{M2}\", \"\\sigma_{Z1}\", \"\\sigma_{Z2}\", \"\\sigma_{MZ}\" ]\n",
    "settings = {\n",
    "    \"mult_bias_correction_order\": 0,\n",
    "    \"smooth_scale_2D\": 3,\n",
    "    \"smooth_scale_1D\": 3,\n",
    "    \"boundary_correction_order\": 0,\n",
    "}\n",
    "samples2 = MCSamples(samples=data_fit, names=names, labels=labels, settings=settings)\n",
    "samples2.removeBurn(0.3)\n"
   ]
  },
  {
   "cell_type": "code",
   "execution_count": null,
   "id": "c5651a92-67ba-49a8-b351-321cfdc3799c",
   "metadata": {},
   "outputs": [],
   "source": [
    "# Triangle plot\n",
    "g2 = plots.get_subplot_plotter()\n",
    "\n",
    "g2.settings.lab_fontsize = 40\n",
    "g2.settings.legend_fontsize = 40\n",
    "g2.settings.axes_fontsize = 30\n",
    "\n",
    "g2.triangle_plot(\n",
    "    [samples2],\n",
    "    filled=True,\n",
    "    contour_ls=\"-\",\n",
    "    contour_lws=1,\n",
    "    fine_bins=1,\n",
    "    colors=['#b186f1'],\n",
    "    fontsize=70,\n",
    "    line_args=[{'lw':1.2,'ls':'-', 'color':'#b186f1'}],\n",
    "    legend_labels=[\"Estendido\", ],\n",
    ")\n",
    "#plt.savefig('mcmc.png')\n",
    "plt.show()\n"
   ]
  },
  {
   "cell_type": "code",
   "execution_count": null,
   "id": "5ee06f31-668b-435f-989b-753bb5952805",
   "metadata": {},
   "outputs": [],
   "source": [
    "for i in range(1, 13):\n",
    "    display(Math(samples2.getInlineLatex(str(i),limit=1)))\n"
   ]
  },
  {
   "cell_type": "code",
   "execution_count": null,
   "id": "c3f3644a-2e2b-410c-8018-ad5340a8e0ab",
   "metadata": {},
   "outputs": [],
   "source": []
  }
 ],
 "metadata": {
  "kernelspec": {
   "display_name": "numcosmo",
   "language": "python",
   "name": "numcosmo"
  },
  "language_info": {
   "codemirror_mode": {
    "name": "ipython",
    "version": 3
   },
   "file_extension": ".py",
   "mimetype": "text/x-python",
   "name": "python",
   "nbconvert_exporter": "python",
   "pygments_lexer": "ipython3",
   "version": "3.11.9"
  }
 },
 "nbformat": 4,
 "nbformat_minor": 5
}
