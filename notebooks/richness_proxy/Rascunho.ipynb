{
 "cells": [
  {
   "cell_type": "markdown",
   "id": "190fd229-7a89-44f2-bee7-a0886df7d84c",
   "metadata": {
    "tags": []
   },
   "source": [
    "# Rascunho"
   ]
  },
  {
   "cell_type": "code",
   "execution_count": null,
   "id": "42939f14-5cc3-4cd7-82f1-f5b1278f7df4",
   "metadata": {},
   "outputs": [],
   "source": []
  },
  {
   "cell_type": "code",
   "execution_count": null,
   "id": "513ac3b5-4535-4e26-9b74-50fc8656d640",
   "metadata": {},
   "outputs": [],
   "source": []
  },
  {
   "cell_type": "code",
   "execution_count": 25,
   "id": "bd0c6602-d5ce-4312-a697-d09f8a6f01b5",
   "metadata": {
    "tags": []
   },
   "outputs": [],
   "source": [
    "## Halo catalog m200c --------------------------------------------------------------------------------------------\n",
    "# DC2_halos_m200c = fits.open(\n",
    "#     \"/global/cfs/projectdirs/lsst/groups/CL/cosmoDC2_v1.1.4/extragal/full/halos/halos_m200c_13.0.fits\"\n",
    "# )\n",
    "# dt_halos = Table(DC2_halos_m200c[1].data)\n",
    "# # dt_halos['redshift_true', 'mass_fof', 'm200c', 'richness']\n",
    "\n",
    "\n",
    "\n",
    "## Clevar catalog ------------------------------------------------------------------------------------------------\n",
    "\n",
    "# min_richness = 5\n",
    "# min_halo_mass = 1e13 #Msun\n",
    "\n",
    "# #Halos/Clusters\n",
    "# #SkySim + RedMaPPer: 'skysim5000_v1.1.1_redmapper_v0.8.5'\n",
    "# RM_cat = ClCatalog.read('/global/homes/c/cinlima/NumCosmo/notebooks/richness_proxy/SSData/RM_cat_richness_min_'+str(min_richness)+'.fits', name='RM_cat', full=True, tags={'mass':'richness'})\n",
    "\n",
    "# #SkySim: 'skysim5000_v1.1.1_image'\n",
    "# halo_cat = ClCatalog.read('/global/homes/c/cinlima/NumCosmo/notebooks/richness_proxy/SSData/halo_cat_mass_min_'+f\"{min_halo_mass:1.2e}\"+'.fits', name='halo_cat', full=True, tags={'mass':'mass_fof'})\n",
    "\n",
    "# #Members\n",
    "# RM_cat.read_members('/global/homes/c/cinlima/NumCosmo/notebooks/richness_proxy/SSData/RM_cat_richness_min_'+str(min_richness)+'_members.fits',  full=True)\n",
    "# halo_cat.read_members('/global/homes/c/cinlima/NumCosmo/notebooks/richness_proxy/SSData/halo_cat_mass_min_'+f\"{min_halo_mass:1.2e}\"+'_members.fits', full=True)\n",
    "\n",
    "# #Match catalogs\n",
    "# mt = MembershipMatch()\n",
    "\n",
    "# mt.load_matches(RM_cat, halo_cat, out_dir='/global/homes/c/cinlima/NumCosmo/notebooks/richness_proxy/SSData/SS_RM_match_cross_membership')\n",
    "\n",
    "# RM_cat_bij, halo_cat_bij = get_matched_pairs(RM_cat, halo_cat, 'cross')\n",
    "\n",
    "# clusters_dt = Table([halo_cat_bij['mass_fof'], RM_cat_bij['richness'], RM_cat_bij['z']], names=('m200c', 'richness', 'redshift_true'))\n",
    "\n",
    "# dt_halos = clusters_dt"
   ]
  },
  {
   "cell_type": "code",
   "execution_count": null,
   "id": "24c6bf42-bdf9-4594-9202-c8543ed0c4ff",
   "metadata": {},
   "outputs": [],
   "source": [
    "# nwalkers = 1000\n",
    "# burnin = 40\n",
    "\n",
    "# ntests = 100\n",
    "\n",
    "# mcat = Ncm.MSetCatalog.new_from_file_ro(\"richness_cut/asc_rmin_\"+str(rich_cut)+\".fits\", nwalkers * burnin)\n",
    "\n",
    "# mcat.log_current_chain_stats()\n",
    "# mcat.calc_max_ess_time(ntests, Ncm.FitRunMsgs.SIMPLE)\n",
    "# mcat.calc_heidel_diag(ntests, 0.0, Ncm.FitRunMsgs.SIMPLE)\n",
    "\n",
    "# # mset.pretty_log()\n",
    "# # mcat.log_full_covar()\n",
    "# mcat.log_current_stats()\n",
    "\n",
    "# be2, post_lnnorm_sd = mcat.get_post_lnnorm()\n",
    "# lnevol, glnvol = mcat.get_post_lnvol(0.6827)\n",
    "\n",
    "# Ncm.cfg_msg_sepa()\n",
    "# print(\n",
    "#     \"# Bayesian evidence:                                 % 22.15g +/- % 22.15g\"\n",
    "#     % (be2, post_lnnorm_sd)\n",
    "# )\n",
    "# print(\"# 1 sigma posterior volume:                          % 22.15g\" % lnevol)\n",
    "# print(\"# 1 sigma posterior volume (Gaussian approximation): % 22.15g\" % glnvol)"
   ]
  },
  {
   "cell_type": "code",
   "execution_count": null,
   "id": "3ee8842b-93a0-4fbe-b270-b178eed3b4b7",
   "metadata": {
    "scrolled": true,
    "tags": []
   },
   "outputs": [],
   "source": [
    "# min_richness = 5\n",
    "# min_halo_mass = 1e13 #Msun\n",
    "\n",
    "# #Halos/Clusters\n",
    "# #CosmoDC2 + RedMaPPer: 'cosmoDC2_v1.1.4_redmapper_v0.8.1'\n",
    "# RM_cat = ClCatalog.read('/global/homes/c/cinlima/NumCosmo/notebooks/richness_proxy/CDC2Data/RM_cat_richness_min_'+str(min_richness)+'.fits', name='RM_cat', full=True, tags={'mass':'richness'})\n",
    "\n",
    "# #CosmoDC2: 'cosmoDC2_v1.1.4_image'\n",
    "# halo_cat = ClCatalog.read('/global/homes/c/cinlima/NumCosmo/notebooks/richness_proxy/CDC2Data/halo_cat_mass_min_'+f\"{min_halo_mass:1.2e}\"+'.fits', name='halo_cat', full=True, tags={'mass':'mass_fof'})\n",
    "\n",
    "# #Members\n",
    "# RM_cat.read_members('/global/homes/c/cinlima/NumCosmo/notebooks/richness_proxy/CDC2Data/RM_cat_richness_min_'+str(min_richness)+'_members.fits',  full=True)\n",
    "# halo_cat.read_members('/global/homes/c/cinlima/NumCosmo/notebooks/richness_proxy/CDC2Data/halo_cat_mass_min_'+f\"{min_halo_mass:1.2e}\"+'_members.fits', full=True)\n",
    "\n",
    "# #Match catalogs\n",
    "# mt = MembershipMatch()\n",
    "\n",
    "# mt.load_matches(RM_cat, halo_cat, out_dir='/global/homes/c/cinlima/NumCosmo/notebooks/richness_proxy/CDC2Data/cosmoDC2_RM_match_cross_membership')\n",
    "\n",
    "# #Matched Data\n",
    "# RM_cat_bij, halo_cat_bij = get_matched_pairs(RM_cat, halo_cat, 'cross')\n",
    "\n",
    "# cdc2_dt = Table([halo_cat_bij['mass_fof'], RM_cat_bij['richness'], RM_cat_bij['z']], names=('m200c', 'richness', 'redshift_true'))\n",
    "# dt_halos = cdc2_dt\n",
    "\n",
    "\n",
    "# fit = catalog_fit(dt_halos, ascaso=False)\n"
   ]
  },
  {
   "cell_type": "code",
   "execution_count": null,
   "id": "cb83b118-af79-43f0-b8b9-534a5af4421b",
   "metadata": {
    "scrolled": true,
    "tags": []
   },
   "outputs": [],
   "source": [
    "# nwalkers = 1500\n",
    "\n",
    "# Ncm.func_eval_set_max_threads(2)\n",
    "# Ncm.func_eval_log_pool_stats()\n",
    "\n",
    "# init_sampler = Ncm.MSetTransKernGauss.new(0)\n",
    "# init_sampler.set_mset(mset)\n",
    "# init_sampler.set_prior_from_mset()\n",
    "# init_sampler.set_cov_from_rescale(1.0)\n",
    "\n",
    "# apes = Ncm.FitESMCMCWalkerAPES.new(nwalkers, mset.fparams_len())\n",
    "\n",
    "# esmcmc = Ncm.FitESMCMC.new(fit, nwalkers, init_sampler, apes, Ncm.FitRunMsgs.FULL)\n",
    "# esmcmc.set_nthreads(2)\n",
    "# esmcmc.set_data_file(\"mcmc2.fits\")\n",
    "\n",
    "# esmcmc.start_run()\n",
    "# esmcmc.run(1000)  \n",
    "# esmcmc.end_run()\n",
    "\n",
    "# esmcmc.mean_covar()\n"
   ]
  },
  {
   "cell_type": "code",
   "execution_count": null,
   "id": "d8bf4ffa-7182-4ae6-ad20-ba5642087d61",
   "metadata": {
    "tags": []
   },
   "outputs": [],
   "source": [
    "# fit.log_covar()"
   ]
  },
  {
   "cell_type": "code",
   "execution_count": null,
   "id": "04ea51f4-b870-4029-8dfc-2ef7a3144d40",
   "metadata": {
    "tags": []
   },
   "outputs": [],
   "source": [
    "# data_fit_full = pd.DataFrame(fits.open(\"mcmc2.fits\")[1].data).iloc[:, 1:14].T\n",
    "# data_fit_void = np.array(data_fit_full)\n",
    "# data_fit = []\n",
    "# for item in data_fit_void:\n",
    "#     arr= np.array(item)\n",
    "#     data_fit.append(np.asarray(arr.tolist()))\n",
    "\n",
    "# names = [\n",
    "#     '1',\n",
    "#     '2',\n",
    "#     '3',\n",
    "#     '4',\n",
    "#     '5',\n",
    "#     '6',\n",
    "#     '7',\n",
    "#     '8',\n",
    "#     '9',\n",
    "#     '10',\n",
    "#     '11',\n",
    "#     '12',\n",
    "#     '13'\n",
    "# ]\n",
    "# labels=[\"\\mu_0\", \"\\mu_{M1}\", \"\\mu_{M2}\", \"\\mu_{Z1}\",\" \\mu_{Z2}\", \"\\mu_{MZ}\", \"\\sigma_0\", \"\\sigma_{M1}\", \"\\sigma_{M2}\", \"\\sigma_{Z1}\", \"\\sigma_{Z2}\", \"\\sigma_{MZ}\",\"A_0\" ]\n",
    "# settings = {\n",
    "#     \"mult_bias_correction_order\": 0,\n",
    "#     \"smooth_scale_2D\": 3,\n",
    "#     \"smooth_scale_1D\": 3,\n",
    "#     \"boundary_correction_order\": 0,\n",
    "# }\n",
    "# samples3 = MCSamples(samples=data_fit, names=names, labels=labels, settings=settings)\n",
    "# samples3.removeBurn(0.3)"
   ]
  },
  {
   "cell_type": "code",
   "execution_count": null,
   "id": "773fb6e2-44b1-431d-9c4b-a875a78def9b",
   "metadata": {
    "tags": []
   },
   "outputs": [],
   "source": [
    "# # Triangle plot\n",
    "# g2 = plots.get_subplot_plotter()\n",
    "\n",
    "# g2.settings.lab_fontsize = 40\n",
    "# g2.settings.legend_fontsize = 40\n",
    "# g2.settings.axes_fontsize = 30\n",
    "\n",
    "# g2.triangle_plot(\n",
    "#     [samples3],\n",
    "#     filled=True,\n",
    "#     contour_ls=\"-\",\n",
    "#     contour_lws=1,\n",
    "#     fine_bins=1,\n",
    "#     colors=['#b186f1'],\n",
    "#     fontsize=70,\n",
    "#     line_args=[{'lw':1.2,'ls':'-', 'color':'#b186f1'}],\n",
    "#     legend_labels=[\"Estendido\", ],\n",
    "# )\n",
    "# plt.savefig('mcmc2.png')\n",
    "# plt.show()\n"
   ]
  },
  {
   "cell_type": "code",
   "execution_count": null,
   "id": "879d743e-8444-478e-9ca2-2edd6eff40d0",
   "metadata": {
    "tags": []
   },
   "outputs": [],
   "source": [
    "# for i in range(1, 14):\n",
    "#     display(Math(samples3.getInlineLatex(str(i),limit=1)))\n"
   ]
  },
  {
   "cell_type": "code",
   "execution_count": null,
   "id": "53fee372-b653-4b84-85fe-5fa6f466c492",
   "metadata": {},
   "outputs": [],
   "source": []
  }
 ],
 "metadata": {
  "kernelspec": {
   "display_name": "numcosmo",
   "language": "python",
   "name": "numcosmo"
  },
  "language_info": {
   "codemirror_mode": {
    "name": "ipython",
    "version": 3
   },
   "file_extension": ".py",
   "mimetype": "text/x-python",
   "name": "python",
   "nbconvert_exporter": "python",
   "pygments_lexer": "ipython3",
   "version": "3.11.9"
  }
 },
 "nbformat": 4,
 "nbformat_minor": 5
}
