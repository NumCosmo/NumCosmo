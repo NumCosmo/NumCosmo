{
 "cells": [
  {
   "cell_type": "markdown",
   "id": "168fb654-ff81-4369-a517-d486ea878845",
   "metadata": {
    "tags": []
   },
   "source": [
    "# Residuals Analysis\n",
    "\n",
    "\n",
    "---\n",
    "**License**\n",
    "\n",
    " Residuals Analisis\n",
    "\n",
    " Sun Dec 01 11:30:00 2024\\\n",
    " Copyright  2024\\\n",
    " Cinthia Nunes de Lima <cinthia.n.lima@uel.br> \\ Sandro Dias Pinto Vitenti <vitenti@uel.br>\n",
    "\n",
    "---\n",
    "---\n",
    "\n",
    " Ascaso_Extended_Calibration\\\n",
    " Copyright (C) 2024 Cinthia Nunes de Lima <cinthia.n.lima@uel.br>, Sandro Dias Pinto Vitenti <vitenti@uel.br>\n",
    "\n",
    " numcosmo is free software: you can redistribute it and/or modify it\n",
    " under the terms of the GNU General Public License as published by the\n",
    " Free Software Foundation, either version 3 of the License, or\n",
    " (at your option) any later version.\n",
    "\n",
    " numcosmo is distributed in the hope that it will be useful, but\n",
    " WITHOUT ANY WARRANTY; without even the implied warranty of\n",
    " MERCHANTABILITY or FITNESS FOR A PARTICULAR PURPOSE.\n",
    " See the GNU General Public License for more details.\n",
    "\n",
    " You should have received a copy of the GNU General Public License along\n",
    " with this program.  If not, see <http://www.gnu.org/licenses/>.\n",
    " \n",
    "---"
   ]
  },
  {
   "cell_type": "markdown",
   "id": "60b3953a-aef6-4988-a024-17b4a79ffc32",
   "metadata": {
    "tags": []
   },
   "source": [
    "## Packages & Configs"
   ]
  },
  {
   "cell_type": "code",
   "execution_count": null,
   "id": "6f68dc3e-4d96-46f9-9fc7-ce35a31dd3a3",
   "metadata": {
    "tags": []
   },
   "outputs": [],
   "source": [
    "import sys\n",
    "sys.path.insert(0, \"/global/homes/c/cinlima/NumCosmo/notebooks/richness_proxy/\")\n",
    "sys.path.insert(0, \"/global/homes/c/cinlima/NumCosmo/notebooks/richness_proxy/Ascaso_Extended_Calibration\")\n",
    "\n",
    "#NumCosmo\n",
    "from numcosmo_py import Ncm, Nc, GObject\n",
    "Ncm.cfg_init()\n",
    "Ncm.cfg_set_log_handler(lambda msg: sys.stdout.write(msg) and sys.stdout.flush())\n",
    "\n",
    "#Calibration functions\n",
    "from AEC_calibration import RichnessMassRelationCalibration as RMRC\n",
    "from AEC_corrected_moments import expected_value, standard_deviation\n",
    "\n",
    "#Useful packages\n",
    "import numpy as np\n",
    "from astropy.table import Table\n",
    "from scipy import stats\n",
    "import statsmodels.api as sm\n",
    "\n",
    "import matplotlib\n",
    "import matplotlib.pyplot as plt\n",
    "\n",
    "%matplotlib inline"
   ]
  },
  {
   "cell_type": "markdown",
   "id": "19edc0ec-02b2-4f9d-9617-02980cf39cbc",
   "metadata": {
    "tags": []
   },
   "source": [
    "## Data"
   ]
  },
  {
   "cell_type": "markdown",
   "id": "a7ac5156-4d0a-466b-bd77-05877034354b",
   "metadata": {},
   "source": [
    "### NumCosmo's Matching By Proximity\n",
    "\n",
    "Data from `cosmoDC2_v1.1.4_image` and `cosmoDC2_v1.1.4_redmapper_v0.8.1` catalogs matched by proximity . See [matching_by_proximity.ipynb](https://github.com/NumCosmo/NumCosmo/blob/ascaso_interface/notebooks/richness_proxy/CatalogsMatching/matching_by_proximity.ipynb)"
   ]
  },
  {
   "cell_type": "code",
   "execution_count": null,
   "id": "d9aa16a1-ff9a-483c-9a9c-2b7f61fa468c",
   "metadata": {},
   "outputs": [],
   "source": [
    "# DC2_rM_mdata = Table.read('CatalogsMatching/match_proximity.fits')\n",
    "# DC2_rM_mdata.rename_column('R', 'richness')\n",
    "# DC2_rM_mdata.rename_column('R_err', 'richness_err')\n",
    "# DC2_rM_mdata.rename_column('z', 'redshift')"
   ]
  },
  {
   "cell_type": "markdown",
   "id": "89313d7c-d14b-466b-972e-b5c77dd79064",
   "metadata": {
    "tags": []
   },
   "source": [
    "### Matching by ID \n",
    "\n",
    "Data from `cosmoDC2_v1.1.4_image` and `cosmoDC2_v1.1.4_redmapper_v0.8.1` catalogs matched by ID . See [matching_by_ID.ipynb](https://github.com/NumCosmo/NumCosmo/blob/ascaso_interface/notebooks/richness_proxy/CatalogsMatching/matching_by_ID.ipynb)"
   ]
  },
  {
   "cell_type": "code",
   "execution_count": null,
   "id": "dfb4fb7c-66d7-4887-bf3c-da7e242d5cd7",
   "metadata": {
    "tags": []
   },
   "outputs": [],
   "source": [
    "DC2_rM_mdata = Table.read('CatalogsMatching/match_ID.fits')\n",
    "DC2_rM_mdata.rename_column('halo_mass', 'mass')"
   ]
  },
  {
   "cell_type": "markdown",
   "id": "52a9523b-49a4-4bf4-a04f-237e0abce8ed",
   "metadata": {},
   "source": [
    "### Clevar Matching"
   ]
  },
  {
   "cell_type": "code",
   "execution_count": null,
   "id": "ef27d321-8df5-46a7-9c71-63b729e54a46",
   "metadata": {},
   "outputs": [],
   "source": [
    "import clevar\n",
    "from clevar import ClCatalog, MemCatalog\n",
    "from clevar.match import MembershipMatch, get_matched_pairs\n",
    "from clevar.match import output_matched_catalog\n",
    "from clevar.match_metrics.scaling import ClCatalogFuncs as s_cf\n",
    "\n",
    "# CLEVAR\n",
    "min_richness = 5\n",
    "min_halo_mass = 1e13 #Msun\n",
    "\n",
    "# Halos/Clusters\n",
    "#CosmoDC2 + RedMaPPer: 'cosmoDC2_v1.1.4_redmapper_v0.8.1'\n",
    "RM_cat = ClCatalog.read('/global/homes/c/cinlima/Data/CDC2Data/RM_cat_richness_min_'+str(min_richness)+'.fits', name='RM_cat', full=True, tags={'mass':'richness'})\n",
    "\n",
    "#CosmoDC2: 'cosmoDC2_v1.1.4_image'\n",
    "halo_cat = ClCatalog.read('/global/homes/c/cinlima/Data/CDC2Data/halo_cat_mass_min_'+f\"{min_halo_mass:1.2e}\"+'.fits', name='halo_cat', full=True, tags={'mass':'mass_fof'})\n",
    "\n",
    "#Members\n",
    "RM_cat.read_members('/global/homes/c/cinlima/Data/CDC2Data/RM_cat_richness_min_'+str(min_richness)+'_members.fits',  full=True)\n",
    "halo_cat.read_members('/global/homes/c/cinlima/Data/CDC2Data/halo_cat_mass_min_'+f\"{min_halo_mass:1.2e}\"+'_members.fits', full=True)\n",
    "\n",
    "#Match catalogs\n",
    "mt = MembershipMatch()\n",
    "\n",
    "mt.load_matches(RM_cat, halo_cat, out_dir='/global/homes/c/cinlima/Data/CDC2Data/cosmoDC2_RM_match_cross_membership')\n",
    "RM_cat_bij, halo_cat_bij = get_matched_pairs(RM_cat, halo_cat, 'cross')"
   ]
  },
  {
   "cell_type": "code",
   "execution_count": null,
   "id": "affe8744-d93e-4c1d-b366-f9b231e89883",
   "metadata": {},
   "outputs": [],
   "source": [
    "DC2_rM_mdata = Table([halo_cat_bij['mass_fof'], RM_cat_bij['richness'], RM_cat_bij['z']], names=('mass', 'richness', 'redshift'))\n"
   ]
  },
  {
   "cell_type": "code",
   "execution_count": null,
   "id": "68caecd0-4062-45ea-a830-48192592360d",
   "metadata": {
    "tags": []
   },
   "outputs": [],
   "source": [
    "mass_dt = DC2_rM_mdata['mass']\n",
    "red_dt = DC2_rM_mdata['redshift']\n",
    "rich_dt = DC2_rM_mdata['richness']\n",
    "\n",
    "print('Data')\n",
    "print('\\t\\tMax \\t\\t\\tMin')\n",
    "print(f'Mass:\\t\\t{max(mass_dt):.2e}, \\t\\t{min(mass_dt):.2e}')\n",
    "print(f'Redshift:\\t{max(red_dt)}, \\t{min(red_dt)}')\n",
    "print(f'Richness:\\t{max(rich_dt)}, \\t{min(rich_dt)}')"
   ]
  },
  {
   "cell_type": "code",
   "execution_count": null,
   "id": "31fad0db-f2c1-4cb3-9365-eeb2a4365ba5",
   "metadata": {},
   "outputs": [],
   "source": [
    "fig, ax = plt.subplots(figsize=(6, 1), layout='constrained')\n",
    "plt.scatter(np.log(mass_dt), np.log(rich_dt), c = 'k', s=10)\n",
    "p2 = ax.scatter(ys, zs , c= xs, s=2.0, cmap='cool')\n",
    "fig.colorbar(p2, ax=ax, label='z')\n",
    "plt.xlabel('lnM', fontsize=16)\n",
    "plt.ylabel('$ln\\lambda$', fontsize=16)\n",
    "\n",
    "plt.show()"
   ]
  },
  {
   "cell_type": "markdown",
   "id": "b09e0aff-2a12-4897-9ff0-c9eaba618406",
   "metadata": {
    "tags": []
   },
   "source": [
    "## Models fit"
   ]
  },
  {
   "cell_type": "code",
   "execution_count": null,
   "id": "67e91eb4-86b6-40da-a6e3-5f02b706c398",
   "metadata": {},
   "outputs": [],
   "source": [
    "richness_cut = 0.0\n",
    "rmc = RMRC(DC2_rM_mdata, richness_cut)"
   ]
  },
  {
   "cell_type": "markdown",
   "id": "31df008d-6304-4ec5-935f-56625010b760",
   "metadata": {
    "tags": []
   },
   "source": [
    "### Ascaso Fit Params\n",
    "\n",
    "Here we do the fitting of linear model parameters using training data in **data_train**. The model is:\n",
    "\n",
    "\\begin{equation}\n",
    "    \\left< \\ln R | M, z \\right> = \\mu_0 + \\mu_1 \\ln\\left( \\frac{M}{M_0} \\right) +  \\mu_2\\ln\\left(\\frac{1 + z}{1 + z_0}\\right);\n",
    "\\end{equation}\n",
    "\n",
    "$$\\textbf{p}_{1} = \\{\\mu_0, \\mu_1, \\mu_2, \\sigma_0, \\sigma_1, \\sigma_2\\}. $$\n",
    "\n",
    "$\\textbf{p}_{1}$ is the vector with the linear model parameters.\n"
   ]
  },
  {
   "cell_type": "code",
   "execution_count": null,
   "id": "61c5cb06-e41b-4743-ad29-9053023cf426",
   "metadata": {
    "scrolled": true,
    "tags": []
   },
   "outputs": [],
   "source": [
    "ascaso, fit_ascaso, dmr_asc = rmc.run_fit('ascaso')\n",
    "\n",
    "lnR_mean_ascaso = rmc.get_mean_model(ascaso, np.log(mass_dt),  red_dt)\n",
    "lnR_std_ascaso = rmc.get_std_model(ascaso, np.log(mass_dt), red_dt)"
   ]
  },
  {
   "cell_type": "markdown",
   "id": "30064cab-46e7-4152-b8f7-a00d40370fe4",
   "metadata": {
    "tags": []
   },
   "source": [
    "### Ext (ln(1+z)) Fit Params\n",
    "Here we do the fitting of quadratic model parameters using training data in **data_train**. Dependence on $\\ln (1 + z)$ is considered:\n",
    "\n",
    "\\begin{equation}\\label{M_R_3}\n",
    "\\begin{split}\n",
    "    \\left<\\ln R | M, z \\right> = \\mu_0 + \n",
    "    \\mu_{M1} \\ln\\left( \\frac{M}{M_0} \\right) +\n",
    "    \\mu_{M2} (\\ln\\left(\\frac{M}{M_0} \\right))^2 +\\\\\n",
    "    + \\mu_{z1} \\ln\\left(\\frac{1 + z}{1 + z_0}\\right) +\n",
    "    \\mu_{z2} (\\ln\\left(\\frac{1 + z}{1 + z_0}\\right))^2 +\\\\\n",
    "    + \\mu_{Mz} \\ln\\left(\\frac{1 + z}{1 + z_0}\\right)\\ln\\left(\\frac{M}{M_0} \\right);\n",
    "\\end{split}\n",
    "\\end{equation}\n",
    "\n",
    "$$\\textbf{p}_{2} = \\{\\mu_0, \\mu_{M1}, \\mu_{M2}, \\mu_{Z1}, \\mu_{Z2}, \\mu_{MZ}, \\sigma_0, \\sigma_{M1}, \\sigma_{M2}, \\sigma_{Z1}, \\sigma_{Z2}, \\sigma_{MZ} \\}.$$\n",
    "\n",
    "$\\textbf{p}_{2}$ is the vector with the quadratic model parameters.\n"
   ]
  },
  {
   "cell_type": "code",
   "execution_count": null,
   "id": "a83e8d7e-cc74-46f2-83ac-fbeb2398eba4",
   "metadata": {
    "scrolled": true,
    "tags": []
   },
   "outputs": [],
   "source": [
    "ext_ln1pz, fit_ext, dmr_ext = rmc.run_fit('ext_ln1pz')\n",
    "\n",
    "lnR_mean_ext_ln1pz = rmc.get_mean_model(ext_ln1pz,  np.log(mass_dt),  red_dt)\n",
    "lnR_std_ext_ln1pz = rmc.get_std_model(ext_ln1pz,  np.log(mass_dt),  red_dt)"
   ]
  },
  {
   "cell_type": "markdown",
   "id": "21c37deb-2c2b-4af4-9b05-ec084526373a",
   "metadata": {
    "tags": []
   },
   "source": [
    "<!-- ### Ext (z) Fit Params\n",
    "\n",
    "Here we do the fitting of quadratic model parameters using training data in **data_train**. Dependence on $z$ is considered:\n",
    "\n",
    "\\begin{equation}\\label{M_R_3}\n",
    "\\begin{split}\n",
    "    \\left<\\ln R | M, z \\right> = \\mu_0 + \n",
    "    \\mu_{M1} \\ln\\left( \\frac{M}{M_0} \\right) +\n",
    "    \\mu_{M2} (\\ln\\left(\\frac{M}{M_0} \\right))^2 +\\\\\n",
    "    + \\mu_{z1} \\left(\\frac{ z}{z_0}\\right) +\n",
    "    \\mu_{z2} \\left(\\frac{z}{z_0}\\right)^2 +\n",
    "    \\mu_{Mz} \\left(\\frac{z}{z_0}\\right)\\ln\\left(\\frac{M}{M_0} \\right);\n",
    "\\end{split}\n",
    "\\end{equation}\n",
    "\n",
    "$$\\textbf{p}_{2} = \\{\\mu_0, \\mu_{M1}, \\mu_{M2}, \\mu_{Z1}, \\mu_{Z2}, \\mu_{MZ}, \\sigma_0, \\sigma_{M1}, \\sigma_{M2}, \\sigma_{Z1}, \\sigma_{Z2}, \\sigma_{MZ} \\}.$$ -->"
   ]
  },
  {
   "cell_type": "markdown",
   "id": "d14c861c-df1c-4bea-b0b1-b4135bfe2558",
   "metadata": {},
   "source": [
    "## Errors"
   ]
  },
  {
   "cell_type": "code",
   "execution_count": null,
   "id": "c564ba7c-980a-4892-aaed-c3ed2be84cee",
   "metadata": {
    "tags": []
   },
   "outputs": [],
   "source": [
    "# Res = (lnR_mean_model - lnR_mean_bin) / Std_model\n",
    "\n",
    "lnR_mean_ext_ln1pz_corrected = expected_value(lnR_mean_ext_ln1pz, lnR_std_ext_ln1pz, richness_cut)\n",
    "lnR_std_ext_ln1pz_corrected = standard_deviation(lnR_mean_ext_ln1pz, lnR_std_ext_ln1pz, richness_cut)\n",
    "\n",
    "lnR_mean_ascaso_corrected = expected_value(lnR_mean_ascaso, lnR_std_ascaso, richness_cut)\n",
    "lnR_std_ascaso_corrected = standard_deviation(lnR_mean_ascaso, lnR_std_ascaso, richness_cut)\n",
    "\n",
    "\n",
    "residuals_ext = (lnR_mean_ext_ln1pz_corrected  - np.log(rich_dt) )  / lnR_std_ext_ln1pz_corrected\n",
    "residuals_asc = (lnR_mean_ascaso_corrected - np.log(rich_dt) )  / lnR_std_ascaso_corrected\n",
    "\n",
    "plt.plot(residuals_ext, '.')\n",
    "plt.title('Scatter Quadratic Model')\n",
    "# plt.xlabel('< ln R | M, z > Quadratic')\n",
    "plt.ylabel('Residuals')"
   ]
  },
  {
   "cell_type": "code",
   "execution_count": null,
   "id": "cf420ad1-8bbc-4c3f-9df8-2469cf051734",
   "metadata": {
    "tags": []
   },
   "outputs": [],
   "source": [
    "plt.plot( residuals_asc, '.')\n",
    "# plt.scatter(range(len(residuals_asc)), residuals_asc)\n",
    "plt.title('Scatter Linear Model')\n",
    "# plt.xlabel('< ln R | M, z > ascaso ')\n",
    "plt.ylabel('Residuals')"
   ]
  },
  {
   "cell_type": "code",
   "execution_count": null,
   "id": "344f6d66-0b8d-46df-b66b-27fa52163fa6",
   "metadata": {},
   "outputs": [],
   "source": [
    "DC2_rM_mdata_cut = DC2_rM_mdata[residuals_ext > -4]\n",
    "\n",
    "plt.scatter(np.log10(DC2_rM_mdata['mass']), np.log(DC2_rM_mdata['richness']))\n",
    "plt.show()\n",
    "\n",
    "plt.scatter(np.log10(DC2_rM_mdata_cut['mass']), np.log(DC2_rM_mdata_cut['richness']))\n",
    "plt.show()"
   ]
  },
  {
   "cell_type": "code",
   "execution_count": null,
   "id": "4179ee1a-d8f4-4080-90f7-69d7d1634cf1",
   "metadata": {
    "tags": []
   },
   "outputs": [],
   "source": [
    "plt.hist(residuals_ext, bins=100, density=True)\n",
    "\n",
    "x = np.linspace( -3, 3, 100)\n",
    "plt.plot(x, stats.norm.pdf(x, 0, 1))\n",
    "\n",
    "plt.title('Histogram quadratic Model')"
   ]
  },
  {
   "cell_type": "code",
   "execution_count": null,
   "id": "e91be7da-95c3-4b64-be01-373a4fcbfdc7",
   "metadata": {
    "tags": []
   },
   "outputs": [],
   "source": [
    "plt.hist(residuals_asc, bins=100, density=True)\n",
    "plt.plot(x, stats.norm.pdf(x, 0, 1))\n",
    "plt.title('Histogram Linear Model')"
   ]
  },
  {
   "cell_type": "code",
   "execution_count": null,
   "id": "27ddc4a5-2cec-4ff0-8acb-fddddbca972a",
   "metadata": {
    "tags": []
   },
   "outputs": [],
   "source": [
    "fig = sm.qqplot(residuals_ext, line='45')\n",
    "plt.title('Q-Q Plot Quadratic Model')\n",
    "plt.show()"
   ]
  },
  {
   "cell_type": "code",
   "execution_count": null,
   "id": "87bb1957-39df-4626-8776-0f623b3fddc1",
   "metadata": {
    "tags": []
   },
   "outputs": [],
   "source": [
    "fig = sm.qqplot(residuals_asc, line='45')\n",
    "plt.title('Q-Q Plot Linear Model')\n",
    "\n",
    "plt.show()"
   ]
  },
  {
   "cell_type": "code",
   "execution_count": null,
   "id": "6eee0b6e-5e60-42f0-b098-b85654c7286c",
   "metadata": {},
   "outputs": [],
   "source": []
  }
 ],
 "metadata": {
  "kernelspec": {
   "display_name": "numcosmo",
   "language": "python",
   "name": "numcosmo"
  },
  "language_info": {
   "codemirror_mode": {
    "name": "ipython",
    "version": 3
   },
   "file_extension": ".py",
   "mimetype": "text/x-python",
   "name": "python",
   "nbconvert_exporter": "python",
   "pygments_lexer": "ipython3",
   "version": "3.11.11"
  }
 },
 "nbformat": 4,
 "nbformat_minor": 5
}
