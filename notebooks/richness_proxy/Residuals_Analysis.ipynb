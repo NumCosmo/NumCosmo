{
 "cells": [
  {
   "cell_type": "markdown",
   "id": "168fb654-ff81-4369-a517-d486ea878845",
   "metadata": {
    "tags": []
   },
   "source": [
    "# Residuals Analysis\n",
    "\n",
    "\n",
    "---\n",
    "**License**\n",
    "\n",
    " Residuals Analisis\n",
    "\n",
    " Sun Dec 01 11:30:00 2024\\\n",
    " Copyright  2024\\\n",
    " Cinthia Nunes de Lima <cinthia.n.lima@uel.br> \\ Sandro Dias Pinto Vitenti <vitenti@uel.br>\n",
    "\n",
    "---\n",
    "---\n",
    "\n",
    " Ascaso_Extended_Calibration\\\n",
    " Copyright (C) 2024 Cinthia Nunes de Lima <cinthia.n.lima@uel.br>, Sandro Dias Pinto Vitenti <vitenti@uel.br>\n",
    "\n",
    " numcosmo is free software: you can redistribute it and/or modify it\n",
    " under the terms of the GNU General Public License as published by the\n",
    " Free Software Foundation, either version 3 of the License, or\n",
    " (at your option) any later version.\n",
    "\n",
    " numcosmo is distributed in the hope that it will be useful, but\n",
    " WITHOUT ANY WARRANTY; without even the implied warranty of\n",
    " MERCHANTABILITY or FITNESS FOR A PARTICULAR PURPOSE.\n",
    " See the GNU General Public License for more details.\n",
    "\n",
    " You should have received a copy of the GNU General Public License along\n",
    " with this program.  If not, see <http://www.gnu.org/licenses/>.\n",
    " \n",
    "---"
   ]
  },
  {
   "cell_type": "markdown",
   "id": "60b3953a-aef6-4988-a024-17b4a79ffc32",
   "metadata": {
    "tags": []
   },
   "source": [
    "## Packages & Configs"
   ]
  },
  {
   "cell_type": "code",
   "execution_count": 1,
   "id": "6f68dc3e-4d96-46f9-9fc7-ce35a31dd3a3",
   "metadata": {
    "tags": []
   },
   "outputs": [],
   "source": [
    "import sys\n",
    "sys.path.insert(0, \"/global/homes/c/cinlima/NumCosmo/notebooks/richness_proxy/\")\n",
    "sys.path.insert(0, \"/global/homes/c/cinlima/NumCosmo/notebooks/richness_proxy/Scripts\")\n",
    "\n",
    "\n",
    "#NumCosmo\n",
    "from numcosmo_py import Ncm, Nc, GObject\n",
    "from richness_mass_calib import create_richness_mass_calib\n",
    "\n",
    "#Useful packages\n",
    "import numpy as np\n",
    "import math\n",
    "from scipy import stats\n",
    "import statsmodels.api as sm\n",
    "\n",
    "\n",
    "from astropy.io import fits\n",
    "from astropy.table import Table\n",
    "import pandas as pd\n",
    "\n",
    "from sklearn.model_selection import train_test_split\n",
    "from sklearn.metrics import mean_absolute_percentage_error\n",
    "\n",
    "import os\n",
    "\n",
    "import matplotlib\n",
    "import matplotlib.pyplot as plt\n",
    "import matplotlib.pyplot as gridspec\n",
    "from matplotlib.gridspec import GridSpec\n",
    "\n",
    "sys.path.insert(0, \"/global/homes/c/cinlima/gcrcatalogs-new/gcr-catalogs\")\n",
    "import GCRCatalogs\n",
    "\n",
    "%matplotlib inline\n",
    "\n",
    "Ncm.cfg_init()\n",
    "Ncm.cfg_set_log_handler(lambda msg: sys.stdout.write(msg) and sys.stdout.flush())\n",
    "\n",
    "sys.path.insert(0, \"global/homes/c/cinlima/clevar/clevar\")\n",
    "\n",
    "#Put nerc if using nersc\n",
    "GCRCatalogs.set_root_dir_by_site(\"nersc\")\n",
    "\n",
    "#Calibration functions\n",
    "from bdata import BinningData\n",
    "from fitting_model import FittingModel"
   ]
  },
  {
   "cell_type": "markdown",
   "id": "19edc0ec-02b2-4f9d-9617-02980cf39cbc",
   "metadata": {
    "tags": []
   },
   "source": [
    "## Data"
   ]
  },
  {
   "cell_type": "code",
   "execution_count": 2,
   "id": "cf0b6bb8-7824-4298-af7c-0b0d7e37beda",
   "metadata": {
    "tags": []
   },
   "outputs": [],
   "source": [
    "test_matchdata = pd.read_csv('/global/homes/c/cinlima/MatchingCatalogs/match_catalog.csv',  sep = ';')\n",
    "\n",
    "rich_data = test_matchdata[\"richness\"]\n",
    "z_data = test_matchdata[\"redshift_y\"]\n",
    "mass_data = test_matchdata[\"halo_mass\"]\n",
    "\n",
    "test_dt = Table([mass_data, rich_data, z_data], names=('mass', 'richness', 'redshift'))"
   ]
  },
  {
   "cell_type": "code",
   "execution_count": 3,
   "id": "68caecd0-4062-45ea-a830-48192592360d",
   "metadata": {
    "tags": []
   },
   "outputs": [
    {
     "name": "stdout",
     "output_type": "stream",
     "text": [
      "Mass:\t1.70e+15, 1.00e+13\n",
      "redshift_true:\t1.1998511783121597, 0.0788790195519597\n",
      "richness:\t233.71042, 5.007845\n"
     ]
    }
   ],
   "source": [
    "test_dt = Table([mass_data, rich_data, z_data], names=('mass', 'richness', 'redshift'))\n",
    "test_dt = test_dt[test_dt['mass'] > 1.0e13]\n",
    "test_dt = test_dt[np.logical_and(test_dt['redshift'] > 0, test_dt['redshift']< 3)]\n",
    "test_dt = test_dt[np.logical_and(test_dt['richness'] > 0, test_dt['richness'] < 250)]\n",
    "\n",
    "mass_dt = test_dt['mass']\n",
    "red_dt = test_dt['redshift']\n",
    "rich_dt = test_dt['richness']\n",
    "\n",
    "print(f'Mass:\\t{max(mass_dt):.2e}, {min(mass_dt):.2e}')\n",
    "print(f'redshift_true:\\t{max(red_dt)}, {min(red_dt)}')\n",
    "print(f'richness:\\t{max(rich_dt)}, {min(rich_dt)}')\n",
    "\n",
    "\n",
    "dt_halos = test_dt"
   ]
  },
  {
   "cell_type": "markdown",
   "id": "b09e0aff-2a12-4897-9ff0-c9eaba618406",
   "metadata": {
    "tags": []
   },
   "source": [
    "## Models fit"
   ]
  },
  {
   "cell_type": "markdown",
   "id": "f6e6dcb8-9369-4251-baae-8820c89a3122",
   "metadata": {
    "tags": []
   },
   "source": [
    "### Training and test sets"
   ]
  },
  {
   "cell_type": "code",
   "execution_count": 4,
   "id": "806050e6-4b3a-4dc3-a4f8-c54a07bf34c9",
   "metadata": {
    "tags": []
   },
   "outputs": [],
   "source": [
    "#Length of bins\n",
    "b_z = 0.01\n",
    "b_m = 0.05"
   ]
  },
  {
   "cell_type": "code",
   "execution_count": 5,
   "id": "eb902ff8-3079-41a6-8b97-c1666de2e761",
   "metadata": {
    "tags": []
   },
   "outputs": [],
   "source": [
    "X = pd.DataFrame({'mass': list(dt_halos[\"mass\"]), 'redshift': list(dt_halos[\"redshift\"])})\n",
    "y = pd.DataFrame({'richness': list(dt_halos[\"richness\"])})\n",
    "\n",
    "fm = FittingModel(dt_halos, b_z, b_m) #Fit object\n",
    "\n",
    "data_train = fm.cvdata(X,y)[0]\n",
    "data_test = fm.cvdata(X,y)[1]\n",
    "\n",
    "#Test  data\n",
    "# data_test = pd.concat([X_test, y_test], axis=1)\n",
    "\n",
    "# print( data_test.shape, X_test.shape, y_test.shape )\n",
    "# print( data_train.shape, X_train.shape, y_train.shape )\n",
    "\n",
    "# print( data_test.shape[0] + data_train.shape[0] )\n",
    "\n",
    "# print( len(dt_halos) )\n"
   ]
  },
  {
   "cell_type": "markdown",
   "id": "650bc68f-cc19-4d80-9e5d-17560f6f9f88",
   "metadata": {
    "tags": []
   },
   "source": [
    "### Bins\n"
   ]
  },
  {
   "cell_type": "code",
   "execution_count": 6,
   "id": "da57aa0c-142e-4eba-9ef2-aa57b50279d4",
   "metadata": {
    "tags": []
   },
   "outputs": [
    {
     "name": "stdout",
     "output_type": "stream",
     "text": [
      "Total bins in halos_mean: 5584\n"
     ]
    }
   ],
   "source": [
    "# Bins length\n",
    "bd = BinningData(dt_halos)\n",
    "bin_f= bd.get_mean_bd(b_z, b_m)\n",
    "halos_mean = bin_f[0]\n",
    "\n",
    "# hbmz = bd.data_binning(b_z, b_m)\n",
    "\n",
    "# print(f'Total bins in halos_bin_mz: {len(hbmz)}')\n",
    "print(f'Total bins in halos_mean: {len(bin_f[0])}')\n"
   ]
  },
  {
   "cell_type": "markdown",
   "id": "31df008d-6304-4ec5-935f-56625010b760",
   "metadata": {
    "tags": []
   },
   "source": [
    "### Ascaso Fit Params\n",
    "\n",
    "Here we do the fitting of linear model parameters using training data in **data_train**. The model is:\n",
    "\n",
    "\\begin{equation}\n",
    "    \\left< \\ln R | M, z \\right> = \\mu_0 + \\mu_1 \\ln\\left( \\frac{M}{M_0} \\right) +  \\mu_2\\ln\\left(\\frac{1 + z}{1 + z_0}\\right);\n",
    "\\end{equation}\n",
    "\n",
    "$$\\textbf{p}_{1} = \\{\\mu_0, \\mu_1, \\mu_2, \\sigma_0, \\sigma_1, \\sigma_2\\}. $$\n",
    "\n",
    "$\\textbf{p}_{1}$ is the vector with the linear model parameters.\n"
   ]
  },
  {
   "cell_type": "code",
   "execution_count": 34,
   "id": "61c5cb06-e41b-4743-ad29-9053023cf426",
   "metadata": {
    "scrolled": true,
    "tags": []
   },
   "outputs": [
    {
     "name": "stdout",
     "output_type": "stream",
     "text": [
      "#----------------------------------------------------------------------------------\n",
      "# Data used:\n",
      "#   - NcDataClusterMassRich\n",
      "#----------------------------------------------------------------------------------\n",
      "# Model[09000]:\n",
      "#   - NcClusterMass : Ascaso Ln-normal richness distribution\n",
      "#----------------------------------------------------------------------------------\n",
      "# Model parameters\n",
      "#   -    mup0[00]:  3.19                [FREE]\n",
      "#   -    mup1[01]:  0.868588963806504   [FREE]\n",
      "#   -    mup2[02]: -0.304006137332276   [FREE]\n",
      "#   - sigmap0[03]:  0.33                [FREE]\n",
      "#   - sigmap1[04]: -0.0347435585522601  [FREE]\n",
      "#   - sigmap2[05]:  0                   [FREE]\n",
      "#   -     cut[06]:  100                 [FIXED]\n",
      "#----------------------------------------------------------------------------------\n",
      "# Model fitting. Interating using:\n",
      "#  - solver:            NLOpt:ln-neldermead\n",
      "#  - differentiation:   Numerical differentiantion (central)\n",
      "#...........................................................................................\n",
      "#  Minimum found with precision: |df|/f =  1.00000e-08 and |dx| =  1.00000e-05\n",
      "#  Elapsed time: 00 days, 00:00:02.0436330\n",
      "#  iteration            [000826]\n",
      "#  function evaluations [000828]\n",
      "#  gradient evaluations [000000]\n",
      "#  degrees of freedom   [039590]\n",
      "#  m2lnL     =     20786.8511084943 (     20786.851 )\n",
      "#  Fit parameters:\n",
      "#     3.03826658887641       0.359049566741553      0.0303398136036872     0.640716649877213      0.10514105492199       0.108321562104064     \n",
      "#----------------------------------------------------------------------------------\n",
      "# Restarting:              yes\n",
      "#  - absolute improvement: 265522.113606576      \n",
      "#  - relative improvement: 0.927397135017476     \n",
      "#  - m2lnL_0  :            286308.96471507       \n",
      "#  - m2lnL_1  :            20786.8511084943      \n",
      "#----------------------------------------------------------------------------------\n",
      "# Model fitting. Interating using:\n",
      "#  - solver:            NLOpt:ln-neldermead\n",
      "#  - differentiation:   Numerical differentiantion (central)\n",
      "#......................\n",
      "#  Minimum found with precision: |df|/f =  1.00000e-08 and |dx| =  1.00000e-05\n",
      "#  Elapsed time: 00 days, 00:00:00.3363990\n",
      "#  iteration            [000135]\n",
      "#  function evaluations [000137]\n",
      "#  gradient evaluations [000000]\n",
      "#  degrees of freedom   [039590]\n",
      "#  m2lnL     =      20786.850881296 (     20786.851 )\n",
      "#  Fit parameters:\n",
      "#     3.03826861240624       0.359044817948166      0.0302912278965003     0.640705109424481      0.105139082652985      0.108332769717316     \n",
      "#----------------------------------------------------------------------------------\n",
      "# Restarting:              no\n",
      "#  - absolute improvement: 0.000227198328502709  \n",
      "#  - relative improvement: 1.09299059928258e-08  \n",
      "#  - m2lnL_1  :            20786.8511084943      \n",
      "#  - m2lnL_2  :            20786.850881296       \n",
      "#----------------------------------------------------------------------------------\n",
      "# Data used:\n",
      "#   - NcDataClusterMassRich\n",
      "#----------------------------------------------------------------------------------\n",
      "# Model[09000]:\n",
      "#   - NcClusterMass : Ascaso Ln-normal richness distribution\n",
      "#----------------------------------------------------------------------------------\n",
      "# Model parameters\n",
      "#   -    mup0[00]:  3.03826861240624    [FREE]\n",
      "#   -    mup1[01]:  0.359044817948166   [FREE]\n",
      "#   -    mup2[02]:  0.0302912278965003  [FREE]\n",
      "#   - sigmap0[03]:  0.640705109424481   [FREE]\n",
      "#   - sigmap1[04]:  0.105139082652985   [FREE]\n",
      "#   - sigmap2[05]:  0.108332769717316   [FREE]\n",
      "#   -     cut[06]:  100                 [FIXED]\n"
     ]
    }
   ],
   "source": [
    "# model_fit:\n",
    "# returns:\n",
    "# lnR_mean_model: < ln R | M, z > \n",
    "# lnR_std_model: std model\n",
    "# model: model object\n",
    "# model_mean: (mean lnR, mean lnM, mean z) in each bin.\n",
    "# model_std: std in each bin\n",
    "\n",
    "lnR_mean_ascaso, lnR_std_ascaso, ascaso, asc_mean, asc_std = fm.model_fit('ascaso', training = False)"
   ]
  },
  {
   "cell_type": "markdown",
   "id": "30064cab-46e7-4152-b8f7-a00d40370fe4",
   "metadata": {
    "tags": []
   },
   "source": [
    "### Ext (ln(1+z)) Fit Params\n",
    "Here we do the fitting of quadratic model parameters using training data in **data_train**. Dependence on $\\ln (1 + z)$ is considered:\n",
    "\n",
    "\\begin{equation}\\label{M_R_3}\n",
    "\\begin{split}\n",
    "    \\left<\\ln R | M, z \\right> = \\mu_0 + \n",
    "    \\mu_{M1} \\ln\\left( \\frac{M}{M_0} \\right) +\n",
    "    \\mu_{M2} (\\ln\\left(\\frac{M}{M_0} \\right))^2 +\\\\\n",
    "    + \\mu_{z1} \\ln\\left(\\frac{1 + z}{1 + z_0}\\right) +\n",
    "    \\mu_{z2} (\\ln\\left(\\frac{1 + z}{1 + z_0}\\right))^2 +\\\\\n",
    "    + \\mu_{Mz} \\ln\\left(\\frac{1 + z}{1 + z_0}\\right)\\ln\\left(\\frac{M}{M_0} \\right);\n",
    "\\end{split}\n",
    "\\end{equation}\n",
    "\n",
    "$$\\textbf{p}_{2} = \\{\\mu_0, \\mu_{M1}, \\mu_{M2}, \\mu_{Z1}, \\mu_{Z2}, \\mu_{MZ}, \\sigma_0, \\sigma_{M1}, \\sigma_{M2}, \\sigma_{Z1}, \\sigma_{Z2}, \\sigma_{MZ} \\}.$$\n",
    "\n",
    "$\\textbf{p}_{2}$ is the vector with the quadratic model parameters.\n"
   ]
  },
  {
   "cell_type": "code",
   "execution_count": 35,
   "id": "a83e8d7e-cc74-46f2-83ac-fbeb2398eba4",
   "metadata": {
    "scrolled": true,
    "tags": []
   },
   "outputs": [
    {
     "name": "stdout",
     "output_type": "stream",
     "text": [
      "#----------------------------------------------------------------------------------\n",
      "# Data used:\n",
      "#   - NcDataClusterMassRich\n",
      "#----------------------------------------------------------------------------------\n",
      "# Model[09000]:\n",
      "#   - NcClusterMass : LnrichExt Ln-normal richness distribution\n",
      "#----------------------------------------------------------------------------------\n",
      "# Model parameters\n",
      "#   -      mu[00]:  3.19                [FREE]\n",
      "#   -    muM1[01]:  0.868588963806504   [FREE]\n",
      "#   -    muZ1[02]: -0.304006137332276   [FREE]\n",
      "#   -    muM2[03]:  0                   [FREE]\n",
      "#   -    muZ2[04]:  0                   [FREE]\n",
      "#   -    muMZ[05]:  0                   [FREE]\n",
      "#   -  sigma0[06]:  0.33                [FREE]\n",
      "#   - sigmaM1[07]: -0.0347435585522601  [FREE]\n",
      "#   - sigmaZ1[08]:  0                   [FREE]\n",
      "#   - sigmaM2[09]:  0                   [FREE]\n",
      "#   - sigmaZ2[10]:  0                   [FREE]\n",
      "#   - sigmaMZ[11]:  0                   [FREE]\n",
      "#   -      A0[12]:  0                   [FIXED]\n",
      "#   -     cut[13]:  100                 [FIXED]\n",
      "#   -   cutM1[14]:  0                   [FIXED]\n",
      "#   -   cutZ1[15]:  0                   [FIXED]\n",
      "#----------------------------------------------------------------------------------\n",
      "# Model fitting. Interating using:\n",
      "#  - solver:            NLOpt:ln-neldermead\n",
      "#  - differentiation:   Numerical differentiantion (central)\n",
      "#...............................................................................................................................................................................................................................................................\n",
      "#  Minimum found with precision: |df|/f =  1.00000e-08 and |dx| =  1.00000e-05\n",
      "#  Elapsed time: 00 days, 00:00:09.5679510\n",
      "#  iteration            [002463]\n",
      "#  function evaluations [002465]\n",
      "#  gradient evaluations [000000]\n",
      "#  degrees of freedom   [039584]\n",
      "#  m2lnL     =     12967.3813492622 (     12967.381 )\n",
      "#  Fit parameters:\n",
      "#     4.12607957725008       1.3485024220357       -0.471176998619729      0.205464644813464     -1.05785865264102      -0.19830341580754       0.408630144453827     -0.32972921068411       0.184084969608844     -0.0204319169691784     0.206225380121154      0.184571955167702     \n",
      "#----------------------------------------------------------------------------------\n",
      "# Restarting:              yes\n",
      "#  - absolute improvement: 134751.406747369      \n",
      "#  - relative improvement: 0.912215761337146     \n",
      "#  - m2lnL_0  :            147718.788096631      \n",
      "#  - m2lnL_1  :            12967.3813492622      \n",
      "#----------------------------------------------------------------------------------\n",
      "# Model fitting. Interating using:\n",
      "#  - solver:            NLOpt:ln-neldermead\n",
      "#  - differentiation:   Numerical differentiantion (central)\n",
      "#............................................................................................................................................................................................................................................................................................................................................................................................................................\n",
      "#  Minimum found with precision: |df|/f =  1.00000e-08 and |dx| =  1.00000e-05\n",
      "#  Elapsed time: 00 days, 00:00:15.3708730\n",
      "#  iteration            [004034]\n",
      "#  function evaluations [004036]\n",
      "#  gradient evaluations [000000]\n",
      "#  degrees of freedom   [039584]\n",
      "#  m2lnL     =     12151.1997539071 (       12151.2 )\n",
      "#  Fit parameters:\n",
      "#     4.23637563132032       1.46501355035407       0.26443939874922       0.230207545259686     -0.706991816836357      0.0702193781756522     0.032347672974379     -0.684849591342018      0.0856583611754518    -0.094952857834181      0.375631882328736      0.151315020944093     \n",
      "#----------------------------------------------------------------------------------\n",
      "# Restarting:              yes\n",
      "#  - absolute improvement: 816.181595355034      \n",
      "#  - relative improvement: 0.062941126922397     \n",
      "#  - m2lnL_1  :            12967.3813492622      \n",
      "#  - m2lnL_2  :            12151.1997539071      \n",
      "#----------------------------------------------------------------------------------\n",
      "# Model fitting. Interating using:\n",
      "#  - solver:            NLOpt:ln-neldermead\n",
      "#  - differentiation:   Numerical differentiantion (central)\n",
      "#.................................\n",
      "#  Minimum found with precision: |df|/f =  1.00000e-08 and |dx| =  1.00000e-05\n",
      "#  Elapsed time: 00 days, 00:00:00.9401480\n",
      "#  iteration            [000245]\n",
      "#  function evaluations [000247]\n",
      "#  gradient evaluations [000000]\n",
      "#  degrees of freedom   [039584]\n",
      "#  m2lnL     =     12151.1997335982 (       12151.2 )\n",
      "#  Fit parameters:\n",
      "#     4.23637808187354       1.46502062606928       0.264383657603196      0.230211988754158     -0.707197565178427      0.0701712026919546     0.0323451739296593    -0.684845898526242      0.0853723573134225    -0.0949472324399997     0.375825865255566      0.15126659051794      \n",
      "#----------------------------------------------------------------------------------\n",
      "# Restarting:              no\n",
      "#  - absolute improvement: 2.03089002752677e-05  \n",
      "#  - relative improvement: 1.67134938825588e-09  \n",
      "#  - m2lnL_2  :            12151.1997539071      \n",
      "#  - m2lnL_3  :            12151.1997335982      \n",
      "#----------------------------------------------------------------------------------\n",
      "# Data used:\n",
      "#   - NcDataClusterMassRich\n",
      "#----------------------------------------------------------------------------------\n",
      "# Model[09000]:\n",
      "#   - NcClusterMass : LnrichExt Ln-normal richness distribution\n",
      "#----------------------------------------------------------------------------------\n",
      "# Model parameters\n",
      "#   -      mu[00]:  4.23637808187354    [FREE]\n",
      "#   -    muM1[01]:  1.46502062606928    [FREE]\n",
      "#   -    muZ1[02]:  0.264383657603196   [FREE]\n",
      "#   -    muM2[03]:  0.230211988754158   [FREE]\n",
      "#   -    muZ2[04]: -0.707197565178427   [FREE]\n",
      "#   -    muMZ[05]:  0.0701712026919546  [FREE]\n",
      "#   -  sigma0[06]:  0.0323451739296593  [FREE]\n",
      "#   - sigmaM1[07]: -0.684845898526242   [FREE]\n",
      "#   - sigmaZ1[08]:  0.0853723573134225  [FREE]\n",
      "#   - sigmaM2[09]: -0.0949472324399997  [FREE]\n",
      "#   - sigmaZ2[10]:  0.375825865255566   [FREE]\n",
      "#   - sigmaMZ[11]:  0.15126659051794    [FREE]\n",
      "#   -      A0[12]:  0                   [FIXED]\n",
      "#   -     cut[13]:  100                 [FIXED]\n",
      "#   -   cutM1[14]:  0                   [FIXED]\n",
      "#   -   cutZ1[15]:  0                   [FIXED]\n"
     ]
    }
   ],
   "source": [
    "# model_fit:\n",
    "# returns:\n",
    "# lnR_mean_model: < ln R | M, z > \n",
    "# lnR_std_model: std model\n",
    "# model: model object\n",
    "# model_mean: (mean lnR, mean lnM, mean z) in each bin.\n",
    "# model_std: std in each bin\n",
    "\n",
    "lnR_mean_ext_ln1pz, lnR_std_ext_ln1pz, ext_ln1pz, ext_mean, ext_std = fm.model_fit('ext_ln1pz', training = False)"
   ]
  },
  {
   "cell_type": "markdown",
   "id": "21c37deb-2c2b-4af4-9b05-ec084526373a",
   "metadata": {
    "tags": []
   },
   "source": [
    "### Ext (z) Fit Params\n",
    "\n",
    "Here we do the fitting of quadratic model parameters using training data in **data_train**. Dependence on $z$ is considered:\n",
    "\n",
    "\\begin{equation}\\label{M_R_3}\n",
    "\\begin{split}\n",
    "    \\left<\\ln R | M, z \\right> = \\mu_0 + \n",
    "    \\mu_{M1} \\ln\\left( \\frac{M}{M_0} \\right) +\n",
    "    \\mu_{M2} (\\ln\\left(\\frac{M}{M_0} \\right))^2 +\\\\\n",
    "    + \\mu_{z1} \\left(\\frac{ z}{z_0}\\right) +\n",
    "    \\mu_{z2} \\left(\\frac{z}{z_0}\\right)^2 +\n",
    "    \\mu_{Mz} \\left(\\frac{z}{z_0}\\right)\\ln\\left(\\frac{M}{M_0} \\right);\n",
    "\\end{split}\n",
    "\\end{equation}\n",
    "\n",
    "$$\\textbf{p}_{2} = \\{\\mu_0, \\mu_{M1}, \\mu_{M2}, \\mu_{Z1}, \\mu_{Z2}, \\mu_{MZ}, \\sigma_0, \\sigma_{M1}, \\sigma_{M2}, \\sigma_{Z1}, \\sigma_{Z2}, \\sigma_{MZ} \\}.$$"
   ]
  },
  {
   "cell_type": "code",
   "execution_count": 9,
   "id": "7011cfd6-a3de-48fe-8c3b-42633729cd24",
   "metadata": {
    "scrolled": true,
    "tags": []
   },
   "outputs": [
    {
     "name": "stdout",
     "output_type": "stream",
     "text": [
      "#----------------------------------------------------------------------------------\n",
      "# Data used:\n",
      "#   - NcDataClusterMassRich\n",
      "#----------------------------------------------------------------------------------\n",
      "# Model[09000]:\n",
      "#   - NcClusterMass : LnrichExt Ln-normal richness distribution\n",
      "#----------------------------------------------------------------------------------\n",
      "# Model parameters\n",
      "#   -      mu[00]:  3.19                [FREE]\n",
      "#   -    muM1[01]:  0.868588963806504   [FREE]\n",
      "#   -    muZ1[02]: -0.304006137332276   [FREE]\n",
      "#   -    muM2[03]:  0                   [FREE]\n",
      "#   -    muZ2[04]:  0                   [FREE]\n",
      "#   -    muMZ[05]:  0                   [FREE]\n",
      "#   -  sigma0[06]:  0.33                [FREE]\n",
      "#   - sigmaM1[07]: -0.0347435585522601  [FREE]\n",
      "#   - sigmaZ1[08]:  0                   [FREE]\n",
      "#   - sigmaM2[09]:  0                   [FREE]\n",
      "#   - sigmaZ2[10]:  0                   [FREE]\n",
      "#   - sigmaMZ[11]:  0                   [FREE]\n",
      "#   -      A0[12]:  0                   [FIXED]\n",
      "#   -     cut[13]:  100                 [FIXED]\n",
      "#   -   cutM1[14]:  0                   [FIXED]\n",
      "#   -   cutZ1[15]:  0                   [FIXED]\n",
      "#----------------------------------------------------------------------------------\n",
      "# Model fitting. Interating using:\n",
      "#  - solver:            NLOpt:ln-neldermead\n",
      "#  - differentiation:   Numerical differentiantion (central)\n",
      "#..............................................................................................................................................................................................................................................................................................................................................................................................................\n",
      "#  Minimum found with precision: |df|/f =  1.00000e-08 and |dx| =  1.00000e-05\n",
      "#  Elapsed time: 00 days, 00:00:07.4311170\n",
      "#  iteration            [003891]\n",
      "#  function evaluations [003893]\n",
      "#  gradient evaluations [000000]\n",
      "#  degrees of freedom   [027705]\n",
      "#  m2lnL     =     9226.58455873162 (     9226.5846 )\n",
      "#  Fit parameters:\n",
      "#     3.46637522795116       1.01142995612931       0.424196045907064      0.151421936701908     -0.12303675003531       0.0522927656924766     0.1117215054236       -0.858772039622796     -0.484617046554881     -0.104690451095429      0.285524959700272      0.117259154517365     \n",
      "#----------------------------------------------------------------------------------\n",
      "# Restarting:              yes\n",
      "#  - absolute improvement: 146477.412919449      \n",
      "#  - relative improvement: 0.940742789471256     \n",
      "#  - m2lnL_0  :            155703.99747818       \n",
      "#  - m2lnL_1  :            9226.58455873162      \n",
      "#----------------------------------------------------------------------------------\n",
      "# Model fitting. Interating using:\n",
      "#  - solver:            NLOpt:ln-neldermead\n",
      "#  - differentiation:   Numerical differentiantion (central)\n",
      "#...................................................................................................................................................................................................................................................................................................................................................................\n",
      "#  Minimum found with precision: |df|/f =  1.00000e-08 and |dx| =  1.00000e-05\n",
      "#  Elapsed time: 00 days, 00:00:06.6486770\n",
      "#  iteration            [003466]\n",
      "#  function evaluations [003468]\n",
      "#  gradient evaluations [000000]\n",
      "#  degrees of freedom   [027705]\n",
      "#  m2lnL     =     8445.53355344314 (     8445.5336 )\n",
      "#  Fit parameters:\n",
      "#     4.06360788641259       1.46089576671981       0.29462980750266       0.233511135153081     -0.098118899369811      0.0220014387433599     0.041508412646278     -0.737669526014811     -0.0213142013882034    -0.0931928673173572     0.0347006524028242     0.0645382538330547    \n",
      "#----------------------------------------------------------------------------------\n",
      "# Restarting:              yes\n",
      "#  - absolute improvement: 781.05100528848       \n",
      "#  - relative improvement: 0.0846522351057119    \n",
      "#  - m2lnL_1  :            9226.58455873162      \n",
      "#  - m2lnL_2  :            8445.53355344314      \n",
      "#----------------------------------------------------------------------------------\n",
      "# Model fitting. Interating using:\n",
      "#  - solver:            NLOpt:ln-neldermead\n",
      "#  - differentiation:   Numerical differentiantion (central)\n",
      "#........................................\n",
      "#  Minimum found with precision: |df|/f =  1.00000e-08 and |dx| =  1.00000e-05\n",
      "#  Elapsed time: 00 days, 00:00:00.6040990\n",
      "#  iteration            [000313]\n",
      "#  function evaluations [000315]\n",
      "#  gradient evaluations [000000]\n",
      "#  degrees of freedom   [027705]\n",
      "#  m2lnL     =     8445.53346946639 (     8445.5335 )\n",
      "#  Fit parameters:\n",
      "#     4.06362689856482       1.46088918674258       0.29463421287916       0.233507210195635     -0.0981291527211437     0.0220011938164124     0.0414558041533841    -0.737664861008829     -0.0213753504021969    -0.0931880532593168     0.0347297952041746     0.0645228518715577    \n",
      "#----------------------------------------------------------------------------------\n",
      "# Restarting:              no\n",
      "#  - absolute improvement: 8.39767471916275e-05  \n",
      "#  - relative improvement: 9.94333237328638e-09  \n",
      "#  - m2lnL_2  :            8445.53355344314      \n",
      "#  - m2lnL_3  :            8445.53346946639      \n",
      "#----------------------------------------------------------------------------------\n",
      "# Data used:\n",
      "#   - NcDataClusterMassRich\n",
      "#----------------------------------------------------------------------------------\n",
      "# Model[09000]:\n",
      "#   - NcClusterMass : LnrichExt Ln-normal richness distribution\n",
      "#----------------------------------------------------------------------------------\n",
      "# Model parameters\n",
      "#   -      mu[00]:  4.06362689856482    [FREE]\n",
      "#   -    muM1[01]:  1.46088918674258    [FREE]\n",
      "#   -    muZ1[02]:  0.29463421287916    [FREE]\n",
      "#   -    muM2[03]:  0.233507210195635   [FREE]\n",
      "#   -    muZ2[04]: -0.0981291527211437  [FREE]\n",
      "#   -    muMZ[05]:  0.0220011938164124  [FREE]\n",
      "#   -  sigma0[06]:  0.0414558041533841  [FREE]\n",
      "#   - sigmaM1[07]: -0.737664861008829   [FREE]\n",
      "#   - sigmaZ1[08]: -0.0213753504021969  [FREE]\n",
      "#   - sigmaM2[09]: -0.0931880532593168  [FREE]\n",
      "#   - sigmaZ2[10]:  0.0347297952041746  [FREE]\n",
      "#   - sigmaMZ[11]:  0.0645228518715577  [FREE]\n",
      "#   -      A0[12]:  0                   [FIXED]\n",
      "#   -     cut[13]:  100                 [FIXED]\n",
      "#   -   cutM1[14]:  0                   [FIXED]\n",
      "#   -   cutZ1[15]:  0                   [FIXED]\n"
     ]
    }
   ],
   "source": [
    "lnR_mean_ext_z, lnR_std_ext_z, ext_z, ext_z_mean, ext_z_std = fm.model_fit('ext_z', training = True)"
   ]
  },
  {
   "cell_type": "markdown",
   "id": "d14c861c-df1c-4bea-b0b1-b4135bfe2558",
   "metadata": {},
   "source": [
    "## Errors"
   ]
  },
  {
   "cell_type": "code",
   "execution_count": 44,
   "id": "c564ba7c-980a-4892-aaed-c3ed2be84cee",
   "metadata": {
    "tags": []
   },
   "outputs": [
    {
     "data": {
      "text/plain": [
       "Text(0, 0.5, 'Residuals')"
      ]
     },
     "execution_count": 44,
     "metadata": {},
     "output_type": "execute_result"
    },
    {
     "data": {
      "image/png": "[encoded data removed]",
      "text/plain": [
       "<Figure size 640x480 with 1 Axes>"
      ]
     },
     "metadata": {},
     "output_type": "display_data"
    }
   ],
   "source": [
    "# model_fit:\n",
    "# returns:\n",
    "# lnR_mean_model: < ln R | M, z > \n",
    "# lnR_std_model: std model\n",
    "# model: model object\n",
    "# model_mean: (average lnR, average lnM, average z) in each bin.\n",
    "# model_std: std in each bin\n",
    "\n",
    "\n",
    "# Res = (lnR_mean_model - lnR_mean_bin) / Std_model\n",
    "\n",
    "residuals_ext = (lnR_mean_ext_ln1pz - ext_mean['richness']) / lnR_std_ext_ln1pz\n",
    "residuals_asc = (lnR_mean_ascaso - asc_mean['richness']) / lnR_std_ascaso\n",
    "\n",
    "# plt.hist(residuals_ext)\n",
    "# plt.title('Histogram Quadratic Model')\n",
    "\n",
    "plt.scatter(lnR_mean_ext_ln1pz, residuals_ext)\n",
    "plt.title('Scatter Quadratic Model')\n",
    "plt.xlabel('lnR_mean')\n",
    "plt.ylabel('Residuals')"
   ]
  },
  {
   "cell_type": "code",
   "execution_count": 41,
   "id": "60c6fa6d-b773-46d3-b91a-b86b5eba72df",
   "metadata": {
    "tags": []
   },
   "outputs": [
    {
     "data": {
      "text/plain": [
       "<matplotlib.collections.PathCollection at 0x7fbaa5824850>"
      ]
     },
     "execution_count": 41,
     "metadata": {},
     "output_type": "execute_result"
    },
    {
     "data": {
      "image/png": "[encoded data removed]",
      "text/plain": [
       "<Figure size 640x480 with 1 Axes>"
      ]
     },
     "metadata": {},
     "output_type": "display_data"
    }
   ],
   "source": [
    "plt.scatter(np.log(ext_mean['mass']), np.log(ext_mean['richness']))"
   ]
  },
  {
   "cell_type": "code",
   "execution_count": 43,
   "id": "4179ee1a-d8f4-4080-90f7-69d7d1634cf1",
   "metadata": {
    "tags": []
   },
   "outputs": [
    {
     "data": {
      "text/plain": [
       "<matplotlib.collections.PathCollection at 0x7fbaa3c31650>"
      ]
     },
     "execution_count": 43,
     "metadata": {},
     "output_type": "execute_result"
    },
    {
     "data": {
      "image/png": "[encoded data removed]",
      "text/plain": [
       "<Figure size 640x480 with 1 Axes>"
      ]
     },
     "metadata": {},
     "output_type": "display_data"
    }
   ],
   "source": [
    "plt.scatter(np.log(ext_mean['mass']), lnR_mean_ext_ln1pz)"
   ]
  },
  {
   "cell_type": "code",
   "execution_count": 37,
   "id": "e91be7da-95c3-4b64-be01-373a4fcbfdc7",
   "metadata": {
    "tags": []
   },
   "outputs": [
    {
     "data": {
      "text/plain": [
       "Text(0.5, 1.0, 'Histogram Linear Model')"
      ]
     },
     "execution_count": 37,
     "metadata": {},
     "output_type": "execute_result"
    },
    {
     "data": {
      "image/png": "[encoded data removed]",
      "text/plain": [
       "<Figure size 640x480 with 1 Axes>"
      ]
     },
     "metadata": {},
     "output_type": "display_data"
    }
   ],
   "source": [
    "plt.hist(residuals_asc)\n",
    "plt.title('Histogram Linear Model')"
   ]
  },
  {
   "cell_type": "code",
   "execution_count": 38,
   "id": "27ddc4a5-2cec-4ff0-8acb-fddddbca972a",
   "metadata": {
    "tags": []
   },
   "outputs": [
    {
     "data": {
      "image/png": "[encoded data removed]",
      "text/plain": [
       "<Figure size 640x480 with 1 Axes>"
      ]
     },
     "metadata": {},
     "output_type": "display_data"
    }
   ],
   "source": [
    "fig = sm.qqplot(residuals_ext, line='45')\n",
    "plt.title('Q-Q Plot Quadratic Model')\n",
    "plt.show()"
   ]
  },
  {
   "cell_type": "code",
   "execution_count": 39,
   "id": "87bb1957-39df-4626-8776-0f623b3fddc1",
   "metadata": {
    "tags": []
   },
   "outputs": [
    {
     "data": {
      "image/png": "[encoded data removed]",
      "text/plain": [
       "<Figure size 640x480 with 1 Axes>"
      ]
     },
     "metadata": {},
     "output_type": "display_data"
    }
   ],
   "source": [
    "fig = sm.qqplot(residuals_asc, line='45')\n",
    "plt.title('Q-Q Plot Linear Model')\n",
    "\n",
    "plt.show()"
   ]
  },
  {
   "cell_type": "code",
   "execution_count": null,
   "id": "44787f5c-286b-4a98-a786-e5b7e1dbc3bb",
   "metadata": {
    "tags": []
   },
   "outputs": [],
   "source": [
    "#create Q-Q plot with 45-degree line added to plot\n",
    "fig = sm.qqplot(ext_ln1pz_mean_valid - lnR_test, line='45')\n",
    "plt.show()"
   ]
  },
  {
   "cell_type": "code",
   "execution_count": null,
   "id": "8010d8a2-2f18-4419-bfc5-fefe5b8a75b4",
   "metadata": {
    "tags": []
   },
   "outputs": [],
   "source": [
    "fig = sm.qqplot(ascaso_mean_valid - lnR_test, line='45')\n",
    "plt.show()"
   ]
  },
  {
   "cell_type": "code",
   "execution_count": null,
   "id": "b254b5de-7ab9-428d-9028-5c7c384f4e83",
   "metadata": {
    "tags": []
   },
   "outputs": [],
   "source": [
    "ext_z_mean_valid = np.array([ext_z.get_mean_richness(lnM_test[i], z_test[i]) for i in range(len(lnR_test))])\n",
    "\n",
    "re_mean_ext_z = (ext_z_mean_valid - lnR_test)/ lnR_test\n",
    "\n",
    "fig = sm.qqplot(re_mean_ext_z, line='45')\n",
    "plt.show()"
   ]
  },
  {
   "cell_type": "code",
   "execution_count": null,
   "id": "9315def5-35ec-4ef7-8aa1-7ee79a9ca377",
   "metadata": {
    "tags": []
   },
   "outputs": [],
   "source": [
    "#Relative Error histogram\n",
    "\n",
    "fig = plt.figure(figsize=(10,3))\n",
    "ax1=plt.subplot(121)\n",
    "ax2=plt.subplot(122)\n",
    "\n",
    "ax1.hist(re_mean_ascaso, bins=70, color='#a0d995')\n",
    "ax1.set_title('Ascaso')\n",
    "\n",
    "ax2.hist(re_mean_ext_ln1pz, bins=70, color='#b186f1')\n",
    "ax2.set_title('Modelo Estendido (ln(1 + z))')\n",
    "\n",
    "plt.show()\n",
    "\n",
    "print(f\" Ascaso: p-value: {stats.kstest(re_mean_ascaso, stats.norm.cdf, args=(np.mean(re_mean_ascaso), np.std(re_mean_ascaso))).pvalue}\")\n",
    "print(f\" Extended: p-value: {stats.kstest(re_mean_ext_ln1pz, stats.norm.cdf, args=(np.mean(re_mean_ext_ln1pz), np.std(re_mean_ext_ln1pz))).pvalue}\")"
   ]
  },
  {
   "cell_type": "markdown",
   "id": "d231f5c8-8832-4085-80fd-2d27a88ba0d6",
   "metadata": {
    "tags": []
   },
   "source": [
    "### Mean MSE and RMSE"
   ]
  },
  {
   "cell_type": "code",
   "execution_count": null,
   "id": "0610c28c-e477-44d7-81d8-c5fc404d00e2",
   "metadata": {
    "tags": []
   },
   "outputs": [],
   "source": [
    "# Mean Square Error(MSE)\n",
    "# Root Mean Square Error(RMSE)\n",
    "\n",
    "MSE_ascaso = sum((lnR_test - ascaso_mean_valid) ** 2) / len(ascaso_mean_valid)\n",
    "RMSE_ascaso = np.sqrt(MSE_ascaso)\n",
    "\n",
    "MSE_ext_ln1pz = sum((lnR_test - ext_ln1pz_mean_valid) ** 2) / len(ext_ln1pz_mean_valid)\n",
    "RMSE_ext_ln1pz = np.sqrt(MSE_ext_ln1pz )\n",
    "\n",
    "print(f\"Mean MSE and RMSE\\n\\nAscaso: \\tMSE: {MSE_ascaso: .3f},\\t RMSE:{RMSE_ascaso: .3f}\")\n",
    "print(f\"Extended:\\tMSE: {MSE_ext_ln1pz: .3f},\\t RMSE:{RMSE_ext_ln1pz: .3f}\\n\")"
   ]
  },
  {
   "cell_type": "markdown",
   "id": "3886cb9c-9c8f-4797-a344-4d4463054464",
   "metadata": {
    "tags": []
   },
   "source": [
    "### Mean MAPE"
   ]
  },
  {
   "cell_type": "code",
   "execution_count": null,
   "id": "270bfd14-1654-4c05-a8ce-f2ee1f01c455",
   "metadata": {
    "tags": []
   },
   "outputs": [],
   "source": [
    "print(f\"MAPE:STD\\n\\nMAPE (Ascaso): {mean_absolute_percentage_error(lnR_test, ascaso_mean_valid) * 100: .2f}%\") \n",
    "print(f\"MAPE (Extended): {mean_absolute_percentage_error(lnR_test, ext_ln1pz_mean_valid) * 100: .2f}%\") "
   ]
  },
  {
   "cell_type": "markdown",
   "id": "aa1033b8-7813-429d-8fcc-0577fe388175",
   "metadata": {
    "tags": []
   },
   "source": [
    "### Std Relative Error"
   ]
  },
  {
   "cell_type": "code",
   "execution_count": null,
   "id": "c5e6c367-c4c3-414e-af68-0b4ecd691ad0",
   "metadata": {
    "tags": []
   },
   "outputs": [],
   "source": [
    "bd_test = BinningData(data_test)\n",
    "bin_f_test= bd_test.get_mean_bd(b_z, b_m)\n",
    "\n",
    "lnR_test_std = bin_f_test[4]\n",
    "\n",
    "ascaso_std_valid = np.array([ascaso.get_std_richness(lnM_test[i], z_test[i]) for i in range(len(lnR_test_std))])\n",
    "ext_ln1pz_std_valid = np.array([ext_ln1pz.get_std_richness(lnM_test[i], z_test[i]) for i in range(len(lnR_test_std))])\n"
   ]
  },
  {
   "cell_type": "code",
   "execution_count": null,
   "id": "0228f119-0cdb-40a8-844f-dcb0cf8a3b67",
   "metadata": {
    "tags": []
   },
   "outputs": [],
   "source": [
    "abs_err = (lnR_test - ascaso_mean_valid) / lnR_test_std\n",
    "\n",
    "plt.scatter(lnM_test, abs_err)"
   ]
  },
  {
   "cell_type": "code",
   "execution_count": null,
   "id": "1a27b719-2b68-4392-82dc-a1781072a59c",
   "metadata": {
    "tags": []
   },
   "outputs": [],
   "source": [
    "# STD \n",
    "#Relative Error: std\n",
    "a_err = (ascaso_std_valid - lnR_test_std)/ lnR_test_std\n",
    "e_err = (ext_ln1pz_std_valid - lnR_test_std)/ lnR_test_std\n",
    "\n",
    "#Plot\n",
    "plt.scatter(ascaso_std_valid, a_err, c='#a0d995', alpha=0.7, label='Ascaso')\n",
    "plt.scatter(ext_ln1pz_std_valid, e_err, c='#b186f1', alpha=0.7, label='Modelo Estendido (ln(1 + z))')\n",
    "\n",
    "plt.xlabel('Predição', size=14)\n",
    "plt.ylabel('Erro Relativo', size=14)\n",
    "plt.axhline(y=0.0, color='black', linestyle='dotted')\n",
    "#plt.title('Erro relativo do desvio padrão (< 10)', size=16)\n",
    "#plt.yscale('log')\n",
    "plt.legend()\n",
    "plt.show()"
   ]
  },
  {
   "cell_type": "code",
   "execution_count": null,
   "id": "8f18e969-178c-45a6-914d-0326638133f0",
   "metadata": {
    "tags": []
   },
   "outputs": [],
   "source": [
    "#Relative Error histogram\n",
    "\n",
    "# fig = plt.figure(figsize=(10,3))\n",
    "# ax1=plt.subplot(121)\n",
    "# ax2=plt.subplot(122)\n",
    "\n",
    "# ax1.hist(a_err, bins=70, density=True, color='#a0d995')\n",
    "# ax1.set_title('Ascaso')\n",
    "\n",
    "# ax2.hist(e_err, bins=70,density=True, color='#b186f1')\n",
    "# ax2.set_title('Modelo Estendido (ln(1 + z))')\n",
    "\n",
    "# plt.show()\n",
    "\n",
    "# print(f\" Ascaso: p-value: {stats.kstest(a_err, stats.norm.cdf, args=(np.mean(a_err), np.std(a_err))).pvalue}\")\n",
    "# print(f\" Extended: p-value: {stats.kstest(e_err, stats.norm.cdf, args=(np.mean(e_err), np.std(e_err))).pvalue}\")"
   ]
  },
  {
   "cell_type": "markdown",
   "id": "4dfc7c07-9708-4a07-aab8-6712d7a83b31",
   "metadata": {
    "tags": []
   },
   "source": [
    "### Std MSE and RMSE"
   ]
  },
  {
   "cell_type": "code",
   "execution_count": null,
   "id": "fcea2545-3831-4f0b-84e1-33ef99efc398",
   "metadata": {
    "tags": []
   },
   "outputs": [],
   "source": [
    "MSE_ascaso_std = sum((lnR_test_std - ascaso_std_valid) ** 2) / len(ascaso_std_valid)\n",
    "RMSE_ascaso_std = np.sqrt(MSE_ascaso_std)\n",
    "\n",
    "MSE_ext_ln1pz_std = sum((lnR_test_std - ext_ln1pz_std_valid) ** 2) / len(ext_ln1pz_std_valid)\n",
    "RMSE_ext_ln1pz_std = np.sqrt(MSE_ext_ln1pz_std )\n",
    "\n",
    "print(f\"Std MSE and RMSE\\n\\nAscaso: \\tMSE: {MSE_ascaso_std: .3f},\\t RMSE:{RMSE_ascaso_std: .3f}\")\n",
    "print(f\"Extended:\\tMSE: {MSE_ext_ln1pz_std: .3f},\\t RMSE:{RMSE_ext_ln1pz_std: .3f}\\n\")"
   ]
  },
  {
   "cell_type": "markdown",
   "id": "07d21340-809e-45b0-acbe-3db18e6d1868",
   "metadata": {
    "tags": []
   },
   "source": [
    "### Std MAPE"
   ]
  },
  {
   "cell_type": "code",
   "execution_count": null,
   "id": "71907217-b49f-4ae1-b528-de6ee4dedc49",
   "metadata": {
    "tags": []
   },
   "outputs": [],
   "source": [
    "print(f\"MAPE:STD\\n\\nMAPE (Ascaso): {mean_absolute_percentage_error(lnR_test_std, ascaso_std_valid) * 100: .2f}%\") \n",
    "print(f\"MAPE (Extended): {mean_absolute_percentage_error(lnR_test_std, ext_ln1pz_std_valid) * 100: .2f}%\") "
   ]
  },
  {
   "cell_type": "code",
   "execution_count": null,
   "id": "8895bb3f-def9-4bdb-9324-349834b99b0e",
   "metadata": {},
   "outputs": [],
   "source": []
  },
  {
   "cell_type": "code",
   "execution_count": null,
   "id": "a2dfb688-a260-40dc-9254-411eaf1c79f9",
   "metadata": {},
   "outputs": [],
   "source": []
  },
  {
   "cell_type": "code",
   "execution_count": null,
   "id": "69669666-38ac-479d-ba91-b5d59e36fd7b",
   "metadata": {},
   "outputs": [],
   "source": []
  },
  {
   "cell_type": "code",
   "execution_count": null,
   "id": "9a0c2710-2b8b-445e-aaeb-6c2614390b45",
   "metadata": {},
   "outputs": [],
   "source": []
  },
  {
   "cell_type": "code",
   "execution_count": null,
   "id": "1cf8f9b5-5994-435d-b015-48878969e096",
   "metadata": {},
   "outputs": [],
   "source": []
  }
 ],
 "metadata": {
  "kernelspec": {
   "display_name": "numcosmo",
   "language": "python",
   "name": "numcosmo"
  },
  "language_info": {
   "codemirror_mode": {
    "name": "ipython",
    "version": 3
   },
   "file_extension": ".py",
   "mimetype": "text/x-python",
   "name": "python",
   "nbconvert_exporter": "python",
   "pygments_lexer": "ipython3",
   "version": "3.11.10"
  }
 },
 "nbformat": 4,
 "nbformat_minor": 5
}
