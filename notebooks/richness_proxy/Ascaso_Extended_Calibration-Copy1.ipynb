{
 "cells": [
  {
   "cell_type": "markdown",
   "id": "168fb654-ff81-4369-a517-d486ea878845",
   "metadata": {
    "tags": []
   },
   "source": [
    "# Ascaso-Extended Models Calibration\n",
    "\n",
    "\n",
    "---\n",
    "**License**\n",
    "\n",
    " Ascaso_Extended_Calibration\n",
    "\n",
    " Tue Aug 24 10:30:00 2021\\\n",
    " Copyright  2021\\\n",
    " Cinthia Nunes de Lima <cinthia.n.lima@uel.br> \\ Sandro Dias Pinto Vitenti <vitenti@uel.br>\n",
    "\n",
    "---\n",
    "---\n",
    "\n",
    " Ascaso_Extended_Calibration\\\n",
    " Copyright (C) 2021 Cinthia Nunes de Lima <cinthia.n.lima@uel.br>, Sandro Dias Pinto Vitenti <vitenti@uel.br>\n",
    "\n",
    " numcosmo is free software: you can redistribute it and/or modify it\n",
    " under the terms of the GNU General Public License as published by the\n",
    " Free Software Foundation, either version 3 of the License, or\n",
    " (at your option) any later version.\n",
    "\n",
    " numcosmo is distributed in the hope that it will be useful, but\n",
    " WITHOUT ANY WARRANTY; without even the implied warranty of\n",
    " MERCHANTABILITY or FITNESS FOR A PARTICULAR PURPOSE.\n",
    " See the GNU General Public License for more details.\n",
    "\n",
    " You should have received a copy of the GNU General Public License along\n",
    " with this program.  If not, see <http://www.gnu.org/licenses/>.\n",
    " \n",
    "---"
   ]
  },
  {
   "cell_type": "markdown",
   "id": "60b3953a-aef6-4988-a024-17b4a79ffc32",
   "metadata": {
    "tags": []
   },
   "source": [
    "## Packages"
   ]
  },
  {
   "cell_type": "code",
   "execution_count": 1,
   "id": "6f68dc3e-4d96-46f9-9fc7-ce35a31dd3a3",
   "metadata": {
    "tags": []
   },
   "outputs": [],
   "source": [
    "import sys\n",
    "sys.path.insert(0, \"/global/homes/c/cinlima/NumCosmo/notebooks/richness_proxy/\")\n",
    "sys.path.insert(0, \"/global/homes/c/cinlima/NumCosmo/notebooks/richness_proxy/Scripts/\")\n",
    "sys.path.insert(0, \"/global/homes/c/cinlima/NumCosmo/notebooks/richness_proxy/CatalogsMatching\")\n",
    "\n",
    "\n",
    "#NumCosmo\n",
    "from numcosmo_py import Ncm, Nc, GObject\n",
    "from richness_mass_calib import create_richness_mass_calib\n",
    "\n",
    "#Useful packages\n",
    "import numpy as np\n",
    "import math\n",
    "from scipy import stats\n",
    "\n",
    "from astropy.io import fits\n",
    "from astropy.table import Table\n",
    "import pandas as pd\n",
    "\n",
    "from sklearn.model_selection import train_test_split\n",
    "from sklearn.metrics import mean_absolute_percentage_error\n",
    "\n",
    "import os\n",
    "\n",
    "import matplotlib\n",
    "import matplotlib.pyplot as plt\n",
    "import matplotlib.pyplot as gridspec\n",
    "from matplotlib.gridspec import GridSpec\n",
    "\n",
    "sys.path.insert(0, \"/global/homes/c/cinlima//gcr-catalogs\")\n",
    "import GCRCatalogs\n",
    "\n",
    "%matplotlib inline\n",
    "\n",
    "Ncm.cfg_init()\n",
    "Ncm.cfg_set_log_handler(lambda msg: sys.stdout.write(msg) and sys.stdout.flush())\n",
    "\n",
    "sys.path.insert(0, \"global/homes/c/cinlima//clevar/clevar\")\n",
    "\n",
    "#Put nerc if using nersc\n",
    "GCRCatalogs.set_root_dir_by_site(\"nersc\")\n",
    "\n",
    "\n",
    "# import clevar\n",
    "# from clevar import ClCatalog, MemCatalog\n",
    "# from clevar.match import MembershipMatch, get_matched_pairs\n",
    "# from clevar.match import output_matched_catalog\n",
    "# from clevar.match_metrics.scaling import ClCatalogFuncs as s_cf\n",
    "\n",
    "\n",
    "#Calibration functions\n",
    "from bdata import DataB\n",
    "from model_fitting import ModelFitting"
   ]
  },
  {
   "cell_type": "markdown",
   "id": "19edc0ec-02b2-4f9d-9617-02980cf39cbc",
   "metadata": {
    "tags": []
   },
   "source": [
    "## Data"
   ]
  },
  {
   "cell_type": "markdown",
   "id": "1fdeb27a-920f-4fb0-8428-aec09635c648",
   "metadata": {
    "tags": []
   },
   "source": [
    "### Halos m200c"
   ]
  },
  {
   "cell_type": "code",
   "execution_count": 2,
   "id": "a4184b8e-e621-4799-a0fe-332f017ed024",
   "metadata": {
    "tags": []
   },
   "outputs": [],
   "source": [
    "# DC2_halos_m200c = fits.open(\n",
    "#     \"/global/cfs/projectdirs/lsst/groups/CL/cosmoDC2_v1.1.4/extragal/full/halos/halos_m200c_13.0.fits\")\n",
    "\n",
    "# dt_halos = Table(DC2_halos_m200c[1].data)\n",
    "# dt_halos = dt_halos[dt_halos[\"redshift_true\"] < 1.2]\n",
    "\n",
    "# lnM = np.log(dt_halos[\"m200c\"])  # ln(mass)\n",
    "# z = dt_halos[\"redshift_true\"]  # redshift\n",
    "# lnR = np.log(dt_halos[\"richness\"])  # ln(richness)\n"
   ]
  },
  {
   "cell_type": "markdown",
   "id": "76f1b873-f332-4f12-bfdd-cb6bc520aac4",
   "metadata": {
    "tags": []
   },
   "source": [
    "### Clevar"
   ]
  },
  {
   "cell_type": "code",
   "execution_count": 3,
   "id": "cb1ee6bb-be39-4f59-a48d-377160cc4c72",
   "metadata": {
    "tags": []
   },
   "outputs": [],
   "source": [
    "# CLEVAR\n",
    "\n",
    "# min_richness = 5\n",
    "# min_halo_mass = 1e13 #Msun\n",
    "\n",
    "# #Halos/Clusters\n",
    "# #SkySim + RedMaPPer: 'skysim5000_v1.1.1_redmapper_v0.8.5'\n",
    "# RM_cat = ClCatalog.read('/global/homes/c/cinlima/NumCosmo/notebooks/richness_proxy/SSData/RM_cat_richness_min_'+str(min_richness)+'.fits', name='RM_cat', full=True, tags={'mass':'richness'})\n",
    "\n",
    "# #SkySim: 'skysim5000_v1.1.1_image'\n",
    "# halo_cat = ClCatalog.read('/global/homes/c/cinlima/NumCosmo/notebooks/richness_proxy/SSData/halo_cat_mass_min_'+f\"{min_halo_mass:1.2e}\"+'.fits', name='halo_cat', full=True, tags={'mass':'mass_fof'})\n",
    "\n",
    "# #Members\n",
    "# RM_cat.read_members('/global/homes/c/cinlima/NumCosmo/notebooks/richness_proxy/SSData/RM_cat_richness_min_'+str(min_richness)+'_members.fits',  full=True)\n",
    "# halo_cat.read_members('/global/homes/c/cinlima/NumCosmo/notebooks/richness_proxy/SSData/halo_cat_mass_min_'+f\"{min_halo_mass:1.2e}\"+'_members.fits', full=True)\n",
    "\n",
    "# #Match catalogs\n",
    "# mt = MembershipMatch()\n",
    "\n",
    "# mt.load_matches(RM_cat, halo_cat, out_dir='/global/homes/c/cinlima/NumCosmo/notebooks/richness_proxy/SSData/SS_RM_match_cross_membership')\n",
    "\n",
    "# info = s_cf.plot(RM_cat, halo_cat, 'cross', col='mass', xscale='log', yscale='log',\n",
    "#                  col_color='z', add_err=False)"
   ]
  },
  {
   "cell_type": "code",
   "execution_count": 4,
   "id": "ecb2c01f-ced4-4591-bfa8-30b1f1f15bc5",
   "metadata": {
    "tags": []
   },
   "outputs": [],
   "source": [
    "# Halos/Clusters\n",
    "# #CosmoDC2 + RedMaPPer: 'cosmoDC2_v1.1.4_redmapper_v0.8.1'\n",
    "# RM_cat = ClCatalog.read('/global/homes/c/cinlima/NumCosmo/notebooks/richness_proxy/CDC2Data/RM_cat_richness_min_'+str(min_richness)+'.fits', name='RM_cat', full=True, tags={'mass':'richness'})\n",
    "\n",
    "# #CosmoDC2: 'cosmoDC2_v1.1.4_image'\n",
    "# halo_cat = ClCatalog.read('/global/homes/c/cinlima/NumCosmo/notebooks/richness_proxy/CDC2Data/halo_cat_mass_min_'+f\"{min_halo_mass:1.2e}\"+'.fits', name='halo_cat', full=True, tags={'mass':'mass_fof'})\n",
    "\n",
    "# #Members\n",
    "# RM_cat.read_members('/global/homes/c/cinlima/NumCosmo/notebooks/richness_proxy/CDC2Data/RM_cat_richness_min_'+str(min_richness)+'_members.fits',  full=True)\n",
    "# halo_cat.read_members('/global/homes/c/cinlima/NumCosmo/notebooks/richness_proxy/CDC2Data/halo_cat_mass_min_'+f\"{min_halo_mass:1.2e}\"+'_members.fits', full=True)\n",
    "\n",
    "# #Match catalogs\n",
    "# mt = MembershipMatch()\n",
    "\n",
    "# mt.load_matches(RM_cat, halo_cat, out_dir='/global/homes/c/cinlima/NumCosmo/notebooks/richness_proxy/CDC2Data/cosmoDC2_RM_match_cross_membership')\n"
   ]
  },
  {
   "cell_type": "code",
   "execution_count": 5,
   "id": "f6fe125f-3844-4983-ae92-28dd30aa4009",
   "metadata": {},
   "outputs": [],
   "source": [
    "# RM_cat_bij, halo_cat_bij = get_matched_pairs(RM_cat, halo_cat, 'cross')\n",
    "\n",
    "# clusters_dt = Table([halo_cat_bij['mass_fof'], RM_cat_bij['richness'], RM_cat_bij['z']], names=('m200c', 'richness', 'redshift_true'))\n",
    "# dt_halos = clusters_dt[np.logical_and(clusters_dt['redshift_true'] > 0.14, clusters_dt['redshift_true']< 0.33)]\n",
    "# dt_halos = dt_halos[dt_halos['richness'] > 20]\n",
    "# dt_halos = clusters_dt"
   ]
  },
  {
   "cell_type": "code",
   "execution_count": 6,
   "id": "ada2e619-9001-46a8-a9c5-22988be205c7",
   "metadata": {
    "tags": []
   },
   "outputs": [],
   "source": [
    "# cosmodc2= GCRCatalogs.load_catalog('cosmoDC2_v1.1.4_small')\n"
   ]
  },
  {
   "cell_type": "markdown",
   "id": "4bef64f1-eebc-48d2-91ec-23292bd6e60a",
   "metadata": {},
   "source": [
    "### NumCosmo's Matching By Proximity"
   ]
  },
  {
   "cell_type": "code",
   "execution_count": 7,
   "id": "2f721343-12bf-48ea-afa0-bf01d989fff6",
   "metadata": {},
   "outputs": [],
   "source": [
    "# mdata = Table.read('CatalogsMatching/test.fits')\n",
    "# data = mdata[[len(m) > 0 for m in mdata['mass']]]\n",
    "\n",
    "# mass_data= [m[0] for m in data['mass']]\n",
    "# rich_data = [r for r in data['richness']]\n",
    "# z_data = [z for z in data['z']]\n",
    "\n",
    "# test_dt = Table([mass_data, rich_data, z_data], names=('mass', 'richness', 'redshift'))\n",
    "\n"
   ]
  },
  {
   "cell_type": "code",
   "execution_count": null,
   "id": "696e4d6e-5b44-4ba2-8211-1734ee2955c6",
   "metadata": {},
   "outputs": [],
   "source": []
  },
  {
   "cell_type": "code",
   "execution_count": 8,
   "id": "90018235-6755-431e-ac11-dc7e65bacab7",
   "metadata": {},
   "outputs": [],
   "source": [
    "# lnM_binned = bd.get_lnM_binned()\n",
    "# lnR_binned = bd.get_lnR_binned()\n",
    "# z_binned = bd.get_z_binned()\n",
    "# bins_std = bd.get_bins_std()\n",
    "# bins_mean = bd.get_bins_mean()"
   ]
  },
  {
   "cell_type": "code",
   "execution_count": null,
   "id": "614d2a5f-5501-45ae-aea1-aba944f2059e",
   "metadata": {},
   "outputs": [],
   "source": []
  },
  {
   "cell_type": "markdown",
   "id": "be9bd5ad-10eb-4fa4-bd26-0930f13bc809",
   "metadata": {
    "tags": []
   },
   "source": [
    "### Matching by ID without Clevar"
   ]
  },
  {
   "cell_type": "code",
   "execution_count": 9,
   "id": "cf0b6bb8-7824-4298-af7c-0b0d7e37beda",
   "metadata": {
    "tags": []
   },
   "outputs": [],
   "source": [
    "# test_matchdata = pd.read_csv('/global/homes/c/cinlima/MatchingCatalogs/match_catalog.csv',  sep = ';')\n",
    "test_matchdata = Table.read('CatalogsMatching/match_ID.fits')\n",
    "\n",
    "rich_data = test_matchdata[\"richness\"]\n",
    "z_data = test_matchdata[\"redshift\"]\n",
    "mass_data = test_matchdata[\"halo_mass\"]\n",
    "r_err_data = test_matchdata[\"richness_err\"]\n",
    "\n",
    "test_dt = Table([mass_data, rich_data, z_data, r_err_data], names=('mass', 'richness', 'redshift', 'richness_err'))\n",
    "\n",
    "df_test_matchdata = test_matchdata.to_pandas()\n",
    "# df_test_matchdata\n",
    "\n",
    "data_df = test_dt"
   ]
  },
  {
   "cell_type": "markdown",
   "id": "8abc8c9b-e9aa-4490-8dcd-de15fc1cb2c5",
   "metadata": {
    "jp-MarkdownHeadingCollapsed": true
   },
   "source": [
    "### Data cuts"
   ]
  },
  {
   "cell_type": "code",
   "execution_count": 10,
   "id": "47c8afde-b52d-474c-aa7f-d22aaf224de1",
   "metadata": {
    "tags": []
   },
   "outputs": [],
   "source": [
    "# #DATA\n",
    "\n",
    "# fig, (ax1, ax2) = plt.subplots(1, 2, figsize=(10,4))\n",
    "\n",
    "# ax1.loglog(mass_data, rich_data, '.', c = 'k')\n",
    "# ax1.set(xlabel='$\\ln M$', ylabel='$\\ln \\lambda$')\n",
    "\n",
    "# ax2.plot(z_data, rich_data, '.', c = 'k')\n",
    "# ax2.set(xlabel='z', ylabel='$\\ln \\lambda$')\n"
   ]
  },
  {
   "cell_type": "code",
   "execution_count": 11,
   "id": "4b755522-3a2e-40d0-b24f-78e2d791fb37",
   "metadata": {},
   "outputs": [],
   "source": [
    "# #DATA\n",
    "\n",
    "# fig, (ax1, ax2) = plt.subplots(1, 2, figsize=(10,4))\n",
    "\n",
    "# ax1.plot(mass_data, r_err_data, '.', c = 'k')\n",
    "# ax1.set(xlabel='$\\ln M$', ylabel='Err $\\ln \\lambda$')\n",
    "\n",
    "# ax2.plot(z_data, r_err_data, '.', c = 'k')\n",
    "# ax2.set(xlabel='z', ylabel='Err $\\ln \\lambda$')"
   ]
  },
  {
   "cell_type": "code",
   "execution_count": 12,
   "id": "12f28906-b378-4c58-8ca4-c348fa4dd3f7",
   "metadata": {},
   "outputs": [],
   "source": [
    "# # Richness_err Cuts \n",
    "\n",
    "# fig, axs = plt.subplots(nrows=2, ncols=2,figsize=(10,8))\n",
    "\n",
    "# errcut_list = np.array([1.0, 1.5, 2.0, 5.0])\n",
    "\n",
    "# for errcut, ax in zip(errcut_list, axs.flat):\n",
    "\n",
    "#     test_dt = Table([mass_data, rich_data, z_data, r_err_data], names=('mass', 'richness', 'redshift', 'richness_err'))\n",
    "\n",
    "#     test_dt = test_dt[test_dt['richness_err'] < errcut]\n",
    "\n",
    "#     mass_dt = test_dt['mass']\n",
    "#     red_dt = test_dt['redshift']\n",
    "#     rich_dt = test_dt['richness']\n",
    "        \n",
    "#     ax.scatter(np.log(mass_dt), np.log(rich_dt), c='k')\n",
    "#     ax.set(xlabel='lnM', ylabel='ln$\\lambda$')\n",
    "#     ax.set_title('Richness error cut: $\\lambda$ error <' +str(errcut) )\n",
    "\n",
    "#     fig.tight_layout()\n",
    "    "
   ]
  },
  {
   "cell_type": "code",
   "execution_count": 13,
   "id": "dae8b940-42ea-467d-a660-5ab942909e68",
   "metadata": {},
   "outputs": [],
   "source": [
    "# # Richness Cuts \n",
    "\n",
    "# fig, axs = plt.subplots(nrows=2, ncols=2,figsize=(10,8))\n",
    "\n",
    "# rcut_list = np.array([10, 20, 30, 50])\n",
    "# for rcut, ax in zip(rcut_list, axs.flat):\n",
    "    \n",
    "#     test_dt = Table([mass_data, rich_data, z_data], names=('mass', 'richness', 'redshift'))\n",
    "\n",
    "#     test_dt = test_dt[np.logical_and(test_dt['richness'] > rcut, test_dt['richness'] < 1e3)]\n",
    "#     # test_dt = test_dt[np.logical_and(test_dt['mass'] > 1e14, test_dt['mass'] < 1e16)]\n",
    "\n",
    "\n",
    "#     mass_dt = test_dt['mass']\n",
    "#     red_dt = test_dt['redshift']\n",
    "#     rich_dt = test_dt['richness']\n",
    "        \n",
    "#     ax.scatter(np.log(mass_dt), np.log(rich_dt), c='k')\n",
    "#     ax.set(xlabel='lnM', ylabel='ln$\\lambda$')\n",
    "#     ax.set_title('Richness cut: $\\lambda >$' +str(rcut) )\n",
    "\n",
    "#     fig.tight_layout()\n",
    "    "
   ]
  },
  {
   "cell_type": "code",
   "execution_count": 14,
   "id": "f5b47963-70a2-4a99-92e5-99266ba9ad5f",
   "metadata": {},
   "outputs": [],
   "source": [
    "# fig, axs = plt.subplots(nrows=2, ncols=2,figsize=(10,8))\n",
    "\n",
    "# mcut_list = np.array([1e13, 0.2e14, 0.5e14, 1e14])\n",
    "# for mcut, ax in zip(mcut_list, axs.flat):\n",
    "    \n",
    "#     test_dt = Table([mass_data, rich_data, z_data], names=('mass', 'richness', 'redshift'))\n",
    "\n",
    "#     test_dt = test_dt[np.logical_and(test_dt['mass'] > mcut, test_dt['mass'] < 1e16)]\n",
    "   \n",
    "#     ax.plot(np.log(test_dt['mass']), np.log(test_dt['richness']),'.', c='k')\n",
    "#     ax.set(xlabel='ln(M)_mean', ylabel='$\\ln \\lambda$')\n",
    "#     ax.set_title('Mass cut: $M >$' +'{:.2e}'.format(mcut))\n",
    "\n",
    "#     fig.tight_layout()"
   ]
  },
  {
   "cell_type": "code",
   "execution_count": 15,
   "id": "68caecd0-4062-45ea-a830-48192592360d",
   "metadata": {
    "tags": []
   },
   "outputs": [],
   "source": [
    "# # Data threshold\n",
    "# test_dt = Table([mass_data, rich_data, z_data, r_err_data], names=('mass', 'richness', 'redshift', 'richness_err'))\n",
    "# test_dt = test_dt[test_dt['mass'] > 5.0e13]\n",
    "# test_dt = test_dt[np.logical_and(test_dt['redshift'] > 0, test_dt['redshift']< 3)]\n",
    "# test_dt = test_dt[np.logical_and(test_dt['richness'] > 0, test_dt['richness'] < 1e3)]\n",
    "\n",
    "# mass_dt = test_dt['mass']\n",
    "# red_dt = test_dt['redshift']\n",
    "# rich_dt = test_dt['richness']\n",
    "\n",
    "# print('\\t\\tMin:\\t\\t\\tMax:')\n",
    "# print(f'Mass:\\t\\t{min(mass_dt):.2e},\\t\\t{max(mass_dt):.2e}')\n",
    "# print(f'Redshift:\\t{min(red_dt)},\\t{max(red_dt)}')\n",
    "# print(f'Richness:\\t{min(rich_dt)},\\t{max(rich_dt)}')\n",
    "\n",
    "\n",
    "# dt_halos = test_dt"
   ]
  },
  {
   "cell_type": "markdown",
   "id": "b09e0aff-2a12-4897-9ff0-c9eaba618406",
   "metadata": {
    "tags": []
   },
   "source": [
    "## Models fit"
   ]
  },
  {
   "cell_type": "markdown",
   "id": "f6e6dcb8-9369-4251-baae-8820c89a3122",
   "metadata": {
    "jp-MarkdownHeadingCollapsed": true,
    "tags": []
   },
   "source": [
    "### Training and test sets"
   ]
  },
  {
   "cell_type": "code",
   "execution_count": 16,
   "id": "806050e6-4b3a-4dc3-a4f8-c54a07bf34c9",
   "metadata": {
    "tags": []
   },
   "outputs": [],
   "source": [
    "# #Length of bins\n",
    "# zl = 0.05\n",
    "# ml = 0.05\n",
    "# bd = DataB(test_dt, zl, ml)"
   ]
  },
  {
   "cell_type": "code",
   "execution_count": 17,
   "id": "eb902ff8-3079-41a6-8b97-c1666de2e761",
   "metadata": {
    "tags": []
   },
   "outputs": [],
   "source": [
    "# X = pd.DataFrame({'mass': list(dt_halos[\"mass\"]), 'redshift': list(dt_halos[\"redshift\"])})\n",
    "# y = pd.DataFrame({'richness': list(dt_halos[\"richness\"])})\n",
    "\n",
    "# fm = FittingModel(dt_halos) #Fit object\n",
    "\n",
    "# data_train = fm.cvdata(X,y)[0]\n",
    "# data_test = fm.cvdata(X,y)[1]\n",
    "\n",
    "#Test  data\n",
    "# data_test = pd.concat([X_test, y_test], axis=1)\n",
    "\n",
    "# print( data_test.shape, X_test.shape, y_test.shape )\n",
    "# print( data_train.shape, X_train.shape, y_train.shape )\n",
    "\n",
    "# print( data_test.shape[0] + data_train.shape[0] )\n",
    "\n",
    "# print( len(dt_halos) )\n"
   ]
  },
  {
   "cell_type": "markdown",
   "id": "650bc68f-cc19-4d80-9e5d-17560f6f9f88",
   "metadata": {
    "jp-MarkdownHeadingCollapsed": true,
    "tags": []
   },
   "source": [
    "### Bins\n"
   ]
  },
  {
   "cell_type": "code",
   "execution_count": 18,
   "id": "da57aa0c-142e-4eba-9ef2-aa57b50279d4",
   "metadata": {
    "tags": []
   },
   "outputs": [],
   "source": [
    "# # Bins length\n",
    "# halos_mean = bd.get_bins_mean()\n",
    "# halos_std = bd.get_bins_std()\n",
    "# # print(f'Total bins in halos_bin_mz: {len(hbmz)}')\n",
    "# print(f'Total bins in halos_mean: {len(bd.get_bins_mean())}')\n"
   ]
  },
  {
   "cell_type": "code",
   "execution_count": 19,
   "id": "a7784a1f-5f9a-4a61-a1bd-790f20a9afe3",
   "metadata": {
    "tags": []
   },
   "outputs": [],
   "source": [
    "# fig, (ax1, ax2) = plt.subplots(1, 2, figsize=(10,4))\n",
    "\n",
    "# ax1.plot(np.log(halos_mean['mass']), np.log(halos_mean['richness']),'.', c='k')\n",
    "# ax1.set(xlabel='ln(M)_mean', ylabel='$\\mu_{\\ln \\lambda}$')\n",
    "\n",
    "# ax2.plot(halos_mean['redshift'], np.log(halos_mean['richness']),'.', c='k')\n",
    "# ax2.set(xlabel='z_mean', ylabel='$\\mu_{\\ln \\lambda}$')\n",
    "\n",
    "# plt.suptitle('$\\mu_{\\ln \\lambda}$')\n",
    "# plt.show()\n"
   ]
  },
  {
   "cell_type": "code",
   "execution_count": 20,
   "id": "a75a119d-45f2-4273-8a06-af2174f804e9",
   "metadata": {
    "tags": []
   },
   "outputs": [],
   "source": [
    "# fig, axs = plt.subplots(nrows=2, ncols=2,figsize=(10,8))\n",
    "\n",
    "# rcut_list = np.array([10, 20, 30, 50])\n",
    "# for rcut, ax in zip(rcut_list, axs.flat):\n",
    "    \n",
    "#     test_dt = Table([mass_dt, rich_dt, red_dt, dt_halos['richness_err']], names=('mass', 'richness', 'redshift', 'richness_err'))\n",
    "\n",
    "#     test_dt = test_dt[np.logical_and(test_dt['richness'] > rcut, test_dt['richness'] < 1e3)]\n",
    "\n",
    "#     bd = DataB(test_dt, zl, ml)\n",
    "#     halos_mean = bd.get_bins_mean()\n",
    "        \n",
    "#     ax.plot(np.log(halos_mean['mass']), np.log(halos_mean['richness']),'.', c='k')\n",
    "#     ax.set(xlabel='ln(M)_mean', ylabel='$\\mu_{\\ln \\lambda}$')\n",
    "#     ax.set_title('Richness cut: $\\lambda >$' +str(rcut) )\n",
    "\n",
    "#     fig.tight_layout()\n",
    "    \n"
   ]
  },
  {
   "cell_type": "code",
   "execution_count": 21,
   "id": "fd176bfb-0472-4deb-8ac3-0a88486dcea5",
   "metadata": {
    "tags": []
   },
   "outputs": [],
   "source": [
    "# fig, axs = plt.subplots(nrows=2, ncols=2,figsize=(10,8))\n",
    "\n",
    "# mcut_list = np.array([1e13, 0.2e14, 0.5e14, 1e14])\n",
    "# for mcut, ax in zip(mcut_list, axs.flat):\n",
    "    \n",
    "#     test_dt = Table([mass_dt, rich_dt, red_dt, dt_halos['richness_err']], names=('mass', 'richness', 'redshift', 'richness_err'))\n",
    "\n",
    "#     test_dt = test_dt[np.logical_and(test_dt['mass'] > mcut, test_dt['mass'] < 1e16)]\n",
    "\n",
    "#     bd = DataB(test_dt, zl, ml)\n",
    "#     halos_mean = bd.get_bins_mean()\n",
    "        \n",
    "#     ax.plot(np.log(halos_mean['mass']), np.log(halos_mean['richness']),'.', c='k')\n",
    "#     ax.set(xlabel='ln(M)_mean', ylabel='$\\mu_{\\ln \\lambda}$')\n",
    "#     ax.set_title('Mass cut: $M >$' +'{:.2e}'.format(mcut))\n",
    "\n",
    "#     fig.tight_layout()"
   ]
  },
  {
   "cell_type": "markdown",
   "id": "3e9cbb5b-c1cc-412b-981c-40a5f53cf064",
   "metadata": {},
   "source": [
    "### fit"
   ]
  },
  {
   "cell_type": "code",
   "execution_count": 22,
   "id": "9c17d958-4b1d-47d8-a2aa-4a72f9402d47",
   "metadata": {},
   "outputs": [
    {
     "ename": "NameError",
     "evalue": "name 'FittingModel' is not defined",
     "output_type": "error",
     "traceback": [
      "\u001b[0;31m---------------------------------------------------------------------------\u001b[0m",
      "\u001b[0;31mNameError\u001b[0m                                 Traceback (most recent call last)",
      "Cell \u001b[0;32mIn[22], line 2\u001b[0m\n\u001b[1;32m      1\u001b[0m bd2 \u001b[38;5;241m=\u001b[39m DataB(data_df, \u001b[38;5;241m0.05\u001b[39m, \u001b[38;5;241m0.05\u001b[39m)\n\u001b[0;32m----> 2\u001b[0m fm \u001b[38;5;241m=\u001b[39m \u001b[43mFittingModel\u001b[49m(data_df)\n\u001b[1;32m      4\u001b[0m halos_mean \u001b[38;5;241m=\u001b[39m bd2\u001b[38;5;241m.\u001b[39mget_bins_mean()\n\u001b[1;32m      5\u001b[0m halos_std \u001b[38;5;241m=\u001b[39m bd2\u001b[38;5;241m.\u001b[39mget_bins_std()\n",
      "\u001b[0;31mNameError\u001b[0m: name 'FittingModel' is not defined"
     ]
    }
   ],
   "source": [
    "bd2 = DataB(data_df, 0.05, 0.05)\n",
    "fm = FittingModel(data_df)\n",
    "\n",
    "halos_mean = bd2.get_bins_mean()\n",
    "halos_std = bd2.get_bins_std()\n"
   ]
  },
  {
   "cell_type": "markdown",
   "id": "31df008d-6304-4ec5-935f-56625010b760",
   "metadata": {
    "tags": []
   },
   "source": [
    "### Ascaso Fit Params\n",
    "\n",
    "Here we do the fitting of linear model parameters using training data in **data_train**. The model is:\n",
    "\n",
    "\\begin{equation}\n",
    "    \\left< \\ln R | M, z \\right> = \\mu_0 + \\mu_1 \\ln\\left( \\frac{M}{M_0} \\right) +  \\mu_2\\ln\\left(\\frac{1 + z}{1 + z_0}\\right);\n",
    "\\end{equation}\n",
    "\n",
    "$$\\textbf{p}_{1} = \\{\\mu_0, \\mu_1, \\mu_2, \\sigma_0, \\sigma_1, \\sigma_2\\}. $$\n",
    "\n",
    "$\\textbf{p}_{1}$ is the vector with the linear model parameters.\n"
   ]
  },
  {
   "cell_type": "code",
   "execution_count": null,
   "id": "61c5cb06-e41b-4743-ad29-9053023cf426",
   "metadata": {
    "scrolled": true,
    "tags": []
   },
   "outputs": [],
   "source": [
    "ascaso, fit_ascaso = fm.run_fit('ascaso')"
   ]
  },
  {
   "cell_type": "code",
   "execution_count": null,
   "id": "6635be1c-99db-4e9a-9cc4-9bf4a4b1075c",
   "metadata": {},
   "outputs": [],
   "source": [
    "lnR_mean_ascaso = fm.get_mean_model(ascaso, np.log(halos_mean['mass']),  halos_mean['redshift'])\n",
    "lnR_std_ascaso = fm.get_std_model(ascaso, np.log(halos_mean['mass']), halos_mean['redshift'])"
   ]
  },
  {
   "cell_type": "markdown",
   "id": "30064cab-46e7-4152-b8f7-a00d40370fe4",
   "metadata": {
    "tags": []
   },
   "source": [
    "### Ext (ln(1+z)) Fit Params\n",
    "Here we do the fitting of quadratic model parameters using training data in **data_train**. Dependence on $\\ln (1 + z)$ is considered:\n",
    "\n",
    "\\begin{equation}\\label{M_R_3}\n",
    "\\begin{split}\n",
    "    \\left<\\ln R | M, z \\right> = \\mu_0 + \n",
    "    \\mu_{M1} \\ln\\left( \\frac{M}{M_0} \\right) +\n",
    "    \\mu_{M2} (\\ln\\left(\\frac{M}{M_0} \\right))^2 +\\\\\n",
    "    + \\mu_{z1} \\ln\\left(\\frac{1 + z}{1 + z_0}\\right) +\n",
    "    \\mu_{z2} (\\ln\\left(\\frac{1 + z}{1 + z_0}\\right))^2 +\\\\\n",
    "    + \\mu_{Mz} \\ln\\left(\\frac{1 + z}{1 + z_0}\\right)\\ln\\left(\\frac{M}{M_0} \\right);\n",
    "\\end{split}\n",
    "\\end{equation}\n",
    "\n",
    "$$\\textbf{p}_{2} = \\{\\mu_0, \\mu_{M1}, \\mu_{M2}, \\mu_{Z1}, \\mu_{Z2}, \\mu_{MZ}, \\sigma_0, \\sigma_{M1}, \\sigma_{M2}, \\sigma_{Z1}, \\sigma_{Z2}, \\sigma_{MZ} \\}.$$\n",
    "\n",
    "$\\textbf{p}_{2}$ is the vector with the quadratic model parameters.\n"
   ]
  },
  {
   "cell_type": "code",
   "execution_count": null,
   "id": "a83e8d7e-cc74-46f2-83ac-fbeb2398eba4",
   "metadata": {
    "scrolled": true,
    "tags": []
   },
   "outputs": [],
   "source": [
    "ext_ln1pz, fit_ext = fm.run_fit('ext_ln1pz')"
   ]
  },
  {
   "cell_type": "code",
   "execution_count": null,
   "id": "4cab7589-d5c2-4828-9f43-327187930865",
   "metadata": {},
   "outputs": [],
   "source": [
    "lnR_mean_ext_ln1pz = fm.get_mean_model(ext_ln1pz,  np.log(halos_mean['mass']), halos_mean['redshift'])\n",
    "lnR_std_ext_ln1pz = fm.get_std_model(ext_ln1pz,  np.log(halos_mean['mass']), halos_mean['redshift'])\n"
   ]
  },
  {
   "cell_type": "markdown",
   "id": "2c70e62a-fd90-49b8-9e9f-f859ce9b47fd",
   "metadata": {
    "tags": []
   },
   "source": [
    "### Plot config"
   ]
  },
  {
   "cell_type": "code",
   "execution_count": null,
   "id": "f0bd02bc-55e6-4fa5-9bcc-6909d0bb20ae",
   "metadata": {
    "tags": []
   },
   "outputs": [],
   "source": [
    "def Plot_model(model, h_mean, h_std, mean):\n",
    "    \n",
    "    fig = plt.figure(figsize=(16,4))\n",
    "#     gs = gridspec.GridSpec(nrows=2, ncols=2, width_ratios=[1, 1], height_ratios=[2.5, 1], wspace=0.4)\n",
    "    \n",
    "#     ax1 = fig.add_subplot(gs[0, :], projection='3d')\n",
    "#     ax2 = fig.add_subplot(gs[1, 0])\n",
    "#     ax3 = fig.add_subplot(gs[1, 1])\n",
    "    ax1 = fig.add_subplot(1,3,1, projection='3d')\n",
    "    ax2 = fig.add_subplot(1,3,2)\n",
    "    ax3 = fig.add_subplot(1,3,3)\n",
    "\n",
    "    xs = h_mean[\"redshift\"]\n",
    "    ys = np.log(h_mean[\"mass\"])\n",
    "    zs = model\n",
    "\n",
    "    lnR_mean = np.log(h_mean[\"richness\"])\n",
    "    std_mean = h_std\n",
    "\n",
    "    \n",
    "    #Mu plot config ---------------------------------------\n",
    "    if mean == True:\n",
    "        #lnR model, z_mean, y_mean\n",
    "        \n",
    "        lb_model = '<$Ln\\lambda$| M, z>'\n",
    "        lb_binned = 'Mean $\\ln \\lambda_i$'\n",
    "        m = lnR_mean\n",
    "        \n",
    "        if f'{model}' == f'{lnR_mean_ascaso}': \n",
    "            #fig.suptitle('Modelo de Ascaso')\n",
    "            fig.suptitle('$<\\ln\\lambda| M, z>_{LINEAR}$')\n",
    "        elif f'{model}' == f'{lnR_mean_ext_ln1pz}': \n",
    "            fig.suptitle('$<\\ln\\lambda| M, z>_{QUADRATIC}$')\n",
    "        elif f'{model}' == f'{lnR_mean_ext_z}': \n",
    "            fig.suptitle('Modelo Estendido (z)')\n",
    "        else: \n",
    "            pass\n",
    "    \n",
    "    #Std plot config ---------------------------------------\n",
    "    else:\n",
    "        \n",
    "        lb_model = '$\\sigma_{\\ln \\lambda}$'\n",
    "        lb_binned = '$\\sigma^{i}$'\n",
    "        m = std_mean\n",
    "        \n",
    "        if f'{model}' == f'{lnR_std_ascaso}': \n",
    "            fig.suptitle('Linear Model', size=16)\n",
    "        elif f'{model}' == f'{lnR_std_ext_ln1pz}': \n",
    "            fig.suptitle('Quadratic Model(ln(1 + z))', size=16)\n",
    "        elif f'{model}' == f'{lnR_std_ext_z}': \n",
    "            fig.suptitle('Quadratic Model (z)', size=16)\n",
    "        else: \n",
    "            pass\n",
    "        \n",
    "    #-------------------------------------------------------\n",
    "    p1 =ax1.scatter(xs, ys, zs, c=zs, cmap='cool')\n",
    "    ax1.set_xlabel('z')\n",
    "    ax1.set_ylabel('lnM')\n",
    "    fig.colorbar(p1, ax=ax1, label= lb_model)\n",
    "\n",
    "    ax2.scatter(ys, m, c='k', s=2.0, label=lb_binned)\n",
    "    p2 = ax2.scatter(ys, zs , c= xs, s=2.0, cmap='cool')\n",
    "    ax2.set_xlabel('lnM')\n",
    "    ax2.set_ylabel(lb_model)\n",
    "    fig.colorbar(p2, ax=ax2, label='z')\n",
    "    ax2.legend()\n",
    "\n",
    "    ax3.scatter(xs, m, c='k', s=2.0, label=lb_binned)\n",
    "    p3 = ax3.scatter(xs, zs , c=ys, s=2.0, cmap='cool') \n",
    "    ax3.set_xlabel('z')\n",
    "    ax3.set_ylabel(lb_model)\n",
    "    fig.colorbar(p3, ax=ax3, label='lnM')\n",
    "    ax3.legend()         \n",
    "    plt.show()\n",
    "\n"
   ]
  },
  {
   "cell_type": "markdown",
   "id": "1e882c43-4db4-4e54-a206-1ba069fd1b39",
   "metadata": {
    "tags": []
   },
   "source": [
    "### Mean"
   ]
  },
  {
   "cell_type": "code",
   "execution_count": null,
   "id": "2f75f7f3-bd12-45cf-825a-d92077cfbaa4",
   "metadata": {
    "tags": []
   },
   "outputs": [],
   "source": [
    "Plot_model(lnR_mean_ascaso, halos_mean, halos_std, mean = True) #Ascaso\n",
    "Plot_model(lnR_mean_ext_ln1pz, halos_mean, halos_std, mean = True) #Extended (ln(1 + z)) \n",
    "# Plot_model(lnR_mean_ext_z, data_test, mean = True)\n",
    "\n",
    "plt.show()"
   ]
  },
  {
   "cell_type": "markdown",
   "id": "fd14322f-15ab-4199-b8cc-decd1844b7e8",
   "metadata": {
    "tags": []
   },
   "source": [
    "### Standard deviation"
   ]
  },
  {
   "cell_type": "code",
   "execution_count": null,
   "id": "44a00b9d-5b28-4011-a8f1-4d5e816ffeef",
   "metadata": {
    "tags": []
   },
   "outputs": [],
   "source": [
    "Plot_model(lnR_std_ascaso, halos_mean, halos_std, mean=False) #Ascaso\n",
    "Plot_model(lnR_std_ext_ln1pz, halos_mean, halos_std, mean=False) #Extended (ln(1 + z)) \n",
    "#Plot_model_std(lnR_std_ext_z, data_train)\n",
    "plt.show()\n",
    "\n"
   ]
  },
  {
   "cell_type": "code",
   "execution_count": null,
   "id": "c921758d-0c98-4fa5-a790-d7738d1f0ae6",
   "metadata": {
    "tags": []
   },
   "outputs": [],
   "source": [
    "# print(stats.skew(ext_std), stats.kurtosis(ext_std))\n",
    "# plt.hist(ext_std, bins = 10)"
   ]
  },
  {
   "cell_type": "markdown",
   "id": "77001ffb-e7da-44ad-be9e-ed08e66543ab",
   "metadata": {
    "tags": []
   },
   "source": [
    "## Cross Validation"
   ]
  },
  {
   "cell_type": "markdown",
   "id": "b2eec937-7e54-4495-a244-71074f2da331",
   "metadata": {
    "tags": []
   },
   "source": [
    "- Relative error:\n",
    "\n",
    "\\begin{equation}\n",
    "Rel\\_err = \\frac{\\left<\\ln R_i | M_i, z_i \\right> - {\\mu^{i}}_{lnR}}{{\\mu^{i}}_{lnR}}\n",
    "\\end{equation}\n",
    "\n",
    "- Mean Square Error (MSE):\n",
    "\n",
    "\\begin{equation}\n",
    "MSE = \\frac{1}{N} \\sum^{N} ({\\mu^{i}}_{lnR} - \\left<\\ln R_i | M_i, z_i \\right> )^2\n",
    "\\end{equation}\n",
    "\n",
    "- Root Mean Square Error (RMSE):\n",
    "\n",
    "\\begin{equation}\n",
    "RMSE = \\sqrt{MSE}\n",
    "\\end{equation}\n"
   ]
  },
  {
   "cell_type": "markdown",
   "id": "e9231b74-5aef-47bb-b362-47790cb0ef6d",
   "metadata": {
    "tags": []
   },
   "source": [
    "### Mean Relative Error"
   ]
  },
  {
   "cell_type": "code",
   "execution_count": null,
   "id": "6aa65a34-d47b-4cad-b111-eb506452acb6",
   "metadata": {
    "tags": []
   },
   "outputs": [],
   "source": [
    "bd_test = BinningData(data_test)\n",
    "bin_f_test= bd_test.get_mean_bd(b_z, b_m)"
   ]
  },
  {
   "cell_type": "code",
   "execution_count": null,
   "id": "ec6b8571-4909-4ba1-a78e-624405c1ab52",
   "metadata": {
    "tags": []
   },
   "outputs": [],
   "source": [
    "# MEAN \n",
    "halos_mean = bin_f_test[0]\n",
    "\n",
    "lnR_test = np.log(halos_mean[\"richness\"])\n",
    "lnM_test = np.log(halos_mean[\"mass\"])\n",
    "z_test = halos_mean[\"redshift\"]\n",
    "\n",
    "ascaso_mean_valid = np.array( [ascaso.get_mean_richness(lnM_test[i], z_test[i]) for i in range(len(lnR_test))])\n",
    "ext_ln1pz_mean_valid = np.array([ext_ln1pz.get_mean_richness(lnM_test[i], z_test[i]) for i in range(len(lnR_test))])"
   ]
  },
  {
   "cell_type": "code",
   "execution_count": null,
   "id": "091137e6-672a-4d40-959d-6c677a000304",
   "metadata": {
    "tags": []
   },
   "outputs": [],
   "source": [
    "#Relative Error: Mean\n",
    "\n",
    "#mean relative error\n",
    "re_mean_ascaso = (ascaso_mean_valid - lnR_test)/ lnR_test\n",
    "re_mean_ext_ln1pz = (ext_ln1pz_mean_valid - lnR_test)/ lnR_test\n",
    "\n",
    "#Plot\n",
    "plt.scatter(ascaso_mean_valid, re_mean_ascaso, c='#a0d995', alpha=0.7, label='Ascaso')\n",
    "# plt.scatter(ext_ln1pz_mean_valid, re_mean_ext_ln1pz, c='#b186f1', alpha=0.7, label='Modelo Estendido (ln(1 + z))')\n",
    "plt.xlabel('Predição', size=14)\n",
    "plt.ylabel('Erro Relativo', size=14)\n",
    "#plt.yscale('log')\n",
    "plt.axhline(y=0.0, color='black', linestyle='dotted')\n",
    "\n",
    "plt.title('Erro relativo da média', size=14)\n",
    "plt.legend()\n",
    "plt.show()\n"
   ]
  },
  {
   "cell_type": "code",
   "execution_count": null,
   "id": "9315def5-35ec-4ef7-8aa1-7ee79a9ca377",
   "metadata": {
    "tags": []
   },
   "outputs": [],
   "source": [
    "#Relative Error histogram\n",
    "\n",
    "fig = plt.figure(figsize=(10,3))\n",
    "ax1=plt.subplot(121)\n",
    "ax2=plt.subplot(122)\n",
    "\n",
    "ax1.hist(re_mean_ascaso, bins=70, color='#a0d995')\n",
    "ax1.set_title('Ascaso')\n",
    "\n",
    "ax2.hist(re_mean_ext_ln1pz, bins=70, color='#b186f1')\n",
    "ax2.set_title('Modelo Estendido (ln(1 + z))')\n",
    "\n",
    "plt.show()\n",
    "\n",
    "print(f\" Ascaso: p-value: {stats.kstest(re_mean_ascaso, stats.norm.cdf, args=(np.mean(re_mean_ascaso), np.std(re_mean_ascaso))).pvalue}\")\n",
    "print(f\" Extended: p-value: {stats.kstest(re_mean_ext_ln1pz, stats.norm.cdf, args=(np.mean(re_mean_ext_ln1pz), np.std(re_mean_ext_ln1pz))).pvalue}\")\n",
    "\n"
   ]
  },
  {
   "cell_type": "markdown",
   "id": "d231f5c8-8832-4085-80fd-2d27a88ba0d6",
   "metadata": {
    "tags": []
   },
   "source": [
    "### Mean MSE and RMSE"
   ]
  },
  {
   "cell_type": "code",
   "execution_count": null,
   "id": "0610c28c-e477-44d7-81d8-c5fc404d00e2",
   "metadata": {
    "tags": []
   },
   "outputs": [],
   "source": [
    "# Mean Square Error(MSE)\n",
    "# Root Mean Square Error(RMSE)\n",
    "\n",
    "MSE_ascaso = sum((lnR_test - ascaso_mean_valid) ** 2) / len(ascaso_mean_valid)\n",
    "RMSE_ascaso = np.sqrt(MSE_ascaso)\n",
    "\n",
    "MSE_ext_ln1pz = sum((lnR_test - ext_ln1pz_mean_valid) ** 2) / len(ext_ln1pz_mean_valid)\n",
    "RMSE_ext_ln1pz = np.sqrt(MSE_ext_ln1pz )\n",
    "\n",
    "print(f\"Mean MSE and RMSE\\n\\nAscaso: \\tMSE: {MSE_ascaso: .3f},\\t RMSE:{RMSE_ascaso: .3f}\")\n",
    "print(f\"Extended:\\tMSE: {MSE_ext_ln1pz: .3f},\\t RMSE:{RMSE_ext_ln1pz: .3f}\\n\")"
   ]
  },
  {
   "cell_type": "markdown",
   "id": "3886cb9c-9c8f-4797-a344-4d4463054464",
   "metadata": {
    "tags": []
   },
   "source": [
    "### Mean MAPE"
   ]
  },
  {
   "cell_type": "code",
   "execution_count": null,
   "id": "270bfd14-1654-4c05-a8ce-f2ee1f01c455",
   "metadata": {
    "tags": []
   },
   "outputs": [],
   "source": [
    "print(f\"MAPE:STD\\n\\nMAPE (Ascaso): {mean_absolute_percentage_error(lnR_test, ascaso_mean_valid) * 100: .2f}%\") \n",
    "print(f\"MAPE (Extended): {mean_absolute_percentage_error(lnR_test, ext_ln1pz_mean_valid) * 100: .2f}%\") "
   ]
  },
  {
   "cell_type": "markdown",
   "id": "aa1033b8-7813-429d-8fcc-0577fe388175",
   "metadata": {
    "tags": []
   },
   "source": [
    "### Std Relative Error"
   ]
  },
  {
   "cell_type": "code",
   "execution_count": null,
   "id": "c5e6c367-c4c3-414e-af68-0b4ecd691ad0",
   "metadata": {
    "tags": []
   },
   "outputs": [],
   "source": [
    "bd_test = BinningData(data_test)\n",
    "bin_f_test= bd_test.get_mean_bd(b_z, b_m)\n",
    "\n",
    "lnR_test_std = bin_f_test[4]\n",
    "\n",
    "ascaso_std_valid = np.array([ascaso.get_std_richness(lnM_test[i], z_test[i]) for i in range(len(lnR_test_std))])\n",
    "ext_ln1pz_std_valid = np.array([ext_ln1pz.get_std_richness(lnM_test[i], z_test[i]) for i in range(len(lnR_test_std))])\n"
   ]
  },
  {
   "cell_type": "code",
   "execution_count": null,
   "id": "0228f119-0cdb-40a8-844f-dcb0cf8a3b67",
   "metadata": {
    "tags": []
   },
   "outputs": [],
   "source": [
    "abs_err = (lnR_test - ascaso_mean_valid) / lnR_test_std\n",
    "\n",
    "plt.scatter(lnM_test, abs_err)"
   ]
  },
  {
   "cell_type": "code",
   "execution_count": null,
   "id": "1a27b719-2b68-4392-82dc-a1781072a59c",
   "metadata": {
    "tags": []
   },
   "outputs": [],
   "source": [
    "# STD \n",
    "#Relative Error: std\n",
    "a_err = (ascaso_std_valid - lnR_test_std)/ lnR_test_std\n",
    "e_err = (ext_ln1pz_std_valid - lnR_test_std)/ lnR_test_std\n",
    "\n",
    "#Plot\n",
    "plt.scatter(ascaso_std_valid, a_err, c='#a0d995', alpha=0.7, label='Ascaso')\n",
    "plt.scatter(ext_ln1pz_std_valid, e_err, c='#b186f1', alpha=0.7, label='Modelo Estendido (ln(1 + z))')\n",
    "\n",
    "plt.xlabel('Predição', size=14)\n",
    "plt.ylabel('Erro Relativo', size=14)\n",
    "plt.axhline(y=0.0, color='black', linestyle='dotted')\n",
    "#plt.title('Erro relativo do desvio padrão (< 10)', size=16)\n",
    "#plt.yscale('log')\n",
    "plt.legend()\n",
    "plt.show()"
   ]
  },
  {
   "cell_type": "code",
   "execution_count": null,
   "id": "8f18e969-178c-45a6-914d-0326638133f0",
   "metadata": {
    "tags": []
   },
   "outputs": [],
   "source": [
    "#Relative Error histogram\n",
    "\n",
    "# fig = plt.figure(figsize=(10,3))\n",
    "# ax1=plt.subplot(121)\n",
    "# ax2=plt.subplot(122)\n",
    "\n",
    "# ax1.hist(a_err, bins=70, density=True, color='#a0d995')\n",
    "# ax1.set_title('Ascaso')\n",
    "\n",
    "# ax2.hist(e_err, bins=70,density=True, color='#b186f1')\n",
    "# ax2.set_title('Modelo Estendido (ln(1 + z))')\n",
    "\n",
    "# plt.show()\n",
    "\n",
    "# print(f\" Ascaso: p-value: {stats.kstest(a_err, stats.norm.cdf, args=(np.mean(a_err), np.std(a_err))).pvalue}\")\n",
    "# print(f\" Extended: p-value: {stats.kstest(e_err, stats.norm.cdf, args=(np.mean(e_err), np.std(e_err))).pvalue}\")"
   ]
  },
  {
   "cell_type": "markdown",
   "id": "4dfc7c07-9708-4a07-aab8-6712d7a83b31",
   "metadata": {
    "tags": []
   },
   "source": [
    "### Std MSE and RMSE"
   ]
  },
  {
   "cell_type": "code",
   "execution_count": null,
   "id": "fcea2545-3831-4f0b-84e1-33ef99efc398",
   "metadata": {
    "tags": []
   },
   "outputs": [],
   "source": [
    "MSE_ascaso_std = sum((lnR_test_std - ascaso_std_valid) ** 2) / len(ascaso_std_valid)\n",
    "RMSE_ascaso_std = np.sqrt(MSE_ascaso_std)\n",
    "\n",
    "MSE_ext_ln1pz_std = sum((lnR_test_std - ext_ln1pz_std_valid) ** 2) / len(ext_ln1pz_std_valid)\n",
    "RMSE_ext_ln1pz_std = np.sqrt(MSE_ext_ln1pz_std )\n",
    "\n",
    "print(f\"Std MSE and RMSE\\n\\nAscaso: \\tMSE: {MSE_ascaso_std: .3f},\\t RMSE:{RMSE_ascaso_std: .3f}\")\n",
    "print(f\"Extended:\\tMSE: {MSE_ext_ln1pz_std: .3f},\\t RMSE:{RMSE_ext_ln1pz_std: .3f}\\n\")"
   ]
  },
  {
   "cell_type": "markdown",
   "id": "07d21340-809e-45b0-acbe-3db18e6d1868",
   "metadata": {
    "tags": []
   },
   "source": [
    "### Std MAPE"
   ]
  },
  {
   "cell_type": "code",
   "execution_count": null,
   "id": "71907217-b49f-4ae1-b528-de6ee4dedc49",
   "metadata": {
    "tags": []
   },
   "outputs": [],
   "source": [
    "print(f\"MAPE:STD\\n\\nMAPE (Ascaso): {mean_absolute_percentage_error(lnR_test_std, ascaso_std_valid) * 100: .2f}%\") \n",
    "print(f\"MAPE (Extended): {mean_absolute_percentage_error(lnR_test_std, ext_ln1pz_std_valid) * 100: .2f}%\") "
   ]
  },
  {
   "cell_type": "code",
   "execution_count": null,
   "id": "8895bb3f-def9-4bdb-9324-349834b99b0e",
   "metadata": {},
   "outputs": [],
   "source": []
  }
 ],
 "metadata": {
  "kernelspec": {
   "display_name": "numcosmo",
   "language": "python",
   "name": "numcosmo"
  },
  "language_info": {
   "codemirror_mode": {
    "name": "ipython",
    "version": 3
   },
   "file_extension": ".py",
   "mimetype": "text/x-python",
   "name": "python",
   "nbconvert_exporter": "python",
   "pygments_lexer": "ipython3",
   "version": "3.11.11"
  }
 },
 "nbformat": 4,
 "nbformat_minor": 5
}
