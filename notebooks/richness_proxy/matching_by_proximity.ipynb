{
 "cells": [
  {
   "cell_type": "markdown",
   "id": "a4fd62c5-6fa4-4923-b931-8910f1c2ae3b",
   "metadata": {
    "tags": []
   },
   "source": [
    "#  Matching Catalogs by Proximity with NumCosmo\n",
    "\n",
    "---\n",
    "**License**\n",
    "\n",
    " Matching Catalogs by Proximity with NumCosmo\n",
    "\n",
    " Mon Dec 2 18:30:00 2024\\\n",
    " Copyright  2024\\\n",
    " Cinthia Nunes de Lima <cinthia.n.lima@uel.br> \\ Sandro Dias Pinto Vitenti <vitenti@uel.br>\n",
    "\n",
    "---\n",
    "---\n",
    " matching_by_proximity\\\n",
    " Copyright (C) 2024 Cinthia Nunes de Lima <cinthia.n.lima@uel.br>, Sandro Dias Pinto Vitenti <vitenti@uel.br>\n",
    "\n",
    " numcosmo is free software: you can redistribute it and/or modify it\n",
    " under the terms of the GNU General Public License as published by the\n",
    " Free Software Foundation, either version 3 of the License, or\n",
    " (at your option) any later version.\n",
    "\n",
    " numcosmo is distributed in the hope that it will be useful, but\n",
    " WITHOUT ANY WARRANTY; without even the implied warranty of\n",
    " MERCHANTABILITY or FITNESS FOR A PARTICULAR PURPOSE.\n",
    " See the GNU General Public License for more details.\n",
    "\n",
    " You should have received a copy of the GNU General Public License along\n",
    " with this program.  If not, see <http://www.gnu.org/licenses/>.\n",
    " \n",
    "---"
   ]
  },
  {
   "cell_type": "markdown",
   "id": "c7ae9c1c-b499-4b67-8d83-1665dc873625",
   "metadata": {},
   "source": [
    "## Libraries & Configs"
   ]
  },
  {
   "cell_type": "code",
   "execution_count": 2,
   "id": "bf1e458c-55d2-42cb-a22b-c089a982860e",
   "metadata": {},
   "outputs": [
    {
     "name": "stdout",
     "output_type": "stream",
     "text": [
      "GCRCatalogs = 1.9.0 | GCR = 0.9.2\n"
     ]
    }
   ],
   "source": [
    "import math\n",
    "import sys\n",
    "\n",
    "import os\n",
    "import numpy as np\n",
    "import matplotlib.pyplot as plt\n",
    "\n",
    "from astropy.io import fits\n",
    "from astropy.table import Table\n",
    "import pandas as pd\n",
    "\n",
    "sys.path.insert(0, \"/global/homes/c/cinlima/gcrcatalogs-new/gcr-catalogs\")\n",
    "sys.path.insert(0, \"/global/homes/c/cinlima/\")\n",
    "sys.path.insert(0, \"/global/homes/c/cinlima/NumCosmo/notebooks/richness_proxy/MachingCatalogs\")\n",
    "\n",
    "\n",
    "import GCRCatalogs\n",
    "#Put nersc if using nersc\n",
    "GCRCatalogs.set_root_dir_by_site(\"nersc\")\n",
    "\n",
    "print('GCRCatalogs =', GCRCatalogs.__version__, '|' ,'GCR =', GCRCatalogs.GCR.__version__)\n",
    "\n",
    "\n",
    "from numcosmo_py import Nc, Ncm\n",
    "\n",
    "import time\n",
    "\n",
    "# GCRCatalogs.get_available_catalog_names()\n"
   ]
  },
  {
   "cell_type": "markdown",
   "id": "786d28e1-57bd-41cd-ba4e-a7fbf7a70b51",
   "metadata": {},
   "source": [
    "## Catalogs"
   ]
  },
  {
   "cell_type": "code",
   "execution_count": null,
   "id": "98e88314-ac20-4799-9c7f-fea47cc0632a",
   "metadata": {},
   "outputs": [],
   "source": [
    "#Cosmo DC2\n",
    "cosmodc2= GCRCatalogs.load_catalog('cosmoDC2_v1.1.4_image')\n",
    "\n",
    "#Cosmo DC2 + RedMaPPer\n",
    "catalog_dc2_redmapper = GCRCatalogs.load_catalog('cosmoDC2_v1.1.4_redmapper_v0.8.1')"
   ]
  },
  {
   "cell_type": "code",
   "execution_count": null,
   "id": "db31fc51-540e-4265-8565-f632579324d8",
   "metadata": {},
   "outputs": [],
   "source": [
    "# Restrictions on richness, mass and redshift\n",
    "min_richness = 5\n",
    "min_halo_mass = 1e13 #Msun\n",
    "redshift_max = 1.2\n",
    "\n",
    "#cDC2 + RM data\n",
    "quantities = catalog_dc2_redmapper.list_all_quantities()\n",
    "cluster_quantities = [q for q in quantities if 'member' not in q]\n",
    "member_quantities = [q for q in quantities if 'member' in q]\n",
    "    \n",
    "query = GCRCatalogs.GCRQuery('(richness > ' + str(min_richness) +')')\n",
    "cluster_data = Table(catalog_dc2_redmapper.get_quantities(cluster_quantities, [query])) # cDC2 + RM cluster data\n",
    "member_data = Table(catalog_dc2_redmapper.get_quantities(member_quantities)) # cDC2 + RM member data\n",
    "\n",
    "#cDC2 data\n",
    "quantities_wanted = ['redshift','halo_mass','halo_id','galaxy_id','ra','dec', 'is_central']\n",
    "query = GCRCatalogs.GCRQuery('(halo_mass > ' + str(min_halo_mass) +') & (redshift < ' + str(redshift_max) +') & (is_central < ' + str(redshift_max) +') ')\n",
    "truth_data = Table(cosmodc2.get_quantities(quantities_wanted, [query]))"
   ]
  },
  {
   "cell_type": "code",
   "execution_count": null,
   "id": "25f0d4d1-e4ae-48ab-9b1a-40aa50c6aba2",
   "metadata": {},
   "outputs": [],
   "source": [
    "truth_data"
   ]
  },
  {
   "cell_type": "code",
   "execution_count": null,
   "id": "2c55bcfb-55db-4ff5-9132-ed1ee2446400",
   "metadata": {},
   "outputs": [],
   "source": [
    "cluster_data"
   ]
  },
  {
   "cell_type": "markdown",
   "id": "17dc3cdd-78f3-4120-ba15-317f262b4a97",
   "metadata": {},
   "source": [
    "## Matching by Proximity"
   ]
  },
  {
   "cell_type": "code",
   "execution_count": null,
   "id": "3c327318-da9a-4aa0-a0d4-fe73f791a5fa",
   "metadata": {},
   "outputs": [],
   "source": [
    "snn = Ncm.SphereNN()\n",
    "    cosmo = Nc.HICosmoDEXcdm()\n",
    "    dist = Nc.Distance.new(3.0)\n",
    "    dist.prepare(cosmo)\n",
    "\n",
    "    r_a = np.array([dist.comoving(cosmo, z) for z in z1])\n",
    "\n",
    "    snn.insert_array(r_a, theta1, phi1)\n",
    "\n",
    "    snn.rebuild()\n",
    "\n",
    "    #\n",
    "    # for theta, phi in zip(theta2, phi2):\n",
    "    #    snn.knn_search(theta, phi, 10)\n",
    "    # Do the above using tqdm\n",
    "\n",
    "    for i, (theta, phi, z) in tqdm.tqdm(\n",
    "        enumerate(zip(theta2, phi2, z2)), total=len(theta2)\n",
    "    ):\n",
    "        r = dist.comoving(cosmo, z)\n",
    "        indices = np.array(snn.knn_search(r, theta, phi, 100))"
   ]
  }
 ],
 "metadata": {
  "kernelspec": {
   "display_name": "numcosmo",
   "language": "python",
   "name": "numcosmo"
  },
  "language_info": {
   "codemirror_mode": {
    "name": "ipython",
    "version": 3
   },
   "file_extension": ".py",
   "mimetype": "text/x-python",
   "name": "python",
   "nbconvert_exporter": "python",
   "pygments_lexer": "ipython3",
   "version": "3.11.10"
  }
 },
 "nbformat": 4,
 "nbformat_minor": 5
}
