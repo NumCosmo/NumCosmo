{
 "cells": [
  {
   "cell_type": "markdown",
   "id": "168fb654-ff81-4369-a517-d486ea878845",
   "metadata": {
    "tags": []
   },
   "source": [
    "# Residuals Analysis\n",
    "\n",
    "\n",
    "---\n",
    "**License**\n",
    "\n",
    " Residuals Analisis\n",
    "\n",
    " Sun Dec 01 11:30:00 2024\\\n",
    " Copyright  2024\\\n",
    " Cinthia Nunes de Lima <cinthia.n.lima@uel.br> \\ Sandro Dias Pinto Vitenti <vitenti@uel.br>\n",
    "\n",
    "---\n",
    "---\n",
    "\n",
    " Ascaso_Extended_Calibration\\\n",
    " Copyright (C) 2024 Cinthia Nunes de Lima <cinthia.n.lima@uel.br>, Sandro Dias Pinto Vitenti <vitenti@uel.br>\n",
    "\n",
    " numcosmo is free software: you can redistribute it and/or modify it\n",
    " under the terms of the GNU General Public License as published by the\n",
    " Free Software Foundation, either version 3 of the License, or\n",
    " (at your option) any later version.\n",
    "\n",
    " numcosmo is distributed in the hope that it will be useful, but\n",
    " WITHOUT ANY WARRANTY; without even the implied warranty of\n",
    " MERCHANTABILITY or FITNESS FOR A PARTICULAR PURPOSE.\n",
    " See the GNU General Public License for more details.\n",
    "\n",
    " You should have received a copy of the GNU General Public License along\n",
    " with this program.  If not, see <http://www.gnu.org/licenses/>.\n",
    " \n",
    "---"
   ]
  },
  {
   "cell_type": "markdown",
   "id": "60b3953a-aef6-4988-a024-17b4a79ffc32",
   "metadata": {
    "tags": []
   },
   "source": [
    "## Packages & Configs"
   ]
  },
  {
   "cell_type": "code",
   "execution_count": null,
   "id": "6f68dc3e-4d96-46f9-9fc7-ce35a31dd3a3",
   "metadata": {
    "tags": []
   },
   "outputs": [],
   "source": [
    "import sys\n",
    "sys.path.insert(0, \"/global/homes/c/cinlima/NumCosmo/notebooks/richness_proxy/\")\n",
    "sys.path.insert(0, \"/global/homes/c/cinlima/NumCosmo/notebooks/richness_proxy/Scripts\")\n",
    "\n",
    "\n",
    "#NumCosmo\n",
    "from numcosmo_py import Ncm, Nc, GObject\n",
    "from richness_mass_calib import create_richness_mass_calib\n",
    "\n",
    "#Useful packages\n",
    "import numpy as np\n",
    "import math\n",
    "from scipy import stats\n",
    "import statsmodels.api as sm\n",
    "\n",
    "\n",
    "from astropy.io import fits\n",
    "from astropy.table import Table\n",
    "import pandas as pd\n",
    "\n",
    "from sklearn.model_selection import train_test_split\n",
    "from sklearn.metrics import mean_absolute_percentage_error\n",
    "\n",
    "import os\n",
    "\n",
    "import matplotlib\n",
    "import matplotlib.pyplot as plt\n",
    "import matplotlib.pyplot as gridspec\n",
    "from matplotlib.gridspec import GridSpec\n",
    "\n",
    "sys.path.insert(0, \"/global/homes/c/cinlima/gcrcatalogs-new/gcr-catalogs\")\n",
    "import GCRCatalogs\n",
    "\n",
    "%matplotlib inline\n",
    "\n",
    "Ncm.cfg_init()\n",
    "Ncm.cfg_set_log_handler(lambda msg: sys.stdout.write(msg) and sys.stdout.flush())\n",
    "\n",
    "sys.path.insert(0, \"global/homes/c/cinlima/clevar/clevar\")\n",
    "\n",
    "#Put nerc if using nersc\n",
    "GCRCatalogs.set_root_dir_by_site(\"nersc\")\n",
    "\n",
    "#Calibration functions\n",
    "from bdata import BinningData\n",
    "from fitting_model import FittingModel"
   ]
  },
  {
   "cell_type": "markdown",
   "id": "19edc0ec-02b2-4f9d-9617-02980cf39cbc",
   "metadata": {
    "tags": []
   },
   "source": [
    "## Data"
   ]
  },
  {
   "cell_type": "code",
   "execution_count": null,
   "id": "cf0b6bb8-7824-4298-af7c-0b0d7e37beda",
   "metadata": {
    "tags": []
   },
   "outputs": [],
   "source": [
    "test_matchdata = pd.read_csv('/global/homes/c/cinlima/MatchingCatalogs/match_catalog.csv',  sep = ';')\n",
    "\n",
    "rich_data = test_matchdata[\"richness\"]\n",
    "z_data = test_matchdata[\"redshift_y\"]\n",
    "mass_data = test_matchdata[\"halo_mass\"]\n",
    "\n",
    "cdc2_data = Table([mass_data, rich_data, z_data], names=('mass', 'richness', 'redshift'))\n"
   ]
  },
  {
   "cell_type": "code",
   "execution_count": null,
   "id": "68caecd0-4062-45ea-a830-48192592360d",
   "metadata": {
    "tags": []
   },
   "outputs": [],
   "source": [
    "mass_dt = cdc2_data['mass']\n",
    "red_dt = cdc2_data['redshift']\n",
    "rich_dt = cdc2_data['richness']\n",
    "\n",
    "print(f'Mass:\\t{max(mass_dt):.2e}, {min(mass_dt):.2e}')\n",
    "print(f'redshift_true:\\t{max(red_dt)}, {min(red_dt)}')\n",
    "print(f'richness:\\t{max(rich_dt)}, {min(rich_dt)}')\n",
    "\n"
   ]
  },
  {
   "cell_type": "markdown",
   "id": "b09e0aff-2a12-4897-9ff0-c9eaba618406",
   "metadata": {
    "tags": []
   },
   "source": [
    "## Fitting"
   ]
  },
  {
   "cell_type": "code",
   "execution_count": 17,
   "id": "3dbc8bef-02b3-48e3-8f04-2836283f7078",
   "metadata": {
    "scrolled": true,
    "tags": []
   },
   "outputs": [
    {
     "name": "stdout",
     "output_type": "stream",
     "text": [
      "#----------------------------------------------------------------------------------\n",
      "# Data used:\n",
      "#   - NcDataClusterMassRich\n",
      "#----------------------------------------------------------------------------------\n",
      "# Model[09000]:\n",
      "#   - NcClusterMass : LnrichExt Ln-normal richness distribution\n",
      "#----------------------------------------------------------------------------------\n",
      "# Model parameters\n",
      "#   -      mu[00]:  3.19                [FREE]\n",
      "#   -    muM1[01]:  0.868588963806504   [FREE]\n",
      "#   -    muZ1[02]: -0.304006137332276   [FREE]\n",
      "#   -    muM2[03]:  0                   [FREE]\n",
      "#   -    muZ2[04]:  0                   [FREE]\n",
      "#   -    muMZ[05]:  0                   [FREE]\n",
      "#   -  sigma0[06]:  0.33                [FREE]\n",
      "#   - sigmaM1[07]: -0.0347435585522601  [FREE]\n",
      "#   - sigmaZ1[08]:  0                   [FREE]\n",
      "#   - sigmaM2[09]:  0                   [FREE]\n",
      "#   - sigmaZ2[10]:  0                   [FREE]\n",
      "#   - sigmaMZ[11]:  0                   [FREE]\n",
      "#   -      A0[12]:  0                   [FIXED]\n",
      "#   -     cut[13]:  100                 [FIXED]\n",
      "#   -   cutM1[14]:  0                   [FIXED]\n",
      "#   -   cutZ1[15]:  0                   [FIXED]\n",
      "#----------------------------------------------------------------------------------\n",
      "# Model fitting. Interating using:\n",
      "#  - solver:            NLOpt:ln-neldermead\n",
      "#  - differentiation:   Numerical differentiantion (central)\n",
      "#........................................................................................................................................................................................................................................................................................................................................\n",
      "#  Minimum found with precision: |df|/f =  1.00000e-08 and |dx| =  1.00000e-05\n",
      "#  Elapsed time: 00 days, 00:00:12.1944930\n",
      "#  iteration            [003192]\n",
      "#  function evaluations [003194]\n",
      "#  gradient evaluations [000000]\n",
      "#  degrees of freedom   [039588]\n",
      "#  m2lnL     =     12436.2627102846 (     12436.263 )\n",
      "#  Fit parameters:\n",
      "#     4.20370925746349       1.43066403671801       0.185460174857295      0.22282322579151      -0.83365505562074       0.0396713257046271     0.213394452836272     -0.566302706077126      0.122344382265079     -0.0714452804039155    -1.69937348415444       0.139362512912017     \n",
      "#----------------------------------------------------------------------------------\n",
      "# Restarting:              yes\n",
      "#  - absolute improvement: 135318.390050354      \n",
      "#  - relative improvement: 0.915831667714511     \n",
      "#  - m2lnL_0  :            147754.652760639      \n",
      "#  - m2lnL_1  :            12436.2627102846      \n",
      "#----------------------------------------------------------------------------------\n",
      "# Model fitting. Interating using:\n",
      "#  - solver:            NLOpt:ln-neldermead\n",
      "#  - differentiation:   Numerical differentiantion (central)\n",
      "#....................................................................................................................................................................................................................................................................................................................................................\n",
      "#  Minimum found with precision: |df|/f =  1.00000e-08 and |dx| =  1.00000e-05\n",
      "#  Elapsed time: 00 days, 00:00:12.5123430\n",
      "#  iteration            [003310]\n",
      "#  function evaluations [003312]\n",
      "#  gradient evaluations [000000]\n",
      "#  degrees of freedom   [039588]\n",
      "#  m2lnL     =     12165.6595419343 (      12165.66 )\n",
      "#  Fit parameters:\n",
      "#     4.23756277626688       1.46597353201171       0.263177283680675      0.230391657829472     -0.707076064940928      0.0697106920552613     0.0317025929601865    -0.685337597285082      0.0879310621311841    -0.0950344731770201     0.374618909532973      0.152199221529394     \n",
      "#----------------------------------------------------------------------------------\n",
      "# Restarting:              yes\n",
      "#  - absolute improvement: 270.603168350281      \n",
      "#  - relative improvement: 0.0217592032794946    \n",
      "#  - m2lnL_1  :            12436.2627102846      \n",
      "#  - m2lnL_2  :            12165.6595419343      \n",
      "#----------------------------------------------------------------------------------\n",
      "# Model fitting. Interating using:\n",
      "#  - solver:            NLOpt:ln-neldermead\n",
      "#  - differentiation:   Numerical differentiantion (central)\n",
      "#.................................\n",
      "#  Minimum found with precision: |df|/f =  1.00000e-08 and |dx| =  1.00000e-05\n",
      "#  Elapsed time: 00 days, 00:00:00.9366320\n",
      "#  iteration            [000246]\n",
      "#  function evaluations [000248]\n",
      "#  gradient evaluations [000000]\n",
      "#  degrees of freedom   [039588]\n",
      "#  m2lnL     =      12165.659540596 (      12165.66 )\n",
      "#  Fit parameters:\n",
      "#     4.23756207047561       1.46597863983533       0.263107926653269      0.230393548584707     -0.707130963573848      0.0696933010699691     0.0317038908340601    -0.685327572869321      0.0878661029183825    -0.0950306481965114     0.374451950248017      0.152088269936939     \n",
      "#----------------------------------------------------------------------------------\n",
      "# Restarting:              no\n",
      "#  - absolute improvement: 1.33827779791318e-06  \n",
      "#  - relative improvement: 1.10004541332117e-10  \n",
      "#  - m2lnL_2  :            12165.6595419343      \n",
      "#  - m2lnL_3  :            12165.659540596       \n",
      "#----------------------------------------------------------------------------------\n",
      "# Data used:\n",
      "#   - NcDataClusterMassRich\n",
      "#----------------------------------------------------------------------------------\n",
      "# Model[09000]:\n",
      "#   - NcClusterMass : LnrichExt Ln-normal richness distribution\n",
      "#----------------------------------------------------------------------------------\n",
      "# Model parameters\n",
      "#   -      mu[00]:  4.23756207047561    [FREE]\n",
      "#   -    muM1[01]:  1.46597863983533    [FREE]\n",
      "#   -    muZ1[02]:  0.263107926653269   [FREE]\n",
      "#   -    muM2[03]:  0.230393548584707   [FREE]\n",
      "#   -    muZ2[04]: -0.707130963573848   [FREE]\n",
      "#   -    muMZ[05]:  0.0696933010699691  [FREE]\n",
      "#   -  sigma0[06]:  0.0317038908340601  [FREE]\n",
      "#   - sigmaM1[07]: -0.685327572869321   [FREE]\n",
      "#   - sigmaZ1[08]:  0.0878661029183825  [FREE]\n",
      "#   - sigmaM2[09]: -0.0950306481965114  [FREE]\n",
      "#   - sigmaZ2[10]:  0.374451950248017   [FREE]\n",
      "#   - sigmaMZ[11]:  0.152088269936939   [FREE]\n",
      "#   -      A0[12]:  0                   [FIXED]\n",
      "#   -     cut[13]:  100                 [FIXED]\n",
      "#   -   cutM1[14]:  0                   [FIXED]\n",
      "#   -   cutZ1[15]:  0                   [FIXED]\n"
     ]
    }
   ],
   "source": [
    "rmdata = create_richness_mass_calib(cdc2_data, mass_col_name = 'mass', redshift_col_name = 'redshift' )\n",
    "fixed_parameters = [] \n",
    "\n",
    "#Quadratic\n",
    "quadratic = Nc.ClusterMassLnrichExt(use_ln1pz = True)\n",
    "fixed_parameters = ['A0','cut', 'cutM1', 'cutZ1'] #fixing cut parameters\n",
    "\n",
    "quadratic.param_set_by_name(\"cut\", 1e2) #Set cut parameter value \n",
    "mset = Ncm.MSet()\n",
    "mset.set(quadratic)\n",
    "rmdata.m2lnL_val(mset)  \n",
    "mset.param_set_all_ftype(Ncm.ParamType.FREE) #All parameters free\n",
    "\n",
    "#Data\n",
    "dset = Ncm.Dataset.new()\n",
    "dset.append_data(rmdata)\n",
    "    \n",
    "# Likelihood\n",
    "lh = Ncm.Likelihood.new(dset)\n",
    "    \n",
    "# All parameters free except cut parameters:\n",
    "for par in fixed_parameters:\n",
    "    mset[\"NcClusterMass\"].param_set_desc(par, {\"fit\": False})    \n",
    "    mset.prepare_fparam_map()\n",
    "    \n",
    "#Fit\n",
    "fit = Ncm.Fit.factory( Ncm.FitType.NLOPT, \"ln-neldermead\", lh, mset, Ncm.FitGradType.NUMDIFF_CENTRAL )\n",
    "fit.log_info()\n",
    "fit.run_restart(Ncm.FitRunMsgs.SIMPLE, 1.0e-3, 0.0, None, None)\n",
    "fit.log_info()\n",
    "\n",
    "# Fitted model calculated using mass and redshift from the data\n",
    "quadratic_mean = np.array([quadratic.get_mean_richness(np.log(cdc2_data[\"mass\"][i]), cdc2_data[\"redshift\"][i]) for i in range(len(cdc2_data[\"mass\"]))])\n",
    "        \n",
    "quadratic_std = np.array( [quadratic.get_std_richness(np.log(cdc2_data[\"mass\"][i]), cdc2_data[\"redshift\"][i]) for i in range(len(cdc2_data[\"mass\"]))])"
   ]
  },
  {
   "cell_type": "code",
   "execution_count": 16,
   "id": "6b99edce-329b-4c3a-b1b1-c1dae1b57392",
   "metadata": {
    "scrolled": true,
    "tags": []
   },
   "outputs": [
    {
     "name": "stdout",
     "output_type": "stream",
     "text": [
      "#----------------------------------------------------------------------------------\n",
      "# Data used:\n",
      "#   - NcDataClusterMassRich\n",
      "#----------------------------------------------------------------------------------\n",
      "# Model[09000]:\n",
      "#   - NcClusterMass : Ascaso Ln-normal richness distribution\n",
      "#----------------------------------------------------------------------------------\n",
      "# Model parameters\n",
      "#   -    mup0[00]:  3.19                [FREE]\n",
      "#   -    mup1[01]:  0.868588963806504   [FREE]\n",
      "#   -    mup2[02]: -0.304006137332276   [FREE]\n",
      "#   - sigmap0[03]:  0.33                [FREE]\n",
      "#   - sigmap1[04]: -0.0347435585522601  [FREE]\n",
      "#   - sigmap2[05]:  0                   [FREE]\n",
      "#   -     cut[06]:  100                 [FIXED]\n",
      "#----------------------------------------------------------------------------------\n",
      "# Model fitting. Interating using:\n",
      "#  - solver:            NLOpt:ln-neldermead\n",
      "#  - differentiation:   Numerical differentiantion (central)\n",
      "#...............................................................................................\n",
      "#  Minimum found with precision: |df|/f =  1.00000e-08 and |dx| =  1.00000e-05\n",
      "#  Elapsed time: 00 days, 00:00:02.0589660\n",
      "#  iteration            [000860]\n",
      "#  function evaluations [000862]\n",
      "#  gradient evaluations [000000]\n",
      "#  degrees of freedom   [039594]\n",
      "#  m2lnL     =     20843.7663393561 (     20843.766 )\n",
      "#  Fit parameters:\n",
      "#     3.03863732274863       0.359124049978319      0.0295783312271794     0.642002350502575      0.105554137507159      0.107404716070639     \n",
      "#----------------------------------------------------------------------------------\n",
      "# Restarting:              yes\n",
      "#  - absolute improvement: 265623.194027898      \n",
      "#  - relative improvement: 0.927238497896462     \n",
      "#  - m2lnL_0  :            286466.960367254      \n",
      "#  - m2lnL_1  :            20843.7663393561      \n",
      "#----------------------------------------------------------------------------------\n",
      "# Model fitting. Interating using:\n",
      "#  - solver:            NLOpt:ln-neldermead\n",
      "#  - differentiation:   Numerical differentiantion (central)\n",
      "#......................\n",
      "#  Minimum found with precision: |df|/f =  1.00000e-08 and |dx| =  1.00000e-05\n",
      "#  Elapsed time: 00 days, 00:00:00.3172830\n",
      "#  iteration            [000131]\n",
      "#  function evaluations [000133]\n",
      "#  gradient evaluations [000000]\n",
      "#  degrees of freedom   [039594]\n",
      "#  m2lnL     =     20843.7663393561 (     20843.766 )\n",
      "#  Fit parameters:\n",
      "#     3.03863732274863       0.359124049978319      0.0295783312271794     0.642002350502575      0.105554137507159      0.107404716070639     \n",
      "#----------------------------------------------------------------------------------\n",
      "# Restarting:              no\n",
      "#  - absolute improvement: 0                     \n",
      "#  - relative improvement: 0                     \n",
      "#  - m2lnL_1  :            20843.7663393561      \n",
      "#  - m2lnL_2  :            20843.7663393561      \n",
      "#----------------------------------------------------------------------------------\n",
      "# Data used:\n",
      "#   - NcDataClusterMassRich\n",
      "#----------------------------------------------------------------------------------\n",
      "# Model[09000]:\n",
      "#   - NcClusterMass : Ascaso Ln-normal richness distribution\n",
      "#----------------------------------------------------------------------------------\n",
      "# Model parameters\n",
      "#   -    mup0[00]:  3.03863732274863    [FREE]\n",
      "#   -    mup1[01]:  0.359124049978319   [FREE]\n",
      "#   -    mup2[02]:  0.0295783312271794  [FREE]\n",
      "#   - sigmap0[03]:  0.642002350502575   [FREE]\n",
      "#   - sigmap1[04]:  0.105554137507159   [FREE]\n",
      "#   - sigmap2[05]:  0.107404716070639   [FREE]\n",
      "#   -     cut[06]:  100                 [FIXED]\n"
     ]
    }
   ],
   "source": [
    "#Quadratic\n",
    "linear = Nc.ClusterMassAscaso()\n",
    "fixed_parameters2 = ['cut'] #fixing cut parameter\n",
    "                \n",
    "linear.param_set_by_name(\"cut\", 1e2) #Set cut parameter value \n",
    "mset = Ncm.MSet()\n",
    "mset.set(linear)\n",
    "rmdata.m2lnL_val(mset)  \n",
    "mset.param_set_all_ftype(Ncm.ParamType.FREE) #All parameters free\n",
    "\n",
    "#Data\n",
    "dset = Ncm.Dataset.new()\n",
    "dset.append_data(rmdata)\n",
    "    \n",
    "# Likelihood\n",
    "lh = Ncm.Likelihood.new(dset)\n",
    "    \n",
    "# All parameters free except cut parameters:\n",
    "for par in fixed_parameters2:\n",
    "    mset[\"NcClusterMass\"].param_set_desc(par, {\"fit\": False})    \n",
    "    mset.prepare_fparam_map()\n",
    "    \n",
    "#Fit\n",
    "fit = Ncm.Fit.factory( Ncm.FitType.NLOPT, \"ln-neldermead\", lh, mset, Ncm.FitGradType.NUMDIFF_CENTRAL )\n",
    "fit.log_info()\n",
    "fit.run_restart(Ncm.FitRunMsgs.SIMPLE, 1.0e-3, 0.0, None, None)\n",
    "fit.log_info()\n",
    "\n",
    "# Fitted model calculated using mass and redshift from the data\n",
    "linear_mean = np.array([linear.get_mean_richness(np.log(cdc2_data[\"mass\"][i]), cdc2_data[\"redshift\"][i]) for i in range(len(cdc2_data[\"mass\"]))])\n",
    "        \n",
    "linear_std = np.array( [linear.get_std_richness(np.log(cdc2_data[\"mass\"][i]), cdc2_data[\"redshift\"][i]) for i in range(len(cdc2_data[\"mass\"]))])\n",
    "    "
   ]
  },
  {
   "cell_type": "markdown",
   "id": "d14c861c-df1c-4bea-b0b1-b4135bfe2558",
   "metadata": {},
   "source": [
    "## Errors"
   ]
  },
  {
   "cell_type": "code",
   "execution_count": 18,
   "id": "c564ba7c-980a-4892-aaed-c3ed2be84cee",
   "metadata": {
    "tags": []
   },
   "outputs": [],
   "source": [
    "residuals_ext = (quadratic_mean - rich_dt) / linear_std\n",
    "residuals_asc = (linear_mean - rich_dt) / linear_std\n",
    "\n",
    "# plt.hist(residuals_ext)\n",
    "# plt.title('Histogram Quadratic Model')\n"
   ]
  },
  {
   "cell_type": "code",
   "execution_count": 19,
   "id": "eb3a801c-8707-4d5a-b77b-f63763d1ee60",
   "metadata": {
    "tags": []
   },
   "outputs": [
    {
     "data": {
      "image/png": "[encoded data removed]",
      "text/plain": [
       "<Figure size 640x480 with 1 Axes>"
      ]
     },
     "metadata": {},
     "output_type": "display_data"
    }
   ],
   "source": [
    "fig = sm.qqplot(residuals_ext, line='45')\n",
    "plt.title('Q-Q Plot Quadratic Model')\n",
    "plt.show()"
   ]
  },
  {
   "cell_type": "code",
   "execution_count": 20,
   "id": "c2cfea2a-f3d4-4348-952e-16ff54d515b2",
   "metadata": {
    "tags": []
   },
   "outputs": [
    {
     "data": {
      "image/png": "[encoded data removed]",
      "text/plain": [
       "<Figure size 640x480 with 1 Axes>"
      ]
     },
     "metadata": {},
     "output_type": "display_data"
    }
   ],
   "source": [
    "fig = sm.qqplot(residuals_asc, line='45')\n",
    "plt.title('Q-Q Plot Linear Model')\n",
    "\n",
    "plt.show()"
   ]
  },
  {
   "cell_type": "code",
   "execution_count": null,
   "id": "c0bb16b0-108d-42ff-9683-bb7eed536e1c",
   "metadata": {},
   "outputs": [],
   "source": []
  }
 ],
 "metadata": {
  "kernelspec": {
   "display_name": "numcosmo",
   "language": "python",
   "name": "numcosmo"
  },
  "language_info": {
   "codemirror_mode": {
    "name": "ipython",
    "version": 3
   },
   "file_extension": ".py",
   "mimetype": "text/x-python",
   "name": "python",
   "nbconvert_exporter": "python",
   "pygments_lexer": "ipython3",
   "version": "3.11.10"
  }
 },
 "nbformat": 4,
 "nbformat_minor": 5
}
