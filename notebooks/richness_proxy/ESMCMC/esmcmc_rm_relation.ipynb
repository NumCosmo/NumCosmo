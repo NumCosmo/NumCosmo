{
 "cells": [
  {
   "cell_type": "markdown",
   "id": "da058759-7eb2-463b-8d8a-f1f249308afb",
   "metadata": {
    "tags": []
   },
   "source": [
    "# ESMCMC: Richness-Mass Scaling Relation Calibration\n",
    "\n",
    "---\n",
    "**License**\n",
    "\n",
    " ESMCMC_RM_SR_Models\n",
    "\n",
    " Mon Nov 11 10:30:00 2024\\\n",
    " Copyright  2024\\\n",
    " Cinthia Nunes de Lima <cinthia.n.lima@uel.br> \\ Sandro Dias Pinto Vitenti <vitenti@uel.br>\n",
    "\n",
    "---\n",
    "---\n",
    "\n",
    " ESMCMC_RM_SR_Models\\\n",
    " Copyright (C) 2024 Cinthia Nunes de Lima <cinthia.n.lima@uel.br>, Sandro Dias Pinto Vitenti <vitenti@uel.br>\n",
    "\n",
    " numcosmo is free software: you can redistribute it and/or modify it\n",
    " under the terms of the GNU General Public License as published by the\n",
    " Free Software Foundation, either version 3 of the License, or\n",
    " (at your option) any later version.\n",
    "\n",
    " numcosmo is distributed in the hope that it will be useful, but\n",
    " WITHOUT ANY WARRANTY; without even the implied warranty of\n",
    " MERCHANTABILITY or FITNESS FOR A PARTICULAR PURPOSE.\n",
    " See the GNU General Public License for more details.\n",
    "\n",
    " You should have received a copy of the GNU General Public License along\n",
    " with this program.  If not, see <http://www.gnu.org/licenses/>.\n",
    " \n",
    "---"
   ]
  },
  {
   "cell_type": "markdown",
   "id": "ddbff4ee-2caf-49f6-8725-b0ebd29b42d7",
   "metadata": {
    "tags": []
   },
   "source": [
    "## Settings"
   ]
  },
  {
   "cell_type": "code",
   "execution_count": 2,
   "id": "a7f9b466-a941-4db1-b09f-e69d9320f0c3",
   "metadata": {
    "tags": []
   },
   "outputs": [
    {
     "name": "stdout",
     "output_type": "stream",
     "text": [
      "GetDist Version: 1.5.3, Matplotlib version: 3.10.0\n"
     ]
    }
   ],
   "source": [
    "import sys\n",
    "sys.path.insert(0, \"/global/homes/c/cinlima/NumCosmo/notebooks/richness_proxy/\")\n",
    "sys.path.insert(0, \"/global/homes/c/cinlima/NumCosmo/notebooks/richness_proxy/ESMCMC\")\n",
    "from esmcmc_rm_relation_script import catalog_fit, esmcmc\n",
    "\n",
    "\n",
    "#NumCosmo\n",
    "from numcosmo_py import Ncm, Nc, GObject\n",
    "Ncm.cfg_init()\n",
    "Ncm.cfg_set_log_handler(lambda msg: sys.stdout.write(msg) and sys.stdout.flush())\n",
    "\n",
    "#Useful packages\n",
    "import numpy as np\n",
    "import pandas as pd\n",
    "from astropy.io import fits\n",
    "from astropy.table import Table\n",
    "import matplotlib.pyplot as plt\n",
    "\n",
    "#GCR Catalogs\n",
    "sys.path.insert(0, \"/global/homes/c/cinlima/gcr-catalogs\")\n",
    "import GCRCatalogs\n",
    "GCRCatalogs.set_root_dir_by_site(\"nersc\")\n",
    "\n",
    "#Corner plots \n",
    "from getdist import plots\n",
    "from getdist.mcsamples import  MCSamples\n",
    "import getdist\n",
    "print('GetDist Version: %s, Matplotlib version: %s'%(getdist.__version__, plt.matplotlib.__version__))\n",
    "\n",
    "import pygtc\n",
    "from IPython.display import display, Math\n",
    "%matplotlib inline\n",
    "\n",
    "\n",
    "import warnings\n"
   ]
  },
  {
   "cell_type": "markdown",
   "id": "aa326bfd-ec9c-44c0-a7c8-1407cf75a634",
   "metadata": {
    "tags": []
   },
   "source": [
    "## Data"
   ]
  },
  {
   "cell_type": "code",
   "execution_count": 3,
   "id": "63422873-87c4-4fae-8e14-01bd3625505c",
   "metadata": {
    "tags": []
   },
   "outputs": [],
   "source": [
    "RICH_CUT = 5\n",
    "MASS_CUT = 0"
   ]
  },
  {
   "cell_type": "code",
   "execution_count": 4,
   "id": "d5928494-5fe6-4e62-99eb-90ec9f3c3525",
   "metadata": {
    "tags": []
   },
   "outputs": [
    {
     "name": "stdout",
     "output_type": "stream",
     "text": [
      "Catalog info:\n",
      "Catalog size: 39600\n",
      "Richness: min: 5.01; max: 266.30.\n",
      "Redshift: min: 0.08; max: 1.20.\n",
      "Mass: min: 1e+13; max: 1.9e+15.\n",
      "\n",
      "Cut data:\n",
      "Catalog size: 39600.\n",
      "Richness: min: 5.01; max: 266.30\n",
      "Mass: min: 1e+13; max: 1.9e+15.\n"
     ]
    }
   ],
   "source": [
    "cDC2 = Table.read('../CatalogsMatching/match_ID.fits').to_pandas()\n",
    "\n",
    "rich_data = cDC2[\"richness\"]\n",
    "z_data = cDC2[\"redshift\"]\n",
    "mass_data = cDC2[\"halo_mass\"]\n",
    "\n",
    "cDC2_data = Table([mass_data, rich_data, z_data], names=('mass', 'richness', 'redshift'))\n",
    "\n",
    "#Data cut:\n",
    "cDC2_data = cDC2_data[cDC2_data['richness'] > RICH_CUT]\n",
    "cDC2_data = cDC2_data[cDC2_data['mass'] > MASS_CUT]\n",
    "\n",
    "print(f'Catalog info:\\nCatalog size: {len(rich_data)}\\nRichness: min: {min( rich_data):.2f}; max: {max(rich_data):.2f}.\\nRedshift: min: {min( z_data):.2f}; max: {max(z_data):.2f}.\\nMass: min: {min( mass_data):.2}; max: {max(mass_data):.2}.\\n')\n",
    "\n",
    "richness_dt = cDC2_data['richness']\n",
    "mass_dt = cDC2_data['mass']\n",
    "\n",
    "print(f'Cut data:\\nCatalog size: {len(cDC2_data)}.\\nRichness: min: {min(richness_dt):.2f}; max: {max(richness_dt):.2f}\\nMass: min: {min( mass_dt):.2}; max: {max(mass_dt):.2}.')\n"
   ]
  },
  {
   "cell_type": "markdown",
   "id": "b4cc3cee-e0e2-4361-918a-606f7ff46a49",
   "metadata": {
    "tags": []
   },
   "source": [
    "## Quadratic Model MCMC"
   ]
  },
  {
   "cell_type": "code",
   "execution_count": null,
   "id": "88d38a44-21f3-4d83-acf7-a75a1d2aed98",
   "metadata": {
    "scrolled": true,
    "tags": []
   },
   "outputs": [
    {
     "name": "stdout",
     "output_type": "stream",
     "text": [
      "#----------------------------------------------------------------------------------\n",
      "# Data used:\n",
      "#   - NcDataClusterMassRich\n",
      "#----------------------------------------------------------------------------------\n",
      "# Model[09000]:\n",
      "#   - NcClusterMass : LnrichExt Ln-normal richness distribution\n",
      "#----------------------------------------------------------------------------------\n",
      "# Model parameters\n",
      "#   -      mu[00]:  3.19                [FREE]\n",
      "#   -    muM1[01]:  0.868588963806504   [FREE]\n",
      "#   -    muZ1[02]: -0.304006137332276   [FREE]\n",
      "#   -    muM2[03]:  0                   [FREE]\n",
      "#   -    muZ2[04]:  0                   [FREE]\n",
      "#   -    muMZ[05]:  0                   [FREE]\n",
      "#   -  sigma0[06]:  0.33                [FREE]\n",
      "#   - sigmaM1[07]: -0.0347435585522601  [FREE]\n",
      "#   - sigmaZ1[08]:  0                   [FREE]\n",
      "#   - sigmaM2[09]:  0                   [FREE]\n",
      "#   - sigmaZ2[10]:  0                   [FREE]\n",
      "#   - sigmaMZ[11]:  0                   [FREE]\n",
      "#   -      A0[12]:  0                   [FIXED]\n",
      "#   -     cut[13]:  1.6094379124341     [FIXED]\n",
      "#   -   cutM1[14]:  0                   [FIXED]\n",
      "#   -   cutZ1[15]:  0                   [FIXED]\n",
      "#----------------------------------------------------------------------------------\n",
      "# Model fitting. Interating using:\n",
      "#  - solver:            NLOpt:ln-neldermead\n",
      "#  - differentiation:   Numerical differentiantion (central)\n",
      "#...........................................................................................................................................................................................................................................................................................................................................................\n",
      "#  Minimum found with precision: |df|/f =  1.00000e-08 and |dx| =  1.00000e-05\n",
      "#  Elapsed time: 00 days, 00:00:23.1703560\n",
      "#  iteration            [003388]\n",
      "#  function evaluations [003390]\n",
      "#  gradient evaluations [000000]\n",
      "#  degrees of freedom   [039588]\n",
      "#  m2lnL     =    -2362.43877527124 (    -2362.4388 )\n",
      "#  Fit parameters:\n",
      " 3.92096694588408       0.798076516486123      0.0505937812933183    -0.0867532376193554    -0.186054586134241     -0.127566663822054      0.743856692041599      0.282258948430978      0.101615160226947      0.0865419378867379    -0.680182840986267      0.0475034830827395    \n",
      "#----------------------------------------------------------------------------------\n",
      "# Restarting:              yes\n",
      "#  - absolute improvement: 74804.7578766472      \n",
      "#  - relative improvement: 1.03261130792852      \n",
      "#  - m2lnL_0  :            72442.319101376       \n",
      "#  - m2lnL_1  :            -2362.43877527124     \n",
      "#----------------------------------------------------------------------------------\n",
      "# Model fitting. Interating using:\n",
      "#  - solver:            NLOpt:ln-neldermead\n",
      "#  - differentiation:   Numerical differentiantion (central)\n",
      "#..........................................................................."
     ]
    }
   ],
   "source": [
    "N_WALKERS = 1200\n",
    "N_RUN = 300\n",
    "MODEL = 'ext'\n",
    "FILE_NAME = \"full_data_set_mcmc/\"+MODEL+\".fits\"\n",
    "\n",
    "esmcmc(cDC2_data, RICH_CUT, N_WALKERS, N_RUN, MODEL, FILE_NAME)\n"
   ]
  },
  {
   "cell_type": "markdown",
   "id": "59b576e4-7e89-4812-87a4-609946c8ca27",
   "metadata": {
    "tags": []
   },
   "source": [
    "## Linear Model MCMC"
   ]
  },
  {
   "cell_type": "code",
   "execution_count": null,
   "id": "62efc45c-0c65-4388-b36c-82112079b9be",
   "metadata": {
    "scrolled": true,
    "tags": []
   },
   "outputs": [],
   "source": [
    "N_WALKERS = 1200\n",
    "N_RUN = 300\n",
    "MODEL2 = 'asc'\n",
    "FILE_NAME2 =\"full_data_set_mcmc/\"+MODEL2+\".fits\"\n",
    "\n",
    "esmcmc(cDC2_data, N_WALKERS, N_RUN, MODEL2, FILE_NAME2)"
   ]
  },
  {
   "cell_type": "markdown",
   "id": "6aaefd9a-ae7f-4f4d-a958-6609e929e674",
   "metadata": {
    "tags": []
   },
   "source": [
    "## Bayes Factor\n",
    "\n",
    "Given two models $M_{1}$ and $M_2$, with parameters vectors $\\theta_{1}$ and $\\theta_{2}$, for a oberved data D, the Bayes Factor is defined as (see [Kass and Raftery, 1995](https://sites.stat.washington.edu/raftery/Research/PDF/kass1995.pdf]) and [John and Narlikar, 2002](https://journals.aps.org/prd/pdf/10.1103/PhysRevD.65.043506), for more details):\n",
    "\n",
    "$$\n",
    "BF = \\frac{P(D|M_{1})}{P(D|M_{2})} =  \\frac{\\int d\\theta_{1} P(D|\\theta_{1}, M_{1}) P(\\theta_{1}, M_{1}) }{\\int d\\theta_{2} P(D|\\theta_{2}, M_{2}) P(\\theta_{2}, M_{2})}. \n",
    "$$\n",
    "\n",
    "Where, $P(D|M_{1})$ and $P(D|M_{2})$ are the likelihood and, $P(\\theta_{1}, M_{1})$ and $P(\\theta_{2}, M_{2})$ are the priors for parameters $\\theta_{1}$ and $\\theta_{2}$.\n",
    "\n",
    "\n",
    "BF interpretation, according to Kass and Raftery, 1995:\n",
    "\n",
    "$\\log_{10}$BF| BF | Strength of evidence|\n",
    "| --------: | --------: | :------- |\n",
    "|0 < $\\log_{10}$BF < 1/2| 1 < BF < 3.2  |  Not worth more than a bare mention|\n",
    "| 1/2 < $\\log_{10}$BF < 1| 3.2 < BF < 10 |  Substantial|\n",
    "| 1 < $\\log_{10}$BF < 2| 10 < BF < 100| Strong|\n",
    "| $\\log_{10}$BF > 2| BF > 100|  Decisive|\n",
    "\n",
    "\n",
    "\n",
    "\n",
    "\n"
   ]
  },
  {
   "cell_type": "markdown",
   "id": "3325b50b-5699-4ff4-bf1d-579396f8028e",
   "metadata": {},
   "source": [
    "### Bayes Factor (full data set)"
   ]
  },
  {
   "cell_type": "code",
   "execution_count": null,
   "id": "7d95f929-5106-4d98-8c1f-b465625b497d",
   "metadata": {
    "tags": []
   },
   "outputs": [],
   "source": [
    "# Bayesian Evidence Quadratic Model:\n",
    "\n",
    "N_WALKERS1 = 1200\n",
    "BURNIN1 = 55\n",
    "FILE_NAME = \"global/homes/c/cinlima/ESMCMC/full_data_set_mcmc/ext.fits\"\n",
    "mcat1 = Ncm.MSetCatalog.new_from_file_ro(FILE_NAME, N_WALKERS1 * BURNIN1)\n",
    "be1, post_lnnorm_sd1 = mcat1.get_post_lnnorm()\n",
    "# lnevol, glnvol = mcat2.get_post_lnvol(0.6827)\n",
    "\n",
    "# Bayesian Evidence Linear Model:\n",
    "\n",
    "BURNIN2 = 55\n",
    "N_WALKERS2 = 1200\n",
    "FILE_NAME2 = \"global/homes/c/cinlima/ESMCMC/full_data_set_mcmc/asc.fits\"\n",
    "mcat2 = Ncm.MSetCatalog.new_from_file_ro(FILE_NAME2, N_WALKERS2 * BURNIN2)\n",
    "be2, post_lnnorm_sd2 = mcat2.get_post_lnnorm()\n",
    "# lnevol, glnvol = mcat2.get_post_lnvol(0.6827)\n",
    "\n",
    "warnings.filterwarnings('ignore')\n",
    "\n",
    "print(f'BEQ = {be1:.3f} +/- {post_lnnorm_sd1:.3f}.\\nBEL = {be2:.3f} +/- {post_lnnorm_sd2:.3f}.\\n\\nBF = {np.exp(be1 - be2):.3e}.')\n",
    "\n",
    "warnings.filterwarnings('default')"
   ]
  },
  {
   "cell_type": "markdown",
   "id": "ecb11f5c-c6b2-465c-af4e-4f7bc1367db5",
   "metadata": {},
   "source": [
    "BEQ - Beyesian evidence - quadratic model.\n",
    "\n",
    "BEL - Beyesian evidence - linear model.\n",
    "\n",
    "BF - Bayes factor."
   ]
  },
  {
   "cell_type": "markdown",
   "id": "8381dabc-f96b-4350-8425-8dfbf9b71409",
   "metadata": {},
   "source": [
    "### Analysis using mass and richness thresholds"
   ]
  },
  {
   "cell_type": "markdown",
   "id": "d37434bc-aaa5-48d8-88bd-b8f024543f61",
   "metadata": {},
   "source": [
    "#### MCMC "
   ]
  },
  {
   "cell_type": "code",
   "execution_count": null,
   "id": "f2097704-8d53-4839-9ba1-0b7b19cc3e24",
   "metadata": {
    "scrolled": true
   },
   "outputs": [],
   "source": [
    "# RICH_CUT_list = [5]\n",
    "# MASS_CUT_list = [1e13, 2e13, 5e13, 8e13, 1e14]\n",
    "\n",
    "# cDC2 = Table.read('../CatalogsMatching/match_ID.fits').to_pandas()\n",
    "    \n",
    "# rich_data = cDC2[\"richness\"]\n",
    "# z_data = cDC2[\"redshift\"]\n",
    "# mass_data = cDC2[\"halo_mass\"]\n",
    "   \n",
    "\n",
    "# for RICH_CUT in RICH_CUT_list:\n",
    "#     for MASS_CUT in MASS_CUT_list:\n",
    "\n",
    "     \n",
    "#         cDC2_data = Table([mass_data, rich_data, z_data], names=('mass', 'richness', 'redshift'))\n",
    "        \n",
    "#         #Data cut:\n",
    "#         cDC2_data = cDC2_data[cDC2_data['richness'] > RICH_CUT]\n",
    "#         cDC2_data = cDC2_data[cDC2_data['mass'] > MASS_CUT]\n",
    "\n",
    "#         print(len(cDC2_data))\n",
    "        \n",
    "#         N_WALKERS = 1200\n",
    "#         N_RUN = 300\n",
    "        \n",
    "#         MODEL = 'ext'\n",
    "#         FILE_NAME = \"global/homes/c/cinlima/ESMCMC/r_threshold_mcmc/\"+MODEL+\"_rmin_\"+str(RICH_CUT)+\"_mmin_\"+str(MASS_CUT)+\".fits\"\n",
    "    \n",
    "#         esmcmc(cDC2_data, N_WALKERS, N_RUN, MODEL, FILE_NAME)\n",
    "    \n",
    "#         MODEL2 = 'asc'\n",
    "#         FILE_NAME2 = \"global/homes/c/cinlima/ESMCMC/r_threshold_mcmc/\"+MODEL2+\"_rmin_\"+str(RICH_CUT)+\"_mmin_\"+str(MASS_CUT)+\".fits\"\n",
    "    \n",
    "#         esmcmc(cDC2_data, N_WALKERS, N_RUN, MODEL2, FILE_NAME2)\n",
    "\n"
   ]
  },
  {
   "cell_type": "code",
   "execution_count": null,
   "id": "6d7c6df1-9999-497e-93c7-9590872eb649",
   "metadata": {
    "scrolled": true
   },
   "outputs": [],
   "source": [
    "RICH_CUT_list = [5, 10, 15, 20, 30, 40, 50, 60]\n",
    "MASS_CUT_list = [1e13, 2e13, 5e13, 8e13, 1e14]\n",
    "\n",
    "# RICH_CUT_list = [20]\n",
    "# MASS_CUT_list = [1e14]\n",
    "\n",
    "bef_list = []\n",
    "\n",
    "for mcut in MASS_CUT_list:\n",
    "\n",
    "    bef = pd.DataFrame(data = {'Min_Mass':[], 'Min_Richness': [], 'BEQ': [], 'BEQ Err': [], 'BEL': [], 'BEL Err': [], 'BF': [], 'muM2': [], 'sd_muM2': []})\n",
    "\n",
    "    for rcut in RICH_CUT_list:\n",
    "        \n",
    "        N_WALKERS = 1200\n",
    "        N_RUN = 100\n",
    "        BURNIN = 50\n",
    "        \n",
    "        RICH_CUT = rcut\n",
    "        MASS_CUT = mcut\n",
    "        \n",
    "        MODEL = 'ext'\n",
    "        FILE_NAME1 = \"mass_richness_cut/\"+MODEL+\"_rmin_\"+str(RICH_CUT)+\"_mmin_\"+str(MASS_CUT)+\".fits\"    \n",
    "        \n",
    "        MODEL2 = 'asc'\n",
    "        FILE_NAME2 = \"mass_richness_cut/\"+MODEL2+\"_rmin_\"+str(RICH_CUT)+\"_mmin_\"+str(MASS_CUT)+\".fits\"\n",
    "        \n",
    "        mcat1 = Ncm.MSetCatalog.new_from_file_ro(FILE_NAME1, N_WALKERS * BURNIN)             \n",
    "        be1, post_lnnorm_sd1 = mcat1.get_post_lnnorm()\n",
    "        lnevol1, glnvol1 = mcat1.get_post_lnvol(0.6827)\n",
    "    \n",
    "        mcat2 = Ncm.MSetCatalog.new_from_file_ro(FILE_NAME2, N_WALKERS * BURNIN)\n",
    "        be2, post_lnnorm_sd2 = mcat2.get_post_lnnorm()\n",
    "        lnevol2, glnvol2 = mcat2.get_post_lnvol(0.6827)\n",
    "\n",
    "        mcat1 = Ncm.MSetCatalog.new_from_file_ro(FILE_NAME1, N_WALKERS * BURNIN)\n",
    "        mset1 = mcat1.get_mset()\n",
    "        \n",
    "        muM2 = mcat1.get_bestfit_row().dup_array()[4]\n",
    "        sd_muM2 = mcat1.peek_pstats().get_sd(4) \n",
    "\n",
    "        bf = np.exp(be1 - be2)\n",
    "        \n",
    "        bef = pd.concat([bef, pd.DataFrame([{'Min_Mass':mcut, 'Min_Richness': rcut,  'BEQ': be1, 'BEQ Err': post_lnnorm_sd1, 'BEL': be2, 'BEL Err':post_lnnorm_sd2, 'BF': bf, 'muM2':muM2, 'sd_muM2': sd_muM2}])], ignore_index=True)\n",
    "    \n",
    "    bef_list.append(bef)"
   ]
  },
  {
   "cell_type": "markdown",
   "id": "c0a43e84-3f8a-419b-98eb-3fa0a70b6bf7",
   "metadata": {},
   "source": [
    "#### Results"
   ]
  },
  {
   "cell_type": "code",
   "execution_count": null,
   "id": "9caeea3c-b643-47a7-b818-1e11e0e97ce7",
   "metadata": {},
   "outputs": [],
   "source": [
    "bf_datafame = pd.concat(bef_list)\n",
    "bf_datafame.head(8)"
   ]
  },
  {
   "cell_type": "code",
   "execution_count": null,
   "id": "e601e534-bde3-4c42-80ca-545e4367f8e8",
   "metadata": {},
   "outputs": [],
   "source": [
    "plt.figure(figsize=(10,6))\n",
    "\n",
    "for i in range(0,5):\n",
    "    plt.plot(bef_list[i][\"Min_Richness\"], bef_list[i][\"BF\"], label = f'{MASS_CUT_list[i]:.2}', ls = '-.', linewidth = 1.0, marker = 'o')\n",
    "    plt.yscale(\"log\")\n",
    "        \n",
    "plt.axline((0, 10), (50, 10), c = 'darkcyan', ls= '--', label = 'BF = 10')\n",
    "plt.axline((0, 1), (50, 1), c = 'k', ls= '--', label = 'BF = 0')\n",
    "plt.axline((0, 100), (50, 100), c = 'r', ls= '--', label = 'BF = 100')\n",
    "plt.legend()\n",
    "\n",
    "plt.ylabel('Bayes factor', fontsize=14)\n",
    "plt.xlabel(r'Richness $\\lambda$', fontsize=14)\n",
    "plt.title('Bayes factor vs min richness for each min mass' )\n",
    "\n",
    "plt.show()"
   ]
  },
  {
   "cell_type": "code",
   "execution_count": null,
   "id": "8806f651-96d5-4934-a6f6-a2cfe29c334a",
   "metadata": {},
   "outputs": [],
   "source": [
    "plt.figure(figsize=(10,6))\n",
    "\n",
    "for i in range(0,5):\n",
    "    # plt.plot(bef_list[i][\"Min_Richness\"], bef_list[i][\"muM2\"], label = f'{MASS_CUT_list[i]:.2}',ls = '-.', linewidth = 0.5, marker = 'o')\n",
    "    # plt.yscale(\"log\")\n",
    "    plt.errorbar(bef_list[i][\"Min_Richness\"],  bef_list[i][\"muM2\"], yerr= bef_list[i][\"sd_muM2\"], ls= '--', linewidth = 1.0, ecolor = \"black\", capsize=3, marker = 'o',  label = f'{MASS_CUT_list[i]:.2}')\n",
    "    plt.ylabel('mu_M2', fontsize=14)\n",
    "    plt.xlabel(r'Richness $\\lambda$', fontsize=14)\n",
    "    plt.title('mu_M2 vs min richness for each min mass' )\n",
    "\n",
    "        \n",
    "plt.legend()\n",
    "\n",
    "plt.show()"
   ]
  },
  {
   "cell_type": "markdown",
   "id": "fb5a3537-8f46-40f7-937d-82ed8f355a2c",
   "metadata": {
    "tags": []
   },
   "source": [
    "## Corner plots"
   ]
  },
  {
   "cell_type": "code",
   "execution_count": null,
   "id": "64ecb0dd-c83e-485a-ba1a-506c60aba273",
   "metadata": {
    "tags": []
   },
   "outputs": [],
   "source": [
    "data_fit_full = pd.DataFrame(fits.open(\"full_data_set_mcmc/asc.fits\")[1].data).iloc[:, 1:7].T\n",
    "data_fit_void = np.array(data_fit_full)\n",
    "data_fit = []\n",
    "for item in data_fit_void:\n",
    "    arr= np.array(item)\n",
    "    data_fit.append(np.asarray(arr.tolist()))\n",
    "\n",
    "names = [\n",
    "    '1',\n",
    "    '2',\n",
    "    '3',\n",
    "    '4',\n",
    "    '5',\n",
    "    '6',\n",
    "]\n",
    "labels=[r\"\\mu_{0}\", r\"\\mu_{1}\", r\"\\mu_{2}\", r\"\\sigma_{0}\", r\"\\sigma_{1}\", r\"\\sigma_{2}\"]\n",
    "settings = {\n",
    "    \"mult_bias_correction_order\": 0,\n",
    "    \"smooth_scale_2D\": 3,\n",
    "    \"smooth_scale_1D\": 3,\n",
    "    \"boundary_correction_order\": 0,\n",
    "}\n",
    "samples1 = MCSamples(samples=data_fit, names=names, labels=labels, settings=settings)\n",
    "samples1.removeBurn(0.3)"
   ]
  },
  {
   "cell_type": "code",
   "execution_count": null,
   "id": "017daad3-2dba-4cd3-846c-ea877de4aff0",
   "metadata": {
    "tags": []
   },
   "outputs": [],
   "source": [
    "# Triangle plot\n",
    "g1 = plots.get_subplot_plotter()\n",
    "\n",
    "g1.settings.legend_fontsize = 18\n",
    "g1.settings.lab_fontsize = 25\n",
    "g1.settings.axes_fontsize = 20\n",
    "\n",
    "\n",
    "g1.triangle_plot(\n",
    "    [samples1],\n",
    "    filled=True,\n",
    "    contour_ls=\"-\",\n",
    "    contour_lws=1,\n",
    "    fontsize=14,\n",
    "    fine_bins=1,\n",
    "    colors=['red'],\n",
    "    line_args=[{'lw':1.2,'ls':'-', 'color':'red'}],\n",
    "    legend_labels=[\"Ascaso\"],\n",
    ")\n",
    "\n",
    "plt.show()\n",
    "for i in range(1, 7):\n",
    "    display(Math(samples1.getInlineLatex(str(i),limit=1)))\n",
    "# plt.savefig('mcmc3.png')\n",
    "\n"
   ]
  },
  {
   "cell_type": "code",
   "execution_count": null,
   "id": "c9509ffb-59c4-4675-997a-41bcf6995ac3",
   "metadata": {},
   "outputs": [],
   "source": [
    "data_fit_full = pd.DataFrame(fits.open(\"full_data_set_mcmc/ext.fits\")[1].data).iloc[:, 1:13].T\n",
    "data_fit_void = np.array(data_fit_full)\n",
    "data_fit = []\n",
    "for item in data_fit_void:\n",
    "    arr= np.array(item)\n",
    "    data_fit.append(np.asarray(arr.tolist()))\n",
    "\n",
    "names = [\n",
    "    '1',\n",
    "    '2',\n",
    "    '3',\n",
    "    '4',\n",
    "    '5',\n",
    "    '6',\n",
    "    '7',\n",
    "    '8',\n",
    "    '9',\n",
    "    '10',\n",
    "    '11',\n",
    "    '12'\n",
    "]\n",
    "labels=[r\"\\mu_0\", r\"\\mu_{M1}\", r\"\\mu_{M2}\", r\"\\mu_{Z1}\",r\" \\mu_{Z2}\", r\"\\mu_{MZ}\", r\"\\sigma_0\", r\"\\sigma_{M1}\", r\"\\sigma_{M2}\", r\"\\sigma_{Z1}\", r\"\\sigma_{Z2}\", r\"\\sigma_{MZ}\" ]\n",
    "settings = {\n",
    "    \"mult_bias_correction_order\": 0,\n",
    "    \"smooth_scale_2D\": 3,\n",
    "    \"smooth_scale_1D\": 3,\n",
    "    \"boundary_correction_order\": 0,\n",
    "}\n",
    "samples2 = MCSamples(samples=data_fit, names=names, labels=labels, settings=settings)\n",
    "samples2.removeBurn(0.3)\n"
   ]
  },
  {
   "cell_type": "code",
   "execution_count": null,
   "id": "c5651a92-67ba-49a8-b351-321cfdc3799c",
   "metadata": {},
   "outputs": [],
   "source": [
    "# Triangle plot\n",
    "g2 = plots.get_subplot_plotter()\n",
    "\n",
    "g2.settings.lab_fontsize = 40\n",
    "g2.settings.legend_fontsize = 40\n",
    "g2.settings.axes_fontsize = 30\n",
    "\n",
    "g2.triangle_plot(\n",
    "    [samples2],\n",
    "    filled=True,\n",
    "    contour_ls=\"-\",\n",
    "    contour_lws=1,\n",
    "    fine_bins=1,\n",
    "    colors=['#b186f1'],\n",
    "    fontsize=70,\n",
    "    line_args=[{'lw':1.2,'ls':'-', 'color':'#b186f1'}],\n",
    "    legend_labels=[\"Estendido\", ],\n",
    ")\n",
    "#plt.savefig('mcmc.png')\n",
    "plt.show()\n"
   ]
  },
  {
   "cell_type": "code",
   "execution_count": null,
   "id": "5ee06f31-668b-435f-989b-753bb5952805",
   "metadata": {},
   "outputs": [],
   "source": [
    "for i in range(1, 13):\n",
    "    display(Math(samples2.getInlineLatex(str(i),limit=1)))\n"
   ]
  }
 ],
 "metadata": {
  "kernelspec": {
   "display_name": "numcosmo",
   "language": "python",
   "name": "numcosmo"
  },
  "language_info": {
   "codemirror_mode": {
    "name": "ipython",
    "version": 3
   },
   "file_extension": ".py",
   "mimetype": "text/x-python",
   "name": "python",
   "nbconvert_exporter": "python",
   "pygments_lexer": "ipython3",
   "version": "3.11.11"
  }
 },
 "nbformat": 4,
 "nbformat_minor": 5
}
