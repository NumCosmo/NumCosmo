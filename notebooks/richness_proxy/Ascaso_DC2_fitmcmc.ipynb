{
 "cells": [
  {
   "cell_type": "code",
   "execution_count": 1,
   "id": "a7f9b466-a941-4db1-b09f-e69d9320f0c3",
   "metadata": {
    "tags": []
   },
   "outputs": [],
   "source": [
    "from numcosmo_py import Ncm, Nc, GObject\n",
    "\n",
    "import numpy as np\n",
    "import math\n",
    "import sys\n",
    "from astropy.io import fits\n",
    "from astropy.table import Table\n",
    "import matplotlib.pyplot as plt\n",
    "\n",
    "from richness_mass_calib import create_richness_mass_calib"
   ]
  },
  {
   "cell_type": "code",
   "execution_count": 2,
   "id": "911b3b29-e5f3-4c52-ac5d-771f6ad0edb6",
   "metadata": {
    "tags": []
   },
   "outputs": [],
   "source": [
    "#Settings\n",
    "Ncm.cfg_init()\n",
    "Ncm.cfg_set_log_handler(lambda msg: sys.stdout.write(msg) and sys.stdout.flush())"
   ]
  },
  {
   "cell_type": "code",
   "execution_count": 3,
   "id": "9108dcac-8604-4c15-9ccb-cb95ebbffbdc",
   "metadata": {
    "tags": []
   },
   "outputs": [],
   "source": [
    "# Data\n",
    "DC2_halos_m200c = fits.open(\n",
    "    \"/global/cfs/projectdirs/lsst/groups/CL/cosmoDC2_v1.1.4/extragal/full/halos/halos_m200c_13.0.fits\"\n",
    ")\n",
    "dt_halos = Table(DC2_halos_m200c[1].data)\n",
    "# dt_halos['redshift_true', 'mass_fof', 'm200c', 'richness']"
   ]
  },
  {
   "cell_type": "code",
   "execution_count": 4,
   "id": "642357f6-3804-483c-8d5d-97bb35cfff76",
   "metadata": {
    "tags": []
   },
   "outputs": [
    {
     "data": {
      "text/plain": [
       "13233701.307415523"
      ]
     },
     "execution_count": 4,
     "metadata": {},
     "output_type": "execute_result"
    }
   ],
   "source": [
    "rmdata = create_richness_mass_calib(dt_halos)\n",
    "ascaso = Nc.ClusterMassAscaso()\n",
    "mset = Ncm.MSet()\n",
    "mset.set(ascaso)\n",
    "\n",
    "rmdata.m2lnL_val(mset)"
   ]
  },
  {
   "cell_type": "code",
   "execution_count": 5,
   "id": "71a388b6-2181-4d38-a3ec-fc13170c4cc3",
   "metadata": {
    "tags": []
   },
   "outputs": [
    {
     "name": "stdout",
     "output_type": "stream",
     "text": [
      "#----------------------------------------------------------------------------------\n",
      "# Model fitting. Interating using:\n",
      "#  - solver:            NLOpt:ln-neldermead\n",
      "#  - differentiation:   Numerical differentiantion (central)\n",
      "#..............................................................................................................\n",
      "#  Minimum found with precision: |df|/f =  1.00000e-08 and |dx| =  1.00000e-05\n",
      "#  Elapsed time: 00 days, 00:00:17.6139330\n",
      "#  iteration            [001014]\n",
      "#  function evaluations [001016]\n",
      "#  gradient evaluations [000000]\n",
      "#  degrees of freedom   [454469]\n",
      "#  m2lnL     =     391365.650978094 (     391365.65 )\n",
      "#  Fit parameters:\n",
      "#     4.08763247333783     0.538092645909241    0.931306629373459    0.674689968522022    0.0645030252979038  -0.244363116863723   \n",
      "#----------------------------------------------------------------------------------\n",
      "# Restarting:              yes\n",
      "#  - absolute improvement: 12842335.6564374      \n",
      "#  - relative improvement: 0.970426591783601     \n",
      "#  - m2lnL_0  :            13233701.3074155      \n",
      "#  - m2lnL_1  :            391365.650978094      \n",
      "#----------------------------------------------------------------------------------\n",
      "# Model fitting. Interating using:\n",
      "#  - solver:            NLOpt:ln-neldermead\n",
      "#  - differentiation:   Numerical differentiantion (central)\n",
      "#...........................................................\n",
      "#  Minimum found with precision: |df|/f =  1.00000e-08 and |dx| =  1.00000e-05\n",
      "#  Elapsed time: 00 days, 00:00:08.7548270\n",
      "#  iteration            [000506]\n",
      "#  function evaluations [000508]\n",
      "#  gradient evaluations [000000]\n",
      "#  degrees of freedom   [454469]\n",
      "#  m2lnL     =      329242.89909106 (      329242.9 )\n",
      "#  Fit parameters:\n",
      "#     4.45393539397061     0.688627943224023    1.23735536845047     0.227197277810533   -0.0514034833229222  -0.125446104089159   \n",
      "#----------------------------------------------------------------------------------\n",
      "# Restarting:              yes\n",
      "#  - absolute improvement: 62122.7518870342      \n",
      "#  - relative improvement: 0.158733275983158     \n",
      "#  - m2lnL_1  :            391365.650978094      \n",
      "#  - m2lnL_2  :            329242.89909106       \n",
      "#----------------------------------------------------------------------------------\n",
      "# Model fitting. Interating using:\n",
      "#  - solver:            NLOpt:ln-neldermead\n",
      "#  - differentiation:   Numerical differentiantion (central)\n",
      "#.......................\n",
      "#  Minimum found with precision: |df|/f =  1.00000e-08 and |dx| =  1.00000e-05\n",
      "#  Elapsed time: 00 days, 00:00:02.6221170\n",
      "#  iteration            [000145]\n",
      "#  function evaluations [000147]\n",
      "#  gradient evaluations [000000]\n",
      "#  degrees of freedom   [454469]\n",
      "#  m2lnL     =      329242.89909106 (      329242.9 )\n",
      "#  Fit parameters:\n",
      "#     4.45393539397061     0.688627943224023    1.23735536845047     0.227197277810533   -0.0514034833229222  -0.125446104089159   \n",
      "#----------------------------------------------------------------------------------\n",
      "# Restarting:              no\n",
      "#  - absolute improvement: 0                     \n",
      "#  - relative improvement: 0                     \n",
      "#  - m2lnL_2  :            329242.89909106       \n",
      "#  - m2lnL_3  :            329242.89909106       \n"
     ]
    }
   ],
   "source": [
    "dset = Ncm.Dataset.new()\n",
    "dset.append_data(rmdata)\n",
    "\n",
    "lh = Ncm.Likelihood.new(dset)\n",
    "mset.param_set_all_ftype(Ncm.ParamType.FREE)\n",
    "\n",
    "fit = Ncm.Fit.new(\n",
    "    Ncm.FitType.NLOPT, \"ln-neldermead\", lh, mset, Ncm.FitGradType.NUMDIFF_CENTRAL\n",
    ")\n",
    "\n",
    "fit.run_restart(Ncm.FitRunMsgs.SIMPLE, 1.0e-3, 0.0, None, None)"
   ]
  },
  {
   "cell_type": "code",
   "execution_count": 6,
   "id": "87d236de-17d1-4608-8a69-6b695bde425c",
   "metadata": {
    "tags": []
   },
   "outputs": [
    {
     "name": "stdout",
     "output_type": "stream",
     "text": [
      "#----------------------------------------------------------------------------------\n",
      "# Data used:\n",
      "#   - NcDataClusterMassRich\n",
      "#----------------------------------------------------------------------------------\n",
      "# Model[07000]:\n",
      "#   - NcClusterMass : Ascaso Ln-normal richness distribution\n",
      "#----------------------------------------------------------------------------------\n",
      "# Model parameters\n",
      "#   -    mup0[00]:  4.45393539397061    [FREE]\n",
      "#   -    mup1[01]:  0.688627943224023   [FREE]\n",
      "#   -    mup2[02]:  1.23735536845047    [FREE]\n",
      "#   - sigmap0[03]:  0.227197277810533   [FREE]\n",
      "#   - sigmap1[04]: -0.0514034833229222  [FREE]\n",
      "#   - sigmap2[05]: -0.125446104089159   [FREE]\n"
     ]
    }
   ],
   "source": [
    "fit.log_info()"
   ]
  },
  {
   "cell_type": "code",
   "execution_count": 7,
   "id": "3123581d-281e-4ef0-917d-a3576c999451",
   "metadata": {
    "tags": []
   },
   "outputs": [
    {
     "name": "stdout",
     "output_type": "stream",
     "text": [
      "#----------------------------------------------------------------------------------\n",
      "# NcmMSet parameters covariance matrix\n",
      "#                                                   -------------------------------------------------------------------------------------------\n",
      "#    mup0[07000:00] =  4.454       +/-  0.002546    |  1           |  0.9426      | -0.04927     | -0.06678     | -0.08987     | -0.08526     |\n",
      "#    mup1[07000:01] =  0.6886      +/-  0.0008377   |  0.9426      |  1           |  0.2243      | -0.0882      | -0.1066      | -0.06827     |\n",
      "#    mup2[07000:02] =  1.237       +/-  0.002013    | -0.04927     |  0.2243      |  1           | -0.08921     | -0.07228     |  0.06067     |\n",
      "# sigmap0[07000:03] =  0.2272      +/-  0.001676    | -0.06678     | -0.0882      | -0.08921     |  1           |  0.9335      | -0.1179      |\n",
      "# sigmap1[07000:04] = -0.0514      +/-  0.0005431   | -0.08987     | -0.1066      | -0.07228     |  0.9335      |  1           |  0.1768      |\n",
      "# sigmap2[07000:05] = -0.1254      +/-  0.001406    | -0.08526     | -0.06827     |  0.06067     | -0.1179      |  0.1768      |  1           |\n",
      "#                                                   -------------------------------------------------------------------------------------------\n"
     ]
    }
   ],
   "source": [
    "fit.numdiff_m2lnL_covar()  # covariance matrix\n",
    "\n",
    "fit.log_covar()  # Prints to the log file the names and indices of the fitted parameters, their best-fit\n",
    "# values, standard deviations and correlation matrix."
   ]
  },
  {
   "cell_type": "code",
   "execution_count": 8,
   "id": "c2892ef6-c877-4c8a-bbbf-4397aa0f4fe6",
   "metadata": {
    "tags": []
   },
   "outputs": [],
   "source": [
    "gtkern = Ncm.MSetTransKernGauss.new(0)\n",
    "mcmc = Ncm.FitMCMC.new(fit, gtkern, Ncm.FitRunMsgs.SIMPLE)"
   ]
  },
  {
   "cell_type": "code",
   "execution_count": 9,
   "id": "d55fdf86-6ad0-41db-a671-531cbacc8738",
   "metadata": {},
   "outputs": [],
   "source": [
    "cov = fit.fstate.covar.dup()\n",
    "cov.scale(2.0)\n",
    "gtkern.set_cov(cov)"
   ]
  },
  {
   "cell_type": "code",
   "execution_count": 10,
   "id": "e07271b3-faf4-4977-b818-0a91feb71b6c",
   "metadata": {
    "tags": []
   },
   "outputs": [
    {
     "name": "stdout",
     "output_type": "stream",
     "text": [
      "# NcmFitMCMC: No RNG was defined, using algorithm: `mt19937' and seed: 2681365653.\n",
      "# NcmFitMCMC: Running first 6000 pre-runs...\n",
      "#----------------------------------------------------------------------------------\n",
      "# NcmFitMCMC: Calculating [006000] Markov Chain Monte Carlo runs [Multivariate Gaussian Sampler]\n",
      "# Task:NcmFitMCMC, started at: Wed Oct 25 2023, 06:04:14\n",
      "# NcmMSetCatalog: Current mean:   3.2925e+05   4.4542       0.6887       1.2372       0.22725     -0.05139     -0.12563    \n",
      "# NcmMSetCatalog: Current msd:    0.10855      7.851e-05    2.5752e-05   5.6979e-05   4.9911e-05   1.5648e-05   4.7381e-05 \n",
      "# NcmMSetCatalog: Current sd:     3.7603       0.0027197    0.00089208   0.0019738    0.001729     0.00054206   0.0016413  \n",
      "# NcmMSetCatalog: Current var:    14.14        7.3966e-06   7.958e-07    3.896e-06    2.9893e-06   2.9383e-07   2.6939e-06 \n",
      "# NcmMSetCatalog: Current tau:    1            1            1            1            1            1            1          \n",
      "# NcmFitMCMC:acceptance ratio 14.0000%.\n",
      "# Task:NcmFitMCMC, completed: 1200 of 6000, elapsed time: 00:00:20.4462\n",
      "# Task:NcmFitMCMC, mean time: 00:00:00.0170 +/- 00:00:00.0000\n",
      "# Task:NcmFitMCMC, time left: 00:01:21.6802 +/- 00:00:00.1323\n",
      "# Task:NcmFitMCMC, current time:        Wed Oct 25 2023, 06:04:35\n",
      "# Task:NcmFitMCMC, estimated to end at: Wed Oct 25 2023, 06:05:56 +/- 00:00:00.1323\n",
      "# NcmMSetCatalog: Current mean:   3.2925e+05   4.4542       0.68866      1.237        0.22729     -0.051375    -0.12564    \n",
      "# NcmMSetCatalog: Current msd:    0.073686     5.1952e-05   1.7621e-05   4.3052e-05   3.7164e-05   1.1693e-05   3.1204e-05 \n",
      "# NcmMSetCatalog: Current sd:     3.6099       0.0025451    0.00086323   0.0021091    0.0018207    0.00057285   0.0015287  \n",
      "# NcmMSetCatalog: Current var:    13.031       6.4777e-06   7.4517e-07   4.4484e-06   3.3149e-06   3.2816e-07   2.3369e-06 \n",
      "# NcmMSetCatalog: Current tau:    1            1            1            1            1            1            1          \n",
      "# NcmFitMCMC:acceptance ratio 13.3750%.\n",
      "# Task:NcmFitMCMC, completed: 2400 of 6000, elapsed time: 00:00:40.6955\n",
      "# Task:NcmFitMCMC, mean time: 00:00:00.0169 +/- 00:00:00.0000\n",
      "# Task:NcmFitMCMC, time left: 00:01:01.0049 +/- 00:00:00.0701\n",
      "# Task:NcmFitMCMC, current time:        Wed Oct 25 2023, 06:04:55\n",
      "# Task:NcmFitMCMC, estimated to end at: Wed Oct 25 2023, 06:05:56 +/- 00:00:00.0701\n",
      "# NcmMSetCatalog: Current mean:   3.2925e+05   4.4541       0.68866      1.2372       0.22733     -0.051379    -0.12564    \n",
      "# NcmMSetCatalog: Current msd:    0.056885     4.0829e-05   1.3659e-05   3.3697e-05   2.8968e-05   8.9954e-06   2.4076e-05 \n",
      "# NcmMSetCatalog: Current sd:     3.4131       0.0024498    0.00081956   0.0020218    0.0017381    0.00053973   0.0014446  \n",
      "# NcmMSetCatalog: Current var:    11.649       6.0014e-06   6.7169e-07   4.0878e-06   3.0209e-06   2.9131e-07   2.0868e-06 \n",
      "# NcmMSetCatalog: Current tau:    1            1            1            1            1            1            1          \n",
      "# NcmFitMCMC:acceptance ratio 13.3333%.\n",
      "# Task:NcmFitMCMC, completed: 3600 of 6000, elapsed time: 00:01:01.1044\n",
      "# Task:NcmFitMCMC, mean time: 00:00:00.0170 +/- 00:00:00.0000\n",
      "# Task:NcmFitMCMC, time left: 00:00:40.7199 +/- 00:00:00.0438\n",
      "# Task:NcmFitMCMC, current time:        Wed Oct 25 2023, 06:05:15\n",
      "# Task:NcmFitMCMC, estimated to end at: Wed Oct 25 2023, 06:05:56 +/- 00:00:00.0438\n",
      "# NcmMSetCatalog: Current mean:   3.2925e+05   4.454        0.68861      1.2372       0.2273      -0.05139     -0.12563    \n",
      "# NcmMSetCatalog: Current msd:    0.047631     3.4447e-05   1.1718e-05   2.8093e-05   2.4356e-05   7.6348e-06   2.0454e-05 \n",
      "# NcmMSetCatalog: Current sd:     3.3          0.0023866    0.00081181   0.0019463    0.0016874    0.00052895   0.0014171  \n",
      "# NcmMSetCatalog: Current var:    10.89        5.6957e-06   6.5904e-07   3.7882e-06   2.8473e-06   2.7979e-07   2.0081e-06 \n",
      "# NcmMSetCatalog: Current tau:    1            1            1            1            1            1            1          \n",
      "# NcmFitMCMC:acceptance ratio 13.1042%.\n",
      "# Task:NcmFitMCMC, completed: 4800 of 6000, elapsed time: 00:01:21.6571\n",
      "# Task:NcmFitMCMC, mean time: 00:00:00.0170 +/- 00:00:00.0000\n",
      "# Task:NcmFitMCMC, time left: 00:00:20.4087 +/- 00:00:00.0210\n",
      "# Task:NcmFitMCMC, current time:        Wed Oct 25 2023, 06:05:36\n",
      "# Task:NcmFitMCMC, estimated to end at: Wed Oct 25 2023, 06:05:56 +/- 00:00:00.0210\n",
      "# NcmMSetCatalog: Current mean:   3.2925e+05   4.4539       0.68859      1.2372       0.22723     -0.051404    -0.12556    \n",
      "# NcmMSetCatalog: Current msd:    0.04427      3.1627e-05   1.0725e-05   2.5926e-05   2.1532e-05   6.7614e-06   1.8294e-05 \n",
      "# NcmMSetCatalog: Current sd:     3.4291       0.0024498    0.00083074   0.0020082    0.0016679    0.00052374   0.001417   \n",
      "# NcmMSetCatalog: Current var:    11.759       6.0015e-06   6.9012e-07   4.0328e-06   2.7818e-06   2.743e-07    2.008e-06  \n",
      "# NcmMSetCatalog: Current tau:    1            1            1            1            1            1            1          \n",
      "# NcmFitMCMC:acceptance ratio 13.1500%.\n",
      "# Task:NcmFitMCMC, completed: 6000 of 6000, elapsed time: 00:01:41.8946\n",
      "# Task:NcmFitMCMC, mean time: 00:00:00.0170 +/- 00:00:00.0000\n",
      "# Task:NcmFitMCMC, time left: 00:00:00.0000 +/- 00:00:00.0000\n",
      "# Task:NcmFitMCMC, current time:        Wed Oct 25 2023, 06:05:56\n",
      "# Task:NcmFitMCMC, estimated to end at: Wed Oct 25 2023, 06:05:56 +/- 00:00:00.0000\n",
      "# NcmFitMCMC: Largest relative error 1.000000e-03 attained: 7.300660e-04\n"
     ]
    }
   ],
   "source": [
    "# mcmc.set_data_file(\"MCMC_ascaso_test.fits\") #First fit\n",
    "mcmc.set_data_file(\"MCMC_ascaso_test2.fits\")  # For new fit\n",
    "\n",
    "mcmc.start_run()\n",
    "mcmc.run_lre(1000, 1.0e-3)\n",
    "mcmc.end_run()\n",
    "mcmc.mean_covar()"
   ]
  },
  {
   "cell_type": "code",
   "execution_count": 11,
   "id": "2d9d1172-f989-4a6d-90b1-5c379b19a7a8",
   "metadata": {
    "tags": []
   },
   "outputs": [
    {
     "name": "stdout",
     "output_type": "stream",
     "text": [
      "#----------------------------------------------------------------------------------\n",
      "# NcmMSet parameters covariance matrix\n",
      "#                                                   -------------------------------------------------------------------------------------------\n",
      "#    mup0[07000:00] =  4.454       +/-  0.00245     |  1           |  0.9406      | -0.02806     | -0.03985     | -0.059       | -0.03856     |\n",
      "#    mup1[07000:01] =  0.6886      +/-  0.0008307   |  0.9406      |  1           |  0.2507      | -0.06281     | -0.08028     | -0.02086     |\n",
      "#    mup2[07000:02] =  1.237       +/-  0.002008    | -0.02806     |  0.2507      |  1           | -0.0987      | -0.0954      |  0.04775     |\n",
      "# sigmap0[07000:03] =  0.2272      +/-  0.001668    | -0.03985     | -0.06281     | -0.0987      |  1           |  0.9265      | -0.1368      |\n",
      "# sigmap1[07000:04] = -0.0514      +/-  0.0005237   | -0.059       | -0.08028     | -0.0954      |  0.9265      |  1           |  0.1638      |\n",
      "# sigmap2[07000:05] = -0.1256      +/-  0.001417    | -0.03856     | -0.02086     |  0.04775     | -0.1368      |  0.1638      |  1           |\n",
      "#                                                   -------------------------------------------------------------------------------------------\n"
     ]
    }
   ],
   "source": [
    "fit.log_covar()"
   ]
  },
  {
   "cell_type": "code",
   "execution_count": 12,
   "id": "3d6f2604-6860-4e16-93e9-dbf3b547657e",
   "metadata": {},
   "outputs": [],
   "source": [
    "# First Results (23-10-2023)\n",
    "# ----------------------------------------------------------------------------------\n",
    "# NcmMSet parameters covariance matrix\n",
    "#                                                   -------------------------------------------------------------------------------------------\n",
    "#    mup0[07000:00] =  4.422       +/-  0.002796    |  1           |  0.9095      | -0.08324     | -0.181       | -0.09781     | -0.03739     |\n",
    "#    mup1[07000:01] =  0.6794      +/-  0.0009389   |  0.9095      |  1           |  0.2498      | -0.1644      | -0.1138      | -0.06086     |\n",
    "#    mup2[07000:02] =  1.25        +/-  0.00286     | -0.08324     |  0.2498      |  1           | -0.01353     | -0.02935     | -0.02563     |\n",
    "# sigmap0[07000:03] =  0.1588      +/-  0.0004555   | -0.181       | -0.1644      | -0.01353     |  1           | -0.4279      | -0.7289      |\n",
    "# sigmap1[07000:04] = -0.1213      +/-  0.0002001   | -0.09781     | -0.1138      | -0.02935     | -0.4279      |  1           |  0.5469      |\n",
    "# sigmap2[07000:05] = -0.1209      +/-  0.002002    | -0.03739     | -0.06086     | -0.02563     | -0.7289      |  0.5469      |  1           |\n",
    "#                                                   -------------------------------------------------------------------------------------------"
   ]
  }
 ],
 "metadata": {
  "kernelspec": {
   "display_name": "NumCosmo",
   "language": "python",
   "name": "numcosmo"
  },
  "language_info": {
   "codemirror_mode": {
    "name": "ipython",
    "version": 3
   },
   "file_extension": ".py",
   "mimetype": "text/x-python",
   "name": "python",
   "nbconvert_exporter": "python",
   "pygments_lexer": "ipython3",
   "version": "3.8.13"
  }
 },
 "nbformat": 4,
 "nbformat_minor": 5
}
