{
 "cells": [
  {
   "cell_type": "code",
   "execution_count": 1,
   "id": "a7f9b466-a941-4db1-b09f-e69d9320f0c3",
   "metadata": {
    "tags": []
   },
   "outputs": [],
   "source": [
    "from numcosmo_py import Ncm, Nc, GObject\n",
    "\n",
    "import numpy as np\n",
    "import math\n",
    "import sys\n",
    "from astropy.io import fits\n",
    "from astropy.table import Table\n",
    "import matplotlib.pyplot as plt\n",
    "\n",
    "from richness_mass_calib import create_richness_mass_calib"
   ]
  },
  {
   "cell_type": "code",
   "execution_count": 2,
   "id": "911b3b29-e5f3-4c52-ac5d-771f6ad0edb6",
   "metadata": {
    "tags": []
   },
   "outputs": [],
   "source": [
    "#Settings\n",
    "Ncm.cfg_init()\n",
    "Ncm.cfg_set_log_handler(lambda msg: sys.stdout.write(msg) and sys.stdout.flush())"
   ]
  },
  {
   "cell_type": "code",
   "execution_count": 3,
   "id": "9108dcac-8604-4c15-9ccb-cb95ebbffbdc",
   "metadata": {
    "tags": []
   },
   "outputs": [],
   "source": [
    "# Data\n",
    "DC2_halos_m200c = fits.open(\n",
    "    \"/global/cfs/projectdirs/lsst/groups/CL/cosmoDC2_v1.1.4/extragal/full/halos/halos_m200c_13.0.fits\"\n",
    ")\n",
    "dt_halos = Table(DC2_halos_m200c[1].data)\n",
    "# dt_halos['redshift_true', 'mass_fof', 'm200c', 'richness']"
   ]
  },
  {
   "cell_type": "code",
   "execution_count": 4,
   "id": "642357f6-3804-483c-8d5d-97bb35cfff76",
   "metadata": {
    "tags": []
   },
   "outputs": [
    {
     "data": {
      "text/plain": [
       "13233701.307415523"
      ]
     },
     "execution_count": 4,
     "metadata": {},
     "output_type": "execute_result"
    }
   ],
   "source": [
    "rmdata = create_richness_mass_calib(dt_halos)\n",
    "ascaso = Nc.ClusterMassAscaso()\n",
    "mset = Ncm.MSet()\n",
    "mset.set(ascaso)\n",
    "\n",
    "rmdata.m2lnL_val(mset)"
   ]
  },
  {
   "cell_type": "code",
   "execution_count": 5,
   "id": "71a388b6-2181-4d38-a3ec-fc13170c4cc3",
   "metadata": {
    "tags": []
   },
   "outputs": [
    {
     "name": "stdout",
     "output_type": "stream",
     "text": [
      "#----------------------------------------------------------------------------------\n",
      "# Model fitting. Interating using:\n",
      "#  - solver:            NLOpt:ln-neldermead\n",
      "#  - differentiation:   Numerical differentiantion (central)\n",
      "#..............................................................................................................\n",
      "#  Minimum found with precision: |df|/f =  1.00000e-08 and |dx| =  1.00000e-05\n",
      "#  Elapsed time: 00 days, 00:00:18.5411220\n",
      "#  iteration            [001014]\n",
      "#  function evaluations [001016]\n",
      "#  gradient evaluations [000000]\n",
      "#  degrees of freedom   [454469]\n",
      "#  m2lnL     =     391365.650978094 (     391365.65 )\n",
      "#  Fit parameters:\n",
      "#     4.08763247333783     0.538092645909241    0.931306629373459    0.674689968522022    0.0645030252979038  -0.244363116863723   \n"
     ]
    },
    {
     "data": {
      "text/plain": [
       "True"
      ]
     },
     "execution_count": 5,
     "metadata": {},
     "output_type": "execute_result"
    }
   ],
   "source": [
    "dset = Ncm.Dataset.new()\n",
    "dset.append_data(rmdata)\n",
    "\n",
    "lh = Ncm.Likelihood.new(dset)\n",
    "mset.param_set_all_ftype(Ncm.ParamType.FREE)\n",
    "\n",
    "fit = Ncm.Fit.new(\n",
    "    Ncm.FitType.NLOPT, \"ln-neldermead\", lh, mset, Ncm.FitGradType.NUMDIFF_CENTRAL\n",
    ")\n",
    "\n",
    "fit.run(Ncm.FitRunMsgs.SIMPLE)"
   ]
  },
  {
   "cell_type": "code",
   "execution_count": null,
   "id": "87d236de-17d1-4608-8a69-6b695bde425c",
   "metadata": {
    "tags": []
   },
   "outputs": [],
   "source": [
    "fit.log_info()"
   ]
  },
  {
   "cell_type": "code",
   "execution_count": null,
   "id": "3123581d-281e-4ef0-917d-a3576c999451",
   "metadata": {
    "tags": []
   },
   "outputs": [],
   "source": [
    "fit.numdiff_m2lnL_covar()  # covariance matrix\n",
    "\n",
    "fit.log_covar()  # Prints to the log file the names and indices of the fitted parameters, their best-fit\n",
    "# values, standard deviations and correlation matrix."
   ]
  },
  {
   "cell_type": "code",
   "execution_count": null,
   "id": "c2892ef6-c877-4c8a-bbbf-4397aa0f4fe6",
   "metadata": {
    "tags": []
   },
   "outputs": [],
   "source": [
    "gtkern = Ncm.MSetTransKernGauss.new(0)\n",
    "mcmc = Ncm.FitMCMC.new(fit, gtkern, Ncm.FitRunMsgs.SIMPLE)"
   ]
  },
  {
   "cell_type": "code",
   "execution_count": null,
   "id": "d55fdf86-6ad0-41db-a671-531cbacc8738",
   "metadata": {},
   "outputs": [],
   "source": [
    "cov = fit.fstate.covar.dup()\n",
    "cov.scale(2.0)\n",
    "gtkern.set_cov(cov)"
   ]
  },
  {
   "cell_type": "code",
   "execution_count": null,
   "id": "e07271b3-faf4-4977-b818-0a91feb71b6c",
   "metadata": {
    "tags": []
   },
   "outputs": [],
   "source": [
    "# mcmc.set_data_file(\"MCMC_ascaso_test.fits\") #First fit\n",
    "mcmc.set_data_file(\"MCMC_ascaso_test2.fits\")  # For new fit\n",
    "\n",
    "mcmc.start_run()\n",
    "mcmc.run_lre(1000, 1.0e-3)\n",
    "mcmc.end_run()\n",
    "mcmc.mean_covar()"
   ]
  },
  {
   "cell_type": "code",
   "execution_count": null,
   "id": "2d9d1172-f989-4a6d-90b1-5c379b19a7a8",
   "metadata": {
    "tags": []
   },
   "outputs": [],
   "source": [
    "fit.log_covar()"
   ]
  },
  {
   "cell_type": "code",
   "execution_count": null,
   "id": "3d6f2604-6860-4e16-93e9-dbf3b547657e",
   "metadata": {},
   "outputs": [],
   "source": [
    "# First Results (23-10-2023)\n",
    "# ----------------------------------------------------------------------------------\n",
    "# NcmMSet parameters covariance matrix\n",
    "#                                                   -------------------------------------------------------------------------------------------\n",
    "#    mup0[07000:00] =  4.422       +/-  0.002796    |  1           |  0.9095      | -0.08324     | -0.181       | -0.09781     | -0.03739     |\n",
    "#    mup1[07000:01] =  0.6794      +/-  0.0009389   |  0.9095      |  1           |  0.2498      | -0.1644      | -0.1138      | -0.06086     |\n",
    "#    mup2[07000:02] =  1.25        +/-  0.00286     | -0.08324     |  0.2498      |  1           | -0.01353     | -0.02935     | -0.02563     |\n",
    "# sigmap0[07000:03] =  0.1588      +/-  0.0004555   | -0.181       | -0.1644      | -0.01353     |  1           | -0.4279      | -0.7289      |\n",
    "# sigmap1[07000:04] = -0.1213      +/-  0.0002001   | -0.09781     | -0.1138      | -0.02935     | -0.4279      |  1           |  0.5469      |\n",
    "# sigmap2[07000:05] = -0.1209      +/-  0.002002    | -0.03739     | -0.06086     | -0.02563     | -0.7289      |  0.5469      |  1           |\n",
    "#                                                   -------------------------------------------------------------------------------------------"
   ]
  }
 ],
 "metadata": {
  "kernelspec": {
   "display_name": "NumCosmo",
   "language": "python",
   "name": "numcosmo"
  },
  "language_info": {
   "codemirror_mode": {
    "name": "ipython",
    "version": 3
   },
   "file_extension": ".py",
   "mimetype": "text/x-python",
   "name": "python",
   "nbconvert_exporter": "python",
   "pygments_lexer": "ipython3",
   "version": "3.8.13"
  }
 },
 "nbformat": 4,
 "nbformat_minor": 5
}
