{
 "cells": [
  {
   "cell_type": "code",
   "execution_count": null,
   "id": "a7f9b466-a941-4db1-b09f-e69d9320f0c3",
   "metadata": {
    "tags": []
   },
   "outputs": [],
   "source": [
    "from numcosmo_py import Ncm, Nc, GObject\n",
    "\n",
    "import numpy as np\n",
    "import math\n",
    "import sys\n",
    "from astropy.io import fits\n",
    "from astropy.table import Table\n",
    "import matplotlib.pyplot as plt\n",
    "\n",
    "from richness_mass_calib import create_richness_mass_calib"
   ]
  },
  {
   "cell_type": "code",
   "execution_count": null,
   "id": "911b3b29-e5f3-4c52-ac5d-771f6ad0edb6",
   "metadata": {
    "tags": []
   },
   "outputs": [],
   "source": [
    "# #Settings\n",
    "Ncm.cfg_init()\n",
    "Ncm.cfg_set_log_handler(lambda msg: sys.stdout.write(msg) and sys.stdout.flush())"
   ]
  },
  {
   "cell_type": "code",
   "execution_count": null,
   "id": "9108dcac-8604-4c15-9ccb-cb95ebbffbdc",
   "metadata": {
    "tags": []
   },
   "outputs": [],
   "source": [
    "# Data\n",
    "DC2_halos_m200c = fits.open(\n",
    "    \"/global/cfs/projectdirs/lsst/groups/CL/cosmoDC2_v1.1.4/extragal/full/halos/halos_m200c_13.0.fits\"\n",
    ")\n",
    "dt_halos = Table(DC2_halos_m200c[1].data)\n",
    "# dt_halos['redshift_true', 'mass_fof', 'm200c', 'richness']"
   ]
  },
  {
   "cell_type": "code",
   "execution_count": null,
   "id": "642357f6-3804-483c-8d5d-97bb35cfff76",
   "metadata": {
    "tags": []
   },
   "outputs": [],
   "source": [
    "rmdata = create_richness_mass_calib(dt_halos)\n",
    "ascaso = Nc.ClusterMassAscaso()\n",
    "lnrich_ext = Nc.ClusterMassLnrichExt()\n",
    "\n",
    "mset = Ncm.MSet()\n",
    "mset.set(ascaso)\n",
    "\n",
    "rmdata.m2lnL_val(mset)"
   ]
  },
  {
   "cell_type": "code",
   "execution_count": null,
   "id": "e341462c-49c8-42a8-a3d4-20c282cef40f",
   "metadata": {
    "tags": []
   },
   "outputs": [],
   "source": []
  },
  {
   "cell_type": "code",
   "execution_count": null,
   "id": "71a388b6-2181-4d38-a3ec-fc13170c4cc3",
   "metadata": {
    "tags": []
   },
   "outputs": [],
   "source": [
    "dset = Ncm.Dataset.new()\n",
    "dset.append_data(rmdata)\n",
    "\n",
    "lh = Ncm.Likelihood.new(dset)\n",
    "mset.param_set_all_ftype(Ncm.ParamType.FREE)\n",
    "\n",
    "mset.prepare_fparam_map()\n",
    "\n",
    "\n",
    "fit = Ncm.Fit.new(\n",
    "    Ncm.FitType.NLOPT, \"ln-neldermead\", lh, mset, Ncm.FitGradType.NUMDIFF_CENTRAL\n",
    ")\n",
    "\n",
    "fit.run_restart(Ncm.FitRunMsgs.SIMPLE, 1.0e-3, 0.0, None, None)"
   ]
  },
  {
   "cell_type": "code",
   "execution_count": null,
   "id": "87d236de-17d1-4608-8a69-6b695bde425c",
   "metadata": {
    "tags": []
   },
   "outputs": [],
   "source": [
    "fit.log_info()"
   ]
  },
  {
   "cell_type": "code",
   "execution_count": null,
   "id": "d218171e-2e12-4404-ac6d-b813f5bff6be",
   "metadata": {
    "tags": []
   },
   "outputs": [],
   "source": [
    "nwalkers = 500\n",
    "\n",
    "Ncm.func_eval_set_max_threads(2)\n",
    "Ncm.func_eval_log_pool_stats()\n",
    "\n",
    "init_sampler = Ncm.MSetTransKernGauss.new(0)\n",
    "init_sampler.set_mset(mset)\n",
    "init_sampler.set_prior_from_mset()\n",
    "init_sampler.set_cov_from_rescale(1.0)\n",
    "\n",
    "apes = Ncm.FitESMCMCWalkerAPES.new(nwalkers, mset.fparams_len())\n",
    "\n",
    "esmcmc = Ncm.FitESMCMC.new(fit, nwalkers, init_sampler, apes, Ncm.FitRunMsgs.FULL)\n",
    "esmcmc.set_nthreads(2)\n",
    "esmcmc.set_data_file(\"ascaso1.fits\")\n",
    "\n",
    "esmcmc.start_run()\n",
    "esmcmc.run(1000)  \n",
    "esmcmc.end_run()\n",
    "\n",
    "esmcmc.mean_covar()\n",
    "fit.log_covar()"
   ]
  },
  {
   "cell_type": "code",
   "execution_count": null,
   "id": "0ff41116-e795-4ad3-ad90-6d923617373d",
   "metadata": {},
   "outputs": [],
   "source": [
    "esmcmc.mean_covar()\n",
    "fit.log_covar()"
   ]
  },
  {
   "cell_type": "code",
   "execution_count": null,
   "id": "f7dc374f-3130-46e6-a5bd-4021cd3ec066",
   "metadata": {
    "tags": []
   },
   "outputs": [],
   "source": [
    "fit.log_covar()"
   ]
  },
  {
   "cell_type": "code",
   "execution_count": null,
   "id": "cce1c89a-da21-40ce-9555-ca36a513dfcf",
   "metadata": {
    "tags": []
   },
   "outputs": [],
   "source": [
    "fit.log_info()"
   ]
  },
  {
   "cell_type": "code",
   "execution_count": null,
   "id": "c9509ffb-59c4-4675-997a-41bcf6995ac3",
   "metadata": {},
   "outputs": [],
   "source": []
  },
  {
   "cell_type": "code",
   "execution_count": null,
   "id": "c5651a92-67ba-49a8-b351-321cfdc3799c",
   "metadata": {},
   "outputs": [],
   "source": []
  },
  {
   "cell_type": "code",
   "execution_count": null,
   "id": "5ee06f31-668b-435f-989b-753bb5952805",
   "metadata": {},
   "outputs": [],
   "source": []
  },
  {
   "cell_type": "code",
   "execution_count": null,
   "id": "c3f3644a-2e2b-410c-8018-ad5340a8e0ab",
   "metadata": {},
   "outputs": [],
   "source": []
  },
  {
   "cell_type": "code",
   "execution_count": null,
   "id": "1af345be-60f9-44cf-adea-ada703e6eb8e",
   "metadata": {},
   "outputs": [],
   "source": []
  },
  {
   "cell_type": "code",
   "execution_count": null,
   "id": "f85623f9-203e-4ce3-83eb-9b297f807ab9",
   "metadata": {},
   "outputs": [],
   "source": []
  }
 ],
 "metadata": {
  "kernelspec": {
   "display_name": "numcosmo",
   "language": "python",
   "name": "numcosmo"
  },
  "language_info": {
   "codemirror_mode": {
    "name": "ipython",
    "version": 3
   },
   "file_extension": ".py",
   "mimetype": "text/x-python",
   "name": "python",
   "nbconvert_exporter": "python",
   "pygments_lexer": "ipython3",
   "version": "3.11.5"
  }
 },
 "nbformat": 4,
 "nbformat_minor": 5
}
