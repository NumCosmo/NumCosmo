{
 "cells": [
  {
   "cell_type": "code",
   "execution_count": 1,
   "id": "e7864f90-b87c-42ec-8de8-86cddb9fe9c9",
   "metadata": {
    "tags": []
   },
   "outputs": [
    {
     "name": "stderr",
     "output_type": "stream",
     "text": [
      "Loading required package: ExtDist\n",
      "\n",
      "Warning message:\n",
      "“package ‘ExtDist’ was built under R version 4.3.1”\n",
      "\n",
      "Attaching package: ‘ExtDist’\n",
      "\n",
      "\n",
      "The following object is masked from ‘package:stats’:\n",
      "\n",
      "    BIC\n",
      "\n",
      "\n",
      "Loading required package: truncnorm\n",
      "\n",
      "Warning message in library(package, lib.loc = lib.loc, character.only = TRUE, logical.return = TRUE, :\n",
      "“there is no package called ‘truncnorm’”\n",
      "Loading required package: PerformanceAnalytics\n",
      "\n",
      "Loading required package: xts\n",
      "\n",
      "Loading required package: zoo\n",
      "\n",
      "\n",
      "Attaching package: ‘zoo’\n",
      "\n",
      "\n",
      "The following objects are masked from ‘package:base’:\n",
      "\n",
      "    as.Date, as.Date.numeric\n",
      "\n",
      "\n",
      "\n",
      "Attaching package: ‘PerformanceAnalytics’\n",
      "\n",
      "\n",
      "The following object is masked from ‘package:graphics’:\n",
      "\n",
      "    legend\n",
      "\n",
      "\n"
     ]
    }
   ],
   "source": [
    "require(ExtDist)\n",
    "require(truncnorm)\n",
    "require(PerformanceAnalytics)"
   ]
  },
  {
   "cell_type": "code",
   "execution_count": 28,
   "id": "44dc4c0d-2f9c-4fa0-bace-189cef1f6a48",
   "metadata": {
    "tags": []
   },
   "outputs": [],
   "source": [
    "dados <- data.frame (read.csv(\"Data_binned.csv\"))\n",
    "\n",
    "X <- dados[['lnR']]"
   ]
  },
  {
   "cell_type": "code",
   "execution_count": 29,
   "id": "544b7269-13df-469c-b4ab-14ead32bf254",
   "metadata": {
    "tags": []
   },
   "outputs": [
    {
     "ename": "ERROR",
     "evalue": "Error in trans.est.par[[k]]: subscript out of bounds\n",
     "output_type": "error",
     "traceback": [
      "Error in trans.est.par[[k]]: subscript out of bounds\nTraceback:\n",
      "1. eNormal_trunc_ab(X)",
      "2. wmle(X = X, w = w, distname = \"Normal_trunc_ab\", initial = list(mu = mean(min(X), \n .     max(X)), sigma = 1, a = min(X) - 0.1 * d, b = max(X) + 0.1 * \n .     d), lower = list(mu = -Inf, sigma = 0, a = -Inf, b = max(X)), \n .     upper = list(mu = Inf, sigma = Inf, a = min(X), b = Inf))",
      "3. as.vector(by(1:num.par, 1:num.par, FUN = function(k) {\n .     inv.trans.fn[[k]](trans.est.par[[k]])\n . }))",
      "4. by(1:num.par, 1:num.par, FUN = function(k) {\n .     inv.trans.fn[[k]](trans.est.par[[k]])\n . })",
      "5. by.default(1:num.par, 1:num.par, FUN = function(k) {\n .     inv.trans.fn[[k]](trans.est.par[[k]])\n . })",
      "6. structure(eval(substitute(tapply(seq_len(nd), IND, FUNx, simplify = simplify)), \n .     dd), call = match.call(), class = \"by\")",
      "7. eval(substitute(tapply(seq_len(nd), IND, FUNx, simplify = simplify)), \n .     dd)",
      "8. eval(substitute(tapply(seq_len(nd), IND, FUNx, simplify = simplify)), \n .     dd)",
      "9. tapply(seq_len(4L), list(`1:num.par` = 1:4), function (x) \n . FUN(dd[x, ], ...), simplify = TRUE)",
      "10. lapply(X = ans[index], FUN = FUN, ...)",
      "11. FUN(X[[i]], ...)",
      "12. FUN(dd[x, ], ...)"
     ]
    },
    {
     "data": {
      "text/plain": [
       "\n",
       "Parameters for the Normal_trunc_ab distribution. \n",
       "(found using the  numerical.MLE method.)\n",
       "\n",
       " Parameter     Type  Estimate\n",
       "        mu    shape 1.0155471\n",
       "     sigma    shape 0.4813024\n",
       "         a boundary 1.0002236\n",
       "         b boundary 1.9905871\n",
       "\n"
      ]
     },
     "metadata": {},
     "output_type": "display_data"
    }
   ],
   "source": [
    "est.par <- eNormal_trunc_ab(X); est.par\n",
    "\n",
    "plot(est.par)"
   ]
  },
  {
   "cell_type": "code",
   "execution_count": null,
   "id": "e13e76b8-6985-4a6d-9d4d-e79df3dad77b",
   "metadata": {
    "tags": []
   },
   "outputs": [],
   "source": []
  },
  {
   "cell_type": "code",
   "execution_count": null,
   "id": "2b2cb6d4-6aae-47ce-99db-156f23944173",
   "metadata": {},
   "outputs": [],
   "source": []
  }
 ],
 "metadata": {
  "kernelspec": {
   "display_name": "R",
   "language": "R",
   "name": "ir"
  },
  "language_info": {
   "codemirror_mode": "r",
   "file_extension": ".r",
   "mimetype": "text/x-r-source",
   "name": "R",
   "pygments_lexer": "r",
   "version": "4.3.0"
  }
 },
 "nbformat": 4,
 "nbformat_minor": 5
}
