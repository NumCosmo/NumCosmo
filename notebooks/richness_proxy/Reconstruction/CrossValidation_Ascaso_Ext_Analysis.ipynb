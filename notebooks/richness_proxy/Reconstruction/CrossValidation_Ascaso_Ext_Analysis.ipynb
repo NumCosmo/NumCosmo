{
 "cells": [
  {
   "cell_type": "markdown",
   "id": "eef54868-0f24-4e4b-b764-31993d5094b9",
   "metadata": {
    "tags": []
   },
   "source": [
    "## Settings"
   ]
  },
  {
   "cell_type": "code",
   "execution_count": 1,
   "id": "6e87ef7c-89d1-430a-b017-4a6c3a3e375c",
   "metadata": {
    "tags": []
   },
   "outputs": [],
   "source": [
    "import sys\n",
    "sys.path.insert(0, \"/global/homes/c/cinlima/NumCosmo/notebooks/richness_proxy/\")\n",
    "\n",
    "#NumCosmo\n",
    "from numcosmo_py import Ncm, Nc, GObject\n",
    "from richness_mass_calib import create_richness_mass_calib\n",
    "\n",
    "#Useful packages\n",
    "import numpy as np\n",
    "import math\n",
    "from scipy import stats\n",
    "\n",
    "from astropy.io import fits\n",
    "from astropy.table import Table\n",
    "import pandas as pd\n",
    "from sklearn.model_selection import train_test_split\n",
    "\n",
    "import matplotlib.pyplot as plt\n",
    "%matplotlib inline\n",
    "\n",
    "Ncm.cfg_init()\n",
    "Ncm.cfg_set_log_handler(lambda msg: sys.stdout.write(msg) and sys.stdout.flush())"
   ]
  },
  {
   "cell_type": "markdown",
   "id": "87fa7b4d-edef-496d-b8f5-a011bd7b36c2",
   "metadata": {
    "tags": []
   },
   "source": [
    "## Data"
   ]
  },
  {
   "cell_type": "code",
   "execution_count": 2,
   "id": "86be6655-8864-4d0b-a996-ec3c0c603702",
   "metadata": {
    "tags": []
   },
   "outputs": [],
   "source": [
    "# DC2 data\n",
    "DC2_halos_m200c = fits.open(\n",
    "    \"/global/cfs/projectdirs/lsst/groups/CL/cosmoDC2_v1.1.4/extragal/full/halos/halos_m200c_13.0.fits\")\n",
    "\n",
    "dt_halos = Table(DC2_halos_m200c[1].data)\n",
    "\n",
    "lnM = np.log(dt_halos[\"m200c\"])  # ln(mass)\n",
    "z = dt_halos[\"redshift_true\"]  # redshift\n",
    "lnR = np.log(dt_halos[\"richness\"])  # ln(richness)\n"
   ]
  },
  {
   "cell_type": "markdown",
   "id": "4f7d27f7-b904-4cc0-b6ba-b4889f7c946a",
   "metadata": {
    "tags": []
   },
   "source": [
    "## Training and test sets"
   ]
  },
  {
   "cell_type": "code",
   "execution_count": 3,
   "id": "b477cfcf-a1e5-42f7-8cb6-be3639fa2d5c",
   "metadata": {
    "tags": []
   },
   "outputs": [
    {
     "name": "stdout",
     "output_type": "stream",
     "text": [
      "(136343, 3) (136343, 2) (136343, 1)\n",
      "(318132, 3) (318132, 2) (318132, 1)\n",
      "454475\n",
      "454475\n"
     ]
    }
   ],
   "source": [
    "X = pd.DataFrame({'m200c': list(dt_halos[\"m200c\"]), 'redshift_true': list(dt_halos[\"redshift_true\"])})\n",
    "y = pd.DataFrame({'richness': list(dt_halos[\"richness\"])})\n",
    "\n",
    "X_train, X_test, y_train, y_test = train_test_split(\n",
    "    X, y, test_size=0.3, random_state=0)\n",
    "\n",
    "data_train = pd.concat([X_train, y_train], axis=1)\n",
    "data_test = pd.concat([X_test, y_test], axis=1)\n",
    "\n",
    "print( data_test.shape, X_test.shape, y_test.shape )\n",
    "print( data_train.shape, X_train.shape, y_train.shape )\n",
    "\n",
    "print( data_test.shape[0] + data_train.shape[0] )\n",
    "\n",
    "print( len(dt_halos) )"
   ]
  },
  {
   "cell_type": "markdown",
   "id": "5371fa1b-a028-4255-bfa9-03b5299e4afd",
   "metadata": {
    "tags": []
   },
   "source": [
    "## Bins\n",
    "\n",
    "Nestas células fazemos um recorte de intervalos de z de largura 0.05 e esses intervalos são colocados em **halos_bin_z**. Depois, pegamos cada *bin* em z e cortamos em intervalos de lnM de largura 0.25. Os bins são colocados em **halos_bin_mz**.\n",
    "\n",
    "Para cada intervalo em **halos_bin_mz** é calculado lnR médio, z médio e lnM médio e as listas desses valores são colocadas na tabela **halos_mean**."
   ]
  },
  {
   "cell_type": "code",
   "execution_count": 4,
   "id": "4c26e6b7-75ae-4941-b66c-a44946b8d8a0",
   "metadata": {
    "tags": []
   },
   "outputs": [
    {
     "name": "stdout",
     "output_type": "stream",
     "text": [
      "Total bins in halos_bin_mz: 1281\n"
     ]
    }
   ],
   "source": [
    "# redshift bins\n",
    "def Binningf(data_set):\n",
    "    \n",
    "    z_ds = data_set[\"redshift_true\"]\n",
    "    lnm_ds = np.log(data_set[\"m200c\"])\n",
    "    \n",
    "    d = 0.05\n",
    "    d_m = 0.25\n",
    "    \n",
    "    z_bins = int((max(z_ds) - min (z_ds)) // d  + 1)\n",
    "    m_bins = int((max(lnm_ds) - min (lnm_ds)) // d_m + 1)\n",
    "\n",
    "    z_0 = 0.0\n",
    "    z_1 = d\n",
    "    halos_bin_z =[]\n",
    "\n",
    "    for i in range(z_bins):\n",
    "        cut_z = np.logical_and (data_set['redshift_true'] > z_0, data_set['redshift_true'] < z_1)\n",
    "        halos_bin_z.append(data_set[cut_z])\n",
    "        z_0 = z_0 + d\n",
    "        z_1 = z_1 + d\n",
    "\n",
    "    # mass bins\n",
    "    label = []\n",
    "    halos_bin_mz =[]\n",
    "    for i in range(z_bins):\n",
    "\n",
    "        lnM_0 = min(lnM)\n",
    "        lnM_1 = min(lnM) + d_m\n",
    "        for j in range(m_bins):\n",
    "\n",
    "            cut = np.logical_and (np.log(halos_bin_z[i][\"m200c\"]) > lnM_0, np.log(halos_bin_z[i][\"m200c\"]) < lnM_1)\n",
    "            halos_bin_mz.append(halos_bin_z[i][cut])\n",
    "            label.append(f\"{min(halos_bin_z[i]['redshift_true']):.3f} < z < {max(halos_bin_z[i]['redshift_true']):.3f}\\n{lnM_0:.3f} < lnM < {lnM_1:.3f}\")\n",
    "\n",
    "            lnM_0 = lnM_0 + d_m\n",
    "            lnM_1 = lnM_1 + d_m\n",
    "    \n",
    "    return halos_bin_mz\n",
    "\n",
    "print(f'Total bins in halos_bin_mz: {len(Binningf(data_train))}')"
   ]
  },
  {
   "cell_type": "code",
   "execution_count": 5,
   "id": "a1aa382a-baa4-4edb-811a-a957c2170e1e",
   "metadata": {
    "tags": []
   },
   "outputs": [
    {
     "name": "stdout",
     "output_type": "stream",
     "text": [
      "Total bins in halos_mean: 816\n"
     ]
    }
   ],
   "source": [
    "def bin_meanf(data_set):\n",
    "    lnM_binned, z_binned, lnR_binned = [], [], [] \n",
    "\n",
    "    binned_halos = Binningf(data_set)\n",
    "\n",
    "    for i in range(len(binned_halos)):\n",
    "\n",
    "        halos = binned_halos[i]\n",
    "        lnM_binned.append(np.log(halos[\"m200c\"]))\n",
    "        z_binned.append(halos[\"redshift_true\"])\n",
    "        lnR_binned.append(np.log(halos[\"richness\"]))   \n",
    "\n",
    "    lnR_mean, lnM_mean, z_mean = [np.mean(l) for l in lnR_binned if len(l) > 0], [np.mean(l) for l in lnM_binned if len(l) > 0], [np.mean(k) for k in z_binned if len(k) > 0]\n",
    "    \n",
    "    lnR_std = np.array([np.std(l) for l in lnR_binned if len(l) > 0])\n",
    "\n",
    "    \n",
    "    halos_mean = Table([np.exp(np.array(lnR_mean)), np.exp(np.array(lnM_mean)), z_mean],\n",
    "               names=('richness', 'm200c', 'redshift_true'))\n",
    "    \n",
    "    return halos_mean, lnM_binned, z_binned, lnR_binned, lnR_std\n",
    "\n",
    "print(f'Total bins in halos_mean: {len(bin_meanf(data_train)[0])}')\n",
    "\n"
   ]
  },
  {
   "cell_type": "markdown",
   "id": "514b0bdf-8e84-4262-8643-7bebb973294d",
   "metadata": {
    "tags": []
   },
   "source": [
    "## Models fit"
   ]
  },
  {
   "cell_type": "code",
   "execution_count": 6,
   "id": "ae89feee-0a16-4131-8a1d-e09931fd4ba6",
   "metadata": {
    "tags": []
   },
   "outputs": [],
   "source": [
    "def Model_fit(mod, data_set):\n",
    "    \n",
    "    #data_set\n",
    "    dt_halos = Table(DC2_halos_m200c[1].data)\n",
    "    rmdata = create_richness_mass_calib(data_set)\n",
    "    \n",
    "    fixed_parameters = [] \n",
    "    \n",
    "    #Swicth\n",
    "    match mod:\n",
    "        case \"ext_ln1pz\":\n",
    "            model = Nc.ClusterMassLnrichExt()\n",
    "            fixed_parameters = [12, 13, 14] #fixing cut parameters\n",
    "            \n",
    "        case \"ext_z\":\n",
    "            model = Nc.ClusterMassLnrichExt()\n",
    "            model.set_properties('use_ln1pz', False)\n",
    "            fixed_parameters = [12, 13, 14] #fixing cut parameters\n",
    "            \n",
    "        case \"ascaso\":\n",
    "            model = Nc.ClusterMassAscaso()\n",
    "            fixed_parameters = [6] #fixing cut parameter\n",
    "    \n",
    "    #Model\n",
    "    model.param_set_by_name(\"cut\", 1e15) #Set cut parameter value \n",
    "    mset = Ncm.MSet()\n",
    "    mset.set(model)\n",
    "    rmdata.m2lnL_val(mset)  \n",
    "    mset.param_set_all_ftype(Ncm.ParamType.FREE) #All parameters free\n",
    "    \n",
    "    #Data\n",
    "    dset = Ncm.Dataset.new()\n",
    "    dset.append_data(rmdata)\n",
    "    \n",
    "    #Likelihood\n",
    "    lh = Ncm.Likelihood.new(dset)\n",
    "  \n",
    "    #All parameters free except cut parameters:\n",
    "    for par in fixed_parameters:\n",
    "        mset.param_set_ftype(7000, par, Ncm.ParamType.FIXED)\n",
    "    \n",
    "    mset.prepare_fparam_map()\n",
    "    \n",
    "    #Fit\n",
    "    fit = Ncm.Fit.factory( Ncm.FitType.NLOPT, \"ln-neldermead\", lh, mset, Ncm.FitGradType.NUMDIFF_CENTRAL )\n",
    "    fit.log_info()\n",
    "    fit.run_restart(Ncm.FitRunMsgs.SIMPLE, 1.0e-3, 0.0, None, None)\n",
    "    fit.log_info()\n",
    "    \n",
    "    #Binning data_set\n",
    "    bin_f= bin_meanf(data_set)\n",
    "    halos_mean = bin_f[0]\n",
    "    lnM_mean = np.log(halos_mean[\"m200c\"])\n",
    "    z_mean = halos_mean[\"redshift_true\"]\n",
    "    \n",
    "    # Mean and std of data_set z mean and lnM mean\n",
    "    lnR_mean_model = np.array([model.get_mean_richness(lnM_mean[i], z_mean[i]) for i in range(len(halos_mean))])\n",
    "    lnR_std_model = np.array( [model.get_std_richness(lnM_mean[i], z_mean[i]) for i in range(len(halos_mean))])\n",
    "    \n",
    "    return lnR_mean_model, lnR_std_model, model\n",
    "\n"
   ]
  },
  {
   "cell_type": "code",
   "execution_count": null,
   "id": "cfb42588-7f7c-4088-afa8-f6fc016d6d01",
   "metadata": {},
   "outputs": [],
   "source": []
  },
  {
   "cell_type": "markdown",
   "id": "257d6e8e-63a3-459e-8501-4e3c5f7a6b24",
   "metadata": {
    "tags": []
   },
   "source": [
    "## Ascaso Fit Params\n",
    "\n",
    "Aqui fazemos o ajuste do modelo de ascaso e encontramos os valores dos parâmetros usando todos os dados em **dt_halos** (sem dividir em intervalos). \n",
    "\n",
    "\\begin{equation}\n",
    "    \\left< \\ln R | M, z \\right> = \\mu_0 + \\mu_1 \\ln\\left( \\frac{M}{M_0} \\right) +  \\mu_2\\ln\\left(\\frac{1 + z}{1 + z_0}\\right);\n",
    "\\end{equation}\n",
    "\n",
    "$$\\textbf{p}_{1} = \\{\\mu_0, \\mu_1, \\mu_2, \\sigma_0, \\sigma_1, \\sigma_2\\}. $$\n",
    "\n"
   ]
  },
  {
   "cell_type": "code",
   "execution_count": 7,
   "id": "e33a750d-8ac0-4f21-ab8a-bb09fafbe81a",
   "metadata": {
    "collapsed": true,
    "jupyter": {
     "outputs_hidden": true
    },
    "tags": []
   },
   "outputs": [
    {
     "name": "stdout",
     "output_type": "stream",
     "text": [
      "#----------------------------------------------------------------------------------\n",
      "# Data used:\n",
      "#   - NcDataClusterMassRich\n",
      "#----------------------------------------------------------------------------------\n",
      "# Model[07000]:\n",
      "#   - NcClusterMass : Ascaso Ln-normal richness distribution\n",
      "#----------------------------------------------------------------------------------\n",
      "# Model parameters\n",
      "#   -    mup0[00]:  3.19                [FREE]\n",
      "#   -    mup1[01]:  0.868588963806504   [FREE]\n",
      "#   -    mup2[02]: -0.304006137332276   [FREE]\n",
      "#   - sigmap0[03]:  0.33                [FREE]\n",
      "#   - sigmap1[04]: -0.0347435585522601  [FREE]\n",
      "#   - sigmap2[05]:  0                   [FREE]\n",
      "#   -     cut[06]:  1e+15               [FIXED]\n",
      "#----------------------------------------------------------------------------------\n",
      "# Model fitting. Interating using:\n",
      "#  - solver:            NLOpt:ln-neldermead\n",
      "#  - differentiation:   Numerical differentiantion (central)\n",
      "#............................................................................................................................................................................\n",
      "#  Minimum found with precision: |df|/f =  1.00000e-08 and |dx| =  1.00000e-05\n",
      "#  Elapsed time: 00 days, 00:00:36.1588060\n",
      "#  iteration            [001639]\n",
      "#  function evaluations [001641]\n",
      "#  gradient evaluations [000000]\n",
      "#  degrees of freedom   [318126]\n",
      "#  m2lnL     =     88084.6571483337 (     88084.657 )\n",
      "#  Fit parameters:\n",
      "#     4.45146303846499     0.687904396831083    1.23690538536762     0.225566948552539   -0.0523261662550084  -0.12720239933197    \n",
      "#----------------------------------------------------------------------------------\n",
      "# Restarting:              yes\n",
      "#  - absolute improvement: 9027053.19749404      \n",
      "#  - relative improvement: 0.990336442678871     \n",
      "#  - m2lnL_0  :            9115137.85464237      \n",
      "#  - m2lnL_1  :            88084.6571483337      \n",
      "#----------------------------------------------------------------------------------\n",
      "# Model fitting. Interating using:\n",
      "#  - solver:            NLOpt:ln-neldermead\n",
      "#  - differentiation:   Numerical differentiantion (central)\n",
      "#.......................\n",
      "#  Minimum found with precision: |df|/f =  1.00000e-08 and |dx| =  1.00000e-05\n",
      "#  Elapsed time: 00 days, 00:00:03.2023060\n",
      "#  iteration            [000145]\n",
      "#  function evaluations [000147]\n",
      "#  gradient evaluations [000000]\n",
      "#  degrees of freedom   [318126]\n",
      "#  m2lnL     =     88084.6569283542 (     88084.657 )\n",
      "#  Fit parameters:\n",
      "#     4.45150131220089     0.687918037616064    1.23687819712781     0.225562369436839   -0.052332049478038   -0.127246273110499   \n",
      "#----------------------------------------------------------------------------------\n",
      "# Restarting:              no\n",
      "#  - absolute improvement: 0.000219979541725479  \n",
      "#  - relative improvement: 2.49736502186795e-09  \n",
      "#  - m2lnL_1  :            88084.6571483337      \n",
      "#  - m2lnL_2  :            88084.6569283542      \n",
      "#----------------------------------------------------------------------------------\n",
      "# Data used:\n",
      "#   - NcDataClusterMassRich\n",
      "#----------------------------------------------------------------------------------\n",
      "# Model[07000]:\n",
      "#   - NcClusterMass : Ascaso Ln-normal richness distribution\n",
      "#----------------------------------------------------------------------------------\n",
      "# Model parameters\n",
      "#   -    mup0[00]:  4.45150131220089    [FREE]\n",
      "#   -    mup1[01]:  0.687918037616064   [FREE]\n",
      "#   -    mup2[02]:  1.23687819712781    [FREE]\n",
      "#   - sigmap0[03]:  0.225562369436839   [FREE]\n",
      "#   - sigmap1[04]: -0.052332049478038   [FREE]\n",
      "#   - sigmap2[05]: -0.127246273110499   [FREE]\n",
      "#   -     cut[06]:  1e+15               [FIXED]\n"
     ]
    }
   ],
   "source": [
    "lnR_mean_ascaso, lnR_std_ascaso, ascaso = Model_fit('ascaso', data_train)"
   ]
  },
  {
   "cell_type": "markdown",
   "id": "43d7495d-c350-400c-9ad0-1fb3afb73ba1",
   "metadata": {
    "tags": []
   },
   "source": [
    "## Ext (ln(1+z)) Fit Params\n",
    "\n",
    "Aqui fazemos o ajuste do modelo extendido considerando a dependencia em $\\ln (1 + z)$, também usando todos os dados em **dt_halos** .\n",
    "\n",
    "\\begin{equation}\\label{M_R_3}\n",
    "\\begin{split}\n",
    "    \\left<\\ln R | M, z \\right> = \\mu_0 + \n",
    "    \\mu_{M1} \\ln\\left( \\frac{M}{M_0} \\right) +\n",
    "    \\mu_{M2} (\\ln\\left(\\frac{M}{M_0} \\right))^2 +\\\\\n",
    "    + \\mu_{z1} \\ln\\left(\\frac{1 + z}{1 + z_0}\\right) +\n",
    "    \\mu_{z2} (\\ln\\left(\\frac{1 + z}{1 + z_0}\\right))^2 +\\\\\n",
    "    + \\mu_{Mz} \\ln\\left(\\frac{1 + z}{1 + z_0}\\right)\\ln\\left(\\frac{M}{M_0} \\right);\n",
    "\\end{split}\n",
    "\\end{equation}\n",
    "\n",
    "$$\\textbf{p}_{2} = \\{\\mu_0, \\mu_{M1}, \\mu_{M2}, \\mu_{Z1}, \\mu_{Z2}, \\mu_{MZ}, \\sigma_0, \\sigma_{M1}, \\sigma_{M2}, \\sigma_{Z1}, \\sigma_{Z2}, \\sigma_{MZ} \\}.$$"
   ]
  },
  {
   "cell_type": "code",
   "execution_count": 8,
   "id": "4aaa98e7-f3bd-4890-9b71-a99b142d140d",
   "metadata": {
    "collapsed": true,
    "jupyter": {
     "outputs_hidden": true
    },
    "tags": []
   },
   "outputs": [
    {
     "name": "stdout",
     "output_type": "stream",
     "text": [
      "#----------------------------------------------------------------------------------\n",
      "# Data used:\n",
      "#   - NcDataClusterMassRich\n",
      "#----------------------------------------------------------------------------------\n",
      "# Model[07000]:\n",
      "#   - NcClusterMass : LnrichExt Ln-normal richness distribution\n",
      "#----------------------------------------------------------------------------------\n",
      "# Model parameters\n",
      "#   -      mu[00]:  3.19                [FREE]\n",
      "#   -    muM1[01]:  0.868588963806504   [FREE]\n",
      "#   -    muZ1[02]: -0.304006137332276   [FREE]\n",
      "#   -    muM2[03]:  0                   [FREE]\n",
      "#   -    muZ2[04]:  0                   [FREE]\n",
      "#   -    muMZ[05]:  0                   [FREE]\n",
      "#   -  sigma0[06]:  0.33                [FREE]\n",
      "#   - sigmaM1[07]: -0.0347435585522601  [FREE]\n",
      "#   - sigmaZ1[08]:  0                   [FREE]\n",
      "#   - sigmaM2[09]:  0                   [FREE]\n",
      "#   - sigmaZ2[10]:  0                   [FREE]\n",
      "#   - sigmaMZ[11]:  0                   [FREE]\n",
      "#   -     cut[12]:  1e+15               [FIXED]\n",
      "#   -   cutM1[13]:  0                   [FIXED]\n",
      "#   -   cutZ1[14]:  0                   [FIXED]\n",
      "#----------------------------------------------------------------------------------\n",
      "# Model fitting. Interating using:\n",
      "#  - solver:            NLOpt:ln-neldermead\n",
      "#  - differentiation:   Numerical differentiantion (central)\n",
      "#...........................................................................................................................................................................................................................................................................................................\n",
      "#  Minimum found with precision: |df|/f =  1.00000e-08 and |dx| =  1.00000e-05\n",
      "#  Elapsed time: 00 days, 00:01:26.1675000\n",
      "#  iteration            [002907]\n",
      "#  function evaluations [002909]\n",
      "#  gradient evaluations [000000]\n",
      "#  degrees of freedom   [318120]\n",
      "#  m2lnL     =     98859.4136112489 (     98859.414 )\n",
      "#  Fit parameters:\n",
      "#     5.41054889098377     1.34618848407765     0.852647781135423    0.109583690444611   -0.17527244717748    -0.152218223990742    0.852162641678028    0.334006590483557   -0.55015008243617     0.0584945306154877  -0.0154218016086011  -0.135016565098367   \n",
      "#----------------------------------------------------------------------------------\n",
      "# Restarting:              yes\n",
      "#  - absolute improvement: 9016278.44103112      \n",
      "#  - relative improvement: 0.989154369885816     \n",
      "#  - m2lnL_0  :            9115137.85464237      \n",
      "#  - m2lnL_1  :            98859.4136112489      \n",
      "#----------------------------------------------------------------------------------\n",
      "# Model fitting. Interating using:\n",
      "#  - solver:            NLOpt:ln-neldermead\n",
      "#  - differentiation:   Numerical differentiantion (central)\n",
      "#......................................................................................................................................................................................................................................................................................................................................................................................................................................................................\n",
      "#  Minimum found with precision: |df|/f =  1.00000e-08 and |dx| =  1.00000e-05\n",
      "#  Elapsed time: 00 days, 00:02:10.4678770\n",
      "#  iteration            [004450]\n",
      "#  function evaluations [004452]\n",
      "#  gradient evaluations [000000]\n",
      "#  degrees of freedom   [318120]\n",
      "#  m2lnL     =     85442.4343623322 (     85442.434 )\n",
      "#  Fit parameters:\n",
      "#     4.60889146814503     0.877152390596893    1.77135785784129     0.0429204888512809  -0.135706428647051    0.142548921318298    0.288900251224456    0.0166888013325407  -0.0231399064528239   0.015176843763444    0.00160251003777388  0.0345522298700391  \n",
      "#----------------------------------------------------------------------------------\n",
      "# Restarting:              yes\n",
      "#  - absolute improvement: 13416.9792489168      \n",
      "#  - relative improvement: 0.135717770911298     \n",
      "#  - m2lnL_1  :            98859.4136112489      \n",
      "#  - m2lnL_2  :            85442.4343623322      \n",
      "#----------------------------------------------------------------------------------\n",
      "# Model fitting. Interating using:\n",
      "#  - solver:            NLOpt:ln-neldermead\n",
      "#  - differentiation:   Numerical differentiantion (central)\n",
      "#.........................................\n",
      "#  Minimum found with precision: |df|/f =  1.00000e-08 and |dx| =  1.00000e-05\n",
      "#  Elapsed time: 00 days, 00:00:09.2586290\n",
      "#  iteration            [000320]\n",
      "#  function evaluations [000322]\n",
      "#  gradient evaluations [000000]\n",
      "#  degrees of freedom   [318120]\n",
      "#  m2lnL     =     85442.4343623322 (     85442.434 )\n",
      "#  Fit parameters:\n",
      "#     4.60889146814503     0.877152390596893    1.77135785784129     0.0429204888512809  -0.135706428647051    0.142548921318298    0.288900251224456    0.0166888013325407  -0.0231399064528239   0.015176843763444    0.00160251003777388  0.0345522298700391  \n",
      "#----------------------------------------------------------------------------------\n",
      "# Restarting:              no\n",
      "#  - absolute improvement: 0                     \n",
      "#  - relative improvement: 0                     \n",
      "#  - m2lnL_2  :            85442.4343623322      \n",
      "#  - m2lnL_3  :            85442.4343623322      \n",
      "#----------------------------------------------------------------------------------\n",
      "# Data used:\n",
      "#   - NcDataClusterMassRich\n",
      "#----------------------------------------------------------------------------------\n",
      "# Model[07000]:\n",
      "#   - NcClusterMass : LnrichExt Ln-normal richness distribution\n",
      "#----------------------------------------------------------------------------------\n",
      "# Model parameters\n",
      "#   -      mu[00]:  4.60889146814503    [FREE]\n",
      "#   -    muM1[01]:  0.877152390596893   [FREE]\n",
      "#   -    muZ1[02]:  1.77135785784129    [FREE]\n",
      "#   -    muM2[03]:  0.0429204888512809  [FREE]\n",
      "#   -    muZ2[04]: -0.135706428647051   [FREE]\n",
      "#   -    muMZ[05]:  0.142548921318298   [FREE]\n",
      "#   -  sigma0[06]:  0.288900251224456   [FREE]\n",
      "#   - sigmaM1[07]:  0.0166888013325407  [FREE]\n",
      "#   - sigmaZ1[08]: -0.0231399064528239  [FREE]\n",
      "#   - sigmaM2[09]:  0.015176843763444   [FREE]\n",
      "#   - sigmaZ2[10]:  0.00160251003777388 [FREE]\n",
      "#   - sigmaMZ[11]:  0.0345522298700391  [FREE]\n",
      "#   -     cut[12]:  1e+15               [FIXED]\n",
      "#   -   cutM1[13]:  0                   [FIXED]\n",
      "#   -   cutZ1[14]:  0                   [FIXED]\n"
     ]
    }
   ],
   "source": [
    "lnR_mean_ext_ln1pz, lnR_std_ext_ln1pz, ext_ln1pz = Model_fit('ext_ln1pz', data_train)"
   ]
  },
  {
   "cell_type": "markdown",
   "id": "8d6dac5b-6255-4a48-a4c0-9903dd90fd5b",
   "metadata": {
    "tags": []
   },
   "source": [
    "## Ext (z) Fit Params\n",
    "\n",
    "\n",
    "Aqui consideramos o ajuste do modelo extendido considerando a dependência em $ z$, também usando todos os dados em **dt_halos** .\n",
    "\n",
    "\\begin{equation}\\label{M_R_3}\n",
    "\\begin{split}\n",
    "    \\left<\\ln R | M, z \\right> = \\mu_0 + \n",
    "    \\mu_{M1} \\ln\\left( \\frac{M}{M_0} \\right) +\n",
    "    \\mu_{M2} (\\ln\\left(\\frac{M}{M_0} \\right))^2 +\\\\\n",
    "    + \\mu_{z1} \\left(\\frac{ z}{z_0}\\right) +\n",
    "    \\mu_{z2} \\left(\\frac{z}{z_0}\\right)^2 +\n",
    "    \\mu_{Mz} \\left(\\frac{z}{z_0}\\right)\\ln\\left(\\frac{M}{M_0} \\right);\n",
    "\\end{split}\n",
    "\\end{equation}\n",
    "\n",
    "$$\\textbf{p}_{2} = \\{\\mu_0, \\mu_{M1}, \\mu_{M2}, \\mu_{Z1}, \\mu_{Z2}, \\mu_{MZ}, \\sigma_0, \\sigma_{M1}, \\sigma_{M2}, \\sigma_{Z1}, \\sigma_{Z2}, \\sigma_{MZ} \\}.$$"
   ]
  },
  {
   "cell_type": "code",
   "execution_count": null,
   "id": "d8dda4e5-d7cd-48a9-a946-bcecfa94fdb3",
   "metadata": {
    "tags": []
   },
   "outputs": [
    {
     "name": "stdout",
     "output_type": "stream",
     "text": [
      "#----------------------------------------------------------------------------------\n",
      "# Data used:\n",
      "#   - NcDataClusterMassRich\n",
      "#----------------------------------------------------------------------------------\n",
      "# Model[07000]:\n",
      "#   - NcClusterMass : LnrichExt Ln-normal richness distribution\n",
      "#----------------------------------------------------------------------------------\n",
      "# Model parameters\n",
      "#   -      mu[00]:  3.19                [FREE]\n",
      "#   -    muM1[01]:  0.868588963806504   [FREE]\n",
      "#   -    muZ1[02]: -0.304006137332276   [FREE]\n",
      "#   -    muM2[03]:  0                   [FREE]\n",
      "#   -    muZ2[04]:  0                   [FREE]\n",
      "#   -    muMZ[05]:  0                   [FREE]\n",
      "#   -  sigma0[06]:  0.33                [FREE]\n",
      "#   - sigmaM1[07]: -0.0347435585522601  [FREE]\n",
      "#   - sigmaZ1[08]:  0                   [FREE]\n",
      "#   - sigmaM2[09]:  0                   [FREE]\n",
      "#   - sigmaZ2[10]:  0                   [FREE]\n",
      "#   - sigmaMZ[11]:  0                   [FREE]\n",
      "#   -     cut[12]:  1e+15               [FIXED]\n",
      "#   -   cutM1[13]:  0                   [FIXED]\n",
      "#   -   cutZ1[14]:  0                   [FIXED]\n",
      "#----------------------------------------------------------------------------------\n",
      "# Model fitting. Interating using:\n",
      "#  - solver:            NLOpt:ln-neldermead\n",
      "#  - differentiation:   Numerical differentiantion (central)\n",
      "#................................................................................................................................................................................"
     ]
    }
   ],
   "source": [
    "lnR_mean_ext_z, lnR_std_ext_z, ext_z = Model_fit('ext_z', data_train)"
   ]
  },
  {
   "cell_type": "markdown",
   "id": "64befdeb-af6d-4549-9e5b-9b0062c1584b",
   "metadata": {
    "tags": []
   },
   "source": [
    "## Comparison I"
   ]
  },
  {
   "cell_type": "code",
   "execution_count": null,
   "id": "1a24ec76-9dd5-49a2-afc1-c0548d56c3de",
   "metadata": {
    "tags": []
   },
   "outputs": [],
   "source": [
    "def Plot_model(lnR_mean_model, data_set):\n",
    "\n",
    "    fig = plt.figure(figsize=(16,4))\n",
    "\n",
    "    ax1 = fig.add_subplot(1,3,1, projection='3d')\n",
    "    ax2 = fig.add_subplot(1,3,2)\n",
    "    ax3 = fig.add_subplot(1,3,3)\n",
    "\n",
    "    #lnR model, z_mean, y_mean\n",
    "    halos_mean = bin_meanf(data_set)[0]\n",
    "    lnR_mean = np.log(halos_mean[\"richness\"])\n",
    "    \n",
    "    xs = halos_mean[\"redshift_true\"]\n",
    "    ys = np.log(halos_mean[\"m200c\"])\n",
    "    zs = lnR_mean_model\n",
    "    \n",
    "    p1 =ax1.scatter(xs, ys, zs, c=zs, cmap='cool')\n",
    "    ax1.set_xlabel('z')\n",
    "    ax1.set_ylabel('lnM')\n",
    "    fig.colorbar(p1, ax=ax1, label='<LnR| M, z>')\n",
    "\n",
    "    ax2.scatter(ys, lnR_mean, c='k', label='lnR médio')\n",
    "    p2 = ax2.scatter(ys, zs , c= xs, cmap='cool')\n",
    "    ax2.set_xlabel('lnM')\n",
    "    ax2.set_ylabel('<LnR| M, z>')\n",
    "    fig.colorbar(p2, ax=ax2, label='z')\n",
    "    ax2.legend()\n",
    "\n",
    "    ax3.scatter(xs, lnR_mean, c='k', label='lnR médio')\n",
    "    p3 = ax3.scatter(xs, zs , c=ys, cmap='cool') \n",
    "    ax3.set_xlabel('z')\n",
    "    ax3.set_ylabel('<LnR| M, z>')\n",
    "    fig.colorbar(p3, ax=ax3, label='lnM')\n",
    "    ax3.legend()\n",
    "\n",
    "    \n",
    "    if f'{lnR_mean_model}' == f'{lnR_mean_ascaso}': \n",
    "        fig.suptitle('Modelo de Ascaso')\n",
    "    elif f'{lnR_mean_model}' == f'{lnR_mean_ext_ln1pz}': \n",
    "        fig.suptitle('Modelo Estendido (ln(1 + z))')\n",
    "    elif f'{lnR_mean_model}' == f'{lnR_mean_ext_z}': \n",
    "        fig.suptitle('Modelo Estendido (z)')\n",
    "    else: \n",
    "        pass\n",
    "        \n",
    "    plt.show()\n"
   ]
  },
  {
   "cell_type": "code",
   "execution_count": null,
   "id": "788eab15-7a9e-4381-9932-df7a025745e2",
   "metadata": {
    "tags": []
   },
   "outputs": [],
   "source": [
    "#Plot_model(lnR_mean_ascaso, data_train) #Ascaso"
   ]
  },
  {
   "cell_type": "code",
   "execution_count": null,
   "id": "0b7adceb-c2bc-4792-b72c-35481848adb9",
   "metadata": {
    "tags": []
   },
   "outputs": [],
   "source": [
    "Plot_model(lnR_mean_ext_ln1pz, data_train) #Extended (ln(1 + z)) \n",
    "\n",
    "Plot_model(lnR_mean_ext_z, data_train)\n",
    "\n",
    "plt.show()\n"
   ]
  },
  {
   "cell_type": "markdown",
   "id": "d01e5d75-a38c-4849-814a-12c8bcac83ab",
   "metadata": {
    "tags": []
   },
   "source": [
    "## Cross Validation\n",
    "\n",
    "- Relative error:\n",
    "\n",
    "\\begin{equation}\n",
    "Rel\\_err = \\frac{\\left<\\ln R_i | M_i, z_i \\right> - {\\mu^{i}}_{lnR}}{{\\mu^{i}}_{lnR}}\n",
    "\\end{equation}\n",
    "\n",
    "- Mean Square Error (MSE):\n",
    "\n",
    "\\begin{equation}\n",
    "MSE = \\frac{1}{N} \\sum^{N} ({\\mu^{i}}_{lnR} - \\left<\\ln R_i | M_i, z_i \\right> )^2\n",
    "\\end{equation}\n",
    "\n",
    "- Root Mean Square Error (RMSE):\n",
    "\n",
    "\\begin{equation}\n",
    "RMSE = \\sqrt{MSE}\n",
    "\\end{equation}\n"
   ]
  },
  {
   "cell_type": "code",
   "execution_count": null,
   "id": "582d0457-5319-4aed-86fc-04e3fcb056d2",
   "metadata": {
    "tags": []
   },
   "outputs": [],
   "source": [
    "bin_f= bin_meanf(data_test)"
   ]
  },
  {
   "cell_type": "code",
   "execution_count": null,
   "id": "fea34f0c-ce74-46ce-99ee-53a086a5a8d8",
   "metadata": {
    "tags": []
   },
   "outputs": [],
   "source": [
    "# MEAN \n",
    "halos_mean = bin_f[0]\n",
    "\n",
    "lnR_test = np.log(halos_mean[\"richness\"])\n",
    "lnM_test = np.log(halos_mean[\"m200c\"])\n",
    "z_test = halos_mean[\"redshift_true\"]\n",
    "\n",
    "ascaso_mean_valid = np.array( [ascaso.get_mean_richness(lnM_test[i], z_test[i]) for i in range(len(lnR_test))])\n",
    "ext_ln1pz_mean_valid = np.array([ext_ln1pz.get_mean_richness(lnM_test[i], z_test[i]) for i in range(len(lnR_test))])\n",
    "\n",
    "#Relative Error: mean\n",
    "plt.scatter(ascaso_mean_valid, (ascaso_mean_valid - lnR_test)/ lnR_test, c='#845EC2', alpha=0.7, label='Ascaso')\n",
    "plt.scatter(ext_ln1pz_mean_valid, (ext_ln1pz_mean_valid - lnR_test)/ lnR_test, c='#008F7A', alpha=0.7, label='Modelo Estendido (ln(1 + z))')\n",
    "plt.xlabel('Predição', size=14)\n",
    "plt.ylabel('Erro Relativo', size=14)\n",
    "plt.title('Erro relativo da média')\n",
    "plt.legend()\n",
    "plt.show()"
   ]
  },
  {
   "cell_type": "code",
   "execution_count": null,
   "id": "0d24983b-1d51-42dc-afb3-76209170f9a1",
   "metadata": {
    "tags": []
   },
   "outputs": [],
   "source": [
    "fig = plt.figure(figsize=(10,3))\n",
    "ax1=plt.subplot(121)\n",
    "ax2=plt.subplot(122)\n",
    "\n",
    "ax1.hist((ascaso_mean_valid - lnR_test)/ lnR_test, bins=70, color='#008F7A')\n",
    "ax1.set_title('Ascaso')\n",
    "\n",
    "ax2.hist((ext_ln1pz_mean_valid - lnR_test)/ lnR_test, bins=70, color='#008F7A')\n",
    "ax2.set_title('Modelo Estendido (ln(1 + z))')\n",
    "\n",
    "\n",
    "plt.show()"
   ]
  },
  {
   "cell_type": "code",
   "execution_count": null,
   "id": "81638319-b5a6-4582-a87b-3d7476459cf9",
   "metadata": {
    "tags": []
   },
   "outputs": [],
   "source": [
    "MSE_ascaso = sum((lnR_test - ascaso_mean_valid) ** 2) / len(ascaso_mean_valid)\n",
    "RMSE_ascaso = np.sqrt(MSE_ascaso)\n",
    "\n",
    "MSE_ext_ln1pz = sum((lnR_test - ext_ln1pz_mean_valid) ** 2) / len(ext_ln1pz_mean_valid)\n",
    "RMSE_ext_ln1pz = np.sqrt(MSE_ext_ln1pz )\n",
    "\n",
    "print(MSE_ascaso, RMSE_ascaso)\n",
    "print(MSE_ext_ln1pz, RMSE_ext_ln1pz)"
   ]
  },
  {
   "cell_type": "code",
   "execution_count": null,
   "id": "c714fd22-abaf-4d03-8be1-a34a17af3fe8",
   "metadata": {
    "tags": []
   },
   "outputs": [],
   "source": [
    "from sklearn.metrics import mean_absolute_percentage_error\n",
    "\n",
    "print(mean_absolute_percentage_error(lnR_test, ascaso_mean_valid) * 100) \n",
    "print(mean_absolute_percentage_error(lnR_test, ext_ln1pz_mean_valid) * 100) "
   ]
  },
  {
   "cell_type": "code",
   "execution_count": null,
   "id": "98d8dd74-4b42-456e-8e98-bdd1adb35684",
   "metadata": {
    "tags": []
   },
   "outputs": [],
   "source": [
    "# STD \n",
    "lnR_test_std = bin_f[4]\n",
    "\n",
    "ascaso_std_valid = np.array([ascaso.get_std_richness(lnM_test[i], z_test[i]) for i in range(len(lnR_test_std))])\n",
    "ext_ln1pz_std_valid = np.array([ext_ln1pz.get_std_richness(lnM_test[i], z_test[i]) for i in range(len(lnR_test_std))])\n",
    "\n",
    "#Relative Error: std\n",
    "a_err = (ascaso_std_valid - lnR_test_std)/ lnR_test_std\n",
    "e_err = (ext_ln1pz_std_valid - lnR_test_std)/ lnR_test_std\n",
    "\n",
    "cut =np.abs(a_err) < 200.0\n",
    "\n",
    "a_err = a_err[cut]\n",
    "ascaso_std_valid = ascaso_std_valid[cut]\n",
    "\n",
    "cut2 = np.abs(e_err) < 200.0\n",
    "\n",
    "e_err = e_err[cut2]\n",
    "ext_ln1pz_std_valid = ext_ln1pz_std_valid[cut2]\n",
    "\n",
    "plt.scatter(ascaso_std_valid, a_err, c='#845EC2', alpha=0.7, label='Ascaso')\n",
    "plt.scatter(ext_ln1pz_std_valid, e_err, c='#008F7A', alpha=0.7, label='Modelo Estendido (ln(1 + z))')\n",
    "\n",
    "plt.xlabel('Predição', size=14)\n",
    "plt.ylabel('Erro Relativo', size=14)\n",
    "plt.title('Erro relativo do desvio padrão')\n",
    "plt.show()"
   ]
  },
  {
   "cell_type": "code",
   "execution_count": null,
   "id": "4af6691e-9cfd-4449-ba83-8682bef76d27",
   "metadata": {
    "tags": []
   },
   "outputs": [],
   "source": [
    "lnR_test_std = bin_f[4]\n",
    "ascaso_std_valid = np.array([ascaso.get_std_richness(lnM_test[i], z_test[i]) for i in range(len(lnR_test_std))])\n",
    "ext_ln1pz_std_valid = np.array([ext_ln1pz.get_std_richness(lnM_test[i], z_test[i]) for i in range(len(lnR_test_std))])\n",
    "\n",
    "a_err = (ascaso_std_valid - lnR_test_std)/ lnR_test_std\n",
    "e_err = (ext_ln1pz_std_valid - lnR_test_std)/ lnR_test_std\n",
    "\n",
    "cut =np.abs(a_err) < 200.0\n",
    "a_err = a_err[cut]\n",
    "ascaso_std_valid = ascaso_std_valid[cut]\n",
    "lnR_test_std = lnR_test_std[cut]\n",
    "\n",
    "MSE_ascaso_std = sum((ascaso_std_valid - lnR_test_std) ** 2) / len(ascaso_std_valid)\n",
    "RMSE_ascaso_std = np.sqrt(MSE_ascaso_std)\n",
    "\n",
    "lnR_test_std = bin_f[4]\n",
    "cut2 = np.abs(e_err) < 200.0\n",
    "e_err = e_err[cut2]\n",
    "ext_ln1pz_std_valid = ext_ln1pz_std_valid[cut2]\n",
    "lnR_test_std = lnR_test_std[cut2]\n",
    "\n",
    "MSE_ext_ln1pz_std = sum((ext_ln1pz_std_valid - lnR_test_std) ** 2) / len(ext_ln1pz_std_valid)\n",
    "RMSE_ext_ln1pz_std = np.sqrt(MSE_ext_ln1pz_std )\n",
    "\n",
    "print(MSE_ascaso_std, RMSE_ascaso_std)\n",
    "print(MSE_ext_ln1pz_std, RMSE_ext_ln1pz_std)"
   ]
  },
  {
   "cell_type": "markdown",
   "id": "cd55e175-3085-4d0a-98f8-c8f9de7cb817",
   "metadata": {},
   "source": [
    "## Residuals\n",
    "\n",
    "\\begin{equation}\n",
    "{\\textbf{res}} = \\left\\{ \\frac{\\ln R_i - \\left<\\ln R_i | M_i, z_i \\right>}{\\sigma_{\\ln R_i}} \\right\\}{, \\ i = 1, 2, 3, ...}\n",
    "\\end{equation}"
   ]
  },
  {
   "cell_type": "code",
   "execution_count": null,
   "id": "b35d31cf-5acc-467c-8288-171bada18800",
   "metadata": {},
   "outputs": [],
   "source": [
    "halos_mean = bin_f[0]\n",
    "\n",
    "lnR_test = np.log(halos_mean[\"richness\"])\n",
    "lnM_test = np.log(halos_mean[\"m200c\"])\n",
    "z_test = halos_mean[\"redshift_true\"]\n",
    "\n",
    "ascaso_mean_valid = np.array( [ascaso.get_mean_richness(lnM_test[i], z_test[i]) for i in range(len(lnR_test))])\n",
    "ext_ln1pz_mean_valid = np.array([ext_ln1pz.get_mean_richness(lnM_test[i], z_test[i]) for i in range(len(lnR_test))])\n",
    "\n",
    "ascaso_std_valid = np.array([ascaso.get_std_richness(lnM_test[i], z_test[i]) for i in range(len(lnR_test))])\n",
    "ext_ln1pz_std_valid = np.array([ext_ln1pz.get_std_richness(lnM_test[i], z_test[i]) for i in range(len(lnR_test))])"
   ]
  },
  {
   "cell_type": "code",
   "execution_count": null,
   "id": "bcc37e7f-4898-43e5-92a3-4ce654a7639d",
   "metadata": {},
   "outputs": [],
   "source": [
    "fig = plt.figure(figsize=(10,3))\n",
    "ax1=plt.subplot(121)\n",
    "ax2=plt.subplot(122)\n",
    "\n",
    "ax1.hist((lnR_test - ascaso_mean_valid)/ ascaso_std_valid, bins=100, density='TRUE', color='green')\n",
    "ax1.set_title('Ascaso')\n",
    "\n",
    "ax2.hist((lnR_test - ext_ln1pz_mean_valid)/ ext_ln1pz_std_valid, bins=100, density='TRUE', color='green')\n",
    "ax2.set_title('Modelo Estendido (ln(1 + z))')\n",
    "\n",
    "plt.show()"
   ]
  },
  {
   "cell_type": "code",
   "execution_count": null,
   "id": "24712bb7-a825-4b42-b831-adcc31da0913",
   "metadata": {},
   "outputs": [],
   "source": [
    "fig = plt.figure(figsize=(12,4))\n",
    "ax1=plt.subplot(121)\n",
    "ax2=plt.subplot(122)\n",
    "\n",
    "ax1.scatter(z_test, (lnR_test - ascaso_mean_valid)/ ascaso_std_valid, c='#00C9A7')\n",
    "ax1.set_title('Resíduos <LnR| M, z>: Ascaso vs z')\n",
    "ax1.set_xlabel('z_test')\n",
    "ax1.set_ylabel('res')\n",
    "\n",
    "ax2.scatter(z_test, (lnR_test - ext_ln1pz_mean_valid)/ ext_ln1pz_std_valid, c='#00C9A7')\n",
    "ax2.set_title('Resíduos <LnR| M, z>: Modelo Estendido (ln(1 + z)) vs z')\n",
    "ax2.set_xlabel('z_test')\n",
    "ax2.set_ylabel('res')\n",
    "\n",
    "plt.show()"
   ]
  },
  {
   "cell_type": "code",
   "execution_count": null,
   "id": "463efc1c-3e90-46d2-8d30-6206600e6a07",
   "metadata": {
    "tags": []
   },
   "outputs": [],
   "source": [
    "fig = plt.figure(figsize=(12,4))\n",
    "ax1=plt.subplot(121)\n",
    "ax2=plt.subplot(122)\n",
    "\n",
    "ax1.scatter(lnM_test, (lnR_test - ascaso_mean_valid)/ ascaso_std_valid, c='#00C9A7')\n",
    "ax1.set_title('Resíduos <LnR| M, z>: Ascaso vs lnM')\n",
    "ax1.set_xlabel('lnM_test')\n",
    "ax1.set_ylabel('res')\n",
    "\n",
    "ax2.scatter(lnM_test, (lnR_test - ext_ln1pz_mean_valid)/ ext_ln1pz_std_valid, c='#00C9A7')\n",
    "ax2.set_title('Resíduos <LnR| M, z>: Modelo Estendido (ln(1 + z)) vs lnM')\n",
    "ax2.set_xlabel('lnM_test')\n",
    "ax2.set_ylabel('res')\n",
    "\n",
    "plt.show()"
   ]
  },
  {
   "cell_type": "code",
   "execution_count": null,
   "id": "20a36e08-3c8f-41fb-9b92-6f9dee77dd69",
   "metadata": {},
   "outputs": [],
   "source": []
  },
  {
   "cell_type": "code",
   "execution_count": null,
   "id": "42959e80-de32-425c-924a-184db0962551",
   "metadata": {},
   "outputs": [],
   "source": []
  },
  {
   "cell_type": "code",
   "execution_count": null,
   "id": "ddb29aaf-956c-4e13-9b43-2f1aa8e0ea98",
   "metadata": {},
   "outputs": [],
   "source": []
  }
 ],
 "metadata": {
  "kernelspec": {
   "display_name": "numcosmo",
   "language": "python",
   "name": "numcosmo"
  },
  "language_info": {
   "codemirror_mode": {
    "name": "ipython",
    "version": 3
   },
   "file_extension": ".py",
   "mimetype": "text/x-python",
   "name": "python",
   "nbconvert_exporter": "python",
   "pygments_lexer": "ipython3",
   "version": "3.11.5"
  }
 },
 "nbformat": 4,
 "nbformat_minor": 5
}
