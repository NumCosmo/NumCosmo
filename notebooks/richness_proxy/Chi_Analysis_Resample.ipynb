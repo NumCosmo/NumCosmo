{
 "cells": [
  {
   "cell_type": "markdown",
   "id": "168fb654-ff81-4369-a517-d486ea878845",
   "metadata": {
    "tags": []
   },
   "source": [
    "# Chi Analysis with Resampling\n",
    "\n",
    "\n",
    "---\n",
    "**License**\n",
    "\n",
    "Chi Analysis with Resampling\n",
    "\n",
    " Fri Mar 14 08:50:00 2025\\\n",
    " Copyright  2025\\\n",
    " Cinthia Nunes de Lima <cinthia.n.lima@uel.br> \\ Sandro Dias Pinto Vitenti <vitenti@uel.br>\n",
    "\n",
    "---\n",
    "---\n",
    "\n",
    " Chi_Analysis_Resample \\\n",
    " Copyright (C) 2024 Cinthia Nunes de Lima <cinthia.n.lima@uel.br>, Sandro Dias Pinto Vitenti <vitenti@uel.br>\n",
    "\n",
    " numcosmo is free software: you can redistribute it and/or modify it\n",
    " under the terms of the GNU General Public License as published by the\n",
    " Free Software Foundation, either version 3 of the License, or\n",
    " (at your option) any later version.\n",
    "\n",
    " numcosmo is distributed in the hope that it will be useful, but\n",
    " WITHOUT ANY WARRANTY; without even the implied warranty of\n",
    " MERCHANTABILITY or FITNESS FOR A PARTICULAR PURPOSE.\n",
    " See the GNU General Public License for more details.\n",
    "\n",
    " You should have received a copy of the GNU General Public License along\n",
    " with this program.  If not, see <http://www.gnu.org/licenses/>.\n",
    " \n",
    "---"
   ]
  },
  {
   "cell_type": "markdown",
   "id": "c84293d5-1267-46ca-83e6-dc0e6d742531",
   "metadata": {
    "tags": []
   },
   "source": [
    "## Packages & Configs"
   ]
  },
  {
   "cell_type": "code",
   "execution_count": 1,
   "id": "2a5a5716-e6ab-4a26-8690-4d3025458eba",
   "metadata": {
    "tags": []
   },
   "outputs": [],
   "source": [
    "import sys\n",
    "sys.path.insert(0, \"/global/homes/c/cinlima/NumCosmo/notebooks/richness_proxy/\")\n",
    "sys.path.insert(0, \"/global/homes/c/cinlima/NumCosmo/notebooks/richness_proxy/Scripts\")\n",
    "\n",
    "#NumCosmo\n",
    "from numcosmo_py import Ncm, Nc, GObject\n",
    "from richness_mass_calib import create_richness_mass_calib\n",
    "\n",
    "Ncm.cfg_init()\n",
    "Ncm.cfg_set_log_handler(lambda msg: sys.stdout.write(msg) and sys.stdout.flush())\n",
    "\n",
    "#Useful packages\n",
    "import numpy as np\n",
    "import math\n",
    "from astropy.io import fits\n",
    "from astropy.table import Table\n",
    "import pandas as pd\n",
    "import matplotlib\n",
    "import matplotlib.pyplot as plt\n",
    "\n",
    "# GCRCatalogs\n",
    "sys.path.insert(0, \"/global/homes/c/cinlima/gcrcatalogs-new/gcr-catalogs\")\n",
    "import GCRCatalogs\n",
    "GCRCatalogs.set_root_dir_by_site(\"nersc\")\n",
    "\n",
    "#Calibration functions\n",
    "from bdata import DataB\n",
    "from model_fitting import ModelFitting"
   ]
  },
  {
   "cell_type": "markdown",
   "id": "a4768792-ded3-4ca6-9097-199893e3dc35",
   "metadata": {
    "jp-MarkdownHeadingCollapsed": true,
    "tags": []
   },
   "source": [
    "## Data"
   ]
  },
  {
   "cell_type": "markdown",
   "id": "59875521-e868-417f-94fe-735ef5ae896a",
   "metadata": {
    "jp-MarkdownHeadingCollapsed": true
   },
   "source": [
    "### Clevar"
   ]
  },
  {
   "cell_type": "code",
   "execution_count": 2,
   "id": "cf9524c0-2b07-4a75-9c87-64642c8a79d4",
   "metadata": {},
   "outputs": [],
   "source": [
    "# CLEVAR\n",
    "\n",
    "# min_richness = 5\n",
    "# min_halo_mass = 1e13 #Msun\n",
    "\n",
    "# Halos/Clusters\n",
    "# #CosmoDC2 + RedMaPPer: 'cosmoDC2_v1.1.4_redmapper_v0.8.1'\n",
    "# RM_cat = ClCatalog.read('/global/homes/c/cinlima/NumCosmo/notebooks/richness_proxy/CDC2Data/RM_cat_richness_min_'+str(min_richness)+'.fits', name='RM_cat', full=True, tags={'mass':'richness'})\n",
    "\n",
    "# #CosmoDC2: 'cosmoDC2_v1.1.4_image'\n",
    "# halo_cat = ClCatalog.read('/global/homes/c/cinlima/NumCosmo/notebooks/richness_proxy/CDC2Data/halo_cat_mass_min_'+f\"{min_halo_mass:1.2e}\"+'.fits', name='halo_cat', full=True, tags={'mass':'mass_fof'})\n",
    "\n",
    "# #Members\n",
    "# RM_cat.read_members('/global/homes/c/cinlima/NumCosmo/notebooks/richness_proxy/CDC2Data/RM_cat_richness_min_'+str(min_richness)+'_members.fits',  full=True)\n",
    "# halo_cat.read_members('/global/homes/c/cinlima/NumCosmo/notebooks/richness_proxy/CDC2Data/halo_cat_mass_min_'+f\"{min_halo_mass:1.2e}\"+'_members.fits', full=True)\n",
    "\n",
    "# #Match catalogs\n",
    "# mt = MembershipMatch()\n",
    "\n",
    "# mt.load_matches(RM_cat, halo_cat, out_dir='/global/homes/c/cinlima/NumCosmo/notebooks/richness_proxy/CDC2Data/cosmoDC2_RM_match_cross_membership')\n"
   ]
  },
  {
   "cell_type": "markdown",
   "id": "745d0532-c0ee-4507-86f1-ade04a16b18d",
   "metadata": {
    "jp-MarkdownHeadingCollapsed": true
   },
   "source": [
    "### Data matched by ID"
   ]
  },
  {
   "cell_type": "code",
   "execution_count": 3,
   "id": "3f52de91-6c4d-4cf9-94ad-a312f2666724",
   "metadata": {},
   "outputs": [],
   "source": [
    "# test_matchdata = Table.read('CatalogsMatching/match_ID.fits')\n",
    "\n",
    "# rich_data = test_matchdata[\"richness\"]\n",
    "# z_data = test_matchdata[\"redshift\"]\n",
    "# mass_data = test_matchdata[\"halo_mass\"]\n",
    "# r_err_data = test_matchdata[\"richness_err\"]\n",
    "\n",
    "# test_dt = Table([mass_data, rich_data, z_data, r_err_data], names=('mass', 'richness', 'redshift', 'richness_err'))\n"
   ]
  },
  {
   "cell_type": "markdown",
   "id": "e731b531-c661-4387-872c-2e1895921218",
   "metadata": {
    "jp-MarkdownHeadingCollapsed": true
   },
   "source": [
    "### NumCosmo's Matching By Proximity"
   ]
  },
  {
   "cell_type": "code",
   "execution_count": 4,
   "id": "6a74d628-6d60-4aa6-9d49-d3795552ab08",
   "metadata": {},
   "outputs": [],
   "source": [
    "mdata = Table.read('CatalogsMatching/match_proximity.fits')\n",
    "\n",
    "rich_data = mdata[\"R\"]\n",
    "z_data = mdata[\"z\"]\n",
    "mass_data = mdata[\"mass\"]\n",
    "\n",
    "test_dt = Table([mass_data, rich_data, z_data], names=('mass', 'richness', 'redshift'))\n"
   ]
  },
  {
   "cell_type": "markdown",
   "id": "2cb2d828-0ceb-4364-9af2-53c0dae1cad8",
   "metadata": {},
   "source": [
    "### Data threshold"
   ]
  },
  {
   "cell_type": "code",
   "execution_count": 5,
   "id": "8cc5776d-d116-47a1-a1e0-5b966a3cce1d",
   "metadata": {
    "tags": []
   },
   "outputs": [
    {
     "name": "stdout",
     "output_type": "stream",
     "text": [
      "Data\n",
      "\t\tMax \t\t\tMin\n",
      "Mass:\t\t1.90e+15, \t\t1.00e+13\n",
      "Redshift:\t1.1764284278635397, \t0.09084865138884513\n",
      "Richness:\t266.2950439453125, \t5.007844924926758\n"
     ]
    }
   ],
   "source": [
    "test_dt = test_dt[test_dt['mass'] > 1e13]\n",
    "test_dt = test_dt[np.logical_and(test_dt['redshift'] > 0, test_dt['redshift']< 3)]\n",
    "test_dt = test_dt[np.logical_and(test_dt['richness'] > 0, test_dt['richness'] < 1e10)]\n",
    "\n",
    "mass_dt = test_dt['mass']\n",
    "red_dt = test_dt['redshift']\n",
    "rich_dt = test_dt['richness']\n",
    "\n",
    "print('Data')\n",
    "print('\\t\\tMax \\t\\t\\tMin')\n",
    "print(f'Mass:\\t\\t{max(mass_dt):.2e}, \\t\\t{min(mass_dt):.2e}')\n",
    "print(f'Redshift:\\t{max(red_dt)}, \\t{min(red_dt)}')\n",
    "print(f'Richness:\\t{max(rich_dt)}, \\t{min(rich_dt)}')\n",
    "\n"
   ]
  },
  {
   "cell_type": "markdown",
   "id": "440aabca-6cf8-4c31-a811-2ead25474a33",
   "metadata": {
    "jp-MarkdownHeadingCollapsed": true
   },
   "source": [
    "### Binning"
   ]
  },
  {
   "cell_type": "code",
   "execution_count": 6,
   "id": "0c6ed9cf-3a3c-4dcf-ba35-312a3c18f1f2",
   "metadata": {
    "tags": []
   },
   "outputs": [],
   "source": [
    "# #Length of bins\n",
    "# zl = 0.05\n",
    "# ml = 0.05\n",
    "# bd = DataB(test_dt, zl, ml)\n",
    "# binned_mean = bd.get_bins_mean()\n",
    "# binned_std = bd.get_bins_std()\n",
    "\n",
    "# lnM_binned_mean = np.log(binned_mean['mass'])\n",
    "# z_binned_mean = binned_mean['redshift']\n",
    "# lnR_binned_mean = np.log(binned_mean['richness'])\n",
    "\n",
    "# print(f'Total bins in binned_mean: {len(bd.get_bins_mean())}')\n"
   ]
  },
  {
   "cell_type": "markdown",
   "id": "35a2b336-6d02-4c25-afbe-299c86067495",
   "metadata": {
    "tags": []
   },
   "source": [
    "## Models fitting"
   ]
  },
  {
   "cell_type": "markdown",
   "id": "3ff6d270-7248-4fb0-be59-03e0fd64dff3",
   "metadata": {},
   "source": [
    "### Resampling"
   ]
  },
  {
   "cell_type": "code",
   "execution_count": 7,
   "id": "8ec6f68a-7a44-4ce5-85b4-36620644e49f",
   "metadata": {},
   "outputs": [],
   "source": [
    "#Resampling\n",
    "\n",
    "def resample(dmr, cluster_m):\n",
    "\n",
    "    area = 439.78987\n",
    "    cosmo = Nc.HICosmoDEXcdm()\n",
    "    cosmo.omega_x2omega_k()\n",
    "    cosmo.param_set_by_name(\"H0\", 71.0)\n",
    "    cosmo.param_set_by_name(\"Omegab\", 0.0448)\n",
    "    cosmo.param_set_by_name(\"Omegac\", 0.2648)\n",
    "    cosmo.param_set_by_name(\"Omegak\", 0.00)\n",
    "    cosmo.param_set_by_name(\"w\", -1.0)\n",
    "       \n",
    "    cluster_m.param_set_by_name(\"cut\", np.log(5))\n",
    "\n",
    "    # print(cluster_m.param_get_by_name(\"mup0\"))\n",
    "\n",
    "    cluster_m.param_set_by_name(\"mup0\", cluster_m.param_get_by_name(\"mup0\"))\n",
    "    cluster_m.param_set_by_name(\"mup1\", cluster_m.param_get_by_name(\"mup1\"))\n",
    "    cluster_m.param_set_by_name(\"mup2\", cluster_m.param_get_by_name(\"mup2\"))\n",
    "    cluster_m.param_set_by_name(\"sigmap0\", cluster_m.param_get_by_name(\"sigmap0\"))\n",
    "    cluster_m.param_set_by_name(\"sigmap1\", cluster_m.param_get_by_name(\"sigmap1\"))\n",
    "    cluster_m.param_set_by_name(\"sigmap2\", cluster_m.param_get_by_name(\"sigmap2\"))\n",
    "    \n",
    "    cluster_z = Nc.ClusterRedshiftNodist (z_min = 0, z_max = 1.2)\n",
    "    \n",
    "    mset = Ncm.MSet.new_array([cosmo, cluster_m, cluster_z])\n",
    "    mset.prepare_fparam_map()\n",
    "\n",
    "    # mset.pretty_log()\n",
    "\n",
    "    print(mset[\"NcClusterMass\"][\"mup0\"])\n",
    "    \n",
    "    rng = Ncm.RNG.seeded_new(None, 40)\n",
    "    \n",
    "    dmr.resample(mset, rng)\n",
    "    \n",
    "    R_resample = np.exp( dmr.props.lnR_cluster.dup_array() )\n",
    "    M_resample = np.exp( dmr.props.lnM_cluster.dup_array() )\n",
    "    z_resample = dmr.props.z_cluster.dup_array()\n",
    "    \n",
    "    return Table([M_resample, R_resample, z_resample], names=('mass', 'richness', 'redshift'))\n",
    "\n",
    "\n",
    "catalog_len = len(test_dt)\n",
    "\n",
    "lnM_v = Ncm.Vector.new(catalog_len)\n",
    "z_v = Ncm.Vector.new(catalog_len)\n",
    "rich_v = Ncm.Vector.new(catalog_len)\n",
    "\n",
    "for i, mass in enumerate(test_dt['mass']):\n",
    "    lnM_v.set(i, np.log(mass))\n",
    "\n",
    "for i, z in enumerate(test_dt['redshift']):\n",
    "    z_v.set(i, z)\n",
    "\n",
    "for i, rich in enumerate(test_dt['richness']):\n",
    "    rich_v.set(i, np.log(rich))\n",
    "\n",
    "dmr = Nc.DataClusterMassRich.new()\n",
    "dmr.set_data(lnM_v, z_v, rich_v)\n"
   ]
  },
  {
   "cell_type": "code",
   "execution_count": 8,
   "id": "84836233-db5d-4166-93ed-63f7a42067b0",
   "metadata": {},
   "outputs": [],
   "source": [
    "fm = ModelFitting(test_dt) #Fit object"
   ]
  },
  {
   "cell_type": "markdown",
   "id": "31df008d-6304-4ec5-935f-56625010b760",
   "metadata": {
    "tags": []
   },
   "source": [
    "### Ascaso Fit Params"
   ]
  },
  {
   "cell_type": "code",
   "execution_count": 9,
   "id": "61c5cb06-e41b-4743-ad29-9053023cf426",
   "metadata": {
    "scrolled": true,
    "tags": []
   },
   "outputs": [
    {
     "name": "stdout",
     "output_type": "stream",
     "text": [
      "#----------------------------------------------------------------------------------\n",
      "# Data used:\n",
      "#   - NcDataClusterMassRich\n",
      "#----------------------------------------------------------------------------------\n",
      "# Model[09000]:\n",
      "#   - NcClusterMass : Ascaso Ln-normal richness distribution\n",
      "#----------------------------------------------------------------------------------\n",
      "# Model parameters\n",
      "#   -    mup0[00]:  4.13105590509304    [FREE]\n",
      "#   -    mup1[01]:  1.13308187730147    [FREE]\n",
      "#   -    mup2[02]:  0.306956374740925   [FREE]\n",
      "#   - sigmap0[03]:  0.458272586294436   [FREE]\n",
      "#   - sigmap1[04]: -0.0720333832727466  [FREE]\n",
      "#   - sigmap2[05]: -0.0777155254988554  [FREE]\n",
      "#   -     cut[06]:  1.6094379124341     [FIXED]\n",
      "#----------------------------------------------------------------------------------\n",
      "# Model fitting. Interating using:\n",
      "#  - solver:            NLOpt:ln-neldermead\n",
      "#  - differentiation:   Numerical differentiantion (central)\n",
      "#.........................\n",
      "#  Minimum found with precision: |df|/f =  1.00000e-08 and |dx| =  1.00000e-05\n",
      "#  Elapsed time: 00 days, 00:00:00.6791700\n",
      "#  iteration            [000167]\n",
      "#  function evaluations [000169]\n",
      "#  gradient evaluations [000000]\n",
      "#  degrees of freedom   [026851]\n",
      "#  m2lnL     =    -149.357479698636 (    -149.35748 )\n",
      "#  Fit parameters:\n",
      " 4.13105590509304       1.13308187730147       0.306956374740925      0.458272586294436     -0.0720333832727466    -0.0777155254988554    \n",
      "#----------------------------------------------------------------------------------\n",
      "# Restarting:              no\n",
      "#  - absolute improvement: 0                     \n",
      "#  - relative improvement: -0                    \n",
      "#  - m2lnL_0  :            -149.357479698636     \n",
      "#  - m2lnL_1  :            -149.357479698636     \n",
      "#----------------------------------------------------------------------------------\n",
      "# Data used:\n",
      "#   - NcDataClusterMassRich\n",
      "#----------------------------------------------------------------------------------\n",
      "# Model[09000]:\n",
      "#   - NcClusterMass : Ascaso Ln-normal richness distribution\n",
      "#----------------------------------------------------------------------------------\n",
      "# Model parameters\n",
      "#   -    mup0[00]:  4.13105590509304    [FREE]\n",
      "#   -    mup1[01]:  1.13308187730147    [FREE]\n",
      "#   -    mup2[02]:  0.306956374740925   [FREE]\n",
      "#   - sigmap0[03]:  0.458272586294436   [FREE]\n",
      "#   - sigmap1[04]: -0.0720333832727466  [FREE]\n",
      "#   - sigmap2[05]: -0.0777155254988554  [FREE]\n",
      "#   -     cut[06]:  1.6094379124341     [FIXED]\n"
     ]
    }
   ],
   "source": [
    "ascaso, fit_ascaso = fm.run_fit('ascaso')"
   ]
  },
  {
   "cell_type": "code",
   "execution_count": 10,
   "id": "7b3b606a-bccd-4636-9e34-db86c603c600",
   "metadata": {},
   "outputs": [
    {
     "name": "stdout",
     "output_type": "stream",
     "text": [
      "#----------------------------------------------------------------------------------\n",
      "# Model[09000]:\n",
      "#   - NcClusterMass : Ascaso Ln-normal richness distribution\n",
      "#----------------------------------------------------------------------------------\n",
      "# Model parameters\n",
      "#   -    mup0[00]:  4.13105590509304    [FIXED]\n",
      "#   -    mup1[01]:  1.13308187730147    [FIXED]\n",
      "#   -    mup2[02]:  0.306956374740925   [FIXED]\n",
      "#   - sigmap0[03]:  0.458272586294436   [FIXED]\n",
      "#   - sigmap1[04]: -0.0720333832727466  [FIXED]\n",
      "#   - sigmap2[05]: -0.0777155254988554  [FIXED]\n",
      "#   -     cut[06]:  1.6094379124341     [FIXED]\n"
     ]
    }
   ],
   "source": [
    "m_ascaso = Ncm.MSet.new_array([ascaso])\n",
    "m_ascaso.pretty_log()"
   ]
  },
  {
   "cell_type": "code",
   "execution_count": 12,
   "id": "bf208a80-27c7-44ff-a137-569a6b3294f1",
   "metadata": {},
   "outputs": [
    {
     "name": "stdout",
     "output_type": "stream",
     "text": [
      "#----------------------------------------------------------------------------------\n",
      "# Model[03000]:\n",
      "#   - NcHICosmo : XCDM - Constant EOS\n",
      "#----------------------------------------------------------------------------------\n",
      "# Model parameters\n",
      "#   -      H0[00]:  71                  [FIXED]\n",
      "#   -  Omegac[01]:  0.2648              [FIXED]\n",
      "#   -  Omegak[02]:  0                   [FIXED]\n",
      "#   - Tgamma0[03]:  2.7245              [FIXED]\n",
      "#   -      Yp[04]:  0.24                [FIXED]\n",
      "#   -    ENnu[05]:  3.046               [FIXED]\n",
      "#   -  Omegab[06]:  0.0448              [FIXED]\n",
      "#   -       w[07]: -1                   [FIXED]\n",
      "#----------------------------------------------------------------------------------\n",
      "# Model[09000]:\n",
      "#   - NcClusterMass : Ascaso Ln-normal richness distribution\n",
      "#----------------------------------------------------------------------------------\n",
      "# Model parameters\n",
      "#   -    mup0[00]:  4.13105590509304    [FREE]\n",
      "#   -    mup1[01]:  1.13308187730147    [FREE]\n",
      "#   -    mup2[02]:  0.306956374740925   [FREE]\n",
      "#   - sigmap0[03]:  0.458272586294436   [FREE]\n",
      "#   - sigmap1[04]: -0.0720333832727466  [FREE]\n",
      "#   - sigmap2[05]: -0.0777155254988554  [FREE]\n",
      "#   -     cut[06]:  1.6094379124341     [FIXED]\n",
      "#----------------------------------------------------------------------------------\n",
      "# Model[10000]:\n",
      "#   - NcClusterRedshift : No redshift distribution\n",
      "#----------------------------------------------------------------------------------\n",
      "# Model parameters\n"
     ]
    }
   ],
   "source": [
    "area = 439.78987\n",
    "cosmo = Nc.HICosmoDEXcdm()\n",
    "cosmo.omega_x2omega_k()\n",
    "cosmo.param_set_by_name(\"H0\", 71.0)\n",
    "cosmo.param_set_by_name(\"Omegab\", 0.0448)\n",
    "cosmo.param_set_by_name(\"Omegac\", 0.2648)\n",
    "cosmo.param_set_by_name(\"Omegak\", 0.00)\n",
    "cosmo.param_set_by_name(\"w\", -1.0)\n",
    "\n",
    "ascaso.param_set_by_name(\"cut\", np.log(5))\n",
    "ascaso.param_set_by_name(\"mup0\", ascaso.param_get_by_name(\"mup0\"))\n",
    "ascaso.param_set_by_name(\"mup1\", ascaso.param_get_by_name(\"mup1\"))\n",
    "ascaso.param_set_by_name(\"mup2\", ascaso.param_get_by_name(\"mup2\"))\n",
    "ascaso.param_set_by_name(\"sigmap0\", ascaso.param_get_by_name(\"sigmap0\"))\n",
    "ascaso.param_set_by_name(\"sigmap1\", ascaso.param_get_by_name(\"sigmap1\"))\n",
    "ascaso.param_set_by_name(\"sigmap2\", ascaso.param_get_by_name(\"sigmap2\"))\n",
    "    \n",
    "cluster_z = Nc.ClusterRedshiftNodist (z_min = 0, z_max = 1.2)\n",
    "    \n",
    "mset = Ncm.MSet.new_array([cosmo, ascaso, cluster_z])\n",
    "mset.prepare_fparam_map()\n",
    "\n",
    "mset.pretty_log()"
   ]
  },
  {
   "cell_type": "code",
   "execution_count": 13,
   "id": "93f5e531-9f75-425f-b411-482930147148",
   "metadata": {},
   "outputs": [],
   "source": [
    "rng = Ncm.RNG.seeded_new(None, 40)\n",
    "\n",
    "lnM_v = Ncm.Vector.new(len(test_dt))\n",
    "z_v = Ncm.Vector.new(len(test_dt))\n",
    "rich_v = Ncm.Vector.new(len(test_dt))\n",
    "\n",
    "for i, mass in enumerate(test_dt['mass']):\n",
    "    lnM_v.set(i, np.log(mass))\n",
    "\n",
    "for i, z in enumerate(test_dt['redshift']):\n",
    "    z_v.set(i, z)\n",
    "\n",
    "for i, rich in enumerate(test_dt['richness']):\n",
    "    rich_v.set(i, np.log(rich))\n",
    "\n",
    "dmr = Nc.DataClusterMassRich.new()\n",
    "dmr.set_data(lnM_v, z_v, rich_v)\n",
    "dmr.resample(mset, rng)\n",
    "    \n",
    "R_resample = np.exp( dmr.props.lnR_cluster.dup_array() )\n",
    "M_resample = np.exp( dmr.props.lnM_cluster.dup_array() )\n",
    "z_resample = dmr.props.z_cluster.dup_array()\n",
    "\n",
    "ascaso_r_data = Table([M_resample, R_resample, z_resample], names=('mass', 'richness', 'redshift'))"
   ]
  },
  {
   "cell_type": "code",
   "execution_count": 14,
   "id": "f4d2a10a-037e-40e9-8f5b-c01a9807c415",
   "metadata": {
    "scrolled": true
   },
   "outputs": [
    {
     "name": "stdout",
     "output_type": "stream",
     "text": [
      "#----------------------------------------------------------------------------------\n",
      "# Data used:\n",
      "#   - NcDataClusterMassRich\n",
      "#----------------------------------------------------------------------------------\n",
      "# Model[09000]:\n",
      "#   - NcClusterMass : Ascaso Ln-normal richness distribution\n",
      "#----------------------------------------------------------------------------------\n",
      "# Model parameters\n",
      "#   -    mup0[00]:  4.13105590509304    [FREE]\n",
      "#   -    mup1[01]:  1.13308187730147    [FREE]\n",
      "#   -    mup2[02]:  0.306956374740925   [FREE]\n",
      "#   - sigmap0[03]:  0.458272586294436   [FREE]\n",
      "#   - sigmap1[04]: -0.0720333832727466  [FREE]\n",
      "#   - sigmap2[05]: -0.0777155254988554  [FREE]\n",
      "#   -     cut[06]:  1.6094379124341     [FIXED]\n",
      "#----------------------------------------------------------------------------------\n",
      "# Model fitting. Interating using:\n",
      "#  - solver:            NLOpt:ln-neldermead\n",
      "#  - differentiation:   Numerical differentiantion (central)\n",
      "#...................................................................................................................................\n",
      "#  Minimum found with precision: |df|/f =  1.00000e-08 and |dx| =  1.00000e-05\n",
      "#  Elapsed time: 00 days, 00:00:05.4312260\n",
      "#  iteration            [001224]\n",
      "#  function evaluations [001226]\n",
      "#  gradient evaluations [000000]\n",
      "#  degrees of freedom   [026851]\n",
      "#  m2lnL     =    -1934.66355001952 (    -1934.6636 )\n",
      "#  Fit parameters:\n",
      " 3.09405214901312       0.182509553955235     -0.0482622266765456     0.555310701958037      0.109768135233198     -0.0488621614228998    \n",
      "#----------------------------------------------------------------------------------\n",
      "# Restarting:              yes\n",
      "#  - absolute improvement: 57740.504149737       \n",
      "#  - relative improvement: 1.03466776110222      \n",
      "#  - m2lnL_0  :            55805.8405997174      \n",
      "#  - m2lnL_1  :            -1934.66355001952     \n",
      "#----------------------------------------------------------------------------------\n",
      "# Model fitting. Interating using:\n",
      "#  - solver:            NLOpt:ln-neldermead\n",
      "#  - differentiation:   Numerical differentiantion (central)\n",
      "#..........................\n",
      "#  Minimum found with precision: |df|/f =  1.00000e-08 and |dx| =  1.00000e-05\n",
      "#  Elapsed time: 00 days, 00:00:00.8122110\n",
      "#  iteration            [000171]\n",
      "#  function evaluations [000173]\n",
      "#  gradient evaluations [000000]\n",
      "#  degrees of freedom   [026851]\n",
      "#  m2lnL     =    -1934.66356462042 (    -1934.6636 )\n",
      "#  Fit parameters:\n",
      " 3.09407017705491       0.182513004718246     -0.0482201133453966     0.555314410157489      0.109770496795196     -0.0488860417008461    \n",
      "#----------------------------------------------------------------------------------\n",
      "# Restarting:              no\n",
      "#  - absolute improvement: 1.46009033414884e-05  \n",
      "#  - relative improvement: -7.54699872302919e-09 \n",
      "#  - m2lnL_1  :            -1934.66355001952     \n",
      "#  - m2lnL_2  :            -1934.66356462042     \n",
      "#----------------------------------------------------------------------------------\n",
      "# Data used:\n",
      "#   - NcDataClusterMassRich\n",
      "#----------------------------------------------------------------------------------\n",
      "# Model[09000]:\n",
      "#   - NcClusterMass : Ascaso Ln-normal richness distribution\n",
      "#----------------------------------------------------------------------------------\n",
      "# Model parameters\n",
      "#   -    mup0[00]:  3.09407017705491    [FREE]\n",
      "#   -    mup1[01]:  0.182513004718246   [FREE]\n",
      "#   -    mup2[02]: -0.0482201133453966  [FREE]\n",
      "#   - sigmap0[03]:  0.555314410157489   [FREE]\n",
      "#   - sigmap1[04]:  0.109770496795196   [FREE]\n",
      "#   - sigmap2[05]: -0.0488860417008461  [FREE]\n",
      "#   -     cut[06]:  1.6094379124341     [FIXED]\n"
     ]
    }
   ],
   "source": [
    "fm_resample = ModelFitting(ascaso_r_data)\n",
    "ascaso_r = fm_resample.run_fit('ascaso')"
   ]
  },
  {
   "cell_type": "code",
   "execution_count": null,
   "id": "b97a8ad4-1e07-4c5b-bb76-99bb04678351",
   "metadata": {
    "scrolled": true
   },
   "outputs": [],
   "source": [
    "# ascaso_r_data = resample(dmr, ascaso)\n",
    "\n",
    "\n",
    "# model.param_set_by_name(\"cut\", np.log(5))\n",
    "# mset = Ncm.MSet()\n",
    "# mset.set(model)\n",
    "# rmdata.m2lnL_val(mset)  \n",
    "# mset.param_set_all_ftype(Ncm.ParamType.FREE) #All parameters free\n",
    "    \n",
    "# lh = Ncm.Likelihood.new(dmr)\n",
    "\n",
    "\n",
    "# ascaso_r_data\n",
    "\n",
    "\n",
    "plt.hist(np.log(test_dt['richness']), )\n",
    "plt.hist(np.log(ascaso_r_data['richness']), color = 'k')\n",
    "\n",
    "plt.show()"
   ]
  },
  {
   "cell_type": "code",
   "execution_count": null,
   "id": "bef4f3ce-24da-4262-a655-f93eebea60fc",
   "metadata": {
    "scrolled": true
   },
   "outputs": [],
   "source": [
    "fm_resample = ModelFitting(ascaso_r_data)\n",
    "ascaso_r = fm_resample.run_fit('ascaso')\n"
   ]
  },
  {
   "cell_type": "code",
   "execution_count": null,
   "id": "08ca47f4-bb79-403c-b3e9-64de3eccef64",
   "metadata": {},
   "outputs": [],
   "source": [
    "lnR_mean_ascaso = fm.get_mean_model(ascaso, np.log(test_dt['mass']),  test_dt['redshift'])\n",
    "lnR_std_ascaso = fm.get_std_model(ascaso, np.log(test_dt['mass']), test_dt['redshift'])\n",
    "\n",
    "lnR_mean_ascaso_r = fm_resample.get_mean_model(ascaso_r, np.log(ascaso_r_data['mass']),  ascaso_r_data['redshift'])\n",
    "lnR_std_ascaso_r = fm_resample.get_std_model(ascaso_r, np.log(ascaso_r_data['mass']), ascaso_r_data['redshift'])\n"
   ]
  },
  {
   "cell_type": "markdown",
   "id": "30064cab-46e7-4152-b8f7-a00d40370fe4",
   "metadata": {
    "tags": []
   },
   "source": [
    "### Ext (ln(1+z)) Fit Params"
   ]
  },
  {
   "cell_type": "code",
   "execution_count": null,
   "id": "a83e8d7e-cc74-46f2-83ac-fbeb2398eba4",
   "metadata": {
    "scrolled": true,
    "tags": []
   },
   "outputs": [],
   "source": [
    "ext_ln1pz, fit_ext = fm.run_fit('ext_ln1pz')"
   ]
  },
  {
   "cell_type": "code",
   "execution_count": null,
   "id": "f74b3665-199b-47a8-824f-04238634be12",
   "metadata": {},
   "outputs": [],
   "source": [
    "ext_ln1pz_r = Nc.ClusterMassLnrichExt(use_ln1pz = True, lnRichness_min=0, lnRichness_max=6)\n",
    "\n",
    "params = [\"mu\", \"muM1\", \"muZ1\", \"muM2\", \"muZ2\", \"muMZ\", \"sigma0\", \"sigmaM1\", \"sigmaZ1\", \"sigmaM2\", \"sigmaZ2\", \"sigmaMZ\"]\n",
    "for p in params:\n",
    "    ext_ln1pz_r.param_set_by_name(p, ext_ln1pz.param_get_by_name(p))\n",
    "\n",
    "ext_ln1pz_r.param_set_by_name(\"cut\", np.log(5))\n",
    "\n",
    "mset_ext_ln1pz_r = Ncm.MSet()\n",
    "mset_ext_ln1pz_r.set(ext_ln1pz_r)\n",
    "\n",
    "mset_ext_ln1pz_r.pretty_log()"
   ]
  },
  {
   "cell_type": "code",
   "execution_count": null,
   "id": "a0573bcb-f0b4-4b3f-acc0-2ec6cd94c1ee",
   "metadata": {},
   "outputs": [],
   "source": [
    "ext_ln1pz_r_data = resample(dmr, ext_ln1pz_r)"
   ]
  },
  {
   "cell_type": "code",
   "execution_count": null,
   "id": "0b5c4d6a-b422-46bc-a331-f07551bae9c1",
   "metadata": {},
   "outputs": [],
   "source": [
    "fm2 = FittingModel(test_dt_resampled)"
   ]
  },
  {
   "cell_type": "code",
   "execution_count": null,
   "id": "7b605bc9-0c27-406b-bdf8-a6ed3a091ae9",
   "metadata": {
    "scrolled": true
   },
   "outputs": [],
   "source": [
    "ext_ln1pz_r, fit_ext_r = fm2.run_fit('ext_ln1pz')"
   ]
  },
  {
   "cell_type": "code",
   "execution_count": null,
   "id": "294f851e-80eb-487a-b59b-fbbdbe1bae34",
   "metadata": {},
   "outputs": [],
   "source": [
    "lnR_mean_ext_ln1pz = fm.get_mean_model(ext_ln1pz,  np.log(test_dt['mass']), test_dt['redshift'])\n",
    "lnR_std_ext_ln1pz = fm.get_std_model(ext_ln1pz,  np.log(test_dt['mass']), test_dt['redshift'])\n",
    "\n",
    "lnR_mean_ext_ln1pz_r = fm2.get_mean_model(ext_ln1pz_r,  np.log(test_dt_resampled['mass']), test_dt_resampled['redshift'])\n",
    "lnR_std_ext_ln1pz_r = fm2.get_std_model(ext_ln1pz_r,  np.log(test_dt_resampled['mass']), test_dt_resampled['redshift'])\n"
   ]
  },
  {
   "cell_type": "markdown",
   "id": "d14c861c-df1c-4bea-b0b1-b4135bfe2558",
   "metadata": {},
   "source": [
    "## Errors"
   ]
  },
  {
   "cell_type": "code",
   "execution_count": null,
   "id": "ad643546-bb91-4c59-86df-ba48ebf1a0b2",
   "metadata": {},
   "outputs": [],
   "source": [
    "residuals_ext = (np.log(rich_dt) - lnR_mean_ext_ln1pz) / lnR_std_ext_ln1pz\n",
    "residuals_asc = (np.log(rich_dt) - lnR_mean_ascaso) / lnR_std_ascaso\n",
    "\n",
    "residuals_ext_r = (np.log(rich_dt) - lnR_mean_ext_ln1pz) / lnR_std_ext_ln1pz\n",
    "residuals_asc_r = (np.log(rich_dt) - lnR_mean_ascaso) / lnR_std_ascaso"
   ]
  },
  {
   "cell_type": "code",
   "execution_count": null,
   "id": "7b8e9e36-caa9-477c-9814-e82a8b938ab9",
   "metadata": {},
   "outputs": [],
   "source": [
    "plt.figure(figsize=(8,6))\n",
    "\n",
    "p2 = plt.scatter(rich_dt, residuals_ext, c= np.log10(mass_dt), s=5.0, label = 'Quadratic')\n",
    "\n",
    "plt.colorbar(p2)\n",
    "\n",
    "plt.ylabel(r'$\\frac{\\ln(R)_{i}  - < \\ln(R)_{i} | M, z >_{Quadratic} }{\\sigma_{Quadratic \\ i}}$', fontsize=15)\n",
    "plt.axvline(x=10, color='g', ls='--', label='10')\n",
    "plt.axvline(x=30, color='r', ls='--', label='30')\n",
    "plt.axhline(y=0.0, color='k', ls='--')\n",
    "\n",
    "\n",
    "plt.xscale('log')\n",
    "plt.legend()\n",
    "plt.xlabel('Richness', fontsize=14)\n",
    "\n",
    "plt.show()\n",
    "\n",
    "plt.figure(figsize=(8,6))\n",
    "\n",
    "p1 = plt.scatter(rich_dt, residuals_asc, c= np.log10(mass_dt), s=5.0, label = 'Linear')\n",
    "\n",
    "plt.colorbar(p1)\n",
    "\n",
    "plt.ylabel(r'$\\frac{\\ln(R)_{i}  - < \\ln(R)_{i} | M, z >_{Linear} }{\\sigma_{Linear \\ i}}$', fontsize=15)\n",
    "plt.axvline(x=10, color='g', ls='--', label='10')\n",
    "plt.axvline(x=30, color='r', ls='--', label='30')\n",
    "plt.axhline(y=0.0, color='k', ls='--')\n",
    "\n",
    "\n",
    "plt.xscale('log')\n",
    "plt.legend()\n",
    "plt.xlabel('Richness', fontsize=14)\n",
    "\n",
    "plt.show()\n",
    "\n",
    "plt.hist2d(np.log(rich_dt), np.log(mass_dt))\n",
    "plt.show()\n"
   ]
  },
  {
   "cell_type": "code",
   "execution_count": null,
   "id": "531b4770-8349-41a4-bb95-aa981364a052",
   "metadata": {},
   "outputs": [],
   "source": [
    "plt.figure(figsize=(8,6))\n",
    "\n",
    "p2 = plt.scatter(test_dt_resampled['richness'], residuals_ext_r, c= np.log10(test_dt_resampled['mass']), s=5.0, label = 'Quadratic')\n",
    "\n",
    "plt.colorbar(p2)\n",
    "\n",
    "plt.ylabel(r'$\\frac{\\ln(R)_{i}  - < \\ln(R)_{i} | M, z >_{Quadratic} }{\\sigma_{Quadratic \\ i}}$', fontsize=15)\n",
    "plt.axvline(x=10, color='g', ls='--', label='10')\n",
    "plt.axvline(x=30, color='r', ls='--', label='30')\n",
    "plt.axhline(y=0.0, color='k', ls='--')\n",
    "\n",
    "\n",
    "plt.xscale('log')\n",
    "plt.legend()\n",
    "plt.xlabel('Richness', fontsize=14)\n",
    "\n",
    "plt.show()\n",
    "\n",
    "plt.figure(figsize=(8,6))\n",
    "\n",
    "p1 = plt.scatter(test_dt_resampled['richness'], residuals_asc_r, c= np.log10(test_dt_resampled['mass']), s=5.0, label = 'Linear')\n",
    "\n",
    "plt.colorbar(p1)\n",
    "\n",
    "plt.ylabel(r'$\\frac{\\ln(R)_{i}  - < \\ln(R)_{i} | M, z >_{Linear} }{\\sigma_{Linear \\ i}}$', fontsize=15)\n",
    "plt.axvline(x=10, color='g', ls='--', label='10')\n",
    "plt.axvline(x=30, color='r', ls='--', label='30')\n",
    "plt.axhline(y=0.0, color='k', ls='--')\n",
    "\n",
    "\n",
    "plt.xscale('log')\n",
    "plt.legend()\n",
    "plt.xlabel('Richness', fontsize=14)\n",
    "\n",
    "plt.show()\n",
    "\n",
    "plt.hist2d(np.log(rich_dt), np.log(mass_dt))\n",
    "plt.show()\n"
   ]
  },
  {
   "cell_type": "code",
   "execution_count": null,
   "id": "e87215ce-a859-4c51-91bc-a441fe4df5b5",
   "metadata": {},
   "outputs": [],
   "source": [
    "plt.figure(figsize=(8,6))\n",
    "\n",
    "plt.scatter(rich_dt, residuals_asc, s=5.0, label = 'Linear')\n",
    "plt.scatter(rich_dt, residuals_ext, s=5.0, label = 'Quadratic')\n",
    "\n",
    "plt.ylabel(r'$\\frac{\\ln(R)_{i}  - < \\ln(R)_{i} | M, z >_{Quadratic} }{\\sigma_{Quadratic \\ i}}$', fontsize=15)\n",
    "plt.axvline(x=10, color='g', ls='--', label='10')\n",
    "plt.axvline(x=30, color='r', ls='--', label='30')\n",
    "plt.axhline(y=0.0, color='k', ls='--')\n",
    "\n",
    "\n",
    "plt.xscale('log')\n",
    "plt.legend()\n",
    "plt.xlabel('Richness', fontsize=14)\n",
    "\n",
    "plt.show()"
   ]
  },
  {
   "cell_type": "code",
   "execution_count": null,
   "id": "a053ab37-6260-4c50-a3be-a053b0a48c91",
   "metadata": {},
   "outputs": [],
   "source": [
    "plt.figure(figsize=(8,6))\n",
    "\n",
    "p3 = plt.scatter(np.log(test_dt_resampled['mass']), residuals_asc_r, c = np.log(test_dt_resampled['richness']),  s=5.0, label = 'Linear')\n",
    "plt.ylabel(r'$\\frac{\\ln(R)_{i}  - < \\ln(R)_{i} | M, z >_{Linear} }{\\sigma_{Linear \\ i}}$', fontsize=15)\n",
    "plt.axvline(x=np.log(2e13), color='g', ls='--', label='2e13')\n",
    "plt.axvline(x=np.log(1e14), color='r', ls='--', label='1e14')\n",
    "plt.axhline(y=0.0, color='k', ls='-')\n",
    "\n",
    "plt.colorbar(p3, label = 'lnR')\n",
    "\n",
    "plt.legend()\n",
    "plt.xlabel('ln(M)', fontsize=14)\n",
    "\n",
    "\n",
    "plt.show()\n",
    "\n",
    "plt.figure(figsize=(8,6))\n",
    "p4=plt.scatter(np.log(test_dt_resampled['mass']), residuals_ext_r, c = np.log(test_dt_resampled['richness']),  s=5.0, label = 'Quadratic')\n",
    "plt.ylabel(r'$\\frac{\\ln(R)_{i}  - < \\ln(R)_{i} | M, z >_{Linear} }{\\sigma_{Linear \\ i}}$', fontsize=15)\n",
    "plt.axvline(x=np.log(2e13), color='g', ls='--', label='2e13')\n",
    "plt.axvline(x=np.log(1e14), color='r', ls='--', label='1e14')\n",
    "plt.axhline(y=0.0, color='k', ls='-')\n",
    "\n",
    "plt.colorbar(p4, label='ln(R)')\n",
    "\n",
    "plt.legend()\n",
    "plt.xlabel('ln(M)', fontsize=14)\n",
    "\n",
    "\n",
    "plt.show()"
   ]
  },
  {
   "cell_type": "code",
   "execution_count": null,
   "id": "da32883a-6f09-4689-992a-e5281f41a3bd",
   "metadata": {},
   "outputs": [],
   "source": [
    "plt.figure(figsize=(8,6))\n",
    "\n",
    "p3 = plt.scatter(np.log(mass_dt), residuals_asc, c = np.log(rich_dt),  s=5.0, label = 'Linear')\n",
    "plt.ylabel(r'$\\frac{\\ln(R)_{i}  - < \\ln(R)_{i} | M, z >_{Linear} }{\\sigma_{Linear \\ i}}$', fontsize=15)\n",
    "plt.axvline(x=np.log(2e13), color='g', ls='--', label='2e13')\n",
    "plt.axvline(x=np.log(1e14), color='r', ls='--', label='1e14')\n",
    "plt.axhline(y=0.0, color='k', ls='-')\n",
    "\n",
    "plt.colorbar(p3, label = 'lnR')\n",
    "\n",
    "plt.legend()\n",
    "plt.xlabel('ln(M)', fontsize=14)\n",
    "\n",
    "\n",
    "plt.show()\n",
    "\n",
    "plt.figure(figsize=(8,6))\n",
    "p4=plt.scatter(np.log(mass_dt), residuals_ext, c = np.log(rich_dt),  s=5.0, label = 'Quadratic')\n",
    "plt.ylabel(r'$\\frac{\\ln(R)_{i}  - < \\ln(R)_{i} | M, z >_{Linear} }{\\sigma_{Linear \\ i}}$', fontsize=15)\n",
    "plt.axvline(x=np.log(2e13), color='g', ls='--', label='2e13')\n",
    "plt.axvline(x=np.log(1e14), color='r', ls='--', label='1e14')\n",
    "plt.axhline(y=0.0, color='k', ls='-')\n",
    "\n",
    "plt.colorbar(p4, label='ln(R)')\n",
    "\n",
    "plt.legend()\n",
    "plt.xlabel('ln(M)', fontsize=14)\n",
    "\n",
    "\n",
    "plt.show()"
   ]
  },
  {
   "cell_type": "code",
   "execution_count": null,
   "id": "8f5a906d-ade9-4d99-9838-7a872b3f9813",
   "metadata": {},
   "outputs": [],
   "source": [
    "# plt.scatter(np.log(mass_dt), residuals_ext, s=3.0)\n",
    "# plt.ylabel(r'$\\frac{\\ln(R)_{i}  - < \\ln(R)_{i} | M, z >_{Linear} }{\\sigma_{Linear \\ i}}$', fontsize=15)\n",
    "# # plt.yscale('log')\n",
    "# plt.xlabel('ln(M)', fontsize=14)\n",
    "# plt.show()\n",
    "\n"
   ]
  },
  {
   "cell_type": "code",
   "execution_count": null,
   "id": "99aad8eb-faa8-498d-93ba-df9fd8eba5f7",
   "metadata": {},
   "outputs": [],
   "source": [
    "\n",
    "# plt.hist( test_dt_resampled[\"richness\"] , bins=100)\n",
    "# plt.show()"
   ]
  },
  {
   "cell_type": "code",
   "execution_count": null,
   "id": "d6c203ed-f979-4357-86f0-b6024327dd6f",
   "metadata": {},
   "outputs": [],
   "source": [
    "# plt.scatter(np.log(mass_dt), residuals_ext - residuals_asc, s=3.0)\n",
    "# plt.ylabel(r'$\\chi_{Quad} - \\chi_{Linear}$', fontsize=15)\n",
    "# plt.xlabel('ln(M)', fontsize=14)\n",
    "# # plt.yscale('log')\n",
    "# plt.show()"
   ]
  }
 ],
 "metadata": {
  "kernelspec": {
   "display_name": "numcosmo",
   "language": "python",
   "name": "numcosmo"
  },
  "language_info": {
   "codemirror_mode": {
    "name": "ipython",
    "version": 3
   },
   "file_extension": ".py",
   "mimetype": "text/x-python",
   "name": "python",
   "nbconvert_exporter": "python",
   "pygments_lexer": "ipython3",
   "version": "3.11.11"
  }
 },
 "nbformat": 4,
 "nbformat_minor": 5
}
