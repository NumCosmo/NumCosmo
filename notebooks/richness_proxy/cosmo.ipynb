{
 "cells": [
  {
   "cell_type": "code",
   "execution_count": 9,
   "id": "63d968d5-1aaa-4de2-9dbb-21749b500f6d",
   "metadata": {},
   "outputs": [],
   "source": [
    "from astropy.io import fits\n",
    "import sys\n",
    "import pandas as pd\n",
    "from astropy.table import unique, Table\n",
    "import astropy\n",
    "from matplotlib import pyplot as plt\n",
    "import numpy as np\n",
    "from numcosmo_py import Ncm, Nc, sky_match\n",
    "from numcosmo_py.external.pyssc import pyssc as PySSC\n",
    "import timeit\n",
    "Ncm.cfg_init()\n",
    "\n",
    "sys.path.insert(0, \"/global/homes/l/lettieri/gcrcatalogs-new/gcr-catalogs\")\n",
    "sys.path.insert(0, \"/global/homes/l/lettieri/gcr-catalogs\")\n",
    "import GCRCatalogs\n",
    "GCRCatalogs.set_root_dir_by_site(\"nersc\")\n",
    "from GCR import GCRQuery\n",
    "table_redmapper_halos = fits.open(\"../forecast/DC2/catalogs/redmapper_halos.fits\")[1].data\n",
    "\n",
    "%matplotlib inline"
   ]
  },
  {
   "cell_type": "markdown",
   "id": "9ec679f5-2584-4ecf-aa25-bda92d683c7c",
   "metadata": {},
   "source": [
    "# Cosmological Model"
   ]
  },
  {
   "cell_type": "code",
   "execution_count": 10,
   "id": "d3386d8c-5767-424c-9f6a-88fe2f824bc5",
   "metadata": {},
   "outputs": [
    {
     "name": "stdout",
     "output_type": "stream",
     "text": [
      "0.8 0.8000000000000002\n"
     ]
    }
   ],
   "source": [
    "redmapper_cat = GCRCatalogs.load_catalog(\"cosmoDC2_v1.1.4_redmapper_v0.8.1\")\n",
    "\n",
    "# Taking some important information about the fiducial cosmological model and survey region\n",
    "redmapper_cosmology = redmapper_cat.cosmology\n",
    "sky_area = redmapper_cat.sky_area\n",
    "\n",
    "#cosmological model\n",
    "cosmo = Nc.HICosmoDEXcdm()\n",
    "#cosmo.omega_x2omega_k()\n",
    "#cosmo.param_set_by_name(\"Omegak\", 0.00)\n",
    "cosmo.param_set_by_name(\"Omegax\", redmapper_cosmology.Ode0)\n",
    "cosmo.param_set_by_name(\"H0\", redmapper_cosmology.H0.value)\n",
    "cosmo.param_set_by_name(\"Omegab\", redmapper_cosmology.Ob0)\n",
    "cosmo.param_set_by_name(\"Omegac\", redmapper_cosmology.Odm0)  # 0.2603\n",
    "\n",
    "cosmo.param_set_by_name(\"w\", -1.0)  # -1.0\n",
    "\n",
    "prim = Nc.HIPrimPowerLaw.new()\n",
    "prim.param_set_by_name(\"ln10e10ASA\", 3.0116707481421923)\n",
    "prim.props.n_SA = redmapper_cosmology.n_s\n",
    "reion = Nc.HIReionCamb.new()\n",
    "\n",
    "cosmo.add_submodel(prim)\n",
    "cosmo.add_submodel(reion)\n",
    "\n",
    "#matter power spectrum\n",
    "tf = Nc.TransferFuncEH()\n",
    "\n",
    "psml = Nc.PowspecMLTransfer.new(tf)\n",
    "psml.require_kmin(1.0e-6)\n",
    "psml.require_kmax(1.0e3)\n",
    "\n",
    "psf = Ncm.PowspecFilter.new(psml, Ncm.PowspecFilterType.TOPHAT)\n",
    "psf.set_best_lnr0()\n",
    "psf.prepare(cosmo)\n",
    "\n",
    "old_amplitude = np.exp(prim.props.ln10e10ASA)\n",
    "prim.props.ln10e10ASA = np.log(\n",
    "    (redmapper_cosmology.sigma8 / cosmo.sigma8(psf)) ** 2 * old_amplitude\n",
    ")\n",
    "print(redmapper_cosmology.sigma8, cosmo.sigma8(psf))\n",
    "\n",
    "\n",
    "\n",
    "\n",
    "\n",
    "dist = Nc.Distance.new(2.0)\n",
    "dist.prepare(cosmo)\n",
    "\n",
    "#parameters to be fitted\n",
    "cosmo.set_property(\"Omegac_fit\", True)\n",
    "cosmo.set_property(\"w_fit\", True)\n",
    "prim.set_property(\"ln10e10ASA_fit\", True)"
   ]
  },
  {
   "cell_type": "markdown",
   "id": "257db109-1e6a-4fd8-8ff4-f6ac72905ff7",
   "metadata": {},
   "source": [
    "# Cluster Mass-Richness and photoz model "
   ]
  },
  {
   "cell_type": "code",
   "execution_count": 11,
   "id": "a79b4c70-e7d9-4ee3-af5d-e97701af1e35",
   "metadata": {},
   "outputs": [],
   "source": [
    "cluster_m = Nc.ClusterMassAscaso(lnRichness_min = 0 ,lnRichness_max = 6.0)\n",
    "cluster_m.param_set_by_name(\"mup0\", 4.11945317984568)\n",
    "cluster_m.param_set_by_name(\"mup1\", 1.11236863168254)\n",
    "cluster_m.param_set_by_name(\"mup2\", 0.299464198653602)\n",
    "cluster_m.param_set_by_name(\"sigmap0\", 0.471246505057074)\n",
    "cluster_m.param_set_by_name(\"sigmap1\", -0.0591674971985774)\n",
    "cluster_m.param_set_by_name(\"sigmap2\", -0.109077938873429)\n",
    "\n",
    "cluster_m.param_set_by_name(\"cut\", np.log(5))\n",
    "'''\n",
    "cluster_m.set_property(\"mup0_fit\", True)\n",
    "cluster_m.set_property(\"mup1_fit\", True)\n",
    "cluster_m.set_property(\"mup2_fit\", True)\n",
    "cluster_m.set_property(\"sigmap0_fit\", True)\n",
    "cluster_m.set_property(\"sigmap1_fit\", True)\n",
    "cluster_m.set_property(\"sigmap2_fit\", True)\n",
    "'''\n",
    "\n",
    "cluster_z = Nc.ClusterRedshiftNodist(z_min = 0 ,z_max = 1.2)"
   ]
  },
  {
   "cell_type": "code",
   "execution_count": 15,
   "id": "507c1613-f63f-4e8b-95c4-b8b43672eb58",
   "metadata": {},
   "outputs": [
    {
     "name": "stdout",
     "output_type": "stream",
     "text": [
      "0.9999999995026688\n"
     ]
    },
    {
     "data": {
      "image/png": "[encoded data removed]",
      "text/plain": [
       "<Figure size 640x480 with 1 Axes>"
      ]
     },
     "metadata": {},
     "output_type": "display_data"
    }
   ],
   "source": [
    "lnR = np.linspace(0 ,6 , 1000)\n",
    "pdf = [cluster_m.p(cosmo , 14 * np.log(10) , 0.3 , [rich]) for rich in lnR]\n",
    "\n",
    "\n",
    "plt.scatter(lnR , pdf)   \n",
    "\n",
    "print(cluster_m.intp(cosmo , 14 * np.log(10) , 0.3))"
   ]
  },
  {
   "cell_type": "markdown",
   "id": "50608e1c-1368-4dd7-940b-e627585d2692",
   "metadata": {},
   "source": [
    "# Cluster abundance model"
   ]
  },
  {
   "cell_type": "code",
   "execution_count": 13,
   "id": "d3dcaf17-a2e1-4b45-bff6-da9714e6cc72",
   "metadata": {},
   "outputs": [],
   "source": [
    "mulf = Nc.MultiplicityFuncTinker.new()\n",
    "mulf.set_mdef(Nc.MultiplicityFuncMassDef.CRITICAL)\n",
    "mulf.set_Delta(200.0)\n",
    "\n",
    "hmf = Nc.HaloMassFunction.new(dist, psf, mulf)\n",
    "hmf.prepare(cosmo)\n",
    "hmf.set_area(sky_area * (np.pi / 180) ** 2)\n",
    "hbias_Tinker = Nc.HaloBiasTinker.new(hmf)\n",
    "cad = Nc.ClusterAbundance.new(hmf, None)\n",
    "cad.set_area(sky_area * (np.pi / 180) ** 2)"
   ]
  },
  {
   "cell_type": "markdown",
   "id": "5c4b641c-6ba2-40bf-af68-09a61aca754f",
   "metadata": {},
   "source": [
    "# Cluster counts likelihood"
   ]
  },
  {
   "cell_type": "code",
   "execution_count": 14,
   "id": "4407966a-2042-46b5-921a-54eccc672e60",
   "metadata": {
    "scrolled": true
   },
   "outputs": [
    {
     "ename": "AttributeError",
     "evalue": "'DataClusterNCount' object has no attribute 'set_area'",
     "output_type": "error",
     "traceback": [
      "\u001b[0;31m---------------------------------------------------------------------------\u001b[0m",
      "\u001b[0;31mAttributeError\u001b[0m                            Traceback (most recent call last)",
      "Cell \u001b[0;32mIn[14], line 8\u001b[0m\n\u001b[1;32m      6\u001b[0m ncdata \u001b[38;5;241m=\u001b[39m Nc\u001b[38;5;241m.\u001b[39mDataClusterNCount\u001b[38;5;241m.\u001b[39mnew(cad, \u001b[38;5;124m\"\u001b[39m\u001b[38;5;124mNcClusterRedshiftNodist\u001b[39m\u001b[38;5;124m\"\u001b[39m, \u001b[38;5;124m\"\u001b[39m\u001b[38;5;124mNcClusterMassAscaso\u001b[39m\u001b[38;5;124m\"\u001b[39m)\n\u001b[1;32m      7\u001b[0m ncdata\u001b[38;5;241m.\u001b[39mset_init(\u001b[38;5;28;01mTrue\u001b[39;00m)\n\u001b[0;32m----> 8\u001b[0m \u001b[43mncdata\u001b[49m\u001b[38;5;241;43m.\u001b[39;49m\u001b[43mset_area\u001b[49m(sky_area \u001b[38;5;241m*\u001b[39m (np\u001b[38;5;241m.\u001b[39mpi \u001b[38;5;241m/\u001b[39m \u001b[38;5;241m180\u001b[39m) \u001b[38;5;241m*\u001b[39m\u001b[38;5;241m*\u001b[39m \u001b[38;5;241m2\u001b[39m)\n\u001b[1;32m      9\u001b[0m ncdata\u001b[38;5;241m.\u001b[39mresample(mset , rng)\n\u001b[1;32m     11\u001b[0m dset\u001b[38;5;241m.\u001b[39mappend_data(ncdata)\n",
      "\u001b[0;31mAttributeError\u001b[0m: 'DataClusterNCount' object has no attribute 'set_area'"
     ]
    }
   ],
   "source": [
    "rng = Ncm.RNG.seeded_new(None, 1312)\n",
    "mset = Ncm.MSet.new_array([cluster_m, cosmo, cluster_z])\n",
    "mset.prepare_fparam_map()\n",
    "dset = Ncm.Dataset.new()\n",
    "\n",
    "ncdata = Nc.DataClusterNCount.new(cad, \"NcClusterRedshiftNodist\", \"NcClusterMassAscaso\")\n",
    "ncdata.set_init(True)\n",
    "ncdata.resample(mset , rng)\n",
    "\n",
    "dset.append_data(ncdata)\n",
    "\n",
    "# Likelihood\n",
    "lh = Ncm.Likelihood.new(dset)\n",
    "lnM_obs_data = [ncdata.get_lnM_obs().get_col(0).get(i) for i in range(ncdata.get_lnM_obs().get_col(0).len())]\n",
    "z_obs   = [ncdata.get_z_obs().get_col(0).get(i) for i in range(ncdata.get_z_obs().get_col(0).len())]\n",
    "\n",
    "nbins = 100\n",
    "lnM_obs = np.linspace(np.log(5) , 6.0 , nbins +1)\n",
    "\n",
    "lnM_obs_bin = [(lnM_obs[i] +lnM_obs[i+1])/2 for i in range(len(lnM_obs)-1)]\n",
    "abundance = [cad.intp_bin_d2n(cosmo, cluster_z, cluster_m, [lnM_obs[i]] , [lnM_obs[i+1]], None, [0] , [1.2] , None)  for i in range(len(lnM_obs)-1)]\n",
    "\n",
    "plt.hist( lnM_obs_data, bins=nbins)\n",
    "plt.plot(lnM_obs_bin , abundance)\n",
    "plt.xlim(np.log(5) , 2.6)\n",
    "plt.show()\n",
    "\n"
   ]
  },
  {
   "cell_type": "markdown",
   "id": "9300bf2e-aeb5-4aa9-b588-d07d7c2ac370",
   "metadata": {},
   "source": [
    "# Fitting correct model"
   ]
  },
  {
   "cell_type": "code",
   "execution_count": null,
   "id": "392effc2-e2c0-41cc-ac74-64d5fc2f450c",
   "metadata": {
    "scrolled": true
   },
   "outputs": [
    {
     "name": "stdout",
     "output_type": "stream",
     "text": [
      "#----------------------------------------------------------------------------------\n",
      "# Data used:\n",
      "#   - Cluster NCount resample unbinned. Generated 3398549 from mean 3.3973e+06\n",
      "#        (full). Mass proxy type `NcClusterMassAscaso', redshift proxy type\n",
      "#        `NcClusterRedshiftNodist'. Resampled in range [  0.0000,   1.2000]\n",
      "#        [1.00000000e+12, 1.00000000e+16] and area   0.0000 degrees square.\n",
      "#----------------------------------------------------------------------------------\n",
      "# Model[03000]:\n",
      "#   - NcHICosmo : XCDM - Constant EOS\n",
      "#----------------------------------------------------------------------------------\n",
      "# Model parameters\n",
      "#   -         H0[00]:  71                  [FIXED]\n",
      "#   -     Omegac[01]:  0.22                [FREE]\n",
      "#   -     Omegax[02]:  0.7352              [FIXED]\n",
      "#   -    Tgamma0[03]:  2.7245              [FIXED]\n",
      "#   -         Yp[04]:  0.24                [FIXED]\n",
      "#   -       ENnu[05]:  3.046               [FIXED]\n",
      "#   -     Omegab[06]:  0.0448              [FIXED]\n",
      "#   -          w[07]: -1                   [FREE]\n",
      "#----------------------------------------------------------------------------------\n",
      "# Model[05000]:\n",
      "#   - NcHIPrim : Power Law model for primordial spectra\n",
      "#----------------------------------------------------------------------------------\n",
      "# Model parameters\n",
      "#   - ln10e10ASA[00]:  3.05973491790159    [FREE]\n",
      "#   - T_SA_ratio[01]:  0.2                 [FIXED]\n",
      "#   -       n_SA[02]:  0.963               [FIXED]\n",
      "#   -        n_T[03]:  0                   [FIXED]\n",
      "#----------------------------------------------------------------------------------\n",
      "# Model[09000]:\n",
      "#   - NcClusterMass : Ascaso Ln-normal richness distribution\n",
      "#----------------------------------------------------------------------------------\n",
      "# Model parameters\n",
      "#   -       mup0[00]:  4.11945317984568    [FIXED]\n",
      "#   -       mup1[01]:  1.11236863168254    [FIXED]\n",
      "#   -       mup2[02]:  0.299464198653602   [FIXED]\n",
      "#   -    sigmap0[03]:  0.471246505057074   [FIXED]\n",
      "#   -    sigmap1[04]: -0.0591674971985774  [FIXED]\n",
      "#   -    sigmap2[05]: -0.109077938873429   [FIXED]\n",
      "#   -        cut[06]:  1.6094379124341     [FIXED]\n",
      "#----------------------------------------------------------------------------------\n",
      "# Model[10000]:\n",
      "#   - NcClusterRedshift : No redshift distribution\n",
      "#----------------------------------------------------------------------------------\n",
      "# Model parameters\n",
      "#----------------------------------------------------------------------------------\n",
      "# Model[19000]:\n",
      "#   - NcHIReion : Reion-CAMB\n",
      "#----------------------------------------------------------------------------------\n",
      "# Model parameters\n",
      "#   -       z_re[00]:  13                  [FIXED]\n",
      "#   -    z_He_re[01]:  3.5                 [FIXED]\n",
      "#----------------------------------------------------------------------------------\n",
      "# Model fitting. Interating using:\n",
      "#  - solver:            NLOpt:ln-neldermead\n",
      "#  - differentiation:   Numerical differentiantion (central)\n",
      "#"
     ]
    }
   ],
   "source": [
    "# Fit\n",
    "\n",
    "fit = Ncm.Fit.factory(\n",
    "    Ncm.FitType.NLOPT, \"ln-neldermead\", lh, mset, Ncm.FitGradType.NUMDIFF_CENTRAL\n",
    ")\n",
    "fit.log_info()\n",
    "fit.run(Ncm.FitRunMsgs.SIMPLE)\n",
    "\n",
    "fit.log_info()\n",
    "\n",
    "\n",
    "Ncm.func_eval_set_max_threads(2)\n",
    "Ncm.func_eval_log_pool_stats()\n",
    "\n",
    "fitmc = Ncm.FitMC.new(fit, Ncm.FitMCResampleType.FROM_MODEL, Ncm.FitRunMsgs.SIMPLE)\n",
    "fitmc.set_nthreads(2)\n",
    "fitmc.set_data_file(\"mc_cut.fits\")\n",
    "\n",
    "fitmc.start_run()\n",
    "fitmc.run(3000)\n",
    "fitmc.end_run()\n",
    "fitmc.mean_covar()\n",
    "fit.log_covar()\n",
    "\n",
    "mcat = Ncm.MSetCatalog.new_from_file_ro(\"mc_cut.fits\", 0)\n",
    "mcat.log_full_covar()\n"
   ]
  },
  {
   "cell_type": "markdown",
   "id": "ab668756-6a4d-428e-ab8e-4edd44bb1446",
   "metadata": {},
   "source": [
    "# Fitting uncorrect model"
   ]
  },
  {
   "cell_type": "code",
   "execution_count": null,
   "id": "fb4f47f6-8640-4655-b0d1-508981a60484",
   "metadata": {
    "scrolled": true
   },
   "outputs": [],
   "source": [
    "ncdata.resample(mset , rng)\n",
    "cluster_m.param_set_by_name(\"cut\", np.log(1))\n",
    "\n",
    "# Fit\n",
    "\n",
    "fit = Ncm.Fit.factory(\n",
    "    Ncm.FitType.NLOPT, \"ln-neldermead\", lh, mset, Ncm.FitGradType.NUMDIFF_CENTRAL\n",
    ")\n",
    "\n",
    "fit.log_info()\n",
    "#fit.run_restart(Ncm.FitRunMsgs.SIMPLE, 1.0e-3, 0.0, None, None)\n",
    "\n",
    "fit.log_info()\n",
    "\n",
    "'''\n",
    "Ncm.func_eval_set_max_threads(2)\n",
    "Ncm.func_eval_log_pool_stats()\n",
    "\n",
    "fitmc = Ncm.FitMC.new(fit, Ncm.FitMCResampleType.BOOTSTRAP_NOMIX , Ncm.FitRunMsgs.SIMPLE)\n",
    "fitmc.set_nthreads(2)\n",
    "fitmc.set_data_file(\"mc_no_cut.fits\")\n",
    "\n",
    "fitmc.start_run()\n",
    "fitmc.run(3000)\n",
    "fitmc.end_run()\n",
    "fitmc.mean_covar()\n",
    "fit.log_covar()\n",
    "\n",
    "mcat = Ncm.MSetCatalog.new_from_file_ro(\"mc_no_cut.fits\", 0)\n",
    "mcat.log_full_covar()\n",
    "'''"
   ]
  }
 ],
 "metadata": {
  "kernelspec": {
   "display_name": "numcosmo",
   "language": "python",
   "name": "numcosmo_developer"
  },
  "language_info": {
   "codemirror_mode": {
    "name": "ipython",
    "version": 3
   },
   "file_extension": ".py",
   "mimetype": "text/x-python",
   "name": "python",
   "nbconvert_exporter": "python",
   "pygments_lexer": "ipython3",
   "version": "3.13.2"
  }
 },
 "nbformat": 4,
 "nbformat_minor": 5
}
