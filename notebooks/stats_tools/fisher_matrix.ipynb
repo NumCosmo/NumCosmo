{
 "cells": [
  {
   "cell_type": "markdown",
   "metadata": {},
   "source": [
    "---\n",
    "**License**\n",
    "\n",
    " FisherMatrixExample\n",
    "\n",
    " Tue Jan 19 13:48:00 2021\\\n",
    " Copyright  2021\\\n",
    " Sandro Dias Pinto Vitenti <vitenti@uel.br>\n",
    "\n",
    "---\n",
    "---\n",
    "\n",
    " FisherMatrixExample\\\n",
    " Copyright (C) 2021 Sandro Dias Pinto Vitenti <vitenti@uel.br>\n",
    "\n",
    " numcosmo is free software: you can redistribute it and/or modify it\n",
    " under the terms of the GNU General Public License as published by the\n",
    " Free Software Foundation, either version 3 of the License, or\n",
    " (at your option) any later version.\n",
    "\n",
    " numcosmo is distributed in the hope that it will be useful, but\n",
    " WITHOUT ANY WARRANTY; without even the implied warranty of\n",
    " MERCHANTABILITY or FITNESS FOR A PARTICULAR PURPOSE.\n",
    " See the GNU General Public License for more details.\n",
    "\n",
    " You should have received a copy of the GNU General Public License along\n",
    " with this program.  If not, see <http://www.gnu.org/licenses/>.\n",
    " \n",
    "---"
   ]
  },
  {
   "cell_type": "code",
   "execution_count": null,
   "metadata": {},
   "outputs": [],
   "source": [
    "try:\n",
    "    import gi\n",
    "\n",
    "    gi.require_version(\"NumCosmo\", \"1.0\")\n",
    "    gi.require_version(\"NumCosmoMath\", \"1.0\")\n",
    "except:\n",
    "    pass\n",
    "\n",
    "import sys\n",
    "import math\n",
    "import matplotlib as mpl\n",
    "import matplotlib.pyplot as plt\n",
    "import numpy as np\n",
    "\n",
    "from IPython.display import HTML\n",
    "\n",
    "from gi.repository import GObject\n",
    "from gi.repository import NumCosmo as Nc\n",
    "from gi.repository import NumCosmoMath as Ncm\n",
    "\n",
    "%matplotlib inline"
   ]
  },
  {
   "cell_type": "code",
   "execution_count": null,
   "metadata": {},
   "outputs": [],
   "source": [
    "__name__ = \"NcContext\"\n",
    "\n",
    "Ncm.cfg_init()\n",
    "Ncm.cfg_set_log_handler(lambda msg: sys.stdout.write(msg) and sys.stdout.flush())\n",
    "obj = None"
   ]
  },
  {
   "cell_type": "markdown",
   "metadata": {},
   "source": [
    "# Model definition\n",
    "\n",
    "We define two models below, the abstract class NcModelSimple and its implementation ModelSimpleF that implements a simple function f_x that computes a straight line using two parameters alpha and beta. Most of the code is the boilerplate necessary to connect C and python and do not need to be modified."
   ]
  },
  {
   "cell_type": "code",
   "execution_count": null,
   "metadata": {},
   "outputs": [],
   "source": [
    "mb = Ncm.ModelBuilder.new(Ncm.Model, \"NcModelSimple\", \"A simple python example model\")\n",
    "\n",
    "#              Symbol     Name     Lim inf Lim sup  Scale   Abstol  Default  FREE or FIXED\n",
    "mb.add_sparam(r\"\\alpha\", \"alpha\", -5.0, 5.0, 0.1, 0.0, 2.0, Ncm.ParamType.FREE)\n",
    "mb.add_sparam(r\"\\beta\", \"beta\", 0.0, 2.0, 0.1, 0.0, 1.0, Ncm.ParamType.FREE)\n",
    "\n",
    "if not obj:\n",
    "    GNcModelSimple = mb.create()\n",
    "    obj = GObject.new(GNcModelSimple)\n",
    "    ModelSimple = GNcModelSimple.pytype\n",
    "    GObject.type_register(ModelSimple)\n",
    "pass\n",
    "\n",
    "\n",
    "class ModelSimpleF(ModelSimple):\n",
    "    some_property = GObject.Property(type=str)\n",
    "\n",
    "    def __init__(self):\n",
    "        ModelSimple.__init__(self)\n",
    "\n",
    "    def f_x(self, x):\n",
    "        return np.exp(self.props.alpha + self.props.beta * x)\n",
    "\n",
    "\n",
    "GObject.type_register(ModelSimpleF)\n",
    "\n",
    "pass"
   ]
  },
  {
   "cell_type": "markdown",
   "metadata": {},
   "source": [
    "# Data model definition\n",
    "\n",
    "Here we create a likelihood based on a multivariate Gaussian distribution. The most important method to be implemented is do_mean_func, it must compute the theoretical mean $f(x_i)$ for the Gaussian distribution $$-2\\ln L = \\sum_{ij}\\left[(f(x_i) - y_i)C^{-1}_{ij}(f(x_j) - y_j)\\right] + \\dots$$\n",
    "\n"
   ]
  },
  {
   "cell_type": "code",
   "execution_count": null,
   "metadata": {},
   "outputs": [],
   "source": [
    "class DGSimple(Ncm.DataGaussCov):\n",
    "    # We need one vector property to save the independent variables x\n",
    "    xv = GObject.Property(type=Ncm.Vector, flags=GObject.PARAM_READWRITE)\n",
    "\n",
    "    def __init__(self, len=600):\n",
    "        Ncm.DataGaussCov.__init__(self, n_points=len)\n",
    "\n",
    "        if self.np > 0:\n",
    "            self.xv = Ncm.Vector.new(self.np)\n",
    "        else:\n",
    "            self.xv = None\n",
    "\n",
    "        self.cov_init = False\n",
    "        if self.np > 0:\n",
    "            self.cov.set_identity()\n",
    "            self.xv.set_zero()\n",
    "\n",
    "    def do_get_length(self):\n",
    "        return self.np\n",
    "\n",
    "    def do_get_dof(self):\n",
    "        return self.np\n",
    "\n",
    "    def do_prepare(self, mset):\n",
    "        return\n",
    "\n",
    "    def do_mean_func(self, mset, vp):\n",
    "        mid = mset.get_id_by_ns(\"NcModelSimple\")\n",
    "        mF = mset.peek(mid)\n",
    "\n",
    "        for i in range(self.np):\n",
    "            x = self.xv.get(i)\n",
    "            vp.set(i, mF.f_x(x))\n",
    "\n",
    "        return\n",
    "\n",
    "    def create_random_cov(self, slm, rng):\n",
    "        ya = [slm.f_x(x) for x in self.xv.dup_array()]\n",
    "        yv = Ncm.Vector.new_array(ya)\n",
    "\n",
    "        self.cov.fill_rand_cov2(yv, 0.1, 0.5, 15.0, rng)\n",
    "\n",
    "\n",
    "GObject.type_register(DGSimple)\n",
    "pass"
   ]
  },
  {
   "cell_type": "markdown",
   "metadata": {},
   "source": [
    "# Creating data\n",
    "\n",
    "Now we have a data model but no covariance $C_{ij}$ nor data $y_i$. Let's simulate some. First we create a fiducial model. Then, a Likelihood with $15$ points, an uniformly spaced dependent variable vector and a random covariance matrix. We do not need actual data $y_i$ to compute the Fisher matrix, but we create some using resample so we can compare the Fisher and the observed Fisher matrix."
   ]
  },
  {
   "cell_type": "code",
   "execution_count": null,
   "metadata": {},
   "outputs": [],
   "source": [
    "mF = ModelSimpleF()\n",
    "mF.props.alpha = 0.9\n",
    "mF.props.beta = 0.2\n",
    "\n",
    "mset = Ncm.MSet.empty_new()\n",
    "mset.set(mF)\n",
    "mset.param_set_all_ftype(Ncm.ParamType.FREE)\n",
    "mset.prepare_fparam_map()\n",
    "\n",
    "rng = Ncm.RNG.seeded_new(None, 123)\n",
    "\n",
    "dgs = DGSimple(len=15)\n",
    "dgs.xv.set_array(np.linspace(0.0, 1.0, dgs.get_size()))\n",
    "dgs.create_random_cov(mF, rng)\n",
    "dgs.resample(mset, rng)\n",
    "\n",
    "dgs.xv.log_vals(\"x: \", \"%.3f\", True)\n",
    "dgs.y.log_vals(\"y: \", \"%.3f\", True)\n",
    "dgs.cov.log_vals(\"cov:\", \"%.3f\")\n",
    "\n",
    "fig = plt.figure(dpi=120)\n",
    "\n",
    "x_a = np.linspace(0.0, 1.0, 200)\n",
    "y_a = mF.f_x(x_a)\n",
    "cov_d = [dgs.cov.get(i, i) for i in range(15)]\n",
    "\n",
    "plt.errorbar(dgs.xv.dup_array(), dgs.y.dup_array(), yerr=cov_d, fmt=\"o\")\n",
    "plt.plot(x_a, y_a, \"-\")\n",
    "\n",
    "pass"
   ]
  },
  {
   "cell_type": "markdown",
   "metadata": {},
   "source": [
    "# Creating the fit object"
   ]
  },
  {
   "cell_type": "code",
   "execution_count": null,
   "metadata": {},
   "outputs": [],
   "source": [
    "dset = Ncm.Dataset.new()\n",
    "dset.append_data(dgs)\n",
    "lh = Ncm.Likelihood.new(dset)\n",
    "\n",
    "fit = Ncm.Fit.new(\n",
    "    Ncm.FitType.NLOPT, \"ln-neldermead\", lh, mset, Ncm.FitGradType.NUMDIFF_FORWARD\n",
    ")"
   ]
  },
  {
   "cell_type": "markdown",
   "metadata": {},
   "source": [
    "# Fisher matrix\n",
    "Finally we can compute the Fisher matrix at the point $\\alpha = 0.5$ and $\\beta = 0.1$"
   ]
  },
  {
   "cell_type": "code",
   "execution_count": null,
   "metadata": {},
   "outputs": [],
   "source": [
    "mF.props.alpha = 0.5\n",
    "mF.props.beta = 0.1\n",
    "\n",
    "\n",
    "fit.fisher()\n",
    "fit.log_covar()"
   ]
  },
  {
   "cell_type": "markdown",
   "metadata": {},
   "source": [
    "# Observed Fisher matrix\n",
    "\n",
    "Now we can compare it with the observed Fisher matrix. They will differ since the observed fisher matrix only approximate the expected real Fisher matrix at the best fit."
   ]
  },
  {
   "cell_type": "code",
   "execution_count": null,
   "metadata": {},
   "outputs": [],
   "source": [
    "fit.obs_fisher()\n",
    "fit.log_covar()"
   ]
  },
  {
   "cell_type": "markdown",
   "metadata": {},
   "source": [
    "To make them match we first compute the bestfit and then both matrices. Now, the observed Fisher matrix gives a reasonably good approximation."
   ]
  },
  {
   "cell_type": "code",
   "execution_count": null,
   "metadata": {},
   "outputs": [],
   "source": [
    "fit.run(Ncm.FitRunMsgs.SIMPLE)\n",
    "\n",
    "fit.fisher()\n",
    "fit.log_covar()\n",
    "\n",
    "fit.obs_fisher()\n",
    "fit.log_covar()"
   ]
  }
 ],
 "metadata": {
  "kernelspec": {
   "display_name": "Python 3",
   "language": "python",
   "name": "python3"
  },
  "language_info": {
   "codemirror_mode": {
    "name": "ipython",
    "version": 3
   },
   "file_extension": ".py",
   "mimetype": "text/x-python",
   "name": "python",
   "nbconvert_exporter": "python",
   "pygments_lexer": "ipython3"
  }
 },
 "nbformat": 4,
 "nbformat_minor": 4
}
