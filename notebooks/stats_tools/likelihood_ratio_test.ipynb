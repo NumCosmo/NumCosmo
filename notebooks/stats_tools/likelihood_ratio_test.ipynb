{
 "cells": [
  {
   "cell_type": "markdown",
   "metadata": {},
   "source": [
    "---\n",
    "**License**\n",
    "\n",
    " LRTvsFisher\n",
    "\n",
    " Mon Jun 01 09:20:00 2020\\\n",
    " Copyright  2020\\\n",
    " Sandro Dias Pinto Vitenti <vitenti@uel.br>\n",
    "\n",
    "---\n",
    "---\n",
    "\n",
    " LRTvsFisher\\\n",
    " Copyright (C) 2020 Sandro Dias Pinto Vitenti <vitenti@uel.br>\n",
    "\n",
    " numcosmo is free software: you can redistribute it and/or modify it\n",
    " under the terms of the GNU General Public License as published by the\n",
    " Free Software Foundation, either version 3 of the License, or\n",
    " (at your option) any later version.\n",
    "\n",
    " numcosmo is distributed in the hope that it will be useful, but\n",
    " WITHOUT ANY WARRANTY; without even the implied warranty of\n",
    " MERCHANTABILITY or FITNESS FOR A PARTICULAR PURPOSE.\n",
    " See the GNU General Public License for more details.\n",
    "\n",
    " You should have received a copy of the GNU General Public License along\n",
    " with this program.  If not, see <http://www.gnu.org/licenses/>.\n",
    " \n",
    "---"
   ]
  },
  {
   "cell_type": "markdown",
   "metadata": {},
   "source": [
    "# Likelihood ratio test vs. Fisher matrix\n",
    "\n",
    "Example to compare the results from Likelihood ratio test (profile likelihood) and Fisher matrix methods. \n",
    "For this, we obtain constraints (68.27% contour) on the cold dark matter density $\\Omega_c$ and the dark energy equation \n",
    "of state $w$ parameters, where $w =$ constant, using type Ia supernova (SNeIa) and baryon acoustic oscillations (BAO) data.\n",
    "\n",
    "## Loading NumCosmo\n",
    "\n",
    "The first step is to load both NumCosmo and NumCosmoMath libraries. We also load some Python packages."
   ]
  },
  {
   "cell_type": "code",
   "execution_count": null,
   "metadata": {},
   "outputs": [],
   "source": [
    "try:\n",
    "    import gi\n",
    "\n",
    "    gi.require_version(\"NumCosmo\", \"1.0\")\n",
    "    gi.require_version(\"NumCosmoMath\", \"1.0\")\n",
    "except:\n",
    "    pass\n",
    "\n",
    "from gi.repository import GObject\n",
    "from gi.repository import NumCosmo as Nc\n",
    "from gi.repository import NumCosmoMath as Ncm\n",
    "\n",
    "import sys\n",
    "import math\n",
    "import numpy as np\n",
    "import matplotlib.pyplot as plt\n",
    "\n",
    "%matplotlib inline"
   ]
  },
  {
   "cell_type": "markdown",
   "metadata": {},
   "source": [
    "### Initializing the NumCosmo library:"
   ]
  },
  {
   "cell_type": "code",
   "execution_count": null,
   "metadata": {},
   "outputs": [],
   "source": [
    "__name__ = \"NcContext\"\n",
    "\n",
    "Ncm.cfg_init()\n",
    "Ncm.cfg_set_log_handler(lambda msg: sys.stdout.write(msg) and sys.stdout.flush())"
   ]
  },
  {
   "cell_type": "markdown",
   "metadata": {},
   "source": [
    "### Initializing the objects\n",
    "\n",
    "We first initialize the **NcHICosmo** object. It describes a cosmological model assuming a homogeneous and isotropic metric of the background. \n",
    "\n",
    "In particular, we initialize a **NcHICosmo** child whose Dark Energy (DE) component is described by a barotropic fluid with constant equation of state, **NcHICosmoDEXcdm**.\n",
    "\n",
    "One choice we make here is to parametrize the problem considering the curvature density parameter, $\\Omega_k$, instead of the DE density parameter $\\Omega_{DE}$. \n",
    "We then set the values for the others cosmological parameters: \n",
    "1. The Hubble constant $H_0$;\n",
    "2. The DE equation of state parameter $w$;\n",
    "3. The baryon density parameter $\\Omega_b$;\n",
    "4. The cold dark matter density parameter $\\Omega_c$;\n",
    "5. The mass(es) of the neutrino(s) $m_{\\nu}$;\n",
    "6. The effective number of massless neutrinos $N_{\\nu}$;\n",
    "7. The temperature of the photons today $T_{\\gamma 0}$.\n",
    "\n",
    "The parameters that are not set here kepp the default values."
   ]
  },
  {
   "cell_type": "code",
   "execution_count": null,
   "metadata": {},
   "outputs": [],
   "source": [
    "cosmo = Nc.HICosmo.new_from_name(Nc.HICosmo, \"NcHICosmoDEXcdm{'massnu-length':<1>}\")\n",
    "cosmo.omega_x2omega_k()\n",
    "cosmo.param_set_by_name(\"H0\", 67.66)\n",
    "cosmo.param_set_by_name(\"Omegak\", 0.0)\n",
    "cosmo.param_set_by_name(\"w\", -0.8)\n",
    "cosmo.param_set_by_name(\"Omegab\", 0.049)\n",
    "cosmo.param_set_by_name(\"Omegac\", 0.2621)\n",
    "cosmo.param_set_by_name(\"massnu_0\", 0.0)\n",
    "cosmo.param_set_by_name(\"ENnu\", 3.046)\n",
    "cosmo.param_set_by_name(\"Tgamma0\", 2.7255)"
   ]
  },
  {
   "cell_type": "markdown",
   "metadata": {},
   "source": [
    "###  Model Set\n",
    "\n",
    "We initialize a model set (NcmSet) object, and set the cosmological model (cosmo) into mset. "
   ]
  },
  {
   "cell_type": "code",
   "execution_count": null,
   "metadata": {},
   "outputs": [],
   "source": [
    "mset = Ncm.MSet()\n",
    "mset.set(cosmo)"
   ]
  },
  {
   "cell_type": "markdown",
   "metadata": {},
   "source": [
    "Setting $\\Omega_c$ and $w$ parameters to be fitted."
   ]
  },
  {
   "cell_type": "code",
   "execution_count": null,
   "metadata": {},
   "outputs": [],
   "source": [
    "cosmo.props.Omegac_fit = True\n",
    "cosmo.props.Omegax_fit = True\n",
    "cosmo.props.w_fit = True"
   ]
  },
  {
   "cell_type": "markdown",
   "metadata": {},
   "source": [
    "### Initializing the distance object\n",
    "\n",
    "At this step we initialize the NcDistance object. This object computes the cosmological distances using an interpolation method (spline) as a matter of optimization. \n",
    "\n",
    "The argument of the *new* function corresponds to the maximum redshift $z_{max}$ up to which the spline of the comoving distance will be prepared. The cosmological distances depend on the cosmological model. \n",
    "\n",
    "**Note that** if the user calls a distance function at a redshift $z^\\prime$ bigger than $z_{max}$, then the computation between $z_{max}$ and $z^\\prime$ is performed by numerical integration."
   ]
  },
  {
   "cell_type": "code",
   "execution_count": null,
   "metadata": {},
   "outputs": [],
   "source": [
    "zmax = 2.5\n",
    "dist = Nc.Distance.new(zmax)"
   ]
  },
  {
   "cell_type": "markdown",
   "metadata": {},
   "source": [
    "### Initializing data objects\n",
    "\n",
    "1. A new Data object NcmData from Type Ia supernovae (snia) catalogs. Distance modulus $\\mu(z)$:\n",
    "$$\\mu(z) = 5\\log_{10}[c/H_0 * D_l(z)/(1\\,\\text{Mpc})] + 25,$$\n",
    "where $c$ is the speed of light and $D_l(z) = (1 + z) D_M(z)$ is the luminosity distance.\n",
    "\n",
    "2. New data objects from baryon acoustic oscillations (BAO).\n",
    "$$D_V(z) \\equiv \\left[ z D_M(z)^2 D_H(z) \\right]^{1/3},$$\n",
    "and $r_d$, i.e., the sound horizon at the drag redshift,\n",
    "$$r_d \\equiv r_s (z_d) = \\frac{1}{H_0} \\int_{z_d}^{\\infty} dz \\frac{c_s(z)}{E(z)},$$\n",
    "where $c_s(z)$ is the sound wave speed in the photon-baryon fluid.\n",
    "\n",
    "The transverse distances is\n",
    "\n",
    "$$\n",
    "D_M(z) = \\left\\{\n",
    "    \\begin{array}{ll}\n",
    "        K^{-1} \\sin\\left(K \\chi (z)\\right)   &\\mbox{for $\\Omega_k < 0$,} \\\\\n",
    "        \\chi (z)                             &\\mbox{for $\\Omega_k = 0$,} \\\\\n",
    "        K^{-1} \\sinh\\left(K \\chi (z)\\right)  &\\mbox{for $\\Omega_k > 0$,}\n",
    "    \\end{array}\n",
    "\\right.\n",
    "$$\n",
    "where $K = \\frac{H_0 \\sqrt{\\vert\\Omega^0_k\\vert}}{c}$, and the comoving distance is\n",
    "$$ \\chi (z) = \\frac{c}{H_0} \\int_0^z \\frac{dz^\\prime}{E(z^\\prime)},$$\n",
    "$E(z) = \\frac{H(z)}{H_0}$ is the normalized Hubble function.\n"
   ]
  },
  {
   "cell_type": "code",
   "execution_count": null,
   "metadata": {},
   "outputs": [],
   "source": [
    "snia = Nc.DataDistMu.new_from_id(dist, Nc.DataSNIAId.SIMPLE_UNION2_1)\n",
    "bao1 = Nc.data_bao_create(dist, Nc.DataBaoId.RDV_BEUTLER2011)\n",
    "bao2 = Nc.data_bao_create(dist, Nc.DataBaoId.RDV_BOSS_QSO_ATA2017)"
   ]
  },
  {
   "cell_type": "markdown",
   "metadata": {},
   "source": [
    "### Data Set\n",
    "\n",
    "We initialize a NcmDataSet object, and set the SneIa and BAO data into to it."
   ]
  },
  {
   "cell_type": "code",
   "execution_count": null,
   "metadata": {},
   "outputs": [],
   "source": [
    "dset = Ncm.Dataset()\n",
    "dset.append_data(snia)\n",
    "dset.append_data(bao1)\n",
    "dset.append_data(bao2)"
   ]
  },
  {
   "cell_type": "markdown",
   "metadata": {},
   "source": [
    "### Likelihood\n",
    "\n",
    "Creating a likelihood object from a dataset."
   ]
  },
  {
   "cell_type": "code",
   "execution_count": null,
   "metadata": {},
   "outputs": [],
   "source": [
    "lh = Ncm.Likelihood(dataset=dset)"
   ]
  },
  {
   "cell_type": "markdown",
   "metadata": {},
   "source": [
    "### Fit object\n",
    "\n",
    "Creating a Fit object of type NLOPT using the fitting algorithm ln-neldermead to fit the Modelset mset using the likelihood lh and using a numerical differentiation algorithm (NUMDIFF_FORWARD) to obtain the gradient (if needed)."
   ]
  },
  {
   "cell_type": "code",
   "execution_count": null,
   "metadata": {},
   "outputs": [],
   "source": [
    "fit = Ncm.Fit.new(\n",
    "    Ncm.FitType.NLOPT, \"ln-neldermead\", lh, mset, Ncm.FitGradType.NUMDIFF_FORWARD\n",
    ")"
   ]
  },
  {
   "cell_type": "code",
   "execution_count": null,
   "metadata": {},
   "outputs": [],
   "source": [
    "fit.run(Ncm.FitRunMsgs.SIMPLE)\n",
    "fit.log_info()\n",
    "fit.numdiff_m2lnL_covar()\n",
    "fit.log_covar()"
   ]
  },
  {
   "cell_type": "markdown",
   "metadata": {},
   "source": [
    "### Likelihood Ratio Test"
   ]
  },
  {
   "cell_type": "code",
   "execution_count": null,
   "metadata": {},
   "outputs": [],
   "source": [
    "p1 = Ncm.MSetPIndex.new(cosmo.id(), Nc.HICosmoDESParams.OMEGA_C)\n",
    "p2 = Ncm.MSetPIndex.new(cosmo.id(), Nc.HICosmoDEXCDMSParams.W)\n",
    "\n",
    "lhr2d = Ncm.LHRatio2d.new(fit, p1, p2, 1.0e-3)"
   ]
  },
  {
   "cell_type": "markdown",
   "metadata": {},
   "source": [
    "Calculating the confidence region using the Likelihood ratio test.\n",
    "Also using the Fisher matrix approach."
   ]
  },
  {
   "cell_type": "code",
   "execution_count": null,
   "metadata": {},
   "outputs": [],
   "source": [
    "cr_rg = lhr2d.conf_region(0.6827, 300.0, Ncm.FitRunMsgs.SIMPLE)\n",
    "fisher_rg = lhr2d.fisher_border(0.6827, 300.0, Ncm.FitRunMsgs.SIMPLE)\n",
    "\n",
    "cr_p1array = cr_rg.p1.dup_array()\n",
    "cr_p2array = cr_rg.p2.dup_array()\n",
    "\n",
    "fisher_p1array = fisher_rg.p1.dup_array()\n",
    "fisher_p2array = fisher_rg.p2.dup_array()"
   ]
  },
  {
   "cell_type": "code",
   "execution_count": null,
   "metadata": {},
   "outputs": [],
   "source": [
    "plt.figure(figsize=(14, 7))\n",
    "plt.title(\"Confidence regions (%.2f)\" % (cr_rg.clevel * 100.0))\n",
    "plt.plot(cr_p1array, cr_p2array, \"r\", label=\"Likelihood Ratio\")\n",
    "plt.plot(fisher_p1array, fisher_p2array, \"b-\", label=\"Fisher Matrix\")\n",
    "\n",
    "plt.xlabel(r\"$\\Omega_c$\")\n",
    "plt.ylabel(r\"$w$\")\n",
    "\n",
    "plt.legend(loc=4)\n",
    "\n",
    "plt.savefig(\"snia_bao_rg_omegac_w.svg\")"
   ]
  }
 ],
 "metadata": {
  "kernelspec": {
   "display_name": "Python 3",
   "language": "python",
   "name": "python3"
  },
  "language_info": {
   "codemirror_mode": {
    "name": "ipython",
    "version": 3
   },
   "file_extension": ".py",
   "mimetype": "text/x-python",
   "name": "python",
   "nbconvert_exporter": "python",
   "pygments_lexer": "ipython3"
  }
 },
 "nbformat": 4,
 "nbformat_minor": 2
}
