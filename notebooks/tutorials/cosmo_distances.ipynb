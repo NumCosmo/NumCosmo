{
 "cells": [
  {
   "cell_type": "markdown",
   "metadata": {},
   "source": [
    "---\n",
    "**License**\n",
    "\n",
    " DistTutorial\n",
    "\n",
    " Mon Jun 01 09:20:00 2020\\\n",
    " Copyright  2020\\\n",
    " Sandro Dias Pinto Vitenti <vitenti@uel.br>\n",
    "\n",
    "---\n",
    "---\n",
    "\n",
    " DistTutorial \\\n",
    " Copyright (C) 2020 Sandro Dias Pinto Vitenti <vitenti@uel.br>\n",
    "\n",
    " numcosmo is free software: you can redistribute it and/or modify it\n",
    " under the terms of the GNU General Public License as published by the\n",
    " Free Software Foundation, either version 3 of the License, or\n",
    " (at your option) any later version.\n",
    "\n",
    " numcosmo is distributed in the hope that it will be useful, but\n",
    " WITHOUT ANY WARRANTY; without even the implied warranty of\n",
    " MERCHANTABILITY or FITNESS FOR A PARTICULAR PURPOSE.\n",
    " See the GNU General Public License for more details.\n",
    "\n",
    " You should have received a copy of the GNU General Public License along\n",
    " with this program.  If not, see <http://www.gnu.org/licenses/>.\n",
    " \n",
    "---"
   ]
  },
  {
   "cell_type": "markdown",
   "metadata": {},
   "source": [
    "# Cosmology - Hubble function and cosmological distances\n",
    "\n",
    "In this example we show how to initialize a cosmological model and to compute basic cosmological functions such as the Hubble function and cosmological distances.\n",
    "\n",
    "## Loading NumCosmo\n",
    "\n",
    "The first step is to load both NumCosmo and NumCosmoMath libraries. We also load some Python packages."
   ]
  },
  {
   "cell_type": "code",
   "execution_count": null,
   "metadata": {},
   "outputs": [],
   "source": [
    "try:\n",
    "    import gi\n",
    "\n",
    "    gi.require_version(\"NumCosmo\", \"1.0\")\n",
    "    gi.require_version(\"NumCosmoMath\", \"1.0\")\n",
    "except:\n",
    "    pass\n",
    "\n",
    "from gi.repository import GObject\n",
    "from gi.repository import NumCosmo as Nc\n",
    "from gi.repository import NumCosmoMath as Ncm\n",
    "\n",
    "import sys\n",
    "import math\n",
    "import numpy as np\n",
    "import matplotlib.pyplot as plt\n",
    "\n",
    "%matplotlib inline"
   ]
  },
  {
   "cell_type": "markdown",
   "metadata": {},
   "source": [
    "### Initializing the NumCosmo library:"
   ]
  },
  {
   "cell_type": "code",
   "execution_count": null,
   "metadata": {},
   "outputs": [],
   "source": [
    "__name__ = \"NcContext\"\n",
    "\n",
    "Ncm.cfg_init()\n",
    "Ncm.cfg_set_log_handler(lambda msg: sys.stdout.write(msg) and sys.stdout.flush())"
   ]
  },
  {
   "cell_type": "markdown",
   "metadata": {},
   "source": [
    "### Initializing the objects\n",
    "\n",
    "We first initialize the **NcHICosmo** object. It describes a cosmological model assuming a homogeneous and isotropic metric of the background. \n",
    "\n",
    "In particular, we initialize a **NcHICosmo** child whose Dark Energy (DE) component is described by a barotropic fluid with constant equation of state, **NcHICosmoDEXcdm**.\n",
    "\n",
    "One choice we make here is to parametrize the problem considering the curvature density parameter, $\\Omega_k$, instead of the DE density parameter $\\Omega_{DE}$. \n",
    "We then set the values for the others cosmological parameters: \n",
    "1. The Hubble constant $H_0$;\n",
    "2. The DE equation of state parameter $w$;\n",
    "3. The baryon density parameter $\\Omega_b$;\n",
    "4. The cold dark matter density parameter $\\Omega_c$;\n",
    "5. The mass(es) of the neutrino(s) $m_{\\nu}$;\n",
    "6. The effective number of massless neutrinos $N_{\\nu}$;\n",
    "7. The temperature of the photons today $T_{\\gamma 0}$.\n",
    "\n",
    "The parameters that are not set here kepp the default values."
   ]
  },
  {
   "cell_type": "code",
   "execution_count": null,
   "metadata": {},
   "outputs": [],
   "source": [
    "cosmo = Nc.HICosmo.new_from_name(Nc.HICosmo, \"NcHICosmoDEXcdm{'massnu-length':<1>}\")\n",
    "cosmo.omega_x2omega_k()\n",
    "cosmo.param_set_by_name(\"H0\", 67.66)\n",
    "cosmo.param_set_by_name(\"Omegak\", 0.0)\n",
    "cosmo.param_set_by_name(\"w\", -0.8)\n",
    "cosmo.param_set_by_name(\"Omegab\", 0.049)\n",
    "cosmo.param_set_by_name(\"Omegac\", 0.2621)\n",
    "cosmo.param_set_by_name(\"massnu_0\", 0.0)\n",
    "cosmo.param_set_by_name(\"ENnu\", 3.046)\n",
    "cosmo.param_set_by_name(\"Tgamma0\", 2.7255)"
   ]
  },
  {
   "cell_type": "markdown",
   "metadata": {},
   "source": [
    "### Computing the normalized Hubble function\n",
    "\n",
    "$$E(z) = \\frac{H(z)}{H_0} = \\sqrt{\\Omega_r (1+z)^4 + \\Omega_m (1+z)^3 + \\Omega_k (1+z)^2 + \\Omega_{DE} (1+z)^3(1+w)},$$ where $z$ is the redshift, $H(z)$ is the Hubble function, $\\Omega_r$ is the radiation density parameter, $\\Omega_m = \\Omega_c + \\Omega_b$, and $\\Omega_DE = 1 - \\Omega_m - \\Omega_r - \\Omega_k$."
   ]
  },
  {
   "cell_type": "code",
   "execution_count": null,
   "metadata": {},
   "outputs": [],
   "source": [
    "E2_list = []\n",
    "z_list = np.linspace(0.0, 10.0, 100)\n",
    "for z in z_list:\n",
    "    E2 = cosmo.E2(z)\n",
    "    E2_list.append(E2)\n",
    "\n",
    "plt.figure(figsize=(14, 7))\n",
    "\n",
    "plt.plot(z_list, E2_list, \"b\", label=\"default parameters\")\n",
    "\n",
    "plt.xlabel(r\"$z$\")\n",
    "plt.ylabel(r\"$E^2(z)$\")\n",
    "leg = plt.legend(loc=\"best\")"
   ]
  },
  {
   "cell_type": "markdown",
   "metadata": {},
   "source": [
    "### Initializing the distance object\n",
    "\n",
    "At this step we initialize the NcDistance object. This object computes the cosmological distances using an interpolation method (spline) as a matter of optimization. \n",
    "\n",
    "The argument of the *new* function corresponds to the maximum redshift $z_{max}$ up to which the spline of the comoving distance will be prepared. The cosmological distances depend on the cosmological model. \n",
    "\n",
    "**Note that** if the user calls a distance function at a redshift $z^\\prime$ bigger than $z_{max}$, then the computation between $z_{max}$ and $z^\\prime$ is performed by numerical integration."
   ]
  },
  {
   "cell_type": "code",
   "execution_count": null,
   "metadata": {},
   "outputs": [],
   "source": [
    "zmax = 10.0\n",
    "dist = Nc.Distance.new(zmax)\n",
    "dist.prepare(cosmo)"
   ]
  },
  {
   "cell_type": "markdown",
   "metadata": {},
   "source": [
    " ### Computing the comoving distance \n",
    " \n",
    " $$d_c(z) = d_H \\int_0^z \\frac{dz^\\prime}{E (z^\\prime)},$$\n",
    " where the Hubble radius is $d_H = \\frac{c}{H_0}$ and $c$ is the speed of light.\n",
    "  "
   ]
  },
  {
   "cell_type": "code",
   "execution_count": null,
   "metadata": {},
   "outputs": [],
   "source": [
    "comoving_list = []\n",
    "for z in z_list:\n",
    "    comoving = dist.comoving(cosmo, z) * cosmo.RH_Mpc()\n",
    "    comoving_list.append(comoving)\n",
    "\n",
    "\n",
    "plt.figure(figsize=(14, 7))\n",
    "\n",
    "plt.plot(z_list, comoving_list, \"b\", label=\"default parameters\")\n",
    "\n",
    "plt.xlabel(r\"$z$\")\n",
    "plt.ylabel(r\"$d_c(z)$ [Mpc]\")\n",
    "leg = plt.legend(loc=\"best\")"
   ]
  },
  {
   "cell_type": "markdown",
   "metadata": {},
   "source": [
    "#### We now compute other cosmological distances: \n",
    "1. Transverse comoving distance:\n",
    "\n",
    "\\begin{eqnarray}\n",
    "d_M = \\left\\{\n",
    "\\begin{array}{c l}\t\n",
    "d_H \\frac{1}{\\sqrt{\\Omega_K}} \\sinh \\left( \\sqrt{\\Omega_K} d_c/d_H  \\right) & \\text{for} \\quad \\Omega_K > 0 \\\\\n",
    "d_c & \\text{for} \\quad \\Omega_K = 0 \\\\\n",
    "d_H \\frac{1}{\\sqrt{\\vert \\Omega_K \\vert }} \\sin \\left( \\sqrt{\\vert \\Omega_K \\vert} d_c/d_H  \\right) & \\text{for} \\quad \\Omega_K < 0;\n",
    "\\end{array}\\right.\n",
    "\\end{eqnarray}  \n",
    "\n",
    "2. Luminosity distance:\n",
    "$$d_L(z) = (1 + z) d_M(z);$$\n",
    "\n",
    "3. Angular diameter distance:\n",
    "$$d_A(z) = \\frac{d_M(z)}{(1 + z)}.$$"
   ]
  },
  {
   "cell_type": "code",
   "execution_count": null,
   "metadata": {},
   "outputs": [],
   "source": [
    "transv_list = []\n",
    "lumin_list = []\n",
    "ang_list = []\n",
    "\n",
    "for z in z_list:\n",
    "    transv = dist.transverse(cosmo, z)\n",
    "    lumin = dist.luminosity(cosmo, z)\n",
    "    ang = dist.angular_diameter(cosmo, z)\n",
    "    transv_list.append(transv)\n",
    "    lumin_list.append(lumin)\n",
    "    ang_list.append(ang)\n",
    "\n",
    "plt.figure(figsize=(14, 7))\n",
    "\n",
    "plt.xscale(\"log\")\n",
    "plt.plot(z_list, transv_list, \"b\", label=\"Tranversal comoving\")\n",
    "plt.plot(z_list, lumin_list, \"r\", label=\"Luminosity\")\n",
    "plt.plot(z_list, ang_list, \"g\", label=\"Angular diameter\")\n",
    "\n",
    "plt.xlabel(r\"$z$\")\n",
    "plt.ylabel(r\"Cosmological distances [Mpc]\")\n",
    "leg = plt.legend(loc=\"best\")"
   ]
  }
 ],
 "metadata": {
  "kernelspec": {
   "display_name": "Python 3",
   "language": "python",
   "name": "python3"
  },
  "language_info": {
   "codemirror_mode": {
    "name": "ipython",
    "version": 3
   },
   "file_extension": ".py",
   "mimetype": "text/x-python",
   "name": "python",
   "nbconvert_exporter": "python",
   "pygments_lexer": "ipython3"
  }
 },
 "nbformat": 4,
 "nbformat_minor": 2
}
