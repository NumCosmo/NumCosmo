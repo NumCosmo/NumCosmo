{
 "cells": [
  {
   "cell_type": "markdown",
   "metadata": {},
   "source": [
    "---\n",
    "**License**\n",
    "\n",
    " HIPrimTutorial\n",
    " \n",
    " Mon Jun 01 09:15:00 2020\\\n",
    " Copyright  2020\\\n",
    " Sandro Dias Pinto Vitenti <vitenti@uel.br>\n",
    "\n",
    "---\n",
    "---\n",
    "\n",
    " HIPrimTutorial\\\n",
    " Copyright (C) 2020 Sandro Dias Pinto Vitenti <vitenti@uel.br>\n",
    "\n",
    " numcosmo is free software: you can redistribute it and/or modify it\n",
    " under the terms of the GNU General Public License as published by the\n",
    " Free Software Foundation, either version 3 of the License, or\n",
    " (at your option) any later version.\n",
    "\n",
    " numcosmo is distributed in the hope that it will be useful, but\n",
    " WITHOUT ANY WARRANTY; without even the implied warranty of\n",
    " MERCHANTABILITY or FITNESS FOR A PARTICULAR PURPOSE.\n",
    " See the GNU General Public License for more details.\n",
    "\n",
    " You should have received a copy of the GNU General Public License along\n",
    " with this program.  If not, see <http://www.gnu.org/licenses/>.\n",
    " \n",
    "---"
   ]
  },
  {
   "cell_type": "markdown",
   "metadata": {},
   "source": [
    "# HIPrim example\n",
    "\n",
    "In this tutorial we define a primordial power spectrum for the cosmological perturbations and compute the $C_\\ell$'s associated to it. Here you are going to learn:\n",
    "\n",
    "- How to create a new model and registry it in the GObject type system.\n",
    "- How to use this model together with a $\\Lambda$CDM cosmological model to compute the perturbations.\n",
    "\n",
    "##### The primordial power spectrum:\n",
    "\\begin{equation}\n",
    "\\Delta_k = A_s \\left(\\frac{k}{k_*}\\right)^{n_s-1}\\left[1+a^2\\cos\\left(b \\frac{k}{k_*}+c\\right)\\right],\n",
    "\\end{equation}\n",
    "where $k_*$ is the pivotal scale and $(A_s,\\, n_s,\\, a,\\, b,\\, c)$ are free parameters.\n",
    "\n",
    "## Loading NumCosmo\n",
    "\n",
    "The first step is to load both NumCosmo and NumCosmoMath libraries. Here we also load the GObject class that we will use to registry the new class in our GObject type system as well as other modules needed in this example."
   ]
  },
  {
   "cell_type": "code",
   "execution_count": 1,
   "metadata": {},
   "outputs": [],
   "source": [
    "try:\n",
    "  import gi\n",
    "  gi.require_version('NumCosmo', '1.0')\n",
    "  gi.require_version('NumCosmoMath', '1.0')\n",
    "except:\n",
    "  pass\n",
    "\n",
    "import math\n",
    "import sys\n",
    "import numpy as np\n",
    "import matplotlib.pyplot as plt\n",
    "%matplotlib inline\n",
    "\n",
    "from gi.repository import GObject\n",
    "from gi.repository import NumCosmo as Nc\n",
    "from gi.repository import NumCosmoMath as Ncm\n"
   ]
  },
  {
   "cell_type": "markdown",
   "metadata": {},
   "source": [
    "# Creating the model\n",
    "\n",
    "Since python does not give us access to the guts of the GObject system we need to use the *Ncm.ModelBuilder* class to implement a child of *Ncm.Model*."
   ]
  },
  {
   "cell_type": "code",
   "execution_count": 2,
   "metadata": {},
   "outputs": [],
   "source": [
    "mb = Ncm.ModelBuilder.new (Nc.HIPrim, \"NcHIPrimExample\", \"A example primordial model\")"
   ]
  },
  {
   "cell_type": "markdown",
   "metadata": {},
   "source": [
    "The line above creates a new *Ncm.ModelBuilder* that will create a child of *Nc.HIPrim* called *Nc.HIPrimExample*. \n",
    "The next step is to add parameters to the model, all parameters that will possibly be used in a statistical analysis, see [the expression above](#The-primordial-power-spectrum:). The documentation of the *Ncm.ModelBuilder* class can be found [here](https://numcosmo.github.io/manual/NcmModelBuilder.html). "
   ]
  },
  {
   "cell_type": "code",
   "execution_count": 3,
   "metadata": {},
   "outputs": [],
   "source": [
    "mb.add_sparam (\"A_s\", \"As\", 0.0, 1.0, 0.1, 0.0, 1.0e-9, Ncm.ParamType.FREE)\n",
    "mb.add_sparam (\"n_s\", \"ns\", 0.5, 1.5, 0.1, 0.0, 0.96,   Ncm.ParamType.FREE)\n",
    "\n",
    "mb.add_sparam (\"a\", \"a\", 0.0,   1.0, 0.01, 0.0,   0.5, Ncm.ParamType.FREE)\n",
    "mb.add_sparam (\"b\", \"b\", 0.0, 1.0e4, 0.10, 0.0, 100.0, Ncm.ParamType.FREE)\n",
    "mb.add_sparam (\"c\", \"c\", 0.0,   6.0, 0.10, 0.0,   0.0, Ncm.ParamType.FREE)"
   ]
  },
  {
   "cell_type": "markdown",
   "metadata": {},
   "source": [
    "The arguments are the following: (for the C documentation see [here](https://numcosmo.github.io/manual/NcmModelBuilder.html#ncm-model-builder-add-sparam-obj))\n",
    "\n",
    "1. the (latex) symbol describing the parameter. \n",
    "2. the string representing the parameter internally, this same string can be used to access the parameter and change its values.\n",
    "3. parameter lower-bound.\n",
    "4. parameter upper-bound.\n",
    "5. (guess) parameter scale, used by statistical algorithms (e.g., best-fit finders) as a first guess step size. As a rule of thumb it should be at the same order of magnitude as the $1\\sigma$ error of the current analysis.\n",
    "6. absolute tolerance, used when estimating the error on the parameter (useful for parameter that are expected to be exactly zero).\n",
    "7. parameter default value.\n",
    "8. Whether this parameter should be treated as a free parameter or fixed (*Ncm.ParamType.FREE* or *Ncm.ParamType.FIXED*) by default.\n",
    "\n",
    "The code below register the new class in both python and GObject system following the steps:\n",
    "1. creates the new GType, defining the object in the GObject system.\n",
    "2. creates a new empty instance of this GType.\n",
    "3. using this instance we get the python type.\n",
    "4. Finally we register this python type back in the GObject system."
   ]
  },
  {
   "cell_type": "code",
   "execution_count": 4,
   "metadata": {},
   "outputs": [],
   "source": [
    "GNcHIPrimExample = mb.create ()\n",
    "GObject.new (GNcHIPrimExample)\n",
    "NcHIPrimExampleBase = GNcHIPrimExample.pytype\n",
    "GObject.type_register (NcHIPrimExampleBase);"
   ]
  },
  {
   "cell_type": "markdown",
   "metadata": {},
   "source": [
    "Now we can finally implement in python a class representing the model in hand. We implement a single virtual method of the *Nc.HIPrim* abstract class [*lnSA_powspec_lnk*](https://numcosmo.github.io/manual/NcHIPrim.html#nc-hiprim-lnSA-powspec-lnk). All virtual methods, e.g,  *method_name*, of the abstract classes can be implemented in python by creating a method called *do_method_name* in the derived class in python."
   ]
  },
  {
   "cell_type": "code",
   "execution_count": 5,
   "metadata": {},
   "outputs": [],
   "source": [
    "class NcHIPrimExample (NcHIPrimExampleBase):\n",
    "  def do_lnSA_powspec_lnk (self, lnk):\n",
    "    lnk0 = self.get_lnk_pivot ()\n",
    "    lnka = lnk - lnk0\n",
    "    ka = math.exp (lnka)\n",
    "    As = self.props.As\n",
    "    ns = self.props.ns\n",
    "    a  = self.props.a\n",
    "    b  = self.props.b\n",
    "    c  = self.props.c\n",
    "    a2 = a * a\n",
    "\n",
    "    return (ns - 1.0) * lnka + math.log (As) + math.log1p (a2 * math.cos (b * ka + c)**2) \n",
    "\n",
    "GObject.type_register(NcHIPrimExample);"
   ]
  },
  {
   "cell_type": "markdown",
   "metadata": {},
   "source": [
    "Some notes about the definition above:\n",
    "- The base class *Nc.HIPrim* has already a parameter describing pivotal $k_*$, see [here](https://numcosmo.github.io/manual/NcHIPrim.html). Thus, our first step is to get the value of $k_*$. \n",
    "- In python the values of the parameters can be accessed using the *props* property, e.g., a parameter created with name As can be accessed via *self.props.As*.\n",
    "- The virtual method above should implement the function $\\ln[\\Delta(\\ln k)]$ instead of $\\Delta_k$.\n",
    "- Since the class created is a python class, we need to registry it in the GObject type system, which is what we do in the last line of the cell above.\n",
    "\n",
    "# Initializing the objects\n",
    "\n",
    "Now that we have our new primordial model we can create the set of objects necessary to compute the $C_\\ell$'s. First we need to initialize the NumCosmo library:"
   ]
  },
  {
   "cell_type": "code",
   "execution_count": 6,
   "metadata": {},
   "outputs": [],
   "source": [
    "__name__ = \"NcContext\"\n",
    "\n",
    "Ncm.cfg_init ()\n",
    "Ncm.cfg_set_log_handler (lambda msg: sys.stdout.write (msg) and sys.stdout.flush ())"
   ]
  },
  {
   "cell_type": "markdown",
   "metadata": {},
   "source": [
    "Then, we create an instance of our primordial model object, and print the current (default) values of its parameter."
   ]
  },
  {
   "cell_type": "code",
   "execution_count": 7,
   "metadata": {},
   "outputs": [
    {
     "name": "stdout",
     "output_type": "stream",
     "text": [
      "# Model set to its default values:  1e-09 0.96 0.5 100.0 0.0\n"
     ]
    }
   ],
   "source": [
    "prim = NcHIPrimExample ()\n",
    "print (\"# Model set to its default values: \", prim.props.As,prim.props.ns, prim.props.a, prim.props.b, prim.props.c)"
   ]
  },
  {
   "cell_type": "markdown",
   "metadata": {},
   "source": [
    "Next, we need a CLASS back-end object, but first we create a CLASS precision object. This step is necessary since we have a more complicated primordial power spectrum and for this reason we need a finer simpling of it when computing the other cosmological observables."
   ]
  },
  {
   "cell_type": "code",
   "execution_count": 8,
   "metadata": {},
   "outputs": [],
   "source": [
    "cbe_prec = Nc.CBEPrecision.new ()\n",
    "cbe_prec.props.k_per_decade_primordial = 50.0\n",
    "\n",
    "cbe = Nc.CBE.prec_new (cbe_prec)\n",
    "\n",
    "lmax = 2500\n",
    "\n",
    "Bcbe = Nc.HIPertBoltzmannCBE.full_new (cbe)\n",
    "Bcbe.set_TT_lmax (lmax)\n",
    "Bcbe.set_target_Cls (Nc.DataCMBDataType.TT)\n",
    "Bcbe.set_lensed_Cls (True)\n"
   ]
  },
  {
   "cell_type": "markdown",
   "metadata": {},
   "source": [
    "Above we set the number of knots per decade when sampling the primordial power spectrum, see [here](https://numcosmo.github.io/manual/NcCBEPrecision.html) for the documentation of the complete set of parameters. The, we create a class back-end object and the Boltzmann object based on it. Finally, we set the *lmax*, require the computation of the *TT*, $C_\\ell$'s and the lens correction.\n",
    "\n",
    "The next objects are necessary to close our cosmological model:"
   ]
  },
  {
   "cell_type": "code",
   "execution_count": 9,
   "metadata": {},
   "outputs": [],
   "source": [
    "cosmo = Nc.HICosmo.new_from_name (Nc.HICosmo, \"NcHICosmoDEXcdm\")\n",
    "cosmo.omega_x2omega_k ()\n",
    "cosmo.param_set_by_name (\"Omegak\", 0.0)\n",
    "\n",
    "reion = Nc.HIReionCamb.new ()\n",
    "\n",
    "cosmo.add_submodel (reion)\n",
    "cosmo.add_submodel (prim)"
   ]
  },
  {
   "cell_type": "markdown",
   "metadata": {},
   "source": [
    "Below we create a model set that will contain all models we will work with. Then, we just print all their properties."
   ]
  },
  {
   "cell_type": "code",
   "execution_count": 10,
   "metadata": {},
   "outputs": [
    {
     "name": "stdout",
     "output_type": "stream",
     "text": [
      "#----------------------------------------------------------------------------------\n",
      "# Model[01000]:\n",
      "#   - NcHICosmo : XCDM - Constant EOS\n",
      "#----------------------------------------------------------------------------------\n",
      "# Model parameters\n",
      "#   -      H0[00]:  67.36               [FIXED]\n",
      "#   -  Omegac[01]:  0.2568              [FIXED]\n",
      "#   -  Omegak[02]:  0                   [FIXED]\n",
      "#   - Tgamma0[03]:  2.7245              [FIXED]\n",
      "#   -      Yp[04]:  0.24                [FIXED]\n",
      "#   -    ENnu[05]:  3.046               [FIXED]\n",
      "#   -  Omegab[06]:  0.0432              [FIXED]\n",
      "#   -       w[07]: -1                   [FIXED]\n",
      "#----------------------------------------------------------------------------------\n",
      "# Model[03000]:\n",
      "#   - NcHIPrim : A example primordial model\n",
      "#----------------------------------------------------------------------------------\n",
      "# Model parameters\n",
      "#   -      As[00]:  1e-09               [FIXED]\n",
      "#   -      ns[01]:  0.96                [FIXED]\n",
      "#   -       a[02]:  0.5                 [FIXED]\n",
      "#   -       b[03]:  100                 [FIXED]\n",
      "#   -       c[04]:  0                   [FIXED]\n",
      "#----------------------------------------------------------------------------------\n",
      "# Model[11000]:\n",
      "#   - NcHIReion : Reion-CAMB\n",
      "#----------------------------------------------------------------------------------\n",
      "# Model parameters\n",
      "#   -    z_re[00]:  13                  [FIXED]\n",
      "#   - z_He_re[01]:  3.5                 [FIXED]\n"
     ]
    }
   ],
   "source": [
    "mset = Ncm.MSet.new_array ([cosmo])\n",
    "mset.pretty_log ()"
   ]
  },
  {
   "cell_type": "markdown",
   "metadata": {},
   "source": [
    "To change the values of anyone of these parameters execute the command below: (these parameters correspond to Planck 2015 TT + LowP bestfit) "
   ]
  },
  {
   "cell_type": "code",
   "execution_count": 11,
   "metadata": {},
   "outputs": [
    {
     "name": "stdout",
     "output_type": "stream",
     "text": [
      "#----------------------------------------------------------------------------------\n",
      "# Model[01000]:\n",
      "#   - NcHICosmo : XCDM - Constant EOS\n",
      "#----------------------------------------------------------------------------------\n",
      "# Model parameters\n",
      "#   -      H0[00]:  67.31               [FIXED]\n",
      "#   -  Omegac[01]:  0.26420131159949    [FIXED]\n",
      "#   -  Omegak[02]:  0                   [FIXED]\n",
      "#   - Tgamma0[03]:  2.7245              [FIXED]\n",
      "#   -      Yp[04]:  0.244111930396816   [FIXED]\n",
      "#   -    ENnu[05]:  3.046               [FIXED]\n",
      "#   -  Omegab[06]:  0.0490438859126205  [FIXED]\n",
      "#   -       w[07]: -1                   [FIXED]\n",
      "#----------------------------------------------------------------------------------\n",
      "# Model[03000]:\n",
      "#   - NcHIPrim : A example primordial model\n",
      "#----------------------------------------------------------------------------------\n",
      "# Model parameters\n",
      "#   -      As[00]:  2.19551118826647e-09 [FIXED]\n",
      "#   -      ns[01]:  0.9655              [FIXED]\n",
      "#   -       a[02]:  0                   [FIXED]\n",
      "#   -       b[03]:  0                   [FIXED]\n",
      "#   -       c[04]:  0                   [FIXED]\n",
      "#----------------------------------------------------------------------------------\n",
      "# Model[11000]:\n",
      "#   - NcHIReion : Reion-CAMB\n",
      "#----------------------------------------------------------------------------------\n",
      "# Model parameters\n",
      "#   -    z_re[00]:  10.7416249008626    [FIXED]\n",
      "#   - z_He_re[01]:  3.5                 [FIXED]\n"
     ]
    }
   ],
   "source": [
    "Omegabh2 = 0.02222\n",
    "Omegach2 = 0.1197\n",
    "H0       = 67.31\n",
    "h        = H0 / 100.0\n",
    "ns       = 0.9655\n",
    "ln1010As = 3.089\n",
    "tau      = 0.078\n",
    "\n",
    "Omegab   = Omegabh2 / h**2\n",
    "Omegac   = Omegach2 / h**2\n",
    "As       = math.exp (ln1010As) * 1.0e-10\n",
    "\n",
    "pi_H0     = mset.param_get_by_full_name (\"NcHICosmo:H0\")\n",
    "pi_Omegab = mset.param_get_by_full_name (\"NcHICosmo:Omegab\")\n",
    "pi_Omegac = mset.param_get_by_full_name (\"NcHICosmo:Omegac\")\n",
    "pi_As     = mset.param_get_by_full_name (\"NcHIPrim:As\")\n",
    "pi_ns     = mset.param_get_by_full_name (\"NcHIPrim:ns\")\n",
    "\n",
    "reion.set_z_from_tau (cosmo, tau)\n",
    "\n",
    "prim.props.a = 0.0\n",
    "prim.props.b = 0.0\n",
    "prim.props.c = 0.0\n",
    "\n",
    "mset.param_set_pi ([pi_H0, pi_Omegab, pi_Omegac, pi_As, pi_ns], [H0, Omegab, Omegac, As, ns])\n",
    "mset.pretty_log ()"
   ]
  },
  {
   "cell_type": "markdown",
   "metadata": {},
   "source": [
    "We can now compute some derivative quantities from this parametrization."
   ]
  },
  {
   "cell_type": "code",
   "execution_count": 12,
   "metadata": {},
   "outputs": [
    {
     "name": "stdout",
     "output_type": "stream",
     "text": [
      "0.02222\n",
      "0.11970000000000001\n",
      "1.038477212773967\n",
      "0.08659769248841949\n",
      "0.8291362434260542\n"
     ]
    }
   ],
   "source": [
    "ps   = Nc.PowspecMLCBE.new ()\n",
    "dist = Nc.Distance.new (2.0)\n",
    "\n",
    "z_min = 0.0\n",
    "z_max = 2.0\n",
    "\n",
    "k_min = 2.65e-2\n",
    "k_max = 1.0e1\n",
    "\n",
    "ps.set_kmin (k_min)\n",
    "ps.set_kmax (k_max)\n",
    "\n",
    "ps.require_zi (z_min)\n",
    "ps.require_zf (z_max)\n",
    "\n",
    "ps.prepare (cosmo)\n",
    "dist.prepare (cosmo)\n",
    "\n",
    "print (cosmo.Omega_b0h2 ())\n",
    "print (cosmo.Omega_c0h2 ())\n",
    "print (dist.theta100CMB (cosmo))\n",
    "print (reion.get_tau (cosmo))\n",
    "print (ps.sigma_tophat_R (cosmo, 1.0e-7, 0.0, 8.0 / h))\n",
    "\n",
    "prim.props.a = 0.5\n",
    "prim.props.b = 100.0\n",
    "prim.props.c = 0.0\n"
   ]
  },
  {
   "cell_type": "markdown",
   "metadata": {},
   "source": [
    "Above we created a *Nc.HICosmoDEXcdm* object as the basic cosmological model with its default values and reparametrized $\\Omega_{DE0} \\to \\Omega_{k0}$ where we set $\\Omega_{k0} = 0$. Then, we add both the primordial model and the reionization model as sub-models of cosmo.\n",
    "\n",
    "Now that we have all the necessary components we can \"prepare\" the *Bcbe* object using our models:"
   ]
  },
  {
   "cell_type": "code",
   "execution_count": 13,
   "metadata": {},
   "outputs": [],
   "source": [
    "Bcbe.prepare (cosmo)\n",
    "\n",
    "Cls_vec = Ncm.Vector.new (lmax + 1)\n",
    "\n",
    "Bcbe.get_TT_Cls (Cls_vec)\n",
    "\n",
    "ell = np.array (list (range (2, lmax + 1)))\n",
    "\n",
    "Cls_a = np.array (Cls_vec.dup_array ()[2:])\n",
    "Dls_a = ell * (ell + 1.0) * Cls_a\n"
   ]
  },
  {
   "cell_type": "markdown",
   "metadata": {},
   "source": [
    "Above we prepare *Bcbe*, create a new vector to hold the $C_\\ell$s, and an array representing the values of $\\ell$. Then, we define the array *Dls* defined by $D_\\ell = \\ell(\\ell+1)C_\\ell$. Below we plot our result:"
   ]
  },
  {
   "cell_type": "code",
   "execution_count": 14,
   "metadata": {},
   "outputs": [
    {
     "data": {
      "image/png": "[encoded data removed]",
      "text/plain": [
       "<Figure size 1008x504 with 1 Axes>"
      ]
     },
     "metadata": {
      "needs_background": "light"
     },
     "output_type": "display_data"
    }
   ],
   "source": [
    "plt.figure (figsize=(14, 7))\n",
    "\n",
    "plt.xscale('log')\n",
    "plt.plot (ell, Dls_a, 'r', label=\"default parameters\")\n",
    "\n",
    "plt.xlabel (r'$\\ell$')\n",
    "plt.ylabel (r'$D_\\ell$')\n",
    "leg = plt.legend (loc = 'best')\n"
   ]
  },
  {
   "cell_type": "markdown",
   "metadata": {},
   "source": [
    "To compare with the simple power-law case we just need to set the parameter $a=0$ (see [here](#The-primordial-power-spectrum:)). "
   ]
  },
  {
   "cell_type": "code",
   "execution_count": 15,
   "metadata": {},
   "outputs": [],
   "source": [
    "prim.props.a = 0.0\n",
    "\n",
    "Bcbe.prepare (cosmo)\n",
    "Bcbe.get_TT_Cls (Cls_vec)\n",
    "\n",
    "ClsPlaw_a = np.array (Cls_vec.dup_array ()[2:])\n",
    "DlsPlaw_a = ell * (ell + 1.0) * ClsPlaw_a"
   ]
  },
  {
   "cell_type": "markdown",
   "metadata": {},
   "source": [
    "And plot both together:"
   ]
  },
  {
   "cell_type": "code",
   "execution_count": 16,
   "metadata": {},
   "outputs": [
    {
     "data": {
      "image/png": "[encoded data removed]",
      "text/plain": [
       "<Figure size 1008x504 with 1 Axes>"
      ]
     },
     "metadata": {
      "needs_background": "light"
     },
     "output_type": "display_data"
    }
   ],
   "source": [
    "plt.figure (figsize=(14, 7))\n",
    "\n",
    "plt.xscale('log')\n",
    "plt.plot (ell, Dls_a,     'r', label=\"default parameters\")\n",
    "plt.plot (ell, DlsPlaw_a, 'b', label=\"power-law\")\n",
    "\n",
    "plt.xlabel (r'$\\ell$')\n",
    "plt.ylabel (r'$D_\\ell$')\n",
    "leg = plt.legend (loc = 'best')\n"
   ]
  }
 ],
 "metadata": {
  "kernelspec": {
   "display_name": "Python 3",
   "language": "python",
   "name": "python3"
  },
  "language_info": {
   "codemirror_mode": {
    "name": "ipython",
    "version": 3
   },
   "file_extension": ".py",
   "mimetype": "text/x-python",
   "name": "python",
   "nbconvert_exporter": "python",
   "pygments_lexer": "ipython3",
   "version": "3.8.3"
  }
 },
 "nbformat": 4,
 "nbformat_minor": 2
}
