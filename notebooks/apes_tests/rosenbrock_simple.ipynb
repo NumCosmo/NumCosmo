{
 "cells": [
  {
   "cell_type": "raw",
   "id": "f99024c2",
   "metadata": {},
   "source": [
    "---\n",
    "title: \"Samplers comparison\"\n",
    "format:\n",
    "  html:\n",
    "    code-fold: true\n",
    "jupyer: python3\n",
    "\n",
    "---"
   ]
  },
  {
   "cell_type": "markdown",
   "id": "c4d2ed1e",
   "metadata": {},
   "source": [
    "**License**\n",
    "\n",
    " rosenbrock_simple\n",
    "\n",
    " Sun Apr 02 21:13:00 2023\\\n",
    " Copyright  2023\\\n",
    " Sandro Dias Pinto Vitenti  <vitenti@uel.br>\n",
    "___\n",
    " rosenbrock_simple\\\n",
    " Copyright (C) 2023 Sandro Dias Pinto Vitenti  <vitenti@uel.br>\n",
    "\n",
    " numcosmo is free software: you can redistribute it and/or modify it\n",
    " under the terms of the GNU General Public License as published by the\n",
    " Free Software Foundation, either version 3 of the License, or\n",
    " (at your option) any later version.\n",
    "\n",
    " numcosmo is distributed in the hope that it will be useful, but\n",
    " WITHOUT ANY WARRANTY; without even the implied warranty of\n",
    " MERCHANTABILITY or FITNESS FOR A PARTICULAR PURPOSE.\n",
    " See the GNU General Public License for more details.\n",
    "\n",
    " You should have received a copy of the GNU General Public License along\n",
    " with this program.  If not, see <http://www.gnu.org/licenses/>."
   ]
  },
  {
   "cell_type": "code",
   "execution_count": null,
   "id": "regulated-ballet",
   "metadata": {},
   "outputs": [],
   "source": [
    "import sys\n",
    "\n",
    "from numcosmo_py import Ncm\n",
    "\n",
    "import matplotlib.pyplot as plt\n",
    "from matplotlib.animation import FuncAnimation\n",
    "from IPython.display import HTML\n",
    "\n",
    "import numpy as np\n",
    "import math\n",
    "\n",
    "import getdist\n",
    "from getdist import plots\n",
    "import pandas as pd\n",
    "import getdist\n",
    "from getdist import plots\n",
    "\n",
    "\n",
    "from numcosmo_py.sampling.apes import APES\n",
    "from numcosmo_py.sampling.catalog import Catalog\n",
    "from numcosmo_py.plotting.tools import set_rc_params_article\n",
    "\n",
    "import emcee\n",
    "import zeus\n",
    "\n"
   ]
  },
  {
   "cell_type": "code",
   "execution_count": null,
   "id": "comparative-matthew",
   "metadata": {},
   "outputs": [],
   "source": [
    "Ncm.cfg_init()\n",
    "Ncm.cfg_set_log_handler(lambda msg: sys.stdout.write(msg) and sys.stdout.flush())\n",
    "\n",
    "ssize=300000\n",
    "nwalkers = 300\n",
    "verbose=False"
   ]
  },
  {
   "cell_type": "code",
   "execution_count": null,
   "id": "41bd0899",
   "metadata": {},
   "outputs": [],
   "source": [
    "def log_prob(x, ivar):\n",
    "    return -0.5 * (100.0 * (x[1] - x[0] * x[0])**2 + (1.0 - x[0])**2) * 1.0e-1\n",
    "\n",
    "ndim, nwalkers = 2, nwalkers\n",
    "p0 = np.random.randn(nwalkers, ndim)"
   ]
  },
  {
   "cell_type": "code",
   "execution_count": null,
   "id": "7f40217f",
   "metadata": {},
   "outputs": [],
   "source": [
    "sampler_apes = APES(nwalkers=nwalkers, ndim=ndim, model=None, log_prob=log_prob, args=[0])\n",
    "sampler_apes.run_mcmc(p0, ssize // nwalkers)\n",
    "mcat_apes = sampler_apes.get_catalog()\n",
    "mcat_apes.trim(50)"
   ]
  },
  {
   "cell_type": "code",
   "execution_count": null,
   "id": "proof-member",
   "metadata": {},
   "outputs": [],
   "source": [
    "sampler_emcee = emcee.EnsembleSampler(nwalkers, ndim, log_prob, args=[0])\n",
    "state_emcee = sampler_emcee.run_mcmc(p0, ssize // nwalkers)\n",
    "chain_emcee = sampler_emcee.get_chain(flat=True)\n",
    "log_prob_emcee = sampler_emcee.get_log_prob(flat=True)\n",
    "mcat_emcee = Catalog(ndim=ndim, nwalkers=nwalkers, run_type=\"EMCEE\")\n",
    "mcat_emcee.add_points_m2lnp(chain_emcee, -2.0 * log_prob_emcee)\n",
    "mcat_emcee.trim(50)"
   ]
  },
  {
   "cell_type": "code",
   "execution_count": null,
   "id": "c032d2e7",
   "metadata": {},
   "outputs": [],
   "source": [
    "sampler_zeus = zeus.EnsembleSampler(nwalkers, ndim, log_prob, args=[0], verbose=verbose)\n",
    "sampler_zeus.run_mcmc(p0, ssize // nwalkers, progress=False)\n",
    "chain_zeus = sampler_zeus.get_chain(flat=True)\n",
    "log_prob_zeus = sampler_zeus.get_log_prob(flat=True)\n",
    "mcat_zeus = Catalog(ndim=ndim, nwalkers=nwalkers, run_type=\"ZEUS\")\n",
    "mcat_zeus.add_points_m2lnp(chain_zeus, -2.0 * log_prob_zeus, interweaved=False)\n",
    "mcat_zeus.trim(50)"
   ]
  },
  {
   "cell_type": "code",
   "execution_count": null,
   "id": "65422ec8",
   "metadata": {},
   "outputs": [],
   "source": [
    "sigma = np.sqrt([10.0, 2401/10])\n",
    "Ncm.cfg_msg_sepa()\n",
    "mcat_apes.print_status()\n",
    "Ncm.cfg_msg_sepa()\n",
    "mcat_emcee.print_status()\n",
    "Ncm.cfg_msg_sepa()\n",
    "mcat_zeus.print_status()"
   ]
  },
  {
   "cell_type": "code",
   "execution_count": null,
   "id": "2647e55a",
   "metadata": {},
   "outputs": [],
   "source": [
    "mean = np.array([1.0, 11.0])\n",
    "print(np.abs(mcat_apes.get_mean()/mean - 1.0))\n",
    "print(np.abs(mcat_emcee.get_mean()/mean - 1.0))\n",
    "print(np.abs(mcat_zeus.get_mean()/mean - 1.0))"
   ]
  },
  {
   "cell_type": "code",
   "execution_count": null,
   "id": "f49498f3",
   "metadata": {},
   "outputs": [],
   "source": [
    "print(np.abs(np.sqrt(np.diagonal(mcat_apes.get_covar()))/sigma - 1.0))\n",
    "print(np.abs(np.sqrt(np.diagonal(mcat_emcee.get_covar()))/sigma - 1.0))\n",
    "print(np.abs(np.sqrt(np.diagonal(mcat_zeus.get_covar()))/sigma - 1.0))"
   ]
  },
  {
   "cell_type": "code",
   "execution_count": null,
   "id": "b0bdd50f",
   "metadata": {},
   "outputs": [],
   "source": [
    "mcs_apes = mcat_apes.get_mcsamples(\"APES\")\n",
    "mcs_emcee = mcat_emcee.get_mcsamples(\"EMCEE\")\n",
    "mcs_zeus = mcat_zeus.get_mcsamples(\"ZEUS\")"
   ]
  },
  {
   "cell_type": "code",
   "execution_count": null,
   "id": "88d0e2d8",
   "metadata": {},
   "outputs": [],
   "source": [
    "set_rc_params_article(ncol=2)\n",
    "\n",
    "g = getdist.plots.get_subplot_plotter(width_inch=plt.rcParams[\"figure.figsize\"][0])\n",
    "g.settings.linewidth = 0.01\n",
    "g.triangle_plot([mcs_apes, mcs_emcee, mcs_zeus], shaded=True)\n"
   ]
  }
 ],
 "metadata": {
  "kernelspec": {
   "display_name": "Python 3 (ipykernel)",
   "language": "python",
   "name": "python3"
  },
  "language_info": {
   "codemirror_mode": {
    "name": "ipython",
    "version": 3
   },
   "file_extension": ".py",
   "mimetype": "text/x-python",
   "name": "python",
   "nbconvert_exporter": "python",
   "pygments_lexer": "ipython3"
  },
  "vscode": {
   "interpreter": {
    "hash": "767d51c1340bd893661ea55ea3124f6de3c7a262a8b4abca0554b478b1e2ff90"
   }
  }
 },
 "nbformat": 4,
 "nbformat_minor": 5
}
