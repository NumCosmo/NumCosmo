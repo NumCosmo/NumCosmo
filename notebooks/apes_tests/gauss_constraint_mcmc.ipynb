{
 "cells": [
  {
   "cell_type": "markdown",
   "id": "c4d2ed1e",
   "metadata": {},
   "source": [
    "---\n",
    "**License**\n",
    "\n",
    " gauss_constraint_mcmc\n",
    "\n",
    " Mon Jun 26 17:30:00 2023\\\n",
    " Copyright  2023\\\n",
    " Sandro Dias Pinto Vitenti  <vitenti@uel.br>\n",
    "\n",
    "---\n",
    "---\n",
    "\n",
    " gauss_constraint_mcmc\\\n",
    " Copyright (C) 2023 Sandro Dias Pinto Vitenti  <vitenti@uel.br>\n",
    "\n",
    " numcosmo is free software: you can redistribute it and/or modify it\n",
    " under the terms of the GNU General Public License as published by the\n",
    " Free Software Foundation, either version 3 of the License, or\n",
    " (at your option) any later version.\n",
    "\n",
    " numcosmo is distributed in the hope that it will be useful, but\n",
    " WITHOUT ANY WARRANTY; without even the implied warranty of\n",
    " MERCHANTABILITY or FITNESS FOR A PARTICULAR PURPOSE.\n",
    " See the GNU General Public License for more details.\n",
    "\n",
    " You should have received a copy of the GNU General Public License along\n",
    " with this program.  If not, see <http://www.gnu.org/licenses/>.\n",
    " \n",
    "---"
   ]
  },
  {
   "cell_type": "code",
   "execution_count": null,
   "id": "regulated-ballet",
   "metadata": {},
   "outputs": [],
   "source": [
    "import sys\n",
    "\n",
    "from numcosmo_py import Ncm\n",
    "\n",
    "import matplotlib.pyplot as plt\n",
    "from matplotlib.animation import FuncAnimation\n",
    "from IPython.display import HTML\n",
    "\n",
    "import numpy as np\n",
    "import math\n",
    "\n",
    "import getdist\n",
    "from getdist import plots\n",
    "from getdist import MCSamples\n",
    "\n",
    "from numcosmo_py.experiments.gauss_constraint import run_gauss_constraint_mcmc\n",
    "\n",
    "from numcosmo_py.plotting.tools import confidence_ellipse\n",
    "from numcosmo_py.plotting.tools import set_rc_params_article\n",
    "from numcosmo_py.plotting.getdist import mcat_to_mcsamples\n",
    "from numcosmo_py.sampling.esmcmc import mcat_print_info"
   ]
  },
  {
   "cell_type": "code",
   "execution_count": null,
   "id": "comparative-matthew",
   "metadata": {},
   "outputs": [],
   "source": [
    "Ncm.cfg_init()\n",
    "Ncm.cfg_set_log_handler(lambda msg: sys.stdout.write(msg) and sys.stdout.flush())\n",
    "\n",
    "nthreads = 4\n",
    "nwalkers = 30000\n",
    "burnin = 49\n",
    "thin = 1\n",
    "dim = 50\n",
    "save_figs = True\n",
    "\n",
    "Ncm.func_eval_set_max_threads(nthreads)\n",
    "Ncm.func_eval_log_pool_stats()"
   ]
  },
  {
   "cell_type": "code",
   "execution_count": null,
   "id": "41bd0899",
   "metadata": {},
   "outputs": [],
   "source": [
    "catalog_apes = f\"gauss_constraint_{dim}d_mcmc_catalog_WalkerTypes.APES_{nwalkers}.fits\"\n",
    "catalog_tmvn = run_gauss_constraint_mcmc(\n",
    "    sampler=\"apes\", nwalkers=nwalkers, dim=dim, ssize=1000000, tmvn=True\n",
    ")\n",
    "table_tmvn = np.loadtxt(catalog_tmvn)"
   ]
  },
  {
   "cell_type": "code",
   "execution_count": null,
   "id": "charged-therapy",
   "metadata": {},
   "outputs": [],
   "source": [
    "mcat_apes = Ncm.MSetCatalog.new_from_file_ro(catalog_apes, nwalkers * burnin)\n",
    "\n",
    "assert mcat_apes.nchains() == nwalkers"
   ]
  },
  {
   "cell_type": "code",
   "execution_count": null,
   "id": "7f40217f",
   "metadata": {},
   "outputs": [],
   "source": [
    "mset = mcat_apes.peek_mset()\n",
    "mmvnd = mset.peek(Ncm.ModelMVND.id())\n",
    "for i in range(dim):\n",
    "    mmvnd.param_peek_desc(i).props.symbol = rf\"x_{{{i+1}}}\""
   ]
  },
  {
   "cell_type": "code",
   "execution_count": null,
   "id": "proof-member",
   "metadata": {},
   "outputs": [],
   "source": [
    "sample_apes, rows_apes, posterior_apes = mcat_to_mcsamples(\n",
    "    mcat_apes,\n",
    "    \"APES\",\n",
    "    collapse=True,\n",
    ")"
   ]
  },
  {
   "cell_type": "code",
   "execution_count": null,
   "id": "e20efb1b",
   "metadata": {},
   "outputs": [],
   "source": [
    "names = [pn.name for pn in sample_apes.paramNames.names]\n",
    "labels = [pn.label for pn in sample_apes.paramNames.names]\n",
    "\n",
    "posterior_tmvn = 0.5 * table_tmvn[:, 0]\n",
    "rows_tmvn = np.delete(table_tmvn, 0, 1)\n",
    "\n",
    "sample_tmvn = MCSamples(\n",
    "    samples=rows_tmvn, loglikes=posterior_tmvn, names=names, labels=labels, label=\"TMVN\"\n",
    ")"
   ]
  },
  {
   "cell_type": "code",
   "execution_count": null,
   "id": "3562c8e9",
   "metadata": {},
   "outputs": [],
   "source": [
    "set_rc_params_article(ncol=2)\n",
    "\n",
    "nparams = 8\n",
    "indices = range(0, nparams)\n",
    "indices_odd = range(nparams, 2 * nparams, 2)\n",
    "params = [f\"x_{i+1}\" for i in indices]\n",
    "\n",
    "param_limits = {f\"x_{i+1}\": [0.0 if i % 2 == 0 else -2.0, 2.0] for i in indices}\n",
    "\n",
    "g = plots.get_subplot_plotter(\n",
    "    width_inch=plt.rcParams[\"figure.figsize\"][0],\n",
    ")\n",
    "g.settings.linewidth = 0.01\n",
    "g.triangle_plot(\n",
    "    [sample_tmvn, sample_apes],\n",
    "    shaded=True,\n",
    "    params=params,\n",
    "    param_limits=param_limits,\n",
    "    diag1d_kwargs={\"nbands\": 3},\n",
    ")\n",
    "\n",
    "if save_figs:\n",
    "    plt.tight_layout()\n",
    "    plt.savefig(f\"gauss_constraint_{dim}d_corner.pdf\")"
   ]
  },
  {
   "cell_type": "code",
   "execution_count": null,
   "id": "0f3d1915",
   "metadata": {},
   "outputs": [],
   "source": [
    "kernel = Ncm.StatsDistKernelST.new(dim, 1.0)\n",
    "interp_vkde = Ncm.StatsDistVKDE.new(kernel, Ncm.StatsDistCV.NONE)\n",
    "interp_kde = Ncm.StatsDistKDE.new(kernel, Ncm.StatsDistCV.NONE)\n",
    "\n",
    "# interp_vkde.set_cov_type(Ncm.StatsDistKDECovType.ROBUST)\n",
    "# interp_kde.set_cov_type(Ncm.StatsDistKDECovType.ROBUST)\n",
    "interp_vkde.set_over_smooth(1.1)\n",
    "interp_kde.set_over_smooth(0.2)\n",
    "\n",
    "row_kde = rows_tmvn\n",
    "posterior_kde = posterior_tmvn\n",
    "label_kde = \"tmvn\""
   ]
  },
  {
   "cell_type": "code",
   "execution_count": null,
   "id": "102e719d",
   "metadata": {},
   "outputs": [],
   "source": [
    "max_n = len(row_kde)\n",
    "ssize = int(nwalkers / 2)\n",
    "\n",
    "interp_vkde.reset()\n",
    "interp_kde.reset()\n",
    "\n",
    "for theta in row_kde[-ssize:]:\n",
    "    theta_v = Ncm.Vector.new_array(theta)\n",
    "    interp_vkde.add_obs(theta_v)\n",
    "    interp_kde.add_obs(theta_v)\n",
    "\n",
    "m2lnL_v = Ncm.Vector.new_array(2.0 * posterior_kde[-ssize:])\n",
    "\n",
    "interp_vkde.prepare_interp(m2lnL_v)\n",
    "interp_kde.prepare_interp(m2lnL_v)"
   ]
  },
  {
   "cell_type": "code",
   "execution_count": null,
   "id": "ab643c14",
   "metadata": {},
   "outputs": [],
   "source": [
    "set_rc_params_article(ncol=2)\n",
    "fig, ax = plt.subplots(1, 1)\n",
    "\n",
    "weights = np.array(interp_vkde.peek_weights().dup_array())\n",
    "weights = weights / np.sum(weights)\n",
    "lnweights = np.log(weights)\n",
    "\n",
    "lnweights = lnweights - np.min(lnweights)\n",
    "lnweights = lnweights / np.max(lnweights)\n",
    "\n",
    "pair = [0, 2]\n",
    "max_w = interp_vkde.peek_weights().get_max()\n",
    "\n",
    "\n",
    "for i in range(interp_vkde.get_sample_size()):\n",
    "    y_i, cov_i, n_i, w_i = interp_vkde.get_Ki(i)\n",
    "    mu = np.array(y_i.dup_array())[pair]\n",
    "    cov = np.array([[cov_i.get(i, j) for j in pair] for i in pair])\n",
    "    cov = cov * 1.0\n",
    "    confidence_ellipse(mu, cov, ax, facecolor=\"blue\", alpha=w_i / max_w)\n",
    "\n",
    "ax.set_xlabel(\"$\\mu_0$\")\n",
    "ax.set_ylabel(\"$\\mu_2$\")\n",
    "ax.autoscale_view()\n",
    "plt.grid()\n",
    "\n",
    "if save_figs:\n",
    "    plt.tight_layout()\n",
    "    plt.savefig(f\"gauss_constraint_{dim}d_{label_kde}_vkde_kernels.pdf\")"
   ]
  },
  {
   "cell_type": "code",
   "execution_count": null,
   "id": "99841aca",
   "metadata": {},
   "outputs": [],
   "source": [
    "set_rc_params_article(ncol=2)\n",
    "fig, ax = plt.subplots(1, 1)\n",
    "\n",
    "max_w = interp_kde.peek_weights().get_max()\n",
    "\n",
    "for i in range(interp_kde.get_sample_size()):\n",
    "    y_i, cov_i, n_i, w_i = interp_kde.get_Ki(i)\n",
    "    mu = np.array(y_i.dup_array())[pair]\n",
    "    cov = np.array([[cov_i.get(i, j) for j in pair] for i in pair])\n",
    "    cov = cov * 1.0\n",
    "\n",
    "    confidence_ellipse(mu, cov, ax, facecolor=\"blue\", alpha=w_i / max_w)\n",
    "\n",
    "ax.set_xlabel(\"$x_1$\")\n",
    "ax.set_ylabel(\"$x_2$\")\n",
    "ax.autoscale_view()\n",
    "plt.grid()\n",
    "\n",
    "if save_figs:\n",
    "    plt.tight_layout()\n",
    "    plt.savefig(f\"gauss_constraint_{dim}d_{label_kde}_kde_kernels.pdf\")"
   ]
  },
  {
   "cell_type": "code",
   "execution_count": null,
   "id": "b99a725b",
   "metadata": {},
   "outputs": [],
   "source": [
    "tmvn_mu = 2.0 * posterior_tmvn\n",
    "print(np.mean(tmvn_mu))\n",
    "print(np.std(tmvn_mu))\n",
    "plt.hist(tmvn_mu, bins=50, density=True, alpha=0.5, label=\"TMVN\")\n",
    "\n",
    "apes_mu = 2.0 * posterior_apes\n",
    "print(np.mean(apes_mu))\n",
    "print(np.std(apes_mu))\n",
    "plt.hist(apes_mu, bins=50, density=True, alpha=0.5, label=\"APES\")\n",
    "\n",
    "plt.legend(loc=\"best\")\n",
    "\n",
    "pass"
   ]
  }
 ],
 "metadata": {
  "kernelspec": {
   "display_name": "Python 3 (ipykernel)",
   "language": "python",
   "name": "python3"
  },
  "language_info": {
   "codemirror_mode": {
    "name": "ipython",
    "version": 3
   },
   "file_extension": ".py",
   "mimetype": "text/x-python",
   "name": "python",
   "nbconvert_exporter": "python",
   "pygments_lexer": "ipython3"
  },
  "vscode": {
   "interpreter": {
    "hash": "767d51c1340bd893661ea55ea3124f6de3c7a262a8b4abca0554b478b1e2ff90"
   }
  }
 },
 "nbformat": 4,
 "nbformat_minor": 5
}
