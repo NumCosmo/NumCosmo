{
 "cells": [
  {
   "cell_type": "markdown",
   "id": "c4d2ed1e",
   "metadata": {},
   "source": [
    "---\n",
    "**License**\n",
    "\n",
    " rosenbrock_mcmc\n",
    "\n",
    " Thu Feb 07 16:49:00 2023\\\n",
    " Copyright  2023\\\n",
    " Sandro Dias Pinto Vitenti  <vitenti@uel.br>\n",
    "\n",
    "---\n",
    "---\n",
    "\n",
    " rosenbrock_mcmc\\\n",
    " Copyright (C) 2023 Sandro Dias Pinto Vitenti  <vitenti@uel.br>\n",
    "\n",
    " numcosmo is free software: you can redistribute it and/or modify it\n",
    " under the terms of the GNU General Public License as published by the\n",
    " Free Software Foundation, either version 3 of the License, or\n",
    " (at your option) any later version.\n",
    "\n",
    " numcosmo is distributed in the hope that it will be useful, but\n",
    " WITHOUT ANY WARRANTY; without even the implied warranty of\n",
    " MERCHANTABILITY or FITNESS FOR A PARTICULAR PURPOSE.\n",
    " See the GNU General Public License for more details.\n",
    "\n",
    " You should have received a copy of the GNU General Public License along\n",
    " with this program.  If not, see <http://www.gnu.org/licenses/>.\n",
    " \n",
    "---"
   ]
  },
  {
   "cell_type": "code",
   "execution_count": null,
   "id": "regulated-ballet",
   "metadata": {},
   "outputs": [],
   "source": [
    "import sys\n",
    "\n",
    "from numcosmo_py import Ncm\n",
    "\n",
    "import matplotlib.pyplot as plt\n",
    "import matplotlib.animation as animation\n",
    "from matplotlib.animation import FuncAnimation\n",
    "from IPython.display import HTML\n",
    "\n",
    "import numpy as np\n",
    "import math\n",
    "\n",
    "import getdist\n",
    "from getdist import plots\n",
    "\n",
    "from numcosmo_py.experiments.rosenbrock import run_rosenbrock_mcmc\n",
    "\n",
    "from numcosmo_py.plotting.tools import confidence_ellipse\n",
    "from numcosmo_py.plotting.tools import set_rc_params_article\n",
    "from numcosmo_py.plotting.getdist import mcat_to_mcsamples\n",
    "from numcosmo_py.sampling.esmcmc import mcat_print_info"
   ]
  },
  {
   "cell_type": "code",
   "execution_count": null,
   "id": "comparative-matthew",
   "metadata": {},
   "outputs": [],
   "source": [
    "Ncm.cfg_init()\n",
    "Ncm.cfg_set_log_handler(lambda msg: sys.stdout.write(msg) and sys.stdout.flush())\n",
    "\n",
    "ssize = 5000000\n",
    "nthreads = 4\n",
    "nwalkers = 320\n",
    "burnin = 5000\n",
    "thin = 10\n",
    "save_figs = True\n",
    "verbose = False\n",
    "\n",
    "Ncm.func_eval_set_max_threads(nthreads)\n",
    "Ncm.func_eval_log_pool_stats()"
   ]
  },
  {
   "cell_type": "code",
   "execution_count": null,
   "id": "41bd0899",
   "metadata": {},
   "outputs": [],
   "source": [
    "catalog_apes = run_rosenbrock_mcmc(\n",
    "    sampler=\"apes\", nwalkers=nwalkers, ssize=ssize, verbose=verbose, nthreads=nthreads\n",
    ")\n",
    "catalog_stretch = run_rosenbrock_mcmc(\n",
    "    sampler=\"stretch\",\n",
    "    nwalkers=nwalkers,\n",
    "    ssize=ssize,\n",
    "    verbose=verbose,\n",
    "    nthreads=nthreads,\n",
    ")"
   ]
  },
  {
   "cell_type": "code",
   "execution_count": null,
   "id": "charged-therapy",
   "metadata": {},
   "outputs": [],
   "source": [
    "mcat_apes = Ncm.MSetCatalog.new_from_file_ro(catalog_apes, nwalkers * burnin)\n",
    "mcat_stretch = Ncm.MSetCatalog.new_from_file_ro(catalog_stretch, nwalkers * burnin)\n",
    "\n",
    "assert mcat_apes.nchains() == nwalkers\n",
    "assert mcat_apes.nchains() == mcat_stretch.nchains()"
   ]
  },
  {
   "cell_type": "code",
   "execution_count": null,
   "id": "7f40217f",
   "metadata": {},
   "outputs": [],
   "source": [
    "mcat_print_info(mcat_apes)\n",
    "mcat_print_info(mcat_stretch)"
   ]
  },
  {
   "cell_type": "code",
   "execution_count": null,
   "id": "proof-member",
   "metadata": {},
   "outputs": [],
   "source": [
    "sample_apes, rows_apes, posterior_apes = mcat_to_mcsamples(\n",
    "    mcat_apes,\n",
    "    \"APES\",\n",
    "    thin=thin,\n",
    ")\n",
    "del mcat_apes\n",
    "\n",
    "sample_stretch, rows_stretch, posterior_stretch = mcat_to_mcsamples(\n",
    "    mcat_stretch,\n",
    "    \"STRETCH\",\n",
    "    thin=thin,\n",
    ")\n",
    "del mcat_stretch"
   ]
  },
  {
   "cell_type": "code",
   "execution_count": null,
   "id": "c032d2e7",
   "metadata": {},
   "outputs": [],
   "source": [
    "print(\n",
    "    sample_apes.getConvergeTests(\n",
    "        what=(\"MeanVar\", \"GelmanRubin\", \"SplitTest\", \"CorrLengths\"), feedback=True\n",
    "    )\n",
    ")\n",
    "print(\n",
    "    sample_stretch.getConvergeTests(\n",
    "        what=(\"MeanVar\", \"GelmanRubin\", \"SplitTest\", \"CorrLengths\"), feedback=True\n",
    "    )\n",
    ")"
   ]
  },
  {
   "cell_type": "code",
   "execution_count": null,
   "id": "3562c8e9",
   "metadata": {},
   "outputs": [],
   "source": [
    "set_rc_params_article(ncol=2)\n",
    "\n",
    "g = getdist.plots.get_subplot_plotter(width_inch=plt.rcParams[\"figure.figsize\"][0])\n",
    "g.settings.linewidth = 0.01\n",
    "g.triangle_plot([sample_apes, sample_stretch], shaded=True)\n",
    "\n",
    "if save_figs:\n",
    "    plt.savefig(\"rosenbrock_corner.pdf\", bbox_inches=\"tight\")"
   ]
  },
  {
   "cell_type": "code",
   "execution_count": null,
   "id": "caroline-circulation",
   "metadata": {},
   "outputs": [],
   "source": [
    "set_rc_params_article(ncol=2)\n",
    "fig, ax = plt.subplots()\n",
    "ax.set(xlim=(-10, 14), ylim=(-10, 150))\n",
    "ax.set_xlabel(\"$x_1$\")\n",
    "ax.set_ylabel(\"$x_2$\")\n",
    "\n",
    "scat_apes = ax.scatter(rows_apes[0:nwalkers, 0], rows_apes[0:nwalkers, 1], s=4, c=\"red\")\n",
    "scat_stretch = ax.scatter(\n",
    "    rows_stretch[0:nwalkers, 0], rows_stretch[0:nwalkers, 1], s=4, c=\"blue\"\n",
    ")\n",
    "\n",
    "nframes = 600\n",
    "b = np.unique(\n",
    "    np.floor(np.linspace(0, rows_apes.shape[0] / nwalkers, nframes)).astype(int)\n",
    ")\n",
    "nframes = len(b)\n",
    "\n",
    "\n",
    "def animate(i):\n",
    "    x_i = rows_apes[nwalkers * b[i] : nwalkers * b[i + 1], 0]\n",
    "    y_i = rows_apes[nwalkers * b[i] : nwalkers * b[i + 1], 1]\n",
    "    x2_i = rows_stretch[nwalkers * b[i] : nwalkers * b[i + 1], 0]\n",
    "    y2_i = rows_stretch[nwalkers * b[i] : nwalkers * b[i + 1], 1]\n",
    "    scat_apes.set_offsets(np.c_[x_i, y_i])\n",
    "    scat_stretch.set_offsets(np.c_[x2_i, y2_i])\n",
    "\n",
    "\n",
    "anim = FuncAnimation(fig, animate, interval=50, frames=nframes - 1)\n",
    "pass"
   ]
  },
  {
   "cell_type": "code",
   "execution_count": null,
   "id": "458a2cc4",
   "metadata": {},
   "outputs": [],
   "source": [
    "HTML(anim.to_jshtml())"
   ]
  },
  {
   "cell_type": "code",
   "execution_count": null,
   "id": "aad6b4da",
   "metadata": {},
   "outputs": [],
   "source": [
    "writervideo = animation.FFMpegWriter(fps=60)\n",
    "anim.save('rosenbrock_anim.mp4', writer=writervideo)\n",
    "plt.close()"
   ]
  },
  {
   "cell_type": "code",
   "execution_count": null,
   "id": "c6d9443c",
   "metadata": {},
   "outputs": [],
   "source": [
    "set_rc_params_article(ncol=1)\n",
    "\n",
    "fig = plt.figure()\n",
    "gs = fig.add_gridspec(2, hspace=0)\n",
    "axs = gs.subplots(sharex=True)\n",
    "fig.suptitle(\"Parameter evolution\")\n",
    "\n",
    "step = 5\n",
    "alpha = 0.6\n",
    "t = np.arange(len(rows_apes) / nwalkers, step=step)\n",
    "\n",
    "for i in range(0, nwalkers, 100):\n",
    "    x_1_apes = rows_apes[i::nwalkers, 0]\n",
    "    x_1_stretch = rows_stretch[i::nwalkers, 0]\n",
    "    x_2_apes = rows_apes[i::nwalkers, 1]\n",
    "    x_2_stretch = rows_stretch[i::nwalkers, 1]\n",
    "\n",
    "    axs[0].scatter(t, x_1_apes[::step], s=0.1, alpha=alpha, color=\"r\")\n",
    "    axs[0].scatter(t, x_1_stretch[::step], s=0.1, alpha=alpha, color=\"b\")\n",
    "\n",
    "    axs[1].scatter(t, x_2_apes[::step], s=0.1, alpha=alpha, color=\"r\")\n",
    "    axs[1].scatter(t, x_2_stretch[::step], s=0.1, alpha=alpha, color=\"b\")\n",
    "\n",
    "axs[1].set_yscale(\"symlog\")\n",
    "\n",
    "axs[0].set_ylabel(\"$x_1$\")\n",
    "axs[1].set_ylabel(\"$x_2$\")\n",
    "axs[1].set_xlabel(\"$t$\")\n",
    "\n",
    "if save_figs:\n",
    "    plt.tight_layout()\n",
    "    plt.savefig(\"rosenbrock_param_evol.pdf\", bbox_inches=\"tight\")\n",
    "\n",
    "pass"
   ]
  },
  {
   "cell_type": "code",
   "execution_count": null,
   "id": "varied-treasurer",
   "metadata": {},
   "outputs": [],
   "source": [
    "kernel = Ncm.StatsDistKernelST.new(2, 1.0)\n",
    "interp_vkde = Ncm.StatsDistVKDE.new(kernel, Ncm.StatsDistCV.NONE)\n",
    "interp_kde = Ncm.StatsDistKDE.new(kernel, Ncm.StatsDistCV.NONE)\n",
    "\n",
    "# interp_vkde.set_cov_type(Ncm.StatsDistKDECovType.ROBUST)\n",
    "# interp_kde.set_cov_type(Ncm.StatsDistKDECovType.ROBUST)"
   ]
  },
  {
   "cell_type": "code",
   "execution_count": null,
   "id": "3a3d4dcd",
   "metadata": {},
   "outputs": [],
   "source": [
    "max_n = len(rows_apes)\n",
    "ssize = int(nwalkers / 2)\n",
    "\n",
    "interp_vkde.reset()\n",
    "interp_kde.reset()\n",
    "\n",
    "for theta in rows_apes[-ssize:]:\n",
    "    theta_v = Ncm.Vector.new_array(theta)\n",
    "    interp_vkde.add_obs(theta_v)\n",
    "    interp_kde.add_obs(theta_v)\n",
    "\n",
    "m2lnL_v = Ncm.Vector.new_array(2.0 * posterior_apes[-ssize:])\n",
    "\n",
    "interp_vkde.prepare_interp(m2lnL_v)\n",
    "interp_kde.prepare_interp(m2lnL_v)"
   ]
  },
  {
   "cell_type": "code",
   "execution_count": null,
   "id": "ab643c14",
   "metadata": {},
   "outputs": [],
   "source": [
    "set_rc_params_article(ncol=1)\n",
    "fig, ax = plt.subplots(1, 1)\n",
    "\n",
    "for i in range(interp_vkde.get_sample_size()):\n",
    "    y_i, cov_i, n_i, w_i = interp_vkde.get_Ki(i)\n",
    "    mu = y_i.dup_array()\n",
    "    cov = np.array([[cov_i.get(i, j) for j in range(2)] for i in range(2)])\n",
    "    cov = cov * 1.0\n",
    "\n",
    "    confidence_ellipse(mu, cov, ax, edgecolor=\"red\")\n",
    "\n",
    "ax.set_xlabel(\"$x_1$\")\n",
    "ax.set_ylabel(\"$x_2$\")\n",
    "ax.autoscale_view()\n",
    "plt.grid()\n",
    "\n",
    "if save_figs:\n",
    "    plt.tight_layout()\n",
    "    plt.savefig(\"rosenbrock_vkde_kernels.pdf\", bbox_inches=\"tight\")"
   ]
  },
  {
   "cell_type": "code",
   "execution_count": null,
   "id": "99841aca",
   "metadata": {},
   "outputs": [],
   "source": [
    "set_rc_params_article(ncol=1)\n",
    "fig, ax = plt.subplots(1, 1)\n",
    "\n",
    "for i in range(interp_kde.get_sample_size()):\n",
    "    y_i, cov_i, n_i, w_i = interp_kde.get_Ki(i)\n",
    "    mu = y_i.dup_array()\n",
    "    cov = np.array([[cov_i.get(i, j) for j in range(2)] for i in range(2)])\n",
    "    cov = cov * 1.0\n",
    "\n",
    "    confidence_ellipse(mu, cov, ax, edgecolor=\"red\")\n",
    "\n",
    "ax.set_xlabel(\"$x_1$\")\n",
    "ax.set_ylabel(\"$x_2$\")\n",
    "ax.autoscale_view()\n",
    "plt.grid()\n",
    "\n",
    "if save_figs:\n",
    "    plt.tight_layout()\n",
    "    plt.savefig(\"rosenbrock_kde_kernels.pdf\", bbox_inches=\"tight\")"
   ]
  },
  {
   "cell_type": "code",
   "execution_count": null,
   "id": "4c49a2b9",
   "metadata": {},
   "outputs": [],
   "source": []
  }
 ],
 "metadata": {
  "kernelspec": {
   "display_name": "Python 3 (ipykernel)",
   "language": "python",
   "name": "python3"
  },
  "language_info": {
   "codemirror_mode": {
    "name": "ipython",
    "version": 3
   },
   "file_extension": ".py",
   "mimetype": "text/x-python",
   "name": "python",
   "nbconvert_exporter": "python",
   "pygments_lexer": "ipython3"
  },
  "vscode": {
   "interpreter": {
    "hash": "767d51c1340bd893661ea55ea3124f6de3c7a262a8b4abca0554b478b1e2ff90"
   }
  }
 },
 "nbformat": 4,
 "nbformat_minor": 5
}
