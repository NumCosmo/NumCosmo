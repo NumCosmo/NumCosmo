{
 "cells": [
  {
   "cell_type": "markdown",
   "metadata": {},
   "source": [
    "---\n",
    "**License**\n",
    "\n",
    " FisherMatrixExample\n",
    "\n",
    " Tue Jan 19 13:48:00 2021\\\n",
    " Copyright  2021\\\n",
    " Sandro Dias Pinto Vitenti <vitenti@uel.br>\n",
    "\n",
    "---\n",
    "---\n",
    "\n",
    " FisherMatrixExample\\\n",
    " Copyright (C) 2021 Sandro Dias Pinto Vitenti <vitenti@uel.br>\n",
    "\n",
    " numcosmo is free software: you can redistribute it and/or modify it\n",
    " under the terms of the GNU General Public License as published by the\n",
    " Free Software Foundation, either version 3 of the License, or\n",
    " (at your option) any later version.\n",
    "\n",
    " numcosmo is distributed in the hope that it will be useful, but\n",
    " WITHOUT ANY WARRANTY; without even the implied warranty of\n",
    " MERCHANTABILITY or FITNESS FOR A PARTICULAR PURPOSE.\n",
    " See the GNU General Public License for more details.\n",
    "\n",
    " You should have received a copy of the GNU General Public License along\n",
    " with this program.  If not, see <http://www.gnu.org/licenses/>.\n",
    " \n",
    "---"
   ]
  },
  {
   "cell_type": "code",
   "execution_count": 1,
   "metadata": {},
   "outputs": [],
   "source": [
    "try:\n",
    "  import gi\n",
    "  gi.require_version('NumCosmo', '1.0')\n",
    "  gi.require_version('NumCosmoMath', '1.0')\n",
    "except:\n",
    "  pass\n",
    "\n",
    "import sys\n",
    "import math\n",
    "import matplotlib as mpl\n",
    "import matplotlib.pyplot as plt\n",
    "import numpy as np\n",
    "\n",
    "from IPython.display import HTML\n",
    "\n",
    "from gi.repository import GObject\n",
    "from gi.repository import NumCosmo as Nc\n",
    "from gi.repository import NumCosmoMath as Ncm\n",
    "%matplotlib inline"
   ]
  },
  {
   "cell_type": "code",
   "execution_count": 2,
   "metadata": {},
   "outputs": [],
   "source": [
    "__name__ = \"NcContext\"\n",
    "\n",
    "Ncm.cfg_init ()\n",
    "Ncm.cfg_set_log_handler (lambda msg: sys.stdout.write (msg) and sys.stdout.flush ())\n",
    "obj = None"
   ]
  },
  {
   "cell_type": "markdown",
   "metadata": {},
   "source": [
    "# Model definition\n",
    "\n",
    "We define two models below, the abstract class NcModelSimple and its implementation ModelSimpleF that implements a simple function f_x that computes a straight line using two parameters alpha and beta. Most of the code is the boilerplate necessary to connect C and python and do not need to be modified."
   ]
  },
  {
   "cell_type": "code",
   "execution_count": 3,
   "metadata": {},
   "outputs": [],
   "source": [
    "mb = Ncm.ModelBuilder.new (Ncm.Model, \"NcModelSimple\", \"A simple python example model\")\n",
    "\n",
    "#              Symbol     Name     Lim inf Lim sup  Scale   Abstol  Default  FREE or FIXED\n",
    "mb.add_sparam (r'\\alpha', 'alpha', -5.0,   5.0,     0.1,    0.0,    2.0,     Ncm.ParamType.FREE)\n",
    "mb.add_sparam (r'\\beta',  'beta',   0.0,   2.0,     0.1,    0.0,    1.0,     Ncm.ParamType.FREE)\n",
    "\n",
    "if not obj:\n",
    "    GNcModelSimple = mb.create ()\n",
    "    obj = GObject.new (GNcModelSimple)\n",
    "    ModelSimple = GNcModelSimple.pytype\n",
    "    GObject.type_register (ModelSimple)\n",
    "pass\n",
    "\n",
    "class ModelSimpleF (ModelSimple):\n",
    "    some_property = GObject.Property (type = str)\n",
    "\n",
    "    def __init__ (self):\n",
    "        ModelSimple.__init__ (self)\n",
    "    \n",
    "    def f_x (self, x):\n",
    "        return np.exp (self.props.alpha + self.props.beta * x)\n",
    "\n",
    "GObject.type_register (ModelSimpleF)\n",
    "\n",
    "pass"
   ]
  },
  {
   "cell_type": "markdown",
   "metadata": {},
   "source": [
    "# Data model definition\n",
    "\n",
    "Here we create a likelihood based on a multivariate Gaussian distribution. The most important method to be implemented is do_mean_func, it must compute the theoretical mean $f(x_i)$ for the Gaussian distribution $$-2\\ln L = \\sum_{ij}\\left[(f(x_i) - y_i)C^{-1}_{ij}(f(x_j) - y_j)\\right] + \\dots$$\n",
    "\n"
   ]
  },
  {
   "cell_type": "code",
   "execution_count": 4,
   "metadata": {},
   "outputs": [],
   "source": [
    "class DGSimple (Ncm.DataGaussCov):\n",
    "    # We need one vector property to save the independent variables x\n",
    "    xv = GObject.Property (type = Ncm.Vector, flags = GObject.PARAM_READWRITE)\n",
    "\n",
    "    def __init__ (self, len = 600):\n",
    "        Ncm.DataGaussCov.__init__ (self, n_points = len)\n",
    "\n",
    "        if self.np > 0:\n",
    "            self.xv = Ncm.Vector.new (self.np)\n",
    "        else:\n",
    "            self.xv = None\n",
    "    \n",
    "        self.cov_init = False\n",
    "        if self.np > 0:\n",
    "            self.cov.set_identity ()\n",
    "            self.xv.set_zero ()\n",
    "\n",
    "    def do_get_length (self):\n",
    "        return self.np\n",
    "    def do_get_dof (self):\n",
    "        return self.np\n",
    "    def do_prepare (self, mset):\n",
    "        return\n",
    "    def do_mean_func (self, mset, vp):\n",
    "        mid = mset.get_id_by_ns (\"NcModelSimple\")\n",
    "        mF = mset.peek (mid)\n",
    "\n",
    "        for i in range (self.np):\n",
    "            x = self.xv.get (i)\n",
    "            vp.set (i, mF.f_x (x))\n",
    "\n",
    "        return\n",
    "\n",
    "    def create_random_cov (self, slm, rng):\n",
    "        ya = [slm.f_x (x) for x in self.xv.dup_array ()]\n",
    "        yv = Ncm.Vector.new_array (ya)\n",
    "\n",
    "        self.cov.fill_rand_cov2 (yv, 0.1, 0.5, 15.0, rng)\n",
    "\n",
    "GObject.type_register (DGSimple)\n",
    "pass"
   ]
  },
  {
   "cell_type": "markdown",
   "metadata": {},
   "source": [
    "# Creating data\n",
    "\n",
    "Now we have a data model but no covariance $C_{ij}$ nor data $y_i$. Let's simulate some. First we create a fiducial model. Then, a Likelihood with $15$ points, an uniformly spaced dependent variable vector and a random covariance matrix. We do not need actual data $y_i$ to compute the Fisher matrix, but we create some using resample so we can compare the Fisher and the observed Fisher matrix."
   ]
  },
  {
   "cell_type": "code",
   "execution_count": 5,
   "metadata": {},
   "outputs": [
    {
     "name": "stdout",
     "output_type": "stream",
     "text": [
      "x: 0.000 0.071 0.143 0.214 0.286 0.357 0.429 0.500 0.571 0.643 0.714 0.786 0.857 0.929 1.000\n",
      "y: 2.167 3.043 2.760 2.659 3.332 3.215 4.390 2.389 2.532 3.619 3.030 2.625 1.162 3.186 3.955\n",
      "cov: 0.285 0.193 -0.016 -0.003 0.092 -0.058 0.165 -0.064 0.010 -0.009 0.014 0.013 0.031 0.074 -0.038\n",
      "cov: 0.193 0.835 -0.017 0.034 0.068 -0.034 -0.064 0.133 -0.069 -0.098 0.069 0.072 -0.227 0.092 -0.068\n",
      "cov: -0.016 -0.017 0.115 0.035 0.010 -0.007 0.063 -0.074 -0.006 0.064 0.017 0.033 0.014 0.009 -0.016\n",
      "cov: -0.003 0.034 0.035 0.459 0.030 -0.067 -0.011 -0.106 -0.025 -0.037 -0.116 0.010 0.320 0.025 -0.056\n",
      "cov: 0.092 0.068 0.010 0.030 0.191 0.026 0.187 -0.062 -0.054 0.038 -0.031 0.028 0.062 0.068 -0.006\n",
      "cov: -0.058 -0.034 -0.007 -0.067 0.026 0.575 -0.130 0.124 -0.063 0.088 -0.012 0.051 -0.142 -0.023 0.067\n",
      "cov: 0.165 -0.064 0.063 -0.011 0.187 -0.130 1.092 -0.083 -0.031 -0.050 0.066 0.067 -0.053 0.147 -0.062\n",
      "cov: -0.064 0.133 -0.074 -0.106 -0.062 0.124 -0.083 0.820 -0.071 0.053 -0.056 -0.025 -0.011 0.129 0.038\n",
      "cov: 0.010 -0.069 -0.006 -0.025 -0.054 -0.063 -0.031 -0.071 0.139 0.008 0.081 -0.022 -0.036 0.009 -0.016\n",
      "cov: -0.009 -0.098 0.064 -0.037 0.038 0.088 -0.050 0.053 0.008 0.439 0.008 0.038 -0.231 -0.048 0.066\n",
      "cov: 0.014 0.069 0.017 -0.116 -0.031 -0.012 0.066 -0.056 0.081 0.008 0.308 0.035 -0.143 0.041 0.004\n",
      "cov: 0.013 0.072 0.033 0.010 0.028 0.051 0.067 -0.025 -0.022 0.038 0.035 0.118 0.006 -0.013 -0.021\n",
      "cov: 0.031 -0.227 0.014 0.320 0.062 -0.142 -0.053 -0.011 -0.036 -0.231 -0.143 0.006 2.057 0.050 -0.081\n",
      "cov: 0.074 0.092 0.009 0.025 0.068 -0.023 0.147 0.129 0.009 -0.048 0.041 -0.013 0.050 0.433 -0.094\n",
      "cov: -0.038 -0.068 -0.016 -0.056 -0.006 0.067 -0.062 0.038 -0.016 0.066 0.004 -0.021 -0.081 -0.094 0.193\n"
     ]
    },
    {
     "data": {
      "image/png": "[encoded data removed]",
      "text/plain": [
       "<Figure size 720x480 with 1 Axes>"
      ]
     },
     "metadata": {
      "needs_background": "light"
     },
     "output_type": "display_data"
    }
   ],
   "source": [
    "mF = ModelSimpleF ()\n",
    "mF.props.alpha = 0.9\n",
    "mF.props.beta  = 0.2\n",
    "\n",
    "mset = Ncm.MSet.empty_new ()\n",
    "mset.set (mF)\n",
    "mset.param_set_all_ftype (Ncm.ParamType.FREE)\n",
    "mset.prepare_fparam_map ()\n",
    "\n",
    "rng = Ncm.RNG.seeded_new (None, 123)\n",
    "\n",
    "dgs = DGSimple (len = 15)\n",
    "dgs.xv.set_array (np.linspace (0.0, 1.0, dgs.get_size ()))\n",
    "dgs.create_random_cov (mF, rng)\n",
    "dgs.resample (mset, rng)\n",
    "\n",
    "dgs.xv.log_vals (\"x: \", \"%.3f\", True)\n",
    "dgs.y.log_vals (\"y: \", \"%.3f\", True)\n",
    "dgs.cov.log_vals (\"cov:\", \"%.3f\")\n",
    "\n",
    "fig = plt.figure (dpi = 120)\n",
    "\n",
    "x_a = np.linspace (0.0, 1.0, 200)\n",
    "y_a = mF.f_x (x_a)\n",
    "cov_d = [dgs.cov.get (i, i) for i in range (15)]\n",
    "\n",
    "plt.errorbar (dgs.xv.dup_array (), dgs.y.dup_array (), yerr = cov_d, fmt = 'o')\n",
    "plt.plot (x_a, y_a, '-')\n",
    "\n",
    "pass"
   ]
  },
  {
   "cell_type": "markdown",
   "metadata": {},
   "source": [
    "# Creating the fit object"
   ]
  },
  {
   "cell_type": "code",
   "execution_count": 6,
   "metadata": {},
   "outputs": [],
   "source": [
    "dset = Ncm.Dataset.new ()\n",
    "dset.append_data (dgs)\n",
    "lh = Ncm.Likelihood.new (dset)\n",
    "\n",
    "fit = Ncm.Fit.new (Ncm.FitType.NLOPT, \"ln-neldermead\", lh, mset, \n",
    "                   Ncm.FitGradType.NUMDIFF_FORWARD)\n"
   ]
  },
  {
   "cell_type": "markdown",
   "metadata": {},
   "source": [
    "# Fisher matrix\n",
    "Finally we can compute the Fisher matrix at the point $\\alpha = 0.5$ and $\\beta = 0.1$"
   ]
  },
  {
   "cell_type": "code",
   "execution_count": 7,
   "metadata": {},
   "outputs": [
    {
     "name": "stdout",
     "output_type": "stream",
     "text": [
      "#----------------------------------------------------------------------------------\n",
      "# NcmMSet parameters covariance matrix\n",
      "#                                                 -------------------------------\n",
      "# alpha[15000:00] =  0.5         +/-  0.1146      |  1           | -0.7948      |\n",
      "#  beta[15000:01] =  0.1         +/-  0.1769      | -0.7948      |  1           |\n",
      "#                                                 -------------------------------\n"
     ]
    }
   ],
   "source": [
    "mF.props.alpha = 0.5\n",
    "mF.props.beta  = 0.1\n",
    "\n",
    "\n",
    "fit.fisher ()\n",
    "fit.log_covar ()"
   ]
  },
  {
   "cell_type": "markdown",
   "metadata": {},
   "source": [
    "# Observed Fisher matrix\n",
    "\n",
    "Now we can compare it with the observed Fisher matrix. They will differ since the observed fisher matrix only approximate the expected real Fisher matrix at the best fit."
   ]
  },
  {
   "cell_type": "code",
   "execution_count": 8,
   "metadata": {},
   "outputs": [
    {
     "name": "stdout",
     "output_type": "stream",
     "text": [
      "#----------------------------------------------------------------------------------\n",
      "# NcmMSet parameters covariance matrix\n",
      "#                                                 -------------------------------\n",
      "# alpha[15000:00] =  0.5         +/-  0.1484      |  1           | -0.6383      |\n",
      "#  beta[15000:01] =  0.1         +/-  0.2363      | -0.6383      |  1           |\n",
      "#                                                 -------------------------------\n"
     ]
    }
   ],
   "source": [
    "fit.obs_fisher ()\n",
    "fit.log_covar ()"
   ]
  },
  {
   "cell_type": "markdown",
   "metadata": {},
   "source": [
    "To make them match we first compute the bestfit and then both matrices. Now, the observed Fisher matrix gives a reasonably good approximation."
   ]
  },
  {
   "cell_type": "code",
   "execution_count": 9,
   "metadata": {},
   "outputs": [
    {
     "name": "stdout",
     "output_type": "stream",
     "text": [
      "#----------------------------------------------------------------------------------\n",
      "# Model fitting. Interating using:\n",
      "#  - solver:            NLOpt:ln-neldermead\n",
      "#  - differentiation:   Numerical differentiantion (forward)\n",
      "#...............\n",
      "#  Minimum found with precision: |df|/f =  1.00000e-08 and |dx| =  1.00000e-05\n",
      "#  Elapsed time: 00 days, 00:00:00.0097530\n",
      "#  iteration            [000067]\n",
      "#  function evaluations [000069]\n",
      "#  gradient evaluations [000000]\n",
      "#  degrees of freedom   [000013]\n",
      "#  m2lnL     =     18.8410081794023 (     18.841008 )\n",
      "#  Fit parameters:\n",
      "#     0.901295958415545    0.266390348479092   \n",
      "#----------------------------------------------------------------------------------\n",
      "# NcmMSet parameters covariance matrix\n",
      "#                                                 -------------------------------\n",
      "# alpha[15000:00] =  0.9013      +/-  0.07383     |  1           | -0.8169      |\n",
      "#  beta[15000:01] =  0.2664      +/-  0.1082      | -0.8169      |  1           |\n",
      "#                                                 -------------------------------\n",
      "#----------------------------------------------------------------------------------\n",
      "# NcmMSet parameters covariance matrix\n",
      "#                                                 -------------------------------\n",
      "# alpha[15000:00] =  0.9013      +/-  0.07379     |  1           | -0.8166      |\n",
      "#  beta[15000:01] =  0.2664      +/-  0.1081      | -0.8166      |  1           |\n",
      "#                                                 -------------------------------\n"
     ]
    }
   ],
   "source": [
    "fit.run (Ncm.FitRunMsgs.SIMPLE)\n",
    "\n",
    "fit.fisher ()\n",
    "fit.log_covar ()\n",
    "\n",
    "fit.obs_fisher ()\n",
    "fit.log_covar ()"
   ]
  },
  {
   "cell_type": "code",
   "execution_count": null,
   "metadata": {},
   "outputs": [],
   "source": []
  }
 ],
 "metadata": {
  "kernelspec": {
   "display_name": "Python 3",
   "language": "python",
   "name": "python3"
  },
  "language_info": {
   "codemirror_mode": {
    "name": "ipython",
    "version": 3
   },
   "file_extension": ".py",
   "mimetype": "text/x-python",
   "name": "python",
   "nbconvert_exporter": "python",
   "pygments_lexer": "ipython3",
   "version": "3.9.1"
  }
 },
 "nbformat": 4,
 "nbformat_minor": 4
}
