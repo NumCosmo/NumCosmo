{
 "cells": [
  {
   "cell_type": "code",
   "execution_count": null,
   "id": "da49202c-b3be-482c-ba4b-9918f53909f9",
   "metadata": {},
   "outputs": [],
   "source": [
    "from astropy.io import fits\n",
    "import clevar\n",
    "from clevar.match_metrics.recovery import ClCatalogFuncs as r_cf\n",
    "from clevar.match_metrics.distances import ClCatalogFuncs as d_cf\n",
    "from clevar.match_metrics.scaling import ClCatalogFuncs as s_cf\n",
    "import clevar.match_metrics.scaling as scaling\n",
    "\n",
    "import pandas as pd\n",
    "from astropy.table import Table\n",
    "import astropy\n",
    "from matplotlib import pyplot as plt\n",
    "import numpy as np\n",
    "from numcosmo_py import Ncm, Nc\n",
    "from numcosmo_py.external.pyssc import pyssc as PySSC\n",
    "Ncm.cfg_init()"
   ]
  },
  {
   "cell_type": "code",
   "execution_count": null,
   "id": "6601d59e-56d6-417a-8d1d-4aaff5afeb5c",
   "metadata": {},
   "outputs": [],
   "source": [
    "hdul_halos = fits.open(\"../halos/halos.fits\")\n",
    "hdul_amico = fits.open(\"JPAS_mock_cut_map_detections_refined_amico.fits\")\n",
    "\n",
    "table_halos = hdul_halos[1].data\n",
    "table_amico = hdul_amico[1].data\n",
    "\n",
    "logMmin = 12.4\n",
    "logMmax = 15\n",
    "\n",
    "\n",
    "table_amico.columns['Xphys'].name = 'RA'\n",
    "table_amico.columns['Yphys'].name = 'DEC'\n",
    "table_amico.columns['Zphys'].name = 'z'\n",
    "#print(table_amico.columns)\n",
    "\n",
    "table_halos = table_halos[(table_halos['upid'] == -1)  &  (table_halos['Mvir'] >= 10**logMmin) & (table_halos['Mvir']\n",
    "             <= 10**logMmax) & (table_halos['DEC'] <=table_amico['DEC'].max()) & (table_halos['DEC'] >= table_amico['DEC'].min())\n",
    "                      &   (table_halos['RA'] <= table_amico['RA'].max()) & (table_halos['RA'] >=table_amico['RA'].min())]\n",
    "table_halos['Mvir'] = table_halos['Mvir']/0.6774\n",
    "\n",
    "print(table_halos.size)\n",
    "print(table_amico.size)\n",
    "\n",
    "print(\"DEC max\")\n",
    "print(table_amico['DEC'].max())\n",
    "print(table_halos['DEC'].max())\n",
    "print('\\n')\n",
    "print(\"DEC min\")\n",
    "print(table_amico['DEC'].min())\n",
    "print(table_halos['DEC'].min())\n",
    "print('\\n')\n",
    "print(\"RA max\")\n",
    "print(table_amico['RA'].max())\n",
    "print(table_halos['RA'].max())\n",
    "print('\\n')\n",
    "print(\"RA min\")\n",
    "print(table_amico['RA'].min())\n",
    "print(table_halos['RA'].min())\n",
    "print('\\n')\n",
    "print(\"z max\")\n",
    "print(table_amico['z'].max())\n",
    "print(table_halos['redshift_R'].max())\n",
    "print('\\n')\n",
    "print(\"z min\")\n",
    "print(table_amico['z'].min())\n",
    "print(table_halos['redshift_R'].min())"
   ]
  },
  {
   "cell_type": "markdown",
   "id": "b998aa11-4993-48de-9671-b46c8d700289",
   "metadata": {},
   "source": [
    "## Lambdastar definition of richness ##\n"
   ]
  },
  {
   "cell_type": "code",
   "execution_count": null,
   "id": "974d8d9d-3b4d-47ff-be20-09e45be85ced",
   "metadata": {},
   "outputs": [],
   "source": [
    "catalog_halos = clevar.ClCatalog('Halo catalog',ra=table_halos['RA'] ,dec=table_halos['DEC'] \n",
    "                                ,z=table_halos['redshift_R'], mass=table_halos['Mvir'])\n",
    "\n",
    "catalog_amico = clevar.ClCatalog('Detection catalog',SN=table_amico['SN'], ra=table_amico['RA'], dec=table_amico['DEC'], mass=table_amico['LAMBSTAR'],z=table_amico['z'] )"
   ]
  },
  {
   "cell_type": "code",
   "execution_count": null,
   "id": "c7e30725-5b46-4c00-8e72-79e704a61baf",
   "metadata": {},
   "outputs": [],
   "source": [
    "mt = clevar.match.ProximityMatch()\n",
    "\n",
    "match_config = {\n",
    "    'type': 'cross', # options are cross, cat1, cat2\n",
    "    'which_radius': 'max', # Case of radius to be used, can be: cat1, cat2, min, max\n",
    "    'preference': 'redshift_proximity', # options are more_massive, angular_proximity or redshift_proximity\n",
    "    'catalog1': {'delta_z':0.01,\n",
    "                'match_radius': '5 Mpc'\n",
    "                },\n",
    "    'catalog2': {'delta_z':0.01,\n",
    "                'match_radius': '5 Mpc'\n",
    "                }\n",
    "}\n",
    "\n",
    "cosmo_astropy = clevar.cosmology.AstroPyCosmology()\n",
    "\n",
    "mt.match_from_config(catalog_halos, catalog_amico, match_config, cosmo=cosmo_astropy)\n",
    "mt.save_matches(catalog_halos, catalog_amico, out_dir='temp_lambstar', overwrite=True)"
   ]
  },
  {
   "cell_type": "code",
   "execution_count": null,
   "id": "7731ef37-13c9-46ad-a19d-5eba03d93a23",
   "metadata": {},
   "outputs": [],
   "source": [
    "catalog_halos = clevar.ClCatalog('Halo catalog',ra=table_halos['RA'] ,dec=table_halos['DEC'] \n",
    "                                ,z=table_halos['redshift_R'], mass=table_halos['Mvir'])\n",
    "\n",
    "catalog_amico = clevar.ClCatalog('Detection catalog',SN=table_amico['SN'], ra=table_amico['RA'], dec=table_amico['DEC'], mass=table_amico['LAMBSTAR'],z=table_amico['z'] )\n",
    "mt = clevar.match.ProximityMatch()\n",
    "mt.load_matches(catalog_halos, catalog_amico, out_dir='temp_lambstar')\n",
    "\n",
    "halos_match, detections_match = clevar.match.get_matched_pairs(catalog_halos, catalog_amico, 'cross')"
   ]
  },
  {
   "cell_type": "code",
   "execution_count": null,
   "id": "1b5f8dca-e5fc-4c61-8f8b-3105f8850f2d",
   "metadata": {},
   "outputs": [],
   "source": [
    "from clevar.match_metrics import recovery\n",
    "\n",
    "zbins = np.linspace(0, 0.7, 21)\n",
    "mbins = np.logspace(logMmin, logMmax, 4)\n",
    "rbins = np.logspace(0 , 3 , 5)\n",
    "info = recovery.plot(catalog_halos, 'cross', zbins, mbins, shape='steps')\n",
    "plt.savefig(\"recovery_halos.jpg\")\n",
    "plt.show()\n",
    "\n",
    "info = recovery.plot(catalog_amico, 'cross', zbins, rbins, shape='steps')\n",
    "plt.savefig(\"recovery_detections.jpg\")\n",
    "plt.show()\n"
   ]
  },
  {
   "cell_type": "markdown",
   "id": "4aa421ce-a19b-47d0-8a3a-e5dd6a458e8e",
   "metadata": {},
   "source": [
    "## Lambda definition of richness ##"
   ]
  },
  {
   "cell_type": "code",
   "execution_count": null,
   "id": "ed1ba050-b235-4e99-b005-35aa6ece6e58",
   "metadata": {},
   "outputs": [],
   "source": [
    "catalog_halos = clevar.ClCatalog('Halo catalog',ra=table_halos['RA'] ,dec=table_halos['DEC'] \n",
    "                                ,z=table_halos['redshift_R'], mass=table_halos['Mvir'])\n",
    "\n",
    "catalog_amico = clevar.ClCatalog('Detection catalog',SN=table_amico['SN'], ra=table_amico['RA'], dec=table_amico['DEC'], mass=table_amico['LAMB'],z=table_amico['z'] )"
   ]
  },
  {
   "cell_type": "code",
   "execution_count": null,
   "id": "57aa0f14-8522-4b00-9f42-25b085af78da",
   "metadata": {},
   "outputs": [],
   "source": [
    "mt = clevar.match.ProximityMatch()\n",
    "\n",
    "match_config = {\n",
    "    'type': 'cross', # options are cross, cat1, cat2\n",
    "    'which_radius': 'max', # Case of radius to be used, can be: cat1, cat2, min, max\n",
    "    'preference': 'redshift_proximity', # options are more_massive, angular_proximity or redshift_proximity\n",
    "    'catalog1': {'delta_z':0.01,\n",
    "                'match_radius': '1 Mpc'\n",
    "                },\n",
    "    'catalog2': {'delta_z':0.01,\n",
    "                'match_radius': '1 Mpc'\n",
    "                }\n",
    "}\n",
    "\n",
    "cosmo_astropy = clevar.cosmology.AstroPyCosmology()\n",
    "\n",
    "mt.match_from_config(catalog_halos, catalog_amico, match_config, cosmo=cosmo_astropy)\n",
    "mt.save_matches(catalog_halos, catalog_amico, out_dir='temp_lamb', overwrite=True)"
   ]
  },
  {
   "cell_type": "code",
   "execution_count": null,
   "id": "b1249218-cc91-44fc-b8f0-c17068e9ac8d",
   "metadata": {},
   "outputs": [],
   "source": []
  },
  {
   "cell_type": "code",
   "execution_count": null,
   "id": "4b1e1884-0860-494b-bd29-86b4d6ed5429",
   "metadata": {},
   "outputs": [],
   "source": []
  }
 ],
 "metadata": {
  "kernelspec": {
   "display_name": "numcosmo",
   "language": "python",
   "name": "numcosmo"
  },
  "language_info": {
   "codemirror_mode": {
    "name": "ipython",
    "version": 3
   },
   "file_extension": ".py",
   "mimetype": "text/x-python",
   "name": "python",
   "nbconvert_exporter": "python",
   "pygments_lexer": "ipython3"
  }
 },
 "nbformat": 4,
 "nbformat_minor": 5
}
