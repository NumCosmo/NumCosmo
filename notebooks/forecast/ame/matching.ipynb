{
 "cells": [
  {
   "cell_type": "code",
   "execution_count": 1,
   "id": "da49202c-b3be-482c-ba4b-9918f53909f9",
   "metadata": {
    "tags": []
   },
   "outputs": [],
   "source": [
    "from astropy.io import fits\n",
    "import clevar\n",
    "from clevar.match_metrics.recovery import ClCatalogFuncs as r_cf\n",
    "from clevar.match_metrics.distances import ClCatalogFuncs as d_cf\n",
    "from clevar.match_metrics.scaling import ClCatalogFuncs as s_cf\n",
    "import clevar.match_metrics.scaling as scaling\n",
    "import pyccl as ccl\n",
    "import pandas as pd\n",
    "from astropy.table import Table\n",
    "import astropy\n",
    "from matplotlib import pyplot as plt\n",
    "import numpy as np\n",
    "from numcosmo_py import Ncm, Nc\n",
    "from numcosmo_py.external.pyssc import pyssc as PySSC\n",
    "Ncm.cfg_init()"
   ]
  },
  {
   "cell_type": "code",
   "execution_count": 3,
   "id": "6601d59e-56d6-417a-8d1d-4aaff5afeb5c",
   "metadata": {
    "tags": []
   },
   "outputs": [
    {
     "name": "stdout",
     "output_type": "stream",
     "text": [
      "23066\n",
      "23751\n",
      "DEC max\n",
      "69.987462659708\n",
      "69.99612426757812\n",
      "\n",
      "\n",
      "DEC min\n",
      "20.00571528380776\n",
      "20.00299072265625\n",
      "\n",
      "\n",
      "RA max\n",
      "229.99483480331588\n",
      "229.99781799316406\n",
      "\n",
      "\n",
      "RA min\n",
      "110.00560235552096\n",
      "110.01350402832031\n",
      "\n",
      "\n",
      "z max\n",
      "0.6587940911577925\n",
      "0.6646252277727887\n",
      "\n",
      "\n",
      "z min\n",
      "0.0462011092646255\n",
      "0.016908477103261287\n"
     ]
    }
   ],
   "source": [
    "hdul_halos = fits.open(\"../halos/halos.fits\")\n",
    "hdul_ame = fits.open(\"richness_mcut_SNR 12_ame.fits\")\n",
    "\n",
    "logMmin = 14.0\n",
    "logMmax = 15\n",
    "\n",
    "table_halos = hdul_halos[1].data\n",
    "table_ame = hdul_ame[1].data\n",
    "table_halos = table_halos[(table_halos['upid'] == -1)  &  (table_halos['Mvir'] >= 10**logMmin) & (table_halos['Mvir'] <= 10**logMmax)]\n",
    "\n",
    "hdu = fits.BinTableHDU(data=table_halos)\n",
    "hdu.writeto('ame_halos.fits' , overwrite=True)\n",
    "\n",
    "table_halos['Mvir'] = table_halos['Mvir']/0.6774\n",
    "\n",
    "print(table_halos.size)\n",
    "print(table_ame.size)\n",
    "\n",
    "#print(table_ame.columns)\n",
    "\n",
    "print(\"DEC max\")\n",
    "print(table_ame['DEC'].max())\n",
    "print(table_halos['DEC'].max())\n",
    "print('\\n')\n",
    "print(\"DEC min\")\n",
    "print(table_ame['DEC'].min())\n",
    "print(table_halos['DEC'].min())\n",
    "print('\\n')\n",
    "print(\"RA max\")\n",
    "print(table_ame['RA'].max())\n",
    "print(table_halos['RA'].max())\n",
    "print('\\n')\n",
    "print(\"RA min\")\n",
    "print(table_ame['RA'].min())\n",
    "print(table_halos['RA'].min())\n",
    "print('\\n')\n",
    "print(\"z max\")\n",
    "print(table_ame['z'].max())\n",
    "print(table_halos['redshift_R'].max())\n",
    "print('\\n')\n",
    "print(\"z min\")\n",
    "print(table_ame['z'].min())\n",
    "print(table_halos['redshift_R'].min())\n",
    "\n",
    "#display(table_halos['RA'].duplicates())\n",
    "#display(table_halos[14600])"
   ]
  },
  {
   "cell_type": "code",
   "execution_count": 5,
   "id": "974d8d9d-3b4d-47ff-be20-09e45be85ced",
   "metadata": {
    "tags": []
   },
   "outputs": [
    {
     "name": "stderr",
     "output_type": "stream",
     "text": [
      "/global/u2/l/lettieri/miniforge3/envs/numcosmo_developer/lib/python3.12/site-packages/clevar-0.15.3-py3.12.egg/clevar/catalog/tagdata.py:278: UserWarning: id column missing, additional one is being created.\n",
      "  warnings.warn(f\"{id_name} column missing, additional one is being created.\")\n"
     ]
    }
   ],
   "source": [
    "catalog_halos = clevar.ClCatalog('Halo catalog',ra=table_halos['RA'] ,dec=table_halos['DEC'] \n",
    "                                ,z=table_halos['redshift_R']) #, mass=table_halos['Mvir']\n",
    "\n",
    "catalog_ame = clevar.ClCatalog('Detection catalog', ra=table_ame['RA'], dec=table_ame['DEC']\n",
    "                             , z=table_ame['z'] ,z_err=table_ame['z_err'] ) #mass=table_ame['R_ame']  , mass_err=table_ame['R_ame_err']"
   ]
  },
  {
   "cell_type": "code",
   "execution_count": 4,
   "id": "c7e30725-5b46-4c00-8e72-79e704a61baf",
   "metadata": {},
   "outputs": [
    {
     "name": "stdout",
     "output_type": "stream",
     "text": [
      "## Prep mt_cols\n",
      "### Prep z_cols\n",
      "* zmin|zmax from config value\n",
      "### Prep ang_cols\n",
      "* ang radius from set scale\n",
      "## Prep mt_cols\n",
      "### Prep z_cols\n",
      "* zmin|zmax from config value\n",
      "### Prep ang_cols\n",
      "* ang radius from set scale\n",
      "\n",
      "## ClCatalog 1\n",
      "## Prep mt_cols\n",
      "### Prep z_cols\n",
      "* zmin|zmax from config value\n",
      "### Prep ang_cols\n",
      "* ang radius from set scale\n",
      "\n",
      "## ClCatalog 2\n",
      "## Prep mt_cols\n",
      "### Prep z_cols\n",
      "* zmin|zmax from config value\n",
      "### Prep ang_cols\n",
      "* ang radius from set scale\n",
      "\n",
      "## Multiple match (catalog 1)\n",
      "Finding candidates (Halo catalog)\n",
      "* 11,251/23,066 objects matched.\n",
      "\n",
      "## Multiple match (catalog 2)\n",
      "Finding candidates (Detection catalog)\n",
      "* 11,081/23,751 objects matched.\n",
      "\n",
      "## Finding unique matches of catalog 1\n",
      "Unique Matches (Halo catalog)\n",
      "* 11,074/23,066 objects matched.\n",
      "\n",
      "## Finding unique matches of catalog 2\n",
      "Unique Matches (Detection catalog)\n",
      "* 11,076/23,751 objects matched.\n",
      "Cross Matches (Halo catalog)\n",
      "* 11,068/23,066 objects matched.\n",
      "Cross Matches (Detection catalog)\n",
      "* 11,068/23,751 objects matched.\n"
     ]
    }
   ],
   "source": [
    "cosmo_astropy = clevar.cosmology.CCLCosmology(H0=67.74, Omega_b0=0.0486, Omega_dm0=0.3089 - 0.0486, Omega_k0=0)\n",
    "mt = clevar.match.ProximityMatch()\n",
    "mt.prep_cat_for_match(catalog_ame ,  delta_z=0.01, match_radius='1 Mpc', cosmo=cosmo_astropy)\n",
    "mt.prep_cat_for_match(catalog_halos ,  delta_z=0.01, match_radius='1 Mpc', cosmo=cosmo_astropy)\n",
    "match_config = {\n",
    "    'type': 'cross', # options are cross, cat1, cat2\n",
    "    'which_radius': 'self', # Case of radius to be used, can be: cat1, cat2, min, max\n",
    "    'preference': 'redshift_proximity', # options are more_massive, angular_proximity or redshift_proximity\n",
    "    'catalog1': {'delta_z':0.01,\n",
    "                'match_radius': '1 Mpc',\n",
    "                 'n_delta_z':1.0\n",
    "                },\n",
    "    'catalog2': {'delta_z':0.01,\n",
    "                'match_radius': '1 Mpc',\n",
    "                 'n_delta_z':1.0\n",
    "                }\n",
    "}\n",
    "\n",
    "mt.match_from_config(catalog_halos, catalog_ame, match_config, cosmo=cosmo_astropy)\n",
    "mt.save_matches(catalog_halos, catalog_ame, out_dir='temp', overwrite=True)"
   ]
  },
  {
   "cell_type": "code",
   "execution_count": 4,
   "id": "4746fefb-b40c-4062-9c51-50859f40d8dc",
   "metadata": {
    "tags": []
   },
   "outputs": [
    {
     "name": "stderr",
     "output_type": "stream",
     "text": [
      "/global/u2/l/lettieri/miniforge3/envs/numcosmo_developer/lib/python3.12/site-packages/clevar-0.15.3-py3.12.egg/clevar/catalog/tagdata.py:278: UserWarning: id column missing, additional one is being created.\n",
      "  warnings.warn(f\"{id_name} column missing, additional one is being created.\")\n"
     ]
    },
    {
     "name": "stdout",
     "output_type": "stream",
     "text": [
      "Halo catalog\n",
      "    * ClEvar used in matching: 0.15.3\n",
      " * Total objects:    23,066\n",
      " * multiple (self):  11,251\n",
      " * multiple (other): 11,254\n",
      " * unique (self):    11,074\n",
      " * unique (other):   11,076\n",
      " * cross:            11,068\n",
      "\n",
      "Detection catalog\n",
      "    * ClEvar used in matching: 0.15.3\n",
      " * Total objects:    23,751\n",
      " * multiple (self):  11,081\n",
      " * multiple (other): 11,079\n",
      " * unique (self):    11,076\n",
      " * unique (other):   11,074\n",
      " * cross:            11,068\n"
     ]
    }
   ],
   "source": [
    "catalog_halos = clevar.ClCatalog('Halo catalog',ra=table_halos['RA'] ,dec=table_halos['DEC'] \n",
    "                                ,z=table_halos['redshift_R']) #, mass=table_halos['Mvir']\n",
    "\n",
    "catalog_ame = clevar.ClCatalog('Detection catalog', ra=table_ame['RA'], dec=table_ame['DEC']\n",
    "                             , z=table_ame['z'] , ) #z_err=table_ame['z_err'] , , mass=table_ame['R_ame']  , mass_err=table_ame['R_ame_err']\n",
    "mt = clevar.match.ProximityMatch()\n",
    "mt.load_matches(catalog_halos, catalog_ame, out_dir='temp')\n",
    "\n",
    "halos_match, detections_match = clevar.match.get_matched_pairs(catalog_halos, catalog_ame, 'cross')"
   ]
  },
  {
   "cell_type": "code",
   "execution_count": 1,
   "id": "83359232-8afb-4672-9880-40e0dcd8bf6e",
   "metadata": {
    "scrolled": true
   },
   "outputs": [
    {
     "name": "stderr",
     "output_type": "stream",
     "text": [
      "100%|██████████| 23066/23066 [00:08<00:00, 2719.47it/s]\n"
     ]
    },
    {
     "name": "stdout",
     "output_type": "stream",
     "text": [
      "\n",
      "        Number of objects matching: 23066\n",
      "        Number of objects in the target catalog: 23751\n",
      "        Number of unmatched objects: 11816\n",
      "        Number of matched objects: 11250\n",
      "        \n"
     ]
    },
    {
     "name": "stderr",
     "output_type": "stream",
     "text": [
      "100%|██████████| 23751/23751 [00:08<00:00, 2886.08it/s]\n"
     ]
    },
    {
     "name": "stdout",
     "output_type": "stream",
     "text": [
      "\n",
      "        Number of objects matching: 23751\n",
      "        Number of objects in the target catalog: 23066\n",
      "        Number of unmatched objects: 12670\n",
      "        Number of matched objects: 11081\n",
      "        \n"
     ]
    },
    {
     "name": "stderr",
     "output_type": "stream",
     "text": [
      "100%|██████████| 23066/23066 [00:10<00:00, 2100.71it/s]"
     ]
    },
    {
     "name": "stdout",
     "output_type": "stream",
     "text": [
      "\n",
      "        Number of cross matched objects: 11070\n",
      "        \n"
     ]
    },
    {
     "name": "stderr",
     "output_type": "stream",
     "text": [
      "\n"
     ]
    }
   ],
   "source": [
    "from numcosmo_py import Ncm, Nc\n",
    "import numpy as np\n",
    "from numcosmo_py import sky_match \n",
    "from numcosmo_py.external.pyssc import pyssc as PySSC\n",
    "from pathlib import Path\n",
    "Ncm.cfg_init()\n",
    "\n",
    "area = 4109.3\n",
    "cosmo = Nc.HICosmoDEXcdm()\n",
    "cosmo.omega_x2omega_k()\n",
    "cosmo.param_set_by_name(\"H0\", 67.74)\n",
    "cosmo.param_set_by_name(\"Omegab\", 0.0486)\n",
    "cosmo.param_set_by_name(\"Omegac\",0.3089 - 0.0486) #0.2603\n",
    "cosmo.param_set_by_name(\"Omegak\", 0.00)\n",
    "cosmo.param_set_by_name(\"w\", -1.0) #-1.0\n",
    "\n",
    "\n",
    "prim = Nc.HIPrimPowerLaw.new()\n",
    "prim.param_set_by_name(\"ln10e10ASA\",3.0116707481421923)\n",
    "prim.param_set_by_name(\"n_SA\", 0.9667)\n",
    "\n",
    "\n",
    "reion = Nc.HIReionCamb.new()\n",
    "\n",
    "cosmo.add_submodel(prim)\n",
    "cosmo.add_submodel(reion)\n",
    "\n",
    "\n",
    "path_halo = Path(\"ame_halos.fits\")\n",
    "halo_coordinates = {\"RA\":\"RA\" , \"DEC\":\"DEC\" , \"z\":\"redshift_R\"}\n",
    "halo_properties  = {\"Mvir\":\"mass1\" ,\"RA\":\"RA1\"}\n",
    "path_detections  = Path(\"richness_mcut_SNR 12_ame.fits\")\n",
    "detections_coordinates =  {\"RA\":\"RA\" , \"DEC\":\"DEC\" , \"z\":\"z\"}\n",
    "detections_properties  = {\"R_ame\":\"mass2\" , \"z_err\":\"z_err2\"}\n",
    "\n",
    "\n",
    "#detections = sky_match.SkyMatch(query_catalog_path=path_detections, query_coordinates=detections_coordinates, query_properties=detections_properties\n",
    "#                                , match_catalog_path=path_halo, match_coordinates=halo_coordinates , match_properties=halo_properties)\n",
    "\n",
    "\n",
    "halos = sky_match.SkyMatch(query_catalog_path=path_halo, query_coordinates=halo_coordinates , query_properties=halo_properties ,match_catalog_path=path_detections,\n",
    "                   match_coordinates=detections_coordinates,match_properties=detections_properties)\n",
    "\n",
    "\n",
    "\n",
    "\n",
    "#halos = sky_match.SkyMatch(query_catalog_path=path_halo, query_coordinates=halo_coordinates ,match_catalog_path=path_detections,\n",
    "#                   match_coordinates=detections_coordinates)\n",
    "\n",
    "halos_matched, detections_matched, best_halos, best_detections , cross = halos.cross_match_2d(cosmo=cosmo  ,matching_distance1=1 ,matching_distance2=1,n_nearest_neighbours1=100,n_nearest_neighbours2=100 \n",
    "                                                                                   ,match_dist_3d=True , delta_z1=0.01,delta_z2=0.01 , n_delta_z1=1,n_delta_z2=1 ,\n",
    "                                                                                 selection_criteria1='redshift_proximity' , selection_criteria2='redshift_proximity',\n",
    "                                                                                  use_zerr1 =False      ,use_zerr2 = False ,which_radius1=\"query_radius\" , which_radius2=\"query_radius\")"
   ]
  },
  {
   "cell_type": "code",
   "execution_count": 8,
   "id": "9f0860e6-ac93-4a63-b280-4ebd4caf1f51",
   "metadata": {
    "scrolled": true
   },
   "outputs": [
    {
     "data": {
      "text/plain": [
       "23066"
      ]
     },
     "metadata": {},
     "output_type": "display_data"
    },
    {
     "data": {
      "text/plain": [
       "23751"
      ]
     },
     "metadata": {},
     "output_type": "display_data"
    },
    {
     "data": {
      "text/plain": [
       "11070"
      ]
     },
     "metadata": {},
     "output_type": "display_data"
    },
    {
     "name": "stderr",
     "output_type": "stream",
     "text": [
      "/global/u2/l/lettieri/miniforge3/envs/numcosmo_developer/lib/python3.12/site-packages/clevar-0.15.3-py3.12.egg/clevar/catalog/tagdata.py:278: UserWarning: id column missing, additional one is being created.\n",
      "  warnings.warn(f\"{id_name} column missing, additional one is being created.\")\n"
     ]
    },
    {
     "name": "stdout",
     "output_type": "stream",
     "text": [
      "11250\n",
      "11081\n",
      "Halo catalog\n",
      "    * ClEvar used in matching: 0.15.3\n",
      " * Total objects:    23,066\n",
      " * multiple (self):  11,251\n",
      " * multiple (other): 11,254\n",
      " * unique (self):    11,074\n",
      " * unique (other):   11,076\n",
      " * cross:            11,068\n",
      "\n",
      "Detection catalog\n",
      "    * ClEvar used in matching: 0.15.3\n",
      " * Total objects:    23,751\n",
      " * multiple (self):  11,081\n",
      " * multiple (other): 11,079\n",
      " * unique (self):    11,076\n",
      " * unique (other):   11,074\n",
      " * cross:            11,068\n"
     ]
    }
   ],
   "source": [
    "display(len(halos_matched))\n",
    "display(len(detections_matched))\n",
    "display(len(cross))\n",
    "halos_number = 0\n",
    "#display(cross)\n",
    "detections_number = 0\n",
    "for i in range(len(halos_matched['ID'])):\n",
    "    if len(halos_matched['ID_matched'][i]) > 0:\n",
    "        halos_number +=1\n",
    "\n",
    "for i in range(len(detections_matched['ID'])):\n",
    "    if len(detections_matched['ID_matched'][i]) > 0:\n",
    "        detections_number +=1\n",
    "print(halos_number)\n",
    "print(detections_number)\n",
    "\n",
    "catalog_halos = clevar.ClCatalog('Halo catalog',ra=table_halos['RA'] ,dec=table_halos['DEC'] \n",
    "                                ,z=table_halos['redshift_R']) #, mass=table_halos['Mvir']\n",
    "\n",
    "catalog_ame = clevar.ClCatalog('Detection catalog', ra=table_ame['RA'], dec=table_ame['DEC']\n",
    "                             , z=table_ame['z'] , ) #z_err=table_ame['z_err'] , , mass=table_ame['R_ame']  , mass_err=table_ame['R_ame_err']\n",
    "mt = clevar.match.ProximityMatch()\n",
    "mt.load_matches(catalog_halos, catalog_ame, out_dir='temp')\n",
    "\n",
    "halos_match, detections_match = clevar.match.get_matched_pairs(catalog_halos, catalog_ame, 'self')\n",
    "#0.0003657"
   ]
  },
  {
   "cell_type": "code",
   "execution_count": 3,
   "id": "af411fc8-3f71-4971-8d7b-5447a79dcd88",
   "metadata": {
    "scrolled": true
   },
   "outputs": [
    {
     "data": {
      "text/html": [
       "<i>Row index=372</i>\n",
       "<table id=\"table140297711814656\">\n",
       "<thead><tr><th>ID</th><th>RA</th><th>DEC</th><th>z</th><th>ID_matched</th><th>RA_matched</th><th>DEC_matched</th><th>z_matched</th><th>distances</th><th>mass2</th><th>z_err2</th><th>mass1</th><th>RA1</th></tr></thead>\n",
       "<thead><tr><th>int64</th><th>float64</th><th>float64</th><th>float64</th><th>int64[100]</th><th>float64[100]</th><th>float64[100]</th><th>float64[100]</th><th>float64[100]</th><th>float64</th><th>float64</th><th>float64[100]</th><th>float64[100]</th></tr></thead>\n",
       "<tr><td>372</td><td>198.159633637546</td><td>55.81167992400343</td><td>0.1931849769991934</td><td>1111 .. 8784</td><td>198.1243896484375 .. 195.29347229003906</td><td>55.81852722167969 .. 57.56620788574219</td><td>0.194790192623097 .. 0.426504179211944</td><td>0.0003656952328338415 .. 0.04112952717814077</td><td>84.0</td><td>0.0031849769991934</td><td>141899998000000.0 .. 306299988000000.0</td><td>198.1243896484375 .. 195.29347229003906</td></tr>\n",
       "</table>"
      ],
      "text/plain": [
       "<Row index=372>\n",
       "  ID         RA               DEC                z           ID_matched                 RA_matched                            DEC_matched                             z_matched                                 distances                    mass2        z_err2                       mass1                                    RA1                  \n",
       "int64     float64           float64           float64        int64[100]                float64[100]                           float64[100]                           float64[100]                              float64[100]                 float64      float64                    float64[100]                            float64[100]             \n",
       "----- ---------------- ----------------- ------------------ ------------ --------------------------------------- -------------------------------------- -------------------------------------- -------------------------------------------- ------- ------------------ -------------------------------------- ---------------------------------------\n",
       "  372 198.159633637546 55.81167992400343 0.1931849769991934 1111 .. 8784 198.1243896484375 .. 195.29347229003906 55.81852722167969 .. 57.56620788574219 0.194790192623097 .. 0.426504179211944 0.0003656952328338415 .. 0.04112952717814077    84.0 0.0031849769991934 141899998000000.0 .. 306299988000000.0 198.1243896484375 .. 195.29347229003906"
      ]
     },
     "metadata": {},
     "output_type": "display_data"
    },
    {
     "data": {
      "text/html": [
       "<i>Row index=1111</i>\n",
       "<table id=\"table140297712775488\">\n",
       "<thead><tr><th>ID</th><th>RA</th><th>DEC</th><th>z</th><th>ID_matched</th><th>RA_matched</th><th>DEC_matched</th><th>z_matched</th><th>distances</th><th>mass1</th><th>RA1</th><th>mass2</th><th>z_err2</th></tr></thead>\n",
       "<thead><tr><th>int64</th><th>float64</th><th>float64</th><th>float64</th><th>int64[100]</th><th>float64[100]</th><th>float64[100]</th><th>float64[100]</th><th>float64[100]</th><th>float64</th><th>float64</th><th>float64[100]</th><th>float64[100]</th></tr></thead>\n",
       "<tr><td>1111</td><td>198.1243896484375</td><td>55.81852722167969</td><td>0.194790192623097</td><td>13770 .. 13095</td><td>198.159633637546 .. 196.1824424589641</td><td>55.81167992400343 .. 57.73292192526432</td><td>0.1545603205774501 .. 0.3612993701840821</td><td>0.0003656952328338415 .. 0.0382205563698647</td><td>141899998000000.0</td><td>198.1243896484375</td><td>94.52 .. 40.2</td><td>0.0045603205774501 .. 0.001299370184082</td></tr>\n",
       "</table>"
      ],
      "text/plain": [
       "<Row index=1111>\n",
       "  ID          RA               DEC                z           ID_matched                 RA_matched                           DEC_matched                              z_matched                                  distances                        mass1              RA1            mass2                      z_err2                \n",
       "int64      float64           float64           float64        int64[100]                float64[100]                          float64[100]                            float64[100]                               float64[100]                     float64           float64       float64[100]               float64[100]             \n",
       "----- ----------------- ----------------- ----------------- -------------- ------------------------------------- -------------------------------------- ---------------------------------------- ------------------------------------------- ----------------- ----------------- ------------- ---------------------------------------\n",
       " 1111 198.1243896484375 55.81852722167969 0.194790192623097 13770 .. 13095 198.159633637546 .. 196.1824424589641 55.81167992400343 .. 57.73292192526432 0.1545603205774501 .. 0.3612993701840821 0.0003656952328338415 .. 0.0382205563698647 141899998000000.0 198.1243896484375 94.52 .. 40.2 0.0045603205774501 .. 0.001299370184082"
      ]
     },
     "metadata": {},
     "output_type": "display_data"
    }
   ],
   "source": [
    "#display(halos_matched[ids])\n",
    "#display(catalog_halos[ids])\n",
    "display(detections_matched[372])\n",
    "display(halos_matched[1111])"
   ]
  },
  {
   "cell_type": "code",
   "execution_count": 10,
   "id": "1214c6d7-710e-4475-83e7-ab8370a337d4",
   "metadata": {},
   "outputs": [
    {
     "name": "stdout",
     "output_type": "stream",
     "text": [
      "0.20870139288905715\n",
      "0.2515896399689881\n",
      "0.24995442784729804\n"
     ]
    }
   ],
   "source": [
    "dist = Nc.Distance.new(3.0)\n",
    "dist.prepare(cosmo)\n",
    "RH_Mpc = cosmo.RH_Mpc()\n",
    "print(dist.angular_diameter(cosmo, 0.1545603205774501) * RH_Mpc * 0.0003656952328338415)\n",
    "print(dist.angular_diameter(cosmo, 0.194790192623097) * RH_Mpc * 0.0003656952328338415)\n",
    "print(dist.angular_diameter(cosmo, 0.1931849769991934) * RH_Mpc * 0.0003656952328338415)"
   ]
  },
  {
   "cell_type": "code",
   "execution_count": 2,
   "id": "c0b218b8-0ebc-41b0-a478-c05f93b70730",
   "metadata": {},
   "outputs": [
    {
     "name": "stdout",
     "output_type": "stream",
     "text": [
      "[]\n"
     ]
    },
    {
     "data": {
      "text/plain": [
       "array([1111])"
      ]
     },
     "execution_count": 2,
     "metadata": {},
     "output_type": "execute_result"
    }
   ],
   "source": [
    "print(halos_matched['ID_matched'][1111])\n",
    "detections_matched['ID_matched'][372]"
   ]
  },
  {
   "cell_type": "code",
   "execution_count": null,
   "id": "a8832f74-a159-45d1-96ac-0d717119be83",
   "metadata": {},
   "outputs": [],
   "source": []
  }
 ],
 "metadata": {
  "kernelspec": {
   "display_name": "numcosmo",
   "language": "python",
   "name": "numcosmo"
  },
  "language_info": {
   "codemirror_mode": {
    "name": "ipython",
    "version": 3
   },
   "file_extension": ".py",
   "mimetype": "text/x-python",
   "name": "python",
   "nbconvert_exporter": "python",
   "pygments_lexer": "ipython3",
   "version": "3.12.4"
  }
 },
 "nbformat": 4,
 "nbformat_minor": 5
}
