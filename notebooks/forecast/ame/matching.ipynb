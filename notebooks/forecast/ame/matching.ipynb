{
 "cells": [
  {
   "cell_type": "code",
   "execution_count": 1,
   "id": "da49202c-b3be-482c-ba4b-9918f53909f9",
   "metadata": {
    "tags": []
   },
   "outputs": [],
   "source": [
    "from astropy.io import fits\n",
    "import clevar\n",
    "from clevar.match_metrics.recovery import ClCatalogFuncs as r_cf\n",
    "from clevar.match_metrics.distances import ClCatalogFuncs as d_cf\n",
    "from clevar.match_metrics.scaling import ClCatalogFuncs as s_cf\n",
    "import clevar.match_metrics.scaling as scaling\n",
    "\n",
    "import pandas as pd\n",
    "from astropy.table import Table\n",
    "import astropy\n",
    "from matplotlib import pyplot as plt\n",
    "import numpy as np\n",
    "from numcosmo_py import Ncm, Nc\n",
    "from numcosmo_py.external.pyssc import pyssc as PySSC\n",
    "Ncm.cfg_init()"
   ]
  },
  {
   "cell_type": "code",
   "execution_count": 2,
   "id": "6601d59e-56d6-417a-8d1d-4aaff5afeb5c",
   "metadata": {
    "tags": []
   },
   "outputs": [
    {
     "name": "stdout",
     "output_type": "stream",
     "text": [
      "689973\n",
      "23751\n",
      "ColDefs(\n",
      "    name = 'ID'; format = 'I'\n",
      "    name = 'RA'; format = 'D'\n",
      "    name = 'DEC'; format = 'D'\n",
      "    name = 'z'; format = 'D'\n",
      "    name = 'z_err'; format = 'D'\n",
      "    name = 'SNR'; format = 'D'\n",
      "    name = 'SNR_ORIG'; format = 'D'\n",
      "    name = 'richness'; format = 'D'\n",
      "    name = 'radius'; format = 'D'\n",
      "    name = 'rank'; format = 'J'\n",
      "    name = 'Rc'; format = 'D'\n",
      "    name = 'R_ame'; format = 'D'\n",
      "    name = 'R_ame_err'; format = 'D'\n",
      ")\n"
     ]
    }
   ],
   "source": [
    "hdul_halos = fits.open(\"../halos/halos.fits\")\n",
    "hdul_ame = fits.open(\"richness_mcut_SNR 12_ame.fits\")\n",
    "\n",
    "logMmin = 13\n",
    "logMmax = 15\n",
    "\n",
    "table_halos = hdul_halos[1].data\n",
    "table_ame = hdul_ame[1].data\n",
    "table_halos = table_halos[(table_halos['upid'] == -1)  &  (table_halos['Mvir'] >= 10**logMmin) & (table_halos['Mvir'] <= 10**logMmax)]\n",
    "table_halos['Mvir'] = table_halos['Mvir']/0.6774\n",
    "\n",
    "print(table_halos.size)\n",
    "print(table_ame.size)\n",
    "\n",
    "print(table_ame.columns)"
   ]
  },
  {
   "cell_type": "code",
   "execution_count": 3,
   "id": "974d8d9d-3b4d-47ff-be20-09e45be85ced",
   "metadata": {
    "tags": []
   },
   "outputs": [
    {
     "name": "stderr",
     "output_type": "stream",
     "text": [
      "/global/u2/l/lettieri/miniforge3/envs/numcosmo_developer/lib/python3.12/site-packages/clevar-0.15.3-py3.12.egg/clevar/catalog/tagdata.py:278: UserWarning: id column missing, additional one is being created.\n",
      "  warnings.warn(f\"{id_name} column missing, additional one is being created.\")\n"
     ]
    }
   ],
   "source": [
    "catalog_halos = clevar.ClCatalog('Halo catalog',ra=table_halos['RA'] ,dec=table_halos['DEC'] \n",
    "                                ,z=table_halos['redshift_R'], mass=table_halos['Mvir'])\n",
    "\n",
    "catalog_ame = clevar.ClCatalog('Detection catalog', ra=table_ame['RA'], dec=table_ame['DEC']\n",
    "                             , z=table_ame['z'], mass=table_ame['R_ame']  , mass_err=table_ame['R_ame_err'] ,z_err=table_ame['z_err'] , )"
   ]
  },
  {
   "cell_type": "code",
   "execution_count": 13,
   "id": "c7e30725-5b46-4c00-8e72-79e704a61baf",
   "metadata": {},
   "outputs": [
    {
     "name": "stdout",
     "output_type": "stream",
     "text": [
      "\n",
      "## ClCatalog 1\n",
      "## Prep mt_cols\n",
      "### Prep z_cols\n",
      "* zmin|zmax from config value\n",
      "### Prep ang_cols\n",
      "* ang radius from set scale\n",
      "\n",
      "## ClCatalog 2\n",
      "## Prep mt_cols\n",
      "### Prep z_cols\n",
      "* zmin|zmax from config value\n",
      "### Prep ang_cols\n",
      "* ang radius from set scale\n",
      "\n",
      "## Multiple match (catalog 1)\n",
      "Finding candidates (Halo catalog)\n",
      "* 25,922/689,973 objects matched.\n",
      "\n",
      "## Multiple match (catalog 2)\n",
      "Finding candidates (Detection catalog)\n",
      "* 22,285/23,751 objects matched.\n",
      "\n",
      "## Finding unique matches of catalog 1\n",
      "Unique Matches (Halo catalog)\n",
      "* 22,285/689,973 objects matched.\n",
      "\n",
      "## Finding unique matches of catalog 2\n",
      "Unique Matches (Detection catalog)\n",
      "* 22,285/23,751 objects matched.\n",
      "Cross Matches (Halo catalog)\n",
      "* 22,271/689,973 objects matched.\n",
      "Cross Matches (Detection catalog)\n",
      "* 22,271/23,751 objects matched.\n"
     ]
    }
   ],
   "source": [
    "mt = clevar.match.ProximityMatch()\n",
    "\n",
    "match_config = {\n",
    "    'type': 'cross', # options are cross, cat1, cat2\n",
    "    'which_radius': 'max', # Case of radius to be used, can be: cat1, cat2, min, max\n",
    "    'preference': 'redshift_proximity', # options are more_massive, angular_proximity or redshift_proximity\n",
    "    'catalog1': {'delta_z':0.01,\n",
    "                'match_radius': '100 arcsec'\n",
    "                },\n",
    "    'catalog2': {'delta_z':0.01,\n",
    "                'match_radius': '100 arcsec'\n",
    "                }\n",
    "}\n",
    "\n",
    "cosmo_astropy = clevar.cosmology.AstroPyCosmology()\n",
    "\n",
    "mt.match_from_config(catalog_halos, catalog_ame, match_config, cosmo=cosmo_astropy)\n",
    "mt.save_matches(catalog_halos, catalog_ame, out_dir='temp', overwrite=True)"
   ]
  },
  {
   "cell_type": "code",
   "execution_count": 4,
   "id": "4746fefb-b40c-4062-9c51-50859f40d8dc",
   "metadata": {
    "tags": []
   },
   "outputs": [
    {
     "name": "stdout",
     "output_type": "stream",
     "text": [
      "Halo catalog\n",
      "    * ClEvar used in matching: 0.15.3\n",
      " * Total objects:    689,973\n",
      " * multiple (self):  25,922\n",
      " * multiple (other): 25,922\n",
      " * unique (self):    22,285\n",
      " * unique (other):   22,285\n",
      " * cross:            22,271\n",
      "\n",
      "Detection catalog\n",
      "    * ClEvar used in matching: 0.15.3\n",
      " * Total objects:    23,751\n",
      " * multiple (self):  22,285\n",
      " * multiple (other): 22,285\n",
      " * unique (self):    22,285\n",
      " * unique (other):   22,285\n",
      " * cross:            22,271\n"
     ]
    },
    {
     "data": {
      "text/html": [
       "<b>Detection catalog</b><br></b><b>tags:</b> id(id), ra(ra), dec(dec), z(z), mass(mass), z_err(z_err)<br><b>Radius unit:</b> None<br><div><i>ClData length=22271</i>\n",
       "<table id=\"table140545895509952\" class=\"table-striped table-bordered table-condensed\">\n",
       "<thead><tr><th>id</th><th>ra</th><th>dec</th><th>z</th><th>mass</th><th>mass_err</th><th>z_err</th><th>mt_self</th><th>mt_other</th><th>mt_multi_self</th><th>mt_multi_other</th><th>mt_cross</th></tr></thead>\n",
       "<thead><tr><th>str5</th><th>float64</th><th>float64</th><th>float64</th><th>float64</th><th>float64</th><th>float64</th><th>object</th><th>object</th><th>object</th><th>object</th><th>object</th></tr></thead>\n",
       "<tr><td>3464</td><td>224.2628875340314</td><td>61.028825506020304</td><td>0.0683782529345174</td><td>37.0</td><td>2.2375820282915515</td><td>0.0083782529345174</td><td>199</td><td>199</td><td>[&apos;199&apos;]</td><td>[&apos;199&apos;]</td><td>199</td></tr>\n",
       "<tr><td>19744</td><td>227.04884922802296</td><td>69.05066906371957</td><td>0.0696005956063757</td><td>18.0</td><td>2.295499922311768</td><td>0.0096005956063757</td><td>202</td><td>202</td><td>[&apos;202&apos;]</td><td>[&apos;202&apos;]</td><td>202</td></tr>\n",
       "<tr><td>17390</td><td>202.47958752311607</td><td>54.66305059606346</td><td>0.046599787784135</td><td>35.0</td><td>2.9658536713735564</td><td>0.0034002122158649</td><td>239</td><td>239</td><td>[&apos;239&apos;]</td><td>[&apos;239&apos;]</td><td>239</td></tr>\n",
       "<tr><td>23132</td><td>202.58196460014312</td><td>46.284557647634735</td><td>0.0498120565798088</td><td>30.0</td><td>1.7765613527261028</td><td>0.0001879434201912</td><td>244</td><td>244</td><td>[&apos;244&apos;]</td><td>[&apos;244&apos;]</td><td>244</td></tr>\n",
       "<tr><td>15185</td><td>221.89038020129368</td><td>56.8139170066969</td><td>0.0656363405614508</td><td>16.0</td><td>2.519645477707793</td><td>0.0056363405614508</td><td>277</td><td>277</td><td>[&apos;277&apos;]</td><td>[&apos;277&apos;]</td><td>277</td></tr>\n",
       "<tr><td>10943</td><td>226.75960791349084</td><td>57.106948607730274</td><td>0.0643793409888317</td><td>20.0</td><td>2.0696434475532253</td><td>0.0043793409888317</td><td>279</td><td>279</td><td>[&apos;279&apos;]</td><td>[&apos;279&apos;]</td><td>279</td></tr>\n",
       "<tr><td>16490</td><td>213.94552455617048</td><td>35.437654347993934</td><td>0.0496535152727543</td><td>30.0</td><td>1.462264399256623</td><td>0.0003464847272456</td><td>295</td><td>295</td><td>[&apos;295&apos;]</td><td>[&apos;295&apos;]</td><td>295</td></tr>\n",
       "<tr><td>9114</td><td>186.489213162117</td><td>40.69399416835533</td><td>0.0550640079846114</td><td>92.8</td><td>2.3004045093562717</td><td>0.0050640079846114</td><td>347</td><td>347</td><td>[&apos;347&apos;]</td><td>[&apos;347&apos;]</td><td>347</td></tr>\n",
       "<tr><td>2331</td><td>200.90681812372296</td><td>48.98004167469734</td><td>0.0588801324279918</td><td>23.04</td><td>2.0514519346063174</td><td>0.0088801324279918</td><td>386</td><td>386</td><td>[&apos;386&apos;]</td><td>[&apos;386&apos;]</td><td>386</td></tr>\n",
       "<tr><td>20594</td><td>191.3197977549917</td><td>46.84519585886054</td><td>0.0645362195501413</td><td>29.0</td><td>3.240753591373464</td><td>0.0045362195501412</td><td>388</td><td>388</td><td>[&apos;388&apos;]</td><td>[&apos;388&apos;]</td><td>388</td></tr>\n",
       "<tr><td>...</td><td>...</td><td>...</td><td>...</td><td>...</td><td>...</td><td>...</td><td>...</td><td>...</td><td>...</td><td>...</td><td>...</td></tr>\n",
       "<tr><td>15323</td><td>130.4562606266188</td><td>69.46467719223146</td><td>0.4893393204207967</td><td>30.98</td><td>1.688146154810063</td><td>0.0093393204207966</td><td>677862</td><td>677862</td><td>[&apos;329163&apos;, &apos;677862&apos;]</td><td>[&apos;329163&apos;, &apos;677862&apos;]</td><td>677862</td></tr>\n",
       "<tr><td>14334</td><td>145.0884781563973</td><td>47.379742154425664</td><td>0.4664046593743673</td><td>50.98</td><td>1.821082871993108</td><td>0.0064046593743672</td><td>678893</td><td>678893</td><td>[&apos;678893&apos;, &apos;259430&apos;, &apos;356720&apos;]</td><td>[&apos;678893&apos;, &apos;259430&apos;, &apos;356720&apos;]</td><td>678893</td></tr>\n",
       "<tr><td>22252</td><td>128.9326598762792</td><td>34.52623722179648</td><td>0.523167093571444</td><td>56.28</td><td>1.9381529626597245</td><td>0.0031670935714438</td><td>678937</td><td>678937</td><td>[&apos;475728&apos;, &apos;678937&apos;]</td><td>[&apos;475728&apos;, &apos;678937&apos;]</td><td>678937</td></tr>\n",
       "<tr><td>6580</td><td>143.60512869164535</td><td>42.24792129528812</td><td>0.4643750216241831</td><td>57.22</td><td>1.8176791062597748</td><td>0.004375021624183</td><td>678990</td><td>678990</td><td>[&apos;678990&apos;]</td><td>[&apos;678990&apos;]</td><td>678990</td></tr>\n",
       "<tr><td>19019</td><td>138.87962692320295</td><td>34.81660598551899</td><td>0.5141656609210131</td><td>52.48</td><td>1.648222509250496</td><td>0.004165660921013</td><td>679246</td><td>679246</td><td>[&apos;365668&apos;, &apos;679246&apos;, &apos;679243&apos;]</td><td>[&apos;365668&apos;, &apos;679246&apos;, &apos;679243&apos;]</td><td>679246</td></tr>\n",
       "<tr><td>16036</td><td>144.04282849601597</td><td>27.73454826425958</td><td>0.4921312743449296</td><td>66.9</td><td>2.08601402360259</td><td>0.0021312743449296</td><td>679530</td><td>679530</td><td>[&apos;679530&apos;, &apos;372732&apos;]</td><td>[&apos;679530&apos;, &apos;372732&apos;]</td><td>679530</td></tr>\n",
       "<tr><td>22609</td><td>151.9631627465004</td><td>22.084705859450143</td><td>0.5245673205785599</td><td>60.48</td><td>1.898914384589258</td><td>0.0045673205785597</td><td>680061</td><td>680061</td><td>[&apos;680061&apos;, &apos;385246&apos;]</td><td>[&apos;680061&apos;, &apos;385246&apos;]</td><td>680061</td></tr>\n",
       "<tr><td>22781</td><td>223.27940276415808</td><td>42.93295531445272</td><td>0.5923207246786977</td><td>43.58</td><td>1.2945821874257348</td><td>0.0023207246786974</td><td>680845</td><td>680845</td><td>[&apos;408472&apos;, &apos;408462&apos;, &apos;680845&apos;]</td><td>[&apos;408462&apos;, &apos;408472&apos;, &apos;680845&apos;]</td><td>680845</td></tr>\n",
       "<tr><td>19293</td><td>184.29373299560183</td><td>53.40066546772356</td><td>0.5701835729049409</td><td>57.84</td><td>1.3483966182099392</td><td>0.0001835729049407</td><td>680873</td><td>680873</td><td>[&apos;680873&apos;]</td><td>[&apos;680873&apos;]</td><td>680873</td></tr>\n",
       "<tr><td>15994</td><td>162.54486410249973</td><td>47.80173563413432</td><td>0.5522626969353103</td><td>24.74</td><td>1.557563909871224</td><td>0.0022626969353101</td><td>683932</td><td>683932</td><td>[&apos;683932&apos;]</td><td>[&apos;683932&apos;]</td><td>683932</td></tr>\n",
       "</table></div>"
      ],
      "text/plain": [
       "<clevar.catalog.catalog.ClCatalog at 0x7fd3642d3f50>"
      ]
     },
     "execution_count": 4,
     "metadata": {},
     "output_type": "execute_result"
    }
   ],
   "source": [
    "catalog_halos = clevar.ClCatalog('Halo catalog',ra=table_halos['RA'] ,dec=table_halos['DEC'] \n",
    "                                ,z=table_halos['redshift_R'], mass=table_halos['Mvir'])\n",
    "\n",
    "catalog_ame = clevar.ClCatalog('Detection catalog', ra=table_ame['RA'], dec=table_ame['DEC']\n",
    "                             , z=table_ame['z'], mass=table_ame['R_ame']  , mass_err=table_ame['R_ame_err'] ,z_err=table_ame['z_err'] , )\n",
    "mt = clevar.match.ProximityMatch()\n",
    "mt.load_matches(catalog_halos, catalog_ame, out_dir='temp')\n",
    "\n",
    "halos_match, detections_match = clevar.match.get_matched_pairs(catalog_halos, catalog_ame, 'cross')\n",
    "\n",
    "detections_match"
   ]
  },
  {
   "cell_type": "code",
   "execution_count": 89,
   "id": "9547589a-b3a1-4326-982f-ceb878570d03",
   "metadata": {},
   "outputs": [
    {
     "data": {
      "image/png": "[encoded data removed]",
      "text/plain": [
       "<Figure size 640x480 with 1 Axes>"
      ]
     },
     "metadata": {},
     "output_type": "display_data"
    }
   ],
   "source": [
    "from clevar.match_metrics import recovery\n",
    "\n",
    "zbins = np.linspace(0, 0.664, 20)\n",
    "mbins = np.logspace(13.0-np.log10(0.667), 15-np.log10(0.667), 5)\n",
    "rbins = np.logspace(0 , 3, 4cast/amico/\n",
    "Name\n",
    "Last Modified\n",
    "\n",
    "cast/amico/\n",
    "Name\n",
    "Last Modified\n",
    "\n",
    ")\n",
    "\n",
    "\n",
    "info = recovery.plot(catalog_ame, 'cross', zbins, rbins, shape='steps')\n",
    "\n",
    "plt.legend()\n",
    "plt.savefig(\"recovery_detections.jpg\")"
   ]
  },
  {
   "cell_type": "code",
   "execution_count": 87,
   "id": "da5b734b-35d6-49a1-98a4-95f0000dadeb",
   "metadata": {},
   "outputs": [
    {
     "data": {
      "image/png": "[encoded data removed]",
      "text/plain": [
       "<Figure size 640x480 with 1 Axes>"
      ]
     },
     "metadata": {},
     "output_type": "display_data"
    }
   ],
   "source": [
    "info = recovery.plot(catalog_halos, 'cross', zbins, mbins, shape='steps')\n",
    "plt.legend()\n",
    "plt.savefig(\"recovery_halos.jpg\")"
   ]
  },
  {
   "cell_type": "code",
   "execution_count": null,
   "id": "73370d2f-96c6-4c83-b184-43ef1ead4952",
   "metadata": {},
   "outputs": [],
   "source": []
  },
  {
   "cell_type": "code",
   "execution_count": null,
   "id": "aeb00838-3c87-435d-9b68-41e51aa5698d",
   "metadata": {},
   "outputs": [],
   "source": []
  }
 ],
 "metadata": {
  "kernelspec": {
   "display_name": "numcosmo",
   "language": "python",
   "name": "numcosmo"
  },
  "language_info": {
   "codemirror_mode": {
    "name": "ipython",
    "version": 3
   },
   "file_extension": ".py",
   "mimetype": "text/x-python",
   "name": "python",
   "nbconvert_exporter": "python",
   "pygments_lexer": "ipython3",
   "version": "3.12.4"
  }
 },
 "nbformat": 4,
 "nbformat_minor": 5
}
