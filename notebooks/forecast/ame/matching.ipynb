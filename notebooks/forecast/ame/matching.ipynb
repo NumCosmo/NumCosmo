{
 "cells": [
  {
   "cell_type": "code",
   "execution_count": 1,
   "id": "da49202c-b3be-482c-ba4b-9918f53909f9",
   "metadata": {
    "tags": []
   },
   "outputs": [],
   "source": [
    "from astropy.io import fits\n",
    "import clevar\n",
    "from clevar.match_metrics.recovery import ClCatalogFuncs as r_cf\n",
    "from clevar.match_metrics.distances import ClCatalogFuncs as d_cf\n",
    "from clevar.match_metrics.scaling import ClCatalogFuncs as s_cf\n",
    "import clevar.match_metrics.scaling as scaling\n",
    "import pyccl as ccl\n",
    "import pandas as pd\n",
    "from astropy.table import Table\n",
    "import astropy\n",
    "from matplotlib import pyplot as plt\n",
    "import numpy as np\n",
    "from numcosmo_py import Ncm, Nc\n",
    "from numcosmo_py.external.pyssc import pyssc as PySSC\n",
    "Ncm.cfg_init()"
   ]
  },
  {
   "cell_type": "code",
   "execution_count": 3,
   "id": "6601d59e-56d6-417a-8d1d-4aaff5afeb5c",
   "metadata": {
    "tags": []
   },
   "outputs": [
    {
     "name": "stdout",
     "output_type": "stream",
     "text": [
      "23066\n",
      "23751\n",
      "DEC max\n",
      "69.987462659708\n",
      "69.99612426757812\n",
      "\n",
      "\n",
      "DEC min\n",
      "20.00571528380776\n",
      "20.00299072265625\n",
      "\n",
      "\n",
      "RA max\n",
      "229.99483480331588\n",
      "229.99781799316406\n",
      "\n",
      "\n",
      "RA min\n",
      "110.00560235552096\n",
      "110.01350402832031\n",
      "\n",
      "\n",
      "z max\n",
      "0.6587940911577925\n",
      "0.6646252277727887\n",
      "\n",
      "\n",
      "z min\n",
      "0.0462011092646255\n",
      "0.016908477103261287\n"
     ]
    }
   ],
   "source": [
    "hdul_halos = fits.open(\"../halos/halos.fits\")\n",
    "hdul_ame = fits.open(\"richness_mcut_SNR 12_ame.fits\")\n",
    "\n",
    "logMmin = 14.0\n",
    "logMmax = 15\n",
    "\n",
    "table_halos = hdul_halos[1].data\n",
    "table_ame = hdul_ame[1].data\n",
    "table_halos = table_halos[(table_halos['upid'] == -1)  &  (table_halos['Mvir'] >= 10**logMmin) & (table_halos['Mvir'] <= 10**logMmax)]\n",
    "\n",
    "hdu = fits.BinTableHDU(data=table_halos)\n",
    "hdu.writeto('ame_halos.fits' , overwrite=True)\n",
    "\n",
    "table_halos['Mvir'] = table_halos['Mvir']/0.6774\n",
    "\n",
    "print(table_halos.size)\n",
    "print(table_ame.size)\n",
    "\n",
    "#print(table_ame.columns)\n",
    "\n",
    "print(\"DEC max\")\n",
    "print(table_ame['DEC'].max())\n",
    "print(table_halos['DEC'].max())\n",
    "print('\\n')\n",
    "print(\"DEC min\")\n",
    "print(table_ame['DEC'].min())\n",
    "print(table_halos['DEC'].min())\n",
    "print('\\n')\n",
    "print(\"RA max\")\n",
    "print(table_ame['RA'].max())\n",
    "print(table_halos['RA'].max())\n",
    "print('\\n')\n",
    "print(\"RA min\")\n",
    "print(table_ame['RA'].min())\n",
    "print(table_halos['RA'].min())\n",
    "print('\\n')\n",
    "print(\"z max\")\n",
    "print(table_ame['z'].max())\n",
    "print(table_halos['redshift_R'].max())\n",
    "print('\\n')\n",
    "print(\"z min\")\n",
    "print(table_ame['z'].min())\n",
    "print(table_halos['redshift_R'].min())\n",
    "\n",
    "#display(table_halos['RA'].duplicates())\n",
    "#display(table_halos[14600])"
   ]
  },
  {
   "cell_type": "code",
   "execution_count": 5,
   "id": "974d8d9d-3b4d-47ff-be20-09e45be85ced",
   "metadata": {
    "tags": []
   },
   "outputs": [
    {
     "name": "stderr",
     "output_type": "stream",
     "text": [
      "/global/u2/l/lettieri/miniforge3/envs/numcosmo_developer/lib/python3.12/site-packages/clevar-0.15.3-py3.12.egg/clevar/catalog/tagdata.py:278: UserWarning: id column missing, additional one is being created.\n",
      "  warnings.warn(f\"{id_name} column missing, additional one is being created.\")\n"
     ]
    }
   ],
   "source": [
    "catalog_halos = clevar.ClCatalog('Halo catalog',ra=table_halos['RA'] ,dec=table_halos['DEC'] \n",
    "                                ,z=table_halos['redshift_R']) #, mass=table_halos['Mvir']\n",
    "\n",
    "catalog_ame = clevar.ClCatalog('Detection catalog', ra=table_ame['RA'], dec=table_ame['DEC']\n",
    "                             , z=table_ame['z'] ,z_err=table_ame['z_err'] ) #mass=table_ame['R_ame']  , mass_err=table_ame['R_ame_err']"
   ]
  },
  {
   "cell_type": "code",
   "execution_count": 4,
   "id": "c7e30725-5b46-4c00-8e72-79e704a61baf",
   "metadata": {},
   "outputs": [
    {
     "name": "stdout",
     "output_type": "stream",
     "text": [
      "## Prep mt_cols\n",
      "### Prep z_cols\n",
      "* zmin|zmax from config value\n",
      "### Prep ang_cols\n",
      "* ang radius from set scale\n",
      "## Prep mt_cols\n",
      "### Prep z_cols\n",
      "* zmin|zmax from config value\n",
      "### Prep ang_cols\n",
      "* ang radius from set scale\n",
      "\n",
      "## ClCatalog 1\n",
      "## Prep mt_cols\n",
      "### Prep z_cols\n",
      "* zmin|zmax from config value\n",
      "### Prep ang_cols\n",
      "* ang radius from set scale\n",
      "\n",
      "## ClCatalog 2\n",
      "## Prep mt_cols\n",
      "### Prep z_cols\n",
      "* zmin|zmax from config value\n",
      "### Prep ang_cols\n",
      "* ang radius from set scale\n",
      "\n",
      "## Multiple match (catalog 1)\n",
      "Finding candidates (Halo catalog)\n",
      "* 11,251/23,066 objects matched.\n",
      "\n",
      "## Multiple match (catalog 2)\n",
      "Finding candidates (Detection catalog)\n",
      "* 11,081/23,751 objects matched.\n",
      "\n",
      "## Finding unique matches of catalog 1\n",
      "Unique Matches (Halo catalog)\n",
      "* 11,074/23,066 objects matched.\n",
      "\n",
      "## Finding unique matches of catalog 2\n",
      "Unique Matches (Detection catalog)\n",
      "* 11,076/23,751 objects matched.\n",
      "Cross Matches (Halo catalog)\n",
      "* 11,068/23,066 objects matched.\n",
      "Cross Matches (Detection catalog)\n",
      "* 11,068/23,751 objects matched.\n"
     ]
    }
   ],
   "source": [
    "cosmo_astropy = clevar.cosmology.CCLCosmology(H0=67.74, Omega_b0=0.0486, Omega_dm0=0.3089 - 0.0486, Omega_k0=0)\n",
    "mt = clevar.match.ProximityMatch()\n",
    "mt.prep_cat_for_match(catalog_ame ,  delta_z=0.01, match_radius='1 Mpc', cosmo=cosmo_astropy)\n",
    "mt.prep_cat_for_match(catalog_halos ,  delta_z=0.01, match_radius='1 Mpc', cosmo=cosmo_astropy)\n",
    "match_config = {\n",
    "    'type': 'cross', # options are cross, cat1, cat2\n",
    "    'which_radius': 'self', # Case of radius to be used, can be: cat1, cat2, min, max\n",
    "    'preference': 'redshift_proximity', # options are more_massive, angular_proximity or redshift_proximity\n",
    "    'catalog1': {'delta_z':0.01,\n",
    "                'match_radius': '1 Mpc',\n",
    "                 'n_delta_z':1.0\n",
    "                },\n",
    "    'catalog2': {'delta_z':0.01,\n",
    "                'match_radius': '1 Mpc',\n",
    "                 'n_delta_z':1.0\n",
    "                }\n",
    "}\n",
    "\n",
    "mt.match_from_config(catalog_halos, catalog_ame, match_config, cosmo=cosmo_astropy)\n",
    "mt.save_matches(catalog_halos, catalog_ame, out_dir='temp', overwrite=True)"
   ]
  },
  {
   "cell_type": "code",
   "execution_count": 4,
   "id": "4746fefb-b40c-4062-9c51-50859f40d8dc",
   "metadata": {
    "tags": []
   },
   "outputs": [
    {
     "name": "stderr",
     "output_type": "stream",
     "text": [
      "/global/u2/l/lettieri/miniforge3/envs/numcosmo_developer/lib/python3.12/site-packages/clevar-0.15.3-py3.12.egg/clevar/catalog/tagdata.py:278: UserWarning: id column missing, additional one is being created.\n",
      "  warnings.warn(f\"{id_name} column missing, additional one is being created.\")\n"
     ]
    },
    {
     "name": "stdout",
     "output_type": "stream",
     "text": [
      "Halo catalog\n",
      "    * ClEvar used in matching: 0.15.3\n",
      " * Total objects:    23,066\n",
      " * multiple (self):  11,251\n",
      " * multiple (other): 11,254\n",
      " * unique (self):    11,074\n",
      " * unique (other):   11,076\n",
      " * cross:            11,068\n",
      "\n",
      "Detection catalog\n",
      "    * ClEvar used in matching: 0.15.3\n",
      " * Total objects:    23,751\n",
      " * multiple (self):  11,081\n",
      " * multiple (other): 11,079\n",
      " * unique (self):    11,076\n",
      " * unique (other):   11,074\n",
      " * cross:            11,068\n"
     ]
    }
   ],
   "source": [
    "catalog_halos = clevar.ClCatalog('Halo catalog',ra=table_halos['RA'] ,dec=table_halos['DEC'] \n",
    "                                ,z=table_halos['redshift_R']) #, mass=table_halos['Mvir']\n",
    "\n",
    "catalog_ame = clevar.ClCatalog('Detection catalog', ra=table_ame['RA'], dec=table_ame['DEC']\n",
    "                             , z=table_ame['z'] , ) #z_err=table_ame['z_err'] , , mass=table_ame['R_ame']  , mass_err=table_ame['R_ame_err']\n",
    "mt = clevar.match.ProximityMatch()\n",
    "mt.load_matches(catalog_halos, catalog_ame, out_dir='temp')\n",
    "\n",
    "halos_match, detections_match = clevar.match.get_matched_pairs(catalog_halos, catalog_ame, 'cross')"
   ]
  },
  {
   "cell_type": "code",
   "execution_count": 1,
   "id": "83359232-8afb-4672-9880-40e0dcd8bf6e",
   "metadata": {
    "scrolled": true
   },
   "outputs": [
    {
     "name": "stderr",
     "output_type": "stream",
     "text": [
      "100%|██████████| 23066/23066 [00:08<00:00, 2719.47it/s]\n"
     ]
    },
    {
     "name": "stdout",
     "output_type": "stream",
     "text": [
      "\n",
      "        Number of objects matching: 23066\n",
      "        Number of objects in the target catalog: 23751\n",
      "        Number of unmatched objects: 11816\n",
      "        Number of matched objects: 11250\n",
      "        \n"
     ]
    },
    {
     "name": "stderr",
     "output_type": "stream",
     "text": [
      "100%|██████████| 23751/23751 [00:08<00:00, 2886.08it/s]\n"
     ]
    },
    {
     "name": "stdout",
     "output_type": "stream",
     "text": [
      "\n",
      "        Number of objects matching: 23751\n",
      "        Number of objects in the target catalog: 23066\n",
      "        Number of unmatched objects: 12670\n",
      "        Number of matched objects: 11081\n",
      "        \n"
     ]
    },
    {
     "name": "stderr",
     "output_type": "stream",
     "text": [
      "100%|██████████| 23066/23066 [00:10<00:00, 2100.71it/s]"
     ]
    },
    {
     "name": "stdout",
     "output_type": "stream",
     "text": [
      "\n",
      "        Number of cross matched objects: 11070\n",
      "        \n"
     ]
    },
    {
     "name": "stderr",
     "output_type": "stream",
     "text": [
      "\n"
     ]
    }
   ],
   "source": [
    "from numcosmo_py import Ncm, Nc\n",
    "import numpy as np\n",
    "from numcosmo_py import sky_match \n",
    "from numcosmo_py.external.pyssc import pyssc as PySSC\n",
    "from pathlib import Path\n",
    "Ncm.cfg_init()\n",
    "\n",
    "area = 4109.3\n",
    "cosmo = Nc.HICosmoDEXcdm()\n",
    "cosmo.omega_x2omega_k()\n",
    "cosmo.param_set_by_name(\"H0\", 67.74)\n",
    "cosmo.param_set_by_name(\"Omegab\", 0.0486)\n",
    "cosmo.param_set_by_name(\"Omegac\",0.3089 - 0.0486) #0.2603\n",
    "cosmo.param_set_by_name(\"Omegak\", 0.00)\n",
    "cosmo.param_set_by_name(\"w\", -1.0) #-1.0\n",
    "\n",
    "\n",
    "prim = Nc.HIPrimPowerLaw.new()\n",
    "prim.param_set_by_name(\"ln10e10ASA\",3.0116707481421923)\n",
    "prim.param_set_by_name(\"n_SA\", 0.9667)\n",
    "\n",
    "\n",
    "reion = Nc.HIReionCamb.new()\n",
    "\n",
    "cosmo.add_submodel(prim)\n",
    "cosmo.add_submodel(reion)\n",
    "\n",
    "\n",
    "path_halo = Path(\"ame_halos.fits\")\n",
    "halo_coordinates = {\"RA\":\"RA\" , \"DEC\":\"DEC\" , \"z\":\"redshift_R\"}\n",
    "halo_properties  = {\"Mvir\":\"mass1\" ,\"RA\":\"RA1\"}\n",
    "path_detections  = Path(\"richness_mcut_SNR 12_ame.fits\")\n",
    "detections_coordinates =  {\"RA\":\"RA\" , \"DEC\":\"DEC\" , \"z\":\"z\"}\n",
    "detections_properties  = {\"R_ame\":\"mass2\" , \"z_err\":\"z_err2\"}\n",
    "\n",
    "\n",
    "#detections = sky_match.SkyMatch(query_catalog_path=path_detections, query_coordinates=detections_coordinates, query_properties=detections_properties\n",
    "#                                , match_catalog_path=path_halo, match_coordinates=halo_coordinates , match_properties=halo_properties)\n",
    "\n",
    "\n",
    "halos = sky_match.SkyMatch(query_catalog_path=path_halo, query_coordinates=halo_coordinates , query_properties=halo_properties ,match_catalog_path=path_detections,\n",
    "                   match_coordinates=detections_coordinates,match_properties=detections_properties)\n",
    "\n",
    "\n",
    "\n",
    "\n",
    "#halos = sky_match.SkyMatch(query_catalog_path=path_halo, query_coordinates=halo_coordinates ,match_catalog_path=path_detections,\n",
    "#                   match_coordinates=detections_coordinates)\n",
    "\n",
    "halos_matched, detections_matched, best_halos, best_detections , cross = halos.cross_match_2d(cosmo=cosmo  ,matching_distance1=1 ,matching_distance2=1,n_nearest_neighbours1=100,n_nearest_neighbours2=100 \n",
    "                                                                                   ,match_dist_3d=True , delta_z1=0.01,delta_z2=0.01 , n_delta_z1=1,n_delta_z2=1 ,\n",
    "                                                                                 selection_criteria1='redshift_proximity' , selection_criteria2='redshift_proximity',\n",
    "                                                                                  use_zerr1 =False      ,use_zerr2 = False ,which_radius1=\"query_radius\" , which_radius2=\"query_radius\")"
   ]
  },
  {
   "cell_type": "code",
   "execution_count": 8,
   "id": "9f0860e6-ac93-4a63-b280-4ebd4caf1f51",
   "metadata": {
    "scrolled": true
   },
   "outputs": [
    {
     "data": {
      "text/plain": [
       "23066"
      ]
     },
     "metadata": {},
     "output_type": "display_data"
    },
    {
     "data": {
      "text/plain": [
       "23751"
      ]
     },
     "metadata": {},
     "output_type": "display_data"
    },
    {
     "data": {
      "text/plain": [
       "11070"
      ]
     },
     "metadata": {},
     "output_type": "display_data"
    },
    {
     "name": "stderr",
     "output_type": "stream",
     "text": [
      "/global/u2/l/lettieri/miniforge3/envs/numcosmo_developer/lib/python3.12/site-packages/clevar-0.15.3-py3.12.egg/clevar/catalog/tagdata.py:278: UserWarning: id column missing, additional one is being created.\n",
      "  warnings.warn(f\"{id_name} column missing, additional one is being created.\")\n"
     ]
    },
    {
     "name": "stdout",
     "output_type": "stream",
     "text": [
      "11250\n",
      "11081\n",
      "Halo catalog\n",
      "    * ClEvar used in matching: 0.15.3\n",
      " * Total objects:    23,066\n",
      " * multiple (self):  11,251\n",
      " * multiple (other): 11,254\n",
      " * unique (self):    11,074\n",
      " * unique (other):   11,076\n",
      " * cross:            11,068\n",
      "\n",
      "Detection catalog\n",
      "    * ClEvar used in matching: 0.15.3\n",
      " * Total objects:    23,751\n",
      " * multiple (self):  11,081\n",
      " * multiple (other): 11,079\n",
      " * unique (self):    11,076\n",
      " * unique (other):   11,074\n",
      " * cross:            11,068\n"
     ]
    }
   ],
   "source": [
    "display(len(halos_matched))\n",
    "display(len(detections_matched))\n",
    "display(len(cross))\n",
    "halos_number = 0\n",
    "#display(cross)\n",
    "detections_number = 0\n",
    "for i in range(len(halos_matched['ID'])):\n",
    "    if len(halos_matched['ID_matched'][i]) > 0:\n",
    "        halos_number +=1\n",
    "\n",
    "for i in range(len(detections_matched['ID'])):\n",
    "    if len(detections_matched['ID_matched'][i]) > 0:\n",
    "        detections_number +=1\n",
    "print(halos_number)\n",
    "print(detections_number)\n",
    "\n",
    "catalog_halos = clevar.ClCatalog('Halo catalog',ra=table_halos['RA'] ,dec=table_halos['DEC'] \n",
    "                                ,z=table_halos['redshift_R']) #, mass=table_halos['Mvir']\n",
    "\n",
    "catalog_ame = clevar.ClCatalog('Detection catalog', ra=table_ame['RA'], dec=table_ame['DEC']\n",
    "                             , z=table_ame['z'] , ) #z_err=table_ame['z_err'] , , mass=table_ame['R_ame']  , mass_err=table_ame['R_ame_err']\n",
    "mt = clevar.match.ProximityMatch()\n",
    "mt.load_matches(catalog_halos, catalog_ame, out_dir='temp')\n",
    "\n",
    "halos_match, detections_match = clevar.match.get_matched_pairs(catalog_halos, catalog_ame, 'self')\n",
    "#0.0003657"
   ]
  },
  {
   "cell_type": "code",
   "execution_count": 3,
   "id": "af411fc8-3f71-4971-8d7b-5447a79dcd88",
   "metadata": {
    "scrolled": true
   },
   "outputs": [
    {
     "data": {
      "text/html": [
       "<i>Row index=372</i>\n",
       "<table id=\"table140297711814656\">\n",
       "<thead><tr><th>ID</th><th>RA</th><th>DEC</th><th>z</th><th>ID_matched</th><th>RA_matched</th><th>DEC_matched</th><th>z_matched</th><th>distances</th><th>mass2</th><th>z_err2</th><th>mass1</th><th>RA1</th></tr></thead>\n",
       "<thead><tr><th>int64</th><th>float64</th><th>float64</th><th>float64</th><th>int64[100]</th><th>float64[100]</th><th>float64[100]</th><th>float64[100]</th><th>float64[100]</th><th>float64</th><th>float64</th><th>float64[100]</th><th>float64[100]</th></tr></thead>\n",
       "<tr><td>372</td><td>198.159633637546</td><td>55.81167992400343</td><td>0.1931849769991934</td><td>1111 .. 8784</td><td>198.1243896484375 .. 195.29347229003906</td><td>55.81852722167969 .. 57.56620788574219</td><td>0.194790192623097 .. 0.426504179211944</td><td>0.0003656952328338415 .. 0.04112952717814077</td><td>84.0</td><td>0.0031849769991934</td><td>141899998000000.0 .. 306299988000000.0</td><td>198.1243896484375 .. 195.29347229003906</td></tr>\n",
       "</table>"
      ],
      "text/plain": [
       "<Row index=372>\n",
       "  ID         RA               DEC                z           ID_matched                 RA_matched                            DEC_matched                             z_matched                                 distances                    mass2        z_err2                       mass1                                    RA1                  \n",
       "int64     float64           float64           float64        int64[100]                float64[100]                           float64[100]                           float64[100]                              float64[100]                 float64      float64                    float64[100]                            float64[100]             \n",
       "----- ---------------- ----------------- ------------------ ------------ --------------------------------------- -------------------------------------- -------------------------------------- -------------------------------------------- ------- ------------------ -------------------------------------- ---------------------------------------\n",
       "  372 198.159633637546 55.81167992400343 0.1931849769991934 1111 .. 8784 198.1243896484375 .. 195.29347229003906 55.81852722167969 .. 57.56620788574219 0.194790192623097 .. 0.426504179211944 0.0003656952328338415 .. 0.04112952717814077    84.0 0.0031849769991934 141899998000000.0 .. 306299988000000.0 198.1243896484375 .. 195.29347229003906"
      ]
     },
     "metadata": {},
     "output_type": "display_data"
    },
    {
     "data": {
      "text/html": [
       "<i>Row index=1111</i>\n",
       "<table id=\"table140297712775488\">\n",
       "<thead><tr><th>ID</th><th>RA</th><th>DEC</th><th>z</th><th>ID_matched</th><th>RA_matched</th><th>DEC_matched</th><th>z_matched</th><th>distances</th><th>mass1</th><th>RA1</th><th>mass2</th><th>z_err2</th></tr></thead>\n",
       "<thead><tr><th>int64</th><th>float64</th><th>float64</th><th>float64</th><th>int64[100]</th><th>float64[100]</th><th>float64[100]</th><th>float64[100]</th><th>float64[100]</th><th>float64</th><th>float64</th><th>float64[100]</th><th>float64[100]</th></tr></thead>\n",
       "<tr><td>1111</td><td>198.1243896484375</td><td>55.81852722167969</td><td>0.194790192623097</td><td>13770 .. 13095</td><td>198.159633637546 .. 196.1824424589641</td><td>55.81167992400343 .. 57.73292192526432</td><td>0.1545603205774501 .. 0.3612993701840821</td><td>0.0003656952328338415 .. 0.0382205563698647</td><td>141899998000000.0</td><td>198.1243896484375</td><td>94.52 .. 40.2</td><td>0.0045603205774501 .. 0.001299370184082</td></tr>\n",
       "</table>"
      ],
      "text/plain": [
       "<Row index=1111>\n",
       "  ID          RA               DEC                z           ID_matched                 RA_matched                           DEC_matched                              z_matched                                  distances                        mass1              RA1            mass2                      z_err2                \n",
       "int64      float64           float64           float64        int64[100]                float64[100]                          float64[100]                            float64[100]                               float64[100]                     float64           float64       float64[100]               float64[100]             \n",
       "----- ----------------- ----------------- ----------------- -------------- ------------------------------------- -------------------------------------- ---------------------------------------- ------------------------------------------- ----------------- ----------------- ------------- ---------------------------------------\n",
       " 1111 198.1243896484375 55.81852722167969 0.194790192623097 13770 .. 13095 198.159633637546 .. 196.1824424589641 55.81167992400343 .. 57.73292192526432 0.1545603205774501 .. 0.3612993701840821 0.0003656952328338415 .. 0.0382205563698647 141899998000000.0 198.1243896484375 94.52 .. 40.2 0.0045603205774501 .. 0.001299370184082"
      ]
     },
     "metadata": {},
     "output_type": "display_data"
    }
   ],
   "source": [
    "#display(halos_matched[ids])\n",
    "#display(catalog_halos[ids])\n",
    "display(detections_matched[372])\n",
    "display(halos_matched[1111])"
   ]
  },
  {
   "cell_type": "code",
   "execution_count": 10,
   "id": "1214c6d7-710e-4475-83e7-ab8370a337d4",
   "metadata": {},
   "outputs": [
    {
     "name": "stdout",
     "output_type": "stream",
     "text": [
      "0.20870139288905715\n",
      "0.2515896399689881\n",
      "0.24995442784729804\n"
     ]
    }
   ],
   "source": [
    "dist = Nc.Distance.new(3.0)\n",
    "dist.prepare(cosmo)\n",
    "RH_Mpc = cosmo.RH_Mpc()\n",
    "print(dist.angular_diameter(cosmo, 0.1545603205774501) * RH_Mpc * 0.0003656952328338415)\n",
    "print(dist.angular_diameter(cosmo, 0.194790192623097) * RH_Mpc * 0.0003656952328338415)\n",
    "print(dist.angular_diameter(cosmo, 0.1931849769991934) * RH_Mpc * 0.0003656952328338415)"
   ]
  },
  {
   "cell_type": "code",
   "execution_count": 2,
   "id": "c0b218b8-0ebc-41b0-a478-c05f93b70730",
   "metadata": {},
   "outputs": [
    {
     "name": "stdout",
     "output_type": "stream",
     "text": [
      "[]\n"
     ]
    },
    {
     "data": {
      "text/plain": [
       "array([1111])"
      ]
     },
     "execution_count": 2,
     "metadata": {},
     "output_type": "execute_result"
    }
   ],
   "source": [
    "print(halos_matched['ID_matched'][1111])\n",
    "detections_matched['ID_matched'][372]"
   ]
  },
  {
   "cell_type": "code",
   "execution_count": 3,
   "id": "020d6eb3-7069-4330-b642-84c1869de961",
   "metadata": {},
   "outputs": [
    {
     "name": "stderr",
     "output_type": "stream",
     "text": [
      "100%|██████████| 23066/23066 [00:06<00:00, 3367.58it/s]\n"
     ]
    },
    {
     "name": "stdout",
     "output_type": "stream",
     "text": [
      "\n",
      "        Number of objects matching: 23066\n",
      "        Number of objects in the target catalog: 23751\n",
      "        Number of unmatched objects: 21082\n",
      "        Number of matched objects: 1984\n",
      "        \n"
     ]
    },
    {
     "name": "stderr",
     "output_type": "stream",
     "text": [
      "100%|██████████| 23751/23751 [00:07<00:00, 3111.49it/s]\n"
     ]
    },
    {
     "name": "stdout",
     "output_type": "stream",
     "text": [
      "\n",
      "        Number of objects matching: 23751\n",
      "        Number of objects in the target catalog: 23066\n",
      "        Number of unmatched objects: 0\n",
      "        Number of matched objects: 23751\n",
      "        \n"
     ]
    },
    {
     "name": "stderr",
     "output_type": "stream",
     "text": [
      "100%|██████████| 23066/23066 [00:01<00:00, 14342.28it/s]\n"
     ]
    },
    {
     "name": "stdout",
     "output_type": "stream",
     "text": [
      "\n",
      "        Number of cross matched objects: 1978\n",
      "        \n"
     ]
    }
   ],
   "source": [
    "halos = sky_match.SkyMatch(query_catalog_path=path_halo, query_coordinates=halo_coordinates , query_properties=halo_properties ,match_catalog_path=path_detections,\n",
    "                   match_coordinates=detections_coordinates,match_properties=detections_properties)\n",
    "\n",
    "halos_matched, detections_matched, best_halos, best_detections , cross = halos.cross_match_3d(cosmo , 1 , 100 , 1, 100)"
   ]
  },
  {
   "cell_type": "code",
   "execution_count": 4,
   "id": "4a1cf7e7-c132-4510-927e-2a88717aa7f6",
   "metadata": {
    "scrolled": true
   },
   "outputs": [
    {
     "data": {
      "text/html": [
       "<div><i>Table length=1978</i>\n",
       "<table id=\"table140029483677696\" class=\"table-striped table-bordered table-condensed\">\n",
       "<thead><tr><th>ID</th><th>RA</th><th>DEC</th><th>z</th><th>ID_matched</th><th>RA_matched</th><th>DEC_matched</th><th>z_matched</th><th>distances</th><th>mass1</th><th>RA1</th><th>mass2</th><th>z_err2</th></tr></thead>\n",
       "<thead><tr><th>int64</th><th>float64</th><th>float64</th><th>float64</th><th>object</th><th>object</th><th>object</th><th>object</th><th>object</th><th>float64</th><th>float64</th><th>object</th><th>object</th></tr></thead>\n",
       "<tr><td>8</td><td>203.7144317626953</td><td>44.95909118652344</td><td>0.04786518839242011</td><td>20249</td><td>203.6522381950678</td><td>44.957848865272354</td><td>0.0481005617843885</td><td>0.9392813845764182</td><td>123699999000000.0</td><td>203.7144317626953</td><td>66.0</td><td>0.0018994382156114</td></tr>\n",
       "<tr><td>11</td><td>187.6056671142578</td><td>26.249267578125</td><td>0.05040906884004727</td><td>315</td><td>187.5255282028304</td><td>26.224572277984823</td><td>0.0505445115478305</td><td>0.598828065182572</td><td>134699997000000.0</td><td>187.6056671142578</td><td>62.0</td><td>0.0005445115478305</td></tr>\n",
       "<tr><td>14</td><td>210.27578735351562</td><td>36.62609100341797</td><td>0.06423723684298133</td><td>2341</td><td>210.24944902248512</td><td>36.598576497104574</td><td>0.0642027632772984</td><td>0.2059276574074356</td><td>145300002000000.0</td><td>210.27578735351562</td><td>46.64</td><td>0.0042027632772984</td></tr>\n",
       "<tr><td>19</td><td>219.69305419921875</td><td>27.25177764892578</td><td>0.06556446990403195</td><td>309</td><td>219.78978720815937</td><td>27.198304931611883</td><td>0.0655384124333797</td><td>0.483969766663158</td><td>479399988000000.0</td><td>219.69305419921875</td><td>74.0</td><td>0.0055384124333797</td></tr>\n",
       "<tr><td>48</td><td>142.33724975585938</td><td>50.08399963378906</td><td>0.062197574717973006</td><td>209</td><td>142.40618382447673</td><td>50.1101350459694</td><td>0.0620834966285095</td><td>0.49059423838136934</td><td>310000002000000.0</td><td>142.33724975585938</td><td>63.0</td><td>0.0020834966285095</td></tr>\n",
       "<tr><td>68</td><td>169.755615234375</td><td>24.99565887451172</td><td>0.04782015539806158</td><td>2894</td><td>169.7492180362131</td><td>25.00997975602701</td><td>0.0479326599976463</td><td>0.4462716523213589</td><td>238100001000000.0</td><td>169.755615234375</td><td>61.0</td><td>0.0020673400023536</td></tr>\n",
       "<tr><td>69</td><td>163.11761474609375</td><td>30.909317016601562</td><td>0.06822961714997015</td><td>11752</td><td>163.1308810285288</td><td>30.909157962543308</td><td>0.0681479535065559</td><td>0.31113998963440775</td><td>102599999000000.0</td><td>163.11761474609375</td><td>31.0</td><td>0.0081479535065559</td></tr>\n",
       "<tr><td>77</td><td>219.0058135986328</td><td>66.43217468261719</td><td>0.07536264610006475</td><td>406</td><td>219.04141278608932</td><td>66.47519395913783</td><td>0.0755714829079977</td><td>0.8064060848921887</td><td>388300007000000.0</td><td>219.0058135986328</td><td>58.88</td><td>0.0055714829079977</td></tr>\n",
       "<tr><td>81</td><td>188.77662658691406</td><td>66.14175415039062</td><td>0.08644902563447458</td><td>3455</td><td>188.7643923582906</td><td>66.13518409169957</td><td>0.0864868902714903</td><td>0.1446390053789083</td><td>108199999000000.0</td><td>188.77662658691406</td><td>31.0</td><td>0.0064868902714903</td></tr>\n",
       "<tr><td>101</td><td>227.67063903808594</td><td>52.72807312011719</td><td>0.09458094941955271</td><td>654</td><td>227.71399553148285</td><td>52.70965613345373</td><td>0.0948007296471966</td><td>0.8013227736189797</td><td>627700010000000.0</td><td>227.67063903808594</td><td>92.0</td><td>0.0048007296471966</td></tr>\n",
       "<tr><td>...</td><td>...</td><td>...</td><td>...</td><td>...</td><td>...</td><td>...</td><td>...</td><td>...</td><td>...</td><td>...</td><td>...</td><td>...</td></tr>\n",
       "<tr><td>20660</td><td>188.86282348632812</td><td>31.639076232910156</td><td>0.6029855771404615</td><td>23651</td><td>188.86057043635356</td><td>31.64258516188658</td><td>0.6022230696816453</td><td>0.8319549370304413</td><td>245800005000000.0</td><td>188.86282348632812</td><td>53.1</td><td>0.002223069681645</td></tr>\n",
       "<tr><td>20711</td><td>183.02886962890625</td><td>31.82074737548828</td><td>0.6022876170936589</td><td>19133</td><td>183.0295903413564</td><td>31.82326310022988</td><td>0.601654910072816</td><td>0.6894204155561526</td><td>436399984000000.0</td><td>183.02886962890625</td><td>59.68</td><td>0.0016549100728158</td></tr>\n",
       "<tr><td>21438</td><td>140.8620147705078</td><td>59.69850158691406</td><td>0.6323381506166036</td><td>18853</td><td>140.8738270577738</td><td>59.71464153562946</td><td>0.6325235168562735</td><td>0.47498458630579976</td><td>413999984000000.0</td><td>140.8620147705078</td><td>38.42</td><td>0.0025235168562733</td></tr>\n",
       "<tr><td>21824</td><td>162.9528045654297</td><td>58.09417724609375</td><td>0.613284132090768</td><td>10121</td><td>162.94623247475664</td><td>58.09043550934002</td><td>0.6124300846772871</td><td>0.9120981530941226</td><td>423200006000000.0</td><td>162.9528045654297</td><td>42.96</td><td>0.002430084677287</td></tr>\n",
       "<tr><td>22269</td><td>136.4588623046875</td><td>27.734130859375</td><td>0.644914016475278</td><td>21926</td><td>136.4550659317682</td><td>27.738745584825896</td><td>0.6456795879914903</td><td>0.7638499418304584</td><td>186000001000000.0</td><td>136.4588623046875</td><td>44.68000000000001</td><td>0.0056795879914901</td></tr>\n",
       "<tr><td>22960</td><td>171.86427307128906</td><td>20.18877410888672</td><td>0.6116403072977834</td><td>20785</td><td>171.8492484238808</td><td>20.192478187087023</td><td>0.6123698819497937</td><td>0.8546917859086706</td><td>641899980000000.0</td><td>171.86427307128906</td><td>75.32</td><td>0.0023698819497935</td></tr>\n",
       "<tr><td>22962</td><td>173.81350708007812</td><td>20.918258666992188</td><td>0.6063942689228798</td><td>11195</td><td>173.8031003856135</td><td>20.92796675850601</td><td>0.6070497803775577</td><td>0.7820832909407449</td><td>542100001000000.0</td><td>173.81350708007812</td><td>77.78</td><td>0.0070497803775575</td></tr>\n",
       "<tr><td>23038</td><td>116.92439270019531</td><td>60.571258544921875</td><td>0.26755832448098255</td><td>587</td><td>116.92014536370654</td><td>60.57429703349597</td><td>0.2676246295337439</td><td>0.1655770614402383</td><td>323099988000000.0</td><td>116.92439270019531</td><td>91.1</td><td>0.0076246295337438</td></tr>\n",
       "<tr><td>23043</td><td>123.79698944091797</td><td>43.15046691894531</td><td>0.28423485357666267</td><td>1397</td><td>123.82385371857264</td><td>43.14398603526107</td><td>0.2838551136771351</td><td>0.9194428201533588</td><td>187500002000000.0</td><td>123.79698944091797</td><td>68.24</td><td>0.003855113677135</td></tr>\n",
       "<tr><td>23054</td><td>143.60238647460938</td><td>42.25404357910156</td><td>0.4645045334692777</td><td>6580</td><td>143.60512869164535</td><td>42.24792129528812</td><td>0.4643750216241831</td><td>0.2389459013193765</td><td>159399994000000.0</td><td>143.60238647460938</td><td>57.22</td><td>0.004375021624183</td></tr>\n",
       "</table></div>"
      ],
      "text/plain": [
       "<Table length=1978>\n",
       "  ID          RA         ...       mass2             z_err2      \n",
       "int64      float64       ...       object            object      \n",
       "----- ------------------ ... ----------------- ------------------\n",
       "    8  203.7144317626953 ...              66.0 0.0018994382156114\n",
       "   11  187.6056671142578 ...              62.0 0.0005445115478305\n",
       "   14 210.27578735351562 ...             46.64 0.0042027632772984\n",
       "   19 219.69305419921875 ...              74.0 0.0055384124333797\n",
       "   48 142.33724975585938 ...              63.0 0.0020834966285095\n",
       "   68   169.755615234375 ...              61.0 0.0020673400023536\n",
       "   69 163.11761474609375 ...              31.0 0.0081479535065559\n",
       "   77  219.0058135986328 ...             58.88 0.0055714829079977\n",
       "   81 188.77662658691406 ...              31.0 0.0064868902714903\n",
       "  101 227.67063903808594 ...              92.0 0.0048007296471966\n",
       "  ...                ... ...               ...                ...\n",
       "20660 188.86282348632812 ...              53.1  0.002223069681645\n",
       "20711 183.02886962890625 ...             59.68 0.0016549100728158\n",
       "21438  140.8620147705078 ...             38.42 0.0025235168562733\n",
       "21824  162.9528045654297 ...             42.96  0.002430084677287\n",
       "22269  136.4588623046875 ... 44.68000000000001 0.0056795879914901\n",
       "22960 171.86427307128906 ...             75.32 0.0023698819497935\n",
       "22962 173.81350708007812 ...             77.78 0.0070497803775575\n",
       "23038 116.92439270019531 ...              91.1 0.0076246295337438\n",
       "23043 123.79698944091797 ...             68.24  0.003855113677135\n",
       "23054 143.60238647460938 ...             57.22  0.004375021624183"
      ]
     },
     "execution_count": 4,
     "metadata": {},
     "output_type": "execute_result"
    }
   ],
   "source": [
    "cross"
   ]
  },
  {
   "cell_type": "code",
   "execution_count": null,
   "id": "a8832f74-a159-45d1-96ac-0d717119be83",
   "metadata": {},
   "outputs": [],
   "source": []
  }
 ],
 "metadata": {
  "kernelspec": {
   "display_name": "numcosmo",
   "language": "python",
   "name": "numcosmo"
  },
  "language_info": {
   "codemirror_mode": {
    "name": "ipython",
    "version": 3
   },
   "file_extension": ".py",
   "mimetype": "text/x-python",
   "name": "python",
   "nbconvert_exporter": "python",
   "pygments_lexer": "ipython3",
   "version": "3.12.4"
  }
 },
 "nbformat": 4,
 "nbformat_minor": 5
}
