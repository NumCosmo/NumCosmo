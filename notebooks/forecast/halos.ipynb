{
 "cells": [
  {
   "cell_type": "code",
   "execution_count": 1,
   "id": "44c21f4f-eef0-4789-9ba3-b70a3716a2a8",
   "metadata": {
    "tags": []
   },
   "outputs": [],
   "source": [
    "from astropy.io import fits\n",
    "import pandas as pd\n",
    "from astropy.table import Table\n",
    "from astropy.table import vstack\n",
    "from matplotlib import pyplot as plt\n",
    "import numpy as np\n",
    "from numcosmo_py import Ncm, Nc\n",
    "from numcosmo_py.external.pyssc import pyssc as PySSC\n",
    "Ncm.cfg_init()"
   ]
  },
  {
   "cell_type": "code",
   "execution_count": 8,
   "id": "209a638b-1627-4d50-973a-6f27ee32e7d0",
   "metadata": {
    "tags": []
   },
   "outputs": [
    {
     "name": "stdout",
     "output_type": "stream",
     "text": [
      "ColDefs(\n",
      "    name = 'Mvir'; format = 'D'\n",
      "    name = 'desc_id'; format = 'K'\n",
      "    name = 'icl'; format = 'D'\n",
      "    name = 'id'; format = 'K'\n",
      "    name = 'upid'; format = 'K'\n",
      "    name = 'RA'; format = 'D'\n",
      "    name = 'DEC'; format = 'D'\n",
      "    name = 'r_mag'; format = 'D'\n",
      "    name = 'i_mag'; format = 'D'\n",
      "    name = 'ebv'; format = 'D'\n",
      "    name = 'red'; format = 'I'\n",
      "    name = 'photoz_error_4tray'; format = 'D'\n",
      "    name = 'photoz_4trays'; format = 'D'\n",
      ")\n",
      "3245769\n",
      "40987663\n",
      "9.856970427445594\n",
      "9.856970427445594\n",
      "15.442636508542105\n",
      "15.442636508542105\n",
      "0.0011156798169948635\n",
      "0.394639067404309\n",
      "110.0\n",
      "230.0\n",
      "nan\n",
      "nan\n",
      "0.28958746790885925\n"
     ]
    }
   ],
   "source": [
    "hdul_short = fits.open(\"JPAS_mergedproc2a_short.fits\")\n",
    "hdul = fits.open(\"JPAS_mergedproc2a.fits\")\n",
    "\n",
    "table_short = hdul_short[1].data\n",
    "table = hdul[1].data\n",
    "\n",
    "halo_table_short = table_short[(table_short['upid'] == -1) &  (table_short['Mvir'] >= 10**12) & (table_short['Mvir'] <= 10**15)]\n",
    "halo_table = table[(table['upid'] == -1) &  (table['Mvir'] >= 10**12) & (table['Mvir'] <= 10**15)]\n",
    "\n",
    "halo_table_short = table_short[(table_short['upid'] == -1)]\n",
    "halo_table = table[(table['upid'] == -1)]\n",
    "\n",
    "print(halo_table_short.columns)\n",
    "\n",
    "print(halo_table.size)\n",
    "print(halo_table_short.size)\n",
    "\n",
    "print(np.log10(halo_table['Mvir'].min()))\n",
    "print(np.log10(halo_table_short['Mvir'].min()))\n",
    "\n",
    "print(np.log10(halo_table['Mvir'].max()))\n",
    "print(np.log10(halo_table_short['Mvir'].max()))\n",
    "\n",
    "\n",
    "\n",
    "print(halo_table['redshift_R'].min())\n",
    "print(halo_table['redshift_R'].max())\n",
    "\n",
    "print(halo_table['RA'].min())\n",
    "print(halo_table['RA'].max())\n",
    "print(table['RA'].min())\n",
    "print(table['RA'].max())\n",
    "\n",
    "print(halo_table_short['ebv'].max())"
   ]
  },
  {
   "cell_type": "code",
   "execution_count": 3,
   "id": "daa3d631-3269-4ce3-b3cb-1861345fcb71",
   "metadata": {
    "tags": []
   },
   "outputs": [
    {
     "name": "stdout",
     "output_type": "stream",
     "text": [
      "sigma8 = 0.8223626056629462\n",
      "sigma8 = 0.8158999996211252\n"
     ]
    }
   ],
   "source": [
    "area = 4109.3\n",
    "cosmo = Nc.HICosmoDEXcdm()\n",
    "cosmo.omega_x2omega_k()\n",
    "cosmo.param_set_by_name(\"H0\", 67.74)\n",
    "cosmo.param_set_by_name(\"Omegab\", 0.0486)\n",
    "cosmo.param_set_by_name(\"Omegac\", 0.2603)\n",
    "cosmo.param_set_by_name(\"Omegak\", 0.00)\n",
    "cosmo.param_set_by_name(\"w\", -1.0)\n",
    "\n",
    "\n",
    "prim = Nc.HIPrimPowerLaw.new()\n",
    "prim.param_set_by_name(\"ln10e10ASA\", 3.02745)\n",
    "prim.param_set_by_name(\"n_SA\", 0.9667)\n",
    "\n",
    "\n",
    "\n",
    "reion = Nc.HIReionCamb.new()\n",
    "\n",
    "cosmo.add_submodel(prim)\n",
    "cosmo.add_submodel(reion)\n",
    "\n",
    "\n",
    "dist = Nc.Distance.new(2.0)\n",
    "\n",
    "tf = Nc.TransferFuncEH()\n",
    "\n",
    "psml = Nc.PowspecMLTransfer.new(tf)\n",
    "psml.require_kmin(1.0e-6)\n",
    "psml.require_kmax(1.0e3)\n",
    "\n",
    "psf = Ncm.PowspecFilter.new(psml, Ncm.PowspecFilterType.TOPHAT)\n",
    "psf.set_best_lnr0()\n",
    "print(\"sigma8 = \" + str(cosmo.sigma8(psf)))\n",
    "\n",
    "\n",
    "A_s = np.exp(prim.param_get_by_name(\"ln10e10ASA\")) * 1.0e-10\n",
    "fact = (0.8159 / psml.sigma_tophat_R(cosmo, 1.0e-7, 0.0, 8.0 / cosmo.h())) ** 2\n",
    "prim.param_set_by_name(\"ln10e10ASA\", np.log(1.0e10 * A_s * fact))\n",
    "\n",
    "print(\"sigma8 = \" + str(cosmo.sigma8(psf)))\n",
    "\n",
    "\n",
    "mulf = Nc.MultiplicityFuncTinker.new()\n",
    "mulf.set_mdef(Nc.MultiplicityFuncMassDef.CRITICAL)\n",
    "mulf.set_Delta(200.0)\n",
    "\n",
    "hmf = Nc.HaloMassFunction.new(dist, psf, mulf)\n",
    "hmf.set_area(area * (np.pi / 180) ** 2)\n",
    "hmf.prepare(cosmo)\n",
    "hbias_Tinker = Nc.HaloBiasTinker.new(hmf)\n",
    "cad = Nc.ClusterAbundance.new(hmf, None)\n",
    "cad.set_area(area * (np.pi / 180) ** 2)\n",
    "hmf.prepare(cosmo)\n",
    "\n",
    "#σ_8 = 0.8159\n",
    "\n",
    "#mass proxy\n",
    "cluster_m = Nc.ClusterMassNodist(lnM_min=np.log(10) * (12 ), lnM_max=np.log(10.0) * (15.0))\n",
    "\n",
    "#photo-z\n",
    "cluster_z = Nc.ClusterRedshiftNodist (z_min = 0.0, z_max = 0.394637021162255)"
   ]
  },
  {
   "cell_type": "code",
   "execution_count": null,
   "id": "ea2d6ea1-cbbe-4358-9fec-4924066155e8",
   "metadata": {
    "tags": []
   },
   "outputs": [
    {
     "name": "stdout",
     "output_type": "stream",
     "text": [
      "2826329.3281537634\n",
      "2874444.6796671394\n",
      "3621380.9734538677\n"
     ]
    }
   ],
   "source": [
    "multiplicity = [Nc.MultiplicityFuncTinker.new() , Nc.MultiplicityFuncDespali.new() , Nc.MultiplicityFuncDespali.new()] \n",
    "legend = ['Tinker','Despali' , 'Despali Virial']\n",
    "\n",
    "for mult in range(len(multiplicity)):\n",
    "\n",
    "    mass = np.linspace(np.log(10) * (12), np.log(10.0) * (15.3 ), 100)\n",
    "    mass10 = np.linspace(12 , 15.3   , 100)\n",
    "    mass_plot = []\n",
    "    n_bin = []\n",
    "\n",
    "    mulf = multiplicity[mult]\n",
    "    mulf.set_mdef(Nc.MultiplicityFuncMassDef.CRITICAL)\n",
    "    mulf.set_Delta(200.0)\n",
    "    if mult ==2:\n",
    "        mulf.set_mdef(Nc.MultiplicityFuncMassDef.VIRIAL)\n",
    "    \n",
    "    hmf = Nc.HaloMassFunction.new(dist, psf, mulf)\n",
    "    hmf.set_area(area * (np.pi / 180) ** 2)\n",
    "    \n",
    "    hmf.prepare(cosmo)\n",
    "    cad = Nc.ClusterAbundance.new(hmf, None)\n",
    "    hmf.prepare(cosmo)\n",
    "    cad.prepare(cosmo , cluster_z , cluster_m)\n",
    "    cad.set_area(area * (np.pi / 180) ** 2)\n",
    "    print(cad.n(cosmo , cluster_z , cluster_m))\n",
    "    for i in range(len(mass)-1):\n",
    "        n_bin.append(cad.intp_bin_d2n(cosmo , cluster_z , cluster_m , [mass[i]] ,[mass[i+1]],None ,[0.0020287445400499256] , [ 0.394637021162255] , None))\n",
    "        mass_plot.append((mass10[i] + mass10[i+1])/2)\n",
    "    \n",
    "    \n",
    "    \n",
    "    \n",
    "    \n",
    "    plt.plot(mass_plot , n_bin , label = \"%s\" %(legend[mult]))\n",
    "    \n",
    "plt.xlim(np.log10(halo_table['Mvir'].min()/cosmo.h()) , np.log10(halo_table['Mvir'].max()/cosmo.h()))\n",
    "plt.legend()\n",
    "plt.xlabel(r\"$log_{10}(M/M_{\\bigodot})$\")\n",
    "plt.ylabel(r\"n_M\")\n",
    "plt.yscale(\"log\")\n",
    "plt.hist(np.log10(halo_table['Mvir'])-np.log10(cosmo.h()), bins=(len(mass10-1)))\n",
    "plt.savefig(\"halo_mass_function_log10M.jpg\")\n",
    "plt.show()"
   ]
  },
  {
   "cell_type": "code",
   "execution_count": 7,
   "id": "75fead44-7ed2-4b26-8d54-34d5841b7d5a",
   "metadata": {},
   "outputs": [
    {
     "name": "stdout",
     "output_type": "stream",
     "text": [
      "2826329.3281537634\n",
      "2874444.6796671394\n",
      "3621380.9734538677\n"
     ]
    },
    {
     "data": {
      "image/png": "[encoded data removed]",
      "text/plain": [
       "<Figure size 640x480 with 1 Axes>"
      ]
     },
     "metadata": {},
     "output_type": "display_data"
    }
   ],
   "source": [
    "multiplicity = [Nc.MultiplicityFuncTinker.new() , Nc.MultiplicityFuncDespali.new() , Nc.MultiplicityFuncDespali.new()] \n",
    "legend = ['Tinker' , 'Despali' , 'Despali Virial']\n",
    "\n",
    "for mult in range(len(multiplicity)):\n",
    "\n",
    "    z = np.linspace(0.0, 0.394637021162255 , 100)\n",
    "    z_plot = []\n",
    "    n_bin = []\n",
    "    \n",
    "    mulf = multiplicity[mult]\n",
    "    mulf.set_mdef(Nc.MultiplicityFuncMassDef.CRITICAL)\n",
    "    mulf.set_Delta(200.0)\n",
    "    if mult ==2:\n",
    "        mulf.set_mdef(Nc.MultiplicityFuncMassDef.VIRIAL)\n",
    "\n",
    "    \n",
    "    hmf = Nc.HaloMassFunction.new(dist, psf, mulf)\n",
    "    hmf.set_area(area * (np.pi / 180) ** 2)\n",
    "    \n",
    "    hmf.prepare(cosmo)\n",
    "    cad = Nc.ClusterAbundance.new(hmf, None)\n",
    "    hmf.prepare(cosmo)\n",
    "    cad.prepare(cosmo , cluster_z , cluster_m)\n",
    "    cad.set_area(area * (np.pi / 180) ** 2)\n",
    "    print(cad.n(cosmo , cluster_z , cluster_m))\n",
    "    for i in range(len(z)-1):\n",
    "        n_bin.append(cad.intp_bin_d2n(cosmo , cluster_z , cluster_m , [np.log(10)*(12 - np.log10(cosmo.h()))] ,[np.log(10.0) * (15.0 - np.log10(cosmo.h()))],None ,[z[i]] , [z[i+1]] , None))\n",
    "        z_plot.append((z[i] + z[i+1])/2)\n",
    "    \n",
    "    \n",
    "    \n",
    "    \n",
    "    \n",
    "    plt.plot(z_plot , n_bin , label = \"%s\" %(legend[mult]))\n",
    "    \n",
    "plt.xlim(halo_table['redshift_R'].min() , halo_table['redshift_R'].max())\n",
    "plt.legend()\n",
    "plt.xlabel(r\"$z$\")\n",
    "plt.ylabel(r\"n_z\")\n",
    "plt.yscale(\"log\")\n",
    "plt.hist(halo_table['redshift_R'], bins=(len(mass10-1)))\n",
    "plt.savefig(\"halo_mass_function_z.jpg\")\n",
    "plt.show()"
   ]
  },
  {
   "cell_type": "code",
   "execution_count": null,
   "id": "7446d002-6cea-4d07-a9a9-49bcc0cadd29",
   "metadata": {},
   "outputs": [],
   "source": []
  }
 ],
 "metadata": {
  "kernelspec": {
   "display_name": "numcosmo",
   "language": "python",
   "name": "numcosmo"
  },
  "language_info": {
   "codemirror_mode": {
    "name": "ipython",
    "version": 3
   },
   "file_extension": ".py",
   "mimetype": "text/x-python",
   "name": "python",
   "nbconvert_exporter": "python",
   "pygments_lexer": "ipython3",
   "version": "3.12.4"
  }
 },
 "nbformat": 4,
 "nbformat_minor": 5
}
