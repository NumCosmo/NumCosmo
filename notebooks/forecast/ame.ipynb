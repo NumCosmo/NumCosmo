{
 "cells": [
  {
   "cell_type": "code",
   "execution_count": 1,
   "id": "e2cc918f-14f6-4d4e-bd86-fb11b99233cd",
   "metadata": {
    "tags": []
   },
   "outputs": [],
   "source": [
    "from astropy.io import fits\n",
    "import clevar\n",
    "import pandas as pd\n",
    "from astropy.table import Table\n",
    "import astropy\n",
    "from matplotlib import pyplot as plt\n",
    "import numpy as np\n",
    "from numcosmo_py import Ncm, Nc\n",
    "from numcosmo_py.external.pyssc import pyssc as PySSC\n",
    "Ncm.cfg_init()"
   ]
  },
  {
   "cell_type": "code",
   "execution_count": 2,
   "id": "be565d2c-af7b-4509-9f8f-9524c2662ed7",
   "metadata": {
    "tags": []
   },
   "outputs": [
    {
     "name": "stdout",
     "output_type": "stream",
     "text": [
      "1212558\n",
      "23751\n"
     ]
    }
   ],
   "source": [
    "hdul_halos = fits.open(\"JPAS_mergedproc2a.fits\")\n",
    "hdul_ame = fits.open(\"richness_mcut_SNR 12_ame.fits\")\n",
    "\n",
    "table_halos = hdul_halos[1].data\n",
    "table_ame = hdul_ame[1].data\n",
    "\n",
    "table_halos = table_halos[(table_halos['upid'] == -1)  &  (table_halos['Mvir'] >= 10**12) & (table_halos['Mvir'] <= 10**15)]\n",
    "\n",
    "print(table_halos.size)\n",
    "print(table_ame.size)\n",
    "\n",
    "#print(table_halos.columns)"
   ]
  },
  {
   "cell_type": "code",
   "execution_count": 3,
   "id": "1a4ef3b1-c02a-4556-9d3e-5e109e1aade3",
   "metadata": {
    "tags": []
   },
   "outputs": [
    {
     "name": "stderr",
     "output_type": "stream",
     "text": [
      "/global/u2/l/lettieri/miniforge3/envs/numcosmo_developer/lib/python3.12/site-packages/clevar-0.15.3-py3.12.egg/clevar/catalog/tagdata.py:278: UserWarning: id column missing, additional one is being created.\n",
      "  warnings.warn(f\"{id_name} column missing, additional one is being created.\")\n"
     ]
    }
   ],
   "source": [
    "catalog_halos = clevar.ClCatalog('Halo catalog',ra=table_halos['RA'] ,dec=table_halos['DEC'] \n",
    "                                ,z=table_halos['redshift_R'], mass=table_halos['Mvir'])\n",
    "\n",
    "catalog_ame = clevar.ClCatalog('Detection catalog', ra=table_ame['RA'], dec=table_ame['DEC']\n",
    "                             , z=table_ame['z'], mass=table_ame['R_ame']  , mass_err=table_ame['R_ame_err'] ,z_err=table_ame['z_err'])"
   ]
  },
  {
   "cell_type": "code",
   "execution_count": null,
   "id": "753b1fb4-65f0-44bb-9172-95bab9e3a7ff",
   "metadata": {
    "tags": []
   },
   "outputs": [
    {
     "name": "stdout",
     "output_type": "stream",
     "text": [
      "\n",
      "## ClCatalog 1\n",
      "## Prep mt_cols\n",
      "### Prep z_cols\n",
      "* zmin|zmax from config value\n",
      "### Prep ang_cols\n",
      "* ang radius from set scale\n",
      "\n",
      "## ClCatalog 2\n",
      "## Prep mt_cols\n",
      "### Prep z_cols\n",
      "* zmin|zmax from config value\n",
      "### Prep ang_cols\n",
      "* ang radius from set scale\n",
      "\n",
      "## Multiple match (catalog 1)\n",
      "Finding candidates (Halo catalog)\n",
      "* 150,268/1,212,558 objects matched.s\n",
      "\n",
      "## Multiple match (catalog 2)\n",
      "Finding candidates (Detection catalog)\n",
      "* 23,694/23,751 objects matched.\n",
      "\n",
      "## Finding unique matches of catalog 1\n",
      "Unique Matches (Halo catalog)\n"
     ]
    }
   ],
   "source": [
    "mt = clevar.match.ProximityMatch()\n",
    "\n",
    "match_config = {\n",
    "    'type': 'cross', # options are cross, cat1, cat2\n",
    "    'which_radius': 'max', # Case of radius to be used, can be: cat1, cat2, min, max\n",
    "    'preference': 'angular_proximity', # options are more_massive, angular_proximity or redshift_proximity\n",
    "    'catalog1': {'delta_z':.2,\n",
    "                'match_radius': '1 mpc'\n",
    "                },\n",
    "    'catalog2': {'delta_z':.2,\n",
    "                'match_radius': '100 arcsec'\n",
    "                }\n",
    "}\n",
    "\n",
    "cosmo = clevar.cosmology.AstroPyCosmology()\n",
    "\n",
    "mt.match_from_config(catalog_halos, catalog_ame, match_config, cosmo=cosmo)\n",
    "mt.save_matches(catalog_halos, catalog_ame, out_dir='temp', overwrite=True)"
   ]
  },
  {
   "cell_type": "code",
   "execution_count": null,
   "id": "92dda51b-2308-4b17-a8c6-24016ae21138",
   "metadata": {
    "tags": []
   },
   "outputs": [],
   "source": [
    "#display(catalog_halos)\n",
    "#display(catalog_ame)\n",
    "mt = clevar.match.ProximityMatch()\n",
    "mt.load_matches(catalog_halos, catalog_ame, out_dir='temp')\n",
    "\n",
    "mt1, mt2 = clevar.match.get_matched_pairs(catalog_halos, catalog_ame, 'cross')\n",
    "\n",
    "\n",
    "\n",
    "zbins = np.linspace(0, 0.664, 15)\n",
    "mbins = np.logspace(13, 15, 8)\n",
    "info = clevar.match_metrics.recovery.plot(mt1, 'cross', zbins, mbins, shape='steps')\n",
    "plt.show()\n",
    "info = clevar.match_metrics.recovery.plot(mt2, 'cross', zbins, mbins, shape='line')\n",
    "plt.show()\n",
    "\n",
    "from clevar.match_metrics.scaling import ClCatalogFuncs as s_cf\n",
    "\n",
    "s_cf.plot(mt1, mt2, 'cross', col='mass', xscale='log', yscale='log')\n",
    "plt.show()\n",
    "s_cf.plot(mt1, mt2, 'cross', col='z')\n",
    "plt.show()"
   ]
  },
  {
   "cell_type": "code",
   "execution_count": null,
   "id": "f925c61c-2a77-498a-a344-3fb1a9e44349",
   "metadata": {
    "tags": []
   },
   "outputs": [],
   "source": [
    "area = 4109.3\n",
    "cosmo = Nc.HICosmoDEXcdm()\n",
    "cosmo.param_set_by_name(\"H0\", 67.74)\n",
    "cosmo.param_set_by_name(\"Omegab\", 0.0486)\n",
    "cosmo.param_set_by_name(\"Omegax\", 0.6911)\n",
    "cosmo.param_set_by_name(\"Omegac\", 0.2603)\n",
    "cosmo.param_set_by_name(\"w\", -1.0)\n",
    "\n",
    "\n",
    "prim = Nc.HIPrimPowerLaw.new()\n",
    "prim.param_set_by_name(\"ln10e10ASA\", 3.02745)\n",
    "prim.param_set_by_name(\"n_SA\", 0.9667)\n",
    "\n",
    "reion = Nc.HIReionCamb.new()\n",
    "\n",
    "cosmo.add_submodel(prim)\n",
    "cosmo.add_submodel(reion)\n",
    "\n",
    "dist = Nc.Distance.new(2.0)\n",
    "\n",
    "tf = Nc.TransferFuncEH()\n",
    "\n",
    "psml = Nc.PowspecMLTransfer.new(tf)\n",
    "psml.require_kmin(1.0e-6)\n",
    "psml.require_kmax(1.0e3)\n",
    "\n",
    "psf = Ncm.PowspecFilter.new(psml, Ncm.PowspecFilterType.TOPHAT)\n",
    "psf.set_best_lnr0()\n",
    "\n",
    "mulf = Nc.MultiplicityFuncTinker.new()\n",
    "mulf.set_mdef(Nc.MultiplicityFuncMassDef.CRITICAL)\n",
    "mulf.set_Delta(200.0)\n",
    "\n",
    "hmf = Nc.HaloMassFunction.new(dist, psf, mulf)\n",
    "hmf.set_area(area * (np.pi / 180) ** 2)\n",
    "hmf.prepare(cosmo)\n",
    "hbias_Tinker = Nc.HaloBiasTinker.new(hmf)\n",
    "cad = Nc.ClusterAbundance.new(hmf, None)\n",
    "cad.set_area(area * (np.pi / 180) ** 2)\n",
    "hmf.prepare(cosmo)\n",
    "\n",
    "#σ_8 = 0.8159"
   ]
  },
  {
   "cell_type": "code",
   "execution_count": null,
   "id": "b908c35a-4f76-490b-971b-eabbab240dfd",
   "metadata": {
    "tags": []
   },
   "outputs": [],
   "source": [
    "#mass proxy\n",
    "cluster_m = Nc.ClusterMassAscaso(lnRichness_min = 0.0 ,lnRichness_max = np.log(60.0))\n",
    "cluster_m.param_set_by_name(\"mup0\", 4.9)\n",
    "cluster_m.param_set_by_name(\"mup1\", 0.993)\n",
    "cluster_m.param_set_by_name(\"mup2\", 0)\n",
    "cluster_m.param_set_by_name(\"sigmap0\", 0.26)\n",
    "cluster_m.param_set_by_name(\"sigmap1\", 0.0)\n",
    "cluster_m.param_set_by_name(\"sigmap2\", 0.0)\n",
    "\n",
    "cluster_m.set_property(\"mup0_fit\", True)\n",
    "cluster_m.set_property(\"mup1_fit\", True)\n",
    "cluster_m.set_property(\"sigmap0_fit\", True)\n",
    "\n",
    "#photo-z\n",
    "cluster_z = Nc.ClusterPhotozGauss (pz_min = 0.0 , pz_max = 0.7)\n",
    "\n",
    "print(\"\\n\")\n",
    "print(cluster_m.p(cosmo , 35.45, 0.1 , [35.46546] , [1.175]))\n",
    "print(cluster_m.intp(cosmo , 36 , 0.1))\n",
    "print(cluster_m.intp_bin(cosmo , 30.45 , 0.1 , [1] , [100] , [2.90969]))\n",
    "print(\"\\n\")\n",
    "\n",
    "print(cluster_z.p(cosmo , 32 , 0.66 , [0.657513] , [0,0.007513]))\n",
    "print(cluster_z.intp(cosmo , 32 , 0.9))\n",
    "print(cluster_z.intp_bin(cosmo , 32 , 0.9, [0.8] , [1.0] , [0,0.0513]))\n",
    "print(\"\\n\")"
   ]
  },
  {
   "cell_type": "code",
   "execution_count": null,
   "id": "ce3e1cb9",
   "metadata": {
    "tags": []
   },
   "outputs": [],
   "source": [
    "masses  = np.linspace(np.log(10) *12.2 , np.log(10) * 14.5,10000)\n",
    "masses_10  = np.linspace(12.2 ,14.5,10000)\n",
    "relation = []\n",
    "\n",
    "for i in range(len(masses)):\n",
    "    relation.append(cluster_m.p(cosmo , masses[i], 0.1 , [9.52] , [1.826111]))\n",
    "plt.plot(masses_10 , relation)\n",
    "plt.ylabel(r'$P(ln\\lambda|M,z)$')\n",
    "plt.xlabel(r'$lnM$')\n",
    "plt.show()\n",
    "\n",
    "masses  = np.linspace(np.log(10) *14.0, np.log(10) * 16  ,10000)\n",
    "masses_10  = np.linspace(14.0 ,16    ,10000)\n",
    "relation = []\n",
    "\n",
    "for i in range(len(masses)):\n",
    "    relation.append(cluster_m.p(cosmo , masses[i], 0.1 , [338.48] , [1.942005]))\n",
    "plt.plot(masses_10 , relation)\n",
    "plt.ylabel(r'$P(ln\\lambda|M,z)$')\n",
    "plt.xlabel(r'$lnM$')\n",
    "plt.show()"
   ]
  },
  {
   "cell_type": "code",
   "execution_count": null,
   "id": "11df7320-3902-4766-988c-ba342f7c87c9",
   "metadata": {
    "tags": []
   },
   "outputs": [],
   "source": [
    "\n",
    "mset = Ncm.MSet.new_array([cosmo, cluster_m, cluster_z])\n",
    "ncdata = Nc.DataClusterNCount.new(cad, \"NcClusterPhotozGauss\", \"NcClusterMassRichness\")\n",
    "ncdata.set_init(True)\n",
    "\n",
    "bin_test =  detections_catalog.query(' R_ame >= 0  & R_ame <= 100')\n",
    "display(bin_test[\"R_ame\"].sort_values())\n",
    "\n",
    "richness = np.array(bin_test['R_ame'])\n",
    "redshift = np.array(bin_test['z'])\n",
    "redshift_err = np.array(bin_test['z_err'])\n",
    "richness_err = np.array(bin_test['R_ame_err'])\n",
    "\n",
    "z_obs_params = Ncm.Matrix.new(len(redshift_err), 2)\n",
    "lnM_obs_params = Ncm.Matrix.new(len(richness_err), 1)\n",
    "for i in range(len(redshift_err)):\n",
    "    lnM_obs_params.set(i , 0 ,richness_err[i] )\n",
    "    for j in range(0, 2):\n",
    "        if j == 0:\n",
    "            z_obs_params.set(i, j, 0)\n",
    "        if j == 1:\n",
    "            z_obs_params.set(i, j,  redshift_err[i])\n",
    "print(richness) \n",
    "\n",
    "ncdata.set_lnM_obs(Ncm.Matrix.new_array(richness, 1))\n",
    "ncdata.set_z_obs(Ncm.Matrix.new_array(redshift, 1))\n",
    "ncdata.set_z_obs_params(z_obs_params)\n",
    "ncdata.set_lnM_obs_params(lnM_obs_params)\n",
    "ncdata.true_data(False)\n",
    "\n",
    "dset = Ncm.Dataset.new_array([ncdata])\n",
    "likelihood = Ncm.Likelihood.new(dset)\n",
    "\n",
    "experiment = Ncm.ObjDictStr()\n",
    "experiment.set(\"likelihood\", likelihood)\n",
    "experiment.set(\"model-set\", mset)\n",
    "ser = Ncm.Serialize.new(Ncm.SerializeOpt.CLEAN_DUP)\n",
    "ser.dict_str_to_yaml_file(experiment, \"unbinned.yaml\")\n",
    "\n",
    "ca =[]\n",
    "lnM_obs = ncdata.get_lnM_obs()\n",
    "z_obs = ncdata.get_z_obs()\n",
    "z_obs_params = ncdata.get_z_obs_params()\n",
    "\n",
    "\n",
    "\n",
    "rich = np.linspace(15.76, 100 , 100)\n",
    "redshift = np.linspace(0.0, 0.7 , 2)\n",
    "rich_plot = []\n",
    "cad.prepare(cosmo , cluster_z , cluster_m)\n",
    "cad.set_area(area * (np.pi / 180) ** 2)\n",
    "print(cad.n(cosmo , cluster_z , cluster_m))\n",
    "halo = []\n",
    "for i in range(len(rich)-1):\n",
    "    z = []\n",
    "    z_err = []\n",
    "    r = []\n",
    "    r_err = []\n",
    "    bin_test =  catalog_richness_df.query(' R_ame >= %f   & R_ame <= %f  &  z >= %f  & z <= %f' % (rich[i] , rich[i+1] , 0 , 0.7))\n",
    "    \n",
    "    for j in range(len(bin_test['R_ame'])):\n",
    "        r.append(bin_test['R_ame'].values[j] *bin_test['R_ame_err'].values[j])\n",
    "        z.append(bin_test['z'].values[j] *bin_test['z_err'].values[j])\n",
    "    \n",
    "    mean_r = sum(r)/bin_test['R_ame_err'].sum()\n",
    "    mean_z = sum(z)/bin_test['z_err'].sum()\n",
    "\n",
    "    for j in range(len(bin_test['R_ame'])):\n",
    "        r_err.append(bin_test['R_ame_err'].values[j] *(bin_test['R_ame'].values[j]- mean_r)**2)\n",
    "        z_err.append(bin_test['z_err'].values[j]*(bin_test['z'].values[j] - mean_z)**2)\n",
    "    \n",
    "    sigma_r = np.sqrt(sum(r_err)/bin_test['R_ame_err'].sum())\n",
    "    sigma_z = np.sqrt(sum(z_err)/bin_test['z_err'].sum())\n",
    "    halo.append(cad.intp_bin_d2n(cosmo  , cluster_z , cluster_m  ,[rich[i]] , [rich[i+1]] , [sigma_r],[0.0] , [0.7] , [0 , sigma_z]))\n",
    "    rich_plot.append((rich[i]+rich[i+1])/2)"
   ]
  },
  {
   "cell_type": "code",
   "execution_count": null,
   "id": "dab56434",
   "metadata": {
    "scrolled": true,
    "tags": []
   },
   "outputs": [],
   "source": [
    "plt.hist(bin_test['R_ame'] , bins=100)\n",
    "plt.plot(rich_plot , halo)\n",
    "plt.xlim(0 , 100)\n",
    "plt.yscale(\"log\")\n",
    "\n",
    "plt.show()"
   ]
  },
  {
   "cell_type": "code",
   "execution_count": null,
   "id": "dc755080-e184-4eb2-9a78-9ce9224d1007",
   "metadata": {},
   "outputs": [],
   "source": []
  }
 ],
 "metadata": {
  "kernelspec": {
   "display_name": "numcosmo",
   "language": "python",
   "name": "numcosmo"
  },
  "language_info": {
   "codemirror_mode": {
    "name": "ipython",
    "version": 3
   },
   "file_extension": ".py",
   "mimetype": "text/x-python",
   "name": "python",
   "nbconvert_exporter": "python",
   "pygments_lexer": "ipython3",
   "version": "3.12.4"
  }
 },
 "nbformat": 4,
 "nbformat_minor": 5
}
