{
 "cells": [
  {
   "cell_type": "code",
   "execution_count": 4,
   "metadata": {},
   "outputs": [
    {
     "name": "stdout",
     "output_type": "stream",
     "text": [
      "The autoreload extension is already loaded. To reload it, use:\n",
      "  %reload_ext autoreload\n"
     ]
    },
    {
     "ename": "ModuleNotFoundError",
     "evalue": "No module named 'CL_COUNT_class_cluster_abundance'",
     "output_type": "error",
     "traceback": [
      "\u001b[0;31m---------------------------------------------------------------------------\u001b[0m",
      "\u001b[0;31mModuleNotFoundError\u001b[0m                       Traceback (most recent call last)",
      "\u001b[0;32m/tmp/ipykernel_14318/2677835956.py\u001b[0m in \u001b[0;36m<module>\u001b[0;34m\u001b[0m\n\u001b[1;32m     23\u001b[0m \u001b[0mget_ipython\u001b[0m\u001b[0;34m(\u001b[0m\u001b[0;34m)\u001b[0m\u001b[0;34m.\u001b[0m\u001b[0mrun_line_magic\u001b[0m\u001b[0;34m(\u001b[0m\u001b[0;34m'load_ext'\u001b[0m\u001b[0;34m,\u001b[0m \u001b[0;34m'autoreload'\u001b[0m\u001b[0;34m)\u001b[0m\u001b[0;34m\u001b[0m\u001b[0;34m\u001b[0m\u001b[0m\n\u001b[1;32m     24\u001b[0m \u001b[0mget_ipython\u001b[0m\u001b[0;34m(\u001b[0m\u001b[0;34m)\u001b[0m\u001b[0;34m.\u001b[0m\u001b[0mrun_line_magic\u001b[0m\u001b[0;34m(\u001b[0m\u001b[0;34m'autoreload'\u001b[0m\u001b[0;34m,\u001b[0m \u001b[0;34m'2'\u001b[0m\u001b[0;34m)\u001b[0m\u001b[0;34m\u001b[0m\u001b[0;34m\u001b[0m\u001b[0m\n\u001b[0;32m---> 25\u001b[0;31m \u001b[0;32mimport\u001b[0m \u001b[0mCL_COUNT_class_cluster_abundance\u001b[0m \u001b[0;32mas\u001b[0m \u001b[0mcl_count\u001b[0m\u001b[0;34m\u001b[0m\u001b[0;34m\u001b[0m\u001b[0m\n\u001b[0m\u001b[1;32m     26\u001b[0m \u001b[0;32mimport\u001b[0m \u001b[0mtime\u001b[0m\u001b[0;34m\u001b[0m\u001b[0;34m\u001b[0m\u001b[0m\n\u001b[1;32m     27\u001b[0m \u001b[0;32mfrom\u001b[0m \u001b[0mnc_ccl\u001b[0m \u001b[0;32mimport\u001b[0m \u001b[0mcreate_nc_obj\u001b[0m\u001b[0;34m,\u001b[0m \u001b[0mccl_cosmo_set_high_prec\u001b[0m\u001b[0;34m\u001b[0m\u001b[0;34m\u001b[0m\u001b[0m\n",
      "\u001b[0;31mModuleNotFoundError\u001b[0m: No module named 'CL_COUNT_class_cluster_abundance'"
     ]
    }
   ],
   "source": [
    "  #!/usr/bin/env python\n",
    "\n",
    "try:\n",
    "    import gi\n",
    "    gi.require_version('NumCosmo', '1.0')\n",
    "    gi.require_version('NumCosmoMath', '1.0')\n",
    "except:\n",
    "    pass\n",
    "\n",
    "import math\n",
    "import matplotlib.pyplot as plt\n",
    "from gi.repository import GObject\n",
    "from gi.repository import NumCosmo as nc\n",
    "from gi.repository import NumCosmoMath as ncm\n",
    "import numpy as np\n",
    "from astropy.io import fits\n",
    "from astropy.table import Table\n",
    "import sys\n",
    "sys.path.insert(0,'/home/henrique/Programas_Cosmologia/CLCosmo_Sim/cluster_abundance/')\n",
    "sys.path.insert(0,'../../scripts')\n",
    "\n",
    "import pyccl as ccl\n",
    "%load_ext autoreload\n",
    "%autoreload 2\n",
    "import CL_COUNT_class_cluster_abundance as cl_count\n",
    "import time\n",
    "from nc_ccl import create_nc_obj, ccl_cosmo_set_high_prec\n",
    "\n",
    "ncm.cfg_init()\n",
    "ncm.cfg_set_log_handler (lambda msg: sys.stdout.write (msg) and sys.stdout.flush ())"
   ]
  },
  {
   "cell_type": "markdown",
   "metadata": {},
   "source": [
    "initialize the `Cosmological models`"
   ]
  },
  {
   "cell_type": "code",
   "execution_count": null,
   "metadata": {},
   "outputs": [],
   "source": [
    "#CCL cosmology\n",
    "cosmo_ccl = ccl.Cosmology(Omega_c = 0.265, Omega_b = 0.0448, h = 0.71, sigma8 = 0.80, n_s=0.963, Omega_k = 0, transfer_function='eisenstein_hu')\n",
    "ccl_cosmo_set_high_prec (cosmo_ccl)\n",
    "\n",
    "cosmo, dist, ps_lin, ps_nln, hmfunc = create_nc_obj (cosmo_ccl)\n",
    "\n",
    "psf = hmfunc.peek_psf ()"
   ]
  },
  {
   "cell_type": "markdown",
   "metadata": {},
   "source": [
    "initialize the `ClusterAbundance` object"
   ]
  },
  {
   "cell_type": "code",
   "execution_count": null,
   "metadata": {},
   "outputs": [],
   "source": [
    "#Numcosmo Cluster Abundance\n",
    "\n",
    "#First we need to define the multiplicity function here we will use the tinker\n",
    "mulf = nc.MultiplicityFuncTinker.new()\n",
    "mulf.set_linear_interp (True)\n",
    "mulf.set_mdef(nc.MultiplicityFuncMassDef.CRITICAL)\n",
    "mulf.set_Delta(200)\n",
    "#Second we need to construct a filtered power spectrum \n",
    "\n",
    "hmf = nc.HaloMassFunction.new(dist,psf,mulf)\n",
    "hmf.set_area_sd(5264.05)\n",
    "\n",
    "#Here we define the mass proxy in the first analysis is used the true mass and redshift of the clusters\n",
    "cluster_m = nc.ClusterMass.new_from_name(\"NcClusterMassNodist{'lnM-min':<%20.15e>, 'lnM-max':<%20.15e>}\" % (math.log(10)*np.log10(1e14),math.log(10)*np.log10(1e16)))\n",
    "cluster_z = nc.ClusterRedshift.new_from_name(\"NcClusterRedshiftNodist{'z-min': <%20.15e>, 'z-max':<%20.15e>}\" % (0.25,2))\n",
    "\n",
    "ca = nc.ClusterAbundance.new(hmf,None)\n",
    "mset = ncm.MSet.new_array([cosmo,cluster_m,cluster_z])\n",
    "mset.pretty_log()\n",
    "print('sigma8 = '+str(cosmo.sigma8(psf)))"
   ]
  },
  {
   "cell_type": "code",
   "execution_count": null,
   "metadata": {},
   "outputs": [],
   "source": [
    "#CCL Cluster Abundance\n",
    "clc = cl_count.ClusterAbundance()\n",
    "#choose the halo mass function and mass definition\n",
    "massdef = ccl.halos.massdef.MassDef(200, 'critical', c_m_relation=None)\n",
    "hmd = ccl.halos.hmfunc.MassFuncTinker08(cosmo_ccl, mass_def=massdef)\n",
    "clc.set_cosmology(cosmo = cosmo_ccl, hmd = hmd, massdef = massdef)\n",
    "clc.sky_area = (0.25)*4*np.pi"
   ]
  },
  {
   "cell_type": "markdown",
   "metadata": {},
   "source": [
    "# Binned approach\n",
    "Compute the 2D integral"
   ]
  },
  {
   "cell_type": "markdown",
   "metadata": {},
   "source": [
    "$$\n",
    "N_{\\alpha\\beta}^{\\rm predicted} = \\Omega_s\\int_{z_\\alpha}^{z_{\\alpha + 1}} dz\\int_{\\log_{10}M_\\beta}^{\\log_{10}M_{\\beta + 1}}\\frac{d^2V(z)}{dz d\\Omega}\\frac{dn(M,z)}{d\\log_{10}M}d\\log_{10}M\n",
    "$$"
   ]
  },
  {
   "cell_type": "code",
   "execution_count": null,
   "metadata": {},
   "outputs": [],
   "source": [
    "\n",
    "t0 = time.time()\n",
    "#Bins definition\n",
    "z_nodes = np.linspace(0.25, 2, 8)\n",
    "log10M_nodes = np.linspace(14, 14.8, 11)\n",
    "lnM_nodes = log10M_nodes * math.log(10)\n",
    "\n",
    "#Numcosmo cluster counts in the bins\n",
    "\n",
    "Numcosmo_Abundance = []\n",
    "ca.prepare (cosmo, cluster_z, cluster_m)\n",
    "for zl, zu in zip (z_nodes, z_nodes[1:]):\n",
    "    nc_bin_mass = []\n",
    "    for lnMl, lnMu in zip (lnM_nodes, lnM_nodes[1:]):\n",
    "        Pbin = ca.intp_bin_d2n(cosmo, cluster_z, cluster_m, [lnMl], [lnMu], None, [zl], [zu], None)\n",
    "        nc_bin_mass.append(Pbin)\n",
    "    Numcosmo_Abundance.append(nc_bin_mass)\n",
    "\n",
    "#Numcosmo_Abundance[i][j] is the number of clusters in i-th z_bin and j-th mass_bin\n",
    "\n",
    "\n",
    "t1 = time.time()\n",
    "print('time (seconds) = ' + str(t1-t0))"
   ]
  },
  {
   "cell_type": "code",
   "execution_count": null,
   "metadata": {},
   "outputs": [],
   "source": [
    "#CCL cluster count in the bins\n",
    "t0 = time.time()\n",
    "CCL_Abundance_exact = clc.Cluster_Abundance_MZ(zbin_edges = z_nodes, proxybin_edges = log10M_nodes, method = 'exact')\n",
    "t1 = time.time()\n",
    "print('time (seconds) = ' + str(t1-t0))\n",
    "#CCL_Abundance_exact[i][j] is the number of clusters in i-th z_bin and j-th mass_bin"
   ]
  },
  {
   "cell_type": "code",
   "execution_count": null,
   "metadata": {},
   "outputs": [],
   "source": [
    "for zl, zu, ccl_a_z, nc_a_z in zip(z_nodes, z_nodes[1:], CCL_Abundance_exact, Numcosmo_Abundance):\n",
    "    for lnMl, lnMu, ccl_a, nc_a in zip (lnM_nodes, lnM_nodes[1:], ccl_a_z, nc_a_z):\n",
    "        print(\"(% 16.9g % 16.9g) (% 16.9g % 16.9g) % 16.9g cmp %.2e\" % (lnMl / math.log(10), lnMu / math.log(10), zl, zu, ccl_a, math.fabs (nc_a/ccl_a - 1.0)))\n"
   ]
  },
  {
   "cell_type": "code",
   "execution_count": null,
   "metadata": {},
   "outputs": [],
   "source": [
    "diff = []\n",
    "for i in range(len(CCL_Abundance_exact)):\n",
    "        diff.append(100*abs((Numcosmo_Abundance[i]-CCL_Abundance_exact[i])/Numcosmo_Abundance[i]))\n",
    "\n",
    "\n",
    "plt.figure(figsize = (14,9))\n",
    "plt.yscale('log')\n",
    "z_ = [np.mean([z_nodes[i],z_nodes[i+1]]) for i in np.arange(len(z_nodes)-1)]\n",
    "mass = [np.mean([10**log10M_nodes[i],10**log10M_nodes[i+1]]) for i in np.arange(len(log10M_nodes)-1)]\n",
    "plt.tick_params(axis='both', which=\"both\", labelsize= 15)\n",
    "legend = []\n",
    "for i in range(len(z_)):\n",
    "        plt.scatter(mass, diff[:][i])\n",
    "        legend.append(str(round(z_nodes[i],3))+'< z <'+str(round(z_nodes[i+1],3)))\n",
    "plt.legend(legend,loc =4, fontsize = 10)\n",
    "plt.grid(True, which=\"both\" )\n",
    "plt.ylabel('|bias| CCL exact method to Numcosmo $(\\%)$', fontsize = 20)\n",
    "plt.xlabel(r'$log_{10}(M)$', fontsize = 20)\n",
    "plt.ylim(1e-9,1e-1)\n",
    "plt.show()\n",
    "\n",
    "\n",
    "\n",
    "#diff[i][j] is the percentual difference between Numcosmo and CCL cluster abundance in i-th z_bin and j-th mass_bin"
   ]
  },
  {
   "cell_type": "markdown",
   "metadata": {},
   "source": [
    "# Un-binned approach"
   ]
  },
  {
   "cell_type": "markdown",
   "metadata": {},
   "source": [
    "Compute $$\\frac{d^2V(z_i)}{dz d\\Omega}\\frac{dn(M_i,z_i)}{d\\log_{10}M_i}$$ for each masses and redshifts in a dark matter halo catalog"
   ]
  },
  {
   "cell_type": "code",
   "execution_count": null,
   "metadata": {},
   "outputs": [],
   "source": [
    "#Generates cluster count catalog data\n",
    "ncdata = nc.DataClusterNCount.new(ca,'NcClusterRedshiftNodist','NcClusterMassNodist')\n",
    "rng = ncm.RNG.pool_get(\"example_ca_sampling\");\n",
    "ncdata.init_from_sampling(mset,(0.25)*4*np.pi,rng)\n",
    "ncdata.catalog_save(\"ca_nodist_unbinned_numcosmo.fits\", True)\n",
    "\n",
    "ncdata_fits = fits.open('ca_nodist_unbinned_numcosmo.fits')\n",
    "#ncdata_fits.info()\n",
    "\n",
    "ncdata_data =  ncdata_fits[1].data\n",
    "\n",
    "ncdata_Table = Table(ncdata_data)\n",
    "ncdata_Table.columns\n",
    "ncdata_Table.sort('Z_TRUE')\n",
    "\n",
    "display(ncdata_Table)"
   ]
  },
  {
   "cell_type": "code",
   "execution_count": null,
   "metadata": {},
   "outputs": [],
   "source": [
    "#Using Numcosmo\n",
    "t0 = time.time()\n",
    "d2n = []\n",
    "for i in ncdata_Table:\n",
    "    d2n.append(ca.d2n(cosmo,cluster_z,cluster_m,i[1],i[0]))\n",
    "d2n = np.array(d2n)\n",
    "\n",
    "t1 = time.time()\n",
    "print('time (seconds) = ' + str(t1-t0))\n",
    "d2n\n"
   ]
  },
  {
   "cell_type": "code",
   "execution_count": null,
   "metadata": {},
   "outputs": [],
   "source": [
    "#Using CCL\n",
    "t0 = time.time()\n",
    "log10M = np.array(ncdata_Table[1][:]/np.log(10))\n",
    "multiplicity_exact = clc.multiplicity_function_individual_MZ(z = np.array(ncdata_Table[0][:]), logm =log10M, method = 'exact')\n",
    "multiplicity_exact *= clc.sky_area/math.log(10)\n",
    "\n",
    "t1 = time.time()\n",
    "print('time (seconds) = ' + str(t1-t0))\n",
    "print(multiplicity_exact)\n",
    "\n"
   ]
  },
  {
   "cell_type": "code",
   "execution_count": null,
   "metadata": {},
   "outputs": [],
   "source": [
    "diff = abs(100*(multiplicity_exact-d2n)/d2n)\n",
    "\n",
    "plt.figure(figsize = (14,7))\n",
    "plt.yscale('log')\n",
    "plt.tick_params(axis='both', which = 'major', labelsize= 15)\n",
    "plt.scatter(ncdata_Table[0][:], diff, s = 0.4, c = log10M)\n",
    "plt.colorbar()\n",
    "plt.grid(True, which='both')\n",
    "plt.xlabel(r'$redshift$', fontsize = 20)\n",
    "plt.ylabel('|bias| CCL exact method to Numcosmo $(\\%)$', fontsize = 20)\n",
    "plt.ylim(10e-10,1)\n"
   ]
  },
  {
   "cell_type": "code",
   "execution_count": null,
   "metadata": {},
   "outputs": [],
   "source": []
  }
 ],
 "metadata": {
  "interpreter": {
   "hash": "916dbcbb3f70747c44a77c7bcd40155683ae19c65e1c03b4aa3499c5328201f1"
  },
  "kernelspec": {
   "display_name": "NumCosmo",
   "language": "python",
   "name": "numcosmo"
  },
  "language_info": {
   "codemirror_mode": {
    "name": "ipython",
    "version": 3
   },
   "file_extension": ".py",
   "mimetype": "text/x-python",
   "name": "python",
   "nbconvert_exporter": "python",
   "pygments_lexer": "ipython3",
   "version": "3.9.7"
  }
 },
 "nbformat": 4,
 "nbformat_minor": 4
}
