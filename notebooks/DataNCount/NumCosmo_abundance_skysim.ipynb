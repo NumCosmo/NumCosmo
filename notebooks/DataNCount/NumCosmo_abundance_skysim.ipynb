{
 "cells": [
  {
   "cell_type": "code",
   "execution_count": 1,
   "id": "cb84bfc7-0f23-4f6a-a21f-094d2570bc1e",
   "metadata": {},
   "outputs": [],
   "source": [
    "import numpy as np\n",
    "import matplotlib.pyplot as plt\n",
    "import pickle as pkl\n",
    "import scipy.integrate\n",
    "import astropy.units as u\n",
    "import GCRCatalogs\n",
    "import pandas as pd\n",
    "\n",
    "%matplotlib inline"
   ]
  },
  {
   "cell_type": "code",
   "execution_count": 2,
   "id": "2577659f-9e1f-4bf1-aa36-572c92f763bd",
   "metadata": {},
   "outputs": [],
   "source": [
    "try:\n",
    "  import gi\n",
    "  gi.require_version('NumCosmo', '1.0')\n",
    "  gi.require_version('NumCosmoMath', '1.0')\n",
    "except:\n",
    "  pass\n",
    "\n",
    "import sys\n",
    "import math\n",
    "import matplotlib.pyplot as plt\n",
    "from gi.repository import GObject\n",
    "from gi.repository import NumCosmo as Nc\n",
    "from gi.repository import NumCosmoMath as Ncm\n",
    "\n",
    "Ncm.cfg_init ()\n",
    "Ncm.cfg_set_log_handler (lambda msg: sys.stdout.write (msg) and sys.stdout.flush ())"
   ]
  },
  {
   "cell_type": "markdown",
   "id": "b76c190c-5ccf-4ab6-b73e-d080db63a289",
   "metadata": {
    "tags": []
   },
   "source": [
    "# Extract DM haloes from the SkySim catalog in a given mass and redshift range. "
   ]
  },
  {
   "cell_type": "markdown",
   "id": "933dbf76-74c5-4936-8437-e48313289d09",
   "metadata": {
    "tags": []
   },
   "source": [
    "## Get catalog information: cosmology, sky area and define cuts"
   ]
  },
  {
   "cell_type": "code",
   "execution_count": 3,
   "id": "0f3da917-5275-4039-be05-145afcd338bb",
   "metadata": {
    "tags": []
   },
   "outputs": [
    {
     "name": "stderr",
     "output_type": "stream",
     "text": [
      "\n",
      "WARNING: version mismatch between CFITSIO header (v4) and linked library (v3.47).\n",
      "\n",
      "\n",
      "WARNING: version mismatch between CFITSIO header (v4) and linked library (v3.47).\n",
      "\n",
      "\n",
      "WARNING: version mismatch between CFITSIO header (v4) and linked library (v3.47).\n",
      "\n"
     ]
    },
    {
     "name": "stdout",
     "output_type": "stream",
     "text": [
      "['baseDC2/sod_halo_mass', 'baseDC2/target_halo_mass', 'blackHoleMass', 'diskMassStellar', 'halo_mass', 'hostHaloMass', 'spheroidMassStellar', 'stellar_mass', 'stellar_mass_bulge', 'stellar_mass_disk', 'totalMassStellar']\n"
     ]
    },
    {
     "data": {
      "text/plain": [
       "['baseDC2/redshift',\n",
       " 'baseDC2/target_halo_redshift',\n",
       " 'redshift',\n",
       " 'redshiftHubble',\n",
       " 'redshift_true']"
      ]
     },
     "execution_count": 3,
     "metadata": {},
     "output_type": "execute_result"
    }
   ],
   "source": [
    "catalog = 'skysim5000_v1.1.1'\n",
    "skysim_cat = GCRCatalogs.load_catalog(catalog)\n",
    "cosmo_ss  = skysim_cat.cosmology\n",
    "#skysim_cat.list_all_quantities()\n",
    "\n",
    "# let's see what masses are availble \n",
    "print(sorted(c for c in skysim_cat.list_all_quantities(True) if 'mass' in c.lower()))\n",
    "sorted(c for c in skysim_cat.list_all_quantities(True) if 'redshift' in c.lower())"
   ]
  },
  {
   "cell_type": "code",
   "execution_count": 4,
   "id": "a69f2b7e-a411-4983-adf2-93415fc29864",
   "metadata": {},
   "outputs": [
    {
     "name": "stdout",
     "output_type": "stream",
     "text": [
      "FlatLambdaCDM(H0=71 km / (Mpc s), Om0=0.265, Tcmb0=0 K, Neff=3.04, m_nu=None, Ob0=0.0448)\n",
      "5264.05\n",
      "0.963\n"
     ]
    }
   ],
   "source": [
    "print(cosmo_ss)\n",
    "print(skysim_cat.sky_area)\n",
    "print(cosmo_ss.n_s)\n",
    "#masses = pd.DataFrame(masses)\n",
    "#masses['baseDC2/sod_halo_mass/h'] = masses['baseDC2/sod_halo_mass']/cosmo_ss.h\n",
    "#display(masses[filt])"
   ]
  },
  {
   "cell_type": "code",
   "execution_count": 5,
   "id": "95b07f7b-9cd8-43b9-ab22-72f23bc81d62",
   "metadata": {},
   "outputs": [
    {
     "name": "stdout",
     "output_type": "stream",
     "text": [
      "9024331077594062897\n"
     ]
    }
   ],
   "source": [
    "zmin = 0.0\n",
    "zmax = 1.0\n",
    "mmin = 4.e14 # Msun. \n",
    "mmax = 1.e15 # Msun\n",
    "\n",
    "ahash = hash ((catalog, zmin, zmax, mmin, mmax))\n",
    "print (ahash)\n",
    "# ahash =-5265039608222506441"
   ]
  },
  {
   "cell_type": "markdown",
   "id": "1bb2bb9e-f696-4788-9102-98b8c9243886",
   "metadata": {
    "tags": []
   },
   "source": [
    "## Perform extraction\n",
    "**NB: This may be skipped if using directly the files in the `data` directory**"
   ]
  },
  {
   "cell_type": "markdown",
   "id": "a76f4f5d-f7ab-460d-bd89-173fe613686d",
   "metadata": {
    "tags": []
   },
   "source": [
    "# Get list of halos in a given redshift and mass range.\n",
    "# Can only filter on 'halo_mass' which corresponds to the fof mass (in Msun).\n",
    "# Will extract all haloes with halo_mass > mmin_extract now\n",
    "# and refine the mass range on M200c, afterwards\n",
    "\n",
    "mmin_extract = 1.e12 # Msun (M_fof)\n",
    "dm_halos = skysim_cat.get_quantities(['halo_mass','redshift','baseDC2/sod_halo_mass', 'baseDC2/redshift','baseDC2/sod_halo_cdelta'],\n",
    "                                     filters=[f'halo_mass > {mmin_extract}','is_central==True',\n",
    "                                              f'redshift_true>0.0', f'redshift_true<1.5'])\n",
    "N_cl = len(dm_halos['halo_mass'])\n",
    "print(f'There are {N_cl} halos in this mass (Mfof) and redshift range')"
   ]
  },
  {
   "cell_type": "code",
   "execution_count": 6,
   "id": "74b1cca3-40ad-4b33-a5be-cde0015ac25e",
   "metadata": {},
   "outputs": [
    {
     "name": "stdout",
     "output_type": "stream",
     "text": [
      "There are 1810 halos in this mass (Msod) and redshift range\n"
     ]
    }
   ],
   "source": [
    "from astropy.io import fits\n",
    "from astropy.table import Table\n",
    "\n",
    "\n",
    "ncdata_fits = fits.open('skysim5000_halos_m200c_13.fits')\n",
    "#ncdata_fits.info()\n",
    "\n",
    "ncdata_data =  ncdata_fits[1].data\n",
    "\n",
    "ncdata_Table = Table(ncdata_data)\n",
    "ncdata_Table\n",
    "ncdata_Table['M200c'] = ncdata_Table['baseDC2/sod_halo_mass']/cosmo_ss.h # sod_halo_mass = M200,c in Msun/h, needs conversion\n",
    "\n",
    "filt3 = ncdata_Table['M200c'] >= mmin\n",
    "filt4 = ncdata_Table['M200c'] < mmax\n",
    "filt5 = ncdata_Table['redshift_true'] >= zmin\n",
    "filt6 = ncdata_Table['redshift_true'] < zmax\n",
    "\n",
    "filt = filt3 * filt4 * filt5 * filt6\n",
    "\n",
    "data_m_ss = ncdata_Table['M200c'][filt] # M200,c [Msun]\n",
    "data_z_ss = ncdata_Table['redshift_true'][filt]\n",
    "N_cl = len(data_m_ss)\n",
    "print(f'There are {N_cl} halos in this mass (Msod) and redshift range')"
   ]
  },
  {
   "cell_type": "markdown",
   "id": "f88c1aa0-0c48-4bd0-9ed6-a15f0b0dc1c0",
   "metadata": {},
   "source": [
    "### Define a redshift and mass range\n",
    "NB: SkySim5000 M200c masses are in units of Msun/h"
   ]
  },
  {
   "cell_type": "markdown",
   "id": "3f16d020-c9b3-4418-a94d-8fd17f0483c7",
   "metadata": {},
   "source": [
    "dm_halos['M200c'] = dm_halos['baseDC2/sod_halo_mass']/cosmo_ss.h # sod_halo_mass = M200,c in Msun/h, needs conversion\n",
    "\n",
    "filt3 = dm_halos['M200c'] >= mmin\n",
    "filt4 = dm_halos['M200c'] < mmax\n",
    "filt5 = dm_halos['baseDC2/redshift'] >= zmin\n",
    "filt6 = dm_halos['baseDC2/redshift'] < zmax\n",
    "\n",
    "filt = filt3 * filt4 * filt5 * filt6\n",
    "\n",
    "data_m_ss = dm_halos['M200c'][filt] # M200,c [Msun]\n",
    "data_z_ss = dm_halos['baseDC2/redshift'][filt]\n",
    "N_cl = len(data_m_ss)\n",
    "print(f'There are {N_cl} halos in this mass (Msod) and redshift range')"
   ]
  },
  {
   "cell_type": "markdown",
   "id": "9157984f-042f-43e3-887e-456fe8c59faa",
   "metadata": {},
   "source": [
    "# Set up NumCosmo cosmology"
   ]
  },
  {
   "cell_type": "code",
   "execution_count": 7,
   "id": "6b2fc26f-1da4-4823-9a8a-bbae99f85d6e",
   "metadata": {},
   "outputs": [],
   "source": [
    "cosmo = Nc.HICosmoDEXcdm()\n",
    "reion = Nc.HIReionCamb.new () \n",
    "prim = Nc.HIPrimPowerLaw.new () \n",
    "\n",
    "cosmo.add_submodel (reion)\n",
    "cosmo.add_submodel (prim)\n",
    "\n",
    "dist = Nc.Distance.new (2.0)\n",
    "\n",
    "tf = Nc.TransferFunc.new_from_name (\"NcTransferFuncEH\")\n",
    "\n",
    "psml = Nc.PowspecMLTransfer.new (tf)\n",
    "\n",
    "#psml = Nc.PowspecMLCBE.new ()\n",
    "psml.require_kmin (1.0e-6)\n",
    "psml.require_kmax (1.0e3)\n",
    "\n",
    "psf = Ncm.PowspecFilter.new (psml, Ncm.PowspecFilterType.TOPHAT)\n",
    "psf.set_best_lnr0 ()"
   ]
  },
  {
   "cell_type": "code",
   "execution_count": 8,
   "id": "4a04d1ea-2298-43c3-b429-156e65b19a3f",
   "metadata": {},
   "outputs": [
    {
     "name": "stdout",
     "output_type": "stream",
     "text": [
      "0.8 0.8490796381180891 0.0\n",
      "0.8 0.8\n"
     ]
    }
   ],
   "source": [
    "cosmo.props.H0      = cosmo_ss.H0.value\n",
    "cosmo.props.Omegab  = cosmo_ss.Ob0\n",
    "cosmo.props.Omegac  = cosmo_ss.Odm0\n",
    "cosmo.props.Omegax  = cosmo_ss.Ode0\n",
    "\n",
    "cosmo.omega_x2omega_k ()\n",
    "cosmo.param_set_by_name (\"Omegak\", 0.0)\n",
    "\n",
    "prim.props.n_SA = cosmo_ss.n_s\n",
    "print(cosmo_ss.sigma8,cosmo.sigma8(psf),cosmo.Omega_k0())\n",
    "\n",
    "old_amplitude = math.exp (prim.props.ln10e10ASA)\n",
    "prim.props.ln10e10ASA = math.log ((cosmo_ss.sigma8 / cosmo.sigma8(psf))**2 * old_amplitude)\n",
    "print(cosmo_ss.sigma8, cosmo.sigma8(psf))\n"
   ]
  },
  {
   "cell_type": "markdown",
   "id": "69e3086a-b020-43bd-af48-97e020fe2f09",
   "metadata": {},
   "source": [
    "# Set up fit with NumCosmo"
   ]
  },
  {
   "cell_type": "markdown",
   "id": "56f5e2f1-f65a-4350-9329-68125a65a408",
   "metadata": {},
   "source": [
    "## Mass function, mass and redshift distributions"
   ]
  },
  {
   "cell_type": "code",
   "execution_count": 9,
   "id": "f2d04fbd-544c-432a-afb3-ded24a5265df",
   "metadata": {},
   "outputs": [],
   "source": [
    "#\n",
    "# New multiplicity function 'NcMultiplicityFuncTinkerMean'\n",
    "#\n",
    "mulf = Nc.MultiplicityFuncTinker.new_full (Nc.MultiplicityFuncMassDef.CRITICAL,200)\n",
    "mulf.set_mdef (Nc.MultiplicityFuncMassDef.CRITICAL)\n",
    "mulf.set_Delta (200.0)\n",
    "\n",
    "#0 correspond to DM only and 1 to hydro sim\n",
    "mulf = Nc.MultiplicityFuncBocquet.new_full (Nc.MultiplicityFuncMassDef.CRITICAL,0,200)\n",
    "\n",
    "#\n",
    "# New mass function object using the objects defined above.\n",
    "#\n",
    "mf = Nc.HaloMassFunction.new (dist, psf, mulf)\n",
    "\n",
    "#mf.set_area_sd (skysim_cat.sky_area) # Not sure if this is the way to setup a sky are"
   ]
  },
  {
   "cell_type": "code",
   "execution_count": 10,
   "id": "40027059-c947-4796-9fb6-4c696ac5b050",
   "metadata": {},
   "outputs": [
    {
     "name": "stdout",
     "output_type": "stream",
     "text": [
      "33.62248566303653 34.53877639491068 33.62248566303653 34.538776394910684\n"
     ]
    }
   ],
   "source": [
    "#\n",
    "# New Cluster Mass object\n",
    "#\n",
    "lnM_min = math.log (mmin)\n",
    "lnM_max = math.log (mmax)\n",
    "\n",
    "# using Log normal distribution\n",
    "#cluster_m = Nc.ClusterMass.new_from_name (\"NcClusterMassLnnormal{'lnMobs-min':<%20.15e>, 'lnMobs-max':<%20.15e>}\" % (lnM_min, lnM_max))\n",
    "#cluster_m.props.bias       = 0.0\n",
    "#cluster_m.props.sigma      = 0.2\n",
    "#print(cluster_m.lnMobs_min, cluster_m.lnMobs_max, lnM_min, lnM_max)\n",
    "\n",
    "# no distribution - assumes masses are perfectly known\n",
    "cluster_m = Nc.ClusterMass.new_from_name (\"NcClusterMassNodist{'lnM-min':<%20.15e>, 'lnM-max':<%20.15e>}\" % (lnM_min, lnM_max))\n",
    "print(cluster_m.props.lnM_min, cluster_m.props.lnM_max, lnM_min, lnM_max)"
   ]
  },
  {
   "cell_type": "code",
   "execution_count": 11,
   "id": "1bbdf801-6a11-4f5d-a57f-5c6a146baad0",
   "metadata": {},
   "outputs": [
    {
     "name": "stdout",
     "output_type": "stream",
     "text": [
      "0.0 1.0 0.0 1.0\n"
     ]
    }
   ],
   "source": [
    "#\n",
    "# New Cluster Redshift object\n",
    "#\n",
    "\n",
    "# using a global gaussian distribution\n",
    "#cluster_z = Nc.ClusterRedshift.new_from_name (\"NcClusterPhotozGaussGlobal{'pz-min':<%20.15e>, 'pz-max':<%20.15e>, 'z-bias':<0.0>, 'sigma0':<0.03>}\" % (zmin, zmax))\n",
    "\n",
    "# no distribution - assumes redshifts are perfectly known\n",
    "cluster_z = Nc.ClusterRedshiftNodist(z_min = zmin, z_max=zmax)\n",
    "print(cluster_z.props.z_min, cluster_z.props.z_max, zmin, zmax)"
   ]
  },
  {
   "cell_type": "markdown",
   "id": "f17e8091-fd66-40d7-a0f1-6823a3d3b7ab",
   "metadata": {},
   "source": [
    "## Set up objects for the fit"
   ]
  },
  {
   "cell_type": "code",
   "execution_count": 12,
   "id": "a36fdc5d-9475-4795-a4f8-9a5b1756a971",
   "metadata": {},
   "outputs": [],
   "source": [
    "#\n",
    "# New Cluster abundance object that uses all objects above\n",
    "#\n",
    "cad = Nc.ClusterAbundance.new (mf, None)\n",
    "\n",
    "#\n",
    "# New NcmData object for number count calculations\n",
    "#\n",
    "ncdata = Nc.DataClusterNCount.new (cad, \"NcClusterRedshiftNodist\", \"NcClusterMassNodist\")\n",
    "\n",
    "#\n",
    "#  Creating a new Modelset and set cosmo as the HICosmo model to be used\n",
    "#  and cluster_m as the distribution of the mass-observable relation\n",
    "#\n",
    "mset = Ncm.MSet.new_array ([cosmo, cluster_z, cluster_m])\n",
    "\n"
   ]
  },
  {
   "cell_type": "code",
   "execution_count": 13,
   "id": "888fecf6-b907-4895-9c32-563a24871988",
   "metadata": {},
   "outputs": [],
   "source": [
    "#\n",
    "# Fill ncdata with SkySim masses and redshifts\n",
    "#\n",
    "\n",
    "ncdata.set_lnM_true(Ncm.Vector.new_array(np.log (data_m_ss)))\n",
    "ncdata.set_z_true(Ncm.Vector.new_array(data_z_ss))\n",
    "\n",
    "# Because we are using true masses and redshifts in this example,\n",
    "# we replicate the true data in the 'observed' masses and redshift attributes\n",
    "ncdata.set_lnM_obs (Ncm.Matrix.new_array (data_m_ss,1))\n",
    "ncdata.set_z_obs (Ncm.Matrix.new_array (data_z_ss,1))\n",
    "\n",
    "#ncdata.props.area = skysim_cat.sky_area\n",
    "mf.set_area_sd (skysim_cat.sky_area)\n",
    "ncdata.true_data (True)\n",
    "ncdata.set_init(True)\n",
    "\n",
    "# #\n",
    "# # Save to a fits file\n",
    "# #\n",
    "#ncdata.catalog_save (\"skysim%ld_data.fits\" % ahash, True)"
   ]
  },
  {
   "cell_type": "code",
   "execution_count": 14,
   "id": "26e27c9b-fe03-45ac-a985-b75f115ef329",
   "metadata": {},
   "outputs": [],
   "source": [
    "# If the catalog already exists, skip previous step and load it directly\n",
    "\n",
    "#ncdata.catalog_load(\"skysim5000_halos_m200c_13.fits\")"
   ]
  },
  {
   "cell_type": "markdown",
   "id": "473806cc-1391-4df1-8e6f-608419b01984",
   "metadata": {},
   "source": [
    "## Define free parameters and prepare likelihood"
   ]
  },
  {
   "cell_type": "code",
   "execution_count": 15,
   "id": "90a9acb6-b709-4806-9e44-3f247e676f2b",
   "metadata": {},
   "outputs": [],
   "source": [
    "cosmo.props.Omegac_fit    = True\n",
    "cosmo.props.Omegab_fit    = False\n",
    "prim.props.ln10e10ASA_fit = True\n",
    "\n",
    "# data set\n",
    "dset = Ncm.Dataset.new ()\n",
    "dset.append_data (ncdata)\n",
    "\n",
    "\n",
    "# New likelihood object using dset\n",
    "lh = Ncm.Likelihood.new (dset)\n"
   ]
  },
  {
   "cell_type": "markdown",
   "id": "10bf1bdd-1718-4f15-ac56-080f5e64f4f0",
   "metadata": {},
   "source": [
    "## Fit for parameters (Omegac, ln10e10ASA) --> (Omegam, sigma8)"
   ]
  },
  {
   "cell_type": "markdown",
   "id": "3d505651-aa91-49ae-af25-91e02e0b0629",
   "metadata": {},
   "source": [
    "### Simple fit"
   ]
  },
  {
   "cell_type": "code",
   "execution_count": 16,
   "id": "eede609b-a869-4582-acb5-b54d29a0fd1e",
   "metadata": {},
   "outputs": [
    {
     "name": "stdout",
     "output_type": "stream",
     "text": [
      "#----------------------------------------------------------------------------------\n",
      "# Model fitting. Interating using:\n",
      "#  - solver:            NLOpt:ln-neldermead\n",
      "#  - differentiation:   Numerical differentiantion (forward)\n",
      "#...............\n",
      "#  Minimum found with precision: |df|/f =  1.00000e-08 and |dx| =  1.00000e-05\n",
      "#  Elapsed time: 00 days, 00:00:09.4574030\n",
      "#  iteration            [000061]\n",
      "#  function evaluations [000063]\n",
      "#  gradient evaluations [000000]\n",
      "#  degrees of freedom   [001808]\n",
      "#  m2lnL     =    -1783.68890380779 (    -1783.6889 )\n",
      "#  Fit parameters:\n",
      "#     0.217146313929284    2.99560148158974    \n",
      "#----------------------------------------------------------------------------------\n",
      "# Restarting:              yes\n",
      "#  - absolute improvement: 376.273615200897      \n",
      "#  - relative improvement: -0.26735080842652     \n",
      "#  - m2lnL_0  :            -1407.41528860689     \n",
      "#  - m2lnL_1  :            -1783.68890380779     \n",
      "#----------------------------------------------------------------------------------\n",
      "# Model fitting. Interating using:\n",
      "#  - solver:            NLOpt:ln-neldermead\n",
      "#  - differentiation:   Numerical differentiantion (forward)\n",
      "#..............\n",
      "#  Minimum found with precision: |df|/f =  1.00000e-08 and |dx| =  1.00000e-05\n",
      "#  Elapsed time: 00 days, 00:00:08.1337600\n",
      "#  iteration            [000053]\n",
      "#  function evaluations [000055]\n",
      "#  gradient evaluations [000000]\n",
      "#  degrees of freedom   [001808]\n",
      "#  m2lnL     =     -1783.6889178893 (    -1783.6889 )\n",
      "#  Fit parameters:\n",
      "#     0.217078834719055    2.99611927522249    \n",
      "#----------------------------------------------------------------------------------\n",
      "# Restarting:              no\n",
      "#  - absolute improvement: 1.40815102440683e-05  \n",
      "#  - relative improvement: -7.89459990136584e-09 \n",
      "#  - m2lnL_1  :            -1783.68890380779     \n",
      "#  - m2lnL_2  :            -1783.6889178893      \n",
      "#----------------------------------------------------------------------------------\n",
      "# Data used:\n",
      "#   - Cluster abundance unbinned\n",
      "#----------------------------------------------------------------------------------\n",
      "# Model[03000]:\n",
      "#   - NcHICosmo : XCDM - Constant EOS\n",
      "#----------------------------------------------------------------------------------\n",
      "# Model parameters\n",
      "#   -         H0[00]:  71                  [FIXED]\n",
      "#   -     Omegac[01]:  0.217078834719055   [FREE]\n",
      "#   -     Omegak[02]:  0                   [FIXED]\n",
      "#   -    Tgamma0[03]:  2.7245              [FIXED]\n",
      "#   -         Yp[04]:  0.24                [FIXED]\n",
      "#   -       ENnu[05]:  3.046               [FIXED]\n",
      "#   -     Omegab[06]:  0.0448              [FIXED]\n",
      "#   -          w[07]: -1                   [FIXED]\n",
      "#----------------------------------------------------------------------------------\n",
      "# Model[05000]:\n",
      "#   - NcHIPrim : Power Law model for primordial spectra\n",
      "#----------------------------------------------------------------------------------\n",
      "# Model parameters\n",
      "#   - ln10e10ASA[00]:  2.99611927522249    [FREE]\n",
      "#   - T_SA_ratio[01]:  0.2                 [FIXED]\n",
      "#   -       n_SA[02]:  0.963               [FIXED]\n",
      "#   -        n_T[03]:  0                   [FIXED]\n",
      "#----------------------------------------------------------------------------------\n",
      "# Model[07000]:\n",
      "#   - NcClusterMass : No mass distribution\n",
      "#----------------------------------------------------------------------------------\n",
      "# Model parameters\n",
      "#----------------------------------------------------------------------------------\n",
      "# Model[08000]:\n",
      "#   - NcClusterRedshift : No redshift distribution\n",
      "#----------------------------------------------------------------------------------\n",
      "# Model parameters\n",
      "#----------------------------------------------------------------------------------\n",
      "# Model[13000]:\n",
      "#   - NcHIReion : Reion-CAMB\n",
      "#----------------------------------------------------------------------------------\n",
      "# Model parameters\n",
      "#   -       z_re[00]:  13                  [FIXED]\n",
      "#   -    z_He_re[01]:  3.5                 [FIXED]\n",
      "#----------------------------------------------------------------------------------\n",
      "# NcmMSet parameters covariance matrix\n",
      "#                                                      -------------------------------\n",
      "#     Omegac[03000:01] =  0.2171      +/-  0.008527    |  1           | -0.9975      |\n",
      "# ln10e10ASA[05000:00] =  2.996       +/-  0.06522     | -0.9975      |  1           |\n",
      "#                                                      -------------------------------\n"
     ]
    }
   ],
   "source": [
    "#\n",
    "#  Creating a Fit object of type NLOPT using the fitting algorithm ln-neldermead to\n",
    "#  fit the Modelset mset using the Likelihood lh and using a numerical differentiation\n",
    "#  algorithm (NUMDIFF_FORWARD) to obtain the gradient (if needed).\n",
    "#\n",
    "fit = Ncm.Fit.new (Ncm.FitType.NLOPT, \"ln-neldermead\", lh, mset, Ncm.FitGradType.NUMDIFF_FORWARD)\n",
    "\n",
    "fit.run_restart (Ncm.FitRunMsgs.SIMPLE,1e-3,0,None,None)\n",
    "\n",
    "#\n",
    "# Printing fitting informations.\n",
    "#\n",
    "fit.log_info ()\n",
    "fit.obs_fisher ()\n",
    "fit.log_covar ()"
   ]
  },
  {
   "cell_type": "code",
   "execution_count": 17,
   "id": "2c1d24c8-27ef-4eaf-9aac-2b6d45ca7c8b",
   "metadata": {},
   "outputs": [
    {
     "name": "stdout",
     "output_type": "stream",
     "text": [
      "0.2170788347190546 0.21999999999999997\n",
      "0.8 0.7678116866354023\n"
     ]
    }
   ],
   "source": [
    "print (cosmo.props.Omegac, cosmo_ss.Odm0)\n",
    "print(cosmo_ss.sigma8, cosmo.sigma8(psf))"
   ]
  },
  {
   "cell_type": "markdown",
   "id": "3a0b2fcf-998e-4a93-b31e-db3cae1b883d",
   "metadata": {},
   "source": [
    "### MCMC"
   ]
  },
  {
   "cell_type": "code",
   "execution_count": 18,
   "id": "bf25f086-ef71-4b78-af9f-352a4da3c625",
   "metadata": {},
   "outputs": [
    {
     "name": "stdout",
     "output_type": "stream",
     "text": [
      "# NcmThreadPool:Unused:      0\n",
      "# NcmThreadPool:Max Unused:  2\n",
      "# NcmThreadPool:Running:     0\n",
      "# NcmThreadPool:Unprocessed: 0\n",
      "# NcmThreadPool:Unused:      150\n",
      "0.7678116866354023\n",
      "0.2618788347190546\n",
      "#----------------------------------------------------------------------------------\n",
      "# NcmFitESMCMC: Starting Ensamble Sampler Markov Chain Monte Carlo.\n",
      "#   Number of walkers: 0500.\n",
      "#   Number of threads: 0150.\n",
      "#   Using MPI:         no - use MPI enabled but no slaves available.\n",
      "# NcmFitESMCMC: No RNG was defined, using algorithm: `mt19937' and seed: 2312522351.\n",
      "# NcmMSetCatalog: Current mean:   29812        0.92421      0.26239      0.21759      3.2435     \n",
      "# NcmMSetCatalog: Current msd:    2014.8       0.015156     0.00048061   0.00048061   0.030773   \n",
      "# NcmMSetCatalog: Current sd:     45052        0.33891      0.010747     0.010747     0.68811    \n",
      "# NcmMSetCatalog: Current var:    2.0297e+09   0.11486      0.00011549   0.00011549   0.47349    \n",
      "# NcmMSetCatalog: Current tau:    1            1            1            1            1          \n",
      "# NcmMSetCatalog: Current skfac: -nan         -nan         -nan         -nan         -nan        \n",
      "# NcmMSetCatalog: Maximal Shrink factor = 1e+10                 \n",
      "#----------------------------------------------------------------------------------\n",
      "# NcmMSetCatalog: Computing the constant break point for parameter `0', sample size `1':\n",
      "# NcmMSetCatalog: Constant break point at `0':\n",
      "# NcmFitESMCMC:last ensemble variance of -2ln(L):       2032329688.25172 (2n = 4), min(-2ln(L)) =      -1782.91118655972.\n",
      "# Task:NcmFitESMCMC, completed: 500 of 500, elapsed time: 00:00:11.4275\n",
      "# Task:NcmFitESMCMC, mean time: 00:00:00.0228 +/- 00:00:00.0228\n",
      "# Task:NcmFitESMCMC, time left: 00:00:00.0000 +/- 00:00:00.0000\n",
      "# Task:NcmFitESMCMC, current time:        Wed Aug 24 2022, 07:39:22\n",
      "# Task:NcmFitESMCMC, estimated to end at: Wed Aug 24 2022, 07:39:22 +/- 00:00:00.0000\n",
      "#----------------------------------------------------------------------------------\n",
      "# NcmFitESMCMC: Calculating [000029] Ensemble Sampler Markov Chain Monte Carlo runs [APES-Move:VKDE:Cauchy]\n",
      "# Task:NcmFitESMCMC, started at: Wed Aug 24 2022, 07:39:11\n",
      "# NcmMSetCatalog: Current mean:   7845.7       0.80318      0.26174      0.21694      3.0526     \n",
      "# NcmMSetCatalog: Current msd:    506.14       0.0038989    0.0004925    0.0004925    0.0090161  \n",
      "# NcmMSetCatalog: Current sd:     25307        0.19495      0.024625     0.024625     0.4508     \n",
      "# NcmMSetCatalog: Current var:    6.4044e+08   0.038004     0.00060638   0.00060638   0.20322    \n",
      "# NcmMSetCatalog: Current tau:    1            1            1            1            1          \n",
      "# NcmMSetCatalog: Current skfac:  1.0189       1.0499       1.0698       1.0698       1.069      \n",
      "# NcmMSetCatalog: Maximal Shrink factor = 1.07725               \n",
      "#----------------------------------------------------------------------------------\n",
      "# NcmMSetCatalog: Computing the constant break point for parameter `0', sample size `5':\n",
      "# NcmMSetCatalog: Constant break point at `1':\n",
      "# NcmFitESMCMC:acceptance ratio 55.0000% (last update 83.2000%), offboard ratio  0.0000% (last update  0.0000%).\n",
      "# NcmFitESMCMC:last ensemble variance of -2ln(L):       219183.152151688 (2n = 4), min(-2ln(L)) =      -1783.67082025218.\n",
      "# Task:NcmFitESMCMC, completed: 2500 of 15000, elapsed time: 00:01:03.0975\n",
      "# Task:NcmFitESMCMC, mean time: 00:00:00.0252 +/- 00:00:00.0113\n",
      "# Task:NcmFitESMCMC, time left: 00:05:15.3178 +/- 00:02:21.5554\n",
      "# Task:NcmFitESMCMC, current time:        Wed Aug 24 2022, 07:40:14\n",
      "# Task:NcmFitESMCMC, estimated to end at: Wed Aug 24 2022, 07:45:29 +/- 00:02:21.5554\n",
      "# NcmMSetCatalog: Current mean:   3033.2       0.78534      0.26197      0.21717      3.024      \n",
      "# NcmMSetCatalog: Current msd:    262.04       0.0019664    0.00026693   0.00026693   0.0045931  \n",
      "# NcmMSetCatalog: Current sd:     18529        0.13905      0.018875     0.018875     0.32478    \n",
      "# NcmMSetCatalog: Current var:    3.4332e+08   0.019334     0.00035626   0.00035626   0.10548    \n",
      "# NcmMSetCatalog: Current tau:    1            1            1            1            1          \n",
      "# NcmMSetCatalog: Current skfac:  1.0039       1.0199       1.0277       1.0277       1.0269     \n",
      "# NcmMSetCatalog: Maximal Shrink factor = 1.03227               \n",
      "#----------------------------------------------------------------------------------\n",
      "# NcmMSetCatalog: Computing the constant break point for parameter `0', sample size `10':\n",
      "# NcmMSetCatalog: Constant break point at `7':\n",
      "# NcmFitESMCMC:acceptance ratio 61.1111% (last update 59.8000%), offboard ratio  0.0000% (last update  0.0000%).\n",
      "# NcmFitESMCMC:last ensemble variance of -2ln(L):       4.25768677685986 (2n = 4), min(-2ln(L)) =      -1783.68810699815.\n",
      "# Task:NcmFitESMCMC, completed: 5000 of 15000, elapsed time: 00:02:06.0850\n",
      "# Task:NcmFitESMCMC, mean time: 00:00:00.0252 +/- 00:00:00.0080\n",
      "# Task:NcmFitESMCMC, time left: 00:04:12.0957 +/- 00:01:19.8518\n",
      "# Task:NcmFitESMCMC, current time:        Wed Aug 24 2022, 07:41:17\n",
      "# Task:NcmFitESMCMC, estimated to end at: Wed Aug 24 2022, 07:45:29 +/- 00:01:19.8518\n",
      "# NcmMSetCatalog: Current mean:   1428.2       0.77943      0.2621       0.2173       3.0139     \n",
      "# NcmMSetCatalog: Current msd:    176.64       0.0013148    0.00018671   0.00018671   0.0030966  \n",
      "# NcmMSetCatalog: Current sd:     15298        0.11387      0.01617      0.01617      0.26817    \n",
      "# NcmMSetCatalog: Current var:    2.3402e+08   0.012966     0.00026146   0.00026146   0.071916   \n",
      "# NcmMSetCatalog: Current tau:    1            1            1            1            1          \n",
      "# NcmMSetCatalog: Current skfac:  1.0017       1.0124       1.0189       1.0189       1.0175     \n",
      "# NcmMSetCatalog: Maximal Shrink factor = 1.02041               \n",
      "#----------------------------------------------------------------------------------\n",
      "# NcmMSetCatalog: Computing the constant break point for parameter `0', sample size `15':\n",
      "# NcmMSetCatalog: Constant break point at `8':\n",
      "# NcmFitESMCMC:acceptance ratio 61.9143% (last update 66.2000%), offboard ratio  0.0000% (last update  0.0000%).\n",
      "# NcmFitESMCMC:last ensemble variance of -2ln(L):       3.61851846588942 (2n = 4), min(-2ln(L)) =      -1783.68810699815.\n",
      "# Task:NcmFitESMCMC, completed: 7500 of 15000, elapsed time: 00:03:09.5813\n",
      "# Task:NcmFitESMCMC, mean time: 00:00:00.0253 +/- 00:00:00.0065\n",
      "# Task:NcmFitESMCMC, time left: 00:03:09.5477 +/- 00:00:49.0102\n",
      "# Task:NcmFitESMCMC, current time:        Wed Aug 24 2022, 07:42:20\n",
      "# Task:NcmFitESMCMC, estimated to end at: Wed Aug 24 2022, 07:45:30 +/- 00:00:49.0102\n",
      "# NcmMSetCatalog: Current mean:   625.73       0.77649      0.26215      0.21735      3.0091     \n",
      "# NcmMSetCatalog: Current msd:    133.21       0.00098766   0.00014617   0.00014617   0.0023459  \n",
      "# NcmMSetCatalog: Current sd:     13321        0.098766     0.014617     0.014617     0.23459    \n",
      "# NcmMSetCatalog: Current var:    1.7744e+08   0.0097548    0.00021367   0.00021367   0.055033   \n",
      "# NcmMSetCatalog: Current tau:    1            1            1            1            1          \n",
      "# NcmMSetCatalog: Current skfac:  1.0009       1.0089       1.0171       1.0171       1.0126     \n",
      "# NcmMSetCatalog: Maximal Shrink factor = 1.01804               \n",
      "#----------------------------------------------------------------------------------\n",
      "# NcmMSetCatalog: Computing the constant break point for parameter `0', sample size `20':\n",
      "# NcmMSetCatalog: Constant break point at `8':\n",
      "# NcmFitESMCMC:acceptance ratio 62.2000% (last update 67.6000%), offboard ratio  0.0000% (last update  0.0000%).\n",
      "# NcmFitESMCMC:last ensemble variance of -2ln(L):       3.68651497914236 (2n = 4), min(-2ln(L)) =      -1783.68810699815.\n",
      "# Task:NcmFitESMCMC, completed: 10000 of 15000, elapsed time: 00:04:13.2892\n",
      "# Task:NcmFitESMCMC, mean time: 00:00:00.0253 +/- 00:00:00.0057\n",
      "# Task:NcmFitESMCMC, time left: 00:02:06.6278 +/- 00:00:28.3469\n",
      "# Task:NcmFitESMCMC, current time:        Wed Aug 24 2022, 07:43:24\n",
      "# Task:NcmFitESMCMC, estimated to end at: Wed Aug 24 2022, 07:45:31 +/- 00:00:28.3469\n",
      "# NcmMSetCatalog: Current mean:   144.25       0.77474      0.26217      0.21737      3.0063     \n",
      "# NcmMSetCatalog: Current msd:    106.91       0.00079096   0.0001218    0.0001218    0.0018953  \n",
      "# NcmMSetCatalog: Current sd:     11953        0.088431     0.013617     0.013617     0.21191    \n",
      "# NcmMSetCatalog: Current var:    1.4288e+08   0.0078201    0.00018543   0.00018543   0.044904   \n",
      "# NcmMSetCatalog: Current tau:    1            1            1            1            1          \n",
      "# NcmMSetCatalog: Current skfac:  1.0006       1.007        1.0147       1.0147       1.0099     \n",
      "# NcmMSetCatalog: Maximal Shrink factor = 1.0155                \n",
      "#----------------------------------------------------------------------------------\n",
      "# NcmMSetCatalog: Computing the constant break point for parameter `0', sample size `25':\n",
      "# NcmMSetCatalog: Constant break point at `8':\n",
      "# NcmFitESMCMC:acceptance ratio 62.5833% (last update 64.8000%), offboard ratio  0.0000% (last update  0.0000%).\n",
      "# NcmFitESMCMC:last ensemble variance of -2ln(L):       3.67324871083571 (2n = 4), min(-2ln(L)) =      -1783.68810699815.\n",
      "# Task:NcmFitESMCMC, completed: 12500 of 15000, elapsed time: 00:05:15.5797\n",
      "# Task:NcmFitESMCMC, mean time: 00:00:00.0252 +/- 00:00:00.0051\n",
      "# Task:NcmFitESMCMC, time left: 00:01:03.1095 +/- 00:00:12.6324\n",
      "# Task:NcmFitESMCMC, current time:        Wed Aug 24 2022, 07:44:26\n",
      "# Task:NcmFitESMCMC, estimated to end at: Wed Aug 24 2022, 07:45:29 +/- 00:00:12.6324\n",
      "# NcmMSetCatalog: Current mean:  -176.74       0.7736       0.26213      0.21733      3.0048     \n",
      "# NcmMSetCatalog: Current msd:    89.285       0.00065963   0.00010546   0.00010546   0.0015948  \n",
      "# NcmMSetCatalog: Current sd:     10935        0.080788     0.012916     0.012916     0.19532    \n",
      "# NcmMSetCatalog: Current var:    1.1958e+08   0.0065268    0.00016682   0.00016682   0.03815    \n",
      "# NcmMSetCatalog: Current tau:    1            1            1            1            1          \n",
      "# NcmMSetCatalog: Current skfac:  1.0004       1.0057       1.0131       1.0131       1.0086     \n",
      "# NcmMSetCatalog: Maximal Shrink factor = 1.01348               \n",
      "#----------------------------------------------------------------------------------\n",
      "# NcmMSetCatalog: Computing the constant break point for parameter `0', sample size `30':\n",
      "# NcmMSetCatalog: Constant break point at `7':\n",
      "# NcmFitESMCMC:acceptance ratio 62.7310% (last update 64.0000%), offboard ratio  0.0000% (last update  0.0000%).\n",
      "# NcmFitESMCMC:last ensemble variance of -2ln(L):       3.22197088405424 (2n = 4), min(-2ln(L)) =      -1783.68880789382.\n",
      "# Task:NcmFitESMCMC, completed: 15000 of 15000, elapsed time: 00:06:21.3362\n",
      "# Task:NcmFitESMCMC, mean time: 00:00:00.0254 +/- 00:00:00.0046\n",
      "# Task:NcmFitESMCMC, time left: 00:00:00.0000 +/- 00:00:00.0000\n",
      "# Task:NcmFitESMCMC, current time:        Wed Aug 24 2022, 07:45:32\n",
      "# Task:NcmFitESMCMC, estimated to end at: Wed Aug 24 2022, 07:45:32 +/- 00:00:00.0000\n",
      "# NcmMSetCatalog: Current mean:  -176.74       0.7736       0.26213      0.21733      3.0048     \n",
      "# NcmMSetCatalog: Current msd:    89.285       0.00065963   0.00010546   0.00010546   0.0015948  \n",
      "# NcmMSetCatalog: Current sd:     10935        0.080788     0.012916     0.012916     0.19532    \n",
      "# NcmMSetCatalog: Current var:    1.1958e+08   0.0065268    0.00016682   0.00016682   0.03815    \n",
      "# NcmMSetCatalog: Current tau:    1            1            1            1            1          \n",
      "#----------------------------------------------------------------------------------\n",
      "# NcmMSet parameters covariance matrix\n",
      "#                                                      -------------------------------\n",
      "#     Omegac[03000:01] =  0.2173      +/-  0.01292     |  1           | -0.4748      |\n",
      "# ln10e10ASA[05000:00] =  3.005       +/-  0.1953      | -0.4748      |  1           |\n",
      "#                                                      -------------------------------\n"
     ]
    }
   ],
   "source": [
    "#\n",
    "# Setting single thread calculation.\n",
    "#\n",
    "Ncm.func_eval_set_max_threads (150)\n",
    "Ncm.func_eval_log_pool_stats ()\n",
    "\n",
    "#\n",
    "# Additional functions as we want the chains for sigma8 and Omegam, which are derived parameters\n",
    "#\n",
    "mfunc_oa = Ncm.ObjArray.new ()\n",
    "\n",
    "mfunc_sigma8 = Ncm.MSetFuncList.new (\"NcHICosmo:sigma8\", psf)\n",
    "mfunc_Omegam = Ncm.MSetFuncList.new (\"NcHICosmo:Omega_m0\", None)\n",
    "\n",
    "mfunc_oa.add (mfunc_sigma8)\n",
    "mfunc_oa.add (mfunc_Omegam)\n",
    "\n",
    "print (mfunc_sigma8.eval0 (mset))\n",
    "print (mfunc_Omegam.eval0 (mset))\n",
    "\n",
    "#\n",
    "# New Gaussian prior to provide the initial points for the chain.\n",
    "# It was created with size 0 (number of parameters), but once \n",
    "# initialized with mset the correct size is assigned. \n",
    "#\n",
    "# The initial sampler will use a diagonal covariance with the\n",
    "# diagonal terms being the parameters scale set by each model.\n",
    "#\n",
    "init_sampler = Ncm.MSetTransKernGauss.new (0)\n",
    "init_sampler.set_mset (mset)\n",
    "init_sampler.set_prior_from_mset ()\n",
    "init_sampler.set_cov_from_rescale (1.0) #1\n",
    "\n",
    "#\n",
    "# Creates the ESMCMC walker object, this object is responsible\n",
    "# for moving the walkers in each interation, the stretch move\n",
    "# is affine invariant and therefore gives good results even for\n",
    "# very correlated parametric space.\n",
    "# \n",
    "sampler = 'apes'\n",
    "#sampler  = 'stretch'\n",
    "nwalkers = int (math.ceil (500)) #500\n",
    "ssize    = 15000 #1000000\n",
    "\n",
    "if sampler == 'apes':\n",
    "  walker = Ncm.FitESMCMCWalkerAPES.new (nwalkers, mset.fparams_len ())\n",
    "elif sampler == \"stretch\":\n",
    "  walker = Ncm.FitESMCMCWalkerStretch.new (nwalkers, mset.fparams_len ())\n",
    "#\n",
    "# The methods below set the walk scale, which controls the size of the\n",
    "# step done between two walkers and circumscribe the walkers inside\n",
    "# the box defined by the parameters inside the mset object.\n",
    "#\n",
    "#walker.set_scale (3.0)\n",
    "#walker.set_box_mset (mset)\n",
    "#\n",
    "# Initialize the ESMCMC object using the objects above. It will\n",
    "# use 50 walkers, i.e., each point in the MCMC chain contains\n",
    "# 50 points in the parametric space. Each step uses the last point\n",
    "# in the chain (the last 50 parametric points) to calculate the\n",
    "# proposal points.\n",
    "#\n",
    "esmcmc  = Ncm.FitESMCMC.new_funcs_array (fit, nwalkers, init_sampler, walker, Ncm.FitRunMsgs.SIMPLE, mfunc_oa)\n",
    "\n",
    "#\n",
    "# These methods enable the auto-trim options on ESMCMC. This option \n",
    "# makes the sampler check the chains' health and trim any unnecessary \n",
    "# burn-in part. We set the number of divisions to 100 so we test the\n",
    "# chains in blocks of n/100. The last method asserts that each 2min\n",
    "# the catalog will be checked.\n",
    "#\n",
    "#esmcmc.set_auto_trim (True)\n",
    "#esmcmc.set_auto_trim_div (100)\n",
    "#esmcmc.set_max_runs_time (2.0 * 60.0)\n",
    "#esmcmc.set_nthreads (4)\n",
    "esmcmc.set_data_file (\"Test_NC_%s_st_%d_true_hash_%ld.fits\" % (sampler, nwalkers, ahash))\n",
    "esmcmc.set_nthreads (150)\n",
    "\n",
    "#\n",
    "# Running the esmcmc, it will first calculate 1000 points, after that\n",
    "# it will estimate the error in the parameters mean. Using the current\n",
    "# errors the algorithm tries to calculated how many extra steps are \n",
    "# necessary to obtain the required error `10^-3' in every parameters,\n",
    "# and it will run such extra steps. It will repeat this procedure\n",
    "# until it attains the required error in every parameter.\n",
    "# \n",
    "#\n",
    "\n",
    "esmcmc.start_run ()\n",
    "esmcmc.run (ssize / nwalkers)\n",
    "#esmcmc.run (10)\n",
    "#esmcmc.run_lre (50, 1.0e-3)\n",
    "esmcmc.end_run ()\n",
    "\n",
    "#\n",
    "# Calculates the parameter means and covariance and set it into \n",
    "# the fit object and then print.\n",
    "# \n",
    "esmcmc.mean_covar ()\n",
    "fit.log_covar ()"
   ]
  },
  {
   "cell_type": "code",
   "execution_count": 19,
   "id": "b48b658f-7e2c-4a12-a5be-6701304c988d",
   "metadata": {},
   "outputs": [
    {
     "name": "stdout",
     "output_type": "stream",
     "text": [
      "0.2648 0.8\n",
      "0.2621299081909408 0.7717589033540926\n"
     ]
    }
   ],
   "source": [
    "mcat = esmcmc.peek_catalog ()\n",
    "print(cosmo_ss.Odm0 + cosmo_ss.Ob0, cosmo_ss.sigma8)\n",
    "print(cosmo.props.Omegac + cosmo.props.Omegab, cosmo.sigma8(psf))\n"
   ]
  },
  {
   "cell_type": "code",
   "execution_count": 20,
   "id": "33f0ae35-4780-4f7a-9eb1-b2dde0e29cdc",
   "metadata": {},
   "outputs": [
    {
     "data": {
      "image/png": "[encoded data removed]",
      "text/plain": [
       "<Figure size 1008x1008 with 4 Axes>"
      ]
     },
     "metadata": {
      "needs_background": "light"
     },
     "output_type": "display_data"
    },
    {
     "data": {
      "image/png": "[encoded data removed]",
      "text/plain": [
       "<Figure size 162x162 with 4 Axes>"
      ]
     },
     "metadata": {
      "needs_background": "light"
     },
     "output_type": "display_data"
    }
   ],
   "source": [
    "from chainconsumer import ChainConsumer\n",
    "\n",
    "c = ChainConsumer()\n",
    "\n",
    "nwalkers = mcat.nchains ()\n",
    "m2lnL = mcat.get_m2lnp_var () \n",
    "\n",
    "rows = np.array ([mcat.peek_row (i).dup_array () for i in range (nwalkers * 10, mcat.len ())])\n",
    "params = [\"$\" + mcat.col_symb (i) + \"$\" for i in range (mcat.ncols ())]\n",
    "posterior = -0.5 * rows[:,m2lnL]\n",
    "\n",
    "rows   = np.delete (rows,   m2lnL, 1)\n",
    "params = np.delete (params, m2lnL, 0)\n",
    "\n",
    "indices = [1,0]\n",
    "\n",
    "rows   = rows[:,indices]\n",
    "params = params[indices]\n",
    "\n",
    "c.add_chain(rows, posterior = posterior, parameters=list(params))\n",
    "c.configure (kde = True, label_font_size=11, sigma2d=False, sigmas = [1, 2,3], spacing = 0.0, tick_font_size=11, usetex=False)\n",
    "\n",
    "\n",
    "plot_args = {}\n",
    "plot_args['truth'] = [cosmo_ss.Odm0 + cosmo_ss.Ob0, cosmo_ss.sigma8]\n",
    "plot_args['extents'] = [(0.2, 0.32),(0.75, 0.9)]\n",
    "\n",
    "fig = c.plotter.plot(**plot_args)\n",
    "c.plotter.plot(filename='z[0.0,1.0]_camb.png', figsize=0.75, **plot_args)\n",
    "fig.set_size_inches(14.0, 14.0)\n"
   ]
  },
  {
   "cell_type": "code",
   "execution_count": 21,
   "id": "55366f63-9f76-413c-bca4-f4751aa7ac48",
   "metadata": {},
   "outputs": [
    {
     "data": {
      "text/plain": [
       "1810"
      ]
     },
     "execution_count": 21,
     "metadata": {},
     "output_type": "execute_result"
    }
   ],
   "source": [
    "ncdata.get_length ()"
   ]
  },
  {
   "cell_type": "code",
   "execution_count": 22,
   "id": "8d261ba4-ce27-4130-bcc5-a01a1b368848",
   "metadata": {},
   "outputs": [
    {
     "data": {
      "text/plain": [
       "5264.05"
      ]
     },
     "execution_count": 22,
     "metadata": {},
     "output_type": "execute_result"
    }
   ],
   "source": [
    "skysim_cat.sky_area"
   ]
  },
  {
   "cell_type": "code",
   "execution_count": 23,
   "id": "e1dc13d0-4937-416f-b332-0745774e932d",
   "metadata": {},
   "outputs": [],
   "source": [
    "#list(np.sort(skysim_cat.list_all_native_quantities ()))"
   ]
  },
  {
   "cell_type": "code",
   "execution_count": 24,
   "id": "c2761df1-9fb0-4104-a5c5-da5605b9f07a",
   "metadata": {},
   "outputs": [
    {
     "name": "stdout",
     "output_type": "stream",
     "text": [
      "{'units': 'Msun/h'}\n",
      "{'units': 'Unspecified'}\n",
      "{'units': 'Unspecified'}\n"
     ]
    }
   ],
   "source": [
    "print (skysim_cat.get_quantity_info (\"hostHaloMass\"))\n",
    "print (skysim_cat.get_quantity_info (\"baseDC2/sod_halo_cdelta\"))\n",
    "print (skysim_cat.get_quantity_info (\"baseDC2/sod_halo_mass\"))\n"
   ]
  },
  {
   "cell_type": "code",
   "execution_count": 25,
   "id": "5fe35408-4de4-4324-9872-77b989efca2a",
   "metadata": {},
   "outputs": [
    {
     "data": {
      "text/plain": [
       "'FoF, b=0.168'"
      ]
     },
     "execution_count": 25,
     "metadata": {},
     "output_type": "execute_result"
    }
   ],
   "source": [
    "skysim_cat.halo_mass_def"
   ]
  },
  {
   "cell_type": "code",
   "execution_count": 26,
   "id": "50af16c2-16fd-4cb3-9f8f-37d366e7d1c8",
   "metadata": {},
   "outputs": [
    {
     "name": "stdout",
     "output_type": "stream",
     "text": [
      "FFIT 1814.4476392931663 1810 -10344.661977677739 42.5963336367482\n",
      "                    71    0.2173299081909408                     0                2.7245                  0.24                 3.046                0.0448                    -1\n",
      "NFIT 3033.628759751602 1810 -9777.597407909238 55.07838741059511\n",
      "                    71                  0.22                     0                2.7245                  0.24                 3.046                0.0448                    -1\n"
     ]
    },
    {
     "data": {
      "image/png": "[encoded data removed]",
      "text/plain": [
       "<Figure size 720x480 with 1 Axes>"
      ]
     },
     "metadata": {
      "needs_background": "light"
     },
     "output_type": "display_data"
    }
   ],
   "source": [
    "plt.figure(dpi=120)\n",
    "\n",
    "zbmin = zmin\n",
    "zbmax = zmax\n",
    "\n",
    "#zbmin = 0.0\n",
    "#zbmax = 0.5\n",
    "\n",
    "ff = (data_z_ss >= zbmin) * (data_z_ss < zbmax)\n",
    "\n",
    "n, bins, patches = plt.hist (np.log(data_m_ss[ff]),bins=50,range=(np.log(mmin), np.log(mmax)))\n",
    "\n",
    "a1=[]\n",
    "a2=[]\n",
    "\n",
    "m2lnL = 0.0\n",
    "\n",
    "for bi, bi_1, nci in zip (bins[:-1], bins[1:], n):\n",
    "    ni = mf.n (cosmo, bi, bi_1, zbmin, zbmax, Nc.HaloMassFunctionSplineOptimize.NONE)\n",
    "    a1.append(0.5*(bi + bi_1))    \n",
    "    a2.append (ni)\n",
    "    m2lnL = m2lnL + 2.0 * (ni - nci * math.log (ni))\n",
    "\n",
    "plt.plot (a1, a2, c='r')\n",
    "\n",
    "Ntheo = mf.n (cosmo, lnM_min, lnM_max, zbmin, zbmax, Nc.HaloMassFunctionSplineOptimize.NONE)\n",
    "Ndata = ncdata.get_len ()\n",
    "print (\"FFIT\", Ntheo, Ndata, m2lnL, math.sqrt (Ntheo))\n",
    "cosmo.params_log_all ()\n",
    "\n",
    "Omegac_fit = cosmo.param_get_by_name (\"Omegac\")\n",
    "ln10e10ASA_fit = prim.props.ln10e10ASA\n",
    "\n",
    "cosmo.param_set_by_name (\"Omegac\", 0.22)\n",
    "prim.props.ln10e10ASA = 3.0813\n",
    "\n",
    "mf.prepare (cosmo)\n",
    "cad.prepare (cosmo, cluster_z, cluster_m)\n",
    "\n",
    "a1=[]\n",
    "a2=[]\n",
    "\n",
    "m2lnL = 0.0\n",
    "\n",
    "for bi, bi_1, nci in zip (bins[:-1], bins[1:], n):\n",
    "    ni = mf.n (cosmo, bi, bi_1, zbmin, zbmax, Nc.HaloMassFunctionSplineOptimize.NONE)\n",
    "    a1.append(0.5*(bi + bi_1))\n",
    "    a2.append (ni)\n",
    "    m2lnL = m2lnL + 2.0 * (ni - nci * math.log (ni))\n",
    "    \n",
    "plt.plot (a1, a2, c='k')\n",
    "\n",
    "plt.xlim(np.log(mmin), np.log(mmax))\n",
    "\n",
    "Ntheo = mf.n (cosmo, lnM_min, lnM_max, zbmin, zbmax, Nc.HaloMassFunctionSplineOptimize.NONE)\n",
    "Ndata = ncdata.get_len ()\n",
    "print (\"NFIT\", Ntheo, Ndata, m2lnL, math.sqrt (Ntheo))\n",
    "cosmo.params_log_all ()\n",
    "\n",
    "cosmo.param_set_by_name (\"Omegac\", Omegac_fit)\n",
    "prim.props.ln10e10ASA = ln10e10ASA_fit\n",
    "\n",
    "mf.prepare (cosmo)\n",
    "cad.prepare (cosmo, cluster_z, cluster_m)\n"
   ]
  },
  {
   "cell_type": "code",
   "execution_count": 27,
   "id": "d1d82f83-716a-4e07-b11f-40c1271f54dc",
   "metadata": {},
   "outputs": [
    {
     "name": "stdout",
     "output_type": "stream",
     "text": [
      "FFIT 1912.9141140920112 1810 -9851.81441690143 43.7368736204591\n",
      "                    71    0.2173299081909408                     0                2.7245                  0.24                 3.046                0.0448                    -1\n",
      "NFIT 3033.628759751602 1810 -9251.859269125825 55.07838741059511\n",
      "                    71                  0.22                     0                2.7245                  0.24                 3.046                0.0448                    -1\n"
     ]
    },
    {
     "data": {
      "image/png": "[encoded data removed]",
      "text/plain": [
       "<Figure size 720x480 with 1 Axes>"
      ]
     },
     "metadata": {
      "needs_background": "light"
     },
     "output_type": "display_data"
    }
   ],
   "source": [
    "plt.figure(dpi=120)\n",
    "\n",
    "#bunga = dm_halos['baseDC2/redshift'][filt]\n",
    "#bunga = dm_halos['redshift'][filt]\n",
    "bunga = data_z_ss\n",
    "\n",
    "n, bins, patches = plt.hist (bunga, bins=50,range=(zmin, zmax))\n",
    "\n",
    "a1=[]\n",
    "a2=[]\n",
    "\n",
    "m2lnL = 0.0\n",
    "\n",
    "for bi, bi_1, nci in zip (bins[:-1], bins[1:], n):\n",
    "    ni = mf.n (cosmo, lnM_min, lnM_max, bi, bi_1, Nc.HaloMassFunctionSplineOptimize.NONE)\n",
    "    a1.append(0.5*(bi + bi_1))    \n",
    "    a2.append (ni)\n",
    "    m2lnL = m2lnL + 2.0 * (ni - nci * math.log (ni))\n",
    "\n",
    "    \n",
    "plt.plot (a1, a2, c='r')\n",
    "\n",
    "Ntheo = mf.n (cosmo, lnM_min, lnM_max, zbmin, zbmax, Nc.HaloMassFunctionSplineOptimize.NONE)\n",
    "Ndata = ncdata.get_len ()\n",
    "print (\"FFIT\", Ntheo, Ndata, m2lnL, math.sqrt (Ntheo))\n",
    "cosmo.params_log_all ()\n",
    "\n",
    "Omegac_fit = cosmo.param_get_by_name (\"Omegac\")\n",
    "ln10e10ASA_fit = prim.props.ln10e10ASA\n",
    "\n",
    "cosmo.param_set_by_name (\"Omegac\", 0.22)\n",
    "prim.props.ln10e10ASA = 3.0813\n",
    "\n",
    "mf.prepare (cosmo)\n",
    "cad.prepare (cosmo, cluster_z, cluster_m)\n",
    "\n",
    "a1=[]\n",
    "a2=[]\n",
    "\n",
    "m2lnL = 0.0\n",
    "\n",
    "for bi, bi_1, nci in zip (bins[:-1], bins[1:], n):\n",
    "    ni = mf.n (cosmo, lnM_min, lnM_max, bi, bi_1, Nc.HaloMassFunctionSplineOptimize.NONE)\n",
    "    a1.append(0.5*(bi + bi_1))    \n",
    "    a2.append (ni)\n",
    "    m2lnL = m2lnL + 2.0 * (ni - nci * math.log (ni))\n",
    "\n",
    "    \n",
    "plt.plot (a1, a2, c='k')\n",
    "\n",
    "Ntheo = mf.n (cosmo, lnM_min, lnM_max, zbmin, zbmax, Nc.HaloMassFunctionSplineOptimize.NONE)\n",
    "Ndata = ncdata.get_len ()\n",
    "print (\"NFIT\", Ntheo, Ndata, m2lnL, math.sqrt (Ntheo))\n",
    "cosmo.params_log_all ()\n",
    "\n",
    "cosmo.param_set_by_name (\"Omegac\", Omegac_fit)\n",
    "prim.props.ln10e10ASA = ln10e10ASA_fit\n",
    "\n",
    "mf.prepare (cosmo)\n",
    "cad.prepare (cosmo, cluster_z, cluster_m)\n"
   ]
  },
  {
   "cell_type": "code",
   "execution_count": 28,
   "id": "7ec3ed58-ce4f-4abf-a4c8-e25950720196",
   "metadata": {},
   "outputs": [],
   "source": [
    "#sorted(skysim_cat.list_all_native_quantities ())"
   ]
  },
  {
   "cell_type": "markdown",
   "id": "e7566bf1-3a81-4337-815a-ccaf30d1c2f4",
   "metadata": {
    "tags": []
   },
   "source": [
    "### "
   ]
  },
  {
   "cell_type": "code",
   "execution_count": null,
   "id": "4a3de0f4-338c-466c-9b84-0a08df374a4b",
   "metadata": {},
   "outputs": [],
   "source": []
  }
 ],
 "metadata": {
  "kernelspec": {
   "display_name": "NumCosmo",
   "language": "python",
   "name": "numcosmo"
  },
  "language_info": {
   "codemirror_mode": {
    "name": "ipython",
    "version": 3
   },
   "file_extension": ".py",
   "mimetype": "text/x-python",
   "name": "python",
   "nbconvert_exporter": "python",
   "pygments_lexer": "ipython3",
   "version": "3.9.7"
  },
  "toc-autonumbering": true
 },
 "nbformat": 4,
 "nbformat_minor": 5
}
