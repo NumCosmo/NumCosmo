{
 "cells": [
  {
   "cell_type": "code",
   "execution_count": 1,
   "id": "cb84bfc7-0f23-4f6a-a21f-094d2570bc1e",
   "metadata": {},
   "outputs": [],
   "source": [
    "import numpy as np\n",
    "import matplotlib.pyplot as plt\n",
    "import pickle as pkl\n",
    "import scipy.integrate\n",
    "import astropy.units as u\n",
    "import GCRCatalogs\n",
    "import pandas as pd\n",
    "\n",
    "%matplotlib inline"
   ]
  },
  {
   "cell_type": "code",
   "execution_count": 2,
   "id": "2577659f-9e1f-4bf1-aa36-572c92f763bd",
   "metadata": {},
   "outputs": [],
   "source": [
    "try:\n",
    "  import gi\n",
    "  gi.require_version('NumCosmo', '1.0')\n",
    "  gi.require_version('NumCosmoMath', '1.0')\n",
    "except:\n",
    "  pass\n",
    "\n",
    "import sys\n",
    "import math\n",
    "import matplotlib.pyplot as plt\n",
    "from gi.repository import GObject\n",
    "from gi.repository import NumCosmo as Nc\n",
    "from gi.repository import NumCosmoMath as Ncm\n",
    "\n",
    "Ncm.cfg_init ()\n",
    "Ncm.cfg_set_log_handler (lambda msg: sys.stdout.write (msg) and sys.stdout.flush ())"
   ]
  },
  {
   "cell_type": "markdown",
   "id": "b76c190c-5ccf-4ab6-b73e-d080db63a289",
   "metadata": {
    "tags": []
   },
   "source": [
    "# Extract DM haloes from the SkySim catalog in a given mass and redshift range. "
   ]
  },
  {
   "cell_type": "markdown",
   "id": "933dbf76-74c5-4936-8437-e48313289d09",
   "metadata": {
    "tags": []
   },
   "source": [
    "## Get catalog information: cosmology, sky area and define cuts"
   ]
  },
  {
   "cell_type": "code",
   "execution_count": 3,
   "id": "0f3da917-5275-4039-be05-145afcd338bb",
   "metadata": {
    "tags": []
   },
   "outputs": [
    {
     "name": "stderr",
     "output_type": "stream",
     "text": [
      "\n",
      "WARNING: version mismatch between CFITSIO header (v4) and linked library (v3.47).\n",
      "\n",
      "\n",
      "WARNING: version mismatch between CFITSIO header (v4) and linked library (v3.47).\n",
      "\n",
      "\n",
      "WARNING: version mismatch between CFITSIO header (v4) and linked library (v3.47).\n",
      "\n"
     ]
    },
    {
     "name": "stdout",
     "output_type": "stream",
     "text": [
      "['baseDC2/sod_halo_mass', 'baseDC2/target_halo_mass', 'blackHoleMass', 'diskMassStellar', 'halo_mass', 'hostHaloMass', 'spheroidMassStellar', 'stellar_mass', 'stellar_mass_bulge', 'stellar_mass_disk', 'totalMassStellar']\n"
     ]
    },
    {
     "data": {
      "text/plain": [
       "['baseDC2/redshift',\n",
       " 'baseDC2/target_halo_redshift',\n",
       " 'redshift',\n",
       " 'redshiftHubble',\n",
       " 'redshift_true']"
      ]
     },
     "execution_count": 3,
     "metadata": {},
     "output_type": "execute_result"
    }
   ],
   "source": [
    "catalog = 'skysim5000_v1.1.1'\n",
    "skysim_cat = GCRCatalogs.load_catalog(catalog)\n",
    "cosmo_ss  = skysim_cat.cosmology\n",
    "#skysim_cat.list_all_quantities()\n",
    "\n",
    "# let's see what masses are availble \n",
    "print(sorted(c for c in skysim_cat.list_all_quantities(True) if 'mass' in c.lower()))\n",
    "sorted(c for c in skysim_cat.list_all_quantities(True) if 'redshift' in c.lower())"
   ]
  },
  {
   "cell_type": "code",
   "execution_count": 4,
   "id": "a69f2b7e-a411-4983-adf2-93415fc29864",
   "metadata": {},
   "outputs": [
    {
     "name": "stdout",
     "output_type": "stream",
     "text": [
      "FlatLambdaCDM(H0=71 km / (Mpc s), Om0=0.265, Tcmb0=0 K, Neff=3.04, m_nu=None, Ob0=0.0448)\n",
      "5264.05\n",
      "0.963\n"
     ]
    }
   ],
   "source": [
    "print(cosmo_ss)\n",
    "print(skysim_cat.sky_area)\n",
    "print(cosmo_ss.n_s)\n",
    "#masses = pd.DataFrame(masses)\n",
    "#masses['baseDC2/sod_halo_mass/h'] = masses['baseDC2/sod_halo_mass']/cosmo_ss.h\n",
    "#display(masses[filt])"
   ]
  },
  {
   "cell_type": "code",
   "execution_count": 5,
   "id": "95b07f7b-9cd8-43b9-ab22-72f23bc81d62",
   "metadata": {},
   "outputs": [
    {
     "name": "stdout",
     "output_type": "stream",
     "text": [
      "6528473027512530884\n"
     ]
    }
   ],
   "source": [
    "zmin = 0.5\n",
    "zmax = 0.6\n",
    "mmin = 3.e14 # Msun. \n",
    "mmax = 1.e15 # Msun\n",
    "\n",
    "ahash = hash ((catalog, zmin, zmax, mmin, mmax))\n",
    "print (ahash)"
   ]
  },
  {
   "cell_type": "markdown",
   "id": "1bb2bb9e-f696-4788-9102-98b8c9243886",
   "metadata": {
    "tags": []
   },
   "source": [
    "## Perform extraction\n",
    "**NB: This may be skipped if using directly the files in the `data` directory**"
   ]
  },
  {
   "cell_type": "markdown",
   "id": "a76f4f5d-f7ab-460d-bd89-173fe613686d",
   "metadata": {
    "tags": []
   },
   "source": [
    "# Get list of halos in a given redshift and mass range.\n",
    "# Can only filter on 'halo_mass' which corresponds to the fof mass (in Msun).\n",
    "# Will extract all haloes with halo_mass > mmin_extract now\n",
    "# and refine the mass range on M200c, afterwards\n",
    "\n",
    "mmin_extract = 1.e12 # Msun (M_fof)\n",
    "dm_halos = skysim_cat.get_quantities(['halo_mass','redshift','baseDC2/sod_halo_mass', 'baseDC2/redshift','baseDC2/sod_halo_cdelta'],\n",
    "                                     filters=[f'halo_mass > {mmin_extract}','is_central==True',\n",
    "                                              f'redshift_true>0.0', f'redshift_true<1.5'])\n",
    "N_cl = len(dm_halos['halo_mass'])\n",
    "print(f'There are {N_cl} halos in this mass (Mfof) and redshift range')"
   ]
  },
  {
   "cell_type": "code",
   "execution_count": 6,
   "id": "74b1cca3-40ad-4b33-a5be-cde0015ac25e",
   "metadata": {},
   "outputs": [
    {
     "name": "stdout",
     "output_type": "stream",
     "text": [
      "There are 665 halos in this mass (Msod) and redshift range\n"
     ]
    }
   ],
   "source": [
    "from astropy.io import fits\n",
    "from astropy.table import Table\n",
    "\n",
    "\n",
    "ncdata_fits = fits.open('skysim5000_halos_m200c_13.fits')\n",
    "#ncdata_fits.info()\n",
    "\n",
    "ncdata_data =  ncdata_fits[1].data\n",
    "\n",
    "ncdata_Table = Table(ncdata_data)\n",
    "ncdata_Table\n",
    "ncdata_Table['M200c'] = ncdata_Table['baseDC2/sod_halo_mass']/cosmo_ss.h # sod_halo_mass = M200,c in Msun/h, needs conversion\n",
    "\n",
    "filt3 = ncdata_Table['M200c'] >= mmin\n",
    "filt4 = ncdata_Table['M200c'] < mmax\n",
    "filt5 = ncdata_Table['redshift_true'] >= zmin\n",
    "filt6 = ncdata_Table['redshift_true'] < zmax\n",
    "\n",
    "filt = filt3 * filt4 * filt5 * filt6\n",
    "\n",
    "data_m_ss = ncdata_Table['M200c'][filt] # M200,c [Msun]\n",
    "data_z_ss = ncdata_Table['redshift_true'][filt]\n",
    "N_cl = len(data_m_ss)\n",
    "print(f'There are {N_cl} halos in this mass (Msod) and redshift range')"
   ]
  },
  {
   "cell_type": "markdown",
   "id": "f88c1aa0-0c48-4bd0-9ed6-a15f0b0dc1c0",
   "metadata": {},
   "source": [
    "### Define a redshift and mass range\n",
    "NB: SkySim5000 M200c masses are in units of Msun/h"
   ]
  },
  {
   "cell_type": "markdown",
   "id": "3f16d020-c9b3-4418-a94d-8fd17f0483c7",
   "metadata": {},
   "source": [
    "dm_halos['M200c'] = dm_halos['baseDC2/sod_halo_mass']/cosmo_ss.h # sod_halo_mass = M200,c in Msun/h, needs conversion\n",
    "\n",
    "filt3 = dm_halos['M200c'] >= mmin\n",
    "filt4 = dm_halos['M200c'] < mmax\n",
    "filt5 = dm_halos['baseDC2/redshift'] >= zmin\n",
    "filt6 = dm_halos['baseDC2/redshift'] < zmax\n",
    "\n",
    "filt = filt3 * filt4 * filt5 * filt6\n",
    "\n",
    "data_m_ss = dm_halos['M200c'][filt] # M200,c [Msun]\n",
    "data_z_ss = dm_halos['baseDC2/redshift'][filt]\n",
    "N_cl = len(data_m_ss)\n",
    "print(f'There are {N_cl} halos in this mass (Msod) and redshift range')"
   ]
  },
  {
   "cell_type": "markdown",
   "id": "9157984f-042f-43e3-887e-456fe8c59faa",
   "metadata": {},
   "source": [
    "# Set up NumCosmo cosmology"
   ]
  },
  {
   "cell_type": "code",
   "execution_count": 7,
   "id": "6b2fc26f-1da4-4823-9a8a-bbae99f85d6e",
   "metadata": {},
   "outputs": [],
   "source": [
    "cosmo = Nc.HICosmoDEXcdm()\n",
    "reion = Nc.HIReionCamb.new () \n",
    "prim = Nc.HIPrimPowerLaw.new () \n",
    "\n",
    "cosmo.add_submodel (reion)\n",
    "cosmo.add_submodel (prim)\n",
    "\n",
    "dist = Nc.Distance.new (2.0)\n",
    "\n",
    "tf = Nc.TransferFunc.new_from_name (\"NcTransferFuncEH\")\n",
    "\n",
    "psml = Nc.PowspecMLTransfer.new (tf)\n",
    "psml.require_kmin (1.0e-6)\n",
    "psml.require_kmax (1.0e3)\n",
    "\n",
    "psf = Ncm.PowspecFilter.new (psml, Ncm.PowspecFilterType.TOPHAT)\n",
    "psf.set_best_lnr0 ()"
   ]
  },
  {
   "cell_type": "code",
   "execution_count": 8,
   "id": "4a04d1ea-2298-43c3-b429-156e65b19a3f",
   "metadata": {},
   "outputs": [
    {
     "name": "stdout",
     "output_type": "stream",
     "text": [
      "0.8 0.8490796381180891 0.0\n",
      "0.8 0.8\n"
     ]
    }
   ],
   "source": [
    "cosmo.props.H0      = cosmo_ss.H0.value\n",
    "cosmo.props.Omegab  = cosmo_ss.Ob0\n",
    "cosmo.props.Omegac  = cosmo_ss.Odm0\n",
    "cosmo.props.Omegax  = cosmo_ss.Ode0\n",
    "\n",
    "cosmo.omega_x2omega_k ()\n",
    "cosmo.param_set_by_name (\"Omegak\", 0.0)\n",
    "\n",
    "prim.props.n_SA = cosmo_ss.n_s\n",
    "print(cosmo_ss.sigma8,cosmo.sigma8(psf),cosmo.Omega_k0())\n",
    "\n",
    "old_amplitude = math.exp (prim.props.ln10e10ASA)\n",
    "prim.props.ln10e10ASA = math.log ((cosmo_ss.sigma8 / cosmo.sigma8(psf))**2 * old_amplitude)\n",
    "print(cosmo_ss.sigma8, cosmo.sigma8(psf))\n"
   ]
  },
  {
   "cell_type": "markdown",
   "id": "69e3086a-b020-43bd-af48-97e020fe2f09",
   "metadata": {},
   "source": [
    "# Set up fit with NumCosmo"
   ]
  },
  {
   "cell_type": "markdown",
   "id": "56f5e2f1-f65a-4350-9329-68125a65a408",
   "metadata": {},
   "source": [
    "## Mass function, mass and redshift distributions"
   ]
  },
  {
   "cell_type": "code",
   "execution_count": 9,
   "id": "f2d04fbd-544c-432a-afb3-ded24a5265df",
   "metadata": {},
   "outputs": [],
   "source": [
    "#\n",
    "# New multiplicity function 'NcMultiplicityFuncTinkerMean'\n",
    "#\n",
    "mulf = Nc.MultiplicityFuncTinker.new ()\n",
    "#mulf = Nc.MultiplicityFuncBocquet.new ()\n",
    "mulf.set_mdef (Nc.MultiplicityFuncMassDef.CRITICAL)\n",
    "mulf.set_Delta (200.0)\n",
    "#\n",
    "# New mass function object using the objects defined above.\n",
    "#\n",
    "mf = Nc.HaloMassFunction.new (dist, psf, mulf)\n",
    "\n",
    "#mf.set_area_sd (skysim_cat.sky_area) # Not sure if this is the way to setup a sky area"
   ]
  },
  {
   "cell_type": "code",
   "execution_count": 10,
   "id": "40027059-c947-4796-9fb6-4c696ac5b050",
   "metadata": {},
   "outputs": [
    {
     "name": "stdout",
     "output_type": "stream",
     "text": [
      "33.33480359058475 34.53877639491068 33.33480359058475 34.538776394910684\n"
     ]
    }
   ],
   "source": [
    "#\n",
    "# New Cluster Mass object\n",
    "#\n",
    "lnM_min = math.log (mmin)\n",
    "lnM_max = math.log (mmax)\n",
    "\n",
    "# using Log normal distribution\n",
    "#cluster_m = Nc.ClusterMass.new_from_name (\"NcClusterMassLnnormal{'lnMobs-min':<%20.15e>, 'lnMobs-max':<%20.15e>}\" % (lnM_min, lnM_max))\n",
    "#cluster_m.props.bias       = 0.0\n",
    "#cluster_m.props.sigma      = 0.2\n",
    "#print(cluster_m.lnMobs_min, cluster_m.lnMobs_max, lnM_min, lnM_max)\n",
    "\n",
    "# no distribution - assumes masses are perfectly known\n",
    "cluster_m = Nc.ClusterMass.new_from_name (\"NcClusterMassNodist{'lnM-min':<%20.15e>, 'lnM-max':<%20.15e>}\" % (lnM_min, lnM_max))\n",
    "print(cluster_m.props.lnM_min, cluster_m.props.lnM_max, lnM_min, lnM_max)"
   ]
  },
  {
   "cell_type": "code",
   "execution_count": 11,
   "id": "1bbdf801-6a11-4f5d-a57f-5c6a146baad0",
   "metadata": {},
   "outputs": [
    {
     "name": "stdout",
     "output_type": "stream",
     "text": [
      "0.5 0.6 0.5 0.6\n"
     ]
    }
   ],
   "source": [
    "#\n",
    "# New Cluster Redshift object\n",
    "#\n",
    "\n",
    "# using a global gaussian distribution\n",
    "#cluster_z = Nc.ClusterRedshift.new_from_name (\"NcClusterPhotozGaussGlobal{'pz-min':<%20.15e>, 'pz-max':<%20.15e>, 'z-bias':<0.0>, 'sigma0':<0.03>}\" % (zmin, zmax))\n",
    "\n",
    "# no distribution - assumes redshifts are perfectly known\n",
    "cluster_z = Nc.ClusterRedshiftNodist(z_min = zmin, z_max=zmax)\n",
    "print(cluster_z.props.z_min, cluster_z.props.z_max, zmin, zmax)"
   ]
  },
  {
   "cell_type": "markdown",
   "id": "f17e8091-fd66-40d7-a0f1-6823a3d3b7ab",
   "metadata": {},
   "source": [
    "## Set up objects for the fit"
   ]
  },
  {
   "cell_type": "code",
   "execution_count": 12,
   "id": "a36fdc5d-9475-4795-a4f8-9a5b1756a971",
   "metadata": {},
   "outputs": [],
   "source": [
    "#\n",
    "# New Cluster abundance object that uses all objects above\n",
    "#\n",
    "cad = Nc.ClusterAbundance.new (mf, None)\n",
    "\n",
    "#\n",
    "# New NcmData object for number count calculations\n",
    "#\n",
    "ncdata = Nc.DataClusterNCount.new (cad, \"NcClusterRedshiftNodist\", \"NcClusterMassNodist\")\n",
    "\n",
    "#\n",
    "#  Creating a new Modelset and set cosmo as the HICosmo model to be used\n",
    "#  and cluster_m as the distribution of the mass-observable relation\n",
    "#\n",
    "mset = Ncm.MSet.new_array ([cosmo, cluster_z, cluster_m])\n",
    "\n"
   ]
  },
  {
   "cell_type": "code",
   "execution_count": 13,
   "id": "888fecf6-b907-4895-9c32-563a24871988",
   "metadata": {},
   "outputs": [],
   "source": [
    "#\n",
    "# Fill ncdata with SkySim masses and redshifts\n",
    "#\n",
    "\n",
    "ncdata.set_lnM_true(Ncm.Vector.new_array(np.log (data_m_ss)))\n",
    "ncdata.set_z_true(Ncm.Vector.new_array(data_z_ss))\n",
    "\n",
    "# Because we are using true masses and redshifts in this example,\n",
    "# we replicate the true data in the 'observed' masses and redshift attributes\n",
    "ncdata.set_lnM_obs (Ncm.Matrix.new_array (data_m_ss,1))\n",
    "ncdata.set_z_obs (Ncm.Matrix.new_array (data_z_ss,1))\n",
    "\n",
    "#ncdata.props.area = skysim_cat.sky_area\n",
    "mf.set_area_sd (skysim_cat.sky_area)\n",
    "ncdata.true_data (True)\n",
    "ncdata.set_init(True)\n",
    "\n",
    "# #\n",
    "# # Save to a fits file\n",
    "# #\n",
    "#ncdata.catalog_save (\"skysim%ld_data.fits\" % ahash, True)"
   ]
  },
  {
   "cell_type": "code",
   "execution_count": 14,
   "id": "26e27c9b-fe03-45ac-a985-b75f115ef329",
   "metadata": {},
   "outputs": [],
   "source": [
    "# If the catalog already exists, skip previous step and load it directly\n",
    "\n",
    "#ncdata.catalog_load(\"skysim5000_halos_m200c_13.fits\")"
   ]
  },
  {
   "cell_type": "markdown",
   "id": "473806cc-1391-4df1-8e6f-608419b01984",
   "metadata": {},
   "source": [
    "## Define free parameters and prepare likelihood"
   ]
  },
  {
   "cell_type": "code",
   "execution_count": 15,
   "id": "90a9acb6-b709-4806-9e44-3f247e676f2b",
   "metadata": {},
   "outputs": [],
   "source": [
    "cosmo.props.Omegac_fit    = True\n",
    "cosmo.props.Omegab_fit    = False\n",
    "prim.props.ln10e10ASA_fit = True\n",
    "\n",
    "# data set\n",
    "dset = Ncm.Dataset.new ()\n",
    "dset.append_data (ncdata)\n",
    "\n",
    "\n",
    "# New likelihood object using dset\n",
    "lh = Ncm.Likelihood.new (dset)\n"
   ]
  },
  {
   "cell_type": "markdown",
   "id": "10bf1bdd-1718-4f15-ac56-080f5e64f4f0",
   "metadata": {},
   "source": [
    "## Fit for parameters (Omegac, ln10e10ASA) --> (Omegam, sigma8)"
   ]
  },
  {
   "cell_type": "markdown",
   "id": "3d505651-aa91-49ae-af25-91e02e0b0629",
   "metadata": {},
   "source": [
    "### Simple fit"
   ]
  },
  {
   "cell_type": "code",
   "execution_count": 16,
   "id": "eede609b-a869-4582-acb5-b54d29a0fd1e",
   "metadata": {},
   "outputs": [
    {
     "name": "stdout",
     "output_type": "stream",
     "text": [
      "#----------------------------------------------------------------------------------\n",
      "# Model fitting. Interating using:\n",
      "#  - solver:            NLOpt:ln-neldermead\n",
      "#  - differentiation:   Numerical differentiantion (forward)\n",
      "#.................\n",
      "#  Minimum found with precision: |df|/f =  1.00000e-08 and |dx| =  1.00000e-05\n",
      "#  Elapsed time: 00 days, 00:00:13.5775080\n",
      "#  iteration            [000086]\n",
      "#  function evaluations [000088]\n",
      "#  gradient evaluations [000000]\n",
      "#  degrees of freedom   [000663]\n",
      "#  m2lnL     =    -325.646563830108 (    -325.64656 )\n",
      "#  Fit parameters:\n",
      "#     0.28531699921838     2.63394374313691    \n",
      "#----------------------------------------------------------------------------------\n",
      "# Data used:\n",
      "#   - Cluster abundance unbinned\n",
      "#----------------------------------------------------------------------------------\n",
      "# Model[03000]:\n",
      "#   - NcHICosmo : XCDM - Constant EOS\n",
      "#----------------------------------------------------------------------------------\n",
      "# Model parameters\n",
      "#   -         H0[00]:  71                  [FIXED]\n",
      "#   -     Omegac[01]:  0.28531699921838    [FREE]\n",
      "#   -     Omegak[02]:  0                   [FIXED]\n",
      "#   -    Tgamma0[03]:  2.7245              [FIXED]\n",
      "#   -         Yp[04]:  0.24                [FIXED]\n",
      "#   -       ENnu[05]:  3.046               [FIXED]\n",
      "#   -     Omegab[06]:  0.0448              [FIXED]\n",
      "#   -          w[07]: -1                   [FIXED]\n",
      "#----------------------------------------------------------------------------------\n",
      "# Model[05000]:\n",
      "#   - NcHIPrim : Power Law model for primordial spectra\n",
      "#----------------------------------------------------------------------------------\n",
      "# Model parameters\n",
      "#   - ln10e10ASA[00]:  2.63394374313691    [FREE]\n",
      "#   - T_SA_ratio[01]:  0.2                 [FIXED]\n",
      "#   -       n_SA[02]:  0.963               [FIXED]\n",
      "#   -        n_T[03]:  0                   [FIXED]\n",
      "#----------------------------------------------------------------------------------\n",
      "# Model[07000]:\n",
      "#   - NcClusterMass : No mass distribution\n",
      "#----------------------------------------------------------------------------------\n",
      "# Model parameters\n",
      "#----------------------------------------------------------------------------------\n",
      "# Model[08000]:\n",
      "#   - NcClusterRedshift : No redshift distribution\n",
      "#----------------------------------------------------------------------------------\n",
      "# Model parameters\n",
      "#----------------------------------------------------------------------------------\n",
      "# Model[13000]:\n",
      "#   - NcHIReion : Reion-CAMB\n",
      "#----------------------------------------------------------------------------------\n",
      "# Model parameters\n",
      "#   -       z_re[00]:  13                  [FIXED]\n",
      "#   -    z_He_re[01]:  3.5                 [FIXED]\n",
      "#----------------------------------------------------------------------------------\n",
      "# NcmMSet parameters covariance matrix\n",
      "#                                                      -------------------------------\n",
      "#     Omegac[03000:01] =  0.2853      +/-  0.04109     |  1           | -0.9992      |\n",
      "# ln10e10ASA[05000:00] =  2.634       +/-  0.2369      | -0.9992      |  1           |\n",
      "#                                                      -------------------------------\n"
     ]
    }
   ],
   "source": [
    "#\n",
    "#  Creating a Fit object of type NLOPT using the fitting algorithm ln-neldermead to\n",
    "#  fit the Modelset mset using the Likelihood lh and using a numerical differentiation\n",
    "#  algorithm (NUMDIFF_FORWARD) to obtain the gradient (if needed).\n",
    "#\n",
    "fit = Ncm.Fit.new (Ncm.FitType.NLOPT, \"ln-neldermead\", lh, mset, Ncm.FitGradType.NUMDIFF_FORWARD)\n",
    "\n",
    "fit.run (Ncm.FitRunMsgs.SIMPLE)\n",
    "\n",
    "#\n",
    "# Printing fitting informations.\n",
    "#\n",
    "fit.log_info ()\n",
    "fit.obs_fisher ()\n",
    "fit.log_covar ()"
   ]
  },
  {
   "cell_type": "code",
   "execution_count": 17,
   "id": "2c1d24c8-27ef-4eaf-9aac-2b6d45ca7c8b",
   "metadata": {},
   "outputs": [
    {
     "name": "stdout",
     "output_type": "stream",
     "text": [
      "0.28531699921837994 0.21999999999999997\n",
      "0.8 0.7655257329852131\n"
     ]
    }
   ],
   "source": [
    "print (cosmo.props.Omegac, cosmo_ss.Odm0)\n",
    "print(cosmo_ss.sigma8, cosmo.sigma8(psf))"
   ]
  },
  {
   "cell_type": "markdown",
   "id": "3a0b2fcf-998e-4a93-b31e-db3cae1b883d",
   "metadata": {},
   "source": [
    "### MCMC"
   ]
  },
  {
   "cell_type": "code",
   "execution_count": null,
   "id": "bf25f086-ef71-4b78-af9f-352a4da3c625",
   "metadata": {},
   "outputs": [
    {
     "name": "stdout",
     "output_type": "stream",
     "text": [
      "# NcmThreadPool:Unused:      0\n",
      "# NcmThreadPool:Max Unused:  2\n",
      "# NcmThreadPool:Running:     0\n",
      "# NcmThreadPool:Unprocessed: 0\n",
      "# NcmThreadPool:Unused:      50\n",
      "0.7655257329852131\n",
      "0.33011699921837995\n",
      "#----------------------------------------------------------------------------------\n",
      "# NcmFitESMCMC: Starting Ensamble Sampler Markov Chain Monte Carlo.\n",
      "#   Number of walkers: 0500.\n",
      "#   Number of threads: 0050.\n",
      "#   Using MPI:         no - use MPI enabled but no slaves available.\n",
      "# NcmFitESMCMC: No RNG was defined, using algorithm: `mt19937' and seed: 8180016.\n",
      "# NcmMSetCatalog: Current mean:   5721.7       1.0123       0.33082      0.28602      3.0679     \n",
      "# NcmMSetCatalog: Current msd:    319.44       0.016857     0.00042974   0.00042974   0.03056    \n",
      "# NcmMSetCatalog: Current sd:     7142.9       0.37694      0.0096092    0.0096092    0.68333    \n",
      "# NcmMSetCatalog: Current var:    5.102e+07    0.14208      9.2337e-05   9.2337e-05   0.46694    \n",
      "# NcmMSetCatalog: Current tau:    1            1            1            1            1          \n",
      "# NcmMSetCatalog: Current skfac: -nan         -nan         -nan         -nan         -nan        \n",
      "# NcmMSetCatalog: Maximal Shrink factor = 1e+10                 \n",
      "#----------------------------------------------------------------------------------\n",
      "# NcmMSetCatalog: Computing the constant break point for parameter `0', sample size `1':\n",
      "# NcmMSetCatalog: Constant break point at `0':\n",
      "# NcmFitESMCMC:last ensemble variance of -2ln(L):       51105040.9736437 (2n = 4), min(-2ln(L)) =      -325.605724432296.\n",
      "# Task:NcmFitESMCMC, completed: 500 of 500, elapsed time: 00:00:11.7391\n",
      "# Task:NcmFitESMCMC, mean time: 00:00:00.0234 +/- 00:00:00.0234\n",
      "# Task:NcmFitESMCMC, time left: 00:00:00.0000 +/- 00:00:00.0000\n",
      "# Task:NcmFitESMCMC, current time:        Fri Jul 08 2022, 13:03:08\n",
      "# Task:NcmFitESMCMC, estimated to end at: Fri Jul 08 2022, 13:03:08 +/- 00:00:00.0000\n",
      "# NcmFitESMCMC: Running first 49 pre-runs...\n",
      "#----------------------------------------------------------------------------------\n",
      "# NcmFitESMCMC: Calculating [000049] Ensemble Sampler Markov Chain Monte Carlo runs [APES-Move:VKDE:Cauchy]\n",
      "# Task:NcmFitESMCMC, started at: Fri Jul 08 2022, 13:02:56\n",
      "# NcmMSetCatalog: Current mean:   961.62       0.81318      0.32846      0.28366      2.7361     \n",
      "# NcmMSetCatalog: Current msd:    63.107       0.0031957    0.00051973   0.00051973   0.0067738  \n",
      "# NcmMSetCatalog: Current sd:     3733.5       0.18906      0.030747     0.030747     0.40074    \n",
      "# NcmMSetCatalog: Current var:    1.3939e+07   0.035744     0.0009454    0.0009454    0.1606     \n",
      "# NcmMSetCatalog: Current tau:    1            1            1            1            1          \n",
      "# NcmMSetCatalog: Current skfac:  1.0068       1.0199       1.0693       1.0693       1.0474     \n",
      "# NcmMSetCatalog: Maximal Shrink factor = 1.07251               \n",
      "#----------------------------------------------------------------------------------\n",
      "# NcmMSetCatalog: Computing the constant break point for parameter `0', sample size `7':\n",
      "# NcmMSetCatalog: Constant break point at `4':\n",
      "# NcmFitESMCMC:acceptance ratio 57.0000% (last update 50.8000%), offboard ratio  0.0000% (last update  0.0000%).\n",
      "# NcmFitESMCMC:last ensemble variance of -2ln(L):       11.6498755303927 (2n = 4), min(-2ln(L)) =      -325.637483643677.\n",
      "# Task:NcmFitESMCMC, completed: 3500 of 25000, elapsed time: 00:01:13.8361\n",
      "# Task:NcmFitESMCMC, mean time: 00:00:00.0211 +/- 00:00:00.0080\n",
      "# Task:NcmFitESMCMC, time left: 00:07:33.3893 +/- 00:02:51.4027\n",
      "# Task:NcmFitESMCMC, current time:        Fri Jul 08 2022, 13:04:10\n",
      "# Task:NcmFitESMCMC, estimated to end at: Fri Jul 08 2022, 13:11:44 +/- 00:02:51.4027\n",
      "# NcmMSetCatalog: Current mean:   676.04       0.80221      0.32991      0.28511      2.7108     \n",
      "# NcmMSetCatalog: Current msd:    49.724       0.0025083    0.00047817   0.00047817   0.0055078  \n",
      "# NcmMSetCatalog: Current sd:     3335.6       0.16826      0.032077     0.032077     0.36947    \n",
      "# NcmMSetCatalog: Current var:    1.1126e+07   0.028311     0.0010289    0.0010289    0.13651    \n",
      "# NcmMSetCatalog: Current tau:    1            1            1            1            1          \n",
      "# NcmMSetCatalog: Current skfac:  1.0033       1.0142       1.0725       1.0725       1.0403     \n",
      "# NcmMSetCatalog: Maximal Shrink factor = 1.07331               \n",
      "#----------------------------------------------------------------------------------\n",
      "# NcmMSetCatalog: Computing the constant break point for parameter `0', sample size `9':\n",
      "# NcmMSetCatalog: Constant break point at `6':\n",
      "# NcmFitESMCMC:acceptance ratio 54.1750% (last update 44.0000%), offboard ratio  0.0000% (last update  0.0000%).\n",
      "# NcmFitESMCMC:last ensemble variance of -2ln(L):       6.88982160943565 (2n = 4), min(-2ln(L)) =      -325.637518448957.\n",
      "# Task:NcmFitESMCMC, completed: 4500 of 25000, elapsed time: 00:01:34.4379\n",
      "# Task:NcmFitESMCMC, mean time: 00:00:00.0210 +/- 00:00:00.0070\n",
      "# Task:NcmFitESMCMC, time left: 00:07:10.0743 +/- 00:02:23.3566\n",
      "# Task:NcmFitESMCMC, current time:        Fri Jul 08 2022, 13:04:31\n",
      "# Task:NcmFitESMCMC, estimated to end at: Fri Jul 08 2022, 13:11:41 +/- 00:02:23.3566\n",
      "# NcmMSetCatalog: Current mean:   276.16       0.78675      0.33223      0.28743      2.6748     \n",
      "# NcmMSetCatalog: Current msd:    30.364       0.0015293    0.00040749   0.00040749   0.003724   \n",
      "# NcmMSetCatalog: Current sd:     2629.6       0.13244      0.035289     0.035289     0.3225     \n",
      "# NcmMSetCatalog: Current var:    6.915e+06    0.017542     0.0012453    0.0012453    0.10401    \n",
      "# NcmMSetCatalog: Current tau:    1            1            1            1            1          \n",
      "# NcmMSetCatalog: Current skfac:  1.0006       1.0086       1.0871       1.0871       1.0434     \n",
      "# NcmMSetCatalog: Maximal Shrink factor = 1.08715               \n",
      "#----------------------------------------------------------------------------------\n",
      "# NcmMSetCatalog: Computing the constant break point for parameter `0', sample size `15':\n",
      "# NcmMSetCatalog: Constant break point at `8':\n",
      "# NcmFitESMCMC:acceptance ratio 49.2000% (last update 41.8000%), offboard ratio  0.0000% (last update  0.0000%).\n",
      "# NcmFitESMCMC:last ensemble variance of -2ln(L):       3.87747110465269 (2n = 4), min(-2ln(L)) =      -325.643952214862.\n",
      "# Task:NcmFitESMCMC, completed: 7500 of 25000, elapsed time: 00:02:35.7606\n",
      "# Task:NcmFitESMCMC, mean time: 00:00:00.0208 +/- 00:00:00.0054\n",
      "# Task:NcmFitESMCMC, time left: 00:06:03.3757 +/- 00:01:33.7919\n",
      "# Task:NcmFitESMCMC, current time:        Fri Jul 08 2022, 13:05:32\n",
      "# Task:NcmFitESMCMC, estimated to end at: Fri Jul 08 2022, 13:11:36 +/- 00:01:33.7919\n",
      "# NcmMSetCatalog: Current mean:   176.2        0.7829       0.33297      0.28817      2.6655     \n",
      "# NcmMSetCatalog: Current msd:    25.413       0.0012817    0.00038634   0.00038634   0.0032755  \n",
      "# NcmMSetCatalog: Current sd:     2410.9       0.12159      0.036652     0.036652     0.31074    \n",
      "# NcmMSetCatalog: Current var:    5.8123e+06   0.014785     0.0013433    0.0013433    0.096562   \n",
      "# NcmMSetCatalog: Current tau:    1            1            1            1            1          \n",
      "# NcmMSetCatalog: Current skfac:  1.0002       1.0075       1.0826       1.0826       1.0437     \n",
      "# NcmMSetCatalog: Maximal Shrink factor = 1.08257               \n",
      "#----------------------------------------------------------------------------------\n",
      "# NcmMSetCatalog: Computing the constant break point for parameter `0', sample size `18':\n",
      "# NcmMSetCatalog: Constant break point at `8':\n",
      "# NcmFitESMCMC:acceptance ratio 48.3882% (last update 48.8000%), offboard ratio  0.0000% (last update  0.0000%).\n",
      "# NcmFitESMCMC:last ensemble variance of -2ln(L):       3.78973028067034 (2n = 4), min(-2ln(L)) =      -325.643952214862.\n",
      "# Task:NcmFitESMCMC, completed: 9000 of 25000, elapsed time: 00:03:06.5228\n",
      "# Task:NcmFitESMCMC, mean time: 00:00:00.0207 +/- 00:00:00.0049\n",
      "# Task:NcmFitESMCMC, time left: 00:05:31.5445 +/- 00:01:18.1108\n",
      "# Task:NcmFitESMCMC, current time:        Fri Jul 08 2022, 13:06:03\n",
      "# Task:NcmFitESMCMC, estimated to end at: Fri Jul 08 2022, 13:11:35 +/- 00:01:18.1108\n",
      "# NcmMSetCatalog: Current mean:   51.22        0.77828      0.33343      0.28863      2.6564     \n",
      "# NcmMSetCatalog: Current msd:    19.162       0.00096989   0.00034755   0.00034755   0.0026883  \n",
      "# NcmMSetCatalog: Current sd:     2099         0.10625      0.038073     0.038073     0.29449    \n",
      "# NcmMSetCatalog: Current var:    4.406e+06    0.011288     0.0014495    0.0014495    0.086726   \n",
      "# NcmMSetCatalog: Current tau:    1            1            1            1            1          \n",
      "# NcmMSetCatalog: Current skfac:  0.99994      1.0061       1.0681       1.0681       1.0407     \n",
      "# NcmMSetCatalog: Maximal Shrink factor = 1.0681                \n",
      "#----------------------------------------------------------------------------------\n",
      "# NcmMSetCatalog: Computing the constant break point for parameter `0', sample size `24':\n",
      "# NcmMSetCatalog: Constant break point at `8':\n",
      "# NcmFitESMCMC:acceptance ratio 46.8348% (last update 41.8000%), offboard ratio  0.0000% (last update  0.0000%).\n",
      "# NcmFitESMCMC:last ensemble variance of -2ln(L):       3.69384611548939 (2n = 4), min(-2ln(L)) =      -325.643952214862.\n",
      "# Task:NcmFitESMCMC, completed: 12000 of 25000, elapsed time: 00:04:08.2972\n",
      "# Task:NcmFitESMCMC, mean time: 00:00:00.0207 +/- 00:00:00.0042\n",
      "# Task:NcmFitESMCMC, time left: 00:04:28.9569 +/- 00:00:54.8677\n",
      "# Task:NcmFitESMCMC, current time:        Fri Jul 08 2022, 13:07:05\n",
      "# Task:NcmFitESMCMC, estimated to end at: Fri Jul 08 2022, 13:11:34 +/- 00:00:54.8677\n",
      "# NcmMSetCatalog: Current mean:   9.5664       0.77655      0.33398      0.28918      2.6512     \n",
      "# NcmMSetCatalog: Current msd:    17.063       0.00086586   0.00033225   0.00033225   0.0024916  \n",
      "# NcmMSetCatalog: Current sd:     1982.5       0.1006       0.038604     0.038604     0.2895     \n",
      "# NcmMSetCatalog: Current var:    3.9303e+06   0.010121     0.0014903    0.0014903    0.083808   \n",
      "# NcmMSetCatalog: Current tau:    1            1            1            1            1          \n",
      "# NcmMSetCatalog: Current skfac:  0.99988      1.0056       1.0624       1.0624       1.0382     \n",
      "# NcmMSetCatalog: Maximal Shrink factor = 1.06238               \n",
      "#----------------------------------------------------------------------------------\n",
      "# NcmMSetCatalog: Computing the constant break point for parameter `0', sample size `27':\n",
      "# NcmMSetCatalog: Constant break point at `8':\n",
      "# NcmFitESMCMC:acceptance ratio 46.3923% (last update 43.4000%), offboard ratio  0.0000% (last update  0.0000%).\n",
      "# NcmFitESMCMC:last ensemble variance of -2ln(L):       3.87451876352496 (2n = 4), min(-2ln(L)) =      -325.643952214862.\n",
      "# Task:NcmFitESMCMC, completed: 13500 of 25000, elapsed time: 00:04:39.7672\n",
      "# Task:NcmFitESMCMC, mean time: 00:00:00.0207 +/- 00:00:00.0040\n",
      "# Task:NcmFitESMCMC, time left: 00:03:58.2939 +/- 00:00:45.8311\n",
      "# Task:NcmFitESMCMC, current time:        Fri Jul 08 2022, 13:07:36\n",
      "# Task:NcmFitESMCMC, estimated to end at: Fri Jul 08 2022, 13:11:35 +/- 00:00:45.8311\n",
      "# NcmMSetCatalog: Current mean:  -51.027       0.77426      0.33427      0.28947      2.6462     \n",
      "# NcmMSetCatalog: Current msd:    13.996       0.00071349   0.00030344   0.00030344   0.0021808  \n",
      "# NcmMSetCatalog: Current sd:     1797.8       0.09165      0.038977     0.038977     0.28013    \n",
      "# NcmMSetCatalog: Current var:    3.2322e+06   0.0083997    0.0015192    0.0015192    0.078473   \n",
      "# NcmMSetCatalog: Current tau:    1            1            1            1            1          \n",
      "# NcmMSetCatalog: Current skfac:  0.99982      1.0054       1.0529       1.0529       1.0353     \n",
      "# NcmMSetCatalog: Maximal Shrink factor = 1.05287               \n",
      "#----------------------------------------------------------------------------------\n",
      "# NcmMSetCatalog: Computing the constant break point for parameter `0', sample size `33':\n",
      "# NcmMSetCatalog: Constant break point at `8':\n",
      "# NcmFitESMCMC:acceptance ratio 46.0250% (last update 44.2000%), offboard ratio  0.0000% (last update  0.0000%).\n",
      "# NcmFitESMCMC:last ensemble variance of -2ln(L):       3.29328154787981 (2n = 4), min(-2ln(L)) =      -325.645831534719.\n",
      "# Task:NcmFitESMCMC, completed: 16500 of 25000, elapsed time: 00:05:42.3527\n",
      "# Task:NcmFitESMCMC, mean time: 00:00:00.0207 +/- 00:00:00.0036\n",
      "# Task:NcmFitESMCMC, time left: 00:02:56.3442 +/- 00:00:30.6776\n",
      "# Task:NcmFitESMCMC, current time:        Fri Jul 08 2022, 13:08:39\n",
      "# Task:NcmFitESMCMC, estimated to end at: Fri Jul 08 2022, 13:11:35 +/- 00:00:30.6776\n",
      "# NcmMSetCatalog: Current mean:  -73.746       0.77329      0.33461      0.28981      2.6431     \n",
      "# NcmMSetCatalog: Current msd:    12.842       0.00065634   0.00029242   0.00029242   0.002063   \n",
      "# NcmMSetCatalog: Current sd:     1722.9       0.088057     0.039233     0.039233     0.27679    \n",
      "# NcmMSetCatalog: Current var:    2.9685e+06   0.0077541    0.0015392    0.0015392    0.07661    \n",
      "# NcmMSetCatalog: Current tau:    1            1            1            1            1          \n",
      "# NcmMSetCatalog: Current skfac:  0.99981      1.0052       1.0475       1.0475       1.0327     \n",
      "# NcmMSetCatalog: Maximal Shrink factor = 1.04752               \n",
      "#----------------------------------------------------------------------------------\n",
      "# NcmMSetCatalog: Computing the constant break point for parameter `0', sample size `36':\n",
      "# NcmMSetCatalog: Constant break point at `8':\n",
      "# NcmFitESMCMC:acceptance ratio 45.8800% (last update 43.6000%), offboard ratio  0.0000% (last update  0.0000%).\n",
      "# NcmFitESMCMC:last ensemble variance of -2ln(L):       3.68916644959056 (2n = 4), min(-2ln(L)) =      -325.645831534719.\n",
      "# Task:NcmFitESMCMC, completed: 18000 of 25000, elapsed time: 00:06:13.1427\n",
      "# Task:NcmFitESMCMC, mean time: 00:00:00.0207 +/- 00:00:00.0035\n",
      "# Task:NcmFitESMCMC, time left: 00:02:25.0992 +/- 00:00:24.1668\n",
      "# Task:NcmFitESMCMC, current time:        Fri Jul 08 2022, 13:09:10\n",
      "# Task:NcmFitESMCMC, estimated to end at: Fri Jul 08 2022, 13:11:35 +/- 00:00:24.1668\n",
      "# NcmMSetCatalog: Current mean:  -109.45       0.7718       0.33508      0.29028      2.6385     \n",
      "# NcmMSetCatalog: Current msd:    11.024       0.00056631   0.00027325   0.00027325   0.0018712  \n",
      "# NcmMSetCatalog: Current sd:     1597.5       0.082066     0.039598     0.039598     0.27116    \n",
      "# NcmMSetCatalog: Current var:    2.552e+06    0.0067348    0.001568     0.001568     0.07353    \n",
      "# NcmMSetCatalog: Current tau:    1            1            1            1            1          \n",
      "# NcmMSetCatalog: Current skfac:  0.9998       1.0045       1.0393       1.0393       1.0276     \n",
      "# NcmMSetCatalog: Maximal Shrink factor = 1.03938               \n",
      "#----------------------------------------------------------------------------------\n",
      "# NcmMSetCatalog: Computing the constant break point for parameter `0', sample size `42':\n",
      "# NcmMSetCatalog: Constant break point at `8':\n",
      "# NcmFitESMCMC:acceptance ratio 45.5024% (last update 46.2000%), offboard ratio  0.0000% (last update  0.0000%).\n",
      "# NcmFitESMCMC:last ensemble variance of -2ln(L):       4.18496910812509 (2n = 4), min(-2ln(L)) =      -325.645831534719.\n",
      "# Task:NcmFitESMCMC, completed: 21000 of 25000, elapsed time: 00:07:15.2123\n",
      "# Task:NcmFitESMCMC, mean time: 00:00:00.0207 +/- 00:00:00.0032\n",
      "# Task:NcmFitESMCMC, time left: 00:01:22.8918 +/- 00:00:12.7815\n",
      "# Task:NcmFitESMCMC, current time:        Fri Jul 08 2022, 13:10:12\n",
      "# Task:NcmFitESMCMC, estimated to end at: Fri Jul 08 2022, 13:11:35 +/- 00:00:12.7815\n",
      "# NcmMSetCatalog: Current mean:  -123.73       0.7712       0.33527      0.29047      2.6367     \n",
      "# NcmMSetCatalog: Current msd:    10.295       0.0005303    0.00026505   0.00026505   0.0017941  \n",
      "# NcmMSetCatalog: Current sd:     1544.3       0.079545     0.039757     0.039757     0.26911    \n",
      "# NcmMSetCatalog: Current var:    2.3848e+06   0.0063274    0.0015806    0.0015806    0.072421   \n",
      "# NcmMSetCatalog: Current tau:    1            1            1            1            1          \n",
      "# NcmMSetCatalog: Current skfac:  0.9998       1.0043       1.0361       1.0361       1.0258     \n",
      "# NcmMSetCatalog: Maximal Shrink factor = 1.03611               \n",
      "#----------------------------------------------------------------------------------\n",
      "# NcmMSetCatalog: Computing the constant break point for parameter `0', sample size `45':\n",
      "# NcmMSetCatalog: Constant break point at `8':\n",
      "# NcmFitESMCMC:acceptance ratio 45.2773% (last update 39.2000%), offboard ratio  0.0000% (last update  0.0000%).\n",
      "# NcmFitESMCMC:last ensemble variance of -2ln(L):       4.32581557346473 (2n = 4), min(-2ln(L)) =      -325.646291899408.\n",
      "# Task:NcmFitESMCMC, completed: 22500 of 25000, elapsed time: 00:07:46.3878\n",
      "# Task:NcmFitESMCMC, mean time: 00:00:00.0207 +/- 00:00:00.0031\n",
      "# Task:NcmFitESMCMC, time left: 00:00:51.8168 +/- 00:00:07.7188\n",
      "# Task:NcmFitESMCMC, current time:        Fri Jul 08 2022, 13:10:43\n",
      "# Task:NcmFitESMCMC, estimated to end at: Fri Jul 08 2022, 13:11:35 +/- 00:00:07.7188\n",
      "# NcmMSetCatalog: Current mean:  -143.72       0.7705       0.33533      0.29053      2.6355     \n",
      "# NcmMSetCatalog: Current msd:    9.2733       0.00047982   0.00025311   0.00025311   0.0016854  \n",
      "# NcmMSetCatalog: Current sd:     1466.2       0.075866     0.04002      0.04002      0.26649    \n",
      "# NcmMSetCatalog: Current var:    2.1499e+06   0.0057556    0.0016016    0.0016016    0.071017   \n",
      "# NcmMSetCatalog: Current tau:    1            1            1            1            1          \n",
      "# NcmMSetCatalog: Current skfac:  0.99981      1.0043       1.0321       1.0321       1.0238     \n",
      "# NcmMSetCatalog: Maximal Shrink factor = 1.03213               \n",
      "#----------------------------------------------------------------------------------\n",
      "# NcmMSetCatalog: Computing the constant break point for parameter `0', sample size `50':\n",
      "# NcmMSetCatalog: Constant break point at `8':\n",
      "# NcmFitESMCMC:acceptance ratio 45.0327% (last update 46.6000%), offboard ratio  0.0000% (last update  0.0000%).\n",
      "# NcmFitESMCMC:last ensemble variance of -2ln(L):        3.3574662571717 (2n = 4), min(-2ln(L)) =      -325.646291899408.\n",
      "# Task:NcmFitESMCMC, completed: 25000 of 25000, elapsed time: 00:08:38.4822\n",
      "# Task:NcmFitESMCMC, mean time: 00:00:00.0207 +/- 00:00:00.0029\n",
      "# Task:NcmFitESMCMC, time left: 00:00:00.0000 +/- 00:00:00.0000\n",
      "# Task:NcmFitESMCMC, current time:        Fri Jul 08 2022, 13:11:35\n",
      "# Task:NcmFitESMCMC, estimated to end at: Fri Jul 08 2022, 13:11:35 +/- 00:00:00.0000\n",
      "# NcmFitESMCMC: Largest relative error 1.000000e-03 not attained: 2.857071e-03\n",
      "# NcmFitESMCMC: ln (eVol) =                   -nan; ln (gVol) =      -3.21127993574415; lnNorm =                   -nan\n",
      "# NcmFitESMCMC: Running more 36 runs...\n",
      "#----------------------------------------------------------------------------------\n",
      "# NcmFitESMCMC: Calculating [000036] Ensemble Sampler Markov Chain Monte Carlo runs [APES-Move:VKDE:Cauchy]\n",
      "# Task:NcmFitESMCMC, started at: Fri Jul 08 2022, 13:02:57\n"
     ]
    }
   ],
   "source": [
    "#\n",
    "# Setting single thread calculation.\n",
    "#\n",
    "Ncm.func_eval_set_max_threads (50)\n",
    "Ncm.func_eval_log_pool_stats ()\n",
    "\n",
    "#\n",
    "# Additional functions as we want the chains for sigma8 and Omegam, which are derived parameters\n",
    "#\n",
    "mfunc_oa = Ncm.ObjArray.new ()\n",
    "\n",
    "mfunc_sigma8 = Ncm.MSetFuncList.new (\"NcHICosmo:sigma8\", psf)\n",
    "mfunc_Omegam = Ncm.MSetFuncList.new (\"NcHICosmo:Omega_m0\", None)\n",
    "\n",
    "mfunc_oa.add (mfunc_sigma8)\n",
    "mfunc_oa.add (mfunc_Omegam)\n",
    "\n",
    "print (mfunc_sigma8.eval0 (mset))\n",
    "print (mfunc_Omegam.eval0 (mset))\n",
    "\n",
    "#\n",
    "# New Gaussian prior to provide the initial points for the chain.\n",
    "# It was created with size 0 (number of parameters), but once \n",
    "# initialized with mset the correct size is assigned. \n",
    "#\n",
    "# The initial sampler will use a diagonal covariance with the\n",
    "# diagonal terms being the parameters scale set by each model.\n",
    "#\n",
    "init_sampler = Ncm.MSetTransKernGauss.new (0)\n",
    "init_sampler.set_mset (mset)\n",
    "init_sampler.set_prior_from_mset ()\n",
    "init_sampler.set_cov_from_rescale (1.0) #1\n",
    "\n",
    "#\n",
    "# Creates the ESMCMC walker object, this object is responsible\n",
    "# for moving the walkers in each interation, the stretch move\n",
    "# is affine invariant and therefore gives good results even for\n",
    "# very correlated parametric space.\n",
    "# \n",
    "sampler = 'apes'\n",
    "#sampler  = 'stretch'\n",
    "nwalkers = int (math.ceil (500)) #500\n",
    "#ssize    = 1000000 #1000000\n",
    "\n",
    "if sampler == 'apes':\n",
    "  walker = Ncm.FitESMCMCWalkerAPES.new (nwalkers, mset.fparams_len ())\n",
    "elif sampler == \"stretch\":\n",
    "  walker = Ncm.FitESMCMCWalkerStretch.new (nwalkers, mset.fparams_len ())\n",
    "#\n",
    "# The methods below set the walk scale, which controls the size of the\n",
    "# step done between two walkers and circumscribe the walkers inside\n",
    "# the box defined by the parameters inside the mset object.\n",
    "#\n",
    "#walker.set_scale (3.0)\n",
    "#walker.set_box_mset (mset)\n",
    "#\n",
    "# Initialize the ESMCMC object using the objects above. It will\n",
    "# use 50 walkers, i.e., each point in the MCMC chain contains\n",
    "# 50 points in the parametric space. Each step uses the last point\n",
    "# in the chain (the last 50 parametric points) to calculate the\n",
    "# proposal points.\n",
    "#\n",
    "esmcmc  = Ncm.FitESMCMC.new_funcs_array (fit, nwalkers, init_sampler, walker, Ncm.FitRunMsgs.SIMPLE, mfunc_oa)\n",
    "\n",
    "#\n",
    "# These methods enable the auto-trim options on ESMCMC. This option \n",
    "# makes the sampler check the chains' health and trim any unnecessary \n",
    "# burn-in part. We set the number of divisions to 100 so we test the\n",
    "# chains in blocks of n/100. The last method asserts that each 2min\n",
    "# the catalog will be checked.\n",
    "#\n",
    "#esmcmc.set_auto_trim (True)\n",
    "#esmcmc.set_auto_trim_div (100)\n",
    "#esmcmc.set_max_runs_time (2.0 * 60.0)\n",
    "#esmcmc.set_nthreads (4)\n",
    "esmcmc.set_data_file (\"Test_NC_%s_st_%d_true_hash_%ld.fits\" % (sampler, nwalkers, ahash))\n",
    "esmcmc.set_nthreads (50)\n",
    "\n",
    "#\n",
    "# Running the esmcmc, it will first calculate 1000 points, after that\n",
    "# it will estimate the error in the parameters mean. Using the current\n",
    "# errors the algorithm tries to calculated how many extra steps are \n",
    "# necessary to obtain the required error `10^-3' in every parameters,\n",
    "# and it will run such extra steps. It will repeat this procedure\n",
    "# until it attains the required error in every parameter.\n",
    "# \n",
    "#\n",
    "esmcmc.start_run ()\n",
    "#esmcmc.run (ssize / nwalkers)\n",
    "#esmcmc.run (10)\n",
    "esmcmc.run_lre (50, 1.0e-3)\n",
    "esmcmc.end_run ()\n",
    "\n",
    "#\n",
    "# Calculates the parameter means and covariance and set it into \n",
    "# the fit object and then print.\n",
    "# \n",
    "esmcmc.mean_covar ()\n",
    "fit.log_covar ()"
   ]
  },
  {
   "cell_type": "code",
   "execution_count": null,
   "id": "b48b658f-7e2c-4a12-a5be-6701304c988d",
   "metadata": {},
   "outputs": [],
   "source": [
    "mcat = esmcmc.peek_catalog ()"
   ]
  },
  {
   "cell_type": "code",
   "execution_count": null,
   "id": "33f0ae35-4780-4f7a-9eb1-b2dde0e29cdc",
   "metadata": {},
   "outputs": [],
   "source": [
    "from chainconsumer import ChainConsumer\n",
    "\n",
    "c = ChainConsumer()\n",
    "\n",
    "nwalkers = mcat.nchains ()\n",
    "m2lnL = mcat.get_m2lnp_var ()\n",
    "\n",
    "rows = np.array ([mcat.peek_row (i).dup_array () for i in range (nwalkers * 30, mcat.len ())])\n",
    "params = [\"$\" + mcat.col_symb (i) + \"$\" for i in range (mcat.ncols ())]\n",
    "\n",
    "posterior = -0.5 * rows[:,m2lnL]\n",
    "\n",
    "rows   = np.delete (rows,   m2lnL, 1)\n",
    "params = np.delete (params, m2lnL, 0)\n",
    "\n",
    "indices = [1,0]\n",
    "\n",
    "rows   = rows[:,indices]\n",
    "params = params[indices]\n",
    "\n",
    "c.add_chain(rows, posterior = posterior, parameters=list(params))\n",
    "c.configure (kde = True, label_font_size=11, sigma2d=False, sigmas = [1, 2, 3], spacing = 0.0, tick_font_size=11, usetex=False)\n",
    "\n",
    "plot_args = {}\n",
    "plot_args['truth'] = [cosmo_ss.Odm0 + cosmo_ss.Ob0, cosmo_ss.sigma8]\n",
    "plot_args['extents'] = [(0.2, 0.32),(0.75, 0.9)]\n",
    "\n",
    "fig = c.plotter.plot(**plot_args)\n",
    "\n",
    "fig.set_size_inches(14.0, 14.0)\n"
   ]
  },
  {
   "cell_type": "code",
   "execution_count": null,
   "id": "55366f63-9f76-413c-bca4-f4751aa7ac48",
   "metadata": {},
   "outputs": [],
   "source": [
    "ncdata.get_length ()"
   ]
  },
  {
   "cell_type": "code",
   "execution_count": null,
   "id": "8d261ba4-ce27-4130-bcc5-a01a1b368848",
   "metadata": {},
   "outputs": [],
   "source": [
    "skysim_cat.sky_area"
   ]
  },
  {
   "cell_type": "code",
   "execution_count": null,
   "id": "e5cc17fa-fb0f-4801-abb3-bed3ac2b2e3b",
   "metadata": {},
   "outputs": [],
   "source": [
    "ntests   = 100.0\n",
    "mcat.log_current_chain_stats ()\n",
    "mcat.calc_max_ess_time (ntests, Ncm.FitRunMsgs.FULL);\n",
    "mcat.calc_heidel_diag (ntests, 0.0, Ncm.FitRunMsgs.FULL);\n",
    "\n",
    "mset.pretty_log ()\n",
    "mcat.log_full_covar ()\n",
    "mcat.log_current_stats ()\n",
    "\n",
    "be, post_lnnorm_sd = mcat.get_post_lnnorm ()\n",
    "lnevol, glnvol = mcat.get_post_lnvol (0.9544)\n",
    "print(lnevol)\n",
    "\n",
    "Ncm.cfg_msg_sepa ()\n",
    "print (\"# Bayesian evidence:                                 % 22.15g +/- % 22.15g\" % (be, post_lnnorm_sd))\n",
    "print (\"# 1 sigma posterior volume:                          % 22.15g\" % lnevol)\n",
    "print (\"# 1 sigma posterior volume (Gaussian approximation): % 22.15g\" % glnvol)"
   ]
  },
  {
   "cell_type": "code",
   "execution_count": null,
   "id": "e1dc13d0-4937-416f-b332-0745774e932d",
   "metadata": {},
   "outputs": [],
   "source": [
    "#list(np.sort(skysim_cat.list_all_native_quantities ()))"
   ]
  },
  {
   "cell_type": "code",
   "execution_count": null,
   "id": "c2761df1-9fb0-4104-a5c5-da5605b9f07a",
   "metadata": {},
   "outputs": [],
   "source": [
    "print (skysim_cat.get_quantity_info (\"hostHaloMass\"))\n",
    "print (skysim_cat.get_quantity_info (\"baseDC2/sod_halo_cdelta\"))\n",
    "print (skysim_cat.get_quantity_info (\"baseDC2/sod_halo_mass\"))\n"
   ]
  },
  {
   "cell_type": "code",
   "execution_count": null,
   "id": "5fe35408-4de4-4324-9872-77b989efca2a",
   "metadata": {},
   "outputs": [],
   "source": [
    "skysim_cat.halo_mass_def"
   ]
  },
  {
   "cell_type": "code",
   "execution_count": null,
   "id": "50af16c2-16fd-4cb3-9f8f-37d366e7d1c8",
   "metadata": {},
   "outputs": [],
   "source": [
    "plt.figure(dpi=120)\n",
    "\n",
    "zbmin = zmin\n",
    "zbmax = zmax\n",
    "\n",
    "#zbmin = 0.0\n",
    "#zbmax = 0.5\n",
    "\n",
    "ff = (data_z_ss >= zbmin) * (data_z_ss < zbmax)\n",
    "\n",
    "n, bins, patches = plt.hist (np.log(data_m_ss[ff]),bins=50,range=(np.log(mmin), np.log(mmax)))\n",
    "\n",
    "a1=[]\n",
    "a2=[]\n",
    "\n",
    "m2lnL = 0.0\n",
    "\n",
    "for bi, bi_1, nci in zip (bins[:-1], bins[1:], n):\n",
    "    ni = mf.n (cosmo, bi, bi_1, zbmin, zbmax, Nc.HaloMassFunctionSplineOptimize.NONE)\n",
    "    a1.append(0.5*(bi + bi_1))    \n",
    "    a2.append (ni)\n",
    "    m2lnL = m2lnL + 2.0 * (ni - nci * math.log (ni))\n",
    "\n",
    "plt.plot (a1, a2, c='r')\n",
    "\n",
    "Ntheo = mf.n (cosmo, lnM_min, lnM_max, zbmin, zbmax, Nc.HaloMassFunctionSplineOptimize.NONE)\n",
    "Ndata = ncdata.get_len ()\n",
    "print (\"FFIT\", Ntheo, Ndata, m2lnL, math.sqrt (Ntheo))\n",
    "cosmo.params_log_all ()\n",
    "\n",
    "Omegac_fit = cosmo.param_get_by_name (\"Omegac\")\n",
    "ln10e10ASA_fit = prim.props.ln10e10ASA\n",
    "\n",
    "cosmo.param_set_by_name (\"Omegac\", 0.22)\n",
    "prim.props.ln10e10ASA = 3.0813\n",
    "\n",
    "mf.prepare (cosmo)\n",
    "cad.prepare (cosmo, cluster_z, cluster_m)\n",
    "\n",
    "a1=[]\n",
    "a2=[]\n",
    "\n",
    "m2lnL = 0.0\n",
    "\n",
    "for bi, bi_1, nci in zip (bins[:-1], bins[1:], n):\n",
    "    ni = mf.n (cosmo, bi, bi_1, zbmin, zbmax, Nc.HaloMassFunctionSplineOptimize.NONE)\n",
    "    a1.append(0.5*(bi + bi_1))\n",
    "    a2.append (ni)\n",
    "    m2lnL = m2lnL + 2.0 * (ni - nci * math.log (ni))\n",
    "    \n",
    "plt.plot (a1, a2, c='k')\n",
    "\n",
    "plt.xlim(np.log(mmin), np.log(mmax))\n",
    "\n",
    "Ntheo = mf.n (cosmo, lnM_min, lnM_max, zbmin, zbmax, Nc.HaloMassFunctionSplineOptimize.NONE)\n",
    "Ndata = ncdata.get_len ()\n",
    "print (\"NFIT\", Ntheo, Ndata, m2lnL, math.sqrt (Ntheo))\n",
    "cosmo.params_log_all ()\n",
    "\n",
    "cosmo.param_set_by_name (\"Omegac\", Omegac_fit)\n",
    "prim.props.ln10e10ASA = ln10e10ASA_fit\n",
    "\n",
    "mf.prepare (cosmo)\n",
    "cad.prepare (cosmo, cluster_z, cluster_m)\n"
   ]
  },
  {
   "cell_type": "code",
   "execution_count": null,
   "id": "d1d82f83-716a-4e07-b11f-40c1271f54dc",
   "metadata": {},
   "outputs": [],
   "source": [
    "plt.figure(dpi=120)\n",
    "\n",
    "#bunga = dm_halos['baseDC2/redshift'][filt]\n",
    "#bunga = dm_halos['redshift'][filt]\n",
    "bunga = data_z_ss\n",
    "\n",
    "n, bins, patches = plt.hist (bunga, bins=50,range=(zmin, zmax))\n",
    "\n",
    "a1=[]\n",
    "a2=[]\n",
    "\n",
    "m2lnL = 0.0\n",
    "\n",
    "for bi, bi_1, nci in zip (bins[:-1], bins[1:], n):\n",
    "    ni = mf.n (cosmo, lnM_min, lnM_max, bi, bi_1, Nc.HaloMassFunctionSplineOptimize.NONE)\n",
    "    a1.append(0.5*(bi + bi_1))    \n",
    "    a2.append (ni)\n",
    "    m2lnL = m2lnL + 2.0 * (ni - nci * math.log (ni))\n",
    "\n",
    "    \n",
    "plt.plot (a1, a2, c='r')\n",
    "\n",
    "Ntheo = mf.n (cosmo, lnM_min, lnM_max, zbmin, zbmax, Nc.HaloMassFunctionSplineOptimize.NONE)\n",
    "Ndata = ncdata.get_len ()\n",
    "print (\"FFIT\", Ntheo, Ndata, m2lnL, math.sqrt (Ntheo))\n",
    "cosmo.params_log_all ()\n",
    "\n",
    "Omegac_fit = cosmo.param_get_by_name (\"Omegac\")\n",
    "ln10e10ASA_fit = prim.props.ln10e10ASA\n",
    "\n",
    "cosmo.param_set_by_name (\"Omegac\", 0.22)\n",
    "prim.props.ln10e10ASA = 3.0813\n",
    "\n",
    "mf.prepare (cosmo)\n",
    "cad.prepare (cosmo, cluster_z, cluster_m)\n",
    "\n",
    "a1=[]\n",
    "a2=[]\n",
    "\n",
    "m2lnL = 0.0\n",
    "\n",
    "for bi, bi_1, nci in zip (bins[:-1], bins[1:], n):\n",
    "    ni = mf.n (cosmo, lnM_min, lnM_max, bi, bi_1, Nc.HaloMassFunctionSplineOptimize.NONE)\n",
    "    a1.append(0.5*(bi + bi_1))    \n",
    "    a2.append (ni)\n",
    "    m2lnL = m2lnL + 2.0 * (ni - nci * math.log (ni))\n",
    "\n",
    "    \n",
    "plt.plot (a1, a2, c='k')\n",
    "\n",
    "Ntheo = mf.n (cosmo, lnM_min, lnM_max, zbmin, zbmax, Nc.HaloMassFunctionSplineOptimize.NONE)\n",
    "Ndata = ncdata.get_len ()\n",
    "print (\"NFIT\", Ntheo, Ndata, m2lnL, math.sqrt (Ntheo))\n",
    "cosmo.params_log_all ()\n",
    "\n",
    "cosmo.param_set_by_name (\"Omegac\", Omegac_fit)\n",
    "prim.props.ln10e10ASA = ln10e10ASA_fit\n",
    "\n",
    "mf.prepare (cosmo)\n",
    "cad.prepare (cosmo, cluster_z, cluster_m)\n"
   ]
  },
  {
   "cell_type": "code",
   "execution_count": null,
   "id": "7ec3ed58-ce4f-4abf-a4c8-e25950720196",
   "metadata": {},
   "outputs": [],
   "source": [
    "sorted(skysim_cat.list_all_native_quantities ())"
   ]
  },
  {
   "cell_type": "markdown",
   "id": "e7566bf1-3a81-4337-815a-ccaf30d1c2f4",
   "metadata": {},
   "source": [
    "### "
   ]
  }
 ],
 "metadata": {
  "kernelspec": {
   "display_name": "NumCosmo",
   "language": "python",
   "name": "numcosmo"
  },
  "language_info": {
   "codemirror_mode": {
    "name": "ipython",
    "version": 3
   },
   "file_extension": ".py",
   "mimetype": "text/x-python",
   "name": "python",
   "nbconvert_exporter": "python",
   "pygments_lexer": "ipython3",
   "version": "3.9.7"
  },
  "toc-autonumbering": true
 },
 "nbformat": 4,
 "nbformat_minor": 5
}
