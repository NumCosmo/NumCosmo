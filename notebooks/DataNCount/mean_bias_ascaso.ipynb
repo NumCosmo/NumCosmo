{
 "cells": [
  {
   "cell_type": "code",
   "execution_count": 1,
   "metadata": {},
   "outputs": [],
   "source": [
    "  #!/usr/bin/env python\n",
    "\n",
    "try:\n",
    "    import gi\n",
    "    gi.require_version('NumCosmo', '1.0')\n",
    "    gi.require_version('NumCosmoMath', '1.0')\n",
    "except:\n",
    "    pass\n",
    "\n",
    "import math\n",
    "import matplotlib.pyplot as plt\n",
    "from gi.repository import GObject\n",
    "from gi.repository import NumCosmo as Nc\n",
    "from gi.repository import NumCosmoMath as Ncm\n",
    "import numpy as np\n",
    "from astropy.io import fits\n",
    "from astropy.table import Table\n",
    "import sys\n",
    "sys.path.insert(0,'/home/henrique/Programas_Cosmologia/CLCosmo_Sim/cluster_abundance/')\n",
    "sys.path.insert(0,'../../scripts')\n",
    "\n",
    "import pyccl as ccl\n",
    "%load_ext autoreload\n",
    "%autoreload 2\n",
    "import CL_COUNT_class_cluster_abundance as cl_count\n",
    "import time\n",
    "from nc_ccl import create_nc_obj, ccl_cosmo_set_high_prec\n",
    "\n",
    "Ncm.cfg_init()\n",
    "Ncm.cfg_set_log_handler (lambda msg: sys.stdout.write (msg) and sys.stdout.flush ())"
   ]
  },
  {
   "cell_type": "markdown",
   "metadata": {},
   "source": [
    "initialize the `Cosmological model`"
   ]
  },
  {
   "cell_type": "code",
   "execution_count": 2,
   "metadata": {},
   "outputs": [],
   "source": [
    "cosmo = Nc.HICosmo.new_from_name(Nc.HICosmo, \"NcHICosmoDEXcdm\")\n",
    "reion = Nc.HIReionCamb.new () \n",
    "\n",
    "prim = Nc.HIPrimPowerLaw.new () \n",
    "\n",
    "cosmo.add_submodel (reion)\n",
    "cosmo.add_submodel (prim)\n",
    "\n",
    "dist = Nc.Distance.new(2.0)\n",
    "\n",
    "tf = Nc.TransferFunc.new_from_name('NcTransferFuncEH')\n",
    "\n",
    "psml = Nc.PowspecMLTransfer.new (tf)\n",
    "psml.require_kmin (1.0e-3)\n",
    "psml.require_kmax (1.0e3)\n",
    "psf = Ncm.PowspecFilter.new (psml, Ncm.PowspecFilterType.TOPHAT)\n",
    "psf.set_best_lnr0 ()\n",
    "\n",
    "mulf = Nc.MultiplicityFuncBocquet.new ()\n",
    "mulf.set_mdef (Nc.MultiplicityFuncMassDef.CRITICAL)\n",
    "mulf.set_Delta (200.0)\n",
    "mulf.set_sim (Nc.MultiplicityFuncBocquetSim.DM)\n",
    "\n",
    "hmf = Nc.HaloMassFunction.new (dist, psf, mulf)\n",
    "hmf.set_area((0.0005)*np.pi)\n",
    "\n",
    "#Creating the halo bias \n",
    "hbias_ps = Nc.HaloBiasTypePS()\n",
    "mbiasf = Nc.HaloBiasFunc.new(hmf, hbias_ps)"
   ]
  },
  {
   "cell_type": "markdown",
   "metadata": {},
   "source": [
    "# Define proxy modelling\n",
    "Use a mass proxy, define the probability for observing a proxy given a mass and redhsift"
   ]
  },
  {
   "cell_type": "markdown",
   "metadata": {},
   "source": [
    "$$\n",
    "P(\\log\\lambda|M,z) = N(\\mu(M,z), \\sigma^2(M,z))\n",
    "$$\n",
    "the mean is\n",
    "$$\n",
    "    \\mu(M,z) = \\mu_0 + a_\\mu^M\\log_{10}\\frac{M}{M_0} + a_\\mu^z\\log_{10}\\frac{1+z}{1+z_0} \n",
    "$$\n",
    "variance is\n",
    "$$\n",
    "\\sigma(M,z) = \\sigma_0 + a_\\sigma^M\\log_{10}\\frac{M}{M_0} + a_\\sigma ^z\\log_{10}\\frac{1+z}{1+z_0} \n",
    "$$"
   ]
  },
  {
   "cell_type": "code",
   "execution_count": 3,
   "metadata": {},
   "outputs": [],
   "source": [
    "cluster_z = Nc.ClusterRedshift.new_from_name(\"NcClusterRedshiftNodist{'z-min': <%20.15e>, 'z-max':<%20.15e>}\" % (0,2))\n",
    "cluster_m = Nc.ClusterMass.new_from_name(\"NcClusterMassAscaso{'M0':<%20.15e>,'z0':<%20.15e>,'lnRichness-min':<%20.15e>, 'lnRichness-max':<%20.15e>}\" % (3e14/(0.71),0.6, 0, np.log(10) * np.log10(10e6)))\n",
    "cluster_m.param_set_by_name('mup0', 3.19)\n",
    "cluster_m.param_set_by_name('mup1', 2/np.log(10))\n",
    "cluster_m.param_set_by_name('mup2', -0.7/np.log(10))\n",
    "cluster_m.param_set_by_name('sigmap0', 0.33)\n",
    "cluster_m.param_set_by_name('sigmap1', -0.08/np.log(10))\n",
    "cluster_m.param_set_by_name('sigmap2', 0/np.log(10))"
   ]
  },
  {
   "cell_type": "markdown",
   "metadata": {},
   "source": [
    "Create the `Cluster Abundance Data`"
   ]
  },
  {
   "cell_type": "code",
   "execution_count": 4,
   "metadata": {},
   "outputs": [
    {
     "name": "stdout",
     "output_type": "stream",
     "text": [
      "#----------------------------------------------------------------------------------\n",
      "# Model[03000]:\n",
      "#   - NcHICosmo : XCDM - Constant EOS\n",
      "#----------------------------------------------------------------------------------\n",
      "# Model parameters\n",
      "#   -         H0[00]:  67.36               [FIXED]\n",
      "#   -     Omegac[01]:  0.2568              [FIXED]\n",
      "#   -     Omegax[02]:  0.7                 [FIXED]\n",
      "#   -    Tgamma0[03]:  2.7245              [FIXED]\n",
      "#   -         Yp[04]:  0.24                [FIXED]\n",
      "#   -       ENnu[05]:  3.046               [FIXED]\n",
      "#   -     Omegab[06]:  0.0432              [FIXED]\n",
      "#   -          w[07]: -1                   [FIXED]\n",
      "#----------------------------------------------------------------------------------\n",
      "# Model[05000]:\n",
      "#   - NcHIPrim : Power Law model for primordial spectra\n",
      "#----------------------------------------------------------------------------------\n",
      "# Model parameters\n",
      "#   - ln10e10ASA[00]:  3.179               [FIXED]\n",
      "#   - T_SA_ratio[01]:  0.2                 [FIXED]\n",
      "#   -       n_SA[02]:  0.9742              [FIXED]\n",
      "#   -        n_T[03]:  0                   [FIXED]\n",
      "#----------------------------------------------------------------------------------\n",
      "# Model[07000]:\n",
      "#   - NcClusterMass : Ascaso Ln-normal richness distribution\n",
      "#----------------------------------------------------------------------------------\n",
      "# Model parameters\n",
      "#   -       mup0[00]:  3.19                [FIXED]\n",
      "#   -       mup1[01]:  0.868588963806504   [FIXED]\n",
      "#   -       mup2[02]: -0.304006137332276   [FIXED]\n",
      "#   -    sigmap0[03]:  0.33                [FIXED]\n",
      "#   -    sigmap1[04]: -0.0347435585522601  [FIXED]\n",
      "#   -    sigmap2[05]:  0                   [FIXED]\n",
      "#----------------------------------------------------------------------------------\n",
      "# Model[08000]:\n",
      "#   - NcClusterRedshift : No redshift distribution\n",
      "#----------------------------------------------------------------------------------\n",
      "# Model parameters\n",
      "#----------------------------------------------------------------------------------\n",
      "# Model[13000]:\n",
      "#   - NcHIReion : Reion-CAMB\n",
      "#----------------------------------------------------------------------------------\n",
      "# Model parameters\n",
      "#   -       z_re[00]:  13                  [FIXED]\n",
      "#   -    z_He_re[01]:  3.5                 [FIXED]\n"
     ]
    }
   ],
   "source": [
    "ca = Nc.ClusterAbundance.new(hmf,mbiasf)\n",
    "mset = Ncm.MSet.new_array([cosmo,cluster_m,cluster_z])\n",
    "\n",
    "#Generates cluster count catalog data\n",
    "\n",
    "\n",
    "ncdata = Nc.DataClusterNCount.new(ca,'NcClusterRedshiftNodist','NcClusterMassAscaso')\n",
    "rng = Ncm.RNG.pool_get(\"example_ca_sampling\");\n",
    "ncdata.init_from_sampling(mset,(0.0005)*np.pi,rng)\n",
    "ncdata.catalog_save(\"ca_mean_bias_ascaso.fits\", True)\n",
    "\n",
    "ncdata_fits = fits.open('ca_mean_bias_ascaso.fits')\n",
    "#ncdata_fits.info()\n",
    "\n",
    "ncdata_data =  ncdata_fits[1].data\n",
    "\n",
    "ncdata_Table = Table(ncdata_data)\n",
    "ncdata_Table.columns\n",
    "ncdata_Table.sort('Z_TRUE')\n",
    "mset.pretty_log()\n"
   ]
  },
  {
   "cell_type": "markdown",
   "metadata": {},
   "source": [
    "# Un-binned approach"
   ]
  },
  {
   "cell_type": "markdown",
   "metadata": {},
   "source": [
    "$$\n",
    "x_i = \\int_{\\log_{10}M_{min}}^{\\log_{10}M_{max}}\\frac{d^2V(z_i)}{dz d\\Omega}\\frac{dn(M,z_i)}{d\\log_{10}M}P(\\lambda_i|M,z_i)b(M,z_i) d\\log_{10}M\n",
    "$$"
   ]
  },
  {
   "cell_type": "code",
   "execution_count": 6,
   "metadata": {},
   "outputs": [
    {
     "data": {
      "text/html": [
       "<div><i>Table length=12365</i>\n",
       "<table id=\"table140143249258288\" class=\"table-striped table-bordered table-condensed\">\n",
       "<thead><tr><th>Z_OBS</th><th>LNM_OBS</th><th>Z_TRUE</th><th>LNM_TRUE</th></tr></thead>\n",
       "<thead><tr><th>float64</th><th>float64</th><th>float64</th><th>float64</th></tr></thead>\n",
       "<tr><td>0.06995504829395446</td><td>0.9787360327553738</td><td>0.06995504829395446</td><td>31.082030869650588</td></tr>\n",
       "<tr><td>0.08350670997616837</td><td>1.6422895444599972</td><td>0.08350670997616837</td><td>31.753855188773095</td></tr>\n",
       "<tr><td>0.08758075309927918</td><td>1.954219370855404</td><td>0.08758075309927918</td><td>32.19291522623267</td></tr>\n",
       "<tr><td>0.0969605107435312</td><td>1.0220202019128672</td><td>0.0969605107435312</td><td>31.071930326385534</td></tr>\n",
       "<tr><td>0.10564334748414914</td><td>0.7020793355277206</td><td>0.10564334748414914</td><td>31.124717691071613</td></tr>\n",
       "<tr><td>0.1068233309705027</td><td>0.9610714904929332</td><td>0.1068233309705027</td><td>30.008018812923613</td></tr>\n",
       "<tr><td>0.11765674012388246</td><td>0.19760626356254804</td><td>0.11765674012388246</td><td>30.251392268706617</td></tr>\n",
       "<tr><td>0.11914761034453737</td><td>0.08659748228875613</td><td>0.11914761034453737</td><td>30.54242622681923</td></tr>\n",
       "<tr><td>0.12114714692400483</td><td>1.0135078651866318</td><td>0.12114714692400483</td><td>31.819603270087985</td></tr>\n",
       "<tr><td>0.13495874027328503</td><td>0.6629121118928246</td><td>0.13495874027328503</td><td>30.75766822635108</td></tr>\n",
       "<tr><td>...</td><td>...</td><td>...</td><td>...</td></tr>\n",
       "<tr><td>1.9987043002980593</td><td>0.18712015921811412</td><td>1.9987043002980593</td><td>30.32579493832817</td></tr>\n",
       "<tr><td>1.9989636818942238</td><td>0.6702320888911806</td><td>1.9989636818942238</td><td>30.282440922565485</td></tr>\n",
       "<tr><td>1.9989834347155864</td><td>0.42215537058170505</td><td>1.9989834347155864</td><td>30.785439930988538</td></tr>\n",
       "<tr><td>1.9990860567364153</td><td>1.015285476439231</td><td>1.9990860567364153</td><td>30.22680696692287</td></tr>\n",
       "<tr><td>1.9992067152109765</td><td>0.8320515953937375</td><td>1.9992067152109765</td><td>30.147888286029666</td></tr>\n",
       "<tr><td>1.999427524068233</td><td>0.29604337726107355</td><td>1.999427524068233</td><td>31.18990777699556</td></tr>\n",
       "<tr><td>1.9996506353545143</td><td>0.20043252297422087</td><td>1.9996506353545143</td><td>30.01841590108488</td></tr>\n",
       "<tr><td>1.9996814542269428</td><td>1.2118284211336168</td><td>1.9996814542269428</td><td>31.539067511986836</td></tr>\n",
       "<tr><td>1.999752508718748</td><td>0.2411952523349028</td><td>1.999752508718748</td><td>30.524732086569305</td></tr>\n",
       "<tr><td>1.999755540772225</td><td>1.3358061651742341</td><td>1.999755540772225</td><td>31.72858636300411</td></tr>\n",
       "</table></div>"
      ],
      "text/plain": [
       "<Table length=12365>\n",
       "       Z_OBS              LNM_OBS              Z_TRUE            LNM_TRUE     \n",
       "      float64             float64             float64            float64      \n",
       "------------------- ------------------- ------------------- ------------------\n",
       "0.06995504829395446  0.9787360327553738 0.06995504829395446 31.082030869650588\n",
       "0.08350670997616837  1.6422895444599972 0.08350670997616837 31.753855188773095\n",
       "0.08758075309927918   1.954219370855404 0.08758075309927918  32.19291522623267\n",
       " 0.0969605107435312  1.0220202019128672  0.0969605107435312 31.071930326385534\n",
       "0.10564334748414914  0.7020793355277206 0.10564334748414914 31.124717691071613\n",
       " 0.1068233309705027  0.9610714904929332  0.1068233309705027 30.008018812923613\n",
       "0.11765674012388246 0.19760626356254804 0.11765674012388246 30.251392268706617\n",
       "0.11914761034453737 0.08659748228875613 0.11914761034453737  30.54242622681923\n",
       "0.12114714692400483  1.0135078651866318 0.12114714692400483 31.819603270087985\n",
       "0.13495874027328503  0.6629121118928246 0.13495874027328503  30.75766822635108\n",
       "                ...                 ...                 ...                ...\n",
       " 1.9987043002980593 0.18712015921811412  1.9987043002980593  30.32579493832817\n",
       " 1.9989636818942238  0.6702320888911806  1.9989636818942238 30.282440922565485\n",
       " 1.9989834347155864 0.42215537058170505  1.9989834347155864 30.785439930988538\n",
       " 1.9990860567364153   1.015285476439231  1.9990860567364153  30.22680696692287\n",
       " 1.9992067152109765  0.8320515953937375  1.9992067152109765 30.147888286029666\n",
       "  1.999427524068233 0.29604337726107355   1.999427524068233  31.18990777699556\n",
       " 1.9996506353545143 0.20043252297422087  1.9996506353545143  30.01841590108488\n",
       " 1.9996814542269428  1.2118284211336168  1.9996814542269428 31.539067511986836\n",
       "  1.999752508718748  0.2411952523349028   1.999752508718748 30.524732086569305\n",
       "  1.999755540772225  1.3358061651742341   1.999755540772225  31.72858636300411"
      ]
     },
     "metadata": {},
     "output_type": "display_data"
    },
    {
     "ename": "",
     "evalue": "",
     "output_type": "error",
     "traceback": [
      "\u001b[1;31mCanceled future for execute_request message before replies were done"
     ]
    },
    {
     "ename": "",
     "evalue": "",
     "output_type": "error",
     "traceback": [
      "\u001b[1;31mThe Kernel crashed while executing code in the the current cell or a previous cell. Please review the code in the cell(s) to identify a possible cause of the failure. Click <a href='https://aka.ms/vscodeJupyterKernelCrash'>here</a> for more info. View Jupyter <a href='command:jupyter.viewOutput'>log</a> for further details."
     ]
    }
   ],
   "source": [
    "display(ncdata_Table)\n",
    "ca.prepare(cosmo,cluster_z,cluster_m)\n",
    "\n",
    "\n",
    "print(ca.mean_bias(cosmo, cluster_z, cluster_m))\n",
    "dnbias = []\n",
    "i = 0\n",
    "for cluster in ncdata_Table:\n",
    "    i +=1\n",
    "    dnbias.append(ca.intp_d2n_bias(cosmo, cluster_z, cluster_m, [cluster[1]], None, [cluster[0]], None ))"
   ]
  }
 ],
 "metadata": {
  "kernelspec": {
   "display_name": "Python 3.8.10 64-bit",
   "language": "python",
   "name": "python3"
  },
  "language_info": {
   "codemirror_mode": {
    "name": "ipython",
    "version": 3
   },
   "file_extension": ".py",
   "mimetype": "text/x-python",
   "name": "python",
   "nbconvert_exporter": "python",
   "pygments_lexer": "ipython3",
   "version": "3.8.10"
  },
  "orig_nbformat": 4,
  "vscode": {
   "interpreter": {
    "hash": "916dbcbb3f70747c44a77c7bcd40155683ae19c65e1c03b4aa3499c5328201f1"
   }
  }
 },
 "nbformat": 4,
 "nbformat_minor": 2
}
