{
 "cells": [
  {
   "cell_type": "code",
   "execution_count": 2,
   "metadata": {},
   "outputs": [
    {
     "data": {
      "text/html": [
       "<style>.container { width:80% !important; }</style>"
      ],
      "text/plain": [
       "<IPython.core.display.HTML object>"
      ]
     },
     "metadata": {},
     "output_type": "display_data"
    }
   ],
   "source": [
    "  #!/usr/bin/env python\n",
    "\n",
    "try:\n",
    "    import gi\n",
    "    gi.require_version('NumCosmo', '1.0')\n",
    "    gi.require_version('NumCosmoMath', '1.0')\n",
    "except:\n",
    "    pass\n",
    "\n",
    "import math\n",
    "import matplotlib.pyplot as plt\n",
    "from gi.repository import GObject\n",
    "from gi.repository import NumCosmo as Nc\n",
    "from gi.repository import NumCosmoMath as Ncm\n",
    "import numpy as np\n",
    "from astropy.io import fits\n",
    "from astropy.table import Table\n",
    "import sys\n",
    "sys.path.insert(0,'../../scripts')\n",
    "\n",
    "import pyccl as ccl\n",
    "\n",
    "from nc_ccl import create_nc_obj, ccl_cosmo_set_high_prec\n",
    "\n",
    "Ncm.cfg_init()\n",
    "Ncm.cfg_set_log_handler (lambda msg: sys.stdout.write (msg) and sys.stdout.flush ())\n",
    "\n",
    "from IPython.display import display, HTML\n",
    "display(HTML(\"<style>.container { width:80% !important; }</style>\"))"
   ]
  },
  {
   "cell_type": "markdown",
   "metadata": {},
   "source": [
    "initialize the `Cosmological models`"
   ]
  },
  {
   "cell_type": "code",
   "execution_count": 2,
   "metadata": {},
   "outputs": [],
   "source": [
    "#CCL cosmology\n",
    "cosmo_ccl = ccl.Cosmology(Omega_c = 0.30711 - 0.048254, Omega_b = 0.048254, h = 0.677, sigma8 = 0.8822714165197718, n_s=0.96, Omega_k = 0, transfer_function='eisenstein_hu')\n",
    "#ccl_cosmo_set_high_prec (cosmo_ccl)\n",
    "\n",
    "cosmo_numcosmo, dist, ps_lin, ps_nln, hmfunc = create_nc_obj (cosmo_ccl)\n",
    "\n",
    "psf = hmfunc.peek_psf ()"
   ]
  },
  {
   "cell_type": "markdown",
   "metadata": {},
   "source": [
    "# Define proxy modelling\n",
    "Use a mass proxy, define the probability for observing a proxy given a mass and redhsift"
   ]
  },
  {
   "cell_type": "markdown",
   "metadata": {},
   "source": [
    "$$\n",
    "P(\\log\\lambda|M,z) = N(\\mu(M,z), \\sigma^2(M,z))\n",
    "$$\n",
    "the mean is\n",
    "$$\n",
    "\\mu(M,z) = \\mu_0 + a_\\mu^M\\log_{10}\\frac{M}{M_0} + a_\\mu^z\\log_{10}\\frac{1+z}{1+z_0} \n",
    "$$\n",
    "variance is\n",
    "$$\n",
    "\\sigma(M,z) = \\sigma_0 + a_\\sigma^M\\log_{10}\\frac{M}{M_0} + a_\\sigma ^z\\log_{10}\\frac{1+z}{1+z_0} \n",
    "$$"
   ]
  },
  {
   "cell_type": "code",
   "execution_count": 3,
   "metadata": {},
   "outputs": [],
   "source": [
    "#CosmoSim_proxy model\n",
    "#M_0, z_0\n",
    "theta_pivot = [3e14/0.71, 0.6]\n",
    "#\\mu_0, a_\\mu^z, a_\\mu^M\n",
    "theta_mu = [3.19, -0.7, 2]\n",
    "#\\sigma_0, a_\\sigma^z, a_\\sigma^M\n",
    "theta_sigma = [0.33, 0.,-0.08]\n",
    "#Richness object\n",
    "\n",
    "area = (0.25)*4*np.pi / 100.0\n",
    "lnRl = 1.0\n",
    "lnRu = 2.0\n",
    "zl = 0.25\n",
    "zu = 1.0\n",
    "\n",
    "#Numcosmo_proxy model\n",
    "cluster_z = Nc.ClusterRedshift.new_from_name(\"NcClusterRedshiftNodist{'z-min': <%20.15e>, 'z-max':<%20.15e>}\" % (zl, zu))\n",
    "cluster_m = Nc.ClusterMass.new_from_name(\"NcClusterMassAscaso{'M0':<%20.15e>,'z0':<%20.15e>,'lnRichness-min':<%20.15e>, 'lnRichness-max':<%20.15e>}\" % (3e14/(0.71),0.6, lnRl, lnRu))\n",
    "cluster_m.param_set_by_name('mup0', 3.19)\n",
    "cluster_m.param_set_by_name('mup1', 2/np.log(10))\n",
    "cluster_m.param_set_by_name('mup2', -0.7/np.log(10))\n",
    "cluster_m.param_set_by_name('sigmap0', 0.33)\n",
    "cluster_m.param_set_by_name('sigmap1', -0.08/np.log(10))\n",
    "cluster_m.param_set_by_name('sigmap2', 0/np.log(10))"
   ]
  },
  {
   "cell_type": "markdown",
   "metadata": {},
   "source": [
    "initialize the `ClusterAbundance` object"
   ]
  },
  {
   "cell_type": "code",
   "execution_count": 4,
   "metadata": {},
   "outputs": [],
   "source": [
    "#Numcosmo Cluster Abundance\n",
    "\n",
    "#First we need to define the multiplicity function here we will use the tinker\n",
    "mulf = Nc.MultiplicityFuncTinker.new()\n",
    "mulf.set_linear_interp (True)\n",
    "mulf.set_mdef(Nc.MultiplicityFuncMassDef.CRITICAL)\n",
    "mulf.set_Delta(200)\n",
    "#Second we need to construct a filtered power spectrum \n",
    "\n",
    "hmf = Nc.HaloMassFunction.new(dist,psf,mulf)\n",
    "hmf.set_area(area)\n",
    "\n",
    "ca = Nc.ClusterAbundance.new(hmf,None)\n",
    "mset = Ncm.MSet.new_array([cosmo_numcosmo,cluster_m,cluster_z])"
   ]
  },
  {
   "cell_type": "code",
   "execution_count": 5,
   "metadata": {},
   "outputs": [],
   "source": [
    "ncount = Nc.DataClusterNCount.new (ca, \"NcClusterRedshiftNodist\", \"NcClusterMassAscaso\")\n",
    "ncount.catalog_load (\"ncount_ascaso.fits\")"
   ]
  },
  {
   "cell_type": "code",
   "execution_count": 6,
   "metadata": {},
   "outputs": [],
   "source": [
    "cosmo_numcosmo.props.Omegac_fit = True\n",
    "cosmo_numcosmo.props.w0_fit = True\n",
    "cluster_m.props.mup0_fit = True\n",
    "mset.prepare_fparam_map ()"
   ]
  },
  {
   "cell_type": "code",
   "execution_count": 7,
   "metadata": {},
   "outputs": [],
   "source": [
    "ncount.set_binned (False)"
   ]
  },
  {
   "cell_type": "code",
   "execution_count": 8,
   "metadata": {},
   "outputs": [],
   "source": [
    "dset = Ncm.Dataset.new ()\n",
    "dset.append_data (ncount)"
   ]
  },
  {
   "cell_type": "code",
   "execution_count": 9,
   "metadata": {},
   "outputs": [],
   "source": [
    "lh = Ncm.Likelihood (dataset = dset)\n",
    "fit = Ncm.Fit.new (Ncm.FitType.NLOPT, \"ln-neldermead\", lh, mset, Ncm.FitGradType.NUMDIFF_FORWARD)"
   ]
  },
  {
   "cell_type": "code",
   "execution_count": 10,
   "metadata": {},
   "outputs": [
    {
     "name": "stdout",
     "output_type": "stream",
     "text": [
      "# NcmThreadPool:Unused:      0\n",
      "# NcmThreadPool:Max Unused:  2\n",
      "# NcmThreadPool:Running:     0\n",
      "# NcmThreadPool:Unprocessed: 0\n",
      "# NcmThreadPool:Unused:      100\n",
      "# NcmThreadPool:Unused:      0\n",
      "# NcmThreadPool:Max Unused:  2\n",
      "# NcmThreadPool:Running:     0\n",
      "# NcmThreadPool:Unprocessed: 0\n",
      "# NcmThreadPool:Unused:      100\n",
      "None\n",
      "#----------------------------------------------------------------------------------\n",
      "# NcmFitESMCMC: Starting Ensamble Sampler Markov Chain Monte Carlo.\n",
      "#   Number of walkers: 0300.\n",
      "#   Number of threads: 0100.\n",
      "#   Using MPI:         no - use MPI enabled but no slaves available.\n",
      "#----------------------------------------------------------------------------------\n",
      "# NcmFitESMCMC: Skipping 51300 points (171.000000 iterations), will start at 51301-th point.\n",
      "#----------------------------------------------------------------------------------\n",
      "# NcmFitESMCMC: validating catalog rows [51000, 51300)\n",
      "# NcmFitESMCMC: samples rows [51000, 51300) successfully validated.\n",
      "#----------------------------------------------------------------------------------\n",
      "# NcmFitESMCMC: Largest relative error 1.000000e-03 attained: 9.756212e-04\n",
      "# NcmMSetCatalog: Current mean:  -3066.2       0.27404     -0.95314      3.1615     \n",
      "# NcmMSetCatalog: Current msd:    0.26532      0.00020825   0.00092991   0.00086037 \n",
      "# NcmMSetCatalog: Current sd:     46.596       0.026382     0.098662     0.10782    \n",
      "# NcmMSetCatalog: Current var:    2171.2       0.000696     0.0097343    0.011625   \n",
      "# NcmMSetCatalog: Current tau:    1.6633       3.1964       4.5572       3.2667     \n",
      "#----------------------------------------------------------------------------------\n",
      "# NcmMSet parameters covariance matrix\n",
      "#                                                  ----------------------------------------------\n",
      "# Omegac[03000:01] =  0.274       +/-  0.02638     |  1           |  0.6904      | -0.7023      |\n",
      "#     w0[03000:07] = -0.9531      +/-  0.09866     |  0.6904      |  1           |  0.01605     |\n",
      "#   mup0[07000:00] =  3.161       +/-  0.1078      | -0.7023      |  0.01605     |  1           |\n",
      "#                                                  ----------------------------------------------\n"
     ]
    }
   ],
   "source": [
    "Ncm.func_eval_set_max_threads (100)\n",
    "Ncm.func_eval_log_pool_stats ()\n",
    "print (Ncm.func_eval_log_pool_stats ())\n",
    "\n",
    "\n",
    "init_sampler = Ncm.MSetTransKernGauss.new (0)\n",
    "init_sampler.set_mset (mset)\n",
    "init_sampler.set_prior_from_mset ()\n",
    "init_sampler.set_cov_from_rescale (1.0)\n",
    "\n",
    "nwalkers = 300\n",
    "\n",
    "walker = Ncm.FitESMCMCWalkerAPES.new (nwalkers, mset.fparams_len ())\n",
    "walker.set_over_smooth (0.37)\n",
    "\n",
    "esmcmc = Ncm.FitESMCMC.new (fit, nwalkers, init_sampler, walker, Ncm.FitRunMsgs.SIMPLE)\n",
    "esmcmc.set_nthreads (100)\n",
    "\n",
    "esmcmc.set_data_file (\"ncount_ascaso_mcmc_unbinned_calib.fits\")\n",
    "\n",
    "esmcmc.start_run ()\n",
    "esmcmc.run_lre (50, 1.0e-3)\n",
    "esmcmc.end_run ()\n",
    "\n",
    "esmcmc.mean_covar ()\n",
    "fit.log_covar ()\n"
   ]
  },
  {
   "cell_type": "code",
   "execution_count": null,
   "metadata": {},
   "outputs": [],
   "source": [
    "ntests   = 100.0\n",
    "nwalkers = 300\n",
    "burnin   = 80\n",
    "mcat = Ncm.MSetCatalog.new_from_file_ro (\"ncount_ascaso_mcmc_unbinned_calib.fits\", nwalkers * burnin)\n",
    "\n",
    "mcat.log_current_chain_stats ()\n",
    "mcat.calc_max_ess_time (ntests, Ncm.FitRunMsgs.FULL);\n",
    "mcat.calc_heidel_diag (ntests, 0.0, Ncm.FitRunMsgs.FULL);\n",
    "\n",
    "mset.pretty_log ()\n",
    "mcat.log_full_covar ()\n",
    "mcat.log_current_stats ()\n",
    "\n",
    "be, post_lnnorm_sd = mcat.get_post_lnnorm ()\n",
    "lnevol, glnvol = mcat.get_post_lnvol (0.6827)\n",
    "\n",
    "Ncm.cfg_msg_sepa ()\n",
    "print (\"# Bayesian evidence:                                 % 22.15g +/- % 22.15g\" % (be, post_lnnorm_sd))\n",
    "print (\"# 1 sigma posterior volume:                          % 22.15g\" % lnevol)\n",
    "print (\"# 1 sigma posterior volume (Gaussian approximation): % 22.15g\" % glnvol)"
   ]
  },
  {
   "cell_type": "code",
   "execution_count": null,
   "metadata": {},
   "outputs": [],
   "source": []
  }
 ],
 "metadata": {
  "interpreter": {
   "hash": "916dbcbb3f70747c44a77c7bcd40155683ae19c65e1c03b4aa3499c5328201f1"
  },
  "kernelspec": {
   "display_name": "NumCosmo",
   "language": "python",
   "name": "numcosmo"
  },
  "language_info": {
   "codemirror_mode": {
    "name": "ipython",
    "version": 3
   },
   "file_extension": ".py",
   "mimetype": "text/x-python",
   "name": "python",
   "nbconvert_exporter": "python",
   "pygments_lexer": "ipython3",
   "version": "3.9.7"
  }
 },
 "nbformat": 4,
 "nbformat_minor": 4
}
