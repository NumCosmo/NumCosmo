{
 "cells": [
  {
   "cell_type": "code",
   "execution_count": 1,
   "metadata": {},
   "outputs": [
    {
     "data": {
      "text/html": [
       "<style>.container { width:80% !important; }</style>"
      ],
      "text/plain": [
       "<IPython.core.display.HTML object>"
      ]
     },
     "metadata": {},
     "output_type": "display_data"
    }
   ],
   "source": [
    "  #!/usr/bin/env python\n",
    "\n",
    "try:\n",
    "    import gi\n",
    "    gi.require_version('NumCosmo', '1.0')\n",
    "    gi.require_version('NumCosmoMath', '1.0')\n",
    "except:\n",
    "    pass\n",
    "\n",
    "import math\n",
    "import matplotlib.pyplot as plt\n",
    "from gi.repository import GObject\n",
    "from gi.repository import NumCosmo as Nc\n",
    "from gi.repository import NumCosmoMath as Ncm\n",
    "import numpy as np\n",
    "from astropy.io import fits\n",
    "from astropy.table import Table\n",
    "import sys\n",
    "sys.path.insert(0,'../../scripts')\n",
    "\n",
    "import pyccl as ccl\n",
    "\n",
    "from nc_ccl import create_nc_obj, ccl_cosmo_set_high_prec\n",
    "\n",
    "Ncm.cfg_init()\n",
    "Ncm.cfg_set_log_handler (lambda msg: sys.stdout.write (msg) and sys.stdout.flush ())\n",
    "\n",
    "from IPython.display import display, HTML\n",
    "display(HTML(\"<style>.container { width:80% !important; }</style>\"))"
   ]
  },
  {
   "cell_type": "markdown",
   "metadata": {},
   "source": [
    "initialize the `Cosmological models`"
   ]
  },
  {
   "cell_type": "code",
   "execution_count": 2,
   "metadata": {},
   "outputs": [],
   "source": [
    "#CCL cosmology\n",
    "cosmo_ccl = ccl.Cosmology(Omega_c = 0.30711 - 0.048254, Omega_b = 0.048254, h = 0.677, sigma8 = 0.8822714165197718, n_s=0.96, Omega_k = 0, transfer_function='eisenstein_hu')\n",
    "#ccl_cosmo_set_high_prec (cosmo_ccl)\n",
    "\n",
    "cosmo_numcosmo, dist, ps_lin, ps_nln, hmfunc = create_nc_obj (cosmo_ccl)\n",
    "\n",
    "psf = hmfunc.peek_psf ()"
   ]
  },
  {
   "cell_type": "markdown",
   "metadata": {},
   "source": [
    "# Define proxy modelling\n",
    "Use a mass proxy, define the probability for observing a proxy given a mass and redhsift"
   ]
  },
  {
   "cell_type": "markdown",
   "metadata": {},
   "source": [
    "$$\n",
    "P(\\log\\lambda|M,z) = N(\\mu(M,z), \\sigma^2(M,z))\n",
    "$$\n",
    "the mean is\n",
    "$$\n",
    "\\mu(M,z) = \\mu_0 + a_\\mu^M\\log_{10}\\frac{M}{M_0} + a_\\mu^z\\log_{10}\\frac{1+z}{1+z_0} \n",
    "$$\n",
    "variance is\n",
    "$$\n",
    "\\sigma(M,z) = \\sigma_0 + a_\\sigma^M\\log_{10}\\frac{M}{M_0} + a_\\sigma ^z\\log_{10}\\frac{1+z}{1+z_0} \n",
    "$$"
   ]
  },
  {
   "cell_type": "code",
   "execution_count": 3,
   "metadata": {},
   "outputs": [],
   "source": [
    "#CosmoSim_proxy model\n",
    "#M_0, z_0\n",
    "theta_pivot = [3e14/0.71, 0.6]\n",
    "#\\mu_0, a_\\mu^z, a_\\mu^M\n",
    "theta_mu = [3.19, -0.7, 2]\n",
    "#\\sigma_0, a_\\sigma^z, a_\\sigma^M\n",
    "theta_sigma = [0.33, 0.,-0.08]\n",
    "#Richness object\n",
    "\n",
    "area = (0.25)*4*np.pi / 100.0\n",
    "lnRl = 1.0\n",
    "lnRu = 2.0\n",
    "zl = 0.25\n",
    "zu = 1.0\n",
    "\n",
    "#Numcosmo_proxy model\n",
    "cluster_z = Nc.ClusterRedshift.new_from_name(\"NcClusterRedshiftNodist{'z-min': <%20.15e>, 'z-max':<%20.15e>}\" % (zl, zu))\n",
    "'''\n",
    "cluster_m = Nc.ClusterMass.new_from_name(\"NcClusterMassAscaso{'M0':<%20.15e>,'z0':<%20.15e>,'lnRichness-min':<%20.15e>, 'lnRichness-max':<%20.15e>}\" % (3e14/(0.71),0.6, lnRl, lnRu))\n",
    "cluster_m.param_set_by_name('mup0', 3.19)\n",
    "cluster_m.param_set_by_name('mup1', 2/np.log(10))\n",
    "cluster_m.param_set_by_name('mup2', -0.7/np.log(10))\n",
    "cluster_m.param_set_by_name('sigmap0', 0.33)\n",
    "cluster_m.param_set_by_name('sigmap1', -0.08/np.log(10))\n",
    "cluster_m.param_set_by_name('sigmap2', 0/np.log(10))\n",
    "'''\n",
    "\n",
    "cluster_m = Nc.ClusterMass.new_from_name(\"NcClusterMassNodist{'lnM-min':<%20.15e>, 'lnM-max':<%20.15e>}\" % (math.log(10)*np.log10(1e14),math.log(10)*np.log10(1e16)))"
   ]
  },
  {
   "cell_type": "markdown",
   "metadata": {},
   "source": [
    "initialize the `ClusterAbundance` object"
   ]
  },
  {
   "cell_type": "code",
   "execution_count": 4,
   "metadata": {},
   "outputs": [],
   "source": [
    "#Numcosmo Cluster Abundance\n",
    "\n",
    "#First we need to define the multiplicity function here we will use the tinker\n",
    "mulf = Nc.MultiplicityFuncTinker.new()\n",
    "mulf.set_linear_interp (True)\n",
    "mulf.set_mdef(Nc.MultiplicityFuncMassDef.CRITICAL)\n",
    "mulf.set_Delta(200)\n",
    "#Second we need to construct a filtered power spectrum \n",
    "\n",
    "hmf = Nc.HaloMassFunction.new(dist,psf,mulf)\n",
    "hmf.set_area(area)\n",
    "\n",
    "ca = Nc.ClusterAbundance.new(hmf,None)\n",
    "mset = Ncm.MSet.new_array([cosmo_numcosmo,cluster_m,cluster_z])"
   ]
  },
  {
   "cell_type": "code",
   "execution_count": 5,
   "metadata": {},
   "outputs": [],
   "source": [
    "ncount = Nc.DataClusterNCount.new (ca, \"NcClusterRedshiftNodist\", \"NcClusterMassNodist\")\n",
    "ncount.catalog_load (\"ncount_nodist.fits\")"
   ]
  },
  {
   "cell_type": "code",
   "execution_count": 6,
   "metadata": {},
   "outputs": [],
   "source": [
    "cosmo_numcosmo.props.Omegac_fit = True\n",
    "cosmo_numcosmo.props.w0_fit = True\n",
    "#cluster_m.props.mup0_fit = True\n",
    "mset.prepare_fparam_map ()"
   ]
  },
  {
   "cell_type": "code",
   "execution_count": 7,
   "metadata": {},
   "outputs": [],
   "source": [
    "ncount.set_binned (True)"
   ]
  },
  {
   "cell_type": "code",
   "execution_count": 8,
   "metadata": {},
   "outputs": [],
   "source": [
    "dset = Ncm.Dataset.new ()\n",
    "dset.append_data (ncount)"
   ]
  },
  {
   "cell_type": "code",
   "execution_count": 9,
   "metadata": {},
   "outputs": [],
   "source": [
    "lh = Ncm.Likelihood (dataset = dset)\n",
    "fit = Ncm.Fit.new (Ncm.FitType.NLOPT, \"ln-neldermead\", lh, mset, Ncm.FitGradType.NUMDIFF_FORWARD)"
   ]
  },
  {
   "cell_type": "code",
   "execution_count": 10,
   "metadata": {},
   "outputs": [
    {
     "name": "stdout",
     "output_type": "stream",
     "text": [
      "# NcmThreadPool:Unused:      0\n",
      "# NcmThreadPool:Max Unused:  2\n",
      "# NcmThreadPool:Running:     0\n",
      "# NcmThreadPool:Unprocessed: 0\n",
      "# NcmThreadPool:Unused:      2\n",
      "# NcmThreadPool:Unused:      0\n",
      "# NcmThreadPool:Max Unused:  2\n",
      "# NcmThreadPool:Running:     0\n",
      "# NcmThreadPool:Unprocessed: 0\n",
      "# NcmThreadPool:Unused:      2\n",
      "None\n",
      "#----------------------------------------------------------------------------------\n",
      "# NcmFitESMCMC: Starting Ensamble Sampler Markov Chain Monte Carlo.\n",
      "#   Number of walkers: 0500.\n",
      "#   Number of threads: 0002.\n",
      "#   Using MPI:         no - use MPI enabled but no slaves available.\n",
      "#----------------------------------------------------------------------------------\n",
      "# NcmFitESMCMC: Skipping 15000 points (30.000000 iterations), will start at 15001-th point.\n",
      "#----------------------------------------------------------------------------------\n",
      "# NcmFitESMCMC: validating catalog rows [14500, 15000)\n"
     ]
    },
    {
     "ename": "",
     "evalue": "",
     "output_type": "error",
     "traceback": [
      "\u001b[1;31mCanceled future for execute_request message before replies were done"
     ]
    },
    {
     "ename": "",
     "evalue": "",
     "output_type": "error",
     "traceback": [
      "\u001b[1;31mThe Kernel crashed while executing code in the the current cell or a previous cell. Please review the code in the cell(s) to identify a possible cause of the failure. Click <a href='https://aka.ms/vscodeJupyterKernelCrash'>here</a> for more info. View Jupyter <a href='command:jupyter.viewOutput'>log</a> for further details."
     ]
    }
   ],
   "source": [
    "Ncm.func_eval_set_max_threads (2)\n",
    "Ncm.func_eval_log_pool_stats ()\n",
    "print (Ncm.func_eval_log_pool_stats ())\n",
    "\n",
    "\n",
    "init_sampler = Ncm.MSetTransKernGauss.new (0)\n",
    "init_sampler.set_mset (mset)\n",
    "init_sampler.set_prior_from_mset ()\n",
    "init_sampler.set_cov_from_rescale (1.0)\n",
    "\n",
    "nwalkers = int (math.ceil (500)) #500\n",
    "ssize    = 150000 #1000000\n",
    "\n",
    "walker = Ncm.FitESMCMCWalkerAPES.new (nwalkers, mset.fparams_len ())\n",
    "\n",
    "esmcmc = Ncm.FitESMCMC.new (fit, nwalkers, init_sampler, walker, Ncm.FitRunMsgs.SIMPLE)\n",
    "esmcmc.set_nthreads (2)\n",
    "\n",
    "esmcmc.set_data_file (\"ncount_nodist_binned.fits\")\n",
    "\n",
    "esmcmc.start_run ()\n",
    "esmcmc.run(ssize / nwalkers)\n",
    "esmcmc.end_run ()\n",
    "\n",
    "esmcmc.mean_covar ()\n",
    "fit.log_covar ()\n"
   ]
  },
  {
   "cell_type": "code",
   "execution_count": null,
   "metadata": {},
   "outputs": [
    {
     "name": "stdout",
     "output_type": "stream",
     "text": [
      "# NcmMSetCatalog: Current skfac:  1.0046       1.0301       1.0246     \n",
      "# NcmMSetCatalog: Maximal Shrink factor = 1.03024               \n",
      "#----------------------------------------------------------------------------------\n",
      "# NcmMSetCatalog: Computing the constant break point for parameter `0', sample size `24':\n",
      "# NcmMSetCatalog: Constant break point at `5':\n",
      "#----------------------------------------------------------------------------------\n",
      "# NcmMSetCatalog: Calculating catalog effective sample size from chain 24 => 0 using 100 blocks:\n",
      "# NcmMSetCatalog: - best cutoff time:         0   \n",
      "# NcmMSetCatalog: - total number of points:   24   (12000)\n",
      "# NcmMSetCatalog: - number of points left:    24   (12000)\n",
      "# NcmMSetCatalog: - worst parameter:          NcHICosmo:w0[02]\n",
      "# NcmMSetCatalog: - worst parameter ess:      7.15\n",
      "# NcmMSetCatalog: - worst parameter ar order: 1   \n",
      "# NcmMSetCatalog: - ess's:                    24.00 10.97 7.15\n",
      "#----------------------------------------------------------------------------------\n",
      "# NcmMSetCatalog: Applying the Heidelberger and Welch's convergence diagnostic from chain 24 => 0 using 100 blocks:\n",
      "# NcmMSetCatalog: - best cutoff time:         2   \n",
      "# NcmMSetCatalog: - worst parameter:          NcHICosmo:w0[02]\n",
      "# NcmMSetCatalog: - worst parameter pvalue:    6.38%\n",
      "# NcmMSetCatalog: - worst parameter ar order: 0   \n",
      "# NcmMSetCatalog: - target pvalue:             2.53%\n",
      "# NcmMSetCatalog: - pvalues:                  99.00% 24.95%  6.38%\n",
      "#----------------------------------------------------------------------------------\n",
      "# Model[03000]:\n",
      "#   - NcHICosmo : Chevalier-Polarski-Linder parametrization\n",
      "#----------------------------------------------------------------------------------\n",
      "# Model parameters\n",
      "#   -         H0[00]:  67.7                [FIXED]\n",
      "#   -     Omegac[01]:  0.140478966969686   [FREE]\n",
      "#   -     Omegak[02]:  0                   [FIXED]\n",
      "#   -    Tgamma0[03]:  2.725               [FIXED]\n",
      "#   -         Yp[04]:  0.24                [FIXED]\n",
      "#   -       ENnu[05]:  3.046               [FIXED]\n",
      "#   -     Omegab[06]:  0.048254            [FIXED]\n",
      "#   -         w0[07]: -0.117365321598646   [FREE]\n",
      "#   -         w1[08]:  0                   [FIXED]\n",
      "#----------------------------------------------------------------------------------\n",
      "# Model[05000]:\n",
      "#   - NcHIPrim : Power Law model for primordial spectra\n",
      "#----------------------------------------------------------------------------------\n",
      "# Model parameters\n",
      "#   - ln10e10ASA[00]:  3.18008784661456    [FIXED]\n",
      "#   - T_SA_ratio[01]:  0.2                 [FIXED]\n",
      "#   -       n_SA[02]:  0.96                [FIXED]\n",
      "#   -        n_T[03]:  0                   [FIXED]\n",
      "#----------------------------------------------------------------------------------\n",
      "# Model[07000]:\n",
      "#   - NcClusterMass : No mass distribution\n",
      "#----------------------------------------------------------------------------------\n",
      "# Model parameters\n",
      "#----------------------------------------------------------------------------------\n",
      "# Model[08000]:\n",
      "#   - NcClusterRedshift : No redshift distribution\n",
      "#----------------------------------------------------------------------------------\n",
      "# Model parameters\n",
      "#----------------------------------------------------------------------------------\n",
      "# NcmMSetCatalog full covariance matrix\n",
      "#                                                                       ----------------------------------------------\n",
      "# NcmFit:m2lnL[99999:00] =  5.774e+05   (-2.815e-24  ) +/-  5.236e+06   |  1           |  0.1515      | -0.1317      |\n",
      "#       Omegac[03000:01] =  0.1207      ( 0.2559     ) +/-  0.08696     |  0.1515      |  1           |  0.5337      |\n",
      "#           w0[03000:07] =  0.07316     ( 0.9423     ) +/-  0.7399      | -0.1317      |  0.5337      |  1           |\n",
      "#                                                                       ----------------------------------------------\n",
      "# NcmMSetCatalog: Current mean:   5.7738e+05   0.12065      0.073158   \n",
      "# NcmMSetCatalog: Current msd:    47802        0.00079381   0.0067539  \n",
      "# NcmMSetCatalog: Current sd:     5.2364e+06   0.086958     0.73985    \n",
      "# NcmMSetCatalog: Current var:    2.742e+13    0.0075616    0.54738    \n",
      "# NcmMSetCatalog: Current tau:    1            1            1          \n",
      "#----------------------------------------------------------------------------------\n",
      "# Bayesian evidence:                                                    nan +/-                    nan\n",
      "# 1 sigma posterior volume:                                             nan\n",
      "# 1 sigma posterior volume (Gaussian approximation):     -0.935454569108836\n"
     ]
    }
   ],
   "source": [
    "ntests   = 100.0\n",
    "nwalkers = 300\n",
    "burnin   = 10\n",
    "mcat = Ncm.MSetCatalog.new_from_file_ro (\"ncount_nodist_binned.fits\", nwalkers * burnin)\n",
    "\n",
    "mcat.log_current_chain_stats ()\n",
    "mcat.calc_max_ess_time (ntests, Ncm.FitRunMsgs.FULL);\n",
    "mcat.calc_heidel_diag (ntests, 0.0, Ncm.FitRunMsgs.FULL);\n",
    "\n",
    "mset.pretty_log ()\n",
    "mcat.log_full_covar ()\n",
    "mcat.log_current_stats ()\n",
    "\n",
    "be, post_lnnorm_sd = mcat.get_post_lnnorm ()\n",
    "lnevol, glnvol = mcat.get_post_lnvol (0.6827)\n",
    "\n",
    "Ncm.cfg_msg_sepa ()\n",
    "print (\"# Bayesian evidence:                                 % 22.15g +/- % 22.15g\" % (be, post_lnnorm_sd))\n",
    "print (\"# 1 sigma posterior volume:                          % 22.15g\" % lnevol)\n",
    "print (\"# 1 sigma posterior volume (Gaussian approximation): % 22.15g\" % glnvol)"
   ]
  },
  {
   "cell_type": "code",
   "execution_count": null,
   "metadata": {},
   "outputs": [],
   "source": []
  }
 ],
 "metadata": {
  "interpreter": {
   "hash": "916dbcbb3f70747c44a77c7bcd40155683ae19c65e1c03b4aa3499c5328201f1"
  },
  "kernelspec": {
   "display_name": "NERSC Python",
   "language": "python",
   "name": "python3"
  },
  "language_info": {
   "codemirror_mode": {
    "name": "ipython",
    "version": 3
   },
   "file_extension": ".py",
   "mimetype": "text/x-python",
   "name": "python",
   "nbconvert_exporter": "python",
   "pygments_lexer": "ipython3",
   "version": "3.8.10"
  }
 },
 "nbformat": 4,
 "nbformat_minor": 4
}
