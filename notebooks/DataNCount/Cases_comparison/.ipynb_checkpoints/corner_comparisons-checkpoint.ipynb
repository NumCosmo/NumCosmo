{
 "cells": [
  {
   "cell_type": "code",
   "execution_count": 1,
   "id": "6db3fad7-e0d7-4cde-bd20-547459f59781",
   "metadata": {},
   "outputs": [
    {
     "name": "stderr",
     "output_type": "stream",
     "text": [
      "\n",
      "WARNING: version mismatch between CFITSIO header (v4) and linked library (v3.47).\n",
      "\n",
      "\n",
      "WARNING: version mismatch between CFITSIO header (v4) and linked library (v3.47).\n",
      "\n",
      "\n",
      "WARNING: version mismatch between CFITSIO header (v4) and linked library (v3.47).\n",
      "\n"
     ]
    }
   ],
   "source": [
    "import numpy as np\n",
    "import matplotlib.pyplot as plt\n",
    "import pickle as pkl\n",
    "import scipy.integrate\n",
    "import astropy.units as u\n",
    "import GCRCatalogs\n",
    "import pandas as pd\n",
    "\n",
    "%matplotlib inline\n",
    "\n",
    "try:\n",
    "  import gi\n",
    "  gi.require_version('NumCosmo', '1.0')\n",
    "  gi.require_version('NumCosmoMath', '1.0')\n",
    "except:\n",
    "  pass\n",
    "\n",
    "import sys\n",
    "import math\n",
    "import matplotlib.pyplot as plt\n",
    "from gi.repository import GObject\n",
    "from gi.repository import NumCosmo as Nc\n",
    "from gi.repository import NumCosmoMath as Ncm\n",
    "\n",
    "Ncm.cfg_init ()\n",
    "Ncm.cfg_set_log_handler (lambda msg: sys.stdout.write (msg) and sys.stdout.flush ())\n",
    "\n",
    "catalog = 'skysim5000_v1.1.1_image'\n",
    "skysim_cat = GCRCatalogs.load_catalog(catalog)\n",
    "cosmo_ss  = skysim_cat.cosmology\n",
    "\n",
    "\n",
    "\n",
    "from astropy.io import fits\n",
    "from astropy.table import Table\n"
   ]
  },
  {
   "cell_type": "code",
   "execution_count": 2,
   "id": "d64406e8-b527-4979-b897-68532a26ebb0",
   "metadata": {},
   "outputs": [],
   "source": [
    "def add_mcat(c, mcat, name):\n",
    "    nwalkers = mcat.nchains ()\n",
    "    m2lnL = mcat.get_m2lnp_var ()\n",
    "\n",
    "    # Use nwalkers * 10 as burning length\n",
    "    burn = nwalkers * burnin\n",
    "    rows = np.array ([mcat.peek_row (i).dup_array () for i in range (burn, mcat.len ())])\n",
    "    params = [\"$\" + mcat.col_symb (i) + \"$\" for i in range (mcat.ncols ())]\n",
    "\n",
    "    posterior = -0.5 * rows[:,m2lnL]\n",
    "\n",
    "    rows   = np.delete (rows,   m2lnL, 1)\n",
    "    params = np.delete (params, m2lnL, 0)\n",
    "\n",
    "    indices = [0,1]\n",
    "\n",
    "    rows   = rows[:,indices]\n",
    "    params = params[indices]\n",
    "\n",
    "    c.add_chain(rows, posterior = posterior, parameters=list(params), name=name)"
   ]
  },
  {
   "cell_type": "code",
   "execution_count": null,
   "id": "b624ad19-3b74-4778-9e66-4dc450ef5e79",
   "metadata": {},
   "outputs": [],
   "source": [
    "nwalkers = 50\n",
    "burnin   = 10\n",
    "mcat_unbinned = Ncm.MSetCatalog.new_from_file_ro ('ncount_nodist_mcmc_unbinned.fits', nwalkers * burnin)\n",
    "mcat_binned = Ncm.MSetCatalog.new_from_file_ro ('ncount_nodist_mcmc_binned.fits', nwalkers * burnin)\n",
    "#mcat_Bocquet = Ncm.MSetCatalog.new_from_file_ro ('z_0.0_1.0_M_4e+14_1e+15_Tinker.fits', nwalkers * burnin)\n",
    "from chainconsumer import ChainConsumer\n",
    "\n",
    "c = ChainConsumer()\n",
    "\n",
    "add_mcat(c, mcat_unbinned, 'unbinned')\n",
    "add_mcat(c, mcat_binned, 'binned')\n",
    "#add_mcat(c, mcat_Bocquet, 'Tinker_z_[0,1.0]')\n",
    "c.configure (kde = True, label_font_size=11, sigma2d=False, sigmas = [1, 2,3], spacing = 0.0, tick_font_size=11, usetex=False)\n",
    "\n",
    "\n",
    "plot_args = {}\n",
    "plot_args['truth'] = [cosmo_ss.sigma8,cosmo_ss.Odm0 + cosmo_ss.Ob0]\n",
    "print(plot_args['truth'])    \n",
    "plot_name = 'nodist_mcmc'\n",
    "fig = c.plotter.plot(**plot_args)\n",
    "c.plotter.plot(filename=plot_name, figsize=1.75, **plot_args)\n",
    "fig.set_size_inches(14.0, 14.0)"
   ]
  },
  {
   "cell_type": "code",
   "execution_count": null,
   "id": "3921f158-b281-46ed-aa59-443bf45f7a2e",
   "metadata": {},
   "outputs": [],
   "source": []
  }
 ],
 "metadata": {
  "kernelspec": {
   "display_name": "NumCosmo",
   "language": "python",
   "name": "numcosmo"
  },
  "language_info": {
   "codemirror_mode": {
    "name": "ipython",
    "version": 3
   },
   "file_extension": ".py",
   "mimetype": "text/x-python",
   "name": "python",
   "nbconvert_exporter": "python",
   "pygments_lexer": "ipython3",
   "version": "3.9.7"
  }
 },
 "nbformat": 4,
 "nbformat_minor": 5
}
