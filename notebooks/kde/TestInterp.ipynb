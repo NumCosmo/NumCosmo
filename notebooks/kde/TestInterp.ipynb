{
 "cells": [
  {
   "cell_type": "markdown",
   "metadata": {},
   "source": [
    "---\n",
    "**License**\n",
    "\n",
    " TestInterp\n",
    "\n",
    " Mon Jan 25 20:56:00 2020\\\n",
    " Copyright  2021\\\n",
    " Eduardo ...\\\n",
    " Sandro Dias Pinto Vitenti <vitenti@uel.br>\n",
    "\n",
    "---\n",
    "---\n",
    "\n",
    " TestInterp\\\n",
    " Copyright (C) 2021 Eduardo ...\\\n",
    " Copyright (C) 2021 Sandro Dias Pinto Vitenti <vitenti@uel.br>\n",
    "\n",
    "\n",
    " numcosmo is free software: you can redistribute it and/or modify it\n",
    " under the terms of the GNU General Public License as published by the\n",
    " Free Software Foundation, either version 3 of the License, or\n",
    " (at your option) any later version.\n",
    "\n",
    " numcosmo is distributed in the hope that it will be useful, but\n",
    " WITHOUT ANY WARRANTY; without even the implied warranty of\n",
    " MERCHANTABILITY or FITNESS FOR A PARTICULAR PURPOSE.\n",
    " See the GNU General Public License for more details.\n",
    "\n",
    " You should have received a copy of the GNU General Public License along\n",
    " with this program.  If not, see <http://www.gnu.org/licenses/>.\n",
    " \n",
    "---"
   ]
  },
  {
   "cell_type": "code",
   "execution_count": 1,
   "metadata": {},
   "outputs": [],
   "source": [
    "try:\n",
    "  import gi\n",
    "  gi.require_version('NumCosmo', '1.0')\n",
    "  gi.require_version('NumCosmoMath', '1.0')\n",
    "except:\n",
    "  pass\n",
    "\n",
    "import sys\n",
    "import math\n",
    "import matplotlib as mpl\n",
    "import matplotlib.pyplot as plt\n",
    "import numpy as np\n",
    "import scipy.stats\n",
    "from scipy.optimize import minimize\n",
    "\n",
    "from gi.repository import NumCosmo as Nc\n",
    "from gi.repository import NumCosmoMath as Ncm\n",
    "%matplotlib inline"
   ]
  },
  {
   "cell_type": "code",
   "execution_count": 2,
   "metadata": {},
   "outputs": [],
   "source": [
    "__name__ = \"NcContext\"\n",
    "\n",
    "Ncm.cfg_init ()\n",
    "Ncm.cfg_set_log_handler (lambda msg: sys.stdout.write (msg) and sys.stdout.flush ())"
   ]
  },
  {
   "cell_type": "code",
   "execution_count": 3,
   "metadata": {},
   "outputs": [
    {
     "name": "stdout",
     "output_type": "stream",
     "text": [
      "[ 0.69646919  0.28613933  0.22685145  0.55131477  0.71946897]\n"
     ]
    }
   ],
   "source": [
    "    dim = 5\n",
    "    np.random.seed(seed=123)\n",
    "\n",
    "    p = np.random.random_sample((dim,))\n",
    "    print (p)"
   ]
  },
  {
   "cell_type": "code",
   "execution_count": 4,
   "metadata": {},
   "outputs": [
    {
     "name": "stdout",
     "output_type": "stream",
     "text": [
      "#----------------------------------------------------------------------------------\n",
      "# Model[00000]:\n",
      "#   - NcmModelMVND : MVND\n",
      "#----------------------------------------------------------------------------------\n",
      "# Model parameters\n",
      "#   - mu_0[00]:  0.696469185597862   [FREE]\n",
      "#   - mu_1[01]:  0.286139334950379   [FREE]\n",
      "#   - mu_2[02]:  0.226851453564203   [FREE]\n",
      "#   - mu_3[03]:  0.551314769082891   [FREE]\n",
      "#   - mu_4[04]:  0.719468969785563   [FREE]\n"
     ]
    }
   ],
   "source": [
    "rng = Ncm.RNG.seeded_new (None, 123)\n",
    "\n",
    "fmodel = Ncm.ModelMVND.new (dim)\n",
    "fdata = Ncm.DataGaussCovMVND.new_full (dim, 0.1, 0.4, 10.0, -1.0, 1.0, rng)\n",
    "\n",
    "fdata.props.use_norma = True\n",
    "\n",
    "mset = Ncm.MSet.new_array ([fmodel])\n",
    "mset.param_set_all_ftype (Ncm.ParamType.FREE)\n",
    "mset.prepare_fparam_map ()\n",
    "\n",
    "mset.fparams_set_array (p)\n",
    "mset.pretty_log ()"
   ]
  },
  {
   "cell_type": "code",
   "execution_count": 5,
   "metadata": {},
   "outputs": [
    {
     "data": {
      "text/plain": [
       "-4.498559747474191"
      ]
     },
     "execution_count": 5,
     "metadata": {},
     "output_type": "execute_result"
    }
   ],
   "source": [
    "y_a = []\n",
    "x_a = []\n",
    "xn_a = []\n",
    "\n",
    "interp = Ncm.StatsDistNdVBKStudentt.new (len (p), Ncm.StatsDistNdCV.NONE, 3.0)\n",
    "#interp = Ncm.StatsDistNdKDEGauss.new (len (p), Ncm.StatsDistNdCV.NONE)\n",
    "nps = 500\n",
    "\n",
    "for a in range (nps):\n",
    "    v, N = fdata.gen (mset, None, None, rng)\n",
    "    interp.add_obs (v)\n",
    "    y_a.append (fdata.m2lnL_val (mset))\n",
    "    x_a.append (v.dup_array ())\n",
    "\n",
    "for a in range (nps):\n",
    "    v, N = fdata.gen (mset, None, None, rng)\n",
    "    xn_a.append (v.dup_array ())\n",
    "\n",
    "y_a = np.array (y_a)\n",
    "x_a = np.array (x_a)\n",
    "xn_a = np.array (xn_a)\n",
    "\n",
    "fdata.y.set_array (p)\n",
    "\n",
    "fdata.m2lnL_val (mset)"
   ]
  },
  {
   "cell_type": "code",
   "execution_count": 6,
   "metadata": {},
   "outputs": [
    {
     "name": "stdout",
     "output_type": "stream",
     "text": [
      "2.875278322098082e-29 1.0\n"
     ]
    }
   ],
   "source": [
    "#interp.set_cv_type (Ncm.StatsDistNdCV.SPLIT_FITD)\n",
    "interp.set_cv_type (Ncm.StatsDistNdCV.NONE)\n",
    "interp.prepare_interp (Ncm.Vector.new_array (y_a))\n",
    "calib_os = interp.get_over_smooth ()\n",
    "\n",
    "print (interp.get_rnorm (), calib_os)\n",
    "\n",
    "\n"
   ]
  },
  {
   "cell_type": "code",
   "execution_count": 7,
   "metadata": {},
   "outputs": [
    {
     "name": "stdout",
     "output_type": "stream",
     "text": [
      "1.0\n"
     ]
    }
   ],
   "source": [
    "print (calib_os)"
   ]
  },
  {
   "cell_type": "code",
   "execution_count": 8,
   "metadata": {},
   "outputs": [],
   "source": [
    "#interp.set_over_smooth (calib_os)\n",
    "#interp.prepare_interp (Ncm.Vector.new_array (y_a))"
   ]
  },
  {
   "cell_type": "code",
   "execution_count": 11,
   "metadata": {},
   "outputs": [
    {
     "name": "stdout",
     "output_type": "stream",
     "text": [
      "mean error  7.29e-01\n",
      "Prob accept 67.6%\n"
     ]
    },
    {
     "data": {
      "image/png": "[encoded data removed]",
      "text/plain": [
       "<matplotlib.figure.Figure at 0x7f823fe35400>"
      ]
     },
     "metadata": {
      "needs_background": "light"
     },
     "output_type": "display_data"
    },
    {
     "data": {
      "image/png": "[encoded data removed]",
      "text/plain": [
       "<matplotlib.figure.Figure at 0x7f82405d05f8>"
      ]
     },
     "metadata": {
      "needs_background": "light"
     },
     "output_type": "display_data"
    },
    {
     "data": {
      "text/plain": [
       "(array([ 0.01952486,  0.02928729,  0.        ,  0.        ,  0.        ,\n",
       "         0.01952486,  0.00976243,  0.01952486,  0.        ,  0.00976243,\n",
       "         0.00976243,  0.04881214,  0.03904972,  0.04881214,  0.01952486,\n",
       "         0.02928729,  0.03904972,  0.03904972,  0.04881214,  0.07809943,\n",
       "         0.068337  ,  0.09762429,  0.10738672,  0.068337  ,  0.13667401,\n",
       "         0.17572372,  0.15619886,  0.11714915,  0.16596129,  0.21477344,\n",
       "         0.08786186,  0.11714915,  0.21477344,  0.18548615,  0.17572372,\n",
       "         0.18548615,  0.13667401,  0.20501101,  0.22453587,  0.14643643,\n",
       "         0.21477344,  0.14643643,  0.14643643,  0.11714915,  0.17572372,\n",
       "         0.09762429,  0.13667401,  0.04881214,  0.07809943,  0.03904972,\n",
       "         0.04881214,  0.03904972,  0.01952486,  0.01952486,  0.02928729,\n",
       "         0.        ,  0.00976243,  0.        ,  0.00976243,  0.00976243]),\n",
       " array([  6.52773127,   6.73259832,   6.93746537,   7.14233241,\n",
       "          7.34719946,   7.55206651,   7.75693356,   7.96180061,\n",
       "          8.16666765,   8.3715347 ,   8.57640175,   8.7812688 ,\n",
       "          8.98613584,   9.19100289,   9.39586994,   9.60073699,\n",
       "          9.80560404,  10.01047108,  10.21533813,  10.42020518,\n",
       "         10.62507223,  10.82993927,  11.03480632,  11.23967337,\n",
       "         11.44454042,  11.64940747,  11.85427451,  12.05914156,\n",
       "         12.26400861,  12.46887566,  12.6737427 ,  12.87860975,\n",
       "         13.0834768 ,  13.28834385,  13.4932109 ,  13.69807794,\n",
       "         13.90294499,  14.10781204,  14.31267909,  14.51754613,\n",
       "         14.72241318,  14.92728023,  15.13214728,  15.33701433,\n",
       "         15.54188137,  15.74674842,  15.95161547,  16.15648252,\n",
       "         16.36134956,  16.56621661,  16.77108366,  16.97595071,\n",
       "         17.18081776,  17.3856848 ,  17.59055185,  17.7954189 ,\n",
       "         18.00028595,  18.20515299,  18.41002004,  18.61488709,  18.81975414]),\n",
       " <a list of 60 Patch objects>)"
      ]
     },
     "execution_count": 11,
     "metadata": {},
     "output_type": "execute_result"
    },
    {
     "data": {
      "image/png": "[encoded data removed]",
      "text/plain": [
       "<matplotlib.figure.Figure at 0x7f823ffa2c50>"
      ]
     },
     "metadata": {
      "needs_background": "light"
     },
     "output_type": "display_data"
    }
   ],
   "source": [
    "       \n",
    "yi_a = []\n",
    "ya_a = []\n",
    "yi_b = []\n",
    "\n",
    "for x in xn_a:\n",
    "    mset.fparams_set_array (x)\n",
    "    fdata.prepare (mset)\n",
    "    yi_a.append (interp.eval_m2lnp (Ncm.Vector.new_array (x)))\n",
    "    ya_a.append (fdata.m2lnL_val (mset))\n",
    "\n",
    "yi_a = np.array (yi_a)\n",
    "ya_a = np.array (ya_a)\n",
    "\n",
    "m = -np.mean (yi_a - ya_a)\n",
    "diff = (yi_a + m) / ya_a - 1.0\n",
    "\n",
    "probs = np.minimum(np.exp (-0.5*((yi_a[0::2]-ya_a[0::2])-(yi_a[1::2]-ya_a[1::2]))), 1.0)\n",
    "bfact = np.abs(np.exp (-0.5*((yi_a[0::2]-ya_a[0::2])-(yi_a[1::2]-ya_a[1::2])))-1.0)\n",
    "\n",
    "mean_err = 10**(np.mean (np.log10 (np.abs (diff))))\n",
    "\n",
    "print (\"mean error  %.2e\" % (mean_err))\n",
    "print (\"Prob accept %.1f%%\" % (100.0 * np.mean (probs)))\n",
    "\n",
    "plt.figure (figsize=(14, 7))\n",
    "\n",
    "plt.hist (probs, label='prob', bins = 60, density=True)\n",
    "plt.grid ()\n",
    "plt.legend(loc='best')\n",
    "plt.show ()\n",
    "\n",
    "plt.figure (figsize=(14, 7))\n",
    "\n",
    "plt.hist (np.log10 (np.abs (diff)), bins = 60, label=r'$|y_i/y_a - 1|$')\n",
    "plt.grid ()\n",
    "plt.legend(loc='best')\n",
    "plt.show ()\n",
    "\n",
    "plt.figure (figsize=(14, 7))\n",
    "plt.hist ((yi_a - ya_a), label='diff', bins = 60, density=True)"
   ]
  },
  {
   "cell_type": "code",
   "execution_count": null,
   "metadata": {},
   "outputs": [],
   "source": []
  }
 ],
 "metadata": {
  "kernelspec": {
   "display_name": "Python 3",
   "language": "python",
   "name": "python3"
  },
  "language_info": {
   "codemirror_mode": {
    "name": "ipython",
    "version": 3
   },
   "file_extension": ".py",
   "mimetype": "text/x-python",
   "name": "python",
   "nbconvert_exporter": "python",
   "pygments_lexer": "ipython3",
   "version": "3.6.9"
  }
 },
 "nbformat": 4,
 "nbformat_minor": 2
}
