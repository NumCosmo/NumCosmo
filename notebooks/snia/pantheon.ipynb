{
 "cells": [
  {
   "cell_type": "code",
   "execution_count": null,
   "id": "regulated-ballet",
   "metadata": {},
   "outputs": [],
   "source": [
    "# For NumCosmo\n",
    "import os\n",
    "import sys\n",
    "import gi\n",
    "\n",
    "gi.require_version('NumCosmo', '1.0')\n",
    "gi.require_version('NumCosmoMath', '1.0')\n",
    "from gi.repository import GObject\n",
    "from gi.repository import NumCosmo as Nc\n",
    "from gi.repository import NumCosmoMath as Ncm\n",
    "\n",
    "from scipy.stats import chi2\n",
    "\n",
    "%matplotlib inline\n",
    "\n",
    "import numpy as np\n",
    "import matplotlib.pyplot as plt\n",
    "from matplotlib.animation import FuncAnimation\n",
    "from IPython.display import HTML\n",
    "\n",
    "import numpy as np\n",
    "import math\n",
    "# The corner package is needed to view the results of the MCMC analysis\n",
    "import corner\n",
    "\n"
   ]
  },
  {
   "cell_type": "code",
   "execution_count": null,
   "id": "comparative-matthew",
   "metadata": {},
   "outputs": [],
   "source": [
    "__name__ = \"NcContext\"\n",
    "\n",
    "Ncm.cfg_init ()\n",
    "Ncm.cfg_set_log_handler (lambda msg: sys.stdout.write (msg) and sys.stdout.flush ())"
   ]
  },
  {
   "cell_type": "code",
   "execution_count": null,
   "id": "charged-therapy",
   "metadata": {},
   "outputs": [],
   "source": [
    "nwalkers = 200\n",
    "burnin   = 70\n",
    "thin     = 1\n",
    "\n",
    "mcat  = Ncm.MSetCatalog.new_from_file_ro (\"../Optimized/tools/test_pantheon_bao_aps_200.fits\",   nwalkers * burnin)\n",
    "mcat2 = Ncm.MSetCatalog.new_from_file_ro (\"../Optimized/tools/test_pantheon_bao_stretch_200.fits\",   nwalkers * burnin)"
   ]
  },
  {
   "cell_type": "code",
   "execution_count": null,
   "id": "understanding-saturn",
   "metadata": {},
   "outputs": [],
   "source": [
    "s1d1 = chi2.cdf (1.0, df = 1)\n",
    "s1d2 = chi2.cdf (4.0, df = 1)\n",
    "s2d1 = chi2.cdf (1.0, df = 1)\n",
    "s2d2 = chi2.cdf (4.0, df = 1)\n",
    "s2d3 = chi2.cdf (9.0, df = 1)\n",
    "qts = [0.5 - s1d2 / 2.0, 0.5 - s1d1 / 2.0, 0.5, 0.5 + s1d1 / 2.0, 0.5 + s1d2 / 2.0]"
   ]
  },
  {
   "cell_type": "code",
   "execution_count": null,
   "id": "proof-member",
   "metadata": {},
   "outputs": [],
   "source": [
    "rows = np.array ([mcat.peek_row (i*nwalkers + j).dup_array () for j in range (nwalkers) for i in range (0, int (mcat.len ()/nwalkers), thin)])\n",
    "params = [\"$\" + mcat.col_symb (i) + \"$\" for i in range (mcat.ncols ())]\n",
    "figure = corner.corner (rows[:,1:], labels = params[1:], reverse = False,\n",
    "                        quantiles=qts, levels = (s2d1, s2d2, s2d3), \n",
    "                        bins = 60, smooth = 0.8, smooth1d = 0.8, color = \"red\")\n",
    "\n",
    "rows2 = np.array ([mcat2.peek_row (i*nwalkers + j).dup_array () for j in range (nwalkers) for i in range (0, int (mcat2.len ()/nwalkers), thin)])\n",
    "params = [\"$\" + mcat2.col_symb (i) + \"$\" for i in range (mcat2.ncols ())]\n",
    "figure = corner.corner (rows2[:,1:], labels = params[1:], reverse = False,\n",
    "                        levels = (s2d1, s2d2, s2d3), color = \"blue\",\n",
    "                        bins = 60, smooth = 0.8, smooth1d = 0.8, fig = figure)\n",
    "\n",
    "figure.set_size_inches(16, 10)\n"
   ]
  },
  {
   "cell_type": "code",
   "execution_count": null,
   "id": "caroline-circulation",
   "metadata": {},
   "outputs": [],
   "source": [
    "fig, ax = plt.subplots(figsize=(14, 8))\n",
    "#ax.set(xlim=(-10, 14), ylim=(-10, 150))\n",
    "\n",
    "x_index = 1\n",
    "y_index = 3\n",
    "\n",
    "scat = ax.scatter(rows[0:nwalkers,x_index], rows[0:nwalkers,y_index], s = 4, c = \"red\")\n",
    "scat2 = ax.scatter(rows2[0:nwalkers,x_index], rows[0:nwalkers,y_index], s = 4, c = \"blue\")\n",
    "\n",
    "nframes = 600\n",
    "b = np.unique (np.floor (np.linspace (0, rows.shape[0]/nwalkers, nframes)).astype(int))\n",
    "nframes = len (b)\n",
    "\n",
    "def animate(i):    \n",
    "    x_i = rows[nwalkers * b[i] : nwalkers * b[i + 1], x_index]\n",
    "    y_i = rows[nwalkers * b[i] : nwalkers * b[i + 1], y_index]\n",
    "    x2_i = rows2[nwalkers * b[i] : nwalkers * b[i + 1], x_index]\n",
    "    y2_i = rows2[nwalkers * b[i] : nwalkers * b[i + 1], y_index]\n",
    "    scat.set_offsets(np.c_[x_i, y_i])\n",
    "    scat2.set_offsets(np.c_[x2_i, y2_i])\n",
    "\n",
    "anim = FuncAnimation (fig, animate, interval=50, frames=nframes-1)"
   ]
  },
  {
   "cell_type": "code",
   "execution_count": null,
   "id": "bfa1bb43",
   "metadata": {},
   "outputs": [],
   "source": [
    "#HTML (anim.to_html5_video ())"
   ]
  },
  {
   "cell_type": "code",
   "execution_count": null,
   "id": "popular-produce",
   "metadata": {},
   "outputs": [],
   "source": [
    "n = min (int(rows.shape[0]/nwalkers), int(rows2.shape[0]/nwalkers))\n",
    "sv = Ncm.StatsVec.new (1, Ncm.StatsVecType.VAR, False)\n",
    "\n",
    "from scipy.signal import savgol_filter\n",
    "import scipy.fftpack\n",
    "\n",
    "def running_mean(x, N):\n",
    "    cumsum = np.cumsum (np.insert(x, 0, 0)) \n",
    "    return (cumsum[N:] - cumsum[:-N]) / float(N)\n",
    "\n",
    "for col in range (0, mcat.ncols ()):\n",
    "    \n",
    "    sv.reset (True)\n",
    "    tevar = []\n",
    "    for i in range (n-1):\n",
    "        for w in range (nwalkers):\n",
    "            sv.set (0, rows[i*nwalkers + w, col])\n",
    "            sv.update_weight (1.0)\n",
    "        tevar.append (sv.get_mean (0))\n",
    "        sv.reset (True)\n",
    "\n",
    "    sv.reset (True)\n",
    "    \n",
    "    tevar2 = []\n",
    "    for i in range (n-1):\n",
    "        for w in range (nwalkers):\n",
    "            sv.set (0, rows2[i*nwalkers + w, col])\n",
    "            sv.update_weight (1.0)\n",
    "        tevar2.append (sv.get_mean (0))\n",
    "        sv.reset (True)\n",
    "\n",
    "    nrm = 101\n",
    "    por = 3\n",
    "    plt.figure (dpi = 160)\n",
    "    ftevar  = savgol_filter (tevar,  nrm, por)\n",
    "    ftevar2 = savgol_filter (tevar2, nrm, por)\n",
    "    \n",
    "    plt.plot (ftevar,  c = 'red',  lw = 0.5)\n",
    "    plt.plot (ftevar2, c = 'blue', lw = 0.5)\n",
    "    plt.axhline (y = np.mean (tevar), color='r', linestyle='-', lw = 0.3)\n",
    "    plt.axhline (y = np.mean (tevar2), color='b', linestyle='-', lw = 0.3)\n",
    "    #plt.grid ()\n",
    "    plt.show ()\n",
    "#plt.ylim (3.8, 4.2)"
   ]
  }
 ],
 "metadata": {
  "kernelspec": {
   "display_name": "Python 3",
   "language": "python",
   "name": "python3"
  },
  "language_info": {
   "codemirror_mode": {
    "name": "ipython",
    "version": 3
   },
   "file_extension": ".py",
   "mimetype": "text/x-python",
   "name": "python",
   "nbconvert_exporter": "python",
   "pygments_lexer": "ipython3"
  }
 },
 "nbformat": 4,
 "nbformat_minor": 5
}
