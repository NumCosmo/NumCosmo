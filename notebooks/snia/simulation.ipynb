{
 "cells": [
  {
   "cell_type": "markdown",
   "metadata": {},
   "source": [
    "---\n",
    "**License**\n",
    "\n",
    " SNIaSimul\n",
    "\n",
    " Mon Jun 01 09:20:00 2020\\\n",
    " Copyright  2020\\\n",
    " Sandro Dias Pinto Vitenti <vitenti@uel.br>\n",
    "\n",
    "---\n",
    "---\n",
    "\n",
    " SNIaSimul\\\n",
    " Copyright (C) 2020 Sandro Dias Pinto Vitenti <vitenti@uel.br>\n",
    "\n",
    " numcosmo is free software: you can redistribute it and/or modify it\n",
    " under the terms of the GNU General Public License as published by the\n",
    " Free Software Foundation, either version 3 of the License, or\n",
    " (at your option) any later version.\n",
    "\n",
    " numcosmo is distributed in the hope that it will be useful, but\n",
    " WITHOUT ANY WARRANTY; without even the implied warranty of\n",
    " MERCHANTABILITY or FITNESS FOR A PARTICULAR PURPOSE.\n",
    " See the GNU General Public License for more details.\n",
    "\n",
    " You should have received a copy of the GNU General Public License along\n",
    " with this program.  If not, see <http://www.gnu.org/licenses/>.\n",
    " \n",
    "---"
   ]
  },
  {
   "cell_type": "code",
   "execution_count": null,
   "metadata": {},
   "outputs": [],
   "source": [
    "try:\n",
    "  import gi\n",
    "  gi.require_version('NumCosmo', '1.0')\n",
    "  gi.require_version('NumCosmoMath', '1.0')\n",
    "except:\n",
    "  pass\n",
    "\n",
    "import math\n",
    "import matplotlib\n",
    "import matplotlib.pyplot as plt\n",
    "import numpy as np\n",
    "import sys\n",
    "from gi.repository import NumCosmo as Nc\n",
    "from gi.repository import NumCosmoMath as Ncm\n",
    "from chainconsumer import ChainConsumer\n",
    "\n"
   ]
  },
  {
   "cell_type": "code",
   "execution_count": null,
   "metadata": {},
   "outputs": [],
   "source": [
    "__name__ = \"NcContext\"\n",
    "\n",
    "Ncm.cfg_init ()\n",
    "Ncm.cfg_set_log_handler (lambda msg: sys.stdout.write (msg) and sys.stdout.flush ())\n",
    "\n",
    "cosmo = Nc.HICosmo.new_from_name (Nc.HICosmo, \"NcHICosmoDEXcdm\")\n",
    "\n",
    "PF, Tgamma0_i = cosmo.param_index_from_name (\"Tgamma0\")\n",
    "cosmo.param_set_lower_bound (Tgamma0_i, 0.0)\n",
    "\n",
    "cosmo.props.H0      = 72.0\n",
    "cosmo.props.Omegab  = 0.05\n",
    "cosmo.props.Omegac  = 0.25\n",
    "cosmo.props.Omegax  = 0.70\n",
    "cosmo.props.Tgamma0 = 0.0\n",
    "cosmo.props.w       = -1.0\n",
    "\n",
    "cosmo.props.H0_fit     = True\n",
    "cosmo.props.Omegac_fit = True\n",
    "cosmo.props.Omegax_fit = True\n"
   ]
  },
  {
   "cell_type": "code",
   "execution_count": null,
   "metadata": {},
   "outputs": [],
   "source": [
    "mset = Ncm.MSet ()\n",
    "mset.set (cosmo)\n"
   ]
  },
  {
   "cell_type": "code",
   "execution_count": null,
   "metadata": {},
   "outputs": [],
   "source": [
    "dist = Nc.Distance (zf = 2.5)\n",
    "\n",
    "data = np.loadtxt ('DAT.txt')\n",
    "snia_data = Nc.DataDistMu.new_empty (dist)\n",
    "snia_data.set_size (len (data[:,0]))\n",
    "\n",
    "offset = 19.3\n",
    "data[:,1] = data[:,1] + offset\n",
    "\n",
    "snia_data.x.set_data (data[:,0])\n",
    "snia_data.y.set_data (data[:,1])\n",
    "snia_data.sigma.set_all (0.4)\n",
    "snia_data.props.w_mean = False\n",
    "\n",
    "snia_data.set_init (True)\n",
    "\n",
    "dset = Ncm.Dataset ()\n",
    "dset.append_data (snia_data)\n",
    "\n",
    "#snia_data.x.log_vals (\"z: \", \"% 22.15g\", True)\n",
    "#snia_data.y.log_vals (\"y: \", \"% 22.15g\", True)\n",
    "#snia_data.sigma.log_vals (\"z: \", \"% 22.15g\", True)\n",
    "\n"
   ]
  },
  {
   "cell_type": "code",
   "execution_count": null,
   "metadata": {},
   "outputs": [],
   "source": [
    "lh = Ncm.Likelihood (dataset = dset)\n",
    "fit = Ncm.Fit.new (Ncm.FitType.NLOPT, \"ln-neldermead\", lh, mset, Ncm.FitGradType.NUMDIFF_FORWARD)\n",
    "fit.run (Ncm.FitRunMsgs.SIMPLE)\n",
    "#fit.run_restart (Ncm.FitRunMsgs.SIMPLE, 1.0e-4, 0.0, None, None)\n",
    "fit.log_info ()\n"
   ]
  },
  {
   "cell_type": "code",
   "execution_count": null,
   "metadata": {},
   "outputs": [],
   "source": [
    "\n",
    "plt.figure (figsize=(14, 7))\n",
    "z_a = np.linspace (0.0, max (data[:,0]))\n",
    "plt.plot (z_a, [dist.dmodulus (cosmo, z) + 5.0 * math.log10 (cosmo.RH_Mpc ()) for z in z_a])\n",
    "plt.errorbar (data[:,0], data[:,1], yerr = [0.4] * len (data[:,1]), fmt= 'o')\n",
    "\n",
    "\n"
   ]
  },
  {
   "cell_type": "code",
   "execution_count": null,
   "metadata": {},
   "outputs": [],
   "source": [
    "init_sampler = Ncm.MSetTransKernGauss.new (0)\n",
    "init_sampler.set_mset (mset)\n",
    "init_sampler.set_prior_from_mset ()\n",
    "init_sampler.set_cov_from_rescale (1.0e-3)\n",
    "\n",
    "nwalkers = 50\n",
    "stretch = Ncm.FitESMCMCWalkerStretch.new (nwalkers, mset.fparams_len ())\n",
    "\n",
    "#stretch.set_scale (2.0)\n",
    "stretch.set_box_mset (mset)\n",
    "\n",
    "esmcmc  = Ncm.FitESMCMC.new (fit, nwalkers, init_sampler, stretch, Ncm.FitRunMsgs.SIMPLE)\n",
    "\n",
    "esmcmc.set_auto_trim (True)\n",
    "esmcmc.set_auto_trim_div (100)\n",
    "esmcmc.set_max_runs_time (2.0 * 60.0)\n",
    "#esmcmc.set_data_file (\"SNiaSimul.fits\")"
   ]
  },
  {
   "cell_type": "code",
   "execution_count": null,
   "metadata": {},
   "outputs": [],
   "source": [
    "esmcmc.start_run ()\n",
    "esmcmc.run_lre (501, 1.0e-2)\n",
    "esmcmc.end_run ()\n",
    "\n",
    "#esmcmc.peek_catalog ().trim_p (0.4)\n",
    "\n",
    "esmcmc.mean_covar ()\n",
    "fit.log_covar ()\n"
   ]
  },
  {
   "cell_type": "code",
   "execution_count": null,
   "metadata": {},
   "outputs": [],
   "source": [
    "c = ChainConsumer ()\n",
    "\n",
    "mcat = esmcmc.peek_catalog ()\n",
    "nchains = mcat.nchains ()\n",
    "\n",
    "rows   = np.array ([mcat.peek_row (i).dup_array () for i in range (mcat.len ())])\n",
    "params = [\"$\" + mcat.col_symb (i) + \"$\" for i in range (mcat.ncols ())]\n",
    "  \n",
    "c.add_chain (rows[:,1:], walkers = nchains, parameters = params[1:], posterior = -rows[:,0]/2, name = \"Test\")\n",
    "myparams = len (params[1:])\n"
   ]
  },
  {
   "cell_type": "code",
   "execution_count": null,
   "metadata": {},
   "outputs": [],
   "source": [
    "fig = c.plotter.plot_walks (parameters = myparams, convolve = 100)\n"
   ]
  },
  {
   "cell_type": "code",
   "execution_count": null,
   "metadata": {},
   "outputs": [],
   "source": [
    "fig = c.plotter.plot_distributions (parameters = myparams, figsize = 2.0)"
   ]
  },
  {
   "cell_type": "code",
   "execution_count": null,
   "metadata": {},
   "outputs": [],
   "source": [
    "fig = c.plotter.plot (parameters = myparams, figsize = 3.0)"
   ]
  }
 ],
 "metadata": {
  "kernelspec": {
   "display_name": "Python 3",
   "language": "python",
   "name": "python3"
  },
  "language_info": {
   "codemirror_mode": {
    "name": "ipython",
    "version": 3
   },
   "file_extension": ".py",
   "mimetype": "text/x-python",
   "name": "python",
   "nbconvert_exporter": "python",
   "pygments_lexer": "ipython3"
  }
 },
 "nbformat": 4,
 "nbformat_minor": 2
}
