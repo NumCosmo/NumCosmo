{
 "cells": [
  {
   "cell_type": "markdown",
   "metadata": {},
   "source": [
    "---\n",
    "**License**\n",
    "\n",
    " NumCosmoCCLTest\n",
    "\n",
    " Mon Jun 01 09:20:00 2020\\\n",
    " Copyright  2020\\\n",
    " Sandro Dias Pinto Vitenti <vitenti@uel.br>\n",
    "\n",
    "---\n",
    "---\n",
    "\n",
    " NumCosmoCCLTest\\\n",
    " Copyright (C) 2020 Sandro Dias Pinto Vitenti <vitenti@uel.br>\n",
    "\n",
    " numcosmo is free software: you can redistribute it and/or modify it\n",
    " under the terms of the GNU General Public License as published by the\n",
    " Free Software Foundation, either version 3 of the License, or\n",
    " (at your option) any later version.\n",
    "\n",
    " numcosmo is distributed in the hope that it will be useful, but\n",
    " WITHOUT ANY WARRANTY; without even the implied warranty of\n",
    " MERCHANTABILITY or FITNESS FOR A PARTICULAR PURPOSE.\n",
    " See the GNU General Public License for more details.\n",
    "\n",
    " You should have received a copy of the GNU General Public License along\n",
    " with this program.  If not, see <http://www.gnu.org/licenses/>.\n",
    " \n",
    "---"
   ]
  },
  {
   "cell_type": "markdown",
   "metadata": {},
   "source": [
    "# The distance comoving\n",
    "\n",
    "This notebook calculates the comoving distances using the Numcosmo and CCL libraries, and then it compares the results between themselves, plotting the compare and the relative distance of their results in graphics.\n",
    "\n",
    "\n",
    "### Loading NumCosmo and CCL\n",
    "\n",
    "The first step is to load both NumCosmo and CCL libraries. We also load some Python packages."
   ]
  },
  {
   "cell_type": "code",
   "execution_count": null,
   "metadata": {},
   "outputs": [],
   "source": [
    "try:\n",
    "  import gi\n",
    "  gi.require_version('NumCosmo', '1.0')\n",
    "  gi.require_version('NumCosmoMath', '1.0')\n",
    "except:\n",
    "  pass\n",
    "\n",
    "from gi.repository import GObject\n",
    "from gi.repository import NumCosmo as Nc\n",
    "from gi.repository import NumCosmoMath as Ncm\n",
    "\n",
    "import pyccl as ccl\n",
    "\n",
    "import sys\n",
    "import numpy as np\n",
    "import math\n",
    "import matplotlib.pyplot as plt\n"
   ]
  },
  {
   "cell_type": "markdown",
   "metadata": {},
   "source": [
    "### Initializing the NumCosmo library:"
   ]
  },
  {
   "cell_type": "code",
   "execution_count": null,
   "metadata": {},
   "outputs": [],
   "source": [
    "Ncm.cfg_init ()\n",
    "Ncm.cfg_set_log_handler (lambda msg: sys.stdout.write (msg) and sys.stdout.flush ())"
   ]
  },
  {
   "cell_type": "markdown",
   "metadata": {},
   "source": [
    "### The function of building comparison graphics:\n",
    "Assembles two comparison graphs, where the graph above presents the result curves of both libraries, while the graph below presents the difference relative distance curve between the results found using the same values in the abscissas axis.                                                                                               "
   ]
  },
  {
   "cell_type": "code",
   "execution_count": null,
   "metadata": {},
   "outputs": [],
   "source": [
    "import pylab as plt\n",
    "def compare(x, y_ccl, y_nc, x_name='x', y_name='func', subplots_pars={'figsize':(12, 6)}, xscale = 'linear', yscale = 'log'):\n",
    "    ccl_name, nc_name = '%s_{clmm}'%y_name, '%s_{nc}'%y_name\n",
    "    \n",
    "    x     = np.array (x)\n",
    "    y_ccl = np.array (y_ccl)\n",
    "    y_nc  = np.array (y_nc)\n",
    "    diff  = np.zeros_like (y_ccl)\n",
    "    \n",
    "    non_zind = np.where (y_ccl != 0.0)[0]\n",
    "    zind     = np.where (y_ccl == 0.0)[0]\n",
    "    diff[non_zind] = y_nc[non_zind]/y_ccl[non_zind] - 1.0\n",
    "    diff[zind]     = y_nc[zind] - y_ccl[zind]\n",
    "    print('[%10s]: rel diff min: %e\\trel diff max: %e'%(y_name, min(abs(diff)), max(abs(diff))))\n",
    "        \n",
    "    fig, axs = plt.subplots(2, sharex=True, **subplots_pars)\n",
    "    fig.subplots_adjust(hspace=0)\n",
    "    \n",
    "    axs[0].plot(x, y_ccl, label='ccl', lw=3)\n",
    "    axs[0].plot(x, y_nc, label='nc')\n",
    "    axs[1].plot(x, np.abs (diff), c='r')\n",
    "    #axs[1].axhline(0, ls=':', c='0', lw=.5)\n",
    "    axs[1].set_xscale (xscale)\n",
    "    axs[1].set_yscale (yscale)\n",
    "\n",
    "    axs[0].legend()\n",
    "    axs[0].set_ylabel('$%s$'%y_name)\n",
    "    axs[1].set_xlabel('$%s$'%x_name)\n",
    "    axs[1].set_ylabel('$%s/%s-1$'%(nc_name, ccl_name))\n",
    "    \n",
    "    return fig, axs"
   ]
  },
  {
   "cell_type": "markdown",
   "metadata": {},
   "source": [
    "### The fixed cosmological parameters using the cosmology object:\n",
    "\n",
    "* The cold dark matter density fraction $\\Omega_c$ ;\n",
    "* The baryonic matter density fraction $\\Omega_b$ ;\n",
    "* The curvature density fraction $\\Omega_k$;\n",
    "* The hubble constant divided by 100 km/s/Mpc and unitless $h$ ;\n",
    "* The effective number of massless neutrinos present $N_{\\nu}$ ;\n",
    "* The primordial scalar perturbation spectral index $n_s$ ;\n",
    "* The power spectrum normalization $A_s$ ;"
   ]
  },
  {
   "cell_type": "code",
   "execution_count": null,
   "metadata": {},
   "outputs": [],
   "source": [
    "Omega_c = 0.25   # The cold dark matter density fraction.\n",
    "\n",
    "Omega_b = 0.05   # The baryonic matter density fraction.\n",
    "\n",
    "Omega_k = 0.0    # The curvature density fraction.\n",
    "        \n",
    "h       = 0.7    # The hubble constant divided by 100 km/s/Mpc; unitless.\n",
    "\n",
    "A_s     = 2.1e-9 # The power spectrum normalization.\n",
    "\n",
    "n_s     = 0.96   # The primordial scalar perturbation spectral index.\n",
    "\n",
    "Neff    = 0.0    # The effective number of massless neutrinos present."
   ]
  },
  {
   "cell_type": "markdown",
   "metadata": {},
   "source": [
    "### The arbitrary cosmological parameters using the cosmology object:\n",
    "\n",
    "* The dark energy fraction $\\Omega_{\\Lambda}$ ; \n",
    "* The first order term of dark energy equation of state $w_0$.\n",
    "* The second order term of dark energy equation of state $w_a$ . "
   ]
  },
  {
   "cell_type": "code",
   "execution_count": null,
   "metadata": {},
   "outputs": [],
   "source": [
    "Omega_v_vals = np.array([0.7, 0.7, 0.7, 0.65, 0.75])    # The values of Omega_Lamda.\n",
    "\n",
    "w0_vals      = np.array([-1.0, -0.9, -0.9, -0.9, -0.9]) # The first order term of dark energy equation of state.\n",
    "\n",
    "wa_vals      = np.array([0.0, 0.0, 0.1, 0.1, 0.1])      # The second order term of dark energy equation of state."
   ]
  },
  {
   "cell_type": "code",
   "execution_count": null,
   "metadata": {},
   "outputs": [],
   "source": [
    "#  Neff_mnu = 3.0<-- Doesn't seem to be used\n",
    "#  mu_0    = 0.1 <-- Doesn't seem to be used\n",
    "#  sigma_0 = 0.1 <-- Doesn't seem to be used\n",
    "\n",
    "#mnu = [  [0.04, 0., 0.], <-- Doesn't seem to be used\n",
    "#         [0.05, 0.01, 0.],\n",
    "#         [0.05, 0., 0.],\n",
    "#         [0.03, 0.02, 0.]]"
   ]
  },
  {
   "cell_type": "markdown",
   "metadata": {},
   "source": [
    "### The compare distances function\n",
    "The Function below calculates three types of comparisons and runs the compare function to build the graphs related to each calculation by varying the arbitrary cosmological parameters described above and comparing the calculation of\n",
    "\n",
    "1. The baryonic matter density fraction at a redshift different than z=0.\n",
    "\n",
    "2. The ratio of Hubble constant at the scale factor over Hubble constant today.\n",
    "\n",
    "3. The calculation of the comoving radial distance."
   ]
  },
  {
   "cell_type": "code",
   "execution_count": null,
   "metadata": {},
   "outputs": [],
   "source": [
    "def compare_distances(z, Omega_v, w0, wa):\n",
    "    \"\"\"\n",
    "    Compare distances calculated by pyccl with the distances in the benchmark\n",
    "    file.\n",
    "    This test is only valid when radiation is explicitly set to 0.\n",
    "    \"\"\"\n",
    "    # Set Omega_K in a consistent way\n",
    "    Omega_k = 1.0 - Omega_c - Omega_b - Omega_v\n",
    "\n",
    "    ccl_cosmo = ccl.Cosmology(\n",
    "        Omega_c=Omega_c, Omega_b=Omega_b, Neff=Neff,\n",
    "        h=h, A_s=A_s, n_s=n_s, Omega_k=Omega_k,\n",
    "        w0=w0, wa=wa, Omega_g=0)\n",
    "    \n",
    "    ccl_cosmo.cosmo.gsl_params.INTEGRATION_EPSREL = 1.0e-13 # Doesn't seem to work\n",
    "    ccl_cosmo.cosmo.gsl_params.A_SPLINE_NLOG      = 100000  # Doesn't seem to work\n",
    "    ccl_cosmo.cosmo.gsl_params.A_SPLINE_NA        = 100000  # Doesn't seem to work\n",
    "        \n",
    "    cosmo = Nc.HICosmo.new_from_name (Nc.HICosmo, \"NcHICosmoDECpl{'massnu-length':<0>}\")\n",
    "    cosmo.omega_x2omega_k ()\n",
    "    cosmo.param_set_by_name (\"H0\",        h*100)\n",
    "    cosmo.param_set_by_name (\"Omegak\",    Omega_k)\n",
    "    cosmo.param_set_by_name (\"w0\",        w0)\n",
    "    cosmo.param_set_by_name (\"w1\",        wa)\n",
    "    cosmo.param_set_by_name (\"Omegab\",    Omega_b)\n",
    "    cosmo.param_set_by_name (\"Omegac\",    Omega_c)\n",
    "    cosmo.param_set_by_name (\"ENnu\",      Neff)\n",
    "    cosmo.param_set_by_name (\"Tgamma0\",   0.0)\n",
    "    \n",
    "    hiprim = Nc.HIPrimPowerLaw.new ()\n",
    "    hiprim.param_set_by_name (\"ln10e10ASA\", math.log (1.0e10 * A_s))\n",
    "    hiprim.param_set_by_name (\"n_SA\",       n_s)\n",
    "    \n",
    "    cosmo.add_submodel (hiprim)\n",
    "    \n",
    "    dist = Nc.Distance.new (5.0)\n",
    "    dist.prepare (cosmo)\n",
    "    \n",
    "    print (dist.comoving_distance_spline.props.reltol)\n",
    "    print (dist.comoving_distance_spline.props.abstol)\n",
    "    print (dist.comoving_distance_spline.peek_spline().get_len())\n",
    "    \n",
    "    a = 1. / (1. + z)    \n",
    "\n",
    "    ccl_Og = ccl.omega_x (ccl_cosmo, a, 'matter')\n",
    "    nc_Og  = [cosmo.E2Omega_m (z_i) / cosmo.E2 (z_i) for z_i in z]\n",
    "    \n",
    "    compare (z, ccl_Og, nc_Og, x_name = 'z', y_name = '\\Omega_m{}')\n",
    "    \n",
    "    ccl_E = ccl.h_over_h0 (ccl_cosmo, a)\n",
    "    nc_E  = [cosmo.E (z_i) for z_i in z]\n",
    "    \n",
    "    compare (z, ccl_E, nc_E, x_name = 'z', y_name = 'E')\n",
    "    \n",
    "    ccl_chi = ccl.comoving_radial_distance(ccl_cosmo, a)\n",
    "    RH_Mpc  = cosmo.RH_Mpc ()\n",
    "    nc_chi  = [dist.comoving (cosmo, z_i) * RH_Mpc for z_i in z]\n",
    "    \n",
    "    compare (z, ccl_chi, nc_chi, x_name = 'z', y_name = 'D')"
   ]
  },
  {
   "cell_type": "code",
   "execution_count": null,
   "metadata": {},
   "outputs": [],
   "source": [
    "z = np.linspace (0.0, 5.0, 10000) #Using 10000 redshift values between 0 and 5 with even spacing between values to compare."
   ]
  },
  {
   "cell_type": "code",
   "execution_count": null,
   "metadata": {},
   "outputs": [],
   "source": [
    "compare_distances(z, Omega_v_vals[0], w0_vals[0], wa_vals[0])  #Omega_v = 0.7 , w0 = -1.0 , wa = 0.0"
   ]
  },
  {
   "cell_type": "code",
   "execution_count": null,
   "metadata": {},
   "outputs": [],
   "source": [
    "compare_distances(z, Omega_v_vals[1], w0_vals[1], wa_vals[1])  #Omega_v = 0.7 , w0 = -0.9 , wa = 0.0"
   ]
  },
  {
   "cell_type": "code",
   "execution_count": null,
   "metadata": {},
   "outputs": [],
   "source": [
    "compare_distances(z, Omega_v_vals[2], w0_vals[2], wa_vals[2])  #Omega_v = 0.7 , w0 = -0.9 , wa = 0.1"
   ]
  },
  {
   "cell_type": "code",
   "execution_count": null,
   "metadata": {},
   "outputs": [],
   "source": [
    "compare_distances(z, Omega_v_vals[3], w0_vals[3], wa_vals[3])  #Omega_v = 0.65 , w0 = -0.9 , wa = 0.1"
   ]
  },
  {
   "cell_type": "code",
   "execution_count": null,
   "metadata": {},
   "outputs": [],
   "source": [
    "compare_distances(z, Omega_v_vals[4], w0_vals[4], wa_vals[4])  #Omega_v = 0.75 , w0 = -0.9 , wa = 0.1"
   ]
  }
 ],
 "metadata": {
  "kernelspec": {
   "display_name": "Python 3",
   "language": "python",
   "name": "python3"
  },
  "language_info": {
   "codemirror_mode": {
    "name": "ipython",
    "version": 3
   },
   "file_extension": ".py",
   "mimetype": "text/x-python",
   "name": "python",
   "nbconvert_exporter": "python",
   "pygments_lexer": "ipython3",
   "version": "3.8.10"
  }
 },
 "nbformat": 4,
 "nbformat_minor": 2
}
